{
 "cells": [
  {
   "cell_type": "code",
   "execution_count": 1,
   "metadata": {},
   "outputs": [],
   "source": [
    "def myfunc():\n",
    "    \n",
    "    # loop to keep prompting for the valid input\n",
    "    while True:\n",
    "\n",
    "        number = input('Enter a number: ')\n",
    "        num = number.replace('.','') # replace '.' with empty string\n",
    "        \n",
    "        # handle Negative number\n",
    "        if num.startswith('-')==True:\n",
    "            temp = num[1:]\n",
    "            if temp.isnumeric()==True:\n",
    "                break\n",
    "                \n",
    "        # Handle positive and invalid inputs and input containing commas.\n",
    "        \n",
    "        if num.isnumeric()==True:\n",
    "            break\n",
    "        elif ',' in num:\n",
    "            temp = num.replace(',','')\n",
    "            if temp.isnumeric()==True:\n",
    "                print('Please try again without entering commas')\n",
    "        else:\n",
    "            print(num,'is not a valid number.Please try again')\n",
    "\n",
    "    # dictionary for number to words\n",
    "    num_to_words = {'0':'Zero', \n",
    "                    '1':'One',\n",
    "                    '2':'Two',\n",
    "                    '3':'Three',\n",
    "                    '4':'Four',\n",
    "                    '5':'Five',\n",
    "                    '6':'Six',\n",
    "                    '7':'Seven',\n",
    "                    '8':'Eight',\n",
    "                    '9':'Nine',\n",
    "                    '.': 'Point',\n",
    "                    '-': 'Nagative'}\n",
    "\n",
    "    # print the number in word form.\n",
    "    for i in number:\n",
    "        print(num_to_words[i],end=' ')"
   ]
  },
  {
   "cell_type": "code",
   "execution_count": 2,
   "metadata": {},
   "outputs": [
    {
     "name": "stdout",
     "output_type": "stream",
     "text": [
      "Enter a number: 123\n",
      "One Two Three "
     ]
    }
   ],
   "source": [
    "myfunc()"
   ]
  },
  {
   "cell_type": "code",
   "execution_count": 3,
   "metadata": {},
   "outputs": [
    {
     "name": "stdout",
     "output_type": "stream",
     "text": [
      "Enter a number: -123\n",
      "Nagative One Two Three "
     ]
    }
   ],
   "source": [
    "myfunc()"
   ]
  },
  {
   "cell_type": "code",
   "execution_count": 4,
   "metadata": {},
   "outputs": [
    {
     "name": "stdout",
     "output_type": "stream",
     "text": [
      "Enter a number: 1234.76\n",
      "One Two Three Four Point Seven Six "
     ]
    }
   ],
   "source": [
    "myfunc()"
   ]
  },
  {
   "cell_type": "code",
   "execution_count": 5,
   "metadata": {},
   "outputs": [
    {
     "name": "stdout",
     "output_type": "stream",
     "text": [
      "Enter a number: -\n",
      "- is not a valid number.Please try again\n",
      "Enter a number: 1,000\n",
      "Please try again without entering commas\n",
      "Enter a number: 1 thousand\n",
      "1 thousand is not a valid number.Please try again\n",
      "Enter a number: 1000.00\n",
      "One Zero Zero Zero Point Zero Zero "
     ]
    }
   ],
   "source": [
    "myfunc()"
   ]
  },
  {
   "cell_type": "code",
   "execution_count": null,
   "metadata": {},
   "outputs": [],
   "source": []
  }
 ],
 "metadata": {
  "kernelspec": {
   "display_name": "Python 3",
   "language": "python",
   "name": "python3"
  },
  "language_info": {
   "codemirror_mode": {
    "name": "ipython",
    "version": 3
   },
   "file_extension": ".py",
   "mimetype": "text/x-python",
   "name": "python",
   "nbconvert_exporter": "python",
   "pygments_lexer": "ipython3",
   "version": "3.8.5"
  }
 },
 "nbformat": 4,
 "nbformat_minor": 4
}
