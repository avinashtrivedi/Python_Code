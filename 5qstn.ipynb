{
 "cells": [
  {
   "cell_type": "markdown",
   "metadata": {},
   "source": [
    "# Q.1"
   ]
  },
  {
   "cell_type": "code",
   "execution_count": 1,
   "metadata": {},
   "outputs": [
    {
     "name": "stdout",
     "output_type": "stream",
     "text": [
      "Input your dog's age in human years: 5\n",
      "Your dog's age in dog's year is: 33.0\n"
     ]
    }
   ],
   "source": [
    "dogs_age_human_yr = float(input(\"Input your dog's age in human years: \"))\n",
    "\n",
    "# apply the condition\n",
    "if dogs_age_human_yr <= 2:\n",
    "    dog_age_first2_year = dogs_age_human_yr * 10.5\n",
    "    dog_age_dog_year = dog_age_first2_year\n",
    "else:\n",
    "    dog_age_first2_year = 2 * 10.5\n",
    "    dog_age_dog_year = dog_age_first2_year + (dogs_age_human_yr - 2 ) * 4\n",
    "print(\"Your dog's age in dog's year is:\",dog_age_dog_year)"
   ]
  },
  {
   "cell_type": "markdown",
   "metadata": {},
   "source": [
    "# Q.2"
   ]
  },
  {
   "cell_type": "code",
   "execution_count": 2,
   "metadata": {},
   "outputs": [
    {
     "name": "stdout",
     "output_type": "stream",
     "text": [
      "Please enter a floating point number: 12\n",
      "This is a positive number\n"
     ]
    }
   ],
   "source": [
    "number = float(input('Please enter a floating point number: '))\n",
    "\n",
    "if number>0:\n",
    "    print(\"This is a positive number\")\n",
    "elif number <0:\n",
    "    print(\"This is a negative number\")\n",
    "elif number==0:\n",
    "    print('this is Zero')"
   ]
  },
  {
   "cell_type": "markdown",
   "metadata": {},
   "source": [
    "# Q.3"
   ]
  },
  {
   "cell_type": "code",
   "execution_count": 3,
   "metadata": {},
   "outputs": [],
   "source": [
    "def bmi_calculate():\n",
    "    \n",
    "    weight = float(input('how tall you are (in inches): '))\n",
    "    height = float(input('your weights (in pounds): '))\n",
    "    \n",
    "    # compute BMI\n",
    "    bmi = (weight * 720.0) / height**2\n",
    "    \n",
    "    if bmi<19:\n",
    "        print(\"You need to eat more\")\n",
    "    elif 19 <= bmi <= 25:\n",
    "        print(\"You are healthy\")\n",
    "    elif bmi >25:\n",
    "        print(\"Let's work out and be healthy.\")"
   ]
  },
  {
   "cell_type": "code",
   "execution_count": 4,
   "metadata": {},
   "outputs": [
    {
     "name": "stdout",
     "output_type": "stream",
     "text": [
      "how tall you are (in inches): 70\n",
      "your weights (in pounds): 145\n",
      "You need to eat more\n"
     ]
    }
   ],
   "source": [
    "bmi_calculate()"
   ]
  },
  {
   "cell_type": "markdown",
   "metadata": {},
   "source": [
    "# Q.4"
   ]
  },
  {
   "cell_type": "code",
   "execution_count": 5,
   "metadata": {},
   "outputs": [
    {
     "name": "stdout",
     "output_type": "stream",
     "text": [
      "How many hours you worked in last week: 45\n",
      "Enter your hourly wage: 10\n",
      "Total weekly wage: 475.0\n"
     ]
    }
   ],
   "source": [
    "total_hours = float(input('How many hours you worked in last week: '))\n",
    "hourly_wage = float(input('Enter your hourly wage: '))\n",
    "\n",
    "if total_hours <= 40:\n",
    "    \n",
    "    total_wage = hourly_wage * total_hours\n",
    "\n",
    "else:\n",
    "    overtime = total_hours - 40\n",
    "    total_wage = hourly_wage*40 + (1.5*hourly_wage) * overtime\n",
    "    \n",
    "print('Total weekly wage:',total_wage)"
   ]
  },
  {
   "cell_type": "code",
   "execution_count": null,
   "metadata": {},
   "outputs": [],
   "source": []
  }
 ],
 "metadata": {
  "kernelspec": {
   "display_name": "Python 3",
   "language": "python",
   "name": "python3"
  },
  "language_info": {
   "codemirror_mode": {
    "name": "ipython",
    "version": 3
   },
   "file_extension": ".py",
   "mimetype": "text/x-python",
   "name": "python",
   "nbconvert_exporter": "python",
   "pygments_lexer": "ipython3",
   "version": "3.8.5"
  }
 },
 "nbformat": 4,
 "nbformat_minor": 4
}
