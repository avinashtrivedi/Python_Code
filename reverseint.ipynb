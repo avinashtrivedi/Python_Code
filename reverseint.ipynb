{
 "cells": [
  {
   "cell_type": "code",
   "execution_count": 1,
   "metadata": {},
   "outputs": [],
   "source": [
    "def reverse_num(num):\n",
    "    \n",
    "    negative = False\n",
    "    \n",
    "    # convert num into string and then into list.\n",
    "    # so 7102 become ['7', '1', '0', '2']\n",
    "    num = list(str(num))\n",
    "    \n",
    "    # condition when num is 0 i.e. ['0']\n",
    "    if len(num)==1 and num[0]=='0':\n",
    "        return 0\n",
    "\n",
    "    # if last element is '0' then remove it\n",
    "    if num[-1]=='0':\n",
    "        num = num[:-1]\n",
    "\n",
    "    # if first element is '-' negative symbol\n",
    "    if num[0]=='-':\n",
    "        negative = True\n",
    "        num = num[1:]\n",
    "\n",
    "    # get string from list using join function.\n",
    "    num = ''.join(num)\n",
    "\n",
    "    # reverse the string\n",
    "    num = num[::-1]\n",
    "\n",
    "    # return the result.\n",
    "    if negative:\n",
    "        return -int(num)\n",
    "    else:\n",
    "        return int(num)"
   ]
  },
  {
   "cell_type": "code",
   "execution_count": 2,
   "metadata": {},
   "outputs": [
    {
     "name": "stdout",
     "output_type": "stream",
     "text": [
      "2017\n"
     ]
    }
   ],
   "source": [
    "print(reverse_num(7102))"
   ]
  },
  {
   "cell_type": "code",
   "execution_count": 3,
   "metadata": {},
   "outputs": [
    {
     "name": "stdout",
     "output_type": "stream",
     "text": [
      "32\n"
     ]
    }
   ],
   "source": [
    "print(reverse_num(230))"
   ]
  },
  {
   "cell_type": "code",
   "execution_count": 4,
   "metadata": {},
   "outputs": [
    {
     "name": "stdout",
     "output_type": "stream",
     "text": [
      "0\n"
     ]
    }
   ],
   "source": [
    "print(reverse_num(0))"
   ]
  },
  {
   "cell_type": "code",
   "execution_count": 5,
   "metadata": {},
   "outputs": [
    {
     "name": "stdout",
     "output_type": "stream",
     "text": [
      "-21\n"
     ]
    }
   ],
   "source": [
    "print(reverse_num(-12))"
   ]
  },
  {
   "cell_type": "code",
   "execution_count": null,
   "metadata": {},
   "outputs": [],
   "source": []
  }
 ],
 "metadata": {
  "kernelspec": {
   "display_name": "Python 3",
   "language": "python",
   "name": "python3"
  },
  "language_info": {
   "codemirror_mode": {
    "name": "ipython",
    "version": 3
   },
   "file_extension": ".py",
   "mimetype": "text/x-python",
   "name": "python",
   "nbconvert_exporter": "python",
   "pygments_lexer": "ipython3",
   "version": "3.8.5"
  }
 },
 "nbformat": 4,
 "nbformat_minor": 4
}
