{
 "cells": [
  {
   "cell_type": "code",
   "execution_count": 1,
   "metadata": {},
   "outputs": [
    {
     "name": "stdout",
     "output_type": "stream",
     "text": [
      "Enter initial population: 300\n",
      "Enter first time period (in years): 4\n",
      "Enter first growth rate (in percent): 1.2\n",
      "Enter second time period (in years): 2.5\n",
      "Enter second growth rate (in percent): 5\n",
      "Enter third time period (in years): 1\n",
      "Enter third growth rate (in percent): 2.1\n",
      "The final population is 364.2288848868698\n"
     ]
    }
   ],
   "source": [
    "import math\n",
    "\n",
    "p_0 = float(input(\"Enter initial population: \"))\n",
    "\n",
    "t_1 = float(input(\"Enter first time period (in years): \"))\n",
    "\n",
    "r_1 = float(input(\"Enter first growth rate (in percent): \"))\n",
    "\n",
    "# divide by 100, to convert % to number\n",
    "p_1 = p_0 * (math.e **(t_1 * r_1/100))\n",
    "\n",
    "\n",
    "t_2 =float(input(\"Enter second time period (in years): \"))\n",
    "\n",
    "r_2 = float(input(\"Enter second growth rate (in percent): \"))\n",
    "\n",
    "# divide by 100, to convert % to number\n",
    "p_2 = p_1 * (math.e **(t_2 * r_2/100))\n",
    "\n",
    "\n",
    "t_3 =float(input(\"Enter third time period (in years): \"))\n",
    "\n",
    "r_3 = float(input(\"Enter third growth rate (in percent): \"))\n",
    "\n",
    "# divide by 100, to convert % to number\n",
    "p_f = p_2 * (math.e **(t_3 * r_3/100))\n",
    "\n",
    "# earlier you had missed '{' bracket in your code\n",
    "# now it is added\n",
    "print(f\"The final population is {p_f}\")"
   ]
  },
  {
   "cell_type": "code",
   "execution_count": 3,
   "metadata": {},
   "outputs": [
    {
     "name": "stdout",
     "output_type": "stream",
     "text": [
      "The final population is 364.229\n"
     ]
    }
   ],
   "source": [
    "# if required, round to 3 decimal places.\n",
    "print(f\"The final population is {round(p_f,3)}\")"
   ]
  },
  {
   "cell_type": "code",
   "execution_count": null,
   "metadata": {},
   "outputs": [],
   "source": []
  }
 ],
 "metadata": {
  "kernelspec": {
   "display_name": "Python 3",
   "language": "python",
   "name": "python3"
  },
  "language_info": {
   "codemirror_mode": {
    "name": "ipython",
    "version": 3
   },
   "file_extension": ".py",
   "mimetype": "text/x-python",
   "name": "python",
   "nbconvert_exporter": "python",
   "pygments_lexer": "ipython3",
   "version": "3.8.5"
  }
 },
 "nbformat": 4,
 "nbformat_minor": 4
}
