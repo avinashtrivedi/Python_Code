{
 "cells": [
  {
   "cell_type": "code",
   "execution_count": 33,
   "metadata": {},
   "outputs": [],
   "source": [
    "import numpy as np\n",
    "def weight_vector(matrix):\n",
    "    try:\n",
    "        A = np.array(matrix,dtype='float') # convert list of list to numpy matrix\n",
    "        C = np.full_like(A, 1) # create C matrix with similar property as A\n",
    "        W = []  # list to store weight vector value\n",
    "        for i in range(A.shape[0]):\n",
    "            for j in range(A.shape[1]):\n",
    "                # find C based on cauculation of B given in question\n",
    "                C[i,j] = round(A[i,j]/(sum(A[:,j])),3) \n",
    "\n",
    "        for i in range(C.shape[0]):\n",
    "            # find weight based on given formula\n",
    "            temp = sum(C[i])/C.shape[1]\n",
    "            # appending weight value to W list\n",
    "            W.append(round(temp,3))\n",
    "        return W\n",
    "    except:\n",
    "        # it will be executed if wrong format of input is given\n",
    "        print('Wrong input')"
   ]
  },
  {
   "cell_type": "code",
   "execution_count": 34,
   "metadata": {},
   "outputs": [],
   "source": [
    "A=[[1,3,5,1,7,5,5],[.33,1,3,.33,5,3,3],[.2,.33,1,.2,3,1,1],[1,3,5,1,7,5,5],\n",
    "   [.14,.2,.33,.14,1,.33,.33],[.2,.33,1,.2,3,1,1],[.2,.33,1,.2,3,1,1]\n",
    "  ]"
   ]
  },
  {
   "cell_type": "code",
   "execution_count": 35,
   "metadata": {},
   "outputs": [
    {
     "data": {
      "text/plain": [
       "[0.311, 0.151, 0.065, 0.311, 0.03, 0.065, 0.065]"
      ]
     },
     "execution_count": 35,
     "metadata": {},
     "output_type": "execute_result"
    }
   ],
   "source": [
    "weight_vector(A)"
   ]
  },
  {
   "cell_type": "code",
   "execution_count": null,
   "metadata": {},
   "outputs": [],
   "source": []
  }
 ],
 "metadata": {
  "kernelspec": {
   "display_name": "Python 3",
   "language": "python",
   "name": "python3"
  },
  "language_info": {
   "codemirror_mode": {
    "name": "ipython",
    "version": 3
   },
   "file_extension": ".py",
   "mimetype": "text/x-python",
   "name": "python",
   "nbconvert_exporter": "python",
   "pygments_lexer": "ipython3",
   "version": "3.8.5"
  }
 },
 "nbformat": 4,
 "nbformat_minor": 4
}
