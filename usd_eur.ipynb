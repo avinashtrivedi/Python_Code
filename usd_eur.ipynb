{
 "cells": [
  {
   "cell_type": "code",
   "execution_count": 1,
   "metadata": {},
   "outputs": [
    {
     "name": "stdout",
     "output_type": "stream",
     "text": [
      "Before stuffing:  011111101111110\n",
      "After stuffing :  01111101011111010\n",
      "After framing  :  011111100111110101111101001111110\n"
     ]
    }
   ],
   "source": [
    "# original array\n",
    "array = \"011111101111110\"\n",
    "\n",
    "# to hold stuffed_array\n",
    "# initially its empty\n",
    "stuffed_array = ''\n",
    "\n",
    "# counter to handle the while loop\n",
    "i=0\n",
    "\n",
    "# loop through the each character and check for next 5 characters to be \"11111\"\n",
    "while i<len(array):\n",
    "    \n",
    "    # if condition is satisfied then add '0'\n",
    "    if array[i:i+5] == '11111':\n",
    "        stuffed_array = stuffed_array + array[i:i+5] + '0'\n",
    "        \n",
    "        # increase the counter by 5\n",
    "        i = i + 5\n",
    "    else:\n",
    "        stuffed_array = stuffed_array + array[i]\n",
    "        i = i + 1\n",
    "        \n",
    "# framed array: add \"01111110\" in the start and end\n",
    "framed_array = \"01111110\" + stuffed_array + \"01111110\"\n",
    "\n",
    "# print the result\n",
    "print(\"Before stuffing: \",array)\n",
    "print(\"After stuffing : \",stuffed_array)\n",
    "print(\"After framing  : \",framed_array)"
   ]
  },
  {
   "cell_type": "code",
   "execution_count": 3,
   "metadata": {},
   "outputs": [
    {
     "name": "stdout",
     "output_type": "stream",
     "text": [
      "Welcome to the 3-currency calculator!\n",
      "Please enter the from amount: 100\n",
      "Please enter the from currency(USD,EUR, or JPY): EUR\n",
      "Please enter the to currency(USD,EUR, or JPY): USD\n",
      "100.0 EUR equals 116.0 USD\n"
     ]
    }
   ],
   "source": [
    "# try-except block to handle the exception.\n",
    "try:\n",
    "    \n",
    "    # receive the user inputs\n",
    "    print(\"Welcome to the 3-currency calculator!\")\n",
    "    amount = float(input(\"Please enter the from amount: \"))\n",
    "    from_cur = input(\"Please enter the from currency(USD,EUR, or JPY): \")\n",
    "    to_cur = input(\"Please enter the to currency(USD,EUR, or JPY): \")\n",
    "\n",
    "    # convert currency to upper case\n",
    "    from_cur = from_cur.upper()\n",
    "    to_cur = to_cur.upper()\n",
    "\n",
    "    # conversion rate as per 07:25 AM IST\n",
    "    eur_to_usd = 1.16\n",
    "    eur_to_jpy = 128.81\n",
    "    usd_to_jpy = 111.44\n",
    "\n",
    "    # flag to check if any of the below condition is satisfied or not\n",
    "    flag = False\n",
    "\n",
    "    # check the condition and do the conversion\n",
    "    if from_cur=='USD' and to_cur=='EUR':\n",
    "        flag = True\n",
    "        print(amount,'USD equals',round(amount/eur_to_usd,2),'EUR')\n",
    "\n",
    "    if from_cur=='EUR' and to_cur=='USD':\n",
    "        flag = True\n",
    "        print(amount,'EUR equals',round(amount*eur_to_usd,2),'USD')\n",
    "\n",
    "    if from_cur=='JPY' and to_cur=='USD':\n",
    "        flag = True\n",
    "        print(amount,'JPY equals',round(amount/usd_to_jpy,2),'USD')\n",
    "\n",
    "    if from_cur=='USD' and to_cur=='JPY':\n",
    "        flag = True\n",
    "        print(amount,'USD equals',round(amount*usd_to_jpy,2),'JPY')\n",
    "\n",
    "    if from_cur=='JPY' and to_cur=='EUR':\n",
    "        flag = True\n",
    "        print(amount,'JPY equals',round(amount/eur_to_jpy,2),'EUR')\n",
    "\n",
    "    if from_cur=='EUR' and to_cur=='JPY':\n",
    "        flag = True\n",
    "        print(amount,'EUR equals',round(amount*eur_to_jpy,2),'JPY')  \n",
    "\n",
    "    # if none of the above condition is satisfied,it means wrong input is given\n",
    "    if flag == False:\n",
    "        print('Wrong from or to currency. Please try again.')\n",
    "except:\n",
    "    print('Wrong amount entered, Please enter integer or float.')"
   ]
  },
  {
   "cell_type": "code",
   "execution_count": null,
   "metadata": {},
   "outputs": [],
   "source": []
  }
 ],
 "metadata": {
  "kernelspec": {
   "display_name": "Python 3",
   "language": "python",
   "name": "python3"
  },
  "language_info": {
   "codemirror_mode": {
    "name": "ipython",
    "version": 3
   },
   "file_extension": ".py",
   "mimetype": "text/x-python",
   "name": "python",
   "nbconvert_exporter": "python",
   "pygments_lexer": "ipython3",
   "version": "3.8.5"
  }
 },
 "nbformat": 4,
 "nbformat_minor": 4
}
