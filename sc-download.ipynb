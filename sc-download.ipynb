{
 "cells": [
  {
   "cell_type": "code",
   "execution_count": 45,
   "metadata": {},
   "outputs": [],
   "source": [
    "from bs4 import BeautifulSoup\n",
    "import urllib3\n",
    "\n",
    "def page_downloader(year,page_name):\n",
    "    year = str(year)\n",
    "    http = urllib3.PoolManager()\n",
    "    s={'Accept': '*/*',\n",
    "                'Accept-Language': 'en-US,en;q=0.5',\n",
    "                'Host': 'liiofindia.org',\n",
    "                'Referer': \"http://www.liiofindia.org/in/cases/cen/INSC/1950/7.html\",\n",
    "                'User-Agent': 'Mozilla/5.0 (Windows NT 6.1; WOW64; rv:28.0) Gecko/20100101 Firefox/28.0',\n",
    "                'X-Requested-With': 'XMLHttpRequest'\n",
    "                }\n",
    "    url = 'http://www.liiofindia.org/in/cases/cen/INSC/' + year + '/' + page_name\n",
    "    \n",
    "    response = http.request('GET', url,headers=s)\n",
    "    soup = BeautifulSoup(response.data)\n",
    "    data = str(soup)\n",
    "    f = open(page_name, 'w')\n",
    "    f.write(data)\n",
    "    f.close"
   ]
  },
  {
   "cell_type": "code",
   "execution_count": 39,
   "metadata": {},
   "outputs": [],
   "source": [
    "from bs4 import BeautifulSoup\n",
    "import urllib3\n",
    "\n",
    "def url_generator(year):\n",
    "    year = str(year)\n",
    "    http = urllib3.PoolManager()\n",
    "    s={'Accept': '*/*',\n",
    "                'Accept-Language': 'en-US,en;q=0.5',\n",
    "                'Host': 'liiofindia.org',\n",
    "                'Referer': \"http://www.liiofindia.org/in/cases/cen/INSC/1950/7.html\",\n",
    "                'User-Agent': 'Mozilla/5.0 (Windows NT 6.1; WOW64; rv:28.0) Gecko/20100101 Firefox/28.0',\n",
    "                'X-Requested-With': 'XMLHttpRequest'\n",
    "                }\n",
    "    url = 'http://www.liiofindia.org/in/cases/cen/INSC/' + year\n",
    "    response = http.request('GET', url,headers=s)\n",
    "    soup = BeautifulSoup(response.data)\n",
    "    urls = []\n",
    "    for h in soup.findAll('li'):\n",
    "        a = h.find('a')\n",
    "        if 'href' in a.attrs:\n",
    "            url = a.get('href')\n",
    "            urls.append(url)\n",
    "    \n",
    "    urls = [link.split(year)[1][1:] for link in urls]\n",
    "    return urls"
   ]
  },
  {
   "cell_type": "code",
   "execution_count": 41,
   "metadata": {},
   "outputs": [
    {
     "data": {
      "text/plain": [
       "['1.html',\n",
       " '2.html',\n",
       " '3.html',\n",
       " '4.html',\n",
       " '5.html',\n",
       " '6.html',\n",
       " '7.html',\n",
       " '8.html',\n",
       " '9.html',\n",
       " '10.html',\n",
       " '11.html',\n",
       " '12.html',\n",
       " '13.html',\n",
       " '14.html',\n",
       " '15.html',\n",
       " '16.html',\n",
       " '17.html',\n",
       " '18.html',\n",
       " '19.html',\n",
       " '20.html',\n",
       " '21.html',\n",
       " '22.html',\n",
       " '23.html',\n",
       " '24.html',\n",
       " '25.html',\n",
       " '26.html',\n",
       " '27.html',\n",
       " '28.html',\n",
       " '29.html',\n",
       " '30.html',\n",
       " '31.html',\n",
       " '32.html',\n",
       " '33.html',\n",
       " '34.html',\n",
       " '35.html',\n",
       " '36.html',\n",
       " '37.html',\n",
       " '38.html',\n",
       " '39.html',\n",
       " '40.html',\n",
       " '41.html',\n",
       " '42.html',\n",
       " '43.html',\n",
       " '44.html',\n",
       " '45.html',\n",
       " '46.html',\n",
       " '47.html',\n",
       " '48.html',\n",
       " '49.html',\n",
       " '50.html',\n",
       " '51.html',\n",
       " '52.html',\n",
       " '53.html',\n",
       " '54.html',\n",
       " '55.html',\n",
       " '56.html',\n",
       " '57.html',\n",
       " '58.html',\n",
       " '59.html',\n",
       " '60.html',\n",
       " '61.html',\n",
       " '62.html',\n",
       " '63.html',\n",
       " '64.html',\n",
       " '65.html',\n",
       " '66.html',\n",
       " '67.html',\n",
       " '68.html',\n",
       " '69.html',\n",
       " '70.html',\n",
       " '71.html',\n",
       " '72.html',\n",
       " '73.html',\n",
       " '74.html',\n",
       " '75.html',\n",
       " '76.html',\n",
       " '77.html',\n",
       " '78.html',\n",
       " '79.html',\n",
       " '80.html',\n",
       " '81.html',\n",
       " '82.html',\n",
       " '83.html',\n",
       " '84.html',\n",
       " '85.html',\n",
       " '86.html',\n",
       " '87.html',\n",
       " '88.html',\n",
       " '89.html',\n",
       " '90.html',\n",
       " '91.html',\n",
       " '92.html',\n",
       " '93.html',\n",
       " '94.html',\n",
       " '95.html',\n",
       " '96.html',\n",
       " '97.html',\n",
       " '98.html',\n",
       " '99.html',\n",
       " '100.html',\n",
       " '101.html',\n",
       " '102.html',\n",
       " '103.html',\n",
       " '104.html',\n",
       " '105.html',\n",
       " '106.html',\n",
       " '107.html',\n",
       " '108.html',\n",
       " '109.html',\n",
       " '110.html',\n",
       " '111.html',\n",
       " '112.html',\n",
       " '113.html',\n",
       " '114.html',\n",
       " '115.html']"
      ]
     },
     "execution_count": 41,
     "metadata": {},
     "output_type": "execute_result"
    }
   ],
   "source": [
    "url_generator(1957)"
   ]
  },
  {
   "cell_type": "code",
   "execution_count": 46,
   "metadata": {},
   "outputs": [],
   "source": [
    "page_downloader(1950,'12.html')"
   ]
  },
  {
   "cell_type": "code",
   "execution_count": 48,
   "metadata": {},
   "outputs": [],
   "source": [
    "# for year in range(list(range(1950,2022))):\n",
    "#     link_for_year_i = url_generator(year)\n",
    "#     for page_name in link_for_year_i:\n",
    "#         page_downloader(year,page_name)"
   ]
  },
  {
   "cell_type": "code",
   "execution_count": 11,
   "metadata": {},
   "outputs": [],
   "source": [
    "import os\n",
    "newpath = r'222' \n",
    "if not os.path.exists(newpath):\n",
    "    os.makedirs(newpath)"
   ]
  },
  {
   "cell_type": "code",
   "execution_count": 12,
   "metadata": {},
   "outputs": [
    {
     "name": "stdout",
     "output_type": "stream",
     "text": [
      "222\n"
     ]
    }
   ],
   "source": [
    "print(newpath)"
   ]
  },
  {
   "cell_type": "code",
   "execution_count": null,
   "metadata": {},
   "outputs": [],
   "source": []
  }
 ],
 "metadata": {
  "kernelspec": {
   "display_name": "Python 3",
   "language": "python",
   "name": "python3"
  },
  "language_info": {
   "codemirror_mode": {
    "name": "ipython",
    "version": 3
   },
   "file_extension": ".py",
   "mimetype": "text/x-python",
   "name": "python",
   "nbconvert_exporter": "python",
   "pygments_lexer": "ipython3",
   "version": "3.8.5"
  }
 },
 "nbformat": 4,
 "nbformat_minor": 4
}
