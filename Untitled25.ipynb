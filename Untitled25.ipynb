{
 "cells": [
  {
   "cell_type": "code",
   "execution_count": null,
   "metadata": {},
   "outputs": [],
   "source": [
    "import introcs\n",
    "\n",
    "def first_vowel(s):\n",
    "\"\"\"\n",
    "Returns the position of the first vowel in s; it returns len(s) if there are no vowels.\n",
    "  \n",
    "We define the vowels to be the letters 'a','e','i','o', and 'u'. The letter\n",
    "'y' counts as a vowel only if it is not the first letter in the string.\n",
    "  \n",
    "Examples:\n",
    "first_vowel('hat') returns 1\n",
    "first_vowel('grrm') returns 4\n",
    "first_vowel('sky') returns 2\n",
    "first_vowel('year') returns 1\n",
    "  \n",
    "Parameter s: the string to search\n",
    "Precondition: s is a nonempty string with only lowercase letters\n",
    "\"\"\"\n",
    "result = len(s)\n",
    "pos = introcs.find_str(s,'a')\n",
    "pos2 = introcs.find_str(s,'e')\n",
    "pos3 = introcs.find_str(s,'i')\n",
    "pos4 = introcs.find_str(s,'o')\n",
    "pos5 = introcs.find_str(s,'u')\n",
    "  \n",
    "  \n",
    "  \n",
    "if (pos or pos2 or pos3 or pos4 or pos5) != -1:\n",
    "    return result"
   ]
  },
  {
   "cell_type": "code",
   "execution_count": 2,
   "metadata": {},
   "outputs": [],
   "source": [
    "import introcs"
   ]
  },
  {
   "cell_type": "code",
   "execution_count": 5,
   "metadata": {},
   "outputs": [
    {
     "data": {
      "text/plain": [
       "0"
      ]
     },
     "execution_count": 5,
     "metadata": {},
     "output_type": "execute_result"
    }
   ],
   "source": [
    "introcs.find_str('hat','h')"
   ]
  },
  {
   "cell_type": "code",
   "execution_count": 109,
   "metadata": {},
   "outputs": [
    {
     "ename": "SyntaxError",
     "evalue": "name 'result' is assigned to before global declaration (<ipython-input-109-049ec258c94f>, line 3)",
     "output_type": "error",
     "traceback": [
      "\u001b[1;36m  File \u001b[1;32m\"<ipython-input-109-049ec258c94f>\"\u001b[1;36m, line \u001b[1;32m3\u001b[0m\n\u001b[1;33m    global result\u001b[0m\n\u001b[1;37m    ^\u001b[0m\n\u001b[1;31mSyntaxError\u001b[0m\u001b[1;31m:\u001b[0m name 'result' is assigned to before global declaration\n"
     ]
    }
   ],
   "source": [
    "def first_vowel(s):\n",
    "    global result\n",
    "    if 'a' in s:      \n",
    "        result=introcs.find_str(s,'a')\n",
    "    if 'e' in s and introcs.find_str(s,'e') < result:\n",
    "        result= introcs.find_str(s,'e')\n",
    "    if 'i' in s and introcs.find_str(s,'i')<result:\n",
    "        result=introcs.find_str(s,'i')\n",
    "    if 'o' in s and introcs.find_str(s,'o')<result:\n",
    "        result=introcs.find_str(s,'o')\n",
    "    if 'u' in s and introcs.find_str(s,'u')<result:\n",
    "        result= introcs.find_str(s,'u')\n",
    "    if 'y'in s[1:] and introcs.find_str(s[1:],'y')<result:\n",
    "        result=introcs.find_str(s[1:],'y')  \n",
    "    return -1 if not ('result' in globals()) else 1"
   ]
  },
  {
   "cell_type": "code",
   "execution_count": 106,
   "metadata": {},
   "outputs": [
    {
     "data": {
      "text/plain": [
       "1"
      ]
     },
     "execution_count": 106,
     "metadata": {},
     "output_type": "execute_result"
    }
   ],
   "source": [
    "first_vowel('hat')"
   ]
  },
  {
   "cell_type": "code",
   "execution_count": 108,
   "metadata": {},
   "outputs": [
    {
     "data": {
      "text/plain": [
       "1"
      ]
     },
     "execution_count": 108,
     "metadata": {},
     "output_type": "execute_result"
    }
   ],
   "source": [
    "first_vowel('grrm')"
   ]
  },
  {
   "cell_type": "code",
   "execution_count": 34,
   "metadata": {},
   "outputs": [],
   "source": [
    "import introcs\n",
    "def first_vowel(s):\n",
    "    result= len(s)  # In case there is no vowel\n",
    "    if 'a' in s:\n",
    "        result=introcs.find_str(s,'a')\n",
    "    if 'e' in s and introcs.find_str(s,'e') < result:\n",
    "        result= introcs.find_str(s,'e')\n",
    "    if 'i' in s and introcs.find_str(s,'i')<result:\n",
    "        result=introcs.find_str(s,'i')\n",
    "    if 'o' in s and introcs.find_str(s,'o')<result:\n",
    "        result=introcs.find_str(s,'o')\n",
    "    if 'u' in s and introcs.find_str(s,'u')<result:\n",
    "        result= introcs.find_str(s,'u')\n",
    "\n",
    "    # the below condition will be satisfield only when string contains 'y' but not starting with 'y'.\n",
    "    # Hence condition introcs.startswith_str(s,'y' )==0 is True, when string is not starting with 'y'\n",
    "\n",
    "    if 'y'in s and introcs.startswith_str(s,'y' )==0 and introcs.find_str(s,'y')<result:\n",
    "        result=introcs.find_str(s,'y')\n",
    "        \n",
    "    # when none of the above condition is satisfied, then default value of result is len(S)\n",
    "    # i.e when string does not contain any vowels then default value of result is len(s)\n",
    "    # but we have to return -1 when string does not contain a vowel i.e when result=len(s) .\n",
    "    # Hence, return -1 when result== len(s) else return actual result value obtained by \n",
    "    # satisfying the if conditions.\n",
    "\n",
    "    return -1 if result==len(s) else result"
   ]
  },
  {
   "cell_type": "code",
   "execution_count": 35,
   "metadata": {},
   "outputs": [
    {
     "data": {
      "text/plain": [
       "1"
      ]
     },
     "execution_count": 35,
     "metadata": {},
     "output_type": "execute_result"
    }
   ],
   "source": [
    "first_vowel('hat') #returns 1"
   ]
  },
  {
   "cell_type": "code",
   "execution_count": 36,
   "metadata": {},
   "outputs": [
    {
     "data": {
      "text/plain": [
       "-1"
      ]
     },
     "execution_count": 36,
     "metadata": {},
     "output_type": "execute_result"
    }
   ],
   "source": [
    "first_vowel('grrm') #returns -1"
   ]
  },
  {
   "cell_type": "code",
   "execution_count": 37,
   "metadata": {},
   "outputs": [
    {
     "data": {
      "text/plain": [
       "2"
      ]
     },
     "execution_count": 37,
     "metadata": {},
     "output_type": "execute_result"
    }
   ],
   "source": [
    "first_vowel('sky') #returns 2"
   ]
  },
  {
   "cell_type": "code",
   "execution_count": 38,
   "metadata": {},
   "outputs": [
    {
     "data": {
      "text/plain": [
       "1"
      ]
     },
     "execution_count": 38,
     "metadata": {},
     "output_type": "execute_result"
    }
   ],
   "source": [
    "first_vowel('year') #r#eturns 1"
   ]
  },
  {
   "cell_type": "code",
   "execution_count": null,
   "metadata": {},
   "outputs": [],
   "source": [
    "first_vowel('yyear') #r#eturns 1"
   ]
  },
  {
   "cell_type": "code",
   "execution_count": 12,
   "metadata": {},
   "outputs": [
    {
     "data": {
      "text/plain": [
       "True"
      ]
     },
     "execution_count": 12,
     "metadata": {},
     "output_type": "execute_result"
    }
   ],
   "source": [
    "introcs.startswith_str('yhyhar','y' )==0"
   ]
  },
  {
   "cell_type": "code",
   "execution_count": null,
   "metadata": {},
   "outputs": [],
   "source": []
  }
 ],
 "metadata": {
  "kernelspec": {
   "display_name": "Python 3",
   "language": "python",
   "name": "python3"
  },
  "language_info": {
   "codemirror_mode": {
    "name": "ipython",
    "version": 3
   },
   "file_extension": ".py",
   "mimetype": "text/x-python",
   "name": "python",
   "nbconvert_exporter": "python",
   "pygments_lexer": "ipython3",
   "version": "3.8.5"
  }
 },
 "nbformat": 4,
 "nbformat_minor": 4
}
