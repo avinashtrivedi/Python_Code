{
 "cells": [
  {
   "cell_type": "markdown",
   "metadata": {},
   "source": [
    "# Question 3"
   ]
  },
  {
   "cell_type": "code",
   "execution_count": 1,
   "metadata": {},
   "outputs": [
    {
     "name": "stdout",
     "output_type": "stream",
     "text": [
      "Part 1:\n",
      "Name of President: Aladeen\n",
      "Designation: President Prime Minister Admiral General\n",
      "Number of wife: 100\n",
      "Is he/she a dictator: True\n",
      "Part 2:\n",
      "Name of President: Donald Trump\n",
      "Designation: President\n",
      "Number of wife: 1\n",
      "Is he/she a dictator: False\n",
      "previous information lost\n"
     ]
    }
   ],
   "source": [
    "class Wadiya():\n",
    "    def __init__(self):\n",
    "        self.name = 'Aladeen'\n",
    "        self.designation = 'President Prime Minister Admiral General'\n",
    "        self.num_of_wife = 100\n",
    "        self.dictator = True\n",
    "\n",
    "wadiya = Wadiya()\n",
    "print('Part 1:')\n",
    "print('Name of President:',wadiya.name)\n",
    "print('Designation:',wadiya.designation)\n",
    "print('Number of wife:', wadiya.num_of_wife)\n",
    "print('Is he/she a dictator:', wadiya.dictator)\n",
    "\n",
    "# assign the new values to instance variables.\n",
    "print('Part 2:')\n",
    "wadiya.name = 'Donald Trump'\n",
    "wadiya.designation = 'President'\n",
    "wadiya.num_of_wife = 1\n",
    "wadiya.dictator  = False\n",
    "print('Name of President:',wadiya.name)\n",
    "print('Designation:',wadiya.designation)\n",
    "print('Number of wife:', wadiya.num_of_wife)\n",
    "print('Is he/she a dictator:', wadiya.dictator)\n",
    "\n",
    "# previous information will lost, because now object wadiya contains all \n",
    "# the latest values that was used for part 2\n",
    "print('previous information lost')"
   ]
  },
  {
   "cell_type": "markdown",
   "metadata": {},
   "source": [
    "# Question 4"
   ]
  },
  {
   "cell_type": "code",
   "execution_count": 2,
   "metadata": {},
   "outputs": [
    {
     "name": "stdout",
     "output_type": "stream",
     "text": [
      "Heath Ledger\n",
      "Mind Game\n",
      "False\n",
      "=====================\n",
      "Joaquin Phoenix\n",
      "Laughing out Loud\n",
      "True\n",
      "=====================\n",
      "different\n",
      "same\n",
      "\n",
      "Subtask: 2\n",
      "It is comparing the two objects ,for this you need to implement __eq__() function,Hence j1==j2 is false and else statement is getting satisfied\n",
      "\n",
      "Subtask: 3\n",
      "It is comparing the name variable in two objects by j1.name == j2.name,and since the name is same Hence, j1.name == j2.name is true and if statement is getting satisfied\n"
     ]
    }
   ],
   "source": [
    "# create a class\n",
    "class Joker:\n",
    "    \n",
    "    # create class constructor\n",
    "    def __init__(self,name,power,is_he_psycho):\n",
    "        \n",
    "        # initialize instance variables.\n",
    "        self.name = name\n",
    "        self.power = power\n",
    "        self.is_he_psycho = is_he_psycho\n",
    "\n",
    "j1 = Joker('Heath Ledger', 'Mind Game', False)\n",
    "print(j1.name)\n",
    "print(j1.power)\n",
    "print(j1.is_he_psycho)\n",
    "print(\"=====================\")\n",
    "j2 = Joker('Joaquin Phoenix', 'Laughing out Loud', True)\n",
    "print(j2.name)\n",
    "print(j2.power)\n",
    "print(j2.is_he_psycho)\n",
    "print(\"=====================\")\n",
    "if j1 == j2:\n",
    "    print('same')\n",
    "else:\n",
    "    print('different')\n",
    "j2.name = 'Heath Ledger'\n",
    "if j1.name == j2.name:\n",
    "    print('same')\n",
    "else:\n",
    "    print('different')\n",
    "\n",
    "# subtask 2 and 3\n",
    "print('\\nSubtask: 2')\n",
    "print('It is comparing the two objects ,for this you need to implement __eq__() function,\\\n",
    "Hence j1==j2 is false and else statement is getting satisfied')\n",
    "\n",
    "print('\\nSubtask: 3')\n",
    "print('It is comparing the name variable in two objects by j1.name == j2.name,\\\n",
    "and since the name is same Hence, j1.name == j2.name is true and if statement is getting satisfied')\n"
   ]
  },
  {
   "cell_type": "code",
   "execution_count": null,
   "metadata": {},
   "outputs": [],
   "source": []
  }
 ],
 "metadata": {
  "kernelspec": {
   "display_name": "Python 3",
   "language": "python",
   "name": "python3"
  },
  "language_info": {
   "codemirror_mode": {
    "name": "ipython",
    "version": 3
   },
   "file_extension": ".py",
   "mimetype": "text/x-python",
   "name": "python",
   "nbconvert_exporter": "python",
   "pygments_lexer": "ipython3",
   "version": "3.8.5"
  }
 },
 "nbformat": 4,
 "nbformat_minor": 4
}
