{
 "cells": [
  {
   "cell_type": "code",
   "execution_count": 38,
   "metadata": {},
   "outputs": [],
   "source": [
    "import pandas as pd"
   ]
  },
  {
   "cell_type": "code",
   "execution_count": 39,
   "metadata": {},
   "outputs": [],
   "source": [
    "xls = pd.ExcelFile('imdb.xlsx')\n",
    "df = xls.parse('imdb')"
   ]
  },
  {
   "cell_type": "code",
   "execution_count": 40,
   "metadata": {},
   "outputs": [
    {
     "data": {
      "text/html": [
       "<div>\n",
       "<style scoped>\n",
       "    .dataframe tbody tr th:only-of-type {\n",
       "        vertical-align: middle;\n",
       "    }\n",
       "\n",
       "    .dataframe tbody tr th {\n",
       "        vertical-align: top;\n",
       "    }\n",
       "\n",
       "    .dataframe thead th {\n",
       "        text-align: right;\n",
       "    }\n",
       "</style>\n",
       "<table border=\"1\" class=\"dataframe\">\n",
       "  <thead>\n",
       "    <tr style=\"text-align: right;\">\n",
       "      <th></th>\n",
       "      <th>movie_title</th>\n",
       "      <th>director_id</th>\n",
       "      <th>country_id</th>\n",
       "      <th>content_rating</th>\n",
       "      <th>title_year</th>\n",
       "      <th>imdb_score</th>\n",
       "      <th>gross</th>\n",
       "      <th>duration</th>\n",
       "    </tr>\n",
       "  </thead>\n",
       "  <tbody>\n",
       "    <tr>\n",
       "      <th>0</th>\n",
       "      <td>The Shawshank RedemptionÊ</td>\n",
       "      <td>34</td>\n",
       "      <td>1</td>\n",
       "      <td>R</td>\n",
       "      <td>1994</td>\n",
       "      <td>9.3</td>\n",
       "      <td>28341469</td>\n",
       "      <td>142</td>\n",
       "    </tr>\n",
       "    <tr>\n",
       "      <th>1</th>\n",
       "      <td>The GodfatherÊ</td>\n",
       "      <td>33</td>\n",
       "      <td>1</td>\n",
       "      <td>R</td>\n",
       "      <td>1972</td>\n",
       "      <td>9.2</td>\n",
       "      <td>134821952</td>\n",
       "      <td>175</td>\n",
       "    </tr>\n",
       "    <tr>\n",
       "      <th>2</th>\n",
       "      <td>The Dark KnightÊ</td>\n",
       "      <td>16</td>\n",
       "      <td>1</td>\n",
       "      <td>PG-13</td>\n",
       "      <td>2008</td>\n",
       "      <td>9.0</td>\n",
       "      <td>533316061</td>\n",
       "      <td>152</td>\n",
       "    </tr>\n",
       "    <tr>\n",
       "      <th>3</th>\n",
       "      <td>The Godfather: Part IIÊ</td>\n",
       "      <td>33</td>\n",
       "      <td>1</td>\n",
       "      <td>R</td>\n",
       "      <td>1974</td>\n",
       "      <td>9.0</td>\n",
       "      <td>57300000</td>\n",
       "      <td>220</td>\n",
       "    </tr>\n",
       "    <tr>\n",
       "      <th>4</th>\n",
       "      <td>The Lord of the Rings: The Return of the KingÊ</td>\n",
       "      <td>83</td>\n",
       "      <td>1</td>\n",
       "      <td>PG-13</td>\n",
       "      <td>2003</td>\n",
       "      <td>8.9</td>\n",
       "      <td>377019252</td>\n",
       "      <td>192</td>\n",
       "    </tr>\n",
       "    <tr>\n",
       "      <th>...</th>\n",
       "      <td>...</td>\n",
       "      <td>...</td>\n",
       "      <td>...</td>\n",
       "      <td>...</td>\n",
       "      <td>...</td>\n",
       "      <td>...</td>\n",
       "      <td>...</td>\n",
       "      <td>...</td>\n",
       "    </tr>\n",
       "    <tr>\n",
       "      <th>173</th>\n",
       "      <td>The Perks of Being a WallflowerÊ</td>\n",
       "      <td>101</td>\n",
       "      <td>1</td>\n",
       "      <td>PG-13</td>\n",
       "      <td>2012</td>\n",
       "      <td>8.0</td>\n",
       "      <td>17738570</td>\n",
       "      <td>102</td>\n",
       "    </tr>\n",
       "    <tr>\n",
       "      <th>174</th>\n",
       "      <td>BrazilÊ</td>\n",
       "      <td>106</td>\n",
       "      <td>8</td>\n",
       "      <td>R</td>\n",
       "      <td>1985</td>\n",
       "      <td>8.0</td>\n",
       "      <td>9929000</td>\n",
       "      <td>142</td>\n",
       "    </tr>\n",
       "    <tr>\n",
       "      <th>175</th>\n",
       "      <td>Big FishÊ</td>\n",
       "      <td>108</td>\n",
       "      <td>1</td>\n",
       "      <td>PG-13</td>\n",
       "      <td>2003</td>\n",
       "      <td>8.0</td>\n",
       "      <td>66257002</td>\n",
       "      <td>125</td>\n",
       "    </tr>\n",
       "    <tr>\n",
       "      <th>176</th>\n",
       "      <td>True RomanceÊ</td>\n",
       "      <td>112</td>\n",
       "      <td>1</td>\n",
       "      <td>R</td>\n",
       "      <td>1993</td>\n",
       "      <td>8.0</td>\n",
       "      <td>12281500</td>\n",
       "      <td>121</td>\n",
       "    </tr>\n",
       "    <tr>\n",
       "      <th>177</th>\n",
       "      <td>PersepolisÊ</td>\n",
       "      <td>114</td>\n",
       "      <td>7</td>\n",
       "      <td>PG-13</td>\n",
       "      <td>2007</td>\n",
       "      <td>8.0</td>\n",
       "      <td>4443403</td>\n",
       "      <td>89</td>\n",
       "    </tr>\n",
       "  </tbody>\n",
       "</table>\n",
       "<p>178 rows × 8 columns</p>\n",
       "</div>"
      ],
      "text/plain": [
       "                                        movie_title  director_id  country_id  \\\n",
       "0                         The Shawshank RedemptionÊ           34           1   \n",
       "1                                    The GodfatherÊ           33           1   \n",
       "2                                  The Dark KnightÊ           16           1   \n",
       "3                           The Godfather: Part IIÊ           33           1   \n",
       "4    The Lord of the Rings: The Return of the KingÊ           83           1   \n",
       "..                                              ...          ...         ...   \n",
       "173                The Perks of Being a WallflowerÊ          101           1   \n",
       "174                                         BrazilÊ          106           8   \n",
       "175                                       Big FishÊ          108           1   \n",
       "176                                   True RomanceÊ          112           1   \n",
       "177                                     PersepolisÊ          114           7   \n",
       "\n",
       "    content_rating  title_year  imdb_score      gross  duration  \n",
       "0                R        1994         9.3   28341469       142  \n",
       "1                R        1972         9.2  134821952       175  \n",
       "2            PG-13        2008         9.0  533316061       152  \n",
       "3                R        1974         9.0   57300000       220  \n",
       "4            PG-13        2003         8.9  377019252       192  \n",
       "..             ...         ...         ...        ...       ...  \n",
       "173          PG-13        2012         8.0   17738570       102  \n",
       "174              R        1985         8.0    9929000       142  \n",
       "175          PG-13        2003         8.0   66257002       125  \n",
       "176              R        1993         8.0   12281500       121  \n",
       "177          PG-13        2007         8.0    4443403        89  \n",
       "\n",
       "[178 rows x 8 columns]"
      ]
     },
     "execution_count": 40,
     "metadata": {},
     "output_type": "execute_result"
    }
   ],
   "source": [
    "df"
   ]
  },
  {
   "cell_type": "code",
   "execution_count": 41,
   "metadata": {},
   "outputs": [],
   "source": [
    "count = df['director_id'].value_counts()"
   ]
  },
  {
   "cell_type": "code",
   "execution_count": 42,
   "metadata": {},
   "outputs": [
    {
     "data": {
      "text/plain": [
       "16     7\n",
       "71     6\n",
       "85     6\n",
       "103    5\n",
       "90     4\n",
       "      ..\n",
       "43     1\n",
       "42     1\n",
       "41     1\n",
       "39     1\n",
       "117    1\n",
       "Name: director_id, Length: 117, dtype: int64"
      ]
     },
     "execution_count": 42,
     "metadata": {},
     "output_type": "execute_result"
    }
   ],
   "source": [
    "count"
   ]
  },
  {
   "cell_type": "code",
   "execution_count": 43,
   "metadata": {},
   "outputs": [
    {
     "name": "stdout",
     "output_type": "stream",
     "text": [
      "Data Loading Finished.\n"
     ]
    }
   ],
   "source": [
    "import pandas as pd\n",
    "\n",
    "\n",
    "\n",
    "xls = pd.ExcelFile('imdb.xlsx')\n",
    "\n",
    "df = xls.parse('imdb')\n",
    "\n",
    "df_directors = xls.parse('directors')\n",
    "\n",
    "df_countries = xls.parse('countries')\n",
    "\n",
    "\n",
    "\n",
    "print(\"Data Loading Finished.\")\n",
    "\n",
    "\n",
    "\n",
    "df = pd.merge(left=df, right=df_countries, how=\"inner\", left_on=\"country_id\", right_on=\"id\")\n",
    "\n",
    "df = pd.merge(left=df, right=df_directors, how=\"inner\", left_on=\"director_id\", right_on=\"id\") #join sheets\n",
    "\n",
    "\n",
    "\n",
    "df['movie_title'] = df['movie_title'].str.replace('Ê','') #remove character at the end\n",
    "\n"
   ]
  },
  {
   "cell_type": "code",
   "execution_count": 44,
   "metadata": {},
   "outputs": [],
   "source": [
    "item_counts = df['director_name'].value_counts()"
   ]
  },
  {
   "cell_type": "code",
   "execution_count": 45,
   "metadata": {},
   "outputs": [
    {
     "data": {
      "text/plain": [
       "Christopher Nolan    7\n",
       "Quentin Tarantino    6\n",
       "Martin Scorsese      6\n",
       "Steven Spielberg     5\n",
       "Ridley Scott         4\n",
       "                    ..\n",
       "Jose Padilha         1\n",
       "Stephen Chbosky      1\n",
       "George Lucas         1\n",
       "Roman Polanski       1\n",
       "Frank Miller         1\n",
       "Name: director_name, Length: 117, dtype: int64"
      ]
     },
     "execution_count": 45,
     "metadata": {},
     "output_type": "execute_result"
    }
   ],
   "source": [
    "item_counts"
   ]
  },
  {
   "cell_type": "code",
   "execution_count": 46,
   "metadata": {},
   "outputs": [],
   "source": [
    "director_with_most = item_counts[:1]"
   ]
  },
  {
   "cell_type": "code",
   "execution_count": 50,
   "metadata": {},
   "outputs": [
    {
     "data": {
      "text/plain": [
       "pandas.core.series.Series"
      ]
     },
     "execution_count": 50,
     "metadata": {},
     "output_type": "execute_result"
    }
   ],
   "source": [
    "type(director_with_most)"
   ]
  },
  {
   "cell_type": "code",
   "execution_count": 51,
   "metadata": {},
   "outputs": [
    {
     "data": {
      "text/plain": [
       "Christopher Nolan    7\n",
       "Name: director_name, dtype: int64"
      ]
     },
     "execution_count": 51,
     "metadata": {},
     "output_type": "execute_result"
    }
   ],
   "source": [
    "director_with_most"
   ]
  },
  {
   "cell_type": "code",
   "execution_count": 52,
   "metadata": {},
   "outputs": [
    {
     "name": "stdout",
     "output_type": "stream",
     "text": [
      "Christopher Nolan    7\n",
      "Name: director_name, dtype: int64\n"
     ]
    }
   ],
   "source": [
    "print(director_with_most)"
   ]
  }
 ],
 "metadata": {
  "kernelspec": {
   "display_name": "Python 3",
   "language": "python",
   "name": "python3"
  },
  "language_info": {
   "codemirror_mode": {
    "name": "ipython",
    "version": 3
   },
   "file_extension": ".py",
   "mimetype": "text/x-python",
   "name": "python",
   "nbconvert_exporter": "python",
   "pygments_lexer": "ipython3",
   "version": "3.8.5"
  }
 },
 "nbformat": 4,
 "nbformat_minor": 4
}
