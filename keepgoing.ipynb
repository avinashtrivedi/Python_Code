{
 "cells": [
  {
   "cell_type": "code",
   "execution_count": 44,
   "metadata": {},
   "outputs": [
    {
     "name": "stdout",
     "output_type": "stream",
     "text": [
      "SECRET DECODER MENU\n",
      "\n",
      "0) Quit\n",
      "1) Encode\n",
      "2) Decode\n",
      "\n",
      "What do you want to do? 1\n",
      "text to be encoded: python rocks\n",
      "AQULEWKEMNJ\n",
      "\n",
      "SECRET DECODER MENU\n",
      "\n",
      "0) Quit\n",
      "1) Encode\n",
      "2) Decode\n",
      "\n",
      "What do you want to do? 2\n",
      "code to be decyphered: AQULEWKEMNJ\n",
      "PYTHONROCKS\n",
      "\n",
      "SECRET DECODER MENU\n",
      "\n",
      "0) Quit\n",
      "1) Encode\n",
      "2) Decode\n",
      "\n",
      "What do you want to do? 0\n",
      "Thanks for doing secret spy stuff with me.\n"
     ]
    }
   ],
   "source": [
    "def menu():# print the menu\n",
    "    print(\"SECRET DECODER MENU\")\n",
    "    print(\"\")\n",
    "    print(\"0) Quit\")\n",
    "    print(\"1) Encode\")\n",
    "    print(\"2) Decode\")\n",
    "    print(\"\")\n",
    "    # receive the user input\n",
    "    x=input(\"What do you want to do? \") \n",
    "    return x # return the input\n",
    "\n",
    "# encoding function\n",
    "def encode(msg):\n",
    "    e_msg = '' # encoded message, keep it empty initially\n",
    "    msg = msg.upper() # convert msg into upper case letters\n",
    "    for i in msg: \n",
    "        # working for only letters, ignoring punctuation and other symbols\n",
    "        if i in ('ABCDEFGHIJKLMNOPQRSTUVWXYZ'): \n",
    "            indx=alpha.find(i) # find the index of each input character in alpha\n",
    "            # from that index, fetch the respective character in key.\n",
    "            # and concatenate (i.e. string addition) into e_msg\n",
    "            e_msg= e_msg+key[indx] \n",
    "    return e_msg\n",
    "\n",
    "# decoding function\n",
    "def decode(msg):\n",
    "    d_msg = '' # decoded message, keep it empty initially\n",
    "    msg = msg.upper() # convert msg into upper case letters\n",
    "    for i in msg:\n",
    "         # working for only letters, ignoring punctuation and other symbols\n",
    "        if i in ('ABCDEFGHIJKLMNOPQRSTUVWXYZ'):\n",
    "            indx=key.find(i) # find the index of each input character in key\n",
    "            \n",
    "            # from that index, fetch the respective character in alpha.\n",
    "            # and concatenate (i.e. string addition) into d_msg\n",
    "            d_msg= d_msg+alpha[indx]\n",
    "    return d_msg\n",
    "\n",
    "\n",
    "\"\"\" crypto.py\n",
    "    Implements a simple substitution cypher\n",
    "\"\"\"\n",
    "\n",
    "alpha = \"ABCDEFGHIJKLMNOPQRSTUVWXYZ\"\n",
    "key =   \"XPMGTDHLYONZBWEARKJUFSCIQV\"\n",
    "\n",
    "def main():\n",
    "    keepGoing = True\n",
    "    while keepGoing:\n",
    "        response = menu()\n",
    "        if response == \"1\":\n",
    "            plain = input(\"text to be encoded: \")\n",
    "            print(encode(plain))\n",
    "            print()\n",
    "        elif response == \"2\":\n",
    "            coded = input(\"code to be decyphered: \")\n",
    "            print (decode(coded))\n",
    "            print()\n",
    "        elif response == \"0\":\n",
    "            print (\"Thanks for doing secret spy stuff with me.\")\n",
    "            keepGoing = False\n",
    "        else:\n",
    "            print (\"I don't know what you want to do...\")\n",
    "            \n",
    "# calling the main function.\n",
    "if __name__ == '__main__':\n",
    "    main()"
   ]
  },
  {
   "cell_type": "code",
   "execution_count": 36,
   "metadata": {},
   "outputs": [],
   "source": []
  },
  {
   "cell_type": "code",
   "execution_count": 38,
   "metadata": {},
   "outputs": [],
   "source": []
  },
  {
   "cell_type": "code",
   "execution_count": 39,
   "metadata": {},
   "outputs": [],
   "source": []
  },
  {
   "cell_type": "code",
   "execution_count": 40,
   "metadata": {},
   "outputs": [
    {
     "name": "stdout",
     "output_type": "stream",
     "text": [
      "SECRET DECODER MENU\n",
      "\n",
      "0) Quit\n",
      "1) Encode\n",
      "3) Decode\n",
      "\n",
      "What do you want to do? 1\n",
      "text to be encoded: python rocks\n",
      "AQULEWKEMNJ\n",
      "SECRET DECODER MENU\n",
      "\n",
      "0) Quit\n",
      "1) Encode\n",
      "3) Decode\n",
      "\n",
      "What do you want to do? AQULEWKEMNJ\n",
      "I don't know what you want to do...\n",
      "SECRET DECODER MENU\n",
      "\n",
      "0) Quit\n",
      "1) Encode\n",
      "3) Decode\n",
      "\n",
      "What do you want to do? 2\n",
      "code to be decyphered: AQULEWKEMNJ\n",
      "PYTHONROCKS\n",
      "SECRET DECODER MENU\n",
      "\n",
      "0) Quit\n",
      "1) Encode\n",
      "3) Decode\n",
      "\n",
      "What do you want to do? 0\n",
      "Thanks for doing secret spy stuff with me.\n"
     ]
    }
   ],
   "source": []
  },
  {
   "cell_type": "code",
   "execution_count": 26,
   "metadata": {},
   "outputs": [
    {
     "data": {
      "text/plain": [
       "False"
      ]
     },
     "execution_count": 26,
     "metadata": {},
     "output_type": "execute_result"
    }
   ],
   "source": [
    "'AQULEWKEMNJ'\n",
    "'AQULEWVKEMNJ'"
   ]
  },
  {
   "cell_type": "code",
   "execution_count": null,
   "metadata": {},
   "outputs": [],
   "source": [
    "AQULEWKEMNJ\n",
    "AQULEWKEMNJ"
   ]
  }
 ],
 "metadata": {
  "kernelspec": {
   "display_name": "Python 3",
   "language": "python",
   "name": "python3"
  },
  "language_info": {
   "codemirror_mode": {
    "name": "ipython",
    "version": 3
   },
   "file_extension": ".py",
   "mimetype": "text/x-python",
   "name": "python",
   "nbconvert_exporter": "python",
   "pygments_lexer": "ipython3",
   "version": "3.8.5"
  }
 },
 "nbformat": 4,
 "nbformat_minor": 4
}
