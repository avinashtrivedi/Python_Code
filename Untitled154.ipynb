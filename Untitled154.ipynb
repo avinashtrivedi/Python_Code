{
 "cells": [
  {
   "cell_type": "code",
   "execution_count": 59,
   "metadata": {},
   "outputs": [],
   "source": [
    "# Loading data:\n",
    "# Import function for loading the 'boston' dataset.\n",
    "from sklearn.datasets import load_boston\n",
    "# Load a 'bunch' containing data and descriptions.\n",
    "boston_bunch = load_boston()\n",
    "# Extract and store predictor variables.\n",
    "X = boston_bunch.data\n",
    "# Extract and store the variable that is the target for prediction.\n",
    "y = boston_bunch.target\n",
    "# Extract and store labels of predictor variables.\n",
    "labels = boston_bunch.feature_names"
   ]
  },
  {
   "cell_type": "code",
   "execution_count": 60,
   "metadata": {},
   "outputs": [],
   "source": [
    "df = pd.DataFrame(X,columns=boston.feature_names)"
   ]
  },
  {
   "cell_type": "code",
   "execution_count": 61,
   "metadata": {},
   "outputs": [
    {
     "data": {
      "text/html": [
       "<div>\n",
       "<style scoped>\n",
       "    .dataframe tbody tr th:only-of-type {\n",
       "        vertical-align: middle;\n",
       "    }\n",
       "\n",
       "    .dataframe tbody tr th {\n",
       "        vertical-align: top;\n",
       "    }\n",
       "\n",
       "    .dataframe thead th {\n",
       "        text-align: right;\n",
       "    }\n",
       "</style>\n",
       "<table border=\"1\" class=\"dataframe\">\n",
       "  <thead>\n",
       "    <tr style=\"text-align: right;\">\n",
       "      <th></th>\n",
       "      <th>CRIM</th>\n",
       "      <th>ZN</th>\n",
       "      <th>INDUS</th>\n",
       "      <th>CHAS</th>\n",
       "      <th>NOX</th>\n",
       "      <th>RM</th>\n",
       "      <th>AGE</th>\n",
       "      <th>DIS</th>\n",
       "      <th>RAD</th>\n",
       "      <th>TAX</th>\n",
       "      <th>PTRATIO</th>\n",
       "      <th>B</th>\n",
       "      <th>LSTAT</th>\n",
       "    </tr>\n",
       "  </thead>\n",
       "  <tbody>\n",
       "    <tr>\n",
       "      <th>0</th>\n",
       "      <td>0.00632</td>\n",
       "      <td>18.0</td>\n",
       "      <td>2.31</td>\n",
       "      <td>0.0</td>\n",
       "      <td>0.538</td>\n",
       "      <td>6.575</td>\n",
       "      <td>65.2</td>\n",
       "      <td>4.0900</td>\n",
       "      <td>1.0</td>\n",
       "      <td>296.0</td>\n",
       "      <td>15.3</td>\n",
       "      <td>396.90</td>\n",
       "      <td>4.98</td>\n",
       "    </tr>\n",
       "    <tr>\n",
       "      <th>1</th>\n",
       "      <td>0.02731</td>\n",
       "      <td>0.0</td>\n",
       "      <td>7.07</td>\n",
       "      <td>0.0</td>\n",
       "      <td>0.469</td>\n",
       "      <td>6.421</td>\n",
       "      <td>78.9</td>\n",
       "      <td>4.9671</td>\n",
       "      <td>2.0</td>\n",
       "      <td>242.0</td>\n",
       "      <td>17.8</td>\n",
       "      <td>396.90</td>\n",
       "      <td>9.14</td>\n",
       "    </tr>\n",
       "    <tr>\n",
       "      <th>2</th>\n",
       "      <td>0.02729</td>\n",
       "      <td>0.0</td>\n",
       "      <td>7.07</td>\n",
       "      <td>0.0</td>\n",
       "      <td>0.469</td>\n",
       "      <td>7.185</td>\n",
       "      <td>61.1</td>\n",
       "      <td>4.9671</td>\n",
       "      <td>2.0</td>\n",
       "      <td>242.0</td>\n",
       "      <td>17.8</td>\n",
       "      <td>392.83</td>\n",
       "      <td>4.03</td>\n",
       "    </tr>\n",
       "    <tr>\n",
       "      <th>3</th>\n",
       "      <td>0.03237</td>\n",
       "      <td>0.0</td>\n",
       "      <td>2.18</td>\n",
       "      <td>0.0</td>\n",
       "      <td>0.458</td>\n",
       "      <td>6.998</td>\n",
       "      <td>45.8</td>\n",
       "      <td>6.0622</td>\n",
       "      <td>3.0</td>\n",
       "      <td>222.0</td>\n",
       "      <td>18.7</td>\n",
       "      <td>394.63</td>\n",
       "      <td>2.94</td>\n",
       "    </tr>\n",
       "    <tr>\n",
       "      <th>4</th>\n",
       "      <td>0.06905</td>\n",
       "      <td>0.0</td>\n",
       "      <td>2.18</td>\n",
       "      <td>0.0</td>\n",
       "      <td>0.458</td>\n",
       "      <td>7.147</td>\n",
       "      <td>54.2</td>\n",
       "      <td>6.0622</td>\n",
       "      <td>3.0</td>\n",
       "      <td>222.0</td>\n",
       "      <td>18.7</td>\n",
       "      <td>396.90</td>\n",
       "      <td>5.33</td>\n",
       "    </tr>\n",
       "    <tr>\n",
       "      <th>...</th>\n",
       "      <td>...</td>\n",
       "      <td>...</td>\n",
       "      <td>...</td>\n",
       "      <td>...</td>\n",
       "      <td>...</td>\n",
       "      <td>...</td>\n",
       "      <td>...</td>\n",
       "      <td>...</td>\n",
       "      <td>...</td>\n",
       "      <td>...</td>\n",
       "      <td>...</td>\n",
       "      <td>...</td>\n",
       "      <td>...</td>\n",
       "    </tr>\n",
       "    <tr>\n",
       "      <th>501</th>\n",
       "      <td>0.06263</td>\n",
       "      <td>0.0</td>\n",
       "      <td>11.93</td>\n",
       "      <td>0.0</td>\n",
       "      <td>0.573</td>\n",
       "      <td>6.593</td>\n",
       "      <td>69.1</td>\n",
       "      <td>2.4786</td>\n",
       "      <td>1.0</td>\n",
       "      <td>273.0</td>\n",
       "      <td>21.0</td>\n",
       "      <td>391.99</td>\n",
       "      <td>9.67</td>\n",
       "    </tr>\n",
       "    <tr>\n",
       "      <th>502</th>\n",
       "      <td>0.04527</td>\n",
       "      <td>0.0</td>\n",
       "      <td>11.93</td>\n",
       "      <td>0.0</td>\n",
       "      <td>0.573</td>\n",
       "      <td>6.120</td>\n",
       "      <td>76.7</td>\n",
       "      <td>2.2875</td>\n",
       "      <td>1.0</td>\n",
       "      <td>273.0</td>\n",
       "      <td>21.0</td>\n",
       "      <td>396.90</td>\n",
       "      <td>9.08</td>\n",
       "    </tr>\n",
       "    <tr>\n",
       "      <th>503</th>\n",
       "      <td>0.06076</td>\n",
       "      <td>0.0</td>\n",
       "      <td>11.93</td>\n",
       "      <td>0.0</td>\n",
       "      <td>0.573</td>\n",
       "      <td>6.976</td>\n",
       "      <td>91.0</td>\n",
       "      <td>2.1675</td>\n",
       "      <td>1.0</td>\n",
       "      <td>273.0</td>\n",
       "      <td>21.0</td>\n",
       "      <td>396.90</td>\n",
       "      <td>5.64</td>\n",
       "    </tr>\n",
       "    <tr>\n",
       "      <th>504</th>\n",
       "      <td>0.10959</td>\n",
       "      <td>0.0</td>\n",
       "      <td>11.93</td>\n",
       "      <td>0.0</td>\n",
       "      <td>0.573</td>\n",
       "      <td>6.794</td>\n",
       "      <td>89.3</td>\n",
       "      <td>2.3889</td>\n",
       "      <td>1.0</td>\n",
       "      <td>273.0</td>\n",
       "      <td>21.0</td>\n",
       "      <td>393.45</td>\n",
       "      <td>6.48</td>\n",
       "    </tr>\n",
       "    <tr>\n",
       "      <th>505</th>\n",
       "      <td>0.04741</td>\n",
       "      <td>0.0</td>\n",
       "      <td>11.93</td>\n",
       "      <td>0.0</td>\n",
       "      <td>0.573</td>\n",
       "      <td>6.030</td>\n",
       "      <td>80.8</td>\n",
       "      <td>2.5050</td>\n",
       "      <td>1.0</td>\n",
       "      <td>273.0</td>\n",
       "      <td>21.0</td>\n",
       "      <td>396.90</td>\n",
       "      <td>7.88</td>\n",
       "    </tr>\n",
       "  </tbody>\n",
       "</table>\n",
       "<p>506 rows × 13 columns</p>\n",
       "</div>"
      ],
      "text/plain": [
       "        CRIM    ZN  INDUS  CHAS    NOX     RM   AGE     DIS  RAD    TAX  \\\n",
       "0    0.00632  18.0   2.31   0.0  0.538  6.575  65.2  4.0900  1.0  296.0   \n",
       "1    0.02731   0.0   7.07   0.0  0.469  6.421  78.9  4.9671  2.0  242.0   \n",
       "2    0.02729   0.0   7.07   0.0  0.469  7.185  61.1  4.9671  2.0  242.0   \n",
       "3    0.03237   0.0   2.18   0.0  0.458  6.998  45.8  6.0622  3.0  222.0   \n",
       "4    0.06905   0.0   2.18   0.0  0.458  7.147  54.2  6.0622  3.0  222.0   \n",
       "..       ...   ...    ...   ...    ...    ...   ...     ...  ...    ...   \n",
       "501  0.06263   0.0  11.93   0.0  0.573  6.593  69.1  2.4786  1.0  273.0   \n",
       "502  0.04527   0.0  11.93   0.0  0.573  6.120  76.7  2.2875  1.0  273.0   \n",
       "503  0.06076   0.0  11.93   0.0  0.573  6.976  91.0  2.1675  1.0  273.0   \n",
       "504  0.10959   0.0  11.93   0.0  0.573  6.794  89.3  2.3889  1.0  273.0   \n",
       "505  0.04741   0.0  11.93   0.0  0.573  6.030  80.8  2.5050  1.0  273.0   \n",
       "\n",
       "     PTRATIO       B  LSTAT  \n",
       "0       15.3  396.90   4.98  \n",
       "1       17.8  396.90   9.14  \n",
       "2       17.8  392.83   4.03  \n",
       "3       18.7  394.63   2.94  \n",
       "4       18.7  396.90   5.33  \n",
       "..       ...     ...    ...  \n",
       "501     21.0  391.99   9.67  \n",
       "502     21.0  396.90   9.08  \n",
       "503     21.0  396.90   5.64  \n",
       "504     21.0  393.45   6.48  \n",
       "505     21.0  396.90   7.88  \n",
       "\n",
       "[506 rows x 13 columns]"
      ]
     },
     "execution_count": 61,
     "metadata": {},
     "output_type": "execute_result"
    }
   ],
   "source": [
    "df"
   ]
  },
  {
   "cell_type": "code",
   "execution_count": 62,
   "metadata": {},
   "outputs": [],
   "source": [
    "df['MEDV'] = y"
   ]
  },
  {
   "cell_type": "code",
   "execution_count": 63,
   "metadata": {},
   "outputs": [
    {
     "data": {
      "text/plain": [
       "array([[6.3200e-03, 1.8000e+01],\n",
       "       [2.7310e-02, 0.0000e+00],\n",
       "       [2.7290e-02, 0.0000e+00],\n",
       "       ...,\n",
       "       [6.0760e-02, 0.0000e+00],\n",
       "       [1.0959e-01, 0.0000e+00],\n",
       "       [4.7410e-02, 0.0000e+00]])"
      ]
     },
     "execution_count": 63,
     "metadata": {},
     "output_type": "execute_result"
    }
   ],
   "source": [
    "X[:,[0,1]]"
   ]
  },
  {
   "cell_type": "code",
   "execution_count": 64,
   "metadata": {},
   "outputs": [],
   "source": [
    "from sklearn.model_selection import train_test_split\n",
    "X_train, X_test, y_train, y_test = train_test_split(X,y, test_size = 0.3, random_state = 553)"
   ]
  },
  {
   "cell_type": "code",
   "execution_count": 65,
   "metadata": {},
   "outputs": [],
   "source": [
    "from sklearn.linear_model import LinearRegression"
   ]
  },
  {
   "cell_type": "code",
   "execution_count": 66,
   "metadata": {},
   "outputs": [],
   "source": [
    "from sklearn.linear_model import LinearRegression\n",
    "from sklearn import metrics\n",
    "lm = LinearRegression()\n",
    "lm.fit(X_train,y_train)\n",
    "Y_pred_train = lm.predict(X_train) #predictions on training data\n",
    "Y_pred_test = lm.predict(X_test) "
   ]
  },
  {
   "cell_type": "code",
   "execution_count": 67,
   "metadata": {},
   "outputs": [
    {
     "data": {
      "text/plain": [
       "array([17.7, 16.7, 37.3, 16.8, 13.1, 18.9, 21.7, 35.1, 14.6, 30.1, 19.1,\n",
       "       19.9, 23.8, 23.4, 28. , 34.9, 21.7, 20.1, 22. , 29.9, 17.8, 23.1,\n",
       "       14. , 24.6, 18.4, 18.8,  7. , 27.5, 17.4, 20.8, 26.6, 16. ,  5. ,\n",
       "       13.4, 23.2, 21.2, 26.6, 25. , 24.8, 23.9, 13.5, 19.3, 25. , 17.2,\n",
       "       24.4, 12.3, 23.9, 13.6, 19.5, 23.2, 19.4, 21. , 50. , 21.8, 18.2,\n",
       "       20. , 37.9, 19.1, 32.9, 12.7, 29.1, 25. , 23. , 26.2, 19.2, 19.6,\n",
       "       13.8, 27.9, 17.5, 25.2, 22.2, 14.3, 22. ,  8.3, 22.8, 23.6, 20.6,\n",
       "       13.8, 22. , 29. ,  8.5, 12. , 48.5, 31.6, 24.4, 21.7, 22.5, 23.5,\n",
       "       21.4, 10.2, 32.5, 18.2, 23.1, 20.4, 19.3, 24.8, 28.6, 23.1, 19.9,\n",
       "       31. ,  8.3, 29. , 22.9,  5. , 19.2, 30.1, 19.5, 20.9, 15.4, 50. ,\n",
       "       32.4, 10.8, 48.3,  8.8, 28.2, 24.8, 21.6, 22. ,  9.7, 37.2, 14.1,\n",
       "       17.8, 23.1, 24.2, 17. , 21. , 30.8, 12.7, 32.7, 12.5, 22.6, 17.2,\n",
       "       20.5, 10.5, 28.7, 17.1, 19.7,  9.6, 18.6, 16.1, 13.6, 20.3, 20. ,\n",
       "       18.1, 27.5, 18.9, 17.8, 16.5, 50. , 18.3, 24.1, 20.1, 13.4, 20.1,\n",
       "       22. , 29.8, 13.4, 10.4, 12.6, 27.1, 13.8, 34.9, 50. , 33.1, 25. ,\n",
       "       18.9, 39.8, 11.8, 27.5, 23.1, 21.1, 20.7, 22.6, 18.2, 15.3, 24. ,\n",
       "       17.1, 23.8, 31.1, 16.4, 19.4, 19.5, 19.6, 29.8, 20. , 18.5, 50. ,\n",
       "       20.1, 22.9, 31.2, 42.3, 19.1,  6.3, 22.4, 16.6, 33.2, 33.4, 29.4,\n",
       "       36.2, 23.8, 14.5, 11. , 31.5, 15.6, 42.8, 23.9, 21.7, 20.3, 13.3,\n",
       "       23. , 19. , 17.2, 17.5, 23. , 41.7, 18.7, 15. , 20.4, 28.7, 38.7,\n",
       "       24.1, 33. , 50. , 14.5, 19.4, 16.7, 36. , 10.2, 20.6,  8.5, 22. ,\n",
       "       14.9, 21.6, 31.7, 36.2,  7.2, 20.9, 46. ,  7.5, 34.7, 24.3, 16.2,\n",
       "       20. , 18.6, 26.4, 13.3, 37.6, 18. , 24.5, 24.4, 35.4, 22.6, 24.3,\n",
       "       30.7, 15.6, 20.4, 21.7, 24. , 21.4, 10.4, 22.4, 14.4, 20.8, 23.9,\n",
       "       28.4, 13.5, 23.7, 30.3, 12.8, 50. , 22.5, 24.4, 26.5, 20.7, 19.6,\n",
       "       18.5, 22.9, 14.4, 22.2,  7. , 16.5, 18.8, 50. , 14.8, 20.5, 33.2,\n",
       "       23. , 13.1, 21.5, 12.7, 50. , 15.4, 18.4, 18.9, 43.1, 19.4, 19.6,\n",
       "       23.3, 22.3, 20.2, 22.3, 19.3, 24.1,  8.7, 11.9, 15.6, 13.1, 18.7,\n",
       "       23.8, 25. , 19.4, 50. , 19.3, 16.8, 20.6, 23.7, 19.6, 25. , 14.1,\n",
       "       22.9, 22.1, 32.2, 34.6, 17.8, 14.9, 16.1, 20.4, 22.7, 11.8, 32. ,\n",
       "       21. , 11.3, 21.4, 44.8,  9.5, 31.5,  7.2, 23.2, 15.2, 20.2, 20.6,\n",
       "       35.4,  8.4, 23.6, 15. , 15.1, 21.9, 25.3, 25.1, 21.7, 20.5, 16.6,\n",
       "       11.5, 19.8])"
      ]
     },
     "execution_count": 67,
     "metadata": {},
     "output_type": "execute_result"
    }
   ],
   "source": [
    "y_train"
   ]
  },
  {
   "cell_type": "code",
   "execution_count": 68,
   "metadata": {},
   "outputs": [
    {
     "data": {
      "text/plain": [
       "(354,)"
      ]
     },
     "execution_count": 68,
     "metadata": {},
     "output_type": "execute_result"
    }
   ],
   "source": [
    "Y_pred_train.shape"
   ]
  },
  {
   "cell_type": "code",
   "execution_count": 69,
   "metadata": {},
   "outputs": [
    {
     "name": "stdout",
     "output_type": "stream",
     "text": [
      "R^2: 0.7685160088338046\n"
     ]
    }
   ],
   "source": [
    "print('R^2:',metrics.r2_score(y_train, Y_pred_train))"
   ]
  },
  {
   "cell_type": "code",
   "execution_count": 70,
   "metadata": {},
   "outputs": [
    {
     "data": {
      "text/html": [
       "<div>\n",
       "<style scoped>\n",
       "    .dataframe tbody tr th:only-of-type {\n",
       "        vertical-align: middle;\n",
       "    }\n",
       "\n",
       "    .dataframe tbody tr th {\n",
       "        vertical-align: top;\n",
       "    }\n",
       "\n",
       "    .dataframe thead th {\n",
       "        text-align: right;\n",
       "    }\n",
       "</style>\n",
       "<table border=\"1\" class=\"dataframe\">\n",
       "  <thead>\n",
       "    <tr style=\"text-align: right;\">\n",
       "      <th></th>\n",
       "      <th>TRUE_MEDV</th>\n",
       "      <th>PRED_MEDV</th>\n",
       "    </tr>\n",
       "  </thead>\n",
       "  <tbody>\n",
       "    <tr>\n",
       "      <th>0</th>\n",
       "      <td>24.6</td>\n",
       "      <td>24.310994</td>\n",
       "    </tr>\n",
       "    <tr>\n",
       "      <th>1</th>\n",
       "      <td>5.6</td>\n",
       "      <td>11.967036</td>\n",
       "    </tr>\n",
       "    <tr>\n",
       "      <th>2</th>\n",
       "      <td>27.1</td>\n",
       "      <td>27.725955</td>\n",
       "    </tr>\n",
       "    <tr>\n",
       "      <th>3</th>\n",
       "      <td>21.9</td>\n",
       "      <td>24.362253</td>\n",
       "    </tr>\n",
       "    <tr>\n",
       "      <th>4</th>\n",
       "      <td>20.0</td>\n",
       "      <td>21.850916</td>\n",
       "    </tr>\n",
       "    <tr>\n",
       "      <th>...</th>\n",
       "      <td>...</td>\n",
       "      <td>...</td>\n",
       "    </tr>\n",
       "    <tr>\n",
       "      <th>147</th>\n",
       "      <td>21.7</td>\n",
       "      <td>24.436944</td>\n",
       "    </tr>\n",
       "    <tr>\n",
       "      <th>148</th>\n",
       "      <td>22.7</td>\n",
       "      <td>22.317679</td>\n",
       "    </tr>\n",
       "    <tr>\n",
       "      <th>149</th>\n",
       "      <td>13.4</td>\n",
       "      <td>13.652680</td>\n",
       "    </tr>\n",
       "    <tr>\n",
       "      <th>150</th>\n",
       "      <td>23.1</td>\n",
       "      <td>15.698922</td>\n",
       "    </tr>\n",
       "    <tr>\n",
       "      <th>151</th>\n",
       "      <td>18.7</td>\n",
       "      <td>21.519279</td>\n",
       "    </tr>\n",
       "  </tbody>\n",
       "</table>\n",
       "<p>152 rows × 2 columns</p>\n",
       "</div>"
      ],
      "text/plain": [
       "     TRUE_MEDV  PRED_MEDV\n",
       "0         24.6  24.310994\n",
       "1          5.6  11.967036\n",
       "2         27.1  27.725955\n",
       "3         21.9  24.362253\n",
       "4         20.0  21.850916\n",
       "..         ...        ...\n",
       "147       21.7  24.436944\n",
       "148       22.7  22.317679\n",
       "149       13.4  13.652680\n",
       "150       23.1  15.698922\n",
       "151       18.7  21.519279\n",
       "\n",
       "[152 rows x 2 columns]"
      ]
     },
     "execution_count": 70,
     "metadata": {},
     "output_type": "execute_result"
    }
   ],
   "source": [
    "pd.DataFrame({'TRUE_MEDV':y_test,'PRED_MEDV':Y_pred_test})"
   ]
  },
  {
   "cell_type": "code",
   "execution_count": 53,
   "metadata": {},
   "outputs": [],
   "source": [
    "# other model"
   ]
  },
  {
   "cell_type": "code",
   "execution_count": 72,
   "metadata": {},
   "outputs": [
    {
     "data": {
      "text/plain": [
       "array(['CRIM', 'ZN', 'INDUS', 'CHAS', 'NOX', 'RM', 'AGE', 'DIS', 'RAD',\n",
       "       'TAX', 'PTRATIO', 'B', 'LSTAT'], dtype='<U7')"
      ]
     },
     "execution_count": 72,
     "metadata": {},
     "output_type": "execute_result"
    }
   ],
   "source": [
    "boston.feature_names"
   ]
  },
  {
   "cell_type": "code",
   "execution_count": 73,
   "metadata": {},
   "outputs": [
    {
     "data": {
      "text/plain": [
       "array([[65.2   ,  0.538 ,  4.09  ,  1.    ],\n",
       "       [78.9   ,  0.469 ,  4.9671,  2.    ],\n",
       "       [61.1   ,  0.469 ,  4.9671,  2.    ],\n",
       "       ...,\n",
       "       [91.    ,  0.573 ,  2.1675,  1.    ],\n",
       "       [89.3   ,  0.573 ,  2.3889,  1.    ],\n",
       "       [80.8   ,  0.573 ,  2.505 ,  1.    ]])"
      ]
     },
     "execution_count": 73,
     "metadata": {},
     "output_type": "execute_result"
    }
   ],
   "source": [
    "#  AGE, NOX, DIS, and RAD\n",
    "X[:,[6,4,7,8]]"
   ]
  },
  {
   "cell_type": "code",
   "execution_count": 57,
   "metadata": {},
   "outputs": [],
   "source": [
    "X = df[['AGE','NOX','DIS','RAD']].values"
   ]
  },
  {
   "cell_type": "code",
   "execution_count": 74,
   "metadata": {},
   "outputs": [],
   "source": [
    "X_train1 = X_train[:,[6,4,7,8]]\n",
    "X_test1 = X_test[:,[6,4,7,8]]\n",
    "# y_train1 = y_train\n",
    "# y_test1 = y_test"
   ]
  },
  {
   "cell_type": "code",
   "execution_count": 75,
   "metadata": {},
   "outputs": [],
   "source": [
    "from sklearn.linear_model import LinearRegression\n",
    "from sklearn import metrics,accu\n",
    "lm = LinearRegression()\n",
    "lm.fit(X_train1,y_train)\n",
    "Y_pred_train = lm.predict(X_train1) #predictions on training data\n",
    "Y_pred_test = lm.predict(X_test1) "
   ]
  },
  {
   "cell_type": "code",
   "execution_count": null,
   "metadata": {},
   "outputs": [],
   "source": []
  },
  {
   "cell_type": "code",
   "execution_count": 76,
   "metadata": {},
   "outputs": [
    {
     "data": {
      "text/plain": [
       "LinearRegression()"
      ]
     },
     "execution_count": 76,
     "metadata": {},
     "output_type": "execute_result"
    }
   ],
   "source": [
    "from sklearn.preprocessing import PolynomialFeatures\n",
    "poly_reg = PolynomialFeatures(degree = 2)\n",
    "X_train_poly = poly_reg.fit_transform(X_train)\n",
    "lin_reg_2 = LinearRegression()\n",
    "lin_reg_2.fit(X_train_poly, y_train)"
   ]
  },
  {
   "cell_type": "code",
   "execution_count": 80,
   "metadata": {},
   "outputs": [
    {
     "data": {
      "text/plain": [
       "array([25.91258955,  6.91835499, 26.01584911, 22.03777313, 23.53863144,\n",
       "       14.29837322, 25.13440943, 45.55455732, 39.34016132, 15.65717649,\n",
       "       16.54477549, 13.94166088, 18.05071592, 12.62457418, 46.79723835,\n",
       "       22.34524298, -8.39948368,  7.92577934, 28.86575365, 20.23113918,\n",
       "       28.80390358, 15.64372015, 52.53038645, 31.9400382 , 20.77567101,\n",
       "       26.18162203, 30.30617189, 21.32706928, 18.07839346, 35.00674629,\n",
       "       36.53756809, 15.74374104, 19.71033335, 11.80048466, 12.16492796,\n",
       "       31.30170965, 29.06697607, 25.33246899, 19.15313721, 23.95540524,\n",
       "       16.20704365, 21.29828072, 17.96698332, 46.92250538, 20.63535213,\n",
       "       32.89738655, 25.72145605, 28.78594303, 18.30751133, 25.73722172,\n",
       "       27.65494394, 34.99403   , 42.55891418, 18.93548346, 28.42877007,\n",
       "       24.38913488, 13.75883579, 26.50713062, 15.49271107, 23.35326624,\n",
       "       20.1968255 , 30.41256857, 28.67382526, 30.92303705, 37.9249649 ,\n",
       "       26.29123163,  5.56570292, 39.93599033, 22.80414963, 17.78446579,\n",
       "       18.2175808 , 32.20501947, 17.41522312, 18.76932764, 33.02294683,\n",
       "        3.25364351, 13.55601025, 20.21329784, 49.83620644, 35.13253307,\n",
       "       21.53044605, 25.17274475, 20.15586758, 25.84723377, 43.50861931,\n",
       "       12.5154891 , 33.23153019, 26.20146179, 18.5756135 ,  8.94676638,\n",
       "       18.05738831, 22.16617918, 17.96833563, 32.29351568, 19.79952097,\n",
       "       24.45528841, 12.30761719,  5.55927038, 15.37421846, 20.20710611,\n",
       "       19.44856548, 15.23351383, 30.83011293,  8.07004499, 17.55294371,\n",
       "       12.56267166, 14.8217454 , 21.63098669, 19.55564928, 17.16107416,\n",
       "       17.60149193, 23.5643754 , 35.55788946, 19.5552659 , 13.83460474,\n",
       "       12.16451168, 40.24173832, 46.72472239, 25.68016624, 21.03113651,\n",
       "       10.97778511, 17.62557125, 15.54596281, 22.59796524, 16.35171604,\n",
       "       23.85001516, 38.51152372, 16.4475131 , 20.16722059, 31.09150648,\n",
       "        5.4133954 , 21.48581362, 24.54737377, 21.72408295, 16.51729822,\n",
       "       28.26470327, 46.76120138, 23.76476479, 26.45766687, 12.9139986 ,\n",
       "       40.66034126, 29.64681816, 16.23862791, 21.49898767, 13.05869961,\n",
       "       12.13204813,  6.7150321 , 21.51135302, 22.97698832, 12.30410337,\n",
       "       27.59341145, 21.26340389])"
      ]
     },
     "execution_count": 80,
     "metadata": {},
     "output_type": "execute_result"
    }
   ],
   "source": [
    "lin_reg_2.predict(poly_reg.fit_transform(X_train))\n",
    "lin_reg_2.predict(poly_reg.fit_transform(X_test))"
   ]
  },
  {
   "cell_type": "code",
   "execution_count": 81,
   "metadata": {},
   "outputs": [],
   "source": [
    "from sklearn.metrics import accuracy_score"
   ]
  },
  {
   "cell_type": "code",
   "execution_count": 82,
   "metadata": {},
   "outputs": [
    {
     "ename": "NameError",
     "evalue": "name 'y_true' is not defined",
     "output_type": "error",
     "traceback": [
      "\u001b[1;31m---------------------------------------------------------------------------\u001b[0m",
      "\u001b[1;31mNameError\u001b[0m                                 Traceback (most recent call last)",
      "\u001b[1;32m<ipython-input-82-098aa438ce89>\u001b[0m in \u001b[0;36m<module>\u001b[1;34m\u001b[0m\n\u001b[1;32m----> 1\u001b[1;33m \u001b[0maccuracy_score\u001b[0m\u001b[1;33m(\u001b[0m\u001b[0my_true\u001b[0m\u001b[1;33m,\u001b[0m \u001b[0my_pred\u001b[0m\u001b[1;33m)\u001b[0m\u001b[1;33m\u001b[0m\u001b[1;33m\u001b[0m\u001b[0m\n\u001b[0m",
      "\u001b[1;31mNameError\u001b[0m: name 'y_true' is not defined"
     ]
    }
   ],
   "source": [
    "accuracy_score(y_true, y_pred)"
   ]
  },
  {
   "cell_type": "code",
   "execution_count": null,
   "metadata": {},
   "outputs": [],
   "source": []
  }
 ],
 "metadata": {
  "kernelspec": {
   "display_name": "Python 3",
   "language": "python",
   "name": "python3"
  },
  "language_info": {
   "codemirror_mode": {
    "name": "ipython",
    "version": 3
   },
   "file_extension": ".py",
   "mimetype": "text/x-python",
   "name": "python",
   "nbconvert_exporter": "python",
   "pygments_lexer": "ipython3",
   "version": "3.8.5"
  }
 },
 "nbformat": 4,
 "nbformat_minor": 4
}
