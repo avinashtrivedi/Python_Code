{
 "cells": [
  {
   "cell_type": "code",
   "execution_count": 6,
   "metadata": {},
   "outputs": [],
   "source": [
    "class Enlistee:\n",
    "    def __init__(self, enlisteeName, enlisteeNumber):\n",
    "        self.__enlisteeName = enlisteeName\n",
    "        self.__enlisteeNumber = enlisteeNumber\n",
    "\n",
    "    def set_enlisteeName(self,enlisteeName):\n",
    "        self.__enlisteeName = enlisteeName\n",
    "\n",
    "    def set_enlisteeNumber(self,enlisteeNumber):\n",
    "        self.__enlisteeNumber = enlisteeNumber\n",
    "\n",
    "    def get_enlisteeName(self):\n",
    "        return self.__enlisteeName\n",
    "\n",
    "    def get_enlisteeNumber(self):\n",
    "        return self.__enlisteeNumber\n",
    "\n",
    "       \n",
    "class Private(Enlistee):\n",
    "    def __init__(self, enlisteeName, enlisteeNumber, platoonNumber, serviceYears):\n",
    "        Enlistee.__init__(self, enlisteeName, enlisteeNumber)\n",
    "        self.__platoonNumber = platoonNumber\n",
    "        self.__serviceYears = serviceYears\n",
    "\n",
    "    def set_platoonNumber(self, platoonNumber):\n",
    "        self.__platoonNumber = platoonNumber\n",
    "\n",
    "    def set_serviceYears(self, serviceYears):\n",
    "        self.__serviceYears = serviceYears\n",
    "\n",
    "    def get_platoonNumber(self):\n",
    "        return self.__platoonNumber\n",
    "\n",
    "    def get_serviceYears(self):\n",
    "        return self.__serviceYears"
   ]
  },
  {
   "cell_type": "code",
   "execution_count": 5,
   "metadata": {},
   "outputs": [
    {
     "name": "stdout",
     "output_type": "stream",
     "text": [
      "Enter the Private's full name: aaa\n",
      "Enter the Private's enlistee number: 141\n",
      "Enter the platoon number: 52\n",
      "Enter the Private's years of service: 2\n",
      "Private's name:  aaa\n"
     ]
    },
    {
     "ename": "AttributeError",
     "evalue": "'Private' object has no attribute '_Enlistee__enlisteeNumber'",
     "output_type": "error",
     "traceback": [
      "\u001b[1;31m---------------------------------------------------------------------------\u001b[0m",
      "\u001b[1;31mAttributeError\u001b[0m                            Traceback (most recent call last)",
      "\u001b[1;32m<ipython-input-5-f51fc45cbce6>\u001b[0m in \u001b[0;36m<module>\u001b[1;34m\u001b[0m\n\u001b[0;32m     13\u001b[0m     \u001b[0mprint\u001b[0m\u001b[1;33m(\u001b[0m\u001b[1;34m'Platoon number: '\u001b[0m\u001b[1;33m,\u001b[0m\u001b[0marmy_private\u001b[0m\u001b[1;33m.\u001b[0m\u001b[0mget_platoonNumber\u001b[0m\u001b[1;33m(\u001b[0m\u001b[1;33m)\u001b[0m\u001b[1;33m)\u001b[0m\u001b[1;33m\u001b[0m\u001b[1;33m\u001b[0m\u001b[0m\n\u001b[0;32m     14\u001b[0m     \u001b[0mprint\u001b[0m\u001b[1;33m(\u001b[0m\u001b[1;34m'Years of service: '\u001b[0m\u001b[1;33m,\u001b[0m\u001b[0marmy_private\u001b[0m\u001b[1;33m.\u001b[0m\u001b[0mget_serviceYears\u001b[0m\u001b[1;33m(\u001b[0m\u001b[1;33m)\u001b[0m\u001b[1;33m)\u001b[0m\u001b[1;33m\u001b[0m\u001b[1;33m\u001b[0m\u001b[0m\n\u001b[1;32m---> 15\u001b[1;33m \u001b[0mmain\u001b[0m\u001b[1;33m(\u001b[0m\u001b[1;33m)\u001b[0m\u001b[1;33m\u001b[0m\u001b[1;33m\u001b[0m\u001b[0m\n\u001b[0m",
      "\u001b[1;32m<ipython-input-5-f51fc45cbce6>\u001b[0m in \u001b[0;36mmain\u001b[1;34m()\u001b[0m\n\u001b[0;32m     10\u001b[0m \u001b[1;33m\u001b[0m\u001b[0m\n\u001b[0;32m     11\u001b[0m     \u001b[0mprint\u001b[0m\u001b[1;33m(\u001b[0m\u001b[1;34m'Private\\'s name: '\u001b[0m\u001b[1;33m,\u001b[0m\u001b[0marmy_private\u001b[0m\u001b[1;33m.\u001b[0m\u001b[0mget_enlisteeName\u001b[0m\u001b[1;33m(\u001b[0m\u001b[1;33m)\u001b[0m\u001b[1;33m)\u001b[0m\u001b[1;33m\u001b[0m\u001b[1;33m\u001b[0m\u001b[0m\n\u001b[1;32m---> 12\u001b[1;33m     \u001b[0mprint\u001b[0m\u001b[1;33m(\u001b[0m\u001b[1;34m'Enlistee number: '\u001b[0m\u001b[1;33m,\u001b[0m\u001b[0marmy_private\u001b[0m\u001b[1;33m.\u001b[0m\u001b[0mget_enlisteeNumber\u001b[0m\u001b[1;33m(\u001b[0m\u001b[1;33m)\u001b[0m\u001b[1;33m)\u001b[0m\u001b[1;33m\u001b[0m\u001b[1;33m\u001b[0m\u001b[0m\n\u001b[0m\u001b[0;32m     13\u001b[0m     \u001b[0mprint\u001b[0m\u001b[1;33m(\u001b[0m\u001b[1;34m'Platoon number: '\u001b[0m\u001b[1;33m,\u001b[0m\u001b[0marmy_private\u001b[0m\u001b[1;33m.\u001b[0m\u001b[0mget_platoonNumber\u001b[0m\u001b[1;33m(\u001b[0m\u001b[1;33m)\u001b[0m\u001b[1;33m)\u001b[0m\u001b[1;33m\u001b[0m\u001b[1;33m\u001b[0m\u001b[0m\n\u001b[0;32m     14\u001b[0m     \u001b[0mprint\u001b[0m\u001b[1;33m(\u001b[0m\u001b[1;34m'Years of service: '\u001b[0m\u001b[1;33m,\u001b[0m\u001b[0marmy_private\u001b[0m\u001b[1;33m.\u001b[0m\u001b[0mget_serviceYears\u001b[0m\u001b[1;33m(\u001b[0m\u001b[1;33m)\u001b[0m\u001b[1;33m)\u001b[0m\u001b[1;33m\u001b[0m\u001b[1;33m\u001b[0m\u001b[0m\n",
      "\u001b[1;32m~\\OneDrive\\Documents\\Python Scripts\\MyCode\\armyranks.py\u001b[0m in \u001b[0;36mget_enlisteeNumber\u001b[1;34m(self)\u001b[0m\n\u001b[0;32m     14\u001b[0m \u001b[1;33m\u001b[0m\u001b[0m\n\u001b[0;32m     15\u001b[0m     \u001b[1;32mdef\u001b[0m \u001b[0mget_enlisteeNumber\u001b[0m\u001b[1;33m(\u001b[0m\u001b[0mself\u001b[0m\u001b[1;33m)\u001b[0m\u001b[1;33m:\u001b[0m\u001b[1;33m\u001b[0m\u001b[1;33m\u001b[0m\u001b[0m\n\u001b[1;32m---> 16\u001b[1;33m         \u001b[1;32mreturn\u001b[0m \u001b[0mself\u001b[0m\u001b[1;33m.\u001b[0m\u001b[0m__enlisteeNumber\u001b[0m\u001b[1;33m\u001b[0m\u001b[1;33m\u001b[0m\u001b[0m\n\u001b[0m\u001b[0;32m     17\u001b[0m \u001b[1;33m\u001b[0m\u001b[0m\n\u001b[0;32m     18\u001b[0m \u001b[1;33m\u001b[0m\u001b[0m\n",
      "\u001b[1;31mAttributeError\u001b[0m: 'Private' object has no attribute '_Enlistee__enlisteeNumber'"
     ]
    }
   ],
   "source": [
    "import armyranks\n",
    "def main():\n",
    "    name = input(\"Enter the Private's full name: \")\n",
    "    e_number = input(\"Enter the Private's enlistee number: \")\n",
    "    p_number = input(\"Enter the platoon number: \")\n",
    "    s_years = input(\"Enter the Private's years of service: \")\n",
    "\n",
    "    army_private = armyranks.Private(name,e_number,p_number,s_years)\n",
    "\n",
    "\n",
    "    print('Private\\'s name: ',army_private.get_enlisteeName())\n",
    "    print('Enlistee number: ',army_private.get_enlisteeNumber())\n",
    "    print('Platoon number: ',army_private.get_platoonNumber())\n",
    "    print('Years of service: ',army_private.get_serviceYears())\n",
    "main()"
   ]
  },
  {
   "cell_type": "code",
   "execution_count": null,
   "metadata": {},
   "outputs": [],
   "source": []
  }
 ],
 "metadata": {
  "kernelspec": {
   "display_name": "Python 3",
   "language": "python",
   "name": "python3"
  },
  "language_info": {
   "codemirror_mode": {
    "name": "ipython",
    "version": 3
   },
   "file_extension": ".py",
   "mimetype": "text/x-python",
   "name": "python",
   "nbconvert_exporter": "python",
   "pygments_lexer": "ipython3",
   "version": "3.8.5"
  }
 },
 "nbformat": 4,
 "nbformat_minor": 4
}
