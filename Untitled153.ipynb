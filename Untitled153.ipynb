{
 "cells": [
  {
   "cell_type": "code",
   "execution_count": 29,
   "metadata": {},
   "outputs": [
    {
     "name": "stdout",
     "output_type": "stream",
     "text": [
      "[29.9, 14.99, 6.99, 7.99]\n",
      "['CORN', 'POTATOES', 'CHIPS', 'MEAT', {'10/31/1984': 35.5}]\n"
     ]
    }
   ],
   "source": [
    "grocery_list = ['Corn',29.9,'Potatoes',14.99,'Chips',6.99,'Meat',7.99,{\"10/31/1984\":35.5}]\n",
    "\n",
    "numeric = []\n",
    "non_numeric = []\n",
    "\n",
    "def cases(iterable):\n",
    "    \n",
    "    # Here enumerate will give index position and element\n",
    "    for indx,element in enumerate(iterable):\n",
    "        if isinstance(element,int) or isinstance(element,float):\n",
    "            numeric.append(element)\n",
    "        elif isinstance(element,str):\n",
    "            non_numeric.append(element.upper())\n",
    "        else:\n",
    "            non_numeric.append(element)\n",
    "    print(numeric)\n",
    "    print(non_numeric)\n",
    "\n",
    "cases(grocery_list)"
   ]
  },
  {
   "cell_type": "code",
   "execution_count": null,
   "metadata": {},
   "outputs": [],
   "source": []
  }
 ],
 "metadata": {
  "kernelspec": {
   "display_name": "Python 3",
   "language": "python",
   "name": "python3"
  },
  "language_info": {
   "codemirror_mode": {
    "name": "ipython",
    "version": 3
   },
   "file_extension": ".py",
   "mimetype": "text/x-python",
   "name": "python",
   "nbconvert_exporter": "python",
   "pygments_lexer": "ipython3",
   "version": "3.8.5"
  }
 },
 "nbformat": 4,
 "nbformat_minor": 4
}
