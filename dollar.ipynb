{
 "cells": [
  {
   "cell_type": "code",
   "execution_count": 1,
   "metadata": {},
   "outputs": [
    {
     "name": "stdout",
     "output_type": "stream",
     "text": [
      "Enter the number of pennies: 100\n",
      "Enter the number of nickels: 0\n",
      "Enter the number of dimes: 0\n",
      "Enter the number of quarters: 0\n",
      "Congratulations!\n",
      "The amount you entered was exactly one dollar!\n",
      "You win the game!\n"
     ]
    }
   ],
   "source": [
    "# try-except block to handle exceptions\n",
    "try:\n",
    "    \n",
    "    # receive user input\n",
    "    p = int(input(\"Enter the number of pennies: \"))\n",
    "    n = int(input(\"Enter the number of nickels: \"))\n",
    "    d = int(input(\"Enter the number of dimes: \"))\n",
    "    q = int(input(\"Enter the number of quarters: \"))\n",
    "\n",
    "    \n",
    "    # 1 pennies = 1 cent\n",
    "    # 1 nickels = 5 cent\n",
    "    # 1 dimes = 10 cent\n",
    "    # 1 quarters = 25\n",
    "    \n",
    "    # Compute the total cent\n",
    "    total = p + 5*n + 10*d + 25*q\n",
    "\n",
    "    # Check the different conditions.\n",
    "    # 100 cent = 1 dollar\n",
    "    if total==100:\n",
    "        print(\"Congratulations!\")\n",
    "        print(\"The amount you entered was exactly one dollar!\")\n",
    "        print(\"You win the game!\")\n",
    "    elif total>100:\n",
    "        print(\"The amount you entered was more than one dollar!\")\n",
    "    else:\n",
    "        print(\"The amount you entered was less than one dollar!\")\n",
    "except:\n",
    "    print(\"Wrong inputs\")"
   ]
  },
  {
   "cell_type": "code",
   "execution_count": null,
   "metadata": {},
   "outputs": [],
   "source": []
  }
 ],
 "metadata": {
  "kernelspec": {
   "display_name": "Python 3",
   "language": "python",
   "name": "python3"
  },
  "language_info": {
   "codemirror_mode": {
    "name": "ipython",
    "version": 3
   },
   "file_extension": ".py",
   "mimetype": "text/x-python",
   "name": "python",
   "nbconvert_exporter": "python",
   "pygments_lexer": "ipython3",
   "version": "3.8.5"
  }
 },
 "nbformat": 4,
 "nbformat_minor": 4
}
