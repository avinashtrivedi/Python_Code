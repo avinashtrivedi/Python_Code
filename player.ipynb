{
 "cells": [
  {
   "cell_type": "code",
   "execution_count": 1,
   "metadata": {},
   "outputs": [],
   "source": [
    "def common_players(roster):\n",
    "    \"\"\"Returns a dictionary containing values along with a corresponding\n",
    "    list of keys that had that value from the original dictionary.\n",
    "    >>> full_roster = {\"bob\": \"Team A\", \"barnum\": \"Team B\", \"beatrice\": \"Team C\", \"bernice\": \"Team B\", \"ben\": \"Team D\", \"belle\": \"Team A\", \"bill\": \"Team B\", \"bernie\": \"Team B\", \"baxter\": \"Team A\"}\n",
    "    >>> common_players(full_roster)\n",
    "    {'Team A': ['bob', 'belle', 'baxter'], 'Team B': ['barnum', 'bernice', 'bill', 'bernie'], 'Team C': ['beatrice'], 'Team D': ['ben']}\n",
    "    \"\"\"\n",
    "    \n",
    "    # define a new empty dictionary\n",
    "    new_dict = {}\n",
    "    \n",
    "    # iterate through the items of roster\n",
    "    for val,key in roster.items():\n",
    "        \n",
    "        # add key and value to the new dictionary\n",
    "        # if key is not present then add the key:value pair\n",
    "        if key not in new_dict:\n",
    "            new_dict[key] = [val]\n",
    "        \n",
    "        # if key is present then append the value for the corresponding key\n",
    "        else:\n",
    "            new_dict[key].append(val)\n",
    "            \n",
    "    # finally return the new_dict\n",
    "    return new_dict"
   ]
  },
  {
   "cell_type": "code",
   "execution_count": 2,
   "metadata": {},
   "outputs": [
    {
     "data": {
      "text/plain": [
       "{'Team A': ['bob', 'belle', 'baxter'],\n",
       " 'Team B': ['barnum', 'bernice', 'bill', 'bernie'],\n",
       " 'Team C': ['beatrice'],\n",
       " 'Team D': ['ben']}"
      ]
     },
     "execution_count": 2,
     "metadata": {},
     "output_type": "execute_result"
    }
   ],
   "source": [
    "full_roster = {\"bob\": \"Team A\", \"barnum\": \"Team B\", \"beatrice\": \"Team C\", \"bernice\": \n",
    "               \"Team B\", \"ben\": \"Team D\", \"belle\": \"Team A\", \"bill\": \"Team B\", \n",
    "               \"bernie\": \"Team B\", \"baxter\": \"Team A\"}\n",
    "common_players(full_roster)"
   ]
  },
  {
   "cell_type": "code",
   "execution_count": null,
   "metadata": {},
   "outputs": [],
   "source": []
  }
 ],
 "metadata": {
  "kernelspec": {
   "display_name": "Python 3",
   "language": "python",
   "name": "python3"
  },
  "language_info": {
   "codemirror_mode": {
    "name": "ipython",
    "version": 3
   },
   "file_extension": ".py",
   "mimetype": "text/x-python",
   "name": "python",
   "nbconvert_exporter": "python",
   "pygments_lexer": "ipython3",
   "version": "3.8.5"
  }
 },
 "nbformat": 4,
 "nbformat_minor": 4
}
