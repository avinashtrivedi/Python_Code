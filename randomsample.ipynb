{
 "cells": [
  {
   "cell_type": "markdown",
   "metadata": {},
   "source": [
    "# (a)"
   ]
  },
  {
   "cell_type": "code",
   "execution_count": 1,
   "metadata": {},
   "outputs": [],
   "source": [
    "import numpy as np\n",
    "S_CoinTossing = np.array(['H','T'])"
   ]
  },
  {
   "cell_type": "markdown",
   "metadata": {},
   "source": [
    "# (b)"
   ]
  },
  {
   "cell_type": "code",
   "execution_count": 2,
   "metadata": {},
   "outputs": [
    {
     "name": "stdout",
     "output_type": "stream",
     "text": [
      "0.25\n"
     ]
    }
   ],
   "source": [
    "np.random.seed(seed=0)\n",
    "CoinTossing10 = np.random.choice(S_CoinTossing,10) # Generate 10 random samples\n",
    "CoinTossing10_list = list(CoinTossing10) # convert array into list\n",
    "proportion = CoinTossing10_list.count('H') / CoinTossing10_list.count('T')  # find proportion of H\n",
    "print(round(proportion,3))"
   ]
  },
  {
   "cell_type": "markdown",
   "metadata": {},
   "source": [
    "# (c)"
   ]
  },
  {
   "cell_type": "code",
   "execution_count": 3,
   "metadata": {},
   "outputs": [
    {
     "name": "stdout",
     "output_type": "stream",
     "text": [
      "0.786\n"
     ]
    }
   ],
   "source": [
    "np.random.seed(seed=0)\n",
    "CoinTossing100 = np.random.choice(S_CoinTossing,100) # Generate 100 random samples\n",
    "CoinTossing100_list = list(CoinTossing100) # convert array into list\n",
    "proportion = CoinTossing100_list.count('H') / CoinTossing100_list.count('T')  # find proportion of H\n",
    "print(round(proportion,3))"
   ]
  },
  {
   "cell_type": "markdown",
   "metadata": {},
   "source": [
    "# (d)"
   ]
  },
  {
   "cell_type": "code",
   "execution_count": 4,
   "metadata": {},
   "outputs": [
    {
     "name": "stdout",
     "output_type": "stream",
     "text": [
      "0.967\n"
     ]
    }
   ],
   "source": [
    "np.random.seed(seed=0)\n",
    "CoinTossing10000 = np.random.choice(S_CoinTossing,10000) # Generate 10000 random samples\n",
    "CoinTossing10000_list = list(CoinTossing10000)  # convert array into list\n",
    "proportion = CoinTossing10000_list.count('H') / CoinTossing10000_list.count('T') # find proportion of H\n",
    "print(round(proportion,3))"
   ]
  },
  {
   "cell_type": "markdown",
   "metadata": {},
   "source": [
    "# (e)"
   ]
  },
  {
   "cell_type": "markdown",
   "metadata": {},
   "source": [
    "- with the increase of number of random samples, the proportion of 'H' is also getting increased"
   ]
  },
  {
   "cell_type": "markdown",
   "metadata": {},
   "source": [
    "# Dice-rolling Simulation"
   ]
  },
  {
   "cell_type": "markdown",
   "metadata": {},
   "source": [
    "# (f) function to simulate the result of rolling a dice n times"
   ]
  },
  {
   "cell_type": "code",
   "execution_count": 5,
   "metadata": {},
   "outputs": [],
   "source": [
    "def simulate(n):\n",
    "    np.random.seed(seed=0)\n",
    "    sample = np.random.randint(1,7,n) # generate n number of random int between 1 to 6 \n",
    "    return sample"
   ]
  },
  {
   "cell_type": "markdown",
   "metadata": {},
   "source": [
    "# (g) "
   ]
  },
  {
   "cell_type": "code",
   "execution_count": 6,
   "metadata": {},
   "outputs": [
    {
     "data": {
      "image/png": "[encoded data removed]",
      "text/plain": [
       "<Figure size 432x288 with 1 Axes>"
      ]
     },
     "metadata": {
      "needs_background": "light"
     },
     "output_type": "display_data"
    }
   ],
   "source": [
    "roll_10_times = simulate(10) # rolling a dice 10 times\n",
    "data = {}\n",
    "# create a dictionary that hold 1 to 6 and their respective counts\n",
    "for i in range(1,7):\n",
    "    data[i] = list(roll_10_times).count(i)\n",
    "\n",
    "import matplotlib.pyplot as plt\n",
    "# bar plot\n",
    "plt.bar(data.keys(),data.values()) # x = data.keys()  and y = data.values()\n",
    "plt.show()"
   ]
  },
  {
   "cell_type": "markdown",
   "metadata": {},
   "source": [
    "# (h)"
   ]
  },
  {
   "cell_type": "code",
   "execution_count": 7,
   "metadata": {},
   "outputs": [
    {
     "data": {
      "image/png": "[encoded data removed]",
      "text/plain": [
       "<Figure size 432x288 with 1 Axes>"
      ]
     },
     "metadata": {
      "needs_background": "light"
     },
     "output_type": "display_data"
    }
   ],
   "source": [
    "roll_100_times = simulate(100) # rolling a dice 100 times\n",
    "data = {}\n",
    "# create a dictionary that hold 1 to 6 and their respective counts\n",
    "for i in range(1,7):\n",
    "    data[i] = list(roll_100_times).count(i)\n",
    "\n",
    "import matplotlib.pyplot as plt\n",
    "# bar plot\n",
    "plt.bar(data.keys(),data.values()) # x = data.keys()  and y = data.values()\n",
    "plt.show()"
   ]
  },
  {
   "cell_type": "markdown",
   "metadata": {},
   "source": [
    "# (i)"
   ]
  },
  {
   "cell_type": "code",
   "execution_count": 8,
   "metadata": {},
   "outputs": [
    {
     "data": {
      "image/png": "[encoded data removed]",
      "text/plain": [
       "<Figure size 432x288 with 1 Axes>"
      ]
     },
     "metadata": {
      "needs_background": "light"
     },
     "output_type": "display_data"
    }
   ],
   "source": [
    "roll_10000_times = simulate(10000) # rolling a dice 10000 times\n",
    "data = {}\n",
    "# create a dictionary that hold 1 to 6 and their respective counts\n",
    "for i in range(1,7):\n",
    "    data[i] = list(roll_10000_times).count(i)\n",
    "\n",
    "import matplotlib.pyplot as plt\n",
    "# bar plot\n",
    "plt.bar(data.keys(),data.values()) # x = data.keys()  and y = data.values()\n",
    "plt.show()"
   ]
  },
  {
   "cell_type": "markdown",
   "metadata": {},
   "source": [
    "# (j)"
   ]
  },
  {
   "cell_type": "markdown",
   "metadata": {},
   "source": [
    "- for 10 number of rolls ,there was a huge proportionate difference between counts of all six numbers.\n",
    "- for 100 rolls,The proportionate difference between counts of all six numbers are getting reduced.\n",
    "- for 10000 rolls ,The proportionate difference between counts of all six numbers are very less and not obvious \n",
    "by checking its Bar plot"
   ]
  },
  {
   "cell_type": "code",
   "execution_count": null,
   "metadata": {},
   "outputs": [],
   "source": []
  }
 ],
 "metadata": {
  "kernelspec": {
   "display_name": "Python 3",
   "language": "python",
   "name": "python3"
  },
  "language_info": {
   "codemirror_mode": {
    "name": "ipython",
    "version": 3
   },
   "file_extension": ".py",
   "mimetype": "text/x-python",
   "name": "python",
   "nbconvert_exporter": "python",
   "pygments_lexer": "ipython3",
   "version": "3.8.5"
  }
 },
 "nbformat": 4,
 "nbformat_minor": 4
}
