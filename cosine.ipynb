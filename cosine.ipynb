{
 "cells": [
  {
   "cell_type": "code",
   "execution_count": 148,
   "metadata": {},
   "outputs": [],
   "source": [
    "# import library\n",
    "import pandas as pd\n",
    "import matplotlib.pyplot as plt\n",
    "import math"
   ]
  },
  {
   "cell_type": "code",
   "execution_count": 149,
   "metadata": {},
   "outputs": [],
   "source": [
    "def most_similar_cosine(file_name, test_vec):\n",
    "    # read the file and store the data into dataframe\n",
    "    df = pd.read_csv(file_name, header=None)\n",
    "    # find the index of last column\n",
    "    ColNum = df.shape[1]-1\n",
    "    # store test_vec in b for easy calculation ahead\n",
    "    b = test_vec\n",
    "    # list to store cosine similarity\n",
    "    cosine_similarity=[]\n",
    "    for i in range(len(df)):\n",
    "        # fetch row wise vector\n",
    "        a=list(df.loc[i,:ColNum-1])\n",
    "        # a dot b\n",
    "        aDotb = sum(x*y for x,y in zip(a,b)) \n",
    "        # |a| and |b|\n",
    "        Moda = sum([i*i for i in a])**.5 \n",
    "        Modb = sum([i*i for i in b])**.5\n",
    "        # cosine similarity \n",
    "        cs = aDotb/(Moda*Modb)\n",
    "        # store all the cosine similarity\n",
    "        cosine_similarity.append(cs)\n",
    "    # find the row number of a most similar vector,i.e cosine similarity is maximum.\n",
    "    indx = cosine_similarity.index(max(cosine_similarity))    \n",
    "    return df.iloc[indx,ColNum] # return corresponding string"
   ]
  },
  {
   "cell_type": "code",
   "execution_count": 150,
   "metadata": {},
   "outputs": [],
   "source": [
    "def most_similar_euclid(file_name, test_vec):\n",
    "    # read the file and store the data into dataframe\n",
    "    df = pd.read_csv(file_name, header=None)\n",
    "    # find the index of last column\n",
    "    ColNum = df.shape[1]-1\n",
    "    # store test_vec in b for easy calculation ahead\n",
    "    b = test_vec\n",
    "    # list to store euclid's distance\n",
    "    euclid_distance = []\n",
    "    for i in range(len(df)):\n",
    "        # fetch row wise vector\n",
    "        a=list(df.loc[i,:ColNum-1])\n",
    "        # find euclid's distance\n",
    "        ed = sum([(x-y)**2 for x,y in zip(a,b)])**.5\n",
    "        # store all the euclid's distance\n",
    "        euclid_distance.append(ed)\n",
    "     # find the row number of a vector for which minimum euclid distance is obtained.\n",
    "    indx = euclid_distance.index(min(euclid_distance))\n",
    "    return df.iloc[indx,ColNum] # return corresponding string"
   ]
  },
  {
   "cell_type": "code",
   "execution_count": 151,
   "metadata": {},
   "outputs": [],
   "source": [
    "# test\n",
    "test_vec1 = [5.1,3.4,1.5,0.2]\n",
    "test_vec2 = [6.0,3.4,4.5,1.6]\n",
    "test_vec3 = [6.5,3.0,5.5,1.8] "
   ]
  },
  {
   "cell_type": "code",
   "execution_count": 152,
   "metadata": {},
   "outputs": [
    {
     "name": "stdout",
     "output_type": "stream",
     "text": [
      "Iris-setosa\n",
      "Iris-setosa\n"
     ]
    }
   ],
   "source": [
    "print(most_similar_cosine('classes.csv', test_vec1 ))\n",
    "print(most_similar_euclid('classes.csv', test_vec1 ))"
   ]
  },
  {
   "cell_type": "code",
   "execution_count": 153,
   "metadata": {},
   "outputs": [
    {
     "name": "stdout",
     "output_type": "stream",
     "text": [
      "Iris-versicolor\n",
      "Iris-versicolor\n"
     ]
    }
   ],
   "source": [
    "print(most_similar_cosine('classes.csv', test_vec2 ))\n",
    "print(most_similar_euclid('classes.csv', test_vec2 ))"
   ]
  },
  {
   "cell_type": "code",
   "execution_count": 154,
   "metadata": {},
   "outputs": [
    {
     "name": "stdout",
     "output_type": "stream",
     "text": [
      "Iris-virginica\n",
      "Iris-virginica\n"
     ]
    }
   ],
   "source": [
    "print(most_similar_cosine('classes.csv', test_vec3 ))\n",
    "print(most_similar_euclid('classes.csv', test_vec3 ))"
   ]
  },
  {
   "cell_type": "code",
   "execution_count": null,
   "metadata": {},
   "outputs": [],
   "source": []
  },
  {
   "cell_type": "code",
   "execution_count": null,
   "metadata": {},
   "outputs": [],
   "source": []
  }
 ],
 "metadata": {
  "kernelspec": {
   "display_name": "Python 3",
   "language": "python",
   "name": "python3"
  },
  "language_info": {
   "codemirror_mode": {
    "name": "ipython",
    "version": 3
   },
   "file_extension": ".py",
   "mimetype": "text/x-python",
   "name": "python",
   "nbconvert_exporter": "python",
   "pygments_lexer": "ipython3",
   "version": "3.8.5"
  }
 },
 "nbformat": 4,
 "nbformat_minor": 4
}
