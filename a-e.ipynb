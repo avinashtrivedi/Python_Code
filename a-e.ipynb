{
 "cells": [
  {
   "cell_type": "markdown",
   "metadata": {},
   "source": [
    "# A"
   ]
  },
  {
   "cell_type": "code",
   "execution_count": 1,
   "metadata": {},
   "outputs": [
    {
     "name": "stdout",
     "output_type": "stream",
     "text": [
      "Enter x: 3\n",
      "Enter y: 15\n",
      "0 10 1 11 2 12 3 13 14 15 "
     ]
    }
   ],
   "source": [
    "x = int(input('Enter x: '))\n",
    "y = int(input('Enter y: '))\n",
    "i=0\n",
    "list_x = list(range(0,x+1)) # generate a list\n",
    "list_y = list(range(10,y+1)) # generate a list\n",
    "\n",
    "# print element from list x and y alternatively\n",
    "while True: \n",
    "    if i> len(list_x) and i > len(list_y):\n",
    "        break\n",
    "    if i < len(list_x):\n",
    "        print(list_x[i],end=' ')\n",
    "    if i < len(list_y):\n",
    "        print(list_y[i],end=' ')\n",
    "    i = i + 1"
   ]
  },
  {
   "cell_type": "markdown",
   "metadata": {},
   "source": [
    "# B"
   ]
  },
  {
   "cell_type": "code",
   "execution_count": 2,
   "metadata": {},
   "outputs": [
    {
     "name": "stdout",
     "output_type": "stream",
     "text": [
      "Enter GPA: 2.4\n",
      "Good!\n"
     ]
    }
   ],
   "source": [
    "gpa = float(input('Enter GPA: '))\n",
    "if gpa>=0 and gpa<1:\n",
    "    print('No comment!')\n",
    "elif gpa>=1 and gpa<2:\n",
    "    print('Hmm!')\n",
    "elif gpa>=2 and gpa<3:\n",
    "    print('Good!')\n",
    "elif gpa>=3 and gpa<=4:\n",
    "    print('Superb!')"
   ]
  },
  {
   "cell_type": "markdown",
   "metadata": {},
   "source": [
    "# C\n",
    "\n",
    "- Test #1  for (012)456-4444"
   ]
  },
  {
   "cell_type": "code",
   "execution_count": 3,
   "metadata": {},
   "outputs": [
    {
     "name": "stdout",
     "output_type": "stream",
     "text": [
      "Enter a phone number in the form (XXX)XXX-XXXX : (012)456-4444\n",
      "Invalid phone number\n"
     ]
    }
   ],
   "source": [
    "phone = input('Enter a phone number in the form (XXX)XXX-XXXX : ')\n",
    "\n",
    "# len of (XXX)XXX-XXXX is 13\n",
    "# at 0th position '(' should be present\n",
    "# at 1st position 0 should not be present\n",
    "# at 4th position ')' should be present\n",
    "# at 8th position '-' should be present \n",
    "try:\n",
    "    if int(phone[1]) != 0 and len(phone)==13 and phone[0]=='(' and phone[4]==')' and phone[8]=='-' :\n",
    "        \n",
    "        # Now replace all non digit character with '' ,i.e. empty string\n",
    "        phone.replace('(' , '')\n",
    "        phone.replace(')' , '')\n",
    "        phone.replace('-' , '')\n",
    "        \n",
    "        # check if resulting string is numeric i.e all characters are numeric \n",
    "        if phone.isnumeric():\n",
    "            print('Valid phone number')\n",
    "    else:\n",
    "        print('Invalid phone number')\n",
    "except:\n",
    "    print('Invalid phone number') "
   ]
  },
  {
   "cell_type": "markdown",
   "metadata": {},
   "source": [
    "- Test #2 with same code for (123) 555-8765"
   ]
  },
  {
   "cell_type": "code",
   "execution_count": 4,
   "metadata": {
    "scrolled": true
   },
   "outputs": [
    {
     "name": "stdout",
     "output_type": "stream",
     "text": [
      "Enter a phone number in the form (XXX)XXX-XXXX : (123) 555-8765\n",
      "Invalid phone number\n"
     ]
    }
   ],
   "source": [
    "phone = input('Enter a phone number in the form (XXX)XXX-XXXX : ')\n",
    "\n",
    "# len of (XXX)XXX-XXXX is 13\n",
    "# at 0th position '(' should be present\n",
    "# at 1st position 0 should not be present\n",
    "# at 4th position ')' should be present\n",
    "# at 8th position '-' should be present \n",
    "try:\n",
    "    if int(phone[1]) != 0 and len(phone)==13 and phone[0]=='(' and phone[4]==')' and phone[8]=='-' :\n",
    "        \n",
    "        # Now replace all non digit character with '' ,i.e. empty string\n",
    "        phone.replace('(' , '')\n",
    "        phone.replace(')' , '')\n",
    "        phone.replace('-' , '')\n",
    "        \n",
    "        # check if resulting string is numeric i.e all characters are numeric \n",
    "        if phone.isnumeric():\n",
    "            print('Valid phone number')\n",
    "    else:\n",
    "        print('Invalid phone number')\n",
    "except:\n",
    "    print('Invalid phone number')"
   ]
  },
  {
   "cell_type": "markdown",
   "metadata": {},
   "source": [
    "# D\n",
    "<hr>"
   ]
  },
  {
   "cell_type": "markdown",
   "metadata": {},
   "source": [
    "<img src='23.png'>"
   ]
  },
  {
   "cell_type": "code",
   "execution_count": 5,
   "metadata": {},
   "outputs": [
    {
     "name": "stdout",
     "output_type": "stream",
     "text": [
      "Enter a string that is atleast 20 characters long: this is the testing for this question\n",
      "length is more than 20 character\n",
      "\n",
      "String after reversing every three consecutive characters:\n",
      "ihti st s ehsetnitf g roihtq sseuoitn\n"
     ]
    }
   ],
   "source": [
    "# dummy string:  this is the testing for this question\n",
    "string = input('Enter a string that is atleast 20 characters long: ')\n",
    "rev_string=''\n",
    "i=0\n",
    "# get extra character that does not belong to 3 consecutive character\n",
    "# that number of character (from end of string) will not be reversed\n",
    "x = len(string)%3 \n",
    "\n",
    "loop = len(string) - x # number of times loop will run for reverse\n",
    "flag=True\n",
    "if len(string)==20:\n",
    "    print('length is 20 character')\n",
    "elif len(string)>20:\n",
    "    print('length is more than 20 character')\n",
    "else:\n",
    "    flag=False\n",
    "    print('length is less than 20 character')\n",
    "if flag:\n",
    "    while i< loop :\n",
    "\n",
    "        # pick 3 consecutive character and reverse it\n",
    "        rev_string = rev_string + string[i:i+3][::-1]\n",
    "        i = i + 3 # increase the index by 3\n",
    "\n",
    "    # finally concatenate rev_string and the remaining character (i.e. string[-x:])\n",
    "    rev_string = rev_string + string[-x:] if len(string)%3!=0 else rev_string\n",
    "    print()\n",
    "    print('String after reversing every three consecutive characters:')\n",
    "    print(rev_string)"
   ]
  },
  {
   "cell_type": "markdown",
   "metadata": {},
   "source": [
    "# e"
   ]
  },
  {
   "cell_type": "code",
   "execution_count": 6,
   "metadata": {},
   "outputs": [],
   "source": [
    "# aptitude test scores\n",
    "numbers=[112,72,69,97,107,73,92,76,86,73,\n",
    "        126,128,118,127,124,82,104,132,134,83,\n",
    "        92,108,96,100,92,115,76,91,102,81,\n",
    "        95,141,81,80,106,84,119,113,98,75,\n",
    "        68,98,115,106,95,100,85,94,106,119]"
   ]
  },
  {
   "cell_type": "code",
   "execution_count": 7,
   "metadata": {},
   "outputs": [
    {
     "name": "stdout",
     "output_type": "stream",
     "text": [
      "Stem and Leaf diagram\n",
      "\n",
      " 6 | 8 9 \n",
      " 7 | 2 3 3 5 6 6 \n",
      " 8 | 0 1 1 2 3 4 5 6 \n",
      " 9 | 1 2 2 2 4 5 5 6 7 8 8 \n",
      "10 | 0 0 2 4 6 6 6 7 8 \n",
      "11 | 2 3 5 5 8 9 9 \n",
      "12 | 4 6 7 8 \n",
      "13 | 2 4 \n",
      "14 | 1 \n"
     ]
    }
   ],
   "source": [
    "mydict = {} # empty dictionary\n",
    "for i in numbers:\n",
    "    key = i//10 # get stem\n",
    "    val = i%10  # get leaf\n",
    "    \n",
    "    # store into dictionary\n",
    "    if key in mydict:\n",
    "        mydict[key].append(val)\n",
    "    else:\n",
    "        mydict[key] = [val]\n",
    "print('Stem and Leaf diagram\\n')  \n",
    "# sorted(mydict) : sort the dictionary key\n",
    "for i in sorted(mydict):\n",
    "    # {:>2} for better formatting\n",
    "    print(\"{:>2} |\".format(i),end=' ')\n",
    "    for j in sorted(mydict[i]):\n",
    "        print(j,end=' ')\n",
    "    print()"
   ]
  },
  {
   "cell_type": "code",
   "execution_count": null,
   "metadata": {},
   "outputs": [],
   "source": []
  }
 ],
 "metadata": {
  "kernelspec": {
   "display_name": "Python 3",
   "language": "python",
   "name": "python3"
  },
  "language_info": {
   "codemirror_mode": {
    "name": "ipython",
    "version": 3
   },
   "file_extension": ".py",
   "mimetype": "text/x-python",
   "name": "python",
   "nbconvert_exporter": "python",
   "pygments_lexer": "ipython3",
   "version": "3.8.5"
  }
 },
 "nbformat": 4,
 "nbformat_minor": 4
}
