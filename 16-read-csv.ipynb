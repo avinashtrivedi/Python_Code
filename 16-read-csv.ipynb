{
 "cells": [
  {
   "cell_type": "code",
   "execution_count": 1,
   "metadata": {},
   "outputs": [],
   "source": [
    "parents_childs = [(\"John\", \"Mary\"),(\"Elma\", \"Hank\"),(\"Ann\", \"Mary\"),(\"David\", \"John\"),\n",
    "                  (\"Hank\", \"Edward\"),(\"Ann\", \"Lisa\"),(\"Elma\", \"Ann\"),(\"John\", \"Lisa\")]\n",
    "\n",
    "pcs = [(\"Eliza\", \"Sophia\"),(\"Albert\", \"Sophia\"),(\"Sophia\", \"Blake\")]"
   ]
  },
  {
   "cell_type": "code",
   "execution_count": 2,
   "metadata": {},
   "outputs": [
    {
     "data": {
      "text/plain": [
       "[('Ann', 'Lisa'),\n",
       " ('Ann', 'Mary'),\n",
       " ('David', 'John'),\n",
       " ('Elma', 'Ann'),\n",
       " ('Elma', 'Hank'),\n",
       " ('Hank', 'Edward'),\n",
       " ('John', 'Lisa'),\n",
       " ('John', 'Mary')]"
      ]
     },
     "execution_count": 2,
     "metadata": {},
     "output_type": "execute_result"
    }
   ],
   "source": [
    "sorted(parents_childs)"
   ]
  },
  {
   "cell_type": "code",
   "execution_count": null,
   "metadata": {},
   "outputs": [],
   "source": [
    "def is_ancestor(list_Parent_child,parent,child):\n",
    "    while True:\n",
    "        "
   ]
  },
  {
   "cell_type": "code",
   "execution_count": null,
   "metadata": {},
   "outputs": [],
   "source": [
    "def child_ret(parent):\n",
    "    child=[]\n",
    "    for i in range(len(parents_childs)):\n",
    "        if parents_childs[i][0]==parent:\n",
    "            child.append(parents_childs[i][1])\n",
    "    return child"
   ]
  },
  {
   "cell_type": "code",
   "execution_count": null,
   "metadata": {},
   "outputs": [],
   "source": [
    "Elma , “Lisa”"
   ]
  },
  {
   "cell_type": "code",
   "execution_count": null,
   "metadata": {},
   "outputs": [],
   "source": [
    "parent ='Elma'\n",
    "child ='Lisa'"
   ]
  },
  {
   "cell_type": "code",
   "execution_count": null,
   "metadata": {},
   "outputs": [],
   "source": []
  },
  {
   "cell_type": "code",
   "execution_count": null,
   "metadata": {},
   "outputs": [],
   "source": [
    "def find(parent,child):\n",
    "    t = child_ret(parent)\n",
    "    print(t)\n",
    "    if len(t)==1 and t[0] == child:\n",
    "        print(True)\n",
    "        return True\n",
    "    elif len(t)==1 and t[0] !=child:\n",
    "        t = find(t[0],child)\n",
    "    elif len(t)==0:\n",
    "        print(False)\n",
    "        return False\n",
    "    elif len(t)>1 and child in t:\n",
    "        print(True)\n",
    "        return True\n",
    "    elif len(t)>1 and child not in t:\n",
    "        for i in t:\n",
    "            temp_t = find(i,child)\n",
    "            if child in temp_t:\n",
    "                print(True)\n",
    "                return True\n",
    "            else:\n",
    "                find(temp_t,child)\n",
    "            \n",
    "            \n",
    "                \n",
    "    \n",
    "#     for i in range(len(parents_childs)):\n",
    "#         if parents_childs[i][0]==parent:\n",
    "#             temp_child = parents_childs[i][1]\n",
    "#             break\n",
    "            "
   ]
  },
  {
   "cell_type": "code",
   "execution_count": null,
   "metadata": {},
   "outputs": [],
   "source": [
    "find(parent,child)"
   ]
  },
  {
   "cell_type": "code",
   "execution_count": null,
   "metadata": {},
   "outputs": [],
   "source": [
    "find(parent,child)"
   ]
  },
  {
   "cell_type": "code",
   "execution_count": null,
   "metadata": {},
   "outputs": [],
   "source": [
    "# pass 1: create nodes dictionary\n",
    "a =[(1, 1), (2, 1), (3, 1), (4, 3), (5, 3), (6, 3), (7, 7), (8, 7), (9, 7)]\n",
    "nodes = {}\n",
    "for i in a:\n",
    "    id, parent_id = i\n",
    "    nodes[id] = { 'id': id }\n",
    "\n",
    "# pass 2: create trees and parent-child relations\n",
    "forest = []\n",
    "for i in a:\n",
    "    id, parent_id = i\n",
    "    node = nodes[id]\n",
    "\n",
    "    # either make the node a new tree or link it to its parent\n",
    "    if id == parent_id:\n",
    "        # start a new tree in the forest\n",
    "        forest.append(node)\n",
    "    else:\n",
    "        # add new_node as child to parent\n",
    "        parent = nodes[parent_id]\n",
    "        if not 'children' in parent:\n",
    "            # ensure parent has a 'children' field\n",
    "            parent['children'] = []\n",
    "        children = parent['children']\n",
    "        children.append(node)\n",
    "\n",
    "print(forest)"
   ]
  },
  {
   "cell_type": "code",
   "execution_count": null,
   "metadata": {},
   "outputs": [],
   "source": [
    "with open('ca2-em-input.csv', 'r') as file:\n",
    "    em_data = file.readlines()"
   ]
  },
  {
   "cell_type": "code",
   "execution_count": 7,
   "metadata": {},
   "outputs": [
    {
     "ename": "TypeError",
     "evalue": "'unicode_errors' is an invalid keyword argument for open()",
     "output_type": "error",
     "traceback": [
      "\u001b[1;31m---------------------------------------------------------------------------\u001b[0m",
      "\u001b[1;31mTypeError\u001b[0m                                 Traceback (most recent call last)",
      "\u001b[1;32m<ipython-input-7-5f02d0f9b7d8>\u001b[0m in \u001b[0;36m<module>\u001b[1;34m\u001b[0m\n\u001b[1;32m----> 1\u001b[1;33m \u001b[1;32mwith\u001b[0m \u001b[0mopen\u001b[0m\u001b[1;33m(\u001b[0m\u001b[1;34m'GoogleNews-vectors-negative300.bin'\u001b[0m\u001b[1;33m,\u001b[0m \u001b[1;34m'r'\u001b[0m\u001b[1;33m,\u001b[0m\u001b[0municode_errors\u001b[0m\u001b[1;33m=\u001b[0m\u001b[1;34m'ignore'\u001b[0m\u001b[1;33m)\u001b[0m \u001b[1;32mas\u001b[0m \u001b[0mfile\u001b[0m\u001b[1;33m:\u001b[0m\u001b[1;33m\u001b[0m\u001b[1;33m\u001b[0m\u001b[0m\n\u001b[0m\u001b[0;32m      2\u001b[0m     \u001b[0mem_data\u001b[0m \u001b[1;33m=\u001b[0m \u001b[0mfile\u001b[0m\u001b[1;33m.\u001b[0m\u001b[0mreadlines\u001b[0m\u001b[1;33m(\u001b[0m\u001b[1;33m)\u001b[0m\u001b[1;33m\u001b[0m\u001b[1;33m\u001b[0m\u001b[0m\n",
      "\u001b[1;31mTypeError\u001b[0m: 'unicode_errors' is an invalid keyword argument for open()"
     ]
    }
   ],
   "source": [
    "with open('GoogleNews-vectors-negative300.bin', 'r',unicode_errors='ignore') as file:\n",
    "    em_data = file.readlines()"
   ]
  },
  {
   "cell_type": "code",
   "execution_count": null,
   "metadata": {},
   "outputs": [],
   "source": [
    "GoogleNews-vectors-negative300.bin"
   ]
  },
  {
   "cell_type": "code",
   "execution_count": null,
   "metadata": {},
   "outputs": [],
   "source": [
    "lst=[]\n",
    "for line in em_data:\n",
    "    a=line[:-1]\n",
    "#     for i in line.split(' '):\n",
    "#         lst.append(i)"
   ]
  },
  {
   "cell_type": "code",
   "execution_count": null,
   "metadata": {},
   "outputs": [],
   "source": [
    "data = em_data[1:]"
   ]
  },
  {
   "cell_type": "code",
   "execution_count": null,
   "metadata": {},
   "outputs": [],
   "source": [
    "k=0\n",
    "for i in data:\n",
    "    t=i[:-1]\n",
    "    t=t.split(',')\n",
    "    print(t)\n",
    "    df.loc[k] = t \n",
    "    k=k+1"
   ]
  },
  {
   "cell_type": "code",
   "execution_count": null,
   "metadata": {},
   "outputs": [],
   "source": [
    "t"
   ]
  },
  {
   "cell_type": "code",
   "execution_count": null,
   "metadata": {},
   "outputs": [],
   "source": [
    "df.dtypes"
   ]
  },
  {
   "cell_type": "code",
   "execution_count": null,
   "metadata": {},
   "outputs": [],
   "source": [
    "df"
   ]
  },
  {
   "cell_type": "code",
   "execution_count": null,
   "metadata": {},
   "outputs": [],
   "source": [
    "import pandas as pd# as np"
   ]
  },
  {
   "cell_type": "code",
   "execution_count": null,
   "metadata": {},
   "outputs": [],
   "source": [
    "df =pd.DataFrame(columns=['Reactor Code','Reactor Name','Event','Mass','px1','py1','pz1'])"
   ]
  },
  {
   "cell_type": "code",
   "execution_count": null,
   "metadata": {},
   "outputs": [],
   "source": [
    "df['Mass'].astype('int32')"
   ]
  },
  {
   "cell_type": "code",
   "execution_count": null,
   "metadata": {},
   "outputs": [],
   "source": [
    "df = df.astype({'Mass': 'int32'})"
   ]
  },
  {
   "cell_type": "code",
   "execution_count": null,
   "metadata": {},
   "outputs": [],
   "source": [
    "df.dtypes"
   ]
  },
  {
   "cell_type": "code",
   "execution_count": null,
   "metadata": {},
   "outputs": [],
   "source": [
    "df.groupby"
   ]
  },
  {
   "cell_type": "code",
   "execution_count": null,
   "metadata": {},
   "outputs": [],
   "source": [
    "df[['Reactor Name','Mass']].groupby(['Reactor Name']).mean()"
   ]
  },
  {
   "cell_type": "code",
   "execution_count": null,
   "metadata": {},
   "outputs": [],
   "source": []
  },
  {
   "cell_type": "code",
   "execution_count": 1,
   "metadata": {},
   "outputs": [],
   "source": [
    "import pandas as pd # to create table like structure\n",
    "#creating a blank data frame i.e blank table\n",
    "df =pd.DataFrame(columns=['Reactor Code','Reactor Name','Event','Mass','px1','py1','pz1'])"
   ]
  },
  {
   "cell_type": "code",
   "execution_count": 2,
   "metadata": {},
   "outputs": [
    {
     "data": {
      "text/html": [
       "<div>\n",
       "<style scoped>\n",
       "    .dataframe tbody tr th:only-of-type {\n",
       "        vertical-align: middle;\n",
       "    }\n",
       "\n",
       "    .dataframe tbody tr th {\n",
       "        vertical-align: top;\n",
       "    }\n",
       "\n",
       "    .dataframe thead th {\n",
       "        text-align: right;\n",
       "    }\n",
       "</style>\n",
       "<table border=\"1\" class=\"dataframe\">\n",
       "  <thead>\n",
       "    <tr style=\"text-align: right;\">\n",
       "      <th></th>\n",
       "      <th>Reactor Code</th>\n",
       "      <th>Reactor Name</th>\n",
       "      <th>Event</th>\n",
       "      <th>Mass</th>\n",
       "      <th>px1</th>\n",
       "      <th>py1</th>\n",
       "      <th>pz1</th>\n",
       "    </tr>\n",
       "  </thead>\n",
       "  <tbody>\n",
       "  </tbody>\n",
       "</table>\n",
       "</div>"
      ],
      "text/plain": [
       "Empty DataFrame\n",
       "Columns: [Reactor Code, Reactor Name, Event, Mass, px1, py1, pz1]\n",
       "Index: []"
      ]
     },
     "execution_count": 2,
     "metadata": {},
     "output_type": "execute_result"
    }
   ],
   "source": [
    "df # blank table with columns=['Reactor Code','Reactor Name','Event','Mass','px1','py1','pz1']"
   ]
  },
  {
   "cell_type": "code",
   "execution_count": 118,
   "metadata": {},
   "outputs": [],
   "source": [
    "def generate_average_mass():\n",
    "    # reading a file\n",
    "    with open('ca2-em-input.csv', 'r') as file:\n",
    "        em_data = file.readlines() \n",
    "    data = em_data[1:] #removing the header\n",
    "    data_list = [i[:-1].split(',') for i in data] #storing data into list\n",
    "    data_dict = {} # create a dictionary to store Reactor Name as key and Mass as a list of values.\n",
    "    ###########filling the data in dictionary#### i[1] is reacter name and i[3] is Mass ##############\n",
    "    for i in data_list:\n",
    "        if i[1] in data_dict:\n",
    "            data_dict[i[1]].append(i[3])\n",
    "        else:\n",
    "            data_dict[i[1]] = [i[3]]\n",
    "     ############################   \n",
    "#     group_result =[] # to store (Reacter Name,avgerage Mass) as a tuple\n",
    "    for i in data_dict:\n",
    "        temp = [int(j) for j in data_dict[i]] #converting Mass value into integer,by default it was string\n",
    "#         group_result.append((i,sum(temp)/len(temp)))\n",
    "        print(i,' ',sum(temp)/len(temp))"
   ]
  },
  {
   "cell_type": "code",
   "execution_count": 119,
   "metadata": {},
   "outputs": [
    {
     "name": "stdout",
     "output_type": "stream",
     "text": [
      "Reactor_149181   31.0\n",
      "Reactor_148029   30.5\n",
      "Reactor_148030   46.75\n"
     ]
    }
   ],
   "source": [
    "generate_average_mass()"
   ]
  },
  {
   "cell_type": "code",
   "execution_count": null,
   "metadata": {},
   "outputs": [],
   "source": []
  },
  {
   "cell_type": "code",
   "execution_count": 58,
   "metadata": {},
   "outputs": [],
   "source": [
    "# reading a file\n",
    "with open('ca2-em-input.csv', 'r') as file:\n",
    "    em_data = file.readlines()"
   ]
  },
  {
   "cell_type": "code",
   "execution_count": 59,
   "metadata": {},
   "outputs": [],
   "source": [
    "data = em_data[1:]"
   ]
  },
  {
   "cell_type": "code",
   "execution_count": 60,
   "metadata": {},
   "outputs": [
    {
     "data": {
      "text/plain": [
       "['R1,Reactor_149181,1727093089,5,-4.28528,-3.0301,1.08615\\n',\n",
       " 'R1,Reactor_149181,1727086545,10,-1.51213,2.19144,9.16378\\n',\n",
       " 'R1,Reactor_149181,1727377897,157,12.2241,33.9219,152.775\\n',\n",
       " 'R1,Reactor_149181,1727397785,9,-1.8463,4.26072,-7.24853\\n',\n",
       " 'R1,Reactor_149181,1727894874,2,-1.09872,2.03899,-0.26474\\n',\n",
       " 'R1,Reactor_149181,1727902219,3,-1.70057,-1.85916,1.63892\\n',\n",
       " 'R2,Reactor_148029,283359551,70,-5.5832,17.5003,-67.3188\\n',\n",
       " 'R2,Reactor_148029,283594079,26,2.13716,-26.1156,-0.48773\\n',\n",
       " 'R2,Reactor_148029,283299017,5,2.44668,3.01155,3.5583\\n',\n",
       " 'R2,Reactor_148029,283454505,36,-11.6773,32.5941,-8.56518\\n',\n",
       " 'R2,Reactor_148029,283619393,9,-3.1759,0.441519,8.50991\\n',\n",
       " 'R2,Reactor_148029,284154251,15,-13.8354,0.013751,6.33985\\n',\n",
       " 'R2,Reactor_148029,284187171,48,-18.3713,3.42209,-44.1103\\n',\n",
       " 'R2,Reactor_148029,284467795,35,-23.2446,6.13257,25.334\\n',\n",
       " 'R3,Reactor_148030,9830001,22,13.083,-1.52425,17.1959\\n',\n",
       " 'R3,Reactor_148030,10341146,94,11.6597,-17.2893,91.9858\\n',\n",
       " 'R3,Reactor_148030,9763147,52,-27.698,-18.1216,40.5281\\n',\n",
       " 'R3,Reactor_148030,9812035,19,10.5401,-15.6068,0.713237\\n']"
      ]
     },
     "execution_count": 60,
     "metadata": {},
     "output_type": "execute_result"
    }
   ],
   "source": [
    "data"
   ]
  },
  {
   "cell_type": "code",
   "execution_count": 61,
   "metadata": {},
   "outputs": [],
   "source": [
    "t=[i[:-1].split(',') for i in data]\n",
    "d={} #create a dictionary"
   ]
  },
  {
   "cell_type": "code",
   "execution_count": 62,
   "metadata": {},
   "outputs": [
    {
     "data": {
      "text/plain": [
       "['R1', 'Reactor_149181', '1727093089', '5', '-4.28528', '-3.0301', '1.08615']"
      ]
     },
     "execution_count": 62,
     "metadata": {},
     "output_type": "execute_result"
    }
   ],
   "source": [
    "t[0]"
   ]
  },
  {
   "cell_type": "code",
   "execution_count": 74,
   "metadata": {},
   "outputs": [
    {
     "data": {
      "text/plain": [
       "dict_keys(['Reactor_149181', 'Reactor_148029', 'Reactor_148030'])"
      ]
     },
     "execution_count": 74,
     "metadata": {},
     "output_type": "execute_result"
    }
   ],
   "source": [
    "d.keys()"
   ]
  },
  {
   "cell_type": "code",
   "execution_count": 75,
   "metadata": {},
   "outputs": [
    {
     "data": {
      "text/plain": [
       "['5', '10', '157', '9', '2', '3']"
      ]
     },
     "execution_count": 75,
     "metadata": {},
     "output_type": "execute_result"
    }
   ],
   "source": [
    "d['Reactor_149181']"
   ]
  },
  {
   "cell_type": "code",
   "execution_count": null,
   "metadata": {},
   "outputs": [],
   "source": [
    "for sub in the_list:\n",
    "    for key in sub:\n",
    "        sub[key] = int(sub[key])"
   ]
  },
  {
   "cell_type": "code",
   "execution_count": 88,
   "metadata": {},
   "outputs": [
    {
     "data": {
      "text/plain": [
       "100"
      ]
     },
     "execution_count": 88,
     "metadata": {},
     "output_type": "execute_result"
    }
   ],
   "source": [
    "d['Reactor_149181'][0]"
   ]
  },
  {
   "cell_type": "code",
   "execution_count": 90,
   "metadata": {},
   "outputs": [],
   "source": [
    "dd=d"
   ]
  },
  {
   "cell_type": "code",
   "execution_count": 97,
   "metadata": {},
   "outputs": [],
   "source": [
    "group_result =[]\n",
    "for i in d:\n",
    "    temp = [int(j) for j in d[i]]\n",
    "    group_result.append((i,sum(temp)/len(temp)))"
   ]
  },
  {
   "cell_type": "code",
   "execution_count": 98,
   "metadata": {},
   "outputs": [
    {
     "data": {
      "text/plain": [
       "[('Reactor_149181', 46.833333333333336),\n",
       " ('Reactor_148029', 30.5),\n",
       " ('Reactor_148030', 46.75)]"
      ]
     },
     "execution_count": 98,
     "metadata": {},
     "output_type": "execute_result"
    }
   ],
   "source": [
    "group_result"
   ]
  },
  {
   "cell_type": "code",
   "execution_count": 91,
   "metadata": {},
   "outputs": [
    {
     "ename": "IndexError",
     "evalue": "list index out of range",
     "output_type": "error",
     "traceback": [
      "\u001b[1;31m---------------------------------------------------------------------------\u001b[0m",
      "\u001b[1;31mIndexError\u001b[0m                                Traceback (most recent call last)",
      "\u001b[1;32m<ipython-input-91-6b71c9ca93b0>\u001b[0m in \u001b[0;36m<module>\u001b[1;34m\u001b[0m\n\u001b[0;32m      1\u001b[0m \u001b[1;32mfor\u001b[0m \u001b[0mi\u001b[0m \u001b[1;32min\u001b[0m \u001b[0md\u001b[0m\u001b[1;33m:\u001b[0m\u001b[1;33m\u001b[0m\u001b[1;33m\u001b[0m\u001b[0m\n\u001b[0;32m      2\u001b[0m     \u001b[1;32mfor\u001b[0m \u001b[0mj\u001b[0m \u001b[1;32min\u001b[0m \u001b[0md\u001b[0m\u001b[1;33m[\u001b[0m\u001b[0mi\u001b[0m\u001b[1;33m]\u001b[0m\u001b[1;33m:\u001b[0m\u001b[1;33m\u001b[0m\u001b[1;33m\u001b[0m\u001b[0m\n\u001b[1;32m----> 3\u001b[1;33m         \u001b[0mdd\u001b[0m\u001b[1;33m[\u001b[0m\u001b[0mi\u001b[0m\u001b[1;33m]\u001b[0m\u001b[1;33m[\u001b[0m\u001b[0mj\u001b[0m\u001b[1;33m]\u001b[0m \u001b[1;33m=\u001b[0m \u001b[0mint\u001b[0m\u001b[1;33m(\u001b[0m\u001b[0mdd\u001b[0m\u001b[1;33m[\u001b[0m\u001b[0mi\u001b[0m\u001b[1;33m]\u001b[0m\u001b[1;33m[\u001b[0m\u001b[0mj\u001b[0m\u001b[1;33m]\u001b[0m\u001b[1;33m)\u001b[0m\u001b[1;33m\u001b[0m\u001b[1;33m\u001b[0m\u001b[0m\n\u001b[0m\u001b[0;32m      4\u001b[0m \u001b[1;31m#     print(d[i],' ',sum(int(d[i]))/len(d[i]))\u001b[0m\u001b[1;33m\u001b[0m\u001b[1;33m\u001b[0m\u001b[1;33m\u001b[0m\u001b[0m\n",
      "\u001b[1;31mIndexError\u001b[0m: list index out of range"
     ]
    }
   ],
   "source": [
    "for i in d:\n",
    "    for j in d[i]:\n",
    "        dd[i][j] = int(dd[i][j])\n",
    "#     print(d[i],' ',sum(int(d[i]))/len(d[i]))"
   ]
  },
  {
   "cell_type": "code",
   "execution_count": 92,
   "metadata": {},
   "outputs": [
    {
     "data": {
      "text/plain": [
       "{'Reactor_149181': [100, '10', '157', '9', '2', '3'],\n",
       " 'Reactor_148029': ['70', '26', '5', '36', '9', '15', '48', '35'],\n",
       " 'Reactor_148030': ['22', '94', '52', '19']}"
      ]
     },
     "execution_count": 92,
     "metadata": {},
     "output_type": "execute_result"
    }
   ],
   "source": [
    "dd"
   ]
  },
  {
   "cell_type": "code",
   "execution_count": 65,
   "metadata": {},
   "outputs": [],
   "source": [
    "a=[1,2,3,4,5]"
   ]
  },
  {
   "cell_type": "code",
   "execution_count": 70,
   "metadata": {},
   "outputs": [
    {
     "ename": "NameError",
     "evalue": "name 'average' is not defined",
     "output_type": "error",
     "traceback": [
      "\u001b[1;31m---------------------------------------------------------------------------\u001b[0m",
      "\u001b[1;31mNameError\u001b[0m                                 Traceback (most recent call last)",
      "\u001b[1;32m<ipython-input-70-731a2e7cae1d>\u001b[0m in \u001b[0;36m<module>\u001b[1;34m\u001b[0m\n\u001b[1;32m----> 1\u001b[1;33m \u001b[0maverage\u001b[0m\u001b[1;33m(\u001b[0m\u001b[0ma\u001b[0m\u001b[1;33m)\u001b[0m\u001b[1;33m\u001b[0m\u001b[1;33m\u001b[0m\u001b[0m\n\u001b[0m",
      "\u001b[1;31mNameError\u001b[0m: name 'average' is not defined"
     ]
    }
   ],
   "source": []
  },
  {
   "cell_type": "code",
   "execution_count": 63,
   "metadata": {},
   "outputs": [],
   "source": [
    "for i in t:\n",
    "    if i[1] in d:\n",
    "        d[i[1]].append(i[3])\n",
    "    else:\n",
    "        d[i[1]] = [i[3]]"
   ]
  },
  {
   "cell_type": "code",
   "execution_count": 46,
   "metadata": {},
   "outputs": [],
   "source": [
    "d={'a':[1],'b':[2]}"
   ]
  },
  {
   "cell_type": "code",
   "execution_count": 47,
   "metadata": {},
   "outputs": [
    {
     "data": {
      "text/plain": [
       "{'a': [1], 'b': [2]}"
      ]
     },
     "execution_count": 47,
     "metadata": {},
     "output_type": "execute_result"
    }
   ],
   "source": [
    "d"
   ]
  },
  {
   "cell_type": "code",
   "execution_count": 49,
   "metadata": {},
   "outputs": [],
   "source": [
    "if d['a']:\n",
    "    d['a'].append(11)"
   ]
  },
  {
   "cell_type": "code",
   "execution_count": 50,
   "metadata": {},
   "outputs": [
    {
     "data": {
      "text/plain": [
       "{'a': [1, 11], 'b': [2]}"
      ]
     },
     "execution_count": 50,
     "metadata": {},
     "output_type": "execute_result"
    }
   ],
   "source": [
    "d"
   ]
  },
  {
   "cell_type": "code",
   "execution_count": null,
   "metadata": {},
   "outputs": [],
   "source": []
  },
  {
   "cell_type": "code",
   "execution_count": 37,
   "metadata": {},
   "outputs": [
    {
     "data": {
      "text/plain": [
       "[['R1', 'Reactor_149181', '1727093089', '5', '-4.28528', '-3.0301', '1.08615'],\n",
       " ['R1',\n",
       "  'Reactor_149181',\n",
       "  '1727086545',\n",
       "  '10',\n",
       "  '-1.51213',\n",
       "  '2.19144',\n",
       "  '9.16378'],\n",
       " ['R1',\n",
       "  'Reactor_149181',\n",
       "  '1727377897',\n",
       "  '157',\n",
       "  '12.2241',\n",
       "  '33.9219',\n",
       "  '152.775'],\n",
       " ['R1', 'Reactor_149181', '1727397785', '9', '-1.8463', '4.26072', '-7.24853'],\n",
       " ['R1',\n",
       "  'Reactor_149181',\n",
       "  '1727894874',\n",
       "  '2',\n",
       "  '-1.09872',\n",
       "  '2.03899',\n",
       "  '-0.26474'],\n",
       " ['R1',\n",
       "  'Reactor_149181',\n",
       "  '1727902219',\n",
       "  '3',\n",
       "  '-1.70057',\n",
       "  '-1.85916',\n",
       "  '1.63892'],\n",
       " ['R2', 'Reactor_148029', '283359551', '70', '-5.5832', '17.5003', '-67.3188'],\n",
       " ['R2',\n",
       "  'Reactor_148029',\n",
       "  '283594079',\n",
       "  '26',\n",
       "  '2.13716',\n",
       "  '-26.1156',\n",
       "  '-0.48773'],\n",
       " ['R2', 'Reactor_148029', '283299017', '5', '2.44668', '3.01155', '3.5583'],\n",
       " ['R2',\n",
       "  'Reactor_148029',\n",
       "  '283454505',\n",
       "  '36',\n",
       "  '-11.6773',\n",
       "  '32.5941',\n",
       "  '-8.56518'],\n",
       " ['R2', 'Reactor_148029', '283619393', '9', '-3.1759', '0.441519', '8.50991'],\n",
       " ['R2',\n",
       "  'Reactor_148029',\n",
       "  '284154251',\n",
       "  '15',\n",
       "  '-13.8354',\n",
       "  '0.013751',\n",
       "  '6.33985'],\n",
       " ['R2',\n",
       "  'Reactor_148029',\n",
       "  '284187171',\n",
       "  '48',\n",
       "  '-18.3713',\n",
       "  '3.42209',\n",
       "  '-44.1103'],\n",
       " ['R2', 'Reactor_148029', '284467795', '35', '-23.2446', '6.13257', '25.334'],\n",
       " ['R3', 'Reactor_148030', '9830001', '22', '13.083', '-1.52425', '17.1959'],\n",
       " ['R3', 'Reactor_148030', '10341146', '94', '11.6597', '-17.2893', '91.9858'],\n",
       " ['R3', 'Reactor_148030', '9763147', '52', '-27.698', '-18.1216', '40.5281'],\n",
       " ['R3', 'Reactor_148030', '9812035', '19', '10.5401', '-15.6068', '0.713237']]"
      ]
     },
     "execution_count": 37,
     "metadata": {},
     "output_type": "execute_result"
    }
   ],
   "source": [
    "t"
   ]
  },
  {
   "cell_type": "code",
   "execution_count": null,
   "metadata": {},
   "outputs": [],
   "source": [
    "i=0\n",
    "while i<len(data):\n",
    "    t=data[i][:-1] # removing the \\n ,i.e newline character\n",
    "    t=t.split(',') # splitting a string into list\n",
    "    df.loc[i] = t \n",
    "    i=i+1"
   ]
  },
  {
   "cell_type": "code",
   "execution_count": null,
   "metadata": {},
   "outputs": [],
   "source": []
  },
  {
   "cell_type": "code",
   "execution_count": null,
   "metadata": {},
   "outputs": [],
   "source": []
  },
  {
   "cell_type": "code",
   "execution_count": null,
   "metadata": {},
   "outputs": [],
   "source": [
    "import csv\n",
    "with open('ca2-em-input.csv', 'r') as file:\n",
    "    cr = csv.reader(file)"
   ]
  },
  {
   "cell_type": "code",
   "execution_count": null,
   "metadata": {},
   "outputs": [],
   "source": [
    "aggr_list = []\n",
    "temp_drug_name = ''\n",
    "doc_count = 0\n",
    "amount = 0\n",
    "for list_element in sorted_new_list:\n",
    "    temp_drug_name = list_element[0]\n",
    "    if temp_drug_name == list_element[0]:\n",
    "        amount += float(amount)\n",
    "        doc_count += 1\n",
    "\n",
    "    aggr_list.append([temp_drug_name, doc_count, amount])\n",
    "\n",
    "print(aggr_list)"
   ]
  },
  {
   "cell_type": "code",
   "execution_count": null,
   "metadata": {},
   "outputs": [],
   "source": []
  },
  {
   "cell_type": "code",
   "execution_count": 17,
   "metadata": {},
   "outputs": [
    {
     "data": {
      "text/plain": [
       "['R1,Reactor_149181,1727093089,5,-4.28528,-3.0301,1.08615\\n',\n",
       " 'R1,Reactor_149181,1727086545,10,-1.51213,2.19144,9.16378\\n',\n",
       " 'R1,Reactor_149181,1727377897,157,12.2241,33.9219,152.775\\n',\n",
       " 'R1,Reactor_149181,1727397785,9,-1.8463,4.26072,-7.24853\\n',\n",
       " 'R1,Reactor_149181,1727894874,2,-1.09872,2.03899,-0.26474\\n',\n",
       " 'R1,Reactor_149181,1727902219,3,-1.70057,-1.85916,1.63892\\n',\n",
       " 'R2,Reactor_148029,283359551,70,-5.5832,17.5003,-67.3188\\n',\n",
       " 'R2,Reactor_148029,283594079,26,2.13716,-26.1156,-0.48773\\n',\n",
       " 'R2,Reactor_148029,283299017,5,2.44668,3.01155,3.5583\\n',\n",
       " 'R2,Reactor_148029,283454505,36,-11.6773,32.5941,-8.56518\\n',\n",
       " 'R2,Reactor_148029,283619393,9,-3.1759,0.441519,8.50991\\n',\n",
       " 'R2,Reactor_148029,284154251,15,-13.8354,0.013751,6.33985\\n',\n",
       " 'R2,Reactor_148029,284187171,48,-18.3713,3.42209,-44.1103\\n',\n",
       " 'R2,Reactor_148029,284467795,35,-23.2446,6.13257,25.334\\n',\n",
       " 'R3,Reactor_148030,9830001,22,13.083,-1.52425,17.1959\\n',\n",
       " 'R3,Reactor_148030,10341146,94,11.6597,-17.2893,91.9858\\n',\n",
       " 'R3,Reactor_148030,9763147,52,-27.698,-18.1216,40.5281\\n',\n",
       " 'R3,Reactor_148030,9812035,19,10.5401,-15.6068,0.713237\\n']"
      ]
     },
     "execution_count": 17,
     "metadata": {},
     "output_type": "execute_result"
    }
   ],
   "source": [
    "data"
   ]
  },
  {
   "cell_type": "code",
   "execution_count": 4,
   "metadata": {},
   "outputs": [
    {
     "data": {
      "text/plain": [
       "['Reactor Code,Reactor Name,Event,Mass,px1,py1,pz1\\n',\n",
       " 'R1,Reactor_149181,1727093089,5,-4.28528,-3.0301,1.08615\\n',\n",
       " 'R1,Reactor_149181,1727086545,10,-1.51213,2.19144,9.16378\\n',\n",
       " 'R1,Reactor_149181,1727377897,157,12.2241,33.9219,152.775\\n',\n",
       " 'R1,Reactor_149181,1727397785,9,-1.8463,4.26072,-7.24853\\n']"
      ]
     },
     "execution_count": 4,
     "metadata": {},
     "output_type": "execute_result"
    }
   ],
   "source": [
    "em_data[:5] # Displaying first 5 entry,also known as list slicing"
   ]
  },
  {
   "cell_type": "code",
   "execution_count": 5,
   "metadata": {},
   "outputs": [],
   "source": [
    "data = em_data[1:] #to remove 1st entry i.e header"
   ]
  },
  {
   "cell_type": "code",
   "execution_count": 6,
   "metadata": {},
   "outputs": [],
   "source": [
    "# Storing all the entry of data to Table called df\n",
    "i=0\n",
    "while i<len(data):\n",
    "    t=data[i][:-1] # removing the \\n ,i.e newline character\n",
    "    t=t.split(',') # splitting a string into list\n",
    "    df.loc[i] = t \n",
    "    i=i+1"
   ]
  },
  {
   "cell_type": "code",
   "execution_count": 7,
   "metadata": {},
   "outputs": [
    {
     "data": {
      "text/html": [
       "<div>\n",
       "<style scoped>\n",
       "    .dataframe tbody tr th:only-of-type {\n",
       "        vertical-align: middle;\n",
       "    }\n",
       "\n",
       "    .dataframe tbody tr th {\n",
       "        vertical-align: top;\n",
       "    }\n",
       "\n",
       "    .dataframe thead th {\n",
       "        text-align: right;\n",
       "    }\n",
       "</style>\n",
       "<table border=\"1\" class=\"dataframe\">\n",
       "  <thead>\n",
       "    <tr style=\"text-align: right;\">\n",
       "      <th></th>\n",
       "      <th>Reactor Code</th>\n",
       "      <th>Reactor Name</th>\n",
       "      <th>Event</th>\n",
       "      <th>Mass</th>\n",
       "      <th>px1</th>\n",
       "      <th>py1</th>\n",
       "      <th>pz1</th>\n",
       "    </tr>\n",
       "  </thead>\n",
       "  <tbody>\n",
       "    <tr>\n",
       "      <th>0</th>\n",
       "      <td>R1</td>\n",
       "      <td>Reactor_149181</td>\n",
       "      <td>1727093089</td>\n",
       "      <td>5</td>\n",
       "      <td>-4.28528</td>\n",
       "      <td>-3.0301</td>\n",
       "      <td>1.08615</td>\n",
       "    </tr>\n",
       "    <tr>\n",
       "      <th>1</th>\n",
       "      <td>R1</td>\n",
       "      <td>Reactor_149181</td>\n",
       "      <td>1727086545</td>\n",
       "      <td>10</td>\n",
       "      <td>-1.51213</td>\n",
       "      <td>2.19144</td>\n",
       "      <td>9.16378</td>\n",
       "    </tr>\n",
       "    <tr>\n",
       "      <th>2</th>\n",
       "      <td>R1</td>\n",
       "      <td>Reactor_149181</td>\n",
       "      <td>1727377897</td>\n",
       "      <td>157</td>\n",
       "      <td>12.2241</td>\n",
       "      <td>33.9219</td>\n",
       "      <td>152.775</td>\n",
       "    </tr>\n",
       "    <tr>\n",
       "      <th>3</th>\n",
       "      <td>R1</td>\n",
       "      <td>Reactor_149181</td>\n",
       "      <td>1727397785</td>\n",
       "      <td>9</td>\n",
       "      <td>-1.8463</td>\n",
       "      <td>4.26072</td>\n",
       "      <td>-7.24853</td>\n",
       "    </tr>\n",
       "    <tr>\n",
       "      <th>4</th>\n",
       "      <td>R1</td>\n",
       "      <td>Reactor_149181</td>\n",
       "      <td>1727894874</td>\n",
       "      <td>2</td>\n",
       "      <td>-1.09872</td>\n",
       "      <td>2.03899</td>\n",
       "      <td>-0.26474</td>\n",
       "    </tr>\n",
       "  </tbody>\n",
       "</table>\n",
       "</div>"
      ],
      "text/plain": [
       "  Reactor Code    Reactor Name       Event Mass       px1      py1       pz1\n",
       "0           R1  Reactor_149181  1727093089    5  -4.28528  -3.0301   1.08615\n",
       "1           R1  Reactor_149181  1727086545   10  -1.51213  2.19144   9.16378\n",
       "2           R1  Reactor_149181  1727377897  157   12.2241  33.9219   152.775\n",
       "3           R1  Reactor_149181  1727397785    9   -1.8463  4.26072  -7.24853\n",
       "4           R1  Reactor_149181  1727894874    2  -1.09872  2.03899  -0.26474"
      ]
     },
     "execution_count": 7,
     "metadata": {},
     "output_type": "execute_result"
    }
   ],
   "source": [
    "# now data is converted ito table form\n",
    "df.head() #display top 5 rows"
   ]
  },
  {
   "cell_type": "code",
   "execution_count": 8,
   "metadata": {},
   "outputs": [
    {
     "data": {
      "text/plain": [
       "Reactor Code    object\n",
       "Reactor Name    object\n",
       "Event           object\n",
       "Mass            object\n",
       "px1             object\n",
       "py1             object\n",
       "pz1             object\n",
       "dtype: object"
      ]
     },
     "execution_count": 8,
     "metadata": {},
     "output_type": "execute_result"
    }
   ],
   "source": [
    "df.dtypes # checking datatype before applying mean() on MASS"
   ]
  },
  {
   "cell_type": "code",
   "execution_count": 9,
   "metadata": {},
   "outputs": [],
   "source": [
    "df = df.astype({'Mass': 'int32'}) # convert Mass from object type to integer"
   ]
  },
  {
   "cell_type": "code",
   "execution_count": 10,
   "metadata": {},
   "outputs": [
    {
     "data": {
      "text/html": [
       "<div>\n",
       "<style scoped>\n",
       "    .dataframe tbody tr th:only-of-type {\n",
       "        vertical-align: middle;\n",
       "    }\n",
       "\n",
       "    .dataframe tbody tr th {\n",
       "        vertical-align: top;\n",
       "    }\n",
       "\n",
       "    .dataframe thead th {\n",
       "        text-align: right;\n",
       "    }\n",
       "</style>\n",
       "<table border=\"1\" class=\"dataframe\">\n",
       "  <thead>\n",
       "    <tr style=\"text-align: right;\">\n",
       "      <th></th>\n",
       "      <th>Mass</th>\n",
       "    </tr>\n",
       "    <tr>\n",
       "      <th>Reactor Name</th>\n",
       "      <th></th>\n",
       "    </tr>\n",
       "  </thead>\n",
       "  <tbody>\n",
       "    <tr>\n",
       "      <th>Reactor_148029</th>\n",
       "      <td>30.50</td>\n",
       "    </tr>\n",
       "    <tr>\n",
       "      <th>Reactor_148030</th>\n",
       "      <td>46.75</td>\n",
       "    </tr>\n",
       "    <tr>\n",
       "      <th>Reactor_149181</th>\n",
       "      <td>31.00</td>\n",
       "    </tr>\n",
       "  </tbody>\n",
       "</table>\n",
       "</div>"
      ],
      "text/plain": [
       "                 Mass\n",
       "Reactor Name         \n",
       "Reactor_148029  30.50\n",
       "Reactor_148030  46.75\n",
       "Reactor_149181  31.00"
      ]
     },
     "execution_count": 10,
     "metadata": {},
     "output_type": "execute_result"
    }
   ],
   "source": [
    "# applying group by function on only 'Reactor Name' and 'Mass' column,\n",
    "# because only 'Reactor Name' and avgerage 'Mass' is to print\n",
    "\n",
    "df[['Reactor Name','Mass']].groupby(['Reactor Name']).mean()"
   ]
  },
  {
   "cell_type": "code",
   "execution_count": 11,
   "metadata": {},
   "outputs": [],
   "source": [
    "df_mean  = df[['Reactor Name','Mass']].groupby(['Reactor Name']).mean()"
   ]
  },
  {
   "cell_type": "code",
   "execution_count": 14,
   "metadata": {},
   "outputs": [],
   "source": [
    "dict_mean = dict(df_mean)"
   ]
  },
  {
   "cell_type": "code",
   "execution_count": 15,
   "metadata": {},
   "outputs": [
    {
     "data": {
      "text/plain": [
       "{'Mass': Reactor Name\n",
       " Reactor_148029    30.50\n",
       " Reactor_148030    46.75\n",
       " Reactor_149181    31.00\n",
       " Name: Mass, dtype: float64}"
      ]
     },
     "execution_count": 15,
     "metadata": {},
     "output_type": "execute_result"
    }
   ],
   "source": [
    "dict_mean"
   ]
  },
  {
   "cell_type": "code",
   "execution_count": null,
   "metadata": {},
   "outputs": [],
   "source": []
  },
  {
   "cell_type": "code",
   "execution_count": null,
   "metadata": {},
   "outputs": [],
   "source": [
    "import numpy as np\n",
    "import matplotlib.pyplot as plt\n",
    "import pandas as pd\n",
    "\n",
    "# Importing the dataset\n",
    "dataset = pd.read_csv('Social_Network_Ads.csv')\n",
    "X = dataset.iloc[:, [2, 3]].values\n",
    "y = dataset.iloc[:, 4].values\n",
    "\n",
    "\n",
    "# Splitting the dataset into the Training set and Test set\n",
    "from sklearn.model_selection import train_test_split\n",
    "X_train, X_test, y_train, y_test = train_test_split(X, y, test_size = 0.25, random_state = 0)\n"
   ]
  },
  {
   "cell_type": "code",
   "execution_count": null,
   "metadata": {},
   "outputs": [],
   "source": [
    "from sklearn.preprocessing import StandardScaler\n",
    "sc = StandardScaler()\n",
    "X_train = sc.fit_transform(X_train)\n",
    "X_test = sc.transform(X_test)"
   ]
  },
  {
   "cell_type": "code",
   "execution_count": null,
   "metadata": {},
   "outputs": [],
   "source": [
    "from sklearn.svm import SVC\n",
    "classifier = SVC(kernel='linear', random_state=0)\n",
    "classifier.fit(X_train, y_train)\n",
    "y_pred = classifier.predict(X_test)\n",
    "\n",
    "# Making the Confusion Matrix\n",
    "from sklearn.metrics import confusion_matrix\n",
    "cm = confusion_matrix(y_test, y_pred)"
   ]
  },
  {
   "cell_type": "markdown",
   "metadata": {},
   "source": [
    "# Importing the libraries"
   ]
  },
  {
   "cell_type": "code",
   "execution_count": 1,
   "metadata": {},
   "outputs": [],
   "source": [
    "import numpy as np\n",
    "import matplotlib.pyplot as plt\n",
    "import pandas as pd\n",
    "from sklearn.model_selection import GridSearchCV\n",
    "from sklearn.datasets import make_classification\n",
    "from sklearn.metrics import accuracy_score,classification_report"
   ]
  },
  {
   "cell_type": "markdown",
   "metadata": {},
   "source": [
    "# To Show the working: Generating classification dataset"
   ]
  },
  {
   "cell_type": "code",
   "execution_count": 2,
   "metadata": {},
   "outputs": [
    {
     "name": "stdout",
     "output_type": "stream",
     "text": [
      "(5676, 10) (5676,)\n"
     ]
    }
   ],
   "source": [
    "data,labels = make_classification(n_samples=5676,n_features=10,random_state=0)\n",
    "print(data.shape,labels.shape)\n",
    "X = data\n",
    "y = labels"
   ]
  },
  {
   "cell_type": "markdown",
   "metadata": {},
   "source": [
    "# For Your Work: comment the immediate above cell:2 and uncomment the below cell:3 and run\n",
    "- X is input set\n",
    "- y is target set"
   ]
  },
  {
   "cell_type": "code",
   "execution_count": 3,
   "metadata": {},
   "outputs": [],
   "source": [
    "# dataset = pd.read_csv('BDOShohamIML.csv')\n",
    "# X = dataset.iloc[:,:9].values \n",
    "# y = dataset.iloc[:,-1].values"
   ]
  },
  {
   "cell_type": "markdown",
   "metadata": {},
   "source": [
    "# splitting the dataset into training and test set. "
   ]
  },
  {
   "cell_type": "code",
   "execution_count": 4,
   "metadata": {},
   "outputs": [],
   "source": [
    "from sklearn.model_selection import train_test_split\n",
    "# 75% for training and 25% for test.\n",
    "X_train, X_test, y_train, y_test = train_test_split(X, y, test_size = 0.25, random_state = 0)"
   ]
  },
  {
   "cell_type": "markdown",
   "metadata": {},
   "source": [
    "# Feature Scaling "
   ]
  },
  {
   "cell_type": "code",
   "execution_count": 5,
   "metadata": {},
   "outputs": [],
   "source": [
    "from sklearn.preprocessing import StandardScaler\n",
    "sc = StandardScaler()\n",
    "X_train = sc.fit_transform(X_train)\n",
    "X_test = sc.transform(X_test)"
   ]
  },
  {
   "cell_type": "markdown",
   "metadata": {},
   "source": [
    "# Training the SVM model on the Training set"
   ]
  },
  {
   "cell_type": "code",
   "execution_count": 6,
   "metadata": {},
   "outputs": [
    {
     "data": {
      "text/plain": [
       "SVC(kernel='linear', random_state=0)"
      ]
     },
     "execution_count": 6,
     "metadata": {},
     "output_type": "execute_result"
    }
   ],
   "source": [
    "from sklearn.svm import SVC\n",
    "classifier = SVC(kernel = 'linear', random_state = 0)\n",
    "classifier.fit(X_train, y_train)"
   ]
  },
  {
   "cell_type": "markdown",
   "metadata": {},
   "source": [
    "# Predicting the Test set results"
   ]
  },
  {
   "cell_type": "code",
   "execution_count": 7,
   "metadata": {},
   "outputs": [],
   "source": [
    "y_pred = classifier.predict(X_test)"
   ]
  },
  {
   "cell_type": "markdown",
   "metadata": {},
   "source": [
    "# Making the Confusion Matrix,generating classification report and finding accuracy"
   ]
  },
  {
   "cell_type": "code",
   "execution_count": null,
   "metadata": {},
   "outputs": [],
   "source": [
    "from sklearn.metrics import confusion_matrix\n",
    "cm = confusion_matrix(y_test, y_pred)\n",
    "print(cm)"
   ]
  },
  {
   "cell_type": "code",
   "execution_count": null,
   "metadata": {},
   "outputs": [],
   "source": [
    "print(classification_report(y_test, y_pred))"
   ]
  },
  {
   "cell_type": "code",
   "execution_count": null,
   "metadata": {},
   "outputs": [],
   "source": [
    "accuracy_score(y_test,y_pred)"
   ]
  },
  {
   "cell_type": "markdown",
   "metadata": {},
   "source": [
    "# Parameter tuning using Grid Search\n",
    "- grid search run the model on all possible combination and store the best parameters for use."
   ]
  },
  {
   "cell_type": "code",
   "execution_count": null,
   "metadata": {},
   "outputs": [],
   "source": [
    "# defining range for parameter optimization\n",
    "param_grid = {'C': [0.1, 1, 10, 100], # 1000\n",
    "              'gamma': [1, 0.1, 0.01, 0.001], #0.0001\n",
    "              'kernel': ['linear', 'rbf', 'sigmoid']}  # include 'poly' as well in kernal list\n",
    "  \n",
    "grid = GridSearchCV(SVC(), param_grid, refit = True, verbose = 3,n_jobs=-1)\n",
    "  \n",
    "# fitting the model for grid search\n",
    "grid.fit(X_train, y_train)"
   ]
  },
  {
   "cell_type": "markdown",
   "metadata": {},
   "source": [
    "# Best Parameters after optimization"
   ]
  },
  {
   "cell_type": "code",
   "execution_count": null,
   "metadata": {},
   "outputs": [],
   "source": [
    "print(grid.best_params_)\n",
    "print(grid.best_estimator_)"
   ]
  },
  {
   "cell_type": "markdown",
   "metadata": {},
   "source": [
    "# Predicting the Test set results using Model trained on grid parameters"
   ]
  },
  {
   "cell_type": "code",
   "execution_count": null,
   "metadata": {},
   "outputs": [],
   "source": [
    "grid_y_pred = grid.predict(X_test)\n",
    "# print classification report\n",
    "print(classification_report(y_test, grid_y_pred))"
   ]
  },
  {
   "cell_type": "code",
   "execution_count": null,
   "metadata": {},
   "outputs": [],
   "source": [
    "confusion_matrix(y_test, grid_y_pred) # New confusion matrix,based on model trained on grid parameters"
   ]
  },
  {
   "cell_type": "code",
   "execution_count": null,
   "metadata": {},
   "outputs": [],
   "source": [
    "confusion_matrix(y_test, y_pred) # old confusion matrix"
   ]
  },
  {
   "cell_type": "code",
   "execution_count": null,
   "metadata": {},
   "outputs": [],
   "source": [
    "accuracy_score(y_test,grid_y_pred) # New accuracy,based on model trained on grid parameters"
   ]
  },
  {
   "cell_type": "code",
   "execution_count": null,
   "metadata": {},
   "outputs": [],
   "source": [
    "accuracy_score(y_test,y_pred) # old accuracy"
   ]
  },
  {
   "cell_type": "markdown",
   "metadata": {},
   "source": [
    "# Result discussion: \n",
    "   - true positive and true negative also improved after parameter optimization\n",
    "   - f1 score improved from 90 to 91 for class-1 and 91 to 92 for class-0\n",
    "   - Accuracy score improved from 0.9083861874559549 to 0.9126145172656801\n",
    "   \n",
    " - NOTE: include poly kernal in grid search to further improve the accuracy.\n",
    "   i have excluded poly kernal as it was taking longer time in my system to complete the execution"
   ]
  },
  {
   "cell_type": "code",
   "execution_count": 127,
   "metadata": {},
   "outputs": [],
   "source": [
    "def generate_average_mass():\n",
    "    # reading a file\n",
    "    with open('ca2-em-input.csv', 'r') as file:\n",
    "        em_data = file.readlines() \n",
    "    data = em_data[1:] #removing the header\n",
    "    data_list = [i[:-1].split(',') for i in data] #storing data into list\n",
    "    data_dict = {} # create a dictionary to store Reactor Name as key and Mass as a list of values.\n",
    "    ###########filling the data in dictionary#### i[1] is reacter name and i[3] is Mass ##############\n",
    "    for i in data_list:\n",
    "        if i[1] in data_dict:\n",
    "            data_dict[i[1]].append(i[3])\n",
    "        else:\n",
    "            data_dict[i[1]] = [i[3]]\n",
    "     ############################   \n",
    "    for i in data_dict:\n",
    "        temp = [int(j) for j in data_dict[i]] #converting Mass value into integer,by default it was string\n",
    "        total=0\n",
    "        length=0\n",
    "        for k in temp:\n",
    "            total = total + k\n",
    "            length = length + 1\n",
    "        print(i,' ',round(total/length,2))"
   ]
  },
  {
   "cell_type": "code",
   "execution_count": 128,
   "metadata": {},
   "outputs": [
    {
     "name": "stdout",
     "output_type": "stream",
     "text": [
      "Reactor_149181   31.0\n",
      "Reactor_148029   30.5\n",
      "Reactor_148030   46.75\n"
     ]
    }
   ],
   "source": [
    "generate_average_mass()"
   ]
  },
  {
   "cell_type": "code",
   "execution_count": 124,
   "metadata": {},
   "outputs": [
    {
     "data": {
      "text/plain": [
       "2.12"
      ]
     },
     "execution_count": 124,
     "metadata": {},
     "output_type": "execute_result"
    }
   ],
   "source": [
    "round(2.121234,2)"
   ]
  },
  {
   "cell_type": "code",
   "execution_count": null,
   "metadata": {},
   "outputs": [],
   "source": [
    "df[['date','cases']].groupby(by=['date']).sum()"
   ]
  },
  {
   "cell_type": "code",
   "execution_count": 106,
   "metadata": {},
   "outputs": [
    {
     "data": {
      "text/plain": [
       "97"
      ]
     },
     "execution_count": 106,
     "metadata": {},
     "output_type": "execute_result"
    }
   ],
   "source": [
    "len(em_data)"
   ]
  },
  {
   "cell_type": "code",
   "execution_count": 105,
   "metadata": {},
   "outputs": [],
   "source": [
    "# read the dataset,dummy dataset created for this task\n",
    "with open('carprices.txt', 'r') as file:\n",
    "    em_data = file.readlines() \n",
    "# ignore the heading\n",
    "em_data = em_data[1:]\n",
    "# remove the '\\n' from every dataset,hence stripping\n",
    "em_data = [i.strip() for i in em_data]"
   ]
  },
  {
   "cell_type": "code",
   "execution_count": 103,
   "metadata": {},
   "outputs": [
    {
     "name": "stdout",
     "output_type": "stream",
     "text": [
      "This data is invalid and will be ignored, invalid literal for int() with base 10: 'sb'\n",
      "This data is invalid and will be ignored, invalid literal for int() with base 10: 'gg'\n",
      "This data is invalid and will be ignored, invalid literal for int() with base 10: 'll'\n",
      "This data is invalid and will be ignored, invalid literal for int() with base 10: 'df'\n"
     ]
    }
   ],
   "source": [
    "# raise ValueError exception and convert string data to integer\n",
    "# store integer data to list k\n",
    "data_list=[]\n",
    "for i in em_data:\n",
    "    try:\n",
    "        data_list.append(int(i))\n",
    "    except ValueError as e:\n",
    "        print(\"This data is invalid and will be ignored,\",e)\n",
    "# round the values to nearest integer\n",
    "data_list = [round(i/10) for i in data_list]"
   ]
  },
  {
   "cell_type": "code",
   "execution_count": 104,
   "metadata": {},
   "outputs": [
    {
     "data": {
      "image/png": "[encoded data removed]",
      "text/plain": [
       "<Figure size 720x288 with 1 Axes>"
      ]
     },
     "metadata": {
      "needs_background": "light"
     },
     "output_type": "display_data"
    }
   ],
   "source": [
    "# import library\n",
    "import matplotlib.pyplot as plt\n",
    "import numpy as np\n",
    "# set figure size\n",
    "plt.figure(figsize=(10,4))\n",
    "# plot histogram\n",
    "plt.hist(x=data_list, bins=50, color='blue',alpha=0.80, rwidth=0.80)\n",
    "# set y limit to 10\n",
    "plt.ylim((None, 10))\n",
    "# set x and y label and title.\n",
    "plt.xlabel('Price in tens of thousands')\n",
    "plt.ylabel('Number of Cars')\n",
    "plt.title('Frequency of Car Prices')\n",
    "# display the plotting.\n",
    "plt.show()"
   ]
  },
  {
   "cell_type": "code",
   "execution_count": 107,
   "metadata": {},
   "outputs": [
    {
     "data": {
      "text/plain": [
       "93"
      ]
     },
     "execution_count": 107,
     "metadata": {},
     "output_type": "execute_result"
    }
   ],
   "source": [
    "len(data_list)"
   ]
  },
  {
   "cell_type": "code",
   "execution_count": null,
   "metadata": {},
   "outputs": [],
   "source": []
  }
 ],
 "metadata": {
  "kernelspec": {
   "display_name": "Python 3",
   "language": "python",
   "name": "python3"
  },
  "language_info": {
   "codemirror_mode": {
    "name": "ipython",
    "version": 3
   },
   "file_extension": ".py",
   "mimetype": "text/x-python",
   "name": "python",
   "nbconvert_exporter": "python",
   "pygments_lexer": "ipython3",
   "version": "3.8.5"
  }
 },
 "nbformat": 4,
 "nbformat_minor": 4
}
