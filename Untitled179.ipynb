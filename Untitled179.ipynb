{
 "cells": [
  {
   "cell_type": "code",
   "execution_count": 15,
   "metadata": {},
   "outputs": [],
   "source": [
    "def formatter(string):\n",
    "    \n",
    "    # split the string to get the list of words\n",
    "    words = string.split()\n",
    "    print('Formats:')\n",
    "    \n",
    "    # loop through each word\n",
    "    for word in words:\n",
    "        \n",
    "        # print with 13 spaces and capitalized first letter\n",
    "        print(\"{:<13} {}\".format(word,word.title()))"
   ]
  },
  {
   "cell_type": "code",
   "execution_count": 16,
   "metadata": {},
   "outputs": [
    {
     "name": "stdout",
     "output_type": "stream",
     "text": [
      "Formats:\n",
      "watch         Watch\n",
      "what          What\n",
      "happens       Happens\n"
     ]
    }
   ],
   "source": [
    "formatter('watch what happens')"
   ]
  },
  {
   "cell_type": "code",
   "execution_count": 17,
   "metadata": {},
   "outputs": [
    {
     "name": "stdout",
     "output_type": "stream",
     "text": [
      "Formats:\n",
      "every         Every\n",
      "word          Word\n",
      "will          Will\n",
      "be            Be\n",
      "processed     Processed\n"
     ]
    }
   ],
   "source": [
    "formatter('every word will be processed')"
   ]
  },
  {
   "cell_type": "code",
   "execution_count": 18,
   "metadata": {},
   "outputs": [
    {
     "name": "stdout",
     "output_type": "stream",
     "text": [
      "Formats:\n"
     ]
    }
   ],
   "source": [
    "formatter('')"
   ]
  },
  {
   "cell_type": "code",
   "execution_count": 19,
   "metadata": {},
   "outputs": [
    {
     "name": "stdout",
     "output_type": "stream",
     "text": [
      "Formats:\n",
      "problems      Problems\n",
      "are           Are\n",
      "starting      Starting\n",
      "to            To\n",
      "get           Get\n",
      "more          More\n",
      "interesting   Interesting\n"
     ]
    }
   ],
   "source": [
    "formatter('problems are starting to get more interesting')"
   ]
  },
  {
   "cell_type": "code",
   "execution_count": null,
   "metadata": {},
   "outputs": [],
   "source": []
  }
 ],
 "metadata": {
  "kernelspec": {
   "display_name": "Python 3",
   "language": "python",
   "name": "python3"
  },
  "language_info": {
   "codemirror_mode": {
    "name": "ipython",
    "version": 3
   },
   "file_extension": ".py",
   "mimetype": "text/x-python",
   "name": "python",
   "nbconvert_exporter": "python",
   "pygments_lexer": "ipython3",
   "version": "3.8.5"
  }
 },
 "nbformat": 4,
 "nbformat_minor": 4
}
