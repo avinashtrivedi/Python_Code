{
 "cells": [
  {
   "cell_type": "markdown",
   "metadata": {},
   "source": [
    "<h3 style=\"background-color:yellow;\">1) Use a sum accumulator, a for loop and a range statement to find the sum of the even intsfrom 140 to 581, inclusive. Use a print statement to print out a labelled answer: \"The sum of even ints from 140 to 581, inclusive, is _______.\"Do not use formulas to add up the ints, just add them up please. Copy the answer from the shell into your file, comment the answer out. Show how you can check your code. [Hint: one approach is to take a similar but smaller problem. Another approach is to use the formula for the sum of an arithmetic sequence – this is OK to check, but not for the original answer.] </h3>"
   ]
  },
  {
   "cell_type": "code",
   "execution_count": 1,
   "metadata": {},
   "outputs": [
    {
     "name": "stdout",
     "output_type": "stream",
     "text": [
      "The sum of even ints from 140 to 581, inclusive, is:  79560\n"
     ]
    }
   ],
   "source": [
    "SumAccumulator = 0\n",
    "for i in range(140,582): # It will run run from 140 to 581\n",
    "    if i%2==0: # check for even number\n",
    "        SumAccumulator = SumAccumulator + i #Add all the even number one by one\n",
    "print(\"The sum of even ints from 140 to 581, inclusive, is: \",SumAccumulator)"
   ]
  },
  {
   "cell_type": "code",
   "execution_count": 2,
   "metadata": {},
   "outputs": [
    {
     "data": {
      "text/plain": [
       "79560"
      ]
     },
     "execution_count": 2,
     "metadata": {},
     "output_type": "execute_result"
    }
   ],
   "source": [
    "#check the Answer using this technique\n",
    "#output of this cell and previous cell is same\n",
    "sum([i for i in range(140,582) if i%2==0]) "
   ]
  },
  {
   "cell_type": "markdown",
   "metadata": {},
   "source": [
    "<h3 style=\"background-color:yellow;\">2) Write python code to solicit four numbers from the user and to print out thesum of the squares of the 4 numbers shown below. For full credit, use a sum accumulator and a for loop. Have the user type in the 4 numbers 7, 35, 221, 7654.3 when prompted and then print out the sum of the squares of these number using a labelled print. Copy the answer from the shell into your file, comment the answer out. Show how you can check your code. [Hint: initialize a sum accumulator, set up a for loop. Inside the loop, solicit an input from the user, then update the sum accumulator.] </h3>"
   ]
  },
  {
   "cell_type": "code",
   "execution_count": 3,
   "metadata": {},
   "outputs": [
    {
     "name": "stdout",
     "output_type": "stream",
     "text": [
      "22\n",
      "44\n",
      "23\n",
      "43\n",
      "The sum of square of given inputs is:  4798\n"
     ]
    }
   ],
   "source": [
    "SumAccumulator = 0\n",
    "for i in range(4):\n",
    "    temp_input = int(input()) # by default input takes string values,hence int() will type cast received input to integer\n",
    "    SumAccumulator = SumAccumulator + temp_input**2   # **2 will square the temp_input,\n",
    "print(\"The sum of square of given inputs is: \",SumAccumulator)    "
   ]
  },
  {
   "cell_type": "markdown",
   "metadata": {},
   "source": [
    "<h3 style=\"background-color:yellow;\">3) (extra credit ) Find the following sum using a sum accumulator and a for loop:1 – 1/3 + 1/5 – 1/7 + 1/9 ... for a total of 40 terms.Print a labelled output, put the output in your code and comment it out. Use the round function (look it up on google or on python docs) to round your sum to 4 decimal points.Show how might you check your answer.[Hints: initialize a sum accumulator. Set up a for loop with a range statement. How many times should you go through the loop? What should the range be? Inside the loop, compute the current fraction and add it to the sum accumulator. You will need a mechanism to alternate the signs of the fractions being added. One way to make the sign alternate is to use (-1)**n, where n is an int – the sign of this expression alternates as n changes from even to odd – check it out! </h3>"
   ]
  },
  {
   "cell_type": "code",
   "execution_count": 4,
   "metadata": {},
   "outputs": [
    {
     "name": "stdout",
     "output_type": "stream",
     "text": [
      "Sum of 1 – 1/3 + 1/5 – 1/7 + 1/9 ..upto its 40 term is :  0.7791\n"
     ]
    }
   ],
   "source": [
    "SumAccumulator = 0\n",
    "denominator = 1\n",
    "#How many times should you go through the loop? 40 ,so as to add first 40 term of goven pattern 1 – 1/3 + 1/5 – 1/7 + 1/9...\n",
    "for i in range(40): #What should the range be? range(40)\n",
    "    #(-1)**i will alternate + and - in 1/1 – 1/3 + 1/5 – 1/7 + 1/9...\n",
    "    SumAccumulator = SumAccumulator + (1/denominator)*(-1)**i \n",
    "    denominator = denominator + 2 # increasing the denominator by 2 so as to form a pattern 1/1 – 1/3 + 1/5 – 1/7 + 1/9...\n",
    "print('Sum of 1 – 1/3 + 1/5 – 1/7 + 1/9 ..upto its 40 term is : ',round(SumAccumulator,4)) \n",
    "#round() round the SumAccumulator to 4 decimal points"
   ]
  },
  {
   "cell_type": "code",
   "execution_count": null,
   "metadata": {},
   "outputs": [],
   "source": []
  }
 ],
 "metadata": {
  "kernelspec": {
   "display_name": "Python 3",
   "language": "python",
   "name": "python3"
  },
  "language_info": {
   "codemirror_mode": {
    "name": "ipython",
    "version": 3
   },
   "file_extension": ".py",
   "mimetype": "text/x-python",
   "name": "python",
   "nbconvert_exporter": "python",
   "pygments_lexer": "ipython3",
   "version": "3.8.5"
  }
 },
 "nbformat": 4,
 "nbformat_minor": 4
}
