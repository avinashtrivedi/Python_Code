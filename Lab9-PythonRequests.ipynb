{
 "cells": [
  {
   "cell_type": "markdown",
   "metadata": {},
   "source": [
    "# Lab9 - Python Using Web APIs"
   ]
  },
  {
   "cell_type": "markdown",
   "metadata": {},
   "source": [
    "### Author: <font color='red'> {INSERT NAME HERE} </font>"
   ]
  },
  {
   "cell_type": "markdown",
   "metadata": {},
   "source": [
    "## Lab 9 - PART A (10 points)"
   ]
  },
  {
   "cell_type": "markdown",
   "metadata": {},
   "source": [
    "<div class=\"alert alert-block alert-warning\">\n",
    "<b>ATTENTION:</b> PART A of this lab corresponds to the YouTube video: \n",
    "    <em>Python: Using Web APIs Tutorial | HTTP Requests by Joe James</em><br>\n",
    "    <b>Watch this YouTube video and complete the code to complete PART A of the Lab.<b> (13m 30s)<br><br>\n",
    "    <b>URL: https://youtu.be/ChwSD5e0Qs0 </b>\n",
    "</div>"
   ]
  },
  {
   "cell_type": "markdown",
   "metadata": {},
   "source": [
    "## URL: https://youtu.be/ChwSD5e0Qs0 "
   ]
  },
  {
   "cell_type": "markdown",
   "metadata": {},
   "source": [
    "(c) 2019, Joe James.\n",
    "MIT License.\n",
    "\n",
    "Tutorial on using the [Requests](http://docs.python-requests.org/en/master/user/quickstart/) library to access HTTP requests, GET, POST, PUT, DELETE, HEAD, OPTIONS.  \n",
    "This notebook also covers how to use the Python [JSON](https://docs.python.org/3/library/json.html) library to parse values out of a GET response.  \n",
    "If you don't have the requests library installed you can run 'pip install requests' or some equivalent command for your system in the console window.  "
   ]
  },
  {
   "cell_type": "code",
   "execution_count": 1,
   "metadata": {},
   "outputs": [],
   "source": [
    "# Required import statements\n",
    "import requests\n",
    "import json"
   ]
  },
  {
   "cell_type": "markdown",
   "metadata": {},
   "source": [
    "#### HTTP Request types (Each URI = API Endpoint)\n",
    "An example of each type of HTTP Request is provided below.<br>\n",
    "In each case, <strong>r</strong> = the Response object returned by the Server."
   ]
  },
  {
   "cell_type": "code",
   "execution_count": 2,
   "metadata": {},
   "outputs": [],
   "source": [
    "# CODE PROVIDED (Sample HTTP Requests) ~ GET, POST, PUT, DELETE, HEAD and OPTIONS requests\n",
    "\n",
    "# Sample GET request to the GitHub API /events endpoint\n",
    "r = requests.get('https://api.github.com/events')\n",
    "r = requests.post('https://httpbin.org/post', data = {'name':'Joe'})\n",
    "r = requests.put('https://httpbin.org/put', data = {'name':'Joe'})\n",
    "r = requests.delete('https://httpbin.org/delete')\n",
    "r = requests.head('https://httpbin.org/get')\n",
    "r = requests.options('https://httpbin.org/get')"
   ]
  },
  {
   "cell_type": "markdown",
   "metadata": {},
   "source": [
    "### GET Requests - Passing Parameters in URLs\n",
    "A URL that returns an HTTP response in JSON format is called an API endpoint.  \n",
    "Here's an example, https://httpbin.org/get  \n",
    "\n",
    "With GET requests we can add parameters onto the URL to retrieve specific data.  \n",
    "We define the __params__ as a __dictionary__, and add __params =__ _payload_ to the Request.  \n",
    "The Requests library builds the whole URL for us."
   ]
  },
  {
   "cell_type": "markdown",
   "metadata": {},
   "source": [
    "<span style=\"color:blue\">\n",
    "<ul>\n",
    "    <li>Create a <strong>payload</strong> variable as shown in the tutorial using a dictionary {'key1': 'value1', 'key2': 'value2'}</li>\n",
    "    <li>Enter the code for a <strong>GET</strong> to <strong>https://httpbin.org/get</strong> passing the <strong>payload</strong> variable - save the response in variable <strong>r</strong></li>\n",
    "    <li>Print the <strong>url</strong> so you can see the generated URL</li>\n",
    "    </ul>\n",
    "</span>"
   ]
  },
  {
   "cell_type": "code",
   "execution_count": 3,
   "metadata": {},
   "outputs": [],
   "source": [
    "# INSERT GET CODE USING PAYLOAD \n"
   ]
  },
  {
   "cell_type": "markdown",
   "metadata": {},
   "source": [
    "**Passing a List as a parameter**  \n",
    "Note that when creating the dictionary payload with {key:value} pairs, a value(s) can also be a __list__.  "
   ]
  },
  {
   "cell_type": "markdown",
   "metadata": {},
   "source": [
    "<div class=\"alert alert-block alert-info\">\n",
    "    <b>NOTE:</b> There are many different properties included in the HTTP Request response. <br>To see the properties that can be extracted from the Response object, check out the list (with runnable examples) at W3SCHOOLS.COM <br><strong> https://www.w3schools.com/python/ref_requests_response.asp</strong></div>"
   ]
  },
  {
   "cell_type": "markdown",
   "metadata": {},
   "source": [
    "<span style=\"color:blue\">\n",
    "    Following the tutorial ...\n",
    "    <ul>\n",
    "        <li>Create a new <strong><em>payload</em></strong> variable using the dictionary {'key1': 'value1', 'key2': ['value2', 'value3']} </li>\n",
    "        <li> Enter the code for a <strong>GET</strong> request passing the <strong>payload</strong> variable - save the response in variable <strong>r</strong></li>\n",
    "        <li>Print the response (<strong>r</strong>) values: URL, ENCODING, STATUS_CODE, HEADERS, TEXT, CONTENT and JSON - each on a separate line as shown in the video</li>\n",
    "            </ul>\n",
    "</span>"
   ]
  },
  {
   "cell_type": "code",
   "execution_count": 4,
   "metadata": {},
   "outputs": [],
   "source": [
    "# INSERT GET CODE USING PAYLOAD WITH A LIST and PRINT RESPONSE VALUES\n"
   ]
  },
  {
   "cell_type": "markdown",
   "metadata": {},
   "source": [
    "<div class=\"alert alert-block alert-info\">\n",
    "<b>LOOK AT THE OUTPUT GENERATED!</b> Check out the values printed by the previous print statements -- you should understand and/or recognize most of the information displayed.\n",
    "</div>"
   ]
  },
  {
   "cell_type": "markdown",
   "metadata": {},
   "source": [
    "### POST Requests\n",
    "We can also add parameters to a POST request in dictionary format, but the parameters are provided using a __data=payload__ syntax where _payload_ is the dictionary.  \n",
    "- POST requests are used to __upload new records__ to the server.  \n",
    "-POST requests would typically be used to get data from a __web form__ and __submit__ it to the server. "
   ]
  },
  {
   "cell_type": "markdown",
   "metadata": {},
   "source": [
    "<span style=\"color:blue\">\n",
    "    Following the tutorial ...\n",
    "    <ul>\n",
    "        <li> Enter the code for a <strong>POST</strong> request with <strong>data = {'name':'Joe'}</strong> - save the response in variable <strong>r</strong></li>\n",
    "        <li>Print the response (<strong>r</strong>) value: TEXT</li>\n",
    "    </ul>\n",
    "</span>"
   ]
  },
  {
   "cell_type": "code",
   "execution_count": 5,
   "metadata": {},
   "outputs": [],
   "source": [
    "# INSERT POST CODE USING DATA = {'name': 'Joe'}\n"
   ]
  },
  {
   "cell_type": "markdown",
   "metadata": {},
   "source": [
    "<div class=\"alert alert-block alert-info\">\n",
    "<b>LOOK AT THE OUTPUT GENERATED!</b> Specifically the \"form\" and \"Content-Length\" values\n",
    "</div>"
   ]
  },
  {
   "cell_type": "markdown",
   "metadata": {},
   "source": [
    "<span style=\"color:blue\">\n",
    "    Following the tutorial ...\n",
    "    <ul>\n",
    "        <li>Create a new <strong><em>payload</em></strong> variable using the dictionary {'key1': 'value1', 'key2': 'value2'} </li>\n",
    "        <li> Enter the code for a <strong>POST</strong> request with <strong>data = payload</strong> - save the response in variable <strong>r</strong></li>\n",
    "        <li>Print the response (<strong>r</strong>) value: TEXT</li>\n",
    "    </ul>\n",
    "</span>"
   ]
  },
  {
   "cell_type": "code",
   "execution_count": 6,
   "metadata": {},
   "outputs": [],
   "source": [
    "# INSERT POST CODE USING DATA = payload\n"
   ]
  },
  {
   "cell_type": "markdown",
   "metadata": {},
   "source": [
    "<div class=\"alert alert-block alert-info\">\n",
    "<b>LOOK AT THE OUTPUT GENERATED!</b> Specifically the \"form\" and \"Content-Length\" values which will be different than previous POST request.\n",
    "</div>"
   ]
  },
  {
   "cell_type": "markdown",
   "metadata": {},
   "source": [
    "### Using Requests to GET Currency Exchange Data"
   ]
  },
  {
   "cell_type": "markdown",
   "metadata": {},
   "source": [
    "<div class=\"alert alert-block alert-danger\">\n",
    "<strong>ATTENTION:</strong> The endpoint referenced in the tutorial [https://api.exchangeratesapi.io/latest] to GET foreign currency exchange rates,\n",
    "    now requires an <strong>API Access Key!!!</strong><br><br><strong>Use the following URL instead: https://open.er-api.com/v6/latest </strong>\n",
    "</div>"
   ]
  },
  {
   "cell_type": "markdown",
   "metadata": {},
   "source": [
    "<span style=\"color:blue\">\n",
    "    Using the alternate URL provided (open-er-api.com) ...\n",
    "    <ul>\n",
    "    <li>Enter the code for a <strong>GET</strong> request using the updated <strong>exchange rates API</strong> URL provided</li>\n",
    "    <li>Save the response in variable <strong>r</strong></li>\n",
    "    </ul>        \n",
    "</span>"
   ]
  },
  {
   "cell_type": "code",
   "execution_count": 7,
   "metadata": {},
   "outputs": [],
   "source": [
    "# INSERT GET CODE USING ALTERNATE URL TO GET LATEST EXCHANGE RATES\n"
   ]
  },
  {
   "cell_type": "code",
   "execution_count": 8,
   "metadata": {},
   "outputs": [
    {
     "ename": "JSONDecodeError",
     "evalue": "Expecting value: line 1 column 1 (char 0)",
     "output_type": "error",
     "traceback": [
      "\u001b[1;31m---------------------------------------------------------------------------\u001b[0m",
      "\u001b[1;31mJSONDecodeError\u001b[0m                           Traceback (most recent call last)",
      "\u001b[1;32m<ipython-input-8-b140de57c4a9>\u001b[0m in \u001b[0;36m<module>\u001b[1;34m\u001b[0m\n\u001b[0;32m      1\u001b[0m \u001b[1;31m# DO NOT MODIFY !!!\u001b[0m\u001b[1;33m\u001b[0m\u001b[1;33m\u001b[0m\u001b[1;33m\u001b[0m\u001b[0m\n\u001b[0;32m      2\u001b[0m \u001b[1;31m# Re-printing the the response in a format that is easier to read\u001b[0m\u001b[1;33m\u001b[0m\u001b[1;33m\u001b[0m\u001b[1;33m\u001b[0m\u001b[0m\n\u001b[1;32m----> 3\u001b[1;33m \u001b[0mjson_data\u001b[0m \u001b[1;33m=\u001b[0m \u001b[0mr\u001b[0m\u001b[1;33m.\u001b[0m\u001b[0mjson\u001b[0m\u001b[1;33m(\u001b[0m\u001b[1;33m)\u001b[0m\u001b[1;33m\u001b[0m\u001b[1;33m\u001b[0m\u001b[0m\n\u001b[0m\u001b[0;32m      4\u001b[0m \u001b[0mprint\u001b[0m\u001b[1;33m(\u001b[0m\u001b[0mjson\u001b[0m\u001b[1;33m.\u001b[0m\u001b[0mdumps\u001b[0m\u001b[1;33m(\u001b[0m\u001b[0mjson_data\u001b[0m\u001b[1;33m,\u001b[0m \u001b[0mindent\u001b[0m\u001b[1;33m=\u001b[0m\u001b[1;36m4\u001b[0m\u001b[1;33m)\u001b[0m\u001b[1;33m)\u001b[0m\u001b[1;33m\u001b[0m\u001b[1;33m\u001b[0m\u001b[0m\n",
      "\u001b[1;32m~\\Anaconda3\\lib\\site-packages\\requests\\models.py\u001b[0m in \u001b[0;36mjson\u001b[1;34m(self, **kwargs)\u001b[0m\n\u001b[0;32m    898\u001b[0m                     \u001b[1;31m# used.\u001b[0m\u001b[1;33m\u001b[0m\u001b[1;33m\u001b[0m\u001b[1;33m\u001b[0m\u001b[0m\n\u001b[0;32m    899\u001b[0m                     \u001b[1;32mpass\u001b[0m\u001b[1;33m\u001b[0m\u001b[1;33m\u001b[0m\u001b[0m\n\u001b[1;32m--> 900\u001b[1;33m         \u001b[1;32mreturn\u001b[0m \u001b[0mcomplexjson\u001b[0m\u001b[1;33m.\u001b[0m\u001b[0mloads\u001b[0m\u001b[1;33m(\u001b[0m\u001b[0mself\u001b[0m\u001b[1;33m.\u001b[0m\u001b[0mtext\u001b[0m\u001b[1;33m,\u001b[0m \u001b[1;33m**\u001b[0m\u001b[0mkwargs\u001b[0m\u001b[1;33m)\u001b[0m\u001b[1;33m\u001b[0m\u001b[1;33m\u001b[0m\u001b[0m\n\u001b[0m\u001b[0;32m    901\u001b[0m \u001b[1;33m\u001b[0m\u001b[0m\n\u001b[0;32m    902\u001b[0m     \u001b[1;33m@\u001b[0m\u001b[0mproperty\u001b[0m\u001b[1;33m\u001b[0m\u001b[1;33m\u001b[0m\u001b[0m\n",
      "\u001b[1;32m~\\Anaconda3\\lib\\json\\__init__.py\u001b[0m in \u001b[0;36mloads\u001b[1;34m(s, cls, object_hook, parse_float, parse_int, parse_constant, object_pairs_hook, **kw)\u001b[0m\n\u001b[0;32m    355\u001b[0m             \u001b[0mparse_int\u001b[0m \u001b[1;32mis\u001b[0m \u001b[1;32mNone\u001b[0m \u001b[1;32mand\u001b[0m \u001b[0mparse_float\u001b[0m \u001b[1;32mis\u001b[0m \u001b[1;32mNone\u001b[0m \u001b[1;32mand\u001b[0m\u001b[1;33m\u001b[0m\u001b[1;33m\u001b[0m\u001b[0m\n\u001b[0;32m    356\u001b[0m             parse_constant is None and object_pairs_hook is None and not kw):\n\u001b[1;32m--> 357\u001b[1;33m         \u001b[1;32mreturn\u001b[0m \u001b[0m_default_decoder\u001b[0m\u001b[1;33m.\u001b[0m\u001b[0mdecode\u001b[0m\u001b[1;33m(\u001b[0m\u001b[0ms\u001b[0m\u001b[1;33m)\u001b[0m\u001b[1;33m\u001b[0m\u001b[1;33m\u001b[0m\u001b[0m\n\u001b[0m\u001b[0;32m    358\u001b[0m     \u001b[1;32mif\u001b[0m \u001b[0mcls\u001b[0m \u001b[1;32mis\u001b[0m \u001b[1;32mNone\u001b[0m\u001b[1;33m:\u001b[0m\u001b[1;33m\u001b[0m\u001b[1;33m\u001b[0m\u001b[0m\n\u001b[0;32m    359\u001b[0m         \u001b[0mcls\u001b[0m \u001b[1;33m=\u001b[0m \u001b[0mJSONDecoder\u001b[0m\u001b[1;33m\u001b[0m\u001b[1;33m\u001b[0m\u001b[0m\n",
      "\u001b[1;32m~\\Anaconda3\\lib\\json\\decoder.py\u001b[0m in \u001b[0;36mdecode\u001b[1;34m(self, s, _w)\u001b[0m\n\u001b[0;32m    335\u001b[0m \u001b[1;33m\u001b[0m\u001b[0m\n\u001b[0;32m    336\u001b[0m         \"\"\"\n\u001b[1;32m--> 337\u001b[1;33m         \u001b[0mobj\u001b[0m\u001b[1;33m,\u001b[0m \u001b[0mend\u001b[0m \u001b[1;33m=\u001b[0m \u001b[0mself\u001b[0m\u001b[1;33m.\u001b[0m\u001b[0mraw_decode\u001b[0m\u001b[1;33m(\u001b[0m\u001b[0ms\u001b[0m\u001b[1;33m,\u001b[0m \u001b[0midx\u001b[0m\u001b[1;33m=\u001b[0m\u001b[0m_w\u001b[0m\u001b[1;33m(\u001b[0m\u001b[0ms\u001b[0m\u001b[1;33m,\u001b[0m \u001b[1;36m0\u001b[0m\u001b[1;33m)\u001b[0m\u001b[1;33m.\u001b[0m\u001b[0mend\u001b[0m\u001b[1;33m(\u001b[0m\u001b[1;33m)\u001b[0m\u001b[1;33m)\u001b[0m\u001b[1;33m\u001b[0m\u001b[1;33m\u001b[0m\u001b[0m\n\u001b[0m\u001b[0;32m    338\u001b[0m         \u001b[0mend\u001b[0m \u001b[1;33m=\u001b[0m \u001b[0m_w\u001b[0m\u001b[1;33m(\u001b[0m\u001b[0ms\u001b[0m\u001b[1;33m,\u001b[0m \u001b[0mend\u001b[0m\u001b[1;33m)\u001b[0m\u001b[1;33m.\u001b[0m\u001b[0mend\u001b[0m\u001b[1;33m(\u001b[0m\u001b[1;33m)\u001b[0m\u001b[1;33m\u001b[0m\u001b[1;33m\u001b[0m\u001b[0m\n\u001b[0;32m    339\u001b[0m         \u001b[1;32mif\u001b[0m \u001b[0mend\u001b[0m \u001b[1;33m!=\u001b[0m \u001b[0mlen\u001b[0m\u001b[1;33m(\u001b[0m\u001b[0ms\u001b[0m\u001b[1;33m)\u001b[0m\u001b[1;33m:\u001b[0m\u001b[1;33m\u001b[0m\u001b[1;33m\u001b[0m\u001b[0m\n",
      "\u001b[1;32m~\\Anaconda3\\lib\\json\\decoder.py\u001b[0m in \u001b[0;36mraw_decode\u001b[1;34m(self, s, idx)\u001b[0m\n\u001b[0;32m    353\u001b[0m             \u001b[0mobj\u001b[0m\u001b[1;33m,\u001b[0m \u001b[0mend\u001b[0m \u001b[1;33m=\u001b[0m \u001b[0mself\u001b[0m\u001b[1;33m.\u001b[0m\u001b[0mscan_once\u001b[0m\u001b[1;33m(\u001b[0m\u001b[0ms\u001b[0m\u001b[1;33m,\u001b[0m \u001b[0midx\u001b[0m\u001b[1;33m)\u001b[0m\u001b[1;33m\u001b[0m\u001b[1;33m\u001b[0m\u001b[0m\n\u001b[0;32m    354\u001b[0m         \u001b[1;32mexcept\u001b[0m \u001b[0mStopIteration\u001b[0m \u001b[1;32mas\u001b[0m \u001b[0merr\u001b[0m\u001b[1;33m:\u001b[0m\u001b[1;33m\u001b[0m\u001b[1;33m\u001b[0m\u001b[0m\n\u001b[1;32m--> 355\u001b[1;33m             \u001b[1;32mraise\u001b[0m \u001b[0mJSONDecodeError\u001b[0m\u001b[1;33m(\u001b[0m\u001b[1;34m\"Expecting value\"\u001b[0m\u001b[1;33m,\u001b[0m \u001b[0ms\u001b[0m\u001b[1;33m,\u001b[0m \u001b[0merr\u001b[0m\u001b[1;33m.\u001b[0m\u001b[0mvalue\u001b[0m\u001b[1;33m)\u001b[0m \u001b[1;32mfrom\u001b[0m \u001b[1;32mNone\u001b[0m\u001b[1;33m\u001b[0m\u001b[1;33m\u001b[0m\u001b[0m\n\u001b[0m\u001b[0;32m    356\u001b[0m         \u001b[1;32mreturn\u001b[0m \u001b[0mobj\u001b[0m\u001b[1;33m,\u001b[0m \u001b[0mend\u001b[0m\u001b[1;33m\u001b[0m\u001b[1;33m\u001b[0m\u001b[0m\n",
      "\u001b[1;31mJSONDecodeError\u001b[0m: Expecting value: line 1 column 1 (char 0)"
     ]
    }
   ],
   "source": [
    "# DO NOT MODIFY !!!\n",
    "# Re-printing the the response in a format that is easier to read\n",
    "json_data = r.json()\n",
    "print(json.dumps(json_data, indent=4))"
   ]
  },
  {
   "cell_type": "markdown",
   "metadata": {},
   "source": [
    "<div class=\"alert alert-block alert-warning\">\n",
    "<b>THE DEFAULT ...</b> base was set to USD ($). This can be verified by looking in the JSON for <b>\"base_code\": \"USD\"</b>.\n",
    "</div>"
   ]
  },
  {
   "cell_type": "markdown",
   "metadata": {},
   "source": [
    "<span style=\"color:blue\">\n",
    "    Diverting slightly from the tutorial, but still using the alternate URL provided (open-er-api.com) ...\n",
    "    <ul>\n",
    "    <li>Enter the code for a <strong>GET</strong> request but this time get the exchange rates for the EURO instead. Add <b>/EUR</b> to the end of the URL.\n",
    "    <li>Save the response in variable <strong>r_euro</strong></li>       \n",
    "    <li>Print the response (<strong>r_euro</strong>) value: TEXT</li>  \n",
    "    </ul>\n",
    "    <p><b>Remember to change the response variable to r_euro</b> so you don't over-write the USD response information</p>\n",
    "</span>"
   ]
  },
  {
   "cell_type": "code",
   "execution_count": null,
   "metadata": {},
   "outputs": [],
   "source": [
    "# INSERT GET CODE USING ALTERNATE URL TO GET EUR EXCHANGE RATES\n"
   ]
  },
  {
   "cell_type": "markdown",
   "metadata": {},
   "source": [
    "### Decoding JSON data\n",
    "Now that we have the USD ($) exchange rates in JSON format. We need to convert that to usable data. \n",
    "The JSON library basically has two functions:  \n",
    "- __json.loads( )__ ~ converts a text string into Python dict/list objects.  \n",
    "- __json.dumps( )__ ~ converts dict/list objects into a string.  \n",
    "\n",
    "Let's decode the JSON data into a dictionary, then get the rate for GBP (&#163;), convert it to a float, and do a conversion."
   ]
  },
  {
   "cell_type": "markdown",
   "metadata": {},
   "source": [
    "<span style=\"color:blue\">\n",
    "    Insert the code from the tutorial to use <strong>json.loads</strong> to convert the text string into a Python dict/list<br>\n",
    "    Print the rates and calculate the conversion (as shown in tutorial) \n",
    "</span>\n",
    "<span style=\"color:blue\">\n",
    "    Following the tutorial ...\n",
    "    <ul>\n",
    "        <li>Use <strong>json.loads</strong> to convert the text string into a Python dictionary</li>\n",
    "        <ul>\n",
    "            <li>referencing the <strong>text</strong> portion of the response <strong>r</strong> object get the <strong>['rates']</strong> values</li>\n",
    "            <li>assign the results to variable <strong>rates_json</strong></li>\n",
    "        </ul>\n",
    "        <li>Print <strong>rates_json</strong></li>\n",
    "        <li>Print <strong>rates_json['GBP']</strong></li>\n",
    "        <li>Cast/convert <strong>rates_json['GBP']</strong> to <strong>float</strong> and assign this float value to variable <strong>gbp</strong> </li>\n",
    "        <li>Calculate and print the value of of <strong>200USD</strong> ~ calculation code is shown in the video</li>\n",
    "    </ul>        \n",
    "</span>"
   ]
  },
  {
   "cell_type": "code",
   "execution_count": null,
   "metadata": {},
   "outputs": [],
   "source": [
    "# INSERT GET CODE USING JSON.LOADS TO GET GBP VALUE & CALCULATE 200 USD\n"
   ]
  },
  {
   "cell_type": "markdown",
   "metadata": {},
   "source": [
    "### Using Requests to GET TV Show Information"
   ]
  },
  {
   "cell_type": "markdown",
   "metadata": {},
   "source": [
    "<div class=\"alert alert-block alert-danger\">\n",
    "<strong>ATTENTION:</strong> The Song Data API now only returns XML (instead of JSON) ~ as per usual, change is constant online :-) <br>\n",
    "So, we are going to use a different API to do something similar, but using a different API -- we will use <strong>TV API | TVmaze </strong>[https://api.tvmaze.com/]<br><br>\n",
    "For more details, reference the FREE User API information at: https://www.tvmaze.com/api\n",
    "</div>"
   ]
  },
  {
   "cell_type": "markdown",
   "metadata": {},
   "source": [
    "#### Search for a specific show"
   ]
  },
  {
   "cell_type": "markdown",
   "metadata": {},
   "source": [
    "<span style=\"color:blue\">\n",
    "    Diverting from the tutorial and using the TVmaze API ... \n",
    "    <ul>\n",
    "        <li>Use the <strong>Show Search</strong> syntax to search for the show: <strong>Ted Lasso</strong>\n",
    "             <ul>\n",
    "                 <li>SYNTAX for Search is: /search/shows?q=:query</li>\n",
    "                 <li>BASE URL: https://api.tvmaze.com/ </li> \n",
    "                 <li>Ted Lasso can be entered as q=ted lasso</li>\n",
    "             </ul>\n",
    "        <li>Enter the code for a <strong>GET</strong> request specifying <strong>(url, verify=False)</strong></li>\n",
    "        <ul>\n",
    "            <li>I am having you add <strong>verify=False</strong> to avoid potential SSL Certification errors</li>\n",
    "        </ul>\n",
    "        <li>Save the response in variable <strong>r</strong></li>\n",
    "        <li>Print the response (<strong>r</strong>) value: TEXT</li>\n",
    "    </ul>        \n",
    "</span>"
   ]
  },
  {
   "cell_type": "code",
   "execution_count": null,
   "metadata": {},
   "outputs": [],
   "source": [
    "requests.packages.urllib3.disable_warnings() \n",
    "# INSERT GET CODE USING TVMAZE API - SEARCH FOR SHOW 'TED LASSO'\n"
   ]
  },
  {
   "cell_type": "code",
   "execution_count": null,
   "metadata": {},
   "outputs": [],
   "source": [
    "# DO NOT MODIFY !!!\n",
    "# Re-printing the the response in a format that is easier to read\n",
    "json_data = r.json()\n",
    "print(json.dumps(json_data, indent=4))"
   ]
  },
  {
   "cell_type": "markdown",
   "metadata": {},
   "source": [
    "#### Extract the show id to use in the next step"
   ]
  },
  {
   "cell_type": "markdown",
   "metadata": {},
   "source": [
    "<div class=\"alert alert-block alert-warning\">\n",
    "To get data out of a JSON object, which is a combination of lists and dictionaries, just remember:\n",
    "    <ul>\n",
    "        <li>for <b>lists</b> you need a <b>numerical index</b>, and </li>\n",
    "        <li>for <b>key-value pairs</b> you need a <b>text index/key</b>.</li>\n",
    "    </ul>  \n",
    "So if the object looks like this:<br> \n",
    "    <b>{\"cars\":[\"id\":1,\"model\":\"Camry\", ... ]}</b> <br>\n",
    "you access the model of the first car with <b>text['cars'][0]['model']</b>\n",
    "<p>From the previous output, you can see the <strong>json_data</strong> is actually a List containing a Dictionary containing  Dictionaries and/or Lists</p>\n",
    "    [ {\"score\": 1.204098, \"show\": {\"id\": 44458, ... \"genres\": [\"Drama\",\"Comedy\",\"Sports\"], \"status\": \"Running\", ...]\n",
    "</div>"
   ]
  },
  {
   "cell_type": "markdown",
   "metadata": {},
   "source": [
    "<span style=\"color:blue\">\n",
    "    <ul>\n",
    "        <li>Get the first (only) list entry, the <strong>show</strong> dictionary entry and the <strong>id</strong> dictionary entry within the show dictionary values</li>\n",
    "        <ul>\n",
    "            <li><strong>NOTE:</strong> This can all be done with 1 line of code.</li>\n",
    "            <li>List entries are referenced using <strong>index</strong> values</li>\n",
    "            <li>Dictionary entries are referenced using <strong>key</strong> values</li>\n",
    "        </ul>\n",
    "        <li>Save the show id in variable <strong>show_id</strong></li>\n",
    "        <li>Print <strong>show_id</strong> ~ the value should be <strong>44458</strong></li>\n",
    "    </ul>        \n",
    "</span>"
   ]
  },
  {
   "cell_type": "code",
   "execution_count": null,
   "metadata": {},
   "outputs": [],
   "source": [
    "# INSERT CODE TO GET & PRINT THE 'TED LASSO' SHOW ID -- \"id\": 44458\n"
   ]
  },
  {
   "cell_type": "markdown",
   "metadata": {},
   "source": [
    "#### Get the Episode List for this show (using 'show_id' just found)"
   ]
  },
  {
   "cell_type": "markdown",
   "metadata": {},
   "source": [
    "<span style=\"color:blue\">\n",
    "    <ul>\n",
    "        <li>Use the <strong>Show Episode List</strong> syntax to show all the episodes for the <strong>Ted Lasso</strong> show</li>\n",
    "             <ul>\n",
    "                 <li>SYNTAX for Search is: /shows/:id/episodes</li>\n",
    "                 <li>BASE URL: https://api.tvmaze.com/ </li> \n",
    "                 <li>/:id/ is the <strong>show_id</strong> value extracted in the previous step</li>\n",
    "             </ul>\n",
    "        <li>Enter the code for a <strong>GET</strong> request specifying <strong>(url, verify=False)</strong></li>\n",
    "        <li>Save the response in variable <strong>r</strong></li>\n",
    "        <li>Print the response (<strong>r</strong>) value: TEXT</li>\n",
    "    </ul>        \n",
    "</span>"
   ]
  },
  {
   "cell_type": "code",
   "execution_count": null,
   "metadata": {},
   "outputs": [],
   "source": [
    "# INSERT GET CODE USING TVMAZE API - SHOW EPISODE LIST (id:44458)\n"
   ]
  },
  {
   "cell_type": "code",
   "execution_count": null,
   "metadata": {},
   "outputs": [],
   "source": [
    "# DO NOT MODIFY !!!\n",
    "# Re-printing the the response in a format that is easier to read\n",
    "json_data = r.json()\n",
    "print(json.dumps(json_data, indent=4))"
   ]
  },
  {
   "cell_type": "markdown",
   "metadata": {},
   "source": [
    "#### Get Episode Information for a specific episode of this show"
   ]
  },
  {
   "cell_type": "markdown",
   "metadata": {},
   "source": [
    "<span style=\"color:blue\">\n",
    "    <ul>\n",
    "        <li>Use the <strong>Episode by number</strong> syntax to show the information for a specific episode</li>\n",
    "             <ul>\n",
    "                 <li>SYNTAX for Search is: /shows/:id/episodebynumber?season=:season&amp;number=:number</li>\n",
    "                 <li>BASE URL: https://api.tvmaze.com/ </li> \n",
    "                 <li>Re-use the <strong>show_id</strong> value you got earlier</li>\n",
    "                 <li>Get the episode information for 'season=1&amp;number=8 (Season 1, Episode 8) </li>\n",
    "             </ul>\n",
    "        <li>Enter the code for a <strong>GET</strong> request specifying <strong>(url, verify=False)</strong></li>\n",
    "        <li>Save the response in variable <strong>r</strong></li>\n",
    "        <li>Print the response (<strong>r</strong>) value: TEXT</li>\n",
    "    </ul>        \n",
    "</span>"
   ]
  },
  {
   "cell_type": "code",
   "execution_count": null,
   "metadata": {},
   "outputs": [],
   "source": [
    "# INSERT GET CODE USING TVMAZE API - SHOW EPISODE BY NUMBER (season=1,episode=8)\n"
   ]
  },
  {
   "cell_type": "code",
   "execution_count": null,
   "metadata": {},
   "outputs": [],
   "source": [
    "# DO NOT MODIFY !!!\n",
    "# Re-printing the the response in a format that is easier to read\n",
    "json_data = r.json()\n",
    "print(json.dumps(json_data, indent=4))"
   ]
  },
  {
   "cell_type": "markdown",
   "metadata": {},
   "source": [
    "#### Extract specific values from the episode data"
   ]
  },
  {
   "cell_type": "markdown",
   "metadata": {},
   "source": [
    "<span style=\"color:blue\">\n",
    "Insert the code from the tutorial to use <strong>json.loads</strong> to convert the text string into a Python dictionary\n",
    "<ul>\n",
    "    <li>Use <strong>json.loads</strong> to convert the text string into a Python dictionary</li>\n",
    "   <ul>\n",
    "       <li>referencing the <strong>text</strong> portion of the response object get the <strong>name, airdate, runtime and summary</strong> values</li>\n",
    "       <li>assign the results to variable <strong>episode_data</strong></li>\n",
    "   </ul>\n",
    "   <li> Print each of the values using a separate print(...) statement on a separate line</li>    \n",
    "</ul>\n",
    "</span>"
   ]
  },
  {
   "cell_type": "code",
   "execution_count": null,
   "metadata": {},
   "outputs": [],
   "source": [
    "# INSERT GET CODE USING JSON.LOADS TO GET THE NAME, AIRDATE, RUNTIME and SUMMARY\n"
   ]
  },
  {
   "cell_type": "markdown",
   "metadata": {},
   "source": [
    "# PART B (90 points)"
   ]
  },
  {
   "cell_type": "markdown",
   "metadata": {},
   "source": [
    "### Penguin Random House - Business Services.biz (REST SERVICES APIs)\n",
    "##### URL: http://www.penguinrandomhouse.biz/webservices/rest/"
   ]
  },
  {
   "cell_type": "code",
   "execution_count": null,
   "metadata": {},
   "outputs": [],
   "source": [
    "import requests\n",
    "import json"
   ]
  },
  {
   "cell_type": "markdown",
   "metadata": {},
   "source": [
    "### Search for Authors -- Use the GET /resources/authors API  (18 points)"
   ]
  },
  {
   "cell_type": "markdown",
   "metadata": {},
   "source": [
    "<div class=\"alert alert-block alert-info\">\n",
    "    The <strong>Method Details</strong> for the <strong>GET /resources/authors</strong> API can be found at the following link. <strong>HINT:</strong> To see an example of the URL syntax for this request, take a look at the <strong>USAGE</strong> section and click on <strong>expand source</strong> under <strong>bash</strong>.  \n",
    "    \n",
    "    http://www.penguinrandomhouse.biz/webservices/rest/#authors\n",
    "</div>"
   ]
  },
  {
   "cell_type": "markdown",
   "metadata": {},
   "source": [
    "#### Search for Author: Dan Brown"
   ]
  },
  {
   "cell_type": "markdown",
   "metadata": {},
   "source": [
    "<span style=\"color:blue\">\n",
    "    <ul>\n",
    "        <li>Use the <strong>Penguin Random House API</strong> to do a <strong>GET</strong> request</li>\n",
    "        <li>Include <strong>search</strong> for author <strong>Dan Brown</strong></li>\n",
    "        <li>Include <strong>headers</strong> value of <strong>'Accept': 'application/json'</strong></li>\n",
    "        <li>Print the Response <strong>text</strong></li>\n",
    "    </ul>\n",
    "</span>"
   ]
  },
  {
   "cell_type": "code",
   "execution_count": null,
   "metadata": {},
   "outputs": [],
   "source": [
    "# INSERT GET WITH SEARCH FOR DAN BROWN\n"
   ]
  },
  {
   "cell_type": "markdown",
   "metadata": {},
   "source": [
    "#### Use \"Pretty JSON\" formatting to print the JSON for easier reading"
   ]
  },
  {
   "cell_type": "markdown",
   "metadata": {},
   "source": [
    "<span style=\"color:blue\">\n",
    "    <ul>\n",
    "        <li>Use <strong>json.loads</strong> to convert the text string into a Python dict</li>\n",
    "        <li>Save the value in variable <strong>text_json</strong></li>\n",
    "        <li>Print <strong>text_json</strong> using <strong>json.dumps</strong> with <strong>indent=4, sort_keys=True</strong> to make it easier to read (see Lab8)</li>\n",
    "    </ul>\n",
    "</span>"
   ]
  },
  {
   "cell_type": "code",
   "execution_count": null,
   "metadata": {},
   "outputs": [],
   "source": [
    "# INSERT JSON.LOADS and JSON.DUMPS CODE (Ref: Pretty JSON print)\n"
   ]
  },
  {
   "cell_type": "markdown",
   "metadata": {},
   "source": [
    "#### Get the Author ID value from json_text (Get the 1st one you see -- \"authorid\": \"3446\")"
   ]
  },
  {
   "cell_type": "markdown",
   "metadata": {},
   "source": [
    "<span style=\"color:blue\">\n",
    "    <ul>\n",
    "        <li>Get the <strong>authorid</strong> value </li>\n",
    "        <li>Save the <strong>authorid</strong> in a variable named <strong>author_id</strong> \n",
    "        <li>Print the <strong>author_id</strong> -- format the output as follows \"AUTHOR ID: xxxx\"</li>\n",
    "    </ul>\n",
    "</span>"
   ]
  },
  {
   "cell_type": "code",
   "execution_count": null,
   "metadata": {},
   "outputs": [],
   "source": [
    "# INSERT GET & PRINT OF JSON 'authorid' VALUE -- \"authorid\": \"3446\"\n"
   ]
  },
  {
   "cell_type": "markdown",
   "metadata": {},
   "source": [
    "### Get details for a specific author -- Use the GET /resources/authors/AUTHORID API  (18 Points)"
   ]
  },
  {
   "cell_type": "markdown",
   "metadata": {},
   "source": [
    "<div class=\"alert alert-block alert-info\">\n",
    "    The <strong>Method Details</strong> for the <strong>GET /resources/authors/AUTHORID</strong> API can be found at the following link. <strong>HINT:</strong> To see an example of the URL syntax for this request, take a look at the <strong>USAGE</strong> section and click on <strong>expand source</strong> under <strong>bash</strong>.  \n",
    "    \n",
    "    http://www.penguinrandomhouse.biz/webservices/rest/#author\n",
    "</div>"
   ]
  },
  {
   "cell_type": "markdown",
   "metadata": {},
   "source": [
    "<span style=\"color:blue\">\n",
    "    <ul>\n",
    "        <li>Use the <strong>Penguin Random House API</strong> to do a <strong>GET</strong> request using the <strong>author_id</strong> value/variable found in the previous step. </li>\n",
    "        <li>Include <strong>headers</strong> value of <strong>'Accept': 'application/json'</strong></li>\n",
    "        <li>Print the Response <strong>text</strong></li>\n",
    "    </ul>\n",
    "</span>"
   ]
  },
  {
   "cell_type": "code",
   "execution_count": null,
   "metadata": {},
   "outputs": [],
   "source": [
    "# INSERT GET SPECIFIC AUTHOR USING AUTHORID API\n"
   ]
  },
  {
   "cell_type": "markdown",
   "metadata": {},
   "source": [
    "#### Use \"Pretty JSON\" formatting to print the JSON for easier reading"
   ]
  },
  {
   "cell_type": "markdown",
   "metadata": {},
   "source": [
    "<span style=\"color:blue\">\n",
    "    <ul>\n",
    "        <li>Use <strong>json.loads</strong> to convert the text string into a Python dict</li>\n",
    "        <li>Save the value in variable <strong>text_json</strong></li>\n",
    "        <li>Print <strong>text_json</strong> using <strong>json.dumps</strong> with <strong>indent=4, sort_keys=True</strong> to make it easier to read (see Lab8)</li>\n",
    "    </ul>\n",
    "</span>"
   ]
  },
  {
   "cell_type": "code",
   "execution_count": null,
   "metadata": {},
   "outputs": [],
   "source": [
    "# INSERT JSON.LOADS and JSON.DUMPS CODE (Ref: Pretty JSON print)\n"
   ]
  },
  {
   "cell_type": "markdown",
   "metadata": {},
   "source": [
    "#### Get the Authorlastfirst value and Spotlight value from json_text "
   ]
  },
  {
   "cell_type": "markdown",
   "metadata": {},
   "source": [
    "<span style=\"color:blue\">\n",
    "    <ul>\n",
    "        <li>Get the <strong>authorlastfirst</strong> value </li>\n",
    "        <li>Save the <strong>authorlastfirst</strong> value in a variable named <strong>author_last_first</strong> \n",
    "        <li>Print the <strong>author_last_first</strong> -- format the output as follows \"AUTHOR (LAST,FIRST): xxxxxxxxx\"</li>\n",
    "        <li>Get the <strong>spotlight</strong> value </li>\n",
    "        <li>Save the <strong>spotlight</strong> value in a variable named <strong>spot_light</strong> \n",
    "        <li>Print the <strong>spot_light</strong> -- format the output as follows \"SPOTLIGHT: xxxxxxxxx\"</li>\n",
    "    </ul>\n",
    "</span>"
   ]
  },
  {
   "cell_type": "code",
   "execution_count": null,
   "metadata": {},
   "outputs": [],
   "source": [
    "# INSERT PRINT OF JSON 'authorlastfirst' and 'spotlight' VALUES\n"
   ]
  },
  {
   "cell_type": "markdown",
   "metadata": {},
   "source": [
    "### Search for Works -- Use the GET /resources/works API  (18 Points)"
   ]
  },
  {
   "cell_type": "markdown",
   "metadata": {},
   "source": [
    "<div class=\"alert alert-block alert-info\">\n",
    "    The <strong>Method Details</strong> for the <strong>GET /resources/works</strong> API can be found at the following link. <strong>HINT:</strong> To see an example of the URL syntax for this request, take a look at the <strong>USAGE</strong> section and click on <strong>expand source</strong> under <strong>bash</strong>.  \n",
    "    \n",
    "    http://www.penguinrandomhouse.biz/webservices/rest/#works\n",
    "</div>"
   ]
  },
  {
   "cell_type": "markdown",
   "metadata": {},
   "source": [
    "<div class=\"alert alert-block alert-danger\">\n",
    "<strong>ATTENTION:</strong> Contrary to the 'bash' example, using ?keyword='XXXXX' returns a 404 - Not Found ERROR<br>\n",
    "    Use <strong>search</strong> instead of <strong>keyword</strong> and the GET request will work correctly.\n",
    "</div>"
   ]
  },
  {
   "cell_type": "markdown",
   "metadata": {},
   "source": [
    "#### Search for work:  'The Da Vinci Code'"
   ]
  },
  {
   "cell_type": "markdown",
   "metadata": {},
   "source": [
    "<span style=\"color:blue\">\n",
    "    <ul>\n",
    "        <li>Use the <strong>Penguin Random House API</strong> to do a <strong>GET works</strong> request </li>\n",
    "        <li>Include <strong>search</strong> for work <strong>Da Vinci Code</strong> </li>\n",
    "        <li>Include <strong>headers</strong> value of <strong>'Accept': 'application/json'</strong> </li>\n",
    "        <li>Print the Response <strong>text</strong></li>\n",
    "    </ul>\n",
    "</span>"
   ]
  },
  {
   "cell_type": "code",
   "execution_count": null,
   "metadata": {},
   "outputs": [],
   "source": [
    "# INSERT GET FOR WORK 'THE DA VINCI CODE'\n"
   ]
  },
  {
   "cell_type": "markdown",
   "metadata": {},
   "source": [
    "#### Use \"Pretty JSON\" formatting to prit the JSON for easier reading"
   ]
  },
  {
   "cell_type": "markdown",
   "metadata": {},
   "source": [
    "<span style=\"color:blue\">\n",
    "    <ul>\n",
    "        <li>Use <strong>json.loads</strong> to convert the text string into a Python dict</li>\n",
    "        <li>Save the value in variable <strong>text_json</strong></li>\n",
    "        <li>Print <strong>text_json</strong> using <strong>json.dumps</strong> with <strong>indent=4, sort_keys=True</strong> to make it easier to read (see Lab8)</li>\n",
    "    </ul>\n",
    "</span>"
   ]
  },
  {
   "cell_type": "code",
   "execution_count": null,
   "metadata": {},
   "outputs": [],
   "source": [
    "# INSERT JSON.LOADS and JSON.DUMPS CODE (Ref: Pretty JSON print)\n"
   ]
  },
  {
   "cell_type": "markdown",
   "metadata": {},
   "source": [
    "#### Get the workid value from json_text (Get the 1st one you see -- \"workid\": \"19309\")"
   ]
  },
  {
   "cell_type": "markdown",
   "metadata": {},
   "source": [
    "<span style=\"color:blue\">\n",
    "    <ul>\n",
    "        <li>Get the <strong>workid</strong> value </li>\n",
    "        <li>Save the <strong>workid</strong> in a variable named <strong>work_id</strong> </li>\n",
    "        <li>Print the <strong>work_id</strong> -- format the output as follows \"WORK ID: xxxxx\"</li>\n",
    "    </ul>\n",
    "</span>"
   ]
  },
  {
   "cell_type": "code",
   "execution_count": null,
   "metadata": {},
   "outputs": [],
   "source": [
    "# INSERT GET & PRINT OF JSON 'workid' VALUE -- \"workid\": \"19309\"\n"
   ]
  },
  {
   "cell_type": "markdown",
   "metadata": {},
   "source": [
    "### Get details for a Specific Work -- Use the GET /resources/works/WORKID API  (18 Points)"
   ]
  },
  {
   "cell_type": "markdown",
   "metadata": {},
   "source": [
    "<div class=\"alert alert-block alert-info\">\n",
    "    The <strong>Method Details</strong> for the <strong>GET /resources/works/WORKID</strong> API can be found at the following link. <strong>HINT:</strong> To see an example of the URL syntax for this request, take a look at the <strong>USAGE</strong> section and click on <strong>expand source</strong> under <strong>bash</strong>.  \n",
    "    \n",
    "    http://www.penguinrandomhouse.biz/webservices/rest/#work\n",
    "</div>"
   ]
  },
  {
   "cell_type": "markdown",
   "metadata": {},
   "source": [
    "<span style=\"color:blue\">\n",
    "    <ul>\n",
    "        <li>Use the <strong>Penguin Random House WORKID API</strong> to do a <strong>GET</strong> request using the <strong>work_id</strong> value/variable found in the previous step.</li>\n",
    "        <li>Include <strong>headers</strong> value of <strong>'Accept': 'application/json'</strong> </li>\n",
    "        <li>Print the Response <strong>text</strong></li>\n",
    "    </ul>\n",
    "</span>"
   ]
  },
  {
   "cell_type": "code",
   "execution_count": null,
   "metadata": {},
   "outputs": [],
   "source": [
    "# INSERT GET WORKID & PRINT RESPONSE TEXT\n"
   ]
  },
  {
   "cell_type": "markdown",
   "metadata": {},
   "source": [
    "#### Use \"Pretty JSON\" formatting to print the JSON for easier reading"
   ]
  },
  {
   "cell_type": "markdown",
   "metadata": {},
   "source": [
    "<span style=\"color:blue\">\n",
    "    <ul>\n",
    "        <li>Use <strong>json.loads</strong> to convert the text string into a Python dict</li>\n",
    "        <li>Save the value in variable <strong>text_json</strong></li>\n",
    "        <li>Print <strong>text_json</strong> using <strong>json.dumps</strong> with <strong>indent=4, sort_keys=True</strong> to make it easier to read (see Lab8)</li>\n",
    "    </ul>\n",
    "</span>"
   ]
  },
  {
   "cell_type": "code",
   "execution_count": null,
   "metadata": {},
   "outputs": [],
   "source": [
    "# INSERT JSON.LOADS and JSON.DUMPS CODE (Ref: Pretty JSON print)\n"
   ]
  },
  {
   "cell_type": "markdown",
   "metadata": {},
   "source": [
    "#### Get & print multiple values from json_text"
   ]
  },
  {
   "cell_type": "markdown",
   "metadata": {},
   "source": [
    "<span style=\"color:blue\">\n",
    "    <ul>\n",
    "        <li>Get &amp; print the <strong>authorweb</strong> -- format the output as follows \"AUTHORWEB: xxxxx\" </li>\n",
    "        <li>Get &amp; print the <strong>onsaledate</strong> -- format the output as follows \"ONSALEDATE: xxxxx\" </li>\n",
    "        <li>Get &amp; print the <strong>rgauthbio</strong> -- format the output as follows \"RGAUTHBIO: xxxxx\" </li>\n",
    "    </ul>\n",
    "</span>"
   ]
  },
  {
   "cell_type": "code",
   "execution_count": null,
   "metadata": {},
   "outputs": [],
   "source": [
    "# INSERT PRINT OF JSON 'authorweb', 'onsaledate' and 'rgauthbio' VALUES\n"
   ]
  },
  {
   "cell_type": "markdown",
   "metadata": {},
   "source": [
    "### Search for titles by Dan Brown -- Use the GET /resources/titles API (18 Points)"
   ]
  },
  {
   "cell_type": "markdown",
   "metadata": {},
   "source": [
    "<div class=\"alert alert-block alert-info\">\n",
    "    The <strong>Method Details</strong> for the <strong>GET /resources/titles</strong> API can be found at the following link. <strong>HINT:</strong> To see an example of the URL syntax for this request, take a look at the <strong>USAGE</strong> section and click on <strong>expand source</strong> under <strong>bash</strong>.  \n",
    "    \n",
    "    http://www.penguinrandomhouse.biz/webservices/rest/#titles\n",
    "</div>"
   ]
  },
  {
   "cell_type": "markdown",
   "metadata": {},
   "source": [
    "<span style=\"color:blue\">\n",
    "    Search by <strong>titles</strong> - But ONLY get the first <strong>4 (max=4)</strong> to limit the number of books returned. Use Dan Brown's <strong>author_id</strong> (saved earlier in the lab)  \n",
    "    <ul>\n",
    "        <li>Use the <strong>Penguin Random House TITLES API</strong> to do a <strong>GET</strong> request </li>\n",
    "        <li>Include <strong>start</strong> and <strong>max</strong> values to limit the titles to <strong>4</strong></li>\n",
    "        <li>Include the <strong>author_id</strong> found in the previously (for Dan Brown) </li>\n",
    "        <li>Include <strong>headers</strong> value of <strong>'Accept': 'application/json'</strong> </li>\n",
    "        <li>Print the Response <strong>text</strong></li>\n",
    "    </ul>\n",
    "</span>"
   ]
  },
  {
   "cell_type": "code",
   "execution_count": null,
   "metadata": {},
   "outputs": [],
   "source": [
    "# INSERT GET TITLES WITH MAX 4 AND AUTHORID FOR DAN BROWN\n"
   ]
  },
  {
   "cell_type": "markdown",
   "metadata": {},
   "source": [
    "#### Use \"Pretty JSON\" formatting to print the JSON for easier reading"
   ]
  },
  {
   "cell_type": "markdown",
   "metadata": {},
   "source": [
    "<span style=\"color:blue\">\n",
    "    <ul>\n",
    "        <li>Use <strong>json.loads</strong> to convert the text string into a Python dict</li>\n",
    "        <li>Save the value in variable <strong>text_json</strong></li>\n",
    "        <li>Print <strong>text_json</strong> using <strong>json.dumps</strong> with <strong>indent=4, sort_keys=True</strong> to make it easier to read (see Lab8)</li>\n",
    "    </ul>\n",
    "</span>"
   ]
  },
  {
   "cell_type": "code",
   "execution_count": null,
   "metadata": {},
   "outputs": [],
   "source": [
    "# INSERT JSON.LOADS and JSON.DUMPS CODE (Ref: Pretty JSON print)\n"
   ]
  },
  {
   "cell_type": "markdown",
   "metadata": {},
   "source": [
    "#### Get & Print multiple data values from the JSON to print the following values from \"each\" of the 4 titles returned"
   ]
  },
  {
   "cell_type": "markdown",
   "metadata": {},
   "source": [
    "<span style=\"color:blue\">\n",
    "    Use a for-loop to get and print the following values from each of the 4 titles returned:\n",
    "    <ul>\n",
    "        <li>Print the <strong>author</strong> value </li>\n",
    "        <li>Print the <strong>titleweb</strong> value </li>\n",
    "        <li>Print the <strong>subjectcategorydescription2</strong> value </li>\n",
    "        <li>Print the <strong>isbn13hyphenated</strong> value </li>\n",
    "        <li>Print the <strong>onsaledate</strong> value </li>\n",
    "        <li>Print the <strong>formatname</strong> value </li>    \n",
    "        <li>Print the <strong>priceusa</strong> value </li>\n",
    "        <li>Print the <strong>pricecanada</strong> value </li>\n",
    "        <li>Print the <strong>pages</strong> value </li>   \n",
    "        <li>Print a separator line print('---------') for readability </li>\n",
    "    </ul>\n",
    "</span>"
   ]
  },
  {
   "cell_type": "code",
   "execution_count": null,
   "metadata": {},
   "outputs": [],
   "source": [
    "# INSERT PRINT STATEMENTS FOR MULTIPLE DATA VALUES FOR EACH OF THE 4 TEXT_JSON ENTRIES\n"
   ]
  }
 ],
 "metadata": {
  "kernelspec": {
   "display_name": "Python 3",
   "language": "python",
   "name": "python3"
  },
  "language_info": {
   "codemirror_mode": {
    "name": "ipython",
    "version": 3
   },
   "file_extension": ".py",
   "mimetype": "text/x-python",
   "name": "python",
   "nbconvert_exporter": "python",
   "pygments_lexer": "ipython3",
   "version": "3.8.5"
  }
 },
 "nbformat": 4,
 "nbformat_minor": 4
}
