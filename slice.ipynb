{
 "cells": [
  {
   "cell_type": "code",
   "execution_count": 1,
   "metadata": {},
   "outputs": [],
   "source": [
    "def get_score(score_entry):\n",
    "    return score_entry.score\n",
    "\n",
    "class Scoreboard:\n",
    "    def __init__(self):\n",
    "        self.scores = []\n",
    "    # create add_score function\n",
    "    def add_score(self,name,score):\n",
    "        # Pass name and score into ScoreEntry and create its object\n",
    "        myobj = ScoreEntry(name,score)\n",
    "        self.scores.append(myobj) # append myobj to the list for future use\n",
    "    \n",
    "    # define function print_leaderboard\n",
    "    def print_leaderboard(self):\n",
    "        mylist=[] # store name and score as tuple into this. Eg. (name,score) \n",
    "        \n",
    "        # for each ScoreEntry object stored in scores ,extract name and score\n",
    "        # and append in mylist as tuple of the form (name,score) \n",
    "        for obj in self.scores:\n",
    "            mylist.append((obj.name,get_score(obj)))\n",
    "        \n",
    "        # mylist contain elements of the form (name,score) eg. [('david',2100),('andrew',5241)]\n",
    "        # Now,sort mylist using score as key and in descending order\n",
    "        mylist = sorted(mylist,key=lambda x: x[1],reverse=True)\n",
    "        \n",
    "        # Here mylist[0:3] is list slicing ,it will slice first 3 elements of mylist\n",
    "        # print the name and score the top three players.\n",
    "        for n,s in mylist[0:3]:\n",
    "            print(n,':',s)\n",
    "            \n",
    "class ScoreEntry:\n",
    "    def __init__(self, name, score):\n",
    "        self.name = name\n",
    "        self.score = score"
   ]
  },
  {
   "cell_type": "code",
   "execution_count": 2,
   "metadata": {},
   "outputs": [],
   "source": [
    "scoreboard = Scoreboard()\n",
    "scoreboard.add_score('Alice', 7821)\n",
    "scoreboard.add_score('Bob', 12103)\n",
    "scoreboard.add_score('Charlie', 8762)\n",
    "scoreboard.add_score('Denise', 6573)"
   ]
  },
  {
   "cell_type": "code",
   "execution_count": 3,
   "metadata": {},
   "outputs": [
    {
     "name": "stdout",
     "output_type": "stream",
     "text": [
      "Bob : 12103\n",
      "Charlie : 8762\n",
      "Alice : 7821\n"
     ]
    }
   ],
   "source": [
    "scoreboard.print_leaderboard()"
   ]
  },
  {
   "cell_type": "code",
   "execution_count": null,
   "metadata": {},
   "outputs": [],
   "source": []
  }
 ],
 "metadata": {
  "kernelspec": {
   "display_name": "Python 3",
   "language": "python",
   "name": "python3"
  },
  "language_info": {
   "codemirror_mode": {
    "name": "ipython",
    "version": 3
   },
   "file_extension": ".py",
   "mimetype": "text/x-python",
   "name": "python",
   "nbconvert_exporter": "python",
   "pygments_lexer": "ipython3",
   "version": "3.8.5"
  }
 },
 "nbformat": 4,
 "nbformat_minor": 4
}
