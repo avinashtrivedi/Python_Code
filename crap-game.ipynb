{
 "cells": [
  {
   "cell_type": "code",
   "execution_count": 75,
   "metadata": {},
   "outputs": [],
   "source": [
    "# import library\n",
    "import random\n",
    "\n",
    "# function to roll a dice\n",
    "def rolling():\n",
    "    x = random.randint(1,6) # roll of 1st dice\n",
    "    y = random.randint(1,6) # roll of 2nd dice\n",
    "    return (x,y)\n",
    "\n",
    "def start_game():\n",
    "    print('Welcome to the GAME OF CRAPS.')\n",
    "    print('press enter to roll the dice.')\n",
    "    _ = input()\n",
    "    point=0\n",
    "    FirstRoll = rolling()  # first rolls\n",
    "    print(\"sum of the number in die1 and die2: {} + {} = {}\".format(FirstRoll[0],FirstRoll[1],sum(FirstRoll)))\n",
    "    \n",
    "    # if sum is 2 or 3,continue rolling until sum is different\n",
    "    if sum(FirstRoll)==2 or sum(FirstRoll)==3: \n",
    "        print('Rolling 2 (1+1) or 3 (1+2) is ignored,Please re-roll.')\n",
    "        while True:\n",
    "            _ = input('press enter to roll the dice.')\n",
    "            FirstRoll = rolling()\n",
    "            if sum(FirstRoll)!=2 or sum(FirstRoll)!=3:\n",
    "                print(\"sum of the number in die1 and die2: {} + {} = {}\".format(FirstRoll[0],FirstRoll[1],sum(FirstRoll)))\n",
    "                break\n",
    "            else:\n",
    "                print(\"sum of the number in die1 and die2: {} + {} = {}\".format(FirstRoll[0],FirstRoll[1],sum(FirstRoll)))\n",
    "                print('Again Re-roll the dice.')\n",
    "                \n",
    "    # if sum is 11 or 12 ,you Won the game \n",
    "    elif sum(FirstRoll) == 11 or sum(FirstRoll) == 12:\n",
    "        print('Great,You won the Game')\n",
    "        return\n",
    "    # if sum is  4, 5, 6, 7, 8, 9, or 10 then point  = sum(FirstRoll)\n",
    "    else:\n",
    "        point = sum(FirstRoll)\n",
    "        print('Total point earned is:',point)\n",
    "        \n",
    "    ###### start of 2nd rolls ###########\n",
    "    \n",
    "    _ = input('Second roll start,Press Enter to continue.')\n",
    "    won = '' # initially its empty string\n",
    "    \n",
    "    # Player got two attempts to win the game\n",
    "    for i in range(2):\n",
    "        _ = input(\"Press enter for roll {}\".format(i+1))\n",
    "        SecondRoll = rolling() \n",
    "        print(\"sum of the number in die1 and die2: {} + {} = {}\".format(SecondRoll[0],SecondRoll[1],sum(SecondRoll)))\n",
    "        if sum(SecondRoll) > point: # if sum of second roll is higher then point\n",
    "            print('Great,You won the Game')\n",
    "            won = True\n",
    "            break\n",
    "        else: # if sum of second roll is less than or equal to point\n",
    "            won = False\n",
    "    if won==False:\n",
    "        print('You Lost the Game')\n",
    "    return"
   ]
  },
  {
   "cell_type": "code",
   "execution_count": 76,
   "metadata": {},
   "outputs": [
    {
     "name": "stdout",
     "output_type": "stream",
     "text": [
      "Welcome to the GAME OF CRAPS.\n",
      "press enter to roll the dice.\n",
      "\n",
      "sum of the number in die1 and die2: 2 + 6 = 8\n",
      "Total point earned is: 8\n",
      "Second roll start,Press Enter to continue.\n",
      "Press enter for roll 1\n",
      "sum of the number in die1 and die2: 6 + 6 = 12\n",
      "Great,You won the Game\n"
     ]
    }
   ],
   "source": [
    "start_game() # run the game"
   ]
  },
  {
   "cell_type": "code",
   "execution_count": 77,
   "metadata": {},
   "outputs": [
    {
     "name": "stdout",
     "output_type": "stream",
     "text": [
      "Welcome to the GAME OF CRAPS.\n",
      "press enter to roll the dice.\n",
      "\n",
      "sum of the number in die1 and die2: 6 + 2 = 8\n",
      "Total point earned is: 8\n",
      "Second roll start,Press Enter to continue.\n",
      "Press enter for roll 1\n",
      "sum of the number in die1 and die2: 3 + 5 = 8\n",
      "Press enter for roll 2\n",
      "sum of the number in die1 and die2: 2 + 4 = 6\n",
      "You Lost the Game\n"
     ]
    }
   ],
   "source": [
    "start_game() # run the game"
   ]
  },
  {
   "cell_type": "code",
   "execution_count": 78,
   "metadata": {},
   "outputs": [
    {
     "name": "stdout",
     "output_type": "stream",
     "text": [
      "Welcome to the GAME OF CRAPS.\n",
      "press enter to roll the dice.\n",
      "\n",
      "sum of the number in die1 and die2: 6 + 4 = 10\n",
      "Total point earned is: 10\n",
      "Second roll start,Press Enter to continue.\n",
      "Press enter for roll 1\n",
      "sum of the number in die1 and die2: 6 + 2 = 8\n",
      "Press enter for roll 2\n",
      "sum of the number in die1 and die2: 3 + 3 = 6\n",
      "You Lost the Game\n"
     ]
    }
   ],
   "source": [
    "start_game() # run the game"
   ]
  },
  {
   "cell_type": "code",
   "execution_count": 79,
   "metadata": {},
   "outputs": [
    {
     "name": "stdout",
     "output_type": "stream",
     "text": [
      "Welcome to the GAME OF CRAPS.\n",
      "press enter to roll the dice.\n",
      "\n",
      "sum of the number in die1 and die2: 3 + 3 = 6\n",
      "Total point earned is: 6\n",
      "Second roll start,Press Enter to continue.\n",
      "Press enter for roll 1\n",
      "sum of the number in die1 and die2: 4 + 3 = 7\n",
      "Great,You won the Game\n"
     ]
    }
   ],
   "source": [
    "start_game() # run the game"
   ]
  },
  {
   "cell_type": "code",
   "execution_count": 80,
   "metadata": {},
   "outputs": [
    {
     "name": "stdout",
     "output_type": "stream",
     "text": [
      "Welcome to the GAME OF CRAPS.\n",
      "press enter to roll the dice.\n",
      "\n",
      "sum of the number in die1 and die2: 4 + 1 = 5\n",
      "Total point earned is: 5\n",
      "Second roll start,Press Enter to continue.\n",
      "Press enter for roll 1\n",
      "sum of the number in die1 and die2: 5 + 3 = 8\n",
      "Great,You won the Game\n"
     ]
    }
   ],
   "source": [
    "start_game() # run the game"
   ]
  },
  {
   "cell_type": "code",
   "execution_count": null,
   "metadata": {},
   "outputs": [],
   "source": []
  }
 ],
 "metadata": {
  "kernelspec": {
   "display_name": "Python 3",
   "language": "python",
   "name": "python3"
  },
  "language_info": {
   "codemirror_mode": {
    "name": "ipython",
    "version": 3
   },
   "file_extension": ".py",
   "mimetype": "text/x-python",
   "name": "python",
   "nbconvert_exporter": "python",
   "pygments_lexer": "ipython3",
   "version": "3.8.5"
  }
 },
 "nbformat": 4,
 "nbformat_minor": 4
}
