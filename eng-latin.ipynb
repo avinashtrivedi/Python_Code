{
 "cells": [
  {
   "cell_type": "code",
   "execution_count": 1,
   "metadata": {},
   "outputs": [],
   "source": [
    "def pigLatin(inFile, outFile):\n",
    "    \n",
    "    # try-except block to handle exception\n",
    "    try:\n",
    "        \n",
    "        # define vowels\n",
    "        vowels  = 'aeiou'\n",
    "\n",
    "        # read the english file\n",
    "        with open(inFile,'r') as file:\n",
    "            data = file.readlines()  \n",
    "\n",
    "        # open a latin file in write mode.\n",
    "        latin_file = open(outFile,'w')\n",
    "        newline =''\n",
    "        \n",
    "        # loop through each line\n",
    "        for line in data:\n",
    "            \n",
    "            # define latin line as empty string initially\n",
    "            latin_line=''\n",
    "            latin_file.write(newline)\n",
    "            \n",
    "            # loop through each word of individual line.\n",
    "            for k in line.split(' '):\n",
    "                word = k.strip()\n",
    "\n",
    "                # if first character is vowel\n",
    "                if word[0] in vowels:\n",
    "                    latin_word = word + 'ay' + ' '\n",
    "\n",
    "                # if consonant \n",
    "                else:\n",
    "                    latin_word = word[1:] + word[0] + 'ay' + ' '\n",
    "\n",
    "                # update the latin_line\n",
    "                latin_line = latin_line + latin_word\n",
    "\n",
    "            # remove leading and trailing whitespaces if any\n",
    "            latin_line = latin_line.strip()\n",
    "\n",
    "            # write the latin line to file\n",
    "            latin_file.write(latin_line)\n",
    "            newline = \"\\n\"\n",
    "            \n",
    "        # close the file.\n",
    "        latin_file.close()\n",
    "    except:\n",
    "        print('invalid inFile.')"
   ]
  },
  {
   "cell_type": "code",
   "execution_count": 2,
   "metadata": {},
   "outputs": [],
   "source": [
    "inFile = 'english.txt'\n",
    "outFile = 'latin.txt'\n",
    "pigLatin(inFile, outFile)"
   ]
  },
  {
   "cell_type": "code",
   "execution_count": null,
   "metadata": {},
   "outputs": [],
   "source": []
  }
 ],
 "metadata": {
  "kernelspec": {
   "display_name": "Python 3",
   "language": "python",
   "name": "python3"
  },
  "language_info": {
   "codemirror_mode": {
    "name": "ipython",
    "version": 3
   },
   "file_extension": ".py",
   "mimetype": "text/x-python",
   "name": "python",
   "nbconvert_exporter": "python",
   "pygments_lexer": "ipython3",
   "version": "3.8.5"
  }
 },
 "nbformat": 4,
 "nbformat_minor": 4
}
