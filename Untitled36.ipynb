{
 "cells": [
  {
   "cell_type": "code",
   "execution_count": 5,
   "metadata": {},
   "outputs": [],
   "source": [
    "def passwordCheck(password):\n",
    "    # find the length of a password\n",
    "    length = len(password)\n",
    "    # variable to store the number of Upper case letters\n",
    "    len_cap = 0 \n",
    "    # variable to store the number of digit/number available in password\n",
    "    len_num = 0  \n",
    "    \n",
    "    # for each character in password\n",
    "    # check if its upper case letter or digit\n",
    "    for i in password:\n",
    "        if i.isupper():  # check for upper case letter\n",
    "            # increase the len_cap by 1 to keep track of how many upper case\n",
    "            # letters are available in password\n",
    "            len_cap = len_cap + 1 \n",
    "        if i.isdigit():  # check for digit\n",
    "            # increase the len_num by 1 to keep track of how many digits\n",
    "            # are available in password\n",
    "            len_num = len_num + 1\n",
    "    # check if password length is atleast 7  and contains atleast one upper case letter\n",
    "    # and one digit/number\n",
    "    if length>=7 and len_cap>=1 and len_num>=1:\n",
    "        return True\n",
    "    else:\n",
    "        return False"
   ]
  },
  {
   "cell_type": "code",
   "execution_count": 6,
   "metadata": {},
   "outputs": [
    {
     "data": {
      "text/plain": [
       "True"
      ]
     },
     "execution_count": 6,
     "metadata": {},
     "output_type": "execute_result"
    }
   ],
   "source": [
    "passwordCheck('Ab133cd')"
   ]
  },
  {
   "cell_type": "code",
   "execution_count": 7,
   "metadata": {},
   "outputs": [
    {
     "data": {
      "text/plain": [
       "True"
      ]
     },
     "execution_count": 7,
     "metadata": {},
     "output_type": "execute_result"
    }
   ],
   "source": [
    "passwordCheck('B412512')"
   ]
  },
  {
   "cell_type": "code",
   "execution_count": 8,
   "metadata": {},
   "outputs": [
    {
     "data": {
      "text/plain": [
       "False"
      ]
     },
     "execution_count": 8,
     "metadata": {},
     "output_type": "execute_result"
    }
   ],
   "source": [
    "passwordCheck('Babcdxyz')"
   ]
  },
  {
   "cell_type": "code",
   "execution_count": 9,
   "metadata": {},
   "outputs": [
    {
     "data": {
      "text/plain": [
       "False"
      ]
     },
     "execution_count": 9,
     "metadata": {},
     "output_type": "execute_result"
    }
   ],
   "source": [
    "passwordCheck('Ba211')"
   ]
  },
  {
   "cell_type": "code",
   "execution_count": null,
   "metadata": {},
   "outputs": [],
   "source": []
  }
 ],
 "metadata": {
  "kernelspec": {
   "display_name": "Python 3",
   "language": "python",
   "name": "python3"
  },
  "language_info": {
   "codemirror_mode": {
    "name": "ipython",
    "version": 3
   },
   "file_extension": ".py",
   "mimetype": "text/x-python",
   "name": "python",
   "nbconvert_exporter": "python",
   "pygments_lexer": "ipython3",
   "version": "3.8.5"
  }
 },
 "nbformat": 4,
 "nbformat_minor": 4
}
