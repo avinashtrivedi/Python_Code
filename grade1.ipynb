{
 "cells": [
  {
   "cell_type": "markdown",
   "metadata": {},
   "source": [
    "# Print whether a number is between 10 and 50"
   ]
  },
  {
   "cell_type": "code",
   "execution_count": 4,
   "metadata": {},
   "outputs": [
    {
     "name": "stdout",
     "output_type": "stream",
     "text": [
      "Enter a number: 222\n",
      "No. It is not between 10-50\n"
     ]
    }
   ],
   "source": [
    "try:\n",
    "    num = float(input('Enter a number: '))\n",
    "    if 10<=num<=50:\n",
    "        print('Yes. It is between 10-50')\n",
    "    else:\n",
    "        print('No. It is not between 10-50')\n",
    "except:\n",
    "    print('Wrong input')"
   ]
  },
  {
   "cell_type": "markdown",
   "metadata": {},
   "source": [
    "# Print whether a number is a multiple of 17 or not"
   ]
  },
  {
   "cell_type": "code",
   "execution_count": 2,
   "metadata": {},
   "outputs": [
    {
     "name": "stdout",
     "output_type": "stream",
     "text": [
      "Enter a number: 510\n",
      "Yes. It is a multiple of 17\n"
     ]
    }
   ],
   "source": [
    "try:\n",
    "    num = float(input('Enter a number: '))\n",
    "    \n",
    "    # check if multiple of 17 or not\n",
    "    if num%17==0:\n",
    "        print('Yes. It is a multiple of 17')\n",
    "    else:\n",
    "        print('No. It is not a multiple of 17')\n",
    "except:\n",
    "    print('Wrong input')"
   ]
  },
  {
   "cell_type": "markdown",
   "metadata": {},
   "source": [
    "# Print the letter grade a student gets based on the total score (0-100)\n",
    "\n",
    "- Score to grade: http://www.yorku.ca/anderson/Intro%20Urban%20Studies/essay1grades.htm"
   ]
  },
  {
   "cell_type": "code",
   "execution_count": 3,
   "metadata": {},
   "outputs": [
    {
     "name": "stdout",
     "output_type": "stream",
     "text": [
      "Enter total score (integer 0-100): 89\n",
      "Grade: A\n"
     ]
    }
   ],
   "source": [
    "try:\n",
    "    num = int(input('Enter total score (integer 0-100): '))\n",
    "    \n",
    "    # check for range of scores\n",
    "    # and assign respective grade\n",
    "    \n",
    "    if 90<=num<=100:\n",
    "        print('Grade: A+')\n",
    "    elif 80<=num<=89:\n",
    "        print('Grade: A')\n",
    "    elif 75<=num<=79:\n",
    "        print('Grade: B+')\n",
    "    elif 70<=num<=74:\n",
    "        print('Grade: B')\n",
    "    elif 65<=num<=69:\n",
    "        print('Grade: C+')\n",
    "    elif 60<=num<=64:\n",
    "        print('Grade: C')\n",
    "    elif 55<=num<=59:\n",
    "        print('Grade: D+')\n",
    "    elif 50<=num<=54:\n",
    "        print('Grade: D')\n",
    "    elif 40<=num<=49:\n",
    "        print('Grade: E')\n",
    "    else:\n",
    "        print('Grade: F')\n",
    "except:\n",
    "    print('Wrong input')"
   ]
  },
  {
   "cell_type": "code",
   "execution_count": null,
   "metadata": {},
   "outputs": [],
   "source": []
  }
 ],
 "metadata": {
  "kernelspec": {
   "display_name": "Python 3",
   "language": "python",
   "name": "python3"
  },
  "language_info": {
   "codemirror_mode": {
    "name": "ipython",
    "version": 3
   },
   "file_extension": ".py",
   "mimetype": "text/x-python",
   "name": "python",
   "nbconvert_exporter": "python",
   "pygments_lexer": "ipython3",
   "version": "3.8.5"
  }
 },
 "nbformat": 4,
 "nbformat_minor": 4
}
