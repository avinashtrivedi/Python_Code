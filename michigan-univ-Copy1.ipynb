{
 "cells": [
  {
   "cell_type": "code",
   "execution_count": 23,
   "metadata": {},
   "outputs": [
    {
     "name": "stdout",
     "output_type": "stream",
     "text": [
      "Enter a year where 1990 <= year <= 2015: 2014\n",
      "\n",
      "year   mean           median        \n",
      "2014  $44,569.20     $27,457.00     \n",
      "Do you want to plot values (yes/no)? no\n",
      "Enter a choice to get (r)ange, (p)ercent, or nothing to stop: \n"
     ]
    }
   ],
   "source": [
    "import pylab\n",
    "\n",
    "# Just using it as it was provided in the question\n",
    "def do_plot(x_vals,y_vals,year):\n",
    "    '''Plot x_vals vs. y_vals where each is a list of numbers of the same length.'''\n",
    "    pylab.xlabel('Income')\n",
    "    pylab.ylabel('Cumulative Percent')\n",
    "    pylab.title(\"Cumulative Percent for Income in \"+str(year))\n",
    "    pylab.plot(x_vals,y_vals)\n",
    "    pylab.show()\n",
    "    \n",
    "    \n",
    "# define a function to open a file\n",
    "def open_file():\n",
    "    '''Return file pointer and its year'''\n",
    "    while True:\n",
    "        year = input(\"Enter a year where 1990 <= year <= 2015: \")\n",
    "        if year.isdigit()==True:\n",
    "            fname = 'year' + year + '.txt'\n",
    "\n",
    "            if 2015 >= int(year) >= 1990 :  \n",
    "                try:\n",
    "                    fp = open(fname,'r')\n",
    "                    return fp,int(year)\n",
    "                except:\n",
    "                    print('Error in year. Please try again.')\n",
    "            else:\n",
    "                print(\"Error in year. Please try again\")\n",
    "        else:\n",
    "            print('Error in year. Please try again..')\n",
    "\n",
    "# read the file\n",
    "def read_file(fp):\n",
    "    '''Return content of text file as a list of list'''\n",
    "    mydata = fp.readlines()\n",
    "    list_of_data=[]\n",
    "    for line in mydata[2:-1]: # exclude first two (it is header) and the last (will handle separately) row.\n",
    "        line = line.split()\n",
    "        line.pop(1)\n",
    "        # remove ',' from individual values\n",
    "        line = [int(j.replace(',','')) if '.' not in j else float(j.replace(',','')) for j in line]\n",
    "        list_of_data.append(line)\n",
    "    \n",
    "    # handle the last row\n",
    "    RowLast = mydata[-1]\n",
    "    RowLast = RowLast.split()\n",
    "    RowLast.pop(1)\n",
    "    for i in range(len(RowLast)):\n",
    "\n",
    "        RowLast[i] = RowLast[i].replace(',','')\n",
    "\n",
    "        if '.' in RowLast[i]:\n",
    "            RowLast[i] = float(RowLast[i])\n",
    "        elif RowLast[i].isdigit()==False:\n",
    "            RowLast[i] = float('Inf') # replace the 'over' word with infinity\n",
    "        else:\n",
    "            RowLast[i] = int(RowLast[i])\n",
    "    list_of_data.append(RowLast)\n",
    "    return list_of_data\n",
    "        \n",
    "def find_average(data_list):\n",
    "    '''return average salary from data_list'''\n",
    "    totalSalary = sum(column[5] for column in data_list) # total salary\n",
    "    num_of_person = data_list[-1][3] # get the number of person from last row\n",
    "    avg_sal = float(totalSalary / num_of_person)\n",
    "    return avg_sal\n",
    "    \n",
    "def find_median(data_list):\n",
    "    '''\n",
    "    return median from the given data_list\n",
    "    '''\n",
    "    for column in data_list:\n",
    "        if column[4] <50: \n",
    "            bottom = column\n",
    "        else:\n",
    "            top = column\n",
    "            break\n",
    "    if abs(bottom[4] - 50) < abs(top[4] - 50):\n",
    "        return bottom[6]\n",
    "    else:\n",
    "        return top[6]\n",
    "        \n",
    "def get_range(data_list, percent):\n",
    "    '''\n",
    "    Based on given arguments return salary range, cumulative percentage and average income\n",
    "    '''\n",
    "    for column in data_list:\n",
    "        if column[4] >= percent: \n",
    "            return (column[0], column[1]), column[4], column[6]\n",
    "\n",
    "def get_percent(data_list, income):\n",
    "    '''\n",
    "     return salary range and cumulative percentage form given arguments\n",
    "    '''\n",
    "    for column in data_list:\n",
    "        # income greater than float(col[0]) and income less than float(col[1])\n",
    "        if float(column[1]) >= income >= float(column[0]):\n",
    "            return (column[0], column[1]), column[4]\n",
    "\n",
    "def main():\n",
    "    file_pointer,year = open_file()\n",
    "    mydata = read_file(file_pointer)\n",
    "    mean = find_average(mydata)\n",
    "    median = find_median(mydata)\n",
    "    print(\"\\n{:<6} {:<14} {:<14}\".format('year','mean','median'))\n",
    "    print(\"{:<6d}${:<14,.2f}${:<14,.2f}\".format(year,mean,median))\n",
    "    \n",
    "    while True:\n",
    "        response = input(\"Do you want to plot values (yes/no)? \")\n",
    "        if response.lower() == 'yes':\n",
    "            # determine x_vals, a list of floats -- use the lowest 40 income ranges\n",
    "            x_vals = [column[0] for column in mydata][:40] # get x values\n",
    "\n",
    "            # determine y_vales, a list of floats of the same length as x_vals\n",
    "            y_vals = [column[4] for column in mydata][:40] # get y values\n",
    "\n",
    "            # call the plotting function\n",
    "            do_plot(x_vals, y_vals, year)\n",
    "            break\n",
    "        elif response.lower() == 'no':\n",
    "            break\n",
    "        else:\n",
    "            print('Wrong input,please try again.')\n",
    "        \n",
    "    choice = input(\"Enter a choice to get (r)ange, (p)ercent, or nothing to stop: \")\n",
    "    \n",
    "    while choice:\n",
    "        if choice == 'r':\n",
    "            percent = input('Enter a percentage: ')\n",
    "            try:\n",
    "                if float(percent)>=0 and float(percent) <=100:\n",
    "                    myrange = get_range(mydata, float(percent))[0][0]\n",
    "                    print(\"{:4.2f}% of incomes are below ${:<13,.2f}.\".format(float(percent),myrange))\n",
    "                else:\n",
    "                    print('Error in percent. Please try again')\n",
    "            except:\n",
    "                print('Error in percent. Please try again')\n",
    "        elif choice == 'p':\n",
    "            income = input('Enter an income: ')\n",
    "            try:\n",
    "                if float(income)>0:\n",
    "                    percent = get_percent(mydata, int(income))[1]\n",
    "                    print(\"An income of ${:<13,.2f} is in the top {:4.2f}% of incomes.\".format(float(income),percent))\n",
    "                else:\n",
    "                    print('Error: income must be positive')\n",
    "            except:\n",
    "                print('Invalid Income,Try again.\\n')\n",
    "        else:\n",
    "            print('Error in selection. Try again.\\n')\n",
    "        choice = input(\"Enter a choice to get (r)ange, (p)ercent, or nothing to stop: \")\n",
    "\n",
    "if __name__ == \"__main__\":\n",
    "    main()"
   ]
  },
  {
   "cell_type": "code",
   "execution_count": 24,
   "metadata": {},
   "outputs": [
    {
     "name": "stdout",
     "output_type": "stream",
     "text": [
      "Enter a year where 1990 <= year <= 2015: 2014\n",
      "\n",
      "year   mean           median        \n",
      "2014  $44,569.20     $27,457.00     \n",
      "Do you want to plot values (yes/no)? no\n",
      "Enter a choice to get (r)ange, (p)ercent, or nothing to stop: r\n",
      "Enter a percentage: 90\n",
      "90.00% of incomes are below $90,000.00    .\n",
      "Enter a choice to get (r)ange, (p)ercent, or nothing to stop: \n"
     ]
    }
   ],
   "source": [
    "# 1st test case\n",
    "if __name__ == \"__main__\":\n",
    "    main()"
   ]
  },
  {
   "cell_type": "code",
   "execution_count": 25,
   "metadata": {},
   "outputs": [
    {
     "name": "stdout",
     "output_type": "stream",
     "text": [
      "Enter a year where 1990 <= year <= 2015: xxxx\n",
      "Error in year. Please try again..\n",
      "Enter a year where 1990 <= year <= 2015: 1900\n",
      "Error in year. Please try again\n",
      "Enter a year where 1990 <= year <= 2015: 2015\n",
      "\n",
      "year   mean           median        \n",
      "2015  $46,119.78     $27,459.59     \n",
      "Do you want to plot values (yes/no)? no\n",
      "Enter a choice to get (r)ange, (p)ercent, or nothing to stop: r\n",
      "Enter a percentage: 104\n",
      "Error in percent. Please try again\n",
      "Enter a choice to get (r)ange, (p)ercent, or nothing to stop: r\n",
      "Enter a percentage: -2\n",
      "Error in percent. Please try again\n",
      "Enter a choice to get (r)ange, (p)ercent, or nothing to stop: r\n",
      "Enter a percentage: 90\n",
      "90.00% of incomes are below $90,000.00    .\n",
      "Enter a choice to get (r)ange, (p)ercent, or nothing to stop: p\n",
      "Enter an income: -20\n",
      "Error: income must be positive\n",
      "Enter a choice to get (r)ange, (p)ercent, or nothing to stop: p\n",
      "Enter an income: 100000\n",
      "An income of $100,000.00    is in the top 92.03% of incomes.\n",
      "Enter a choice to get (r)ange, (p)ercent, or nothing to stop: \n"
     ]
    }
   ],
   "source": [
    "# 2nd test case\n",
    "if __name__ == \"__main__\":\n",
    "    main()"
   ]
  },
  {
   "cell_type": "code",
   "execution_count": 26,
   "metadata": {},
   "outputs": [
    {
     "name": "stdout",
     "output_type": "stream",
     "text": [
      "Enter a year where 1990 <= year <= 2015: 2015\n",
      "\n",
      "year   mean           median        \n",
      "2015  $46,119.78     $27,459.59     \n",
      "Do you want to plot values (yes/no)? yes\n"
     ]
    },
    {
     "data": {
      "image/png": "[encoded data removed]",
      "text/plain": [
       "<Figure size 432x288 with 1 Axes>"
      ]
     },
     "metadata": {
      "needs_background": "light"
     },
     "output_type": "display_data"
    },
    {
     "name": "stdout",
     "output_type": "stream",
     "text": [
      "Enter a choice to get (r)ange, (p)ercent, or nothing to stop: \n"
     ]
    }
   ],
   "source": [
    "# 3rd test case\n",
    "if __name__ == \"__main__\":\n",
    "    main()"
   ]
  },
  {
   "cell_type": "code",
   "execution_count": null,
   "metadata": {},
   "outputs": [],
   "source": []
  }
 ],
 "metadata": {
  "kernelspec": {
   "display_name": "Python 3",
   "language": "python",
   "name": "python3"
  },
  "language_info": {
   "codemirror_mode": {
    "name": "ipython",
    "version": 3
   },
   "file_extension": ".py",
   "mimetype": "text/x-python",
   "name": "python",
   "nbconvert_exporter": "python",
   "pygments_lexer": "ipython3",
   "version": "3.8.5"
  }
 },
 "nbformat": 4,
 "nbformat_minor": 4
}
