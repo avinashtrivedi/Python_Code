{
 "cells": [
  {
   "cell_type": "markdown",
   "metadata": {},
   "source": [
    "# Question #1"
   ]
  },
  {
   "cell_type": "code",
   "execution_count": 1,
   "metadata": {},
   "outputs": [],
   "source": [
    "# using the Secret #7: method from the given blog (medium.com)\n",
    "def drawPascalsTriangle(n):\n",
    "    \n",
    "    # get the factorial\n",
    "    def fact(n):\n",
    "        f=1\n",
    "        for i in range(1,n+1,1):\n",
    "            f = f*i\n",
    "        return f\n",
    "\n",
    "    # get the ncr\n",
    "    def ncr(n,r):\n",
    "        return int(fact(n)/(fact(r)*fact(n-r)))\n",
    "\n",
    "    # compute the pascal Triangle\n",
    "    for i in range(1,n+1,1):\n",
    "        for j in range(0,i,1):\n",
    "            print(ncr(i-1,j),end=' ')\n",
    "        print()"
   ]
  },
  {
   "cell_type": "code",
   "execution_count": 2,
   "metadata": {},
   "outputs": [
    {
     "name": "stdout",
     "output_type": "stream",
     "text": [
      "1 \n",
      "1 1 \n",
      "1 2 1 \n",
      "1 3 3 1 \n"
     ]
    }
   ],
   "source": [
    "drawPascalsTriangle(4)"
   ]
  },
  {
   "cell_type": "code",
   "execution_count": 3,
   "metadata": {},
   "outputs": [
    {
     "name": "stdout",
     "output_type": "stream",
     "text": [
      "1 \n",
      "1 1 \n",
      "1 2 1 \n",
      "1 3 3 1 \n",
      "1 4 6 4 1 \n",
      "1 5 10 10 5 1 \n",
      "1 6 15 20 15 6 1 \n",
      "1 7 21 35 35 21 7 1 \n"
     ]
    }
   ],
   "source": [
    "drawPascalsTriangle(8)"
   ]
  },
  {
   "cell_type": "markdown",
   "metadata": {},
   "source": [
    "# Question #2"
   ]
  },
  {
   "cell_type": "code",
   "execution_count": 4,
   "metadata": {},
   "outputs": [],
   "source": [
    "import string\n",
    "def alphaFrequency(userString):\n",
    "    \n",
    "    # get string in lower case\n",
    "    userString = userString.lower()\n",
    "    \n",
    "    # get the list of alphabetic characters\n",
    "    string_list = [i for i in userString if i in string.ascii_lowercase]\n",
    "    \n",
    "    # dictionary to hold character and its frequency graph i.e. count and stars\n",
    "    mydict = dict()\n",
    "    for i in string_list:\n",
    "        \n",
    "        # get the count\n",
    "        cnt = string_list.count(i)\n",
    "        \n",
    "        # create frequency graph\n",
    "        key = str(cnt) +' '+cnt*'*'\n",
    "        mydict[i] = key\n",
    "        \n",
    "    # print the result\n",
    "    for i in sorted(mydict):\n",
    "        msg = str(i) + '=' + mydict[i]\n",
    "        print(msg)"
   ]
  },
  {
   "cell_type": "code",
   "execution_count": 5,
   "metadata": {},
   "outputs": [
    {
     "name": "stdout",
     "output_type": "stream",
     "text": [
      "a=1 *\n",
      "e=1 *\n",
      "h=2 **\n",
      "i=2 **\n",
      "n=1 *\n",
      "o=1 *\n",
      "p=1 *\n",
      "s=3 ***\n",
      "t=4 ****\n",
      "y=1 *\n"
     ]
    }
   ],
   "source": [
    "alphaFrequency(\"This is a Python test 123!\")"
   ]
  },
  {
   "cell_type": "markdown",
   "metadata": {},
   "source": [
    "# Question #3"
   ]
  },
  {
   "cell_type": "code",
   "execution_count": 6,
   "metadata": {},
   "outputs": [],
   "source": [
    "def encryptStr(userString, n):\n",
    "    encrypted_str = ''\n",
    "    \n",
    "    #  for each character in userString\n",
    "    for i in userString:\n",
    "        minus = 0\n",
    "        \n",
    "        # consider only a-z and A-Z\n",
    "        if ord('z')>= ord(i) >= ord('a') or ord('Z')>= ord(i) >= ord('A'):\n",
    "            \n",
    "            # condition to wrap around to the beginning when required\n",
    "            if (i.islower() and ord(i)+n > ord('z')) or (i.isupper() and ord(i)+n > ord('Z')):\n",
    "                encrypted_str = encrypted_str + chr(ord(i) - 26 + n)\n",
    "            else:\n",
    "                encrypted_str = encrypted_str + chr(ord(i) + n)\n",
    "        else:\n",
    "            encrypted_str = encrypted_str + i\n",
    "    return encrypted_str"
   ]
  },
  {
   "cell_type": "code",
   "execution_count": 7,
   "metadata": {},
   "outputs": [
    {
     "data": {
      "text/plain": [
       "'def-abc'"
      ]
     },
     "execution_count": 7,
     "metadata": {},
     "output_type": "execute_result"
    }
   ],
   "source": [
    "encryptStr(\"abc-xyz\", 3)"
   ]
  },
  {
   "cell_type": "code",
   "execution_count": 8,
   "metadata": {},
   "outputs": [
    {
     "data": {
      "text/plain": [
       "'fcd-fde'"
      ]
     },
     "execution_count": 8,
     "metadata": {},
     "output_type": "execute_result"
    }
   ],
   "source": [
    "encryptStr(\"axy-ayz\", 5)"
   ]
  },
  {
   "cell_type": "code",
   "execution_count": null,
   "metadata": {},
   "outputs": [],
   "source": []
  }
 ],
 "metadata": {
  "kernelspec": {
   "display_name": "Python 3",
   "language": "python",
   "name": "python3"
  },
  "language_info": {
   "codemirror_mode": {
    "name": "ipython",
    "version": 3
   },
   "file_extension": ".py",
   "mimetype": "text/x-python",
   "name": "python",
   "nbconvert_exporter": "python",
   "pygments_lexer": "ipython3",
   "version": "3.8.5"
  }
 },
 "nbformat": 4,
 "nbformat_minor": 4
}
