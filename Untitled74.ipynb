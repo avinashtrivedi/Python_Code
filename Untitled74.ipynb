{
 "cells": [
  {
   "cell_type": "code",
   "execution_count": null,
   "metadata": {},
   "outputs": [],
   "source": [
    "import time\n",
    "import random \n",
    "rolled_sum = [0]*13 \n",
    "print(\"Welcome to dice-roll simulator.\")\n",
    "while True:\n",
    "    try:\n",
    "        no_of_dice = int(input(\"Would you like to roll 2 or 3 dices? \"))\n",
    "        if no_of_dice==2:\n",
    "            print(\"We will now simulate rolling 2 dices. How many times would you like to roll 2 dices? \")\n",
    "            \n",
    "            while True:\n",
    "                no_of_simulation = input(\"\\nEnter a positive integer value between 1 and 200: \")\n",
    "                if no_of_simulation.isdigit()==True:\n",
    "                    no_of_simulation = int(no_of_simulation)\n",
    "                    if 1<=no_of_simulation <=200:\n",
    "                        break\n",
    "                    else:\n",
    "                        print('wrong input.Enter a value between 1 and 200.please try again.')\n",
    "                else:\n",
    "                    print('wrong input.Please try again.')\n",
    "                    \n",
    "            print(\"We will roll 2 dices {} times.\".format(no_of_simulation))\n",
    "            print(\"\\nRolling...... this will take a few seconds, please wait.\")\n",
    "            time.sleep(3)\n",
    "\n",
    "            for i in range(no_of_simulation):\n",
    "                die_1_roll = random.randint(1,6)\n",
    "                die_2_roll = random.randint(1,6)\n",
    "                total = die_1_roll + die_2_roll\n",
    "                rolled_sum[total] = rolled_sum[total] + 1\n",
    "            print(\"We've finished rolling 2 dices {} times and obtained the following result:\\n\".format(no_of_simulation))\n",
    "            for i in range(len(rolled_sum)):\n",
    "                if rolled_sum[i]!=0:\n",
    "                    print(\"{} has been rolled {} times\".format(i,rolled_sum[i]))\n",
    "\n",
    "            print(\"Visual Representation.ASCII art chart: \")\n",
    "            for i in range(1,len(rolled_sum)):\n",
    "                print(\"{}: \".format(i),end='')\n",
    "                if rolled_sum[i]!=0:\n",
    "                    for x in rolled_sum[i]:\n",
    "                        print(\"*\",sep='')\n",
    "                    \n",
    "            print(\"\\nThank you for using the dice-roll simulator, see you next time!\")\n",
    "            break\n",
    "        elif no_of_dice==3:\n",
    "            print(\"\\nSimulating 3 dices feature has not been implemented. Please choose rolling 2 dices.\\n\")\n",
    "        else:\n",
    "            print(\"wrong input.Please try again.\")\n",
    "    except:\n",
    "        print(\"wrong input.Please try again.\")"
   ]
  },
  {
   "cell_type": "code",
   "execution_count": null,
   "metadata": {},
   "outputs": [],
   "source": [
    "for i in range(1,len(rolled_sum)):\n",
    "                print(\"{}: \".format(i),end='')\n",
    "                if rolled_sum[i]!=0:\n",
    "                    for i in rolled_sum[i]:\n",
    "                        print(\"*\",sep='')"
   ]
  }
 ],
 "metadata": {
  "kernelspec": {
   "display_name": "Python 3",
   "language": "python",
   "name": "python3"
  },
  "language_info": {
   "codemirror_mode": {
    "name": "ipython",
    "version": 3
   },
   "file_extension": ".py",
   "mimetype": "text/x-python",
   "name": "python",
   "nbconvert_exporter": "python",
   "pygments_lexer": "ipython3",
   "version": "3.8.5"
  }
 },
 "nbformat": 4,
 "nbformat_minor": 4
}
