{
 "cells": [
  {
   "cell_type": "code",
   "execution_count": 3,
   "metadata": {},
   "outputs": [
    {
     "name": "stdout",
     "output_type": "stream",
     "text": [
      "Probability of Waiting for more than 10 min:\n",
      " 0.000010\n"
     ]
    }
   ],
   "source": [
    "import numpy as np\n",
    "import math as ml\n",
    "import random as rnd\n",
    "\n",
    "rnd.seed()\n",
    "\n",
    "no_mc = 100000\n",
    "lam = 1. / 10\n",
    "time_to_wait = \\\n",
    "10.\n",
    "total_min_in_hour = \\\n",
    "60.\n",
    "\n",
    "\n",
    "arrival_times = \\\n",
    "[ total_min_in_hour*rnd.random() for kk in range(no_mc) ]\n",
    "\n",
    "result = \\\n",
    "np.zeros(no_mc)\n",
    "\n",
    "\n",
    "for kk in range(len(arrival_times)):\n",
    "    if arrival_times[kk] > total_min_in_hour - time_to_wait:\n",
    "        continue\n",
    "    else:\n",
    "\n",
    "        flag_valid_sample = False\n",
    "  \n",
    "    sample = None\n",
    "while not flag_valid_sample:\n",
    "    u = rnd.random()\n",
    "    x = - 1. / lam * ml.log(1. - u)\n",
    "    if arrival_times[kk] + x < total_min_in_hour:\n",
    "        flag_valid_sample = True\n",
    "        sample = x\n",
    "    if sample > time_to_wait:\n",
    "        result[kk] = 1.\n",
    "\n",
    "print(\"Probability of Waiting for more than 10 min:\")\n",
    "\n",
    "print(\" %.6f\" % ( np.sum(result) / len(result) ))"
   ]
  },
  {
   "cell_type": "code",
   "execution_count": null,
   "metadata": {},
   "outputs": [],
   "source": []
  }
 ],
 "metadata": {
  "kernelspec": {
   "display_name": "Python 3",
   "language": "python",
   "name": "python3"
  },
  "language_info": {
   "codemirror_mode": {
    "name": "ipython",
    "version": 3
   },
   "file_extension": ".py",
   "mimetype": "text/x-python",
   "name": "python",
   "nbconvert_exporter": "python",
   "pygments_lexer": "ipython3",
   "version": "3.8.5"
  }
 },
 "nbformat": 4,
 "nbformat_minor": 4
}
