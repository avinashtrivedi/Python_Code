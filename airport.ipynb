{
 "cells": [
  {
   "cell_type": "markdown",
   "metadata": {},
   "source": [
    "# Q.1"
   ]
  },
  {
   "cell_type": "code",
   "execution_count": 1,
   "metadata": {},
   "outputs": [],
   "source": [
    "# M is a matrix in the form of list of list\n",
    "# like M =[[1,2,3],[7,6,7]]\n",
    "\n",
    "def Count_var(x,M):\n",
    "    # defind empty list to store indexes at which x is present\n",
    "    index = []\n",
    "    for i in range(len(M)):\n",
    "        for j in range(len(M[i])):\n",
    "            if M[i][j] == x: # check if matrix element is equal to x\n",
    "                index.append((i,j))\n",
    "    return index"
   ]
  },
  {
   "cell_type": "code",
   "execution_count": 2,
   "metadata": {},
   "outputs": [],
   "source": [
    "# define a dummy matrix to test the function Count_var\n",
    "M =[[1,2,3],[7,6,7],[9,8,6]]"
   ]
  },
  {
   "cell_type": "code",
   "execution_count": 3,
   "metadata": {},
   "outputs": [
    {
     "data": {
      "text/plain": [
       "[(1, 0), (1, 2)]"
      ]
     },
     "execution_count": 3,
     "metadata": {},
     "output_type": "execute_result"
    }
   ],
   "source": [
    "# i.e 7 is available at two different positions\n",
    "# first at (1,0) and second at (1,2)\n",
    "Count_var(7,M) "
   ]
  },
  {
   "cell_type": "code",
   "execution_count": 4,
   "metadata": {},
   "outputs": [
    {
     "data": {
      "text/plain": [
       "[(2, 1)]"
      ]
     },
     "execution_count": 4,
     "metadata": {},
     "output_type": "execute_result"
    }
   ],
   "source": [
    "# 8 is present at index (2,1)\n",
    "Count_var(8,M)"
   ]
  },
  {
   "cell_type": "markdown",
   "metadata": {},
   "source": [
    "# Q.2"
   ]
  },
  {
   "cell_type": "code",
   "execution_count": 5,
   "metadata": {},
   "outputs": [],
   "source": [
    "def Delete_var(x,M):\n",
    "    # temporary matrix to hold the rows not containing x\n",
    "    temp_matrix = [] \n",
    "    #Loop through each rows and append those rows which does not \n",
    "    # contains x as an element\n",
    "    for i in range(len(M)):\n",
    "        if x not in M[i]:\n",
    "            # appending the rows in temporary matrix\n",
    "            temp_matrix.append(M[i])\n",
    "    # return the temporary matrix\n",
    "    return temp_matrix"
   ]
  },
  {
   "cell_type": "code",
   "execution_count": 6,
   "metadata": {},
   "outputs": [],
   "source": [
    "# define a dummy matrix to test the function Delete_var\n",
    "M =[[1,2,3],[7,6,7],[9,8,6]]"
   ]
  },
  {
   "cell_type": "code",
   "execution_count": 7,
   "metadata": {},
   "outputs": [
    {
     "data": {
      "text/plain": [
       "[[7, 6, 7], [9, 8, 6]]"
      ]
     },
     "execution_count": 7,
     "metadata": {},
     "output_type": "execute_result"
    }
   ],
   "source": [
    "# delete all rows with value 1\n",
    "# and return the remaining rows\n",
    "Delete_var(1,M)"
   ]
  },
  {
   "cell_type": "code",
   "execution_count": 8,
   "metadata": {},
   "outputs": [
    {
     "data": {
      "text/plain": [
       "[[1, 2, 3], [9, 8, 6]]"
      ]
     },
     "execution_count": 8,
     "metadata": {},
     "output_type": "execute_result"
    }
   ],
   "source": [
    "# delete all rows with value 7\n",
    "# and return the remaining rows\n",
    "Delete_var(7,M)"
   ]
  },
  {
   "cell_type": "code",
   "execution_count": 9,
   "metadata": {},
   "outputs": [
    {
     "data": {
      "text/plain": [
       "[[1, 2, 3]]"
      ]
     },
     "execution_count": 9,
     "metadata": {},
     "output_type": "execute_result"
    }
   ],
   "source": [
    "# delete all rows with value 6\n",
    "# and return the remaining rows\n",
    "Delete_var(6,M)"
   ]
  },
  {
   "cell_type": "code",
   "execution_count": 10,
   "metadata": {},
   "outputs": [
    {
     "data": {
      "text/plain": [
       "[[1, 2, 3], [7, 6, 7], [9, 8, 6]]"
      ]
     },
     "execution_count": 10,
     "metadata": {},
     "output_type": "execute_result"
    }
   ],
   "source": [
    "# As 0 is not in matrix M ,Hence it is returning all rows.\n",
    "Delete_var(0,M)"
   ]
  }
 ],
 "metadata": {
  "kernelspec": {
   "display_name": "Python 3",
   "language": "python",
   "name": "python3"
  },
  "language_info": {
   "codemirror_mode": {
    "name": "ipython",
    "version": 3
   },
   "file_extension": ".py",
   "mimetype": "text/x-python",
   "name": "python",
   "nbconvert_exporter": "python",
   "pygments_lexer": "ipython3",
   "version": "3.8.5"
  }
 },
 "nbformat": 4,
 "nbformat_minor": 4
}
