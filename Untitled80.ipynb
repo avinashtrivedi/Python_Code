{
 "cells": [
  {
   "cell_type": "code",
   "execution_count": 1,
   "metadata": {},
   "outputs": [],
   "source": [
    "def sortByHabitat(animals,habitatZones):\n",
    "    # sort using habitatZones and modify the original copy\n",
    "    habitatZones[:],animals[:] = zip(*sorted(zip(habitatZones, animals), key=lambda x: x[0]))"
   ]
  },
  {
   "cell_type": "code",
   "execution_count": 2,
   "metadata": {},
   "outputs": [],
   "source": [
    "def sortByAnimals(animals,habitatZones):\n",
    "    # sort within habitatZones and modify the original copy\n",
    "    habitatZones[:],animals[:] = zip(*sorted(zip(habitatZones, animals)))"
   ]
  },
  {
   "cell_type": "code",
   "execution_count": 3,
   "metadata": {},
   "outputs": [
    {
     "name": "stdout",
     "output_type": "stream",
     "text": [
      "Original list of animals: ['Jaguar', 'Okapi', 'Sloths', 'Camel', 'Zebra', 'Elephant', 'Orangatan', 'Kangaroo', 'Giraffe', 'Fox', 'Scorpion', 'Lion']\n",
      "Original list of animal habitat zones: [3, 3, 3, 2, 1, 1, 3, 2, 1, 2, 2, 1]\n",
      "\n",
      "Animals sorted by their habitat zones: ['Zebra', 'Elephant', 'Giraffe', 'Lion', 'Camel', 'Kangaroo', 'Fox', 'Scorpion', 'Jaguar', 'Okapi', 'Sloths', 'Orangatan']\n",
      "Habitat Zones: [1, 1, 1, 1, 2, 2, 2, 2, 3, 3, 3, 3]\n",
      "\n",
      "Animals sorted within their habitat zones: ['Elephant', 'Giraffe', 'Lion', 'Zebra', 'Camel', 'Fox', 'Kangaroo', 'Scorpion', 'Jaguar', 'Okapi', 'Orangatan', 'Sloths']\n",
      "Habitat Zones: [1, 1, 1, 1, 2, 2, 2, 2, 3, 3, 3, 3]\n"
     ]
    }
   ],
   "source": [
    "def main():\n",
    "    animals = ['Jaguar','Okapi','Sloths','Camel','Zebra','Elephant','Orangatan',\n",
    "               'Kangaroo','Giraffe','Fox','Scorpion','Lion']\n",
    "    habitatZones = [3,3,3,2,1,1,3,2,1,2,2,1]\n",
    "    print('Original list of animals:',animals)\n",
    "    print('Original list of animal habitat zones:',habitatZones)\n",
    "    sortByHabitat(animals,habitatZones)\n",
    "    print('\\nAnimals sorted by their habitat zones:',animals)\n",
    "    print('Habitat Zones:',habitatZones)\n",
    "    sortByAnimals(animals,habitatZones)\n",
    "    print('\\nAnimals sorted within their habitat zones:',animals)\n",
    "    print('Habitat Zones:',habitatZones)\n",
    "main()"
   ]
  },
  {
   "cell_type": "code",
   "execution_count": null,
   "metadata": {},
   "outputs": [],
   "source": []
  }
 ],
 "metadata": {
  "kernelspec": {
   "display_name": "Python 3",
   "language": "python",
   "name": "python3"
  },
  "language_info": {
   "codemirror_mode": {
    "name": "ipython",
    "version": 3
   },
   "file_extension": ".py",
   "mimetype": "text/x-python",
   "name": "python",
   "nbconvert_exporter": "python",
   "pygments_lexer": "ipython3",
   "version": "3.8.5"
  }
 },
 "nbformat": 4,
 "nbformat_minor": 4
}
