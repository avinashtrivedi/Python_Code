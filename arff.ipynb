{
 "cells": [
  {
   "cell_type": "code",
   "execution_count": 1,
   "metadata": {},
   "outputs": [],
   "source": [
    "# import library\n",
    "from scipy.io import arff\n",
    "import pandas as pd\n",
    "\n",
    "# create a function to read the weather arff file\n",
    "def read_arff(fname):\n",
    "    \n",
    "    # try except block to handle exception\n",
    "    try: \n",
    "        data = arff.loadarff(fname) # load the arff file\n",
    "        df = pd.DataFrame(data[0])  # convert the data into dataframe\n",
    "        \n",
    "        # Adjust the column so as to create the desired dictionary\n",
    "        df = df[['windy','play','temperature','outlook','humidity']]\n",
    "        \n",
    "        # modify/decode byte data into string\n",
    "        df['windy'] = df['windy'].apply(lambda x: x.decode(\"utf-8\"))\n",
    "        df['play'] = df['play'].apply(lambda x: x.decode(\"utf-8\"))\n",
    "        df['outlook'] = df['outlook'].apply(lambda x: x.decode(\"utf-8\"))\n",
    "        \n",
    "        # create a list of the desired dictionary\n",
    "        list_dict = list(df.apply(lambda x: dict(x),axis=1))   \n",
    "        return list_dict  # return the dictionary\n",
    "    except:\n",
    "        print('wrong file name.Please try again')"
   ]
  },
  {
   "cell_type": "code",
   "execution_count": 2,
   "metadata": {},
   "outputs": [
    {
     "data": {
      "text/plain": [
       "[{'windy': 'FALSE',\n",
       "  'play': 'no',\n",
       "  'temperature': 85.0,\n",
       "  'outlook': 'sunny',\n",
       "  'humidity': 85.0},\n",
       " {'windy': 'TRUE',\n",
       "  'play': 'no',\n",
       "  'temperature': 80.0,\n",
       "  'outlook': 'sunny',\n",
       "  'humidity': 90.0},\n",
       " {'windy': 'FALSE',\n",
       "  'play': 'yes',\n",
       "  'temperature': 83.0,\n",
       "  'outlook': 'overcast',\n",
       "  'humidity': 86.0},\n",
       " {'windy': 'FALSE',\n",
       "  'play': 'yes',\n",
       "  'temperature': 70.0,\n",
       "  'outlook': 'rainy',\n",
       "  'humidity': 96.0},\n",
       " {'windy': 'FALSE',\n",
       "  'play': 'yes',\n",
       "  'temperature': 68.0,\n",
       "  'outlook': 'rainy',\n",
       "  'humidity': 80.0},\n",
       " {'windy': 'TRUE',\n",
       "  'play': 'no',\n",
       "  'temperature': 65.0,\n",
       "  'outlook': 'rainy',\n",
       "  'humidity': 70.0},\n",
       " {'windy': 'TRUE',\n",
       "  'play': 'yes',\n",
       "  'temperature': 64.0,\n",
       "  'outlook': 'overcast',\n",
       "  'humidity': 65.0},\n",
       " {'windy': 'FALSE',\n",
       "  'play': 'no',\n",
       "  'temperature': 72.0,\n",
       "  'outlook': 'sunny',\n",
       "  'humidity': 95.0},\n",
       " {'windy': 'FALSE',\n",
       "  'play': 'yes',\n",
       "  'temperature': 69.0,\n",
       "  'outlook': 'sunny',\n",
       "  'humidity': 70.0},\n",
       " {'windy': 'FALSE',\n",
       "  'play': 'yes',\n",
       "  'temperature': 75.0,\n",
       "  'outlook': 'rainy',\n",
       "  'humidity': 80.0},\n",
       " {'windy': 'TRUE',\n",
       "  'play': 'yes',\n",
       "  'temperature': 75.0,\n",
       "  'outlook': 'sunny',\n",
       "  'humidity': 70.0},\n",
       " {'windy': 'TRUE',\n",
       "  'play': 'yes',\n",
       "  'temperature': 72.0,\n",
       "  'outlook': 'overcast',\n",
       "  'humidity': 90.0},\n",
       " {'windy': 'FALSE',\n",
       "  'play': 'yes',\n",
       "  'temperature': 81.0,\n",
       "  'outlook': 'overcast',\n",
       "  'humidity': 75.0},\n",
       " {'windy': 'TRUE',\n",
       "  'play': 'no',\n",
       "  'temperature': 71.0,\n",
       "  'outlook': 'rainy',\n",
       "  'humidity': 91.0}]"
      ]
     },
     "execution_count": 2,
     "metadata": {},
     "output_type": "execute_result"
    }
   ],
   "source": [
    "read_arff('weather.arff')"
   ]
  },
  {
   "cell_type": "code",
   "execution_count": null,
   "metadata": {},
   "outputs": [],
   "source": []
  }
 ],
 "metadata": {
  "kernelspec": {
   "display_name": "Python 3",
   "language": "python",
   "name": "python3"
  },
  "language_info": {
   "codemirror_mode": {
    "name": "ipython",
    "version": 3
   },
   "file_extension": ".py",
   "mimetype": "text/x-python",
   "name": "python",
   "nbconvert_exporter": "python",
   "pygments_lexer": "ipython3",
   "version": "3.8.5"
  }
 },
 "nbformat": 4,
 "nbformat_minor": 4
}
