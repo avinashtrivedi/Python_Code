{
 "cells": [
  {
   "cell_type": "code",
   "execution_count": 1,
   "metadata": {},
   "outputs": [
    {
     "name": "stdout",
     "output_type": "stream",
     "text": [
      "Trollozite stone weighing 6 lbs.\n",
      "Trollokite stone weighing 3 lbs.\n",
      "Trollozite stone weighing 3 lbs.\n",
      "Trollozite stone weighing 7 lbs.\n",
      "Trollozite stone weighing 4 lbs.\n",
      "Trollokite stone weighing 4 lbs.\n",
      "Trollokite stone weighing 5 lbs.\n",
      "Trollokite stone weighing 5 lbs.\n",
      "Trollolite stone weighing 7 lbs.\n",
      "Trollolite stone weighing 4 lbs.\n",
      "Trollokite stone weighing 7 lbs.\n",
      "Trollozite stone weighing 4 lbs.\n",
      "Trollokite stone weighing 2 lbs.\n",
      "Trollozite stone weighing 3 lbs.\n",
      "The number of TROLLOLITE stones in the bag are: 2\n",
      "The number of TROLLOKITE stones in the bag are: 6\n",
      "The number of TROLLOZITE stones in the bag are: 6\n",
      "The total weight of the stones in the bag is 64 lbs.\n"
     ]
    }
   ],
   "source": [
    "# import the library\n",
    "import random\n",
    "\n",
    "total_weight = 0\n",
    "\n",
    "# list to store stone type and its weight\n",
    "data = []\n",
    "\n",
    "while True:\n",
    "    \n",
    "    # get the stone type and its weight\n",
    "    stone_type = random.randint(1,3)\n",
    "    stone_weight = random.randint(2,7)\n",
    "    \n",
    "    # condition to check if total weight is <= 65\n",
    "    if total_weight + stone_weight <=65:\n",
    "        total_weight = total_weight + stone_weight\n",
    "        \n",
    "        # store the stone_type and stone_weight\n",
    "        data.append((stone_type,stone_weight))\n",
    "        \n",
    "    else:\n",
    "        # if total_weight is more than 65, exit the loop\n",
    "        break\n",
    "        \n",
    "# initial count of stone\n",
    "Trollolite = 0\n",
    "Trollokite = 0\n",
    "Trollozite = 0\n",
    "\n",
    "for stonetype,weight in data:\n",
    "    if stonetype == 1:\n",
    "        print('Trollolite stone weighing',weight,'lbs.')\n",
    "        Trollolite = Trollolite + 1\n",
    "        \n",
    "    elif stonetype == 2:\n",
    "        print('Trollokite stone weighing',weight,'lbs.')\n",
    "        Trollokite = Trollokite + 1\n",
    "        \n",
    "    elif stonetype == 3:\n",
    "        print('Trollozite stone weighing',weight,'lbs.')\n",
    "        Trollozite = Trollozite + 1\n",
    "        \n",
    "print('The number of TROLLOLITE stones in the bag are:',Trollolite) \n",
    "print('The number of TROLLOKITE stones in the bag are:',Trollokite)\n",
    "print('The number of TROLLOZITE stones in the bag are:',Trollozite)\n",
    "print('The total weight of the stones in the bag is',total_weight,'lbs.')"
   ]
  },
  {
   "cell_type": "code",
   "execution_count": null,
   "metadata": {},
   "outputs": [],
   "source": []
  }
 ],
 "metadata": {
  "kernelspec": {
   "display_name": "Python 3",
   "language": "python",
   "name": "python3"
  },
  "language_info": {
   "codemirror_mode": {
    "name": "ipython",
    "version": 3
   },
   "file_extension": ".py",
   "mimetype": "text/x-python",
   "name": "python",
   "nbconvert_exporter": "python",
   "pygments_lexer": "ipython3",
   "version": "3.8.5"
  }
 },
 "nbformat": 4,
 "nbformat_minor": 4
}
