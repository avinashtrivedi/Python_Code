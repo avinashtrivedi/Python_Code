{
 "cells": [
  {
   "cell_type": "code",
   "execution_count": 1,
   "metadata": {},
   "outputs": [],
   "source": [
    "# import the library\n",
    "import numpy as np\n",
    "import matplotlib.pyplot as plt\n",
    "from scipy.optimize import curve_fit\n",
    "import warnings\n",
    "warnings.filterwarnings('ignore')"
   ]
  },
  {
   "cell_type": "code",
   "execution_count": 2,
   "metadata": {},
   "outputs": [
    {
     "data": {
      "image/png": "[encoded data removed]",
      "text/plain": [
       "<Figure size 432x288 with 1 Axes>"
      ]
     },
     "metadata": {
      "needs_background": "light"
     },
     "output_type": "display_data"
    }
   ],
   "source": [
    "# store data\n",
    "xdata = np.array([1,2,4])\n",
    "ydata = np.array([1,2,3])\n",
    "\n",
    "# Show data points\n",
    "plt.plot(xdata,ydata,'*')\n",
    "plt.xlabel('xdata')\n",
    "plt.ylabel('ydata');"
   ]
  },
  {
   "cell_type": "code",
   "execution_count": 3,
   "metadata": {},
   "outputs": [],
   "source": [
    "# fit function\n",
    "def func(x, a,b):\n",
    "    return np.log(a*x) + np.cos(b*x)"
   ]
  },
  {
   "cell_type": "code",
   "execution_count": 4,
   "metadata": {},
   "outputs": [
    {
     "name": "stdout",
     "output_type": "stream",
     "text": [
      "Parameter estimation results:\n",
      "a =  1.3591409005825352  | b =  9.365923577749492e-06\n"
     ]
    }
   ],
   "source": [
    "# starting guess for a and b as .5 and .2\n",
    "popt, pcov = curve_fit(func, xdata, ydata,p0=(0.5,0.2))\n",
    "\n",
    "print(\"Parameter estimation results:\")\n",
    "print(\"a = \",popt[0],\" | b = \",popt[1])"
   ]
  },
  {
   "cell_type": "code",
   "execution_count": 5,
   "metadata": {},
   "outputs": [
    {
     "name": "stdout",
     "output_type": "stream",
     "text": [
      "Residuals sum of squares:\n",
      "0.18831730600038132\n"
     ]
    }
   ],
   "source": [
    "# Sum of squares of residuals\n",
    "p1 = popt[0]\n",
    "p2 = popt[1]\n",
    "residuals = ydata - func(xdata,p1,p2)\n",
    "fres = sum(residuals**2)\n",
    "\n",
    "print(\"Residuals sum of squares:\")\n",
    "print(fres)"
   ]
  },
  {
   "cell_type": "code",
   "execution_count": 6,
   "metadata": {},
   "outputs": [
    {
     "data": {
      "image/png": "[encoded data removed]",
      "text/plain": [
       "<Figure size 432x288 with 1 Axes>"
      ]
     },
     "metadata": {
      "needs_background": "light"
     },
     "output_type": "display_data"
    }
   ],
   "source": [
    "# Plot fitted curve along with data\n",
    "curvex=np.linspace(0,10,100)\n",
    "curvey=func(curvex,p1,p2)\n",
    "plt.plot(xdata,ydata,'*')\n",
    "plt.plot(curvex,curvey,'r')\n",
    "plt.xlabel('xdata')\n",
    "plt.ylabel('ydata');"
   ]
  },
  {
   "cell_type": "code",
   "execution_count": null,
   "metadata": {},
   "outputs": [],
   "source": []
  }
 ],
 "metadata": {
  "kernelspec": {
   "display_name": "Python 3",
   "language": "python",
   "name": "python3"
  },
  "language_info": {
   "codemirror_mode": {
    "name": "ipython",
    "version": 3
   },
   "file_extension": ".py",
   "mimetype": "text/x-python",
   "name": "python",
   "nbconvert_exporter": "python",
   "pygments_lexer": "ipython3",
   "version": "3.8.5"
  }
 },
 "nbformat": 4,
 "nbformat_minor": 4
}
