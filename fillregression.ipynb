{
 "cells": [
  {
   "cell_type": "code",
   "execution_count": 1,
   "metadata": {},
   "outputs": [],
   "source": [
    "import pandas as pd\n",
    "import numpy as np\n",
    "from sklearn.linear_model import LinearRegression\n",
    "from sklearn.model_selection import train_test_split\n",
    "from sklearn import metrics"
   ]
  },
  {
   "cell_type": "code",
   "execution_count": 2,
   "metadata": {},
   "outputs": [],
   "source": [
    "def LinearRegressionModel(X,y,with_fit_intercept):\n",
    "    \n",
    "    # build the model and fit the data on this model\n",
    "    clf = LinearRegression(fit_intercept=with_fit_intercept).fit(X_train, y_train)\n",
    "    \n",
    "    return clf"
   ]
  },
  {
   "cell_type": "code",
   "execution_count": 3,
   "metadata": {},
   "outputs": [],
   "source": [
    "dataset = pd.read_csv('petrol_consumption.csv')\n",
    "X = dataset[['Petrol_tax', 'Average_income', 'Paved_Highways','Population_Driver_licence(%)']]\n",
    "y = dataset['Petrol_Consumption']\n",
    "\n",
    "X_train, X_test, y_train, y_test = train_test_split(X, y, test_size = 0.2, random_state = 0)"
   ]
  },
  {
   "cell_type": "code",
   "execution_count": 4,
   "metadata": {},
   "outputs": [
    {
     "name": "stdout",
     "output_type": "stream",
     "text": [
      "Mean squared Error of Training (Without intercept): 4336.068548626843\n",
      "Mean squared Error of Testing (Without intercept): 4492.950158508011\n"
     ]
    }
   ],
   "source": [
    "clf_without_intercept = LinearRegressionModel(X_train,y_train,False)\n",
    "\n",
    "# predict on training set\n",
    "y_predict_train = clf_without_intercept.predict(X_train)\n",
    "print('Mean squared Error of Training (Without intercept):',metrics.mean_squared_error(y_train,y_predict_train))\n",
    "\n",
    "# predict on test set\n",
    "y_pred = clf_without_intercept.predict(X_test)\n",
    "print('Mean squared Error of Testing (Without intercept):',metrics.mean_squared_error(y_test,y_pred))"
   ]
  },
  {
   "cell_type": "code",
   "execution_count": 5,
   "metadata": {},
   "outputs": [
    {
     "name": "stdout",
     "output_type": "stream",
     "text": [
      "Mean squared Error of Training (With intercept): 3822.6904553362224\n",
      "Mean squared Error of Testing (With intercept): 4666.3447875883585\n"
     ]
    }
   ],
   "source": [
    "clf_without_intercept = LinearRegressionModel(X_train,y_train,True)\n",
    "\n",
    "# predict on training set\n",
    "y_predict_train = clf_without_intercept.predict(X_train)\n",
    "print('Mean squared Error of Training (With intercept):',metrics.mean_squared_error(y_train,y_predict_train))\n",
    "\n",
    "# predict on test set\n",
    "y_pred = clf_without_intercept.predict(X_test)\n",
    "print('Mean squared Error of Testing (With intercept):',metrics.mean_squared_error(y_test,y_pred))"
   ]
  }
 ],
 "metadata": {
  "kernelspec": {
   "display_name": "Python 3",
   "language": "python",
   "name": "python3"
  },
  "language_info": {
   "codemirror_mode": {
    "name": "ipython",
    "version": 3
   },
   "file_extension": ".py",
   "mimetype": "text/x-python",
   "name": "python",
   "nbconvert_exporter": "python",
   "pygments_lexer": "ipython3",
   "version": "3.8.5"
  }
 },
 "nbformat": 4,
 "nbformat_minor": 4
}
