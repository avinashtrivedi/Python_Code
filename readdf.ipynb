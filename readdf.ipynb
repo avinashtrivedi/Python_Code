{
 "cells": [
  {
   "cell_type": "code",
   "execution_count": 1,
   "metadata": {},
   "outputs": [],
   "source": [
    "# import the library\n",
    "import pandas as pd\n",
    "import numpy as np"
   ]
  },
  {
   "cell_type": "code",
   "execution_count": 2,
   "metadata": {},
   "outputs": [],
   "source": [
    "# define the function\n",
    "def load_mydata(filename):\n",
    "    \n",
    "    # read the file\n",
    "    df = pd.read_csv(filename,delimiter=',',quotechar=\"\",quoting=3,header=None)\n",
    "    \n",
    "    # get the desired columns\n",
    "    df = df.iloc[:,[0,1,2,5,8,9,10,11,12]]\n",
    "    \n",
    "    # datatype as 30-character string\n",
    "    ndarray = np.array(df,dtype='U30')\n",
    "    return ndarray"
   ]
  },
  {
   "cell_type": "markdown",
   "metadata": {},
   "source": [
    "# Test Case"
   ]
  },
  {
   "cell_type": "code",
   "execution_count": 3,
   "metadata": {},
   "outputs": [
    {
     "name": "stdout",
     "output_type": "stream",
     "text": [
      "['created_at' 'user_ID' 'review_ID' 'location_ID' 'sad' 'happy' 'surprise'\n",
      " 'disgust' 'joy']\n"
     ]
    }
   ],
   "source": [
    "data = load_mydata(\"location_review_data.csv\")\n",
    "print(data[0])"
   ]
  },
  {
   "cell_type": "code",
   "execution_count": 4,
   "metadata": {},
   "outputs": [
    {
     "name": "stdout",
     "output_type": "stream",
     "text": [
      "<U30\n"
     ]
    }
   ],
   "source": [
    "data = load_mydata(\"location_review_data.csv\")\n",
    "print(data[0].dtype)"
   ]
  },
  {
   "cell_type": "code",
   "execution_count": null,
   "metadata": {},
   "outputs": [],
   "source": []
  }
 ],
 "metadata": {
  "kernelspec": {
   "display_name": "Python 3",
   "language": "python",
   "name": "python3"
  },
  "language_info": {
   "codemirror_mode": {
    "name": "ipython",
    "version": 3
   },
   "file_extension": ".py",
   "mimetype": "text/x-python",
   "name": "python",
   "nbconvert_exporter": "python",
   "pygments_lexer": "ipython3",
   "version": "3.8.5"
  }
 },
 "nbformat": 4,
 "nbformat_minor": 4
}
