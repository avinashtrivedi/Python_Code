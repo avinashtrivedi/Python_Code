{
 "cells": [
  {
   "cell_type": "code",
   "execution_count": 10,
   "metadata": {},
   "outputs": [
    {
     "name": "stdout",
     "output_type": "stream",
     "text": [
      "array_1d = \n",
      " [ 0 10 20 30 40 50 60 70 80 90] \n",
      "\n"
     ]
    }
   ],
   "source": [
    "import numpy as np\n",
    "array_1d = np.arange(0,100,10)\n",
    "print('array_1d = \\n', array_1d, '\\n')"
   ]
  },
  {
   "cell_type": "code",
   "execution_count": 11,
   "metadata": {},
   "outputs": [
    {
     "name": "stdout",
     "output_type": "stream",
     "text": [
      "Problem 2.1a: \n",
      " 40 \n",
      "\n"
     ]
    }
   ],
   "source": [
    "# problem 2.1a\n",
    "\n",
    "array_1d_index = array_1d[4]\n",
    "print('Problem 2.1a: \\n',array_1d_index,'\\n')"
   ]
  },
  {
   "cell_type": "code",
   "execution_count": 12,
   "metadata": {},
   "outputs": [
    {
     "name": "stdout",
     "output_type": "stream",
     "text": [
      "Problem 2.1a: \n",
      " [30 40 50 60] \n",
      "\n"
     ]
    }
   ],
   "source": [
    "# problem 2.1b\n",
    "\n",
    "array_1d_index = array_1d[3:7]\n",
    "print('Problem 2.1b: \\n',array_1d_index,'\\n')"
   ]
  },
  {
   "cell_type": "code",
   "execution_count": 15,
   "metadata": {},
   "outputs": [
    {
     "name": "stdout",
     "output_type": "stream",
     "text": [
      "array_2d = \n",
      " [[90. 88. 86. 84. 82.]\n",
      " [80. 78. 76. 74. 72.]\n",
      " [70. 68. 66. 64. 62.]\n",
      " [60. 58. 56. 54. 52.]\n",
      " [50. 48. 46. 44. 42.]] \n",
      "\n"
     ]
    }
   ],
   "source": [
    "array_2d = np.linspace(90,42,25).reshape((5,5))\n",
    "print('array_2d = \\n',array_2d,'\\n')"
   ]
  },
  {
   "cell_type": "code",
   "execution_count": 18,
   "metadata": {},
   "outputs": [
    {
     "name": "stdout",
     "output_type": "stream",
     "text": [
      "Problem 2.2a: \n",
      " 64.0 \n",
      "\n"
     ]
    }
   ],
   "source": [
    "# problem 2.2a\n",
    "\n",
    "array_2d_index = array_2d[2,3]\n",
    "print('Problem 2.2a: \\n',array_2d_index,'\\n')"
   ]
  },
  {
   "cell_type": "code",
   "execution_count": 19,
   "metadata": {},
   "outputs": [
    {
     "name": "stdout",
     "output_type": "stream",
     "text": [
      "Problem 2.2b: \n",
      " [60. 58. 56. 54. 52.] \n",
      "\n"
     ]
    }
   ],
   "source": [
    "# problem 2.2b\n",
    "\n",
    "array_2d_index = array_2d[3,:]\n",
    "print('Problem 2.2b: \\n',array_2d_index,'\\n')"
   ]
  },
  {
   "cell_type": "code",
   "execution_count": 20,
   "metadata": {},
   "outputs": [
    {
     "name": "stdout",
     "output_type": "stream",
     "text": [
      "Problem 2.2c: \n",
      " [80. 78. 76. 74. 72.] \n",
      "\n"
     ]
    }
   ],
   "source": [
    "# problem 2.2c\n",
    "\n",
    "array_2d_index = array_2d[1,:]\n",
    "print('Problem 2.2c: \\n',array_2d_index,'\\n')"
   ]
  },
  {
   "cell_type": "code",
   "execution_count": 23,
   "metadata": {},
   "outputs": [
    {
     "name": "stdout",
     "output_type": "stream",
     "text": [
      "Problem 2.2d: \n",
      " [[86. 84.]\n",
      " [76. 74.]\n",
      " [66. 64.]] \n",
      "\n"
     ]
    }
   ],
   "source": [
    "# problem 2.2d\n",
    "\n",
    "array_2d_index = array_2d[0:3,2:4]\n",
    "print('Problem 2.2d: \\n',array_2d_index,'\\n')"
   ]
  },
  {
   "cell_type": "code",
   "execution_count": null,
   "metadata": {},
   "outputs": [],
   "source": []
  }
 ],
 "metadata": {
  "kernelspec": {
   "display_name": "Python 3",
   "language": "python",
   "name": "python3"
  },
  "language_info": {
   "codemirror_mode": {
    "name": "ipython",
    "version": 3
   },
   "file_extension": ".py",
   "mimetype": "text/x-python",
   "name": "python",
   "nbconvert_exporter": "python",
   "pygments_lexer": "ipython3",
   "version": "3.8.5"
  }
 },
 "nbformat": 4,
 "nbformat_minor": 4
}
