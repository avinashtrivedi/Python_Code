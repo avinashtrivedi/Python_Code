{
 "cells": [
  {
   "cell_type": "code",
   "execution_count": 1,
   "metadata": {},
   "outputs": [],
   "source": [
    "import json\n",
    "# Open a JSON file\n",
    "file = open('data.json')\n",
    "# returns object as a dictionary\n",
    "d = json.load(file)"
   ]
  },
  {
   "cell_type": "code",
   "execution_count": 2,
   "metadata": {},
   "outputs": [
    {
     "data": {
      "text/plain": [
       "{'_id': {'$oid': '60a7ca3f8d48051be7447064'},\n",
       " 'last_updated': 1588192647,\n",
       " 'ttl': 180,\n",
       " 'data': {'bikes': [{'bike_id': 'bike_12749',\n",
       "    'name': 'T723',\n",
       "    'lon': -111.94272,\n",
       "    'lat': 33.4315,\n",
       "    'is_reserved': 0,\n",
       "    'is_disabled': 0},\n",
       "   {'bike_id': 'bike_12881',\n",
       "    'name': 'T782',\n",
       "    'lon': -112.201445,\n",
       "    'lat': 33.52102,\n",
       "    'is_reserved': 0,\n",
       "    'is_disabled': 0}]}}"
      ]
     },
     "execution_count": 2,
     "metadata": {},
     "output_type": "execute_result"
    }
   ],
   "source": [
    "# json is a filetype,which is used to store python dictionary in a file\n",
    "# hence,json data is nothing but a dictionary\n",
    "d # display the json file data"
   ]
  },
  {
   "cell_type": "code",
   "execution_count": 3,
   "metadata": {},
   "outputs": [],
   "source": [
    "# So you can access json data using the concepts of dictionary\n",
    "# In a simple term,Iterate means looping or going through each element of something"
   ]
  },
  {
   "cell_type": "markdown",
   "metadata": {},
   "source": [
    "# Example"
   ]
  },
  {
   "cell_type": "code",
   "execution_count": 4,
   "metadata": {},
   "outputs": [
    {
     "name": "stdout",
     "output_type": "stream",
     "text": [
      "0\n",
      "1\n",
      "2\n",
      "3\n",
      "4\n"
     ]
    }
   ],
   "source": [
    "for i in range(5): # here,it is iterating through 0 to 4\n",
    "    print(i)"
   ]
  },
  {
   "cell_type": "code",
   "execution_count": 5,
   "metadata": {},
   "outputs": [
    {
     "name": "stdout",
     "output_type": "stream",
     "text": [
      "2\n",
      "3\n",
      "4\n",
      "5\n",
      "6\n"
     ]
    }
   ],
   "source": [
    "lst = [2,3,4,5,6] # here,it is iterating over list,i.e accessing each element\n",
    "for i in lst:\n",
    "    print(i)"
   ]
  },
  {
   "cell_type": "code",
   "execution_count": 6,
   "metadata": {},
   "outputs": [],
   "source": [
    "# dictionary\n",
    "mydict = {'key1':'value1','key2':'value2','key3':'value3'}\n",
    "# we can also save this dictionary as .json"
   ]
  },
  {
   "cell_type": "code",
   "execution_count": 7,
   "metadata": {},
   "outputs": [
    {
     "data": {
      "text/plain": [
       "{'key1': 'value1', 'key2': 'value2', 'key3': 'value3'}"
      ]
     },
     "execution_count": 7,
     "metadata": {},
     "output_type": "execute_result"
    }
   ],
   "source": [
    "mydict"
   ]
  },
  {
   "cell_type": "code",
   "execution_count": 8,
   "metadata": {},
   "outputs": [
    {
     "name": "stdout",
     "output_type": "stream",
     "text": [
      "key1\n",
      "key2\n",
      "key3\n"
     ]
    }
   ],
   "source": [
    "for i in mydict: # iterating over dictionary,by default it will access key only\n",
    "    print(i)"
   ]
  },
  {
   "cell_type": "code",
   "execution_count": 9,
   "metadata": {},
   "outputs": [
    {
     "name": "stdout",
     "output_type": "stream",
     "text": [
      "key1 value1\n",
      "key2 value2\n",
      "key3 value3\n"
     ]
    }
   ],
   "source": [
    "for i in mydict: # iterating over dictionary,to get key and value pairs\n",
    "    print(i,mydict[i])"
   ]
  },
  {
   "cell_type": "code",
   "execution_count": 10,
   "metadata": {},
   "outputs": [
    {
     "data": {
      "text/plain": [
       "{'_id': {'$oid': '60a7ca3f8d48051be7447064'},\n",
       " 'last_updated': 1588192647,\n",
       " 'ttl': 180,\n",
       " 'data': {'bikes': [{'bike_id': 'bike_12749',\n",
       "    'name': 'T723',\n",
       "    'lon': -111.94272,\n",
       "    'lat': 33.4315,\n",
       "    'is_reserved': 0,\n",
       "    'is_disabled': 0},\n",
       "   {'bike_id': 'bike_12881',\n",
       "    'name': 'T782',\n",
       "    'lon': -112.201445,\n",
       "    'lat': 33.52102,\n",
       "    'is_reserved': 0,\n",
       "    'is_disabled': 0}]}}"
      ]
     },
     "execution_count": 10,
     "metadata": {},
     "output_type": "execute_result"
    }
   ],
   "source": [
    "# now coming back to question\n",
    "# our initial json file contains:-\n",
    "d"
   ]
  },
  {
   "cell_type": "code",
   "execution_count": 11,
   "metadata": {},
   "outputs": [
    {
     "name": "stdout",
     "output_type": "stream",
     "text": [
      "_id\n",
      "last_updated\n",
      "ttl\n",
      "data\n"
     ]
    }
   ],
   "source": [
    "# now iterate through its field. i.e iterate through its key\n",
    "for i in d:\n",
    "    print(i)"
   ]
  },
  {
   "cell_type": "code",
   "execution_count": 12,
   "metadata": {},
   "outputs": [
    {
     "data": {
      "text/plain": [
       "{'bikes': [{'bike_id': 'bike_12749',\n",
       "   'name': 'T723',\n",
       "   'lon': -111.94272,\n",
       "   'lat': 33.4315,\n",
       "   'is_reserved': 0,\n",
       "   'is_disabled': 0},\n",
       "  {'bike_id': 'bike_12881',\n",
       "   'name': 'T782',\n",
       "   'lon': -112.201445,\n",
       "   'lat': 33.52102,\n",
       "   'is_reserved': 0,\n",
       "   'is_disabled': 0}]}"
      ]
     },
     "execution_count": 12,
     "metadata": {},
     "output_type": "execute_result"
    }
   ],
   "source": [
    "# access value using key\n",
    "d['data']"
   ]
  },
  {
   "cell_type": "code",
   "execution_count": 13,
   "metadata": {},
   "outputs": [
    {
     "data": {
      "text/plain": [
       "[{'bike_id': 'bike_12749',\n",
       "  'name': 'T723',\n",
       "  'lon': -111.94272,\n",
       "  'lat': 33.4315,\n",
       "  'is_reserved': 0,\n",
       "  'is_disabled': 0},\n",
       " {'bike_id': 'bike_12881',\n",
       "  'name': 'T782',\n",
       "  'lon': -112.201445,\n",
       "  'lat': 33.52102,\n",
       "  'is_reserved': 0,\n",
       "  'is_disabled': 0}]"
      ]
     },
     "execution_count": 13,
     "metadata": {},
     "output_type": "execute_result"
    }
   ],
   "source": [
    "d['data']['bikes'] # it is a list"
   ]
  },
  {
   "cell_type": "code",
   "execution_count": 14,
   "metadata": {},
   "outputs": [
    {
     "name": "stdout",
     "output_type": "stream",
     "text": [
      "bike_12749\n",
      "bike_12881\n"
     ]
    }
   ],
   "source": [
    "# to access bike_id\n",
    "# this is how we can iterate through a dictionary or json data\n",
    "for small_dict in d['data']['bikes']:\n",
    "        print(small_dict['bike_id']) # small_dict[key]"
   ]
  },
  {
   "cell_type": "code",
   "execution_count": null,
   "metadata": {},
   "outputs": [],
   "source": []
  }
 ],
 "metadata": {
  "kernelspec": {
   "display_name": "Python 3",
   "language": "python",
   "name": "python3"
  },
  "language_info": {
   "codemirror_mode": {
    "name": "ipython",
    "version": 3
   },
   "file_extension": ".py",
   "mimetype": "text/x-python",
   "name": "python",
   "nbconvert_exporter": "python",
   "pygments_lexer": "ipython3",
   "version": "3.8.5"
  }
 },
 "nbformat": 4,
 "nbformat_minor": 4
}
