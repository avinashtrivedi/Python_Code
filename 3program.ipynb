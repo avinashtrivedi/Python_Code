{
 "cells": [
  {
   "cell_type": "markdown",
   "metadata": {},
   "source": [
    "# Program #1"
   ]
  },
  {
   "cell_type": "code",
   "execution_count": 1,
   "metadata": {},
   "outputs": [
    {
     "name": "stdout",
     "output_type": "stream",
     "text": [
      "Please enter a number: 15\n",
      "15 is odd\n",
      "15 is a positive and divisible by 5\n"
     ]
    }
   ],
   "source": [
    "# input\n",
    "x = int(input('Please enter a number: '))\n",
    "\n",
    "# if-else to check x is odd or even\n",
    "\n",
    "if x%2==0:\n",
    "    print(x,\"is even\")\n",
    "else:\n",
    "    print(x,\"is odd\")\n",
    "    \n",
    "#if-elif to check x positive and divisible by 5\n",
    "if x>0 and x%5==0:\n",
    "    print(x,\"is a positive and divisible by 5\")\n",
    "else:\n",
    "    print(x,\"is either negative or not divisible by 5\")"
   ]
  },
  {
   "cell_type": "markdown",
   "metadata": {},
   "source": [
    "# Program #2"
   ]
  },
  {
   "cell_type": "code",
   "execution_count": 2,
   "metadata": {},
   "outputs": [
    {
     "name": "stdout",
     "output_type": "stream",
     "text": [
      "Enter a number greater than zero: 5\n",
      "Sum of first 5 natural number is 15\n",
      "Sum of the array element is 25\n"
     ]
    }
   ],
   "source": [
    "# function takes x as input and return sum of first x natural number\n",
    "def myfunc(k):\n",
    "    total=0\n",
    "    for i in range(1,k+1):\n",
    "        total = total + i\n",
    "    return total\n",
    "k = int(input('Enter a number greater than zero: '))\n",
    "print(\"Sum of first\",k,'natural number is',myfunc(k))\n",
    "\n",
    "# function takes list as an input and return its sum\n",
    "def ArraySquare(lst):\n",
    "    i=0\n",
    "    total=0\n",
    "    while i<len(lst):\n",
    "        total = total + lst[i]\n",
    "        i=i+1\n",
    "    return total\n",
    "arr=[3,4,5,6,7] # define dummy list/array\n",
    "print(\"Sum of the array element is\",ArraySquare(arr))"
   ]
  },
  {
   "cell_type": "markdown",
   "metadata": {},
   "source": [
    "# Python #3"
   ]
  },
  {
   "cell_type": "code",
   "execution_count": 3,
   "metadata": {},
   "outputs": [
    {
     "name": "stdout",
     "output_type": "stream",
     "text": [
      "Enter a filename: data.txt\n",
      "Sum of elements in line 1 is: 165\n",
      "Sum of elements in line 2 is: 70\n",
      "Sum of elements in line 3 is: 15\n"
     ]
    }
   ],
   "source": [
    "fname = input(\"Enter a filename: \")\n",
    "\n",
    "try:\n",
    "    # this will open a file and read line by line\n",
    "    # and store line content into list\n",
    "    with open(fname, 'r') as file:\n",
    "        data_list = file.readlines()\n",
    "        \n",
    "    ######### Store each element like this ##########\n",
    "    #  [['11', '22', '33', '44', '55'],\n",
    "    #  ['12', '13', '14', '15', '16'],\n",
    "    #  ['1', '2', '3', '4', '5']]\n",
    "    \n",
    "    data_list = [i.split() for i in data_list]\n",
    "    indx=1\n",
    "    for i in data_list:\n",
    "        # convert each element into integer\n",
    "        temp =[int(j) for j in i]\n",
    "        print(\"Sum of elements in line\",indx,'is:',sum(temp))\n",
    "        indx = indx+1\n",
    "except FileNotFoundError:\n",
    "    print('File does not exist')\n"
   ]
  },
  {
   "cell_type": "code",
   "execution_count": null,
   "metadata": {},
   "outputs": [],
   "source": []
  }
 ],
 "metadata": {
  "kernelspec": {
   "display_name": "Python 3",
   "language": "python",
   "name": "python3"
  },
  "language_info": {
   "codemirror_mode": {
    "name": "ipython",
    "version": 3
   },
   "file_extension": ".py",
   "mimetype": "text/x-python",
   "name": "python",
   "nbconvert_exporter": "python",
   "pygments_lexer": "ipython3",
   "version": "3.8.5"
  }
 },
 "nbformat": 4,
 "nbformat_minor": 4
}
