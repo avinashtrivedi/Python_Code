{
 "cells": [
  {
   "cell_type": "code",
   "execution_count": 24,
   "metadata": {},
   "outputs": [],
   "source": [
    "def palin(s):\n",
    "    \n",
    "    # check if palindrome or not\n",
    "    return s.lower() == s[::-1].lower()"
   ]
  },
  {
   "cell_type": "code",
   "execution_count": 25,
   "metadata": {},
   "outputs": [
    {
     "data": {
      "text/plain": [
       "False"
      ]
     },
     "execution_count": 25,
     "metadata": {},
     "output_type": "execute_result"
    }
   ],
   "source": [
    "palin('CourseHero')"
   ]
  },
  {
   "cell_type": "code",
   "execution_count": 26,
   "metadata": {},
   "outputs": [
    {
     "data": {
      "text/plain": [
       "True"
      ]
     },
     "execution_count": 26,
     "metadata": {},
     "output_type": "execute_result"
    }
   ],
   "source": [
    "palin('radar')"
   ]
  },
  {
   "cell_type": "code",
   "execution_count": 27,
   "metadata": {},
   "outputs": [
    {
     "data": {
      "text/plain": [
       "True"
      ]
     },
     "execution_count": 27,
     "metadata": {},
     "output_type": "execute_result"
    }
   ],
   "source": [
    "palin('refer')"
   ]
  },
  {
   "cell_type": "code",
   "execution_count": null,
   "metadata": {},
   "outputs": [],
   "source": [
    "For implementing chocolate cake baking system,The abstract data type used here will be Queue,\n",
    "Because Queue works on principle of FIFO (First in First out) i.e. the Cake that came first will be sold first, \n",
    "the cake that came out second will be sold at second place,\n",
    "the cake that came out at 3rd place will be sold at 3rd Place and so on."
   ]
  },
  {
   "cell_type": "code",
   "execution_count": 28,
   "metadata": {},
   "outputs": [],
   "source": [
    "def Baking_system(bakelist):\n",
    "    print('The Sequence cake is coming out:')\n",
    "    print(bakelist)\n",
    "    print('\\nThe Sequence cake is getting sold:')\n",
    "    \n",
    "    # since bakelist is list,\n",
    "    # to implement baking system as queue, just pop the item at 0th location \n",
    "    for i in range(len(bakelist)):\n",
    "        print(bakelist.pop(0),end=' ')"
   ]
  },
  {
   "cell_type": "code",
   "execution_count": 29,
   "metadata": {},
   "outputs": [
    {
     "name": "stdout",
     "output_type": "stream",
     "text": [
      "The Sequence cake is coming out:\n",
      "['cake-1', 'cake-2', 'cake-3', 'cake-4', 'cake-5']\n",
      "\n",
      "The Sequence cake is getting sold:\n",
      "cake-1 cake-2 cake-3 cake-4 cake-5 "
     ]
    }
   ],
   "source": [
    "Baking_system(['cake-1','cake-2','cake-3','cake-4','cake-5'])"
   ]
  },
  {
   "cell_type": "code",
   "execution_count": null,
   "metadata": {},
   "outputs": [],
   "source": []
  }
 ],
 "metadata": {
  "kernelspec": {
   "display_name": "Python 3",
   "language": "python",
   "name": "python3"
  },
  "language_info": {
   "codemirror_mode": {
    "name": "ipython",
    "version": 3
   },
   "file_extension": ".py",
   "mimetype": "text/x-python",
   "name": "python",
   "nbconvert_exporter": "python",
   "pygments_lexer": "ipython3",
   "version": "3.8.5"
  }
 },
 "nbformat": 4,
 "nbformat_minor": 4
}
