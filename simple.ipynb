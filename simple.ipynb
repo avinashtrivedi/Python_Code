{
 "cells": [
  {
   "cell_type": "markdown",
   "metadata": {},
   "source": [
    "# Q.1  \n",
    "- What will be output to the terminal when the program is run? Hint: make sure you have traced all print statements along the program flow. The first two print-out lines are given as below."
   ]
  },
  {
   "cell_type": "code",
   "execution_count": 1,
   "metadata": {},
   "outputs": [],
   "source": [
    "# The code given in question was in python 2 syntax.\n",
    "# It is now modified to python 3 syntax.\n",
    "# the only difference in python 2 and 3 version of below code is in print statement.\n",
    "# in python 2 ,its print \"hello\"\n",
    "# but,in python 3 ,its print(\"hello\")\n",
    "def add(a,b):\n",
    "    print(\"ADDING %d + %d\"%(a,b))\n",
    "    return a+b\n",
    "def subtract(a,b):\n",
    "    print(\"SUBTRACTING %d - %d\"%(a,b))\n",
    "    return a-b\n",
    "\n",
    "print(\"STARTING...\")\n",
    "total = add(32,6)\n",
    "difference = subtract(78,5)\n",
    "print(\" total: %d difference: %d\" % (total,difference))\n",
    "\n",
    "fruit = ['bananas','orange','figs','lemons']\n",
    "for f in fruit:\n",
    "    print(\"I like %s\" %f)\n",
    "print(\"My favourite fruit is %s\" % fruit[1])"
   ]
  },
  {
   "cell_type": "markdown",
   "metadata": {},
   "source": [
    "# Q.2\n",
    "-  What are the data types respectively of the following variables? How did you reveal their data types in a Python program? "
   ]
  },
  {
   "cell_type": "markdown",
   "metadata": {},
   "source": [
    "1. total : What is this data type?"
   ]
  },
  {
   "cell_type": "code",
   "execution_count": 2,
   "metadata": {},
   "outputs": [],
   "source": [
    "print(type(total)) # the data type is integer"
   ]
  },
  {
   "cell_type": "markdown",
   "metadata": {},
   "source": [
    "2. How did you reveal their data type in a Python program? "
   ]
  },
  {
   "cell_type": "code",
   "execution_count": 3,
   "metadata": {},
   "outputs": [
    {
     "data": {
      "text/plain": [
       "int"
      ]
     },
     "execution_count": 3,
     "metadata": {},
     "output_type": "execute_result"
    }
   ],
   "source": [
    "# data type of any object can be obtained by Type function\n",
    "# eg. type(total)\n",
    "type(total)"
   ]
  },
  {
   "cell_type": "markdown",
   "metadata": {},
   "source": [
    "3. difference : What is this data type?"
   ]
  },
  {
   "cell_type": "code",
   "execution_count": 4,
   "metadata": {},
   "outputs": [
    {
     "name": "stdout",
     "output_type": "stream",
     "text": [
      "<class 'int'>\n"
     ]
    }
   ],
   "source": [
    "print(type(difference)) # its data type is also integer"
   ]
  },
  {
   "cell_type": "markdown",
   "metadata": {},
   "source": [
    "4. How did you reveal their data type in a Python program? "
   ]
  },
  {
   "cell_type": "code",
   "execution_count": 5,
   "metadata": {},
   "outputs": [
    {
     "data": {
      "text/plain": [
       "int"
      ]
     },
     "execution_count": 5,
     "metadata": {},
     "output_type": "execute_result"
    }
   ],
   "source": [
    "# data type of any object can be obtained by Type function\n",
    "# eg. type(difference)\n",
    "type(difference)"
   ]
  },
  {
   "cell_type": "markdown",
   "metadata": {},
   "source": [
    "5. fruit : What is this data type?"
   ]
  },
  {
   "cell_type": "code",
   "execution_count": 6,
   "metadata": {},
   "outputs": [
    {
     "name": "stdout",
     "output_type": "stream",
     "text": [
      "<class 'list'>\n"
     ]
    }
   ],
   "source": [
    "print(type(fruit)) # this is of list type"
   ]
  },
  {
   "cell_type": "markdown",
   "metadata": {},
   "source": [
    "6. How did you reveal their data type in a Python program? "
   ]
  },
  {
   "cell_type": "code",
   "execution_count": 7,
   "metadata": {},
   "outputs": [
    {
     "data": {
      "text/plain": [
       "list"
      ]
     },
     "execution_count": 7,
     "metadata": {},
     "output_type": "execute_result"
    }
   ],
   "source": [
    "# data type of any object can be obtained by Type function\n",
    "# eg. type(fruit)\n",
    "type(fruit)"
   ]
  },
  {
   "cell_type": "code",
   "execution_count": null,
   "metadata": {},
   "outputs": [],
   "source": []
  }
 ],
 "metadata": {
  "kernelspec": {
   "display_name": "Python 3",
   "language": "python",
   "name": "python3"
  },
  "language_info": {
   "codemirror_mode": {
    "name": "ipython",
    "version": 3
   },
   "file_extension": ".py",
   "mimetype": "text/x-python",
   "name": "python",
   "nbconvert_exporter": "python",
   "pygments_lexer": "ipython3",
   "version": "3.8.5"
  }
 },
 "nbformat": 4,
 "nbformat_minor": 4
}
