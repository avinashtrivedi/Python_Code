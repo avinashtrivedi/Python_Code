{
 "cells": [
  {
   "cell_type": "code",
   "execution_count": 1,
   "metadata": {},
   "outputs": [],
   "source": [
    "# create object of a file\n",
    "fname = open('Lab9_data1.csv','r')\n",
    "\n",
    "# read the file\n",
    "data = fname.readlines()"
   ]
  },
  {
   "cell_type": "code",
   "execution_count": 2,
   "metadata": {},
   "outputs": [],
   "source": [
    "# new list to store data of all rows.\n",
    "data_new = []\n",
    "\n",
    "# loop through the data and convert string value to integer\n",
    "for i in data:\n",
    "    row = i.split(',')\n",
    "    row_new = [] # store row value\n",
    "    for val in row:\n",
    "        row_new.append(int(val)) # store value in integer form\n",
    "    data_new.append(row_new)"
   ]
  },
  {
   "cell_type": "code",
   "execution_count": 3,
   "metadata": {},
   "outputs": [
    {
     "name": "stdout",
     "output_type": "stream",
     "text": [
      "Student Name: ABC \n",
      "\n",
      "Average of Record# 1 =  81.667\n",
      "Average of Record# 2 =  68.333\n",
      "Average of Record# 3 =  58.333\n",
      "Average of Record# 4 =  86.667\n",
      "\n",
      "The maximum average  =  86.667\n"
     ]
    }
   ],
   "source": [
    "save_avg = [] # store average of all rows.\n",
    "\n",
    "myname = 'ABC'\n",
    "print('Student Name:',myname,'\\n')\n",
    "for i in range(len(data_new)):\n",
    "    \n",
    "    # compute average\n",
    "    avg = sum(data_new[i])/len(data_new[i])\n",
    "    \n",
    "    # store row average\n",
    "    save_avg.append(avg)\n",
    "    \n",
    "    # print\n",
    "    print('Average of Record# {} =  {:0.3f}'.format(i+1, avg))\n",
    "    \n",
    "print('\\nThe maximum average  =  {:0.3f}'.format(max(save_avg)))"
   ]
  },
  {
   "cell_type": "code",
   "execution_count": null,
   "metadata": {},
   "outputs": [],
   "source": []
  }
 ],
 "metadata": {
  "kernelspec": {
   "display_name": "Python 3",
   "language": "python",
   "name": "python3"
  },
  "language_info": {
   "codemirror_mode": {
    "name": "ipython",
    "version": 3
   },
   "file_extension": ".py",
   "mimetype": "text/x-python",
   "name": "python",
   "nbconvert_exporter": "python",
   "pygments_lexer": "ipython3",
   "version": "3.8.5"
  }
 },
 "nbformat": 4,
 "nbformat_minor": 4
}
