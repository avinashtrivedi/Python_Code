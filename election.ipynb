{
 "cells": [
  {
   "cell_type": "code",
   "execution_count": 1,
   "metadata": {},
   "outputs": [],
   "source": [
    "# import the library\n",
    "import pandas as pd\n",
    "import numpy as np\n",
    "\n",
    "# read the dataset\n",
    "df = pd.read_csv('election_merged.csv')"
   ]
  },
  {
   "cell_type": "code",
   "execution_count": 2,
   "metadata": {},
   "outputs": [],
   "source": [
    "# remove'Unnamed: 0' column if any\n",
    "if 'Unnamed: 0' in list(df):\n",
    "    df.drop('Unnamed: 0',axis=1,inplace=True)"
   ]
  },
  {
   "cell_type": "code",
   "execution_count": 3,
   "metadata": {},
   "outputs": [
    {
     "data": {
      "text/html": [
       "<div>\n",
       "<style scoped>\n",
       "    .dataframe tbody tr th:only-of-type {\n",
       "        vertical-align: middle;\n",
       "    }\n",
       "\n",
       "    .dataframe tbody tr th {\n",
       "        vertical-align: top;\n",
       "    }\n",
       "\n",
       "    .dataframe thead th {\n",
       "        text-align: right;\n",
       "    }\n",
       "</style>\n",
       "<table border=\"1\" class=\"dataframe\">\n",
       "  <thead>\n",
       "    <tr style=\"text-align: right;\">\n",
       "      <th></th>\n",
       "      <th>FIPS</th>\n",
       "      <th>County_2012</th>\n",
       "      <th>Total Votes_2012</th>\n",
       "      <th>Democrat_2012</th>\n",
       "      <th>Republican_2012</th>\n",
       "      <th>Total Votes_2016</th>\n",
       "      <th>Democrat_2016</th>\n",
       "      <th>Republican_2016</th>\n",
       "      <th>2012</th>\n",
       "      <th>2016</th>\n",
       "      <th>Swap</th>\n",
       "    </tr>\n",
       "  </thead>\n",
       "  <tbody>\n",
       "    <tr>\n",
       "      <th>0</th>\n",
       "      <td>8001</td>\n",
       "      <td>Adams County, CO</td>\n",
       "      <td>161495</td>\n",
       "      <td>90843</td>\n",
       "      <td>66531</td>\n",
       "      <td>193677</td>\n",
       "      <td>96558</td>\n",
       "      <td>80082</td>\n",
       "      <td>24312</td>\n",
       "      <td>16476</td>\n",
       "      <td>0</td>\n",
       "    </tr>\n",
       "    <tr>\n",
       "      <th>1</th>\n",
       "      <td>8003</td>\n",
       "      <td>Alamosa County, CO</td>\n",
       "      <td>6671</td>\n",
       "      <td>3782</td>\n",
       "      <td>2693</td>\n",
       "      <td>6939</td>\n",
       "      <td>3189</td>\n",
       "      <td>3046</td>\n",
       "      <td>1089</td>\n",
       "      <td>143</td>\n",
       "      <td>0</td>\n",
       "    </tr>\n",
       "    <tr>\n",
       "      <th>2</th>\n",
       "      <td>8005</td>\n",
       "      <td>Arapahoe County, CO</td>\n",
       "      <td>254746</td>\n",
       "      <td>135433</td>\n",
       "      <td>114232</td>\n",
       "      <td>303048</td>\n",
       "      <td>159885</td>\n",
       "      <td>117053</td>\n",
       "      <td>21201</td>\n",
       "      <td>42832</td>\n",
       "      <td>0</td>\n",
       "    </tr>\n",
       "    <tr>\n",
       "      <th>3</th>\n",
       "      <td>8007</td>\n",
       "      <td>Archuleta County, CO</td>\n",
       "      <td>6646</td>\n",
       "      <td>2637</td>\n",
       "      <td>3831</td>\n",
       "      <td>7339</td>\n",
       "      <td>2500</td>\n",
       "      <td>4264</td>\n",
       "      <td>-1194</td>\n",
       "      <td>-1764</td>\n",
       "      <td>0</td>\n",
       "    </tr>\n",
       "    <tr>\n",
       "      <th>4</th>\n",
       "      <td>8009</td>\n",
       "      <td>Baca County, CO</td>\n",
       "      <td>2096</td>\n",
       "      <td>462</td>\n",
       "      <td>1554</td>\n",
       "      <td>2153</td>\n",
       "      <td>283</td>\n",
       "      <td>1753</td>\n",
       "      <td>-1092</td>\n",
       "      <td>-1470</td>\n",
       "      <td>0</td>\n",
       "    </tr>\n",
       "  </tbody>\n",
       "</table>\n",
       "</div>"
      ],
      "text/plain": [
       "   FIPS           County_2012  Total Votes_2012  Democrat_2012  \\\n",
       "0  8001      Adams County, CO            161495          90843   \n",
       "1  8003    Alamosa County, CO              6671           3782   \n",
       "2  8005   Arapahoe County, CO            254746         135433   \n",
       "3  8007  Archuleta County, CO              6646           2637   \n",
       "4  8009       Baca County, CO              2096            462   \n",
       "\n",
       "   Republican_2012  Total Votes_2016  Democrat_2016  Republican_2016   2012  \\\n",
       "0            66531            193677          96558            80082  24312   \n",
       "1             2693              6939           3189             3046   1089   \n",
       "2           114232            303048         159885           117053  21201   \n",
       "3             3831              7339           2500             4264  -1194   \n",
       "4             1554              2153            283             1753  -1092   \n",
       "\n",
       "    2016  Swap  \n",
       "0  16476     0  \n",
       "1    143     0  \n",
       "2  42832     0  \n",
       "3  -1764     0  \n",
       "4  -1470     0  "
      ]
     },
     "execution_count": 3,
     "metadata": {},
     "output_type": "execute_result"
    }
   ],
   "source": [
    "df.head() # display few rows"
   ]
  },
  {
   "cell_type": "code",
   "execution_count": 4,
   "metadata": {},
   "outputs": [],
   "source": [
    "# compute x\n",
    "x = np.log10(df['Total Votes_2016'])"
   ]
  },
  {
   "cell_type": "markdown",
   "metadata": {},
   "source": [
    "# Apply this to get the shift in vote differences for election data.\n",
    "Margin = (dem-rep)/total\n",
    "\n",
    "Change = margin(2016) - margin(2012)"
   ]
  },
  {
   "cell_type": "code",
   "execution_count": 5,
   "metadata": {},
   "outputs": [],
   "source": [
    "Margin_2012 = (df['Democrat_2012'] - df['Republican_2012'])/df['Total Votes_2012']\n",
    "Margin_2016 = (df['Democrat_2016'] - df['Republican_2016'])/df['Total Votes_2016']"
   ]
  },
  {
   "cell_type": "code",
   "execution_count": 6,
   "metadata": {},
   "outputs": [],
   "source": [
    "change = Margin_2016 - Margin_2012"
   ]
  },
  {
   "cell_type": "code",
   "execution_count": 7,
   "metadata": {},
   "outputs": [
    {
     "data": {
      "text/plain": [
       "array([[1.        , 0.36090475],\n",
       "       [0.36090475, 1.        ]])"
      ]
     },
     "execution_count": 7,
     "metadata": {},
     "output_type": "execute_result"
    }
   ],
   "source": [
    "# correlation coefficients\n",
    "np.corrcoef(x,change)"
   ]
  },
  {
   "cell_type": "code",
   "execution_count": 8,
   "metadata": {},
   "outputs": [
    {
     "data": {
      "text/plain": [
       "0.36090474723039917"
      ]
     },
     "execution_count": 8,
     "metadata": {},
     "output_type": "execute_result"
    }
   ],
   "source": [
    "cor_change = np.corrcoef(x,change)[0][1]\n",
    "cor_change"
   ]
  },
  {
   "cell_type": "code",
   "execution_count": 9,
   "metadata": {},
   "outputs": [],
   "source": [
    "import math\n",
    "\n",
    "# test\n",
    "assert math.isclose(cor_change, 0.36, rel_tol=0.01)"
   ]
  },
  {
   "cell_type": "code",
   "execution_count": null,
   "metadata": {},
   "outputs": [],
   "source": []
  }
 ],
 "metadata": {
  "kernelspec": {
   "display_name": "Python 3",
   "language": "python",
   "name": "python3"
  },
  "language_info": {
   "codemirror_mode": {
    "name": "ipython",
    "version": 3
   },
   "file_extension": ".py",
   "mimetype": "text/x-python",
   "name": "python",
   "nbconvert_exporter": "python",
   "pygments_lexer": "ipython3",
   "version": "3.8.5"
  }
 },
 "nbformat": 4,
 "nbformat_minor": 4
}
