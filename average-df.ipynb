{
 "cells": [
  {
   "cell_type": "markdown",
   "metadata": {},
   "source": [
    "# Q.1"
   ]
  },
  {
   "cell_type": "code",
   "execution_count": 1,
   "metadata": {},
   "outputs": [],
   "source": [
    "# read the data\n",
    "with open('diamonds.csv','r') as file:\n",
    "    all_lines = file.readlines()\n",
    "\n",
    "data = []\n",
    "\n",
    "# ignore the header\n",
    "all_lines = all_lines[1:]\n",
    "\n",
    "for line in all_lines:\n",
    "    \n",
    "    # get the cut\n",
    "    cut = line.split(',')[2][1:-1]\n",
    "    \n",
    "    # since last digit of your BU-ID is 7\n",
    "    if cut=='Premium':\n",
    "        \n",
    "        # get the weight and price\n",
    "        weight = float(line.split(',')[1])\n",
    "        price = float(line.split(',')[7])\n",
    "        \n",
    "        # store weight and price\n",
    "        data.append((weight,price))"
   ]
  },
  {
   "cell_type": "markdown",
   "metadata": {},
   "source": [
    "# Q.2"
   ]
  },
  {
   "cell_type": "code",
   "execution_count": 2,
   "metadata": {},
   "outputs": [
    {
     "data": {
      "text/plain": [
       "13791"
      ]
     },
     "execution_count": 2,
     "metadata": {},
     "output_type": "execute_result"
    }
   ],
   "source": [
    "# number of entries\n",
    "len(data)"
   ]
  },
  {
   "cell_type": "markdown",
   "metadata": {},
   "source": [
    "# Q.3"
   ]
  },
  {
   "cell_type": "code",
   "execution_count": 3,
   "metadata": {},
   "outputs": [
    {
     "name": "stdout",
     "output_type": "stream",
     "text": [
      "Average weight: 0.8920\n"
     ]
    }
   ],
   "source": [
    "# get all the weights\n",
    "weights = [weight for weight,price in data]\n",
    "\n",
    "# compute average\n",
    "average_weight = sum(weights)/len(data)\n",
    "\n",
    "print('Average weight: {:.4f}'.format(average_weight))"
   ]
  },
  {
   "cell_type": "markdown",
   "metadata": {},
   "source": [
    "# Q.4"
   ]
  },
  {
   "cell_type": "code",
   "execution_count": 4,
   "metadata": {},
   "outputs": [
    {
     "name": "stdout",
     "output_type": "stream",
     "text": [
      "Average price: 4584.2577\n"
     ]
    }
   ],
   "source": [
    "# get all the prices\n",
    "prices = [price for weight,price in data]\n",
    "\n",
    "# compute average\n",
    "average_price = sum(prices)/len(data)\n",
    "print('Average price: {:.4f}'.format(average_price))"
   ]
  }
 ],
 "metadata": {
  "kernelspec": {
   "display_name": "Python 3",
   "language": "python",
   "name": "python3"
  },
  "language_info": {
   "codemirror_mode": {
    "name": "ipython",
    "version": 3
   },
   "file_extension": ".py",
   "mimetype": "text/x-python",
   "name": "python",
   "nbconvert_exporter": "python",
   "pygments_lexer": "ipython3",
   "version": "3.8.5"
  }
 },
 "nbformat": 4,
 "nbformat_minor": 4
}
