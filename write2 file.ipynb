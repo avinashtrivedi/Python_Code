{
 "cells": [
  {
   "cell_type": "code",
   "execution_count": 13,
   "metadata": {},
   "outputs": [
    {
     "name": "stdout",
     "output_type": "stream",
     "text": [
      "Current working directory:  C:\\Users\\avitr\\OneDrive\\Documents\\Python Scripts\\Chegg\\work\n",
      "\n",
      "New Folder called 'work' is created\n",
      "\n",
      "Now current working directory is:  C:\\Users\\avitr\\OneDrive\\Documents\\Python Scripts\\Chegg\\work\\work\n",
      "Please enter your name: aa\n",
      "Do you Want to continue y/n: ss\n",
      "wrong input.\n",
      "Do you Want to continue y/n: y\n",
      "Please enter your name: hh\n",
      "Do you Want to continue y/n: n\n",
      "Data has been written to the file successfully.\n"
     ]
    }
   ],
   "source": [
    "import os\n",
    "print('Current working directory: ',os.getcwd())\n",
    "print()\n",
    "if not os.path.exists(\"work\"):\n",
    "    os.mkdir(\"work\")\n",
    "print(\"New Folder called 'work' is created\")\n",
    "os.chdir(\"work\")\n",
    "print()\n",
    "print('Now current working directory is: ',os.getcwd())\n",
    "account=open(\"accounts.txt\",\"w+\")\n",
    "accountList=[]\n",
    "flag='y'\n",
    "# loop to continuously receive inputs\n",
    "while True: \n",
    "    if flag=='n':\n",
    "        break\n",
    "    elif flag=='y':\n",
    "        name = input(\"Please enter your name: \")\n",
    "        accountList.append(name)\n",
    "    else:\n",
    "        print('wrong input.')\n",
    "    flag = input('Do you Want to continue y/n: ')\n",
    "for name in accountList:\n",
    "    account.write(name + \"\\n\")\n",
    "account.close()\n",
    "print('Data has been written to the file successfully.')"
   ]
  },
  {
   "cell_type": "code",
   "execution_count": null,
   "metadata": {},
   "outputs": [],
   "source": []
  }
 ],
 "metadata": {
  "kernelspec": {
   "display_name": "Python 3",
   "language": "python",
   "name": "python3"
  },
  "language_info": {
   "codemirror_mode": {
    "name": "ipython",
    "version": 3
   },
   "file_extension": ".py",
   "mimetype": "text/x-python",
   "name": "python",
   "nbconvert_exporter": "python",
   "pygments_lexer": "ipython3",
   "version": "3.8.5"
  }
 },
 "nbformat": 4,
 "nbformat_minor": 4
}
