{
 "cells": [
  {
   "cell_type": "code",
   "execution_count": 21,
   "metadata": {},
   "outputs": [],
   "source": [
    "import re\n",
    "def main():\n",
    "\n",
    "    courses = ['CS152Introduction to Python Programming21',\n",
    "\n",
    "        'CS369Operating Systems Administration8',\n",
    "\n",
    "        'CS352Data Structures19',\n",
    "\n",
    "        'CS208Discrete Mathematics124',\n",
    "\n",
    "        'CS319Computer Architecture14',\n",
    "\n",
    "        'MA221Calculus and Analytical Geometry for Majors I12',\n",
    "\n",
    "        'MA311Linear Algebra7',\n",
    "\n",
    "        'MA150Precalculus Mathematics27',\n",
    "\n",
    "        'CS335Introduction to Cybersecurity20',\n",
    "\n",
    "        'IS361Data Management Systems22',\n",
    "\n",
    "        'MG315Advanced Business Statistics6' ]\n",
    "\n",
    "\n",
    "    # Print the table without formatting\n",
    "    for aCourse in courses:   \n",
    "        print(aCourse)\n",
    "    \n",
    "    # Table 1\n",
    "    for i in courses:\n",
    "        print(\"{} {}\".format(i[:2],i[2:5]))\n",
    "    \n",
    "    # Table 2\n",
    "    for i in courses:\n",
    "        x = re.findall(r'\\d+',i)\n",
    "        enrollment = x[-1]\n",
    "        enroll_index = i.find(enrollment)\n",
    "        print(\"{} {} {} {}\".format(i[:2],i[2:5],i[5:enroll_index],int(enrollment)))\n",
    "    \n",
    "    # table 3\n",
    "    total = 0\n",
    "    for i in courses:\n",
    "        x = re.findall(r'\\d+',i)\n",
    "        enrollment = x[-1]\n",
    "        total = total + int(enrollment)\n",
    "    print('Total enrollment: ',total)"
   ]
  },
  {
   "cell_type": "code",
   "execution_count": 22,
   "metadata": {},
   "outputs": [
    {
     "name": "stdout",
     "output_type": "stream",
     "text": [
      "CS152Introduction to Python Programming21\n",
      "CS369Operating Systems Administration8\n",
      "CS352Data Structures19\n",
      "CS208Discrete Mathematics124\n",
      "CS319Computer Architecture14\n",
      "MA221Calculus and Analytical Geometry for Majors I12\n",
      "MA311Linear Algebra7\n",
      "MA150Precalculus Mathematics27\n",
      "CS335Introduction to Cybersecurity20\n",
      "IS361Data Management Systems22\n",
      "MG315Advanced Business Statistics6\n",
      "CS 152\n",
      "CS 369\n",
      "CS 352\n",
      "CS 208\n",
      "CS 319\n",
      "MA 221\n",
      "MA 311\n",
      "MA 150\n",
      "CS 335\n",
      "IS 361\n",
      "MG 315\n",
      "CS 152 Introduction to Python Programming 21\n",
      "CS 369 Operating Systems Administration 8\n",
      "CS 352 Data Structures 19\n",
      "CS 208 Discrete Mathematics 124\n",
      "CS 319 Computer Architecture 14\n",
      "MA 221 Calculus and Analytical Geometry for Majors I 12\n",
      "MA 311 Linear Algebra 7\n",
      "MA 150 Precalculus Mathematics 27\n",
      "CS 335 Introduction to Cybersecurity 20\n",
      "IS 361 Data Management Systems 22\n",
      "MG 315 Advanced Business Statistics 6\n",
      "Total enrollment:  280\n"
     ]
    }
   ],
   "source": [
    "main()"
   ]
  },
  {
   "cell_type": "code",
   "execution_count": 5,
   "metadata": {},
   "outputs": [],
   "source": [
    "s='CS152Introduction to Python Programming21'"
   ]
  },
  {
   "cell_type": "code",
   "execution_count": 6,
   "metadata": {},
   "outputs": [
    {
     "data": {
      "text/plain": [
       "'CS152Introduction to Python Programming21'"
      ]
     },
     "execution_count": 6,
     "metadata": {},
     "output_type": "execute_result"
    }
   ],
   "source": [
    "s"
   ]
  },
  {
   "cell_type": "code",
   "execution_count": null,
   "metadata": {},
   "outputs": [],
   "source": [
    "s.g"
   ]
  },
  {
   "cell_type": "code",
   "execution_count": 12,
   "metadata": {},
   "outputs": [],
   "source": [
    "\n",
    "x=re.findall(r'\\d+',s)"
   ]
  },
  {
   "cell_type": "code",
   "execution_count": 14,
   "metadata": {},
   "outputs": [
    {
     "data": {
      "text/plain": [
       "'21'"
      ]
     },
     "execution_count": 14,
     "metadata": {},
     "output_type": "execute_result"
    }
   ],
   "source": [
    "x[-1]"
   ]
  },
  {
   "cell_type": "code",
   "execution_count": 10,
   "metadata": {},
   "outputs": [
    {
     "data": {
      "text/plain": [
       "39"
      ]
     },
     "execution_count": 10,
     "metadata": {},
     "output_type": "execute_result"
    }
   ],
   "source": [
    "s.find('21')"
   ]
  },
  {
   "cell_type": "code",
   "execution_count": 11,
   "metadata": {},
   "outputs": [
    {
     "data": {
      "text/plain": [
       "'Introduction to Python Programming'"
      ]
     },
     "execution_count": 11,
     "metadata": {},
     "output_type": "execute_result"
    }
   ],
   "source": [
    "s[5:39]"
   ]
  },
  {
   "cell_type": "code",
   "execution_count": null,
   "metadata": {},
   "outputs": [],
   "source": []
  }
 ],
 "metadata": {
  "kernelspec": {
   "display_name": "Python 3",
   "language": "python",
   "name": "python3"
  },
  "language_info": {
   "codemirror_mode": {
    "name": "ipython",
    "version": 3
   },
   "file_extension": ".py",
   "mimetype": "text/x-python",
   "name": "python",
   "nbconvert_exporter": "python",
   "pygments_lexer": "ipython3",
   "version": "3.8.5"
  }
 },
 "nbformat": 4,
 "nbformat_minor": 4
}
