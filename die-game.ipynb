{
 "cells": [
  {
   "cell_type": "code",
   "execution_count": 1,
   "metadata": {},
   "outputs": [
    {
     "data": {
      "text/plain": [
       "[0, 0, 0, 0, 0, 0, 0, 0, 0, 0, 0, 0, 0]"
      ]
     },
     "execution_count": 1,
     "metadata": {},
     "output_type": "execute_result"
    }
   ],
   "source": [
    "# concept \n",
    "[0]*13"
   ]
  },
  {
   "cell_type": "markdown",
   "metadata": {},
   "source": [
    "- x is roll of 1st Die\n",
    "- y is roll of 2nd Die"
   ]
  },
  {
   "cell_type": "markdown",
   "metadata": {},
   "source": [
    "<hr>\n",
    "<img src=\"roll.png\">"
   ]
  },
  {
   "cell_type": "code",
   "execution_count": 2,
   "metadata": {},
   "outputs": [],
   "source": [
    "import random # import library\n",
    "def rollsToRepeat(n):\n",
    "    mylist=[0]*13 # create a list of size 13,containing all values as 0  e.g. [0, 0, 0, 0, 0, 0, 0, 0, 0, 0, 0, 0, 0]\n",
    "    repeat = 0 # number of repeat ,initially its zero\n",
    "    while True:\n",
    "        x = random.randint(1,6) # roll first Die\n",
    "        y = random.randint(1,6) # roll second Die\n",
    "        repeat = repeat + 1     # Every time dice are rolled, increase the repeat by 1\n",
    "        \n",
    "        # increase the value at index x+y \n",
    "        # if x+y is 8 ,it means increase the count of occurrence of 8 by increasing the value of mylist[8]\n",
    "        # Here,basically mylist is storing, which total occurred for how many times.\n",
    "        # 2 occurred for mylist[2] times , 3 occurred for mylist[3] times , 4 occurred for mylist[4] times and so on.\n",
    "        mylist[x+y] = mylist[x+y] + 1  \n",
    "        if  mylist[x+y] == n: # if mylist[x+y] equals to the number of repeat required i.e. n\n",
    "            return repeat"
   ]
  },
  {
   "cell_type": "code",
   "execution_count": 3,
   "metadata": {},
   "outputs": [
    {
     "data": {
      "text/plain": [
       "1"
      ]
     },
     "execution_count": 3,
     "metadata": {},
     "output_type": "execute_result"
    }
   ],
   "source": [
    "random.seed(85)\n",
    "rollsToRepeat(1)"
   ]
  },
  {
   "cell_type": "code",
   "execution_count": 4,
   "metadata": {},
   "outputs": [
    {
     "data": {
      "text/plain": [
       "4"
      ]
     },
     "execution_count": 4,
     "metadata": {},
     "output_type": "execute_result"
    }
   ],
   "source": [
    "random.seed(85)\n",
    "rollsToRepeat(2)"
   ]
  },
  {
   "cell_type": "code",
   "execution_count": 5,
   "metadata": {},
   "outputs": [
    {
     "data": {
      "text/plain": [
       "6"
      ]
     },
     "execution_count": 5,
     "metadata": {},
     "output_type": "execute_result"
    }
   ],
   "source": [
    "random.seed(85)\n",
    "rollsToRepeat(3)"
   ]
  },
  {
   "cell_type": "code",
   "execution_count": 6,
   "metadata": {},
   "outputs": [
    {
     "data": {
      "text/plain": [
       "[(0, None, 1),\n",
       " (1, None, 7),\n",
       " (2, None, 8),\n",
       " (3, None, 8),\n",
       " (4, None, 19),\n",
       " (5, None, 29),\n",
       " (6, None, 31),\n",
       " (7, None, 30),\n",
       " (8, None, 36),\n",
       " (9, None, 39)]"
      ]
     },
     "execution_count": 6,
     "metadata": {},
     "output_type": "execute_result"
    }
   ],
   "source": [
    "[ (i,random.seed(i),rollsToRepeat(i+1)) for i in range(10)] "
   ]
  }
 ],
 "metadata": {
  "kernelspec": {
   "display_name": "Python 3",
   "language": "python",
   "name": "python3"
  },
  "language_info": {
   "codemirror_mode": {
    "name": "ipython",
    "version": 3
   },
   "file_extension": ".py",
   "mimetype": "text/x-python",
   "name": "python",
   "nbconvert_exporter": "python",
   "pygments_lexer": "ipython3",
   "version": "3.8.5"
  }
 },
 "nbformat": 4,
 "nbformat_minor": 4
}
