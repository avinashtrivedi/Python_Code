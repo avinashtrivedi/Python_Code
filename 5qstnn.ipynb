{
 "cells": [
  {
   "cell_type": "markdown",
   "metadata": {},
   "source": [
    "# Program 1"
   ]
  },
  {
   "cell_type": "code",
   "execution_count": 1,
   "metadata": {},
   "outputs": [
    {
     "name": "stdout",
     "output_type": "stream",
     "text": [
      "number\tsquare\tcube\n",
      "0\t0\t0\n",
      "1\t1\t1\n",
      "2\t4\t8\n",
      "3\t9\t27\n",
      "4\t16\t64\n",
      "5\t25\t125\n"
     ]
    }
   ],
   "source": [
    "print('number','square','cube',sep='\\t')\n",
    "for i in range(6):\n",
    "    \n",
    "    # get square and cube\n",
    "    print(i,i*i,i*i*i,sep='\\t')"
   ]
  },
  {
   "cell_type": "markdown",
   "metadata": {},
   "source": [
    "# Program 2: Odd or Even"
   ]
  },
  {
   "cell_type": "code",
   "execution_count": 2,
   "metadata": {},
   "outputs": [
    {
     "name": "stdout",
     "output_type": "stream",
     "text": [
      "Enter an integer to check odd/even: 33\n",
      "odd\n"
     ]
    }
   ],
   "source": [
    "number = int(input('Enter an integer to check odd/even: '))\n",
    "\n",
    "# check for odd/even\n",
    "if number%2==0:\n",
    "    print('Even')\n",
    "else:\n",
    "    print('odd')"
   ]
  },
  {
   "cell_type": "markdown",
   "metadata": {},
   "source": [
    "# Program 2b: Temperature Conversion"
   ]
  },
  {
   "cell_type": "code",
   "execution_count": 3,
   "metadata": {},
   "outputs": [],
   "source": [
    "def Celsius2Fahrenheit(c):\n",
    "    \n",
    "    # convert Celsius to Fahrenheit\n",
    "    f = (9/5) * c +32\n",
    "    return f"
   ]
  },
  {
   "cell_type": "code",
   "execution_count": 4,
   "metadata": {},
   "outputs": [
    {
     "name": "stdout",
     "output_type": "stream",
     "text": [
      "Celsius\tFahrenheit\n",
      "0\t32.0\n",
      "1\t33.8\n",
      "2\t35.6\n",
      "3\t37.4\n",
      "4\t39.2\n",
      "5\t41.0\n",
      "6\t42.8\n",
      "7\t44.6\n",
      "8\t46.4\n",
      "9\t48.2\n",
      "10\t50.0\n",
      "11\t51.8\n",
      "12\t53.6\n",
      "13\t55.4\n",
      "14\t57.2\n",
      "15\t59.0\n",
      "16\t60.8\n",
      "17\t62.6\n",
      "18\t64.4\n",
      "19\t66.2\n",
      "20\t68.0\n",
      "21\t69.8\n",
      "22\t71.6\n",
      "23\t73.4\n",
      "24\t75.2\n",
      "25\t77.0\n",
      "26\t78.8\n",
      "27\t80.6\n",
      "28\t82.4\n",
      "29\t84.2\n",
      "30\t86.0\n",
      "31\t87.8\n",
      "32\t89.6\n",
      "33\t91.4\n",
      "34\t93.2\n",
      "35\t95.0\n",
      "36\t96.8\n",
      "37\t98.6\n",
      "38\t100.4\n",
      "39\t102.2\n",
      "40\t104.0\n",
      "41\t105.8\n",
      "42\t107.6\n",
      "43\t109.4\n",
      "44\t111.2\n",
      "45\t113.0\n",
      "46\t114.8\n",
      "47\t116.6\n",
      "48\t118.4\n",
      "49\t120.2\n",
      "50\t122.0\n",
      "51\t123.8\n",
      "52\t125.6\n",
      "53\t127.4\n",
      "54\t129.2\n",
      "55\t131.0\n",
      "56\t132.8\n",
      "57\t134.6\n",
      "58\t136.4\n",
      "59\t138.2\n",
      "60\t140.0\n",
      "61\t141.8\n",
      "62\t143.6\n",
      "63\t145.4\n",
      "64\t147.2\n",
      "65\t149.0\n",
      "66\t150.8\n",
      "67\t152.6\n",
      "68\t154.4\n",
      "69\t156.2\n",
      "70\t158.0\n",
      "71\t159.8\n",
      "72\t161.6\n",
      "73\t163.4\n",
      "74\t165.2\n",
      "75\t167.0\n",
      "76\t168.8\n",
      "77\t170.6\n",
      "78\t172.4\n",
      "79\t174.2\n",
      "80\t176.0\n",
      "81\t177.8\n",
      "82\t179.6\n",
      "83\t181.4\n",
      "84\t183.2\n",
      "85\t185.0\n",
      "86\t186.8\n",
      "87\t188.6\n",
      "88\t190.4\n",
      "89\t192.2\n",
      "90\t194.0\n",
      "91\t195.8\n",
      "92\t197.6\n",
      "93\t199.4\n",
      "94\t201.2\n",
      "95\t203.0\n",
      "96\t204.8\n",
      "97\t206.6\n",
      "98\t208.4\n",
      "99\t210.2\n",
      "100\t212.0\n"
     ]
    }
   ],
   "source": [
    "print('Celsius','Fahrenheit',sep='\\t')\n",
    "for i in range(101):\n",
    "    \n",
    "    # call the function Celsius2Fahrenheit() for each value in the range 0-100\n",
    "    f = Celsius2Fahrenheit(i)\n",
    "    print(i,round(f,1),sep='\\t')"
   ]
  },
  {
   "cell_type": "markdown",
   "metadata": {},
   "source": [
    "# Program 2c: Palindrome"
   ]
  },
  {
   "cell_type": "code",
   "execution_count": 5,
   "metadata": {},
   "outputs": [
    {
     "name": "stdout",
     "output_type": "stream",
     "text": [
      "Enter a 7 digit integer to check for Palindrome: 4505054\n",
      "palindrome\n"
     ]
    }
   ],
   "source": [
    "number = input('Enter a 7 digit integer to check for Palindrome: ')\n",
    "\n",
    "# reverse the number\n",
    "reverse = number[::-1]\n",
    "\n",
    "# check for Palindrome\n",
    "if number==reverse:\n",
    "    print('palindrome')\n",
    "else:\n",
    "    print('not a palindrome')"
   ]
  },
  {
   "cell_type": "markdown",
   "metadata": {},
   "source": [
    "# Program 2d: Write and read from a file Grades.txt"
   ]
  },
  {
   "cell_type": "code",
   "execution_count": 6,
   "metadata": {},
   "outputs": [
    {
     "name": "stdout",
     "output_type": "stream",
     "text": [
      "How many number of students detail you want to enter: 5\n",
      "student 1 :\n",
      "\n",
      "name: A\n",
      "grade (0-100): 34\n",
      "-----------------\n",
      "student 2 :\n",
      "\n",
      "name: B\n",
      "grade (0-100): 33.5\n",
      "-----------------\n",
      "student 3 :\n",
      "\n",
      "name: C\n",
      "grade (0-100): 58.5\n",
      "-----------------\n",
      "student 4 :\n",
      "\n",
      "name: D\n",
      "grade (0-100): 88.68\n",
      "-----------------\n",
      "student 5 :\n",
      "\n",
      "name: E\n",
      "grade (0-100): 92.33\n",
      "-----------------\n"
     ]
    }
   ],
   "source": [
    "number = int(input('How many number of students detail you want to enter: '))\n",
    "\n",
    "# create a Grades.txt file for writing\n",
    "f = open('Grades.txt','w')\n",
    "\n",
    "newline=''\n",
    "\n",
    "# get students detail\n",
    "for i in range(number):\n",
    "    print('student',i+1,':\\n')\n",
    "    name = input('name: ')\n",
    "    grade = input('grade (0-100): ')\n",
    "    \n",
    "    # write to file\n",
    "    f.write(newline)\n",
    "    f.write('{} {}'.format(name,grade))\n",
    "    \n",
    "    # newline for next line\n",
    "    newline='\\n'\n",
    "    print('-----------------')\n",
    "    \n",
    "# close the file\n",
    "f.close()"
   ]
  },
  {
   "cell_type": "code",
   "execution_count": 8,
   "metadata": {},
   "outputs": [
    {
     "name": "stdout",
     "output_type": "stream",
     "text": [
      "Count: 5\n",
      "Average: 61.4\n"
     ]
    }
   ],
   "source": [
    "# opn the file in read mode\n",
    "f = open('Grades.txt','r')\n",
    "\n",
    "# read the file lines\n",
    "s = f.readlines()\n",
    "\n",
    "# get data as a list of list\n",
    "grade_list = [i.strip().split() for i in s]\n",
    "\n",
    "# compute total grade \n",
    "total = 0\n",
    "count = len(grade_list)\n",
    "for grade in grade_list:\n",
    "    total = total + float(grade[1])\n",
    "\n",
    "# get average\n",
    "avg = round(total/count,2)\n",
    "\n",
    "# print the result\n",
    "print('Count:',count)\n",
    "print('Average:',avg)"
   ]
  },
  {
   "cell_type": "code",
   "execution_count": null,
   "metadata": {},
   "outputs": [],
   "source": []
  }
 ],
 "metadata": {
  "kernelspec": {
   "display_name": "Python 3",
   "language": "python",
   "name": "python3"
  },
  "language_info": {
   "codemirror_mode": {
    "name": "ipython",
    "version": 3
   },
   "file_extension": ".py",
   "mimetype": "text/x-python",
   "name": "python",
   "nbconvert_exporter": "python",
   "pygments_lexer": "ipython3",
   "version": "3.8.5"
  }
 },
 "nbformat": 4,
 "nbformat_minor": 4
}
