{
 "cells": [
  {
   "cell_type": "code",
   "execution_count": 2,
   "metadata": {},
   "outputs": [
    {
     "name": "stdout",
     "output_type": "stream",
     "text": [
      "Enter the first integer: 7\n",
      "Enter the second integer: 12\n",
      "Max of 7 and 12 is:  12\n"
     ]
    }
   ],
   "source": [
    "# define the max function.\n",
    "def max(x,y):\n",
    "    if x>=y:\n",
    "        return x\n",
    "    else:\n",
    "        return y\n",
    "\n",
    "# receive the user input\n",
    "x = input(\"Enter the first integer: \")\n",
    "y = input(\"Enter the second integer: \")\n",
    "\n",
    "# check if the input is integer or not\n",
    "if x.isnumeric() and y.isnumeric():\n",
    "    x = int(x)\n",
    "    y = int(y)\n",
    "    print('Max of',x,'and',y,'is: ',max(x,y))\n",
    "else:\n",
    "    print('Wrong inputs, Please try again.')"
   ]
  },
  {
   "cell_type": "code",
   "execution_count": null,
   "metadata": {},
   "outputs": [],
   "source": []
  },
  {
   "cell_type": "code",
   "execution_count": null,
   "metadata": {},
   "outputs": [],
   "source": []
  }
 ],
 "metadata": {
  "kernelspec": {
   "display_name": "Python 3",
   "language": "python",
   "name": "python3"
  },
  "language_info": {
   "codemirror_mode": {
    "name": "ipython",
    "version": 3
   },
   "file_extension": ".py",
   "mimetype": "text/x-python",
   "name": "python",
   "nbconvert_exporter": "python",
   "pygments_lexer": "ipython3",
   "version": "3.8.5"
  }
 },
 "nbformat": 4,
 "nbformat_minor": 4
}
