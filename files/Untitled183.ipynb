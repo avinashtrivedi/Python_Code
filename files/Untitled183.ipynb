{
 "cells": [
  {
   "cell_type": "code",
   "execution_count": 14,
   "metadata": {},
   "outputs": [],
   "source": [
    "def round_history(filepath):\n",
    "    with open(filepath, 'r') as inputfile:\n",
    "        data = inputfile.readlines()\n",
    "        \n",
    "    outfile = filepath.split('.txt')[0]+'_fixed.txt'\n",
    "    f = open(outfile,'w')\n",
    "    newline = ''\n",
    "    for i in data:\n",
    "        row = i.split(',')\n",
    "        f.write(newline)\n",
    "\n",
    "        if row[0]=='Attackers':\n",
    "            f.write('W')\n",
    "        else:\n",
    "            f.write('L')\n",
    "        newline = \"\\n\"\n",
    "    f.close()"
   ]
  },
  {
   "cell_type": "code",
   "execution_count": null,
   "metadata": {},
   "outputs": [],
   "source": []
  }
 ],
 "metadata": {
  "kernelspec": {
   "display_name": "Python 3",
   "language": "python",
   "name": "python3"
  },
  "language_info": {
   "codemirror_mode": {
    "name": "ipython",
    "version": 3
   },
   "file_extension": ".py",
   "mimetype": "text/x-python",
   "name": "python",
   "nbconvert_exporter": "python",
   "pygments_lexer": "ipython3",
   "version": "3.8.5"
  }
 },
 "nbformat": 4,
 "nbformat_minor": 4
}
