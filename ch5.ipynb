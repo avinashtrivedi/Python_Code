{
 "cells": [
  {
   "cell_type": "code",
   "execution_count": 1,
   "metadata": {},
   "outputs": [],
   "source": [
    "def shift_by_k(numbers,k):\n",
    "    # numbers[-3:] will return last 3 element of a list\n",
    "    # numbers[::] :- assigning anything to this means updating the actual list\n",
    "    numbers[::] = numbers[-3:] + numbers[:-3]"
   ]
  },
  {
   "cell_type": "code",
   "execution_count": 2,
   "metadata": {},
   "outputs": [
    {
     "name": "stdout",
     "output_type": "stream",
     "text": [
      "[0, -4, 7, 4, -5, 2, 8]\n"
     ]
    }
   ],
   "source": [
    "numbers = [4,-5,2,8,0,-4,7]\n",
    "shift_by_k(numbers,3)\n",
    "print(numbers)"
   ]
  },
  {
   "cell_type": "code",
   "execution_count": 3,
   "metadata": {},
   "outputs": [],
   "source": [
    "def double_reverse(words_list):\n",
    "    # i[::-1] reverse a string\n",
    "    # s='hello' then s[::-1] will be 'olleh'\n",
    "    words_list[::] = [ i[::-1] for i in words_list[::-1]]"
   ]
  },
  {
   "cell_type": "code",
   "execution_count": 4,
   "metadata": {},
   "outputs": [
    {
     "name": "stdout",
     "output_type": "stream",
     "text": [
      "['knab', 'dnas', 'gnitoohs', 'ekil', 'lerrab', 'hsif']\n"
     ]
    }
   ],
   "source": [
    "words_list=['fish', 'barrel', 'like','shooting','sand','bank']\n",
    "double_reverse(words_list)\n",
    "print(words_list)"
   ]
  },
  {
   "cell_type": "code",
   "execution_count": 5,
   "metadata": {},
   "outputs": [
    {
     "name": "stdout",
     "output_type": "stream",
     "text": [
      "['nac', 'tuo', 'tel', 'gab', 'a', 'eht', 'tac']\n"
     ]
    }
   ],
   "source": [
    "words_list=['cat', 'the', 'a','bag','let','out','can']\n",
    "double_reverse(words_list)\n",
    "print(words_list)"
   ]
  },
  {
   "cell_type": "code",
   "execution_count": 6,
   "metadata": {},
   "outputs": [
    {
     "name": "stdout",
     "output_type": "stream",
     "text": [
      "['I', 'gib', 'tuo', 'eht', 'eht', 'eht', 'ti']\n"
     ]
    }
   ],
   "source": [
    "words_list=['it', 'the', 'the','the','out','big','I']\n",
    "double_reverse(words_list)\n",
    "print(words_list)"
   ]
  },
  {
   "cell_type": "code",
   "execution_count": 7,
   "metadata": {},
   "outputs": [],
   "source": [
    "def get_longest_string_length(words_list):\n",
    "    if len(words_list)!=0:\n",
    "        return max([len(i) for i in words_list])\n",
    "    else:\n",
    "        return 0"
   ]
  },
  {
   "cell_type": "code",
   "execution_count": 8,
   "metadata": {},
   "outputs": [
    {
     "data": {
      "text/plain": [
       "0"
      ]
     },
     "execution_count": 8,
     "metadata": {},
     "output_type": "execute_result"
    }
   ],
   "source": [
    "get_longest_string_length([]) # empty list"
   ]
  },
  {
   "cell_type": "code",
   "execution_count": 9,
   "metadata": {},
   "outputs": [
    {
     "name": "stdout",
     "output_type": "stream",
     "text": [
      "8\n"
     ]
    }
   ],
   "source": [
    "words_list=['fish', 'barrel', 'like','shooting','sand','bank']\n",
    "shortest_length = get_longest_string_length(words_list)\n",
    "print(shortest_length)"
   ]
  },
  {
   "cell_type": "code",
   "execution_count": 10,
   "metadata": {},
   "outputs": [
    {
     "name": "stdout",
     "output_type": "stream",
     "text": [
      "3\n"
     ]
    }
   ],
   "source": [
    "words_list=['cat', 'the', 'a','bag','let','out','can']\n",
    "print(get_longest_string_length(words_list))"
   ]
  },
  {
   "cell_type": "code",
   "execution_count": 11,
   "metadata": {},
   "outputs": [
    {
     "name": "stdout",
     "output_type": "stream",
     "text": [
      "3\n"
     ]
    }
   ],
   "source": [
    "words_list=['it', 'the', 'the','the','out','big','I']\n",
    "print(get_longest_string_length(words_list))"
   ]
  },
  {
   "cell_type": "code",
   "execution_count": 12,
   "metadata": {},
   "outputs": [],
   "source": [
    "def remove_long_words(words_list):\n",
    "    # first sort the list by length in descending order\n",
    "    # then pop all the matching length string\n",
    "    words_list[::] = sorted(words_list, key=len,reverse=True)\n",
    "    long_len = get_longest_string_length(words_list)\n",
    "    count=0 # count the number string with length long_len\n",
    "    word_len = len(words_list)\n",
    "    for i in words_list:\n",
    "        if len(i) ==long_len:\n",
    "            count +=1\n",
    "    for i in range(count):\n",
    "        words_list.pop()\n",
    "    return word_len - len(words_list)"
   ]
  },
  {
   "cell_type": "code",
   "execution_count": 13,
   "metadata": {},
   "outputs": [
    {
     "name": "stdout",
     "output_type": "stream",
     "text": [
      "1\n",
      "['shooting', 'barrel', 'fish', 'like', 'sand']\n"
     ]
    }
   ],
   "source": [
    "words_list=['fish', 'barrel', 'like','shooting','sand','bank']\n",
    "print(remove_long_words(words_list))\n",
    "print(words_list)"
   ]
  },
  {
   "cell_type": "code",
   "execution_count": 14,
   "metadata": {},
   "outputs": [
    {
     "name": "stdout",
     "output_type": "stream",
     "text": [
      "7\n",
      "[]\n"
     ]
    }
   ],
   "source": [
    "words_list=['cat', 'the', 'the','bag','let','out','can']\n",
    "print(remove_long_words(words_list))\n",
    "print(words_list)"
   ]
  },
  {
   "cell_type": "code",
   "execution_count": 15,
   "metadata": {},
   "outputs": [
    {
     "name": "stdout",
     "output_type": "stream",
     "text": [
      "5\n",
      "['the', 'the']\n"
     ]
    }
   ],
   "source": [
    "words_list=['it', 'the', 'the','the','out','big','if']\n",
    "print(remove_long_words(words_list))\n",
    "print(words_list)"
   ]
  },
  {
   "cell_type": "code",
   "execution_count": 16,
   "metadata": {},
   "outputs": [],
   "source": [
    "def get_difference_last_three(list1,list2):\n",
    "    return sum(list1[-3:]) - sum(list2[-3:])"
   ]
  },
  {
   "cell_type": "code",
   "execution_count": 17,
   "metadata": {},
   "outputs": [
    {
     "name": "stdout",
     "output_type": "stream",
     "text": [
      "2\n"
     ]
    }
   ],
   "source": [
    "numbers1 =[1,4,6,2,9,8]\n",
    "numbers2=[4,0,8,1,9,7,1]\n",
    "print(get_difference_last_three(numbers1,numbers2))"
   ]
  },
  {
   "cell_type": "code",
   "execution_count": 18,
   "metadata": {},
   "outputs": [
    {
     "name": "stdout",
     "output_type": "stream",
     "text": [
      "0\n"
     ]
    }
   ],
   "source": [
    "numbers1 =[1,4,5,2,9,6]\n",
    "numbers2=[4,0,8,1,9,7,1]\n",
    "print(get_difference_last_three(numbers1,numbers2))"
   ]
  },
  {
   "cell_type": "code",
   "execution_count": null,
   "metadata": {},
   "outputs": [],
   "source": []
  }
 ],
 "metadata": {
  "kernelspec": {
   "display_name": "Python 3",
   "language": "python",
   "name": "python3"
  },
  "language_info": {
   "codemirror_mode": {
    "name": "ipython",
    "version": 3
   },
   "file_extension": ".py",
   "mimetype": "text/x-python",
   "name": "python",
   "nbconvert_exporter": "python",
   "pygments_lexer": "ipython3",
   "version": "3.8.5"
  }
 },
 "nbformat": 4,
 "nbformat_minor": 4
}
