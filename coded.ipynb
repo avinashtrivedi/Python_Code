{
 "cells": [
  {
   "cell_type": "code",
   "execution_count": 1,
   "metadata": {},
   "outputs": [],
   "source": [
    "def preceding(x):\n",
    "    \n",
    "    # get the Unicode code value of x\n",
    "    ucode = ord(x)\n",
    "    \n",
    "    # check if x is between b-z or B-Z i.e check with their unicode value\n",
    "    if 98<=ucode<=122 or 66<=ucode<=90:\n",
    "        return chr(ucode-1)\n",
    "    \n",
    "    # check if x is a or A\n",
    "    elif ucode == 97 or ucode == 65:\n",
    "        return chr(ucode+25)\n",
    "    else:\n",
    "        return x"
   ]
  },
  {
   "cell_type": "code",
   "execution_count": 2,
   "metadata": {},
   "outputs": [
    {
     "data": {
      "text/plain": [
       "'z'"
      ]
     },
     "execution_count": 2,
     "metadata": {},
     "output_type": "execute_result"
    }
   ],
   "source": [
    "preceding('a')"
   ]
  },
  {
   "cell_type": "code",
   "execution_count": 3,
   "metadata": {},
   "outputs": [
    {
     "data": {
      "text/plain": [
       "'!'"
      ]
     },
     "execution_count": 3,
     "metadata": {},
     "output_type": "execute_result"
    }
   ],
   "source": [
    "preceding('!')"
   ]
  },
  {
   "cell_type": "code",
   "execution_count": 4,
   "metadata": {},
   "outputs": [],
   "source": [
    "def succeeding(x):\n",
    "    \n",
    "    # get the Unicode code value of x\n",
    "    ucode = ord(x)\n",
    "    \n",
    "    # check if x is between a-y or A-Y\n",
    "    if 97<=ucode<=121 or 65<=ucode<=89:\n",
    "        return chr(ucode+1)\n",
    "    \n",
    "    # check if x is z or Z\n",
    "    elif ucode == 122 or ucode == 90:\n",
    "        return chr(ucode-25)\n",
    "    else:\n",
    "        return x"
   ]
  },
  {
   "cell_type": "code",
   "execution_count": 5,
   "metadata": {},
   "outputs": [
    {
     "data": {
      "text/plain": [
       "'b'"
      ]
     },
     "execution_count": 5,
     "metadata": {},
     "output_type": "execute_result"
    }
   ],
   "source": [
    "succeeding('a')"
   ]
  },
  {
   "cell_type": "code",
   "execution_count": 6,
   "metadata": {},
   "outputs": [
    {
     "data": {
      "text/plain": [
       "'!'"
      ]
     },
     "execution_count": 6,
     "metadata": {},
     "output_type": "execute_result"
    }
   ],
   "source": [
    "succeeding('!')"
   ]
  },
  {
   "cell_type": "code",
   "execution_count": 7,
   "metadata": {},
   "outputs": [],
   "source": [
    "def message_coder(string,func):\n",
    "    new_str = ''\n",
    "    \n",
    "    # loop throught the string\n",
    "    for char in string:\n",
    "        \n",
    "        # get the coded message\n",
    "        new_str = new_str + func(char)\n",
    "    return new_str"
   ]
  },
  {
   "cell_type": "code",
   "execution_count": 8,
   "metadata": {},
   "outputs": [
    {
     "data": {
      "text/plain": [
       "'gdkkn cnkkx yzaqz!'"
      ]
     },
     "execution_count": 8,
     "metadata": {},
     "output_type": "execute_result"
    }
   ],
   "source": [
    "message_coder('hello dolly zabra!',preceding)"
   ]
  },
  {
   "cell_type": "code",
   "execution_count": 9,
   "metadata": {},
   "outputs": [
    {
     "data": {
      "text/plain": [
       "'ifmmp epmmz abcsb!'"
      ]
     },
     "execution_count": 9,
     "metadata": {},
     "output_type": "execute_result"
    }
   ],
   "source": [
    "message_coder('hello dolly zabra!',succeeding)"
   ]
  },
  {
   "cell_type": "code",
   "execution_count": null,
   "metadata": {},
   "outputs": [],
   "source": []
  }
 ],
 "metadata": {
  "kernelspec": {
   "display_name": "Python 3",
   "language": "python",
   "name": "python3"
  },
  "language_info": {
   "codemirror_mode": {
    "name": "ipython",
    "version": 3
   },
   "file_extension": ".py",
   "mimetype": "text/x-python",
   "name": "python",
   "nbconvert_exporter": "python",
   "pygments_lexer": "ipython3",
   "version": "3.8.5"
  }
 },
 "nbformat": 4,
 "nbformat_minor": 4
}
