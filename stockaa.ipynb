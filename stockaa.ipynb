{
 "cells": [
  {
   "cell_type": "code",
   "execution_count": 1,
   "metadata": {},
   "outputs": [],
   "source": [
    "# import library\n",
    "import pandas as pd"
   ]
  },
  {
   "cell_type": "markdown",
   "metadata": {},
   "source": [
    "# Q.1"
   ]
  },
  {
   "cell_type": "code",
   "execution_count": 2,
   "metadata": {},
   "outputs": [],
   "source": [
    "# download the dataset from Yahoo finance\n",
    "# save the .csv file in current directory"
   ]
  },
  {
   "cell_type": "markdown",
   "metadata": {},
   "source": [
    "# Q.2"
   ]
  },
  {
   "cell_type": "code",
   "execution_count": 3,
   "metadata": {},
   "outputs": [],
   "source": [
    "# read the datset\n",
    "df_fb = pd.read_csv('FB.csv')\n",
    "df_mmm = pd.read_csv('MMM.csv')\n",
    "df_ibm = pd.read_csv('IBM.csv')\n",
    "df_amzn = pd.read_csv('AMZN.csv')\n",
    "\n",
    "# get only Date and Adj Close\n",
    "df_fb = df_fb[['Date','Adj Close']]\n",
    "df_mmm = df_mmm[['Date','Adj Close']]\n",
    "df_ibm = df_ibm[['Date','Adj Close']]\n",
    "df_amzn = df_amzn[['Date','Adj Close']]"
   ]
  },
  {
   "cell_type": "markdown",
   "metadata": {},
   "source": [
    "# Q.3"
   ]
  },
  {
   "cell_type": "code",
   "execution_count": 4,
   "metadata": {},
   "outputs": [],
   "source": [
    "# create Year,Month and Day column to find the last business day of each month\n",
    "\n",
    "df_fb['Year'] = df_fb['Date'].apply(lambda x:x.split('-')[0])\n",
    "df_fb['Month'] = df_fb['Date'].apply(lambda x:x.split('-')[1])\n",
    "df_fb['Day'] = df_fb['Date'].apply(lambda x:x.split('-')[2])\n",
    "\n",
    "df_mmm['Year'] = df_mmm['Date'].apply(lambda x:x.split('-')[0])\n",
    "df_mmm['Month'] = df_mmm['Date'].apply(lambda x:x.split('-')[1])\n",
    "df_mmm['Day'] = df_mmm['Date'].apply(lambda x:x.split('-')[2])\n",
    "\n",
    "df_ibm['Year'] = df_ibm['Date'].apply(lambda x:x.split('-')[0])\n",
    "df_ibm['Month'] = df_ibm['Date'].apply(lambda x:x.split('-')[1])\n",
    "df_ibm['Day'] = df_ibm['Date'].apply(lambda x:x.split('-')[2])\n",
    "\n",
    "df_amzn['Year'] = df_amzn['Date'].apply(lambda x:x.split('-')[0])\n",
    "df_amzn['Month'] = df_amzn['Date'].apply(lambda x:x.split('-')[1])\n",
    "df_amzn['Day'] = df_amzn['Date'].apply(lambda x:x.split('-')[2])"
   ]
  },
  {
   "cell_type": "code",
   "execution_count": 5,
   "metadata": {},
   "outputs": [],
   "source": [
    "# get last business day for each months\n",
    "last_date = df_amzn.groupby(['Year','Month'])['Date'].max()\n",
    "last_date = last_date[:-1]\n",
    "last_date = list(last_date)\n",
    "\n",
    "# filter the dataset to contain Adj Close for last business day of each month\n",
    "\n",
    "df_fb = df_fb.loc[df_fb['Date'].isin(last_date)]\n",
    "df_fb.reset_index(drop=True,inplace=True)\n",
    "df_fb = df_fb[['Date','Adj Close']]\n",
    "\n",
    "df_mmm = df_mmm.loc[df_mmm['Date'].isin(last_date)]\n",
    "df_mmm.reset_index(drop=True,inplace=True)\n",
    "df_mmm = df_mmm[['Date','Adj Close']]\n",
    "\n",
    "df_ibm = df_ibm.loc[df_ibm['Date'].isin(last_date)]\n",
    "df_ibm.reset_index(drop=True,inplace=True)\n",
    "df_ibm = df_ibm[['Date','Adj Close']]\n",
    "\n",
    "df_amzn = df_amzn.loc[df_amzn['Date'].isin(last_date)]\n",
    "df_amzn.reset_index(drop=True,inplace=True)\n",
    "df_amzn = df_amzn[['Date','Adj Close']]"
   ]
  },
  {
   "cell_type": "code",
   "execution_count": 6,
   "metadata": {},
   "outputs": [
    {
     "data": {
      "text/html": [
       "<div>\n",
       "<style scoped>\n",
       "    .dataframe tbody tr th:only-of-type {\n",
       "        vertical-align: middle;\n",
       "    }\n",
       "\n",
       "    .dataframe tbody tr th {\n",
       "        vertical-align: top;\n",
       "    }\n",
       "\n",
       "    .dataframe thead th {\n",
       "        text-align: right;\n",
       "    }\n",
       "</style>\n",
       "<table border=\"1\" class=\"dataframe\">\n",
       "  <thead>\n",
       "    <tr style=\"text-align: right;\">\n",
       "      <th></th>\n",
       "      <th>Date</th>\n",
       "      <th>Adj Close</th>\n",
       "    </tr>\n",
       "  </thead>\n",
       "  <tbody>\n",
       "    <tr>\n",
       "      <th>0</th>\n",
       "      <td>2016-07-29</td>\n",
       "      <td>123.940002</td>\n",
       "    </tr>\n",
       "    <tr>\n",
       "      <th>1</th>\n",
       "      <td>2016-08-31</td>\n",
       "      <td>126.120003</td>\n",
       "    </tr>\n",
       "    <tr>\n",
       "      <th>2</th>\n",
       "      <td>2016-09-30</td>\n",
       "      <td>128.270004</td>\n",
       "    </tr>\n",
       "    <tr>\n",
       "      <th>3</th>\n",
       "      <td>2016-10-31</td>\n",
       "      <td>130.990005</td>\n",
       "    </tr>\n",
       "    <tr>\n",
       "      <th>4</th>\n",
       "      <td>2016-11-30</td>\n",
       "      <td>118.419998</td>\n",
       "    </tr>\n",
       "  </tbody>\n",
       "</table>\n",
       "</div>"
      ],
      "text/plain": [
       "         Date   Adj Close\n",
       "0  2016-07-29  123.940002\n",
       "1  2016-08-31  126.120003\n",
       "2  2016-09-30  128.270004\n",
       "3  2016-10-31  130.990005\n",
       "4  2016-11-30  118.419998"
      ]
     },
     "execution_count": 6,
     "metadata": {},
     "output_type": "execute_result"
    }
   ],
   "source": [
    "df_fb.head() # display few rows"
   ]
  },
  {
   "cell_type": "code",
   "execution_count": 7,
   "metadata": {},
   "outputs": [
    {
     "data": {
      "text/html": [
       "<div>\n",
       "<style scoped>\n",
       "    .dataframe tbody tr th:only-of-type {\n",
       "        vertical-align: middle;\n",
       "    }\n",
       "\n",
       "    .dataframe tbody tr th {\n",
       "        vertical-align: top;\n",
       "    }\n",
       "\n",
       "    .dataframe thead th {\n",
       "        text-align: right;\n",
       "    }\n",
       "</style>\n",
       "<table border=\"1\" class=\"dataframe\">\n",
       "  <thead>\n",
       "    <tr style=\"text-align: right;\">\n",
       "      <th></th>\n",
       "      <th>Date</th>\n",
       "      <th>Adj Close</th>\n",
       "    </tr>\n",
       "  </thead>\n",
       "  <tbody>\n",
       "    <tr>\n",
       "      <th>0</th>\n",
       "      <td>2016-07-29</td>\n",
       "      <td>153.941116</td>\n",
       "    </tr>\n",
       "    <tr>\n",
       "      <th>1</th>\n",
       "      <td>2016-08-31</td>\n",
       "      <td>155.664581</td>\n",
       "    </tr>\n",
       "    <tr>\n",
       "      <th>2</th>\n",
       "      <td>2016-09-30</td>\n",
       "      <td>153.050507</td>\n",
       "    </tr>\n",
       "    <tr>\n",
       "      <th>3</th>\n",
       "      <td>2016-10-31</td>\n",
       "      <td>143.558121</td>\n",
       "    </tr>\n",
       "    <tr>\n",
       "      <th>4</th>\n",
       "      <td>2016-11-30</td>\n",
       "      <td>150.107330</td>\n",
       "    </tr>\n",
       "  </tbody>\n",
       "</table>\n",
       "</div>"
      ],
      "text/plain": [
       "         Date   Adj Close\n",
       "0  2016-07-29  153.941116\n",
       "1  2016-08-31  155.664581\n",
       "2  2016-09-30  153.050507\n",
       "3  2016-10-31  143.558121\n",
       "4  2016-11-30  150.107330"
      ]
     },
     "execution_count": 7,
     "metadata": {},
     "output_type": "execute_result"
    }
   ],
   "source": [
    "df_mmm.head()"
   ]
  },
  {
   "cell_type": "code",
   "execution_count": 8,
   "metadata": {},
   "outputs": [
    {
     "data": {
      "text/html": [
       "<div>\n",
       "<style scoped>\n",
       "    .dataframe tbody tr th:only-of-type {\n",
       "        vertical-align: middle;\n",
       "    }\n",
       "\n",
       "    .dataframe tbody tr th {\n",
       "        vertical-align: top;\n",
       "    }\n",
       "\n",
       "    .dataframe thead th {\n",
       "        text-align: right;\n",
       "    }\n",
       "</style>\n",
       "<table border=\"1\" class=\"dataframe\">\n",
       "  <thead>\n",
       "    <tr style=\"text-align: right;\">\n",
       "      <th></th>\n",
       "      <th>Date</th>\n",
       "      <th>Adj Close</th>\n",
       "    </tr>\n",
       "  </thead>\n",
       "  <tbody>\n",
       "    <tr>\n",
       "      <th>0</th>\n",
       "      <td>2016-07-29</td>\n",
       "      <td>128.608139</td>\n",
       "    </tr>\n",
       "    <tr>\n",
       "      <th>1</th>\n",
       "      <td>2016-08-31</td>\n",
       "      <td>128.313599</td>\n",
       "    </tr>\n",
       "    <tr>\n",
       "      <th>2</th>\n",
       "      <td>2016-09-30</td>\n",
       "      <td>128.289398</td>\n",
       "    </tr>\n",
       "    <tr>\n",
       "      <th>3</th>\n",
       "      <td>2016-10-31</td>\n",
       "      <td>124.122078</td>\n",
       "    </tr>\n",
       "    <tr>\n",
       "      <th>4</th>\n",
       "      <td>2016-11-30</td>\n",
       "      <td>132.199585</td>\n",
       "    </tr>\n",
       "  </tbody>\n",
       "</table>\n",
       "</div>"
      ],
      "text/plain": [
       "         Date   Adj Close\n",
       "0  2016-07-29  128.608139\n",
       "1  2016-08-31  128.313599\n",
       "2  2016-09-30  128.289398\n",
       "3  2016-10-31  124.122078\n",
       "4  2016-11-30  132.199585"
      ]
     },
     "execution_count": 8,
     "metadata": {},
     "output_type": "execute_result"
    }
   ],
   "source": [
    "df_ibm.head()"
   ]
  },
  {
   "cell_type": "code",
   "execution_count": 9,
   "metadata": {},
   "outputs": [
    {
     "data": {
      "text/html": [
       "<div>\n",
       "<style scoped>\n",
       "    .dataframe tbody tr th:only-of-type {\n",
       "        vertical-align: middle;\n",
       "    }\n",
       "\n",
       "    .dataframe tbody tr th {\n",
       "        vertical-align: top;\n",
       "    }\n",
       "\n",
       "    .dataframe thead th {\n",
       "        text-align: right;\n",
       "    }\n",
       "</style>\n",
       "<table border=\"1\" class=\"dataframe\">\n",
       "  <thead>\n",
       "    <tr style=\"text-align: right;\">\n",
       "      <th></th>\n",
       "      <th>Date</th>\n",
       "      <th>Adj Close</th>\n",
       "    </tr>\n",
       "  </thead>\n",
       "  <tbody>\n",
       "    <tr>\n",
       "      <th>0</th>\n",
       "      <td>2016-07-29</td>\n",
       "      <td>758.809998</td>\n",
       "    </tr>\n",
       "    <tr>\n",
       "      <th>1</th>\n",
       "      <td>2016-08-31</td>\n",
       "      <td>769.159973</td>\n",
       "    </tr>\n",
       "    <tr>\n",
       "      <th>2</th>\n",
       "      <td>2016-09-30</td>\n",
       "      <td>837.309998</td>\n",
       "    </tr>\n",
       "    <tr>\n",
       "      <th>3</th>\n",
       "      <td>2016-10-31</td>\n",
       "      <td>789.820007</td>\n",
       "    </tr>\n",
       "    <tr>\n",
       "      <th>4</th>\n",
       "      <td>2016-11-30</td>\n",
       "      <td>750.570007</td>\n",
       "    </tr>\n",
       "  </tbody>\n",
       "</table>\n",
       "</div>"
      ],
      "text/plain": [
       "         Date   Adj Close\n",
       "0  2016-07-29  758.809998\n",
       "1  2016-08-31  769.159973\n",
       "2  2016-09-30  837.309998\n",
       "3  2016-10-31  789.820007\n",
       "4  2016-11-30  750.570007"
      ]
     },
     "execution_count": 9,
     "metadata": {},
     "output_type": "execute_result"
    }
   ],
   "source": [
    "df_amzn.head()"
   ]
  },
  {
   "cell_type": "markdown",
   "metadata": {},
   "source": [
    "# Q.4"
   ]
  },
  {
   "cell_type": "code",
   "execution_count": 10,
   "metadata": {},
   "outputs": [],
   "source": [
    "from pandas.plotting import autocorrelation_plot\n",
    "import matplotlib.pyplot as plt"
   ]
  },
  {
   "cell_type": "code",
   "execution_count": 11,
   "metadata": {},
   "outputs": [
    {
     "data": {
      "image/png": "[encoded data removed]",
      "text/plain": [
       "<Figure size 432x288 with 1 Axes>"
      ]
     },
     "metadata": {
      "needs_background": "light"
     },
     "output_type": "display_data"
    }
   ],
   "source": [
    "autocorrelation_plot(df_fb['Adj Close'])\n",
    "plt.show()"
   ]
  },
  {
   "cell_type": "markdown",
   "metadata": {},
   "source": [
    "- Yes, more recent values i.e smaller lags are strongly correlated with the current value than larger lags and at extreme large lags, the correlation is 0"
   ]
  },
  {
   "cell_type": "code",
   "execution_count": 12,
   "metadata": {},
   "outputs": [
    {
     "data": {
      "image/png": "[encoded data removed]",
      "text/plain": [
       "<Figure size 432x288 with 1 Axes>"
      ]
     },
     "metadata": {
      "needs_background": "light"
     },
     "output_type": "display_data"
    }
   ],
   "source": [
    "autocorrelation_plot(df_mmm['Adj Close'])\n",
    "plt.show()"
   ]
  },
  {
   "cell_type": "markdown",
   "metadata": {},
   "source": [
    "- Yes, more recent values i.e smaller lags are strongly correlated with the current value than larger lags and at extreme large lags, the correlation is 0"
   ]
  },
  {
   "cell_type": "code",
   "execution_count": 13,
   "metadata": {},
   "outputs": [
    {
     "data": {
      "image/png": "[encoded data removed]",
      "text/plain": [
       "<Figure size 432x288 with 1 Axes>"
      ]
     },
     "metadata": {
      "needs_background": "light"
     },
     "output_type": "display_data"
    }
   ],
   "source": [
    "autocorrelation_plot(df_ibm['Adj Close'])\n",
    "plt.show()"
   ]
  },
  {
   "cell_type": "markdown",
   "metadata": {},
   "source": [
    "- - Yes, more recent values i.e smaller lags are strongly correlated with the current value than larger lags and at extreme large lags, the correlation is 0"
   ]
  },
  {
   "cell_type": "code",
   "execution_count": 14,
   "metadata": {},
   "outputs": [
    {
     "data": {
      "image/png": "[encoded data removed]",
      "text/plain": [
       "<Figure size 432x288 with 1 Axes>"
      ]
     },
     "metadata": {
      "needs_background": "light"
     },
     "output_type": "display_data"
    }
   ],
   "source": [
    "autocorrelation_plot(df_amzn['Adj Close'])\n",
    "plt.show()"
   ]
  },
  {
   "cell_type": "markdown",
   "metadata": {},
   "source": [
    "- Yes, more recent values i.e smaller lags are strongly correlated with the current value than larger lags and at extreme large lags, the correlation is 0"
   ]
  },
  {
   "cell_type": "markdown",
   "metadata": {},
   "source": [
    "# Q.5.1"
   ]
  },
  {
   "cell_type": "markdown",
   "metadata": {},
   "source": [
    "- Yes, more recent values i.e smaller lags are strongly correlated with the current value than larger lags and at extreme large lags, the correlation is 0"
   ]
  },
  {
   "cell_type": "markdown",
   "metadata": {},
   "source": [
    "# Q.5.2"
   ]
  },
  {
   "cell_type": "code",
   "execution_count": 15,
   "metadata": {},
   "outputs": [],
   "source": [
    "# compute monthly returns\n",
    "df_fb['Return'] = (df_fb['Adj Close'] - df_fb['Adj Close'].shift(1))/df_fb['Adj Close'].shift(1)\n",
    "df_mmm['Return'] = (df_mmm['Adj Close'] - df_mmm['Adj Close'].shift(1))/df_mmm['Adj Close'].shift(1)\n",
    "df_ibm['Return'] = (df_ibm['Adj Close'] - df_ibm['Adj Close'].shift(1))/df_ibm['Adj Close'].shift(1)\n",
    "df_amzn['Return'] = (df_amzn['Adj Close'] - df_amzn['Adj Close'].shift(1))/df_amzn['Adj Close'].shift(1)\n",
    " \n",
    "# drop NAN rows\n",
    "df_fb.dropna(inplace=True)\n",
    "df_mmm.dropna(inplace=True)\n",
    "df_ibm.dropna(inplace=True)\n",
    "df_amzn.dropna(inplace=True)"
   ]
  },
  {
   "cell_type": "code",
   "execution_count": 16,
   "metadata": {},
   "outputs": [
    {
     "data": {
      "image/png": "[encoded data removed]",
      "text/plain": [
       "<Figure size 432x288 with 1 Axes>"
      ]
     },
     "metadata": {
      "needs_background": "light"
     },
     "output_type": "display_data"
    }
   ],
   "source": [
    "autocorrelation_plot(df_fb['Return'])\n",
    "plt.show()"
   ]
  },
  {
   "cell_type": "code",
   "execution_count": 17,
   "metadata": {},
   "outputs": [
    {
     "data": {
      "image/png": "[encoded data removed]",
      "text/plain": [
       "<Figure size 432x288 with 1 Axes>"
      ]
     },
     "metadata": {
      "needs_background": "light"
     },
     "output_type": "display_data"
    }
   ],
   "source": [
    "autocorrelation_plot(df_mmm['Return'])\n",
    "plt.show()"
   ]
  },
  {
   "cell_type": "code",
   "execution_count": 18,
   "metadata": {},
   "outputs": [
    {
     "data": {
      "image/png": "[encoded data removed]",
      "text/plain": [
       "<Figure size 432x288 with 1 Axes>"
      ]
     },
     "metadata": {
      "needs_background": "light"
     },
     "output_type": "display_data"
    }
   ],
   "source": [
    "autocorrelation_plot(df_ibm['Return'])\n",
    "plt.show()"
   ]
  },
  {
   "cell_type": "code",
   "execution_count": 19,
   "metadata": {},
   "outputs": [
    {
     "data": {
      "image/png": "[encoded data removed]",
      "text/plain": [
       "<Figure size 432x288 with 1 Axes>"
      ]
     },
     "metadata": {
      "needs_background": "light"
     },
     "output_type": "display_data"
    }
   ],
   "source": [
    "autocorrelation_plot(df_amzn['Return'])\n",
    "plt.show()"
   ]
  },
  {
   "cell_type": "markdown",
   "metadata": {},
   "source": [
    "- No,returns are not autocorrelated.With larger lags the correlation is 0 and even with small lags the correlation never go beyond 0.25"
   ]
  },
  {
   "cell_type": "markdown",
   "metadata": {},
   "source": [
    "# combine all returns"
   ]
  },
  {
   "cell_type": "code",
   "execution_count": 20,
   "metadata": {},
   "outputs": [],
   "source": [
    "dfs = [df_fb['Return'],df_mmm['Return'],df_ibm['Return'],df_amzn['Return']]"
   ]
  },
  {
   "cell_type": "code",
   "execution_count": 21,
   "metadata": {},
   "outputs": [],
   "source": [
    "df = pd.concat(dfs, axis=1)"
   ]
  },
  {
   "cell_type": "code",
   "execution_count": 22,
   "metadata": {},
   "outputs": [],
   "source": [
    "df.columns = ['Return_fb','Return_mmm','Return_ibm','Return_amzn']"
   ]
  },
  {
   "cell_type": "code",
   "execution_count": 23,
   "metadata": {},
   "outputs": [
    {
     "data": {
      "text/html": [
       "<div>\n",
       "<style scoped>\n",
       "    .dataframe tbody tr th:only-of-type {\n",
       "        vertical-align: middle;\n",
       "    }\n",
       "\n",
       "    .dataframe tbody tr th {\n",
       "        vertical-align: top;\n",
       "    }\n",
       "\n",
       "    .dataframe thead th {\n",
       "        text-align: right;\n",
       "    }\n",
       "</style>\n",
       "<table border=\"1\" class=\"dataframe\">\n",
       "  <thead>\n",
       "    <tr style=\"text-align: right;\">\n",
       "      <th></th>\n",
       "      <th>Return_fb</th>\n",
       "      <th>Return_mmm</th>\n",
       "      <th>Return_ibm</th>\n",
       "      <th>Return_amzn</th>\n",
       "    </tr>\n",
       "  </thead>\n",
       "  <tbody>\n",
       "    <tr>\n",
       "      <th>1</th>\n",
       "      <td>0.017589</td>\n",
       "      <td>0.011196</td>\n",
       "      <td>-0.002290</td>\n",
       "      <td>0.013640</td>\n",
       "    </tr>\n",
       "    <tr>\n",
       "      <th>2</th>\n",
       "      <td>0.017047</td>\n",
       "      <td>-0.016793</td>\n",
       "      <td>-0.000189</td>\n",
       "      <td>0.088603</td>\n",
       "    </tr>\n",
       "    <tr>\n",
       "      <th>3</th>\n",
       "      <td>0.021205</td>\n",
       "      <td>-0.062021</td>\n",
       "      <td>-0.032484</td>\n",
       "      <td>-0.056717</td>\n",
       "    </tr>\n",
       "    <tr>\n",
       "      <th>4</th>\n",
       "      <td>-0.095962</td>\n",
       "      <td>0.045621</td>\n",
       "      <td>0.065077</td>\n",
       "      <td>-0.049695</td>\n",
       "    </tr>\n",
       "    <tr>\n",
       "      <th>5</th>\n",
       "      <td>-0.028458</td>\n",
       "      <td>0.039770</td>\n",
       "      <td>0.023240</td>\n",
       "      <td>-0.000933</td>\n",
       "    </tr>\n",
       "    <tr>\n",
       "      <th>6</th>\n",
       "      <td>0.132725</td>\n",
       "      <td>-0.021000</td>\n",
       "      <td>0.051389</td>\n",
       "      <td>0.098164</td>\n",
       "    </tr>\n",
       "    <tr>\n",
       "      <th>7</th>\n",
       "      <td>0.040055</td>\n",
       "      <td>0.072895</td>\n",
       "      <td>0.038516</td>\n",
       "      <td>0.026182</td>\n",
       "    </tr>\n",
       "    <tr>\n",
       "      <th>8</th>\n",
       "      <td>0.048030</td>\n",
       "      <td>0.026724</td>\n",
       "      <td>-0.031587</td>\n",
       "      <td>0.049110</td>\n",
       "    </tr>\n",
       "    <tr>\n",
       "      <th>9</th>\n",
       "      <td>0.057726</td>\n",
       "      <td>0.023520</td>\n",
       "      <td>-0.079534</td>\n",
       "      <td>0.043371</td>\n",
       "    </tr>\n",
       "    <tr>\n",
       "      <th>10</th>\n",
       "      <td>0.008053</td>\n",
       "      <td>0.050356</td>\n",
       "      <td>-0.038486</td>\n",
       "      <td>0.075276</td>\n",
       "    </tr>\n",
       "    <tr>\n",
       "      <th>11</th>\n",
       "      <td>-0.003169</td>\n",
       "      <td>0.018194</td>\n",
       "      <td>0.007862</td>\n",
       "      <td>-0.026764</td>\n",
       "    </tr>\n",
       "    <tr>\n",
       "      <th>12</th>\n",
       "      <td>0.121009</td>\n",
       "      <td>-0.033719</td>\n",
       "      <td>-0.059546</td>\n",
       "      <td>0.020434</td>\n",
       "    </tr>\n",
       "    <tr>\n",
       "      <th>13</th>\n",
       "      <td>0.016071</td>\n",
       "      <td>0.021500</td>\n",
       "      <td>-0.000891</td>\n",
       "      <td>-0.007269</td>\n",
       "    </tr>\n",
       "    <tr>\n",
       "      <th>14</th>\n",
       "      <td>-0.006396</td>\n",
       "      <td>0.027310</td>\n",
       "      <td>0.014333</td>\n",
       "      <td>-0.019631</td>\n",
       "    </tr>\n",
       "    <tr>\n",
       "      <th>15</th>\n",
       "      <td>0.053784</td>\n",
       "      <td>0.096665</td>\n",
       "      <td>0.061897</td>\n",
       "      <td>0.149717</td>\n",
       "    </tr>\n",
       "    <tr>\n",
       "      <th>16</th>\n",
       "      <td>-0.015995</td>\n",
       "      <td>0.061586</td>\n",
       "      <td>0.009405</td>\n",
       "      <td>0.064662</td>\n",
       "    </tr>\n",
       "    <tr>\n",
       "      <th>17</th>\n",
       "      <td>-0.004064</td>\n",
       "      <td>-0.031957</td>\n",
       "      <td>-0.003572</td>\n",
       "      <td>-0.006187</td>\n",
       "    </tr>\n",
       "    <tr>\n",
       "      <th>18</th>\n",
       "      <td>0.059107</td>\n",
       "      <td>0.064282</td>\n",
       "      <td>0.067006</td>\n",
       "      <td>0.240639</td>\n",
       "    </tr>\n",
       "    <tr>\n",
       "      <th>19</th>\n",
       "      <td>-0.045856</td>\n",
       "      <td>-0.054297</td>\n",
       "      <td>-0.038703</td>\n",
       "      <td>0.042429</td>\n",
       "    </tr>\n",
       "    <tr>\n",
       "      <th>20</th>\n",
       "      <td>-0.103914</td>\n",
       "      <td>-0.067895</td>\n",
       "      <td>-0.015401</td>\n",
       "      <td>-0.043049</td>\n",
       "    </tr>\n",
       "    <tr>\n",
       "      <th>21</th>\n",
       "      <td>0.076413</td>\n",
       "      <td>-0.114477</td>\n",
       "      <td>-0.055204</td>\n",
       "      <td>0.082075</td>\n",
       "    </tr>\n",
       "    <tr>\n",
       "      <th>22</th>\n",
       "      <td>0.115000</td>\n",
       "      <td>0.021549</td>\n",
       "      <td>-0.014358</td>\n",
       "      <td>0.040539</td>\n",
       "    </tr>\n",
       "    <tr>\n",
       "      <th>23</th>\n",
       "      <td>0.013244</td>\n",
       "      <td>-0.002586</td>\n",
       "      <td>-0.011393</td>\n",
       "      <td>0.043065</td>\n",
       "    </tr>\n",
       "    <tr>\n",
       "      <th>24</th>\n",
       "      <td>-0.111877</td>\n",
       "      <td>0.079301</td>\n",
       "      <td>0.037437</td>\n",
       "      <td>0.045676</td>\n",
       "    </tr>\n",
       "    <tr>\n",
       "      <th>25</th>\n",
       "      <td>0.018252</td>\n",
       "      <td>0.000065</td>\n",
       "      <td>0.021614</td>\n",
       "      <td>0.132365</td>\n",
       "    </tr>\n",
       "    <tr>\n",
       "      <th>26</th>\n",
       "      <td>-0.064132</td>\n",
       "      <td>-0.000996</td>\n",
       "      <td>0.032291</td>\n",
       "      <td>-0.004824</td>\n",
       "    </tr>\n",
       "    <tr>\n",
       "      <th>27</th>\n",
       "      <td>-0.077040</td>\n",
       "      <td>-0.097053</td>\n",
       "      <td>-0.236625</td>\n",
       "      <td>-0.202192</td>\n",
       "    </tr>\n",
       "    <tr>\n",
       "      <th>28</th>\n",
       "      <td>-0.073654</td>\n",
       "      <td>0.100283</td>\n",
       "      <td>0.090295</td>\n",
       "      <td>0.057672</td>\n",
       "    </tr>\n",
       "    <tr>\n",
       "      <th>29</th>\n",
       "      <td>-0.067705</td>\n",
       "      <td>-0.083590</td>\n",
       "      <td>-0.085298</td>\n",
       "      <td>-0.111350</td>\n",
       "    </tr>\n",
       "    <tr>\n",
       "      <th>30</th>\n",
       "      <td>0.271569</td>\n",
       "      <td>0.051223</td>\n",
       "      <td>0.182546</td>\n",
       "      <td>0.144317</td>\n",
       "    </tr>\n",
       "    <tr>\n",
       "      <th>31</th>\n",
       "      <td>-0.031436</td>\n",
       "      <td>0.042555</td>\n",
       "      <td>0.039573</td>\n",
       "      <td>-0.045906</td>\n",
       "    </tr>\n",
       "    <tr>\n",
       "      <th>32</th>\n",
       "      <td>0.032456</td>\n",
       "      <td>0.001881</td>\n",
       "      <td>0.021501</td>\n",
       "      <td>0.085936</td>\n",
       "    </tr>\n",
       "    <tr>\n",
       "      <th>33</th>\n",
       "      <td>0.160238</td>\n",
       "      <td>-0.087929</td>\n",
       "      <td>-0.005882</td>\n",
       "      <td>0.081859</td>\n",
       "    </tr>\n",
       "    <tr>\n",
       "      <th>34</th>\n",
       "      <td>-0.082368</td>\n",
       "      <td>-0.149824</td>\n",
       "      <td>-0.083921</td>\n",
       "      <td>-0.078613</td>\n",
       "    </tr>\n",
       "    <tr>\n",
       "      <th>35</th>\n",
       "      <td>0.087508</td>\n",
       "      <td>0.085070</td>\n",
       "      <td>0.085912</td>\n",
       "      <td>0.066792</td>\n",
       "    </tr>\n",
       "    <tr>\n",
       "      <th>36</th>\n",
       "      <td>0.006373</td>\n",
       "      <td>0.007961</td>\n",
       "      <td>0.074982</td>\n",
       "      <td>-0.014179</td>\n",
       "    </tr>\n",
       "    <tr>\n",
       "      <th>37</th>\n",
       "      <td>-0.044071</td>\n",
       "      <td>-0.065935</td>\n",
       "      <td>-0.074967</td>\n",
       "      <td>-0.048474</td>\n",
       "    </tr>\n",
       "    <tr>\n",
       "      <th>38</th>\n",
       "      <td>-0.040879</td>\n",
       "      <td>0.016572</td>\n",
       "      <td>0.072973</td>\n",
       "      <td>-0.022733</td>\n",
       "    </tr>\n",
       "    <tr>\n",
       "      <th>39</th>\n",
       "      <td>0.076202</td>\n",
       "      <td>0.003589</td>\n",
       "      <td>-0.080388</td>\n",
       "      <td>0.023475</td>\n",
       "    </tr>\n",
       "    <tr>\n",
       "      <th>40</th>\n",
       "      <td>0.052126</td>\n",
       "      <td>0.037880</td>\n",
       "      <td>0.017259</td>\n",
       "      <td>0.013587</td>\n",
       "    </tr>\n",
       "    <tr>\n",
       "      <th>41</th>\n",
       "      <td>0.017903</td>\n",
       "      <td>0.039171</td>\n",
       "      <td>-0.003050</td>\n",
       "      <td>0.026122</td>\n",
       "    </tr>\n",
       "    <tr>\n",
       "      <th>42</th>\n",
       "      <td>-0.016273</td>\n",
       "      <td>-0.100669</td>\n",
       "      <td>0.072292</td>\n",
       "      <td>0.087064</td>\n",
       "    </tr>\n",
       "    <tr>\n",
       "      <th>43</th>\n",
       "      <td>-0.046754</td>\n",
       "      <td>-0.050854</td>\n",
       "      <td>-0.085027</td>\n",
       "      <td>-0.062214</td>\n",
       "    </tr>\n",
       "    <tr>\n",
       "      <th>44</th>\n",
       "      <td>-0.133371</td>\n",
       "      <td>-0.085299</td>\n",
       "      <td>-0.147676</td>\n",
       "      <td>0.035021</td>\n",
       "    </tr>\n",
       "    <tr>\n",
       "      <th>45</th>\n",
       "      <td>0.227278</td>\n",
       "      <td>0.112886</td>\n",
       "      <td>0.131885</td>\n",
       "      <td>0.268900</td>\n",
       "    </tr>\n",
       "    <tr>\n",
       "      <th>46</th>\n",
       "      <td>0.099555</td>\n",
       "      <td>0.039966</td>\n",
       "      <td>0.008084</td>\n",
       "      <td>-0.012785</td>\n",
       "    </tr>\n",
       "    <tr>\n",
       "      <th>47</th>\n",
       "      <td>0.008797</td>\n",
       "      <td>-0.002877</td>\n",
       "      <td>-0.033067</td>\n",
       "      <td>0.129567</td>\n",
       "    </tr>\n",
       "    <tr>\n",
       "      <th>48</th>\n",
       "      <td>0.117144</td>\n",
       "      <td>-0.035387</td>\n",
       "      <td>0.017968</td>\n",
       "      <td>0.147114</td>\n",
       "    </tr>\n",
       "    <tr>\n",
       "      <th>49</th>\n",
       "      <td>0.155832</td>\n",
       "      <td>0.093267</td>\n",
       "      <td>0.016142</td>\n",
       "      <td>0.090461</td>\n",
       "    </tr>\n",
       "    <tr>\n",
       "      <th>50</th>\n",
       "      <td>-0.106753</td>\n",
       "      <td>-0.017421</td>\n",
       "      <td>-0.013300</td>\n",
       "      <td>-0.087579</td>\n",
       "    </tr>\n",
       "    <tr>\n",
       "      <th>51</th>\n",
       "      <td>0.004620</td>\n",
       "      <td>-0.001373</td>\n",
       "      <td>-0.082272</td>\n",
       "      <td>-0.035754</td>\n",
       "    </tr>\n",
       "    <tr>\n",
       "      <th>52</th>\n",
       "      <td>0.052678</td>\n",
       "      <td>0.089174</td>\n",
       "      <td>0.122256</td>\n",
       "      <td>0.043440</td>\n",
       "    </tr>\n",
       "    <tr>\n",
       "      <th>53</th>\n",
       "      <td>-0.013756</td>\n",
       "      <td>0.011926</td>\n",
       "      <td>0.019106</td>\n",
       "      <td>0.028058</td>\n",
       "    </tr>\n",
       "    <tr>\n",
       "      <th>54</th>\n",
       "      <td>-0.054291</td>\n",
       "      <td>0.004977</td>\n",
       "      <td>-0.053781</td>\n",
       "      <td>-0.015576</td>\n",
       "    </tr>\n",
       "    <tr>\n",
       "      <th>55</th>\n",
       "      <td>-0.002748</td>\n",
       "      <td>0.004797</td>\n",
       "      <td>0.011831</td>\n",
       "      <td>-0.035328</td>\n",
       "    </tr>\n",
       "    <tr>\n",
       "      <th>56</th>\n",
       "      <td>0.143273</td>\n",
       "      <td>0.100651</td>\n",
       "      <td>0.120491</td>\n",
       "      <td>0.000372</td>\n",
       "    </tr>\n",
       "    <tr>\n",
       "      <th>57</th>\n",
       "      <td>0.103725</td>\n",
       "      <td>0.023147</td>\n",
       "      <td>0.064686</td>\n",
       "      <td>0.120663</td>\n",
       "    </tr>\n",
       "    <tr>\n",
       "      <th>58</th>\n",
       "      <td>0.011228</td>\n",
       "      <td>0.037507</td>\n",
       "      <td>0.024429</td>\n",
       "      <td>-0.070470</td>\n",
       "    </tr>\n",
       "    <tr>\n",
       "      <th>59</th>\n",
       "      <td>0.057737</td>\n",
       "      <td>-0.021720</td>\n",
       "      <td>0.019827</td>\n",
       "      <td>0.067355</td>\n",
       "    </tr>\n",
       "  </tbody>\n",
       "</table>\n",
       "</div>"
      ],
      "text/plain": [
       "    Return_fb  Return_mmm  Return_ibm  Return_amzn\n",
       "1    0.017589    0.011196   -0.002290     0.013640\n",
       "2    0.017047   -0.016793   -0.000189     0.088603\n",
       "3    0.021205   -0.062021   -0.032484    -0.056717\n",
       "4   -0.095962    0.045621    0.065077    -0.049695\n",
       "5   -0.028458    0.039770    0.023240    -0.000933\n",
       "6    0.132725   -0.021000    0.051389     0.098164\n",
       "7    0.040055    0.072895    0.038516     0.026182\n",
       "8    0.048030    0.026724   -0.031587     0.049110\n",
       "9    0.057726    0.023520   -0.079534     0.043371\n",
       "10   0.008053    0.050356   -0.038486     0.075276\n",
       "11  -0.003169    0.018194    0.007862    -0.026764\n",
       "12   0.121009   -0.033719   -0.059546     0.020434\n",
       "13   0.016071    0.021500   -0.000891    -0.007269\n",
       "14  -0.006396    0.027310    0.014333    -0.019631\n",
       "15   0.053784    0.096665    0.061897     0.149717\n",
       "16  -0.015995    0.061586    0.009405     0.064662\n",
       "17  -0.004064   -0.031957   -0.003572    -0.006187\n",
       "18   0.059107    0.064282    0.067006     0.240639\n",
       "19  -0.045856   -0.054297   -0.038703     0.042429\n",
       "20  -0.103914   -0.067895   -0.015401    -0.043049\n",
       "21   0.076413   -0.114477   -0.055204     0.082075\n",
       "22   0.115000    0.021549   -0.014358     0.040539\n",
       "23   0.013244   -0.002586   -0.011393     0.043065\n",
       "24  -0.111877    0.079301    0.037437     0.045676\n",
       "25   0.018252    0.000065    0.021614     0.132365\n",
       "26  -0.064132   -0.000996    0.032291    -0.004824\n",
       "27  -0.077040   -0.097053   -0.236625    -0.202192\n",
       "28  -0.073654    0.100283    0.090295     0.057672\n",
       "29  -0.067705   -0.083590   -0.085298    -0.111350\n",
       "30   0.271569    0.051223    0.182546     0.144317\n",
       "31  -0.031436    0.042555    0.039573    -0.045906\n",
       "32   0.032456    0.001881    0.021501     0.085936\n",
       "33   0.160238   -0.087929   -0.005882     0.081859\n",
       "34  -0.082368   -0.149824   -0.083921    -0.078613\n",
       "35   0.087508    0.085070    0.085912     0.066792\n",
       "36   0.006373    0.007961    0.074982    -0.014179\n",
       "37  -0.044071   -0.065935   -0.074967    -0.048474\n",
       "38  -0.040879    0.016572    0.072973    -0.022733\n",
       "39   0.076202    0.003589   -0.080388     0.023475\n",
       "40   0.052126    0.037880    0.017259     0.013587\n",
       "41   0.017903    0.039171   -0.003050     0.026122\n",
       "42  -0.016273   -0.100669    0.072292     0.087064\n",
       "43  -0.046754   -0.050854   -0.085027    -0.062214\n",
       "44  -0.133371   -0.085299   -0.147676     0.035021\n",
       "45   0.227278    0.112886    0.131885     0.268900\n",
       "46   0.099555    0.039966    0.008084    -0.012785\n",
       "47   0.008797   -0.002877   -0.033067     0.129567\n",
       "48   0.117144   -0.035387    0.017968     0.147114\n",
       "49   0.155832    0.093267    0.016142     0.090461\n",
       "50  -0.106753   -0.017421   -0.013300    -0.087579\n",
       "51   0.004620   -0.001373   -0.082272    -0.035754\n",
       "52   0.052678    0.089174    0.122256     0.043440\n",
       "53  -0.013756    0.011926    0.019106     0.028058\n",
       "54  -0.054291    0.004977   -0.053781    -0.015576\n",
       "55  -0.002748    0.004797    0.011831    -0.035328\n",
       "56   0.143273    0.100651    0.120491     0.000372\n",
       "57   0.103725    0.023147    0.064686     0.120663\n",
       "58   0.011228    0.037507    0.024429    -0.070470\n",
       "59   0.057737   -0.021720    0.019827     0.067355"
      ]
     },
     "execution_count": 23,
     "metadata": {},
     "output_type": "execute_result"
    }
   ],
   "source": [
    "df"
   ]
  },
  {
   "cell_type": "code",
   "execution_count": 24,
   "metadata": {},
   "outputs": [
    {
     "data": {
      "image/png": "[encoded data removed]",
      "text/plain": [
       "<Figure size 720x360 with 16 Axes>"
      ]
     },
     "metadata": {
      "needs_background": "light"
     },
     "output_type": "display_data"
    }
   ],
   "source": [
    "pd.plotting.scatter_matrix(df,figsize=(10,5))\n",
    "plt.show()"
   ]
  },
  {
   "cell_type": "markdown",
   "metadata": {},
   "source": [
    "- Based on above graph:\n",
    "- returns of ibm and mmm are related\n",
    "- returns of fb and amzn are related"
   ]
  },
  {
   "cell_type": "code",
   "execution_count": null,
   "metadata": {},
   "outputs": [],
   "source": []
  }
 ],
 "metadata": {
  "kernelspec": {
   "display_name": "Python 3",
   "language": "python",
   "name": "python3"
  },
  "language_info": {
   "codemirror_mode": {
    "name": "ipython",
    "version": 3
   },
   "file_extension": ".py",
   "mimetype": "text/x-python",
   "name": "python",
   "nbconvert_exporter": "python",
   "pygments_lexer": "ipython3",
   "version": "3.8.5"
  }
 },
 "nbformat": 4,
 "nbformat_minor": 4
}
