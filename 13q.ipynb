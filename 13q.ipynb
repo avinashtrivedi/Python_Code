{
 "cells": [
  {
   "cell_type": "markdown",
   "metadata": {},
   "source": [
    "# 1"
   ]
  },
  {
   "cell_type": "code",
   "execution_count": 1,
   "metadata": {},
   "outputs": [
    {
     "name": "stdout",
     "output_type": "stream",
     "text": [
      "What is your name? Amanda\n",
      "How old are you? 15\n",
      "\n",
      "Hello Amanda! You were born in 2006\n"
     ]
    }
   ],
   "source": [
    "name = input('What is your name? ')\n",
    "age = int(input('How old are you? '))\n",
    "print()\n",
    "print('Hello {}! You were born in {}'.format(name,2021-age))"
   ]
  },
  {
   "cell_type": "markdown",
   "metadata": {},
   "source": [
    "# 2"
   ]
  },
  {
   "cell_type": "code",
   "execution_count": 2,
   "metadata": {},
   "outputs": [
    {
     "name": "stdout",
     "output_type": "stream",
     "text": [
      "n Monday\n",
      "1\n"
     ]
    }
   ],
   "source": [
    "x = input()\n",
    "count=0\n",
    "for i in x[1:]:\n",
    "    if x[0] == i:\n",
    "        count = count + 1\n",
    "print(count)"
   ]
  },
  {
   "cell_type": "code",
   "execution_count": 3,
   "metadata": {},
   "outputs": [
    {
     "name": "stdout",
     "output_type": "stream",
     "text": [
      "z Today is Monday\n",
      "0\n"
     ]
    }
   ],
   "source": [
    "x = input()\n",
    "count=0\n",
    "for i in x[1:]:\n",
    "    if x[0] == i:\n",
    "        count = count + 1\n",
    "print(count)"
   ]
  },
  {
   "cell_type": "markdown",
   "metadata": {},
   "source": [
    "# 3"
   ]
  },
  {
   "cell_type": "code",
   "execution_count": 4,
   "metadata": {},
   "outputs": [
    {
     "name": "stdout",
     "output_type": "stream",
     "text": [
      "firstname middlename lastname: Pat Silly Doe\n",
      "Doe, P.S\n"
     ]
    }
   ],
   "source": [
    "name = input('firstname middlename lastname: ')\n",
    "name = name.split(' ')\n",
    "if len(name)==3:\n",
    "    print(\"{}, {}.{}\".format(name[2],name[0][0],name[1][0]))\n",
    "elif len(name)==2:\n",
    "    print(\"{}, {}.\".format(name[1],name[0][0]))"
   ]
  },
  {
   "cell_type": "code",
   "execution_count": 5,
   "metadata": {},
   "outputs": [
    {
     "name": "stdout",
     "output_type": "stream",
     "text": [
      "firstname middlename lastname: Julia Clark\n",
      "Clark, J.\n"
     ]
    }
   ],
   "source": [
    "name = input('firstname middlename lastname: ')\n",
    "name = name.split(' ')\n",
    "if len(name)==3:\n",
    "    print(\"{}, {}.{}\".format(name[2],name[0][0],name[1][0]))\n",
    "elif len(name)==2:\n",
    "    print(\"{}, {}.\".format(name[1],name[0][0]))"
   ]
  },
  {
   "cell_type": "markdown",
   "metadata": {},
   "source": [
    "# 4"
   ]
  },
  {
   "cell_type": "code",
   "execution_count": 6,
   "metadata": {},
   "outputs": [
    {
     "name": "stdout",
     "output_type": "stream",
     "text": [
      "977-555-3221\n",
      "Area Code: 977\n"
     ]
    }
   ],
   "source": [
    "phone_number = input()\n",
    "number_segments = phone_number.split('-')\n",
    "area_code = number_segments[0]\n",
    "print('Area Code:',area_code)"
   ]
  },
  {
   "cell_type": "markdown",
   "metadata": {},
   "source": [
    "# 5"
   ]
  },
  {
   "cell_type": "code",
   "execution_count": 7,
   "metadata": {},
   "outputs": [
    {
     "name": "stdout",
     "output_type": "stream",
     "text": [
      "Gotta go. I will TTYL.\n",
      "Gotta go. I will talk to you later.\n"
     ]
    }
   ],
   "source": [
    "user_tweet = input()\n",
    "decoded_tweet = user_tweet.replace('TTYL','talk to you later')\n",
    "print(decoded_tweet)"
   ]
  },
  {
   "cell_type": "markdown",
   "metadata": {},
   "source": [
    "# 6"
   ]
  },
  {
   "cell_type": "code",
   "execution_count": 8,
   "metadata": {},
   "outputs": [
    {
     "name": "stdout",
     "output_type": "stream",
     "text": [
      "I was LOL during the whole movie!\n",
      "LOL means laughing out loud.\n"
     ]
    }
   ],
   "source": [
    "user_tweet = input()\n",
    "if 'LOL' in user_tweet:\n",
    "    print('LOL means laughing out loud.')\n",
    "else:\n",
    "    print('No abbreviation.')\n"
   ]
  },
  {
   "cell_type": "markdown",
   "metadata": {},
   "source": [
    "# 7"
   ]
  },
  {
   "cell_type": "code",
   "execution_count": 9,
   "metadata": {},
   "outputs": [
    {
     "name": "stdout",
     "output_type": "stream",
     "text": [
      "4\n",
      "7\n",
      "cow\n"
     ]
    }
   ],
   "source": [
    "start_index = int(input())\n",
    "end_index = int(input())\n",
    "rhyme_lyric = 'The cow jumped over the moon.'\n",
    "sub_lyric = rhyme_lyric[start_index:end_index]\n",
    "print(sub_lyric)"
   ]
  },
  {
   "cell_type": "markdown",
   "metadata": {},
   "source": [
    "# 8"
   ]
  },
  {
   "cell_type": "code",
   "execution_count": 10,
   "metadata": {},
   "outputs": [
    {
     "name": "stdout",
     "output_type": "stream",
     "text": [
      "36.4158102\n",
      "36.4C\n"
     ]
    }
   ],
   "source": [
    "air_temperature = float(input())\n",
    "print(\"{:.1f}C\".format(air_temperature))"
   ]
  },
  {
   "cell_type": "markdown",
   "metadata": {},
   "source": [
    "# 9"
   ]
  },
  {
   "cell_type": "code",
   "execution_count": 11,
   "metadata": {},
   "outputs": [
    {
     "name": "stdout",
     "output_type": "stream",
     "text": [
      "Amy\n",
      "5\n",
      "Amy,5\n"
     ]
    }
   ],
   "source": [
    "user_word = input()\n",
    "user_number = int(input())\n",
    "print(\"{},{}\".format(user_word,user_number))"
   ]
  },
  {
   "cell_type": "markdown",
   "metadata": {},
   "source": [
    "# 10"
   ]
  },
  {
   "cell_type": "code",
   "execution_count": 12,
   "metadata": {},
   "outputs": [
    {
     "name": "stdout",
     "output_type": "stream",
     "text": [
      "3\n",
      "4\n",
      "Number of owls: 7\n"
     ]
    }
   ],
   "source": [
    "total_owls = 0\n",
    "num_owls_A = input()\n",
    "num_owls_B = input()\n",
    "total_owls = int(num_owls_A) + int(num_owls_B)\n",
    "print('Number of owls:',total_owls)"
   ]
  },
  {
   "cell_type": "markdown",
   "metadata": {},
   "source": [
    "# 11"
   ]
  },
  {
   "cell_type": "code",
   "execution_count": 13,
   "metadata": {},
   "outputs": [
    {
     "name": "stdout",
     "output_type": "stream",
     "text": [
      "1\n",
      "2\n",
      "4\n",
      "Average owls per zoo: 2\n"
     ]
    }
   ],
   "source": [
    "avg_owls = 0.0\n",
    "num_owls_zooA = int(input())\n",
    "num_owls_zooB = int(input())\n",
    "num_owls_zooC = int(input())\n",
    "avg_owls = (num_owls_zooA + num_owls_zooB + num_owls_zooC)/3\n",
    "print('Average owls per zoo:',int(avg_owls))"
   ]
  },
  {
   "cell_type": "markdown",
   "metadata": {},
   "source": [
    "# 12"
   ]
  },
  {
   "cell_type": "code",
   "execution_count": 14,
   "metadata": {},
   "outputs": [
    {
     "name": "stdout",
     "output_type": "stream",
     "text": [
      "Rockets\n",
      "Raptors\n",
      "Warriors\n",
      "Celtics\n"
     ]
    }
   ],
   "source": [
    "team_names = ('Rockets','Raptors','Warriors','Celtics')\n",
    "\n",
    "print(team_names[0])\n",
    "print(team_names[1])\n",
    "print(team_names[2])\n",
    "print(team_names[3])"
   ]
  },
  {
   "cell_type": "markdown",
   "metadata": {},
   "source": [
    "# 13"
   ]
  },
  {
   "cell_type": "code",
   "execution_count": 15,
   "metadata": {},
   "outputs": [
    {
     "name": "stdout",
     "output_type": "stream",
     "text": [
      "Houston\n",
      "Texas\n",
      "2014-07-26 02:12:18: Houston Texas\n"
     ]
    }
   ],
   "source": [
    "current_time = '2014-07-26 02:12:18:'\n",
    "my_city = input()\n",
    "my_state = input()\n",
    "log_entry = current_time+' '+ my_city + ' ' + my_state\n",
    "print(log_entry)"
   ]
  },
  {
   "cell_type": "code",
   "execution_count": null,
   "metadata": {},
   "outputs": [],
   "source": []
  }
 ],
 "metadata": {
  "kernelspec": {
   "display_name": "Python 3",
   "language": "python",
   "name": "python3"
  },
  "language_info": {
   "codemirror_mode": {
    "name": "ipython",
    "version": 3
   },
   "file_extension": ".py",
   "mimetype": "text/x-python",
   "name": "python",
   "nbconvert_exporter": "python",
   "pygments_lexer": "ipython3",
   "version": "3.8.5"
  }
 },
 "nbformat": 4,
 "nbformat_minor": 4
}
