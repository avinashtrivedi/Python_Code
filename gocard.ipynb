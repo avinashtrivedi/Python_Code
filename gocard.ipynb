{
 "cells": [
  {
   "cell_type": "code",
   "execution_count": 28,
   "metadata": {},
   "outputs": [],
   "source": [
    "# create a Go Card Account class\n",
    "class GoCard():\n",
    "    \n",
    "    # this function will get called once object of GoCard is created\n",
    "    def __init__(self):\n",
    "        self.bal = input('Creating Account. Input initial balance: ')\n",
    "    def receive_command(self):\n",
    "        while True:\n",
    "            \n",
    "            # try and except block to handle exception \n",
    "            try:\n",
    "                s = input('? ')\n",
    "                # It will split the input using space as separator\n",
    "                # and create a list of string eg.  r 3.50 become ['r','3.50']\n",
    "                s = s.split(' ') \n",
    "                # Now handle different input cases\n",
    "                if len(s)==2 and s[0]=='r':\n",
    "                    self.bal = float(self.bal) - float(s[1])\n",
    "                elif len(s)==2 and s[0]=='t':\n",
    "                    self.bal = float(self.bal) + float(s[1])\n",
    "                elif len(s)==1 and s[0]=='b':\n",
    "                    # \"%.2f\" : used here to print upto two decimal places\n",
    "                    print('Balance =','$'+str(\"%.2f\" % self.bal)) \n",
    "                elif len(s)==1 and s[0]=='q':\n",
    "                    break\n",
    "                else:\n",
    "                    print('Bad command.')\n",
    "            except:\n",
    "                print('Syntax error.')"
   ]
  },
  {
   "cell_type": "code",
   "execution_count": 29,
   "metadata": {},
   "outputs": [
    {
     "name": "stdout",
     "output_type": "stream",
     "text": [
      "Creating Account. Input initial balance: 100\n",
      "? r 3.50\n",
      "? r 10.90\n",
      "? b\n",
      "Balance = $85.60\n",
      "? t 20\n",
      "? x gghhg\n",
      "Bad command.\n",
      "? t\n",
      "Bad command.\n",
      "? q\n"
     ]
    }
   ],
   "source": [
    "obj = GoCard() # create object\n",
    "obj.receive_command() # call receive_command()"
   ]
  },
  {
   "cell_type": "code",
   "execution_count": 30,
   "metadata": {},
   "outputs": [
    {
     "name": "stdout",
     "output_type": "stream",
     "text": [
      "Creating Account. Input initial balance: 100\n",
      "? r 3.50 90.3\n",
      "Bad command.\n",
      "? r 3.50\n",
      "? r 10.90\n",
      "? b\n",
      "Balance = $85.60\n",
      "? t 20\n",
      "? b\n",
      "Balance = $105.60\n",
      "? r 5\n",
      "? b\n",
      "Balance = $100.60\n",
      "? r 0.6\n",
      "? b\n",
      "Balance = $100.00\n",
      "? q\n"
     ]
    }
   ],
   "source": [
    "obj = GoCard()\n",
    "obj.receive_command()"
   ]
  },
  {
   "cell_type": "code",
   "execution_count": null,
   "metadata": {},
   "outputs": [],
   "source": []
  }
 ],
 "metadata": {
  "kernelspec": {
   "display_name": "Python 3",
   "language": "python",
   "name": "python3"
  },
  "language_info": {
   "codemirror_mode": {
    "name": "ipython",
    "version": 3
   },
   "file_extension": ".py",
   "mimetype": "text/x-python",
   "name": "python",
   "nbconvert_exporter": "python",
   "pygments_lexer": "ipython3",
   "version": "3.8.5"
  }
 },
 "nbformat": 4,
 "nbformat_minor": 4
}
