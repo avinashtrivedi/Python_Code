{
 "cells": [
  {
   "cell_type": "code",
   "execution_count": 1,
   "metadata": {},
   "outputs": [
    {
     "name": "stdout",
     "output_type": "stream",
     "text": [
      "0\n",
      "ss heel\n",
      "2\n"
     ]
    }
   ],
   "source": [
    "import string\n",
    "n = int(input())\n",
    "word_dict = {}\n",
    "mistake = 0\n",
    "for i in range(n):\n",
    "    word = input()\n",
    "    word_dict[word]=1\n",
    "string_text = input()\n",
    "string_text = string_text.split(' ')\n",
    "dict_key_lower = [j.lower() for j in list(word_dict)]\n",
    "for i in string_text:\n",
    "    if i not in word_dict:\n",
    "        \n",
    "        if len(set(string.ascii_uppercase).intersection(set(i)))!=1:\n",
    "            mistake = mistake + 1\n",
    "            \n",
    "        elif i.lower() in dict_key_lower:\n",
    "            mistake = mistake + 1\n",
    "print(mistake)"
   ]
  },
  {
   "cell_type": "code",
   "execution_count": null,
   "metadata": {},
   "outputs": [],
   "source": []
  }
 ],
 "metadata": {
  "kernelspec": {
   "display_name": "Python 3",
   "language": "python",
   "name": "python3"
  },
  "language_info": {
   "codemirror_mode": {
    "name": "ipython",
    "version": 3
   },
   "file_extension": ".py",
   "mimetype": "text/x-python",
   "name": "python",
   "nbconvert_exporter": "python",
   "pygments_lexer": "ipython3",
   "version": "3.8.5"
  }
 },
 "nbformat": 4,
 "nbformat_minor": 4
}
