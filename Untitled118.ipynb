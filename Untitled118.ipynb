{
 "cells": [
  {
   "cell_type": "code",
   "execution_count": 1,
   "metadata": {},
   "outputs": [
    {
     "data": {
      "text/plain": [
       "2"
      ]
     },
     "execution_count": 1,
     "metadata": {},
     "output_type": "execute_result"
    }
   ],
   "source": [
    "swift = 'May you live all the days of your life.' \n",
    "\n",
    "# finding the number of 'you' in the above string\n",
    "match = swift.count(\"you\") \n",
    "match"
   ]
  },
  {
   "cell_type": "code",
   "execution_count": 2,
   "metadata": {},
   "outputs": [
    {
     "data": {
      "text/plain": [
       "['May', 'you', 'live', 'all', 'the', 'days', 'of', 'your', 'life.']"
      ]
     },
     "execution_count": 2,
     "metadata": {},
     "output_type": "execute_result"
    }
   ],
   "source": [
    "# splitting the string to get words as a list\n",
    "words = swift.split() \n",
    "words"
   ]
  },
  {
   "cell_type": "code",
   "execution_count": 3,
   "metadata": {},
   "outputs": [
    {
     "name": "stdout",
     "output_type": "stream",
     "text": [
      "3\n"
     ]
    }
   ],
   "source": [
    "# check if position number of a word in a list is same as \n",
    "# the length of a word at that position.\n",
    "# and increase the variable (i.e. match) by 1 for every such cases.\n",
    "\n",
    "for i in range(0, len(words)): \n",
    "    \n",
    "    # it will satisfy only when i=3\n",
    "    # because at index 3 , words list contain 'all'\n",
    "    # whose length is also 3.\n",
    "    \n",
    "    if i == len(words[i]): \n",
    "        match += 1\n",
    "# print match\n",
    "print(match)"
   ]
  },
  {
   "cell_type": "code",
   "execution_count": null,
   "metadata": {},
   "outputs": [],
   "source": []
  }
 ],
 "metadata": {
  "kernelspec": {
   "display_name": "Python 3",
   "language": "python",
   "name": "python3"
  },
  "language_info": {
   "codemirror_mode": {
    "name": "ipython",
    "version": 3
   },
   "file_extension": ".py",
   "mimetype": "text/x-python",
   "name": "python",
   "nbconvert_exporter": "python",
   "pygments_lexer": "ipython3",
   "version": "3.8.5"
  }
 },
 "nbformat": 4,
 "nbformat_minor": 4
}
