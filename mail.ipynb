{
 "cells": [
  {
   "cell_type": "code",
   "execution_count": 60,
   "metadata": {},
   "outputs": [
    {
     "name": "stdout",
     "output_type": "stream",
     "text": [
      "Enter a file name: mailbox-short.txt\n",
      "Monday :  2\n",
      "Tuesday :  2\n",
      "Thursday :  1\n",
      "Friday :  3\n",
      "Saturday :  4\n",
      "Sunday :  3\n"
     ]
    }
   ],
   "source": [
    "fname = input('Enter a file name: ')\n",
    "# try and except : to handle wrong file name/path\n",
    "try:\n",
    "    \n",
    "    # read the dummy file\n",
    "    with open(fname) as file:\n",
    "        data = file.readlines()\n",
    "    # create one list for each line and finally store all list in a list\n",
    "    # hence data_list is list of list\n",
    "    data_list = [i[:-1].split() for i in data]\n",
    "    # full name and short name conversion dictionary Sunday = Sun , Monday = Mon\n",
    "    conversion_dict = {'Monday':'Mon','Tuesday':'Tue','Wednesday':'Wed','Thursday':'Thu',\n",
    "                       'Friday':'Fri','Saturday':'Sat','Sunday':'Sun'}\n",
    "\n",
    "    # dictionary to store day as a key and its count as a value.\n",
    "    count_dict={}\n",
    "    for i in data_list:\n",
    "    #     print(i,i[0],i[2])\n",
    "        if i[0] == 'From':\n",
    "            # if key (day) already exist in dictionary count_dict, then increase its count by 1.\n",
    "            if i[2] in count_dict:\n",
    "                count_dict[i[2]] = count_dict[i[2]] + 1\n",
    "            # if key (day) does not exist in dictionary count_dict, then create a new key with value as 1.\n",
    "            else:\n",
    "                count_dict[i[2]] = 1\n",
    "    # print day and number of messages sent on that day\n",
    "    for i in conversion_dict:\n",
    "        if conversion_dict[i] in count_dict:\n",
    "            print(i,': ',count_dict[conversion_dict[i]])\n",
    "except:\n",
    "    print('No such file or directory:- ',fname)"
   ]
  },
  {
   "cell_type": "code",
   "execution_count": null,
   "metadata": {},
   "outputs": [],
   "source": []
  }
 ],
 "metadata": {
  "kernelspec": {
   "display_name": "Python 3",
   "language": "python",
   "name": "python3"
  },
  "language_info": {
   "codemirror_mode": {
    "name": "ipython",
    "version": 3
   },
   "file_extension": ".py",
   "mimetype": "text/x-python",
   "name": "python",
   "nbconvert_exporter": "python",
   "pygments_lexer": "ipython3",
   "version": "3.8.5"
  }
 },
 "nbformat": 4,
 "nbformat_minor": 4
}
