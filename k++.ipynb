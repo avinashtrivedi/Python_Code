{
 "cells": [
  {
   "cell_type": "code",
   "execution_count": 1,
   "metadata": {},
   "outputs": [],
   "source": [
    "# install this library\n",
    "# because sklearn does not support MANHATTAN distance metric\n",
    "!pip install pyclustering"
   ]
  },
  {
   "cell_type": "code",
   "execution_count": 2,
   "metadata": {},
   "outputs": [],
   "source": [
    "# import the library\n",
    "from pyclustering.cluster.kmeans import kmeans\n",
    "from pyclustering.cluster.center_initializer import kmeans_plusplus_initializer\n",
    "from pyclustering.utils.metric import distance_metric,type_metric\n",
    "import matplotlib.pyplot as plt"
   ]
  },
  {
   "cell_type": "code",
   "execution_count": 3,
   "metadata": {},
   "outputs": [],
   "source": [
    "# store the data\n",
    "data = (2,2), (1,1), (2,2), (1,2), (5,3), (6,3), (2,3), (4,3), (3,4), (6,2)"
   ]
  },
  {
   "cell_type": "code",
   "execution_count": 4,
   "metadata": {},
   "outputs": [],
   "source": [
    "# get data as list of list\n",
    "X = [[i,j] for i,j in data]"
   ]
  },
  {
   "cell_type": "code",
   "execution_count": 5,
   "metadata": {},
   "outputs": [],
   "source": [
    "# get second centers using K-Means++ method.\n",
    "second_centers = kmeans_plusplus_initializer(X, 1).initialize()\n",
    "\n",
    "# combined initial centers\n",
    "initial_centers = [[1,1]] + [second_centers[0].tolist()]"
   ]
  },
  {
   "cell_type": "code",
   "execution_count": 6,
   "metadata": {},
   "outputs": [
    {
     "data": {
      "text/plain": [
       "[[1, 1], [6, 3]]"
      ]
     },
     "execution_count": 6,
     "metadata": {},
     "output_type": "execute_result"
    }
   ],
   "source": [
    "initial_centers"
   ]
  },
  {
   "cell_type": "code",
   "execution_count": 7,
   "metadata": {},
   "outputs": [],
   "source": [
    "# manhattan metric\n",
    "manhattan_metric = distance_metric(type_metric.MANHATTAN)\n",
    "\n",
    "# build kmeans model\n",
    "instanceKm = kmeans(X, initial_centers= initial_centers, metric = manhattan_metric)"
   ]
  },
  {
   "cell_type": "code",
   "execution_count": 8,
   "metadata": {},
   "outputs": [],
   "source": [
    "# Performs cluster analysis \n",
    "instanceKm.process()\n",
    "\n",
    "# get the clusters\n",
    "pyClusters = instanceKm.get_clusters()\n",
    "\n",
    "# get the final center\n",
    "pyCenters = instanceKm.get_centers()"
   ]
  },
  {
   "cell_type": "code",
   "execution_count": 9,
   "metadata": {},
   "outputs": [
    {
     "data": {
      "text/plain": [
       "[[0, 1, 2, 3, 6], [4, 5, 7, 8, 9]]"
      ]
     },
     "execution_count": 9,
     "metadata": {},
     "output_type": "execute_result"
    }
   ],
   "source": [
    "pyClusters"
   ]
  },
  {
   "cell_type": "code",
   "execution_count": 10,
   "metadata": {},
   "outputs": [
    {
     "data": {
      "text/plain": [
       "[[1.6, 2.0], [4.8, 3.0]]"
      ]
     },
     "execution_count": 10,
     "metadata": {},
     "output_type": "execute_result"
    }
   ],
   "source": [
    "pyCenters"
   ]
  },
  {
   "cell_type": "code",
   "execution_count": 11,
   "metadata": {},
   "outputs": [
    {
     "data": {
      "image/png": "[encoded data removed]",
      "text/plain": [
       "<Figure size 432x288 with 1 Axes>"
      ]
     },
     "metadata": {
      "needs_background": "light"
     },
     "output_type": "display_data"
    }
   ],
   "source": [
    "# plot the clusters\n",
    "\n",
    "# initial color\n",
    "clr = 'r'\n",
    "\n",
    "# for each cluster iterate throught the pyClusters\n",
    "for cluster in pyClusters:\n",
    "    for i in cluster:\n",
    "        x = X[i][0]\n",
    "        y = X[i][1]\n",
    "        plt.scatter(x,y,color=clr)\n",
    "    clr='yellow'\n",
    "    \n",
    "# plot center points\n",
    "plt.scatter(pyCenters[0][0],pyCenters[0][1],s=300, marker='*',color='green')\n",
    "plt.scatter(pyCenters[1][0],pyCenters[1][1],s=300, marker='*',color='green')\n",
    "\n",
    "# show the plot\n",
    "plt.show()"
   ]
  }
 ],
 "metadata": {
  "kernelspec": {
   "display_name": "Python 3",
   "language": "python",
   "name": "python3"
  },
  "language_info": {
   "codemirror_mode": {
    "name": "ipython",
    "version": 3
   },
   "file_extension": ".py",
   "mimetype": "text/x-python",
   "name": "python",
   "nbconvert_exporter": "python",
   "pygments_lexer": "ipython3",
   "version": "3.8.5"
  }
 },
 "nbformat": 4,
 "nbformat_minor": 4
}
