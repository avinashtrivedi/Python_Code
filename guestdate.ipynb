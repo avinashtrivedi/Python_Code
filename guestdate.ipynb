{
 "cells": [
  {
   "cell_type": "code",
   "execution_count": 1,
   "metadata": {},
   "outputs": [
    {
     "name": "stdout",
     "output_type": "stream",
     "text": [
      "Enter the number of Guests you want to invite: 5\n",
      "\n",
      "\n",
      "Please enter the name of guest 1: Dan_Evans\n",
      "Please enter the date for his invitation: 02-DEC-2021\n",
      "\n",
      "\n",
      "Please enter the name of guest 2: Theresa_Mcsimmons\n",
      "Please enter the date for his invitation: 10-DEC-2021\n",
      "\n",
      "\n",
      "Please enter the name of guest 3: Michael_Sami\n",
      "Please enter the date for his invitation: 10-DEC-2021\n",
      "\n",
      "\n",
      "Please enter the name of guest 4: David_Roy\n",
      "Please enter the date for his invitation: 11-DEC-2021\n",
      "\n",
      "\n",
      "Please enter the name of guest 5: Matt_Lee\n",
      "Please enter the date for his invitation: 03-DEc-2021\n",
      "\n",
      "\n",
      "Name                \tInvitation_date\tStatus\n",
      "--------------------------------------------------------------\n",
      "Dan_Evans           \t02-DEC-2021    \tDan_Evans goes on a small tag.\n",
      "Theresa_Mcsimmons   \t10-DEC-2021    \tTheresa_Mcsimmons goes on a big tag.\n",
      "Michael_Sami        \t10-DEC-2021    \tMichael_Sami goes on a big tag.\n",
      "David_Roy           \t11-DEC-2021    \tDavid_Roy goes on a small tag.\n",
      "Matt_Lee            \t03-DEc-2021    \tMatt_Lee goes on a small tag.\n"
     ]
    }
   ],
   "source": [
    "n = int(input('Enter the number of Guests you want to invite: '))\n",
    "print('\\n')\n",
    "DinnerGuests = []\n",
    "DinnerDate = []\n",
    "\n",
    "for i in range(n):\n",
    "    guestname = input('Please enter the name of guest {}: '.format(i+1))\n",
    "    invite_date = input('Please enter the date for his invitation: ')\n",
    "    \n",
    "    # store guest name and invitation date\n",
    "    DinnerGuests.append(guestname)\n",
    "    DinnerDate.append(invite_date)\n",
    "    print(\"\\n\")\n",
    "\n",
    "# get the average length of names\n",
    "avg = sum([len(myname) for myname in DinnerGuests])/len(DinnerGuests)\n",
    "\n",
    "print(\"{:<20}\\t{:<15}\\t{}\".format('Name','Invitation_date','Status'))\n",
    "print(\"--------------------------------------------------------------\")\n",
    "for i in range(len(DinnerGuests)):\n",
    "    \n",
    "    # if the length of guest name is more than average length then tag will be big\n",
    "    # else small\n",
    "    status = 'big' if len(DinnerGuests[i])>avg else 'small' \n",
    "    line = DinnerGuests[i] + ' goes on a '+ status +' tag.'\n",
    "    \n",
    "    # print\n",
    "    print(\"{:<20}\\t{:<15}\\t{}\".format(DinnerGuests[i],DinnerDate[i],line))\n"
   ]
  },
  {
   "cell_type": "code",
   "execution_count": null,
   "metadata": {},
   "outputs": [],
   "source": []
  }
 ],
 "metadata": {
  "kernelspec": {
   "display_name": "Python 3",
   "language": "python",
   "name": "python3"
  },
  "language_info": {
   "codemirror_mode": {
    "name": "ipython",
    "version": 3
   },
   "file_extension": ".py",
   "mimetype": "text/x-python",
   "name": "python",
   "nbconvert_exporter": "python",
   "pygments_lexer": "ipython3",
   "version": "3.8.5"
  }
 },
 "nbformat": 4,
 "nbformat_minor": 4
}
