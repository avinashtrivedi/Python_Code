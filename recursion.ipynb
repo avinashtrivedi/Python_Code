{
 "cells": [
  {
   "cell_type": "code",
   "execution_count": 47,
   "metadata": {},
   "outputs": [],
   "source": [
    "def string_join(delimiter,list_of_strings):\n",
    "    # if length of string becomes 0 return empty string\n",
    "    # so as to stop the recursive call\n",
    "    if len(list_of_strings) == 0:\n",
    "        return '' # return a empty string\n",
    "    else:\n",
    "        # add 1st string with delimiter and make a recursive call with remaining strings.\n",
    "        # That's why list_of_strings[1:] is used in recursive call\n",
    "        # Do not add delimiter if length of list is equal to one\n",
    "        # hence (str(delimiter) if len(list_of_strings)>1 else '') condition is added\n",
    "        # \\ : is used to make it multiline statement,othwise it was difficult \n",
    "        # to fit whole expression in a single screenshot\n",
    "        return str(list_of_strings[0]) + \\\n",
    "        (str(delimiter) if len(list_of_strings)>1 else '') + \\\n",
    "        string_join(delimiter,list_of_strings[1:])"
   ]
  },
  {
   "cell_type": "code",
   "execution_count": 48,
   "metadata": {},
   "outputs": [
    {
     "data": {
      "text/plain": [
       "'AB,CD,EF'"
      ]
     },
     "execution_count": 48,
     "metadata": {},
     "output_type": "execute_result"
    }
   ],
   "source": [
    "string_join(',',['AB','CD','EF'])"
   ]
  },
  {
   "cell_type": "code",
   "execution_count": 44,
   "metadata": {},
   "outputs": [
    {
     "data": {
      "text/plain": [
       "'Hello World'"
      ]
     },
     "execution_count": 44,
     "metadata": {},
     "output_type": "execute_result"
    }
   ],
   "source": [
    "string_join(' ',['Hello','World'])"
   ]
  },
  {
   "cell_type": "code",
   "execution_count": 45,
   "metadata": {},
   "outputs": [
    {
     "data": {
      "text/plain": [
       "'This.is.recursive.function'"
      ]
     },
     "execution_count": 45,
     "metadata": {},
     "output_type": "execute_result"
    }
   ],
   "source": [
    "string_join('.',['This','is','recursive','function'])"
   ]
  },
  {
   "cell_type": "code",
   "execution_count": null,
   "metadata": {},
   "outputs": [],
   "source": []
  }
 ],
 "metadata": {
  "kernelspec": {
   "display_name": "Python 3",
   "language": "python",
   "name": "python3"
  },
  "language_info": {
   "codemirror_mode": {
    "name": "ipython",
    "version": 3
   },
   "file_extension": ".py",
   "mimetype": "text/x-python",
   "name": "python",
   "nbconvert_exporter": "python",
   "pygments_lexer": "ipython3",
   "version": "3.8.5"
  }
 },
 "nbformat": 4,
 "nbformat_minor": 4
}
