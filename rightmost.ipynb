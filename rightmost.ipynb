{
 "cells": [
  {
   "cell_type": "code",
   "execution_count": 1,
   "metadata": {},
   "outputs": [],
   "source": [
    "def fewest_characters_rightmost(StringList):\n",
    "    \n",
    "    # return empty string if list is empty\n",
    "    if len(StringList)==0:\n",
    "        return ''\n",
    "    \n",
    "    # compute the length of all the strings\n",
    "    length = [len(i) for i in StringList]\n",
    "    \n",
    "    # minimum length\n",
    "    min_length = min(length)\n",
    "    \n",
    "    # if there is only one string with min_length\n",
    "    if length.count(min_length)==1:\n",
    "        \n",
    "        # get the index of min_length\n",
    "        indx = length.index(min_length)\n",
    "        \n",
    "        # return the corresponding string\n",
    "        return StringList[indx]\n",
    "    \n",
    "    # if more string exists with same min_length\n",
    "    # get the right most string\n",
    "    else:\n",
    "        \n",
    "        # reverse the StringList\n",
    "        # so that for example ['a','b','c'] becomes ['c','b','a']\n",
    "        reversed_StringList = StringList[::-1]\n",
    "        \n",
    "        # similarly reverse the list containing their length\n",
    "        reversed_StrinList_len = length[::-1]\n",
    "        \n",
    "        # get the index where min_length is present\n",
    "        indx = reversed_StrinList_len.index(min_length)\n",
    "        \n",
    "        # return the corresponding string\n",
    "        return reversed_StringList[indx]"
   ]
  },
  {
   "cell_type": "code",
   "execution_count": 2,
   "metadata": {},
   "outputs": [
    {
     "data": {
      "text/plain": [
       "'Utah'"
      ]
     },
     "execution_count": 2,
     "metadata": {},
     "output_type": "execute_result"
    }
   ],
   "source": [
    " fewest_characters_rightmost([\"Arizona\", \"California\", \"Texas\", \"Utah\"])  "
   ]
  },
  {
   "cell_type": "code",
   "execution_count": 3,
   "metadata": {},
   "outputs": [
    {
     "data": {
      "text/plain": [
       "'Taro'"
      ]
     },
     "execution_count": 3,
     "metadata": {},
     "output_type": "execute_result"
    }
   ],
   "source": [
    "fewest_characters_rightmost([\"Pear\", \"Apples\", \"Oranges\",\"Taro\"]) "
   ]
  },
  {
   "cell_type": "code",
   "execution_count": 4,
   "metadata": {},
   "outputs": [
    {
     "data": {
      "text/plain": [
       "''"
      ]
     },
     "execution_count": 4,
     "metadata": {},
     "output_type": "execute_result"
    }
   ],
   "source": [
    "fewest_characters_rightmost([]) "
   ]
  },
  {
   "cell_type": "code",
   "execution_count": 5,
   "metadata": {},
   "outputs": [
    {
     "data": {
      "text/plain": [
       "'Taro'"
      ]
     },
     "execution_count": 5,
     "metadata": {},
     "output_type": "execute_result"
    }
   ],
   "source": [
    "fewest_characters_rightmost([\"Pear\", \"Apples\", \"Oranges\",\"Taro\",\"ABCDE\"]) "
   ]
  },
  {
   "cell_type": "code",
   "execution_count": null,
   "metadata": {},
   "outputs": [],
   "source": []
  }
 ],
 "metadata": {
  "kernelspec": {
   "display_name": "Python 3",
   "language": "python",
   "name": "python3"
  },
  "language_info": {
   "codemirror_mode": {
    "name": "ipython",
    "version": 3
   },
   "file_extension": ".py",
   "mimetype": "text/x-python",
   "name": "python",
   "nbconvert_exporter": "python",
   "pygments_lexer": "ipython3",
   "version": "3.8.5"
  }
 },
 "nbformat": 4,
 "nbformat_minor": 4
}
