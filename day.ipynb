{
 "cells": [
  {
   "cell_type": "markdown",
   "metadata": {},
   "source": [
    "# 1"
   ]
  },
  {
   "cell_type": "code",
   "execution_count": 1,
   "metadata": {},
   "outputs": [
    {
     "data": {
      "text/plain": [
       "['January',\n",
       " 'February',\n",
       " 'March',\n",
       " 'April',\n",
       " 'May',\n",
       " 'June',\n",
       " 'July',\n",
       " 'August',\n",
       " 'September',\n",
       " 'October',\n",
       " 'November',\n",
       " 'December']"
      ]
     },
     "execution_count": 1,
     "metadata": {},
     "output_type": "execute_result"
    }
   ],
   "source": [
    "# import calendar library\n",
    "import calendar \n",
    "# consider all elements from 1st index\n",
    "months = calendar.month_name[1:]\n",
    "months"
   ]
  },
  {
   "cell_type": "markdown",
   "metadata": {},
   "source": [
    "# 2"
   ]
  },
  {
   "cell_type": "code",
   "execution_count": 2,
   "metadata": {},
   "outputs": [
    {
     "name": "stdout",
     "output_type": "stream",
     "text": [
      "Month 1 is January\n",
      "Month 2 is February\n",
      "Month 3 is March\n",
      "Month 4 is April\n",
      "Month 5 is May\n",
      "Month 6 is June\n",
      "Month 7 is July\n",
      "Month 8 is August\n",
      "Month 9 is September\n",
      "Month 10 is October\n",
      "Month 11 is November\n",
      "Month 12 is December\n"
     ]
    }
   ],
   "source": [
    "# print Month number and name\n",
    "for i in range(len(months)):\n",
    "    print('Month',i+1,'is',months[i])"
   ]
  },
  {
   "cell_type": "markdown",
   "metadata": {},
   "source": [
    "# Modify the above code to print greetings"
   ]
  },
  {
   "cell_type": "code",
   "execution_count": 3,
   "metadata": {},
   "outputs": [],
   "source": [
    "# store greetings\n",
    "greetings = [',...Happy New Year!',',...Happy Valentine!','','','','',\n",
    "             ',...Happy Fourth of July!','','',',...Happy Halloween!',\n",
    "            ',...Happy Thanksgiving!',',...Merry Christmas!']"
   ]
  },
  {
   "cell_type": "code",
   "execution_count": 4,
   "metadata": {},
   "outputs": [
    {
     "name": "stdout",
     "output_type": "stream",
     "text": [
      "Month 1 is January,...Happy New Year!\n",
      "Month 2 is February,...Happy Valentine!\n",
      "Month 3 is March\n",
      "Month 4 is April\n",
      "Month 5 is May\n",
      "Month 6 is June\n",
      "Month 7 is July,...Happy Fourth of July!\n",
      "Month 8 is August\n",
      "Month 9 is September\n",
      "Month 10 is October,...Happy Halloween!\n",
      "Month 11 is November,...Happy Thanksgiving!\n",
      "Month 12 is December,...Merry Christmas!\n"
     ]
    }
   ],
   "source": [
    "# print Month number ,name and respective greeting from greetings list\n",
    "for i in range(len(months)):\n",
    "    print('Month',i+1,'is',months[i]+greetings[i])"
   ]
  },
  {
   "cell_type": "code",
   "execution_count": null,
   "metadata": {},
   "outputs": [],
   "source": []
  }
 ],
 "metadata": {
  "kernelspec": {
   "display_name": "Python 3",
   "language": "python",
   "name": "python3"
  },
  "language_info": {
   "codemirror_mode": {
    "name": "ipython",
    "version": 3
   },
   "file_extension": ".py",
   "mimetype": "text/x-python",
   "name": "python",
   "nbconvert_exporter": "python",
   "pygments_lexer": "ipython3",
   "version": "3.8.5"
  }
 },
 "nbformat": 4,
 "nbformat_minor": 4
}
