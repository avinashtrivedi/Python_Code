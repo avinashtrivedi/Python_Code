{
 "cells": [
  {
   "cell_type": "markdown",
   "metadata": {},
   "source": [
    "# 1"
   ]
  },
  {
   "cell_type": "code",
   "execution_count": 56,
   "metadata": {},
   "outputs": [],
   "source": [
    "# defining a Pizza class\n",
    "class Pizza:\n",
    "  \n",
    "    # Constructor of Pizza class to initialise size and toppings\n",
    "    # initial value of size is M and topping is empty set\n",
    "    def __init__(self, sz='M', top=set()):\n",
    "        self.size = sz\n",
    "        self.toppings = set(top)\n",
    "\n",
    "    # class method to set the pizza size\n",
    "    def setSize(self,sz):\n",
    "        self.size = sz\n",
    "\n",
    "    # class method to get the pizza size\n",
    "    def getSize(self):\n",
    "        return self.size\n",
    "\n",
    "    #class method to add topping\n",
    "    def addTopping(self,top):\n",
    "        self.toppings.add(top) # add : is a set function to add element in set\n",
    "\n",
    "    #class method to remove topping\n",
    "    def removeTopping(self,top):\n",
    "        self.toppings.remove(top) # remove: is a set function to remove element from set\n",
    "\n",
    "    # calculate the price of pizza\n",
    "    def price(self):\n",
    "        \n",
    "        # initialize variables\n",
    "        Price_Total = 0\n",
    "\n",
    "       # find number of toppings\n",
    "        No_of_Topping = len(self.toppings)\n",
    "\n",
    "       # price of small pizza\n",
    "        if self.size == 'S':\n",
    "            Price_Total = 6.25 + 0.70 * No_of_Topping\n",
    "            return Price_Total\n",
    "       # price of medium pizza\n",
    "        elif self.size == 'M':   \n",
    "            Price_Total = 9.95 + 1.45 * No_of_Topping\n",
    "            return Price_Total\n",
    "        # price of large pizza\n",
    "        elif self.size== 'L':\n",
    "            Price_Total = 12.95 + 1.85 * No_of_Topping\n",
    "            return Price_Total\n",
    "\n",
    "    # print the pizza configuration\n",
    "    def __repr__(self):\n",
    "        return \"Pizza('\" + self.size + \"',\" + str(self.toppings) + \")\"\n",
    "\n",
    "    # compare two pizza object\n",
    "    def __eq__(pizza1, pizza2):\n",
    "        if (pizza1.size == pizza2.size) and (pizza1.toppings == pizza2.toppings):\n",
    "            return True\n",
    "        else:\n",
    "            return False"
   ]
  },
  {
   "cell_type": "markdown",
   "metadata": {},
   "source": [
    "# Testing"
   ]
  },
  {
   "cell_type": "code",
   "execution_count": 57,
   "metadata": {},
   "outputs": [],
   "source": [
    "pie = Pizza()"
   ]
  },
  {
   "cell_type": "code",
   "execution_count": 58,
   "metadata": {},
   "outputs": [
    {
     "data": {
      "text/plain": [
       "Pizza('M',set())"
      ]
     },
     "execution_count": 58,
     "metadata": {},
     "output_type": "execute_result"
    }
   ],
   "source": [
    "pie"
   ]
  },
  {
   "cell_type": "code",
   "execution_count": 59,
   "metadata": {},
   "outputs": [],
   "source": [
    "pie.setSize('L')"
   ]
  },
  {
   "cell_type": "code",
   "execution_count": 60,
   "metadata": {},
   "outputs": [
    {
     "data": {
      "text/plain": [
       "'L'"
      ]
     },
     "execution_count": 60,
     "metadata": {},
     "output_type": "execute_result"
    }
   ],
   "source": [
    "pie.getSize()"
   ]
  },
  {
   "cell_type": "code",
   "execution_count": 61,
   "metadata": {},
   "outputs": [
    {
     "data": {
      "text/plain": [
       "Pizza('L',{'pepperoni'})"
      ]
     },
     "execution_count": 61,
     "metadata": {},
     "output_type": "execute_result"
    }
   ],
   "source": [
    "pie.addTopping('pepperoni')\n",
    "pie"
   ]
  },
  {
   "cell_type": "code",
   "execution_count": 62,
   "metadata": {},
   "outputs": [],
   "source": [
    "pie.addTopping('anchovies')\n",
    "pie.addTopping('mushrooms')"
   ]
  },
  {
   "cell_type": "code",
   "execution_count": 63,
   "metadata": {},
   "outputs": [
    {
     "data": {
      "text/plain": [
       "True"
      ]
     },
     "execution_count": 63,
     "metadata": {},
     "output_type": "execute_result"
    }
   ],
   "source": [
    "pie==Pizza('L',{'anchovies', 'mushrooms', 'pepperoni'})"
   ]
  },
  {
   "cell_type": "code",
   "execution_count": 64,
   "metadata": {},
   "outputs": [],
   "source": [
    "pie.addTopping('pepperoni')"
   ]
  },
  {
   "cell_type": "code",
   "execution_count": 65,
   "metadata": {},
   "outputs": [
    {
     "data": {
      "text/plain": [
       "True"
      ]
     },
     "execution_count": 65,
     "metadata": {},
     "output_type": "execute_result"
    }
   ],
   "source": [
    "pie==Pizza('L',{'anchovies', 'mushrooms', 'pepperoni'})"
   ]
  },
  {
   "cell_type": "code",
   "execution_count": 66,
   "metadata": {},
   "outputs": [],
   "source": [
    "pie.removeTopping('anchovies')"
   ]
  },
  {
   "cell_type": "code",
   "execution_count": 67,
   "metadata": {},
   "outputs": [
    {
     "data": {
      "text/plain": [
       "True"
      ]
     },
     "execution_count": 67,
     "metadata": {},
     "output_type": "execute_result"
    }
   ],
   "source": [
    "pie==Pizza('L',{'mushrooms', 'pepperoni'})"
   ]
  },
  {
   "cell_type": "code",
   "execution_count": 68,
   "metadata": {},
   "outputs": [
    {
     "data": {
      "text/plain": [
       "16.65"
      ]
     },
     "execution_count": 68,
     "metadata": {},
     "output_type": "execute_result"
    }
   ],
   "source": [
    "pie.price()"
   ]
  },
  {
   "cell_type": "code",
   "execution_count": 69,
   "metadata": {},
   "outputs": [],
   "source": [
    "p = Pizza()"
   ]
  },
  {
   "cell_type": "code",
   "execution_count": 70,
   "metadata": {},
   "outputs": [],
   "source": [
    "p2 = Pizza()"
   ]
  },
  {
   "cell_type": "code",
   "execution_count": 71,
   "metadata": {},
   "outputs": [],
   "source": [
    "p.addTopping('mushroom')"
   ]
  },
  {
   "cell_type": "code",
   "execution_count": 72,
   "metadata": {},
   "outputs": [],
   "source": [
    "p2.addTopping('onion')"
   ]
  },
  {
   "cell_type": "code",
   "execution_count": 73,
   "metadata": {},
   "outputs": [],
   "source": [
    "p.addTopping('mushroom')"
   ]
  },
  {
   "cell_type": "code",
   "execution_count": 74,
   "metadata": {},
   "outputs": [
    {
     "data": {
      "text/plain": [
       "Pizza('M',{'mushroom'})"
      ]
     },
     "execution_count": 74,
     "metadata": {},
     "output_type": "execute_result"
    }
   ],
   "source": [
    "p"
   ]
  },
  {
   "cell_type": "code",
   "execution_count": 75,
   "metadata": {},
   "outputs": [
    {
     "data": {
      "text/plain": [
       "Pizza('M',{'onion'})"
      ]
     },
     "execution_count": 75,
     "metadata": {},
     "output_type": "execute_result"
    }
   ],
   "source": [
    "p2"
   ]
  },
  {
   "cell_type": "code",
   "execution_count": 76,
   "metadata": {},
   "outputs": [
    {
     "data": {
      "text/plain": [
       "False"
      ]
     },
     "execution_count": 76,
     "metadata": {},
     "output_type": "execute_result"
    }
   ],
   "source": [
    "p==p2"
   ]
  },
  {
   "cell_type": "markdown",
   "metadata": {},
   "source": [
    "# 2"
   ]
  },
  {
   "cell_type": "code",
   "execution_count": 77,
   "metadata": {},
   "outputs": [],
   "source": [
    "# define a function to order a pizza\n",
    "def orderPizza():\n",
    "    print('Welcome to Python Pizza!')\n",
    "    size = input('What size pizza would you like (S,M,L): ')\n",
    "    toppings = set() # empty set\n",
    "    # loop to add toppings\n",
    "    while True:\n",
    "        top = input('Type topping to add (or Enter to quit): ')\n",
    "        if top=='':  # if top is empty,exit from while loop\n",
    "            break\n",
    "        else: # else add top into toppings\n",
    "            toppings.add(top)\n",
    "    MyPizza = Pizza(size,toppings)\n",
    "    print('Thanks for ordering!')\n",
    "    print('Your pizza costs $'+str(MyPizza.price()))\n",
    "    return MyPizza # return pizza configuration.\n"
   ]
  },
  {
   "cell_type": "markdown",
   "metadata": {},
   "source": [
    "# Testing"
   ]
  },
  {
   "cell_type": "code",
   "execution_count": 78,
   "metadata": {},
   "outputs": [
    {
     "name": "stdout",
     "output_type": "stream",
     "text": [
      "Welcome to Python Pizza!\n",
      "What size pizza would you like (S,M,L): M\n",
      "Type topping to add (or Enter to quit): garlic\n",
      "Type topping to add (or Enter to quit): onion\n",
      "Type topping to add (or Enter to quit): mushroom\n",
      "Type topping to add (or Enter to quit): \n",
      "Thanks for ordering!\n",
      "Your pizza costs $14.299999999999999\n"
     ]
    },
    {
     "data": {
      "text/plain": [
       "True"
      ]
     },
     "execution_count": 78,
     "metadata": {},
     "output_type": "execute_result"
    }
   ],
   "source": [
    "orderPizza() == Pizza('M',{'garlic', 'onion', 'mushroom'})"
   ]
  },
  {
   "cell_type": "code",
   "execution_count": 79,
   "metadata": {},
   "outputs": [
    {
     "name": "stdout",
     "output_type": "stream",
     "text": [
      "Welcome to Python Pizza!\n",
      "What size pizza would you like (S,M,L): L\n",
      "Type topping to add (or Enter to quit): calamari\n",
      "Type topping to add (or Enter to quit): garlic\n",
      "Type topping to add (or Enter to quit): \n",
      "Thanks for ordering!\n",
      "Your pizza costs $16.65\n"
     ]
    },
    {
     "data": {
      "text/plain": [
       "True"
      ]
     },
     "execution_count": 79,
     "metadata": {},
     "output_type": "execute_result"
    }
   ],
   "source": [
    "orderPizza() == Pizza('L',{'calamari', 'garlic'})"
   ]
  },
  {
   "cell_type": "code",
   "execution_count": 80,
   "metadata": {},
   "outputs": [
    {
     "name": "stdout",
     "output_type": "stream",
     "text": [
      "Welcome to Python Pizza!\n",
      "What size pizza would you like (S,M,L): S\n",
      "Type topping to add (or Enter to quit): \n",
      "Thanks for ordering!\n",
      "Your pizza costs $6.25\n"
     ]
    },
    {
     "data": {
      "text/plain": [
       "True"
      ]
     },
     "execution_count": 80,
     "metadata": {},
     "output_type": "execute_result"
    }
   ],
   "source": [
    "orderPizza() == Pizza('S',set())"
   ]
  },
  {
   "cell_type": "code",
   "execution_count": null,
   "metadata": {},
   "outputs": [],
   "source": []
  }
 ],
 "metadata": {
  "kernelspec": {
   "display_name": "Python 3",
   "language": "python",
   "name": "python3"
  },
  "language_info": {
   "codemirror_mode": {
    "name": "ipython",
    "version": 3
   },
   "file_extension": ".py",
   "mimetype": "text/x-python",
   "name": "python",
   "nbconvert_exporter": "python",
   "pygments_lexer": "ipython3",
   "version": "3.8.5"
  }
 },
 "nbformat": 4,
 "nbformat_minor": 4
}
