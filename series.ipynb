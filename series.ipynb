{
 "cells": [
  {
   "cell_type": "code",
   "execution_count": 2,
   "metadata": {},
   "outputs": [],
   "source": [
    "import numpy as np\n",
    "import pandas as pd"
   ]
  },
  {
   "cell_type": "code",
   "execution_count": 3,
   "metadata": {},
   "outputs": [
    {
     "name": "stderr",
     "output_type": "stream",
     "text": [
      "<ipython-input-3-fa15c544da3b>:1: DeprecationWarning: The default dtype for empty Series will be 'object' instead of 'float64' in a future version. Specify a dtype explicitly to silence this warning.\n",
      "  pd.Series()\n"
     ]
    },
    {
     "data": {
      "text/plain": [
       "Series([], dtype: float64)"
      ]
     },
     "execution_count": 3,
     "metadata": {},
     "output_type": "execute_result"
    }
   ],
   "source": [
    "pd.Series()"
   ]
  },
  {
   "cell_type": "code",
   "execution_count": 4,
   "metadata": {},
   "outputs": [
    {
     "data": {
      "text/plain": [
       "PeriodIndex(['2017-01', '2017-02', '2017-03', '2017-04', '2017-05', '2017-06',\n",
       "             '2017-07', '2017-08', '2017-09', '2017-10', '2017-11', '2017-12',\n",
       "             '2018-01'],\n",
       "            dtype='period[M]', freq='M')"
      ]
     },
     "execution_count": 4,
     "metadata": {},
     "output_type": "execute_result"
    }
   ],
   "source": [
    "pd.period_range(start='2017-01-01', end='2018-01-01', freq='M')"
   ]
  },
  {
   "cell_type": "code",
   "execution_count": 5,
   "metadata": {},
   "outputs": [
    {
     "data": {
      "text/plain": [
       "Period('2021-01', 'M')"
      ]
     },
     "execution_count": 5,
     "metadata": {},
     "output_type": "execute_result"
    }
   ],
   "source": [
    "pd.Period('2021-01')"
   ]
  },
  {
   "cell_type": "markdown",
   "metadata": {},
   "source": [
    "# Q.5"
   ]
  },
  {
   "cell_type": "code",
   "execution_count": 28,
   "metadata": {},
   "outputs": [],
   "source": [
    "#Import necessary library for creating series\n",
    "import pandas as pd"
   ]
  },
  {
   "cell_type": "code",
   "execution_count": 29,
   "metadata": {},
   "outputs": [],
   "source": [
    "# index as a list of periods\n",
    "index = [pd.Period('2021-01'),\n",
    "         pd.Period('2021-03'),\n",
    "         pd.Period('2021-05'),\n",
    "         pd.Period('2021-07'),\n",
    "         pd.Period('2021-09'),\n",
    "         pd.Period('2021-11')\n",
    "        ]"
   ]
  },
  {
   "cell_type": "code",
   "execution_count": 30,
   "metadata": {},
   "outputs": [
    {
     "name": "stdout",
     "output_type": "stream",
     "text": [
      "2021-01    25\n",
      "2021-03    37\n",
      "2021-05    19\n",
      "2021-07    41\n",
      "2021-09    32\n",
      "2021-11    35\n",
      "Freq: M, dtype: int64\n"
     ]
    }
   ],
   "source": [
    "# storing the data in list\n",
    "data = [25,37,19,41,32,35]\n",
    "\n",
    "# creating the Series\n",
    "time_s = pd.Series(data,index)\n",
    "print(time_s)"
   ]
  },
  {
   "cell_type": "markdown",
   "metadata": {},
   "source": [
    "# Q.6"
   ]
  },
  {
   "cell_type": "code",
   "execution_count": 31,
   "metadata": {},
   "outputs": [],
   "source": [
    "# New index\n",
    "new_index = pd.period_range(start='2021-01-01', end='2021-12-01', freq='M')"
   ]
  },
  {
   "cell_type": "code",
   "execution_count": 32,
   "metadata": {
    "scrolled": true
   },
   "outputs": [
    {
     "data": {
      "text/plain": [
       "2021-01    25\n",
       "2021-02    25\n",
       "2021-03    37\n",
       "2021-04    37\n",
       "2021-05    19\n",
       "2021-06    19\n",
       "2021-07    41\n",
       "2021-08    41\n",
       "2021-09    32\n",
       "2021-10    32\n",
       "2021-11    35\n",
       "2021-12    35\n",
       "Freq: M, dtype: int64"
      ]
     },
     "execution_count": 32,
     "metadata": {},
     "output_type": "execute_result"
    }
   ],
   "source": [
    "# Reindexing the series\n",
    "# to fill the empty gap creatd by reindexing use method='pad': it will fill Propagate the last valid value \n",
    "time_s.reindex(new_index,method='pad')"
   ]
  },
  {
   "cell_type": "code",
   "execution_count": null,
   "metadata": {},
   "outputs": [],
   "source": []
  },
  {
   "cell_type": "code",
   "execution_count": 42,
   "metadata": {},
   "outputs": [
    {
     "name": "stdout",
     "output_type": "stream",
     "text": [
      "Enter CurseID: BFF1103\n",
      "Enter Course Credit Hours: 3\n",
      "Enter Course Grade: 3.4\n",
      "Want to add More course Y/N: Y\n",
      "Enter CurseID: BFF203\n",
      "Enter Course Credit Hours: 3\n",
      "Enter Course Grade: 4.00\n",
      "Want to add More course Y/N: Y\n",
      "Enter CurseID: BFF2411\n",
      "Enter Course Credit Hours: 1\n",
      "Enter Course Grade: 2.5\n",
      "Want to add More course Y/N: N\n",
      "   CurseID  Course Grade  Course Credit Hours\n",
      "0  BFF1103           3.4                    3\n",
      "1   BFF203           4.0                    3\n",
      "2  BFF2411           2.5                    1\n",
      "CGPA:  24.7\n"
     ]
    }
   ],
   "source": [
    "import pandas as pd\n",
    "resp='Y'\n",
    "CID=[] # store courseid\n",
    "CCH =[] # store Course Credit Hours\n",
    "CG=[] #  Course Grade\n",
    "while resp=='Y':\n",
    "    CID.append(input('Enter CurseID: '))\n",
    "    CCH.append(int(input('Enter Course Credit Hours: ')))\n",
    "    CG.append(float(input('Enter Course Grade: ')))\n",
    "    resp = input('Want to add More course Y/N: ')\n",
    "df = pd.DataFrame() # to store all the values in table format\n",
    "df['CurseID'] = CID # creating CurseID column in table\n",
    "df['Course Grade'] = CG #creating Course Grade column in table\n",
    "df['Course Credit Hours']=CCH # creating Course Credit Hours column in table\n",
    "CGPA = sum(df['Course Grade'] * df['Course Credit Hours']) # finding cgpa\n",
    "print(df)\n",
    "print('CGPA: ',CGPA)"
   ]
  },
  {
   "cell_type": "code",
   "execution_count": 37,
   "metadata": {},
   "outputs": [
    {
     "data": {
      "text/html": [
       "<div>\n",
       "<style scoped>\n",
       "    .dataframe tbody tr th:only-of-type {\n",
       "        vertical-align: middle;\n",
       "    }\n",
       "\n",
       "    .dataframe tbody tr th {\n",
       "        vertical-align: top;\n",
       "    }\n",
       "\n",
       "    .dataframe thead th {\n",
       "        text-align: right;\n",
       "    }\n",
       "</style>\n",
       "<table border=\"1\" class=\"dataframe\">\n",
       "  <thead>\n",
       "    <tr style=\"text-align: right;\">\n",
       "      <th></th>\n",
       "      <th>CurseID</th>\n",
       "      <th>Course Grade</th>\n",
       "      <th>Course Credit Hours</th>\n",
       "    </tr>\n",
       "  </thead>\n",
       "  <tbody>\n",
       "    <tr>\n",
       "      <th>0</th>\n",
       "      <td>dd</td>\n",
       "      <td>4</td>\n",
       "      <td>3</td>\n",
       "    </tr>\n",
       "    <tr>\n",
       "      <th>1</th>\n",
       "      <td>gg</td>\n",
       "      <td>3</td>\n",
       "      <td>4</td>\n",
       "    </tr>\n",
       "  </tbody>\n",
       "</table>\n",
       "</div>"
      ],
      "text/plain": [
       "  CurseID Course Grade Course Credit Hours\n",
       "0      dd            4                   3\n",
       "1      gg            3                   4"
      ]
     },
     "execution_count": 37,
     "metadata": {},
     "output_type": "execute_result"
    }
   ],
   "source": [
    "df"
   ]
  },
  {
   "cell_type": "code",
   "execution_count": null,
   "metadata": {},
   "outputs": [],
   "source": []
  }
 ],
 "metadata": {
  "kernelspec": {
   "display_name": "Python 3",
   "language": "python",
   "name": "python3"
  },
  "language_info": {
   "codemirror_mode": {
    "name": "ipython",
    "version": 3
   },
   "file_extension": ".py",
   "mimetype": "text/x-python",
   "name": "python",
   "nbconvert_exporter": "python",
   "pygments_lexer": "ipython3",
   "version": "3.8.5"
  }
 },
 "nbformat": 4,
 "nbformat_minor": 4
}
