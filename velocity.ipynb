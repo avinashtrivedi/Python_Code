{
 "cells": [
  {
   "cell_type": "code",
   "execution_count": 1,
   "metadata": {},
   "outputs": [],
   "source": [
    "# import library\n",
    "import numpy as np\n",
    "\n",
    "# define function to compute X_max\n",
    "def myfunc(initial_velocity,angle):\n",
    "    \n",
    "    v = initial_velocity\n",
    "    # y = v*(np.sin(angle))*t - (1/2)*g*t*t \n",
    "    # and y=0\n",
    "    # hence quadratic equation is:  v*(np.sin(angle))*t - (1/2)*g*t*t  = 0\n",
    "    \n",
    "    # define coefficients \n",
    "    g = 9.8\n",
    "    a = -(1/2)*g\n",
    "    b = v*(np.sin(angle))\n",
    "    c = 0\n",
    "    \n",
    "    coeff = [a,b,c]\n",
    "    \n",
    "    # compute the roots\n",
    "    roots = np.roots(coeff)\n",
    "    \n",
    "    non_zero_root = roots[0]\n",
    "    \n",
    "    # compute x_max\n",
    "    X_max = v*np.cos(angle)*non_zero_root\n",
    "    return X_max"
   ]
  },
  {
   "cell_type": "code",
   "execution_count": 2,
   "metadata": {},
   "outputs": [
    {
     "data": {
      "text/plain": [
       "0.3534797566467096"
      ]
     },
     "execution_count": 2,
     "metadata": {},
     "output_type": "execute_result"
    }
   ],
   "source": [
    "ans1_1 = myfunc(2,np.pi/6)\n",
    "ans1_1"
   ]
  },
  {
   "cell_type": "markdown",
   "metadata": {},
   "source": [
    "# anonymous  function is defined without a name"
   ]
  },
  {
   "cell_type": "code",
   "execution_count": 3,
   "metadata": {},
   "outputs": [],
   "source": [
    "# import library\n",
    "import numpy as np"
   ]
  },
  {
   "cell_type": "code",
   "execution_count": 4,
   "metadata": {},
   "outputs": [],
   "source": [
    "# anonymous function is defined using lambda keyword\n",
    "# this single line will do the same things as done by above myfunc()\n",
    "\n",
    "anonymous_fn = lambda v,angle : v*np.cos(angle)*np.roots([-(1/2)*9.8, v*(np.sin(angle)), 0])[0]"
   ]
  },
  {
   "cell_type": "code",
   "execution_count": 5,
   "metadata": {},
   "outputs": [
    {
     "data": {
      "text/plain": [
       "0.3534797566467096"
      ]
     },
     "execution_count": 5,
     "metadata": {},
     "output_type": "execute_result"
    }
   ],
   "source": [
    "ans1_1 = anonymous_fn(2,np.pi/6)\n",
    "ans1_1"
   ]
  },
  {
   "cell_type": "code",
   "execution_count": 6,
   "metadata": {},
   "outputs": [
    {
     "data": {
      "text/plain": [
       "0.353"
      ]
     },
     "execution_count": 6,
     "metadata": {},
     "output_type": "execute_result"
    }
   ],
   "source": [
    "round(ans1_1,3) # round to 3 decimal places."
   ]
  },
  {
   "cell_type": "code",
   "execution_count": null,
   "metadata": {},
   "outputs": [],
   "source": []
  }
 ],
 "metadata": {
  "kernelspec": {
   "display_name": "Python 3",
   "language": "python",
   "name": "python3"
  },
  "language_info": {
   "codemirror_mode": {
    "name": "ipython",
    "version": 3
   },
   "file_extension": ".py",
   "mimetype": "text/x-python",
   "name": "python",
   "nbconvert_exporter": "python",
   "pygments_lexer": "ipython3",
   "version": "3.8.5"
  }
 },
 "nbformat": 4,
 "nbformat_minor": 4
}
