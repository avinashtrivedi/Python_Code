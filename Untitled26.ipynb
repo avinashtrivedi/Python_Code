{
 "cells": [
  {
   "cell_type": "code",
   "execution_count": 1,
   "metadata": {},
   "outputs": [],
   "source": [
    "def jaccard_similarity(list1, list2):\n",
    "    intersection = len(list(set(list1).intersection(list2)))\n",
    "    union = (len(list1) + len(list2)) - intersection\n",
    "    return float(intersection) / union"
   ]
  },
  {
   "cell_type": "code",
   "execution_count": 2,
   "metadata": {},
   "outputs": [
    {
     "data": {
      "text/plain": [
       "0.42857142857142855"
      ]
     },
     "execution_count": 2,
     "metadata": {},
     "output_type": "execute_result"
    }
   ],
   "source": [
    "jaccard_similarity([2,0,0,1,2],[3,0,1,1,2])"
   ]
  },
  {
   "cell_type": "code",
   "execution_count": 3,
   "metadata": {},
   "outputs": [],
   "source": [
    "def cluster_probability(cluster):\n",
    "\tcluster_sum=[]\n",
    "\tn = float(len(cluster))\n",
    "\tcluster_names = list(set(cluster))\n",
    "\tfor index,cluster_name in enumerate(cluster_names):\n",
    "\t\tcluster_sum.append(0)\n",
    "\t\tfor i in cluster:\n",
    "\t\t\tif(cluster_name==i):\n",
    "\t\t\t\tcluster_sum[index]+=1\n",
    "\tcluster_prob = [i/n for i in cluster_sum]\n",
    "\treturn cluster_prob\t\n",
    "\n",
    "def entropy(cluster):\n",
    "\tcluster_prob = cluster_probability(cluster)\n",
    "\tentropy = 0\n",
    "\tfor i in cluster_prob:\n",
    "\t\tentropy+=i*math.log(i,2)\n",
    "\treturn entropy*(-1)\t\t\n",
    "\t\n",
    "def mutual_information(cluster, truth):\n",
    "\tn = float(len(cluster))\n",
    "\tr = float(len(truth))\n",
    "\tpc = cluster_probability(cluster)\n",
    "\tpt = cluster_probability(truth)\n",
    "\n",
    "\tsc = list(set(cluster)) #name of the clusters\n",
    "\tst = list(set(truth)) #name of the clusters in ground truth\n",
    "\t\n",
    "\t#declare empty array to store p_ij\n",
    "\tp_matrix = [[0 for x in range(len(sc))] for y in range(len(st))]\n",
    " \n",
    "\tfor i in range(len(truth)):\n",
    "\t\tp_matrix[st.index(truth[i])][sc.index(cluster[i])] += 1\n",
    "\tmutual_info = 0\n",
    "\tfor i in range(len(st)):\n",
    "\t\tfor j in range(len(sc)):\n",
    "\t\t\tjoint_p = (p_matrix[i][j]/(n))\n",
    "\t\t\tif(joint_p != 0):\n",
    "\t\t\t\tmutual_info +=  joint_p*(math.log(joint_p/float(pc[j]*pt[i]),2))\n",
    "\treturn mutual_info\n",
    "\n",
    "def nmi(cluster,truth):\n",
    "\thc = entropy(cluster)\n",
    "\tht = entropy(truth)\n",
    "\tmutual_info = mutual_information(cluster,truth)\n",
    "\treturn mutual_info/math.sqrt(hc*ht)"
   ]
  },
  {
   "cell_type": "code",
   "execution_count": 6,
   "metadata": {},
   "outputs": [
    {
     "data": {
      "text/plain": [
       "0.6559932774556997"
      ]
     },
     "execution_count": 6,
     "metadata": {},
     "output_type": "execute_result"
    }
   ],
   "source": [
    "nmi([2,0,0,1,2],[3,0,1,1,2])"
   ]
  },
  {
   "cell_type": "code",
   "execution_count": 5,
   "metadata": {},
   "outputs": [],
   "source": [
    "import math"
   ]
  },
  {
   "cell_type": "code",
   "execution_count": null,
   "metadata": {},
   "outputs": [],
   "source": [
    "primary_color1 = input(\"Enter primary color:\")\n",
    "primary_color2 = input(\"Enter primary color:\")\n",
    "\n",
    "if (primary_color1 == \"red\" and primary_color2 == \"blue\") or (primary_color1 == \"blue\" and primary_color2 == \"red\"):\n",
    "    print(\"When you mix red and blue, you get purple.\")\n",
    "\n",
    "elif (primary_color1 == \"blue\" and primary_color2 == \"yellow\") or (primary_color1 == \"yellow\" and primary_color2 == \"blue\"):\n",
    "    print(\"When you mix blue and yellow, you get green.\")\n",
    "\n",
    "elif (primary_color1 == \"yellow\" and primary_color2 == \"red\") or (primary_color1 == \"red\" and primary_color2 == \"yellow\"):\n",
    "    print(\"When you mix yellow and red, you get orange.\")\n",
    "\n",
    "else: print(\"You didn't input two primary colors.\")"
   ]
  },
  {
   "cell_type": "code",
   "execution_count": null,
   "metadata": {},
   "outputs": [],
   "source": []
  },
  {
   "cell_type": "code",
   "execution_count": 7,
   "metadata": {},
   "outputs": [],
   "source": []
  },
  {
   "cell_type": "code",
   "execution_count": 12,
   "metadata": {},
   "outputs": [
    {
     "name": "stdout",
     "output_type": "stream",
     "text": [
      "Enter primary color1: pink\n",
      "Enter primary color2: sky\n",
      "Invalid Color inputs\n"
     ]
    }
   ],
   "source": [
    "# create a list of primary colors.\n",
    "# list is a group of elements separated by comma and surrounded with [ ]\n",
    "PrimaryColors = ['red', 'blue', 'yellow']\n",
    "# take first primary color as an input and store it in PrimaryColor1\n",
    "PrimaryColor1 = input(\"Enter primary color1: \")\n",
    "# take second primary color as an input and store it in PrimaryColor2\n",
    "PrimaryColor2 = input(\"Enter primary color2: \")\n",
    "\n",
    "# check if both the color PrimaryColor1 and PrimaryColor2 is in PrimaryColors\n",
    "# i.e check if input colors is either red or blue or yellow\n",
    "if PrimaryColor1 in PrimaryColors and PrimaryColor2 in PrimaryColors:\n",
    "    \n",
    "    # check if input is blue and red or red and blue then print purple as a secondary color\n",
    "    if (PrimaryColor1 == \"blue\" and PrimaryColor2 == \"red\") or (PrimaryColor1 == \"red\" and PrimaryColor2 == \"blue\"):\n",
    "        print(\"secondary Color is:- purple\")\n",
    "    \n",
    "    # check if input is yellow and blue or blue and yellow then print Green as a secondary color\n",
    "    elif (PrimaryColor1 == \"yellow\" and PrimaryColor2 == \"blue\") or (PrimaryColor1 == \"blue\" and PrimaryColor2 == \"yellow\"):\n",
    "        print(\"secondary Color is:- Green\")\n",
    "        \n",
    "    # check if input is red and yellow or yellow and red then print Orange as a secondary color\n",
    "    elif (PrimaryColor1 == \"red\" and PrimaryColor2 == \"yellow\") or (PrimaryColor1 == \"yellow\" and PrimaryColor2 == \"red\"):\n",
    "        print(\"secondary Color is:- Orange\")\n",
    "        \n",
    "# if both the input received is not the primary colors then\n",
    "# print invalid color\n",
    "else:\n",
    "    print('Invalid Color inputs')"
   ]
  },
  {
   "cell_type": "code",
   "execution_count": null,
   "metadata": {},
   "outputs": [],
   "source": []
  }
 ],
 "metadata": {
  "kernelspec": {
   "display_name": "Python 3",
   "language": "python",
   "name": "python3"
  },
  "language_info": {
   "codemirror_mode": {
    "name": "ipython",
    "version": 3
   },
   "file_extension": ".py",
   "mimetype": "text/x-python",
   "name": "python",
   "nbconvert_exporter": "python",
   "pygments_lexer": "ipython3",
   "version": "3.8.5"
  }
 },
 "nbformat": 4,
 "nbformat_minor": 4
}
