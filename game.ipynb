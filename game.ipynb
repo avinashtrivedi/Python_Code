{
 "cells": [
  {
   "cell_type": "code",
   "execution_count": 97,
   "metadata": {},
   "outputs": [],
   "source": [
    "import numpy as np\n",
    "import random\n",
    "def LoShuGame():\n",
    "    # counter to track results\n",
    "    # index 0 is for victory and 1 is for lost game\n",
    "    result=[0,0]\n",
    "    print('-----------------------------------------------')\n",
    "    #loop to repeat the game\n",
    "    while True:\n",
    "        i = int(input('Enter 1 for integer inputs to array or 2 for random array values,anything else to exit: '))\n",
    "        if i==1:\n",
    "            grid=[] # store 3x3 array\n",
    "\n",
    "            # taking array values\n",
    "            for i in range(1,4):\n",
    "                for j in range(1,4):\n",
    "                    temp = int(input(f\"Enter Grid Value (between 1-9) at index {i},{j}: \"))\n",
    "                    if temp<=9 and temp >=1: # validation for input values\n",
    "                        grid.append(temp)  \n",
    "                    else:\n",
    "                        # raise exception if input > 9 or <1\n",
    "                        raise Exception(\"Sorry, wrong input is given\")\n",
    "\n",
    "            Matrix =np.resize(grid,(3,3)) # converting list to 3x3 array\n",
    "        elif i==2:\n",
    "            # creating a 3x3 array with random values between 1(including) to 10(excluding)\n",
    "            Matrix = np.random.randint(low=1,high=10, size=(3, 3))\n",
    "        else:\n",
    "            print('Thank You for Playing the Game')\n",
    "            break\n",
    "\n",
    "        # store sum of individual rows ,column,and diagonal elements\n",
    "        SumList=[]\n",
    "\n",
    "        # find the sum of individual row and append into list\n",
    "        SumList.append(sum(Matrix[0])) \n",
    "        SumList.append(sum(Matrix[1]))\n",
    "        SumList.append(sum(Matrix[2]))\n",
    "\n",
    "        # find the sum of individual column and append into list\n",
    "        SumList.append(sum(Matrix[:,0]))\n",
    "        SumList.append(sum(Matrix[:,1]))\n",
    "        SumList.append(sum(Matrix[:,2]))\n",
    "\n",
    "        # find the sum of diagonal element and \n",
    "        SumList.append(Matrix[0,0] + Matrix[1,1] + Matrix[2,2])\n",
    "        SumList.append(Matrix[2,0] + Matrix[1,1] + Matrix[0,2])\n",
    "\n",
    "        print('Array is: ')\n",
    "        print(Matrix)\n",
    "\n",
    "        # converting list SumList to SET to find the unique elements\n",
    "        # if unique element is 1 i.e all sums are equal\n",
    "        # hence it is Lo Shu Magic Square\n",
    "\n",
    "        if len(set(SumList))==1:\n",
    "            result[0] = result[0]+1 # updating the result\n",
    "            print('Its Lo Shu Magic Square ')\n",
    "            print('Overall result:-','Won: ',result[0],' ','Lost: ',result[1])\n",
    "            print('-----------------------------------------------')\n",
    "        else:\n",
    "            result[1] = result[1]+1 # updating the result\n",
    "            print('Its not Lo Shu Magic Square ')\n",
    "            print('Overall result:-','Won: ',result[0],' ','Lost: ',result[1])\n",
    "            print('-----------------------------------------------')"
   ]
  },
  {
   "cell_type": "code",
   "execution_count": 98,
   "metadata": {},
   "outputs": [
    {
     "name": "stdout",
     "output_type": "stream",
     "text": [
      "-----------------------------------------------\n",
      "Enter 1 for integer inputs to array or 2 for random array values,anything else to exit: 1\n",
      "Enter Grid Value (between 1-9) at index 1,1: 4\n",
      "Enter Grid Value (between 1-9) at index 1,2: 9\n",
      "Enter Grid Value (between 1-9) at index 1,3: 2\n",
      "Enter Grid Value (between 1-9) at index 2,1: 3\n",
      "Enter Grid Value (between 1-9) at index 2,2: 5\n",
      "Enter Grid Value (between 1-9) at index 2,3: 7\n",
      "Enter Grid Value (between 1-9) at index 3,1: 8\n",
      "Enter Grid Value (between 1-9) at index 3,2: 1\n",
      "Enter Grid Value (between 1-9) at index 3,3: 6\n",
      "Array is: \n",
      "[[4 9 2]\n",
      " [3 5 7]\n",
      " [8 1 6]]\n",
      "Its Lo Shu Magic Square \n",
      "Overall result:- Won:  1   Lost:  0\n",
      "-----------------------------------------------\n",
      "Enter 1 for integer inputs to array or 2 for random array values,anything else to exit: 2\n",
      "Array is: \n",
      "[[2 2 2]\n",
      " [2 8 2]\n",
      " [3 5 1]]\n",
      "Its not Lo Shu Magic Square \n",
      "Overall result:- Won:  1   Lost:  1\n",
      "-----------------------------------------------\n",
      "Enter 1 for integer inputs to array or 2 for random array values,anything else to exit: 2\n",
      "Array is: \n",
      "[[8 2 8]\n",
      " [7 1 6]\n",
      " [2 4 2]]\n",
      "Its not Lo Shu Magic Square \n",
      "Overall result:- Won:  1   Lost:  2\n",
      "-----------------------------------------------\n",
      "Enter 1 for integer inputs to array or 2 for random array values,anything else to exit: 3\n",
      "Thank You for Playing the Game\n"
     ]
    }
   ],
   "source": [
    "LoShuGame()"
   ]
  },
  {
   "cell_type": "code",
   "execution_count": null,
   "metadata": {},
   "outputs": [],
   "source": [
    "2\n"
   ]
  }
 ],
 "metadata": {
  "kernelspec": {
   "display_name": "Python 3",
   "language": "python",
   "name": "python3"
  },
  "language_info": {
   "codemirror_mode": {
    "name": "ipython",
    "version": 3
   },
   "file_extension": ".py",
   "mimetype": "text/x-python",
   "name": "python",
   "nbconvert_exporter": "python",
   "pygments_lexer": "ipython3",
   "version": "3.8.5"
  }
 },
 "nbformat": 4,
 "nbformat_minor": 4
}
