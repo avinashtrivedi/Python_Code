{
 "cells": [
  {
   "cell_type": "code",
   "execution_count": 2,
   "metadata": {},
   "outputs": [
    {
     "name": "stdout",
     "output_type": "stream",
     "text": [
      "Enter a valid factorial starting integer: 8\n",
      "\n",
      "Factorial of 8:\n",
      "--------------------\n",
      "Using recursion: 40,320\n",
      "Without recursion: 40,320\n"
     ]
    }
   ],
   "source": [
    "# without recursion\n",
    "def factorial2(n):\n",
    "    fact = 1\n",
    "    \n",
    "    # iterate through 1 to n and multiply each number together.\n",
    "    for i in range(1,n+1):\n",
    "        fact = fact * i\n",
    "    return fact\n",
    "\n",
    "# with recursion\n",
    "def factorial(n):\n",
    "    \n",
    "    # terminal condition.\n",
    "    if n==0 or n==1:\n",
    "        return 1\n",
    "    else:\n",
    "        return n*factorial(n-1)\n",
    "    \n",
    "# keep prompting for valid number.\n",
    "while True:\n",
    "    n = input('Enter a valid factorial starting integer: ')\n",
    "    \n",
    "    # if its valid number then exit the loop\n",
    "    if n.isnumeric():\n",
    "        n = int(n)\n",
    "        break\n",
    "        \n",
    "print()\n",
    "print('Factorial of {}:'.format(n))\n",
    "\n",
    "# print '-' 20 times for better formatting.\n",
    "print(20*'-')\n",
    "\n",
    "# call the function.\n",
    "fact_val_recursion = factorial(n)\n",
    "fact_val_no_recursion = factorial2(n)\n",
    "\n",
    "# print the result.\n",
    "print('Using recursion: {:,}'.format(fact_val_recursion))\n",
    "print('Without recursion: {:,}'.format(fact_val_no_recursion))"
   ]
  },
  {
   "cell_type": "code",
   "execution_count": null,
   "metadata": {},
   "outputs": [],
   "source": []
  }
 ],
 "metadata": {
  "kernelspec": {
   "display_name": "Python 3",
   "language": "python",
   "name": "python3"
  },
  "language_info": {
   "codemirror_mode": {
    "name": "ipython",
    "version": 3
   },
   "file_extension": ".py",
   "mimetype": "text/x-python",
   "name": "python",
   "nbconvert_exporter": "python",
   "pygments_lexer": "ipython3",
   "version": "3.8.5"
  }
 },
 "nbformat": 4,
 "nbformat_minor": 4
}
