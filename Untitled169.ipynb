{
 "cells": [
  {
   "cell_type": "code",
   "execution_count": 1,
   "metadata": {},
   "outputs": [],
   "source": [
    "class One:\n",
    "    def __init__(self):\n",
    "        \n",
    "        # by default its public attribute\n",
    "        self.var1 = 100\n",
    "        \n",
    "        # private attribute\n",
    "        # double underscore __ prefixed to a variable makes it private\n",
    "        self.__var2 = 200\n",
    "        print(\"Class One Created\")\n",
    "\n",
    "    # print\n",
    "    def msg(self):\n",
    "        print(\"in One\")\n",
    "\n",
    "\n",
    "class Two(One):\n",
    "    def __init__(self):\n",
    "        One.__init__(self)\n",
    "        print(\"Class Two Created\")\n",
    "\n",
    "    def msg(self):\n",
    "        print('Access Var1: ',self.var1)\n",
    "        \n",
    "        try:\n",
    "            print('Access Var2: ',self.var2)\n",
    "        except:\n",
    "            print('Access of Var2 is Not allowed')\n"
   ]
  },
  {
   "cell_type": "code",
   "execution_count": 2,
   "metadata": {},
   "outputs": [
    {
     "name": "stdout",
     "output_type": "stream",
     "text": [
      "Class One Created\n",
      "Class Two Created\n"
     ]
    }
   ],
   "source": [
    "obj = Two() # create object"
   ]
  },
  {
   "cell_type": "code",
   "execution_count": 3,
   "metadata": {},
   "outputs": [
    {
     "name": "stdout",
     "output_type": "stream",
     "text": [
      "Access Var1:  100\n",
      "Access of Var2 is Not allowed\n"
     ]
    }
   ],
   "source": [
    "obj.msg()"
   ]
  },
  {
   "cell_type": "code",
   "execution_count": null,
   "metadata": {},
   "outputs": [],
   "source": []
  },
  {
   "cell_type": "code",
   "execution_count": null,
   "metadata": {},
   "outputs": [],
   "source": []
  }
 ],
 "metadata": {
  "kernelspec": {
   "display_name": "Python 3",
   "language": "python",
   "name": "python3"
  },
  "language_info": {
   "codemirror_mode": {
    "name": "ipython",
    "version": 3
   },
   "file_extension": ".py",
   "mimetype": "text/x-python",
   "name": "python",
   "nbconvert_exporter": "python",
   "pygments_lexer": "ipython3",
   "version": "3.8.5"
  }
 },
 "nbformat": 4,
 "nbformat_minor": 4
}
