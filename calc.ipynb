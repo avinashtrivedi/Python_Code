{
 "cells": [
  {
   "cell_type": "code",
   "execution_count": 9,
   "metadata": {},
   "outputs": [
    {
     "name": "stdout",
     "output_type": "stream",
     "text": [
      "Enter operator +,-,*,/ or 'quit': +\n",
      "\n",
      "Enter 1st operand: 44\n",
      "Enter 2nd operand: 10\n",
      "Sum of 44.0 and 10.0 is 54.0\n",
      "Enter operator +,-,*,/ or 'quit': *\n",
      "\n",
      "Enter 1st operand: 10\n",
      "Enter 2nd operand: 20\n",
      "Multiplication  of 10.0 and 20.0 is 200.0\n",
      "Enter operator +,-,*,/ or 'quit': /\n",
      "\n",
      "Enter 1st operand: 20\n",
      "Enter 2nd operand: 0\n",
      "Please enter another divisor: 0\n",
      "Please enter another divisor: 0\n",
      "Please enter another divisor: 0\n",
      "Please enter another divisor: 1.333\n",
      "Division  of 20.0 and 1.333 is 15.003750937734434\n",
      "Enter operator +,-,*,/ or 'quit': quit\n",
      "\n"
     ]
    }
   ],
   "source": [
    "op = input(\"Enter operator +,-,*,/ or 'quit': \")\n",
    "print() # for better formatting, enter a blank space\n",
    "while op!='quit':\n",
    "    try: # for exception handling.\n",
    "        x = float(input('Enter 1st operand: '))\n",
    "        y = float(input('Enter 2nd operand: '))\n",
    "\n",
    "        if op=='+':\n",
    "            result  = x + y\n",
    "            print('Sum of',x,'and',y,'is',result)\n",
    "        elif op =='-':\n",
    "            result  = x - y\n",
    "            print('Subtraction of',x,'and',y,'is',result)\n",
    "        elif op == '*':\n",
    "            result  = x * y\n",
    "            print('Multiplication  of',x,'and',y,'is',result)\n",
    "        elif op == '/':\n",
    "            # run this loop until user input nonzero divisor\n",
    "            # otherwise,program will prompt divison by zero error.\n",
    "            while y==0:\n",
    "                y = float(input('Please enter another divisor: '))\n",
    "            result = x/y\n",
    "            print('Division  of',x,'and',y,'is',result)\n",
    "        op = input(\"Enter operator +,-,*,/ or 'quit': \")\n",
    "        print() # for better formatting, enter a blank space\n",
    "    except:\n",
    "        print('Wrong input')"
   ]
  },
  {
   "cell_type": "code",
   "execution_count": null,
   "metadata": {},
   "outputs": [],
   "source": []
  }
 ],
 "metadata": {
  "kernelspec": {
   "display_name": "Python 3",
   "language": "python",
   "name": "python3"
  },
  "language_info": {
   "codemirror_mode": {
    "name": "ipython",
    "version": 3
   },
   "file_extension": ".py",
   "mimetype": "text/x-python",
   "name": "python",
   "nbconvert_exporter": "python",
   "pygments_lexer": "ipython3",
   "version": "3.8.5"
  }
 },
 "nbformat": 4,
 "nbformat_minor": 4
}
