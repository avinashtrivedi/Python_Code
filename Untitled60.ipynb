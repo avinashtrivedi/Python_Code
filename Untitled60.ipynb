{
 "cells": [
  {
   "cell_type": "code",
   "execution_count": 118,
   "metadata": {},
   "outputs": [],
   "source": [
    "line9 =''\n",
    "line44=''\n",
    "year=''\n",
    "fp = open(\"GDP.txt\")\n",
    "for i in range(44):\n",
    "    temp = fp.readline()\n",
    "    if i+1 == 9:\n",
    "        line9 = temp\n",
    "    elif i+1==44:\n",
    "        line44 = temp\n",
    "    elif i+1==8:\n",
    "        year = temp"
   ]
  },
  {
   "cell_type": "code",
   "execution_count": 119,
   "metadata": {},
   "outputs": [],
   "source": [
    "line9 = line9.strip()\n",
    "year = year.strip()\n",
    "line44 = line44.strip()"
   ]
  },
  {
   "cell_type": "code",
   "execution_count": 94,
   "metadata": {},
   "outputs": [
    {
     "data": {
      "text/plain": [
       "'1        Gross domestic product                                A191RL1          3.1         0.2         3.3         5.2         5.6        -0.5        -0.2         5.4         4.6         5.6         3.2        -0.2         2.6        -1.9         4.6         7.3         4.2         3.5         3.5         4.2         3.7         1.9        -0.1         3.6         2.7         4.0         2.7         3.8         4.5         4.5         4.7         4.1         1.0         1.8         2.8         3.8         3.3         2.7         1.8        -0.3        -2.8         2.5         1.6         2.2         1.7         2.4         2.6'"
      ]
     },
     "execution_count": 94,
     "metadata": {},
     "output_type": "execute_result"
    }
   ],
   "source": [
    "line9"
   ]
  },
  {
   "cell_type": "code",
   "execution_count": 99,
   "metadata": {},
   "outputs": [
    {
     "data": {
      "text/plain": [
       "'   1969        1970        1971        1972        1973        1974        1975        1976        1977        1978        1979        1980        1981        1982        1983        1984        1985        1986        1987        1988        1989        1990        1991        1992        1993        1994        1995        1996        1997        1998        1999        2000        2001        2002        2003        2004        2005        2006        2007        2008        2009        2010        2011        2012        2013        2014        2015'"
      ]
     },
     "execution_count": 99,
     "metadata": {},
     "output_type": "execute_result"
    }
   ],
   "source": [
    "year[76:]"
   ]
  },
  {
   "cell_type": "code",
   "execution_count": 143,
   "metadata": {},
   "outputs": [
    {
     "name": "stdout",
     "output_type": "stream",
     "text": [
      "-2.8 --- 556\n"
     ]
    }
   ],
   "source": [
    "min_value = 10000000\n",
    "index_year=0\n",
    "for i in range(1,48,1):\n",
    "    x = 76 + (i-1)*12\n",
    "    y = 76 + i*12\n",
    "    value = float(line9[x:y].strip())\n",
    "   \n",
    "    if value < min_value:\n",
    "        min_value = value\n",
    "        index_year = x\n",
    "print(min_value,'---',index_year)"
   ]
  },
  {
   "cell_type": "code",
   "execution_count": 130,
   "metadata": {},
   "outputs": [
    {
     "data": {
      "text/plain": [
       "12"
      ]
     },
     "execution_count": 130,
     "metadata": {},
     "output_type": "execute_result"
    }
   ],
   "source": [
    "len(line9[340:340+12])"
   ]
  },
  {
   "cell_type": "code",
   "execution_count": 145,
   "metadata": {},
   "outputs": [
    {
     "name": "stdout",
     "output_type": "stream",
     "text": [
      "7.3 --- 256\n"
     ]
    }
   ],
   "source": [
    "min_value = -10000000\n",
    "index_year=0\n",
    "\n",
    "for i in range(1,48,1):\n",
    "    x = 76 + (i-1)*12\n",
    "    y = 76 + i*12\n",
    "    value = float(line9[x:y].strip())\n",
    "   \n",
    "    if value > min_value:\n",
    "        min_value = value\n",
    "        index_year = x\n",
    "print(min_value,'---',index_year)"
   ]
  },
  {
   "cell_type": "code",
   "execution_count": 131,
   "metadata": {},
   "outputs": [
    {
     "data": {
      "text/plain": [
       "7"
      ]
     },
     "execution_count": 131,
     "metadata": {},
     "output_type": "execute_result"
    }
   ],
   "source": [
    "len(line44[628:628+12])"
   ]
  },
  {
   "cell_type": "code",
   "execution_count": 127,
   "metadata": {},
   "outputs": [
    {
     "data": {
      "text/plain": [
       "'    3.1     '"
      ]
     },
     "execution_count": 127,
     "metadata": {},
     "output_type": "execute_result"
    }
   ],
   "source": [
    "line9[76:76+12]"
   ]
  },
  {
   "cell_type": "code",
   "execution_count": 64,
   "metadata": {},
   "outputs": [
    {
     "data": {
      "text/plain": [
       "'1        Gross domestic product                                A191RC1       1019.9      1075.9      1167.8      1282.4      1428.5      1548.8      1688.9      1877.6      2086.0      2356.6      2632.1      2862.5      3211.0      3345.0      3638.1      4040.7      4346.7      4590.2      4870.2      5252.6      5657.7      5979.6      6174.0      6539.3      6878.7      7308.8      7664.1      8100.2      8608.5      9089.2      9660.6     10284.8     10621.8     10977.5     11510.7     12274.9     13093.7     13855.9     14477.6     14718.6     14418.7     14964.4     15517.9     16155.3     16691.5     17393.1     18036.6\\n'"
      ]
     },
     "execution_count": 64,
     "metadata": {},
     "output_type": "execute_result"
    }
   ],
   "source": [
    "line44"
   ]
  },
  {
   "cell_type": "code",
   "execution_count": 34,
   "metadata": {},
   "outputs": [],
   "source": [
    "e=t[8][76+12:76+24]"
   ]
  },
  {
   "cell_type": "code",
   "execution_count": 37,
   "metadata": {},
   "outputs": [
    {
     "data": {
      "text/plain": [
       "'0.2'"
      ]
     },
     "execution_count": 37,
     "metadata": {},
     "output_type": "execute_result"
    }
   ],
   "source": [
    "e.strip()"
   ]
  },
  {
   "cell_type": "code",
   "execution_count": 61,
   "metadata": {},
   "outputs": [
    {
     "data": {
      "text/plain": [
       "'1        Gross domestic product                                A191RC1       1019.9      1075.9      1167.8      1282.4      1428.5      1548.8      1688.9      1877.6      2086.0      2356.6      2632.1      2862.5      3211.0      3345.0      3638.1      4040.7      4346.7      4590.2      4870.2      5252.6      5657.7      5979.6      6174.0      6539.3      6878.7      7308.8      7664.1      8100.2      8608.5      9089.2      9660.6     10284.8     10621.8     10977.5     11510.7     12274.9     13093.7     13855.9     14477.6     14718.6     14418.7     14964.4     15517.9     16155.3     16691.5     17393.1     18036.6\\n'"
      ]
     },
     "execution_count": 61,
     "metadata": {},
     "output_type": "execute_result"
    }
   ],
   "source": [
    "line44"
   ]
  },
  {
   "cell_type": "code",
   "execution_count": 112,
   "metadata": {},
   "outputs": [
    {
     "data": {
      "text/plain": [
       "3.2"
      ]
     },
     "execution_count": 112,
     "metadata": {},
     "output_type": "execute_result"
    }
   ],
   "source": [
    "abs(-3.2)"
   ]
  },
  {
   "cell_type": "code",
   "execution_count": 137,
   "metadata": {},
   "outputs": [
    {
     "data": {
      "text/plain": [
       "'17393.1     '"
      ]
     },
     "execution_count": 137,
     "metadata": {},
     "output_type": "execute_result"
    }
   ],
   "source": [
    "line44[616:628]"
   ]
  },
  {
   "cell_type": "code",
   "execution_count": 149,
   "metadata": {},
   "outputs": [],
   "source": [
    "line = line9\n",
    "index = 256"
   ]
  },
  {
   "cell_type": "code",
   "execution_count": 150,
   "metadata": {},
   "outputs": [
    {
     "data": {
      "text/plain": [
       "4040.7"
      ]
     },
     "execution_count": 150,
     "metadata": {},
     "output_type": "execute_result"
    }
   ],
   "source": [
    "float(line44[index:index+12])"
   ]
  },
  {
   "cell_type": "code",
   "execution_count": null,
   "metadata": {},
   "outputs": [],
   "source": []
  },
  {
   "cell_type": "code",
   "execution_count": null,
   "metadata": {},
   "outputs": [],
   "source": []
  },
  {
   "cell_type": "code",
   "execution_count": 155,
   "metadata": {},
   "outputs": [
    {
     "name": "stdout",
     "output_type": "stream",
     "text": [
      "min/max     change  year    GDP(trillions)\n"
     ]
    }
   ],
   "source": [
    "print(\"{:<10}{:>8}{:>6}{:>18}\".format('min/max','change','year','GDP(trillions)'))\n",
    "print(\"{:<10s}{:>8.1f}{:>6d}{:>18.2f}\".format('min',min_val,min_year,min_val_gdp))\n",
    "print(\"{:<10s}{:>8.1f}{:>6d}{:>18.2f}\".format('max',max_val,max_year,max_val_gdp))"
   ]
  },
  {
   "cell_type": "code",
   "execution_count": 158,
   "metadata": {},
   "outputs": [
    {
     "data": {
      "text/plain": [
       "'    7.3     '"
      ]
     },
     "execution_count": 158,
     "metadata": {},
     "output_type": "execute_result"
    }
   ],
   "source": [
    "line9[256:256+12]"
   ]
  },
  {
   "cell_type": "code",
   "execution_count": null,
   "metadata": {},
   "outputs": [],
   "source": []
  }
 ],
 "metadata": {
  "kernelspec": {
   "display_name": "Python 3",
   "language": "python",
   "name": "python3"
  },
  "language_info": {
   "codemirror_mode": {
    "name": "ipython",
    "version": 3
   },
   "file_extension": ".py",
   "mimetype": "text/x-python",
   "name": "python",
   "nbconvert_exporter": "python",
   "pygments_lexer": "ipython3",
   "version": "3.8.5"
  }
 },
 "nbformat": 4,
 "nbformat_minor": 4
}
