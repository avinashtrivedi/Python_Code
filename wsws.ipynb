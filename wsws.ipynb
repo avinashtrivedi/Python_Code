{
 "cells": [
  {
   "cell_type": "markdown",
   "metadata": {},
   "source": [
    "## 1 (a)"
   ]
  },
  {
   "cell_type": "code",
   "execution_count": 2,
   "metadata": {},
   "outputs": [
    {
     "name": "stdout",
     "output_type": "stream",
     "text": [
      "Enter a number: 1\n",
      "The sum of odd numbers upto 0 will be:  4\n"
     ]
    }
   ],
   "source": [
    "n=int(input(\"Enter a number: \"))\n",
    "i=n*3\n",
    "def sumThem(i):\n",
    "    if i>0:\n",
    "        if i%2==0:\n",
    "            if i==2:\n",
    "                return i\n",
    "            else:\n",
    "                return i+sumThem(i-2)\n",
    "        else:\n",
    "            if i==1:\n",
    "                return i\n",
    "            else:\n",
    "                return i+sumThem(i-2)\n",
    "    elif i==0:\n",
    "        print('The sum of even numbers upto 0 will be :',0)\n",
    "    else:\n",
    "        pass\n",
    "if n%2==0:\n",
    "    print(\"The sum of even numbers upto 0 will be: \",sumThem(i))\n",
    "else:\n",
    "    print(\"The sum of odd numbers upto 0 will be: \",sumThem(i))"
   ]
  },
  {
   "cell_type": "markdown",
   "metadata": {},
   "source": [
    "# 1(b)"
   ]
  },
  {
   "cell_type": "code",
   "execution_count": 4,
   "metadata": {},
   "outputs": [
    {
     "data": {
      "text/plain": [
       "300"
      ]
     },
     "execution_count": 4,
     "metadata": {},
     "output_type": "execute_result"
    }
   ],
   "source": [
    "a=str(id(i))\n",
    "n=int(a[len(a)-1])\n",
    "b=n*3\n",
    "def calc(b):#calculates 1+2+3.....+b(12)\n",
    "    if b==1:\n",
    "        return b\n",
    "    else:\n",
    "        return b+calc(b-1)\n",
    "calc(b)"
   ]
  },
  {
   "cell_type": "markdown",
   "metadata": {},
   "source": [
    "# 2"
   ]
  },
  {
   "cell_type": "code",
   "execution_count": 5,
   "metadata": {},
   "outputs": [
    {
     "data": {
      "text/plain": [
       "{'Bangladesh': {'Batters': ('Imrul', 'Mominul'),\n",
       "  'Bowlers': ('Taijul', 'Mustafiz')},\n",
       " 'England': {'Batters': ('Bell', 'Cook'), 'Bowlers': ()},\n",
       " 'Australia': {'Batters': ('Smith', 'Finch'), 'Bowlers': ('Starc',)}}"
      ]
     },
     "execution_count": 5,
     "metadata": {},
     "output_type": "execute_result"
    }
   ],
   "source": [
    "my_tuple=(('Mominul',1101),('Mustafiz',1202),('Bell',2101),('Cook',2103),('Smith',3101),('Finch',3102),('Starc',3202),('Imrul',1103),('Taijul',1204))\n",
    "A={i[0] for i in my_tuple if str(i[1])[0]=='1'}\n",
    "B={i[0] for i in my_tuple if str(i[1])[0]=='2'}\n",
    "C={i[0] for i in my_tuple if str(i[1])[0]=='3'}\n",
    "D={i[0] for i in my_tuple if str(i[1])[1]=='1'}\n",
    "E={i[0] for i in my_tuple if str(i[1])[1]=='2'}\n",
    "mydict={'Bangladesh':{\"Batters\":tuple(A.intersection(D)),\"Bowlers\":tuple(A.intersection(E))},'England':{\"Batters\":tuple(B.intersection(D)),\"Bowlers\":tuple(B.intersection(E))},'Australia':{\"Batters\":tuple(C.intersection(D)),\"Bowlers\":tuple(C.intersection(E))}}\n",
    "mydict"
   ]
  },
  {
   "cell_type": "markdown",
   "metadata": {},
   "source": [
    "# 3"
   ]
  },
  {
   "cell_type": "markdown",
   "metadata": {},
   "source": [
    "I am learning Pandas.So I can do this type of problems after one week."
   ]
  },
  {
   "cell_type": "code",
   "execution_count": null,
   "metadata": {},
   "outputs": [],
   "source": []
  }
 ],
 "metadata": {
  "kernelspec": {
   "display_name": "Python 3",
   "language": "python",
   "name": "python3"
  },
  "language_info": {
   "codemirror_mode": {
    "name": "ipython",
    "version": 3
   },
   "file_extension": ".py",
   "mimetype": "text/x-python",
   "name": "python",
   "nbconvert_exporter": "python",
   "pygments_lexer": "ipython3",
   "version": "3.8.5"
  }
 },
 "nbformat": 4,
 "nbformat_minor": 4
}
