{
 "cells": [
  {
   "cell_type": "code",
   "execution_count": 1,
   "metadata": {},
   "outputs": [],
   "source": [
    "# import library to define defaut dictionary\n",
    "from collections import defaultdict as dd\n",
    "\n",
    "def count_trigrams(document):\n",
    "    # create a list to store all possible trigrams\n",
    "    trigram_lst = []\n",
    "    # As in the question the sample output contains <class 'float'> ....\n",
    "    # Hence, Create a default dictionary with float class as default_factory argument.\n",
    "    d = dd(float)\n",
    "    # now loop through first element till 3rd last element\n",
    "    for i in range(len(document)-2):\n",
    "        # for each character i,append continious three character in trigram_lst\n",
    "        # this will build the list of all possible trigrams\n",
    "        trigram_lst.append(document[i:i+3])\n",
    "    # set: it contains only unique elements.\n",
    "    # loop through all unique trigrams using set(trigram_lst) and \n",
    "    # find its count in actual trigram list i.e trigram_lst\n",
    "    for i in set(trigram_lst):\n",
    "        # find count of i in actual trigram list i.e trigram_lst\n",
    "        cnt = trigram_lst.count(i)\n",
    "        # add element as key value pair in default dictionary.\n",
    "        d[i] = float(cnt)\n",
    "    #print(d)\n",
    "    return d # return default dictionary"
   ]
  },
  {
   "cell_type": "code",
   "execution_count": 2,
   "metadata": {},
   "outputs": [
    {
     "data": {
      "text/plain": [
       "defaultdict(float, {'hel': 1.0})"
      ]
     },
     "execution_count": 2,
     "metadata": {},
     "output_type": "execute_result"
    }
   ],
   "source": [
    "count_trigrams('hel')"
   ]
  },
  {
   "cell_type": "code",
   "execution_count": 3,
   "metadata": {},
   "outputs": [
    {
     "data": {
      "text/plain": [
       "defaultdict(float, {'aaa': 3.0})"
      ]
     },
     "execution_count": 3,
     "metadata": {},
     "output_type": "execute_result"
    }
   ],
   "source": [
    "count_trigrams('aaaaa')"
   ]
  },
  {
   "cell_type": "code",
   "execution_count": null,
   "metadata": {},
   "outputs": [],
   "source": [
    "count_trigrams('Boaty mcBoatFace.') "
   ]
  }
 ],
 "metadata": {
  "kernelspec": {
   "display_name": "Python 3",
   "language": "python",
   "name": "python3"
  },
  "language_info": {
   "codemirror_mode": {
    "name": "ipython",
    "version": 3
   },
   "file_extension": ".py",
   "mimetype": "text/x-python",
   "name": "python",
   "nbconvert_exporter": "python",
   "pygments_lexer": "ipython3",
   "version": "3.8.5"
  }
 },
 "nbformat": 4,
 "nbformat_minor": 4
}
