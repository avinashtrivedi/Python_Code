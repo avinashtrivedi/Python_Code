{
 "cells": [
  {
   "cell_type": "code",
   "execution_count": 34,
   "metadata": {},
   "outputs": [
    {
     "name": "stdout",
     "output_type": "stream",
     "text": [
      " # Student\tGrade\n",
      "--------------------------\n",
      " 1. Vernon     \tC\n",
      " 2. Domenic    \tC\n",
      " 3. Michael    \tC\n",
      " 4. Celena     \tF\n",
      " 5. Odis       \tD\n",
      " 6. Rufus      \tC\n",
      " 7. Rose       \tD\n",
      " 8. Cheryll    \tB*\n",
      " 9. Mignon     \tA**\n",
      "10. Monte      \tB*\n",
      "11. Ralph      \tA**\n",
      "\n",
      "Total Students   : 11\n",
      "'A' Students     :  2 (18.2%)\n",
      "'B' Students     :  2 (18.2%)\n",
      "'A', 'B' Students:  4 (36.4%)\n"
     ]
    }
   ],
   "source": [
    "import random\n",
    "def main():\n",
    "    size = 11\n",
    "    lst_stu_names = [\"Vernon\", \"Domenic\", \"Michael\", \"Celena\",\n",
    "                    \"Odis\", \"Rufus\", \"Rose\", \"Cheryll\",\n",
    "                     \"Mignon\", \"Monte\", \"Ralph\"]\n",
    "    lst_stu_grades = [\"\"] * size\n",
    "    for i in range(size):\n",
    "         lst_stu_grades[i] = random.choice([\"A\", \"B\", \"C\", \"D\", \"F\"])\n",
    "    num_A_stu = 0\n",
    "    num_B_stu = 0\n",
    "    tot_rec = 0\n",
    "    print(\" # Student\\tGrade\\n--------------------------\")\n",
    "    for i in range(size):\n",
    "        tot_rec += 1\n",
    "        grade = lst_stu_grades[i]\n",
    "        st_name = lst_stu_names[i]\n",
    "        if grade == 'A':\n",
    "            num_A_stu = num_A_stu + 1 # increase the count of A student\n",
    "        elif grade == 'B':\n",
    "            num_B_stu = num_B_stu + 1 # increase the count of B student\n",
    "        message = \"**\" if grade=='A' else ('*' if grade=='B' else '')\n",
    "        print(f\"{tot_rec:>2d}. {st_name:<11}\\t{grade}{message}\")\n",
    "    print()\n",
    "    print(f\"Total Students   : {size:>2}\")\n",
    "    print(f\"'A' Students     : {num_A_stu:>2} ({num_A_stu/tot_rec:>.1%})\")\n",
    "    print(f\"'B' Students     : {num_B_stu:>2} ({num_B_stu*100/tot_rec:>.1f}%)\")\n",
    "    print(f\"'A', 'B' Students: {num_A_stu+num_B_stu:>2} ({(num_A_stu+num_B_stu)/tot_rec:>.1%})\")\n",
    "main()"
   ]
  },
  {
   "cell_type": "code",
   "execution_count": 61,
   "metadata": {},
   "outputs": [
    {
     "name": "stdout",
     "output_type": "stream",
     "text": [
      "This is the CIS22C midterm.\n"
     ]
    }
   ],
   "source": [
    "s = input()"
   ]
  },
  {
   "cell_type": "code",
   "execution_count": 62,
   "metadata": {},
   "outputs": [
    {
     "data": {
      "text/plain": [
       "'This is the CIS22C midterm.'"
      ]
     },
     "execution_count": 62,
     "metadata": {},
     "output_type": "execute_result"
    }
   ],
   "source": [
    "s"
   ]
  },
  {
   "cell_type": "code",
   "execution_count": 63,
   "metadata": {},
   "outputs": [],
   "source": [
    "s=s.split()"
   ]
  },
  {
   "cell_type": "code",
   "execution_count": 64,
   "metadata": {},
   "outputs": [
    {
     "data": {
      "text/plain": [
       "['This', 'is', 'the', 'CIS22C', 'midterm.']"
      ]
     },
     "execution_count": 64,
     "metadata": {},
     "output_type": "execute_result"
    }
   ],
   "source": [
    "s"
   ]
  },
  {
   "cell_type": "code",
   "execution_count": 65,
   "metadata": {},
   "outputs": [],
   "source": [
    "st =set()\n",
    "for i in s:\n",
    "    k = s[:]\n",
    "    k.remove(i)\n",
    "    for j in k:\n",
    "        st.add(i+j)"
   ]
  },
  {
   "cell_type": "code",
   "execution_count": null,
   "metadata": {},
   "outputs": [],
   "source": []
  },
  {
   "cell_type": "code",
   "execution_count": 66,
   "metadata": {},
   "outputs": [
    {
     "data": {
      "text/plain": [
       "['CIS22CThis',\n",
       " 'CIS22Cis',\n",
       " 'CIS22Cmidterm.',\n",
       " 'CIS22Cthe',\n",
       " 'ThisCIS22C',\n",
       " 'Thisis',\n",
       " 'Thismidterm.',\n",
       " 'Thisthe',\n",
       " 'isCIS22C',\n",
       " 'isThis',\n",
       " 'ismidterm.',\n",
       " 'isthe',\n",
       " 'midterm.CIS22C',\n",
       " 'midterm.This',\n",
       " 'midterm.is',\n",
       " 'midterm.the',\n",
       " 'theCIS22C',\n",
       " 'theThis',\n",
       " 'theis',\n",
       " 'themidterm.']"
      ]
     },
     "execution_count": 66,
     "metadata": {},
     "output_type": "execute_result"
    }
   ],
   "source": [
    "sorted(st)"
   ]
  },
  {
   "cell_type": "code",
   "execution_count": 52,
   "metadata": {},
   "outputs": [],
   "source": [
    "k=s[:]"
   ]
  },
  {
   "cell_type": "code",
   "execution_count": 49,
   "metadata": {},
   "outputs": [
    {
     "data": {
      "text/plain": [
       "'b'"
      ]
     },
     "execution_count": 49,
     "metadata": {},
     "output_type": "execute_result"
    }
   ],
   "source": [
    "k.pop()"
   ]
  },
  {
   "cell_type": "code",
   "execution_count": 50,
   "metadata": {},
   "outputs": [
    {
     "data": {
      "text/plain": [
       "['a', 'bb', 'ab']"
      ]
     },
     "execution_count": 50,
     "metadata": {},
     "output_type": "execute_result"
    }
   ],
   "source": [
    "k"
   ]
  },
  {
   "cell_type": "code",
   "execution_count": 51,
   "metadata": {},
   "outputs": [
    {
     "data": {
      "text/plain": [
       "['a', 'bb', 'ab', 'b']"
      ]
     },
     "execution_count": 51,
     "metadata": {},
     "output_type": "execute_result"
    }
   ],
   "source": [
    "s"
   ]
  },
  {
   "cell_type": "code",
   "execution_count": 53,
   "metadata": {},
   "outputs": [
    {
     "data": {
      "text/plain": [
       "['a', 'bb', 'ab', 'b']"
      ]
     },
     "execution_count": 53,
     "metadata": {},
     "output_type": "execute_result"
    }
   ],
   "source": [
    "k"
   ]
  },
  {
   "cell_type": "code",
   "execution_count": 55,
   "metadata": {},
   "outputs": [],
   "source": [
    "k.remove('a')"
   ]
  },
  {
   "cell_type": "code",
   "execution_count": 56,
   "metadata": {},
   "outputs": [
    {
     "data": {
      "text/plain": [
       "['bb', 'ab', 'b']"
      ]
     },
     "execution_count": 56,
     "metadata": {},
     "output_type": "execute_result"
    }
   ],
   "source": [
    "k"
   ]
  },
  {
   "cell_type": "code",
   "execution_count": 93,
   "metadata": {},
   "outputs": [],
   "source": [
    "def compoundword(word):\n",
    "    # store unique compound word\n",
    "    compound_word =set()\n",
    "    for i in word:\n",
    "        # make a copy of list of word\n",
    "        # remove element i from that and prepare a compound words \n",
    "        # using remaining elements with i\n",
    "        word_copy = word[:]\n",
    "        word_copy.remove(i)\n",
    "        for j in word_copy:\n",
    "            # store the compound word\n",
    "            compound_word.add(i+j)\n",
    "    # sort the compound_word\n",
    "    sorted_compound_word = sorted(compound_word)\n",
    "    # return the sorted compound word separated by spaces.\n",
    "    return ' '.join(sorted_compound_word)"
   ]
  },
  {
   "cell_type": "code",
   "execution_count": 94,
   "metadata": {},
   "outputs": [],
   "source": [
    "def main():\n",
    "    words = input()\n",
    "    # split the string into list of words\n",
    "    word_list = words.split()\n",
    "    print(compoundword(word_list))"
   ]
  },
  {
   "cell_type": "code",
   "execution_count": 95,
   "metadata": {},
   "outputs": [
    {
     "name": "stdout",
     "output_type": "stream",
     "text": [
      "a bb ab b\n",
      "aab ab aba abb abbb ba bab bba bbab bbb\n"
     ]
    }
   ],
   "source": [
    "main() # input: a bb ab b "
   ]
  },
  {
   "cell_type": "code",
   "execution_count": 96,
   "metadata": {},
   "outputs": [
    {
     "name": "stdout",
     "output_type": "stream",
     "text": [
      "This is the CIS22C midterm.\n",
      "CIS22CThis CIS22Cis CIS22Cmidterm. CIS22Cthe ThisCIS22C Thisis Thismidterm. Thisthe isCIS22C isThis ismidterm. isthe midterm.CIS22C midterm.This midterm.is midterm.the theCIS22C theThis theis themidterm.\n"
     ]
    }
   ],
   "source": [
    "main() # input: This is the CIS22C midterm."
   ]
  },
  {
   "cell_type": "code",
   "execution_count": 97,
   "metadata": {},
   "outputs": [
    {
     "name": "stdout",
     "output_type": "stream",
     "text": [
      "The Lion, the Witch and the Wardrobe.\n",
      "Lion,The Lion,Wardrobe. Lion,Witch Lion,and Lion,the TheLion, TheWardrobe. TheWitch Theand Thethe Wardrobe.Lion, Wardrobe.The Wardrobe.Witch Wardrobe.and Wardrobe.the WitchLion, WitchThe WitchWardrobe. Witchand Witchthe andLion, andThe andWardrobe. andWitch andthe theLion, theThe theWardrobe. theWitch theand thethe\n"
     ]
    }
   ],
   "source": [
    "main() # input: The Lion, the Witch and the Wardrobe."
   ]
  },
  {
   "cell_type": "code",
   "execution_count": null,
   "metadata": {},
   "outputs": [],
   "source": []
  }
 ],
 "metadata": {
  "kernelspec": {
   "display_name": "Python 3",
   "language": "python",
   "name": "python3"
  },
  "language_info": {
   "codemirror_mode": {
    "name": "ipython",
    "version": 3
   },
   "file_extension": ".py",
   "mimetype": "text/x-python",
   "name": "python",
   "nbconvert_exporter": "python",
   "pygments_lexer": "ipython3",
   "version": "3.8.5"
  }
 },
 "nbformat": 4,
 "nbformat_minor": 4
}
