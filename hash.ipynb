{
 "cells": [
  {
   "cell_type": "code",
   "execution_count": 1,
   "metadata": {},
   "outputs": [
    {
     "name": "stdout",
     "output_type": "stream",
     "text": [
      "Enter a password to hash: secretPass\n",
      "\n",
      "Testing hash algorithm: md5\n",
      "Hashed password = bd19f99253c948637d64a4acbd524047:0x40e18692da1\n",
      "\n",
      "Testing hash algorithm: sha1\n",
      "Hashed password = e5fbad38af8ba59c2648e98b9ae4196dfcb9f719:0x40e18692da1\n",
      "\n",
      "Testing hash algorithm: sha224\n",
      "Hashed password = ef0ed799dee72469e5d12ab096473fe6347ae64d5541e95f42478abc:0x40e18692da1\n",
      "\n",
      "Testing hash algorithm: sha256\n",
      "Hashed password = e73b86702464baa976c947a2a8c06adedc1e45ff5a35a07db41385120ce1e10a:0x40e18692da1\n",
      "\n",
      "Testing hash algorithm: blake2b\n",
      "Hashed password = 386eef2364609396229c7b58f3606354c12224cecfbc97f7b435c83218eee0b93d453a8ffa1ca2fcfcf5452013bc671fb538f35e426b33e4f07cee1f04a16bc7:0x40e18692da1\n",
      "\n"
     ]
    }
   ],
   "source": [
    "# import the library\n",
    "import hashlib\n",
    "\n",
    "# define the function\n",
    "def hash_function(password, salt, algo):\n",
    "    \n",
    "    if algo == 'md5':\n",
    "        \n",
    "        # compute md5 hash\n",
    "        passhash = hashlib.md5(salt.encode() + password.encode())\n",
    "        passhash.update(password.encode('utf-8'))\n",
    "        return passhash.hexdigest() + ':' + salt\n",
    "\n",
    "    elif (algo == 'sha1'):\n",
    "        \n",
    "        # compute sha1 hash\n",
    "        passhash = hashlib.sha1()\n",
    "        passhash.update(password.encode('utf-8'))\n",
    "        return passhash.hexdigest() + ':' + salt\n",
    "\n",
    "    elif algo == 'sha224':\n",
    "        \n",
    "        # compute sha224 hash\n",
    "        passhash = hashlib.sha224()\n",
    "        passhash.update(password.encode('utf-8'))\n",
    "        return passhash.hexdigest() + ':' + salt\n",
    "\n",
    "    elif algo == 'sha256':\n",
    "        \n",
    "        # compute sha256 hash\n",
    "        passhash = hashlib.sha256()\n",
    "        passhash.update(password.encode('utf-8'))\n",
    "        return passhash.hexdigest() + ':' + salt\n",
    "\n",
    "    elif algo == 'blake2b':\n",
    "        \n",
    "        # compute blake2b hash\n",
    "        passhash = hashlib.blake2b()\n",
    "        passhash.update(password.encode('utf-8'))\n",
    "        return passhash.hexdigest() + ':' + salt\n",
    "\n",
    "    else:\n",
    "        print(\"Error: Not a valid Algorithm!\")\n",
    "\n",
    "def main():\n",
    "    hash_list = ['md5', 'sha1', 'sha224', 'sha256', 'blake2b']\n",
    "    password = input('Enter a password to hash: ')\n",
    "    print()\n",
    "    salt = hex(4458585599393) # hex representation of 4458585599393.\n",
    "    \n",
    "    # Iterate through the hash_list and print the hash of password based on different algorithm\n",
    "    for hash_algo in hash_list:\n",
    "        print(\"Testing hash algorithm: \" + hash_algo)\n",
    "        print(\"Hashed password = \" + hash_function(password, salt, hash_algo) + \"\\n\")\n",
    "\n",
    "# call the main function.\n",
    "if __name__ == \"__main__\":\n",
    "    main()"
   ]
  },
  {
   "cell_type": "code",
   "execution_count": 9,
   "metadata": {},
   "outputs": [],
   "source": [
    "# define a list of available domains\n",
    "domains = ['gmail', 'yahoo', 'outlook',  'bracu']"
   ]
  },
  {
   "cell_type": "code",
   "execution_count": 10,
   "metadata": {},
   "outputs": [
    {
     "name": "stdout",
     "output_type": "stream",
     "text": [
      "Enter a string containing email: abc@gmail.com\n",
      "domain is:  gmail\n"
     ]
    }
   ],
   "source": [
    "# input an email belongs to gmail, yahoo, outlook, or bracu domain.\n",
    "inp = input('Enter a string containing email: ')\n",
    "\n",
    "#  check which email domain the user is using and print it.\n",
    "for d in domains:\n",
    "    if d in inp:\n",
    "        print('domain is: ',d)"
   ]
  },
  {
   "cell_type": "code",
   "execution_count": 11,
   "metadata": {},
   "outputs": [],
   "source": [
    "ID = ['20201199','21121347','20141052','20341121','21241369','21272199','19241187',\n",
    "      '19101007','20101035','21121875','19141534','19301552','21141135','21365001'] "
   ]
  },
  {
   "cell_type": "code",
   "execution_count": 37,
   "metadata": {},
   "outputs": [],
   "source": [
    "id_dept = {'01':'CSE',\n",
    "           '41':'CS',\n",
    "           '21':'EEE'}\n",
    "my_dict={}\n",
    "for i in ID:\n",
    "    year = '20'+i[:2]\n",
    "    dept = id_dept.get(i[3:5],'Other') \n",
    "#     print(dept)\n",
    "    \n",
    "    if year in my_dict:\n",
    "        if dept in my_dict[year]:\n",
    "            my_dict[year][dept].append(i) \n",
    "        else:\n",
    "            my_dict[year][dept] = [i]\n",
    "    else:\n",
    "        my_dict[year] = {}\n",
    "        my_dict[year][dept] = [i]"
   ]
  },
  {
   "cell_type": "code",
   "execution_count": 40,
   "metadata": {},
   "outputs": [
    {
     "data": {
      "text/plain": [
       "{'2020': {'CSE': ['20201199', '20101035'], 'CS': ['20141052', '20341121']},\n",
       " '2021': {'EEE': ['21121347', '21121875'],\n",
       "  'CS': ['21241369', '21141135'],\n",
       "  'Other': ['21272199', '21365001']},\n",
       " '2019': {'CS': ['19241187', '19141534'], 'CSE': ['19101007', '19301552']}}"
      ]
     },
     "execution_count": 40,
     "metadata": {},
     "output_type": "execute_result"
    }
   ],
   "source": [
    "my_dict"
   ]
  },
  {
   "cell_type": "code",
   "execution_count": null,
   "metadata": {},
   "outputs": [],
   "source": []
  }
 ],
 "metadata": {
  "kernelspec": {
   "display_name": "Python 3",
   "language": "python",
   "name": "python3"
  },
  "language_info": {
   "codemirror_mode": {
    "name": "ipython",
    "version": 3
   },
   "file_extension": ".py",
   "mimetype": "text/x-python",
   "name": "python",
   "nbconvert_exporter": "python",
   "pygments_lexer": "ipython3",
   "version": "3.8.5"
  }
 },
 "nbformat": 4,
 "nbformat_minor": 4
}
