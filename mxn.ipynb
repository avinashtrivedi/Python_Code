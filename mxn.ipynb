{
 "cells": [
  {
   "cell_type": "code",
   "execution_count": 47,
   "metadata": {},
   "outputs": [
    {
     "name": "stdout",
     "output_type": "stream",
     "text": [
      "2\n",
      "3\n",
      "1 2 3 4 5 6\n",
      "3 4 \n"
     ]
    }
   ],
   "source": [
    "try: # try except block to handle exception\n",
    "    m = int(input()) # M\n",
    "    n = int(input()) # N\n",
    "# the given question is valid only if m>=2 and n>=2\n",
    "# else raise exception\n",
    "    if m<2 or n<2: \n",
    "        raise\n",
    "    A = [] # to store the array\n",
    "    s = input() # space separated mxn values\n",
    "    s = [int(i) for i in s.split(' ')] # convert all mxn values to integer\n",
    "    k=0\n",
    "    # create an array A as a list of list\n",
    "    for i in range(m):\n",
    "        row = []\n",
    "        for j in range(n):\n",
    "            x = s[k] \n",
    "            k = k +1  \n",
    "            row.append(x)\n",
    "        A.append(row)\n",
    "    B= []\n",
    "    # create array B as a list of list\n",
    "    for i in range(m-1):\n",
    "        row=[]\n",
    "        for j in range(n-1):\n",
    "            y = (A[i][j] + A[i+1][j] + A[i][j+1] + A[i+1][j+1])/4\n",
    "            row.append(y)\n",
    "        B.append(row)\n",
    "\n",
    "    # print the array B\n",
    "    for i in range(m-1):\n",
    "        for j in range(n-1):\n",
    "            print(int(B[i][j]),end=' ')\n",
    "        print()\n",
    "except:\n",
    "    print('Invalid number or number of inputs')\n"
   ]
  },
  {
   "cell_type": "code",
   "execution_count": null,
   "metadata": {},
   "outputs": [],
   "source": []
  }
 ],
 "metadata": {
  "kernelspec": {
   "display_name": "Python 3",
   "language": "python",
   "name": "python3"
  },
  "language_info": {
   "codemirror_mode": {
    "name": "ipython",
    "version": 3
   },
   "file_extension": ".py",
   "mimetype": "text/x-python",
   "name": "python",
   "nbconvert_exporter": "python",
   "pygments_lexer": "ipython3",
   "version": "3.8.5"
  }
 },
 "nbformat": 4,
 "nbformat_minor": 4
}
