{
 "cells": [
  {
   "cell_type": "code",
   "execution_count": 1,
   "metadata": {},
   "outputs": [
    {
     "name": "stdout",
     "output_type": "stream",
     "text": [
      "Enter the String of binary bits: 010101100001\n",
      "Number of positive changes are: 4\n",
      "Number of negative changes are: 3\n"
     ]
    }
   ],
   "source": [
    "# get the string of bits as input\n",
    "string = input('Enter the String of binary bits: ')\n",
    "\n",
    "# compute the occurrence of '01' i.e. number of positive changes\n",
    "positive_change = string.count('01')\n",
    "\n",
    "# compute the occurrence of '10' i.e. number of negative changes\n",
    "negative_change = string.count('10')\n",
    "\n",
    "# print the positive/negative changes\n",
    "print('Number of positive changes are: {}'.format(positive_change))\n",
    "print('Number of negative changes are: {}'.format(negative_change))"
   ]
  },
  {
   "cell_type": "code",
   "execution_count": null,
   "metadata": {},
   "outputs": [],
   "source": []
  }
 ],
 "metadata": {
  "kernelspec": {
   "display_name": "Python 3",
   "language": "python",
   "name": "python3"
  },
  "language_info": {
   "codemirror_mode": {
    "name": "ipython",
    "version": 3
   },
   "file_extension": ".py",
   "mimetype": "text/x-python",
   "name": "python",
   "nbconvert_exporter": "python",
   "pygments_lexer": "ipython3",
   "version": "3.8.5"
  }
 },
 "nbformat": 4,
 "nbformat_minor": 4
}
