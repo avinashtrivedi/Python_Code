{
 "cells": [
  {
   "cell_type": "markdown",
   "metadata": {},
   "source": [
    "# Create a tuple object containing at least 5 values. Print all values from the fourth item to the last item using a slicing technique"
   ]
  },
  {
   "cell_type": "code",
   "execution_count": 1,
   "metadata": {},
   "outputs": [],
   "source": [
    "# create a tuple\n",
    "mytuple = (10,20,30,40,50,60,70,80)"
   ]
  },
  {
   "cell_type": "code",
   "execution_count": 2,
   "metadata": {},
   "outputs": [
    {
     "name": "stdout",
     "output_type": "stream",
     "text": [
      "(40, 50, 60, 70, 80)\n"
     ]
    }
   ],
   "source": [
    "# since indexing starts from 0\n",
    "# hence, index of 4th item is 3\n",
    "\n",
    "print(mytuple[3:])"
   ]
  },
  {
   "cell_type": "markdown",
   "metadata": {},
   "source": [
    "# Create 2 SET objects of your own. At least one item should be included in both SET objects."
   ]
  },
  {
   "cell_type": "code",
   "execution_count": 3,
   "metadata": {},
   "outputs": [],
   "source": [
    "# create sets\n",
    "set1 = {11,22,33,44,65,68,100}\n",
    "set2 = {23,65,100,68,120}"
   ]
  },
  {
   "cell_type": "markdown",
   "metadata": {},
   "source": [
    "# Execute 4 set operations (i.e., intersection, union, difference, symmetric difference) and print the result."
   ]
  },
  {
   "cell_type": "code",
   "execution_count": 4,
   "metadata": {},
   "outputs": [
    {
     "name": "stdout",
     "output_type": "stream",
     "text": [
      "{65, 100, 68}\n"
     ]
    }
   ],
   "source": [
    "# intersection\n",
    "\n",
    "print(set1.intersection(set2))"
   ]
  },
  {
   "cell_type": "code",
   "execution_count": 5,
   "metadata": {},
   "outputs": [
    {
     "name": "stdout",
     "output_type": "stream",
     "text": [
      "{65, 33, 68, 100, 11, 44, 22, 23, 120}\n"
     ]
    }
   ],
   "source": [
    "# union\n",
    "\n",
    "print(set1.union(set2))"
   ]
  },
  {
   "cell_type": "code",
   "execution_count": 6,
   "metadata": {},
   "outputs": [
    {
     "name": "stdout",
     "output_type": "stream",
     "text": [
      "set1 - set2 =  {33, 11, 44, 22}\n",
      "set2 - set1 =  {120, 23}\n"
     ]
    }
   ],
   "source": [
    "# difference\n",
    "\n",
    "print('set1 - set2 = ',set1.difference(set2))\n",
    "\n",
    "print('set2 - set1 = ',set2.difference(set1))"
   ]
  },
  {
   "cell_type": "code",
   "execution_count": 7,
   "metadata": {},
   "outputs": [
    {
     "name": "stdout",
     "output_type": "stream",
     "text": [
      "{33, 22, 23, 120, 11, 44}\n"
     ]
    }
   ],
   "source": [
    "# symmetric difference\n",
    "\n",
    "print(set1.symmetric_difference(set2))"
   ]
  },
  {
   "cell_type": "code",
   "execution_count": null,
   "metadata": {},
   "outputs": [],
   "source": []
  }
 ],
 "metadata": {
  "kernelspec": {
   "display_name": "Python 3",
   "language": "python",
   "name": "python3"
  },
  "language_info": {
   "codemirror_mode": {
    "name": "ipython",
    "version": 3
   },
   "file_extension": ".py",
   "mimetype": "text/x-python",
   "name": "python",
   "nbconvert_exporter": "python",
   "pygments_lexer": "ipython3",
   "version": "3.8.5"
  }
 },
 "nbformat": 4,
 "nbformat_minor": 4
}
