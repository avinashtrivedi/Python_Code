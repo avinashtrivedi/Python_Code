{
 "cells": [
  {
   "cell_type": "markdown",
   "metadata": {},
   "source": [
    "# step:1"
   ]
  },
  {
   "cell_type": "code",
   "execution_count": 1,
   "metadata": {},
   "outputs": [],
   "source": [
    "import pandas as pd\n",
    "from IPython.display import display,HTML\n",
    "\n",
    "cars_df_orig = pd.read_csv('https://s3-us-west-2.amazonaws.com/data-analytics.zybooks.com/mtcars.csv')"
   ]
  },
  {
   "cell_type": "code",
   "execution_count": 2,
   "metadata": {},
   "outputs": [],
   "source": [
    "cars_df = cars_df_orig.sample(n=30, replace=False ,random_state =100)"
   ]
  },
  {
   "cell_type": "code",
   "execution_count": 3,
   "metadata": {},
   "outputs": [
    {
     "name": "stdout",
     "output_type": "stream",
     "text": [
      "Cards Dataframe (showing only the first five observations)\n",
      "\n"
     ]
    },
    {
     "data": {
      "text/html": [
       "<table border=\"1\" class=\"dataframe\">\n",
       "  <thead>\n",
       "    <tr style=\"text-align: right;\">\n",
       "      <th></th>\n",
       "      <th>Unnamed: 0</th>\n",
       "      <th>mpg</th>\n",
       "      <th>cyl</th>\n",
       "      <th>disp</th>\n",
       "      <th>hp</th>\n",
       "      <th>drat</th>\n",
       "      <th>wt</th>\n",
       "      <th>qsec</th>\n",
       "      <th>vs</th>\n",
       "      <th>am</th>\n",
       "      <th>gear</th>\n",
       "      <th>carb</th>\n",
       "    </tr>\n",
       "  </thead>\n",
       "  <tbody>\n",
       "    <tr>\n",
       "      <th>13</th>\n",
       "      <td>Merc 450SLC</td>\n",
       "      <td>15.2</td>\n",
       "      <td>8</td>\n",
       "      <td>275.8</td>\n",
       "      <td>180</td>\n",
       "      <td>3.07</td>\n",
       "      <td>3.780</td>\n",
       "      <td>18.00</td>\n",
       "      <td>0</td>\n",
       "      <td>0</td>\n",
       "      <td>3</td>\n",
       "      <td>3</td>\n",
       "    </tr>\n",
       "    <tr>\n",
       "      <th>28</th>\n",
       "      <td>Ford Pantera L</td>\n",
       "      <td>15.8</td>\n",
       "      <td>8</td>\n",
       "      <td>351.0</td>\n",
       "      <td>264</td>\n",
       "      <td>4.22</td>\n",
       "      <td>3.170</td>\n",
       "      <td>14.50</td>\n",
       "      <td>0</td>\n",
       "      <td>1</td>\n",
       "      <td>5</td>\n",
       "      <td>4</td>\n",
       "    </tr>\n",
       "    <tr>\n",
       "      <th>1</th>\n",
       "      <td>Mazda RX4 Wag</td>\n",
       "      <td>21.0</td>\n",
       "      <td>6</td>\n",
       "      <td>160.0</td>\n",
       "      <td>110</td>\n",
       "      <td>3.90</td>\n",
       "      <td>2.875</td>\n",
       "      <td>17.02</td>\n",
       "      <td>0</td>\n",
       "      <td>1</td>\n",
       "      <td>4</td>\n",
       "      <td>4</td>\n",
       "    </tr>\n",
       "    <tr>\n",
       "      <th>26</th>\n",
       "      <td>Porsche 914-2</td>\n",
       "      <td>26.0</td>\n",
       "      <td>4</td>\n",
       "      <td>120.3</td>\n",
       "      <td>91</td>\n",
       "      <td>4.43</td>\n",
       "      <td>2.140</td>\n",
       "      <td>16.70</td>\n",
       "      <td>0</td>\n",
       "      <td>1</td>\n",
       "      <td>5</td>\n",
       "      <td>2</td>\n",
       "    </tr>\n",
       "    <tr>\n",
       "      <th>5</th>\n",
       "      <td>Valiant</td>\n",
       "      <td>18.1</td>\n",
       "      <td>6</td>\n",
       "      <td>225.0</td>\n",
       "      <td>105</td>\n",
       "      <td>2.76</td>\n",
       "      <td>3.460</td>\n",
       "      <td>20.22</td>\n",
       "      <td>1</td>\n",
       "      <td>0</td>\n",
       "      <td>3</td>\n",
       "      <td>1</td>\n",
       "    </tr>\n",
       "  </tbody>\n",
       "</table>"
      ],
      "text/plain": [
       "<IPython.core.display.HTML object>"
      ]
     },
     "metadata": {},
     "output_type": "display_data"
    }
   ],
   "source": [
    "print('Cards Dataframe (showing only the first five observations)\\n')\n",
    "display(HTML(cars_df.head().to_html()))"
   ]
  },
  {
   "cell_type": "markdown",
   "metadata": {},
   "source": [
    "# Step:2"
   ]
  },
  {
   "cell_type": "code",
   "execution_count": 4,
   "metadata": {},
   "outputs": [
    {
     "data": {
      "image/png": "[encoded data removed]",
      "text/plain": [
       "<Figure size 432x288 with 1 Axes>"
      ]
     },
     "metadata": {
      "needs_background": "light"
     },
     "output_type": "display_data"
    }
   ],
   "source": [
    "import matplotlib.pyplot as plt\n",
    "\n",
    "plt.plot(cars_df[\"wt\"],cars_df[\"mpg\"],'o',color='red')\n",
    "\n",
    "plt.title(\"MPG Against weight\")\n",
    "plt.xlabel(\"Weight (1000s lbs)\")\n",
    "plt.ylabel(\"MPG\")\n",
    "\n",
    "plt.show()"
   ]
  },
  {
   "cell_type": "markdown",
   "metadata": {},
   "source": [
    "# Step:3"
   ]
  },
  {
   "cell_type": "code",
   "execution_count": 5,
   "metadata": {},
   "outputs": [
    {
     "data": {
      "image/png": "[encoded data removed]",
      "text/plain": [
       "<Figure size 432x288 with 1 Axes>"
      ]
     },
     "metadata": {
      "needs_background": "light"
     },
     "output_type": "display_data"
    }
   ],
   "source": [
    "import matplotlib.pyplot as plt\n",
    "\n",
    "plt.plot(cars_df[\"hp\"],cars_df[\"mpg\"],'o',color='blue')\n",
    "\n",
    "plt.title(\"MPG Against Horsepower\")\n",
    "plt.xlabel(\"Horsepower\")\n",
    "plt.ylabel(\"MPG\")\n",
    "\n",
    "plt.show()"
   ]
  },
  {
   "cell_type": "markdown",
   "metadata": {},
   "source": [
    "# step:4"
   ]
  },
  {
   "cell_type": "code",
   "execution_count": 6,
   "metadata": {},
   "outputs": [
    {
     "name": "stdout",
     "output_type": "stream",
     "text": [
      "          mpg        wt        hp\n",
      "mpg  1.000000 -0.873007 -0.775310\n",
      "wt  -0.873007  1.000000  0.661227\n",
      "hp  -0.775310  0.661227  1.000000\n"
     ]
    }
   ],
   "source": [
    "mpg_wt_corr = cars_df[['mpg','wt','hp']].corr()\n",
    "print(mpg_wt_corr)"
   ]
  },
  {
   "cell_type": "markdown",
   "metadata": {},
   "source": [
    "# Step:5"
   ]
  },
  {
   "cell_type": "code",
   "execution_count": 7,
   "metadata": {},
   "outputs": [],
   "source": [
    "from statsmodels.formula.api import ols"
   ]
  },
  {
   "cell_type": "code",
   "execution_count": 8,
   "metadata": {},
   "outputs": [],
   "source": [
    "model = ols('mpg ~ wt + hp',data=cars_df).fit()"
   ]
  },
  {
   "cell_type": "code",
   "execution_count": 9,
   "metadata": {},
   "outputs": [
    {
     "name": "stdout",
     "output_type": "stream",
     "text": [
      "                            OLS Regression Results                            \n",
      "==============================================================================\n",
      "Dep. Variable:                    mpg   R-squared:                       0.832\n",
      "Model:                            OLS   Adj. R-squared:                  0.819\n",
      "Method:                 Least Squares   F-statistic:                     66.78\n",
      "Date:                Wed, 04 Aug 2021   Prob (F-statistic):           3.53e-11\n",
      "Time:                        13:27:36   Log-Likelihood:                -70.094\n",
      "No. Observations:                  30   AIC:                             146.2\n",
      "Df Residuals:                      27   BIC:                             150.4\n",
      "Df Model:                           2                                         \n",
      "Covariance Type:            nonrobust                                         \n",
      "==============================================================================\n",
      "                 coef    std err          t      P>|t|      [0.025      0.975]\n",
      "------------------------------------------------------------------------------\n",
      "Intercept     37.2872      1.633     22.839      0.000      33.937      40.637\n",
      "wt            -3.9570      0.650     -6.087      0.000      -5.291      -2.623\n",
      "hp            -0.0312      0.009     -3.345      0.002      -0.050      -0.012\n",
      "==============================================================================\n",
      "Omnibus:                        6.488   Durbin-Watson:                   2.000\n",
      "Prob(Omnibus):                  0.039   Jarque-Bera (JB):                5.024\n",
      "Skew:                           0.972   Prob(JB):                       0.0811\n",
      "Kurtosis:                       3.488   Cond. No.                         575.\n",
      "==============================================================================\n",
      "\n",
      "Notes:\n",
      "[1] Standard Errors assume that the covariance matrix of the errors is correctly specified.\n"
     ]
    }
   ],
   "source": [
    "print(model.summary())"
   ]
  },
  {
   "cell_type": "markdown",
   "metadata": {},
   "source": [
    "# Q.1"
   ]
  },
  {
   "cell_type": "markdown",
   "metadata": {},
   "source": [
    "Yes, there is Trend in scatter plot of miles per gallon against horsepower and weight.\n",
    "Both shows negative trend i.e. The mpg is getting decreases with increase in horsepower or weight.\n",
    "This was expected. Because due to more horsepower more fuel will be consumed, also due to more weight more fuel will be consumed."
   ]
  },
  {
   "cell_type": "markdown",
   "metadata": {},
   "source": [
    "# Q.2"
   ]
  },
  {
   "cell_type": "code",
   "execution_count": 10,
   "metadata": {},
   "outputs": [
    {
     "ename": "SyntaxError",
     "evalue": "invalid syntax (<ipython-input-10-da13b629a404>, line 1)",
     "output_type": "error",
     "traceback": [
      "\u001b[1;36m  File \u001b[1;32m\"<ipython-input-10-da13b629a404>\"\u001b[1;36m, line \u001b[1;32m1\u001b[0m\n\u001b[1;33m    coefficients of correlation between miles per gallon and horsepower is: -0.775310\u001b[0m\n\u001b[1;37m                 ^\u001b[0m\n\u001b[1;31mSyntaxError\u001b[0m\u001b[1;31m:\u001b[0m invalid syntax\n"
     ]
    }
   ],
   "source": [
    "coefficients of correlation between miles per gallon and horsepower is: -0.775310\n",
    "    \n",
    "coefficients of correlation Between miles per gallon and the weight of the car: -0.873007\n",
    "    \n",
    "What are the directions and strengths of these coefficients? \n",
    "\n",
    "        miles per gallon and horsepower are negatively correlated with strength of -0.775310\n",
    "        miles per gallon and the weight are also are negatively correlated with strength of -0.873007\n",
    "        \n",
    "They exhibit strongly negative correlation        "
   ]
  },
  {
   "cell_type": "markdown",
   "metadata": {},
   "source": [
    "# Q.3"
   ]
  },
  {
   "cell_type": "code",
   "execution_count": null,
   "metadata": {},
   "outputs": [],
   "source": [
    "Here negative coefficient indicates that with the increase in independent variable, the dependent variable tends to decrease.\n",
    "\n",
    "the sign on the coefficient (positive or negative) decides the direction of the effect.\n",
    "\n",
    "In regression with multiple independent variables,The coefficient of independent variables indicates that how much the dependent variable is expected to increase \n",
    "when that independent variable increases by one, keeping all the other independent variables constant. \n",
    "\n",
    "Hence using this model, The Car company will focus more on reducing weight than reducing Hp."
   ]
  },
  {
   "cell_type": "code",
   "execution_count": null,
   "metadata": {},
   "outputs": [],
   "source": [
    "Q.1\n",
    "\n",
    "\n",
    "\n",
    "Yes, there is Trend in scatter plot of miles per gallon against horsepower and weight. Both shows negative trend i.e. The mpg is getting decreases with increase in horsepower or weight. This was expected. Because due to more horsepower more fuel will be consumed, also due to more weight more fuel will be consumed.\n",
    "\n",
    "\n",
    "\n",
    "Q.2\n",
    "\n",
    "\n",
    "\n",
    "Coefficients of correlation between miles per gallon and horsepower is: -0.775310\n",
    "Coefficients of correlation Between miles per gallon and the weight of the car: -0.873007\n",
    "\n",
    "\n",
    "\n",
    "What are the directions and strengths of these coefficients? \n",
    "\n",
    "miles per gallon and horsepower are negatively correlated with strength of -0.775310\n",
    "miles per gallon and the weight are also are negatively correlated with strength of -0.873007\n",
    "\n",
    "Both exhibit strongly negative correlations\n",
    "\n",
    "\n",
    "\n",
    "Q.3\n",
    "\n",
    "\n",
    "\n",
    "Here negative coefficient indicates that with the increase in independent variable, the dependent variable will decrease. The sign on the coefficient (+ve or -ve) decides the direction of the effect.\n",
    "\n",
    "\n",
    "\n",
    "In regression with multiple independent variables, The coefficient of independent variables indicates that how much the dependent variable is expected to increase when that independent variable increases by one, keeping all the other independent variables constant.\n",
    "\n",
    "\n",
    "\n",
    "Hence using this model, The Car company will focus more on reducing weight than reducing horsepower."
   ]
  }
 ],
 "metadata": {
  "kernelspec": {
   "display_name": "Python 3",
   "language": "python",
   "name": "python3"
  },
  "language_info": {
   "codemirror_mode": {
    "name": "ipython",
    "version": 3
   },
   "file_extension": ".py",
   "mimetype": "text/x-python",
   "name": "python",
   "nbconvert_exporter": "python",
   "pygments_lexer": "ipython3",
   "version": "3.8.5"
  }
 },
 "nbformat": 4,
 "nbformat_minor": 4
}
