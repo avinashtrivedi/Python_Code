{
 "cells": [
  {
   "cell_type": "code",
   "execution_count": 1,
   "metadata": {},
   "outputs": [
    {
     "name": "stdout",
     "output_type": "stream",
     "text": [
      "r2d2\n"
     ]
    }
   ],
   "source": [
    "# (a) Output value: 'r2d2'\n",
    "\n",
    "# get 0th element using [:1]\n",
    "# get 3rd element using [3:4]\n",
    "text = 'random'[:1] + '2' + 'random'[3:4] + '2'\n",
    "\n",
    "print(text)"
   ]
  },
  {
   "cell_type": "code",
   "execution_count": 2,
   "metadata": {},
   "outputs": [
    {
     "name": "stdout",
     "output_type": "stream",
     "text": [
      "2\n"
     ]
    }
   ],
   "source": [
    "# (b) Output value: 2\n",
    "\n",
    "a = '123'\n",
    "\n",
    "# get 0th element and convert to int\n",
    "# using int(a[0])\n",
    "total = int(a[0]) + int(a[0])\n",
    "\n",
    "print(total)"
   ]
  },
  {
   "cell_type": "code",
   "execution_count": 3,
   "metadata": {},
   "outputs": [
    {
     "name": "stdout",
     "output_type": "stream",
     "text": [
      "True\n"
     ]
    }
   ],
   "source": [
    "# (c) Output value: True\n",
    "\n",
    "# define dictionary\n",
    "mydict = {'a':1,\n",
    "         'b':2,\n",
    "         'c':3}\n",
    "\n",
    "# check if value for key a and b is 1 and 2 respectively\n",
    "if mydict['a']==1 and mydict['b']==2:\n",
    "    print(True)"
   ]
  },
  {
   "cell_type": "code",
   "execution_count": 4,
   "metadata": {},
   "outputs": [
    {
     "name": "stdout",
     "output_type": "stream",
     "text": [
      "parsec\n"
     ]
    }
   ],
   "source": [
    "# (d) Output value: 'parsec'\n",
    "mytuple = ('parsecond' , 'hello','world')\n",
    "\n",
    "# get element at index zero\n",
    "text = mytuple[0]\n",
    "\n",
    "# get everything from beginning to 5th index.\n",
    "text = text[:6]\n",
    "print(text)"
   ]
  },
  {
   "cell_type": "code",
   "execution_count": 5,
   "metadata": {},
   "outputs": [
    {
     "name": "stdout",
     "output_type": "stream",
     "text": [
      "greedo\n"
     ]
    }
   ],
   "source": [
    "# (e) Output value: 'greedo'\n",
    "mydict = { 'a':'Greedo',\n",
    "          'b':'Hello',\n",
    "          'c':'World'\n",
    "}\n",
    "\n",
    "# get value for key a , then convert it to lower case\n",
    "text = mydict['a'].lower()\n",
    "print(f\"{text}\")"
   ]
  },
  {
   "cell_type": "code",
   "execution_count": 6,
   "metadata": {},
   "outputs": [
    {
     "name": "stdout",
     "output_type": "stream",
     "text": [
      "wuher\n"
     ]
    }
   ],
   "source": [
    "# (f) Output value: 'wuher'\n",
    "mylist = [('wuhan','here'),('tender')]\n",
    "\n",
    "# list/tuple indexing and slicing to form\n",
    "# 'wuher'\n",
    "text = mylist[0][0][:-2] + mylist[1][-2:]\n",
    "print(text)"
   ]
  },
  {
   "cell_type": "code",
   "execution_count": 7,
   "metadata": {},
   "outputs": [
    {
     "name": "stdout",
     "output_type": "stream",
     "text": [
      "3\n"
     ]
    }
   ],
   "source": [
    "# (g) Output value: 3\n",
    "\n",
    "# create a sequence of integer\n",
    "x = range(3)\n",
    "\n",
    "# get length\n",
    "print(len(x))"
   ]
  }
 ],
 "metadata": {
  "kernelspec": {
   "display_name": "Python 3",
   "language": "python",
   "name": "python3"
  },
  "language_info": {
   "codemirror_mode": {
    "name": "ipython",
    "version": 3
   },
   "file_extension": ".py",
   "mimetype": "text/x-python",
   "name": "python",
   "nbconvert_exporter": "python",
   "pygments_lexer": "ipython3",
   "version": "3.8.5"
  }
 },
 "nbformat": 4,
 "nbformat_minor": 4
}
