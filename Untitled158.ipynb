{
 "cells": [
  {
   "cell_type": "code",
   "execution_count": 1,
   "metadata": {},
   "outputs": [],
   "source": [
    "import list_functions as f"
   ]
  },
  {
   "cell_type": "code",
   "execution_count": 2,
   "metadata": {},
   "outputs": [
    {
     "name": "stdout",
     "output_type": "stream",
     "text": [
      "10 random number is: [90, 89, 91, 66, 60, 29, 100, 83, 65, 24]\n"
     ]
    }
   ],
   "source": [
    "print('10 random number is:',f.random_list(10))"
   ]
  },
  {
   "cell_type": "code",
   "execution_count": 3,
   "metadata": {},
   "outputs": [
    {
     "name": "stdout",
     "output_type": "stream",
     "text": [
      "Average of [2,3,4,5,6] is: 4\n"
     ]
    }
   ],
   "source": [
    "print('Average of [2,3,4,5,6] is:',f.average([2,3,4,5,6]))"
   ]
  },
  {
   "cell_type": "code",
   "execution_count": 4,
   "metadata": {},
   "outputs": [
    {
     "name": "stdout",
     "output_type": "stream",
     "text": [
      "List of odd numbers in [2,3,4,5,6,7,8] is: [3, 5, 7]\n"
     ]
    }
   ],
   "source": [
    "print('List of odd numbers in [2,3,4,5,6,7,8] is:',f.only_odd([2,3,4,5,6,7,8]))"
   ]
  },
  {
   "cell_type": "code",
   "execution_count": 5,
   "metadata": {},
   "outputs": [
    {
     "name": "stdout",
     "output_type": "stream",
     "text": [
      "String form of [2,1,2,3,4,5] is: [2, 1, 2, 3, 4, 5]\n"
     ]
    }
   ],
   "source": [
    "print('String form of [2,1,2,3,4,5] is:',f.to_string([2,1,2,3,4,5]))"
   ]
  },
  {
   "cell_type": "code",
   "execution_count": 6,
   "metadata": {},
   "outputs": [
    {
     "name": "stdout",
     "output_type": "stream",
     "text": [
      "Check if any 2 directly followed by 3 in [1,2,3,4]: True\n"
     ]
    }
   ],
   "source": [
    "print('Check if any 2 directly followed by 3 in [1,2,3,4]:',f.contains([1,2,3,4],2,3))"
   ]
  },
  {
   "cell_type": "code",
   "execution_count": 7,
   "metadata": {},
   "outputs": [
    {
     "name": "stdout",
     "output_type": "stream",
     "text": [
      "Does [1,2,3,4,1] contain duplicates: True\n"
     ]
    }
   ],
   "source": [
    "print('Does [1,2,3,4,1] contain duplicates:',f.has_duplicates([1,2,3,4,1]))"
   ]
  },
  {
   "cell_type": "code",
   "execution_count": null,
   "metadata": {},
   "outputs": [],
   "source": []
  }
 ],
 "metadata": {
  "kernelspec": {
   "display_name": "Python 3",
   "language": "python",
   "name": "python3"
  },
  "language_info": {
   "codemirror_mode": {
    "name": "ipython",
    "version": 3
   },
   "file_extension": ".py",
   "mimetype": "text/x-python",
   "name": "python",
   "nbconvert_exporter": "python",
   "pygments_lexer": "ipython3",
   "version": "3.8.5"
  }
 },
 "nbformat": 4,
 "nbformat_minor": 4
}
