{
 "cells": [
  {
   "cell_type": "code",
   "execution_count": 1,
   "metadata": {},
   "outputs": [],
   "source": [
    "class login:\n",
    "    \n",
    "    # define the class constructor\n",
    "    # define simlogin and simpass\n",
    "    def __init__(self):\n",
    "        self.simlogin = ''\n",
    "        self.simpass = ''\n",
    "        \n",
    "    def check_credentials(self,login_name,passwd):\n",
    "        \n",
    "        # set simlogin and simpass\n",
    "        self.simlogin = \"Test\"\n",
    "        self.simpass = \"test1234\"\n",
    "        \n",
    "        # check whether login name and password is correct\n",
    "        if login_name==self.simlogin and passwd==self.simpass:\n",
    "            print('Successful login!')\n",
    "            return True\n",
    "        \n",
    "        elif login_name==self.simlogin and passwd!=self.simpass:\n",
    "            print('Login name is correct, incorrect password!')\n",
    "            \n",
    "        elif login_name!=self.simlogin and passwd==self.simpass:\n",
    "            print('Login name is incorrect, password accepted!')\n",
    "            \n",
    "        elif login_name!=self.simlogin and passwd!=self.simpass:\n",
    "            print('Unsuccessful login attempt!')\n",
    "        "
   ]
  },
  {
   "cell_type": "code",
   "execution_count": 2,
   "metadata": {},
   "outputs": [],
   "source": [
    "# credential check simulation.\n",
    "def main():\n",
    "    obj = login() # create object of login class\n",
    "    \n",
    "    # get the user name and password until correct combination is entered.\n",
    "    while True:\n",
    "        login_name = input('Enter user name: ')\n",
    "        passwd = input('Enter password: ')\n",
    "        if obj.check_credentials(login_name,passwd)==True:\n",
    "            break\n",
    "        else:\n",
    "            print('Please Try again.\\n')\n"
   ]
  },
  {
   "cell_type": "code",
   "execution_count": 3,
   "metadata": {},
   "outputs": [
    {
     "name": "stdout",
     "output_type": "stream",
     "text": [
      "Enter user name: myusername\n",
      "Enter password: mypasswd\n",
      "Unsuccessful login attempt!\n",
      "Please Try again.\n",
      "\n",
      "Enter user name: ABC\n",
      "Enter password: 123\n",
      "Unsuccessful login attempt!\n",
      "Please Try again.\n",
      "\n",
      "Enter user name: Test\n",
      "Enter password: 123\n",
      "Login name is correct, incorrect password!\n",
      "Please Try again.\n",
      "\n",
      "Enter user name: XYZ\n",
      "Enter password: test1234\n",
      "Login name is incorrect, password accepted!\n",
      "Please Try again.\n",
      "\n",
      "Enter user name: Test\n",
      "Enter password: test1234\n",
      "Successful login!\n"
     ]
    }
   ],
   "source": [
    "if __name__ == \"__main__\":\n",
    "    main()"
   ]
  },
  {
   "cell_type": "code",
   "execution_count": null,
   "metadata": {},
   "outputs": [],
   "source": []
  }
 ],
 "metadata": {
  "kernelspec": {
   "display_name": "Python 3",
   "language": "python",
   "name": "python3"
  },
  "language_info": {
   "codemirror_mode": {
    "name": "ipython",
    "version": 3
   },
   "file_extension": ".py",
   "mimetype": "text/x-python",
   "name": "python",
   "nbconvert_exporter": "python",
   "pygments_lexer": "ipython3",
   "version": "3.8.5"
  }
 },
 "nbformat": 4,
 "nbformat_minor": 4
}
