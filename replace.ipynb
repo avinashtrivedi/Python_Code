{
 "cells": [
  {
   "cell_type": "code",
   "execution_count": 1,
   "metadata": {},
   "outputs": [
    {
     "name": "stdout",
     "output_type": "stream",
     "text": [
      "Enter word replacement pairs:\n",
      "automobile car   manufacturer maker   children kids\n",
      "\n",
      "Enter the sentence:\n",
      "The automobile manufacturer recommends car seats for children if the automobile doesn't already have one.\n",
      "\n",
      "---------------Output:---------------\n",
      "\n",
      "The car maker recommends car seats for kids if the car doesn't already have one.\n"
     ]
    }
   ],
   "source": [
    "# try except block to handle the exception.\n",
    "try:\n",
    "    \n",
    "    replacement = input('Enter word replacement pairs:\\n')\n",
    "    print()\n",
    "    text = input('Enter the sentence:\\n')\n",
    "    print()\n",
    "    \n",
    "    # store the word and their replecement word in the list\n",
    "    replacement = [i.strip() for i in replacement.split(' ') if i!='']\n",
    "\n",
    "    # dictionary to hold word and their replacement word as key:value pairs\n",
    "    mydict = {}\n",
    "\n",
    "    # store word and its replacement in dictionary\n",
    "    for i in range(0,len(replacement),2):\n",
    "        mydict[replacement[i]] = replacement[i+1]\n",
    "\n",
    "    # create a new text containing the words replaced with replacement word.\n",
    "    newtext=''\n",
    "    for i in text.split(' '):\n",
    "        if i in mydict.keys():\n",
    "            newtext = newtext + mydict[i] + ' '\n",
    "        else:\n",
    "            newtext = newtext + i + ' '\n",
    "    print('---------------Output:---------------\\n')\n",
    "    print(newtext.strip())\n",
    "except:\n",
    "    print('Wrong inputs')"
   ]
  },
  {
   "cell_type": "code",
   "execution_count": null,
   "metadata": {},
   "outputs": [],
   "source": []
  }
 ],
 "metadata": {
  "kernelspec": {
   "display_name": "Python 3",
   "language": "python",
   "name": "python3"
  },
  "language_info": {
   "codemirror_mode": {
    "name": "ipython",
    "version": 3
   },
   "file_extension": ".py",
   "mimetype": "text/x-python",
   "name": "python",
   "nbconvert_exporter": "python",
   "pygments_lexer": "ipython3",
   "version": "3.8.5"
  }
 },
 "nbformat": 4,
 "nbformat_minor": 4
}
