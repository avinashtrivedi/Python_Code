{
 "cells": [
  {
   "cell_type": "code",
   "execution_count": 25,
   "metadata": {},
   "outputs": [
    {
     "name": "stdout",
     "output_type": "stream",
     "text": [
      "Enter Monthly Patron count for  January = 7\n",
      "Enter Monthly Patron count for  February = 55\n",
      "Enter Monthly Patron count for  March = 33\n",
      "Enter Monthly Patron count for  April = 11\n",
      "Enter Monthly Patron count for  May = 45\n",
      "Enter Monthly Patron count for  June = 25\n",
      "Enter Monthly Patron count for  July = 74\n",
      "Enter Monthly Patron count for  August = 85\n",
      "Enter Monthly Patron count for  September = 36\n",
      "Enter Monthly Patron count for  October = 52\n",
      "Enter Monthly Patron count for  November = 20\n",
      "Enter Monthly Patron count for  December = 30\n",
      "-----------------------\n",
      "January       got smallest amount of patrons i.e:      7\n",
      "August        got largest amount of patrons i.e:     85\n",
      "The average monthly visitors is 39.42\n",
      "-----------------------\n"
     ]
    }
   ],
   "source": [
    "months_list = ['January', 'February', 'March', 'April', 'May', 'June', 'July',\n",
    "            'August', 'September', 'October', 'November', 'December']\n",
    "monthly_patron_count=[] #list to store monthly patron count of every month\n",
    "for i in range(12):\n",
    "    try:\n",
    "        patron_count = int(input('{}  {} = '.format('Enter Monthly Patron count for', months_list[i])))\n",
    "        monthly_patron_count.append(patron_count) # storing the individual monthly count to list monthly_patron_count\n",
    "        \n",
    "    except:\n",
    "        print('Warning:No input or Wrong input is given for',months_list[i])\n",
    "        break #aborting the program if wrong or no input is given for any month.\n",
    "        \n",
    "#further program will execute only if patron count for every months is entered by user.\n",
    "        \n",
    "if len(monthly_patron_count)==12: \n",
    "    \n",
    "    # initially consider minimum and maximum is at first position (index 0) of list monthly_patron_count\n",
    "    # later we will compare and change those index position.\n",
    "    \n",
    "    total_patron=0 \n",
    "    \n",
    "    # find the total count of patron\n",
    "    for i in range(len(monthly_patron_count)):\n",
    "        total_patron = total_patron + monthly_patron_count[i]\n",
    "    \n",
    "    # find the minimum patron count\n",
    "    \n",
    "    min_patron_index = 0 # to keep track of index of minimumn patron count \n",
    "    min_patron = monthly_patron_count[0] # to keep track of minimumn patron count\n",
    "    \n",
    "    for i in range(1,len(monthly_patron_count)):\n",
    "        if monthly_patron_count[i]< monthly_patron_count[min_patron_index]:\n",
    "            min_patron_index = i\n",
    "            min_patron = monthly_patron_count[min_patron_index]\n",
    "    \n",
    "    # find the maximum patron count\n",
    "\n",
    "    max_patron_index = 0 # to keep track of index of maximum patron count \n",
    "    max_patron = monthly_patron_count[0] # to keep track of maximum patron count\n",
    "    \n",
    "    for i in range(1,len(monthly_patron_count)):\n",
    "        if monthly_patron_count[i]> monthly_patron_count[max_patron_index]:\n",
    "            max_patron_index = i\n",
    "            max_patron = monthly_patron_count[max_patron_index]\n",
    "            \n",
    "    # average monthly visitors\n",
    "    total_avg_patron = round(total_patron/12,2) #finding average and rounding it to 2 decimal places\n",
    "    \n",
    "\n",
    "    print('-----------------------')\n",
    "    print(f\"{months_list[min_patron_index]:{13}} got smallest amount of patrons i.e:  {min_patron:{5}}\")\n",
    "    print(f\"{months_list[max_patron_index]:{13}} got largest amount of patrons i.e:  {max_patron:{5}}\")\n",
    "    print(f\"The average monthly visitors is {total_avg_patron:{5}}\")\n",
    "\n",
    "    print('-----------------------')"
   ]
  },
  {
   "cell_type": "markdown",
   "metadata": {},
   "source": [
    "### monthly_patron_\n",
    "count = [int(x) for x in input('Enter Monthly Patron counts for each Month: ').split()] "
   ]
  },
  {
   "cell_type": "code",
   "execution_count": null,
   "metadata": {},
   "outputs": [],
   "source": [
    "which_one = int(input(\"What month (1-12)? \"))\n",
    "months = ['January', 'February', 'March', 'April', 'May', 'June', 'July',\n",
    "          'August', 'September', 'October', 'November', 'December']\n",
    "\n",
    "if 1 <= which_one <= 12:\n",
    "    print(\"The month is\", months[which_one - 1])"
   ]
  },
  {
   "cell_type": "code",
   "execution_count": null,
   "metadata": {},
   "outputs": [],
   "source": []
  }
 ],
 "metadata": {
  "kernelspec": {
   "display_name": "Python 3",
   "language": "python",
   "name": "python3"
  },
  "language_info": {
   "codemirror_mode": {
    "name": "ipython",
    "version": 3
   },
   "file_extension": ".py",
   "mimetype": "text/x-python",
   "name": "python",
   "nbconvert_exporter": "python",
   "pygments_lexer": "ipython3",
   "version": "3.8.5"
  }
 },
 "nbformat": 4,
 "nbformat_minor": 4
}
