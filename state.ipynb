{
 "cells": [
  {
   "cell_type": "code",
   "execution_count": 1,
   "metadata": {},
   "outputs": [
    {
     "name": "stdout",
     "output_type": "stream",
     "text": [
      "State Capital Listing\n",
      "\n",
      "The capital of Texas is Austin.\n",
      "The capital of New York is Albany.\n",
      "The capital of Louisiana is Baton Rouge.\n",
      "The capital of Georgia is Atlanta.\n",
      "\n",
      "Number of states in this report: 4\n",
      "\n",
      "Deleting New York.\n",
      "Number of states in this report: 3\n",
      "\n",
      "Adding Michigan and relisting.\n",
      "\n",
      "The capital of Texas is Austin.\n",
      "The capital of Louisiana is Baton Rouge.\n",
      "The capital of Georgia is Atlanta.\n",
      "The capital of Michigan is Lansing.\n",
      "\n",
      "Number of states in this report: 4\n"
     ]
    }
   ],
   "source": [
    "print('State Capital Listing\\n')\n",
    "\n",
    "# create a dictionary of state and capital\n",
    "Dict = {'texas':'austin',\n",
    "       'new york':'albany',\n",
    "       'louisiana':'baton rouge',\n",
    "       'georgia':'atlanta'}\n",
    "\n",
    "# print state and respective capital\n",
    "for key,val in Dict.items():\n",
    "    print(\"The capital of {} is {}.\".format(key.title(),val.title()))\n",
    "\n",
    "# print number of state i.e. equals to number of keys in Dict\n",
    "print('\\nNumber of states in this report:',len(Dict))\n",
    "print('\\nDeleting New York.')\n",
    "\n",
    "# delete a element from Dict\n",
    "del Dict['new york']\n",
    "\n",
    "print('Number of states in this report:',len(Dict))\n",
    "print('\\nAdding Michigan and relisting.\\n')\n",
    "\n",
    "# Add a new element in dictionary\n",
    "Dict['Michigan'] = 'lansing'\n",
    "\n",
    "# Again print state and respective capital\n",
    "for key,val in Dict.items():\n",
    "    print(\"The capital of {} is {}.\".format(key.title(),val.title()))\n",
    "    \n",
    "# print number of states.\n",
    "print('\\nNumber of states in this report:',len(Dict))"
   ]
  },
  {
   "cell_type": "code",
   "execution_count": null,
   "metadata": {},
   "outputs": [],
   "source": []
  }
 ],
 "metadata": {
  "kernelspec": {
   "display_name": "Python 3",
   "language": "python",
   "name": "python3"
  },
  "language_info": {
   "codemirror_mode": {
    "name": "ipython",
    "version": 3
   },
   "file_extension": ".py",
   "mimetype": "text/x-python",
   "name": "python",
   "nbconvert_exporter": "python",
   "pygments_lexer": "ipython3",
   "version": "3.8.5"
  }
 },
 "nbformat": 4,
 "nbformat_minor": 4
}
