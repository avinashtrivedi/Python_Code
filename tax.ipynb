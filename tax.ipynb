{
 "cells": [
  {
   "cell_type": "code",
   "execution_count": 1,
   "metadata": {},
   "outputs": [],
   "source": [
    "def hash(s, c=0, useC=False):\n",
    "\n",
    "    \"\"\"\n",
    "    :param: s: non-empty string\n",
    "    :param: c: a multiplier used to calculate hash if useC is true\n",
    "    :param: useC: a bool value that decides if we use c \n",
    "    return: an int that is a sum of numerical values of all characters from the string s\n",
    "      multiplied by c if useC is true or simply a sum when it is false\n",
    "\n",
    "    >>> hash(\"test\")\n",
    "    448\n",
    "    >>> hash(\"test\", 2, True)\n",
    "    896\n",
    "    \"\"\"\n",
    "    total = 0\n",
    "    for char in s:\n",
    "        \n",
    "        # add all the numerical values\n",
    "        total = total + ord(char)\n",
    "    if useC:\n",
    "        total = c*total\n",
    "    return total"
   ]
  },
  {
   "cell_type": "code",
   "execution_count": 2,
   "metadata": {},
   "outputs": [
    {
     "data": {
      "text/plain": [
       "448"
      ]
     },
     "execution_count": 2,
     "metadata": {},
     "output_type": "execute_result"
    }
   ],
   "source": [
    " hash(\"test\")"
   ]
  },
  {
   "cell_type": "code",
   "execution_count": 3,
   "metadata": {},
   "outputs": [
    {
     "data": {
      "text/plain": [
       "896"
      ]
     },
     "execution_count": 3,
     "metadata": {},
     "output_type": "execute_result"
    }
   ],
   "source": [
    "hash(\"test\", 2, True)"
   ]
  },
  {
   "cell_type": "code",
   "execution_count": 4,
   "metadata": {},
   "outputs": [],
   "source": [
    "def sum(n):\n",
    "\n",
    "    \"\"\"\n",
    "    :param n: a non-negative integer\n",
    "    :return: sum of odd numbers less or equal n 0+1+3+5+...\n",
    "    >>> sum(6)\n",
    "    9\n",
    "    \"\"\"\n",
    "    total = 0\n",
    "    \n",
    "    # getting the sum of odd number\n",
    "    for i in range(n+1):\n",
    "        if i%2==1: # check for odd number\n",
    "            total = total + i # sum of all the odd numbers\n",
    "    return total"
   ]
  },
  {
   "cell_type": "code",
   "execution_count": 5,
   "metadata": {},
   "outputs": [
    {
     "data": {
      "text/plain": [
       "9"
      ]
     },
     "execution_count": 5,
     "metadata": {},
     "output_type": "execute_result"
    }
   ],
   "source": [
    "sum(6)"
   ]
  },
  {
   "cell_type": "code",
   "execution_count": 6,
   "metadata": {},
   "outputs": [
    {
     "data": {
      "text/plain": [
       "16"
      ]
     },
     "execution_count": 6,
     "metadata": {},
     "output_type": "execute_result"
    }
   ],
   "source": [
    "sum(8)"
   ]
  },
  {
   "cell_type": "code",
   "execution_count": 7,
   "metadata": {},
   "outputs": [],
   "source": [
    "def wighted_average(grades, weights):\n",
    "\n",
    "    \"\"\"\n",
    "    :param: grades: array of non-negative ints \n",
    "    :param: weights: array of tuples that contains weight as int representing percentages (0-100)\n",
    "      and int representing max number of points e.g. (10, 20)\n",
    "    :return: a weighted average calculated as a sum of (grade/max)*weight\n",
    "    Example, [10,100,5], [(30,10), (50,100), (20,5)]\n",
    "    >>> wighted_average([10,100,5], [(30,10), (50,100), (20,5)])\n",
    "    100.0\n",
    "    >>> wighted_average([5,50,5], [(30,10), (50,100), (20,10)])\n",
    "    50.0\n",
    "    \"\"\"\n",
    "    total = 0\n",
    "    for grade,weight in zip(grades,weights):\n",
    "        max_number = weight[1]\n",
    "        \n",
    "        # get the sum of weighted average\n",
    "        total = total +  (grade/max_number)*weight[0]\n",
    "    return total"
   ]
  },
  {
   "cell_type": "code",
   "execution_count": 8,
   "metadata": {},
   "outputs": [
    {
     "data": {
      "text/plain": [
       "100.0"
      ]
     },
     "execution_count": 8,
     "metadata": {},
     "output_type": "execute_result"
    }
   ],
   "source": [
    "wighted_average([10,100,5], [(30,10), (50,100), (20,5)])"
   ]
  },
  {
   "cell_type": "code",
   "execution_count": 9,
   "metadata": {},
   "outputs": [
    {
     "data": {
      "text/plain": [
       "50.0"
      ]
     },
     "execution_count": 9,
     "metadata": {},
     "output_type": "execute_result"
    }
   ],
   "source": [
    "wighted_average([5,50,5], [(30,10), (50,100), (20,10)])"
   ]
  },
  {
   "cell_type": "code",
   "execution_count": 10,
   "metadata": {},
   "outputs": [],
   "source": [
    "TAX = 0.13\n",
    "def tax_calculation(input=input):\n",
    "\n",
    "    \"\"\"\n",
    "    This function is different. It should interact with user using input() function\n",
    "    To make it testable, we pass the input definition in the argument. DO NOT CHANGE THIS!\n",
    "    The following is expected:\n",
    "    \n",
    "    1. Program prints prompt \"Enter the product price:\"\n",
    "    2. Program reads the price (non-negative float)\n",
    "    3. Program calculates the tax using TAX constant and returns the value\n",
    "\n",
    "    # tax_calculation()\n",
    "    Enter the product price: 100\n",
    "    113.0\n",
    "    \n",
    "    >>> tax_calculation(input=lambda x: \"100\")\n",
    "    13.0\n",
    "    \"\"\"\n",
    "    \n",
    "    # import library to check if input is of type function or something else\n",
    "    import types\n",
    "    if isinstance(input, types.FunctionType)== True:\n",
    "        price = float(input(''))\n",
    "        return price*TAX\n",
    "    else:\n",
    "        print(\"Enter the product price:\")\n",
    "        price = float(input(''))\n",
    "        tx = price*TAX\n",
    "        \n",
    "        # uncomment below line if you want to add the product price with tax\n",
    "        \n",
    "#         tx = price + price*TAX\n",
    "        return tx\n",
    "    "
   ]
  },
  {
   "cell_type": "code",
   "execution_count": 11,
   "metadata": {},
   "outputs": [
    {
     "data": {
      "text/plain": [
       "13.0"
      ]
     },
     "execution_count": 11,
     "metadata": {},
     "output_type": "execute_result"
    }
   ],
   "source": [
    "tax_calculation(input=lambda x: \"100\")"
   ]
  },
  {
   "cell_type": "code",
   "execution_count": 12,
   "metadata": {},
   "outputs": [
    {
     "name": "stdout",
     "output_type": "stream",
     "text": [
      "Enter the product price:\n",
      "100\n"
     ]
    },
    {
     "data": {
      "text/plain": [
       "13.0"
      ]
     },
     "execution_count": 12,
     "metadata": {},
     "output_type": "execute_result"
    }
   ],
   "source": [
    "tax_calculation()"
   ]
  },
  {
   "cell_type": "code",
   "execution_count": null,
   "metadata": {},
   "outputs": [],
   "source": []
  }
 ],
 "metadata": {
  "kernelspec": {
   "display_name": "Python 3",
   "language": "python",
   "name": "python3"
  },
  "language_info": {
   "codemirror_mode": {
    "name": "ipython",
    "version": 3
   },
   "file_extension": ".py",
   "mimetype": "text/x-python",
   "name": "python",
   "nbconvert_exporter": "python",
   "pygments_lexer": "ipython3",
   "version": "3.8.5"
  }
 },
 "nbformat": 4,
 "nbformat_minor": 4
}
