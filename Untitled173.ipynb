{
 "cells": [
  {
   "cell_type": "code",
   "execution_count": 9,
   "metadata": {},
   "outputs": [],
   "source": [
    "def attack_player(player, health, damage, num_attacks, armor):\n",
    "\n",
    "    \"\"\"\n",
    "    ##############################################################\n",
    "\n",
    "    # first compute the total_health by adding health and armor\n",
    "    # next compute the total_damage by multiplying damage and num_attacks\n",
    "    # i.e. damage*num_attacks\n",
    "    # get the remaining_health by subtracting total_health and total_damage\n",
    "    # now if remaining_health is more than zero it means alive and hence return \n",
    "    # player name with remaining_health \n",
    "    \n",
    "    # otherwise return that player name is eliminated\n",
    "    ##############################################################\n",
    "\n",
    "    >>> attack_player('Wraith', 100, 10, 5, 0)\n",
    "    'Wraith has 50 health remaining'\n",
    "    >>> attack_player('Loba', 50, 25, 4, 50)\n",
    "    'Loba is eliminated'\n",
    "    >>> attack_player('Matt', 150, 35, 4, 20)\n",
    "    'Matt has 30 health remaining'\n",
    "    >>> attack_player('David',200, 50, 4, 0)\n",
    "    'David is eliminated'\n",
    "    >>> attack_player('Michael', 100, 45, 4, 8)\n",
    "    'Michael is eliminated'\n",
    "    \"\"\"\n",
    "    \n",
    "    Total_health = health + armor\n",
    "    \n",
    "    Total_damage = damage*num_attacks\n",
    "    \n",
    "    remaining_health = Total_health - Total_damage\n",
    "    \n",
    "    if remaining_health > 0:\n",
    "        return player + ' has ' + str(remaining_health) + ' health remaining'\n",
    "    else:\n",
    "        return player +' is eliminated'"
   ]
  },
  {
   "cell_type": "code",
   "execution_count": 10,
   "metadata": {},
   "outputs": [
    {
     "data": {
      "text/plain": [
       "'Michael is eliminated'"
      ]
     },
     "execution_count": 10,
     "metadata": {},
     "output_type": "execute_result"
    }
   ],
   "source": [
    "attack_player('Michael', 100, 45, 4, 8)"
   ]
  },
  {
   "cell_type": "code",
   "execution_count": 11,
   "metadata": {},
   "outputs": [
    {
     "data": {
      "text/plain": [
       "'Wraith has 50 health remaining'"
      ]
     },
     "execution_count": 11,
     "metadata": {},
     "output_type": "execute_result"
    }
   ],
   "source": [
    "attack_player('Wraith', 100, 10, 5, 0)"
   ]
  },
  {
   "cell_type": "code",
   "execution_count": null,
   "metadata": {},
   "outputs": [],
   "source": []
  }
 ],
 "metadata": {
  "kernelspec": {
   "display_name": "Python 3",
   "language": "python",
   "name": "python3"
  },
  "language_info": {
   "codemirror_mode": {
    "name": "ipython",
    "version": 3
   },
   "file_extension": ".py",
   "mimetype": "text/x-python",
   "name": "python",
   "nbconvert_exporter": "python",
   "pygments_lexer": "ipython3",
   "version": "3.8.5"
  }
 },
 "nbformat": 4,
 "nbformat_minor": 4
}
