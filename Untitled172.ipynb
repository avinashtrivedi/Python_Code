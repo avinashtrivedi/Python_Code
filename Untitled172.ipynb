{
 "cells": [
  {
   "cell_type": "code",
   "execution_count": 1,
   "metadata": {},
   "outputs": [],
   "source": [
    "def attack_player(player, health, damage, num_attacks, armor):\n",
    "\n",
    "    \"\"\"\n",
    "    ##############################################################\n",
    "\n",
    "    # TODO: Replace this block of comments with your own         #\n",
    "\n",
    "    # method description and add at least 3 more doctests below. #\n",
    "\n",
    "    ##############################################################\n",
    "\n",
    "    >>> attack_player('Wraith', 100, 10, 5, 0)\n",
    "\n",
    "    'Wraith has 50 health remaining'\n",
    "\n",
    "    >>> attack_player('Loba', 50, 25, 4, 50)\n",
    "\n",
    "    'Loba is eliminated'\n",
    "\n",
    "    # Add at least 3 doctests below here #\n",
    "    \n",
    "    >>> attack_player('Matt', 150, 35, 4, 20)\n",
    "    \n",
    "    'Matt has 30 health remaining'\n",
    "    \n",
    "    >>> attack_player('David',200, 50, 4, 0)\n",
    "    \n",
    "    'David is eliminated'\n",
    "    \n",
    "    >>> attack_player('Michael', 100, 45, 4, 8)\n",
    "    \n",
    "    'Michael is eliminated'\n",
    "    \n",
    "    \"\"\"\n",
    "    \n",
    "    Total_health = health + armor\n",
    "    \n",
    "    Total_damage = damage*num_attacks\n",
    "    \n",
    "    remaining_health = Total_health - Total_damage\n",
    "    \n",
    "    if remaining_health > 0:\n",
    "        return '{} has {} health remaining'.format(player,remaining_health)\n",
    "    else:\n",
    "        return '{} is eliminated'.format(player)"
   ]
  },
  {
   "cell_type": "code",
   "execution_count": 2,
   "metadata": {},
   "outputs": [
    {
     "data": {
      "text/plain": [
       "'Wraith has 50 health remaining'"
      ]
     },
     "execution_count": 2,
     "metadata": {},
     "output_type": "execute_result"
    }
   ],
   "source": [
    "attack_player('Wraith', 100, 10, 5, 0)"
   ]
  },
  {
   "cell_type": "code",
   "execution_count": 3,
   "metadata": {},
   "outputs": [
    {
     "data": {
      "text/plain": [
       "'Loba is eliminated'"
      ]
     },
     "execution_count": 3,
     "metadata": {},
     "output_type": "execute_result"
    }
   ],
   "source": [
    "attack_player('Loba', 50, 25, 4, 50)"
   ]
  },
  {
   "cell_type": "code",
   "execution_count": 4,
   "metadata": {},
   "outputs": [
    {
     "data": {
      "text/plain": [
       "'Matt has 30 health remaining'"
      ]
     },
     "execution_count": 4,
     "metadata": {},
     "output_type": "execute_result"
    }
   ],
   "source": [
    "attack_player('Matt', 150, 35, 4, 20)"
   ]
  },
  {
   "cell_type": "code",
   "execution_count": 5,
   "metadata": {},
   "outputs": [
    {
     "data": {
      "text/plain": [
       "'David is eliminated'"
      ]
     },
     "execution_count": 5,
     "metadata": {},
     "output_type": "execute_result"
    }
   ],
   "source": [
    "attack_player('David',200, 50, 4, 0)"
   ]
  },
  {
   "cell_type": "code",
   "execution_count": 6,
   "metadata": {},
   "outputs": [
    {
     "data": {
      "text/plain": [
       "'Michael is eliminated'"
      ]
     },
     "execution_count": 6,
     "metadata": {},
     "output_type": "execute_result"
    }
   ],
   "source": [
    "attack_player('Michael', 100, 45, 4, 8)"
   ]
  },
  {
   "cell_type": "code",
   "execution_count": null,
   "metadata": {},
   "outputs": [],
   "source": []
  }
 ],
 "metadata": {
  "kernelspec": {
   "display_name": "Python 3",
   "language": "python",
   "name": "python3"
  },
  "language_info": {
   "codemirror_mode": {
    "name": "ipython",
    "version": 3
   },
   "file_extension": ".py",
   "mimetype": "text/x-python",
   "name": "python",
   "nbconvert_exporter": "python",
   "pygments_lexer": "ipython3",
   "version": "3.8.5"
  }
 },
 "nbformat": 4,
 "nbformat_minor": 4
}
