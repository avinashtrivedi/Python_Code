{
 "cells": [
  {
   "cell_type": "code",
   "execution_count": 1,
   "metadata": {},
   "outputs": [],
   "source": [
    "class SwimmingPool:\n",
    "    \n",
    "    # private instance variables : https://www.geeksforgeeks.org/private-variables-python/\n",
    "    # private instance variables can be denoted by prefixing the variable with _ (underscore)\n",
    "    \n",
    "    # constructor to initialize instance variables\n",
    "    def __init__(self,length ,width ,depth,rate2fill,rate2drain):\n",
    "        # assert: if true then it allows python to execute the next statement\n",
    "        # else assertion error will prompt\n",
    "        assert length >0 and width>0 and depth >0, 'Wrong input.'\n",
    "        # next statement\n",
    "        self._length  = length\n",
    "        self._width = width\n",
    "        self._depth = depth\n",
    "        self._volume = self._length * self._width * self._depth # compute volume\n",
    "        self._rate2fill = rate2fill # (in cubic feet per minute) \n",
    "        self._rate2drain = rate2drain # (in cubic feet per minute) \n",
    "        self.WaterFilled = 0 # initially Swimming Pool is empty\n",
    "        \n",
    "    # accessor for instance variables\n",
    "    # accessor is just a getter method\n",
    "    \n",
    "    def getlength(self):\n",
    "        return self._length\n",
    "    def getwidth(self):\n",
    "        return self._width\n",
    "    def getdepth(self):\n",
    "        return self._depth\n",
    "    def getvolume(self):\n",
    "        return self._volume\n",
    "    def getrate2fill(self):\n",
    "        return self._rate2fill\n",
    "    def getrate2drain(self):\n",
    "        return self._rate2drain\n",
    "    def getWaterFilled(self):\n",
    "        return self.WaterFilled # (in cubic feet) \n",
    "    \n",
    "    # get the water required (in cubic feet) \n",
    "    def WaterRequired(self):\n",
    "        Amount_of_Water_req = self._volume - self.WaterFilled\n",
    "        return Amount_of_Water_req\n",
    "    # compute the time needed to fill the Swimming Pool completely.\n",
    "    def TimeNeededToFill(self):\n",
    "        # (water needed) / (rate of filling)\n",
    "        time = SwimmingPool.WaterRequired(self)/self._rate2fill\n",
    "        return time\n",
    "    #  compute the time needed to empty the Swimming Pool completely.\n",
    "    def TimeNeededToEmpty(self):\n",
    "        # (water filled) / (rate of draining)\n",
    "        time = self.WaterFilled/self._rate2drain\n",
    "        return time\n",
    "    \n",
    "    # Add water for a given time (in minute)\n",
    "    def AddWater(self,time):\n",
    "        WaterAdded = self._rate2fill * time\n",
    "        self.WaterFilled = self.WaterFilled + WaterAdded\n",
    "    \n",
    "    # Drain water for a given time (in minute)\n",
    "    def DrainWater(self,time):\n",
    "        WaterDrained = self._rate2drain * time\n",
    "        self.WaterFilled = self.WaterFilled - WaterDrained"
   ]
  },
  {
   "cell_type": "code",
   "execution_count": 2,
   "metadata": {},
   "outputs": [],
   "source": [
    "obj = SwimmingPool(10,5,4,5,2) "
   ]
  },
  {
   "cell_type": "code",
   "execution_count": 3,
   "metadata": {},
   "outputs": [
    {
     "data": {
      "text/plain": [
       "10"
      ]
     },
     "execution_count": 3,
     "metadata": {},
     "output_type": "execute_result"
    }
   ],
   "source": [
    "obj.getlength() # in feet"
   ]
  },
  {
   "cell_type": "code",
   "execution_count": 4,
   "metadata": {},
   "outputs": [
    {
     "data": {
      "text/plain": [
       "5"
      ]
     },
     "execution_count": 4,
     "metadata": {},
     "output_type": "execute_result"
    }
   ],
   "source": [
    "obj.getwidth() # in feet"
   ]
  },
  {
   "cell_type": "code",
   "execution_count": 5,
   "metadata": {},
   "outputs": [
    {
     "data": {
      "text/plain": [
       "4"
      ]
     },
     "execution_count": 5,
     "metadata": {},
     "output_type": "execute_result"
    }
   ],
   "source": [
    "obj.getdepth() # in feet"
   ]
  },
  {
   "cell_type": "code",
   "execution_count": 6,
   "metadata": {},
   "outputs": [
    {
     "data": {
      "text/plain": [
       "5"
      ]
     },
     "execution_count": 6,
     "metadata": {},
     "output_type": "execute_result"
    }
   ],
   "source": [
    "obj.getrate2fill()  # (in cubic feet per minute) "
   ]
  },
  {
   "cell_type": "code",
   "execution_count": 7,
   "metadata": {},
   "outputs": [
    {
     "data": {
      "text/plain": [
       "2"
      ]
     },
     "execution_count": 7,
     "metadata": {},
     "output_type": "execute_result"
    }
   ],
   "source": [
    "obj.getrate2drain() # (in cubic feet per minute) "
   ]
  },
  {
   "cell_type": "code",
   "execution_count": 8,
   "metadata": {},
   "outputs": [
    {
     "data": {
      "text/plain": [
       "200"
      ]
     },
     "execution_count": 8,
     "metadata": {},
     "output_type": "execute_result"
    }
   ],
   "source": [
    "obj.getvolume() # (in cubic feet)"
   ]
  },
  {
   "cell_type": "code",
   "execution_count": 9,
   "metadata": {},
   "outputs": [
    {
     "data": {
      "text/plain": [
       "200"
      ]
     },
     "execution_count": 9,
     "metadata": {},
     "output_type": "execute_result"
    }
   ],
   "source": [
    "obj.WaterRequired() # (in cubic feet)"
   ]
  },
  {
   "cell_type": "code",
   "execution_count": 10,
   "metadata": {},
   "outputs": [
    {
     "data": {
      "text/plain": [
       "0"
      ]
     },
     "execution_count": 10,
     "metadata": {},
     "output_type": "execute_result"
    }
   ],
   "source": [
    "obj.getWaterFilled() # (in cubic feet)"
   ]
  },
  {
   "cell_type": "code",
   "execution_count": 11,
   "metadata": {},
   "outputs": [
    {
     "data": {
      "text/plain": [
       "40.0"
      ]
     },
     "execution_count": 11,
     "metadata": {},
     "output_type": "execute_result"
    }
   ],
   "source": [
    "obj.TimeNeededToFill() # in minute"
   ]
  },
  {
   "cell_type": "code",
   "execution_count": 12,
   "metadata": {},
   "outputs": [],
   "source": [
    "obj.AddWater(4) # for a specific time (in minute)"
   ]
  },
  {
   "cell_type": "code",
   "execution_count": 13,
   "metadata": {},
   "outputs": [
    {
     "data": {
      "text/plain": [
       "20"
      ]
     },
     "execution_count": 13,
     "metadata": {},
     "output_type": "execute_result"
    }
   ],
   "source": [
    "obj.getWaterFilled()  # (in cubic feet)"
   ]
  },
  {
   "cell_type": "code",
   "execution_count": 14,
   "metadata": {},
   "outputs": [
    {
     "data": {
      "text/plain": [
       "180"
      ]
     },
     "execution_count": 14,
     "metadata": {},
     "output_type": "execute_result"
    }
   ],
   "source": [
    "obj.WaterRequired()  # (in cubic feet)"
   ]
  },
  {
   "cell_type": "code",
   "execution_count": 15,
   "metadata": {},
   "outputs": [],
   "source": [
    "obj.DrainWater(5) # for a specific time (in minute)"
   ]
  },
  {
   "cell_type": "code",
   "execution_count": 16,
   "metadata": {},
   "outputs": [
    {
     "data": {
      "text/plain": [
       "10"
      ]
     },
     "execution_count": 16,
     "metadata": {},
     "output_type": "execute_result"
    }
   ],
   "source": [
    "obj.WaterFilled # (in cubic feet)"
   ]
  },
  {
   "cell_type": "code",
   "execution_count": 17,
   "metadata": {},
   "outputs": [
    {
     "data": {
      "text/plain": [
       "190"
      ]
     },
     "execution_count": 17,
     "metadata": {},
     "output_type": "execute_result"
    }
   ],
   "source": [
    "obj.WaterRequired() # (in cubic feet)"
   ]
  },
  {
   "cell_type": "markdown",
   "metadata": {},
   "source": [
    "# Test -1 "
   ]
  },
  {
   "cell_type": "code",
   "execution_count": 18,
   "metadata": {},
   "outputs": [
    {
     "name": "stdout",
     "output_type": "stream",
     "text": [
      "Test case#1 passed...\n",
      "Test case#2 passed...\n",
      "Test case#3 passed...\n"
     ]
    }
   ],
   "source": [
    "newobj = SwimmingPool(10,5,4,5,2) \n",
    "newobj.AddWater(30)\n",
    "assert newobj.TimeNeededToFill() == 10 ,'Testing failed'\n",
    "print('Test case#1 passed...')\n",
    "assert newobj.WaterFilled == 150,'Testing failed'\n",
    "print('Test case#2 passed...')\n",
    "newobj.DrainWater(25)\n",
    "assert newobj.WaterFilled == 100,'Testing failed'\n",
    "print('Test case#3 passed...')"
   ]
  },
  {
   "cell_type": "markdown",
   "metadata": {},
   "source": [
    "# Test -2 "
   ]
  },
  {
   "cell_type": "code",
   "execution_count": 19,
   "metadata": {},
   "outputs": [
    {
     "name": "stdout",
     "output_type": "stream",
     "text": [
      "Test case#1 passed...\n",
      "Test case#2 passed...\n",
      "Test case#3 passed...\n"
     ]
    }
   ],
   "source": [
    "newobj = SwimmingPool(10,5,10,10,4) \n",
    "newobj.AddWater(30)\n",
    "assert newobj.TimeNeededToFill() == 20 ,'Testing failed'\n",
    "print('Test case#1 passed...')\n",
    "assert newobj.WaterFilled == 300,'Testing failed'\n",
    "print('Test case#2 passed...')\n",
    "newobj.DrainWater(25)\n",
    "assert newobj.WaterFilled == 200,'Testing failed'\n",
    "print('Test case#3 passed...')"
   ]
  },
  {
   "cell_type": "code",
   "execution_count": null,
   "metadata": {},
   "outputs": [],
   "source": []
  }
 ],
 "metadata": {
  "kernelspec": {
   "display_name": "Python 3",
   "language": "python",
   "name": "python3"
  },
  "language_info": {
   "codemirror_mode": {
    "name": "ipython",
    "version": 3
   },
   "file_extension": ".py",
   "mimetype": "text/x-python",
   "name": "python",
   "nbconvert_exporter": "python",
   "pygments_lexer": "ipython3",
   "version": "3.8.5"
  }
 },
 "nbformat": 4,
 "nbformat_minor": 4
}
