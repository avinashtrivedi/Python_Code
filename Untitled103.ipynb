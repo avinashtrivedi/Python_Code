{
 "cells": [
  {
   "cell_type": "code",
   "execution_count": 1,
   "metadata": {},
   "outputs": [],
   "source": [
    "# library to create a matrix\n",
    "import numpy as np\n",
    "\n",
    "# define a function to generate nxn table\n",
    "# satisfying the given condition.\n",
    "\n",
    "def FillTable(n):\n",
    "    \n",
    "    # generate a list of integer from 1 to n\n",
    "    x = list(range(1,n+1,1))\n",
    "    \n",
    "    # create empty table\n",
    "    table = []\n",
    "    \n",
    "    # generate a list and append to table\n",
    "    for i in range(n):\n",
    "        table.append(x[i:] + x[:i])\n",
    "        \n",
    "    # print the table as matrix\n",
    "    print(np.array(table))"
   ]
  },
  {
   "cell_type": "code",
   "execution_count": 2,
   "metadata": {},
   "outputs": [
    {
     "name": "stdout",
     "output_type": "stream",
     "text": [
      "[[1 2 3]\n",
      " [2 3 1]\n",
      " [3 1 2]]\n"
     ]
    }
   ],
   "source": [
    "FillTable(3) # test with n=3"
   ]
  },
  {
   "cell_type": "code",
   "execution_count": 3,
   "metadata": {},
   "outputs": [
    {
     "name": "stdout",
     "output_type": "stream",
     "text": [
      "[[1 2 3 4]\n",
      " [2 3 4 1]\n",
      " [3 4 1 2]\n",
      " [4 1 2 3]]\n"
     ]
    }
   ],
   "source": [
    "FillTable(4) # test with n=4"
   ]
  },
  {
   "cell_type": "code",
   "execution_count": 4,
   "metadata": {},
   "outputs": [
    {
     "name": "stdout",
     "output_type": "stream",
     "text": [
      "[[1 2 3 4 5 6 7 8]\n",
      " [2 3 4 5 6 7 8 1]\n",
      " [3 4 5 6 7 8 1 2]\n",
      " [4 5 6 7 8 1 2 3]\n",
      " [5 6 7 8 1 2 3 4]\n",
      " [6 7 8 1 2 3 4 5]\n",
      " [7 8 1 2 3 4 5 6]\n",
      " [8 1 2 3 4 5 6 7]]\n"
     ]
    }
   ],
   "source": [
    "FillTable(8) # test with n=8"
   ]
  },
  {
   "cell_type": "code",
   "execution_count": 5,
   "metadata": {},
   "outputs": [
    {
     "data": {
      "text/plain": [
       "[1, 2, 3, 4]"
      ]
     },
     "execution_count": 5,
     "metadata": {},
     "output_type": "execute_result"
    }
   ],
   "source": [
    "list(range(1,4+1,1))"
   ]
  },
  {
   "cell_type": "code",
   "execution_count": null,
   "metadata": {},
   "outputs": [],
   "source": []
  }
 ],
 "metadata": {
  "kernelspec": {
   "display_name": "Python 3",
   "language": "python",
   "name": "python3"
  },
  "language_info": {
   "codemirror_mode": {
    "name": "ipython",
    "version": 3
   },
   "file_extension": ".py",
   "mimetype": "text/x-python",
   "name": "python",
   "nbconvert_exporter": "python",
   "pygments_lexer": "ipython3",
   "version": "3.8.5"
  }
 },
 "nbformat": 4,
 "nbformat_minor": 4
}
