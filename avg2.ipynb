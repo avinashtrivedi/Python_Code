{
 "cells": [
  {
   "cell_type": "code",
   "execution_count": 4,
   "metadata": {},
   "outputs": [
    {
     "name": "stdout",
     "output_type": "stream",
     "text": [
      "How many numbers you want to enter: 1\n",
      "Enter the number 1: 1\n",
      "\n",
      "Average is:  1.0\n"
     ]
    }
   ],
   "source": [
    "# try-except block to handle exception\n",
    "try:\n",
    "    \n",
    "    # prompt user to input number of numbers\n",
    "    n = int(input('How many numbers you want to enter: '))\n",
    "    \n",
    "    # variable responsible for while loop\n",
    "    i = 0\n",
    "    \n",
    "    # to store the sum of numbers.\n",
    "    running_total = 0\n",
    "\n",
    "    # this loop will run as long as i is less than n i.e. i<n\n",
    "    while i<n:\n",
    "        \n",
    "        # prompt the user to enter numbers\n",
    "        num = float(input('Enter the number {}: '.format(i+1)))\n",
    "        \n",
    "        # update the running_total\n",
    "        running_total = running_total + num\n",
    "        \n",
    "        # increase the value of i\n",
    "        i = i + 1\n",
    "        \n",
    "    # compute the average\n",
    "    avg = running_total/n\n",
    "\n",
    "    print('\\nAverage is: ',(avg))\n",
    "    \n",
    "except:\n",
    "    print('Wrong input, Please try again')"
   ]
  },
  {
   "cell_type": "code",
   "execution_count": null,
   "metadata": {},
   "outputs": [],
   "source": []
  }
 ],
 "metadata": {
  "kernelspec": {
   "display_name": "Python 3",
   "language": "python",
   "name": "python3"
  },
  "language_info": {
   "codemirror_mode": {
    "name": "ipython",
    "version": 3
   },
   "file_extension": ".py",
   "mimetype": "text/x-python",
   "name": "python",
   "nbconvert_exporter": "python",
   "pygments_lexer": "ipython3",
   "version": "3.8.5"
  }
 },
 "nbformat": 4,
 "nbformat_minor": 4
}
