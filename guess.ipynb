{
 "cells": [
  {
   "cell_type": "code",
   "execution_count": 18,
   "metadata": {},
   "outputs": [
    {
     "name": "stdout",
     "output_type": "stream",
     "text": [
      "Welcome to the higher/lower game, Bella!\n",
      "Enter the lower bound: 10\n",
      "Enter the upper bound: 5\n",
      "The lower bound must be less than the upper bound.\n",
      "Enter the lower bound: 10\n",
      "Enter the upper bound: 30\n",
      "Great,now guess a number between 10 and 30:25\n",
      "Nope, too high.\n",
      "Guess Another number: 20\n",
      "Nope, too high.\n",
      "Guess Another number: 18\n",
      "Nope, too high.\n",
      "Guess Another number: 15\n",
      "Nope, too high.\n",
      "Guess Another number: 12\n",
      "Nope, too high.\n",
      "Guess Another number: 10\n",
      "you got it!\n"
     ]
    }
   ],
   "source": [
    "# import python library responsible for generating random number\n",
    "import random\n",
    "print('Welcome to the higher/lower game, Bella!')\n",
    "# define variables\n",
    "rand=0\n",
    "low=0\n",
    "high=0\n",
    "# take lower and upper bound and generate a random number\n",
    "while True:\n",
    "    low = int(input('Enter the lower bound: '))\n",
    "    high = int(input('Enter the upper bound: '))\n",
    "    # if valid lower and upper bound is received i.e high>= low then\n",
    "    # exit from this loop\n",
    "    # else ,i.e low>high then keep running the loop and \n",
    "    # keep prompting for fresh lower and upper bound.\n",
    "    if high>=low:\n",
    "        rand = random.randint(low,high)\n",
    "        break\n",
    "    else:\n",
    "        print('The lower bound must be less than the upper bound.')\n",
    "\n",
    "# allow user to guess the number\n",
    "guess = int(input('Great,now guess a number between {} and {}:'.format(low, high)))\n",
    "# if guess is correct then print'you got it!'\n",
    "if rand==guess:\n",
    "    print('you got it!')\n",
    "# else, print low/high and enter the while loop\n",
    "# and ask the user to make another guess\n",
    "# keep asking for another number until correct number is guessed.\n",
    "else:\n",
    "    if guess>rand:\n",
    "            print('Nope, too high.')\n",
    "    elif guess<rand:\n",
    "        print('Nope, too low')\n",
    "    # if 1st guess is incorrect then,consider another guess\n",
    "    # run the while loop and keep asking \"Guess another number\"\n",
    "    # until its correctly guessed.\n",
    "    while True:\n",
    "        guess = int(input('Guess Another number: '))\n",
    "        if rand==guess:\n",
    "            print('you got it!')\n",
    "            break\n",
    "        elif guess>rand:\n",
    "            print('Nope, too high.')\n",
    "        elif guess<rand:\n",
    "            print('Nope, too low')\n"
   ]
  },
  {
   "cell_type": "code",
   "execution_count": null,
   "metadata": {},
   "outputs": [],
   "source": []
  }
 ],
 "metadata": {
  "kernelspec": {
   "display_name": "Python 3",
   "language": "python",
   "name": "python3"
  },
  "language_info": {
   "codemirror_mode": {
    "name": "ipython",
    "version": 3
   },
   "file_extension": ".py",
   "mimetype": "text/x-python",
   "name": "python",
   "nbconvert_exporter": "python",
   "pygments_lexer": "ipython3",
   "version": "3.8.5"
  }
 },
 "nbformat": 4,
 "nbformat_minor": 4
}
