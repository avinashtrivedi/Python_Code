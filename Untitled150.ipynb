{
 "cells": [
  {
   "cell_type": "code",
   "execution_count": 1,
   "metadata": {},
   "outputs": [
    {
     "name": "stdout",
     "output_type": "stream",
     "text": [
      "Enter a positive integer: 25\n",
      "8 is the largest k such that 0+2+4+6+...+k < 25\n"
     ]
    }
   ],
   "source": [
    "# get the input\n",
    "n = input('Enter a positive integer: ')\n",
    "\n",
    "# define k and total\n",
    "k = 0\n",
    "total = 0\n",
    "\n",
    "# check if n is integer\n",
    "if n.isdigit():\n",
    "    \n",
    "    # run the loop to get the appropriate value of k\n",
    "    while total < int(n):\n",
    "        k = k + 2\n",
    "        total = total + k\n",
    "    \n",
    "    # print the result.\n",
    "    print(\"{} is the largest k such that 0+2+4+6+...+k < {}\".format(k-2,n))\n",
    "\n",
    "# if n is not integer \n",
    "else:\n",
    "    print('Please enter the positive integer.')"
   ]
  },
  {
   "cell_type": "code",
   "execution_count": null,
   "metadata": {},
   "outputs": [],
   "source": []
  }
 ],
 "metadata": {
  "kernelspec": {
   "display_name": "Python 3",
   "language": "python",
   "name": "python3"
  },
  "language_info": {
   "codemirror_mode": {
    "name": "ipython",
    "version": 3
   },
   "file_extension": ".py",
   "mimetype": "text/x-python",
   "name": "python",
   "nbconvert_exporter": "python",
   "pygments_lexer": "ipython3",
   "version": "3.8.5"
  }
 },
 "nbformat": 4,
 "nbformat_minor": 4
}
