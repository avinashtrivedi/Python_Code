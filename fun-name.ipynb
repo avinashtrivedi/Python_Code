{
 "cells": [
  {
   "cell_type": "code",
   "execution_count": 67,
   "metadata": {},
   "outputs": [
    {
     "name": "stdout",
     "output_type": "stream",
     "text": [
      "The loop time is 97 milliseconds\n"
     ]
    }
   ],
   "source": [
    "import time\n",
    "\n",
    "import random\n",
    "\n",
    "class StopWatch:\n",
    "    def __init__(self):\n",
    "        self.__startTime = time.time()\n",
    "\n",
    "    def getStartTime(self):\n",
    "\n",
    "        return self.__startTime\n",
    "\n",
    "    def getEndTime(self):\n",
    "\n",
    "        return self.__endTime\n",
    "\n",
    "    def start(self):\n",
    "\n",
    "        self.__startTime = time.time()\n",
    "\n",
    "    def stop(self):\n",
    "\n",
    "        self.__endTime = time.time()\n",
    "\n",
    "    def getElapsedTime(self):\n",
    "\n",
    "        return int(1000 * (self.__endTime - self.__startTime))\n",
    "\n",
    "def main():\n",
    "\n",
    "    size = 1000000\n",
    "    stopWatch = StopWatch()\n",
    "\n",
    "    sum = 0   \n",
    "\n",
    "    for i in range(1, size + 1):\n",
    "\n",
    "        sum += i\n",
    "\n",
    "    stopWatch.stop()\n",
    "\n",
    "    print(\"The loop time is\", stopWatch.getElapsedTime(), \"milliseconds\")  \n",
    "\n",
    "main()"
   ]
  },
  {
   "cell_type": "code",
   "execution_count": 68,
   "metadata": {},
   "outputs": [],
   "source": [
    "obj=StopWatch() # create object of a class"
   ]
  },
  {
   "cell_type": "code",
   "execution_count": 69,
   "metadata": {},
   "outputs": [
    {
     "name": "stdout",
     "output_type": "stream",
     "text": [
      "['_StopWatch__startTime', '__module__', '__init__', 'getStartTime', 'getEndTime', 'start', 'stop', 'getElapsedTime', '__dict__', '__weakref__', '__doc__', '__repr__', '__hash__', '__str__', '__getattribute__', '__setattr__', '__delattr__', '__lt__', '__le__', '__eq__', '__ne__', '__gt__', '__ge__', '__new__', '__reduce_ex__', '__reduce__', '__subclasshook__', '__init_subclass__', '__format__', '__sizeof__', '__dir__', '__class__']\n"
     ]
    }
   ],
   "source": [
    "print(obj.__dir__()) # display all the attributes of object"
   ]
  },
  {
   "cell_type": "code",
   "execution_count": 70,
   "metadata": {},
   "outputs": [],
   "source": [
    "# now exclude variable and private methods.\n",
    "# not func.startswith('_') : to exclude private methods\n",
    "# callable(getattr(obj, x)) : to check whether x is callable or not\n",
    "method_list = [x for x in dir(obj) if callable(getattr(obj, x)) and not x.startswith('_')]"
   ]
  },
  {
   "cell_type": "code",
   "execution_count": 71,
   "metadata": {},
   "outputs": [
    {
     "data": {
      "text/plain": [
       "['getElapsedTime', 'getEndTime', 'getStartTime', 'start', 'stop']"
      ]
     },
     "execution_count": 71,
     "metadata": {},
     "output_type": "execute_result"
    }
   ],
   "source": [
    "#list of method names.\n",
    "method_list"
   ]
  },
  {
   "cell_type": "code",
   "execution_count": 72,
   "metadata": {},
   "outputs": [
    {
     "name": "stdout",
     "output_type": "stream",
     "text": [
      "['getElapsedTime', 'getEndTime', 'getStartTime', 'start', 'stop']\n"
     ]
    }
   ],
   "source": [
    "print(method_list)"
   ]
  },
  {
   "cell_type": "code",
   "execution_count": 75,
   "metadata": {},
   "outputs": [],
   "source": [
    "s='CGTA'"
   ]
  },
  {
   "cell_type": "code",
   "execution_count": 76,
   "metadata": {},
   "outputs": [
    {
     "data": {
      "text/plain": [
       "['CGTA']"
      ]
     },
     "execution_count": 76,
     "metadata": {},
     "output_type": "execute_result"
    }
   ],
   "source": [
    "s"
   ]
  },
  {
   "cell_type": "code",
   "execution_count": 102,
   "metadata": {},
   "outputs": [],
   "source": [
    "# conversion of DNA strand to RNA strand. \n",
    "# conversion dictionary\n",
    "cs = {'C':'G','G':'C','T':'A','A':'U'}\n",
    "\n",
    "def DNAtoRNA(strand):\n",
    "    # initialize RNA strand rna_strand with empty string.\n",
    "    rna_strand = ''\n",
    "    \n",
    "    # check if every characters of strand belongs to 'CGTA' family\n",
    "    # if true then store the corresponding complementary RNA strand character into \n",
    "    # rna_strand, else return 'ERROR'\n",
    "    for i in range(len(strand)):\n",
    "        if strand[i] in 'CGTA':\n",
    "            rna_strand += cs[strand[i]]\n",
    "        else:\n",
    "            return 'ERROR'\n",
    "    return rna_strand"
   ]
  },
  {
   "cell_type": "code",
   "execution_count": 103,
   "metadata": {},
   "outputs": [
    {
     "data": {
      "text/plain": [
       "'GGAA'"
      ]
     },
     "execution_count": 103,
     "metadata": {},
     "output_type": "execute_result"
    }
   ],
   "source": [
    "DNAtoRNA('CCTT')"
   ]
  },
  {
   "cell_type": "code",
   "execution_count": 104,
   "metadata": {},
   "outputs": [
    {
     "data": {
      "text/plain": [
       "'GAGAGUUAG'"
      ]
     },
     "execution_count": 104,
     "metadata": {},
     "output_type": "execute_result"
    }
   ],
   "source": [
    "DNAtoRNA('CTCTCAATC')"
   ]
  },
  {
   "cell_type": "code",
   "execution_count": 105,
   "metadata": {},
   "outputs": [
    {
     "data": {
      "text/plain": [
       "'ERROR'"
      ]
     },
     "execution_count": 105,
     "metadata": {},
     "output_type": "execute_result"
    }
   ],
   "source": [
    "DNAtoRNA('CCxTT')"
   ]
  },
  {
   "cell_type": "code",
   "execution_count": 106,
   "metadata": {},
   "outputs": [
    {
     "data": {
      "text/plain": [
       "True"
      ]
     },
     "execution_count": 106,
     "metadata": {},
     "output_type": "execute_result"
    }
   ],
   "source": [
    "DNAtoRNA('GTAATG')=='CAUUAC' "
   ]
  },
  {
   "cell_type": "code",
   "execution_count": 107,
   "metadata": {},
   "outputs": [
    {
     "data": {
      "text/plain": [
       "'GCAU'"
      ]
     },
     "execution_count": 107,
     "metadata": {},
     "output_type": "execute_result"
    }
   ],
   "source": [
    "DNAtoRNA('CGTA')"
   ]
  },
  {
   "cell_type": "code",
   "execution_count": 108,
   "metadata": {},
   "outputs": [
    {
     "data": {
      "text/plain": [
       "'CUCCCUGAUGCUUUAAG'"
      ]
     },
     "execution_count": 108,
     "metadata": {},
     "output_type": "execute_result"
    }
   ],
   "source": [
    "DNAtoRNA('GAGGGACTACGAAATTC')"
   ]
  },
  {
   "cell_type": "code",
   "execution_count": 109,
   "metadata": {},
   "outputs": [
    {
     "data": {
      "text/plain": [
       "'ERROR'"
      ]
     },
     "execution_count": 109,
     "metadata": {},
     "output_type": "execute_result"
    }
   ],
   "source": [
    "DNAtoRNA('GAGUGGACTACGUYAAATTC')"
   ]
  },
  {
   "cell_type": "code",
   "execution_count": null,
   "metadata": {},
   "outputs": [],
   "source": []
  },
  {
   "cell_type": "code",
   "execution_count": null,
   "metadata": {},
   "outputs": [],
   "source": []
  }
 ],
 "metadata": {
  "kernelspec": {
   "display_name": "Python 3",
   "language": "python",
   "name": "python3"
  },
  "language_info": {
   "codemirror_mode": {
    "name": "ipython",
    "version": 3
   },
   "file_extension": ".py",
   "mimetype": "text/x-python",
   "name": "python",
   "nbconvert_exporter": "python",
   "pygments_lexer": "ipython3",
   "version": "3.8.5"
  }
 },
 "nbformat": 4,
 "nbformat_minor": 4
}
