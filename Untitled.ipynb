{
 "cells": [
  {
   "cell_type": "code",
   "execution_count": 31,
   "metadata": {},
   "outputs": [],
   "source": [
    "import pandas as pd\n",
    "from matplotlib import pyplot as plt"
   ]
  },
  {
   "cell_type": "markdown",
   "metadata": {},
   "source": [
    "<h3>As i have not found the dataset you have used,Hence i have Created my won dataset to show the working mode.<h3/>"
   ]
  },
  {
   "cell_type": "code",
   "execution_count": null,
   "metadata": {},
   "outputs": [],
   "source": [
    "df = pd.read_csv('mydata.csv')"
   ]
  },
  {
   "cell_type": "code",
   "execution_count": 33,
   "metadata": {},
   "outputs": [
    {
     "data": {
      "text/html": [
       "<div>\n",
       "<style scoped>\n",
       "    .dataframe tbody tr th:only-of-type {\n",
       "        vertical-align: middle;\n",
       "    }\n",
       "\n",
       "    .dataframe tbody tr th {\n",
       "        vertical-align: top;\n",
       "    }\n",
       "\n",
       "    .dataframe thead th {\n",
       "        text-align: right;\n",
       "    }\n",
       "</style>\n",
       "<table border=\"1\" class=\"dataframe\">\n",
       "  <thead>\n",
       "    <tr style=\"text-align: right;\">\n",
       "      <th></th>\n",
       "      <th>Country Code</th>\n",
       "      <th>Country Name</th>\n",
       "      <th>Year</th>\n",
       "      <th>Emission</th>\n",
       "      <th>Unit</th>\n",
       "      <th>Data Source</th>\n",
       "    </tr>\n",
       "  </thead>\n",
       "  <tbody>\n",
       "    <tr>\n",
       "      <th>0</th>\n",
       "      <td>AT</td>\n",
       "      <td>Austria</td>\n",
       "      <td>2009</td>\n",
       "      <td>NaN</td>\n",
       "      <td>gCO2</td>\n",
       "      <td>EEA</td>\n",
       "    </tr>\n",
       "    <tr>\n",
       "      <th>1</th>\n",
       "      <td>AT</td>\n",
       "      <td>Austria</td>\n",
       "      <td>2010</td>\n",
       "      <td>NaN</td>\n",
       "      <td>gCO3</td>\n",
       "      <td>EEA</td>\n",
       "    </tr>\n",
       "    <tr>\n",
       "      <th>2</th>\n",
       "      <td>AT</td>\n",
       "      <td>Austria</td>\n",
       "      <td>2011</td>\n",
       "      <td>NaN</td>\n",
       "      <td>gCO4</td>\n",
       "      <td>EEA</td>\n",
       "    </tr>\n",
       "    <tr>\n",
       "      <th>3</th>\n",
       "      <td>AT</td>\n",
       "      <td>Austria</td>\n",
       "      <td>2012</td>\n",
       "      <td>NaN</td>\n",
       "      <td>gCO5</td>\n",
       "      <td>EEA</td>\n",
       "    </tr>\n",
       "    <tr>\n",
       "      <th>4</th>\n",
       "      <td>AT</td>\n",
       "      <td>Austria</td>\n",
       "      <td>2013</td>\n",
       "      <td>NaN</td>\n",
       "      <td>gCO6</td>\n",
       "      <td>EEA</td>\n",
       "    </tr>\n",
       "  </tbody>\n",
       "</table>\n",
       "</div>"
      ],
      "text/plain": [
       "  Country Code Country Name  Year  Emission  Unit Data Source\n",
       "0           AT      Austria  2009       NaN  gCO2         EEA\n",
       "1           AT      Austria  2010       NaN  gCO3         EEA\n",
       "2           AT      Austria  2011       NaN  gCO4         EEA\n",
       "3           AT      Austria  2012       NaN  gCO5         EEA\n",
       "4           AT      Austria  2013       NaN  gCO6         EEA"
      ]
     },
     "execution_count": 33,
     "metadata": {},
     "output_type": "execute_result"
    }
   ],
   "source": [
    "df.head()"
   ]
  },
  {
   "cell_type": "code",
   "execution_count": 34,
   "metadata": {},
   "outputs": [],
   "source": [
    "df = df[['Country Code','Year']]"
   ]
  },
  {
   "cell_type": "code",
   "execution_count": 35,
   "metadata": {},
   "outputs": [
    {
     "data": {
      "text/html": [
       "<div>\n",
       "<style scoped>\n",
       "    .dataframe tbody tr th:only-of-type {\n",
       "        vertical-align: middle;\n",
       "    }\n",
       "\n",
       "    .dataframe tbody tr th {\n",
       "        vertical-align: top;\n",
       "    }\n",
       "\n",
       "    .dataframe thead th {\n",
       "        text-align: right;\n",
       "    }\n",
       "</style>\n",
       "<table border=\"1\" class=\"dataframe\">\n",
       "  <thead>\n",
       "    <tr style=\"text-align: right;\">\n",
       "      <th></th>\n",
       "      <th>Country Code</th>\n",
       "      <th>Year</th>\n",
       "    </tr>\n",
       "  </thead>\n",
       "  <tbody>\n",
       "    <tr>\n",
       "      <th>0</th>\n",
       "      <td>AT</td>\n",
       "      <td>2009</td>\n",
       "    </tr>\n",
       "    <tr>\n",
       "      <th>1</th>\n",
       "      <td>AT</td>\n",
       "      <td>2010</td>\n",
       "    </tr>\n",
       "    <tr>\n",
       "      <th>2</th>\n",
       "      <td>AT</td>\n",
       "      <td>2011</td>\n",
       "    </tr>\n",
       "    <tr>\n",
       "      <th>3</th>\n",
       "      <td>AT</td>\n",
       "      <td>2012</td>\n",
       "    </tr>\n",
       "    <tr>\n",
       "      <th>4</th>\n",
       "      <td>AT</td>\n",
       "      <td>2013</td>\n",
       "    </tr>\n",
       "  </tbody>\n",
       "</table>\n",
       "</div>"
      ],
      "text/plain": [
       "  Country Code  Year\n",
       "0           AT  2009\n",
       "1           AT  2010\n",
       "2           AT  2011\n",
       "3           AT  2012\n",
       "4           AT  2013"
      ]
     },
     "execution_count": 35,
     "metadata": {},
     "output_type": "execute_result"
    }
   ],
   "source": [
    "df.head()"
   ]
  },
  {
   "cell_type": "code",
   "execution_count": 36,
   "metadata": {},
   "outputs": [],
   "source": [
    "x = df['Country Code'].unique() # get all the countries code"
   ]
  },
  {
   "cell_type": "code",
   "execution_count": 37,
   "metadata": {},
   "outputs": [],
   "source": [
    "df = df.groupby(['Country Code']).count()"
   ]
  },
  {
   "cell_type": "code",
   "execution_count": 38,
   "metadata": {},
   "outputs": [],
   "source": [
    "df.reset_index(inplace=True)"
   ]
  },
  {
   "cell_type": "code",
   "execution_count": 39,
   "metadata": {},
   "outputs": [
    {
     "data": {
      "text/html": [
       "<div>\n",
       "<style scoped>\n",
       "    .dataframe tbody tr th:only-of-type {\n",
       "        vertical-align: middle;\n",
       "    }\n",
       "\n",
       "    .dataframe tbody tr th {\n",
       "        vertical-align: top;\n",
       "    }\n",
       "\n",
       "    .dataframe thead th {\n",
       "        text-align: right;\n",
       "    }\n",
       "</style>\n",
       "<table border=\"1\" class=\"dataframe\">\n",
       "  <thead>\n",
       "    <tr style=\"text-align: right;\">\n",
       "      <th></th>\n",
       "      <th>Country Code</th>\n",
       "      <th>Year</th>\n",
       "    </tr>\n",
       "  </thead>\n",
       "  <tbody>\n",
       "    <tr>\n",
       "      <th>0</th>\n",
       "      <td>AT</td>\n",
       "      <td>8</td>\n",
       "    </tr>\n",
       "    <tr>\n",
       "      <th>1</th>\n",
       "      <td>BE</td>\n",
       "      <td>4</td>\n",
       "    </tr>\n",
       "    <tr>\n",
       "      <th>2</th>\n",
       "      <td>CZ</td>\n",
       "      <td>7</td>\n",
       "    </tr>\n",
       "  </tbody>\n",
       "</table>\n",
       "</div>"
      ],
      "text/plain": [
       "  Country Code  Year\n",
       "0           AT     8\n",
       "1           BE     4\n",
       "2           CZ     7"
      ]
     },
     "execution_count": 39,
     "metadata": {},
     "output_type": "execute_result"
    }
   ],
   "source": [
    "df"
   ]
  },
  {
   "cell_type": "code",
   "execution_count": null,
   "metadata": {},
   "outputs": [],
   "source": []
  },
  {
   "cell_type": "code",
   "execution_count": 64,
   "metadata": {},
   "outputs": [
    {
     "data": {
      "image/png": "[encoded data removed]",
      "text/plain": [
       "<Figure size 432x288 with 1 Axes>"
      ]
     },
     "metadata": {
      "needs_background": "light"
     },
     "output_type": "display_data"
    }
   ],
   "source": [
    "plt.bar(df['Country Code'],df['Year'])\n",
    "plt.xlabel('X values')\n",
    "plt.ylabel('Height')\n",
    "plt.title('Vertical Bar chart')\n",
    "plt.show()"
   ]
  },
  {
   "cell_type": "markdown",
   "metadata": {},
   "source": [
    "<h3 style=\"background-color:yellow;\">Change the input data file name in the below code.Also we are allowed to use any logic to print the graph,hence using standard bar chart<h3/>"
   ]
  },
  {
   "cell_type": "code",
   "execution_count": 78,
   "metadata": {},
   "outputs": [],
   "source": [
    "# ca2-ghg-countries-graph.py\n",
    "# change the mydata.csv file name with your file\n",
    "import pandas as pd\n",
    "from matplotlib import pyplot as plt\n",
    "\n",
    "def graph():\n",
    "    df = pd.read_csv('mydata.csv')\n",
    "    df = df[['Country Code','Year']]\n",
    "    df = df.groupby(['Country Code']).count()\n",
    "    df.reset_index(inplace=True)\n",
    "    plt.bar(df['Country Code'],df['Year'])\n",
    "    plt.xlabel('X values')\n",
    "    plt.ylabel('Count')\n",
    "    plt.title('Vertical Bar chart')\n",
    "    plt.show()"
   ]
  },
  {
   "cell_type": "code",
   "execution_count": 79,
   "metadata": {},
   "outputs": [
    {
     "data": {
      "image/png": "[encoded data removed]",
      "text/plain": [
       "<Figure size 432x288 with 1 Axes>"
      ]
     },
     "metadata": {
      "needs_background": "light"
     },
     "output_type": "display_data"
    }
   ],
   "source": [
    "graph()"
   ]
  },
  {
   "cell_type": "markdown",
   "metadata": {},
   "source": [
    "<h3 style=\"background-color:yellow;\"> Extra Credit-GUI</h3>"
   ]
  },
  {
   "cell_type": "code",
   "execution_count": 87,
   "metadata": {},
   "outputs": [],
   "source": [
    "import matplotlib.pyplot as plt\n",
    "import numpy as np\n",
    "\n",
    "def draw(a,b,c):\n",
    "    # create 1000 equally spaced points between -10 and 10\n",
    "    x = np.linspace(-100, 100, 1000)\n",
    "    # calculate the value of y for each value of x\n",
    "    y = a*x**2 + b*x + c  # generic quadratic equation\n",
    "    plt.plot(x, y)"
   ]
  },
  {
   "cell_type": "code",
   "execution_count": 89,
   "metadata": {},
   "outputs": [
    {
     "data": {
      "image/png": "[encoded data removed]",
      "text/plain": [
       "<Figure size 432x288 with 1 Axes>"
      ]
     },
     "metadata": {
      "needs_background": "light"
     },
     "output_type": "display_data"
    }
   ],
   "source": [
    "draw(44,35,4) # pass value of a ,b and c"
   ]
  },
  {
   "cell_type": "code",
   "execution_count": null,
   "metadata": {},
   "outputs": [],
   "source": [
    "import java.awt.BorderLayout;\n",
    "import java.awt.Dimension;\n",
    "import java.awt.EventQueue;\n",
    "import java.awt.Rectangle;\n",
    "import javax.swing.JLabel;\n",
    "import javax.swing.JPanel;\n",
    "import javax.swing.JSpinner;\n",
    "import javax.swing.event.ChangeEvent;\n",
    "import javax.swing.event.ChangeListener;\n",
    "import org.jfree.chart.ChartFactory;\n",
    "import org.jfree.chart.ChartPanel;\n",
    "import org.jfree.chart.JFreeChart;\n",
    "import org.jfree.chart.plot.PlotOrientation;\n",
    "import org.jfree.chart.plot.XYPlot;\n",
    "import org.jfree.chart.renderer.xy.XYLineAndShapeRenderer;\n",
    "import org.jfree.data.function.Function2D;\n",
    "import org.jfree.data.function.PolynomialFunction2D;\n",
    "import org.jfree.data.general.DatasetUtilities;\n",
    "import org.jfree.data.xy.XYDataset;\n",
    "import org.jfree.ui.ApplicationFrame;\n",
    "import org.jfree.ui.RefineryUtilities;\n",
    "\n",
    "/*\n",
    " * @see https://stackoverflow.com/a/20249795/230513\n",
    " * @see https://stackoverflow.com/a/20107935/230513\n",
    " * @see https://stackoverflow.com/q/20081801/230513\n",
    " */\n",
    "public class ParabolaDemo extends ApplicationFrame {\n",
    "\n",
    "    private Integer value = Integer.valueOf(-1);\n",
    "\n",
    "    public ParabolaDemo(final String title) {\n",
    "        super(title);\n",
    "        final JFreeChart chart = ChartFactory.createXYLineChart(\n",
    "            \"Parabola\", \"X\", \"Y\", createDataset(value),\n",
    "            PlotOrientation.VERTICAL, true, true, false);\n",
    "        final XYPlot plot = (XYPlot) chart.getPlot();\n",
    "        XYLineAndShapeRenderer r = (XYLineAndShapeRenderer) plot.getRenderer();\n",
    "        r.setBaseShapesVisible(true);\n",
    "        r.setSeriesShape(0, new Rectangle(-6, -6, 12, 12));\n",
    "        final ChartPanel chartPanel = new ChartPanel(chart) {\n",
    "\n",
    "            @Override\n",
    "            public Dimension getPreferredSize() {\n",
    "                return new Dimension(640, 480);\n",
    "            }\n",
    "        };\n",
    "        add(chartPanel, BorderLayout.CENTER);\n",
    "        JPanel p = new JPanel();\n",
    "        JSpinner s = new JSpinner();\n",
    "        s.setValue(value);\n",
    "        s.addChangeListener(new ChangeListener() {\n",
    "\n",
    "            @Override\n",
    "            public void stateChanged(ChangeEvent e) {\n",
    "                JSpinner s = (JSpinner) e.getSource();\n",
    "                int v = ((Number) s.getValue()).intValue();\n",
    "                plot.setDataset(createDataset(v));\n",
    "            }\n",
    "        });\n",
    "        p.add(new JLabel(\"a\"));\n",
    "        p.add(s);\n",
    "        add(p, BorderLayout.SOUTH);\n",
    "    }\n",
    "\n",
    "    private XYDataset createDataset(int a) {\n",
    "        double[] array = {0.0, 0.0, a};\n",
    "        Function2D p = new PolynomialFunction2D(array);\n",
    "        return DatasetUtilities.sampleFunction2D(\n",
    "            p, -20.0, 20.0, 20, \"y = \" + a + \"x² {-20…20}\");\n",
    "\n",
    "    }\n",
    "\n",
    "    public static void main(final String[] args) {\n",
    "        EventQueue.invokeLater(new Runnable() {\n",
    "\n",
    "            @Override\n",
    "            public void run() {\n",
    "                final ParabolaDemo demo = new ParabolaDemo(\"Parabola Demo\");\n",
    "                demo.pack();\n",
    "                RefineryUtilities.centerFrameOnScreen(demo);\n",
    "                demo.setVisible(true);\n",
    "            }\n",
    "        });\n",
    "    }\n",
    "}"
   ]
  },
  {
   "cell_type": "code",
   "execution_count": 91,
   "metadata": {},
   "outputs": [],
   "source": [
    "import numpy as np"
   ]
  },
  {
   "cell_type": "code",
   "execution_count": 92,
   "metadata": {},
   "outputs": [],
   "source": [
    "k=np.array([[400,-400,0],[-400,1200,-800],[0,800,2000]])"
   ]
  },
  {
   "cell_type": "code",
   "execution_count": 93,
   "metadata": {},
   "outputs": [
    {
     "data": {
      "text/plain": [
       "array([[ 400, -400,    0],\n",
       "       [-400, 1200, -800],\n",
       "       [   0,  800, 2000]])"
      ]
     },
     "execution_count": 93,
     "metadata": {},
     "output_type": "execute_result"
    }
   ],
   "source": [
    "k"
   ]
  },
  {
   "cell_type": "code",
   "execution_count": 95,
   "metadata": {},
   "outputs": [],
   "source": [
    "m=np.array([[2,0,0],[0,2,0],[0,0,2]])"
   ]
  },
  {
   "cell_type": "code",
   "execution_count": 96,
   "metadata": {},
   "outputs": [
    {
     "data": {
      "text/plain": [
       "array([[2, 0, 0],\n",
       "       [0, 2, 0],\n",
       "       [0, 0, 2]])"
      ]
     },
     "execution_count": 96,
     "metadata": {},
     "output_type": "execute_result"
    }
   ],
   "source": [
    "m"
   ]
  },
  {
   "cell_type": "code",
   "execution_count": 99,
   "metadata": {},
   "outputs": [],
   "source": [
    "A = np.linalg.inv(m).dot(k)"
   ]
  },
  {
   "cell_type": "code",
   "execution_count": 100,
   "metadata": {},
   "outputs": [
    {
     "data": {
      "text/plain": [
       "array([[ 200., -200.,    0.],\n",
       "       [-200.,  600., -400.],\n",
       "       [   0.,  400., 1000.]])"
      ]
     },
     "execution_count": 100,
     "metadata": {},
     "output_type": "execute_result"
    }
   ],
   "source": [
    "A"
   ]
  },
  {
   "cell_type": "code",
   "execution_count": 101,
   "metadata": {},
   "outputs": [],
   "source": [
    "w, v = np.linalg.eig(A) "
   ]
  },
  {
   "cell_type": "code",
   "execution_count": 102,
   "metadata": {},
   "outputs": [
    {
     "data": {
      "text/plain": [
       "array([138.21853605  +0.j       , 830.89073198+346.3114066j,\n",
       "       830.89073198-346.3114066j])"
      ]
     },
     "execution_count": 102,
     "metadata": {},
     "output_type": "execute_result"
    }
   ],
   "source": [
    "w"
   ]
  },
  {
   "cell_type": "code",
   "execution_count": 103,
   "metadata": {},
   "outputs": [
    {
     "data": {
      "text/plain": [
       "array([[ 0.94661078+0.j        ,  0.00903901+0.1891124j ,\n",
       "         0.00903901-0.1891124j ],\n",
       "       [ 0.292415  +0.j        ,  0.29894578-0.61219786j,\n",
       "         0.29894578+0.61219786j],\n",
       "       [-0.13572582+0.j        , -0.70710678+0.j        ,\n",
       "        -0.70710678-0.j        ]])"
      ]
     },
     "execution_count": 103,
     "metadata": {},
     "output_type": "execute_result"
    }
   ],
   "source": [
    "v"
   ]
  },
  {
   "cell_type": "code",
   "execution_count": null,
   "metadata": {},
   "outputs": [],
   "source": []
  }
 ],
 "metadata": {
  "kernelspec": {
   "display_name": "Python 3",
   "language": "python",
   "name": "python3"
  },
  "language_info": {
   "codemirror_mode": {
    "name": "ipython",
    "version": 3
   },
   "file_extension": ".py",
   "mimetype": "text/x-python",
   "name": "python",
   "nbconvert_exporter": "python",
   "pygments_lexer": "ipython3",
   "version": "3.8.5"
  }
 },
 "nbformat": 4,
 "nbformat_minor": 4
}
