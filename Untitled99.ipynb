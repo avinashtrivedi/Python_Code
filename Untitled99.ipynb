{
 "cells": [
  {
   "cell_type": "code",
   "execution_count": 1,
   "metadata": {},
   "outputs": [],
   "source": [
    "def allIn(bottom_left,top_right,ListOfPoints) :\n",
    "    \n",
    "    # Get bottom left x1,y1\n",
    "    x1,y1 = bottom_left \n",
    "    \n",
    "    # Get top right x2,y2\n",
    "    x2,y2 = top_right\n",
    "    \n",
    "    # return false if ListOfPoints is empty\n",
    "    if len(ListOfPoints)==0:\n",
    "        return False\n",
    "    \n",
    "    # check for each points whether it is in the rectangle.\n",
    "    # A point is inside a rectangle if it satisfy x1 <= x <=x2 \n",
    "    # and y1 <= y <=y2\n",
    "    \n",
    "    for x,y in ListOfPoints:\n",
    "        if x1 <= x <=x2 and  y1 <= y <=y2:\n",
    "            pass  # if point is inside a rectangle, do nothing\n",
    "        \n",
    "        # if any of the point is not inside a rectangle, return False\n",
    "        else :\n",
    "            return False\n",
    "        \n",
    "    # if not a single time else statement was satisfied then\n",
    "    # return True because all points are inside a rectangle.\n",
    "    return True"
   ]
  },
  {
   "cell_type": "code",
   "execution_count": 2,
   "metadata": {},
   "outputs": [
    {
     "data": {
      "text/plain": [
       "True"
      ]
     },
     "execution_count": 2,
     "metadata": {},
     "output_type": "execute_result"
    }
   ],
   "source": [
    "allIn((0,0), (5,5), [(1,1), (0,0), (5,5)])"
   ]
  },
  {
   "cell_type": "code",
   "execution_count": 3,
   "metadata": {},
   "outputs": [
    {
     "data": {
      "text/plain": [
       "False"
      ]
     },
     "execution_count": 3,
     "metadata": {},
     "output_type": "execute_result"
    }
   ],
   "source": [
    "allIn((0,0), (5,5), [(1,1), (0,0), (5,6)])"
   ]
  },
  {
   "cell_type": "code",
   "execution_count": 4,
   "metadata": {},
   "outputs": [
    {
     "data": {
      "text/plain": [
       "False"
      ]
     },
     "execution_count": 4,
     "metadata": {},
     "output_type": "execute_result"
    }
   ],
   "source": [
    "allIn((0,0), (5,5), [])"
   ]
  },
  {
   "cell_type": "code",
   "execution_count": null,
   "metadata": {},
   "outputs": [],
   "source": []
  }
 ],
 "metadata": {
  "kernelspec": {
   "display_name": "Python 3",
   "language": "python",
   "name": "python3"
  },
  "language_info": {
   "codemirror_mode": {
    "name": "ipython",
    "version": 3
   },
   "file_extension": ".py",
   "mimetype": "text/x-python",
   "name": "python",
   "nbconvert_exporter": "python",
   "pygments_lexer": "ipython3",
   "version": "3.8.5"
  }
 },
 "nbformat": 4,
 "nbformat_minor": 4
}
