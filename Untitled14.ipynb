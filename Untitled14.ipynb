{
 "cells": [
  {
   "cell_type": "code",
   "execution_count": 1,
   "metadata": {},
   "outputs": [],
   "source": [
    "def print_separator():\n",
    "    print('*'*46) # it will print * 46 times"
   ]
  },
  {
   "cell_type": "code",
   "execution_count": 2,
   "metadata": {},
   "outputs": [
    {
     "name": "stdout",
     "output_type": "stream",
     "text": [
      "**********************************************\n"
     ]
    }
   ],
   "source": [
    "print_separator()"
   ]
  },
  {
   "cell_type": "code",
   "execution_count": 3,
   "metadata": {},
   "outputs": [],
   "source": [
    "def display_menu():\n",
    "    print('please make a selection')\n",
    "    print('Enter 1 to play a round of Cee-lo')\n",
    "    print('Enter 0 to exit')"
   ]
  },
  {
   "cell_type": "code",
   "execution_count": 4,
   "metadata": {},
   "outputs": [
    {
     "name": "stdout",
     "output_type": "stream",
     "text": [
      "please make a selection\n",
      "Enter 1 to play a round of Cee-lo\n",
      "Enter 0 to exit\n"
     ]
    }
   ],
   "source": [
    "display_menu()"
   ]
  },
  {
   "cell_type": "code",
   "execution_count": 5,
   "metadata": {},
   "outputs": [],
   "source": [
    "def display_banner(user_name):\n",
    "    print_separator()\n",
    "    print('Cee-lo Game by ',user_name)\n",
    "    print_separator()"
   ]
  },
  {
   "cell_type": "code",
   "execution_count": 6,
   "metadata": {},
   "outputs": [
    {
     "name": "stdout",
     "output_type": "stream",
     "text": [
      "**********************************************\n",
      "Cee-lo Game by  hero\n",
      "**********************************************\n"
     ]
    }
   ],
   "source": [
    "display_banner('hero')"
   ]
  },
  {
   "cell_type": "code",
   "execution_count": 7,
   "metadata": {},
   "outputs": [],
   "source": [
    "def get_user_input():\n",
    "    while True:\n",
    "        i=int(input('Enter your selection:'))\n",
    "        if i in (0,1): # check if i is 0 or 1\n",
    "            return i\n",
    "        else:\n",
    "            print('Make a valid selection')"
   ]
  },
  {
   "cell_type": "code",
   "execution_count": 8,
   "metadata": {},
   "outputs": [
    {
     "name": "stdout",
     "output_type": "stream",
     "text": [
      "Enter your selection:-1\n",
      "Make a valid selection\n",
      "Enter your selection:-2\n",
      "Make a valid selection\n",
      "Enter your selection:3\n",
      "Make a valid selection\n",
      "Enter your selection:5\n",
      "Make a valid selection\n",
      "Enter your selection:1\n"
     ]
    },
    {
     "data": {
      "text/plain": [
       "1"
      ]
     },
     "execution_count": 8,
     "metadata": {},
     "output_type": "execute_result"
    }
   ],
   "source": [
    "get_user_input()"
   ]
  },
  {
   "cell_type": "code",
   "execution_count": 9,
   "metadata": {},
   "outputs": [],
   "source": [
    "def print_player_stats(player_wins,computer_wins,draws):\n",
    "    print('Player Wins: ',player_wins)\n",
    "    \n",
    "    # to avoid division by zero\n",
    "    # if player_wins+computer_wins+draws ==0 else will be executed\n",
    "    if player_wins+computer_wins+draws>0: \n",
    "        percent = player_wins*100/(player_wins+computer_wins+draws)\n",
    "    else:\n",
    "        percent=0\n",
    "    print('Win percentage: ',round(percent,1))"
   ]
  },
  {
   "cell_type": "code",
   "execution_count": 10,
   "metadata": {},
   "outputs": [
    {
     "name": "stdout",
     "output_type": "stream",
     "text": [
      "Player Wins:  1\n",
      "Win percentage:  20.0\n"
     ]
    }
   ],
   "source": [
    "print_player_stats(1,3,1)"
   ]
  },
  {
   "cell_type": "code",
   "execution_count": 11,
   "metadata": {},
   "outputs": [
    {
     "name": "stdout",
     "output_type": "stream",
     "text": [
      "Player Wins:  0\n",
      "Win percentage:  0\n"
     ]
    }
   ],
   "source": [
    "print_player_stats(0,0,0)"
   ]
  },
  {
   "cell_type": "code",
   "execution_count": 12,
   "metadata": {},
   "outputs": [
    {
     "name": "stdout",
     "output_type": "stream",
     "text": [
      "Player Wins:  1\n",
      "Win percentage:  33.3\n"
     ]
    }
   ],
   "source": [
    "print_player_stats(1,1,1)"
   ]
  },
  {
   "cell_type": "code",
   "execution_count": null,
   "metadata": {},
   "outputs": [],
   "source": []
  },
  {
   "cell_type": "code",
   "execution_count": null,
   "metadata": {},
   "outputs": [],
   "source": []
  }
 ],
 "metadata": {
  "kernelspec": {
   "display_name": "Python 3",
   "language": "python",
   "name": "python3"
  },
  "language_info": {
   "codemirror_mode": {
    "name": "ipython",
    "version": 3
   },
   "file_extension": ".py",
   "mimetype": "text/x-python",
   "name": "python",
   "nbconvert_exporter": "python",
   "pygments_lexer": "ipython3",
   "version": "3.8.5"
  }
 },
 "nbformat": 4,
 "nbformat_minor": 4
}
