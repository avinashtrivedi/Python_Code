{
 "cells": [
  {
   "cell_type": "code",
   "execution_count": 1,
   "metadata": {},
   "outputs": [
    {
     "name": "stdout",
     "output_type": "stream",
     "text": [
      "number of characters in Roosevelt file: 7571\n",
      "number of characters in Kennedy file: 7618\n",
      "number of characters in Nixon file: 9991\n",
      "Number of words in Roosevelt file: 1360\n",
      "Number of words in Kennedy file: 1390\n",
      "Number of words in Nixon file: 1819\n",
      "Number of sentences in Roosevelt file: 38\n",
      "Number of sentences in Kennedy file: 27\n",
      "Number of sentences in Nixon file: 51\n"
     ]
    }
   ],
   "source": [
    "# In[1]:\n",
    "\n",
    "\n",
    "# import the library\n",
    "import nltk\n",
    "\n",
    "# load the US Presidential inaugural addresses.\n",
    "from nltk.corpus import inaugural\n",
    "\n",
    "\n",
    "# # Number of characters\n",
    "\n",
    "# In[2]:\n",
    "\n",
    "\n",
    "# read the file to get it as single string.\n",
    "Roosevelt = inaugural.raw('1941-Roosevelt.txt')\n",
    "number_of_characters = len(Roosevelt)\n",
    "print('number of characters in Roosevelt file:',number_of_characters)\n",
    "\n",
    "# read the file to get it as single string.\n",
    "Kennedy = inaugural.raw('1961-Kennedy.txt')\n",
    "number_of_characters = len(Kennedy)\n",
    "print('number of characters in Kennedy file:',number_of_characters)\n",
    "\n",
    "# read the file to get it as single string.\n",
    "Nixon = inaugural.raw('1973-Nixon.txt')\n",
    "number_of_characters = len(Nixon)\n",
    "print('number of characters in Nixon file:',number_of_characters)\n",
    "\n",
    "\n",
    "# # Number of words\n",
    "\n",
    "# In[3]:\n",
    "\n",
    "\n",
    "# read the file to get it as single string.\n",
    "x = inaugural.raw('1941-Roosevelt.txt')\n",
    "# get the list of words\n",
    "word = x.split()\n",
    "print('Number of words in Roosevelt file:',len(word))\n",
    "\n",
    "\n",
    "# In[4]:\n",
    "\n",
    "\n",
    "x = inaugural.raw('1961-Kennedy.txt')\n",
    "# get the list of words\n",
    "word = x.split()\n",
    "print('Number of words in Kennedy file:',len(word))\n",
    "\n",
    "\n",
    "# In[5]:\n",
    "\n",
    "\n",
    "x = inaugural.raw('1973-Nixon.txt')\n",
    "# get the list of words\n",
    "word = x.split()\n",
    "print('Number of words in Nixon file:',len(word))\n",
    "\n",
    "\n",
    "# Number of sentences: Wrong Method/Solution\n",
    "# As given in the Question document (MACHINE LEARNING -2.pdf)\n",
    "# \n",
    "# - It is wrong because it is finding the number of sentences on the basis of number of words in a file ending with dot i.e. '.'\n",
    "# \n",
    "# - Hence it is considering separate line even for Mr. for example in Mr. Vice President , Mr. Speaker , Mr. Chief etc although its a part of single sentences in 1973-Nixon.txt but this code counts it as Three different sentence\n",
    "\n",
    "# In[6]:\n",
    "\n",
    "\n",
    "import pandas as pd\n",
    "\n",
    "\n",
    "# In[7]:\n",
    "\n",
    "\n",
    "y = pd.DataFrame({'text':inaugural.raw('1941-Roosevelt.txt')},index={0})\n",
    "y['sentences'] = y['text'].apply(lambda x: len([x for x in x.split() if x.endswith('.')]))\n",
    "y\n",
    "\n",
    "\n",
    "# In[8]:\n",
    "\n",
    "\n",
    "y = pd.DataFrame({'text':inaugural.raw('1961-Kennedy.txt')},index={0})\n",
    "y['sentences'] = y['text'].apply(lambda x: len([x for x in x.split() if x.endswith('.')]))\n",
    "y\n",
    "\n",
    "\n",
    "# In[9]:\n",
    "\n",
    "\n",
    "y = pd.DataFrame({'text':inaugural.raw('1973-Nixon.txt')},index={0})\n",
    "y['sentences'] = y['text'].apply(lambda x: len([x for x in x.split() if x.endswith('.')]))\n",
    "y\n",
    "\n",
    "\n",
    "# Number of sentences: Correct Method/solution\n",
    "\n",
    "# In[10]:\n",
    "\n",
    "\n",
    "# read the file and return list of lines.\n",
    "Kennedy_all_lines = inaugural.open('1941-Roosevelt.txt').readlines()\n",
    "\n",
    "# ignore the blank/empty lines.\n",
    "sentence = [line for line in Kennedy_all_lines if line!='\\n']\n",
    "\n",
    "print('Number of sentences in Roosevelt file:',len(sentence))\n",
    "\n",
    "\n",
    "# In[11]:\n",
    "\n",
    "\n",
    "# read the file and return list of lines.\n",
    "Kennedy_all_lines = inaugural.open('1961-Kennedy.txt').readlines()\n",
    "\n",
    "# ignore the blank/empty lines.\n",
    "sentence = [line for line in Kennedy_all_lines if line!='\\n']\n",
    "print('Number of sentences in Kennedy file:',len(sentence))\n",
    "\n",
    "\n",
    "# In[12]:\n",
    "\n",
    "\n",
    "# read the file and return list of lines.\n",
    "Kennedy_all_lines = inaugural.open('1973-Nixon.txt').readlines()\n",
    "\n",
    "# ignore the blank/empty lines.\n",
    "sentence = [line for line in Kennedy_all_lines if line!='\\n']\n",
    "print('Number of sentences in Nixon file:',len(sentence))\n",
    "\n"
   ]
  },
  {
   "cell_type": "code",
   "execution_count": 28,
   "metadata": {},
   "outputs": [],
   "source": [
    "class myclass:\n",
    "    def __init__(self):\n",
    "        \n",
    "        #attribute\n",
    "        self.var1 = 100\n",
    "        \n",
    "        print(\"Class myclass is Created\")\n",
    "\n",
    "    # Method\n",
    "    # its first parameter is self \n",
    "    # and the second parameter is name\n",
    "    def msg(self,name):\n",
    "        print(\"My Name is\",name)"
   ]
  },
  {
   "cell_type": "code",
   "execution_count": 29,
   "metadata": {},
   "outputs": [
    {
     "name": "stdout",
     "output_type": "stream",
     "text": [
      "Class myclass is Created\n"
     ]
    }
   ],
   "source": [
    "obj = myclass() # Create object"
   ]
  },
  {
   "cell_type": "code",
   "execution_count": 30,
   "metadata": {},
   "outputs": [
    {
     "name": "stdout",
     "output_type": "stream",
     "text": [
      "My Name is David\n"
     ]
    }
   ],
   "source": [
    "obj.msg('David') # call the method msg"
   ]
  },
  {
   "cell_type": "code",
   "execution_count": null,
   "metadata": {},
   "outputs": [],
   "source": []
  }
 ],
 "metadata": {
  "kernelspec": {
   "display_name": "Python 3",
   "language": "python",
   "name": "python3"
  },
  "language_info": {
   "codemirror_mode": {
    "name": "ipython",
    "version": 3
   },
   "file_extension": ".py",
   "mimetype": "text/x-python",
   "name": "python",
   "nbconvert_exporter": "python",
   "pygments_lexer": "ipython3",
   "version": "3.8.5"
  }
 },
 "nbformat": 4,
 "nbformat_minor": 4
}
