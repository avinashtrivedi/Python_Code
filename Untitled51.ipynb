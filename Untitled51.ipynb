{
 "cells": [
  {
   "cell_type": "code",
   "execution_count": 1,
   "metadata": {},
   "outputs": [],
   "source": [
    "# define a Pizza class\n",
    "class Pizza:\n",
    "  \n",
    "    #Constructor that initializes size and toppings\n",
    "    def __init__(self, sz='M', top=set()):\n",
    "        self.size = sz;\n",
    "        self.toppings = top;\n",
    "\n",
    "    #Method that sets the size\n",
    "    def setSize(self,sz):\n",
    "        self.size = sz;\n",
    "\n",
    "    #Method that returns the size\n",
    "    def getSize(self):\n",
    "        return self.size;\n",
    "\n",
    "    #Method that adds toppings  \n",
    "    def addTopping(self,top):\n",
    "        self.toppings.add(top);\n",
    "\n",
    "    #Method that removes toppings\n",
    "    def removeTopping(self,top):\n",
    "        self.toppings.remove(top);\n",
    "\n",
    "    #Method that calculates price of the pizza\n",
    "    def price(self):\n",
    "        Price_Pizza = 0;\n",
    "        Price_Topping = 0;\n",
    "        Price_Total = 0;\n",
    "\n",
    "       #Get the number of toppings\n",
    "        No_of_Topping = len(self.toppings);\n",
    "\n",
    "       #Calculating Price for pizza of size 'S'\n",
    "        if self.size == 'S':\n",
    "            Price_Pizza = 6.25;\n",
    "            Price_Topping = 0.70 * No_of_Topping;\n",
    "       #Calculating Price for pizza of size 'M'\n",
    "        elif self.size == 'M':\n",
    "            Price_Pizza = 9.95;\n",
    "            Price_Topping = 1.45 * No_of_Topping;\n",
    "        #Calculating Price for pizza of size 'L'\n",
    "        else:\n",
    "            Price_Pizza = 12.95;\n",
    "            Price_Topping = 1.85 * No_of_Topping;\n",
    "        \n",
    "        Price_Total = Price_Pizza + Price_Topping;\n",
    "        return Price_Total;\n",
    "\n",
    "    #Method that returns the string for printing\n",
    "    def __repr__(self):\n",
    "        return \"Pizza('\" + self.size + \"', \" + str(self.toppings) + \")\";\n",
    "\n",
    "    #Method that compares two Pizza class objects\n",
    "    def __eq__(ob1, ob2):\n",
    "        if (ob1.size == ob2.size) and (ob1.toppings == ob2.toppings):\n",
    "            return True;\n",
    "        else:\n",
    "            return False;"
   ]
  },
  {
   "cell_type": "code",
   "execution_count": 2,
   "metadata": {},
   "outputs": [],
   "source": [
    "pie = Pizza()"
   ]
  },
  {
   "cell_type": "code",
   "execution_count": 3,
   "metadata": {},
   "outputs": [],
   "source": [
    "a={1,2,3}"
   ]
  },
  {
   "cell_type": "code",
   "execution_count": 4,
   "metadata": {},
   "outputs": [],
   "source": [
    "a.remove(2)"
   ]
  },
  {
   "cell_type": "code",
   "execution_count": 5,
   "metadata": {},
   "outputs": [
    {
     "data": {
      "text/plain": [
       "{1, 3}"
      ]
     },
     "execution_count": 5,
     "metadata": {},
     "output_type": "execute_result"
    }
   ],
   "source": [
    "a"
   ]
  },
  {
   "cell_type": "code",
   "execution_count": null,
   "metadata": {},
   "outputs": [],
   "source": []
  }
 ],
 "metadata": {
  "kernelspec": {
   "display_name": "Python 3",
   "language": "python",
   "name": "python3"
  },
  "language_info": {
   "codemirror_mode": {
    "name": "ipython",
    "version": 3
   },
   "file_extension": ".py",
   "mimetype": "text/x-python",
   "name": "python",
   "nbconvert_exporter": "python",
   "pygments_lexer": "ipython3",
   "version": "3.8.5"
  }
 },
 "nbformat": 4,
 "nbformat_minor": 4
}
