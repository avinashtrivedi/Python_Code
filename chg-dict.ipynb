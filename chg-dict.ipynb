{
 "cells": [
  {
   "cell_type": "code",
   "execution_count": 1,
   "metadata": {},
   "outputs": [],
   "source": [
    "# sample responseContent to show how the code is working.\n",
    "responseContent = {\"input\":\"\",\n",
    "                  \"type\":\"s\",\n",
    "                  \"latlang\":{\"lat\":33.150674,\"lng\":-96.823612},\n",
    "                  \"displaylatlang\":{\"lat\":33.150674,\"lng\":-96.823612}\n",
    "                  }"
   ]
  },
  {
   "cell_type": "code",
   "execution_count": 2,
   "metadata": {},
   "outputs": [],
   "source": [
    "responseContent # display the content"
   ]
  },
  {
   "cell_type": "code",
   "execution_count": 3,
   "metadata": {},
   "outputs": [
    {
     "data": {
      "text/plain": [
       "dict"
      ]
     },
     "execution_count": 3,
     "metadata": {},
     "output_type": "execute_result"
    }
   ],
   "source": [
    "type(responseContent) # it is of dictionary type."
   ]
  },
  {
   "cell_type": "code",
   "execution_count": 4,
   "metadata": {},
   "outputs": [
    {
     "data": {
      "text/plain": [
       "dict_keys(['input', 'type', 'latlang', 'displaylatlang'])"
      ]
     },
     "execution_count": 4,
     "metadata": {},
     "output_type": "execute_result"
    }
   ],
   "source": [
    "# Dictionary items can be accessed by its key\n",
    "responseContent.keys()\n",
    "\n",
    "# these are the keys of responseContent"
   ]
  },
  {
   "cell_type": "code",
   "execution_count": 5,
   "metadata": {},
   "outputs": [
    {
     "data": {
      "text/plain": [
       "{'lat': 33.150674, 'lng': -96.823612}"
      ]
     },
     "execution_count": 5,
     "metadata": {},
     "output_type": "execute_result"
    }
   ],
   "source": [
    "# data of latlang can be accessed by its key ,like this\n",
    "responseContent['latlang']"
   ]
  },
  {
   "cell_type": "code",
   "execution_count": 6,
   "metadata": {},
   "outputs": [
    {
     "data": {
      "text/plain": [
       "33.150674"
      ]
     },
     "execution_count": 6,
     "metadata": {},
     "output_type": "execute_result"
    }
   ],
   "source": [
    "# now the data returned by responseContent['latlang'] is again dictionary.\n",
    "# hence, access responseContent['latlang'] using its key i.e. lat and lng\n",
    "responseContent['latlang']['lat']"
   ]
  },
  {
   "cell_type": "code",
   "execution_count": 7,
   "metadata": {},
   "outputs": [
    {
     "data": {
      "text/plain": [
       "-96.823612"
      ]
     },
     "execution_count": 7,
     "metadata": {},
     "output_type": "execute_result"
    }
   ],
   "source": [
    "responseContent['latlang']['lng']"
   ]
  },
  {
   "cell_type": "code",
   "execution_count": 8,
   "metadata": {},
   "outputs": [
    {
     "name": "stdout",
     "output_type": "stream",
     "text": [
      "lat 33.150674\n",
      "lng -96.823612\n"
     ]
    }
   ],
   "source": [
    "# Can be printed like this as well\n",
    "for key,val in responseContent['latlang'].items():\n",
    "    print(key,val)"
   ]
  },
  {
   "cell_type": "code",
   "execution_count": 9,
   "metadata": {},
   "outputs": [
    {
     "data": {
      "text/plain": [
       "dict_items([('lat', 33.150674), ('lng', -96.823612)])"
      ]
     },
     "execution_count": 9,
     "metadata": {},
     "output_type": "execute_result"
    }
   ],
   "source": [
    "# items() : it is a dictionary function that return key value pairs.\n",
    "responseContent['latlang'].items()"
   ]
  },
  {
   "cell_type": "code",
   "execution_count": 10,
   "metadata": {},
   "outputs": [
    {
     "name": "stdout",
     "output_type": "stream",
     "text": [
      "Welcome to the change calculator.\n",
      "\n",
      "Enter the Sale amount: 348\n",
      "Enter the amount paid by customer: 400\n",
      "\n",
      "Do you Want to calculate change for another customer yes/no ?: yes\n",
      "\n",
      "Enter the Sale amount: 670\n",
      "Enter the amount paid by customer: 1000\n",
      "\n",
      "Do you Want to calculate change for another customer yes/no ?: yes\n",
      "\n",
      "Enter the Sale amount: 120\n",
      "Enter the amount paid by customer: 150\n",
      "\n",
      "Do you Want to calculate change for another customer yes/no ?: ababa\n",
      "\n",
      "Wrong input, Please try again.\n",
      "Do you Want to calculate change for another customer yes/no ?: yes\n",
      "\n",
      "Enter the Sale amount: 23\n",
      "Enter the amount paid by customer: 50\n",
      "\n",
      "Do you Want to calculate change for another customer yes/no ?: no\n",
      "\n",
      "\n",
      "Number of customers: 4\n",
      "Total amount of change given: 439.00\n",
      "Average amount of change given: 109.75\n",
      "\n",
      "Thank you for using the change calculator.\n"
     ]
    }
   ],
   "source": [
    "print('Welcome to the change calculator.\\n')\n",
    "\n",
    "# list to store changes for all the customers.\n",
    "change = []\n",
    "\n",
    "flag = True\n",
    "while flag:\n",
    "    try:\n",
    "        sale = float(input('Enter the Sale amount: '))\n",
    "        paid_by_cust = float(input('Enter the amount paid by customer: '))\n",
    "        print()\n",
    "        \n",
    "        # compute the change\n",
    "        # Amount paid by customer must be more than sale amount.\n",
    "        \n",
    "        cust_change = paid_by_cust - sale\n",
    "        \n",
    "        # append all those change to list\n",
    "        change.append(cust_change)\n",
    "        \n",
    "        while True:\n",
    "            choice = input('Do you Want to calculate change for another customer yes/no ?: ')\n",
    "            print()\n",
    "            \n",
    "            # print the details.\n",
    "            if choice == 'no':\n",
    "                print('\\nNumber of customers:',len(change))\n",
    "                print('Total amount of change given: {:0.2f}'.format(sum(change)))\n",
    "                print('Average amount of change given: {:0.2f}'.format(sum(change)/len(change)))\n",
    "                print('\\nThank you for using the change calculator.')\n",
    "                flag=False\n",
    "                break\n",
    "                \n",
    "            elif choice=='yes':\n",
    "                flag=True\n",
    "                break\n",
    "                \n",
    "            else:\n",
    "                print('Wrong input, Please try again.')\n",
    "    except:\n",
    "        print('Wrong input')"
   ]
  },
  {
   "cell_type": "code",
   "execution_count": null,
   "metadata": {},
   "outputs": [],
   "source": []
  }
 ],
 "metadata": {
  "kernelspec": {
   "display_name": "Python 3",
   "language": "python",
   "name": "python3"
  },
  "language_info": {
   "codemirror_mode": {
    "name": "ipython",
    "version": 3
   },
   "file_extension": ".py",
   "mimetype": "text/x-python",
   "name": "python",
   "nbconvert_exporter": "python",
   "pygments_lexer": "ipython3",
   "version": "3.8.5"
  }
 },
 "nbformat": 4,
 "nbformat_minor": 4
}
