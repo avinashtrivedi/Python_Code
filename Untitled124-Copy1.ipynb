{
 "cells": [
  {
   "cell_type": "code",
   "execution_count": 1,
   "metadata": {},
   "outputs": [],
   "source": [
    "from nose.tools import assert_equal"
   ]
  },
  {
   "cell_type": "code",
   "execution_count": 2,
   "metadata": {},
   "outputs": [],
   "source": [
    "def monogram(full_name):\n",
    "\n",
    "    # split the name into multiple elements\n",
    "    full_name = full_name.split()\n",
    "    \n",
    "    # where first, second and third element is first,middle and last name\n",
    "    f_name = full_name[0]\n",
    "    m_name = full_name[1]\n",
    "    l_name = full_name[2]\n",
    "    \n",
    "    # compute the monogram\n",
    "    monogram = f_name[0].lower() + '.' + l_name[0].upper() + '.' + m_name[0].lower()\n",
    "    \n",
    "    # return the monogram\n",
    "    return monogram"
   ]
  },
  {
   "cell_type": "code",
   "execution_count": 3,
   "metadata": {},
   "outputs": [],
   "source": [
    "assert_equal(monogram('Dwight Kevin Shrute'),'d.S.k') \n",
    "assert_equal(monogram('Eye see deadpeople'),'e.D.s', msg='Did you check the case?') \n",
    "assert_equal(monogram('mers sadees benz II'),'m.B.s',msg='Did the extra suffix throw you off?')"
   ]
  },
  {
   "cell_type": "code",
   "execution_count": 6,
   "metadata": {},
   "outputs": [
    {
     "data": {
      "text/plain": [
       "(0, 370)"
      ]
     },
     "execution_count": 6,
     "metadata": {},
     "output_type": "execute_result"
    }
   ],
   "source": [
    "divmod(370,500)"
   ]
  },
  {
   "cell_type": "code",
   "execution_count": 28,
   "metadata": {},
   "outputs": [],
   "source": [
    "def dispense_cash(amount):\n",
    "    note = [500,100,50,20,10]\n",
    "    count = [0,0,0,0,0]\n",
    "    for i in range(len(note)):\n",
    "        if amount >= note[i]:\n",
    "            count[i],amount = divmod(amount,note[i])\n",
    "    if amount==0:\n",
    "        return sum(count)\n",
    "    else:\n",
    "        return -1"
   ]
  },
  {
   "cell_type": "code",
   "execution_count": 29,
   "metadata": {},
   "outputs": [],
   "source": [
    "assert_equal(dispense_cash(1120),4)\n",
    "assert_equal(dispense_cash(492),-1)\n",
    "assert_equal(dispense_cash(440),6)\n",
    "assert_equal(dispense_cash(370),5)\n",
    "assert_equal(dispense_cash(80),3)\n"
   ]
  },
  {
   "cell_type": "code",
   "execution_count": null,
   "metadata": {},
   "outputs": [],
   "source": []
  }
 ],
 "metadata": {
  "kernelspec": {
   "display_name": "Python 3",
   "language": "python",
   "name": "python3"
  },
  "language_info": {
   "codemirror_mode": {
    "name": "ipython",
    "version": 3
   },
   "file_extension": ".py",
   "mimetype": "text/x-python",
   "name": "python",
   "nbconvert_exporter": "python",
   "pygments_lexer": "ipython3",
   "version": "3.8.5"
  }
 },
 "nbformat": 4,
 "nbformat_minor": 4
}
