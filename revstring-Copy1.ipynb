{
 "cells": [
  {
   "cell_type": "code",
   "execution_count": 1,
   "metadata": {},
   "outputs": [],
   "source": [
    "def concatenation(string1,string2,string3):\n",
    "    \n",
    "    # concatenate the strings in reverse order\n",
    "    final_reversed_string = string3 + string2 + string1\n",
    "    \n",
    "    # return the final_reversed_string\n",
    "    return final_reversed_string"
   ]
  },
  {
   "cell_type": "code",
   "execution_count": 2,
   "metadata": {},
   "outputs": [],
   "source": [
    "def main():\n",
    "    \n",
    "    # take user inputs\n",
    "    s1 = input('Enter first String: ')\n",
    "    s2 = input('Enter second String: ')\n",
    "    s3 = input('Enter third string: ')\n",
    "    \n",
    "    # call the concatenation() function\n",
    "    rev_str = concatenation(s1,s2,s3)\n",
    "    \n",
    "    # print the result\n",
    "    print('Concatenation of the string values in reverse order:',rev_str)"
   ]
  },
  {
   "cell_type": "code",
   "execution_count": 3,
   "metadata": {},
   "outputs": [
    {
     "name": "stdout",
     "output_type": "stream",
     "text": [
      "Enter first String: Cat\n",
      "Enter second String: Dog\n",
      "Enter third string: Bird\n",
      "Concatenation of the string values in reverse order: BirdDogCat\n"
     ]
    }
   ],
   "source": [
    "if __name__ == \"__main__\":\n",
    "    main()"
   ]
  },
  {
   "cell_type": "code",
   "execution_count": null,
   "metadata": {},
   "outputs": [],
   "source": []
  }
 ],
 "metadata": {
  "kernelspec": {
   "display_name": "Python 3",
   "language": "python",
   "name": "python3"
  },
  "language_info": {
   "codemirror_mode": {
    "name": "ipython",
    "version": 3
   },
   "file_extension": ".py",
   "mimetype": "text/x-python",
   "name": "python",
   "nbconvert_exporter": "python",
   "pygments_lexer": "ipython3",
   "version": "3.8.5"
  }
 },
 "nbformat": 4,
 "nbformat_minor": 4
}
