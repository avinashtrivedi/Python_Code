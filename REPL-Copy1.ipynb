{
 "cells": [
  {
   "cell_type": "code",
   "execution_count": 38,
   "metadata": {},
   "outputs": [],
   "source": [
    "repl_variable={} # dictionary to store REPL variables as key,value pair.\n",
    "# define a function for syntax of type:  a gets 1 , c gets a ,23 gets z\n",
    "def gets(s):\n",
    "    try:\n",
    "        if s[2] in repl_variable:\n",
    "            repl_variable[s[0]] = repl_variable[s[2]]\n",
    "        else:\n",
    "            repl_variable[s[0]] = int(s[2])\n",
    "    except:\n",
    "        print('Syntax error.')\n",
    "\n",
    "# for syntax of type:  c adds b\n",
    "def adds(s):\n",
    "    try:\n",
    "        if s[0] in repl_variable and s[2] in repl_variable:\n",
    "            repl_variable[s[0]]= repl_variable[s[0]] + repl_variable[s[2]] \n",
    "        elif s[0] in repl_var:\n",
    "            repl_variable[s[0]]= repl_variable[s[0]] + int(s[2])\n",
    "        else:\n",
    "            print(s[0],'is undefined')\n",
    "    except:\n",
    "        print('Syntax error.')\n",
    "\n",
    "# for synatx of type: input b \n",
    "def inputs(s):\n",
    "    try:\n",
    "        repl_variable[s[1]] = int(input(\"Enter a value for {}: \".format(s[1])))\n",
    "    except:\n",
    "        print('Syntax error.')\n",
    "        \n",
    "# for syntax of type : print a,print z,print 32\n",
    "def prints(s):\n",
    "    try:\n",
    "        if s[1] in repl_variable:\n",
    "            print(s[1],'equals',repl_variable[s[1]])\n",
    "        elif int(s[1]):\n",
    "            print(s[1])\n",
    "    except:\n",
    "        print(s[1],'is undefined')"
   ]
  },
  {
   "cell_type": "code",
   "execution_count": 39,
   "metadata": {},
   "outputs": [
    {
     "name": "stdout",
     "output_type": "stream",
     "text": [
      "Script name:children.ad\n",
      "Enter a value for sons: 3\n",
      "Enter a value for daughters: 4\n",
      "children equals 7\n",
      "Goodbye.\n"
     ]
    }
   ],
   "source": [
    "def main():\n",
    "    # take script name as input\n",
    "    fname = input('Script name:')\n",
    "    # read the file and store all lines in em_data as\n",
    "    '''\n",
    "    ['input sons\\n',\n",
    "     'input daughters\\n',\n",
    "     'children gets sons\\n',\n",
    "     'children adds daughters\\n',\n",
    "     'print children\\n',\n",
    "     'quit']\n",
    "     '''\n",
    "    with open(fname, 'r') as file:\n",
    "        em_data = file.readlines() \n",
    "    all_syntax = [i.strip() for i in em_data] # remove \\n by strip() \n",
    "    \n",
    "    # read all the individual syntax one by one\n",
    "    for syntax in all_syntax:\n",
    "        try:\n",
    "            syntax = syntax.split(' ') # split the input into list of string,eg. 'c adds b'  becomes  ['c','adds','b']\n",
    "            # for cases like: 23 gets z,a gets 1 , c gets a \n",
    "            if len(syntax)==3 and syntax[1]=='gets':\n",
    "                gets(syntax)\n",
    "            # for cases like: c adds b\n",
    "            elif len(syntax)==3 and syntax[1]=='adds':\n",
    "                adds(syntax)\n",
    "            # for cases like: input b\n",
    "            elif len(syntax)==2 and syntax[0]=='input':\n",
    "                inputs(syntax)\n",
    "\n",
    "            # for cases like : print a,print z,print 32\n",
    "            elif len(syntax)==2 and syntax[0]=='print':\n",
    "                prints(syntax)\n",
    "\n",
    "            # Exit the REPL, when input is quit\n",
    "            elif len(syntax)==1 and syntax[0]=='quit':\n",
    "                quit=False\n",
    "                print('Goodbye.')\n",
    "            # remaining cases.\n",
    "            else:\n",
    "                print('Syntax error.')\n",
    "        except:\n",
    "             print('Syntax error.')\n",
    "main() "
   ]
  },
  {
   "cell_type": "code",
   "execution_count": null,
   "metadata": {},
   "outputs": [],
   "source": []
  }
 ],
 "metadata": {
  "kernelspec": {
   "display_name": "Python 3",
   "language": "python",
   "name": "python3"
  },
  "language_info": {
   "codemirror_mode": {
    "name": "ipython",
    "version": 3
   },
   "file_extension": ".py",
   "mimetype": "text/x-python",
   "name": "python",
   "nbconvert_exporter": "python",
   "pygments_lexer": "ipython3",
   "version": "3.8.5"
  }
 },
 "nbformat": 4,
 "nbformat_minor": 4
}
