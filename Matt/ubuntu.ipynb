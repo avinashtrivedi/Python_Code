{
 "cells": [
  {
   "cell_type": "code",
   "execution_count": 1,
   "metadata": {},
   "outputs": [
    {
     "name": "stdout",
     "output_type": "stream",
     "text": [
      "FylB1.txt:- Finally the Fall 2021 final!\n",
      "FylB2.txt:- After the final, we go to the beach!\n"
     ]
    }
   ],
   "source": [
    "# import the library\n",
    "import os, shutil\n",
    "\n",
    "# delete the old 'Final' directory if exists\n",
    "# so as to create a fresh File\n",
    "shutil.rmtree('Final')\n",
    "\n",
    "# create a directory and all intermediate ones\n",
    "os.makedirs(\"Final/DirA\")\n",
    "\n",
    "# Create a directory\n",
    "os.mkdir(\"Final/DirB\")\n",
    "os.mkdir(\"Final/DirA/SubA1\")\n",
    "os.mkdir(\"Final/DirA/SubA2\")\n",
    "\n",
    "# create file FylA1.txt and write into it.\n",
    "file = open(\"Final/DirA/SubA1/FylA1.txt\", 'w')\n",
    "file.write('Finally the Fall 2021 final!') \n",
    "file.close()\n",
    "\n",
    "# create file FylA2.txt and write into it.\n",
    "file = open(\"Final/DirA/SubA1/FylA2.txt\", 'w')\n",
    "file.write('After the final, we go to the beach!') \n",
    "file.close()\n",
    "\n",
    "# copy contents of Final/DirA/ to Final/DirB/\n",
    "_ = shutil.copytree('Final/DirA/','Final/DirB/',dirs_exist_ok=True)\n",
    "\n",
    "# rename the directory\n",
    "os.rename(\"Final/DirB/SubA1\",\"Final/DirB/SubB1\")\n",
    "os.rename(\"Final/DirB/SubA2\",\"Final/DirB/SubB2\")\n",
    "\n",
    "# rename the file\n",
    "os.rename(\"Final/DirB/SubB1/FylA1.txt\",\"Final/DirB/SubB1/FylB1.txt\")\n",
    "os.rename(\"Final/DirB/SubB1/FylA2.txt\",\"Final/DirB/SubB1/FylB2.txt\")\n",
    "\n",
    "# open FylB1.txt and FylB2.txt in read mode\n",
    "fileB1 = open(\"Final/DirB/SubB1/FylB1.txt\", 'r')\n",
    "fileB2 = open(\"Final/DirB/SubB1/FylB2.txt\", 'r')\n",
    "\n",
    "# print its content\n",
    "print('FylB1.txt:-',fileB1.read())\n",
    "print('FylB2.txt:-',fileB2.read())\n",
    "\n",
    "# close the opened files.\n",
    "fileB1.close()\n",
    "fileB2.close()"
   ]
  },
  {
   "cell_type": "code",
   "execution_count": null,
   "metadata": {},
   "outputs": [],
   "source": []
  },
  {
   "cell_type": "code",
   "execution_count": null,
   "metadata": {},
   "outputs": [],
   "source": []
  },
  {
   "cell_type": "code",
   "execution_count": null,
   "metadata": {},
   "outputs": [],
   "source": []
  },
  {
   "cell_type": "code",
   "execution_count": null,
   "metadata": {},
   "outputs": [],
   "source": []
  }
 ],
 "metadata": {
  "kernelspec": {
   "display_name": "Python 3",
   "language": "python",
   "name": "python3"
  },
  "language_info": {
   "codemirror_mode": {
    "name": "ipython",
    "version": 3
   },
   "file_extension": ".py",
   "mimetype": "text/x-python",
   "name": "python",
   "nbconvert_exporter": "python",
   "pygments_lexer": "ipython3",
   "version": "3.8.5"
  }
 },
 "nbformat": 4,
 "nbformat_minor": 4
}
