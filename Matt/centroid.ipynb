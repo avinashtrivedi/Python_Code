{
 "cells": [
  {
   "cell_type": "code",
   "execution_count": 1,
   "metadata": {},
   "outputs": [],
   "source": [
    "def centroid(polygon):\n",
    "    if polygon[0] != polygon[-1]:\n",
    "        raise Exception('Polygon not closed')\n",
    "    num_point = len(polygon)\n",
    "    A = 0\n",
    "    xmean = 0\n",
    "    ymean = 0\n",
    "    for i in range(num_point-1):\n",
    "        p1 = polygon[i]\n",
    "        p2 = polygon[i+1]\n",
    "        ai = p1.x * p2.y - p2.x * p1.y\n",
    "        A += ai\n",
    "        xmean += (p2.x + p1.x) * ai\n",
    "        ymean += (p2.y + p1.y) * ai\n",
    "    A = A/2.0\n",
    "    C = Point(xmean/(6*A), ymean/(6*A))\n",
    "    return abs(A), C"
   ]
  },
  {
   "cell_type": "code",
   "execution_count": 2,
   "metadata": {},
   "outputs": [
    {
     "data": {
      "image/png": "[encoded data removed]",
      "text/plain": [
       "<Figure size 432x288 with 1 Axes>"
      ]
     },
     "metadata": {
      "needs_background": "light"
     },
     "output_type": "display_data"
    }
   ],
   "source": [
    "# import the library\n",
    "from geom.point import *\n",
    "import matplotlib.pyplot as plt\n",
    "\n",
    "# points\n",
    "points = [ [1,1], [2,1], [4,3], [8,3], [8,3.5], [4,3.5], [1,4.5], [1,1] ]\n",
    "\n",
    "# polygon point\n",
    "polygon = [ Point(p[0], p[1]) for p in points ]\n",
    "\n",
    "# compute the centroid\n",
    "d = centroid(polygon)[1]\n",
    "\n",
    "# create subplot\n",
    "_, ax = plt.subplots()\n",
    "\n",
    "# get x and y of polygon\n",
    "line1 = [ [p.x, p.y] for p in polygon ]\n",
    "\n",
    "# draw polygon\n",
    "l1 = plt.Polygon(line1, closed=True, fill=True, facecolor='grey', edgecolor='blue', alpha=0.5)\n",
    "\n",
    "# Add a Patch to the axes\n",
    "ax.add_patch(l1)\n",
    "\n",
    "# create a scatter plot of points\n",
    "ax.scatter([p.x for p in polygon], [p.y for p in polygon], color='grey', marker='o', alpha=0.8)\n",
    "\n",
    "# plot centroid in red color\n",
    "ax.plot(d.x, d.y, marker='o', color='red', alpha=.9)\n",
    "\n",
    "# Add text near centroid point\n",
    "ax.text(d.x+0.1, d.y-0.2, 'centroid')\n",
    "\n",
    "# Set the aspect of the axis scaling\n",
    "ax.set_aspect(1)\n",
    "\n",
    "# show the plot\n",
    "plt.show()"
   ]
  },
  {
   "cell_type": "code",
   "execution_count": null,
   "metadata": {},
   "outputs": [],
   "source": []
  }
 ],
 "metadata": {
  "kernelspec": {
   "display_name": "Python 3",
   "language": "python",
   "name": "python3"
  },
  "language_info": {
   "codemirror_mode": {
    "name": "ipython",
    "version": 3
   },
   "file_extension": ".py",
   "mimetype": "text/x-python",
   "name": "python",
   "nbconvert_exporter": "python",
   "pygments_lexer": "ipython3",
   "version": "3.8.5"
  }
 },
 "nbformat": 4,
 "nbformat_minor": 4
}
