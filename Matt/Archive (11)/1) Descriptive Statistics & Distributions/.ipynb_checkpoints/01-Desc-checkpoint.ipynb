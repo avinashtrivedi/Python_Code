{
 "cells": [
  {
   "cell_type": "markdown",
   "metadata": {
    "slideshow": {
     "slide_type": "slide"
    }
   },
   "source": [
    "\n",
    "\n",
    "- Python and Jupyter Notebook \n",
    "- Summary statistics of data sets\n",
    "\n",
    "<hr/>"
   ]
  },
  {
   "cell_type": "markdown",
   "metadata": {
    "slideshow": {
     "slide_type": "slide"
    }
   },
   "source": [
    "<h1><font color=\"darkblue\">Descriptive Statistics</font></h1>"
   ]
  },
  {
   "cell_type": "markdown",
   "metadata": {},
   "source": [
    "## Data Sets\n",
    "\n",
    "Q: What is a _data set_?\n",
    "\n",
    "Most generally: Collection of numbers (1D or higher dimensional) associated to \"something\" we want to understand and/or predict.\n",
    "\n",
    "For example, a set of $N$ scalar measurements \n",
    "\n",
    ">$ \\displaystyle \\big\\{x_i\\big\\}_{i=1}^N $.\n",
    "\n",
    "#### Example: Maximum temperature at a weather station in different years. \n",
    "\n",
    "http://unstats.un.org/unsd/snaama/selbasicFast.asp.\n",
    "\n",
    "http://www.metoffice.gov.uk/pub/data/weather/uk/climate/stationdata/oxforddata.txt\n",
    "\n",
    "Corresponds to maximum temperatures in Oxford, England in $N=150$ different years."
   ]
  },
  {
   "cell_type": "markdown",
   "metadata": {},
   "source": [
    "### How to characterize the data?\n",
    "\n",
    "Powerful idea: \n",
    "\n",
    "Consider data points $ \\displaystyle \\big\\{x_i\\big\\}_{i=1}^N $ to be **samples** from a **(probability) distribution** which is _unknown_ a priori.\n",
    "\n",
    "Therefore: How to obtain estimates of\n",
    "\n",
    "- Location,\n",
    "- Dispersion,\n",
    "- Shape\n",
    "\n",
    "of data set?\n",
    "\n",
    "- Histograms"
   ]
  },
  {
   "cell_type": "markdown",
   "metadata": {},
   "source": [
    "## Jupyter Notebooks\n",
    "- Interactive data analysis made easy\n",
    "- And here is how you do it\n",
    "\n",
    "### Some basic Python\n",
    "\n",
    "With the following line, we use a for-loop to create a _list_:"
   ]
  },
  {
   "cell_type": "code",
   "execution_count": 2,
   "metadata": {},
   "outputs": [
    {
     "data": {
      "text/plain": [
       "[0, 1, 4, 9, 16]"
      ]
     },
     "execution_count": 2,
     "metadata": {},
     "output_type": "execute_result"
    }
   ],
   "source": [
    "list1 = [i*i for i in range(5)]\n",
    "list1"
   ]
  },
  {
   "cell_type": "code",
   "execution_count": 3,
   "metadata": {},
   "outputs": [
    {
     "data": {
      "text/plain": [
       "5"
      ]
     },
     "execution_count": 3,
     "metadata": {},
     "output_type": "execute_result"
    }
   ],
   "source": [
    "len(list1)"
   ]
  },
  {
   "cell_type": "markdown",
   "metadata": {},
   "source": [
    "### [numpy](https://numpy.org/doc/stable/)\n",
    "\n",
    "One of most important Python packages for our purposes.\n",
    "\n",
    "Some features:\n",
    "  - Manipulation of multidimensional arrays (simple data representation)\n",
    "  - Common mathematical functions, such as linear algebra operations\n",
    "  - Pseudo-random number generation for sampling from distributions"
   ]
  },
  {
   "cell_type": "code",
   "execution_count": 1,
   "metadata": {},
   "outputs": [],
   "source": [
    "# Let's first import the numpy module.\n",
    "import numpy as np # it is a very common convention to import numpy as \"np\" (since shorter) "
   ]
  },
  {
   "cell_type": "markdown",
   "metadata": {},
   "source": [
    "We simulate a data set that behaves like a _standard normal distribution_:"
   ]
  },
  {
   "cell_type": "code",
   "execution_count": 2,
   "metadata": {},
   "outputs": [],
   "source": [
    "N = 1000;\n",
    "x = np.random.randn(N);"
   ]
  },
  {
   "cell_type": "code",
   "execution_count": 11,
   "metadata": {},
   "outputs": [
    {
     "name": "stdout",
     "output_type": "stream",
     "text": [
      "-2.121494056409464\n"
     ]
    }
   ],
   "source": [
    "print (x[0])"
   ]
  },
  {
   "cell_type": "code",
   "execution_count": 4,
   "metadata": {},
   "outputs": [
    {
     "name": "stdout",
     "output_type": "stream",
     "text": [
      "1.488395, 0.034678, ..., 0.202660 , -0.840031\n",
      "-0.840031 = -0.840031\n"
     ]
    }
   ],
   "source": [
    "# indexing from 0\n",
    "print (\"%f, %f, ..., %f , %f\" % (x[0], x[1], x[N-2], x[N-1]))\n",
    "\n",
    "# last element: Can be also accessed via index \"-1\":\n",
    "print (\"%f = %f\" % (x[N-1], x[-1]))"
   ]
  },
  {
   "cell_type": "code",
   "execution_count": 5,
   "metadata": {},
   "outputs": [
    {
     "name": "stdout",
     "output_type": "stream",
     "text": [
      "997 : \t -0.5792944565402689\n",
      "998 : \t 0.20265980712390347\n",
      "999 : \t -0.840030745230674\n"
     ]
    }
   ],
   "source": [
    "# another way of printing some of the data\n",
    "for i in (range(0,4) and range(N-3,N)):\n",
    "    print (\"%d : \\t %r\" % (i, x[i]))"
   ]
  },
  {
   "cell_type": "code",
   "execution_count": 6,
   "metadata": {},
   "outputs": [
    {
     "name": "stdout",
     "output_type": "stream",
     "text": [
      "997 : \t -0.5792944565402689\n",
      "998 : \t 0.20265980712390347\n",
      "999 : \t -0.840030745230674\n"
     ]
    },
    {
     "ename": "IndexError",
     "evalue": "index 1000 is out of bounds for axis 0 with size 1000",
     "output_type": "error",
     "traceback": [
      "\u001b[1;31m---------------------------------------------------------------------------\u001b[0m",
      "\u001b[1;31mIndexError\u001b[0m                                Traceback (most recent call last)",
      "\u001b[1;32m<ipython-input-6-d262a6d314ce>\u001b[0m in \u001b[0;36m<module>\u001b[1;34m\u001b[0m\n\u001b[0;32m      1\u001b[0m \u001b[1;31m# example of error due to index out of bounds\u001b[0m\u001b[1;33m\u001b[0m\u001b[1;33m\u001b[0m\u001b[1;33m\u001b[0m\u001b[0m\n\u001b[0;32m      2\u001b[0m \u001b[1;32mfor\u001b[0m \u001b[0mi\u001b[0m \u001b[1;32min\u001b[0m \u001b[0mrange\u001b[0m\u001b[1;33m(\u001b[0m\u001b[0mN\u001b[0m\u001b[1;33m-\u001b[0m\u001b[1;36m3\u001b[0m\u001b[1;33m,\u001b[0m\u001b[0mN\u001b[0m\u001b[1;33m+\u001b[0m\u001b[1;36m1\u001b[0m\u001b[1;33m)\u001b[0m\u001b[1;33m:\u001b[0m\u001b[1;33m\u001b[0m\u001b[1;33m\u001b[0m\u001b[0m\n\u001b[1;32m----> 3\u001b[1;33m     \u001b[0mprint\u001b[0m \u001b[1;33m(\u001b[0m\u001b[1;34m\"%d : \\t %r\"\u001b[0m \u001b[1;33m%\u001b[0m \u001b[1;33m(\u001b[0m\u001b[0mi\u001b[0m\u001b[1;33m,\u001b[0m \u001b[0mx\u001b[0m\u001b[1;33m[\u001b[0m\u001b[0mi\u001b[0m\u001b[1;33m]\u001b[0m\u001b[1;33m)\u001b[0m\u001b[1;33m)\u001b[0m\u001b[1;33m\u001b[0m\u001b[1;33m\u001b[0m\u001b[0m\n\u001b[0m",
      "\u001b[1;31mIndexError\u001b[0m: index 1000 is out of bounds for axis 0 with size 1000"
     ]
    }
   ],
   "source": [
    "# example of error due to index out of bounds\n",
    "for i in range(N-3,N+1):\n",
    "    print (\"%d : \\t %r\" % (i, x[i]))"
   ]
  },
  {
   "cell_type": "code",
   "execution_count": 7,
   "metadata": {},
   "outputs": [
    {
     "name": "stdout",
     "output_type": "stream",
     "text": [
      "997 : \t -0.5792944565402689\n",
      "998 : \t 0.20265980712390347\n",
      "999 : \t -0.840030745230674\n",
      "index 1000 is out of bounds for axis 0 with size 1000\n",
      "index 1001 is out of bounds for axis 0 with size 1000\n",
      "index 1002 is out of bounds for axis 0 with size 1000\n",
      "index 1003 is out of bounds for axis 0 with size 1000\n",
      "index 1004 is out of bounds for axis 0 with size 1000\n"
     ]
    }
   ],
   "source": [
    "# error handling with exceptions\n",
    "for i in range(N-3,N+5):\n",
    "    try: \n",
    "        print (\"%d : \\t %r\" % (i, x[i]))\n",
    "    except IndexError as err: \n",
    "        print (err)"
   ]
  },
  {
   "cell_type": "markdown",
   "metadata": {},
   "source": [
    "### [matplotlib](https://matplotlib.org)\n",
    "\n",
    "A very popular and powerful Python package for visualization and plotting.\n",
    "\n",
    "  - line charts\n",
    "  - scatter plots\n",
    "  - histograms\n",
    "\n",
    "Sometimes a lot of scrolling through documentation needed in order to obtain what you want."
   ]
  },
  {
   "cell_type": "code",
   "execution_count": 8,
   "metadata": {},
   "outputs": [],
   "source": [
    "import matplotlib.pyplot as plt # common convention to import matplotlib.pyplot as \"plt\""
   ]
  },
  {
   "cell_type": "markdown",
   "metadata": {},
   "source": [
    "The following useful _magic commands_ use IPython and are Jupyter-specfic (start with \"%\"), cf. https://ipython.readthedocs.io/en/stable/interactive/magics.html?highlight=magic:\n",
    "\n",
    "With \"inline\", plots created by matplotlib appear below cell in line."
   ]
  },
  {
   "cell_type": "code",
   "execution_count": 14,
   "metadata": {},
   "outputs": [
    {
     "data": {
      "image/png": "[encoded data removed]",
      "text/plain": [
       "<Figure size 432x288 with 1 Axes>"
      ]
     },
     "metadata": {
      "needs_background": "light"
     },
     "output_type": "display_data"
    }
   ],
   "source": [
    "%matplotlib inline\n",
    "plt.plot(x,'ro');"
   ]
  },
  {
   "cell_type": "markdown",
   "metadata": {},
   "source": [
    "With \"notebook\", plots created by matplotlib are interactive. Especially helpful for more complicated visualizations (e.g., 3D)."
   ]
  },
  {
   "cell_type": "code",
   "execution_count": 15,
   "metadata": {},
   "outputs": [
    {
     "data": {
      "application/javascript": [
       "/* Put everything inside the global mpl namespace */\n",
       "/* global mpl */\n",
       "window.mpl = {};\n",
       "\n",
       "mpl.get_websocket_type = function () {\n",
       "    if (typeof WebSocket !== 'undefined') {\n",
       "        return WebSocket;\n",
       "    } else if (typeof MozWebSocket !== 'undefined') {\n",
       "        return MozWebSocket;\n",
       "    } else {\n",
       "        alert(\n",
       "            'Your browser does not have WebSocket support. ' +\n",
       "                'Please try Chrome, Safari or Firefox ≥ 6. ' +\n",
       "                'Firefox 4 and 5 are also supported but you ' +\n",
       "                'have to enable WebSockets in about:config.'\n",
       "        );\n",
       "    }\n",
       "};\n",
       "\n",
       "mpl.figure = function (figure_id, websocket, ondownload, parent_element) {\n",
       "    this.id = figure_id;\n",
       "\n",
       "    this.ws = websocket;\n",
       "\n",
       "    this.supports_binary = this.ws.binaryType !== undefined;\n",
       "\n",
       "    if (!this.supports_binary) {\n",
       "        var warnings = document.getElementById('mpl-warnings');\n",
       "        if (warnings) {\n",
       "            warnings.style.display = 'block';\n",
       "            warnings.textContent =\n",
       "                'This browser does not support binary websocket messages. ' +\n",
       "                'Performance may be slow.';\n",
       "        }\n",
       "    }\n",
       "\n",
       "    this.imageObj = new Image();\n",
       "\n",
       "    this.context = undefined;\n",
       "    this.message = undefined;\n",
       "    this.canvas = undefined;\n",
       "    this.rubberband_canvas = undefined;\n",
       "    this.rubberband_context = undefined;\n",
       "    this.format_dropdown = undefined;\n",
       "\n",
       "    this.image_mode = 'full';\n",
       "\n",
       "    this.root = document.createElement('div');\n",
       "    this.root.setAttribute('style', 'display: inline-block');\n",
       "    this._root_extra_style(this.root);\n",
       "\n",
       "    parent_element.appendChild(this.root);\n",
       "\n",
       "    this._init_header(this);\n",
       "    this._init_canvas(this);\n",
       "    this._init_toolbar(this);\n",
       "\n",
       "    var fig = this;\n",
       "\n",
       "    this.waiting = false;\n",
       "\n",
       "    this.ws.onopen = function () {\n",
       "        fig.send_message('supports_binary', { value: fig.supports_binary });\n",
       "        fig.send_message('send_image_mode', {});\n",
       "        if (fig.ratio !== 1) {\n",
       "            fig.send_message('set_dpi_ratio', { dpi_ratio: fig.ratio });\n",
       "        }\n",
       "        fig.send_message('refresh', {});\n",
       "    };\n",
       "\n",
       "    this.imageObj.onload = function () {\n",
       "        if (fig.image_mode === 'full') {\n",
       "            // Full images could contain transparency (where diff images\n",
       "            // almost always do), so we need to clear the canvas so that\n",
       "            // there is no ghosting.\n",
       "            fig.context.clearRect(0, 0, fig.canvas.width, fig.canvas.height);\n",
       "        }\n",
       "        fig.context.drawImage(fig.imageObj, 0, 0);\n",
       "    };\n",
       "\n",
       "    this.imageObj.onunload = function () {\n",
       "        fig.ws.close();\n",
       "    };\n",
       "\n",
       "    this.ws.onmessage = this._make_on_message_function(this);\n",
       "\n",
       "    this.ondownload = ondownload;\n",
       "};\n",
       "\n",
       "mpl.figure.prototype._init_header = function () {\n",
       "    var titlebar = document.createElement('div');\n",
       "    titlebar.classList =\n",
       "        'ui-dialog-titlebar ui-widget-header ui-corner-all ui-helper-clearfix';\n",
       "    var titletext = document.createElement('div');\n",
       "    titletext.classList = 'ui-dialog-title';\n",
       "    titletext.setAttribute(\n",
       "        'style',\n",
       "        'width: 100%; text-align: center; padding: 3px;'\n",
       "    );\n",
       "    titlebar.appendChild(titletext);\n",
       "    this.root.appendChild(titlebar);\n",
       "    this.header = titletext;\n",
       "};\n",
       "\n",
       "mpl.figure.prototype._canvas_extra_style = function (_canvas_div) {};\n",
       "\n",
       "mpl.figure.prototype._root_extra_style = function (_canvas_div) {};\n",
       "\n",
       "mpl.figure.prototype._init_canvas = function () {\n",
       "    var fig = this;\n",
       "\n",
       "    var canvas_div = (this.canvas_div = document.createElement('div'));\n",
       "    canvas_div.setAttribute(\n",
       "        'style',\n",
       "        'border: 1px solid #ddd;' +\n",
       "            'box-sizing: content-box;' +\n",
       "            'clear: both;' +\n",
       "            'min-height: 1px;' +\n",
       "            'min-width: 1px;' +\n",
       "            'outline: 0;' +\n",
       "            'overflow: hidden;' +\n",
       "            'position: relative;' +\n",
       "            'resize: both;'\n",
       "    );\n",
       "\n",
       "    function on_keyboard_event_closure(name) {\n",
       "        return function (event) {\n",
       "            return fig.key_event(event, name);\n",
       "        };\n",
       "    }\n",
       "\n",
       "    canvas_div.addEventListener(\n",
       "        'keydown',\n",
       "        on_keyboard_event_closure('key_press')\n",
       "    );\n",
       "    canvas_div.addEventListener(\n",
       "        'keyup',\n",
       "        on_keyboard_event_closure('key_release')\n",
       "    );\n",
       "\n",
       "    this._canvas_extra_style(canvas_div);\n",
       "    this.root.appendChild(canvas_div);\n",
       "\n",
       "    var canvas = (this.canvas = document.createElement('canvas'));\n",
       "    canvas.classList.add('mpl-canvas');\n",
       "    canvas.setAttribute('style', 'box-sizing: content-box;');\n",
       "\n",
       "    this.context = canvas.getContext('2d');\n",
       "\n",
       "    var backingStore =\n",
       "        this.context.backingStorePixelRatio ||\n",
       "        this.context.webkitBackingStorePixelRatio ||\n",
       "        this.context.mozBackingStorePixelRatio ||\n",
       "        this.context.msBackingStorePixelRatio ||\n",
       "        this.context.oBackingStorePixelRatio ||\n",
       "        this.context.backingStorePixelRatio ||\n",
       "        1;\n",
       "\n",
       "    this.ratio = (window.devicePixelRatio || 1) / backingStore;\n",
       "    if (this.ratio !== 1) {\n",
       "        fig.send_message('set_dpi_ratio', { dpi_ratio: this.ratio });\n",
       "    }\n",
       "\n",
       "    var rubberband_canvas = (this.rubberband_canvas = document.createElement(\n",
       "        'canvas'\n",
       "    ));\n",
       "    rubberband_canvas.setAttribute(\n",
       "        'style',\n",
       "        'box-sizing: content-box; position: absolute; left: 0; top: 0; z-index: 1;'\n",
       "    );\n",
       "\n",
       "    var resizeObserver = new ResizeObserver(function (entries) {\n",
       "        var nentries = entries.length;\n",
       "        for (var i = 0; i < nentries; i++) {\n",
       "            var entry = entries[i];\n",
       "            var width, height;\n",
       "            if (entry.contentBoxSize) {\n",
       "                if (entry.contentBoxSize instanceof Array) {\n",
       "                    // Chrome 84 implements new version of spec.\n",
       "                    width = entry.contentBoxSize[0].inlineSize;\n",
       "                    height = entry.contentBoxSize[0].blockSize;\n",
       "                } else {\n",
       "                    // Firefox implements old version of spec.\n",
       "                    width = entry.contentBoxSize.inlineSize;\n",
       "                    height = entry.contentBoxSize.blockSize;\n",
       "                }\n",
       "            } else {\n",
       "                // Chrome <84 implements even older version of spec.\n",
       "                width = entry.contentRect.width;\n",
       "                height = entry.contentRect.height;\n",
       "            }\n",
       "\n",
       "            // Keep the size of the canvas and rubber band canvas in sync with\n",
       "            // the canvas container.\n",
       "            if (entry.devicePixelContentBoxSize) {\n",
       "                // Chrome 84 implements new version of spec.\n",
       "                canvas.setAttribute(\n",
       "                    'width',\n",
       "                    entry.devicePixelContentBoxSize[0].inlineSize\n",
       "                );\n",
       "                canvas.setAttribute(\n",
       "                    'height',\n",
       "                    entry.devicePixelContentBoxSize[0].blockSize\n",
       "                );\n",
       "            } else {\n",
       "                canvas.setAttribute('width', width * fig.ratio);\n",
       "                canvas.setAttribute('height', height * fig.ratio);\n",
       "            }\n",
       "            canvas.setAttribute(\n",
       "                'style',\n",
       "                'width: ' + width + 'px; height: ' + height + 'px;'\n",
       "            );\n",
       "\n",
       "            rubberband_canvas.setAttribute('width', width);\n",
       "            rubberband_canvas.setAttribute('height', height);\n",
       "\n",
       "            // And update the size in Python. We ignore the initial 0/0 size\n",
       "            // that occurs as the element is placed into the DOM, which should\n",
       "            // otherwise not happen due to the minimum size styling.\n",
       "            if (width != 0 && height != 0) {\n",
       "                fig.request_resize(width, height);\n",
       "            }\n",
       "        }\n",
       "    });\n",
       "    resizeObserver.observe(canvas_div);\n",
       "\n",
       "    function on_mouse_event_closure(name) {\n",
       "        return function (event) {\n",
       "            return fig.mouse_event(event, name);\n",
       "        };\n",
       "    }\n",
       "\n",
       "    rubberband_canvas.addEventListener(\n",
       "        'mousedown',\n",
       "        on_mouse_event_closure('button_press')\n",
       "    );\n",
       "    rubberband_canvas.addEventListener(\n",
       "        'mouseup',\n",
       "        on_mouse_event_closure('button_release')\n",
       "    );\n",
       "    // Throttle sequential mouse events to 1 every 20ms.\n",
       "    rubberband_canvas.addEventListener(\n",
       "        'mousemove',\n",
       "        on_mouse_event_closure('motion_notify')\n",
       "    );\n",
       "\n",
       "    rubberband_canvas.addEventListener(\n",
       "        'mouseenter',\n",
       "        on_mouse_event_closure('figure_enter')\n",
       "    );\n",
       "    rubberband_canvas.addEventListener(\n",
       "        'mouseleave',\n",
       "        on_mouse_event_closure('figure_leave')\n",
       "    );\n",
       "\n",
       "    canvas_div.addEventListener('wheel', function (event) {\n",
       "        if (event.deltaY < 0) {\n",
       "            event.step = 1;\n",
       "        } else {\n",
       "            event.step = -1;\n",
       "        }\n",
       "        on_mouse_event_closure('scroll')(event);\n",
       "    });\n",
       "\n",
       "    canvas_div.appendChild(canvas);\n",
       "    canvas_div.appendChild(rubberband_canvas);\n",
       "\n",
       "    this.rubberband_context = rubberband_canvas.getContext('2d');\n",
       "    this.rubberband_context.strokeStyle = '#000000';\n",
       "\n",
       "    this._resize_canvas = function (width, height, forward) {\n",
       "        if (forward) {\n",
       "            canvas_div.style.width = width + 'px';\n",
       "            canvas_div.style.height = height + 'px';\n",
       "        }\n",
       "    };\n",
       "\n",
       "    // Disable right mouse context menu.\n",
       "    this.rubberband_canvas.addEventListener('contextmenu', function (_e) {\n",
       "        event.preventDefault();\n",
       "        return false;\n",
       "    });\n",
       "\n",
       "    function set_focus() {\n",
       "        canvas.focus();\n",
       "        canvas_div.focus();\n",
       "    }\n",
       "\n",
       "    window.setTimeout(set_focus, 100);\n",
       "};\n",
       "\n",
       "mpl.figure.prototype._init_toolbar = function () {\n",
       "    var fig = this;\n",
       "\n",
       "    var toolbar = document.createElement('div');\n",
       "    toolbar.classList = 'mpl-toolbar';\n",
       "    this.root.appendChild(toolbar);\n",
       "\n",
       "    function on_click_closure(name) {\n",
       "        return function (_event) {\n",
       "            return fig.toolbar_button_onclick(name);\n",
       "        };\n",
       "    }\n",
       "\n",
       "    function on_mouseover_closure(tooltip) {\n",
       "        return function (event) {\n",
       "            if (!event.currentTarget.disabled) {\n",
       "                return fig.toolbar_button_onmouseover(tooltip);\n",
       "            }\n",
       "        };\n",
       "    }\n",
       "\n",
       "    fig.buttons = {};\n",
       "    var buttonGroup = document.createElement('div');\n",
       "    buttonGroup.classList = 'mpl-button-group';\n",
       "    for (var toolbar_ind in mpl.toolbar_items) {\n",
       "        var name = mpl.toolbar_items[toolbar_ind][0];\n",
       "        var tooltip = mpl.toolbar_items[toolbar_ind][1];\n",
       "        var image = mpl.toolbar_items[toolbar_ind][2];\n",
       "        var method_name = mpl.toolbar_items[toolbar_ind][3];\n",
       "\n",
       "        if (!name) {\n",
       "            /* Instead of a spacer, we start a new button group. */\n",
       "            if (buttonGroup.hasChildNodes()) {\n",
       "                toolbar.appendChild(buttonGroup);\n",
       "            }\n",
       "            buttonGroup = document.createElement('div');\n",
       "            buttonGroup.classList = 'mpl-button-group';\n",
       "            continue;\n",
       "        }\n",
       "\n",
       "        var button = (fig.buttons[name] = document.createElement('button'));\n",
       "        button.classList = 'mpl-widget';\n",
       "        button.setAttribute('role', 'button');\n",
       "        button.setAttribute('aria-disabled', 'false');\n",
       "        button.addEventListener('click', on_click_closure(method_name));\n",
       "        button.addEventListener('mouseover', on_mouseover_closure(tooltip));\n",
       "\n",
       "        var icon_img = document.createElement('img');\n",
       "        icon_img.src = '_images/' + image + '.png';\n",
       "        icon_img.srcset = '_images/' + image + '_large.png 2x';\n",
       "        icon_img.alt = tooltip;\n",
       "        button.appendChild(icon_img);\n",
       "\n",
       "        buttonGroup.appendChild(button);\n",
       "    }\n",
       "\n",
       "    if (buttonGroup.hasChildNodes()) {\n",
       "        toolbar.appendChild(buttonGroup);\n",
       "    }\n",
       "\n",
       "    var fmt_picker = document.createElement('select');\n",
       "    fmt_picker.classList = 'mpl-widget';\n",
       "    toolbar.appendChild(fmt_picker);\n",
       "    this.format_dropdown = fmt_picker;\n",
       "\n",
       "    for (var ind in mpl.extensions) {\n",
       "        var fmt = mpl.extensions[ind];\n",
       "        var option = document.createElement('option');\n",
       "        option.selected = fmt === mpl.default_extension;\n",
       "        option.innerHTML = fmt;\n",
       "        fmt_picker.appendChild(option);\n",
       "    }\n",
       "\n",
       "    var status_bar = document.createElement('span');\n",
       "    status_bar.classList = 'mpl-message';\n",
       "    toolbar.appendChild(status_bar);\n",
       "    this.message = status_bar;\n",
       "};\n",
       "\n",
       "mpl.figure.prototype.request_resize = function (x_pixels, y_pixels) {\n",
       "    // Request matplotlib to resize the figure. Matplotlib will then trigger a resize in the client,\n",
       "    // which will in turn request a refresh of the image.\n",
       "    this.send_message('resize', { width: x_pixels, height: y_pixels });\n",
       "};\n",
       "\n",
       "mpl.figure.prototype.send_message = function (type, properties) {\n",
       "    properties['type'] = type;\n",
       "    properties['figure_id'] = this.id;\n",
       "    this.ws.send(JSON.stringify(properties));\n",
       "};\n",
       "\n",
       "mpl.figure.prototype.send_draw_message = function () {\n",
       "    if (!this.waiting) {\n",
       "        this.waiting = true;\n",
       "        this.ws.send(JSON.stringify({ type: 'draw', figure_id: this.id }));\n",
       "    }\n",
       "};\n",
       "\n",
       "mpl.figure.prototype.handle_save = function (fig, _msg) {\n",
       "    var format_dropdown = fig.format_dropdown;\n",
       "    var format = format_dropdown.options[format_dropdown.selectedIndex].value;\n",
       "    fig.ondownload(fig, format);\n",
       "};\n",
       "\n",
       "mpl.figure.prototype.handle_resize = function (fig, msg) {\n",
       "    var size = msg['size'];\n",
       "    if (size[0] !== fig.canvas.width || size[1] !== fig.canvas.height) {\n",
       "        fig._resize_canvas(size[0], size[1], msg['forward']);\n",
       "        fig.send_message('refresh', {});\n",
       "    }\n",
       "};\n",
       "\n",
       "mpl.figure.prototype.handle_rubberband = function (fig, msg) {\n",
       "    var x0 = msg['x0'] / fig.ratio;\n",
       "    var y0 = (fig.canvas.height - msg['y0']) / fig.ratio;\n",
       "    var x1 = msg['x1'] / fig.ratio;\n",
       "    var y1 = (fig.canvas.height - msg['y1']) / fig.ratio;\n",
       "    x0 = Math.floor(x0) + 0.5;\n",
       "    y0 = Math.floor(y0) + 0.5;\n",
       "    x1 = Math.floor(x1) + 0.5;\n",
       "    y1 = Math.floor(y1) + 0.5;\n",
       "    var min_x = Math.min(x0, x1);\n",
       "    var min_y = Math.min(y0, y1);\n",
       "    var width = Math.abs(x1 - x0);\n",
       "    var height = Math.abs(y1 - y0);\n",
       "\n",
       "    fig.rubberband_context.clearRect(\n",
       "        0,\n",
       "        0,\n",
       "        fig.canvas.width / fig.ratio,\n",
       "        fig.canvas.height / fig.ratio\n",
       "    );\n",
       "\n",
       "    fig.rubberband_context.strokeRect(min_x, min_y, width, height);\n",
       "};\n",
       "\n",
       "mpl.figure.prototype.handle_figure_label = function (fig, msg) {\n",
       "    // Updates the figure title.\n",
       "    fig.header.textContent = msg['label'];\n",
       "};\n",
       "\n",
       "mpl.figure.prototype.handle_cursor = function (fig, msg) {\n",
       "    var cursor = msg['cursor'];\n",
       "    switch (cursor) {\n",
       "        case 0:\n",
       "            cursor = 'pointer';\n",
       "            break;\n",
       "        case 1:\n",
       "            cursor = 'default';\n",
       "            break;\n",
       "        case 2:\n",
       "            cursor = 'crosshair';\n",
       "            break;\n",
       "        case 3:\n",
       "            cursor = 'move';\n",
       "            break;\n",
       "    }\n",
       "    fig.rubberband_canvas.style.cursor = cursor;\n",
       "};\n",
       "\n",
       "mpl.figure.prototype.handle_message = function (fig, msg) {\n",
       "    fig.message.textContent = msg['message'];\n",
       "};\n",
       "\n",
       "mpl.figure.prototype.handle_draw = function (fig, _msg) {\n",
       "    // Request the server to send over a new figure.\n",
       "    fig.send_draw_message();\n",
       "};\n",
       "\n",
       "mpl.figure.prototype.handle_image_mode = function (fig, msg) {\n",
       "    fig.image_mode = msg['mode'];\n",
       "};\n",
       "\n",
       "mpl.figure.prototype.handle_history_buttons = function (fig, msg) {\n",
       "    for (var key in msg) {\n",
       "        if (!(key in fig.buttons)) {\n",
       "            continue;\n",
       "        }\n",
       "        fig.buttons[key].disabled = !msg[key];\n",
       "        fig.buttons[key].setAttribute('aria-disabled', !msg[key]);\n",
       "    }\n",
       "};\n",
       "\n",
       "mpl.figure.prototype.handle_navigate_mode = function (fig, msg) {\n",
       "    if (msg['mode'] === 'PAN') {\n",
       "        fig.buttons['Pan'].classList.add('active');\n",
       "        fig.buttons['Zoom'].classList.remove('active');\n",
       "    } else if (msg['mode'] === 'ZOOM') {\n",
       "        fig.buttons['Pan'].classList.remove('active');\n",
       "        fig.buttons['Zoom'].classList.add('active');\n",
       "    } else {\n",
       "        fig.buttons['Pan'].classList.remove('active');\n",
       "        fig.buttons['Zoom'].classList.remove('active');\n",
       "    }\n",
       "};\n",
       "\n",
       "mpl.figure.prototype.updated_canvas_event = function () {\n",
       "    // Called whenever the canvas gets updated.\n",
       "    this.send_message('ack', {});\n",
       "};\n",
       "\n",
       "// A function to construct a web socket function for onmessage handling.\n",
       "// Called in the figure constructor.\n",
       "mpl.figure.prototype._make_on_message_function = function (fig) {\n",
       "    return function socket_on_message(evt) {\n",
       "        if (evt.data instanceof Blob) {\n",
       "            /* FIXME: We get \"Resource interpreted as Image but\n",
       "             * transferred with MIME type text/plain:\" errors on\n",
       "             * Chrome.  But how to set the MIME type?  It doesn't seem\n",
       "             * to be part of the websocket stream */\n",
       "            evt.data.type = 'image/png';\n",
       "\n",
       "            /* Free the memory for the previous frames */\n",
       "            if (fig.imageObj.src) {\n",
       "                (window.URL || window.webkitURL).revokeObjectURL(\n",
       "                    fig.imageObj.src\n",
       "                );\n",
       "            }\n",
       "\n",
       "            fig.imageObj.src = (window.URL || window.webkitURL).createObjectURL(\n",
       "                evt.data\n",
       "            );\n",
       "            fig.updated_canvas_event();\n",
       "            fig.waiting = false;\n",
       "            return;\n",
       "        } else if (\n",
       "            typeof evt.data === 'string' &&\n",
       "            evt.data.slice(0, 21) === 'data:image/png;base64'\n",
       "        ) {\n",
       "            fig.imageObj.src = evt.data;\n",
       "            fig.updated_canvas_event();\n",
       "            fig.waiting = false;\n",
       "            return;\n",
       "        }\n",
       "\n",
       "        var msg = JSON.parse(evt.data);\n",
       "        var msg_type = msg['type'];\n",
       "\n",
       "        // Call the  \"handle_{type}\" callback, which takes\n",
       "        // the figure and JSON message as its only arguments.\n",
       "        try {\n",
       "            var callback = fig['handle_' + msg_type];\n",
       "        } catch (e) {\n",
       "            console.log(\n",
       "                \"No handler for the '\" + msg_type + \"' message type: \",\n",
       "                msg\n",
       "            );\n",
       "            return;\n",
       "        }\n",
       "\n",
       "        if (callback) {\n",
       "            try {\n",
       "                // console.log(\"Handling '\" + msg_type + \"' message: \", msg);\n",
       "                callback(fig, msg);\n",
       "            } catch (e) {\n",
       "                console.log(\n",
       "                    \"Exception inside the 'handler_\" + msg_type + \"' callback:\",\n",
       "                    e,\n",
       "                    e.stack,\n",
       "                    msg\n",
       "                );\n",
       "            }\n",
       "        }\n",
       "    };\n",
       "};\n",
       "\n",
       "// from http://stackoverflow.com/questions/1114465/getting-mouse-location-in-canvas\n",
       "mpl.findpos = function (e) {\n",
       "    //this section is from http://www.quirksmode.org/js/events_properties.html\n",
       "    var targ;\n",
       "    if (!e) {\n",
       "        e = window.event;\n",
       "    }\n",
       "    if (e.target) {\n",
       "        targ = e.target;\n",
       "    } else if (e.srcElement) {\n",
       "        targ = e.srcElement;\n",
       "    }\n",
       "    if (targ.nodeType === 3) {\n",
       "        // defeat Safari bug\n",
       "        targ = targ.parentNode;\n",
       "    }\n",
       "\n",
       "    // pageX,Y are the mouse positions relative to the document\n",
       "    var boundingRect = targ.getBoundingClientRect();\n",
       "    var x = e.pageX - (boundingRect.left + document.body.scrollLeft);\n",
       "    var y = e.pageY - (boundingRect.top + document.body.scrollTop);\n",
       "\n",
       "    return { x: x, y: y };\n",
       "};\n",
       "\n",
       "/*\n",
       " * return a copy of an object with only non-object keys\n",
       " * we need this to avoid circular references\n",
       " * http://stackoverflow.com/a/24161582/3208463\n",
       " */\n",
       "function simpleKeys(original) {\n",
       "    return Object.keys(original).reduce(function (obj, key) {\n",
       "        if (typeof original[key] !== 'object') {\n",
       "            obj[key] = original[key];\n",
       "        }\n",
       "        return obj;\n",
       "    }, {});\n",
       "}\n",
       "\n",
       "mpl.figure.prototype.mouse_event = function (event, name) {\n",
       "    var canvas_pos = mpl.findpos(event);\n",
       "\n",
       "    if (name === 'button_press') {\n",
       "        this.canvas.focus();\n",
       "        this.canvas_div.focus();\n",
       "    }\n",
       "\n",
       "    var x = canvas_pos.x * this.ratio;\n",
       "    var y = canvas_pos.y * this.ratio;\n",
       "\n",
       "    this.send_message(name, {\n",
       "        x: x,\n",
       "        y: y,\n",
       "        button: event.button,\n",
       "        step: event.step,\n",
       "        guiEvent: simpleKeys(event),\n",
       "    });\n",
       "\n",
       "    /* This prevents the web browser from automatically changing to\n",
       "     * the text insertion cursor when the button is pressed.  We want\n",
       "     * to control all of the cursor setting manually through the\n",
       "     * 'cursor' event from matplotlib */\n",
       "    event.preventDefault();\n",
       "    return false;\n",
       "};\n",
       "\n",
       "mpl.figure.prototype._key_event_extra = function (_event, _name) {\n",
       "    // Handle any extra behaviour associated with a key event\n",
       "};\n",
       "\n",
       "mpl.figure.prototype.key_event = function (event, name) {\n",
       "    // Prevent repeat events\n",
       "    if (name === 'key_press') {\n",
       "        if (event.which === this._key) {\n",
       "            return;\n",
       "        } else {\n",
       "            this._key = event.which;\n",
       "        }\n",
       "    }\n",
       "    if (name === 'key_release') {\n",
       "        this._key = null;\n",
       "    }\n",
       "\n",
       "    var value = '';\n",
       "    if (event.ctrlKey && event.which !== 17) {\n",
       "        value += 'ctrl+';\n",
       "    }\n",
       "    if (event.altKey && event.which !== 18) {\n",
       "        value += 'alt+';\n",
       "    }\n",
       "    if (event.shiftKey && event.which !== 16) {\n",
       "        value += 'shift+';\n",
       "    }\n",
       "\n",
       "    value += 'k';\n",
       "    value += event.which.toString();\n",
       "\n",
       "    this._key_event_extra(event, name);\n",
       "\n",
       "    this.send_message(name, { key: value, guiEvent: simpleKeys(event) });\n",
       "    return false;\n",
       "};\n",
       "\n",
       "mpl.figure.prototype.toolbar_button_onclick = function (name) {\n",
       "    if (name === 'download') {\n",
       "        this.handle_save(this, null);\n",
       "    } else {\n",
       "        this.send_message('toolbar_button', { name: name });\n",
       "    }\n",
       "};\n",
       "\n",
       "mpl.figure.prototype.toolbar_button_onmouseover = function (tooltip) {\n",
       "    this.message.textContent = tooltip;\n",
       "};\n",
       "mpl.toolbar_items = [[\"Home\", \"Reset original view\", \"fa fa-home icon-home\", \"home\"], [\"Back\", \"Back to previous view\", \"fa fa-arrow-left icon-arrow-left\", \"back\"], [\"Forward\", \"Forward to next view\", \"fa fa-arrow-right icon-arrow-right\", \"forward\"], [\"\", \"\", \"\", \"\"], [\"Pan\", \"Left button pans, Right button zooms\\nx/y fixes axis, CTRL fixes aspect\", \"fa fa-arrows icon-move\", \"pan\"], [\"Zoom\", \"Zoom to rectangle\\nx/y fixes axis, CTRL fixes aspect\", \"fa fa-square-o icon-check-empty\", \"zoom\"], [\"\", \"\", \"\", \"\"], [\"Download\", \"Download plot\", \"fa fa-floppy-o icon-save\", \"download\"]];\n",
       "\n",
       "mpl.extensions = [\"eps\", \"jpeg\", \"pdf\", \"png\", \"ps\", \"raw\", \"svg\", \"tif\"];\n",
       "\n",
       "mpl.default_extension = \"png\";/* global mpl */\n",
       "\n",
       "var comm_websocket_adapter = function (comm) {\n",
       "    // Create a \"websocket\"-like object which calls the given IPython comm\n",
       "    // object with the appropriate methods. Currently this is a non binary\n",
       "    // socket, so there is still some room for performance tuning.\n",
       "    var ws = {};\n",
       "\n",
       "    ws.close = function () {\n",
       "        comm.close();\n",
       "    };\n",
       "    ws.send = function (m) {\n",
       "        //console.log('sending', m);\n",
       "        comm.send(m);\n",
       "    };\n",
       "    // Register the callback with on_msg.\n",
       "    comm.on_msg(function (msg) {\n",
       "        //console.log('receiving', msg['content']['data'], msg);\n",
       "        // Pass the mpl event to the overridden (by mpl) onmessage function.\n",
       "        ws.onmessage(msg['content']['data']);\n",
       "    });\n",
       "    return ws;\n",
       "};\n",
       "\n",
       "mpl.mpl_figure_comm = function (comm, msg) {\n",
       "    // This is the function which gets called when the mpl process\n",
       "    // starts-up an IPython Comm through the \"matplotlib\" channel.\n",
       "\n",
       "    var id = msg.content.data.id;\n",
       "    // Get hold of the div created by the display call when the Comm\n",
       "    // socket was opened in Python.\n",
       "    var element = document.getElementById(id);\n",
       "    var ws_proxy = comm_websocket_adapter(comm);\n",
       "\n",
       "    function ondownload(figure, _format) {\n",
       "        window.open(figure.canvas.toDataURL());\n",
       "    }\n",
       "\n",
       "    var fig = new mpl.figure(id, ws_proxy, ondownload, element);\n",
       "\n",
       "    // Call onopen now - mpl needs it, as it is assuming we've passed it a real\n",
       "    // web socket which is closed, not our websocket->open comm proxy.\n",
       "    ws_proxy.onopen();\n",
       "\n",
       "    fig.parent_element = element;\n",
       "    fig.cell_info = mpl.find_output_cell(\"<div id='\" + id + \"'></div>\");\n",
       "    if (!fig.cell_info) {\n",
       "        console.error('Failed to find cell for figure', id, fig);\n",
       "        return;\n",
       "    }\n",
       "    fig.cell_info[0].output_area.element.one(\n",
       "        'cleared',\n",
       "        { fig: fig },\n",
       "        fig._remove_fig_handler\n",
       "    );\n",
       "};\n",
       "\n",
       "mpl.figure.prototype.handle_close = function (fig, msg) {\n",
       "    var width = fig.canvas.width / fig.ratio;\n",
       "    fig.cell_info[0].output_area.element.off(\n",
       "        'cleared',\n",
       "        fig._remove_fig_handler\n",
       "    );\n",
       "\n",
       "    // Update the output cell to use the data from the current canvas.\n",
       "    fig.push_to_output();\n",
       "    var dataURL = fig.canvas.toDataURL();\n",
       "    // Re-enable the keyboard manager in IPython - without this line, in FF,\n",
       "    // the notebook keyboard shortcuts fail.\n",
       "    IPython.keyboard_manager.enable();\n",
       "    fig.parent_element.innerHTML =\n",
       "        '<img src=\"' + dataURL + '\" width=\"' + width + '\">';\n",
       "    fig.close_ws(fig, msg);\n",
       "};\n",
       "\n",
       "mpl.figure.prototype.close_ws = function (fig, msg) {\n",
       "    fig.send_message('closing', msg);\n",
       "    // fig.ws.close()\n",
       "};\n",
       "\n",
       "mpl.figure.prototype.push_to_output = function (_remove_interactive) {\n",
       "    // Turn the data on the canvas into data in the output cell.\n",
       "    var width = this.canvas.width / this.ratio;\n",
       "    var dataURL = this.canvas.toDataURL();\n",
       "    this.cell_info[1]['text/html'] =\n",
       "        '<img src=\"' + dataURL + '\" width=\"' + width + '\">';\n",
       "};\n",
       "\n",
       "mpl.figure.prototype.updated_canvas_event = function () {\n",
       "    // Tell IPython that the notebook contents must change.\n",
       "    IPython.notebook.set_dirty(true);\n",
       "    this.send_message('ack', {});\n",
       "    var fig = this;\n",
       "    // Wait a second, then push the new image to the DOM so\n",
       "    // that it is saved nicely (might be nice to debounce this).\n",
       "    setTimeout(function () {\n",
       "        fig.push_to_output();\n",
       "    }, 1000);\n",
       "};\n",
       "\n",
       "mpl.figure.prototype._init_toolbar = function () {\n",
       "    var fig = this;\n",
       "\n",
       "    var toolbar = document.createElement('div');\n",
       "    toolbar.classList = 'btn-toolbar';\n",
       "    this.root.appendChild(toolbar);\n",
       "\n",
       "    function on_click_closure(name) {\n",
       "        return function (_event) {\n",
       "            return fig.toolbar_button_onclick(name);\n",
       "        };\n",
       "    }\n",
       "\n",
       "    function on_mouseover_closure(tooltip) {\n",
       "        return function (event) {\n",
       "            if (!event.currentTarget.disabled) {\n",
       "                return fig.toolbar_button_onmouseover(tooltip);\n",
       "            }\n",
       "        };\n",
       "    }\n",
       "\n",
       "    fig.buttons = {};\n",
       "    var buttonGroup = document.createElement('div');\n",
       "    buttonGroup.classList = 'btn-group';\n",
       "    var button;\n",
       "    for (var toolbar_ind in mpl.toolbar_items) {\n",
       "        var name = mpl.toolbar_items[toolbar_ind][0];\n",
       "        var tooltip = mpl.toolbar_items[toolbar_ind][1];\n",
       "        var image = mpl.toolbar_items[toolbar_ind][2];\n",
       "        var method_name = mpl.toolbar_items[toolbar_ind][3];\n",
       "\n",
       "        if (!name) {\n",
       "            /* Instead of a spacer, we start a new button group. */\n",
       "            if (buttonGroup.hasChildNodes()) {\n",
       "                toolbar.appendChild(buttonGroup);\n",
       "            }\n",
       "            buttonGroup = document.createElement('div');\n",
       "            buttonGroup.classList = 'btn-group';\n",
       "            continue;\n",
       "        }\n",
       "\n",
       "        button = fig.buttons[name] = document.createElement('button');\n",
       "        button.classList = 'btn btn-default';\n",
       "        button.href = '#';\n",
       "        button.title = name;\n",
       "        button.innerHTML = '<i class=\"fa ' + image + ' fa-lg\"></i>';\n",
       "        button.addEventListener('click', on_click_closure(method_name));\n",
       "        button.addEventListener('mouseover', on_mouseover_closure(tooltip));\n",
       "        buttonGroup.appendChild(button);\n",
       "    }\n",
       "\n",
       "    if (buttonGroup.hasChildNodes()) {\n",
       "        toolbar.appendChild(buttonGroup);\n",
       "    }\n",
       "\n",
       "    // Add the status bar.\n",
       "    var status_bar = document.createElement('span');\n",
       "    status_bar.classList = 'mpl-message pull-right';\n",
       "    toolbar.appendChild(status_bar);\n",
       "    this.message = status_bar;\n",
       "\n",
       "    // Add the close button to the window.\n",
       "    var buttongrp = document.createElement('div');\n",
       "    buttongrp.classList = 'btn-group inline pull-right';\n",
       "    button = document.createElement('button');\n",
       "    button.classList = 'btn btn-mini btn-primary';\n",
       "    button.href = '#';\n",
       "    button.title = 'Stop Interaction';\n",
       "    button.innerHTML = '<i class=\"fa fa-power-off icon-remove icon-large\"></i>';\n",
       "    button.addEventListener('click', function (_evt) {\n",
       "        fig.handle_close(fig, {});\n",
       "    });\n",
       "    button.addEventListener(\n",
       "        'mouseover',\n",
       "        on_mouseover_closure('Stop Interaction')\n",
       "    );\n",
       "    buttongrp.appendChild(button);\n",
       "    var titlebar = this.root.querySelector('.ui-dialog-titlebar');\n",
       "    titlebar.insertBefore(buttongrp, titlebar.firstChild);\n",
       "};\n",
       "\n",
       "mpl.figure.prototype._remove_fig_handler = function (event) {\n",
       "    var fig = event.data.fig;\n",
       "    fig.close_ws(fig, {});\n",
       "};\n",
       "\n",
       "mpl.figure.prototype._root_extra_style = function (el) {\n",
       "    el.style.boxSizing = 'content-box'; // override notebook setting of border-box.\n",
       "};\n",
       "\n",
       "mpl.figure.prototype._canvas_extra_style = function (el) {\n",
       "    // this is important to make the div 'focusable\n",
       "    el.setAttribute('tabindex', 0);\n",
       "    // reach out to IPython and tell the keyboard manager to turn it's self\n",
       "    // off when our div gets focus\n",
       "\n",
       "    // location in version 3\n",
       "    if (IPython.notebook.keyboard_manager) {\n",
       "        IPython.notebook.keyboard_manager.register_events(el);\n",
       "    } else {\n",
       "        // location in version 2\n",
       "        IPython.keyboard_manager.register_events(el);\n",
       "    }\n",
       "};\n",
       "\n",
       "mpl.figure.prototype._key_event_extra = function (event, _name) {\n",
       "    var manager = IPython.notebook.keyboard_manager;\n",
       "    if (!manager) {\n",
       "        manager = IPython.keyboard_manager;\n",
       "    }\n",
       "\n",
       "    // Check for shift+enter\n",
       "    if (event.shiftKey && event.which === 13) {\n",
       "        this.canvas_div.blur();\n",
       "        // select the cell after this one\n",
       "        var index = IPython.notebook.find_cell_index(this.cell_info[0]);\n",
       "        IPython.notebook.select(index + 1);\n",
       "    }\n",
       "};\n",
       "\n",
       "mpl.figure.prototype.handle_save = function (fig, _msg) {\n",
       "    fig.ondownload(fig, null);\n",
       "};\n",
       "\n",
       "mpl.find_output_cell = function (html_output) {\n",
       "    // Return the cell and output element which can be found *uniquely* in the notebook.\n",
       "    // Note - this is a bit hacky, but it is done because the \"notebook_saving.Notebook\"\n",
       "    // IPython event is triggered only after the cells have been serialised, which for\n",
       "    // our purposes (turning an active figure into a static one), is too late.\n",
       "    var cells = IPython.notebook.get_cells();\n",
       "    var ncells = cells.length;\n",
       "    for (var i = 0; i < ncells; i++) {\n",
       "        var cell = cells[i];\n",
       "        if (cell.cell_type === 'code') {\n",
       "            for (var j = 0; j < cell.output_area.outputs.length; j++) {\n",
       "                var data = cell.output_area.outputs[j];\n",
       "                if (data.data) {\n",
       "                    // IPython >= 3 moved mimebundle to data attribute of output\n",
       "                    data = data.data;\n",
       "                }\n",
       "                if (data['text/html'] === html_output) {\n",
       "                    return [cell, data, j];\n",
       "                }\n",
       "            }\n",
       "        }\n",
       "    }\n",
       "};\n",
       "\n",
       "// Register the function which deals with the matplotlib target/channel.\n",
       "// The kernel may be null if the page has been refreshed.\n",
       "if (IPython.notebook.kernel !== null) {\n",
       "    IPython.notebook.kernel.comm_manager.register_target(\n",
       "        'matplotlib',\n",
       "        mpl.mpl_figure_comm\n",
       "    );\n",
       "}\n"
      ],
      "text/plain": [
       "<IPython.core.display.Javascript object>"
      ]
     },
     "metadata": {},
     "output_type": "display_data"
    },
    {
     "data": {
      "text/html": [
       "<img src=\"data:image/png;base64,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\" width=\"432\">"
      ],
      "text/plain": [
       "<IPython.core.display.HTML object>"
      ]
     },
     "metadata": {},
     "output_type": "display_data"
    }
   ],
   "source": [
    "%matplotlib notebook\n",
    "plt.plot(x,'bo');"
   ]
  },
  {
   "cell_type": "markdown",
   "metadata": {},
   "source": [
    "Let's work with \"inline\" as a default, unless interactivity is needed."
   ]
  },
  {
   "cell_type": "code",
   "execution_count": 16,
   "metadata": {},
   "outputs": [],
   "source": [
    "%matplotlib inline"
   ]
  },
  {
   "cell_type": "code",
   "execution_count": 21,
   "metadata": {},
   "outputs": [
    {
     "data": {
      "image/png": "[encoded data removed]",
      "text/plain": [
       "<Figure size 432x288 with 1 Axes>"
      ]
     },
     "metadata": {
      "needs_background": "light"
     },
     "output_type": "display_data"
    }
   ],
   "source": [
    "plt.plot(x,x*x,'rx');"
   ]
  },
  {
   "cell_type": "markdown",
   "metadata": {},
   "source": [
    "**Q:** Do you understand why this plot looks like a parabola despite the random samples?"
   ]
  },
  {
   "cell_type": "markdown",
   "metadata": {},
   "source": [
    "### Histogram\n",
    "\n",
    "A **histogram** of a sample 1D sample array is a bar plot on which the $x$-axis indicates a certain range of sample values, and the $y$-axis indicates how many samples are contained in the respective range."
   ]
  },
  {
   "cell_type": "code",
   "execution_count": 25,
   "metadata": {},
   "outputs": [
    {
     "data": {
      "image/png": "[encoded data removed]",
      "text/plain": [
       "<Figure size 432x288 with 1 Axes>"
      ]
     },
     "metadata": {
      "needs_background": "light"
     },
     "output_type": "display_data"
    }
   ],
   "source": [
    "h = plt.hist(x,50)"
   ]
  },
  {
   "cell_type": "markdown",
   "metadata": {},
   "source": [
    "### Location\n",
    "\n",
    "Some quantities describing properties of the dataset are the following."
   ]
  },
  {
   "cell_type": "markdown",
   "metadata": {},
   "source": [
    "- **Sample average** (also called **sample mean**)\n",
    "\n",
    "> $\\displaystyle \\bar{x} = \\frac{1}{N} \\sum_{i=1}^N x_i$\n",
    "<br><br>\n",
    "> but indexing starts with 0 in Python and most computer languages\n",
    "<br><br>\n",
    "> $\\displaystyle \\bar{x} = \\frac{1}{N} \\sum_{i=0}^{N-1} x_i$\n",
    "\n",
    "Using numpy, it can be computed as follows:"
   ]
  },
  {
   "cell_type": "code",
   "execution_count": 26,
   "metadata": {},
   "outputs": [
    {
     "data": {
      "text/plain": [
       "(-0.013399688802268064, -0.013399688802268064)"
      ]
     },
     "execution_count": 26,
     "metadata": {},
     "output_type": "execute_result"
    }
   ],
   "source": [
    "avg = np.sum(x) / N \n",
    "avg, np.mean(x)"
   ]
  },
  {
   "cell_type": "code",
   "execution_count": 27,
   "metadata": {},
   "outputs": [
    {
     "data": {
      "text/plain": [
       "(-0.013399688802268071, -0.013399688802268064)"
      ]
     },
     "execution_count": 27,
     "metadata": {},
     "output_type": "execute_result"
    }
   ],
   "source": [
    "sum(x)/N, x.sum()/x.size # this uses the native Python commands instead of numpy functions"
   ]
  },
  {
   "cell_type": "markdown",
   "metadata": {},
   "source": [
    "- **Sample median**\n",
    "\n",
    "> The number **sample median** is such that half of the samples are _larger_, and half of the samples are _smaller_."
   ]
  },
  {
   "cell_type": "code",
   "execution_count": 28,
   "metadata": {},
   "outputs": [
    {
     "data": {
      "text/plain": [
       "0.016378079536067843"
      ]
     },
     "execution_count": 28,
     "metadata": {},
     "output_type": "execute_result"
    }
   ],
   "source": [
    "med = np.median(x)\n",
    "med"
   ]
  },
  {
   "cell_type": "markdown",
   "metadata": {},
   "source": [
    "- **Mode** \n",
    "\n",
    "> Informally, where it peaks\n",
    "<br>\n",
    "> unimodal vs multimodal"
   ]
  },
  {
   "cell_type": "code",
   "execution_count": 29,
   "metadata": {
    "scrolled": true
   },
   "outputs": [
    {
     "data": {
      "image/png": "[encoded data removed]",
      "text/plain": [
       "<Figure size 288x288 with 1 Axes>"
      ]
     },
     "metadata": {
      "needs_background": "light"
     },
     "output_type": "display_data"
    }
   ],
   "source": [
    "fig = plt.figure(figsize=(4,4))\n",
    "ax = fig.add_subplot(1,1,1)\n",
    "ax.hist(x,20)\n",
    "ax.arrow(avg,0,0,15,color='r') # Arrow from (avg,0) to (avg+0,0+15), indicating _average_ of distribution\n",
    "ax.arrow(med,5,0,15,color='y') # Arrow from (med,5) to (med+0,5+15), indicating _median_ of distribution\n",
    "ax.set_xlim(-10, 10);"
   ]
  },
  {
   "cell_type": "markdown",
   "metadata": {},
   "source": [
    "### Dispersion\n",
    "- Sample variance\n",
    "\n",
    "> $\\displaystyle s^2 = \\frac{1}{N\\!-\\!1} \\sum_{i=1}^N \\left(x_i - \\bar{x}\\right)^2$\n",
    "\n",
    "- (Sample) standard deviation\n",
    "\n",
    "> $\\displaystyle s = \\sqrt{s^2}$"
   ]
  },
  {
   "cell_type": "code",
   "execution_count": 30,
   "metadata": {},
   "outputs": [
    {
     "data": {
      "text/plain": [
       "0.9719882358830212"
      ]
     },
     "execution_count": 30,
     "metadata": {},
     "output_type": "execute_result"
    }
   ],
   "source": [
    "s2   = np.sum( (x-avg)**2 ) /(N-1) # sample variance\n",
    "s2"
   ]
  },
  {
   "cell_type": "code",
   "execution_count": 31,
   "metadata": {},
   "outputs": [
    {
     "data": {
      "text/plain": [
       "0.9719882358830212"
      ]
     },
     "execution_count": 31,
     "metadata": {},
     "output_type": "execute_result"
    }
   ],
   "source": [
    "import statistics\n",
    "statistics.variance(x)"
   ]
  },
  {
   "cell_type": "code",
   "execution_count": 32,
   "metadata": {},
   "outputs": [
    {
     "data": {
      "text/plain": [
       "0.9858946373132482"
      ]
     },
     "execution_count": 32,
     "metadata": {},
     "output_type": "execute_result"
    }
   ],
   "source": [
    "s = np.sqrt(s2)\n",
    "s"
   ]
  },
  {
   "cell_type": "markdown",
   "metadata": {},
   "source": [
    "#### Exercise\n",
    "- Why is $(N\\!-\\!1)$ in the denominator above?"
   ]
  }
 ],
 "metadata": {
  "anaconda-cloud": {},
  "kernelspec": {
   "display_name": "Python 3",
   "language": "python",
   "name": "python3"
  },
  "language_info": {
   "codemirror_mode": {
    "name": "ipython",
    "version": 3
   },
   "file_extension": ".py",
   "mimetype": "text/x-python",
   "name": "python",
   "nbconvert_exporter": "python",
   "pygments_lexer": "ipython3",
   "version": "3.8.5"
  }
 },
 "nbformat": 4,
 "nbformat_minor": 1
}
