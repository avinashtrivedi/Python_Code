{
 "cells": [
  {
   "cell_type": "markdown",
   "metadata": {},
   "source": [
    "# Exam 1 - Introduction to Data Science - Fall 2021\n",
    "\n",
    "## Guidelines\n",
    "- Answer in the Markdown or code cells given below the questions.\n",
    "- Feel free to use the lecture notes and other resources but work on your own!\n",
    "- Comment code where appropriate for clarity.\n",
    "- Use only packages that are loaded with the code in a given problem."
   ]
  },
  {
   "cell_type": "markdown",
   "metadata": {},
   "source": [
    "# Problem 1"
   ]
  },
  {
   "cell_type": "markdown",
   "metadata": {},
   "source": [
    "## 1.1\n",
    "We load [_lowbt_](https://www.openml.org/d/203) for you. "
   ]
  },
  {
   "cell_type": "code",
   "execution_count": 1,
   "metadata": {},
   "outputs": [
    {
     "data": {
      "text/html": [
       "<div>\n",
       "<style scoped>\n",
       "    .dataframe tbody tr th:only-of-type {\n",
       "        vertical-align: middle;\n",
       "    }\n",
       "\n",
       "    .dataframe tbody tr th {\n",
       "        vertical-align: top;\n",
       "    }\n",
       "\n",
       "    .dataframe thead th {\n",
       "        text-align: right;\n",
       "    }\n",
       "</style>\n",
       "<table border=\"1\" class=\"dataframe\">\n",
       "  <thead>\n",
       "    <tr style=\"text-align: right;\">\n",
       "      <th></th>\n",
       "      <th>LOW</th>\n",
       "      <th>AGE</th>\n",
       "      <th>LWT</th>\n",
       "      <th>RACE</th>\n",
       "      <th>SMOKE</th>\n",
       "      <th>PTL</th>\n",
       "      <th>HT</th>\n",
       "      <th>UI</th>\n",
       "      <th>FTV</th>\n",
       "    </tr>\n",
       "  </thead>\n",
       "  <tbody>\n",
       "    <tr>\n",
       "      <th>0</th>\n",
       "      <td>0</td>\n",
       "      <td>19.0</td>\n",
       "      <td>182.0</td>\n",
       "      <td>2</td>\n",
       "      <td>0</td>\n",
       "      <td>0</td>\n",
       "      <td>0</td>\n",
       "      <td>1</td>\n",
       "      <td>0</td>\n",
       "    </tr>\n",
       "    <tr>\n",
       "      <th>1</th>\n",
       "      <td>0</td>\n",
       "      <td>33.0</td>\n",
       "      <td>155.0</td>\n",
       "      <td>3</td>\n",
       "      <td>0</td>\n",
       "      <td>0</td>\n",
       "      <td>0</td>\n",
       "      <td>0</td>\n",
       "      <td>3</td>\n",
       "    </tr>\n",
       "    <tr>\n",
       "      <th>2</th>\n",
       "      <td>0</td>\n",
       "      <td>20.0</td>\n",
       "      <td>105.0</td>\n",
       "      <td>1</td>\n",
       "      <td>1</td>\n",
       "      <td>0</td>\n",
       "      <td>0</td>\n",
       "      <td>0</td>\n",
       "      <td>1</td>\n",
       "    </tr>\n",
       "    <tr>\n",
       "      <th>3</th>\n",
       "      <td>0</td>\n",
       "      <td>21.0</td>\n",
       "      <td>108.0</td>\n",
       "      <td>1</td>\n",
       "      <td>1</td>\n",
       "      <td>0</td>\n",
       "      <td>0</td>\n",
       "      <td>1</td>\n",
       "      <td>2</td>\n",
       "    </tr>\n",
       "    <tr>\n",
       "      <th>4</th>\n",
       "      <td>0</td>\n",
       "      <td>18.0</td>\n",
       "      <td>107.0</td>\n",
       "      <td>1</td>\n",
       "      <td>1</td>\n",
       "      <td>0</td>\n",
       "      <td>0</td>\n",
       "      <td>1</td>\n",
       "      <td>0</td>\n",
       "    </tr>\n",
       "    <tr>\n",
       "      <th>...</th>\n",
       "      <td>...</td>\n",
       "      <td>...</td>\n",
       "      <td>...</td>\n",
       "      <td>...</td>\n",
       "      <td>...</td>\n",
       "      <td>...</td>\n",
       "      <td>...</td>\n",
       "      <td>...</td>\n",
       "      <td>...</td>\n",
       "    </tr>\n",
       "    <tr>\n",
       "      <th>184</th>\n",
       "      <td>1</td>\n",
       "      <td>28.0</td>\n",
       "      <td>95.0</td>\n",
       "      <td>1</td>\n",
       "      <td>1</td>\n",
       "      <td>0</td>\n",
       "      <td>0</td>\n",
       "      <td>0</td>\n",
       "      <td>2</td>\n",
       "    </tr>\n",
       "    <tr>\n",
       "      <th>185</th>\n",
       "      <td>1</td>\n",
       "      <td>14.0</td>\n",
       "      <td>100.0</td>\n",
       "      <td>3</td>\n",
       "      <td>0</td>\n",
       "      <td>0</td>\n",
       "      <td>0</td>\n",
       "      <td>0</td>\n",
       "      <td>2</td>\n",
       "    </tr>\n",
       "    <tr>\n",
       "      <th>186</th>\n",
       "      <td>1</td>\n",
       "      <td>23.0</td>\n",
       "      <td>94.0</td>\n",
       "      <td>3</td>\n",
       "      <td>1</td>\n",
       "      <td>0</td>\n",
       "      <td>0</td>\n",
       "      <td>0</td>\n",
       "      <td>0</td>\n",
       "    </tr>\n",
       "    <tr>\n",
       "      <th>187</th>\n",
       "      <td>1</td>\n",
       "      <td>17.0</td>\n",
       "      <td>142.0</td>\n",
       "      <td>2</td>\n",
       "      <td>0</td>\n",
       "      <td>0</td>\n",
       "      <td>1</td>\n",
       "      <td>0</td>\n",
       "      <td>0</td>\n",
       "    </tr>\n",
       "    <tr>\n",
       "      <th>188</th>\n",
       "      <td>1</td>\n",
       "      <td>21.0</td>\n",
       "      <td>130.0</td>\n",
       "      <td>1</td>\n",
       "      <td>1</td>\n",
       "      <td>0</td>\n",
       "      <td>1</td>\n",
       "      <td>0</td>\n",
       "      <td>3</td>\n",
       "    </tr>\n",
       "  </tbody>\n",
       "</table>\n",
       "<p>189 rows × 9 columns</p>\n",
       "</div>"
      ],
      "text/plain": [
       "    LOW   AGE    LWT RACE SMOKE PTL HT UI FTV\n",
       "0     0  19.0  182.0    2     0   0  0  1   0\n",
       "1     0  33.0  155.0    3     0   0  0  0   3\n",
       "2     0  20.0  105.0    1     1   0  0  0   1\n",
       "3     0  21.0  108.0    1     1   0  0  1   2\n",
       "4     0  18.0  107.0    1     1   0  0  1   0\n",
       "..   ..   ...    ...  ...   ...  .. .. ..  ..\n",
       "184   1  28.0   95.0    1     1   0  0  0   2\n",
       "185   1  14.0  100.0    3     0   0  0  0   2\n",
       "186   1  23.0   94.0    3     1   0  0  0   0\n",
       "187   1  17.0  142.0    2     0   0  1  0   0\n",
       "188   1  21.0  130.0    1     1   0  1  0   3\n",
       "\n",
       "[189 rows x 9 columns]"
      ]
     },
     "metadata": {},
     "output_type": "display_data"
    }
   ],
   "source": [
    "# Scikit-learn function used to load dataset from OpenML.\n",
    "from sklearn.datasets import fetch_openml \n",
    "\n",
    "# Load 'lowbwt' bunch from OpenML.\n",
    "lowbwt_bunch = fetch_openml('lowbwt', version=1, as_frame=True) \n",
    "# Extract dataset from bunch.\n",
    "lowbwt = lowbwt_bunch.data\n",
    "display(lowbwt)"
   ]
  },
  {
   "cell_type": "markdown",
   "metadata": {},
   "source": [
    "Plot a **density histogram** for the ages of mothers with no uterine irritability."
   ]
  },
  {
   "cell_type": "code",
   "execution_count": 8,
   "metadata": {},
   "outputs": [
    {
     "data": {
      "image/png": "[encoded data removed]",
      "text/plain": [
       "<Figure size 432x288 with 1 Axes>"
      ]
     },
     "metadata": {
      "needs_background": "light"
     },
     "output_type": "display_data"
    }
   ],
   "source": [
    "import pandas as pd\n",
    "import matplotlib.pyplot as plt\n",
    "\n",
    "# lowbwt[lowbwt['UI']=='0']['AGE'] will give the desired data\n",
    "plt.hist(lowbwt[lowbwt['UI']=='0']['AGE'], density=True)\n",
    "plt.title('density histogram')\n",
    "plt.xlabel('Age')\n",
    "plt.show()"
   ]
  },
  {
   "cell_type": "markdown",
   "metadata": {},
   "source": [
    "## 1.2\n",
    "A student runs the following code to test the behavior of the scipy.stats i.i.d. random variate generation for a standard normal $\\mathcal{N}(0, 1)$ distribution. He wants to check whether the variance of a randomly generated i.i.d. sample of size ten will be close to the theoretical variance of $1$ on average. To accomplish this, he \n",
    "\n",
    "1. Simulates 10,000 random i.i.d. samples of size ten.\n",
    "2. Takes the variances of each of the 10,000 samples.\n",
    "3. Averages all of these variances, and prints the average.\n",
    "\n",
    "When he does this, he gets an average of variance that is close to $0.90$ instead of $1.00$. He wrongly concludes that scipy.stats is broken. Change one line of code so that the average variance will be as expected."
   ]
  },
  {
   "cell_type": "code",
   "execution_count": 1,
   "metadata": {},
   "outputs": [
    {
     "name": "stdout",
     "output_type": "stream",
     "text": [
      "0.8971388285642462\n"
     ]
    }
   ],
   "source": [
    "import scipy.stats as stats\n",
    "import numpy as np\n",
    "\n",
    "# CORRECT ONE LINE IN THE FOLLOWING CODE\n",
    "\n",
    "# Generate 10,000 random samples of size ten.\n",
    "samples = stats.norm.rvs(size=[10000,10], random_state=553)\n",
    "# Take variance of each sample.\n",
    "sample_variances = np.var(samples,  axis=1)\n",
    "# Take average of variances.\n",
    "average_variance = np.mean(sample_variances)\n",
    "# Print.\n",
    "print(average_variance)"
   ]
  },
  {
   "cell_type": "markdown",
   "metadata": {},
   "source": [
    "# Problem 2"
   ]
  },
  {
   "cell_type": "markdown",
   "metadata": {},
   "source": [
    "## 2.1\n",
    "The empirical cumulative distribution function (ECDF) $\\hat{F}_{n}(t)$ of the samples $\\{x_1,x_2,\\ldots,x_n\\}$ is defined by\n",
    "\n",
    "$$\\hat{F}_{n}(t) = \\frac{1}{n}\\sum_{i=1}^n \\mathbf{1}_{x_i \\leq t} = \\frac{\\#\\{\\text{$i$ such that $x_i \\leq$ t}\\}}{n},$$\n",
    "\n",
    "Here, $\\mathbf{1}_{x_i \\leq t}$ is equal to $1$ if $x_i \\leq t$ and equal to $0$ otherwise.\n",
    "\n",
    "We load the samples to the numpy array `samples` below."
   ]
  },
  {
   "cell_type": "code",
   "execution_count": 3,
   "metadata": {},
   "outputs": [],
   "source": [
    "import numpy as np\n",
    "samples = np.array([\n",
    "    -0.986884764999009, -0.851970773256441, -0.867796672206323, 1.16345615827449, -1.10159468310786, \n",
    "    -1.09025113310314, -1.00814879621656, 0.806680833662076, 1.06986054952863, 0.791445538608714, \n",
    "    -1.12102128751188, 1.04386395472623, -0.881116187067203, -0.941977270883302, 0.890590388346183\n",
    "])"
   ]
  },
  {
   "cell_type": "code",
   "execution_count": null,
   "metadata": {},
   "outputs": [],
   "source": [
    "def my_ecdf(vec, dat):\n",
    "    # YOUR CODE HERE.\n",
    "    for i in dat:\n",
    "        \n",
    "    cdf_vals =     # assign the CDF values for \"vec\" here\n",
    "    return cdf_vals"
   ]
  },
  {
   "cell_type": "markdown",
   "metadata": {},
   "source": [
    "Manually implement an empirical CDF function of the provided samples $\\{x_1,\\ldots,x_n\\}$, then run the cell to plot the ECDF of the samples."
   ]
  },
  {
   "cell_type": "code",
   "execution_count": 81,
   "metadata": {},
   "outputs": [
    {
     "ename": "NameError",
     "evalue": "name 'my_ecdf' is not defined",
     "output_type": "error",
     "traceback": [
      "\u001b[1;31m---------------------------------------------------------------------------\u001b[0m",
      "\u001b[1;31mNameError\u001b[0m                                 Traceback (most recent call last)",
      "\u001b[1;32m<ipython-input-81-870903905447>\u001b[0m in \u001b[0;36m<module>\u001b[1;34m\u001b[0m\n\u001b[0;32m      9\u001b[0m \u001b[1;33m\u001b[0m\u001b[0m\n\u001b[0;32m     10\u001b[0m \u001b[0mhoriz_axis\u001b[0m \u001b[1;33m=\u001b[0m \u001b[0mnp\u001b[0m\u001b[1;33m.\u001b[0m\u001b[0mlinspace\u001b[0m\u001b[1;33m(\u001b[0m\u001b[0mmin\u001b[0m\u001b[1;33m(\u001b[0m\u001b[0msamples\u001b[0m\u001b[1;33m)\u001b[0m\u001b[1;33m,\u001b[0m \u001b[0mmax\u001b[0m\u001b[1;33m(\u001b[0m\u001b[0msamples\u001b[0m\u001b[1;33m)\u001b[0m\u001b[1;33m,\u001b[0m \u001b[1;36m100\u001b[0m\u001b[1;33m)\u001b[0m\u001b[1;33m\u001b[0m\u001b[1;33m\u001b[0m\u001b[0m\n\u001b[1;32m---> 11\u001b[1;33m \u001b[0mplt\u001b[0m\u001b[1;33m.\u001b[0m\u001b[0mplot\u001b[0m\u001b[1;33m(\u001b[0m\u001b[0mhoriz_axis\u001b[0m\u001b[1;33m,\u001b[0m \u001b[0mmy_ecdf\u001b[0m\u001b[1;33m(\u001b[0m\u001b[0mhoriz_axis\u001b[0m\u001b[1;33m,\u001b[0m \u001b[0msamples\u001b[0m\u001b[1;33m)\u001b[0m\u001b[1;33m)\u001b[0m\u001b[1;33m\u001b[0m\u001b[1;33m\u001b[0m\u001b[0m\n\u001b[0m\u001b[0;32m     12\u001b[0m \u001b[0mplt\u001b[0m\u001b[1;33m.\u001b[0m\u001b[0mshow\u001b[0m\u001b[1;33m(\u001b[0m\u001b[1;33m)\u001b[0m\u001b[1;33m\u001b[0m\u001b[1;33m\u001b[0m\u001b[0m\n",
      "\u001b[1;31mNameError\u001b[0m: name 'my_ecdf' is not defined"
     ]
    }
   ],
   "source": [
    "import numpy as np\n",
    "import matplotlib.pyplot as plt\n",
    "\n",
    "def my_ecdf(vec, dat):\n",
    "    # YOUR CODE HERE.\n",
    "    \n",
    "    cdf_vals =     # assign the CDF values for \"vec\" here\n",
    "    return cdf_vals\n",
    "\n",
    "horiz_axis = np.linspace(min(samples), max(samples), 100)\n",
    "plt.plot(horiz_axis, my_ecdf(horiz_axis, samples))\n",
    "plt.show()"
   ]
  },
  {
   "cell_type": "code",
   "execution_count": 82,
   "metadata": {},
   "outputs": [
    {
     "data": {
      "text/plain": [
       "array([-23.6101172 , -23.19272661, -22.77533602, -22.35794543,\n",
       "       -21.94055484, -21.52316425, -21.10577366, -20.68838307,\n",
       "       -20.27099248, -19.85360189, -19.4362113 , -19.01882071,\n",
       "       -18.60143011, -18.18403952, -17.76664893, -17.34925834,\n",
       "       -16.93186775, -16.51447716, -16.09708657, -15.67969598,\n",
       "       -15.26230539, -14.8449148 , -14.42752421, -14.01013362,\n",
       "       -13.59274303, -13.17535244, -12.75796185, -12.34057126,\n",
       "       -11.92318067, -11.50579008, -11.08839949, -10.6710089 ,\n",
       "       -10.25361831,  -9.83622772,  -9.41883713,  -9.00144654,\n",
       "        -8.58405595,  -8.16666536,  -7.74927477,  -7.33188418,\n",
       "        -6.91449359,  -6.497103  ,  -6.07971241,  -5.66232182,\n",
       "        -5.24493123,  -4.82754064,  -4.41015005,  -3.99275945,\n",
       "        -3.57536886,  -3.15797827,  -2.74058768,  -2.32319709,\n",
       "        -1.9058065 ,  -1.48841591,  -1.07102532,  -0.65363473,\n",
       "        -0.23624414,   0.18114645,   0.59853704,   1.01592763,\n",
       "         1.43331822,   1.85070881,   2.2680994 ,   2.68548999,\n",
       "         3.10288058,   3.52027117,   3.93766176,   4.35505235,\n",
       "         4.77244294,   5.18983353,   5.60722412,   6.02461471,\n",
       "         6.4420053 ,   6.85939589,   7.27678648,   7.69417707,\n",
       "         8.11156766,   8.52895825,   8.94634884,   9.36373943,\n",
       "         9.78113002,  10.19852062,  10.61591121,  11.0333018 ,\n",
       "        11.45069239,  11.86808298,  12.28547357,  12.70286416,\n",
       "        13.12025475,  13.53764534,  13.95503593,  14.37242652,\n",
       "        14.78981711,  15.2072077 ,  15.62459829,  16.04198888,\n",
       "        16.45937947,  16.87677006,  17.29416065,  17.71155124])"
      ]
     },
     "execution_count": 82,
     "metadata": {},
     "output_type": "execute_result"
    }
   ],
   "source": [
    "horiz_axis"
   ]
  },
  {
   "cell_type": "markdown",
   "metadata": {},
   "source": [
    "## 2.2\n",
    "The following code is an attempt to implement triangular kernel density estimation from the sample $\\{x_1,\\ldots,x_n\\}$ provided by `samples`, where the triangular kernel $K(x)$ is defined by\n",
    "\n",
    "$$ K(x) = \\begin{cases} 1 - \\lvert x \\rvert \\text{ if $\\lvert x \\rvert \\leq 1 $} \\\\ 0 \\text{ otherwise}\\end{cases}$$\n",
    "\n",
    "In the first cell, we load a sample to the numpy array `samples`."
   ]
  },
  {
   "cell_type": "code",
   "execution_count": 78,
   "metadata": {},
   "outputs": [],
   "source": [
    "import numpy as np\n",
    "\n",
    "# Load sample.\n",
    "samples = np.array([\n",
    "    -0.986884764999009, -0.851970773256441, -0.867796672206323, 1.16345615827449, -1.10159468310786, \n",
    "    -1.09025113310314, -1.00814879621656, 0.806680833662076, 1.06986054952863, 0.791445538608714, \n",
    "    -1.12102128751188, 1.04386395472623, -0.881116187067203, -0.941977270883302, 0.890590388346183\n",
    "])"
   ]
  },
  {
   "cell_type": "markdown",
   "metadata": {},
   "source": [
    "In the following cell, there is an error either in the function definition of `kernel` or of `density` which causes the integration of the KDE to be not close to 1. Correct the error."
   ]
  },
  {
   "cell_type": "code",
   "execution_count": 85,
   "metadata": {},
   "outputs": [
    {
     "data": {
      "image/png": "[encoded data removed]",
      "text/plain": [
       "<Figure size 432x288 with 1 Axes>"
      ]
     },
     "metadata": {
      "needs_background": "light"
     },
     "output_type": "display_data"
    },
    {
     "data": {
      "text/plain": [
       "-254.33447867050805"
      ]
     },
     "execution_count": 85,
     "metadata": {},
     "output_type": "execute_result"
    }
   ],
   "source": [
    "import numpy as np\n",
    "import matplotlib.pyplot as plt\n",
    "\n",
    "# CORRECT THE FOLLOWING CODE\n",
    "\n",
    "# Triangular kernel function.\n",
    "def kernel(x, dat, bw):\n",
    "    t = 1 - abs((x - dat) / bw)\n",
    "    return(t) \n",
    "\n",
    "# Kernel density estimator function.\n",
    "def density(x, sample, bw):\n",
    "    f = np.zeros(len(x))\n",
    "    for dat in sample:        \n",
    "        f = f + kernel(x, dat, bw)\n",
    "    return(f / (len(sample)*bw))\n",
    "\n",
    "# Plot kernel density estimate for sample.\n",
    "x = np.linspace(-3,3, num = 500)\n",
    "p = density(x, samples, 0.25)\n",
    "plt.plot(x, p)\n",
    "plt.show()\n",
    "\n",
    "# Check integral of kernel density estimate.\n",
    "np.trapz(p, x)"
   ]
  },
  {
   "cell_type": "markdown",
   "metadata": {},
   "source": [
    "# Problem 3"
   ]
  },
  {
   "cell_type": "markdown",
   "metadata": {},
   "source": [
    "## 3.1\n",
    "\n",
    "Use the [SciPy _stats_ library](https://docs.scipy.org/doc/scipy/reference/stats.html) to generate a random sample of size 10,000 from an [exponential distribution](https://en.wikipedia.org/wiki/Exponential_distribution) with `scale=1/15`, which means that the parameter $\n",
    "\\lambda =15$. Use a random_state of 553. Plot a density histogram of the result with 100 bins, and overlay the density of the distribution."
   ]
  },
  {
   "cell_type": "code",
   "execution_count": 17,
   "metadata": {},
   "outputs": [
    {
     "data": {
      "image/png": "[encoded data removed]",
      "text/plain": [
       "<Figure size 432x288 with 1 Axes>"
      ]
     },
     "metadata": {
      "needs_background": "light"
     },
     "output_type": "display_data"
    }
   ],
   "source": [
    "import scipy.stats as stats\n",
    "import numpy as np\n",
    "import matplotlib.pyplot as plt\n",
    "\n",
    "# generate random sample \n",
    "x = stats.expon.rvs(size=10000,scale=15 ,random_state=553)\n",
    "# plot density histogram\n",
    "plt.hist(x,bins=100,density=True)\n",
    "\n",
    "plt.show()"
   ]
  },
  {
   "cell_type": "markdown",
   "metadata": {},
   "source": [
    "# 3.2\n",
    "The following code is an attempt to implement rejection sampling from a [Student's $t$-distribution](https://docs.scipy.org/doc/scipy/reference/generated/scipy.stats.t.html) with `df=5`. More precisely, the target distribution is supposed to be a Student's $t$-distribution with `df=5`, and the candidate distribution is supposed to be a standard normal distribution (a $\\mathcal{N}(0,1)$ distribution). \n",
    "\n",
    "As you can see, the output is off. Change one line of code to produce the correct output."
   ]
  },
  {
   "cell_type": "code",
   "execution_count": 80,
   "metadata": {
    "scrolled": true
   },
   "outputs": [
    {
     "name": "stdout",
     "output_type": "stream",
     "text": [
      "Number of samples:\t 4053\n"
     ]
    },
    {
     "data": {
      "image/png": "[encoded data removed]",
      "text/plain": [
       "<Figure size 432x288 with 1 Axes>"
      ]
     },
     "metadata": {
      "needs_background": "light"
     },
     "output_type": "display_data"
    }
   ],
   "source": [
    "import scipy.stats as stats\n",
    "import matplotlib.pyplot as plt\n",
    "\n",
    "# CORRECT ONE LINE IN THE FOLLOWING CODE\n",
    "\n",
    "trials = 100000\n",
    "df = 5\n",
    "U = stats.uniform.rvs(loc=0, scale=1, size=trials, random_state=436)\n",
    "Y = stats.t.rvs(df=df, size=trials, random_state=636)\n",
    "\n",
    "x = np.linspace(-4, 4, 1000)\n",
    "M = max(stats.t.pdf(x, df=df) / stats.norm.pdf(x))\n",
    "f = stats.t.pdf(Y, df=df)\n",
    "g = stats.norm.pdf(Y)\n",
    "ratio = f/g\n",
    "samples = Y[U <= ratio/M]\n",
    "\n",
    "print('Number of samples:\\t', len(samples))\n",
    "plt.hist(samples, density=True, bins=25)\n",
    "plt.plot(x, stats.norm.pdf(x), label='norm')\n",
    "plt.plot(x, stats.t.pdf(x, df=df), label='t')\n",
    "plt.legend()\n",
    "plt.show()"
   ]
  },
  {
   "cell_type": "markdown",
   "metadata": {},
   "source": [
    "# Problem 4"
   ]
  },
  {
   "cell_type": "markdown",
   "metadata": {},
   "source": [
    "## 4.1\n",
    "In the following cell, we load the _boston_ dataset, store its feature names in the variable `labels`, and divide it into a training and test set."
   ]
  },
  {
   "cell_type": "code",
   "execution_count": 18,
   "metadata": {},
   "outputs": [],
   "source": [
    "from sklearn.datasets import load_boston\n",
    "from sklearn.model_selection import train_test_split\n",
    "\n",
    "boston_bunch = load_boston()\n",
    "X = boston_bunch.data\n",
    "y = boston_bunch.target\n",
    "labels = boston_bunch.feature_names\n",
    "\n",
    "X_train, X_test, y_train, y_test = train_test_split(X, y, test_size=0.33, random_state=553)"
   ]
  },
  {
   "cell_type": "markdown",
   "metadata": {},
   "source": [
    "1. Perform Lasso regression on all predictor variables in the training set to predict housing price. Choose the largest alpha in the interval [0, 1], to the nearest tenth, at which the test R-squared of the resulting predictions is above 0.65.\n",
    "2. Print the alpha that you choose along with the resulting R-squared. \n",
    "3. Print a list of the names of the variables positively associated with housing price and a list of the names of the variables negatively associated with housing price."
   ]
  },
  {
   "cell_type": "code",
   "execution_count": 68,
   "metadata": {},
   "outputs": [
    {
     "name": "stdout",
     "output_type": "stream",
     "text": [
      "Alpha:          0.01\n",
      "R-squared:      0.673629975417308\n",
      "Positive:       ['ZN', 'CHAS', 'RM', 'AGE', 'RAD', 'B']\n",
      "Negative:       ['CRIM', 'INDUS', 'NOX', 'DIS', 'TAX', 'PTRATIO', 'LSTAT']\n"
     ]
    }
   ],
   "source": [
    "import numpy as np\n",
    "from sklearn.linear_model import Lasso\n",
    "\n",
    "alpha = 0.01               # the regularization parameter alpha\n",
    "\n",
    "#YOUR CODE HERE.\n",
    "lassoReg = Lasso(alpha=alpha,normalize=True)\n",
    "lassoReg.fit(X_train,y_train)\n",
    "pred = lassoReg.predict(X_test)\n",
    "R_squared =  lassoReg.score(X_test,y_test)               # the R-squared\n",
    "\n",
    "# compute positive and negative features\n",
    "pos = []\n",
    "neg = []\n",
    "for id,name in enumerate(boston_bunch.feature_names):\n",
    "    \n",
    "    # check for - sign for negative\n",
    "    if str(lassoReg.coef_[id])[0]=='-':\n",
    "        neg.append(name)\n",
    "    else:\n",
    "        pos.append(name)\n",
    "\n",
    "Positive_features =  pos       # the names of the variables positively associated with housing price\n",
    "Negative_features =  neg       # the names of the variables negatively associated with housing price\n",
    "print('{:<15} {}'.format('Alpha:', alpha))\n",
    "print('{:<15} {}'.format('R-squared:', R_squared))\n",
    "print('{:<15} {}'.format('Positive:', Positive_features))\n",
    "print('{:<15} {}'.format('Negative:', Negative_features))"
   ]
  },
  {
   "cell_type": "markdown",
   "metadata": {},
   "source": [
    "## 4.2\n",
    "A student decides to select a predictive model for housing price on the basis of MSE. He runs the following code to fit three different models."
   ]
  },
  {
   "cell_type": "code",
   "execution_count": 69,
   "metadata": {},
   "outputs": [],
   "source": [
    "import numpy as np\n",
    "from sklearn.linear_model import LinearRegression\n",
    "from sklearn.metrics import mean_squared_error\n",
    "import sklearn.preprocessing as prepro\n",
    "\n",
    "# MODEL 1: using all predictor variables\n",
    "X_train_1, X_test_1 = X_train, X_test\n",
    "reg_1 = LinearRegression().fit(X_train_1, y_train)\n",
    "\n",
    "# MODEL 2: using only AGE, NOX, DIS, and RAD as predictor variables\n",
    "ind = np.where([a in ['ZN', 'RM', 'AGE', 'RAD', 'B'] for a in boston_bunch.feature_names])[0]\n",
    "X_train_2, X_test_2 = X_train[:,ind], X_test[:,ind]\n",
    "reg_2 = LinearRegression().fit(X_train_2, y_train)\n",
    "\n",
    "# MODEL 3: using all polynomial combinations of degree <=5 of the original thirteen predictor variables\n",
    "poly = prepro.PolynomialFeatures(5)\n",
    "X_train_3, X_test_3 = poly.fit_transform(X_train), poly.fit_transform(X_test)\n",
    "reg_3 = LinearRegression().fit(X_train_3, y_train)"
   ]
  },
  {
   "cell_type": "markdown",
   "metadata": {},
   "source": [
    "Based on the following code and output, he selects MODEL 3 for having the best MSE. The student made a mistake on one line: correct that line."
   ]
  },
  {
   "cell_type": "code",
   "execution_count": 72,
   "metadata": {},
   "outputs": [
    {
     "name": "stdout",
     "output_type": "stream",
     "text": [
      "MODEL 1\n",
      "MSE:            18.637149771206403\n",
      "MODEL 2\n",
      "MSE:            32.16123650012168\n",
      "MODEL 3\n",
      "MSE:            3.074657164179874e-19\n"
     ]
    }
   ],
   "source": [
    "# Function for comparing MSE of models on data.\n",
    "def model_comparison(model_list, features_list, target):\n",
    "    k = 0\n",
    "    for model in model_list:\n",
    "        # Calculate MSE.\n",
    "        mse = mean_squared_error(target, model.predict(features_list[k]))\n",
    "        # Print model name.\n",
    "        print('MODEL', k+1)\n",
    "        # Print MSE.\n",
    "        print('{:<15} {}'.format('MSE:', mse))\n",
    "        k = k+1\n",
    "    return\n",
    "\n",
    "model_list = [reg_1, reg_2, reg_3]\n",
    "features_list, target = [X_train_1, X_train_2, X_train_3], y_train\n",
    "model_comparison(model_list, features_list, target)"
   ]
  },
  {
   "cell_type": "markdown",
   "metadata": {},
   "source": [
    "# Problem 5"
   ]
  },
  {
   "cell_type": "markdown",
   "metadata": {},
   "source": [
    "## 5.1\n",
    "We load the [following dataset](https://www.openml.org/d/1524) on 310 orthopedic patients, including 6 predictors concerning the orientation of bones in the lower back, as well as a target class variable for normal (`2`) or abnormal (`1`) spinal health. We scale the predictors."
   ]
  },
  {
   "cell_type": "code",
   "execution_count": 73,
   "metadata": {},
   "outputs": [
    {
     "name": "stdout",
     "output_type": "stream",
     "text": [
      "            V1         V2         V3         V4          V5         V6  Class\n",
      "0    63.027818  22.552586  39.609117  40.475232   98.672917  -0.254400      1\n",
      "1    39.056951  10.060991  25.015378  28.995960  114.405425   4.564259      1\n",
      "2    68.832021  22.218482  50.092194  46.613539  105.985136  -3.530317      1\n",
      "3    69.297008  24.652878  44.311238  44.644130  101.868495  11.211523      1\n",
      "4    49.712859   9.652075  28.317406  40.060784  108.168725   7.918501      1\n",
      "..         ...        ...        ...        ...         ...        ...    ...\n",
      "305  47.903565  13.616688  36.000000  34.286877  117.449062  -4.245395      2\n",
      "306  53.936748  20.721496  29.220534  33.215251  114.365845  -0.421010      2\n",
      "307  61.446597  22.694968  46.170347  38.751628  125.670725  -2.707880      2\n",
      "308  45.252792   8.693157  41.583126  36.559635  118.545842   0.214750      2\n",
      "309  33.841641   5.073991  36.641233  28.767649  123.945244  -0.199249      2\n",
      "\n",
      "[310 rows x 7 columns]\n",
      "[[ 0.14708639  0.50136874 -0.6651769  -0.18495027 -1.44764679 -0.70805942]\n",
      " [-1.24586434 -0.74876903 -1.45300076 -1.04152066 -0.26438491 -0.57955636]\n",
      " [ 0.48436951  0.46793217 -0.09926173  0.2730833  -0.89768553 -0.79542094]\n",
      " ...\n",
      " [ 0.05520139  0.51561809 -0.3109775  -0.31356367  0.58289258 -0.77348835]\n",
      " [-0.88582308 -0.88565955 -0.55861261 -0.47712773  0.0470211  -0.69554822]\n",
      " [-1.5489268  -1.24785958 -0.82539422 -1.05855697  0.45311697 -0.70658867]]\n"
     ]
    }
   ],
   "source": [
    "import pandas as pd\n",
    "import sklearn\n",
    "from sklearn.preprocessing import StandardScaler\n",
    "\n",
    "vertebra = pd.read_csv('https://www.openml.org/data/get_csv/1593720/phpZeLjnh')\n",
    "predictors = vertebra.iloc[:,0:6]\n",
    "target = vertebra.iloc[:,6]\n",
    "\n",
    "print(vertebra)\n",
    "\n",
    "scaler = StandardScaler()\n",
    "predictors_scaled = scaler.fit_transform(predictors)\n",
    "\n",
    "print(predictors_scaled)"
   ]
  },
  {
   "cell_type": "markdown",
   "metadata": {},
   "source": [
    "Compute and store the PCA transformation of the scaled predictors using all principal components."
   ]
  },
  {
   "cell_type": "code",
   "execution_count": 77,
   "metadata": {},
   "outputs": [],
   "source": [
    "from sklearn.decomposition import PCA\n",
    "\n",
    "# predictors_scaled.shape[1] is number of components\n",
    "pca = PCA(n_components=predictors_scaled.shape[1]) \n",
    "\n",
    "Proj_predictors =  pca.fit_transform(predictors_scaled) # the PCA transformation of the scaled predictors using all principal components"
   ]
  },
  {
   "cell_type": "markdown",
   "metadata": {},
   "source": [
    "## 5.2\n",
    "How many PC's should be retained to account for 80% of the variance in the scaled predictors? Justify your answer."
   ]
  },
  {
   "cell_type": "code",
   "execution_count": null,
   "metadata": {},
   "outputs": [],
   "source": [
    "import numpy as np\n",
    "from sklearn.decomposition import PCA\n",
    "\n",
    "# YOUR CODE HERE\n"
   ]
  },
  {
   "cell_type": "markdown",
   "metadata": {},
   "source": [
    "### _Answer:_"
   ]
  }
 ],
 "metadata": {
  "kernelspec": {
   "display_name": "Python 3",
   "language": "python",
   "name": "python3"
  },
  "language_info": {
   "codemirror_mode": {
    "name": "ipython",
    "version": 3
   },
   "file_extension": ".py",
   "mimetype": "text/x-python",
   "name": "python",
   "nbconvert_exporter": "python",
   "pygments_lexer": "ipython3",
   "version": "3.8.5"
  },
  "varInspector": {
   "cols": {
    "lenName": 16,
    "lenType": 16,
    "lenVar": 40
   },
   "kernels_config": {
    "python": {
     "delete_cmd_postfix": "",
     "delete_cmd_prefix": "del ",
     "library": "var_list.py",
     "varRefreshCmd": "print(var_dic_list())"
    },
    "r": {
     "delete_cmd_postfix": ") ",
     "delete_cmd_prefix": "rm(",
     "library": "var_list.r",
     "varRefreshCmd": "cat(var_dic_list()) "
    }
   },
   "types_to_exclude": [
    "module",
    "function",
    "builtin_function_or_method",
    "instance",
    "_Feature"
   ],
   "window_display": false
  }
 },
 "nbformat": 4,
 "nbformat_minor": 5
}
