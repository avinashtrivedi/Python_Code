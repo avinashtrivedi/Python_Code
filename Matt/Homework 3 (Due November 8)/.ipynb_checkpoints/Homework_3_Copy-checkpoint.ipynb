{
 "cells": [
  {
   "cell_type": "markdown",
   "metadata": {},
   "source": [
    "# Homework 3 - Introduction to Data Science - Fall 2021"
   ]
  },
  {
   "cell_type": "markdown",
   "metadata": {},
   "source": [
    "# Guidelines\n",
    "- If asked to fit a model to given data, do not preprocess the given data before fitting. \n",
    "- Use default values for any parameters not mentioned in a problem statement.\n",
    "- Comment where appropriate for clarity."
   ]
  },
  {
   "cell_type": "markdown",
   "metadata": {},
   "source": [
    "# Problem 1"
   ]
  },
  {
   "cell_type": "markdown",
   "metadata": {},
   "source": [
    "We will apply decision trees to the `Titanic` dataset for prediction of passenger survival. The dataset contains the following variables:\n",
    "\n",
    "* `Pclass`: Ticket class where 1 = 1st, 2 = 2nd, 3 = 3rd\n",
    "* `Sex`: Female/male\n",
    "* `Embarked`: Port of Embarkation where C = Cherbourg, Q = Queenstown, S = Southampton\n",
    "* `SibSp`: Number of siblings\n",
    "* `Parch`: Number of parents\n",
    "* `Age`: Age in years\t\n",
    "* `Fare`: Passenger fare\t\n",
    "* `Survived`: 0 = No, 1 = Yes"
   ]
  },
  {
   "cell_type": "code",
   "execution_count": 1,
   "metadata": {
    "scrolled": true
   },
   "outputs": [
    {
     "data": {
      "text/html": [
       "<div>\n",
       "<style scoped>\n",
       "    .dataframe tbody tr th:only-of-type {\n",
       "        vertical-align: middle;\n",
       "    }\n",
       "\n",
       "    .dataframe tbody tr th {\n",
       "        vertical-align: top;\n",
       "    }\n",
       "\n",
       "    .dataframe thead th {\n",
       "        text-align: right;\n",
       "    }\n",
       "</style>\n",
       "<table border=\"1\" class=\"dataframe\">\n",
       "  <thead>\n",
       "    <tr style=\"text-align: right;\">\n",
       "      <th></th>\n",
       "      <th>Pclass</th>\n",
       "      <th>Sex</th>\n",
       "      <th>Embarked</th>\n",
       "      <th>SibSp</th>\n",
       "      <th>Parch</th>\n",
       "      <th>Age</th>\n",
       "      <th>Fare</th>\n",
       "      <th>Survived</th>\n",
       "    </tr>\n",
       "  </thead>\n",
       "  <tbody>\n",
       "    <tr>\n",
       "      <th>0</th>\n",
       "      <td>3</td>\n",
       "      <td>1</td>\n",
       "      <td>1</td>\n",
       "      <td>1</td>\n",
       "      <td>0</td>\n",
       "      <td>22.0</td>\n",
       "      <td>7.2500</td>\n",
       "      <td>0</td>\n",
       "    </tr>\n",
       "    <tr>\n",
       "      <th>1</th>\n",
       "      <td>1</td>\n",
       "      <td>0</td>\n",
       "      <td>2</td>\n",
       "      <td>1</td>\n",
       "      <td>0</td>\n",
       "      <td>38.0</td>\n",
       "      <td>71.2833</td>\n",
       "      <td>1</td>\n",
       "    </tr>\n",
       "    <tr>\n",
       "      <th>2</th>\n",
       "      <td>3</td>\n",
       "      <td>0</td>\n",
       "      <td>1</td>\n",
       "      <td>0</td>\n",
       "      <td>0</td>\n",
       "      <td>26.0</td>\n",
       "      <td>7.9250</td>\n",
       "      <td>1</td>\n",
       "    </tr>\n",
       "    <tr>\n",
       "      <th>3</th>\n",
       "      <td>1</td>\n",
       "      <td>0</td>\n",
       "      <td>1</td>\n",
       "      <td>1</td>\n",
       "      <td>0</td>\n",
       "      <td>35.0</td>\n",
       "      <td>53.1000</td>\n",
       "      <td>1</td>\n",
       "    </tr>\n",
       "    <tr>\n",
       "      <th>4</th>\n",
       "      <td>3</td>\n",
       "      <td>1</td>\n",
       "      <td>1</td>\n",
       "      <td>0</td>\n",
       "      <td>0</td>\n",
       "      <td>35.0</td>\n",
       "      <td>8.0500</td>\n",
       "      <td>0</td>\n",
       "    </tr>\n",
       "    <tr>\n",
       "      <th>...</th>\n",
       "      <td>...</td>\n",
       "      <td>...</td>\n",
       "      <td>...</td>\n",
       "      <td>...</td>\n",
       "      <td>...</td>\n",
       "      <td>...</td>\n",
       "      <td>...</td>\n",
       "      <td>...</td>\n",
       "    </tr>\n",
       "    <tr>\n",
       "      <th>886</th>\n",
       "      <td>2</td>\n",
       "      <td>1</td>\n",
       "      <td>1</td>\n",
       "      <td>0</td>\n",
       "      <td>0</td>\n",
       "      <td>27.0</td>\n",
       "      <td>13.0000</td>\n",
       "      <td>0</td>\n",
       "    </tr>\n",
       "    <tr>\n",
       "      <th>887</th>\n",
       "      <td>1</td>\n",
       "      <td>0</td>\n",
       "      <td>1</td>\n",
       "      <td>0</td>\n",
       "      <td>0</td>\n",
       "      <td>19.0</td>\n",
       "      <td>30.0000</td>\n",
       "      <td>1</td>\n",
       "    </tr>\n",
       "    <tr>\n",
       "      <th>888</th>\n",
       "      <td>3</td>\n",
       "      <td>0</td>\n",
       "      <td>1</td>\n",
       "      <td>1</td>\n",
       "      <td>2</td>\n",
       "      <td>28.0</td>\n",
       "      <td>23.4500</td>\n",
       "      <td>0</td>\n",
       "    </tr>\n",
       "    <tr>\n",
       "      <th>889</th>\n",
       "      <td>1</td>\n",
       "      <td>1</td>\n",
       "      <td>2</td>\n",
       "      <td>0</td>\n",
       "      <td>0</td>\n",
       "      <td>26.0</td>\n",
       "      <td>30.0000</td>\n",
       "      <td>1</td>\n",
       "    </tr>\n",
       "    <tr>\n",
       "      <th>890</th>\n",
       "      <td>3</td>\n",
       "      <td>1</td>\n",
       "      <td>3</td>\n",
       "      <td>0</td>\n",
       "      <td>0</td>\n",
       "      <td>32.0</td>\n",
       "      <td>7.7500</td>\n",
       "      <td>0</td>\n",
       "    </tr>\n",
       "  </tbody>\n",
       "</table>\n",
       "<p>891 rows × 8 columns</p>\n",
       "</div>"
      ],
      "text/plain": [
       "     Pclass  Sex  Embarked  SibSp  Parch   Age     Fare  Survived\n",
       "0         3    1         1      1      0  22.0   7.2500         0\n",
       "1         1    0         2      1      0  38.0  71.2833         1\n",
       "2         3    0         1      0      0  26.0   7.9250         1\n",
       "3         1    0         1      1      0  35.0  53.1000         1\n",
       "4         3    1         1      0      0  35.0   8.0500         0\n",
       "..      ...  ...       ...    ...    ...   ...      ...       ...\n",
       "886       2    1         1      0      0  27.0  13.0000         0\n",
       "887       1    0         1      0      0  19.0  30.0000         1\n",
       "888       3    0         1      1      2  28.0  23.4500         0\n",
       "889       1    1         2      0      0  26.0  30.0000         1\n",
       "890       3    1         3      0      0  32.0   7.7500         0\n",
       "\n",
       "[891 rows x 8 columns]"
      ]
     },
     "execution_count": 1,
     "metadata": {},
     "output_type": "execute_result"
    }
   ],
   "source": [
    "import pandas as pd\n",
    "\n",
    "titanic = pd.read_csv(\"titanic.csv\")\n",
    "\n",
    "# Select subset of columns.\n",
    "columns = ['Pclass', 'Sex','Embarked','SibSp', 'Parch','Age','Fare','Survived']\n",
    "titanic = titanic[columns]\n",
    "\n",
    "# Fill NA values.\n",
    "titanic['Embarked'].fillna(\"S\", inplace=True)\n",
    "med_age = int(titanic['Age'].median())\n",
    "titanic['Age'].fillna(med_age, inplace=True)\n",
    "\n",
    "# Encode classes as integers.\n",
    "titanic['Sex'] = titanic['Sex'].map( {'female': 0, 'male': 1} ).astype(int)\n",
    "titanic['Embarked'] = titanic['Embarked'].map( {'S': 1, 'C': 2, 'Q': 3} ).astype(int)\n",
    "\n",
    "# Print.\n",
    "titanic"
   ]
  },
  {
   "cell_type": "code",
   "execution_count": 2,
   "metadata": {},
   "outputs": [],
   "source": [
    "from sklearn.model_selection import train_test_split\n",
    "\n",
    "# Test/train split.\n",
    "X_titan = titanic.drop('Survived', axis = 1)\n",
    "y_titan = titanic[['Survived']]\n",
    "X_titan_train, X_titan_test, y_titan_train, y_titan_test = train_test_split(X_titan, y_titan, test_size=1/3, random_state=42)"
   ]
  },
  {
   "cell_type": "markdown",
   "metadata": {},
   "source": [
    "## 1.1\n",
    "For `max_depth` ranging from 1 to 50, fit decision tree classifiers using `random_state=42` and store the training and test accuracies in the given variables."
   ]
  },
  {
   "cell_type": "code",
   "execution_count": 3,
   "metadata": {},
   "outputs": [
    {
     "name": "stdout",
     "output_type": "stream",
     "text": [
      "Best prediction accuracy:  0.8215488215488216\n",
      "Depth:  3\n"
     ]
    },
    {
     "data": {
      "image/png": "[encoded data removed]",
      "text/plain": [
       "<Figure size 432x288 with 1 Axes>"
      ]
     },
     "metadata": {
      "needs_background": "light"
     },
     "output_type": "display_data"
    }
   ],
   "source": [
    "import numpy as np\n",
    "from sklearn import tree\n",
    "from sklearn.metrics import accuracy_score\n",
    "import matplotlib.pyplot as plt\n",
    "\n",
    "depth = np.arange(1,51,1)\n",
    "dtaccuracy_train = [] # List for storing training accuracies.\n",
    "dtaccuracy_test = [] # List for storing test accuracies.\n",
    "\n",
    "### YOUR CODE HERE:\n",
    "model = []\n",
    "# for max_depth from 1 to 15\n",
    "for i in depth:\n",
    "    \n",
    "    # build the model\n",
    "    classifier = tree.DecisionTreeClassifier(max_depth = i, random_state = 42)\n",
    "    \n",
    "    # fit the training set\n",
    "    classifier.fit(X_titan_train, y_titan_train)\n",
    "    \n",
    "    # save the classifier for future use\n",
    "    model.append(classifier)\n",
    "    # prediction on training and test set\n",
    "    y_train_pred = classifier.predict(X_titan_train)\n",
    "    y_test_pred = classifier.predict(X_titan_test)\n",
    "    \n",
    "    # compute the accuracy\n",
    "    y_train_acc = accuracy_score(y_titan_train, y_train_pred)\n",
    "    y_test_acc = accuracy_score(y_titan_test, y_test_pred)\n",
    "    \n",
    "    dtaccuracy_train.append(y_train_acc)\n",
    "    dtaccuracy_test.append(y_test_acc)\n",
    "\n",
    "print(\"Best prediction accuracy: \", max(dtaccuracy_test))\n",
    "print(\"Depth: \", depth[dtaccuracy_test.index(max(dtaccuracy_test))])\n",
    "\n",
    "plt.plot(depth, dtaccuracy_train, label = \"Training\")\n",
    "plt.plot(depth, dtaccuracy_test, label = \"Test\")\n",
    "plt.xlabel(\"Depth\")\n",
    "plt.ylabel(\"Accuracy\")\n",
    "plt.title(\"Accuracy vs. Depth\")\n",
    "plt.legend()\n",
    "plt.show()"
   ]
  },
  {
   "cell_type": "markdown",
   "metadata": {},
   "source": [
    "## 1.2\n",
    "What trends do you observe in the training and test accuracies as depth increases? Explain these trends."
   ]
  },
  {
   "cell_type": "markdown",
   "metadata": {},
   "source": [
    "### Answer: \n",
    "- The difference between training and test accuracy increases for the max_depth in the range of 1 to 20 after that this difference become constant for max_depth in the range of 21 to 50. The trend in increasing for training set and its decreasing for test set for  max_depth in the range of 1 to 20. After that the trend is constant for both the training and test accuracy\n"
   ]
  },
  {
   "cell_type": "markdown",
   "metadata": {},
   "source": [
    "## 1.3\n",
    "For the decision tree with the best test accuracy, print the three most important features."
   ]
  },
  {
   "cell_type": "code",
   "execution_count": 4,
   "metadata": {},
   "outputs": [
    {
     "name": "stdout",
     "output_type": "stream",
     "text": [
      "['Age', 'Fare', 'Pclass']\n"
     ]
    }
   ],
   "source": [
    "# get the best classifier\n",
    "best_classifier = model[dtaccuracy_test.index(max(dtaccuracy_test))]\n",
    "\n",
    "# Gini based feature importances, minimum value will have high importance\n",
    "importance = best_classifier.feature_importances_.argsort()\n",
    "features = X_titan.columns\n",
    "# three most important features\n",
    "most_imp_3 = [x for _,x in sorted(list(zip(importance,features)))][:3]\n",
    "print(most_imp_3)"
   ]
  },
  {
   "cell_type": "markdown",
   "metadata": {},
   "source": [
    "# Problem 2\n",
    "We continue to explore prediction on the `Titanic` dataset with random forests."
   ]
  },
  {
   "cell_type": "markdown",
   "metadata": {},
   "source": [
    "## 2.1\n",
    "For `n_estimators` ranging from 1 to 201 with step size 10, fit random forest classifiers using `random_state=42` and `max_depth=3`. Store the training and test accuracies in the given variables."
   ]
  },
  {
   "cell_type": "code",
   "execution_count": 5,
   "metadata": {},
   "outputs": [
    {
     "name": "stdout",
     "output_type": "stream",
     "text": [
      "Best prediction accuracy:  0.8282828282828283\n",
      "n_estimators:  101\n"
     ]
    },
    {
     "data": {
      "image/png": "[encoded data removed]",
      "text/plain": [
       "<Figure size 432x288 with 1 Axes>"
      ]
     },
     "metadata": {
      "needs_background": "light"
     },
     "output_type": "display_data"
    }
   ],
   "source": [
    "import numpy as np\n",
    "import matplotlib.pyplot as plt\n",
    "from sklearn.ensemble import RandomForestClassifier\n",
    "\n",
    "rf_arru_lst_test = [] # List for storing training accuracies.\n",
    "rf_arru_lst_train = [] # List for storing test accuracies.\n",
    "n_estimators_lst = np.arange(1,202,10)\n",
    "\n",
    "\n",
    "# YOUR CODE HERE:\n",
    "for i in n_estimators_lst:\n",
    "    classifier = RandomForestClassifier(n_estimators = i, random_state = 42,max_depth = 3)\n",
    "    \n",
    "    # fit the training set\n",
    "    classifier.fit(X_titan_train, np.ravel(y_titan_train))\n",
    "    \n",
    "    # prediction on training and test set\n",
    "    y_train_pred = classifier.predict(X_titan_train)\n",
    "    y_test_pred = classifier.predict(X_titan_test)\n",
    "    \n",
    "    # compute the accuracy\n",
    "    y_train_acc = accuracy_score(y_titan_train, y_train_pred)\n",
    "    y_test_acc = accuracy_score(y_titan_test, y_test_pred)\n",
    "    \n",
    "    rf_arru_lst_train.append(y_train_acc)\n",
    "    rf_arru_lst_test.append(y_test_acc)\n",
    "\n",
    "# print \"Best prediction accuracy\" and corresponding \"n_estimators\"\n",
    "# YOUR CODE HERE:\n",
    "print(\"Best prediction accuracy: \", max(rf_arru_lst_test))\n",
    "print(\"n_estimators: \", n_estimators_lst[rf_arru_lst_test.index(max(rf_arru_lst_test))])\n",
    "\n",
    "\n",
    "# plot the accuracies\n",
    "plt.plot(n_estimators_lst, rf_arru_lst_test, label = \"Test\")\n",
    "plt.plot(n_estimators_lst, rf_arru_lst_train, label = \"Train\")\n",
    "plt.xlabel('n_estimators')\n",
    "plt.ylabel('Accuracy')\n",
    "plt.title('n_estimators vs. Accuracy')\n",
    "plt.legend()\n",
    "plt.show()"
   ]
  },
  {
   "cell_type": "markdown",
   "metadata": {},
   "source": [
    "## 2.2\n",
    "What trends do you observe in the training and test accuracies as `n_estimators` increases? Explain these trends."
   ]
  },
  {
   "cell_type": "markdown",
   "metadata": {},
   "source": [
    "### Answer:\n",
    "- Initially as n_estimators increases The trend is increasing for both training and test accuracies, later it becomes decreasing and finally it is almost constant for remaining values of n_estimators."
   ]
  },
  {
   "cell_type": "markdown",
   "metadata": {},
   "source": [
    "## 2.3\n",
    "`GridSearchCV` is a class to assist in finding the best parameters for a model. Read about `GridSearchCV` here:\n",
    "\n",
    "https://scikit-learn.org/stable/modules/generated/sklearn.model_selection.GridSearchCV.html\n",
    "\n",
    "To use `GridSearchCV`, follow these steps:\n",
    "* Create your model object.\n",
    "* Create a dictionary with the model parameters and ranges over which you want to optimize.\n",
    "* Create a `GridSearchCV` object and fit it on your training data.\n",
    "* Access the attributes of the `GridSearchCV` object to find the optimal parameters and scores.\n",
    "\n",
    "For a Random Forest model with `random_state=42`, use `GridSearchCV` with 10-fold CV to determine the best combination of the following parameters:\n",
    "* `max_depth` ranging from 1 to 10\n",
    "* `n_estimators` ranging from 1 to 10\n",
    "\n",
    "Print the best parameters and corresponding score."
   ]
  },
  {
   "cell_type": "code",
   "execution_count": 6,
   "metadata": {},
   "outputs": [
    {
     "name": "stdout",
     "output_type": "stream",
     "text": [
      "{'max_depth': 9, 'n_estimators': 10}\n"
     ]
    }
   ],
   "source": [
    "from sklearn.model_selection import GridSearchCV\n",
    "\n",
    "# create the default model\n",
    "# YOUR CODE HERE:\n",
    "rfc=RandomForestClassifier(random_state=42)\n",
    "\n",
    "# Grid of parameters over which to optimize.\n",
    "# YOUR CODE HERE:\n",
    "param_grid = { \n",
    "    'n_estimators': [1,2,3,4,5,6,7,8,9,10],\n",
    "    'max_depth' : [1,2,3,4,5,6,7,8,9,10]\n",
    "}\n",
    "\n",
    "# search the grid\n",
    "# YOUR CODE HERE:\n",
    "CV_rfc = GridSearchCV(estimator=rfc, param_grid=param_grid, cv= 10)\n",
    "CV_rfc.fit(X_titan_train, np.ravel(y_titan_train))\n",
    "\n",
    "# Print the \"Best parameters\" and its \"Score\"\n",
    "# YOUR CODE HERE:\n",
    "print(CV_rfc.best_params_)"
   ]
  },
  {
   "cell_type": "markdown",
   "metadata": {},
   "source": [
    "# Problem 3"
   ]
  },
  {
   "cell_type": "markdown",
   "metadata": {},
   "source": [
    "We will apply logistic regression to the problem of classifying images of fashion articles in the [Fashion-MNIST dataset](https://github.com/zalandoresearch/fashion-mnist)."
   ]
  },
  {
   "cell_type": "code",
   "execution_count": 7,
   "metadata": {},
   "outputs": [
    {
     "data": {
      "text/html": [
       "<div>\n",
       "<style scoped>\n",
       "    .dataframe tbody tr th:only-of-type {\n",
       "        vertical-align: middle;\n",
       "    }\n",
       "\n",
       "    .dataframe tbody tr th {\n",
       "        vertical-align: top;\n",
       "    }\n",
       "\n",
       "    .dataframe thead th {\n",
       "        text-align: right;\n",
       "    }\n",
       "</style>\n",
       "<table border=\"1\" class=\"dataframe\">\n",
       "  <thead>\n",
       "    <tr style=\"text-align: right;\">\n",
       "      <th></th>\n",
       "      <th>label</th>\n",
       "      <th>pixel1</th>\n",
       "      <th>pixel2</th>\n",
       "      <th>pixel3</th>\n",
       "      <th>pixel4</th>\n",
       "      <th>pixel5</th>\n",
       "      <th>pixel6</th>\n",
       "      <th>pixel7</th>\n",
       "      <th>pixel8</th>\n",
       "      <th>pixel9</th>\n",
       "      <th>...</th>\n",
       "      <th>pixel775</th>\n",
       "      <th>pixel776</th>\n",
       "      <th>pixel777</th>\n",
       "      <th>pixel778</th>\n",
       "      <th>pixel779</th>\n",
       "      <th>pixel780</th>\n",
       "      <th>pixel781</th>\n",
       "      <th>pixel782</th>\n",
       "      <th>pixel783</th>\n",
       "      <th>pixel784</th>\n",
       "    </tr>\n",
       "  </thead>\n",
       "  <tbody>\n",
       "    <tr>\n",
       "      <th>0</th>\n",
       "      <td>Pullover</td>\n",
       "      <td>0</td>\n",
       "      <td>0</td>\n",
       "      <td>0</td>\n",
       "      <td>0</td>\n",
       "      <td>0</td>\n",
       "      <td>0</td>\n",
       "      <td>0</td>\n",
       "      <td>0</td>\n",
       "      <td>0</td>\n",
       "      <td>...</td>\n",
       "      <td>0</td>\n",
       "      <td>0</td>\n",
       "      <td>0</td>\n",
       "      <td>0</td>\n",
       "      <td>0</td>\n",
       "      <td>0</td>\n",
       "      <td>0</td>\n",
       "      <td>0</td>\n",
       "      <td>0</td>\n",
       "      <td>0</td>\n",
       "    </tr>\n",
       "    <tr>\n",
       "      <th>1</th>\n",
       "      <td>Ankle boot</td>\n",
       "      <td>0</td>\n",
       "      <td>0</td>\n",
       "      <td>0</td>\n",
       "      <td>0</td>\n",
       "      <td>0</td>\n",
       "      <td>0</td>\n",
       "      <td>0</td>\n",
       "      <td>0</td>\n",
       "      <td>0</td>\n",
       "      <td>...</td>\n",
       "      <td>0</td>\n",
       "      <td>0</td>\n",
       "      <td>0</td>\n",
       "      <td>0</td>\n",
       "      <td>0</td>\n",
       "      <td>0</td>\n",
       "      <td>0</td>\n",
       "      <td>0</td>\n",
       "      <td>0</td>\n",
       "      <td>0</td>\n",
       "    </tr>\n",
       "    <tr>\n",
       "      <th>2</th>\n",
       "      <td>Shirt</td>\n",
       "      <td>0</td>\n",
       "      <td>0</td>\n",
       "      <td>0</td>\n",
       "      <td>0</td>\n",
       "      <td>0</td>\n",
       "      <td>0</td>\n",
       "      <td>0</td>\n",
       "      <td>5</td>\n",
       "      <td>0</td>\n",
       "      <td>...</td>\n",
       "      <td>0</td>\n",
       "      <td>0</td>\n",
       "      <td>0</td>\n",
       "      <td>30</td>\n",
       "      <td>43</td>\n",
       "      <td>0</td>\n",
       "      <td>0</td>\n",
       "      <td>0</td>\n",
       "      <td>0</td>\n",
       "      <td>0</td>\n",
       "    </tr>\n",
       "    <tr>\n",
       "      <th>3</th>\n",
       "      <td>T-shirt/top</td>\n",
       "      <td>0</td>\n",
       "      <td>0</td>\n",
       "      <td>0</td>\n",
       "      <td>1</td>\n",
       "      <td>2</td>\n",
       "      <td>0</td>\n",
       "      <td>0</td>\n",
       "      <td>0</td>\n",
       "      <td>0</td>\n",
       "      <td>...</td>\n",
       "      <td>3</td>\n",
       "      <td>0</td>\n",
       "      <td>0</td>\n",
       "      <td>0</td>\n",
       "      <td>0</td>\n",
       "      <td>1</td>\n",
       "      <td>0</td>\n",
       "      <td>0</td>\n",
       "      <td>0</td>\n",
       "      <td>0</td>\n",
       "    </tr>\n",
       "    <tr>\n",
       "      <th>4</th>\n",
       "      <td>Dress</td>\n",
       "      <td>0</td>\n",
       "      <td>0</td>\n",
       "      <td>0</td>\n",
       "      <td>0</td>\n",
       "      <td>0</td>\n",
       "      <td>0</td>\n",
       "      <td>0</td>\n",
       "      <td>0</td>\n",
       "      <td>0</td>\n",
       "      <td>...</td>\n",
       "      <td>0</td>\n",
       "      <td>0</td>\n",
       "      <td>0</td>\n",
       "      <td>0</td>\n",
       "      <td>0</td>\n",
       "      <td>0</td>\n",
       "      <td>0</td>\n",
       "      <td>0</td>\n",
       "      <td>0</td>\n",
       "      <td>0</td>\n",
       "    </tr>\n",
       "    <tr>\n",
       "      <th>...</th>\n",
       "      <td>...</td>\n",
       "      <td>...</td>\n",
       "      <td>...</td>\n",
       "      <td>...</td>\n",
       "      <td>...</td>\n",
       "      <td>...</td>\n",
       "      <td>...</td>\n",
       "      <td>...</td>\n",
       "      <td>...</td>\n",
       "      <td>...</td>\n",
       "      <td>...</td>\n",
       "      <td>...</td>\n",
       "      <td>...</td>\n",
       "      <td>...</td>\n",
       "      <td>...</td>\n",
       "      <td>...</td>\n",
       "      <td>...</td>\n",
       "      <td>...</td>\n",
       "      <td>...</td>\n",
       "      <td>...</td>\n",
       "      <td>...</td>\n",
       "    </tr>\n",
       "    <tr>\n",
       "      <th>995</th>\n",
       "      <td>Bag</td>\n",
       "      <td>0</td>\n",
       "      <td>0</td>\n",
       "      <td>0</td>\n",
       "      <td>0</td>\n",
       "      <td>0</td>\n",
       "      <td>0</td>\n",
       "      <td>0</td>\n",
       "      <td>0</td>\n",
       "      <td>0</td>\n",
       "      <td>...</td>\n",
       "      <td>0</td>\n",
       "      <td>0</td>\n",
       "      <td>0</td>\n",
       "      <td>0</td>\n",
       "      <td>0</td>\n",
       "      <td>0</td>\n",
       "      <td>0</td>\n",
       "      <td>0</td>\n",
       "      <td>0</td>\n",
       "      <td>0</td>\n",
       "    </tr>\n",
       "    <tr>\n",
       "      <th>996</th>\n",
       "      <td>Trouser</td>\n",
       "      <td>0</td>\n",
       "      <td>0</td>\n",
       "      <td>0</td>\n",
       "      <td>0</td>\n",
       "      <td>0</td>\n",
       "      <td>0</td>\n",
       "      <td>0</td>\n",
       "      <td>0</td>\n",
       "      <td>0</td>\n",
       "      <td>...</td>\n",
       "      <td>164</td>\n",
       "      <td>0</td>\n",
       "      <td>0</td>\n",
       "      <td>0</td>\n",
       "      <td>0</td>\n",
       "      <td>0</td>\n",
       "      <td>0</td>\n",
       "      <td>0</td>\n",
       "      <td>0</td>\n",
       "      <td>0</td>\n",
       "    </tr>\n",
       "    <tr>\n",
       "      <th>997</th>\n",
       "      <td>Coat</td>\n",
       "      <td>0</td>\n",
       "      <td>0</td>\n",
       "      <td>0</td>\n",
       "      <td>0</td>\n",
       "      <td>0</td>\n",
       "      <td>0</td>\n",
       "      <td>0</td>\n",
       "      <td>0</td>\n",
       "      <td>1</td>\n",
       "      <td>...</td>\n",
       "      <td>0</td>\n",
       "      <td>0</td>\n",
       "      <td>0</td>\n",
       "      <td>0</td>\n",
       "      <td>170</td>\n",
       "      <td>193</td>\n",
       "      <td>11</td>\n",
       "      <td>0</td>\n",
       "      <td>0</td>\n",
       "      <td>0</td>\n",
       "    </tr>\n",
       "    <tr>\n",
       "      <th>998</th>\n",
       "      <td>Sneaker</td>\n",
       "      <td>0</td>\n",
       "      <td>0</td>\n",
       "      <td>0</td>\n",
       "      <td>0</td>\n",
       "      <td>0</td>\n",
       "      <td>0</td>\n",
       "      <td>0</td>\n",
       "      <td>0</td>\n",
       "      <td>0</td>\n",
       "      <td>...</td>\n",
       "      <td>0</td>\n",
       "      <td>0</td>\n",
       "      <td>0</td>\n",
       "      <td>0</td>\n",
       "      <td>0</td>\n",
       "      <td>0</td>\n",
       "      <td>0</td>\n",
       "      <td>0</td>\n",
       "      <td>0</td>\n",
       "      <td>0</td>\n",
       "    </tr>\n",
       "    <tr>\n",
       "      <th>999</th>\n",
       "      <td>Trouser</td>\n",
       "      <td>0</td>\n",
       "      <td>0</td>\n",
       "      <td>0</td>\n",
       "      <td>0</td>\n",
       "      <td>0</td>\n",
       "      <td>0</td>\n",
       "      <td>0</td>\n",
       "      <td>0</td>\n",
       "      <td>0</td>\n",
       "      <td>...</td>\n",
       "      <td>138</td>\n",
       "      <td>0</td>\n",
       "      <td>0</td>\n",
       "      <td>0</td>\n",
       "      <td>0</td>\n",
       "      <td>0</td>\n",
       "      <td>0</td>\n",
       "      <td>0</td>\n",
       "      <td>0</td>\n",
       "      <td>0</td>\n",
       "    </tr>\n",
       "  </tbody>\n",
       "</table>\n",
       "<p>1000 rows × 785 columns</p>\n",
       "</div>"
      ],
      "text/plain": [
       "           label  pixel1  pixel2  pixel3  pixel4  pixel5  pixel6  pixel7  \\\n",
       "0       Pullover       0       0       0       0       0       0       0   \n",
       "1     Ankle boot       0       0       0       0       0       0       0   \n",
       "2          Shirt       0       0       0       0       0       0       0   \n",
       "3    T-shirt/top       0       0       0       1       2       0       0   \n",
       "4          Dress       0       0       0       0       0       0       0   \n",
       "..           ...     ...     ...     ...     ...     ...     ...     ...   \n",
       "995          Bag       0       0       0       0       0       0       0   \n",
       "996      Trouser       0       0       0       0       0       0       0   \n",
       "997         Coat       0       0       0       0       0       0       0   \n",
       "998      Sneaker       0       0       0       0       0       0       0   \n",
       "999      Trouser       0       0       0       0       0       0       0   \n",
       "\n",
       "     pixel8  pixel9  ...  pixel775  pixel776  pixel777  pixel778  pixel779  \\\n",
       "0         0       0  ...         0         0         0         0         0   \n",
       "1         0       0  ...         0         0         0         0         0   \n",
       "2         5       0  ...         0         0         0        30        43   \n",
       "3         0       0  ...         3         0         0         0         0   \n",
       "4         0       0  ...         0         0         0         0         0   \n",
       "..      ...     ...  ...       ...       ...       ...       ...       ...   \n",
       "995       0       0  ...         0         0         0         0         0   \n",
       "996       0       0  ...       164         0         0         0         0   \n",
       "997       0       1  ...         0         0         0         0       170   \n",
       "998       0       0  ...         0         0         0         0         0   \n",
       "999       0       0  ...       138         0         0         0         0   \n",
       "\n",
       "     pixel780  pixel781  pixel782  pixel783  pixel784  \n",
       "0           0         0         0         0         0  \n",
       "1           0         0         0         0         0  \n",
       "2           0         0         0         0         0  \n",
       "3           1         0         0         0         0  \n",
       "4           0         0         0         0         0  \n",
       "..        ...       ...       ...       ...       ...  \n",
       "995         0         0         0         0         0  \n",
       "996         0         0         0         0         0  \n",
       "997       193        11         0         0         0  \n",
       "998         0         0         0         0         0  \n",
       "999         0         0         0         0         0  \n",
       "\n",
       "[1000 rows x 785 columns]"
      ]
     },
     "metadata": {},
     "output_type": "display_data"
    }
   ],
   "source": [
    "import numpy as np\n",
    "import pandas as pd\n",
    "\n",
    "fash = pd.read_csv(\"fash.csv\")\n",
    "labels = [\n",
    "    \"T-shirt/top\",\n",
    "    \"Trouser\",\n",
    "    \"Pullover\",\n",
    "    \"Dress\",\n",
    "    \"Coat\",\n",
    "    \"Sandal\",\n",
    "    \"Shirt\",\n",
    "    \"Sneaker\",\n",
    "    \"Bag\",\n",
    "    \"Ankle boot\"]\n",
    "fash['label'].replace(to_replace=np.arange(0,10), value=labels, inplace=True)\n",
    "\n",
    "X_fash = fash.iloc[:, 1:]\n",
    "y_fash = fash.iloc[:, 0]\n",
    "\n",
    "display(fash)"
   ]
  },
  {
   "cell_type": "markdown",
   "metadata": {},
   "source": [
    "## 3.1\n",
    "Fit a logistic regression model for image classification to the data with `penalty=\"none\"`. Print the first three images using [`matplotlib.pyplot.imshow`](https://matplotlib.org/stable/api/_as_gen/matplotlib.pyplot.imshow.html) along with your model classifications and the predicted probabilities of each class."
   ]
  },
  {
   "cell_type": "code",
   "execution_count": 8,
   "metadata": {},
   "outputs": [
    {
     "name": "stdout",
     "output_type": "stream",
     "text": [
      "Image-1\n",
      "-------------------------------\n",
      "model classifications: Pullover\n",
      "model Probability: 1.0\n"
     ]
    },
    {
     "data": {
      "image/png": "[encoded data removed]",
      "text/plain": [
       "<Figure size 432x288 with 1 Axes>"
      ]
     },
     "metadata": {
      "needs_background": "light"
     },
     "output_type": "display_data"
    },
    {
     "name": "stdout",
     "output_type": "stream",
     "text": [
      "Image-2\n",
      "-------------------------------\n",
      "model classifications: Ankle boot\n",
      "model Probability: 1.0\n"
     ]
    },
    {
     "data": {
      "image/png": "[encoded data removed]",
      "text/plain": [
       "<Figure size 432x288 with 1 Axes>"
      ]
     },
     "metadata": {
      "needs_background": "light"
     },
     "output_type": "display_data"
    },
    {
     "name": "stdout",
     "output_type": "stream",
     "text": [
      "Image-3\n",
      "-------------------------------\n",
      "model classifications: Shirt\n",
      "model Probability: 1.0\n"
     ]
    },
    {
     "data": {
      "image/png": "[encoded data removed]",
      "text/plain": [
       "<Figure size 432x288 with 1 Axes>"
      ]
     },
     "metadata": {
      "needs_background": "light"
     },
     "output_type": "display_data"
    }
   ],
   "source": [
    "from sklearn.linear_model import LogisticRegression\n",
    "import matplotlib.pyplot as plt\n",
    "\n",
    "# YOUR CODE HERE:\n",
    "\n",
    "# create a fresh copy\n",
    "new_fash = fash.copy()\n",
    "\n",
    "# replace the label with numeric values.\n",
    "new_fash['label'] = new_fash['label'].replace(labels,np.arange(0,10))\n",
    "\n",
    "X_new_fash = new_fash.iloc[:, 1:]\n",
    "y_new_fash = new_fash.iloc[:, 0]\n",
    "\n",
    "# build the model\n",
    "lr = LogisticRegression(penalty='none')\n",
    "lr.fit(X_new_fash,y_new_fash)\n",
    "y_pred = lr.predict(X_new_fash)\n",
    "\n",
    "# get the Probability estimates\n",
    "prob = lr.predict_proba(X_new_fash)\n",
    "\n",
    "for i in range(3):\n",
    "    print('Image-{}'.format(i+1))\n",
    "    print('-------------------------------')\n",
    "    f = X_new_fash.loc[i].values\n",
    "    print('model classifications:',labels[y_pred[i]])\n",
    "    print('model Probability:',prob[i][prob[i].argmax()])\n",
    "    plt.imshow(f.reshape(28,28))\n",
    "    plt.show()"
   ]
  },
  {
   "cell_type": "markdown",
   "metadata": {},
   "source": [
    "## 3.2\n",
    "In the previous part we used no penalty term. Now we will explore L2 penalization. Answer the following questions in the context of logistic regression:\n",
    "1. What is L2 penalization?\n",
    "2. What main benefit does it have and how does it achieve that?"
   ]
  },
  {
   "cell_type": "markdown",
   "metadata": {},
   "source": [
    "### Answer:\n",
    "- Regularization is the technique to penalize complex models in machine learning, it is used to reduce over fitting and L2 penalization is one such technique.\n",
    "\n",
    "- L2 penalization is called Ridge Regression, which adds \"squared magnitude\" of coefficient as penalty term to the loss function to reduce overfitting."
   ]
  },
  {
   "cell_type": "markdown",
   "metadata": {},
   "source": [
    "## 3.3\n",
    "Fit logistic regression models to the data using L2 regularization and the given values of `C`. Determine the optimal value of the inverse regularization strength parameter $C$ by performing 5-fold cross-validation. Plot the averaged `accuracy_score` associated with the each model against $\\log(C)$."
   ]
  },
  {
   "cell_type": "code",
   "execution_count": 9,
   "metadata": {
    "scrolled": true
   },
   "outputs": [
    {
     "name": "stdout",
     "output_type": "stream",
     "text": [
      "Optimal C: 0.01\n"
     ]
    },
    {
     "data": {
      "image/png": "[encoded data removed]",
      "text/plain": [
       "<Figure size 432x288 with 1 Axes>"
      ]
     },
     "metadata": {
      "needs_background": "light"
     },
     "output_type": "display_data"
    }
   ],
   "source": [
    "from numpy.linalg import norm\n",
    "from sklearn.model_selection import cross_val_score\n",
    "import warnings\n",
    "warnings.filterwarnings(\"ignore\")\n",
    "\n",
    "C = [1e-3, 1e-2, 1e-1, 1e0, 1e1, 1e2, 1e3]\n",
    "cv_scores = [0]*7 # List for storing the averaged accuracies.\n",
    "\n",
    "# YOUR CODE HERE:\n",
    "\n",
    "# iterate through C and build LogisticRegression model\n",
    "for indx,i in enumerate(C):\n",
    "    lr = LogisticRegression(penalty='l2',C=i)\n",
    "    lr.fit(X_new_fash,y_new_fash)\n",
    "    scores = cross_val_score(lr, X_new_fash,y_new_fash, cv=5, scoring='accuracy')\n",
    "    cv_scores[indx] = scores.mean()\n",
    "\n",
    "\n",
    "# Print the \"Optimal C\"\n",
    "# YOUR CODE HERE:\n",
    "print(\"Optimal C:\",C[cv_scores.index(max(cv_scores))])\n",
    "\n",
    "\n",
    "plt.plot(np.log(C), cv_scores)\n",
    "plt.xlabel(\"log(C)\")\n",
    "plt.ylabel(\"Averaged Accuracy\")\n",
    "plt.title(\"L2 Regularization\")\n",
    "plt.show()"
   ]
  },
  {
   "cell_type": "markdown",
   "metadata": {},
   "source": [
    "## 3.4\n",
    "Perform a random 80/20 split into training and test data set and use the optimal `C` of Problem 3.3 to train a logistic regression model. Plot the confusion matrix of the test set."
   ]
  },
  {
   "cell_type": "code",
   "execution_count": 10,
   "metadata": {},
   "outputs": [
    {
     "data": {
      "image/png": "[encoded data removed]",
      "text/plain": [
       "<Figure size 720x720 with 2 Axes>"
      ]
     },
     "metadata": {
      "needs_background": "light"
     },
     "output_type": "display_data"
    }
   ],
   "source": [
    "from sklearn.model_selection import train_test_split\n",
    "from sklearn.metrics import plot_confusion_matrix\n",
    "\n",
    "# YOUR CODE HERE:\n",
    "X_train, X_test, y_train, y_test = train_test_split(X_new_fash,y_new_fash, test_size=0.2,random_state=42)\n",
    "lr = LogisticRegression(C=0.01,random_state=42)\n",
    "lr.fit(X_train,y_train)\n",
    "fig, ax = plt.subplots(figsize=(10, 10))\n",
    "plot_confusion_matrix(lr, X_test, y_test,normalize='true',ax=ax,display_labels=labels)\n",
    "plt.show()"
   ]
  },
  {
   "cell_type": "markdown",
   "metadata": {},
   "source": [
    "## 3.5\n",
    "For this model, which is the class label with the lowest classification accuracy in the test set?"
   ]
  },
  {
   "cell_type": "markdown",
   "metadata": {},
   "source": [
    "### Answer:\n",
    "- As we can see in the confusion matrix, the class label for the lowest classification accuracy(i.e 0.45) in the test set is 'Shirt' "
   ]
  },
  {
   "cell_type": "markdown",
   "metadata": {},
   "source": [
    "# Problem 4"
   ]
  },
  {
   "cell_type": "markdown",
   "metadata": {},
   "source": [
    "We explore classification using support vector machines (SVM) on the [`wine`](https://scikit-learn.org/stable/datasets/toy_dataset.html#wine-dataset) dataset. Wines are divided into class 0 and class 1."
   ]
  },
  {
   "cell_type": "code",
   "execution_count": 11,
   "metadata": {},
   "outputs": [
    {
     "name": "stdout",
     "output_type": "stream",
     "text": [
      "     color_intensity   hue\n",
      "0               5.64  1.04\n",
      "1               4.38  1.05\n",
      "2               5.68  1.03\n",
      "3               7.80  0.86\n",
      "4               4.32  1.04\n",
      "..               ...   ...\n",
      "173             7.70  0.64\n",
      "174             7.30  0.70\n",
      "175            10.20  0.59\n",
      "176             9.30  0.60\n",
      "177             9.20  0.61\n",
      "\n",
      "[178 rows x 2 columns]\n",
      "0      1\n",
      "1      1\n",
      "2      1\n",
      "3      1\n",
      "4      1\n",
      "      ..\n",
      "173    0\n",
      "174    0\n",
      "175    0\n",
      "176    0\n",
      "177    0\n",
      "Name: target, Length: 178, dtype: int32\n"
     ]
    },
    {
     "data": {
      "image/png": "[encoded data removed]",
      "text/plain": [
       "<Figure size 576x432 with 1 Axes>"
      ]
     },
     "metadata": {
      "needs_background": "light"
     },
     "output_type": "display_data"
    }
   ],
   "source": [
    "from sklearn import datasets\n",
    "from sklearn.preprocessing import StandardScaler\n",
    "import numpy as np\n",
    "import matplotlib.pyplot as plt\n",
    "\n",
    "X_wine = datasets.load_wine(as_frame = True).data[['color_intensity', 'hue']]\n",
    "y_wine = (datasets.load_wine(as_frame = True).target == 0)*1\n",
    "\n",
    "print(X_wine)\n",
    "print(y_wine)\n",
    "\n",
    "# Scale X_wine.\n",
    "scaler = StandardScaler()\n",
    "X_wine = scaler.fit_transform(X=X_wine)\n",
    "\n",
    "fig, ax = plt.subplots(figsize=(8,6));\n",
    "scatter = ax.scatter(X_wine[:,0], X_wine[:,1],c=y_wine)\n",
    "ax.legend(handles=scatter.legend_elements()[0],labels=['0','1'], fontsize=16);\n",
    "ax.set_xlabel(\"Color Intensity (Scaled)\")\n",
    "ax.set_ylabel(\"Hue (Scaled)\")\n",
    "ax.set_title(\"Wine\");"
   ]
  },
  {
   "cell_type": "markdown",
   "metadata": {},
   "source": [
    "## 4.1\n",
    "Fit an SVM model with a linear kernel to the whole dataset and print the accuracy on the whole dataset."
   ]
  },
  {
   "cell_type": "code",
   "execution_count": 12,
   "metadata": {},
   "outputs": [
    {
     "name": "stdout",
     "output_type": "stream",
     "text": [
      "0.8820224719101124\n"
     ]
    }
   ],
   "source": [
    "from sklearn.metrics import accuracy_score\n",
    "from sklearn import svm\n",
    "\n",
    "# YOUR CODE HERE:\n",
    "SVM_classifier = svm.SVC()\n",
    "SVM_classifier.fit(X_wine, y_wine)\n",
    "# Prediction on Test set\n",
    "y_pred = SVM_classifier.predict(X_wine)\n",
    "acc = accuracy_score(y_wine,y_pred)\n",
    "print(acc)"
   ]
  },
  {
   "cell_type": "markdown",
   "metadata": {},
   "source": [
    "## 4.2\n",
    "Describe qualitatively why SVM with linear kernel has limited accuracy for this dataset."
   ]
  },
  {
   "cell_type": "markdown",
   "metadata": {},
   "source": [
    "### Answer:\n",
    "- Since SVM with linear kernal is fit only for linearly separable data but the given dataset contains non linearly separable data. Hence accuracy is less"
   ]
  },
  {
   "cell_type": "markdown",
   "metadata": {},
   "source": [
    "## 4.3\n",
    "Perform 10-fold CV with the following two SVM models:\n",
    "- One using an RBF kernel with C=1.\n",
    "- One using an RBF kernel with C=1e4.\n",
    "\n",
    "Print the mean 10-fold CV accuracies of the models."
   ]
  },
  {
   "cell_type": "code",
   "execution_count": 13,
   "metadata": {},
   "outputs": [
    {
     "name": "stdout",
     "output_type": "stream",
     "text": [
      "C=1 Mean Accuracy: 0.8549019607843137\n",
      "C=1e4 Mean Accuracy: 0.8379084967320262\n"
     ]
    }
   ],
   "source": [
    "from sklearn.metrics import accuracy_score\n",
    "from sklearn import svm\n",
    "from sklearn.model_selection import cross_val_score\n",
    "\n",
    "# YOUR CODE HERE:\n",
    "svc1 = svm.SVC(C=1,kernel='rbf')\n",
    "svc2 = svm.SVC(C=1e4,kernel='rbf')\n",
    "scores1 = cross_val_score(svc1, X_wine, y_wine, cv=10, scoring='accuracy')\n",
    "scores2 = cross_val_score(svc2, X_wine, y_wine, cv=10, scoring='accuracy')\n",
    "\n",
    "\n",
    "# Print the 'C=1 Mean Accuracy' and the 'C=1e4 Mean Accuracy'\n",
    "# YOUR CODE HERE:\n",
    "print('C=1 Mean Accuracy:',scores1.mean())\n",
    "print('C=1e4 Mean Accuracy:',scores2.mean())"
   ]
  },
  {
   "cell_type": "markdown",
   "metadata": {},
   "source": [
    "## 4.4\n",
    "For each of the two models, create a plot showing:\n",
    "- The decision boundaries and margins, and\n",
    "- the support vectors (highlighted)."
   ]
  },
  {
   "cell_type": "code",
   "execution_count": 14,
   "metadata": {},
   "outputs": [
    {
     "data": {
      "image/png": "[encoded data removed]",
      "text/plain": [
       "<Figure size 432x288 with 1 Axes>"
      ]
     },
     "metadata": {
      "needs_background": "light"
     },
     "output_type": "display_data"
    },
    {
     "data": {
      "image/png": "[encoded data removed]",
      "text/plain": [
       "<Figure size 432x288 with 1 Axes>"
      ]
     },
     "metadata": {
      "needs_background": "light"
     },
     "output_type": "display_data"
    }
   ],
   "source": [
    "import numpy as np\n",
    "import matplotlib.pyplot as plt\n",
    "\n",
    "# Create grid to evaluate model\n",
    "X = X_wine\n",
    "y = y_wine\n",
    "\n",
    "x1_min, x1_max = X[:, 0].min() - 1, X[:, 0].max() + 1\n",
    "x2_min, x2_max = X[:, 1].min() - 1, X[:, 1].max() + 1\n",
    "xx1, xx2 = np.meshgrid(np.arange(x1_min, x1_max,0.02),\n",
    "                       np.arange(x2_min, x2_max,0.02))\n",
    "\n",
    "# Fit the model with C=1.\n",
    "svc1.fit(X_wine, y_wine)\n",
    "\n",
    "# Plot decision boundary and margins\n",
    "Z = svc1.predict(np.array([xx1.ravel(), xx2.ravel()]).T)\n",
    "Z = Z.reshape(xx1.shape)\n",
    "\n",
    "plt.contourf(xx1, xx2, Z,alpha=0.4)\n",
    "plt.xlim(xx1.min(), xx1.max())\n",
    "plt.ylim(xx2.min(), xx2.max())\n",
    "plt.scatter(X_wine[:,0], X_wine[:,1],c=y)\n",
    "plt.title('model with C=1')\n",
    "plt.show()\n",
    "# Fit the model with C=1e4.\n",
    "svc2.fit(X_wine, y_wine)\n",
    "\n",
    "\n",
    "# Plot decision boundary and margins\n",
    "Z = svc2.predict(np.array([xx1.ravel(), xx2.ravel()]).T)\n",
    "Z = Z.reshape(xx1.shape)\n",
    "\n",
    "plt.contourf(xx1, xx2, Z,alpha=0.4)\n",
    "plt.xlim(xx1.min(), xx1.max())\n",
    "plt.ylim(xx2.min(), xx2.max())\n",
    "plt.scatter(X_wine[:,0], X_wine[:,1],c=y)\n",
    "plt.title('model with C=1e4')\n",
    "plt.show()"
   ]
  },
  {
   "cell_type": "code",
   "execution_count": null,
   "metadata": {},
   "outputs": [],
   "source": []
  }
 ],
 "metadata": {
  "kernelspec": {
   "display_name": "Python 3",
   "language": "python",
   "name": "python3"
  },
  "language_info": {
   "codemirror_mode": {
    "name": "ipython",
    "version": 3
   },
   "file_extension": ".py",
   "mimetype": "text/x-python",
   "name": "python",
   "nbconvert_exporter": "python",
   "pygments_lexer": "ipython3",
   "version": "3.8.5"
  },
  "varInspector": {
   "cols": {
    "lenName": 16,
    "lenType": 16,
    "lenVar": 40
   },
   "kernels_config": {
    "python": {
     "delete_cmd_postfix": "",
     "delete_cmd_prefix": "del ",
     "library": "var_list.py",
     "varRefreshCmd": "print(var_dic_list())"
    },
    "r": {
     "delete_cmd_postfix": ") ",
     "delete_cmd_prefix": "rm(",
     "library": "var_list.r",
     "varRefreshCmd": "cat(var_dic_list()) "
    }
   },
   "types_to_exclude": [
    "module",
    "function",
    "builtin_function_or_method",
    "instance",
    "_Feature"
   ],
   "window_display": false
  }
 },
 "nbformat": 4,
 "nbformat_minor": 5
}
