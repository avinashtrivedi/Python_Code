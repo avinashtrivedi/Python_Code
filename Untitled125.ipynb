{
 "cells": [
  {
   "cell_type": "code",
   "execution_count": 1,
   "metadata": {},
   "outputs": [],
   "source": [
    "from nose.tools import assert_equal"
   ]
  },
  {
   "cell_type": "code",
   "execution_count": 2,
   "metadata": {},
   "outputs": [],
   "source": [
    "def dispense_cash(amount):\n",
    "    \n",
    "    # define the different notes\n",
    "    note = [500,100,50,20,10]\n",
    "    \n",
    "    # define the count of each note needed for the given Amount.\n",
    "    count = [0,0,0,0,0]\n",
    "    \n",
    "    # loop through each notes and find the number of respective\n",
    "    # notes required\n",
    "    \n",
    "    for i in range(len(note)):\n",
    "        if amount >= note[i]:\n",
    "            count[i],amount = divmod(amount,note[i])\n",
    "    \n",
    "    # if the amount can be represented using the given notes\n",
    "    # then return the total count.\n",
    "    if amount==0:\n",
    "        return sum(count)\n",
    "    \n",
    "    # else return -1\n",
    "    else:\n",
    "        return -1"
   ]
  },
  {
   "cell_type": "code",
   "execution_count": 3,
   "metadata": {},
   "outputs": [],
   "source": [
    "assert_equal(dispense_cash(1120),4)\n",
    "assert_equal(dispense_cash(492),-1)\n",
    "assert_equal(dispense_cash(440),6)\n",
    "assert_equal(dispense_cash(370),5)\n",
    "assert_equal(dispense_cash(80),3)"
   ]
  },
  {
   "cell_type": "code",
   "execution_count": null,
   "metadata": {},
   "outputs": [],
   "source": []
  }
 ],
 "metadata": {
  "kernelspec": {
   "display_name": "Python 3",
   "language": "python",
   "name": "python3"
  },
  "language_info": {
   "codemirror_mode": {
    "name": "ipython",
    "version": 3
   },
   "file_extension": ".py",
   "mimetype": "text/x-python",
   "name": "python",
   "nbconvert_exporter": "python",
   "pygments_lexer": "ipython3",
   "version": "3.8.5"
  }
 },
 "nbformat": 4,
 "nbformat_minor": 4
}
