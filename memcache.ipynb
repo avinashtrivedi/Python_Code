{
 "cells": [
  {
   "cell_type": "code",
   "execution_count": 1,
   "metadata": {},
   "outputs": [
    {
     "name": "stdout",
     "output_type": "stream",
     "text": [
      "Let us insert one key and then read it back\n",
      "first_key value :  None\n",
      "Now let us insert a second key and then read it back\n",
      "second_key value :  None\n",
      "Now let us delete the second key and then try to read it back\n",
      "second_key value after deleting key :  None\n",
      "Now let us insert a third key with value 1 and then test increment and decrement APIs on this key-value\n",
      "third_key value :  None\n",
      "third_key value post increment by 2 :  None\n",
      "third_key value post decrement by 1 :  None\n",
      "Now let us print the total time for all these operations. Was it blazing fast !!!\n",
      "Total Time =  248.481  ms\n"
     ]
    }
   ],
   "source": [
    "from memcache import Client\n",
    "from datetime import datetime\n",
    "# port = '11211'\n",
    "# host = 'localhost'\n",
    "\n",
    "memcached_port1 = '9150'\n",
    "memcached_port2 = '9151'\n",
    "\n",
    "password = ''\n",
    "\n",
    "hostname = 'ec2-54-193-178-243.us-west-1.compute.amazonaws.com'\n",
    "\n",
    "mc = Client([hostname + ':' + memcached_port1, hostname + ':' + memcached_port2],debug=0)\n",
    "\n",
    "\n",
    "print(\"Let us insert one key and then read it back\")\n",
    "\n",
    "start_time = datetime.now()\n",
    "mc.set(\"first_key\", \"One\")\n",
    "value = mc.get(\"first_key\")\n",
    "print(\"first_key value : \", value)\n",
    "print(\"Now let us insert a second key and then read it back\")\n",
    "mc.set(\"second_key\", 2)\n",
    "value = mc.get(\"second_key\")\n",
    "print('second_key value : ', value)\n",
    "print(\"Now let us delete the second key and then try to read it back\")\n",
    "mc.delete(\"second_key\")\n",
    "value = mc.get(\"second_key\")\n",
    "print('second_key value after deleting key : ', value)\n",
    "print(\"Now let us insert a third key with value 1 and then test increment and decrement APIs on this key-value\")\n",
    "mc.set(\"third_key\", \"1\") # note that the key used for incr/decr must be\n",
    "# a string.\n",
    "value = mc.get('third_key')\n",
    "print(\"third_key value : \", value)\n",
    "mc.incr(\"third_key\", 2)\n",
    "value = mc.get('third_key')\n",
    "print(\"third_key value post increment by 2 : \", value)\n",
    "mc.decr(\"third_key\")\n",
    "value = mc.get('third_key')\n",
    "print(\"third_key value post decrement by 1 : \", value)\n",
    "end_time = datetime.now()\n",
    "elapsed_time = end_time - start_time\n",
    "print(\"Now let us print the total time for all these operations. Was it blazing fast !!!\")\n",
    "print('Total Time = ', elapsed_time.microseconds/1000, ' ms')"
   ]
  },
  {
   "cell_type": "code",
   "execution_count": null,
   "metadata": {},
   "outputs": [],
   "source": []
  }
 ],
 "metadata": {
  "kernelspec": {
   "display_name": "Python 3",
   "language": "python",
   "name": "python3"
  },
  "language_info": {
   "codemirror_mode": {
    "name": "ipython",
    "version": 3
   },
   "file_extension": ".py",
   "mimetype": "text/x-python",
   "name": "python",
   "nbconvert_exporter": "python",
   "pygments_lexer": "ipython3",
   "version": "3.8.5"
  }
 },
 "nbformat": 4,
 "nbformat_minor": 4
}
