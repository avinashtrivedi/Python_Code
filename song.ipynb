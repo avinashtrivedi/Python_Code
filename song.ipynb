{
 "cells": [
  {
   "cell_type": "code",
   "execution_count": 2,
   "metadata": {},
   "outputs": [
    {
     "name": "stdout",
     "output_type": "stream",
     "text": [
      "How many more songs? 6\n",
      "Hotel California, Eagles\n",
      "Thriller, Michael Jackson\n",
      "Respect, Aretha Franklin\n",
      "Piano Man, Billy Joel\n",
      "Bohemian Rhapsody, Queen\n",
      "Another,New Song\n"
     ]
    }
   ],
   "source": [
    "# take the number of song to play\n",
    "n = int(input(\"How many more songs? \"))\n",
    "\n",
    "# read the file songlist.txt\n",
    "f = open('songlist.txt','r')\n",
    "\n",
    "# read all lines as list element\n",
    "file = f.readlines()\n",
    "\n",
    "# close the file pointer\n",
    "f.close()\n",
    "\n",
    "# print the song to be played in correct order.\n",
    "for i in range(1,n+1):\n",
    "    print(file[-(i)].strip())"
   ]
  },
  {
   "cell_type": "code",
   "execution_count": null,
   "metadata": {},
   "outputs": [],
   "source": []
  }
 ],
 "metadata": {
  "kernelspec": {
   "display_name": "Python 3",
   "language": "python",
   "name": "python3"
  },
  "language_info": {
   "codemirror_mode": {
    "name": "ipython",
    "version": 3
   },
   "file_extension": ".py",
   "mimetype": "text/x-python",
   "name": "python",
   "nbconvert_exporter": "python",
   "pygments_lexer": "ipython3",
   "version": "3.8.5"
  }
 },
 "nbformat": 4,
 "nbformat_minor": 4
}
