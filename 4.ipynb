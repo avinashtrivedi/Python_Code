{
 "cells": [
  {
   "cell_type": "code",
   "execution_count": 1,
   "metadata": {},
   "outputs": [],
   "source": [
    "# sum.py\n",
    "# sum() function already exists in python,\n",
    "# Hence to avoid conflict,changing the name of our custom function to my_sum()\n",
    "\n",
    "def my_sum(data): \n",
    "    return sum(data)"
   ]
  },
  {
   "cell_type": "code",
   "execution_count": 2,
   "metadata": {},
   "outputs": [],
   "source": [
    "# mean.py\n",
    "def mean(data):\n",
    "    val=0\n",
    "    for i in data:\n",
    "        val+=i\n",
    "    return val/len(data)"
   ]
  },
  {
   "cell_type": "code",
   "execution_count": 3,
   "metadata": {},
   "outputs": [],
   "source": [
    "# std_dev.py\n",
    "def std_dev(data):\n",
    "    val = 0\n",
    "    for i in data:\n",
    "        val+=i\n",
    "    avg = val/len(data)\n",
    "    sqre = [(i-avg)**2 for i in data]\n",
    "    avg_sqre = sum(sqre)/len(data)\n",
    "    return avg_sqre**.5"
   ]
  },
  {
   "cell_type": "code",
   "execution_count": 4,
   "metadata": {},
   "outputs": [
    {
     "name": "stdout",
     "output_type": "stream",
     "text": [
      "Enter 'Test' or 'NonTest' to proceed and 'Exit' to quit: \n",
      "Test\n",
      "------------\n",
      "list of sample input:  [3, 5, 7, 9, 11, 13, 15]\n",
      "Sum is:  63\n",
      "Mean is:  9.0\n",
      "Standard deviation is:  4.0\n",
      "------------\n",
      "Enter 'Test' or 'NonTest' to proceed and 'Exit' to quit: \n",
      "NonTest\n",
      "33\n",
      "44\n",
      "55\n",
      "11\n",
      "6\n",
      "\n",
      "------------\n",
      "Given input list is: [33, 44, 55, 11, 6]\n",
      "Sum is:  149\n",
      "Mean is:  29.8\n",
      "Standard deviation is:  18.79787222001469\n",
      "------------\n",
      "Enter 'Test' or 'NonTest' to proceed and 'Exit' to quit: \n",
      "Exit\n"
     ]
    }
   ],
   "source": [
    "#stats.py\n",
    "def my_sum(data): \n",
    "#     print('Sum is: ',len(data),sum(data))\n",
    "    return sum(data)\n",
    "def mean(data):\n",
    "#     print('Mean is: ',my_sum(data)/len(data))\n",
    "    return my_sum(data)/len(data)\n",
    "def std_dev(data):\n",
    "    avg = mean(data)\n",
    "    sqre = [(i-avg)**2 for i in data]\n",
    "    avg_sqre = sum(sqre)/len(data)\n",
    "    print('Standard deviation is: ',avg_sqre**.5)\n",
    "\n",
    "def test_sum(): \n",
    "    data = [3,5,7,9,11,13,15]\n",
    "    print('list of sample input: ',data)\n",
    "    print('Sum is: ',sum(data))\n",
    "def test_mean():\n",
    "    data = [3,5,7,9,11,13,15]\n",
    "    print('Mean is: ',my_sum(data)/len(data))\n",
    "def test_std_dev():\n",
    "    data = [3,5,7,9,11,13,15]\n",
    "    avg = mean(data)\n",
    "    sqre = [(i-avg)**2 for i in data]\n",
    "    avg_sqre = sum(sqre)/len(data)\n",
    "    print('Standard deviation is: ',avg_sqre**.5)\n",
    "\n",
    "def my_list_input():\n",
    "    mydata=[]\n",
    "    while True:\n",
    "        data=input()\n",
    "        if data!=\"\":\n",
    "            data = int(data)\n",
    "            mydata.append(data)\n",
    "        else:\n",
    "            break\n",
    "    return mydata\n",
    "\n",
    "if __name__ == \"__main__\":\n",
    "    while True:\n",
    "        print(\"Enter 'Test' or 'NonTest' to proceed and 'Exit' to quit: \")\n",
    "        mode = input()\n",
    "        if mode=='Test':\n",
    "            print('------------')\n",
    "            test_sum()\n",
    "            test_mean()\n",
    "            test_std_dev()\n",
    "            print('------------')\n",
    "        elif mode =='NonTest':\n",
    "            data = my_list_input()\n",
    "            print('------------')\n",
    "            print('Given input list is:',data)\n",
    "            print('Sum is: ',my_sum(data))\n",
    "            print('Mean is: ',mean(data))\n",
    "            std_dev(data)\n",
    "            print('------------')\n",
    "        elif mode=='Exit':\n",
    "            break\n",
    "        else:\n",
    "            print(\"Wrong input,Please Type 'Test', 'NonTest' or 'Exit' \")\n"
   ]
  },
  {
   "cell_type": "code",
   "execution_count": null,
   "metadata": {},
   "outputs": [],
   "source": []
  }
 ],
 "metadata": {
  "kernelspec": {
   "display_name": "Python 3",
   "language": "python",
   "name": "python3"
  },
  "language_info": {
   "codemirror_mode": {
    "name": "ipython",
    "version": 3
   },
   "file_extension": ".py",
   "mimetype": "text/x-python",
   "name": "python",
   "nbconvert_exporter": "python",
   "pygments_lexer": "ipython3",
   "version": "3.8.5"
  }
 },
 "nbformat": 4,
 "nbformat_minor": 4
}
