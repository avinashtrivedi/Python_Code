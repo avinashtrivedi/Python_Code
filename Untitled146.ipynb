{
 "cells": [
  {
   "cell_type": "code",
   "execution_count": 1,
   "metadata": {},
   "outputs": [
    {
     "name": "stdout",
     "output_type": "stream",
     "text": [
      "{'A': 12, 'B': 10, 'D': 9, 'E': 8, 'C': 13}\n"
     ]
    }
   ],
   "source": [
    "mydict = {'A':12,\n",
    "         'B':10,\n",
    "         'D':9,\n",
    "         'E':8,\n",
    "         'C':13\n",
    "         }\n",
    "print(mydict)"
   ]
  },
  {
   "cell_type": "code",
   "execution_count": 2,
   "metadata": {},
   "outputs": [
    {
     "data": {
      "text/plain": [
       "[('A', 12), ('B', 10), ('C', 13), ('D', 9), ('E', 8)]"
      ]
     },
     "execution_count": 2,
     "metadata": {},
     "output_type": "execute_result"
    }
   ],
   "source": [
    "# sort the dictionary on the basis of its keys.\n",
    "\n",
    "sorted(mydict.items())"
   ]
  },
  {
   "cell_type": "code",
   "execution_count": 3,
   "metadata": {},
   "outputs": [
    {
     "name": "stdout",
     "output_type": "stream",
     "text": [
      "[('A', 12), ('B', 10), ('C', 13), ('D', 9), ('E', 8)]\n"
     ]
    }
   ],
   "source": [
    "# Another method\n",
    "# sort the dictionary on the basis of its keys.\n",
    "sorted_dict = sorted(mydict.items(),key=lambda x:x[0])\n",
    "print(sorted_dict)"
   ]
  },
  {
   "cell_type": "code",
   "execution_count": 4,
   "metadata": {},
   "outputs": [
    {
     "name": "stdout",
     "output_type": "stream",
     "text": [
      "[('E', 8), ('D', 9), ('B', 10), ('A', 12), ('C', 13)]\n"
     ]
    }
   ],
   "source": [
    "# sort the dictionary on the basis of its values.\n",
    "sorted_dict = sorted(mydict.items(),key=lambda x:x[1])\n",
    "print(sorted_dict)"
   ]
  },
  {
   "cell_type": "code",
   "execution_count": null,
   "metadata": {},
   "outputs": [],
   "source": []
  }
 ],
 "metadata": {
  "kernelspec": {
   "display_name": "Python 3",
   "language": "python",
   "name": "python3"
  },
  "language_info": {
   "codemirror_mode": {
    "name": "ipython",
    "version": 3
   },
   "file_extension": ".py",
   "mimetype": "text/x-python",
   "name": "python",
   "nbconvert_exporter": "python",
   "pygments_lexer": "ipython3",
   "version": "3.8.5"
  }
 },
 "nbformat": 4,
 "nbformat_minor": 4
}
