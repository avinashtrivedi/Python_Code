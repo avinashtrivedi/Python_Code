{
 "cells": [
  {
   "cell_type": "code",
   "execution_count": 1,
   "metadata": {},
   "outputs": [
    {
     "name": "stdout",
     "output_type": "stream",
     "text": [
      "Enter the number of Items you want to add the details for: 5\n",
      "\n",
      "--------Enter details for item: 1 ----------\n",
      "Iten Name: Rice101\n",
      "Cost: 20\n",
      "Number in stock: 15\n",
      "\n",
      "--------Enter details for item: 2 ----------\n",
      "Iten Name: Mobile-MI-Dual\n",
      "Cost: 150\n",
      "Number in stock: 20\n",
      "\n",
      "--------Enter details for item: 3 ----------\n",
      "Iten Name: Laptop-dell\n",
      "Cost: 1000\n",
      "Number in stock: 12\n",
      "\n",
      "--------Enter details for item: 4 ----------\n",
      "Iten Name: Cream\n",
      "Cost: 12\n",
      "Number in stock: 500\n",
      "\n",
      "--------Enter details for item: 5 ----------\n",
      "Iten Name: Screen Guard\n",
      "Cost: 10\n",
      "Number in stock: 40\n",
      "\n",
      "Item Name            Cost       Number in Stock\n",
      "--------------------------------------------------\n",
      "Rice101              20.0       15   \n",
      "Mobile-MI-Dual       150.0      20   \n",
      "Laptop-dell          1000.0     12   \n",
      "Cream                12.0       500  \n",
      "Screen Guard         10.0       40   \n"
     ]
    }
   ],
   "source": [
    "n = int(input('Enter the number of Items you want to add the details for: '))\n",
    "print()\n",
    "item_details = [] # list to store item details in the form (name,cost,stock)\n",
    "\n",
    "# iterate n times to receive item details for all n item.\n",
    "for i in range(n):\n",
    "    print('--------Enter details for item: {} ----------'.format(i+1))\n",
    "    name = input('Iten Name: ')\n",
    "    cost = float(input('Cost: '))\n",
    "    no_in_stock = int(input('Number in stock: '))\n",
    "    item_details.append((name,cost,no_in_stock)) # append the item details into item_details\n",
    "    print()\n",
    "print(\"{:<20} {:<10} {:<5}\".format('Item Name','Cost','Number in Stock'))\n",
    "print(50*'-')\n",
    "\n",
    "# print the output\n",
    "for item_name,item_cost,stock in item_details:\n",
    "     print(\"{:<20} {:<10} {:<5}\".format(item_name,item_cost,stock))"
   ]
  },
  {
   "cell_type": "code",
   "execution_count": null,
   "metadata": {},
   "outputs": [],
   "source": []
  }
 ],
 "metadata": {
  "kernelspec": {
   "display_name": "Python 3",
   "language": "python",
   "name": "python3"
  },
  "language_info": {
   "codemirror_mode": {
    "name": "ipython",
    "version": 3
   },
   "file_extension": ".py",
   "mimetype": "text/x-python",
   "name": "python",
   "nbconvert_exporter": "python",
   "pygments_lexer": "ipython3",
   "version": "3.8.5"
  }
 },
 "nbformat": 4,
 "nbformat_minor": 4
}
