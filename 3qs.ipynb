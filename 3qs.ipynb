{
 "cells": [
  {
   "cell_type": "markdown",
   "metadata": {},
   "source": [
    "# Q.1"
   ]
  },
  {
   "cell_type": "code",
   "execution_count": 1,
   "metadata": {},
   "outputs": [],
   "source": [
    "def count_digits(s):\n",
    "    \n",
    "    # check for string size\n",
    "    if len(s)>0:\n",
    "        \n",
    "        # check if first character is digit\n",
    "        if s[0].isdigit():\n",
    "            \n",
    "            # slice the string\n",
    "            s = s[1:] \n",
    "            \n",
    "            # call the same function\n",
    "            return 1 + count_digits(s)\n",
    "        else:\n",
    "            \n",
    "            # slice the string \n",
    "            s = s[1:]\n",
    "            \n",
    "            # call the same function\n",
    "            return 0 + count_digits(s)\n",
    "    else:\n",
    "        return 0"
   ]
  },
  {
   "cell_type": "code",
   "execution_count": 2,
   "metadata": {},
   "outputs": [
    {
     "name": "stdout",
     "output_type": "stream",
     "text": [
      "7\n"
     ]
    }
   ],
   "source": [
    "print(count_digits('5Z2rPTyFSo2w52FeShc87s'))"
   ]
  },
  {
   "cell_type": "code",
   "execution_count": 3,
   "metadata": {},
   "outputs": [
    {
     "name": "stdout",
     "output_type": "stream",
     "text": [
      "0\n"
     ]
    }
   ],
   "source": [
    "print(count_digits('This function has to be RECURSIVE'))"
   ]
  },
  {
   "cell_type": "markdown",
   "metadata": {},
   "source": [
    "# Q.2"
   ]
  },
  {
   "cell_type": "code",
   "execution_count": 4,
   "metadata": {},
   "outputs": [],
   "source": [
    "def get_code(s):\n",
    "    \n",
    "    # check if character is lowercase\n",
    "    if s.islower():\n",
    "        \n",
    "        # increment the character by 3\n",
    "        t = (ord(s) + 3)\n",
    "        return chr(t) if t<=122 else chr((ord('a') + t%123))\n",
    "    \n",
    "    # for upper case\n",
    "    else:\n",
    "        # increment the character by 3\n",
    "        t = (ord(s) + 3)\n",
    "        return chr(t) if t<=90 else chr((ord('A') + t%91))"
   ]
  },
  {
   "cell_type": "code",
   "execution_count": 5,
   "metadata": {},
   "outputs": [
    {
     "name": "stdout",
     "output_type": "stream",
     "text": [
      "d\n",
      "c\n"
     ]
    }
   ],
   "source": [
    "letter = get_code('a')\n",
    "print(letter)\n",
    "letter = get_code('z')\n",
    "print(letter)"
   ]
  },
  {
   "cell_type": "code",
   "execution_count": 6,
   "metadata": {},
   "outputs": [],
   "source": [
    "def caesar_cipher(word):\n",
    "    \n",
    "    # check for word length\n",
    "    if len(word)>0:\n",
    "        \n",
    "        # check for letters\n",
    "        if word[0].isalpha():\n",
    "            \n",
    "            # call get_code to shift a character 3 position to the right\n",
    "            return get_code(word[0]) + caesar_cipher(word[1:])\n",
    "        else:\n",
    "            return word[0] + caesar_cipher(word[1:])\n",
    "    else:\n",
    "        return ''"
   ]
  },
  {
   "cell_type": "code",
   "execution_count": 7,
   "metadata": {},
   "outputs": [
    {
     "name": "stdout",
     "output_type": "stream",
     "text": [
      "khoor\n"
     ]
    }
   ],
   "source": [
    "s = 'hello'\n",
    "print(caesar_cipher(s))"
   ]
  },
  {
   "cell_type": "code",
   "execution_count": 8,
   "metadata": {},
   "outputs": [
    {
     "name": "stdout",
     "output_type": "stream",
     "text": [
      "bhoorz frorxu\n"
     ]
    }
   ],
   "source": [
    "s = 'yellow colour'\n",
    "print(caesar_cipher(s))"
   ]
  },
  {
   "cell_type": "markdown",
   "metadata": {},
   "source": [
    "# Q.3"
   ]
  },
  {
   "cell_type": "code",
   "execution_count": 9,
   "metadata": {},
   "outputs": [],
   "source": [
    "def get_below_target(numbers, target):\n",
    "    if len(numbers)>0:\n",
    "        \n",
    "        # pop the 0th element\n",
    "        lastnum = numbers.pop(0)\n",
    "        \n",
    "        # check for condition.\n",
    "        if lastnum < target:\n",
    "            \n",
    "            # create a list and call the same function.\n",
    "            return [lastnum] + get_below_target(numbers, target)\n",
    "        else:\n",
    "            return [] + get_below_target(numbers, target)\n",
    "    else:\n",
    "        return []"
   ]
  },
  {
   "cell_type": "code",
   "execution_count": 10,
   "metadata": {},
   "outputs": [
    {
     "name": "stdout",
     "output_type": "stream",
     "text": [
      "[]\n"
     ]
    }
   ],
   "source": [
    "print(get_below_target([4, 3, 5, 6], 3))"
   ]
  },
  {
   "cell_type": "code",
   "execution_count": 11,
   "metadata": {},
   "outputs": [
    {
     "name": "stdout",
     "output_type": "stream",
     "text": [
      "[2, 4, 6, 8]\n"
     ]
    }
   ],
   "source": [
    "print(get_below_target([2, 4, 6, 8], 20))"
   ]
  },
  {
   "cell_type": "code",
   "execution_count": 12,
   "metadata": {},
   "outputs": [
    {
     "name": "stdout",
     "output_type": "stream",
     "text": [
      "[9, 5]\n"
     ]
    }
   ],
   "source": [
    "print(get_below_target([9, 5, 15, 11, 23], 11))"
   ]
  },
  {
   "cell_type": "code",
   "execution_count": 13,
   "metadata": {},
   "outputs": [
    {
     "name": "stdout",
     "output_type": "stream",
     "text": [
      "[2, 3, 1]\n"
     ]
    }
   ],
   "source": [
    "print(get_below_target([2, 3, 1, 5, 6, 9], 5))"
   ]
  },
  {
   "cell_type": "code",
   "execution_count": 14,
   "metadata": {},
   "outputs": [
    {
     "name": "stdout",
     "output_type": "stream",
     "text": [
      "[1, 7, 9, 2]\n"
     ]
    }
   ],
   "source": [
    "import random\n",
    "random.seed(30)\n",
    "numbers = [random.randint(1, 20) for index in range(10)]\n",
    "print(get_below_target(numbers, 10))"
   ]
  },
  {
   "cell_type": "code",
   "execution_count": null,
   "metadata": {},
   "outputs": [],
   "source": []
  }
 ],
 "metadata": {
  "kernelspec": {
   "display_name": "Python 3",
   "language": "python",
   "name": "python3"
  },
  "language_info": {
   "codemirror_mode": {
    "name": "ipython",
    "version": 3
   },
   "file_extension": ".py",
   "mimetype": "text/x-python",
   "name": "python",
   "nbconvert_exporter": "python",
   "pygments_lexer": "ipython3",
   "version": "3.8.5"
  }
 },
 "nbformat": 4,
 "nbformat_minor": 4
}
