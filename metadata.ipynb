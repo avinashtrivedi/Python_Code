{
 "cells": [
  {
   "cell_type": "code",
   "execution_count": 4,
   "metadata": {},
   "outputs": [],
   "source": [
    "# define the metadata for testing\n",
    "metadata1 = [{'asin': 'B00FA5KKA',\n",
    "  'category': ['kindle store', 'kindle ebooks', 'Science Fiction & Fantasy']},\n",
    " {'asin': 'B00FA5M3K',\n",
    "  'category': ['kindle store','kindle ebooks','engineering & transportation','</span>']},\n",
    " {'asin': 'B00FA5KX2',\n",
    "  'category': ['kindle store', 'kindle ebooks', 'Business & Money']},\n",
    " {'asin': 'B00FA5L2C',\n",
    "  'category': ['kindle store', 'kindle ebooks', 'Business &amp; Money']},           \n",
    "{'asin': 'B00FC2LCS',\n",
    "  'category': ['kindle store', 'kindle ebooks']},\n",
    "{'asin': 'B001CBBL7M',\n",
    "  'category': ['kindle store', 'kindle ebooks', '']}]\n",
    "\n",
    "\n",
    "metadata2 =[{'ados': 'osshthan', 'asin': 'ostor', 'category': ['Kindle Store', 'Kindle eBooks', 'ndime & ang']}, \n",
    "            {'ados': 'apandoxa', 'asin': 'twi', 'category': ['Kindle Store', 'Kindle eBooks', 'he']}, \n",
    "            {'ados': 'mbuperne', 'asin': 'wondouti', 'category': ['Kindle Store', 'Kindle eBooks', 'fas']}, \n",
    "            {'ados': 'be', 'asin': 'we', 'category': ['Kindle Store', 'Kindle eBooks', '']}]"
   ]
  },
  {
   "cell_type": "code",
   "execution_count": 12,
   "metadata": {},
   "outputs": [],
   "source": [
    "def metadata_to_df(metadata):\n",
    "    # import library for Dataframe creation\n",
    "    import pandas as pd\n",
    "    \n",
    "    # Fetch the key and value pair for 'asin','category' so as to create dataframe\n",
    "    metadata = [dict((k, dictionary[k]) for k in ('asin','category'))  \n",
    "            for dictionary in metadata]\n",
    "    \n",
    "    # create a Dataframe df_meta using data as dictionary\n",
    "    df_meta = pd.DataFrame(metadata)\n",
    "    \n",
    "    # adding new column namly genre, and assign to it the third element \n",
    "    # (consider 1st element at position 1) of category value.\n",
    "    # if third element is unavailable then assign '</span>' and later delete those unnecessary rows.\n",
    "    \n",
    "    df_meta['genre'] = df_meta.category.map(lambda x: x[2] if len(x)>2 else '')\n",
    "    df_meta = df_meta[df_meta.genre != ''] # remove rows with '</span>' as genre value.\n",
    "    \n",
    "    # substitute '&amp;' with '&'\n",
    "    df_meta['genre'] = df_meta['genre'].str.replace('&amp;','&')\n",
    "    \n",
    "    # remove category column from df_meta as it is of no use now.\n",
    "    df_meta.drop(columns=['category'],inplace=True)\n",
    "    \n",
    "    # rename the column\n",
    "    df_meta.columns = ['ebook','genre']\n",
    "    \n",
    "    # return the dataframe df_meta\n",
    "    return df_meta"
   ]
  },
  {
   "cell_type": "code",
   "execution_count": 32,
   "metadata": {},
   "outputs": [],
   "source": [
    "import pandas as pd\n",
    "    \n",
    "# Fetch the key and value pair for 'asin','category' so as to create dataframe\n",
    "metadata = [dict((k, dictionary[k]) for k in ('asin','category'))  \n",
    "        for dictionary in metadata2]\n",
    "\n",
    "# create a Dataframe df_meta using data as dictionary\n",
    "df_meta = pd.DataFrame(metadata)"
   ]
  },
  {
   "cell_type": "code",
   "execution_count": 33,
   "metadata": {},
   "outputs": [
    {
     "data": {
      "text/html": [
       "<div>\n",
       "<style scoped>\n",
       "    .dataframe tbody tr th:only-of-type {\n",
       "        vertical-align: middle;\n",
       "    }\n",
       "\n",
       "    .dataframe tbody tr th {\n",
       "        vertical-align: top;\n",
       "    }\n",
       "\n",
       "    .dataframe thead th {\n",
       "        text-align: right;\n",
       "    }\n",
       "</style>\n",
       "<table border=\"1\" class=\"dataframe\">\n",
       "  <thead>\n",
       "    <tr style=\"text-align: right;\">\n",
       "      <th></th>\n",
       "      <th>asin</th>\n",
       "      <th>category</th>\n",
       "    </tr>\n",
       "  </thead>\n",
       "  <tbody>\n",
       "    <tr>\n",
       "      <th>0</th>\n",
       "      <td>ostor</td>\n",
       "      <td>[Kindle Store, Kindle eBooks, ndime &amp; ang]</td>\n",
       "    </tr>\n",
       "    <tr>\n",
       "      <th>1</th>\n",
       "      <td>twi</td>\n",
       "      <td>[Kindle Store, Kindle eBooks, he]</td>\n",
       "    </tr>\n",
       "    <tr>\n",
       "      <th>2</th>\n",
       "      <td>wondouti</td>\n",
       "      <td>[Kindle Store, Kindle eBooks, fas]</td>\n",
       "    </tr>\n",
       "    <tr>\n",
       "      <th>3</th>\n",
       "      <td>we</td>\n",
       "      <td>[Kindle Store, Kindle eBooks, ]</td>\n",
       "    </tr>\n",
       "  </tbody>\n",
       "</table>\n",
       "</div>"
      ],
      "text/plain": [
       "       asin                                    category\n",
       "0     ostor  [Kindle Store, Kindle eBooks, ndime & ang]\n",
       "1       twi           [Kindle Store, Kindle eBooks, he]\n",
       "2  wondouti          [Kindle Store, Kindle eBooks, fas]\n",
       "3        we             [Kindle Store, Kindle eBooks, ]"
      ]
     },
     "execution_count": 33,
     "metadata": {},
     "output_type": "execute_result"
    }
   ],
   "source": [
    "df_meta"
   ]
  },
  {
   "cell_type": "code",
   "execution_count": 34,
   "metadata": {},
   "outputs": [
    {
     "data": {
      "text/plain": [
       "4"
      ]
     },
     "execution_count": 34,
     "metadata": {},
     "output_type": "execute_result"
    }
   ],
   "source": [
    "len(df_meta['category'])"
   ]
  },
  {
   "cell_type": "code",
   "execution_count": 36,
   "metadata": {},
   "outputs": [],
   "source": [
    "df_meta['genre']=df_meta.category.map(lambda x: x[2] if len(x)>2 and len(x[2])!=0 else float(\"NaN\"))\n",
    "df_meta.dropna(inplace=True)"
   ]
  },
  {
   "cell_type": "code",
   "execution_count": 30,
   "metadata": {},
   "outputs": [],
   "source": [
    "df_meta.dropna(inplace=True)"
   ]
  },
  {
   "cell_type": "code",
   "execution_count": 38,
   "metadata": {},
   "outputs": [],
   "source": [
    "df_meta.drop(columns=['category'],inplace=True)\n",
    "df_meta.columns = ['ebook','genre']"
   ]
  },
  {
   "cell_type": "code",
   "execution_count": 39,
   "metadata": {},
   "outputs": [
    {
     "data": {
      "text/html": [
       "<div>\n",
       "<style scoped>\n",
       "    .dataframe tbody tr th:only-of-type {\n",
       "        vertical-align: middle;\n",
       "    }\n",
       "\n",
       "    .dataframe tbody tr th {\n",
       "        vertical-align: top;\n",
       "    }\n",
       "\n",
       "    .dataframe thead th {\n",
       "        text-align: right;\n",
       "    }\n",
       "</style>\n",
       "<table border=\"1\" class=\"dataframe\">\n",
       "  <thead>\n",
       "    <tr style=\"text-align: right;\">\n",
       "      <th></th>\n",
       "      <th>ebook</th>\n",
       "      <th>genre</th>\n",
       "    </tr>\n",
       "  </thead>\n",
       "  <tbody>\n",
       "    <tr>\n",
       "      <th>0</th>\n",
       "      <td>ostor</td>\n",
       "      <td>ndime &amp; ang</td>\n",
       "    </tr>\n",
       "    <tr>\n",
       "      <th>1</th>\n",
       "      <td>twi</td>\n",
       "      <td>he</td>\n",
       "    </tr>\n",
       "    <tr>\n",
       "      <th>2</th>\n",
       "      <td>wondouti</td>\n",
       "      <td>fas</td>\n",
       "    </tr>\n",
       "  </tbody>\n",
       "</table>\n",
       "</div>"
      ],
      "text/plain": [
       "      ebook        genre\n",
       "0     ostor  ndime & ang\n",
       "1       twi           he\n",
       "2  wondouti          fas"
      ]
     },
     "execution_count": 39,
     "metadata": {},
     "output_type": "execute_result"
    }
   ],
   "source": [
    "df_meta"
   ]
  },
  {
   "cell_type": "code",
   "execution_count": null,
   "metadata": {},
   "outputs": [],
   "source": [
    "df['color'] = np.where(df['category'][]=='Z', 'green', 'red')"
   ]
  },
  {
   "cell_type": "code",
   "execution_count": 13,
   "metadata": {},
   "outputs": [
    {
     "data": {
      "text/html": [
       "<div>\n",
       "<style scoped>\n",
       "    .dataframe tbody tr th:only-of-type {\n",
       "        vertical-align: middle;\n",
       "    }\n",
       "\n",
       "    .dataframe tbody tr th {\n",
       "        vertical-align: top;\n",
       "    }\n",
       "\n",
       "    .dataframe thead th {\n",
       "        text-align: right;\n",
       "    }\n",
       "</style>\n",
       "<table border=\"1\" class=\"dataframe\">\n",
       "  <thead>\n",
       "    <tr style=\"text-align: right;\">\n",
       "      <th></th>\n",
       "      <th>ebook</th>\n",
       "      <th>genre</th>\n",
       "    </tr>\n",
       "  </thead>\n",
       "  <tbody>\n",
       "    <tr>\n",
       "      <th>0</th>\n",
       "      <td>B00FA5KKA</td>\n",
       "      <td>Science Fiction &amp; Fantasy</td>\n",
       "    </tr>\n",
       "    <tr>\n",
       "      <th>1</th>\n",
       "      <td>B00FA5M3K</td>\n",
       "      <td>engineering &amp; transportation</td>\n",
       "    </tr>\n",
       "    <tr>\n",
       "      <th>2</th>\n",
       "      <td>B00FA5KX2</td>\n",
       "      <td>Business &amp; Money</td>\n",
       "    </tr>\n",
       "    <tr>\n",
       "      <th>3</th>\n",
       "      <td>B00FA5L2C</td>\n",
       "      <td>Business &amp; Money</td>\n",
       "    </tr>\n",
       "  </tbody>\n",
       "</table>\n",
       "</div>"
      ],
      "text/plain": [
       "       ebook                         genre\n",
       "0  B00FA5KKA     Science Fiction & Fantasy\n",
       "1  B00FA5M3K  engineering & transportation\n",
       "2  B00FA5KX2              Business & Money\n",
       "3  B00FA5L2C              Business & Money"
      ]
     },
     "execution_count": 13,
     "metadata": {},
     "output_type": "execute_result"
    }
   ],
   "source": [
    "metadata_to_df(metadata1) # calling the function with metadata"
   ]
  },
  {
   "cell_type": "code",
   "execution_count": 14,
   "metadata": {},
   "outputs": [
    {
     "data": {
      "text/html": [
       "<div>\n",
       "<style scoped>\n",
       "    .dataframe tbody tr th:only-of-type {\n",
       "        vertical-align: middle;\n",
       "    }\n",
       "\n",
       "    .dataframe tbody tr th {\n",
       "        vertical-align: top;\n",
       "    }\n",
       "\n",
       "    .dataframe thead th {\n",
       "        text-align: right;\n",
       "    }\n",
       "</style>\n",
       "<table border=\"1\" class=\"dataframe\">\n",
       "  <thead>\n",
       "    <tr style=\"text-align: right;\">\n",
       "      <th></th>\n",
       "      <th>ebook</th>\n",
       "      <th>genre</th>\n",
       "    </tr>\n",
       "  </thead>\n",
       "  <tbody>\n",
       "    <tr>\n",
       "      <th>0</th>\n",
       "      <td>ostor</td>\n",
       "      <td>ndime &amp; ang</td>\n",
       "    </tr>\n",
       "    <tr>\n",
       "      <th>1</th>\n",
       "      <td>twi</td>\n",
       "      <td>he</td>\n",
       "    </tr>\n",
       "    <tr>\n",
       "      <th>2</th>\n",
       "      <td>wondouti</td>\n",
       "      <td>fas</td>\n",
       "    </tr>\n",
       "  </tbody>\n",
       "</table>\n",
       "</div>"
      ],
      "text/plain": [
       "      ebook        genre\n",
       "0     ostor  ndime & ang\n",
       "1       twi           he\n",
       "2  wondouti          fas"
      ]
     },
     "execution_count": 14,
     "metadata": {},
     "output_type": "execute_result"
    }
   ],
   "source": [
    "metadata_to_df(metadata2)"
   ]
  },
  {
   "cell_type": "code",
   "execution_count": null,
   "metadata": {},
   "outputs": [],
   "source": []
  }
 ],
 "metadata": {
  "kernelspec": {
   "display_name": "Python 3",
   "language": "python",
   "name": "python3"
  },
  "language_info": {
   "codemirror_mode": {
    "name": "ipython",
    "version": 3
   },
   "file_extension": ".py",
   "mimetype": "text/x-python",
   "name": "python",
   "nbconvert_exporter": "python",
   "pygments_lexer": "ipython3",
   "version": "3.8.5"
  }
 },
 "nbformat": 4,
 "nbformat_minor": 4
}
