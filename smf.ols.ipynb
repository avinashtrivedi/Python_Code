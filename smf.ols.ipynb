{
 "cells": [
  {
   "cell_type": "code",
   "execution_count": 1,
   "metadata": {},
   "outputs": [
    {
     "name": "stdout",
     "output_type": "stream",
     "text": [
      "                            OLS Regression Results                            \n",
      "==============================================================================\n",
      "Dep. Variable:             total_wins   R-squared:                       0.876\n",
      "Model:                            OLS   Adj. R-squared:                  0.876\n",
      "Method:                 Least Squares   F-statistic:                     1449.\n",
      "Date:                Sun, 20 Jun 2021   Prob (F-statistic):          5.03e-278\n",
      "Time:                        08:49:06   Log-Likelihood:                -1819.8\n",
      "No. Observations:                 618   AIC:                             3648.\n",
      "Df Residuals:                     614   BIC:                             3665.\n",
      "Df Model:                           3                                         \n",
      "Covariance Type:            nonrobust                                         \n",
      "========================================================================================\n",
      "                           coef    std err          t      P>|t|      [0.025      0.975]\n",
      "----------------------------------------------------------------------------------------\n",
      "Intercept              -35.8921      9.252     -3.879      0.000     -54.062     -17.723\n",
      "avg_pts                  0.2406      0.043      5.657      0.000       0.157       0.324\n",
      "avg_elo_n                0.0348      0.005      6.421      0.000       0.024       0.045\n",
      "avg_pts_differential     1.7621      0.127     13.928      0.000       1.514       2.011\n",
      "==============================================================================\n",
      "Omnibus:                      181.805   Durbin-Watson:                   0.975\n",
      "Prob(Omnibus):                  0.000   Jarque-Bera (JB):              506.551\n",
      "Skew:                          -1.452   Prob(JB):                    1.01e-110\n",
      "Kurtosis:                       6.352   Cond. No.                     7.51e+04\n",
      "==============================================================================\n",
      "\n",
      "Notes:\n",
      "[1] Standard Errors assume that the covariance matrix of the errors is correctly specified.\n",
      "[2] The condition number is large, 7.51e+04. This might indicate that there are\n",
      "strong multicollinearity or other numerical problems.\n"
     ]
    }
   ],
   "source": [
    "# import library\n",
    "import statsmodels.formula.api as smf\n",
    "import pandas as pd\n",
    "\n",
    "# read the dataset and create a dataframe\n",
    "nba_wins_df = pd.read_csv('nba_wins_data.csv')\n",
    "\n",
    "# According to question.\n",
    "# Response variable  : total_wins\n",
    "# Predictor Variable : avg_pts , avg_elo_n, and avg_pts_differential\n",
    "# hence multiple Regression formula will be : total_wins ~ avg_pts + avg_elo_n + avg_pts_differential\n",
    "# Model for multiple Regression\n",
    "\n",
    "model = smf.ols(formula='total_wins ~ avg_pts + avg_elo_n + avg_pts_differential', data=nba_wins_df).fit()\n",
    "print(model.summary()) # print the model summary"
   ]
  },
  {
   "cell_type": "code",
   "execution_count": null,
   "metadata": {},
   "outputs": [],
   "source": []
  }
 ],
 "metadata": {
  "kernelspec": {
   "display_name": "Python 3",
   "language": "python",
   "name": "python3"
  },
  "language_info": {
   "codemirror_mode": {
    "name": "ipython",
    "version": 3
   },
   "file_extension": ".py",
   "mimetype": "text/x-python",
   "name": "python",
   "nbconvert_exporter": "python",
   "pygments_lexer": "ipython3",
   "version": "3.8.5"
  }
 },
 "nbformat": 4,
 "nbformat_minor": 4
}
