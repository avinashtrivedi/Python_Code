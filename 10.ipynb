{
 "cells": [
  {
   "cell_type": "code",
   "execution_count": 4,
   "metadata": {},
   "outputs": [
    {
     "data": {
      "image/png": "[encoded data removed]",
      "text/plain": [
       "<Figure size 432x288 with 1 Axes>"
      ]
     },
     "metadata": {
      "needs_background": "light"
     },
     "output_type": "display_data"
    }
   ],
   "source": [
    "import matplotlib.pyplot as plt\n",
    "import numpy as np\n",
    "\n",
    "x = np.random.normal(5, 10, 250)\n",
    "\n",
    "plt.hist(x)\n",
    "plt.show() "
   ]
  },
  {
   "cell_type": "code",
   "execution_count": 5,
   "metadata": {},
   "outputs": [
    {
     "data": {
      "text/plain": [
       "array([ 1.75230071e+01,  2.42504949e+00,  1.58263439e+00,  9.68857016e+00,\n",
       "       -3.28249139e+00,  2.94526027e-01,  4.72148185e+00,  1.32349444e+01,\n",
       "       -4.22828257e+00,  7.17740103e+00,  1.65707674e+01,  1.00784456e+01,\n",
       "        1.09820564e+01,  1.25539746e+01,  3.03604314e+00, -1.33793077e+01,\n",
       "        2.93966141e+00, -4.87924580e+00,  3.16924896e+01,  8.67912303e+00,\n",
       "        1.31688052e+01, -5.98737094e+00,  1.24804024e+01,  8.08754245e+00,\n",
       "        1.72888344e+01,  6.98742096e+00,  1.59350160e-01,  6.86379166e+00,\n",
       "        9.81204288e+00,  7.27572074e+00,  7.53695962e+00, -1.25814131e-01,\n",
       "       -1.32175955e+01,  9.20347935e+00,  1.79204474e+01,  4.05431478e-01,\n",
       "       -7.96272270e+00,  1.09658031e+01,  1.11714805e+01,  1.06279181e+01,\n",
       "        6.73768077e+00, -3.22053452e+00,  2.99465928e+00,  6.18809378e+00,\n",
       "       -3.25665066e+00,  7.41111419e+00,  5.15431341e+00,  1.23129116e+01,\n",
       "        3.42324037e+00,  2.70472551e+00,  2.15022433e+01, -7.88087185e-01,\n",
       "       -2.92376128e+00,  1.50278644e+01, -1.22224765e+01,  9.60703096e+00,\n",
       "       -4.45057457e+00,  1.49309902e+01,  1.98720091e+01,  1.44940380e+01,\n",
       "       -9.19770135e+00, -4.99825220e-01,  1.03279545e+01,  4.50225552e-01,\n",
       "       -1.08262243e+00,  1.84725017e-01,  3.26214754e+01,  5.66255299e-01,\n",
       "       -1.06560905e+01, -1.09547765e+01,  2.42357212e-01,  9.49325026e+00,\n",
       "        1.46863993e+01, -3.64348738e+00,  5.21660529e+00, -1.35165238e+01,\n",
       "       -3.08023703e+01,  1.40275197e+01, -5.59706665e+00,  1.10669778e+01,\n",
       "        1.73040772e+00,  1.27376678e+01, -4.94129822e-01,  1.75478483e+00,\n",
       "        1.39270165e+00, -3.04880438e+00,  5.38494727e+00,  6.89095670e+00,\n",
       "        7.67085617e+00, -6.19190953e+00,  1.66221408e+01,  1.31750161e+01,\n",
       "        2.99390724e+00,  1.65137895e+01,  5.22989040e+00,  4.19096949e+00,\n",
       "        5.13094861e+00, -4.92815167e+00, -8.56388508e-02,  1.26873741e+00,\n",
       "       -1.79687635e+00, -1.29145612e+01,  1.48040296e+01,  5.14983481e+00,\n",
       "        1.00208012e+01,  1.13972963e+01,  1.62942500e+01,  4.40220002e+00,\n",
       "       -1.47561295e+00,  3.21547360e+00,  1.58435756e+00,  6.58433409e+00,\n",
       "        2.19954428e+01, -8.85024275e+00,  1.14771943e+01, -7.08592908e+00,\n",
       "       -1.27555973e-01,  1.88406971e+01,  1.18640311e+01, -5.10450301e+00,\n",
       "        2.20488254e-01, -1.12507137e+01, -1.23043804e+01,  3.18698819e+01,\n",
       "       -4.60255301e+00,  3.03895162e+00,  2.86680364e+00,  9.54150633e+00,\n",
       "        1.02837519e+01,  2.21175107e+01,  1.91265788e+01, -7.13426206e+00,\n",
       "        1.01810788e+01,  2.35036772e+01,  1.15848965e+01,  1.35073349e+01,\n",
       "        8.32908342e-01,  1.15134870e+00, -5.81085216e+00,  1.15449561e+01,\n",
       "        4.93772296e+00,  2.64048487e+01, -3.90200687e-01,  8.97362496e+00,\n",
       "        3.42784342e+00, -2.50032207e+00,  8.17507902e+00,  1.00389120e+01,\n",
       "        1.77415469e+01, -6.46507709e-01,  2.08110936e+00,  7.02631791e+00,\n",
       "        1.80749100e+01, -4.32925985e+00, -1.06005967e+00, -1.44265047e+01,\n",
       "        1.15343834e+01,  1.14790394e+01,  1.77669238e+00,  8.16293049e+00,\n",
       "        2.69959361e+01,  2.63284569e+01,  1.84541040e+00,  7.39711597e+00,\n",
       "        1.84182458e+01, -7.92407958e+00, -9.69175417e+00,  1.17682884e+01,\n",
       "        9.37345277e+00,  1.44544119e+01,  1.03053559e+01,  1.17766253e-01,\n",
       "       -4.40939881e+00,  1.59111743e+01,  1.41036094e+01,  3.94647681e+00,\n",
       "        3.47790413e+00,  1.54718095e+00, -6.83823908e-01, -3.72716343e+00,\n",
       "        2.38823704e+01, -3.13662478e+01,  6.52346804e+00, -5.49617421e+00,\n",
       "       -2.90060146e+00,  5.20881728e+00,  1.46800805e+01,  7.07741303e+00,\n",
       "        1.75245977e+01,  7.74832787e+00,  3.19383388e+01, -7.60199813e+00,\n",
       "        4.63650153e+00, -2.56763866e+00, -4.67724171e+00,  2.29303151e+00,\n",
       "       -3.50639035e+00, -9.30600545e+00,  2.50401093e+01,  2.36666167e+01,\n",
       "       -1.98980435e+00,  1.43732089e+01,  8.44822511e+00,  1.88000441e+00,\n",
       "        6.24291226e+00, -1.59525814e+01, -1.41838036e+01,  1.35127593e+01,\n",
       "        1.05343741e+01, -1.18980211e+01,  1.15561203e+01, -7.51447879e+00,\n",
       "        7.80275037e+00,  1.35327496e+01,  7.96719213e+00,  7.54821064e+00,\n",
       "       -5.36812096e+00, -4.00653893e+00, -8.97020204e+00,  6.99989586e+00,\n",
       "        9.34474916e+00,  1.32463707e+01,  6.33637305e+00,  8.52498101e+00,\n",
       "        2.10576576e+01,  1.54032726e+01, -3.91706165e+00, -2.17683770e+01,\n",
       "        4.57275464e+00,  1.40658075e+01,  2.21669102e+01,  7.01644352e+00,\n",
       "       -6.30413582e-01,  1.45488578e+01,  8.48987208e-01, -1.18479833e+01,\n",
       "       -2.48627499e+00,  1.31485439e+01,  1.63227551e+00,  8.24571376e+00,\n",
       "        1.38726616e+01, -5.37487084e+00,  1.72178961e+01,  1.04949986e+01,\n",
       "       -3.11296957e+00,  6.62780749e+00,  1.75560317e-02,  1.36374789e+01,\n",
       "        1.30801634e+01,  3.87797143e+01])"
      ]
     },
     "execution_count": 5,
     "metadata": {},
     "output_type": "execute_result"
    }
   ],
   "source": [
    "plt.h"
   ]
  },
  {
   "cell_type": "code",
   "execution_count": null,
   "metadata": {},
   "outputs": [],
   "source": []
  }
 ],
 "metadata": {
  "kernelspec": {
   "display_name": "Python 3",
   "language": "python",
   "name": "python3"
  },
  "language_info": {
   "codemirror_mode": {
    "name": "ipython",
    "version": 3
   },
   "file_extension": ".py",
   "mimetype": "text/x-python",
   "name": "python",
   "nbconvert_exporter": "python",
   "pygments_lexer": "ipython3",
   "version": "3.8.5"
  }
 },
 "nbformat": 4,
 "nbformat_minor": 4
}
