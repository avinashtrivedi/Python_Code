{
 "cells": [
  {
   "cell_type": "code",
   "execution_count": 1,
   "metadata": {},
   "outputs": [
    {
     "data": {
      "text/plain": [
       "{'2020': {'CSE': ['20201199', '20101035'], 'CS': ['20141052', '20341121']},\n",
       " '2021': {'EEE': ['21121347', '21121875'],\n",
       "  'CS': ['21241369', '21141135'],\n",
       "  'Other': ['21272199', '21365001']},\n",
       " '2019': {'CS': ['19241187', '19141534'], 'CSE': ['19101007', '19301552']}}"
      ]
     },
     "execution_count": 1,
     "metadata": {},
     "output_type": "execute_result"
    }
   ],
   "source": [
    "# define list of IDs\n",
    "ID = ['20201199','21121347','20141052','20341121','21241369','21272199','19241187',\n",
    "      '19101007','20101035','21121875','19141534','19301552','21141135','21365001'] \n",
    "\n",
    "# define 4th and 5th digit as department name\n",
    "id_dept = {'01':'CSE',\n",
    "           '41':'CS',\n",
    "           '21':'EEE'}\n",
    "\n",
    "# dictionary to store all the details\n",
    "my_dict={}\n",
    "\n",
    "for myid in ID:\n",
    "    \n",
    "    # get the year\n",
    "    year = '20'+myid[:2]\n",
    "    \n",
    "    # get the department name\n",
    "    dept = id_dept.get(myid[3:5],'Other') \n",
    "    \n",
    "    # populate the dictionary my_dict\n",
    "    if year in my_dict:\n",
    "        if dept in my_dict[year]:\n",
    "            my_dict[year][dept].append(myid) \n",
    "        else:\n",
    "            my_dict[year][dept] = [myid]\n",
    "    else:\n",
    "        my_dict[year] = {}\n",
    "        my_dict[year][dept] = [myid]\n",
    "        \n",
    "my_dict"
   ]
  },
  {
   "cell_type": "code",
   "execution_count": 2,
   "metadata": {},
   "outputs": [
    {
     "name": "stdout",
     "output_type": "stream",
     "text": [
      "{'2020': {'CSE': ['20201199', '20101035'], 'CS': ['20141052', '20341121']}, '2021': {'EEE': ['21121347', '21121875'], 'CS': ['21241369', '21141135'], 'Other': ['21272199', '21365001']}, '2019': {'CS': ['19241187', '19141534'], 'CSE': ['19101007', '19301552']}}\n"
     ]
    }
   ],
   "source": [
    "print(my_dict)"
   ]
  },
  {
   "cell_type": "markdown",
   "metadata": {},
   "source": [
    "# another method to print"
   ]
  },
  {
   "cell_type": "code",
   "execution_count": 3,
   "metadata": {},
   "outputs": [
    {
     "name": "stdout",
     "output_type": "stream",
     "text": [
      "{\n",
      "    \"2020\": {\n",
      "        \"CSE\": [\n",
      "            \"20201199\",\n",
      "            \"20101035\"\n",
      "        ],\n",
      "        \"CS\": [\n",
      "            \"20141052\",\n",
      "            \"20341121\"\n",
      "        ]\n",
      "    },\n",
      "    \"2021\": {\n",
      "        \"EEE\": [\n",
      "            \"21121347\",\n",
      "            \"21121875\"\n",
      "        ],\n",
      "        \"CS\": [\n",
      "            \"21241369\",\n",
      "            \"21141135\"\n",
      "        ],\n",
      "        \"Other\": [\n",
      "            \"21272199\",\n",
      "            \"21365001\"\n",
      "        ]\n",
      "    },\n",
      "    \"2019\": {\n",
      "        \"CS\": [\n",
      "            \"19241187\",\n",
      "            \"19141534\"\n",
      "        ],\n",
      "        \"CSE\": [\n",
      "            \"19101007\",\n",
      "            \"19301552\"\n",
      "        ]\n",
      "    }\n",
      "}\n"
     ]
    }
   ],
   "source": [
    "import json\n",
    "print(json.dumps(my_dict, indent=4))"
   ]
  },
  {
   "cell_type": "code",
   "execution_count": null,
   "metadata": {},
   "outputs": [],
   "source": []
  }
 ],
 "metadata": {
  "kernelspec": {
   "display_name": "Python 3",
   "language": "python",
   "name": "python3"
  },
  "language_info": {
   "codemirror_mode": {
    "name": "ipython",
    "version": 3
   },
   "file_extension": ".py",
   "mimetype": "text/x-python",
   "name": "python",
   "nbconvert_exporter": "python",
   "pygments_lexer": "ipython3",
   "version": "3.8.5"
  }
 },
 "nbformat": 4,
 "nbformat_minor": 4
}
