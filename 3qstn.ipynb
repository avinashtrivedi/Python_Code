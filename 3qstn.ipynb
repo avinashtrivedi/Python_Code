{
 "cells": [
  {
   "cell_type": "markdown",
   "metadata": {},
   "source": [
    "# Q.1"
   ]
  },
  {
   "cell_type": "code",
   "execution_count": 1,
   "metadata": {},
   "outputs": [
    {
     "name": "stdout",
     "output_type": "stream",
     "text": [
      "Enter value in Malaysian Ringgit: 55\n",
      "Value in USD is: 13.41\n"
     ]
    }
   ],
   "source": [
    "rm = float(input('Enter value in Malaysian Ringgit: '))\n",
    "rm_to_usd = (1*rm)/4.10 # as 1 USD = 4.10 MYR\n",
    "\n",
    "# round: to round the decimal part upto 2 decimal places.\n",
    "print('Value in USD is:',round(rm_to_usd,2)) "
   ]
  },
  {
   "cell_type": "markdown",
   "metadata": {},
   "source": [
    "# Q.2"
   ]
  },
  {
   "cell_type": "code",
   "execution_count": 2,
   "metadata": {},
   "outputs": [
    {
     "name": "stdout",
     "output_type": "stream",
     "text": [
      "Enter the integer - 1: 4\n",
      "Enter the integer - 2: 5\n",
      "Enter the integer - 3: 5\n",
      "Enter the integer - 4: 4\n",
      "Enter the integer - 5: 1\n",
      "Enter the integer - 6: 1\n",
      "Enter the integer - 7: 2\n",
      "\n",
      "Values in ascending order.\n",
      "1 1 2 4 4 5 5 \n",
      "\n",
      "total: 10\n"
     ]
    }
   ],
   "source": [
    "mylist = []\n",
    "\n",
    "# take 7 integers from user\n",
    "# one integer at a time.\n",
    "for i in range(7):\n",
    "    num = int(input('Enter the integer - {}: '.format(i+1)))\n",
    "    mylist.append(num)\n",
    "    \n",
    "# sort the list and print in ascending order\n",
    "print('\\nValues in ascending order.')\n",
    "for i in sorted(mylist):\n",
    "    print(i,end=' ')\n",
    "\n",
    "print()\n",
    "\n",
    "# compute the total\n",
    "total = 0\n",
    "for i in mylist:\n",
    "    \n",
    "    # check if i is even and <= 50\n",
    "    if i<=50 and i%2==0:\n",
    "        total = total + i\n",
    "print('\\ntotal:',total)"
   ]
  },
  {
   "cell_type": "markdown",
   "metadata": {},
   "source": [
    "# Q.3"
   ]
  },
  {
   "cell_type": "code",
   "execution_count": 3,
   "metadata": {},
   "outputs": [],
   "source": [
    "def sumValue(d):\n",
    "    total = 0\n",
    "    \n",
    "    # go throuch each product code\n",
    "    for ProductCode in d:\n",
    "        \n",
    "        # if product code startwith 'a' then add its value in total.\n",
    "        if ProductCode.startswith('a'):\n",
    "            total = total + d[ProductCode]\n",
    "    return total"
   ]
  },
  {
   "cell_type": "code",
   "execution_count": 4,
   "metadata": {},
   "outputs": [
    {
     "data": {
      "text/plain": [
       "110"
      ]
     },
     "execution_count": 4,
     "metadata": {},
     "output_type": "execute_result"
    }
   ],
   "source": [
    "    d={'a001':100,'a002':10,'b001':1}\n",
    "    sumValue(d)"
   ]
  },
  {
   "cell_type": "code",
   "execution_count": 5,
   "metadata": {},
   "outputs": [
    {
     "data": {
      "text/plain": [
       "0"
      ]
     },
     "execution_count": 5,
     "metadata": {},
     "output_type": "execute_result"
    }
   ],
   "source": [
    "d={'b001':5,'c002':10,'d001':15}\n",
    "sumValue(d)"
   ]
  },
  {
   "cell_type": "code",
   "execution_count": 6,
   "metadata": {},
   "outputs": [
    {
     "data": {
      "text/plain": [
       "21"
      ]
     },
     "execution_count": 6,
     "metadata": {},
     "output_type": "execute_result"
    }
   ],
   "source": [
    "d={'a1':6,'a2':7,'a3':8}\n",
    "sumValue(d)"
   ]
  },
  {
   "cell_type": "code",
   "execution_count": 7,
   "metadata": {},
   "outputs": [
    {
     "name": "stdout",
     "output_type": "stream",
     "text": [
      "E -> T\n",
      "T -> N\n",
      "N ->  \n",
      "  -> 0\n",
      "f -> o\n",
      "o -> u\n",
      "u -> r\n",
      "r ->  \n",
      "0 -> 4\n"
     ]
    }
   ],
   "source": [
    "# sample string\n",
    "my_string = \"EETN four 04\"\n",
    "\n",
    "# empty dictionary\n",
    "my_dict = {}\n",
    "\n",
    "# This loop will run from 0 to one less than the length of above string\n",
    "# e.g. if the length is 10 then this loop will run from 0 to 9.\n",
    "\n",
    "for i in range(0,len(my_string) -1):\n",
    "    \n",
    "    # save the current character pointed by index i\n",
    "    current_char = my_string[i]\n",
    "\n",
    "    # save the next character using index i+1\n",
    "    next_char = my_string[i + 1]\n",
    "\n",
    "    # add items in dictionary\n",
    "    # the current character will become KEY of dictionary\n",
    "    # and the next character will become VALUE of that KEY\n",
    "    \n",
    "    # Also, by the default nature of dictionary, if the KEY already exists in the dictionary\n",
    "    # then the same KEY will not be added again into dictionary,\n",
    "    # but their existing value will be updated\n",
    "    \n",
    "    my_dict[current_char] = next_char\n",
    "\n",
    "# once above loop ends. we have Dictionary of key:value pairs.\n",
    "\n",
    "# now loop through the dictionary KEYs and print the key,value pairs.\n",
    "for key in my_dict:\n",
    "\n",
    "    print(key + \" -> \" + my_dict[key])"
   ]
  },
  {
   "cell_type": "markdown",
   "metadata": {},
   "source": [
    "# For better understanding"
   ]
  },
  {
   "cell_type": "code",
   "execution_count": 8,
   "metadata": {},
   "outputs": [
    {
     "data": {
      "text/plain": [
       "'EETN four 04'"
      ]
     },
     "execution_count": 8,
     "metadata": {},
     "output_type": "execute_result"
    }
   ],
   "source": [
    "# sample string\n",
    "my_string = \"EETN four 04\"\n",
    "\n",
    "my_string"
   ]
  },
  {
   "cell_type": "code",
   "execution_count": 9,
   "metadata": {},
   "outputs": [
    {
     "data": {
      "text/plain": [
       "{}"
      ]
     },
     "execution_count": 9,
     "metadata": {},
     "output_type": "execute_result"
    }
   ],
   "source": [
    "# empty dictionary\n",
    "my_dict = {}\n",
    "\n",
    "my_dict"
   ]
  },
  {
   "cell_type": "code",
   "execution_count": 10,
   "metadata": {},
   "outputs": [
    {
     "data": {
      "text/plain": [
       "12"
      ]
     },
     "execution_count": 10,
     "metadata": {},
     "output_type": "execute_result"
    }
   ],
   "source": [
    "len(my_string) # length"
   ]
  },
  {
   "cell_type": "code",
   "execution_count": 11,
   "metadata": {},
   "outputs": [
    {
     "data": {
      "text/plain": [
       "range(0, 11)"
      ]
     },
     "execution_count": 11,
     "metadata": {},
     "output_type": "execute_result"
    }
   ],
   "source": [
    "# produces a sequence of integers from 0 to 11, excluding 11\n",
    "range(0,len(my_string) -1)"
   ]
  },
  {
   "cell_type": "code",
   "execution_count": 12,
   "metadata": {},
   "outputs": [
    {
     "data": {
      "text/plain": [
       "[0, 1, 2, 3, 4, 5, 6, 7, 8, 9, 10]"
      ]
     },
     "execution_count": 12,
     "metadata": {},
     "output_type": "execute_result"
    }
   ],
   "source": [
    "# for better understanding, put it inside list()\n",
    "\n",
    "list(range(0,len(my_string) -1))\n",
    "\n",
    "# hence for loop will run from 0 to 10"
   ]
  },
  {
   "cell_type": "code",
   "execution_count": 13,
   "metadata": {},
   "outputs": [
    {
     "data": {
      "text/plain": [
       "'EETN four 04'"
      ]
     },
     "execution_count": 13,
     "metadata": {},
     "output_type": "execute_result"
    }
   ],
   "source": [
    "#my_string[i]\n",
    "\n",
    "my_string"
   ]
  },
  {
   "cell_type": "code",
   "execution_count": 14,
   "metadata": {},
   "outputs": [
    {
     "data": {
      "text/plain": [
       "'T'"
      ]
     },
     "execution_count": 14,
     "metadata": {},
     "output_type": "execute_result"
    }
   ],
   "source": [
    "i=2 # e.g. current index\n",
    "current_char = my_string[2] # current character pointed by i\n",
    "\n",
    "current_char"
   ]
  },
  {
   "cell_type": "code",
   "execution_count": 15,
   "metadata": {},
   "outputs": [
    {
     "data": {
      "text/plain": [
       "'N'"
      ]
     },
     "execution_count": 15,
     "metadata": {},
     "output_type": "execute_result"
    }
   ],
   "source": [
    "next_char = my_string[i + 1] # Next character pointed by i\n",
    "\n",
    "next_char"
   ]
  },
  {
   "cell_type": "code",
   "execution_count": 16,
   "metadata": {},
   "outputs": [
    {
     "data": {
      "text/plain": [
       "{'T': 'N'}"
      ]
     },
     "execution_count": 16,
     "metadata": {},
     "output_type": "execute_result"
    }
   ],
   "source": [
    "# add items in dictionary\n",
    "my_dict[current_char] = next_char\n",
    "\n",
    "my_dict"
   ]
  },
  {
   "cell_type": "code",
   "execution_count": 17,
   "metadata": {},
   "outputs": [
    {
     "data": {
      "text/plain": [
       "{'T': 'P'}"
      ]
     },
     "execution_count": 17,
     "metadata": {},
     "output_type": "execute_result"
    }
   ],
   "source": [
    "# similarly,Try to add same key. suppose current character is 'T' and next character is 'P'\n",
    "\n",
    "my_dict['T'] = 'P'\n",
    "\n",
    "my_dict # Here KEY is same i.e. 'T' but value is updated with 'P' "
   ]
  },
  {
   "cell_type": "code",
   "execution_count": 18,
   "metadata": {},
   "outputs": [],
   "source": [
    "my_dict = {} # create a fresh empty dictionary\n",
    "for i in range(0,len(my_string) -1):\n",
    "    current_char = my_string[i]\n",
    "    next_char = my_string[i + 1]\n",
    "    my_dict[current_char] = next_char"
   ]
  },
  {
   "cell_type": "code",
   "execution_count": 19,
   "metadata": {},
   "outputs": [
    {
     "data": {
      "text/plain": [
       "{'E': 'T',\n",
       " 'T': 'N',\n",
       " 'N': ' ',\n",
       " ' ': '0',\n",
       " 'f': 'o',\n",
       " 'o': 'u',\n",
       " 'u': 'r',\n",
       " 'r': ' ',\n",
       " '0': '4'}"
      ]
     },
     "execution_count": 19,
     "metadata": {},
     "output_type": "execute_result"
    }
   ],
   "source": [
    "my_dict # display the dictionary"
   ]
  },
  {
   "cell_type": "code",
   "execution_count": 20,
   "metadata": {},
   "outputs": [
    {
     "name": "stdout",
     "output_type": "stream",
     "text": [
      "Key | value\n",
      "----------\n",
      "E -> T\n",
      "T -> N\n",
      "N ->  \n",
      "  -> 0\n",
      "f -> o\n",
      "o -> u\n",
      "u -> r\n",
      "r ->  \n",
      "0 -> 4\n"
     ]
    }
   ],
   "source": [
    "print('Key','|','value')\n",
    "print('----------')\n",
    "for key in my_dict:\n",
    "\n",
    "    print(key + \" -> \" + my_dict[key])"
   ]
  },
  {
   "cell_type": "code",
   "execution_count": null,
   "metadata": {},
   "outputs": [],
   "source": []
  },
  {
   "cell_type": "code",
   "execution_count": 46,
   "metadata": {},
   "outputs": [],
   "source": [
    "import re"
   ]
  },
  {
   "cell_type": "code",
   "execution_count": 50,
   "metadata": {},
   "outputs": [],
   "source": [
    "text=\"<span>12</span><span>Betty</span><span>123</span>\"\n",
    "\n",
    "regex = '<span>[0-9](.+?)</span>'"
   ]
  },
  {
   "cell_type": "code",
   "execution_count": 51,
   "metadata": {},
   "outputs": [
    {
     "data": {
      "text/plain": [
       "['2', '23']"
      ]
     },
     "execution_count": 51,
     "metadata": {},
     "output_type": "execute_result"
    }
   ],
   "source": [
    "re.findall(regex,text)"
   ]
  },
  {
   "cell_type": "code",
   "execution_count": null,
   "metadata": {},
   "outputs": [],
   "source": []
  }
 ],
 "metadata": {
  "kernelspec": {
   "display_name": "Python 3",
   "language": "python",
   "name": "python3"
  },
  "language_info": {
   "codemirror_mode": {
    "name": "ipython",
    "version": 3
   },
   "file_extension": ".py",
   "mimetype": "text/x-python",
   "name": "python",
   "nbconvert_exporter": "python",
   "pygments_lexer": "ipython3",
   "version": "3.8.5"
  }
 },
 "nbformat": 4,
 "nbformat_minor": 4
}
