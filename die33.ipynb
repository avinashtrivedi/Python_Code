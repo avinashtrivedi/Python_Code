{
 "cells": [
  {
   "cell_type": "markdown",
   "metadata": {},
   "source": [
    "# Plan to implement"
   ]
  },
  {
   "cell_type": "markdown",
   "metadata": {},
   "source": [
    "- 1) receive input for 2 or 3 dices\n",
    "- 2) receive input for number of simulation\n",
    "- 3) randomly generate rolling for Die1 and Die2, (consider only 2 Dice Game)\n",
    "- 4) create a list to keep track of the number of occurrence of different count i.e. (die1 roll + die2 roll)\n",
    "- 5) finally loop through that list and print which value rolled how many times and also print ASCII art chart"
   ]
  },
  {
   "cell_type": "markdown",
   "metadata": {},
   "source": [
    "# concept used"
   ]
  },
  {
   "cell_type": "markdown",
   "metadata": {},
   "source": [
    "- random number\n",
    "- if - else\n",
    "- for loop\n",
    "- list"
   ]
  },
  {
   "cell_type": "code",
   "execution_count": 1,
   "metadata": {},
   "outputs": [
    {
     "data": {
      "text/plain": [
       "2"
      ]
     },
     "execution_count": 1,
     "metadata": {},
     "output_type": "execute_result"
    }
   ],
   "source": [
    "# random number\n",
    "import random\n",
    "random.randint(1,6) # generate random number between 1 to 6"
   ]
  },
  {
   "cell_type": "code",
   "execution_count": 2,
   "metadata": {},
   "outputs": [
    {
     "name": "stdout",
     "output_type": "stream",
     "text": [
      "I am two\n"
     ]
    }
   ],
   "source": [
    "# if-else\n",
    "x =2\n",
    "if x==2:\n",
    "    print('I am two')\n",
    "else:\n",
    "    print('wrong')"
   ]
  },
  {
   "cell_type": "code",
   "execution_count": 3,
   "metadata": {},
   "outputs": [
    {
     "name": "stdout",
     "output_type": "stream",
     "text": [
      "0\n",
      "1\n",
      "2\n",
      "3\n",
      "4\n",
      "5\n",
      "6\n",
      "7\n",
      "8\n",
      "9\n"
     ]
    }
   ],
   "source": [
    "# for loop\n",
    "for i in range(10): # run the loop for 10 times\n",
    "    print(i)"
   ]
  },
  {
   "cell_type": "code",
   "execution_count": 4,
   "metadata": {},
   "outputs": [
    {
     "data": {
      "text/plain": [
       "[3, 5, 1, 3, 8, 9]"
      ]
     },
     "execution_count": 4,
     "metadata": {},
     "output_type": "execute_result"
    }
   ],
   "source": [
    "# list\n",
    "mylist = [3,5,1,3,8,9]\n",
    "mylist"
   ]
  },
  {
   "cell_type": "code",
   "execution_count": 5,
   "metadata": {},
   "outputs": [
    {
     "data": {
      "text/plain": [
       "[0, 0, 0, 0, 0, 0, 0, 0, 0, 0, 0, 0, 0]"
      ]
     },
     "execution_count": 5,
     "metadata": {},
     "output_type": "execute_result"
    }
   ],
   "source": [
    "[0]*13 # concept. it will create a list of size 13 containing all zero"
   ]
  },
  {
   "cell_type": "code",
   "execution_count": 6,
   "metadata": {},
   "outputs": [
    {
     "name": "stdout",
     "output_type": "stream",
     "text": [
      "Welcome to dice-roll simulator.\n",
      "Would you like to roll 2 or 3 dices? 2\n",
      "We will now simulate rolling 2 dices. How many times would you like to roll 2 dices? \n",
      "\n",
      "Enter a positive integer value between 1 and 200: 45\n",
      "We will roll 2 dices 45 times.\n",
      "\n",
      "Rolling...... this will take a few seconds, please wait.\n",
      "We've finished rolling 2 dices 45 times and obtained the following result:\n",
      "\n",
      "3 has been rolled 2 times\n",
      "4 has been rolled 8 times\n",
      "5 has been rolled 1 times\n",
      "6 has been rolled 8 times\n",
      "7 has been rolled 7 times\n",
      "8 has been rolled 10 times\n",
      "9 has been rolled 4 times\n",
      "10 has been rolled 3 times\n",
      "11 has been rolled 1 times\n",
      "12 has been rolled 1 times\n",
      "\n",
      "Visual Representation.ASCII art chart: \n",
      "1: 2: 3: **4: ********5: *6: ********7: *******8: **********9: ****10: ***11: *12: *\n",
      "\n",
      "Thank you for using the dice-roll simulator, see you next time!\n"
     ]
    }
   ],
   "source": [
    "# import library\n",
    "import time\n",
    "import random \n",
    "\n",
    "# store count of each roll, i.e. sum of values of rolls for die1 and die2\n",
    "rolled_sum = [0]*13 # initially \n",
    "\n",
    "print(\"Welcome to dice-roll simulator.\")\n",
    "while True:\n",
    "    try:\n",
    "        no_of_dice = int(input(\"Would you like to roll 2 or 3 dices? \"))\n",
    "        if no_of_dice==2:\n",
    "            print(\"We will now simulate rolling 2 dices. How many times would you like to roll 2 dices? \")\n",
    "            \n",
    "            # loop will prompt to enter valid number between 1-200\n",
    "            while True:\n",
    "                no_of_simulation = input(\"\\nEnter a positive integer value between 1 and 200: \")\n",
    "                if no_of_simulation.isdigit()==True:\n",
    "                    no_of_simulation = int(no_of_simulation)\n",
    "                    if 1<=no_of_simulation <=200:\n",
    "                        break\n",
    "                    else:\n",
    "                        print('wrong input.Enter a value between 1 and 200.please try again.')\n",
    "                else:\n",
    "                    print('wrong input.Please try again.')\n",
    "                    \n",
    "            print(\"We will roll 2 dices {} times.\".format(no_of_simulation))\n",
    "            print(\"\\nRolling...... this will take a few seconds, please wait.\")\n",
    "            \n",
    "            # 3 second sleep\n",
    "            time.sleep(3)\n",
    "\n",
    "            for i in range(no_of_simulation):\n",
    "                die_1_roll = random.randint(1,6) # die1 roll\n",
    "                die_2_roll = random.randint(1,6) # die2 roll\n",
    "                total = die_1_roll + die_2_roll\n",
    "                \n",
    "                # increase the count for values received in each rolls\n",
    "                rolled_sum[total] = rolled_sum[total] + 1\n",
    "                \n",
    "            print(\"We've finished rolling 2 dices {} times and obtained the following result:\\n\".format(no_of_simulation))\n",
    "            \n",
    "            # printing the message\n",
    "            for i in range(len(rolled_sum)):\n",
    "                if rolled_sum[i]!=0:\n",
    "                    print(\"{} has been rolled {} times\".format(i,rolled_sum[i]))\n",
    "\n",
    "            print(\"\\nVisual Representation.ASCII art chart: \")\n",
    "            for i in range(1,len(rolled_sum)):\n",
    "                print(\"{}: \".format(i),end='')\n",
    "                if rolled_sum[i]!=0:\n",
    "                    for x in range(rolled_sum[i]):\n",
    "                        print(\"*\",end='')\n",
    "                    \n",
    "            print(\"\\n\\nThank you for using the dice-roll simulator, see you next time!\")\n",
    "            break\n",
    "        elif no_of_dice==3:\n",
    "            print(\"\\nSimulating 3 dices feature has not been implemented. Please choose rolling 2 dices.\\n\")\n",
    "        else:\n",
    "            print(\"wrong input.Please try again.\")\n",
    "    except:\n",
    "        print(\"wrong input.Please try again.\")"
   ]
  },
  {
   "cell_type": "code",
   "execution_count": null,
   "metadata": {},
   "outputs": [],
   "source": []
  }
 ],
 "metadata": {
  "kernelspec": {
   "display_name": "Python 3",
   "language": "python",
   "name": "python3"
  },
  "language_info": {
   "codemirror_mode": {
    "name": "ipython",
    "version": 3
   },
   "file_extension": ".py",
   "mimetype": "text/x-python",
   "name": "python",
   "nbconvert_exporter": "python",
   "pygments_lexer": "ipython3",
   "version": "3.8.5"
  }
 },
 "nbformat": 4,
 "nbformat_minor": 4
}
