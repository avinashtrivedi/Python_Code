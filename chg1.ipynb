{
 "cells": [
  {
   "cell_type": "code",
   "execution_count": 1,
   "metadata": {},
   "outputs": [],
   "source": [
    "# import the library\n",
    "import numpy as np"
   ]
  },
  {
   "cell_type": "code",
   "execution_count": 2,
   "metadata": {},
   "outputs": [],
   "source": [
    "# data points\n",
    "data =[[74.8, 74.6, 72.1, 74,  75.1],\n",
    " [74.7, 74.4, 74.8, 74.5, 74.9],\n",
    " [74.3, 75,  73.9, 71.3, 75 ],\n",
    " [73.6, 74.1, 73.4, 73.8, 74.7]]"
   ]
  },
  {
   "cell_type": "code",
   "execution_count": 3,
   "metadata": {},
   "outputs": [],
   "source": [
    "# data points as an array\n",
    "data = np.array(data)"
   ]
  },
  {
   "cell_type": "code",
   "execution_count": 4,
   "metadata": {},
   "outputs": [],
   "source": [
    "# get the copy of datapoint\n",
    "new_data = data.copy()\n",
    "\n",
    "# iterate through the points\n",
    "for i in range(len(new_data)):\n",
    "    \n",
    "    # compute mean and standard deviation.\n",
    "    mean = new_data[i].mean()\n",
    "    std = new_data[i].std()\n",
    "    \n",
    "    # replace data points outside the range with mean value.\n",
    "    for j in range(len(new_data[i])):\n",
    "        if new_data[i][j] < mean-1.5*std or new_data[i][j] > mean+1.5*std:\n",
    "            new_data[i][j] = mean"
   ]
  },
  {
   "cell_type": "code",
   "execution_count": 5,
   "metadata": {},
   "outputs": [
    {
     "name": "stdout",
     "output_type": "stream",
     "text": [
      "[[74.8  74.6  74.12 74.   75.1 ]\n",
      " [74.7  74.4  74.8  74.5  74.9 ]\n",
      " [74.3  75.   73.9  73.9  75.  ]\n",
      " [73.6  74.1  73.4  73.8  73.92]]\n"
     ]
    }
   ],
   "source": [
    "# display\n",
    "print(new_data)"
   ]
  },
  {
   "cell_type": "code",
   "execution_count": null,
   "metadata": {},
   "outputs": [],
   "source": []
  }
 ],
 "metadata": {
  "kernelspec": {
   "display_name": "Python 3",
   "language": "python",
   "name": "python3"
  },
  "language_info": {
   "codemirror_mode": {
    "name": "ipython",
    "version": 3
   },
   "file_extension": ".py",
   "mimetype": "text/x-python",
   "name": "python",
   "nbconvert_exporter": "python",
   "pygments_lexer": "ipython3",
   "version": "3.8.5"
  }
 },
 "nbformat": 4,
 "nbformat_minor": 4
}
