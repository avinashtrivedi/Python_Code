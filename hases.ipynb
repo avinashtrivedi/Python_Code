{
 "cells": [
  {
   "cell_type": "code",
   "execution_count": 1,
   "metadata": {},
   "outputs": [],
   "source": [
    "def markdownParser(markdown):\n",
    "    \n",
    "    # get the index of first space\n",
    "    IndexOfFirstSpace = markdown.find(' ')\n",
    "    \n",
    "    # get the hases using string slicing\n",
    "    hashes = markdown[:IndexOfFirstSpace]\n",
    "    \n",
    "    # remove leading and trailing whitespaces\n",
    "    hashes = hashes.strip()\n",
    "    \n",
    "    # get the text using string slicing\n",
    "    text = markdown[IndexOfFirstSpace+1:]\n",
    "    \n",
    "    # remove leading and trailing whitespaces\n",
    "    text = text.strip()\n",
    "    \n",
    "    # check if hases contains only '#'\n",
    "    # and number of hases to be less than or equal to 6\n",
    "    if set(hashes) == set('#') and len(hashes)<=6:\n",
    "        \n",
    "        # find the number of hases\n",
    "        no_hash = len(hashes)\n",
    "        \n",
    "        # create translated markdown\n",
    "        translated_markdown = '<h' + str(no_hash) + '>' + text + '<h' + str(no_hash) + '/>'\n",
    "    \n",
    "    # if markdown is invalid\n",
    "    else:\n",
    "        translated_markdown = markdown\n",
    "\n",
    "    # return translated markdown\n",
    "    return translated_markdown"
   ]
  },
  {
   "cell_type": "markdown",
   "metadata": {},
   "source": [
    "# Test"
   ]
  },
  {
   "cell_type": "code",
   "execution_count": 2,
   "metadata": {},
   "outputs": [
    {
     "data": {
      "text/plain": [
       "'<h1>Header<h1/>'"
      ]
     },
     "execution_count": 2,
     "metadata": {},
     "output_type": "execute_result"
    }
   ],
   "source": [
    "markdownParser('# Header')"
   ]
  },
  {
   "cell_type": "code",
   "execution_count": 3,
   "metadata": {},
   "outputs": [
    {
     "data": {
      "text/plain": [
       "'<h2>Header<h2/>'"
      ]
     },
     "execution_count": 3,
     "metadata": {},
     "output_type": "execute_result"
    }
   ],
   "source": [
    "markdownParser('## Header')"
   ]
  },
  {
   "cell_type": "code",
   "execution_count": 4,
   "metadata": {},
   "outputs": [
    {
     "data": {
      "text/plain": [
       "'<h6>Header<h6/>'"
      ]
     },
     "execution_count": 4,
     "metadata": {},
     "output_type": "execute_result"
    }
   ],
   "source": [
    "markdownParser('###### Header')"
   ]
  },
  {
   "cell_type": "code",
   "execution_count": 5,
   "metadata": {},
   "outputs": [
    {
     "data": {
      "text/plain": [
       "'#Invalid Text'"
      ]
     },
     "execution_count": 5,
     "metadata": {},
     "output_type": "execute_result"
    }
   ],
   "source": [
    "markdownParser('#Invalid Text')"
   ]
  },
  {
   "cell_type": "code",
   "execution_count": 6,
   "metadata": {},
   "outputs": [
    {
     "data": {
      "text/plain": [
       "'############ Invalid Text'"
      ]
     },
     "execution_count": 6,
     "metadata": {},
     "output_type": "execute_result"
    }
   ],
   "source": [
    "markdownParser('############ Invalid Text')"
   ]
  },
  {
   "cell_type": "code",
   "execution_count": null,
   "metadata": {},
   "outputs": [],
   "source": []
  }
 ],
 "metadata": {
  "kernelspec": {
   "display_name": "Python 3",
   "language": "python",
   "name": "python3"
  },
  "language_info": {
   "codemirror_mode": {
    "name": "ipython",
    "version": 3
   },
   "file_extension": ".py",
   "mimetype": "text/x-python",
   "name": "python",
   "nbconvert_exporter": "python",
   "pygments_lexer": "ipython3",
   "version": "3.8.5"
  }
 },
 "nbformat": 4,
 "nbformat_minor": 4
}
