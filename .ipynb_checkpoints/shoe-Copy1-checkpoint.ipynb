{
 "cells": [
  {
   "cell_type": "markdown",
   "metadata": {},
   "source": [
    "# Problem (a) is to take a list of floating-point numbers representing foot lengths in inches and convert it to a list of the corresponding shoe sizes, rounded to the nearest 0.5"
   ]
  },
  {
   "cell_type": "markdown",
   "metadata": {},
   "source": [
    "# Algorithm"
   ]
  },
  {
   "cell_type": "markdown",
   "metadata": {},
   "source": [
    "function(list_of_foot_length)\n",
    "\n",
    "- 1) Define a list to store the rounded values,i.e rounded_list\n",
    "- 2) Select 1st element from the given list list_of_foot_length of foot lengths\n",
    "- 3) and round it to nearest 0.5 using the formula round(element*2)/2 \n",
    "- 4) Save this rounded value to rounded_list list,using rounded_list.append(round(element*2)/2)\n",
    "- 5) Repeat step 2 to 4 for all the remaining list elements.\n",
    "- 6) In the end, return the rounded_list,i.e return rounded_list"
   ]
  },
  {
   "cell_type": "markdown",
   "metadata": {},
   "source": [
    "# Code"
   ]
  },
  {
   "cell_type": "code",
   "execution_count": 1,
   "metadata": {},
   "outputs": [],
   "source": [
    "# Define a function to round the list of foot lengths\n",
    "def round_foot_length(list_of_foot_length):\n",
    "    # define a list to save the rounded foot lengths.\n",
    "    rounded_list=[]\n",
    "    # round each list element to its nearest 0.5\n",
    "    # use round(x*2)/2,as given in question to round the foot length\n",
    "    for x in list_of_foot_length:\n",
    "        # append each rounded values in rounded_list\n",
    "        rounded_list.append(round(x*2)/2)\n",
    "    # return the rounded_list\n",
    "    return rounded_list"
   ]
  },
  {
   "cell_type": "code",
   "execution_count": 2,
   "metadata": {},
   "outputs": [
    {
     "data": {
      "text/plain": [
       "[2.0, 3.5, 3.5, 7.0]"
      ]
     },
     "execution_count": 2,
     "metadata": {},
     "output_type": "execute_result"
    }
   ],
   "source": [
    "round_foot_length([2.2,3.3,3.4,7.2]) # call function round_foot_length() with [2.2,3.3,3.4,7.2] as list of foot lengths"
   ]
  },
  {
   "cell_type": "code",
   "execution_count": 3,
   "metadata": {},
   "outputs": [
    {
     "data": {
      "text/plain": [
       "[4.5, 2.5, 1.0, 5.5, 7.5, 9.5]"
      ]
     },
     "execution_count": 3,
     "metadata": {},
     "output_type": "execute_result"
    }
   ],
   "source": [
    "round_foot_length([4.3,2.7,1.1,5.5,7.4,9.6]) "
   ]
  },
  {
   "cell_type": "markdown",
   "metadata": {},
   "source": [
    "# Test Case"
   ]
  },
  {
   "cell_type": "markdown",
   "metadata": {},
   "source": [
    "<table style=\"border: 1px solid black;\">\n",
    "  <tr style=\"border: 1px solid black;\">\n",
    "    <th style=\"border: 1px solid black;\">Input</th>\n",
    "    <th style=\"border: 1px solid black;\">Output</th>\n",
    "    <th style=\"border: 1px solid black;\">Brief explanation </th>\n",
    "  </tr>\n",
    "  <tr style=\"border: 1px solid black;\">\n",
    "    <td style=\"border: 1px solid black;\">[2.2,3.3,3.4,7.2]</td>\n",
    "    <td style=\"border: 1px solid black;\">[2.0, 3.5, 3.5, 7.0]</td>\n",
    "    <td style=\"border: 1px solid black;\">Test foot lengths,below 0.5 in decimal place,like 2.2 ,Here 0.2 is below 0.5</td>\n",
    "  </tr>\n",
    "  <tr style=\"border: 1px solid black;\">\n",
    "    <td style=\"border: 1px solid black;\">[4.3,2.7,1.1,5.5,7.4,9.6]</td>\n",
    "    <td style=\"border: 1px solid black;\">[4.5, 2.5, 1.0, 5.5, 7.5, 9.5]</td>\n",
    "    <td style=\"border: 1px solid black;\">To test foot length with decimal value equal to 0.5,above 0.5 and below 0.5</td>\n",
    "  </tr>\n",
    " \n",
    "</table>"
   ]
  },
  {
   "cell_type": "markdown",
   "metadata": {},
   "source": [
    "<hr>"
   ]
  },
  {
   "cell_type": "markdown",
   "metadata": {},
   "source": [
    "# Problem b. is to take a list of numbers and a target number and find what the greatest difference is between any number in the list and the target."
   ]
  },
  {
   "cell_type": "markdown",
   "metadata": {},
   "source": [
    "# Algorithm"
   ]
  },
  {
   "cell_type": "markdown",
   "metadata": {},
   "source": [
    "function(list_of_number,target)\n",
    "- 1) Create a list called diff_list\n",
    "- 2) Save the absolute difference of target and each element of input list into it.\n",
    "- 3) get the maximum of the list diff_list \n",
    "- 4) return maximum value."
   ]
  },
  {
   "cell_type": "markdown",
   "metadata": {},
   "source": [
    "# Code"
   ]
  },
  {
   "cell_type": "code",
   "execution_count": 4,
   "metadata": {},
   "outputs": [],
   "source": [
    "def greatest_diff(list_num,target):\n",
    "    diff_list=[] # list to store the difference\n",
    "    for i in list_num:\n",
    "        diff_list.append(abs(target-i)) # store all the difference one by one\n",
    "    return round(max(diff_list), 2) # return max difference with upto 2 decimal places"
   ]
  },
  {
   "cell_type": "code",
   "execution_count": 5,
   "metadata": {},
   "outputs": [
    {
     "data": {
      "text/plain": [
       "0.4"
      ]
     },
     "execution_count": 5,
     "metadata": {},
     "output_type": "execute_result"
    }
   ],
   "source": [
    "list_num = [10.6, 11.0, 11.1, 10.3, 10.5, 10.8]\n",
    "target = 10.7 \n",
    "greatest_diff(list_num,target)"
   ]
  },
  {
   "cell_type": "code",
   "execution_count": 6,
   "metadata": {},
   "outputs": [
    {
     "data": {
      "text/plain": [
       "5.0"
      ]
     },
     "execution_count": 6,
     "metadata": {},
     "output_type": "execute_result"
    }
   ],
   "source": [
    "list_num = [8.7, 11.0, 6.3, 8.5, 12.2, 10.1]\n",
    "target = 11.3\n",
    "greatest_diff(list_num,target)"
   ]
  },
  {
   "cell_type": "markdown",
   "metadata": {},
   "source": [
    "# Test Case"
   ]
  },
  {
   "cell_type": "markdown",
   "metadata": {},
   "source": [
    "<table style=\"border: 1px solid black;\">\n",
    "  <tr style=\"border: 1px solid black;\">\n",
    "    <th style=\"border: 1px solid black;\">Input</th>\n",
    "    <th style=\"border: 1px solid black;\">Output</th>\n",
    "    <th style=\"border: 1px solid black;\">Brief explanation </th>\n",
    "  </tr>\n",
    "  <tr style=\"border: 1px solid black;\">\n",
    "    <td style=\"border: 1px solid black;\">[10.6, 11.0, 11.1, 10.3, 10.5, 10.8] and target = 10.7</td>\n",
    "    <td style=\"border: 1px solid black;\">0.4</td>\n",
    "    <td style=\"border: 1px solid black;\">Test where the difference is low</td>\n",
    "  </tr>\n",
    "  <tr style=\"border: 1px solid black;\">\n",
    "    <td style=\"border: 1px solid black;\">[8.7, 11.0, 6.3, 8.5, 12.2, 10.1] and target = 11.3</td>\n",
    "    <td style=\"border: 1px solid black;\">5.0</td>\n",
    "    <td style=\"border: 1px solid black;\">Test the different combinations of shoe lengths where difference is huge</td>\n",
    "  </tr>\n",
    " \n",
    "</table>"
   ]
  },
  {
   "cell_type": "code",
   "execution_count": null,
   "metadata": {},
   "outputs": [],
   "source": []
  }
 ],
 "metadata": {
  "kernelspec": {
   "display_name": "Python 3",
   "language": "python",
   "name": "python3"
  },
  "language_info": {
   "codemirror_mode": {
    "name": "ipython",
    "version": 3
   },
   "file_extension": ".py",
   "mimetype": "text/x-python",
   "name": "python",
   "nbconvert_exporter": "python",
   "pygments_lexer": "ipython3",
   "version": "3.8.5"
  }
 },
 "nbformat": 4,
 "nbformat_minor": 4
}
