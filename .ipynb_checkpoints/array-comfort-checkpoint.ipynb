{
 "cells": [
  {
   "cell_type": "code",
   "execution_count": 1,
   "metadata": {},
   "outputs": [],
   "source": [
    "# import the library\n",
    "import numpy as np\n",
    "\n",
    "# define the function.\n",
    "\n",
    "def add_two_numpy_arrays(np_array_A, np_array_B):\n",
    "    \n",
    "    # try-except block to handle cases of wrong input\n",
    "    try:\n",
    "        \n",
    "        # two numpy array can be added only if their dimentions are same\n",
    "        if np_array_A.shape == np_array_B.shape:\n",
    "            \n",
    "            # compute the addition\n",
    "            total = np_array_A + np_array_B\n",
    "            \n",
    "            # return the result.\n",
    "            return total\n",
    "        \n",
    "        # otherwise arrays are not conformable \n",
    "        else:\n",
    "            return \"arrays are not conformable\"\n",
    "    except:\n",
    "        return \"arrays are not conformable\""
   ]
  },
  {
   "cell_type": "markdown",
   "metadata": {},
   "source": [
    "# Test Case"
   ]
  },
  {
   "cell_type": "code",
   "execution_count": 2,
   "metadata": {},
   "outputs": [
    {
     "name": "stdout",
     "output_type": "stream",
     "text": [
      "np_array_A:\n",
      " [[1 2 3]\n",
      " [3 4 5]\n",
      " [5 6 7]]\n",
      "\n",
      "np_array_B: \n",
      " [[ 3  4  5]\n",
      " [ 3  6  7]\n",
      " [ 5 16 17]]\n",
      "\n",
      "np_array_A + np_array_B:\n",
      "[[ 4  6  8]\n",
      " [ 6 10 12]\n",
      " [10 22 24]]\n"
     ]
    }
   ],
   "source": [
    "np_array_A = np.array([[1,2,3],[3,4,5],[5,6,7]])\n",
    "np_array_B = np.array([[3,4,5],[3,6,7],[5,16,17]])\n",
    "\n",
    "print('np_array_A:\\n',np_array_A)\n",
    "print()\n",
    "print('np_array_B: \\n',np_array_B)\n",
    "print()\n",
    "print('np_array_A + np_array_B:')\n",
    "print(add_two_numpy_arrays(np_array_A,np_array_B))"
   ]
  },
  {
   "cell_type": "code",
   "execution_count": 3,
   "metadata": {},
   "outputs": [
    {
     "name": "stdout",
     "output_type": "stream",
     "text": [
      "np_array_A:\n",
      " [[1 2 3]\n",
      " [3 4 5]\n",
      " [5 6 7]]\n",
      "\n",
      "np_array_B: \n",
      " [[3 4 5]]\n",
      "\n",
      "np_array_A + np_array_B:\n",
      "arrays are not conformable\n"
     ]
    }
   ],
   "source": [
    "np_array_A = np.array([[1,2,3],[3,4,5],[5,6,7]])\n",
    "np_array_B = np.array([[3,4,5]])\n",
    "\n",
    "print('np_array_A:\\n',np_array_A)\n",
    "print()\n",
    "print('np_array_B: \\n',np_array_B)\n",
    "print()\n",
    "print('np_array_A + np_array_B:')\n",
    "print(add_two_numpy_arrays(np_array_A,np_array_B))"
   ]
  },
  {
   "cell_type": "code",
   "execution_count": null,
   "metadata": {},
   "outputs": [],
   "source": []
  }
 ],
 "metadata": {
  "kernelspec": {
   "display_name": "Python 3",
   "language": "python",
   "name": "python3"
  },
  "language_info": {
   "codemirror_mode": {
    "name": "ipython",
    "version": 3
   },
   "file_extension": ".py",
   "mimetype": "text/x-python",
   "name": "python",
   "nbconvert_exporter": "python",
   "pygments_lexer": "ipython3",
   "version": "3.8.5"
  }
 },
 "nbformat": 4,
 "nbformat_minor": 4
}
