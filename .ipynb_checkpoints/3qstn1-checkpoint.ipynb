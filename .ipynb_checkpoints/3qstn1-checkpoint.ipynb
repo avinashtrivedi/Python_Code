{
 "cells": [
  {
   "cell_type": "markdown",
   "metadata": {},
   "source": [
    "# Q.4"
   ]
  },
  {
   "cell_type": "code",
   "execution_count": 1,
   "metadata": {},
   "outputs": [
    {
     "name": "stdout",
     "output_type": "stream",
     "text": [
      "\n",
      "historical: [3, 5, 1, 9, 0, 3, 9, 2, 4, 7]\n",
      "predictiona: [1, 5, 4, 1, 7, 7, 1, 0, 3, 9]\n",
      "predictionb: [6, 0, 4, 3, 4, 4, 8, 4, 3, 7]\n",
      "\n",
      "historical: 3 prediction  a: 1 prediction  b: 6\n",
      "historical: 5 prediction  a: 5 prediction  b: 0\n",
      "historical: 1 prediction  a: 4 prediction  b: 4\n",
      "historical: 9 prediction  a: 1 prediction  b: 3\n",
      "historical: 0 prediction  a: 7 prediction  b: 4\n",
      "historical: 3 prediction  a: 7 prediction  b: 4\n",
      "historical: 9 prediction  a: 1 prediction  b: 8\n",
      "historical: 2 prediction  a: 0 prediction  b: 4\n",
      "historical: 4 prediction  a: 3 prediction  b: 3\n",
      "historical: 7 prediction  a: 9 prediction  b: 7\n"
     ]
    }
   ],
   "source": [
    "historical = [3,5,1,9,0,3,9,2,4,7]\n",
    "predictiona = [1,5,4,1,7,7,1,0,3,9]\n",
    "predictionb = [6,0,4,3,4,4,8,4,3,7]\n",
    "print(\"\")\n",
    "print(\"historical:\",historical)\n",
    "print(\"predictiona:\",predictiona)\n",
    "print(\"predictionb:\",predictionb)\n",
    "print(\"\")\n",
    "\n",
    "# make a pair of lists\n",
    "topresults = zip(historical,predictiona,predictionb)\n",
    "\n",
    "# print the result\n",
    "for historical,predictiona,predictionb in topresults:\n",
    "    \n",
    "    # form a string\n",
    "    string = 'historical: ' + str(historical) + ' prediction  a: ' + str(predictiona) + ' prediction  b: ' + str(predictionb)\n",
    "    print(string)"
   ]
  },
  {
   "cell_type": "markdown",
   "metadata": {},
   "source": [
    "# Q.5"
   ]
  },
  {
   "cell_type": "code",
   "execution_count": 2,
   "metadata": {},
   "outputs": [
    {
     "name": "stdout",
     "output_type": "stream",
     "text": [
      "[11234, 12475, 12475, 14560, 14972, 15630]\n"
     ]
    }
   ],
   "source": [
    "btcdec1 = [11234,12475]\n",
    "\n",
    "# first task\n",
    "btcdec1.append(14560)\n",
    "\n",
    "# second task\n",
    "btcdec2 = []\n",
    "btcdec2.append(15630)\n",
    "btcdec2.append(12475)\n",
    "btcdec2.append(14972)\n",
    "\n",
    "# third task\n",
    "btcdec1.extend(btcdec2)\n",
    "\n",
    "# fourth task\n",
    "btcdec1.sort()\n",
    "\n",
    "print(btcdec1)"
   ]
  },
  {
   "cell_type": "markdown",
   "metadata": {},
   "source": [
    "# Q.6"
   ]
  },
  {
   "cell_type": "code",
   "execution_count": 3,
   "metadata": {},
   "outputs": [
    {
     "name": "stdout",
     "output_type": "stream",
     "text": [
      "Compounded annual growth rate is: 1.12\n"
     ]
    }
   ],
   "source": [
    "growth_rate = [1.03,0.9,1.36,1.23,1.08,1.12,1.55,1.06,1.05,0.92]\n",
    "n = len(growth_rate)\n",
    "\n",
    "# import the library\n",
    "import math\n",
    "\n",
    "# compute the product of list elements\n",
    "mult = math.prod(growth_rate)\n",
    "\n",
    "mult_nth_pow = pow(mult,1/n)\n",
    "\n",
    "geo_mean = round(mult_nth_pow,2)\n",
    "print('Compounded annual growth rate is:',geo_mean)"
   ]
  },
  {
   "cell_type": "code",
   "execution_count": null,
   "metadata": {},
   "outputs": [],
   "source": []
  }
 ],
 "metadata": {
  "kernelspec": {
   "display_name": "Python 3",
   "language": "python",
   "name": "python3"
  },
  "language_info": {
   "codemirror_mode": {
    "name": "ipython",
    "version": 3
   },
   "file_extension": ".py",
   "mimetype": "text/x-python",
   "name": "python",
   "nbconvert_exporter": "python",
   "pygments_lexer": "ipython3",
   "version": "3.8.5"
  }
 },
 "nbformat": 4,
 "nbformat_minor": 4
}
