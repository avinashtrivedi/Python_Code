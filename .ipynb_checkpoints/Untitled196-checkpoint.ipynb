{
 "cells": [
  {
   "cell_type": "code",
   "execution_count": 12,
   "metadata": {},
   "outputs": [],
   "source": [
    "class SingleLinkage:\n",
    "\n",
    "    def __init__(self, data, k):\n",
    "        self.k = k\n",
    "        self.data = data\n",
    "        self.fit()\n",
    "\n",
    "    def fit(self):\n",
    "        n = len(self.data)\n",
    "        self.clusters = {}\n",
    "\n",
    "        for i in range(n):\n",
    "            self.clusters[i] = []\n",
    "            self.clusters[i].append(i)\n",
    "\n",
    "        self.dist = np.sqrt((np.square(self.data[:,np.newaxis]-self.data).sum(axis=2)))\n",
    "\n",
    "        for i in range(n-self.k):\n",
    "            merge = self.merging()\n",
    "            self.clusters[merge[0]] = self.clusters[merge[0]] + self.clusters[merge[1]]\n",
    "            self.clusters.pop(merge[1])\n",
    "\n",
    "        for i in range(self.k):\n",
    "            while not i in self.clusters:\n",
    "                for j in [x for x in list(map(int, self.clusters.keys())) if x >= i+1]:\n",
    "                    self.clusters[j-1] = self.clusters.pop(j)\n",
    "\n",
    "        for i in self.clusters.keys():\n",
    "            self.clusters[i].sort()\n",
    "\n",
    "    def merging(self):\n",
    "        mini = 1e99\n",
    "        merge = (None, None)\n",
    "\n",
    "        for i in list(map(int, self.clusters.keys())):\n",
    "            for j in [x for x in list(map(int, self.clusters.keys())) if x >= i+1]:\n",
    "                if self.dist[i][j] < mini:\n",
    "                    mini = self.dist[i][j]\n",
    "                    merge = (i, j)\n",
    "\n",
    "        return merge"
   ]
  },
  {
   "cell_type": "code",
   "execution_count": null,
   "metadata": {},
   "outputs": [
    {
     "name": "stdout",
     "output_type": "stream",
     "text": [
      "[[-0.71239066  0.75376638 -0.04450308  0.45181234]\n",
      " [ 1.34510171  0.53233789  1.3501879   0.86121137]\n",
      " [ 1.47868574 -1.04537713 -0.78898902 -1.26160595]\n",
      " ...\n",
      " [ 1.44974436  0.55712858 -0.44830218  0.84810321]\n",
      " [-1.05737796 -1.34435539 -0.21544324  0.42435713]\n",
      " [-0.53145354 -1.05217046  2.18026598  0.47957193]]\n"
     ]
    }
   ],
   "source": [
    "import time\n",
    "import numpy as np\n",
    "start_time = time.time()\n",
    "\n",
    "np.random.seed(13)\n",
    "X = np.random.randn(300, 4)\n",
    "print(X)\n",
    "X = np.r_[X, X+20, X -10, X+50]\n",
    "hc = SingleLinkage(X, 4)\n",
    "print(hc.clusters)\n",
    "\n",
    "print(\"--- %s seconds ---\" % (time.time() - start_time))"
   ]
  },
  {
   "cell_type": "code",
   "execution_count": 10,
   "metadata": {},
   "outputs": [
    {
     "ename": "FileNotFoundError",
     "evalue": "[Errno 2] No such file or directory: 'clustering1.txt'",
     "output_type": "error",
     "traceback": [
      "\u001b[1;31m---------------------------------------------------------------------------\u001b[0m",
      "\u001b[1;31mFileNotFoundError\u001b[0m                         Traceback (most recent call last)",
      "\u001b[1;32m<ipython-input-10-c5bae6568b8f>\u001b[0m in \u001b[0;36m<module>\u001b[1;34m\u001b[0m\n\u001b[0;32m     47\u001b[0m \u001b[1;33m\u001b[0m\u001b[0m\n\u001b[0;32m     48\u001b[0m \u001b[1;33m\u001b[0m\u001b[0m\n\u001b[1;32m---> 49\u001b[1;33m \u001b[0mmain\u001b[0m\u001b[1;33m(\u001b[0m\u001b[1;33m)\u001b[0m\u001b[1;33m\u001b[0m\u001b[1;33m\u001b[0m\u001b[0m\n\u001b[0m",
      "\u001b[1;32m<ipython-input-10-c5bae6568b8f>\u001b[0m in \u001b[0;36mmain\u001b[1;34m()\u001b[0m\n\u001b[0;32m     32\u001b[0m \u001b[1;32mdef\u001b[0m \u001b[0mmain\u001b[0m\u001b[1;33m(\u001b[0m\u001b[1;33m)\u001b[0m\u001b[1;33m:\u001b[0m\u001b[1;33m\u001b[0m\u001b[1;33m\u001b[0m\u001b[0m\n\u001b[0;32m     33\u001b[0m \u001b[1;33m\u001b[0m\u001b[0m\n\u001b[1;32m---> 34\u001b[1;33m     \u001b[0mf\u001b[0m \u001b[1;33m=\u001b[0m \u001b[0mopen\u001b[0m\u001b[1;33m(\u001b[0m\u001b[1;34m'clustering1.txt'\u001b[0m\u001b[1;33m)\u001b[0m\u001b[1;33m\u001b[0m\u001b[1;33m\u001b[0m\u001b[0m\n\u001b[0m\u001b[0;32m     35\u001b[0m \u001b[1;33m\u001b[0m\u001b[0m\n\u001b[0;32m     36\u001b[0m     \u001b[0mn\u001b[0m \u001b[1;33m=\u001b[0m \u001b[0mint\u001b[0m\u001b[1;33m(\u001b[0m\u001b[0mf\u001b[0m\u001b[1;33m.\u001b[0m\u001b[0mreadline\u001b[0m\u001b[1;33m(\u001b[0m\u001b[1;33m)\u001b[0m\u001b[1;33m)\u001b[0m\u001b[1;33m\u001b[0m\u001b[1;33m\u001b[0m\u001b[0m\n",
      "\u001b[1;31mFileNotFoundError\u001b[0m: [Errno 2] No such file or directory: 'clustering1.txt'"
     ]
    }
   ],
   "source": [
    "import sys\n",
    "\n",
    "infinity = sys.maxsize\n",
    "\n",
    "def single_linkage_clusters(proximity_matrix, k):\n",
    "    # Naive O(n^3) single linkage clustering algorithm\n",
    "\n",
    "    n = len(proximity_matrix)\n",
    "    clusters = range(n)\n",
    "    \n",
    "    for _ in xrange(n-k):\n",
    "        _, clusters_to_merge = spacing_function(proximity_matrix, clusters)\n",
    "        for i in xrange(n): # Merging clusters\n",
    "            if clusters[i] == clusters_to_merge[1]:\n",
    "                clusters[i] = clusters_to_merge[0]\n",
    "                \n",
    "    return clusters\n",
    "                \n",
    "    \n",
    "def spacing_function(proximity_matrix, clusters):\n",
    "    n = len(proximity_matrix)\n",
    "    spacing = infinity\n",
    "    clusters_to_merge = (None, None)\n",
    "    for i in xrange(n):\n",
    "        for j in xrange(i+1, n):\n",
    "            if clusters[i] != clusters[j] and proximity_matrix[i][j] < spacing:\n",
    "                spacing = proximity_matrix[i][j]\n",
    "                clusters_to_merge = (clusters[i], clusters[j])\n",
    "    return spacing, clusters_to_merge\n",
    "    \n",
    "    \n",
    "def main():\n",
    "    \n",
    "    f = open('clustering1.txt')\n",
    "    \n",
    "    n = int(f.readline())\n",
    "    k = 4\n",
    "    proximity_matrix = [[None for _ in xrange(n)] for _ in xrange(n)]\n",
    "    for line in f:\n",
    "        v1, v2, d = [int(x) for x in line.split()]\n",
    "        proximity_matrix[v1-1][v2-1] = proximity_matrix[v2-1][v1-1] = d\n",
    "        \n",
    "    clusters = single_linkage_clusters(proximity_matrix, k)\n",
    "    \n",
    "    spacing, _ = spacing_function(proximity_matrix, clusters)\n",
    "    print('Spacing = %i' % spacing)\n",
    "    \n",
    "\n",
    "main()"
   ]
  },
  {
   "cell_type": "code",
   "execution_count": 11,
   "metadata": {},
   "outputs": [
    {
     "ename": "NameError",
     "evalue": "name 'plt' is not defined",
     "output_type": "error",
     "traceback": [
      "\u001b[1;31m---------------------------------------------------------------------------\u001b[0m",
      "\u001b[1;31mNameError\u001b[0m                                 Traceback (most recent call last)",
      "\u001b[1;32m<ipython-input-11-b86be0bda7ec>\u001b[0m in \u001b[0;36m<module>\u001b[1;34m\u001b[0m\n\u001b[0;32m      1\u001b[0m \u001b[1;32mfrom\u001b[0m \u001b[0msklearn\u001b[0m\u001b[1;33m.\u001b[0m\u001b[0mdatasets\u001b[0m \u001b[1;32mimport\u001b[0m \u001b[0mmake_blobs\u001b[0m\u001b[1;33m\u001b[0m\u001b[1;33m\u001b[0m\u001b[0m\n\u001b[0;32m      2\u001b[0m \u001b[0mdata\u001b[0m\u001b[1;33m,\u001b[0m \u001b[0my\u001b[0m \u001b[1;33m=\u001b[0m \u001b[0mmake_blobs\u001b[0m\u001b[1;33m(\u001b[0m\u001b[0mn_samples\u001b[0m\u001b[1;33m=\u001b[0m\u001b[1;36m100\u001b[0m\u001b[1;33m,\u001b[0m \u001b[0mn_features\u001b[0m\u001b[1;33m=\u001b[0m\u001b[1;36m2\u001b[0m\u001b[1;33m,\u001b[0m \u001b[0mcenters\u001b[0m\u001b[1;33m=\u001b[0m\u001b[1;36m4\u001b[0m\u001b[1;33m,\u001b[0m \u001b[0mrandom_state\u001b[0m\u001b[1;33m=\u001b[0m\u001b[1;36m42\u001b[0m\u001b[1;33m)\u001b[0m\u001b[1;33m\u001b[0m\u001b[1;33m\u001b[0m\u001b[0m\n\u001b[1;32m----> 3\u001b[1;33m \u001b[0mplt\u001b[0m\u001b[1;33m.\u001b[0m\u001b[0mscatter\u001b[0m\u001b[1;33m(\u001b[0m\u001b[0mdata\u001b[0m\u001b[1;33m[\u001b[0m\u001b[1;33m:\u001b[0m\u001b[1;33m,\u001b[0m \u001b[1;36m0\u001b[0m\u001b[1;33m]\u001b[0m\u001b[1;33m,\u001b[0m \u001b[0mdata\u001b[0m\u001b[1;33m[\u001b[0m\u001b[1;33m:\u001b[0m\u001b[1;33m,\u001b[0m \u001b[1;36m1\u001b[0m\u001b[1;33m]\u001b[0m\u001b[1;33m,\u001b[0m \u001b[0mc\u001b[0m\u001b[1;33m=\u001b[0m\u001b[0my\u001b[0m\u001b[1;33m)\u001b[0m\u001b[1;33m;\u001b[0m\u001b[1;33m\u001b[0m\u001b[1;33m\u001b[0m\u001b[0m\n\u001b[0m",
      "\u001b[1;31mNameError\u001b[0m: name 'plt' is not defined"
     ]
    }
   ],
   "source": [
    "from sklearn.datasets import make_blobs\n",
    "data, y = make_blobs(n_samples=100, n_features=2, centers=4, random_state=42)\n",
    "plt.scatter(data[:, 0], data[:, 1], c=y);"
   ]
  },
  {
   "cell_type": "code",
   "execution_count": null,
   "metadata": {},
   "outputs": [],
   "source": [
    "new = SingleLinkClust()\n",
    "print(new)"
   ]
  }
 ],
 "metadata": {
  "kernelspec": {
   "display_name": "Python 3",
   "language": "python",
   "name": "python3"
  },
  "language_info": {
   "codemirror_mode": {
    "name": "ipython",
    "version": 3
   },
   "file_extension": ".py",
   "mimetype": "text/x-python",
   "name": "python",
   "nbconvert_exporter": "python",
   "pygments_lexer": "ipython3",
   "version": "3.8.5"
  }
 },
 "nbformat": 4,
 "nbformat_minor": 4
}
