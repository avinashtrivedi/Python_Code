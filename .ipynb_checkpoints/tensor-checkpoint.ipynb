{
 "cells": [
  {
   "cell_type": "code",
   "execution_count": 1,
   "metadata": {},
   "outputs": [],
   "source": [
    "# import library\n",
    "import tensorflow as tf\n",
    "import pandas as pd\n",
    "import os\n",
    "import random\n",
    "import string\n",
    "from shutil import copyfile\n",
    "from tensorboard.plugins import projector\n",
    "tf.compat.v1.disable_eager_execution()\n",
    "\n",
    "# load the dataset\n",
    "df=pd.read_csv('./data.csv',header=None)"
   ]
  },
  {
   "cell_type": "code",
   "execution_count": 2,
   "metadata": {},
   "outputs": [],
   "source": [
    "no_of_word = len(df)\n",
    "dim = 50 # dimention of embedding matrix\n",
    "\n",
    "# generate random folder name to save all the log files\n",
    "filename = ''.join(random.choice(string.ascii_uppercase) for i in range(15))\n",
    "logdir = './' + filename\n",
    "save_path = logdir + '/embedding_test.ckpt'"
   ]
  },
  {
   "cell_type": "code",
   "execution_count": 3,
   "metadata": {},
   "outputs": [],
   "source": [
    "# create embedding matric\n",
    "embedding_var  = tf.Variable(tf.random.truncated_normal([no_of_word,dim]),name='embedding')"
   ]
  },
  {
   "cell_type": "code",
   "execution_count": 4,
   "metadata": {},
   "outputs": [],
   "source": [
    "with tf.compat.v1.Session() as sess:\n",
    "    # Create summary writer.\n",
    "    writer = tf.compat.v1.summary.FileWriter(logdir, sess.graph)\n",
    "    \n",
    "    # Initialize embedding_var\n",
    "    sess.run(embedding_var.initializer)\n",
    "    \n",
    "    # Create Projector config\n",
    "    config = projector.ProjectorConfig()\n",
    "    \n",
    "    # Add embedding visualizer\n",
    "    embedding = config.embeddings.add()\n",
    "    embedding.tensor_name = embedding_var.name\n",
    "    embedding.metadata_path = './data.csv'\n",
    "    \n",
    "    # Add writer and config to Projector\n",
    "    projector.visualize_embeddings(writer, config)\n",
    "    # Save the model\n",
    "    saver_embed = tf.compat.v1.train.Saver([embedding_var])\n",
    "    saver_embed.save(sess, save_path, 1)\n",
    "writer.close() # close writer\n",
    "\n",
    "dest_path = logdir+'/data.csv'\n",
    "\n",
    "# copy data.csv to dest_path\n",
    "_ = copyfile('./data.csv',dest_path)"
   ]
  },
  {
   "cell_type": "code",
   "execution_count": 5,
   "metadata": {},
   "outputs": [
    {
     "name": "stdout",
     "output_type": "stream",
     "text": [
      "tensorboard --logdir=\"C:\\Users\\avitr\\OneDrive\\Documents\\Python Scripts\\MyCode\\CMKRKIAUHOEZOQQ\" --port=8008\n"
     ]
    }
   ],
   "source": [
    "log_path = '\"' + os.getcwd() + '\\\\'+filename+ '\"'\n",
    "print(\"tensorboard --logdir={} --{}\".format(log_path,'port=8008'))"
   ]
  },
  {
   "cell_type": "markdown",
   "metadata": {},
   "source": [
    " - Now copy the above command and paste in Anaconda prompt and hit enter"
   ]
  },
  {
   "cell_type": "code",
   "execution_count": 6,
   "metadata": {},
   "outputs": [
    {
     "data": {
      "text/plain": [
       "tensorflow.python.ops.resource_variable_ops.ResourceVariable"
      ]
     },
     "execution_count": 6,
     "metadata": {},
     "output_type": "execute_result"
    }
   ],
   "source": [
    "type(embedding_var)"
   ]
  },
  {
   "cell_type": "code",
   "execution_count": 7,
   "metadata": {},
   "outputs": [
    {
     "data": {
      "text/plain": [
       "<tf.Variable 'embedding:0' shape=(1000, 50) dtype=float32>"
      ]
     },
     "execution_count": 7,
     "metadata": {},
     "output_type": "execute_result"
    }
   ],
   "source": [
    "embedding_var"
   ]
  },
  {
   "cell_type": "code",
   "execution_count": 8,
   "metadata": {},
   "outputs": [],
   "source": [
    "import numpy as np"
   ]
  },
  {
   "cell_type": "code",
   "execution_count": 9,
   "metadata": {},
   "outputs": [
    {
     "data": {
      "text/plain": [
       "<tf.Tensor 'embedding_1:0' shape=(2, 2) dtype=float32>"
      ]
     },
     "execution_count": 9,
     "metadata": {},
     "output_type": "execute_result"
    }
   ],
   "source": [
    "tf.convert_to_tensor(\n",
    "    np.array([[1.0, 2.0], [3.0, 4.0]],dtype=np.float32),name='embedding'\n",
    ")"
   ]
  },
  {
   "cell_type": "code",
   "execution_count": null,
   "metadata": {},
   "outputs": [],
   "source": []
  }
 ],
 "metadata": {
  "kernelspec": {
   "display_name": "Python 3",
   "language": "python",
   "name": "python3"
  },
  "language_info": {
   "codemirror_mode": {
    "name": "ipython",
    "version": 3
   },
   "file_extension": ".py",
   "mimetype": "text/x-python",
   "name": "python",
   "nbconvert_exporter": "python",
   "pygments_lexer": "ipython3",
   "version": "3.8.5"
  }
 },
 "nbformat": 4,
 "nbformat_minor": 4
}
