{
 "cells": [
  {
   "cell_type": "code",
   "execution_count": 1,
   "metadata": {},
   "outputs": [],
   "source": [
    "# Caesar Cipher Encryption function\n",
    "\n",
    "def caesar_cipher_encrypt(text, key, a):\n",
    "\n",
    "    text = text.upper()\n",
    "\n",
    "    encrypted_Text = \"\"\n",
    "\n",
    "    for i in text:\n",
    "\n",
    "        if i in a:\n",
    "\n",
    "            index = (a.find(i) + key) % len(a)\n",
    "\n",
    "            encrypted_Text = encrypted_Text + a[index]\n",
    "\n",
    "        else:\n",
    "\n",
    "            encrypted_Text = encrypted_Text + i\n",
    "\n",
    "    return encrypted_Text"
   ]
  },
  {
   "cell_type": "code",
   "execution_count": 2,
   "metadata": {},
   "outputs": [],
   "source": [
    "# Caesar Cipher Decrypt function\n",
    "\n",
    "def caesar_cipher_decrypt(text, key, a):\n",
    "\n",
    "    text = text.upper()\n",
    "\n",
    "    decrypted_Text = \"\"\n",
    "\n",
    "    for i in text:\n",
    "\n",
    "        if i in a:\n",
    "\n",
    "            index = (a.find(i) - key) % len(a)\n",
    "\n",
    "            decrypted_Text = decrypted_Text + a[index]\n",
    "\n",
    "        else:\n",
    "\n",
    "            decrypted_Text = decrypted_Text + i\n",
    "\n",
    "    return decrypted_Text"
   ]
  },
  {
   "cell_type": "code",
   "execution_count": 3,
   "metadata": {},
   "outputs": [],
   "source": [
    "def caesar_hack(text, a, check):\n",
    "\n",
    "    text = text.upper()\n",
    "\n",
    "    for key in range(0,25):\n",
    "\n",
    "        decrypted_Text = \"\"\n",
    "\n",
    "        for i in text:\n",
    "\n",
    "            if i in a:\n",
    "\n",
    "                index = (a.find(i) - key) % len(a)\n",
    "\n",
    "                decrypted_Text = decrypted_Text + a[index]\n",
    "\n",
    "            else:\n",
    "\n",
    "                decrypted_Text = decrypted_Text + i\n",
    "\n",
    "        if(check.upper()==decrypted_Text):\n",
    "            break\n",
    "\n",
    "    # this else statement will be executed only when the above loop is not \n",
    "    # terminated by a beak statement.\n",
    "    else:\n",
    "\n",
    "        return 99,\"Error: Key not found!\"\n",
    "    \n",
    "    # it will be executed only if above loop is terminated by a beak statement\n",
    "    return key,decrypted_Text"
   ]
  },
  {
   "cell_type": "code",
   "execution_count": 4,
   "metadata": {},
   "outputs": [
    {
     "name": "stdout",
     "output_type": "stream",
     "text": [
      "4\n",
      "Brute Force Hack Attempt: \n",
      "Encrypted Message:  XLMW MW E WIGVIX QIWWEKI\n",
      "Successful Attempt found! Key = 4\n",
      "Secret message: THIS IS A SECRET MESSAGE\n"
     ]
    }
   ],
   "source": [
    "if __name__ == \"__main__\":\n",
    "\n",
    "    alphabet = \"ABCDEFGHIJKLMNOPQRSTUVWXYZ\"\n",
    "\n",
    "    text = \"This is a secret message\"\n",
    "\n",
    "    shift = int(input()) # Number between 1 & 25\n",
    "\n",
    "    encrypted_data = caesar_cipher_encrypt(text, shift, alphabet)\n",
    "\n",
    "    print('Brute Force Hack Attempt: ')\n",
    "\n",
    "    print ('Encrypted Message: ', encrypted_data)\n",
    "\n",
    "    k,h = caesar_hack(encrypted_data,alphabet,text)\n",
    "\n",
    "    # If k == 99 print the returned message\n",
    "    if k==99:\n",
    "        print(h)\n",
    "        \n",
    "    else:\n",
    "        print('Successful Attempt found! Key =',k)\n",
    "        print('Secret message:',h)\n"
   ]
  },
  {
   "cell_type": "code",
   "execution_count": null,
   "metadata": {},
   "outputs": [],
   "source": []
  }
 ],
 "metadata": {
  "kernelspec": {
   "display_name": "Python 3",
   "language": "python",
   "name": "python3"
  },
  "language_info": {
   "codemirror_mode": {
    "name": "ipython",
    "version": 3
   },
   "file_extension": ".py",
   "mimetype": "text/x-python",
   "name": "python",
   "nbconvert_exporter": "python",
   "pygments_lexer": "ipython3",
   "version": "3.8.5"
  }
 },
 "nbformat": 4,
 "nbformat_minor": 4
}
