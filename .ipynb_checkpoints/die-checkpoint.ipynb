{
 "cells": [
  {
   "cell_type": "code",
   "execution_count": 23,
   "metadata": {},
   "outputs": [],
   "source": [
    "import random # import library\n",
    "# define a function for this game\n",
    "def roll_game(is_bad_side):\n",
    "    N = len(is_bad_side) # number of sides in die\n",
    "    total = 0 # initial earning\n",
    "    print(35*'-') # print '-' 35 times\n",
    "    while True: \n",
    "        x = input('Enter roll/quit: ')\n",
    "        if x=='roll':\n",
    "            z=random.randint(1,N) # random rolling\n",
    "            print('Random Rolled number is:',z)\n",
    "            \n",
    "            # if side is not bad then add that much dollar to the total earning\n",
    "            # else make the total earning 0\n",
    "            total = (total + z) if is_bad_side[z-1]==1 else 0\n",
    "            if total==0:\n",
    "                print(35*'-')\n",
    "                print()\n",
    "                print('Bad side,you have lost all the money')\n",
    "                print('Game Ending now..')\n",
    "                break\n",
    "            print('Total money earned till now',str(total)+'$')\n",
    "            print('------')\n",
    "        elif x=='quit':\n",
    "            print(35*'-')\n",
    "            print()\n",
    "            print('Quitting the game')\n",
    "            print('Total Earning',str(total)+'$')\n",
    "            break\n",
    "        else:\n",
    "            print('Wrong input please try again.')\n"
   ]
  },
  {
   "cell_type": "code",
   "execution_count": 24,
   "metadata": {},
   "outputs": [],
   "source": [
    "is_bad_side = [1, 1, 1, 0, 0, 0]"
   ]
  },
  {
   "cell_type": "code",
   "execution_count": 25,
   "metadata": {},
   "outputs": [
    {
     "name": "stdout",
     "output_type": "stream",
     "text": [
      "-----------------------------------\n",
      "Enter roll/quit: roll\n",
      "Random Rolled number is: 3\n",
      "Total money earned till now 3$\n",
      "------\n",
      "Enter roll/quit: roll\n",
      "Random Rolled number is: 3\n",
      "Total money earned till now 6$\n",
      "------\n",
      "Enter roll/quit: roll\n",
      "Random Rolled number is: 2\n",
      "Total money earned till now 8$\n",
      "------\n",
      "Enter roll/quit: quite\n",
      "Wrong input please try again.\n",
      "Enter roll/quit: quit\n",
      "-----------------------------------\n",
      "\n",
      "Quitting the game\n",
      "Total Earning 8$\n"
     ]
    }
   ],
   "source": [
    "roll_game(is_bad_side)"
   ]
  },
  {
   "cell_type": "code",
   "execution_count": null,
   "metadata": {},
   "outputs": [],
   "source": []
  }
 ],
 "metadata": {
  "kernelspec": {
   "display_name": "Python 3",
   "language": "python",
   "name": "python3"
  },
  "language_info": {
   "codemirror_mode": {
    "name": "ipython",
    "version": 3
   },
   "file_extension": ".py",
   "mimetype": "text/x-python",
   "name": "python",
   "nbconvert_exporter": "python",
   "pygments_lexer": "ipython3",
   "version": "3.8.5"
  }
 },
 "nbformat": 4,
 "nbformat_minor": 4
}
