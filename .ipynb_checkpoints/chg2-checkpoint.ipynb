{
 "cells": [
  {
   "cell_type": "markdown",
   "metadata": {},
   "source": [
    "# define the dictionary and perform different operation as per the question"
   ]
  },
  {
   "cell_type": "code",
   "execution_count": 1,
   "metadata": {},
   "outputs": [],
   "source": [
    "pet_type = {'Bella':'dog', 'Molly': 'cat', 'Alpha':'bison'}"
   ]
  },
  {
   "cell_type": "code",
   "execution_count": 2,
   "metadata": {},
   "outputs": [
    {
     "name": "stdout",
     "output_type": "stream",
     "text": [
      "{'Bella': 'dog', 'Molly': 'cat', 'Alpha': 'bison'}\n"
     ]
    }
   ],
   "source": [
    "print(pet_type)"
   ]
  },
  {
   "cell_type": "code",
   "execution_count": 3,
   "metadata": {},
   "outputs": [],
   "source": [
    "pet_type['Tucker'] = 'dog'"
   ]
  },
  {
   "cell_type": "code",
   "execution_count": 4,
   "metadata": {},
   "outputs": [
    {
     "name": "stdout",
     "output_type": "stream",
     "text": [
      "{'Bella': 'dog', 'Molly': 'cat', 'Alpha': 'bison', 'Tucker': 'dog'}\n"
     ]
    }
   ],
   "source": [
    "print(pet_type)"
   ]
  },
  {
   "cell_type": "code",
   "execution_count": 5,
   "metadata": {},
   "outputs": [],
   "source": [
    "del pet_type['Molly']"
   ]
  },
  {
   "cell_type": "code",
   "execution_count": 6,
   "metadata": {},
   "outputs": [
    {
     "name": "stdout",
     "output_type": "stream",
     "text": [
      "{'Bella': 'dog', 'Alpha': 'bison', 'Tucker': 'dog'}\n"
     ]
    }
   ],
   "source": [
    "print(pet_type)"
   ]
  },
  {
   "cell_type": "code",
   "execution_count": 7,
   "metadata": {},
   "outputs": [],
   "source": [
    "pet_type['Bella'] = 'Siberian Husky'\n",
    "pet_type['Tucker'] = 'Bulldog'"
   ]
  },
  {
   "cell_type": "code",
   "execution_count": 8,
   "metadata": {},
   "outputs": [
    {
     "name": "stdout",
     "output_type": "stream",
     "text": [
      "{'Bella': 'Siberian Husky', 'Alpha': 'bison', 'Tucker': 'Bulldog'}\n"
     ]
    }
   ],
   "source": [
    "print(pet_type)"
   ]
  },
  {
   "cell_type": "markdown",
   "metadata": {},
   "source": [
    "# 3rd challenge "
   ]
  },
  {
   "cell_type": "code",
   "execution_count": 9,
   "metadata": {},
   "outputs": [],
   "source": [
    "pet_type['Bell'] = pet_type['Bella']\n",
    "del pet_type['Bella']"
   ]
  },
  {
   "cell_type": "code",
   "execution_count": 10,
   "metadata": {},
   "outputs": [
    {
     "name": "stdout",
     "output_type": "stream",
     "text": [
      "{'Alpha': 'bison', 'Tucker': 'Bulldog', 'Bell': 'Siberian Husky'}\n"
     ]
    }
   ],
   "source": [
    "print(pet_type)"
   ]
  },
  {
   "cell_type": "code",
   "execution_count": null,
   "metadata": {},
   "outputs": [],
   "source": []
  }
 ],
 "metadata": {
  "kernelspec": {
   "display_name": "Python 3",
   "language": "python",
   "name": "python3"
  },
  "language_info": {
   "codemirror_mode": {
    "name": "ipython",
    "version": 3
   },
   "file_extension": ".py",
   "mimetype": "text/x-python",
   "name": "python",
   "nbconvert_exporter": "python",
   "pygments_lexer": "ipython3",
   "version": "3.8.5"
  }
 },
 "nbformat": 4,
 "nbformat_minor": 4
}
