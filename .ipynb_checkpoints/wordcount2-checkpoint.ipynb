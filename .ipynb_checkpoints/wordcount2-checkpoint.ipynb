{
 "cells": [
  {
   "cell_type": "markdown",
   "metadata": {},
   "source": [
    "# Task #1"
   ]
  },
  {
   "cell_type": "code",
   "execution_count": 1,
   "metadata": {},
   "outputs": [
    {
     "name": "stdout",
     "output_type": "stream",
     "text": [
      "s - Store Program\n",
      "l - List daily program\n",
      "x - Exit\n",
      "Choose from the list: s\n",
      "Which day: wednesday\n",
      "What time: 11\n",
      "What is the program: ACIT4420 Lecture\n",
      "s - Store Program\n",
      "l - List daily program\n",
      "x - Exit\n",
      "Choose from the list: s\n",
      "Which day: Wednesday\n",
      "What time: 13\n",
      "What is the program: ACIT4420 Lab\n",
      "s - Store Program\n",
      "l - List daily program\n",
      "x - Exit\n",
      "Choose from the list: s\n",
      "Which day: Wednesday\n",
      "What time: 16\n",
      "What is the program: Finishing Lab exercises\n",
      "s - Store Program\n",
      "l - List daily program\n",
      "x - Exit\n",
      "Choose from the list: l\n",
      "Which day: Wednesday\n",
      "0:00 \n",
      "1:00 \n",
      "2:00 \n",
      "3:00 \n",
      "4:00 \n",
      "5:00 \n",
      "6:00 \n",
      "7:00 \n",
      "8:00 \n",
      "9:00 \n",
      "10:00 \n",
      "11:00 ACIT4420 Lecture\n",
      "12:00 \n",
      "13:00 ACIT4420 Lab\n",
      "14:00 \n",
      "15:00 \n",
      "16:00 Finishing Lab exercises\n",
      "17:00 \n",
      "18:00 \n",
      "19:00 \n",
      "20:00 \n",
      "21:00 \n",
      "s - Store Program\n",
      "l - List daily program\n",
      "x - Exit\n",
      "Choose from the list: x\n"
     ]
    }
   ],
   "source": [
    "days = ('Monday', 'Tuesday', 'Wednesday', 'Thursday', 'Friday', 'Saturday','Sunday')\n",
    "\n",
    "# define empty list of lists\n",
    "program = [['']*22]*7\n",
    "\n",
    "while True:\n",
    "    print('s - Store Program\\nl - List daily program\\nx - Exit')\n",
    "    c = input('Choose from the list: ')\n",
    "    if c=='s':\n",
    "        day = input('Which day: ')\n",
    "        time = int(input('What time: '))\n",
    "        prm = input('What is the program: ')\n",
    "        \n",
    "        # get the index of day in days tuple\n",
    "        indx = days.index(day.title())\n",
    "\n",
    "        # store prm in corresponding list\n",
    "        program[indx][time]=prm\n",
    "    elif c=='l':\n",
    "        day = input('Which day: ')\n",
    "        indx = days.index(day.title())\n",
    "        for i in range(22):\n",
    "            print(str(i)+':00',program[indx][i])\n",
    "    elif c=='x':\n",
    "        break"
   ]
  },
  {
   "cell_type": "markdown",
   "metadata": {},
   "source": [
    "# Task #2"
   ]
  },
  {
   "cell_type": "code",
   "execution_count": 2,
   "metadata": {},
   "outputs": [],
   "source": [
    "# open the file\n",
    "f = open('python.txt','r')\n",
    "\n",
    "# read the file\n",
    "file = f.read()\n",
    "\n",
    "# remove unnecessary characters\n",
    "file = file.replace(',','')\n",
    "file = file.replace('.','')\n",
    "file = file.replace('\\n','')\n",
    "file = file.replace('\"','')\n",
    "file = file.replace(\"'\",'')"
   ]
  },
  {
   "cell_type": "code",
   "execution_count": 3,
   "metadata": {},
   "outputs": [],
   "source": [
    "# get words as a list\n",
    "word_list = file.split()\n",
    "\n",
    "# dictionary to hold word and its count\n",
    "dict_wordCount = {}\n",
    "for i in word_list:\n",
    "    dict_wordCount[i] = word_list.count(i)"
   ]
  },
  {
   "cell_type": "code",
   "execution_count": 4,
   "metadata": {},
   "outputs": [
    {
     "name": "stdout",
     "output_type": "stream",
     "text": [
      "Rossum:11\n",
      "is:7\n",
      "a:18\n",
      "Dutch:4\n",
      "as:6\n",
      "the:34\n",
      "of:9\n",
      "Python:11\n",
      "programming:7\n",
      "language:8\n",
      "for:15\n",
      "he:13\n",
      "was:5\n",
      "from:4\n",
      "in:15\n",
      "has:5\n",
      "and:15\n",
      "He:6\n",
      "his:7\n",
      "to:14\n",
      "Van:7\n",
      "ABC:5\n",
      "that:7\n",
      "worked:5\n"
     ]
    }
   ],
   "source": [
    "# print word having count more than 3\n",
    "for key in dict_wordCount:\n",
    "    if dict_wordCount[key]>3:\n",
    "        print('{}:{}'.format(key,dict_wordCount[key]))"
   ]
  },
  {
   "cell_type": "code",
   "execution_count": null,
   "metadata": {},
   "outputs": [],
   "source": []
  }
 ],
 "metadata": {
  "kernelspec": {
   "display_name": "Python 3",
   "language": "python",
   "name": "python3"
  },
  "language_info": {
   "codemirror_mode": {
    "name": "ipython",
    "version": 3
   },
   "file_extension": ".py",
   "mimetype": "text/x-python",
   "name": "python",
   "nbconvert_exporter": "python",
   "pygments_lexer": "ipython3",
   "version": "3.8.5"
  }
 },
 "nbformat": 4,
 "nbformat_minor": 4
}
