{
 "cells": [
  {
   "cell_type": "code",
   "execution_count": 1,
   "metadata": {},
   "outputs": [
    {
     "name": "stdout",
     "output_type": "stream",
     "text": [
      "Everything passed\n"
     ]
    }
   ],
   "source": [
    "def read_order(fname):\n",
    "    \n",
    "    # open a file in read mode\n",
    "    # try-except block is used here to handle exception\n",
    "    try: \n",
    "        file_object = open(fname,'r')\n",
    "    except:\n",
    "        print('wrong file name.')\n",
    "        \n",
    "    # read all the orders\n",
    "    all_orders = file_object.readlines()\n",
    "    \n",
    "    # close the file object\n",
    "    file_object.close()\n",
    "    \n",
    "    # create a empty dictionary\n",
    "    order_dict  = dict()\n",
    "    \n",
    "    # read all orders and store in dictionary\n",
    "    for order in all_orders:\n",
    "        \n",
    "        # strip() : remove leading and trailing whitespace\n",
    "        order_list = order.strip().split(',')\n",
    "        \n",
    "        # convert string value into integer value\n",
    "        order_list = [int(x) for x in order_list]\n",
    "        \n",
    "        # add key and value in dictionary\n",
    "        order_dict[order_list[0]] = order_list[1:]\n",
    "        \n",
    "    # create empty dictionary\n",
    "    total_order_dict =dict()\n",
    "    \n",
    "    # create a dictionary where key of order_dict is the key for total_order_dict\n",
    "    # and value is sum of all the values from order_dict corresponding to a given key.\n",
    "    \n",
    "    for key in order_dict :\n",
    "        total_order_dict [str(key)] = sum(order_dict [key])\n",
    "    return total_order_dict\n",
    "\n",
    "# write the total_order_dict in output file\n",
    "def write_order_csv(actual_result_ototal_order_dict,outputFile):\n",
    "    \n",
    "    # open a file outputFile in write mode.\n",
    "    output_file = open(outputFile, 'w')\n",
    "    for key,val in actual_result_ototal_order_dict.items():\n",
    "        \n",
    "        # write key and value in a file\n",
    "        output_file.write(\"{},{}\\n\".format(key, val))\n",
    "        \n",
    "    # close the file.\n",
    "    output_file.close()\n",
    "    \n",
    "    \n",
    "def test_sum():\n",
    "    \n",
    "    # just followed in instructions given in question.\n",
    "    expected_result_ototal_order_dict = {'1': 91, '2': 100, '3': 32, '4': 62, '5': 64}\n",
    "    actual_result_ototal_order_dict = read_order(\"order.csv\")\n",
    "    assert actual_result_ototal_order_dict[\"1\"] == expected_result_ototal_order_dict[\"1\"], \"The actual result is not the \" \\\n",
    "              \"same as expected result for the order number 1!\"\n",
    "    assert actual_result_ototal_order_dict[\"2\"] == expected_result_ototal_order_dict[\"2\"], \"The actual result is not the \" \\\n",
    "              \"same as expected result for the order number 2!\"\n",
    "    assert actual_result_ototal_order_dict[\"3\"] == expected_result_ototal_order_dict[\"3\"], \"The actual result is not the \" \\\n",
    "              \"same as expected result for the order number 3!\"\n",
    "    assert actual_result_ototal_order_dict[\"4\"] == expected_result_ototal_order_dict[\"4\"], \"The actual result is not the \" \\\n",
    "              \"same as expected result for the order number 4!\"\n",
    "    assert actual_result_ototal_order_dict[\"5\"] == expected_result_ototal_order_dict[\"5\"], \"The actual result is not the \" \\\n",
    "              \"same as expected result for the order number 5!\"\n",
    "    \n",
    "if __name__ == \"__main__\":\n",
    "    actual_result_ototal_order_dict = read_order(\"order.csv\")\n",
    "    test_sum()\n",
    "    print(\"Everything passed\")\n",
    "    write_order_csv(actual_result_ototal_order_dict,\"outputfile.csv\")"
   ]
  },
  {
   "cell_type": "code",
   "execution_count": null,
   "metadata": {},
   "outputs": [],
   "source": []
  }
 ],
 "metadata": {
  "kernelspec": {
   "display_name": "Python 3",
   "language": "python",
   "name": "python3"
  },
  "language_info": {
   "codemirror_mode": {
    "name": "ipython",
    "version": 3
   },
   "file_extension": ".py",
   "mimetype": "text/x-python",
   "name": "python",
   "nbconvert_exporter": "python",
   "pygments_lexer": "ipython3",
   "version": "3.8.5"
  }
 },
 "nbformat": 4,
 "nbformat_minor": 4
}
