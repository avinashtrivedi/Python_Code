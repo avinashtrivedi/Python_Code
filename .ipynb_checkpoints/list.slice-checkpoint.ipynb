{
 "cells": [
  {
   "cell_type": "code",
   "execution_count": 1,
   "metadata": {},
   "outputs": [],
   "source": [
    "import introcs\n",
    "def second_in_list(s):\n",
    "    \"\"\"\n",
    "    Returns: the second item in comma-separated list\n",
    "    The final result should not have any whitespace around the edges.\n",
    "\n",
    "    Example: second_in_list('apple, banana, orange') returns 'banana'\n",
    "    Example: second_in_list(' do , re , me , fa ') returns 're'\n",
    "    Example: second_in_list('z,y,x,w') returns 'y'\n",
    "    Parameter s: The list of items\n",
    "\n",
    "    Precondition: s is a string of at least three items separated by commas.\n",
    "\n",
    "    \"\"\"\n",
    "    first = introcs.find_str(s,',') # get index of first comma\n",
    "    second = introcs.find_str(s,',',first+1) # get index of second comma\n",
    "    \n",
    "    # get 2nd item with leading and trailing whitespaces removed\n",
    "    slice = introcs.strip(s[first+1:second]) \n",
    "    result  = slice\n",
    "    return result # return 2nd item"
   ]
  },
  {
   "cell_type": "code",
   "execution_count": 2,
   "metadata": {},
   "outputs": [
    {
     "data": {
      "text/plain": [
       "'banana'"
      ]
     },
     "execution_count": 2,
     "metadata": {},
     "output_type": "execute_result"
    }
   ],
   "source": [
    "second_in_list('apple, banana, orange')"
   ]
  },
  {
   "cell_type": "code",
   "execution_count": 3,
   "metadata": {},
   "outputs": [
    {
     "data": {
      "text/plain": [
       "'Andrew'"
      ]
     },
     "execution_count": 3,
     "metadata": {},
     "output_type": "execute_result"
    }
   ],
   "source": [
    "second_in_list(\"Billy, Andrew, Taylor\")"
   ]
  },
  {
   "cell_type": "code",
   "execution_count": 4,
   "metadata": {},
   "outputs": [
    {
     "data": {
      "text/plain": [
       "'fig'"
      ]
     },
     "execution_count": 4,
     "metadata": {},
     "output_type": "execute_result"
    }
   ],
   "source": [
    "second_in_list(\"apple,    fig, orange\")"
   ]
  },
  {
   "cell_type": "code",
   "execution_count": 5,
   "metadata": {},
   "outputs": [
    {
     "data": {
      "text/plain": [
       "'fig'"
      ]
     },
     "execution_count": 5,
     "metadata": {},
     "output_type": "execute_result"
    }
   ],
   "source": [
    "second_in_list(\"apple,  fig, banana\")"
   ]
  },
  {
   "cell_type": "code",
   "execution_count": 6,
   "metadata": {},
   "outputs": [
    {
     "data": {
      "text/plain": [
       "'fig'"
      ]
     },
     "execution_count": 6,
     "metadata": {},
     "output_type": "execute_result"
    }
   ],
   "source": [
    "second_in_list(\"apple,  fig, banana, orange\")"
   ]
  },
  {
   "cell_type": "code",
   "execution_count": 7,
   "metadata": {},
   "outputs": [
    {
     "data": {
      "text/plain": [
       "'re'"
      ]
     },
     "execution_count": 7,
     "metadata": {},
     "output_type": "execute_result"
    }
   ],
   "source": [
    "second_in_list(' do , re , me , fa ')"
   ]
  },
  {
   "cell_type": "code",
   "execution_count": 8,
   "metadata": {},
   "outputs": [
    {
     "data": {
      "text/plain": [
       "'y'"
      ]
     },
     "execution_count": 8,
     "metadata": {},
     "output_type": "execute_result"
    }
   ],
   "source": [
    "second_in_list('z,y,x,w')"
   ]
  },
  {
   "cell_type": "markdown",
   "metadata": {},
   "source": [
    "# Testing"
   ]
  },
  {
   "cell_type": "code",
   "execution_count": 9,
   "metadata": {},
   "outputs": [],
   "source": [
    "def test_second_in_list():\n",
    "    \n",
    "    print('Testing second_in_list')\n",
    "    result = second_in_list('apple, banana, orange')\n",
    "    introcs.assert_equals('banana',result)\n",
    "\n",
    "    result = second_in_list(\"Billy, Andrew, Wendy\")\n",
    "    introcs.assert_equals('Andrew',result)\n",
    "\n",
    "    result = second_in_list(\"apple,    fig, orange\")\n",
    "    introcs.assert_equals('fig',result)\n",
    "\n",
    "    result = second_in_list(\"apple,  fig, banana\")\n",
    "    introcs.assert_equals('fig',result)\n",
    "\n",
    "    result = second_in_list(\"apple,  fig, banana, orange\")\n",
    "    introcs.assert_equals('fig',result)\n",
    "\n",
    "    result = second_in_list(' do , re , me , fa ')\n",
    "    introcs.assert_equals('re',result)\n",
    "\n",
    "    result = second_in_list('z,y,x,w')\n",
    "    introcs.assert_equals('y',result)"
   ]
  },
  {
   "cell_type": "code",
   "execution_count": 10,
   "metadata": {},
   "outputs": [
    {
     "name": "stdout",
     "output_type": "stream",
     "text": [
      "Testing second_in_list\n",
      "Module func is working correctly\n"
     ]
    }
   ],
   "source": [
    "test_second_in_list()\n",
    "print('Module func is working correctly')"
   ]
  },
  {
   "cell_type": "code",
   "execution_count": null,
   "metadata": {},
   "outputs": [],
   "source": []
  }
 ],
 "metadata": {
  "kernelspec": {
   "display_name": "Python 3",
   "language": "python",
   "name": "python3"
  },
  "language_info": {
   "codemirror_mode": {
    "name": "ipython",
    "version": 3
   },
   "file_extension": ".py",
   "mimetype": "text/x-python",
   "name": "python",
   "nbconvert_exporter": "python",
   "pygments_lexer": "ipython3",
   "version": "3.8.5"
  }
 },
 "nbformat": 4,
 "nbformat_minor": 4
}
