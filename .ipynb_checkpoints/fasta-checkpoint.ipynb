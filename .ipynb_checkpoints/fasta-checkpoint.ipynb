{
 "cells": [
  {
   "cell_type": "code",
   "execution_count": null,
   "metadata": {},
   "outputs": [],
   "source": [
    "# create a list containing values of all the headers\n",
    "headers = [\"ABC123\",\"DEF456\",\"HIJ789\"]\n",
    "\n",
    "# create a list containing values of all sequences\n",
    "sequences = [\"ATCGTACGATCGATCGATCGCTAGACGTATCG\",\n",
    "            \"actgatcgacgatcgatcgatcacgact\",\n",
    "            \"ACTGAC-ACTGT-ACTGTA----CATGTG\"\n",
    "           ]\n",
    "\n",
    "# open a file in write mode.\n",
    "file = open(\"mysequence.fasta\", \"w\")\n",
    "\n",
    "# loop through headers and sequences and write this to a file\n",
    "for header,seq in zip(headers,sequences):\n",
    "    seq = seq.replace('-', '') # replace all '-' with empty string\n",
    "    seq = seq.upper() # make the character to upper case\n",
    "    file.write('>' + header + '\\n' + seq + '\\n') # write to file\n",
    "file.close() # close the file"
   ]
  },
  {
   "cell_type": "code",
   "execution_count": null,
   "metadata": {},
   "outputs": [],
   "source": []
  },
  {
   "cell_type": "code",
   "execution_count": null,
   "metadata": {},
   "outputs": [],
   "source": [
    "Write a program that will create a FASTA file for the following three sequences - make sure that all sequences are in uppercase and only contain the bases A, T, G and C.\n",
    "\n",
    "Sequence header DNA sequence\n",
    "\n",
    "\n",
    "SeqA actgatcgacgatcgatcgatcacgact\n",
    "\n",
    "SeqB\n",
    "\n",
    "ACTGACTGACTGTATGACTGTACCATGATAGCCATGTG\n",
    "\n",
    "1. Define both headers and both sequences as variables. You are free to choose the name sof the variables.\n",
    "\n",
    "2. Using the variables print on the screen  the header and sequence of the first row/sequence (include the \">\" and a new line).\n",
    "\n",
    "3. Open a new file called sequence.txt for writing.\n",
    "\n",
    "4. Write both rows/sequences and headers in the file sequence.txt. Four lines in total.\n",
    "\n",
    "5. Close the file sequence.txt."
   ]
  }
 ],
 "metadata": {
  "kernelspec": {
   "display_name": "Python 3",
   "language": "python",
   "name": "python3"
  },
  "language_info": {
   "codemirror_mode": {
    "name": "ipython",
    "version": 3
   },
   "file_extension": ".py",
   "mimetype": "text/x-python",
   "name": "python",
   "nbconvert_exporter": "python",
   "pygments_lexer": "ipython3",
   "version": "3.8.5"
  }
 },
 "nbformat": 4,
 "nbformat_minor": 4
}
