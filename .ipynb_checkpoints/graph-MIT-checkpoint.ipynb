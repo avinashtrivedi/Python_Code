{
 "cells": [
  {
   "cell_type": "code",
   "execution_count": 1,
   "metadata": {},
   "outputs": [],
   "source": [
    "# http://web.mit.edu/6.034/www/labs/lab2/search.py\n",
    "# save search.py in current directory\n",
    "from search import UndirectedGraph\n",
    "\n",
    "def extensions(graph, path):\n",
    "    # Here graph is a object of UndirectedGraph class\n",
    "    # You can make use of get_neighbors() function in your system.\n",
    "    # get_neighbors() returns list of neighbours\n",
    "    valid_paths = []\n",
    "    list_of_neighbor = graph.get_neighbors(path[-1])\n",
    "    for node in list_of_neighbor:\n",
    "        # make a shallow copy so that any modification made on this copy will\n",
    "        # not modify the originay one.\n",
    "        temp_path = path.copy()\n",
    "        if node not in temp_path:\n",
    "            temp_path.append(node)\n",
    "            valid_paths.append(temp_path)\n",
    "    valid_paths.sort()\n",
    "    return valid_paths"
   ]
  },
  {
   "cell_type": "markdown",
   "metadata": {},
   "source": [
    "# create a sample graph for testing"
   ]
  },
  {
   "cell_type": "code",
   "execution_count": 2,
   "metadata": {},
   "outputs": [
    {
     "data": {
      "text/plain": [
       "Graph<\n",
       "\tnodes: ['A', 'B', 'C', 'D', 'E']\n",
       "\tedges: [Edge<A,B,1>, Edge<A,E,1>, Edge<A,C,1>, Edge<B,E,1>, Edge<B,C,1>, Edge<C,D,1>, Edge<D,E,1>]\n",
       "\theuristic: {}\n",
       ">"
      ]
     },
     "execution_count": 2,
     "metadata": {},
     "output_type": "execute_result"
    }
   ],
   "source": [
    "# UndirectedGraph is a class defined in search.py\n",
    "graph = UndirectedGraph() \n",
    "graph.nodes = [\"A\",\"B\",\"C\",\"D\",\"E\"]\n",
    "graph.join(\"A\",\"B\",1)\n",
    "graph.join(\"A\",\"E\",1)\n",
    "graph.join(\"A\",\"C\",1)\n",
    "graph.join(\"B\",\"E\",1)\n",
    "graph.join(\"B\",\"C\",1)\n",
    "graph.join(\"C\",\"D\",1)\n",
    "graph.join(\"D\",\"E\",1)"
   ]
  },
  {
   "cell_type": "code",
   "execution_count": 7,
   "metadata": {},
   "outputs": [
    {
     "data": {
      "text/plain": [
       "[Edge<A,B,1>,\n",
       " Edge<A,E,1>,\n",
       " Edge<A,C,1>,\n",
       " Edge<B,E,1>,\n",
       " Edge<B,C,1>,\n",
       " Edge<C,D,1>,\n",
       " Edge<D,E,1>]"
      ]
     },
     "execution_count": 7,
     "metadata": {},
     "output_type": "execute_result"
    }
   ],
   "source": [
    "graph.edges"
   ]
  },
  {
   "cell_type": "code",
   "execution_count": 4,
   "metadata": {},
   "outputs": [
    {
     "data": {
      "text/plain": [
       "[['D', 'E', 'A', 'B'], ['D', 'E', 'A', 'C']]"
      ]
     },
     "execution_count": 4,
     "metadata": {},
     "output_type": "execute_result"
    }
   ],
   "source": [
    "extensions(graph,['D','E','A'])"
   ]
  },
  {
   "cell_type": "code",
   "execution_count": 5,
   "metadata": {},
   "outputs": [
    {
     "data": {
      "text/plain": [
       "[['A', 'B', 'C'], ['A', 'B', 'E']]"
      ]
     },
     "execution_count": 5,
     "metadata": {},
     "output_type": "execute_result"
    }
   ],
   "source": [
    "extensions(graph,['A','B'])"
   ]
  },
  {
   "cell_type": "code",
   "execution_count": null,
   "metadata": {},
   "outputs": [],
   "source": []
  }
 ],
 "metadata": {
  "kernelspec": {
   "display_name": "Python 3",
   "language": "python",
   "name": "python3"
  },
  "language_info": {
   "codemirror_mode": {
    "name": "ipython",
    "version": 3
   },
   "file_extension": ".py",
   "mimetype": "text/x-python",
   "name": "python",
   "nbconvert_exporter": "python",
   "pygments_lexer": "ipython3",
   "version": "3.8.5"
  }
 },
 "nbformat": 4,
 "nbformat_minor": 4
}
