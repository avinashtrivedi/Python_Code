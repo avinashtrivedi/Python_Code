{
 "cells": [
  {
   "cell_type": "code",
   "execution_count": 1,
   "metadata": {},
   "outputs": [
    {
     "name": "stdout",
     "output_type": "stream",
     "text": [
      "Enter the name of first member?\n",
      ">Bob\n",
      "Enter the name of second member?\n",
      ">Jack\n",
      "How many pounds did Bob lose in January?\n",
      ">3\n",
      "How many pounds did Jack lose in January?\n",
      ">2\n",
      "How many pounds did Bob lose in February?\n",
      ">1\n",
      "How many pounds did Jack lose in February?\n",
      ">2\n",
      "How many pounds did Bob lose in March?\n",
      ">0\n",
      "How many pounds did Jack lose in March?\n",
      ">0\n",
      "How many pounds did Bob lose in April?\n",
      ">0\n",
      "How many pounds did Jack lose in April?\n",
      ">1\n",
      "How many pounds did Bob lose in May?\n",
      ">4\n",
      "How many pounds did Jack lose in May?\n",
      ">2\n",
      "                  Total Weight Lost Chart                   \n",
      "\n",
      "        Jan        Feb        March      April      May       \n",
      "Bob     3.0        1.0        0.0        0.0        4.0       \n",
      "Jack    2.0        2.0        0.0        1.0        2.0       \n",
      "\n",
      "Bob lost a total weight of: 8.0 lbs\n",
      "Jack lost a total weight of: 7.0 lbs\n"
     ]
    }
   ],
   "source": [
    "print('Enter the name of first member?')\n",
    "firstName = input('>')\n",
    "print('Enter the name of second member?')\n",
    "secondName = input('>')\n",
    "\n",
    "# store the name of months\n",
    "months = ['January','February','March','April','May']\n",
    "\n",
    "firstMember = []\n",
    "secondMember = []\n",
    "\n",
    "# receive the members weight for different months\n",
    "for i in range(len(months)):\n",
    "    print(\"How many pounds did {} lose in {}?\".format(firstName,months[i]))\n",
    "    wx = float(input('>'))\n",
    "    firstMember.append(wx) # store the weight of first member in list called firstMember\n",
    "    \n",
    "    print(\"How many pounds did {} lose in {}?\".format(secondName,months[i]))\n",
    "    wy = float(input('>')) \n",
    "    secondMember.append(wy) # store the weight of second member in list called secondMember\n",
    "    \n",
    "# print the weight chart in desired format\n",
    "\n",
    "print('{:^60s}\\n'.format(\"Total Weight Lost Chart\"))\n",
    "print(\"{:<7} {:<10} {:<10} {:<10} {:<10} {:<10}\".format('','Jan','Feb','March','April','May'))\n",
    "print(\"{:<7} {:<10} {:<10} {:<10} {:<10} {:<10}\".format(firstName,firstMember[0],firstMember[1],firstMember[2],firstMember[3],firstMember[4]))\n",
    "print(\"{:<7} {:<10} {:<10} {:<10} {:<10} {:<10}\".format(secondName,secondMember[0],secondMember[1],secondMember[2],secondMember[3],secondMember[4]))\n",
    "print()\n",
    "print(\"{} lost a total weight of: {} lbs\".format(firstName,sum(firstMember)))\n",
    "print(\"{} lost a total weight of: {} lbs\".format(secondName,sum(secondMember)))"
   ]
  },
  {
   "cell_type": "code",
   "execution_count": null,
   "metadata": {},
   "outputs": [],
   "source": []
  }
 ],
 "metadata": {
  "kernelspec": {
   "display_name": "Python 3",
   "language": "python",
   "name": "python3"
  },
  "language_info": {
   "codemirror_mode": {
    "name": "ipython",
    "version": 3
   },
   "file_extension": ".py",
   "mimetype": "text/x-python",
   "name": "python",
   "nbconvert_exporter": "python",
   "pygments_lexer": "ipython3",
   "version": "3.8.5"
  }
 },
 "nbformat": 4,
 "nbformat_minor": 4
}
