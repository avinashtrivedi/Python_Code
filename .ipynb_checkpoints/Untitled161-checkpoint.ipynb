{
 "cells": [
  {
   "cell_type": "code",
   "execution_count": 1,
   "metadata": {},
   "outputs": [],
   "source": [
    "# if declaration is in meter/sec2\n",
    "def StoppingDistance(current_vehicle_speed):\n",
    "    MileToMeter = 1609\n",
    "    vehicle_speed_in_ms2 = current_vehicle_speed*MileToMeter/3600\n",
    "    declaration  = 4\n",
    "    stopping_distance =  (vehicle_speed_in_ms2**2)/(2*declaration)\n",
    "    return round(stopping_distance,2)"
   ]
  },
  {
   "cell_type": "code",
   "execution_count": 2,
   "metadata": {},
   "outputs": [
    {
     "name": "stdout",
     "output_type": "stream",
     "text": [
      "Distance is: 89.89 Meter\n"
     ]
    }
   ],
   "source": [
    "print('Distance is:',StoppingDistance(60),'Meter')"
   ]
  },
  {
   "cell_type": "code",
   "execution_count": 3,
   "metadata": {},
   "outputs": [],
   "source": [
    "# if declaration is in mile/sec2\n",
    "def StoppingDistance(current_vehicle_speed):\n",
    "    MileToMeter = 1609\n",
    "    vehicle_speed_in_ms2 = current_vehicle_speed*MileToMeter/3600\n",
    "    declaration  = 4*MileToMeter\n",
    "    stopping_distance =  (vehicle_speed_in_ms2**2)/(2*declaration)\n",
    "    return round(stopping_distance,2)"
   ]
  },
  {
   "cell_type": "code",
   "execution_count": 4,
   "metadata": {},
   "outputs": [
    {
     "name": "stdout",
     "output_type": "stream",
     "text": [
      "Distance is: 0.06 Meter\n"
     ]
    }
   ],
   "source": [
    "print('Distance is:',StoppingDistance(60),'Meter')"
   ]
  },
  {
   "cell_type": "code",
   "execution_count": null,
   "metadata": {},
   "outputs": [],
   "source": []
  }
 ],
 "metadata": {
  "kernelspec": {
   "display_name": "Python 3",
   "language": "python",
   "name": "python3"
  },
  "language_info": {
   "codemirror_mode": {
    "name": "ipython",
    "version": 3
   },
   "file_extension": ".py",
   "mimetype": "text/x-python",
   "name": "python",
   "nbconvert_exporter": "python",
   "pygments_lexer": "ipython3",
   "version": "3.8.5"
  }
 },
 "nbformat": 4,
 "nbformat_minor": 4
}
