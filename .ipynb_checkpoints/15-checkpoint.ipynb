{
 "cells": [
  {
   "cell_type": "code",
   "execution_count": null,
   "metadata": {},
   "outputs": [],
   "source": [
    "import numpy as np\n",
    "def f(x):\n",
    "    return (np.tan(x)**2 + 2*np.tan(x) + 2)**.5\n",
    "\n",
    "# trapezoidal method code\n",
    "def trapezoidal(x0,xn,n):\n",
    "    \n",
    "    h = (xn - x0) / n # step size\n",
    "    integration = f(x0) + f(xn)  \n",
    "    for i in range(1,n):\n",
    "        k = x0 + i*h\n",
    "        integration = integration + 2 * f(k)\n",
    "    # Finding final integration value\n",
    "    integration = integration * h/2\n",
    "    return integration\n",
    "    \n",
    "# Input section\n",
    "l_limit = float(input(\"Enter lower limit : \"))\n",
    "u_limit = float(input(\"Enter upper limit : \"))\n",
    "interval = int(input(\"Enter panel size: \"))\n",
    "\n",
    "# Calling trapezoidal() method\n",
    "result = trapezoidal(l_limit, u_limit,interval)\n",
    "print(\"Integration result by Trapezoidal method is: \",result)"
   ]
  },
  {
   "cell_type": "code",
   "execution_count": null,
   "metadata": {},
   "outputs": [],
   "source": [
    "from scipy import integrate\n",
    "# defining integration function\n",
    "# lambda is a nameless function\n",
    "f = lambda x: (np.tan(x)**2 + 2*np.tan(x) + 2)**.5 \n",
    "def romberg(x0,xn,n):\n",
    "    integrate.romberg(function=f,a=x0,b=xn,show=True)"
   ]
  },
  {
   "cell_type": "code",
   "execution_count": 1,
   "metadata": {},
   "outputs": [],
   "source": [
    "import pandas as pd\n",
    "import numpy as np\n",
    "df = pd.read_csv(\"faithful.csv\")"
   ]
  },
  {
   "cell_type": "code",
   "execution_count": 2,
   "metadata": {},
   "outputs": [],
   "source": [
    "dd=np.array(df).reshape(2,-1)"
   ]
  },
  {
   "cell_type": "code",
   "execution_count": 3,
   "metadata": {},
   "outputs": [
    {
     "data": {
      "text/plain": [
       "(2, 272)"
      ]
     },
     "execution_count": 3,
     "metadata": {},
     "output_type": "execute_result"
    }
   ],
   "source": [
    "dd.shape"
   ]
  },
  {
   "cell_type": "code",
   "execution_count": 4,
   "metadata": {},
   "outputs": [],
   "source": [
    "trial_data = dd"
   ]
  },
  {
   "cell_type": "code",
   "execution_count": null,
   "metadata": {},
   "outputs": [],
   "source": [
    "trial_data.shape"
   ]
  },
  {
   "cell_type": "code",
   "execution_count": null,
   "metadata": {},
   "outputs": [],
   "source": [
    "import numpy as np\n",
    "import pandas as pd\n",
    "from matplotlib import pyplot as plt\n",
    "from sklearn.linear_model import LinearRegression\n",
    "df = pd.DataFrame(trial_data.reshape(-1,2),columns=['x-valye','y-value'])\n",
    "x = df.iloc[:,0].values\n",
    "y = df.iloc[:,1].values\n",
    "model = LinearRegression()\n",
    "x = x.reshape(-1, 1)\n",
    "model.fit(x,y)\n",
    "beta = np.array([model.intercept_,model.coef_],dtype=object) # slope = model.coef_ and intercept = model.intercept_\n",
    "df['predicted y-value'] = intercept_originalunits + slope_originalunits*df['x-valye']"
   ]
  },
  {
   "cell_type": "code",
   "execution_count": null,
   "metadata": {},
   "outputs": [],
   "source": [
    "def display_regression(beta):\n",
    "    plt.figure(figsize=(15,5))\n",
    "    plt.scatter(x, y,s=50,marker ='*', color = \"green\")\n",
    "    plt.plot(df.iloc[:,0],df.iloc[:,2].values,color='r')\n",
    "    plt.xlabel(\"x-value\")\n",
    "    plt.ylabel(\"y-value\")\n",
    "    plt.title('Scatter plot with regression line')\n",
    "    plt.show()"
   ]
  },
  {
   "cell_type": "code",
   "execution_count": null,
   "metadata": {},
   "outputs": [],
   "source": [
    "display_regression(beta)"
   ]
  },
  {
   "cell_type": "code",
   "execution_count": 7,
   "metadata": {},
   "outputs": [
    {
     "name": "stdout",
     "output_type": "stream",
     "text": [
      "intercept and slope is [33.47439702275333 10.729641395133532]\n"
     ]
    },
    {
     "data": {
      "image/png": "[encoded data removed]",
      "text/plain": [
       "<Figure size 504x216 with 1 Axes>"
      ]
     },
     "metadata": {
      "needs_background": "light"
     },
     "output_type": "display_data"
    }
   ],
   "source": [
    "import numpy.linalg as la\n",
    "import numpy as np\n",
    "import pandas as pd\n",
    "from matplotlib import pyplot as plt\n",
    "\n",
    "df = pd.DataFrame(trial_data.reshape(-1,2),columns=['x-valye','y-value'])\n",
    "x = df.iloc[:,0].values\n",
    "y = df.iloc[:,1].values\n",
    "A = np.vstack([x, np.ones(len(x))]).T\n",
    "\n",
    "m,c = np.linalg.lstsq(A, y, rcond=None)[0]\n",
    "beta = np.array([c,m],dtype=object)\n",
    "print('intercept and slope is',beta)\n",
    "dosage = (34-c)/m\n",
    "\n",
    "display_regression(beta)\n",
    "\n",
    "def display_regression(beta):\n",
    "    df = pd.DataFrame(trial_data.reshape(-1,2),columns=['x-valye','y-value'])\n",
    "    x = df.iloc[:,0].values\n",
    "    y = df.iloc[:,1].values\n",
    "    df['predicted y-value'] = beta[0] + beta[1]*df['x-valye']\n",
    "    plt.figure(figsize=(7,3))\n",
    "    plt.scatter(x, y,s=50,marker ='*', color = \"green\")\n",
    "    plt.plot(df.iloc[:,0],df.iloc[:,2].values,color='r')\n",
    "    plt.xlabel(\"x-dosage in mg\")\n",
    "    plt.ylabel(\"y-increase in HDLvalue\")\n",
    "    plt.title('Scatter plot with regression line')\n",
    "    plt.show()"
   ]
  },
  {
   "cell_type": "code",
   "execution_count": null,
   "metadata": {},
   "outputs": [],
   "source": [
    "display_regression([33,10])"
   ]
  },
  {
   "cell_type": "code",
   "execution_count": null,
   "metadata": {},
   "outputs": [],
   "source": [
    "import numpy.linalg as la"
   ]
  },
  {
   "cell_type": "code",
   "execution_count": null,
   "metadata": {},
   "outputs": [],
   "source": [
    "A = np.vstack([x, np.ones(len(x))]).T"
   ]
  },
  {
   "cell_type": "code",
   "execution_count": null,
   "metadata": {},
   "outputs": [],
   "source": [
    "m,c=np.linalg.lstsq(A, y, rcond=None)[0]"
   ]
  },
  {
   "cell_type": "code",
   "execution_count": null,
   "metadata": {},
   "outputs": [],
   "source": [
    "x = df.iloc[:,0].values\n",
    "y = df.iloc[:,1].values"
   ]
  },
  {
   "cell_type": "code",
   "execution_count": null,
   "metadata": {},
   "outputs": [],
   "source": [
    "df = pd.DataFrame(trial_data.reshape(-1,2),columns=['x-valye','y-value'])"
   ]
  },
  {
   "cell_type": "code",
   "execution_count": null,
   "metadata": {},
   "outputs": [],
   "source": [
    "beta = np.array([c,m],dtype=object)"
   ]
  },
  {
   "cell_type": "code",
   "execution_count": null,
   "metadata": {},
   "outputs": [],
   "source": [
    "beta"
   ]
  },
  {
   "cell_type": "code",
   "execution_count": null,
   "metadata": {},
   "outputs": [],
   "source": [
    "trial_data"
   ]
  },
  {
   "cell_type": "code",
   "execution_count": null,
   "metadata": {},
   "outputs": [],
   "source": []
  }
 ],
 "metadata": {
  "kernelspec": {
   "display_name": "Python 3",
   "language": "python",
   "name": "python3"
  },
  "language_info": {
   "codemirror_mode": {
    "name": "ipython",
    "version": 3
   },
   "file_extension": ".py",
   "mimetype": "text/x-python",
   "name": "python",
   "nbconvert_exporter": "python",
   "pygments_lexer": "ipython3",
   "version": "3.8.5"
  }
 },
 "nbformat": 4,
 "nbformat_minor": 4
}
