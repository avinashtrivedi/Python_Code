{
 "cells": [
  {
   "cell_type": "markdown",
   "metadata": {},
   "source": [
    "# Create a dummy dictionary"
   ]
  },
  {
   "cell_type": "code",
   "execution_count": 1,
   "metadata": {},
   "outputs": [],
   "source": [
    "DummyDict = {'Apple': 1,\n",
    "                 'Apricot': 2,\n",
    "                 'Avocado': 3,\n",
    "                 'Eggfruit': 4,\n",
    "                 'Date': 1,\n",
    "                 'Cucumber': 3,\n",
    "                 'Pluots': 7,\n",
    "                 'Strawberry': 8,\n",
    "                 }"
   ]
  },
  {
   "cell_type": "markdown",
   "metadata": {},
   "source": [
    "# Write this dictionary to text file"
   ]
  },
  {
   "cell_type": "code",
   "execution_count": 2,
   "metadata": {},
   "outputs": [],
   "source": [
    "with open('mydict.txt', 'w') as myfile:\n",
    "    print(DummyDict, file=myfile)"
   ]
  },
  {
   "cell_type": "markdown",
   "metadata": {},
   "source": [
    "# Modify the invert_dict() function"
   ]
  },
  {
   "cell_type": "code",
   "execution_count": 3,
   "metadata": {},
   "outputs": [],
   "source": [
    "def invert_dict(filename):\n",
    "    # read the text file and use eval method to get the dictionary object\n",
    "    # if you do not use eval method then you will get content in the form of string.\n",
    "    # store the dictionary into MyDict\n",
    "    with open(filename, 'r') as myfile: \n",
    "        data = myfile.read()\n",
    "        MyDict = eval(data)\n",
    "    \n",
    "    Inverted_Dict={} # create a empty dictionary\n",
    "    \n",
    "    # access key and value from MyDict\n",
    "    # add elements into inverted dictionary in the form, {value:key}\n",
    "    # i.e. value of MyDict become key for Inverted_Dict\n",
    "    # and key of MyDict become value for Inverted_Dict\n",
    "    for k,v in MyDict.items():\n",
    "        if v in Inverted_Dict:\n",
    "            Inverted_Dict[v].append(k)  # to handle the cases of multiple value with same key\n",
    "        else:\n",
    "            Inverted_Dict[v]=[k]\n",
    "    # write inverted dictionary into a file \n",
    "    with open('inverted_dict.txt', 'w') as myfile:\n",
    "        print(Inverted_Dict, file=myfile)"
   ]
  },
  {
   "cell_type": "code",
   "execution_count": 4,
   "metadata": {},
   "outputs": [],
   "source": [
    "invert_dict('mydict.txt') # call the function"
   ]
  },
  {
   "cell_type": "code",
   "execution_count": null,
   "metadata": {},
   "outputs": [],
   "source": []
  },
  {
   "cell_type": "code",
   "execution_count": null,
   "metadata": {},
   "outputs": [],
   "source": []
  }
 ],
 "metadata": {
  "kernelspec": {
   "display_name": "Python 3",
   "language": "python",
   "name": "python3"
  },
  "language_info": {
   "codemirror_mode": {
    "name": "ipython",
    "version": 3
   },
   "file_extension": ".py",
   "mimetype": "text/x-python",
   "name": "python",
   "nbconvert_exporter": "python",
   "pygments_lexer": "ipython3",
   "version": "3.8.5"
  }
 },
 "nbformat": 4,
 "nbformat_minor": 4
}
