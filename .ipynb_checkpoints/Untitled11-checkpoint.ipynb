{
 "cells": [
  {
   "cell_type": "code",
   "execution_count": 1,
   "metadata": {},
   "outputs": [],
   "source": [
    "d={'I': [('really', 'really')],\n",
    "     'really': [('really', 'like'), ('like', 'cake.')]}"
   ]
  },
  {
   "cell_type": "code",
   "execution_count": 16,
   "metadata": {},
   "outputs": [
    {
     "data": {
      "text/plain": [
       "'cake.'"
      ]
     },
     "execution_count": 16,
     "metadata": {},
     "output_type": "execute_result"
    }
   ],
   "source": [
    "d['really'][1][-1]"
   ]
  },
  {
   "cell_type": "code",
   "execution_count": 4,
   "metadata": {},
   "outputs": [
    {
     "data": {
      "text/plain": [
       "['I', 'really']"
      ]
     },
     "execution_count": 4,
     "metadata": {},
     "output_type": "execute_result"
    }
   ],
   "source": [
    "list(d)"
   ]
  },
  {
   "cell_type": "code",
   "execution_count": 5,
   "metadata": {},
   "outputs": [],
   "source": [
    "import random "
   ]
  },
  {
   "cell_type": "code",
   "execution_count": 12,
   "metadata": {},
   "outputs": [
    {
     "data": {
      "text/plain": [
       "0"
      ]
     },
     "execution_count": 12,
     "metadata": {},
     "output_type": "execute_result"
    }
   ],
   "source": [
    "random.randint(0,0)"
   ]
  },
  {
   "cell_type": "code",
   "execution_count": 8,
   "metadata": {},
   "outputs": [
    {
     "data": {
      "text/plain": [
       "'I'"
      ]
     },
     "execution_count": 8,
     "metadata": {},
     "output_type": "execute_result"
    }
   ],
   "source": [
    "random.choice(sorted(d.keys()))"
   ]
  },
  {
   "cell_type": "code",
   "execution_count": 108,
   "metadata": {},
   "outputs": [],
   "source": [
    "def gen_passage(ngram_dict,length=100):\n",
    "    s=[]\n",
    "    while True:\n",
    "        cur = random.choice(sorted(d.keys()))\n",
    "        s.append(cur)\n",
    "        if len(s)==length:\n",
    "            return ' '.join(s)\n",
    "        random_tuple = random.randint(0,len(d[cur])-1)\n",
    "        \n",
    "        if len(d[cur][random_tuple]) != 1:\n",
    "            for i in d[cur][random_tuple]:\n",
    "                if len(s)==length:\n",
    "                    return ' '.join(s)\n",
    "                s.append(i)\n",
    "        else:\n",
    "            s.append(d[cur][random_tuple][0])\n",
    "        cur = d[cur][random_tuple][-1]\n",
    "        while True:\n",
    "            if cur in d:\n",
    "                random_tuple = random.randint(0,len(d[cur])-1)\n",
    "                if len(d[cur][random_tuple]) != 1:\n",
    "                    for i in d[cur][random_tuple]:\n",
    "                        if len(s)==length:\n",
    "                            return ' '.join(s)\n",
    "                        s.append(i)\n",
    "                else:\n",
    "                    s.append(d[cur][random_tuple][0])\n",
    "                cur= d[cur][random_tuple][-1]\n",
    "            else:\n",
    "                break"
   ]
  },
  {
   "cell_type": "code",
   "execution_count": 109,
   "metadata": {},
   "outputs": [
    {
     "data": {
      "text/plain": [
       "'really really like really like cake. I really really really like'"
      ]
     },
     "execution_count": 109,
     "metadata": {},
     "output_type": "execute_result"
    }
   ],
   "source": [
    "' '.join(s)"
   ]
  },
  {
   "cell_type": "code",
   "execution_count": 110,
   "metadata": {},
   "outputs": [],
   "source": [
    "d={'I': [('really')],\n",
    "     'really': [('really'), ('cake.')]}"
   ]
  },
  {
   "cell_type": "code",
   "execution_count": 111,
   "metadata": {},
   "outputs": [
    {
     "data": {
      "text/plain": [
       "'really r e a l l y I r e a l l y really r e a l l y I r e a l l y really r e a l l y really r e a l l y I r e a l l y I r e a l l y I r e a l l y I r e a l l y really r e a l l y I r e a l l y really c a k e . I r e a l l y really r e'"
      ]
     },
     "execution_count": 111,
     "metadata": {},
     "output_type": "execute_result"
    }
   ],
   "source": [
    "gen_passage(d)"
   ]
  },
  {
   "cell_type": "code",
   "execution_count": 103,
   "metadata": {},
   "outputs": [
    {
     "name": "stdout",
     "output_type": "stream",
     "text": [
      "a\n",
      "b\n",
      "c\n"
     ]
    }
   ],
   "source": [
    "for i in (('abc')):\n",
    "    print(i)"
   ]
  },
  {
   "cell_type": "code",
   "execution_count": null,
   "metadata": {},
   "outputs": [],
   "source": []
  }
 ],
 "metadata": {
  "kernelspec": {
   "display_name": "Python 3",
   "language": "python",
   "name": "python3"
  },
  "language_info": {
   "codemirror_mode": {
    "name": "ipython",
    "version": 3
   },
   "file_extension": ".py",
   "mimetype": "text/x-python",
   "name": "python",
   "nbconvert_exporter": "python",
   "pygments_lexer": "ipython3",
   "version": "3.8.5"
  }
 },
 "nbformat": 4,
 "nbformat_minor": 4
}
