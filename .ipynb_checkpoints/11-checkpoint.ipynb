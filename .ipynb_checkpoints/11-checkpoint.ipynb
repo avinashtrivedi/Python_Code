{
 "cells": [
  {
   "cell_type": "code",
   "execution_count": null,
   "metadata": {},
   "outputs": [],
   "source": [
    "calender={'2018-03-13':{'start':'13:00',\n",
    "                        'end':'13:00',\n",
    "                        'title':'Have fun' \n",
    "                       }\n",
    "          '2018-03-11':{'start':'10:00',\n",
    "                        'end':'12:00',\n",
    "                        'title':'Another event on this date' \n",
    "                       }\n",
    "          '2018-02-28':{'start':'13:00',\n",
    "                        'end':'13:00',\n",
    "                        'title':'Have fun' \n",
    "                       }\n",
    "         }"
   ]
  }
 ],
 "metadata": {
  "kernelspec": {
   "display_name": "Python 3",
   "language": "python",
   "name": "python3"
  },
  "language_info": {
   "codemirror_mode": {
    "name": "ipython",
    "version": 3
   },
   "file_extension": ".py",
   "mimetype": "text/x-python",
   "name": "python",
   "nbconvert_exporter": "python",
   "pygments_lexer": "ipython3",
   "version": "3.8.5"
  }
 },
 "nbformat": 4,
 "nbformat_minor": 4
}
