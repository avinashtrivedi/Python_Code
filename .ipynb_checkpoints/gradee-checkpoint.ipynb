{
 "cells": [
  {
   "cell_type": "code",
   "execution_count": 54,
   "metadata": {},
   "outputs": [],
   "source": [
    "# define a function to find the student grade\n",
    "def find_student_grade(inputFile1,inputFile2,outputFile):\n",
    "    \n",
    "    # open file1\n",
    "    file1 = open(inputFile1) # e.g. FIT9136.txt\n",
    "    \n",
    "    # open file2\n",
    "    file2 = open(inputFile2) # e.g. FIT9133.txt\n",
    "    \n",
    "    # read all the lines as a list of list\n",
    "    unit1 = file1.readlines()\n",
    "    unit2 = file2.readlines()\n",
    "    \n",
    "    # find the name of unit like FIT9136 and FIT9133\n",
    "    unit1Name = inputFile1.split('.')[0]\n",
    "    unit2Name = inputFile2.split('.')[0]\n",
    "    \n",
    "    d={} # create a empty dictionary\n",
    "\n",
    "    # store student ID and marks in dictionary d for file1\n",
    "    for i in unit1:\n",
    "        roll_no = i.split()[0]\n",
    "        marks = float(i.split()[1])\n",
    "        # store marks and unit name as a dictionary value. in the form [[unit1,unit2],marks1,marks2]\n",
    "        if roll_no in d:\n",
    "            d[roll_no].append(marks)\n",
    "            d[roll_no][0].append(unit1Name)\n",
    "        else:\n",
    "            d[roll_no] = [[],marks]\n",
    "            d[roll_no][0].append(unit1Name)\n",
    "\n",
    "    # store student ID and marks in dictionary d for file2\n",
    "    for j in unit2:\n",
    "        roll_no = j.split()[0]\n",
    "        marks = float(j.split()[1])\n",
    "        \n",
    "        # store marks and unit name as a dictionary value. in the form [[unit1,unit2],marks1,marks2]\n",
    "        if roll_no in d:\n",
    "            d[roll_no].append(marks)\n",
    "            d[roll_no][0].append(unit2Name)\n",
    "        else:\n",
    "            d[roll_no] = [[],marks]\n",
    "            d[roll_no][0].append(unit2Name)\n",
    "\n",
    "    # get the average marks,now the dictionary value is in the form [unit1,unit2,average_marks] \n",
    "    for i in d:\n",
    "        d[i] = d[i][0] + [sum(d[i][1:])/len(d[i][1:])]\n",
    "        \n",
    "    # open a file in write mode.\n",
    "    file_object = open(outputFile, \"w\")\n",
    "    \n",
    "    # write all the dictionary content into output file.\n",
    "    for i in d:\n",
    "        file_object.write(f\"{i}\")\n",
    "        for j in d[i]:\n",
    "            file_object.write(f\", {j}\")\n",
    "        file_object.write(f\"\\n\")"
   ]
  },
  {
   "cell_type": "code",
   "execution_count": 55,
   "metadata": {},
   "outputs": [],
   "source": [
    "# call the function\n",
    "find_student_grade('FIT9136.txt','FIT9133.txt','output.txt') "
   ]
  },
  {
   "cell_type": "code",
   "execution_count": null,
   "metadata": {},
   "outputs": [],
   "source": []
  }
 ],
 "metadata": {
  "kernelspec": {
   "display_name": "Python 3",
   "language": "python",
   "name": "python3"
  },
  "language_info": {
   "codemirror_mode": {
    "name": "ipython",
    "version": 3
   },
   "file_extension": ".py",
   "mimetype": "text/x-python",
   "name": "python",
   "nbconvert_exporter": "python",
   "pygments_lexer": "ipython3",
   "version": "3.8.5"
  }
 },
 "nbformat": 4,
 "nbformat_minor": 4
}
