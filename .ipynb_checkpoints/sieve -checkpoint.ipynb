{
 "cells": [
  {
   "cell_type": "code",
   "execution_count": 1,
   "metadata": {},
   "outputs": [
    {
     "name": "stdout",
     "output_type": "stream",
     "text": [
      "7 3\n",
      "6\n"
     ]
    }
   ],
   "source": [
    "# get inputs as single string\n",
    "y = input()\n",
    "\n",
    "# get n and k\n",
    "n,k = y.split()\n",
    "\n",
    "# convert it to integer\n",
    "n = int(n)\n",
    "k = int(k)\n",
    "\n",
    "# store crossed the numbers\n",
    "crossed = []\n",
    "\n",
    "# loop through 2 to n\n",
    "for i in range(2,n+1):\n",
    "    \n",
    "    x = i\n",
    "    j = i\n",
    "    flag = False\n",
    "    \n",
    "    # if number is already crossed\n",
    "    # do nothing and go back\n",
    "    if i in crossed:\n",
    "        continue\n",
    "    \n",
    "    # if already not crossed\n",
    "    # cross the number and its multiple i.e. store them in crossed list \n",
    "    while x<=n:\n",
    "        if x not in crossed:\n",
    "            crossed.append(x)\n",
    "        \n",
    "        # if crossed[k-1] exist i.e. (lets say) 7th number to get crossed \n",
    "        if crossed[k-1:k]:\n",
    "            \n",
    "            # print the kth number that gets crossed\n",
    "            print(crossed[k-1])\n",
    "            flag = True\n",
    "            break\n",
    "        x =  x + j  # get multiple\n",
    "    if flag:\n",
    "        break"
   ]
  },
  {
   "cell_type": "code",
   "execution_count": 5,
   "metadata": {},
   "outputs": [
    {
     "name": "stdout",
     "output_type": "stream",
     "text": [
      "11\n"
     ]
    },
    {
     "ename": "TypeError",
     "evalue": "string indices must be integers",
     "output_type": "error",
     "traceback": [
      "\u001b[1;31m---------------------------------------------------------------------------\u001b[0m",
      "\u001b[1;31mTypeError\u001b[0m                                 Traceback (most recent call last)",
      "\u001b[1;32m<ipython-input-5-03d285ff29da>\u001b[0m in \u001b[0;36m<module>\u001b[1;34m\u001b[0m\n\u001b[0;32m    129\u001b[0m \u001b[1;33m\u001b[0m\u001b[0m\n\u001b[0;32m    130\u001b[0m \u001b[1;33m\u001b[0m\u001b[0m\n\u001b[1;32m--> 131\u001b[1;33m \u001b[0mtest\u001b[0m \u001b[1;33m=\u001b[0m \u001b[0mtest_D_stumps\u001b[0m\u001b[1;33m(\u001b[0m\u001b[0mtest_file\u001b[0m\u001b[1;33m,\u001b[0m\u001b[0mtrain\u001b[0m\u001b[1;33m[\u001b[0m\u001b[1;36m0\u001b[0m\u001b[1;33m]\u001b[0m\u001b[1;33m,\u001b[0m\u001b[0mtrain\u001b[0m\u001b[1;33m[\u001b[0m\u001b[1;36m1\u001b[0m\u001b[1;33m]\u001b[0m\u001b[1;33m)\u001b[0m\u001b[1;33m\u001b[0m\u001b[1;33m\u001b[0m\u001b[0m\n\u001b[0m\u001b[0;32m    132\u001b[0m \u001b[1;33m\u001b[0m\u001b[0m\n\u001b[0;32m    133\u001b[0m \u001b[0mprint\u001b[0m\u001b[1;33m(\u001b[0m\u001b[0mtest\u001b[0m\u001b[1;33m)\u001b[0m\u001b[1;33m\u001b[0m\u001b[1;33m\u001b[0m\u001b[0m\n",
      "\u001b[1;32m<ipython-input-5-03d285ff29da>\u001b[0m in \u001b[0;36mtest_D_stumps\u001b[1;34m(test_data, j_star, theta_star)\u001b[0m\n\u001b[0;32m     81\u001b[0m     \u001b[0mlabel_pointer\u001b[0m \u001b[1;33m=\u001b[0m \u001b[0mlen\u001b[0m\u001b[1;33m(\u001b[0m\u001b[0mtest_data\u001b[0m\u001b[1;33m)\u001b[0m \u001b[1;33m-\u001b[0m\u001b[1;36m1\u001b[0m\u001b[1;33m\u001b[0m\u001b[1;33m\u001b[0m\u001b[0m\n\u001b[0;32m     82\u001b[0m     \u001b[0mprint\u001b[0m\u001b[1;33m(\u001b[0m\u001b[0mlabel_pointer\u001b[0m\u001b[1;33m)\u001b[0m\u001b[1;33m\u001b[0m\u001b[1;33m\u001b[0m\u001b[0m\n\u001b[1;32m---> 83\u001b[1;33m     \u001b[0mcorrect_label\u001b[0m \u001b[1;33m=\u001b[0m \u001b[0mtest_data\u001b[0m\u001b[1;33m[\u001b[0m\u001b[1;33m:\u001b[0m\u001b[1;33m,\u001b[0m\u001b[0mlabel_pointer\u001b[0m\u001b[1;33m]\u001b[0m\u001b[1;33m.\u001b[0m\u001b[0mcopy\u001b[0m\u001b[1;33m(\u001b[0m\u001b[1;33m)\u001b[0m\u001b[1;33m\u001b[0m\u001b[1;33m\u001b[0m\u001b[0m\n\u001b[0m\u001b[0;32m     84\u001b[0m \u001b[1;33m\u001b[0m\u001b[0m\n\u001b[0;32m     85\u001b[0m     \u001b[0mnum_test\u001b[0m \u001b[1;33m=\u001b[0m \u001b[0mlen\u001b[0m\u001b[1;33m(\u001b[0m\u001b[0mtest_data\u001b[0m\u001b[1;33m)\u001b[0m\u001b[1;33m\u001b[0m\u001b[1;33m\u001b[0m\u001b[0m\n",
      "\u001b[1;31mTypeError\u001b[0m: string indices must be integers"
     ]
    }
   ],
   "source": [
    "import numpy as np\n",
    "\n",
    "import pandas as pd\n",
    "\n",
    "import csv\n",
    "\n",
    "\n",
    "\n",
    "def data_import(test_file, train_file):\n",
    "\n",
    "    train_data = np.array(pd.read_csv(train_file, header=None))\n",
    "\n",
    "    test_data = np.array(pd.read_csv(test_file, header=None))\n",
    "\n",
    "    return train_data, test_data\n",
    "\n",
    "\n",
    "\n",
    "def D_stumps(train_data):\n",
    "\n",
    "    num_d = len(train_data[0])-1\n",
    "\n",
    "    label = len(train_data[0])-1\n",
    "\n",
    "    num_train = len(train_data)\n",
    "\n",
    "    D = 1 / num_train\n",
    "\n",
    "    F_star = float(\"inf\")\n",
    "\n",
    "    theta_star = 0\n",
    "\n",
    "    j_star = 0\n",
    "\n",
    "\n",
    "\n",
    "    for j in range(num_d):\n",
    "\n",
    "        sort = train_data[np.argsort(train_data[:,j])]\n",
    "\n",
    "        x_m1 = sort[num_train - 1].copy()\n",
    "\n",
    "        x_m1[j] += 1\n",
    "\n",
    "        sort = np.row_stack((sort, x_m1))\n",
    "\n",
    "        F = D * sum(train_data[:, label] == 1.0)\n",
    "\n",
    "\n",
    "\n",
    "        if F < F_star:\n",
    "\n",
    "            F_star = F\n",
    "\n",
    "            theta_star = sort[0,j] -1\n",
    "\n",
    "            j_star = j\n",
    "\n",
    "\n",
    "\n",
    "        for i in range(num_train):\n",
    "\n",
    "            F = F - sort[i, label] * D\n",
    "\n",
    "            if F < F_star and sort[i,j] != sort[i+1, j]:\n",
    "\n",
    "                F_star = F\n",
    "\n",
    "                theta_star = 0.5 * (sort[i,j] + sort[i+1, j])\n",
    "\n",
    "                j_star = j\n",
    "\n",
    "\n",
    "\n",
    "    return j_star, theta_star\n",
    "\n",
    "\n",
    "\n",
    "def test_D_stumps(test_data, j_star, theta_star):\n",
    "\n",
    "    label_pointer = len(test_data) -1\n",
    "    print(label_pointer)\n",
    "    correct_label = test_data[:,label_pointer].copy()\n",
    "\n",
    "    num_test = len(test_data)\n",
    "\n",
    "    judge = np.empty(num_test)\n",
    "\n",
    "    error = 0\n",
    "\n",
    "\n",
    "\n",
    "    for i in range(num_test):\n",
    "\n",
    "        if test_data[i, j_star] <= theta_star:\n",
    "\n",
    "            judge[i] = 1\n",
    "\n",
    "        elif test_data[i, j_star] > theta_star:\n",
    "\n",
    "            judge[i] = -1\n",
    "\n",
    "     \n",
    "\n",
    "        if judge != correct_label[i]:\n",
    "\n",
    "            error += 1\n",
    "\n",
    "\n",
    "\n",
    "    error_rate = error/num_test\n",
    "\n",
    "\n",
    "\n",
    "    return judge, error_rate\n",
    "\n",
    "\n",
    "\n",
    "test_file = \"Testdata.csv\"\n",
    "\n",
    "train_file = \"Traindata.csv\"\n",
    "\n",
    "\n",
    "\n",
    "test,train = data_import(test_file,train_file)\n",
    "\n",
    "train = D_stumps(train_file)\n",
    "\n",
    "\n",
    "\n",
    "test = test_D_stumps(test_file,train[0],train[1])\n",
    "\n",
    "print(test)"
   ]
  },
  {
   "cell_type": "code",
   "execution_count": 12,
   "metadata": {},
   "outputs": [
    {
     "data": {
      "text/plain": [
       "array([ 1.,  1.,  1.,  1.,  1.,  1.,  1.,  1.,  1.,  1.,  1.,  1.,  1.,\n",
       "        1.,  1.,  1.,  1.,  1.,  1.,  1.,  1.,  1.,  1.,  1.,  1.,  1.,\n",
       "        1.,  1.,  1.,  1.,  1.,  1.,  1.,  1.,  1.,  1.,  1.,  1.,  1.,\n",
       "        1.,  1.,  1.,  1.,  1.,  1.,  1.,  1.,  1.,  1.,  1., -1., -1.,\n",
       "       -1., -1., -1., -1., -1., -1., -1., -1., -1., -1., -1., -1., -1.,\n",
       "       -1., -1., -1., -1., -1., -1., -1., -1., -1., -1., -1., -1., -1.,\n",
       "       -1., -1., -1., -1., -1., -1., -1., -1., -1., -1., -1., -1., -1.,\n",
       "       -1., -1., -1., -1., -1., -1., -1., -1., -1.])"
      ]
     },
     "execution_count": 12,
     "metadata": {},
     "output_type": "execute_result"
    }
   ],
   "source": [
    "test_data[:,3].copy()"
   ]
  },
  {
   "cell_type": "code",
   "execution_count": 7,
   "metadata": {},
   "outputs": [],
   "source": [
    "test_data = np.array(pd.read_csv(test_file, header=None))"
   ]
  },
  {
   "cell_type": "code",
   "execution_count": 11,
   "metadata": {},
   "outputs": [
    {
     "data": {
      "text/plain": [
       "4"
      ]
     },
     "execution_count": 11,
     "metadata": {},
     "output_type": "execute_result"
    }
   ],
   "source": [
    "len(test_data[0])"
   ]
  },
  {
   "cell_type": "code",
   "execution_count": null,
   "metadata": {},
   "outputs": [],
   "source": []
  }
 ],
 "metadata": {
  "kernelspec": {
   "display_name": "Python 3",
   "language": "python",
   "name": "python3"
  },
  "language_info": {
   "codemirror_mode": {
    "name": "ipython",
    "version": 3
   },
   "file_extension": ".py",
   "mimetype": "text/x-python",
   "name": "python",
   "nbconvert_exporter": "python",
   "pygments_lexer": "ipython3",
   "version": "3.8.5"
  }
 },
 "nbformat": 4,
 "nbformat_minor": 4
}
