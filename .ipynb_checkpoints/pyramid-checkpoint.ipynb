{
 "cells": [
  {
   "cell_type": "code",
   "execution_count": 27,
   "metadata": {},
   "outputs": [
    {
     "name": "stdout",
     "output_type": "stream",
     "text": [
      "Height: -52\n",
      "Height: 2.2\n",
      "Height: 9\n",
      "Height: 84\n",
      "Height: 8\n",
      "       #\n",
      "      ##\n",
      "     ###\n",
      "    ####\n",
      "   #####\n",
      "  ######\n",
      " #######\n",
      "########\n"
     ]
    }
   ],
   "source": [
    "# loop to keep prompting for a valid input\n",
    "while True:\n",
    "    \n",
    "    # get the valid height\n",
    "    get_int = input('Height: ')\n",
    "    \n",
    "    # check if input is numeric\n",
    "    if get_int.isnumeric():\n",
    "        \n",
    "        # convert input to integer , as by default\n",
    "        # the input was in string form.\n",
    "        get_int = int(get_int)\n",
    "        \n",
    "        # check if input is in the range of 1-8\n",
    "        if 1<= get_int<=8:\n",
    "            \n",
    "            # print the half-pyramid\n",
    "            for i in range(1,get_int+1):\n",
    "                print((get_int-i)*' '+i*'#')\n",
    "            \n",
    "            # exit the loop\n",
    "            break"
   ]
  },
  {
   "cell_type": "code",
   "execution_count": null,
   "metadata": {},
   "outputs": [],
   "source": []
  }
 ],
 "metadata": {
  "kernelspec": {
   "display_name": "Python 3",
   "language": "python",
   "name": "python3"
  },
  "language_info": {
   "codemirror_mode": {
    "name": "ipython",
    "version": 3
   },
   "file_extension": ".py",
   "mimetype": "text/x-python",
   "name": "python",
   "nbconvert_exporter": "python",
   "pygments_lexer": "ipython3",
   "version": "3.8.5"
  }
 },
 "nbformat": 4,
 "nbformat_minor": 4
}
