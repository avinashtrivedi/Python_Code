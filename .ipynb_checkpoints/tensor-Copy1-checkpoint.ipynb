{
 "cells": [
  {
   "cell_type": "code",
   "execution_count": 1,
   "metadata": {},
   "outputs": [],
   "source": [
    "# import library\n",
    "import tensorflow as tf\n",
    "import pandas as pd\n",
    "import os\n",
    "import random\n",
    "import string\n",
    "from shutil import copyfile\n",
    "from tensorboard.plugins import projector\n",
    "tf.compat.v1.disable_eager_execution()\n",
    "\n",
    "# load the dataset\n",
    "df=pd.read_csv('./embedding_words.csv',header=None)"
   ]
  },
  {
   "cell_type": "code",
   "execution_count": 2,
   "metadata": {},
   "outputs": [],
   "source": [
    "no_of_word = len(df)\n",
    "dim = 50 # dimention of embedding matrix\n",
    "\n",
    "\n",
    "filename = ''.join(random.choice(string.ascii_uppercase) for i in range(15))\n",
    "logdir = './' + filename\n",
    "save_path = logdir + '/embedding_test.ckpt'"
   ]
  },
  {
   "cell_type": "code",
   "execution_count": 3,
   "metadata": {},
   "outputs": [],
   "source": [
    "from gensim.models import KeyedVectors\n",
    "import numpy as np\n",
    "w2v = KeyedVectors.load_word2vec_format(r'E:\\vector\\NER_Word2vec_200d_v1.txt')\n",
    "embeddings = {}\n",
    "for k in list(w2v.vocab)[:500]:\n",
    "    embeddings[k] = w2v[k]\n",
    "    \n",
    "embeddings_vectors = np.stack(list(embeddings.values()), axis=0)    \n",
    "embedding_var = tf.Variable(embeddings_vectors, name='word_embeddings')\n",
    "\n",
    "\n",
    "# embedding matric\n",
    "# embedding_var = tf.Variable(tf.random.truncated_normal([no_of_word,dim]),name='embedding')"
   ]
  },
  {
   "cell_type": "code",
   "execution_count": 4,
   "metadata": {},
   "outputs": [],
   "source": [
    "file = open('embedding_words.csv','w')\n",
    "newline = ''\n",
    "for i in list(embeddings)[:500]:\n",
    "    file.write(newline)\n",
    "    file.write(i)\n",
    "    newline = '\\n'\n",
    "file.close()"
   ]
  },
  {
   "cell_type": "code",
   "execution_count": 5,
   "metadata": {},
   "outputs": [],
   "source": [
    "with tf.compat.v1.Session() as sess:\n",
    "    \n",
    "    writer = tf.compat.v1.summary.FileWriter(logdir, sess.graph)\n",
    "    \n",
    "    sess.run(embedding_var.initializer)\n",
    "    \n",
    "    config = projector.ProjectorConfig()\n",
    "    \n",
    "    embedding = config.embeddings.add()\n",
    "    embedding.tensor_name = embedding_var.name\n",
    "    embedding.metadata_path = './embedding_words.csv'\n",
    "    \n",
    "   \n",
    "    projector.visualize_embeddings(writer, config)\n",
    "\n",
    "    saver_embed = tf.compat.v1.train.Saver([embedding_var])\n",
    "    saver_embed.save(sess, save_path, 1)\n",
    "writer.close() # close writer\n",
    "\n",
    "dest_path = logdir+'/embedding_words.csv'\n",
    "\n",
    "_ = copyfile('./embedding_words.csv',dest_path)"
   ]
  },
  {
   "cell_type": "code",
   "execution_count": 6,
   "metadata": {},
   "outputs": [
    {
     "name": "stdout",
     "output_type": "stream",
     "text": [
      "tensorboard --logdir=\"C:\\Users\\avitr\\OneDrive\\Documents\\Python Scripts\\MyCode\\PEIDTWOZMIKXBNC\" --port=8008\n"
     ]
    }
   ],
   "source": [
    "log_path = '\"' + os.getcwd() + '\\\\'+filename+ '\"'\n",
    "print(\"tensorboard --logdir={} --{}\".format(log_path,'port=8008'))"
   ]
  },
  {
   "cell_type": "markdown",
   "metadata": {},
   "source": []
  },
  {
   "cell_type": "code",
   "execution_count": 7,
   "metadata": {},
   "outputs": [
    {
     "data": {
      "text/plain": [
       "tensorflow.python.ops.resource_variable_ops.ResourceVariable"
      ]
     },
     "execution_count": 7,
     "metadata": {},
     "output_type": "execute_result"
    }
   ],
   "source": [
    "type(embedding_var)"
   ]
  },
  {
   "cell_type": "code",
   "execution_count": 8,
   "metadata": {},
   "outputs": [
    {
     "data": {
      "text/plain": [
       "<tf.Variable 'word_embeddings:0' shape=(500, 200) dtype=float32>"
      ]
     },
     "execution_count": 8,
     "metadata": {},
     "output_type": "execute_result"
    }
   ],
   "source": [
    "embedding_var"
   ]
  },
  {
   "cell_type": "code",
   "execution_count": 9,
   "metadata": {},
   "outputs": [],
   "source": [
    "import numpy as np"
   ]
  },
  {
   "cell_type": "code",
   "execution_count": 10,
   "metadata": {},
   "outputs": [
    {
     "data": {
      "text/plain": [
       "<tf.Tensor 'embedding:0' shape=(2, 2) dtype=float32>"
      ]
     },
     "execution_count": 10,
     "metadata": {},
     "output_type": "execute_result"
    }
   ],
   "source": [
    "tf.convert_to_tensor(\n",
    "    np.array([[1.0, 2.0], [3.0, 4.0]],dtype=np.float32),name='embedding'\n",
    ")"
   ]
  },
  {
   "cell_type": "code",
   "execution_count": null,
   "metadata": {},
   "outputs": [],
   "source": []
  }
 ],
 "metadata": {
  "kernelspec": {
   "display_name": "Python 3",
   "language": "python",
   "name": "python3"
  },
  "language_info": {
   "codemirror_mode": {
    "name": "ipython",
    "version": 3
   },
   "file_extension": ".py",
   "mimetype": "text/x-python",
   "name": "python",
   "nbconvert_exporter": "python",
   "pygments_lexer": "ipython3",
   "version": "3.8.5"
  }
 },
 "nbformat": 4,
 "nbformat_minor": 4
}
