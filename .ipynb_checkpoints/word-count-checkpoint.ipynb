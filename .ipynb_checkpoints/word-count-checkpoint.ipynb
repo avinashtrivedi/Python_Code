{
 "cells": [
  {
   "cell_type": "code",
   "execution_count": 53,
   "metadata": {},
   "outputs": [
    {
     "name": "stdout",
     "output_type": "stream",
     "text": [
      "Enter a filename:testfile.txt\n",
      "The file contains:\n",
      "       111  characters\n",
      "        22  words\n",
      "         4  lines\n"
     ]
    }
   ],
   "source": [
    "filename = input('Enter a filename:')\n",
    "num_of_lines = 0\n",
    "num_of_words = 0\n",
    "num_of_chars = 0\n",
    "with open(filename, 'r') as f:\n",
    "    for line in f:\n",
    "        words = line.split()\n",
    "        num_of_lines = num_of_lines + 1\n",
    "        num_of_words = num_of_words + len(words)\n",
    "        num_of_chars = num_of_chars + len(line)\n",
    "print('The file contains:')\n",
    "print(str(num_chars).rjust(10,' '),' characters')\n",
    "print(str(num_words).rjust(10,' '),' words')\n",
    "print(str(num_lines).rjust(10,' '),' lines')"
   ]
  },
  {
   "cell_type": "code",
   "execution_count": 100,
   "metadata": {},
   "outputs": [],
   "source": [
    "from sklearn.datasets import load_digits"
   ]
  },
  {
   "cell_type": "code",
   "execution_count": 101,
   "metadata": {},
   "outputs": [],
   "source": [
    "digit = load_digits()"
   ]
  },
  {
   "cell_type": "code",
   "execution_count": 102,
   "metadata": {},
   "outputs": [],
   "source": [
    "X = digit.data\n",
    "y = digit.target"
   ]
  },
  {
   "cell_type": "code",
   "execution_count": 103,
   "metadata": {},
   "outputs": [],
   "source": [
    "# splitting into training and test set\n",
    "from sklearn.model_selection import train_test_split\n",
    "X_train, X_test, y_train, y_test = train_test_split(X, y, test_size = 0.25, random_state = 0)"
   ]
  },
  {
   "cell_type": "code",
   "execution_count": 104,
   "metadata": {},
   "outputs": [],
   "source": [
    "# Building a SVC model.\n",
    "from sklearn.svm import SVC\n",
    "model = SVC()"
   ]
  },
  {
   "cell_type": "code",
   "execution_count": 105,
   "metadata": {},
   "outputs": [
    {
     "data": {
      "text/plain": [
       "GridSearchCV(cv=5, estimator=SVC(), n_jobs=-1,\n",
       "             param_grid={'C': [0.001, 0.01, 0.1, 1, 10, 100],\n",
       "                         'gamma': [0.001, 0.01, 0.1, 1, 10, 100],\n",
       "                         'kernel': ['linear', 'rbf']},\n",
       "             return_train_score=True)"
      ]
     },
     "execution_count": 105,
     "metadata": {},
     "output_type": "execute_result"
    }
   ],
   "source": [
    "from sklearn.model_selection import GridSearchCV\n",
    "param_grid = {'C': [0.001, .01, .1, 1, 10, 100], \n",
    "              'gamma': [0.001, .01, .1, 1, 10, 100],\n",
    "              'kernel': ['linear','rbf']} \n",
    "grid = GridSearchCV(SVC(), param_grid,refit = True,return_train_score=True,cv=5,n_jobs =-1)\n",
    "# fit the model for grid search\n",
    "grid.fit(X_train, y_train)"
   ]
  },
  {
   "cell_type": "code",
   "execution_count": 106,
   "metadata": {},
   "outputs": [
    {
     "name": "stdout",
     "output_type": "stream",
     "text": [
      "Test set score:  0.99\n",
      "Best Parameters:  {'C': 10, 'gamma': 0.001, 'kernel': 'rbf'}\n",
      "Best cross validation score:  0.99\n",
      "Best estimator:  SVC(C=10, gamma=0.001)\n"
     ]
    }
   ],
   "source": [
    "print('Test set score: ',round(grid.score(X_test,y_test),2))\n",
    "print('Best Parameters: ',grid.best_params_)\n",
    "print('Best cross validation score: ',round(grid.best_score_,2))\n",
    "print('Best estimator: ',grid.best_estimator_)"
   ]
  },
  {
   "cell_type": "code",
   "execution_count": null,
   "metadata": {},
   "outputs": [],
   "source": []
  }
 ],
 "metadata": {
  "kernelspec": {
   "display_name": "Python 3",
   "language": "python",
   "name": "python3"
  },
  "language_info": {
   "codemirror_mode": {
    "name": "ipython",
    "version": 3
   },
   "file_extension": ".py",
   "mimetype": "text/x-python",
   "name": "python",
   "nbconvert_exporter": "python",
   "pygments_lexer": "ipython3",
   "version": "3.8.5"
  }
 },
 "nbformat": 4,
 "nbformat_minor": 4
}
