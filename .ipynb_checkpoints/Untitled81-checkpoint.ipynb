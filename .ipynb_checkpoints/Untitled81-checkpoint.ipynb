{
 "cells": [
  {
   "cell_type": "code",
   "execution_count": 2,
   "metadata": {},
   "outputs": [
    {
     "name": "stdout",
     "output_type": "stream",
     "text": [
      "Please enter gender of the child m/f: m\n",
      "Please enter height of the mother (in inches): 60\n",
      "Please enter height of the father (in inches): 70\n",
      "\n",
      "Estimated adult height of the child in inches: 67.5\n",
      "Estimated adult height of the child in feet and inches: 5.0 feet 7.50 inches\n"
     ]
    }
   ],
   "source": [
    "# try except block to handle exception\n",
    "try:\n",
    "    # receive gender,height of mother and father\n",
    "    gender = input('Please enter gender of the child m/f: ')\n",
    "    Hmother = float(input('Please enter height of the mother (in inches): '))\n",
    "    Hfather = float(input('Please enter height of the father (in inches): '))\n",
    "    \n",
    "    # if gender is male,apply the corresponding formula for male\n",
    "    if gender in ('m','M'):\n",
    "        Hchild = ((Hmother * 13/12) + Hfather ) / 2\n",
    "    \n",
    "    # if gender is female,apply the corresponding formula for female\n",
    "    elif gender in ('f','F'):\n",
    "        Hchild = ((Hfather * 12/13) + Hmother ) / 2 \n",
    "    \n",
    "    # output the height of child in inches\n",
    "    # round(Hchild,3) : round the value to 3 decimal places.\n",
    "    print('\\nEstimated adult height of the child in inches:',round(Hchild,3))\n",
    "    \n",
    "    # output the height of child in feet and inches\n",
    "    # {:.2f} : to get the result up to 2 decimal places.\n",
    "    print(\"Estimated adult height of the child in feet and inches: {} feet {:.2f} inches\".format(Hchild//12,Hchild%12))\n",
    "except:\n",
    "    print('wrong inputs, Please try again.')"
   ]
  },
  {
   "cell_type": "code",
   "execution_count": null,
   "metadata": {},
   "outputs": [],
   "source": []
  }
 ],
 "metadata": {
  "kernelspec": {
   "display_name": "Python 3",
   "language": "python",
   "name": "python3"
  },
  "language_info": {
   "codemirror_mode": {
    "name": "ipython",
    "version": 3
   },
   "file_extension": ".py",
   "mimetype": "text/x-python",
   "name": "python",
   "nbconvert_exporter": "python",
   "pygments_lexer": "ipython3",
   "version": "3.8.5"
  }
 },
 "nbformat": 4,
 "nbformat_minor": 4
}
