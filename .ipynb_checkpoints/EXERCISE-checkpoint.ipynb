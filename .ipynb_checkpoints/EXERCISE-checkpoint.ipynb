{
 "cells": [
  {
   "cell_type": "markdown",
   "metadata": {},
   "source": [
    "# EXERCISE\n",
    "\n",
    "\n",
    "\n",
    "This EXERCISE requires you to implement logistic regression and apply it to two different datasets. The data sets are provided along with this notebook. The assignment consists of two parts (using two different data sets). The first part deals with non-regularized logistic regression while the second part considers regularized logistic regression.\n",
    "\n",
    "**Important Note**: Please take care to only fill in code between the two comments that I put in as follows:\n",
    "\n",
    "```\n",
    "#FILL IN BELOW\n",
    "\n",
    "#STOP FILLING IN HERE\n",
    "```\n",
    "\n"
   ]
  },
  {
   "cell_type": "markdown",
   "metadata": {},
   "source": [
    "### Some Initializing Code\n",
    "\n",
    "Run the code below to initialize the notebook."
   ]
  },
  {
   "cell_type": "code",
   "execution_count": null,
   "metadata": {},
   "outputs": [],
   "source": [
    "import numpy as np\n",
    "from IPython.display import display,HTML\n",
    "\n",
    "np.set_printoptions(suppress=True)\n",
    "\n",
    "from IPython.display import Markdown, display\n",
    "def printmd(string):\n",
    "    display(Markdown(string))"
   ]
  },
  {
   "cell_type": "markdown",
   "metadata": {},
   "source": [
    "# Part 1 - (Non-Regularized) Logistic Regression\n",
    "\n",
    "In this problem, you take the role of a data scientist hired by the mathematics teacher of a high school. The maths teacher wants to select students to participate in the national maths Olympiad. To screen the students, the teacher administers two internal maths tests, and has been using the results of the two tests to somehow determine which students might qualify for the national Olympiad (using gut-feel). Although there are exceptions, the teacher is convinced that there is a trend between the two scores that students get in their internal tests, and whether or not they successfully qualify for the national Olympiad in the national qualifying test. He has kept records of the scores of numerous students over the years, as well as whether or not they qualified for the national Olympiad.\n",
    "\n",
    "The administrator has hired you to build a model that can determine a student's chances of entry into the national tournament based on their two internal test scores. In this part of the assignment, your task is to build a classifier  to do exactly this."
   ]
  },
  {
   "cell_type": "markdown",
   "metadata": {},
   "source": [
    "## Reading, Readying, and Plotting the Data"
   ]
  },
  {
   "cell_type": "markdown",
   "metadata": {},
   "source": [
    "### Reading in the Data\n",
    "\n",
    "The first step is to load the data. The data for this part is provided in a ```csv``` file called ```data1.csv``` which contains three columns of data: the first and second columns represent the scores in the two internal tests of a specific student; the third column represents whether the student later qualified for the national Olympiad (```1```) or not (```0```). I've graciously put in the code to import ```numpy``` and to import the data as a ```numpy``` array into the variable ```data1```. I've also put in code that uses the ```pandas``` library to display the top 10 rows of the data (this comes very in handy when you want to get a preview of what the data looks like)."
   ]
  },
  {
   "cell_type": "code",
   "execution_count": null,
   "metadata": {
    "scrolled": true
   },
   "outputs": [],
   "source": [
    "### Importing some useful packages\n",
    "#This ensures that plots appear in the sheet and not in a new window\n",
    "# % matplotlib inline \n",
    "import numpy as np\n",
    "\n",
    "#Pandas is an alternative numerical processing library like numpy: they have differences\n",
    "#We will use Pandas only to provide a preview of the data once we've read it in\n",
    "import pandas as pd\n",
    "\n",
    "\n",
    "data = np.genfromtxt('data1.csv',delimiter=\",\")\n",
    "\n",
    "#Convert the numpy array to a pandas DataFrame\n",
    "#and display the first 10 rows as html\n",
    "display(pd.DataFrame(data).head(10))"
   ]
  },
  {
   "cell_type": "markdown",
   "metadata": {},
   "source": [
    "### Setting X, y, m and n\n",
    "\n",
    "You did this in the Linear Regression practical so I've just put it in (you're welcome). Carefully examine the code in, and then run, the cell below and let's move on.\n",
    "\n",
    "It sets ```X```, ```y```, ```m``` and ```n```. It also does something else: it creates a separate array for the scores of test 1 (```X1```), and a separate array for test 2 scores (```X2```). This will come in handy when we want to plot X1 scores versus X2 scores shortly. \n",
    "\n",
    "I've also put in some code that makes use of the ```Pandas``` library (a library that adds a lot of extra convenient functionality to ```numpy```) to just display pretty-looking previews of the respective matrices/vectors. Feel free to look up that library in your own time - it could come in handy."
   ]
  },
  {
   "cell_type": "code",
   "execution_count": null,
   "metadata": {
    "scrolled": true
   },
   "outputs": [],
   "source": [
    "#Set m and n\n",
    "m = data.shape[0]\n",
    "n = data.shape[1]-1 #The final column is not a feature; it's the target variable\n",
    "\n",
    "#Set X and y\n",
    "#I'm putting in reshapes on the single-column matrices to explicitly ensure that they\n",
    "#aren't rank 1 arrays i.e. their shapes aren't weird \"(m,)\" but rather \"(m,1)\" \n",
    "X = data[:,0:n]\n",
    "y = data[:,n].reshape(m,1)\n",
    "\n",
    "#Also set X1 and X2\n",
    "X1 = data[:,0].reshape(m,1)\n",
    "X2 = data[:,1].reshape(m,1)\n",
    "\n",
    "#Now display X and y to make sure they look\n",
    "#like they've been set correctly\n",
    "print(\"X:\")\n",
    "display(pd.DataFrame(X).head(10))\n",
    "\n",
    "print(\"\\ny:\")\n",
    "display(pd.DataFrame(y).head(10))\n",
    "\n",
    "print(\"\\nX1:\")\n",
    "display(pd.DataFrame(X1).head(10))\n",
    "\n",
    "print(\"\\nX2:\")\n",
    "display(pd.DataFrame(X2).head(10))"
   ]
  },
  {
   "cell_type": "markdown",
   "metadata": {},
   "source": [
    "### Visualizing the Data (If Possible)\n",
    "\n",
    "Once loaded, it is a good idea to try  and visualise the data. Generally in data science, visualising the data is recommended (where possible) in order to give you a sense of the underlying structure of the data and/or the kind of function that you may need to use as a decision boundary. However, **note** that for more than two features in a classification model, this is not possible, unless you plot them in pairs, or something like that...\n",
    "\n",
    "For a plot like this, the most straight-forward way to do this plot is to first separate examples in X according to whether they qualified or not, and then plot the two sets of samples on the same plot in different colours e.g. somehow get the samples of ```X``` that qualified into a new matrix e.g. ```Xpos```, and those that didn't qualify into a new matrix e.g. ```Xneg```. You can use boolean indexing to do this (see the Jupyter and ML Review Notebook I gave you). Then plot ```Xpos``` in a specific colour e.g. red, and ```Xneg``` in another colour e.g. blue, both on the same plot.\n",
    "\n",
    "SO, first start by filling in the function below which should index into ```X``` to filter out positive and negative examples based on their corresponding ```y``` labels and return them into the relevant array variables.\n",
    "\n",
    "**NOTE:** You should _absolutely_ avoid looping through ```X``` using a loop of any sort. Rather, use numpy array boolean indexing to filter out ```X```.\n",
    "\n"
   ]
  },
  {
   "cell_type": "code",
   "execution_count": null,
   "metadata": {},
   "outputs": [],
   "source": [
    "def getPosNegExamples(X,y):\n",
    "    Xpos = 0\n",
    "    Xneg = 0\n",
    "    \n",
    "    #FILL IN BELOW: Code to set Xpos and Xneg correctly\n",
    "\n",
    "    #STOP FILLING IN HERE\n",
    "    \n",
    "    return Xpos,Xneg\n",
    "\n",
    "#Don't modify the code below!\n",
    "#What it does: separate X1 values (scores of first test) into positive and negative cases\n",
    "#Do the same for X2 values (scores of second test)\n",
    "X1pos,X1neg = getPosNegExamples(X1,y)\n",
    "X2pos,X2neg = getPosNegExamples(X2,y)\n",
    "\n",
    "print(\"X1pos:\")\n",
    "display(pd.DataFrame(X1pos))\n",
    "\n",
    "print(\"X2pos:\")\n",
    "display(pd.DataFrame(X2pos))"
   ]
  },
  {
   "attachments": {
    "Plot1.png": {
     "image/png": "[encoded data removed]"
    }
   },
   "cell_type": "markdown",
   "metadata": {},
   "source": [
    "Next, use the four vectors ```X1pos```, ```X1neg```, ```X2pos``` and ```X2neg``` to plot a scatter plot of Score 1 versus Score 2 below. You can do this by first plotting ```X1pos``` and ```X2pos``` points in a specific colour (and possibly shape), and then plotting ```X1neg``` and ```X2neg``` points in a different colour (and possibly shape). Use ```matplotlib```'s ```pyplot``` library to do it - I've already imported it in the code snippet below. I've also already created a ```plt.figure``` in the code snippet in which your plot points will go. Search engines are your friend, although some of them spy on you and use your activity to profile you (so are those ones really friends? I digress...)\n",
    "\n",
    "Please also note that the function takes in, as parameters:\n",
    "\n",
    "- The names of the two axes (```xaxislabel``` and ```yaxislabel```) which should be placed next to the respective axes. Pass these to the relevant matplotlib function to set the axis names.\n",
    "- \n",
    "- The names of the two classes that we are trying to separate (```y1label``` which is \"Admitted\" in this case, and ```y0label``` which is \"Not admitted\" in this case). Pass these to the relevant matplotlib function to create a legend for the data points, as seen in the bottom-left of the example graph in the image.\n",
    "\n",
    "Finally, **VERY IMPORTANT**: DON'T include the line ```plt.show()``` in your function. The plot will still display just fine.\n",
    "\n",
    "\n",
    "\n",
    "If you did it correctly, you should see a plot that is somewhat similar to the Figure below:\n",
    "\n",
    "![Plot1.png](attachment:Plot1.png)"
   ]
  },
  {
   "cell_type": "code",
   "execution_count": null,
   "metadata": {},
   "outputs": [],
   "source": [
    "#Use matplotlib.pyplot - don't change lines below\n",
    "import matplotlib\n",
    "import matplotlib.pyplot as plt\n",
    "\n",
    "\n",
    "def plotData(X1pos,X2pos,X1neg,X2neg,xaxislabel,yaxislabel,y1label,y0label,newfig=True):\n",
    "\n",
    "    #Don't change any of this:\n",
    "    #If a new figure is required:\n",
    "    if newfig:    \n",
    "        font = {'family' : 'Arial',\n",
    "            'size'   : 22}\n",
    "\n",
    "        matplotlib.rc('font', **font)\n",
    "        fig = plt.figure(figsize=(12,10))\n",
    "    \n",
    "    \n",
    "    #FILL IN BELOW: Fill in below your code to plot\n",
    "    \n",
    "    \n",
    "    #STOP FILLING IN HERE\n",
    "    \n",
    "    return\n",
    "    \n",
    "\n",
    "#Dont' modify the line below in any way\n",
    "plotData(X1pos,X2pos,X1neg,X2neg,'$X_1$ (Score 1) (%)','$X_2$ (Score 2) (%)',\"Admitted\",\"Not admitted\")"
   ]
  },
  {
   "cell_type": "markdown",
   "metadata": {},
   "source": [
    "As discussed during lectures, the key premise of logistic regression is the assumption that the feature space can be separated into two separable regions by a decision boundary of some shape. Looking at the plot given above, we can clearly see that this is true for the data you've been given. Hopefully you can see that we can either use a straight line to separate the two classes, or a curved line (if we want to get fancy).\n",
    "\n",
    "In the next couple of steps, we're going to implement the sigmoid function, followed by the logistic regression cost function, and finally gradient descent. "
   ]
  },
  {
   "cell_type": "markdown",
   "metadata": {},
   "source": [
    "## Part 1A - Solving For $\\Theta$ Manually (Coding It From Scratch)\n",
    "\n",
    "In this part, you'll be coding the sigmoid function, the cost function and gradient descent, towards obtaining the best $\\Theta$ parameters that separate the above data.\n",
    "\n",
    "You'll also be able to compare learning rates to determine the best one"
   ]
  },
  {
   "cell_type": "markdown",
   "metadata": {},
   "source": [
    "### Implementing the Sigmoid Function\n",
    "Remember that the hypothesis of logistic regression is given by:\n",
    "\n",
    "<center>$\\large h_\\theta(x) = g(\\theta^T x)$</center>\n",
    "\n",
    "The sigmoid function (g) is given by:\n",
    "<center>$\\large g(z)= \\dfrac{1}{1 + e^{-z}} $</center>\n",
    "\n",
    "Recall that: this function (sigmoid($z$)) maps any real number (say $z$) to the $(0,1)$ interval; sigmoid(0) is exactly 0.5 i.e. the sigmoid curve cuts the y-axis at 0.5; for large negative values of $z$, the sigmoid should be very close to 0; and for large positive values of $z$, the sigmoid curve should be close to 1.\n",
    "\n",
    "**Ensure that your code can also work with matrices and vectors, in which case the sigmoid function works for every element in the matrix or vector.** Hint: If you take care to use numpy functions inside the ```sigmoid(z)``` function below, then your function will definitely work for arrays and matrices automatically. DON'T use any loops in the function. Complete the function definition below:\n",
    "\n",
    "\n"
   ]
  },
  {
   "cell_type": "code",
   "execution_count": null,
   "metadata": {},
   "outputs": [],
   "source": [
    "def sigmoid(z):\n",
    "    \n",
    "    g=0\n",
    "    \n",
    "    #FILL IN BELOW: Start filling in your code below: set g correctly\n",
    "   \n",
    "    #STOP FILLING IN HERE\n",
    "\n",
    "    \n",
    "    return g"
   ]
  },
  {
   "cell_type": "code",
   "execution_count": null,
   "metadata": {
    "scrolled": true
   },
   "outputs": [],
   "source": [
    "#This cell is for YOU to try out your sigmoid function to make sure it works correctly:\n",
    "#Modify if you wish\n",
    "\n",
    "print(sigmoid(0)) #Should be 0.5\n",
    "print(sigmoid(100)) #Should be close to 1\n",
    "print(sigmoid(-100)) #Should be close to 0\n",
    "\n",
    "zarr = np.array([\n",
    "    [-100],\n",
    "    [0],\n",
    "    [100]\n",
    "])\n",
    "\n",
    "print(sigmoid(zarr)) #Should print an np.array with three values: [~0, 0.5, ~1]"
   ]
  },
  {
   "cell_type": "markdown",
   "metadata": {},
   "source": [
    "### Feature Scaling and Adding Feature $\\large x_0$\n",
    "\n",
    "Now let's first scale the features in ```X```. If we decide to use gradient descent to get our optimal $\\Theta$ parameters, feature scaling becomes just as important as it was in linear regression with gradient descent. In the previous practical, you implemented (or at least we hope you did) feature scaling. Here, we're rather going to use ```sklearn.preprocessing```'s ```StandardScaler``` library to do it for us (refer to the slides if you need to, or use a non-nefarious search engine to help you). \n",
    "\n",
    "Below, complete the function ```getScaled``` with code that makes a call to the StandardScaler to scale ```X```. Remember that ```X``` still doesn't include the column of 1s of feature $x_0$: this is because we don't scale $x_0$. Fill in the following code in the function below:\n",
    "\n",
    "```python\n",
    "scaler = StandardScaler().fit(X)\n",
    "X_scaled = scaler.transform(X)\n",
    "```\n",
    "\n",
    "The code sets ```X_scaled``` and ```scaler``` correctly and both of these are returned with the function. The reason we return the ```scaler``` is: once we've (later on) got the ideal $\\Theta$ parameters for the scaled data, we will be able to use the scaler (that is fitted here to ```X```) to transform those $\\Theta$ parameters back into the same space as the original data; we will do this so that we can draw the decision boundary that the $\\Theta$ parameters represent on the graph that was drawn earlier."
   ]
  },
  {
   "cell_type": "code",
   "execution_count": null,
   "metadata": {},
   "outputs": [],
   "source": [
    "from sklearn.preprocessing import StandardScaler\n",
    "\n",
    "def getScaledX(X):\n",
    "    X_scaled = np.zeros(X.shape)\n",
    "    scaler = None\n",
    "    \n",
    "    #FILL IN BELOW:\n",
    "    \n",
    "    #STOP FILLING IN HERE\n",
    "    \n",
    "    return X_scaled,scaler\n",
    "\n",
    "\n",
    "X_scaled,scalerpt1 = getScaledX(X)"
   ]
  },
  {
   "cell_type": "markdown",
   "metadata": {},
   "source": [
    "And now that we've got a scaled version of ```X```, I'm going to add a columns of 1s to it that represent feature $x_0$:"
   ]
  },
  {
   "cell_type": "code",
   "execution_count": null,
   "metadata": {},
   "outputs": [],
   "source": [
    "#Don't change in any way\n",
    "X_mod = np.hstack([np.ones((m,1)),X_scaled]) #Add a column of 1s to X which will serve as the so-called x_0 feature: store the result in X_mod which we'll be using from now on\n",
    "\n",
    "#Preview contents of X_mod with Pandas\n",
    "pd.DataFrame(X_mod).head(10)"
   ]
  },
  {
   "cell_type": "markdown",
   "metadata": {},
   "source": [
    "### Cost Function\n",
    "\n",
    "Recall that the cost function of logistic regression is different from that of linear regression. The cost function for logistic regression is defined as:\n",
    "\n",
    "$$\n",
    "\\large J(\\theta) = âˆ’\\frac{1}{m}\\sum \\limits _{i=1}^m [y^{(i)} log(h_\\theta (x^{(i)} )) + (1 âˆ’ y^{(i)} ) log(1 âˆ’ h_\\theta (x^{(i)} ))]\n",
    "$$\n",
    "\n",
    "<u>**In vectorized form**</u>, this is given by:\n",
    "$$\n",
    "\\large \n",
    "J(\\Theta) = âˆ’\\frac{1}{m}\\Big( y^T \\cdot \\ln(g(X\\Theta)) + (1 - y^T) \\cdot \\ln(1-g(X\\Theta)) \\Big)\\\\\n",
    "$$\n",
    "\n",
    "Feel free to confirm for yourself that the vectorized expression has exactly the same result and outcome as the iterative one. Also, for computational purposes and to keep your code neat, it may be a really good thing to compute $g(X\\Theta)$ once and then plug it into the expression above inside the $\\ln()$ functions, but it's not the end of the world if you don't (you decide).\n",
    "\n",
    "Below, go ahead and complete the function definition given to you so that the function computes the cost using the **vectorized** equation above, and returns the cost as a single value (NOT an array).\n",
    "\n"
   ]
  },
  {
   "cell_type": "code",
   "execution_count": null,
   "metadata": {},
   "outputs": [],
   "source": [
    "def costJ(thetas, X, y):\n",
    "    J = 0\n",
    "    m = X.shape[0] #You may need this\n",
    "\n",
    "    #FILL IN BELOW: Start filling in your code below: set J correctly (comopute the cost)\n",
    "\n",
    "    #STOP FILLING IN HERE\n",
    "\n",
    "    return J #A single value - NOT a matrix/vector/list"
   ]
  },
  {
   "cell_type": "markdown",
   "metadata": {},
   "source": [
    "Use the snippet below to confirm for yourself that you function works. Note that:\n",
    "- for $\\theta = [0,0,0]$, the cost should be about 0.693\n",
    "- for $\\theta = [5,5,5]$, the cost should be about 0.395\n",
    "- for $\\theta = [-5,-5,-5]$, the cost should be about 6.717"
   ]
  },
  {
   "cell_type": "code",
   "execution_count": null,
   "metadata": {},
   "outputs": [],
   "source": [
    "initthetas = np.array([[0],[0],[0]])\n",
    "print(\"For theta = \" + str(initthetas.ravel()), \", your cost function returns \" + str(costJ(initthetas, X_mod, y)))"
   ]
  },
  {
   "cell_type": "markdown",
   "metadata": {},
   "source": [
    "### Gradient Descent\n",
    "\n",
    "Now that we have the cost function, we can use it to carry out gradient descent. Recall that gradient descent involves continuously making updates to every $\\theta_j$; we do this by subtracting the slope/gradient of the cost function $J(\\theta)$ with respect to each $\\theta_j$ from $\\theta_j$; this is given by:\n",
    "\n",
    "$$\n",
    "\\large\n",
    "\\theta_j \\leftarrow \\theta_j - \\alpha\\frac{\\partial J(\\theta)}{\\partial \\theta_j}\n",
    "$$\n",
    "\n",
    "where $j$ is $\\{0,\\ldots,n\\}$, and $\\frac{\\partial J(\\theta)}{\\partial \\theta_j}$ are the slope/gradients of $J(\\theta)$ with respect to each $\\theta_j$. \n",
    "\n",
    "We saw in the lectures that when we substitute for $J(\\theta)$ for logistic regression and differentiate the gradients $\\frac{\\partial J(\\theta)}{\\partial \\theta_j}$, we get the following:\n",
    "\n",
    "$$\n",
    "\\large\n",
    "\\theta_j \\leftarrow \\theta_j - \\frac{\\alpha}{m} \\sum \\limits _{i=1}^m(g(\\theta^Tx^{(i)})- y^{(i)} ) x^{(i)}_j\\\\\n",
    "$$\n",
    "\n",
    "<u>**In vectorized form**</u>, the same expression for gradient descent for logistic regression can be written as:\n",
    "\n",
    "$$\n",
    "\\large \n",
    "\\Theta \\leftarrow \\Theta - \\frac{\\alpha}{m} \\Big[X^T \\big(g(X\\Theta)-y\\big)\\Big]\n",
    "$$\n",
    "\n",
    "where $y$ here is a vector of all the $y$-values. Therefore, below, go ahead and complete the function given to use this vectorized expression to carry out gradient descent for logistic regression. Note that, in the function below, I've included code that stores the cost at each iteration of gradient descent (the same way as I did in the linear regression assignment). Later, we can use these costs to determine a good learning rate.\n",
    "\n"
   ]
  },
  {
   "cell_type": "code",
   "execution_count": null,
   "metadata": {},
   "outputs": [],
   "source": [
    "def gradientDescent(X, y, thetas, alpha, max_iterations):\n",
    "    J_hist = []\n",
    "    J_hist.append(costJ(thetas, X, y))\n",
    "\n",
    "    for ite in range(max_iterations):\n",
    "\n",
    "        #FILL IN BELOW: but there shouldn't be a loop in here\n",
    "\n",
    "        #STOP FILLING IN HERE: Don't modify the code below this point\n",
    "\n",
    "        J_hist.append(costJ(thetas, X, y))\n",
    "\n",
    "    return thetas, J_hist"
   ]
  },
  {
   "cell_type": "markdown",
   "metadata": {},
   "source": [
    "Ok, now the box below makes a call to the gradient descent function. Note that, to check if your code appears to be working correctly, gradient descent should give the following values:\n",
    "\n",
    "- Using Initial $\\Theta = [0,0,0]$, $\\alpha = 0.01$, 400 iterations: Optimal $\\Theta \\approx [0.26567183, 0.74789721, 0.66872387]$\n",
    "- Using Initial $\\Theta = [5,5,5]$, $\\alpha = 0.05$, 600 iterations: Optimal $\\Theta \\approx [3.05808214, 5.46995321, 5.34720433]$\n",
    "- Using Initial $\\Theta = [-5,-5,-5]$, $\\alpha = 0.1$, 800 iterations: Optimal $\\Theta \\approx [1.12296422, 2.73933418, 2.51534046]$\n"
   ]
  },
  {
   "cell_type": "code",
   "execution_count": null,
   "metadata": {},
   "outputs": [],
   "source": [
    "#This snippet is for YOU: modify as you wish\n",
    "#Use this snippet to check if gradient descent works correctly\n",
    "initthetas = np.array([[0],[0],[0]])\n",
    "optthetas, costs = gradientDescent(X_mod,y,initthetas,0.01,400)\n",
    "print(\"Optimal thetas:\")\n",
    "print(optthetas)"
   ]
  },
  {
   "cell_type": "markdown",
   "metadata": {},
   "source": [
    "### Comparing Learning Rates\n",
    "\n",
    "Below, I've graciously put in code that plots the cost versus the iteration number of gradient descent for a series of different learning rates. Look at the graphs, feel free to make changes to the learning rates in the ```alphatotry``` list and compare different learning rates. Use it to determine the best $\\alpha$ to use with this data set. This is for marks.\n",
    "\n",
    "Don't change anything except the numbers in the list ``alphatotry`` in this code snippet (unless you really want to). Note that you can have up to seven learning rates in the ``alphatotry`` list, which the plot will automatically draw and you can then compare. You can, however, have fewer than seven items in the list too. Use the plot to determine the best learning rate to use. You will then set the value that you determine in a cell further down below.\n",
    "\n"
   ]
  },
  {
   "cell_type": "code",
   "execution_count": null,
   "metadata": {},
   "outputs": [],
   "source": [
    "#Don't change anything except variable ``alphatotry`` in this code snippet (unless you really want to). Note that\n",
    "#you can have up to seven learning rates in the ``alphatotry`` list, which the plot will automatically draw\n",
    "#and you can then compare. You can, however, have fewer than seven items in the list too.\n",
    "#But do look through it to see what it's doing.\n",
    "\n",
    "alphatotry = [0.03, 0.1, 0.3]\n",
    "\n",
    "#Don't edit anything below this point (unless you insist on doing so)\n",
    "\n",
    "import numpy as np\n",
    "import matplotlib\n",
    "from pylab import *\n",
    "\n",
    "def plotLearningRates(X,y,alphas):\n",
    "    \n",
    "    plotcol = ['r','g','b','y','c','m','k']\n",
    "\n",
    "    retJhistforalphas = []\n",
    "    for alphait in alphas:\n",
    "        initthetas_ = np.array([[0],[0],[0]])\n",
    "        _, retJ_hist = gradientDescent(X, y, initthetas_ , alphait, 100)\n",
    "        retJhistforalphas.append(retJ_hist)\n",
    "\n",
    "    xplot = np.linspace(1,len(retJhistforalphas[0]),int(len(retJhistforalphas[0])))\n",
    "\n",
    "    figure(figsize=(12,10))\n",
    "\n",
    "    for it, retJhistit in enumerate(retJhistforalphas):\n",
    "        plot(xplot, np.array(retJhistit), c=plotcol[it], marker='x',label=str(alphas[it]))\n",
    "\n",
    "    xlabel('Iteration No.')\n",
    "    ylabel('Cost $ J$')\n",
    "    legend(loc=1)\n",
    "    show()\n",
    "    \n",
    "plotLearningRates(X_mod, y, alphatotry)"
   ]
  },
  {
   "cell_type": "markdown",
   "metadata": {},
   "source": [
    "Hopefully you've now determined a good $\\alpha$ to use. Set it's value in the code snippet below. It will be used in cells further down."
   ]
  },
  {
   "cell_type": "code",
   "execution_count": null,
   "metadata": {},
   "outputs": [],
   "source": [
    "def getBestAlpha():\n",
    "        \n",
    "        #FILL IN BELOW: hardcode the best value for variable \"bestalpha\" below.\n",
    "        \n",
    "        bestalpha = 0.001 #Set this\n",
    "        \n",
    "        #STOP FILLING IN HERE: Don't modify the code below this point\n",
    "        \n",
    "        return bestalpha\n",
    "    \n",
    "bestalpha = getBestAlpha() #Don't change this line in anyway"
   ]
  },
  {
   "cell_type": "markdown",
   "metadata": {},
   "source": [
    "### Plotting the Decision Boundary\n",
    "\n",
    "By default the snippet below assumes the initial $\\Theta$ to be $[0,0,0]$. A function call is then made to ```gradientDescent``` with your $\\alpha$ to obtain the optimal $\\Theta$ of the decision boundary. These are then used to plot the decision boundary. Look through the code to understand what it does and how it plots the boundary. I took special care to plot the boundary back into the original data space (not the scaled one) that we had, for your understanding.\n",
    "\n",
    "Also, feel free to play around with ```initthetas``` and ```max_iterations``` to see how the decision boundary is affected."
   ]
  },
  {
   "cell_type": "code",
   "execution_count": null,
   "metadata": {
    "scrolled": false
   },
   "outputs": [],
   "source": [
    "\n",
    "initthetas = np.array([[0],[0],[0]]) #Change this up if you like\n",
    "max_iterations = 100 #This too\n",
    "\n",
    "#Don't change anything below unless you really want to\n",
    "\n",
    "optthetas, costs = gradientDescent(X_mod,y,initthetas,bestalpha,max_iterations)\n",
    "\n",
    "#Not required to change the below; change only if you wish.\n",
    "#Definitely take a look to see how it weks.\n",
    "\n",
    "#Since our thetas obtained are in the scaled space, first work in the scaled space\n",
    "#We need two points pt1 and pt2 both of the form  (X1,X2) to map out the boundary\n",
    "\n",
    "#Get the min and max X1 values in the scaled space\n",
    "X1minmax = np.array([[X_mod[:,1].min()],[X_mod[:,1].max()]])\n",
    "\n",
    "#Now compute the corresponding X2 values in the scaled space\n",
    "#using the thetas that we determined\n",
    "#The equation below is X2 = (-theta0 - theta1 * X1)/theta2 which\n",
    "#is a rearrangement from the original equation of the decision boundary\n",
    "#given by: theta2*X2 + theta1*X1 + theta0 = 0\n",
    "#Compute the corresponding X2 value for the min and max X1 values:\n",
    "X2equiv = -(optthetas[0] +optthetas[1]*X1minmax)/optthetas[2]\n",
    "\n",
    "#Now build up a matrix [X1vals, X2vals] by stacking the [X1,X2] vals\n",
    "#found above\n",
    "linepts_scaled = np.hstack((X1minmax,X2equiv))\n",
    "\n",
    "#Now, CRUCIAL: use the scaler we used to scale X originally\n",
    "#to INVERSE_TRANSFORM these points back to the original space\n",
    "linepts_orig = scalerpt1.inverse_transform(linepts_scaled)\n",
    "\n",
    "#Ok now plot the original data points\n",
    "plotData(X1pos,X2pos,X1neg,X2neg,'$X_1$ (Score 1) (%)','$X_2$ (Score 2) (%)',\"Admitted\",\"Not admitted\")\n",
    "#Finally, now just plot the two points to make a line\n",
    "plt.plot(linepts_orig[:,0],linepts_orig[:,1],c='m',linestyle='dashed',lw=5)\n",
    "\n",
    "#Just ensure that the y-scale of the plot doesn't change much from what it had\n",
    "#with the original data\n",
    "plt.ylim(X[:,1].min()-5,X[:,1].max()+5)"
   ]
  },
  {
   "cell_type": "markdown",
   "metadata": {},
   "source": [
    "### Making Predictions\n",
    "\n",
    "Now that we have the optimal $\\Theta$ parameters (hopefully), we can make predictions. In this part, we don't have a test set to test (make predictions) on, so we'll just use the train set to do that.\n",
    "\n",
    "For now, though, fill out the function below which takes in a matrix ```X``` that is assumed to be correctly scaled (into the same space as the training data was) and is assumed to **include** the column of ones (feature $x_0$) and computes the logistic regression hypothesis value (which is the prediction) according to the following vectorized expression:\n",
    "\n",
    "$$\n",
    "\\large\n",
    "h_\\theta(X) = g(X\\theta)\n",
    "$$\n",
    "\n",
    "where $g(z)$ here is the sigmoid function applied to an input $z$. It should then also apply a threshold to the $h_\\theta(X)$ values to place them either into class $y_\\text{pred}=0$ or $y_\\text{pred}=1$ as follows:\n",
    "\n",
    "$$\\large\n",
    "y_\\text{pred} = \n",
    "\\begin{cases}\n",
    "1\\>\\>\\>\\text{if}\\>\\>\\>h_\\theta(X)\\geq0.5\\\\\n",
    "0\\>\\>\\>\\text{if}\\>\\>\\>h_\\theta(X)<0.5\n",
    "\\end{cases}\n",
    "$$\n",
    "\n"
   ]
  },
  {
   "cell_type": "code",
   "execution_count": null,
   "metadata": {},
   "outputs": [],
   "source": [
    "def predict(X, thetas):\n",
    "    \n",
    "    hx = np.zeros((X.shape[0],1))\n",
    "    \n",
    "    #FILL IN BELOW: Code to compute the hypothesis (predictions) on X using thetas; store into \"hx\"\n",
    "    \n",
    "    \n",
    "    #STOP FILLING IN HERE\n",
    "    \n",
    "    \n",
    "    \n",
    "    ypred = np.zeros_like(hx)\n",
    "    \n",
    "    #FILL IN BELOW: Carry out a filter on hx; set the value of elements in \"ypred\" to 0 if hx<0.5 or 1 if hx>=0.5\n",
    "\n",
    "    \n",
    "    #STOP FILLING IN HERE\n",
    "    \n",
    "    return ypred\n",
    "    \n",
    "    \n",
    "#Let's just call gradient descent again to get some ideal theta params\n",
    "initthetas = np.array([[0],[0],[0]])\n",
    "goodalpha = 0.01\n",
    "max_iterations=1000\n",
    "optthetas, costs = gradientDescent(X_mod,y,initthetas,goodalpha,max_iterations)\n",
    "\n",
    "#Ok now pass in the training set and the optthetas\n",
    "ypred = predict(X_mod, optthetas)\n",
    "print(ypred.squeeze()) #Squeeze just removes one dimension so that when we print it, it appears on one line (for good viewing)\n"
   ]
  },
  {
   "cell_type": "markdown",
   "metadata": {},
   "source": [
    "Above: if you did it right, you should expect to get an array like (good luck comparing them with your eyes, or maybe you can think of a smarter way...):\n",
    "\n",
    "```[0 0 0 1 1 0 1 0 1 1 1 0 1 1 0 1 0 0 1 1 0 1 0 0 1 1 1 1 0 0 1 1 0 0 0 0 1\n",
    " 1 0 0 1 0 1 0 0 0 1 1 1 1 1 1 1 0 0 0 1 1 1 1 1 0 0 0 0 0 1 0 1 1 0 1 1 1\n",
    " 1 1 1 1 0 1 1 1 1 0 1 1 0 1 1 0 1 1 0 1 1 1 1 1 0 1]```"
   ]
  },
  {
   "cell_type": "markdown",
   "metadata": {},
   "source": [
    "### Computing Classification Metrics\n",
    "\n",
    "To compute performance metrics for the model, you hopefully now know that (for classification) you will need to draw up a confusion matrix. For a binary problem (such as this one), the confusion matrix has only four entries: True Positives (TP), False Positives (FP), True Negatives (TN) and False Negatives (FN). Complete the function below that takes in the actual ```y``` matrix, our predicted ```ypred``` values, and returns these four entries. Avoid looping through the matrices: try to use numpy indexing and filtering to do it; or chicken-out and use loops; your choice.\n",
    "\n",
    "If you do it correctly, you should get ```(55, 5, 35, 5)``` which correspond, respectively, to the ```(TP,FP,TN,FN)```.\n",
    "\n"
   ]
  },
  {
   "cell_type": "code",
   "execution_count": null,
   "metadata": {},
   "outputs": [],
   "source": [
    "def getConfMatrixEntries(yactual, ypred):\n",
    "    TP = 0\n",
    "    FP = 0\n",
    "    TN = 0\n",
    "    FN = 0\n",
    "    \n",
    "    #FILL IN BELOW: Set the above variables correctly\n",
    "    \n",
    "    #STOP FILLING IN HERE\n",
    "    \n",
    "    return TP,FP,TN,FN\n",
    "\n",
    "TP,FP,TN,FN = getConfMatrixEntries(y,ypred)\n",
    "print((TP,FP,TN,FN))\n"
   ]
  },
  {
   "cell_type": "markdown",
   "metadata": {},
   "source": [
    "Ok, now we can compute a whole bunch of metrics.\n",
    "\n",
    "$$\n",
    "\\text{Accuracy} = \\frac{\\text{TP+TN}}{\\text{TP+TN+FP+FN}}\\times100\n",
    "$$\n",
    "\n",
    "$$\n",
    "\\text{Recall} = \\frac{\\text{TP}}{\\text{TP+FN}}\\times100\n",
    "$$\n",
    "\n",
    "$$\n",
    "\\text{Precision} = \\frac{\\text{TP}}{\\text{TP+FP}}\\times100\n",
    "$$\n",
    "\n",
    "$$\n",
    "\\text{F1 Score} = \\frac{2\\times\\text{Recall}\\times\\text{Precision}}{\\text{Recall}+ \\text{Precision}}\\times100\n",
    "$$\n",
    "\n",
    "Below fill out the function that returns all four metric values. If you do it correctly, you should expect to see values of ```(90.0, 91.66666666666666, 91.66666666666666, 91.66666666666666)``` corresponding to ```(acc,recall,prec,f1)``` below.\n",
    "\n"
   ]
  },
  {
   "cell_type": "code",
   "execution_count": null,
   "metadata": {},
   "outputs": [],
   "source": [
    "def getMetrics(TP,FP,TN,FN):\n",
    "    \n",
    "    #You will need to set all of the below variables correctly in the designated area below in this function\n",
    "    acc = 0\n",
    "    recall = 0\n",
    "    prec = 0\n",
    "    f1 = 0\n",
    "    \n",
    "    #FILL IN BELOW: Set the above variables correctly\n",
    "    \n",
    "    \n",
    "    #STOP FILLING IN HERE\n",
    "    \n",
    "    return acc,recall,prec,f1\n",
    "\n",
    "acc,recall,prec,f1 = getMetrics(TP,FP,TN,FN)\n",
    "print((acc,recall,prec,f1))"
   ]
  },
  {
   "cell_type": "markdown",
   "metadata": {},
   "source": [
    "## Part 1B - Using ```sklearn``` to Do Most of the Same Things\n",
    "\n",
    "Now, you'll make function calls to ```sklearn``` to do most of the above. \n",
    "\n",
    "First, we need to \"fit\" the model, which is the same as solving for the best-fit $\\Theta$:"
   ]
  },
  {
   "cell_type": "code",
   "execution_count": null,
   "metadata": {
    "scrolled": true
   },
   "outputs": [],
   "source": [
    "from sklearn.linear_model import LogisticRegression\n",
    "\n",
    "clf = LogisticRegression(fit_intercept=True, solver=\"liblinear\")\n",
    "\n",
    "#I'm \"squeezing\" y because sklearn expects y to be a rank 1 array... \n",
    "res = clf.fit(X, y.squeeze())\n",
    "\n",
    "#Normally, we won't need the thetas when using sklearn, but if you do, here they are:\n",
    "skloptthetas = [res.intercept_[0],res.coef_[0,0],res.coef_[0,1]]\n",
    "\n",
    "print(\"Thetas are: \" + str(skloptthetas))\n",
    "print(\"Probably the only reason we'd need these now is to plot the decision boundary...\")"
   ]
  },
  {
   "attachments": {
    "Plot2.png": {
     "image/png": "[encoded data removed]"
    }
   },
   "cell_type": "markdown",
   "metadata": {},
   "source": [
    "Now **YOU** can use the thetas obtained from sklearn to plot the decision boundary. You could, if you wanted to, make use of the function ```plotData``` that you completed earlier to plot the original points; if you do this, you will just need to add a few more lines to then also draw on the decision boundary line on the same graph. Anyway, it's up to you. Your plot should end up looking something like the image below:\n",
    "\n",
    "\n",
    "\n",
    "![Plot2.png](attachment:Plot2.png)"
   ]
  },
  {
   "cell_type": "code",
   "execution_count": null,
   "metadata": {},
   "outputs": [],
   "source": [
    "#FILL IN: Plotting code\n"
   ]
  },
  {
   "cell_type": "markdown",
   "metadata": {},
   "source": [
    "Now, use the trained model (```clf```) to predict on/classify the training examples (as we did manually before). Fill in the function to use ```clf``` to carry out a prediction on ```X```. You should expect something like:\n",
    "\n",
    "```\n",
    "[0. 0. 0. 1. 1. 0. 1. 1. 1. 1. 1. 0. 1. 1. 0. 1. 1. 1. 1. 1. 1. 1. 0. 0.\n",
    " 1. 1. 1. 1. 1. 0. 1. 1. 1. 1. 0. 0. 1. 1. 1. 0. 1. 0. 1. 1. 0. 1. 1. 1.\n",
    " 1. 1. 1. 1. 1. 0. 0. 0. 1. 1. 1. 1. 1. 0. 0. 0. 0. 0. 1. 0. 1. 1. 0. 1.\n",
    " 1. 1. 1. 1. 1. 1. 0. 1. 1. 1. 1. 1. 1. 1. 1. 1. 1. 0. 1. 1. 0. 1. 1. 1.\n",
    " 1. 1. 1. 1.]```\n",
    "\n"
   ]
  },
  {
   "cell_type": "code",
   "execution_count": null,
   "metadata": {},
   "outputs": [],
   "source": [
    "def predictSKL(clf, X):\n",
    "\n",
    "    ypred = 0\n",
    "\n",
    "    #FILL IN BELOW: Set ypred correctly\n",
    "\n",
    "    #STOP FILLING IN HERE\n",
    "    \n",
    "    return ypred\n",
    "    \n",
    "ypred = predictSKL(clf, X)\n",
    "print(ypred)"
   ]
  },
  {
   "cell_type": "markdown",
   "metadata": {},
   "source": [
    "Now we'll get the confusion matrix from the ```sklearn.metrics``` library's ```confusion_matrix``` function:"
   ]
  },
  {
   "cell_type": "code",
   "execution_count": null,
   "metadata": {},
   "outputs": [],
   "source": [
    "import sklearn.metrics as sklm\n",
    "\n",
    "sklm.confusion_matrix(y_true=y,y_pred=ypred)"
   ]
  },
  {
   "cell_type": "markdown",
   "metadata": {},
   "source": [
    "If you're wondering which are the FPs and FNs in the confusion matrix above, consult with the relevant sklearn documentation.\n",
    "\n",
    "Now fill in the ```getMetricsSKL``` function below; use only functions in ```sklearn```'s ```metrics``` library to seamlessly compute all the metrics and store them in the indicated variables. If you did it correctly, the snippet below should display:\n",
    "\n",
    "```\n",
    "Accuracy is 87.0\n",
    "Recall is 100.0\n",
    "Precision is 82.1917808219178\n",
    "F1 Score is 90.22556390977444\n",
    "```\n",
    "\n"
   ]
  },
  {
   "cell_type": "code",
   "execution_count": null,
   "metadata": {},
   "outputs": [],
   "source": [
    "#This was imported before, but just to be safe\n",
    "import sklearn.metrics as sklm\n",
    "\n",
    "\n",
    "def getMetricsSKL(ytrue,ypred):\n",
    "    acc = 0\n",
    "    rec = 0\n",
    "    prec = 0\n",
    "    f1 = 0\n",
    "    \n",
    "    #FILL IN HERE: Set all of the variables above correctly\n",
    "\n",
    "    #STOP FILLING IN HERE\n",
    "    \n",
    "    return acc,rec,prec,f1\n",
    "\n",
    "\n",
    "accskl,recskl,precskl,f1skl = getMetricsSKL(y,ypred)\n",
    "print(\"Accuracy is \" + str(accskl*100))\n",
    "print(\"Recall is \" + str(recskl*100))\n",
    "print(\"Precision is \" + str(precskl*100))\n",
    "print(\"F1 Score is \" + str(f1skl*100))"
   ]
  },
  {
   "cell_type": "markdown",
   "metadata": {},
   "source": [
    "---\n",
    "---\n",
    "---\n",
    "# Part 2 - Regularized Logistic Regression\n",
    "\n",
    "During lectures, we discussed a number of key ideas:\n",
    "\n",
    "1. The idea that, with some data, it is simply not possible to draw a straight line to separate the data. In these cases, we'll need to add more features, combination of features and/or higher-order features to draw more complex decision boundaries.\n",
    "2. The idea of generalization in machine learning; the idea that a hypothesis (be it logistic regression, linear regression or any hopthesis) can underfit (high bias) or overfit (high variance) the data. When we use very high-order features, it becomes quite easy for the hypothesis to overfit the data.\n",
    "3. The idea that a model that has high bias (underfits) will never be able to do well; so in general, it is better to have a very complex hypothesis, and then apply regularization to it to reduce the possiblity of overfitting.\n",
    "\n",
    "In this part of the exercise, you will implement regularized logistic regression to develop a model than can predict whether products coming out of a manufacturing plant pass quality assurance (QA). During QA, each product goes through various specific tests to ensure that it is functioning correctly. Suppose you are the QA manager of the manufacturing plant and you have the test results of two tests (Test1 and Test2) for a number of the products, along with whether they were accepted or rejected during QA (provided in ```data2.csv```).\n",
    "\n",
    "With machine learning knowledge under your belt now, you just **know** that you can build a logistic regression model uses the two test results of a given product to be able to predict whether the product should be accepted or rejected.\n"
   ]
  },
  {
   "cell_type": "code",
   "execution_count": null,
   "metadata": {
    "pixiedust": {
     "displayParams": {}
    },
    "scrolled": true
   },
   "outputs": [],
   "source": [
    "### Importing some useful packages\n",
    "#This ensures that plots appear in the sheet and not in a new window\n",
    "%matplotlib inline \n",
    "import numpy as np\n",
    "\n",
    "#Pandas is an alternative numerical processing library like numpy: they have differences\n",
    "#We will use Pandas only to provide a preview of the data once we've read it in\n",
    "import pandas as pd\n",
    "\n",
    "\n",
    "data2 = np.genfromtxt('data2.csv',delimiter=\",\",skip_header=True)\n",
    "\n",
    "#Convert the numpy array to a pandas DataFrame\n",
    "#and display the first 10 rows as html\n",
    "display(pd.DataFrame(data2).head(10))"
   ]
  },
  {
   "cell_type": "markdown",
   "metadata": {},
   "source": [
    "### Setting X, y, m and n\n",
    "\n",
    "You did this in the Linear Regression practical so I've just put it in (you're welcome). Carefully examine the code in, and then run, the cell below and let's move on.\n",
    "\n",
    "It sets ```X```, ```y```, ```m``` and ```n```. It also does something else: it creates a separate array for the scores of test 1 (```X1```), and a separate array for test 2 scores (```X2```). This will come in handy when we want to plot X1 scores versus X2 scores shortly. "
   ]
  },
  {
   "cell_type": "code",
   "execution_count": null,
   "metadata": {
    "scrolled": true
   },
   "outputs": [],
   "source": [
    "#Set m and n\n",
    "m = data2.shape[0]\n",
    "n = data2.shape[1]-1 #The final column is not a feature; it's the target variable\n",
    "\n",
    "#Set X and y\n",
    "#I'm putting in reshapes on the single-column matrices to explicitly ensure that they\n",
    "#aren't rank 1 arrays i.e. their shapes aren't weird \"(m,)\" but rather \"(m,1)\" \n",
    "X = data2[:,0:n]\n",
    "y = data2[:,n].reshape(m,1)\n",
    "\n",
    "#Also set X1 and X2\n",
    "X1 = data2[:,0].reshape(m,1)\n",
    "X2 = data2[:,1].reshape(m,1)\n",
    "\n",
    "\n",
    "#Now display X and y to make sure they look\n",
    "#like they've been set correctly\n",
    "print(\"X:\")\n",
    "display(pd.DataFrame(X).head(10))\n",
    "\n",
    "print(\"\\ny:\")\n",
    "display(pd.DataFrame(y).head(10))\n",
    "\n",
    "print(\"\\nX1:\")\n",
    "display(pd.DataFrame(X1).head(10))\n",
    "\n",
    "print(\"\\nX2:\")\n",
    "display(pd.DataFrame(X2).head(10))"
   ]
  },
  {
   "cell_type": "markdown",
   "metadata": {},
   "source": [
    "### Visualizing the Data (If Possible)\n",
    "\n",
    "Again, once loaded, it is a good idea to try and visualise the data, if and only if this is possible. Below, we will once again start by just calling the ```getPosNegExamples``` function that you (hopefully filled out before) to index into ```X``` to filter out positive and negative examples based on their corresponding ```y``` labels and return them into the relevant array variables. We will later use these to split up the data into Train and Test sets, and also to plot the data.\n",
    "\n",
    "You don't need to do anything below, provided that it works correctly."
   ]
  },
  {
   "cell_type": "code",
   "execution_count": null,
   "metadata": {},
   "outputs": [],
   "source": [
    "#Don't modify the code below!\n",
    "#What it does: separate X1 values (scores of first test) into positive and negative cases\n",
    "#Do the same for X2 values (scores of second test)\n",
    "X1pos,X1neg = getPosNegExamples(X1,y)\n",
    "X2pos,X2neg = getPosNegExamples(X2,y)\n",
    "\n",
    "print(\"X1pos:\")\n",
    "display(pd.DataFrame(X1pos))\n",
    "\n",
    "print(\"X2pos:\")\n",
    "display(pd.DataFrame(X2pos))"
   ]
  },
  {
   "attachments": {
    "Plot3.png": {
     "image/png": "[encoded data removed]"
    }
   },
   "cell_type": "markdown",
   "metadata": {},
   "source": [
    "Next, we'll use the four vectors ```X1pos```, ```X1neg```, ```X2pos``` and ```X2neg``` and make a call to the same ```plotData``` function that you completed earlier to plot a scatter plot of Test1 versus Test2 scores for various products below. Here also, you don't need to do anything. I'll just make the function call and hopefully it should just work.\n",
    "\n",
    "\n",
    "If you did it correctly, you should see a plot that is somewhat similar to the Figure below:\n",
    "\n",
    "![Plot3.png](attachment:Plot3.png)"
   ]
  },
  {
   "cell_type": "code",
   "execution_count": null,
   "metadata": {},
   "outputs": [],
   "source": [
    "#Dont' modify the line below in any way\n",
    "plotData(X1pos,X2pos,X1neg,X2neg,'Test1 Value','Test2 Value',\"Accepted\",\"Rejected\")"
   ]
  },
  {
   "cell_type": "markdown",
   "metadata": {},
   "source": [
    "It's quite clear, here, that we can't use any kind of straight line to separate the data. We're going to need higher-order polynomial features to draw a more complex decision boundary, that will most likely be some kind of circular or eliptical polygon."
   ]
  },
  {
   "cell_type": "markdown",
   "metadata": {},
   "source": [
    "### Dividing Up the Data Into Train-Test Splits\n",
    "\n",
    "In the previous part of the assignment, we trained on all of the data, and tested on the same (training) data. We saw in lectures that this doesn't make for a very good indicator of accuracy; if you train on a piece of data, your model will most likely do well on that same data.\n",
    "\n",
    "So, in this part, let's divide up our data into Train and Test portions so that, once we've trained our final model (on the Train part), we'll be able to compute a series of metrics on the Test part to be able to convince ourselves (and our investors) that our model is accurate on new unseen data i.e. that it will work nicely in the real-world.\n",
    "\n",
    "When splitting up the data, it is quite important to try to ensure that our Train set has equal numbers of samples of each of the classes we are trying to separate i.e. if we have, for example, 30 samples of ```y=0``` in the Train set, then we should have approx. 30 samples of ```y=1``` in the Train set. This is done so that the eventual hypothesis doesn't favour one class over the other. Look this up if you want (unbalanced classes for classification).\n",
    "\n",
    "In the snippet below, I'm calling the ```train_test_split``` function that we talked about in class. The function has a lot more interesting parameters than we talked about in class e.g.: \n",
    "\n",
    "- The ```train_size``` or ```test_size``` can be either a float or an int. If it's specified as a float, it is taken as the percentage of total samples. If it's specified as an int, it is taken as the number of samples.\n",
    "\n",
    "- The ```stratify``` parameter, once set to the target variable (i.e. ```y``` in this case), will ensure that the Train set has equal numbers of each class in it.\n",
    "\n",
    "- The ```random_state``` variable serves as a pseudorandom generator seed so that, although we are randomly shuffling our results, we can replicate our results when we run the code repeatedly; for more info on this see this article: https://machinelearningmastery.com/how-to-generate-random-numbers-in-python/\n",
    "\n",
    "Below, I've put in code to randomly draw 30 samples from the available data we have, and ensure that the Train set contains approx equal numbers of ```y=0``` and ```y=1``` samples. Yes a warning is generated; relax."
   ]
  },
  {
   "cell_type": "code",
   "execution_count": null,
   "metadata": {},
   "outputs": [],
   "source": [
    "from sklearn.model_selection import train_test_split\n",
    "\n",
    "#We're splitting up the data set, so now we'll have two 'm's: one for train (which we'll set), and one for test, \n",
    "#which will just be everything that remains from the data\n",
    "mtrain = 70\n",
    "mtest = m-mtrain\n",
    "\n",
    "X_train, X_test, y_train, y_test = train_test_split(X,y,train_size=70,random_state=1,stratify=y, shuffle=True)\n"
   ]
  },
  {
   "cell_type": "markdown",
   "metadata": {},
   "source": [
    "### Creating Higher-Order Features\n",
    "\n",
    "As mentioned before, we're going to use higher-order features to draw a complex non-linear decision boundary. To be specific, we're going to use the two basic features we've got ($x_1$ and $x_2$) to create polynomial features up to degree 6 i.e. upto $x_1^6$ and $x_2^6$ as follows:\n",
    "\n",
    "$$\n",
    "\\begin{align}\n",
    "y = \\begin{bmatrix}\n",
    "       x_0=1\\\\\n",
    "       x_1 \\\\\n",
    "       x_2 \\\\\n",
    "       x_1^2\\\\\n",
    "       x_2^2\\\\\n",
    "       x_1x_2\\\\\n",
    "       x_1x_2^2\\\\\n",
    "       x_1^2x_2\\\\\n",
    "       \\vdots \\\\\n",
    "       x_2^6\\\\\n",
    "       x_1^6\\\\\n",
    "     \\end{bmatrix}\n",
    "\\end{align}\n",
    "$$\n",
    "\n",
    "All in all, this results in a 28-dimensional feature vector (including $x_0$). We'll use ```sklearn.preprocessing```'s ```PolynomialFeatures``` function to do this for us very easily. Type in the following code in the region indicated in the function below:\n",
    "\n",
    "```python \n",
    "polytransform = PolynomialFeatures(degree, include_bias=False).fit(X)\n",
    "X_poly = polytransform.transform(X)\n",
    "```\n",
    "\n",
    "Note that I've set ```include_bias``` to False; I don't want to add feature ```x_0``` yet; I want to first scale the data.\n",
    "\n",
    "Also note that once I've transformed the Train set (```X_train```), I go ahead and also transform the Test set (```X_test```) in the same way right away. "
   ]
  },
  {
   "cell_type": "code",
   "execution_count": null,
   "metadata": {},
   "outputs": [],
   "source": [
    "from sklearn.preprocessing import PolynomialFeatures\n",
    "\n",
    "def getPolyFeatX(X, degree):\n",
    "    X_poly = np.zeros((X.shape[0],28))\n",
    "    polytransform = None\n",
    "    \n",
    "    #FILL IN BELOW\n",
    "    \n",
    "    #STOP FILLING IN HERE\n",
    "    \n",
    "    return X_poly,polytransform\n",
    "\n",
    "degree = 6\n",
    "\n",
    "X_train_poly,polytransform = getPolyFeatX(X_train,degree)\n",
    "\n",
    "X_test_poly = polytransform.transform(X_test)\n",
    "\n",
    "#The original n was 2, but now it will increase depending on what we set degree to\n",
    "nnew = X_train_poly.shape[1]\n",
    "\n",
    "print(\"X_train_poly has %i rows, %i features\" % (X_train_poly.shape[0],X_train_poly.shape[1]))\n",
    "print(\"X_test_poly has %i rows, %i features\" % (X_test_poly.shape[0],X_test_poly.shape[1]))"
   ]
  },
  {
   "cell_type": "markdown",
   "metadata": {},
   "source": [
    "### Scaling the Features and Adding Feature $x_0$\n",
    "\n",
    "Now, we need to scale the features again and add the column of 1s representing feature $x_0$. Below, I'll just call the ```getScaledX``` function we completed earlier, and then add a column of 1s."
   ]
  },
  {
   "cell_type": "code",
   "execution_count": null,
   "metadata": {},
   "outputs": [],
   "source": [
    "#Don't change in any way\n",
    "\n",
    "#Scale X_train_poly\n",
    "X_train_scaled,scalerpt2 = getScaledX(X_train_poly)\n",
    "\n",
    "#Add feature x0 to X_train_scaled\n",
    "X_train_mod = np.hstack([np.ones((mtrain,1)),X_train_scaled]) #Add a column of 1s to X which will serve as the so-called x_0 feature: store the result in X_mod which we'll be using from now on\n",
    "\n",
    "#Preview contents of X_train_mod with Pandas\n",
    "print(\"X_train_mod:\")\n",
    "display(pd.DataFrame(X_train_mod).head())\n",
    "\n",
    "#Scale X_test_poly also, using the parameters obtained on the train set\n",
    "X_test_scaled = scalerpt2.transform(X_test_poly)\n",
    "\n",
    "#Add feature x0 to X_test_scaled\n",
    "X_test_mod = np.hstack([np.ones((mtest,1)),X_test_scaled]) #Add a column of 1s to X which will serve as the so-called x_0 feature: store the result in X_mod which we'll be using from now on\n",
    "\n",
    "#Preview contents of X_test_mod with Pandas\n",
    "print(\"X_test_mod:\")\n",
    "display(pd.DataFrame(X_test_mod).head())"
   ]
  },
  {
   "cell_type": "markdown",
   "metadata": {},
   "source": [
    "### Implementing the Regularized Cost Function\n",
    "\n",
    "Previously we implemented the unregularized cost function for logistic regression. Luckily, the equation for the regularized cost function for logistic regression just adds a single term to the regularized version of the cost function as given below:\n",
    "\n",
    "$$\n",
    "\\large \n",
    "\\require{color}\n",
    "J(\\Theta) = âˆ’\\frac{1}{m}\\Big( y^T \\cdot \\ln(g(X\\Theta)) + (1 - y^T) \\cdot \\ln(1-g(X\\Theta)) \\Big) + \\colorbox{lightgreen}{$\\frac{\\lambda}{2m}\\sum \\limits _{j=1}^n\\theta_j^2$}\\\\\n",
    "$$\n",
    "\n",
    "The extra term highlighted in $\\colorbox{lightgreen}{green}$ can easily be added to the result of the ```costFunction``` that we created earlier on; it is easily computed by:\n",
    "\n",
    "1. Squaring the theta values\n",
    "2. Computing the sum of $\\theta_1,\\ldots,\\theta_j$\n",
    "\n",
    "Remember that we should exclude \\$theta_0$ since it is not regularized.\n",
    "\n",
    "Complete the function below by computing the regulzarization term (either using a for loop or using numpy operations).\n",
    "\n",
    "To check your work:\n",
    "- With any $\\Theta$ and $\\lambda=0$, $J_{\\text{reg}}(\\Theta)$ should be the same as the original $J(\\Theta)$ function value.\n",
    "- \n",
    "- With $\\Theta = [0,\\ldots,0]$ and any $\\lambda$,   $J_{\\text{reg}}(\\Theta) \\approx 0.69315$\n",
    "- \n",
    "- With $\\Theta = [0.09,\\ldots,0.09]$ $\\lambda=100$, $J_{\\text{reg}}(\\Theta) \\approx 1.2356$\n",
    "\n"
   ]
  },
  {
   "cell_type": "code",
   "execution_count": null,
   "metadata": {
    "pixiedust": {
     "displayParams": {}
    }
   },
   "outputs": [],
   "source": [
    "def costJReg(thetas, X, y, rlambda):\n",
    "    \n",
    "    regtermsum = 0 #You need to set this variable correctly\n",
    "    \n",
    "    m = X.shape[0] #You might need this, which should be the same as mtrain\n",
    "    n = X.shape[1] #And this, which should be the same as nnew\n",
    "    \n",
    "    #FILL IN BELOW: set regtermsum: this could be done with one for loop, or even with one line with numpy\n",
    "\n",
    "    \n",
    "    #STOP FILLING IN HERE\n",
    "    \n",
    "    finalCost = costJ(thetas, X, y) + regtermsum\n",
    "    \n",
    "    return float(finalCost)\n",
    "    \n",
    "\n",
    "initthetas = np.array([0.09 for i in range(nnew+1)]).reshape((nnew+1,1))\n",
    "    \n",
    "print(\"Cost of UNregularized cost function (costJ): \", costJ(initthetas, X_train_mod, y_train))\n",
    "print(\"Cost of REGularized cost function (costJReg) but with lambda=0: \", costJReg(initthetas, X_train_mod, y_train, 0))\n",
    "print(\"The two values above should be the same\")\n",
    "print(\"Cost of REGularized cost function (costJReg) with lambda=100: \", costJReg(initthetas, X_train_mod, y_train, 100))\n",
    "print(\"The value above should be higher than the two unregularized costs\")\n"
   ]
  },
  {
   "cell_type": "markdown",
   "metadata": {},
   "source": [
    "### Implementing Regularized Gradient Descent\n",
    "\n",
    "Now we can go ahead and do gradient descent. Since our cost function changed, our update rules for gradient descent also changed a little bit. If you want, you can copy/paste the code that you put in the (non-regularized) ```gradientDescent``` function earlier and work with that. Noting that $\\theta_0$ is not regularized, a vectorized expression for this procedure is as follows: \n",
    "\n",
    "$$\n",
    "\\begin{align}\n",
    "1.\\>\\>&\\text{Produce a vector $\\bf q$, of the same size as $\\Theta$, that has all ones except for the top-most entry which is zero.}\\\\\n",
    "\\>\\>\\>\\>&\\text{Again, this vector should have that same number of entries as $\\Theta$:}\\\\\\\\\n",
    "\\>\\>\\>\\>&\\large {\\bf q} \\leftarrow \\begin{bmatrix}\n",
    "           0 \\\\\n",
    "           1 \\\\\n",
    "           1 \\\\\n",
    "           \\vdots \\\\\n",
    "           1\n",
    "         \\end{bmatrix}\\\\\\\\\n",
    "2.\\>\\>&\\text{Now you can use the following vectorized expression to compute all $\\Theta$ at the same time, noting that the symbol \"$\\odot$\" below refers to ${\\bf \\text{element-wise multiplication}}$ i.e. use \"*\" symbol in Numpy, or use np.Multiply function:}\\\\\\\\\n",
    "\\>\\>\\>\\>&\\large\\Theta \\leftarrow \\Theta - \\frac{\\alpha}{m}\\Big[ X^T \\big(g(X\\Theta)-y\\big) + \\big(\\lambda {\\bf q} \\odot \\Theta\\big) \\Big]\\\\\\\\\n",
    "\\>\\>\\>\\>&\\text{Again, $\\lambda {\\bf q} \\odot \\Theta$ means multiply $\\lambda$ into ${\\bf q}$ and then do element-wise multplication of the result with $\\Theta$}\n",
    "\\end{align}\n",
    "$$\n",
    "\n",
    "In order to help you do a preliminary check to see if your code is apparently working correctly, I've put in code that:\n",
    "\n",
    "- First makes a call to the original **UN**regularized gradient descent function that you wrote earlier (displayed in the **first** column of the table below); Then it calls the new **REG**ularized gradient descent function that you wrote here, but setting $\\lambda=0$ which has the effect of not regularizing at all (displayed in the **second** column of the table below). The two $\\Theta$ solutions of columns 1 and 2 should be the same.\n",
    "\n",
    "- Then, it makes a call to the new **REG**ularized gradient descent function that you wrote here with $\\lambda=10$ i.e. it regularizes the model (displayed in the **third** column of the table below). You should see that the $\\Theta$ solutions given here should be much smaller than the two previous ones.\n",
    "\n",
    "To do an exact check to see if your code appears to be working correctly, the regularized values in the third column gradient descent should give the following values, given the following parameters:\n",
    "\n",
    "- Using Initial $\\Theta = [0.09,0.09,\\ldots,0.09]$, $\\alpha = 0.01$, 400 iterations, $\\lambda=0$: Optimal [$\\theta_0\\ldots\\theta_9] \\approx [-0.03769647,  0.20902498,  0.29257672, -0.20970893, -0.19503411,\n",
    "       -0.21953835,  0.2009719 ,  0.05744562, -0.05967816,  0.04030697]$\n",
    "- \n",
    "- Using Initial $\\Theta = [0.09,0.09,\\ldots,0.09]$, $\\alpha = 0.01$, 400 iterations, $\\lambda=100$: Optimal [$\\theta_0\\ldots\\theta_9] \\approx [-0.00739548,  0.03748538,  0.04106846, -0.06975423, -0.04740284,\n",
    "       -0.05482589,  0.03673105, -0.00664957, -0.01897085, -0.00751549]$\n",
    "- \n",
    "- Using Initial $\\Theta = [0.09,0.09,\\ldots,0.09]$, $\\alpha = 1$, 400 iterations, $\\lambda=100$: Optimal [$\\theta_0\\ldots\\theta_9] \\approx [-0.62205052,  0.09749022,  0.65121928, -0.13294728,  0.02176555,\n",
    "        0.51786338,  0.06730228,  0.46997507, -0.01161999,  0.5779498]$\n",
    "\n"
   ]
  },
  {
   "cell_type": "code",
   "execution_count": null,
   "metadata": {},
   "outputs": [],
   "source": [
    "def gradientDescentReg(X, y, thetas, alpha, max_iterations, rlambda):\n",
    "    J_hist = []\n",
    "    J_hist.append(costJReg(thetas, X, y, rlambda))\n",
    "\n",
    "    for ite in range(max_iterations):\n",
    "        # Don't modify the code above this point.\n",
    "\n",
    "        # FILL IN Your code here - but there shouldn't be a loop in here\n",
    "\n",
    "        # Stop filling in here: Don't modify the code below this point\n",
    "\n",
    "        J_hist.append(costJReg(thetas, X, y, rlambda))\n",
    "\n",
    "    return thetas, J_hist\n",
    "\n",
    "\n",
    "#Use this snippet to check if gradient descent works correctly\n",
    "initthetas = np.array([0.09 for i in range(nnew+1)]).reshape((nnew+1,1))\n",
    "\n",
    "#These two should result in the same thetas\n",
    "optthetasorig, costs = gradientDescent(X_train_mod,y_train,initthetas,0.01,400)\n",
    "optthetasnoreg, costs = gradientDescentReg(X_train_mod,y_train,initthetas,0.01,400,0)\n",
    "\n",
    "#These thetas should be smaller than the ones above\n",
    "optthetas, costs = gradientDescentReg(X_train_mod,y_train,initthetas,0.01,400,100)\n",
    "\n",
    "print(optthetas.shape)\n",
    "combinedsols = pd.DataFrame(np.hstack((optthetasorig,optthetasnoreg,optthetas)))\n",
    "combinedsols.columns = ['Orig. NonReg. Grad Desc.','Reg. Grad Desc With Lambda=0 (No regularization)','Reg. Grad Desc With Lambda=100']\n",
    "display(combinedsols.head(n=10))"
   ]
  },
  {
   "cell_type": "markdown",
   "metadata": {},
   "source": [
    "### Plotting the Decision Boundary\n",
    "\n",
    "Below, I've put in code (you're welcome) to plot the decision boundary for you. It will be used in the next couple of cells. There's also a function to transform a given $x$ with features in the original space into the transformed (higher-order features included, and scaled) space. Examine the code carefully to see what it does, and how it does it. Then run it and move on."
   ]
  },
  {
   "cell_type": "code",
   "execution_count": null,
   "metadata": {},
   "outputs": [],
   "source": [
    "#Not required to modify the code below in any way; just run it.\n",
    "#But do modify you really want to\n",
    "\n",
    "def transformSamples(X,polytrans,scaletrans):\n",
    "    Xpoly = polytrans.transform(X)\n",
    "    Xscaled = scaletrans.transform(Xpoly)\n",
    "    Xmod = np.hstack([np.ones((Xscaled.shape[0],1)),Xscaled])\n",
    "    return Xmod\n",
    "\n",
    "def plotDecisionBoundary(X, y, X1pos,X2pos,X1neg,X2neg, thetas, polytrans, scaletrans):\n",
    "    # Set min and max values and give it some padding\n",
    "    font = {'family' : 'Arial',\n",
    "        'size'   : 22}\n",
    "\n",
    "    matplotlib.rc('font', **font)\n",
    "    \n",
    "    fig = plt.figure(figsize=(12,10))\n",
    "    \n",
    "    X = X.T\n",
    "    y = y.reshape(1, y.shape[0]).ravel()\n",
    "    \n",
    "    ff = 0.2\n",
    "    x_min, x_max = X[0, :].min() - ff, X[0, :].max() + ff\n",
    "    y_min, y_max = X[1, :].min() - ff, X[1, :].max() + ff\n",
    "    h = 0.02\n",
    "    # Generate a grid of points with distance h between them\n",
    "    xx, yy = np.meshgrid(np.arange(x_min, x_max, h), np.arange(y_min, y_max, h))\n",
    "    # Predict the function value for the whole grid\n",
    "    dd = np.c_[xx.ravel(), yy.ravel()]\n",
    "    ddmod = transformSamples(dd,polytrans,scaletrans)\n",
    "    Z = predict(ddmod,thetas).reshape(xx.shape)\n",
    "    plt.contourf(xx, yy, Z, levels = [0,0.5,1,2],colors=['#F99595','#9CA6F9','#9CA6F9'])\n",
    "    plt.contour(xx, yy, Z, colors=['m'])\n",
    "    plotData(X1pos,X2pos,X1neg,X2neg,'Test1 Value','Test2 Value',\"Accepted\",\"Rejected\",False) \n",
    "    "
   ]
  },
  {
   "cell_type": "markdown",
   "metadata": {},
   "source": [
    "Ok now to draw some boundaries. The code cell below first calls the regularized gradient descent function without any regularization ($\\lambda=0$). It then plots the data and the decision boundary that results from gradient descent. You can (hopefully) see that the decision boundary is quite contorted, and appears to be \"trying too hard\" to separate the points i.e. it is overfitting i.e. it has high variance."
   ]
  },
  {
   "cell_type": "code",
   "execution_count": null,
   "metadata": {},
   "outputs": [],
   "source": [
    "#First call gradient descent again with desired params\n",
    "initthetas = np.array([0.09 for i in range(nnew+1)]).reshape((nnew+1,1))\n",
    "optthetas1, costs = gradientDescentReg(X_train_mod,y_train,initthetas,2,4000,0)\n",
    "\n",
    "#Now plot it\n",
    "plotDecisionBoundary(X,y,X1pos,X2pos,X1neg,X2neg,optthetas1,polytransform, scalerpt2)"
   ]
  },
  {
   "cell_type": "markdown",
   "metadata": {},
   "source": [
    "Now let's repeat the plot, but this time we'll set $\\lambda$ to a much larger value ($\\lambda=50$). This regularizes the model \"too much\" and reduces the model to effectively just a line; the model now underfits the data quite badly i.e. the model has high bias."
   ]
  },
  {
   "cell_type": "code",
   "execution_count": null,
   "metadata": {},
   "outputs": [],
   "source": [
    "#Not required to modify the code below in any way; just run it.\n",
    "#But do modify you really want to\n",
    "\n",
    "#First call gradient descent again with desired params\n",
    "initthetas = np.array([0.09 for i in range(nnew+1)]).reshape((nnew+1,1))\n",
    "optthetas2, costs = gradientDescentReg(X_train_mod,y_train,initthetas,2,4000,50)\n",
    "\n",
    "#Now plot it\n",
    "plotDecisionBoundary(X,y,X1pos,X2pos,X1neg,X2neg,optthetas2,polytransform, scalerpt2)"
   ]
  },
  {
   "cell_type": "markdown",
   "metadata": {},
   "source": [
    "So clearly we need to set $\\lambda$ to something between 0 and 50, so that the model is more \"reasonable\". We'll set $\\lambda=4$. This regularizes the model just enough; it is a reasonable looking elipse of sorts. "
   ]
  },
  {
   "cell_type": "code",
   "execution_count": null,
   "metadata": {},
   "outputs": [],
   "source": [
    "#Not required to modify the code below in any way; just run it.\n",
    "#But do modify you really want to\n",
    "\n",
    "#First call gradient descent again with desired params\n",
    "initthetas = np.array([0.09 for i in range(nnew+1)]).reshape((nnew+1,1))\n",
    "optthetas3, costs = gradientDescentReg(X_train_mod,y_train,initthetas,2,4000,4)\n",
    "\n",
    "#Now plot it\n",
    "plotDecisionBoundary(X,y,X1pos,X2pos,X1neg,X2neg,optthetas3,polytransform, scalerpt2)"
   ]
  },
  {
   "cell_type": "markdown",
   "metadata": {},
   "source": [
    "### Model Selection\n",
    "\n",
    "Just to give you a taste of how to compare models, let's split up the Test data half-half into a \"CV\" portion and \"FinalTest\" portion. We'll compare the three models above using the \"CV\" data. Once we've decided which to pick (which does the best on the \"CV\" set), we'll evaluate that one on the \"FinalTest\" portion to show our investors how well it does on completely new unseen data."
   ]
  },
  {
   "cell_type": "code",
   "execution_count": null,
   "metadata": {},
   "outputs": [],
   "source": [
    "#Divide up X_test and y_test 50% into CV and test portions\n",
    "X_cv, X_finaltest, y_cv, y_finaltest = train_test_split(X_test_mod,y_test,train_size=0.5,random_state=1,stratify=y_test, shuffle=True)\n",
    "\n",
    "#Predict on the thetas of the first model (overfitting one)\n",
    "\n",
    "\n",
    "\n",
    "accs = []\n",
    "recs = []\n",
    "precs = []\n",
    "thets = [optthetas1,optthetas2,optthetas3]\n",
    "X_cv.shape\n",
    "\n",
    "for i in range(3):\n",
    "    #Predict on cv data using model i\n",
    "    ypred = predict(X_cv,thets[i])\n",
    "    \n",
    "    accskl = round(sklm.accuracy_score(y_true=y_cv,y_pred=ypred),2)\n",
    "    recskl = round(sklm.recall_score(y_true=y_cv,y_pred=ypred),2)\n",
    "    precskl = round(sklm.precision_score(y_true=y_cv,y_pred=ypred),2)\n",
    "    f1skl = round(sklm.f1_score(y_true=y_cv,y_pred=ypred),2)\n",
    "    \n",
    "    print(\"Model \" + str(i+1) + \" Results:\")\n",
    "    print(\"Accuracy is \" + str(accskl*100))\n",
    "    print(\"Recall is \" + str(recskl*100))\n",
    "    print(\"Precision is \" + str(precskl*100))\n",
    "    print(\"F1 Score is \" + str(f1skl*100))\n",
    "    print(\"\")"
   ]
  },
  {
   "cell_type": "markdown",
   "metadata": {},
   "source": [
    "Clearly, Model 3 (the one with $\\lambda=20$) out-performs the other two by miles! And clearly, the model with high bias (which one am I talking about?) does the worst; a line can only do so much. Anyway, we will now select Model 3 as our FINAL model. We still need to evaluate it on some new data to give our investors confidence; next, we'll evaluate it on the \"finaltest\" test set.\n",
    "\n",
    "### Final Evaluation\n",
    "\n",
    "Ok, below we're evaluating Model 3 on only the \"FinalTest\" data."
   ]
  },
  {
   "cell_type": "code",
   "execution_count": null,
   "metadata": {},
   "outputs": [],
   "source": [
    "ypred = predict(X_finaltest,optthetas3)\n",
    "\n",
    "accskl = round(sklm.accuracy_score(y_true=y_finaltest,y_pred=ypred),2)\n",
    "recskl = round(sklm.recall_score(y_true=y_finaltest,y_pred=ypred),2)\n",
    "precskl = round(sklm.precision_score(y_true=y_finaltest,y_pred=ypred),2)\n",
    "f1skl = round(sklm.f1_score(y_true=y_finaltest,y_pred=ypred),2)\n",
    "\n",
    "print(\"Model \" + str(i+1) + \" Results:\")\n",
    "print(\"Accuracy is \" + str(accskl*100))\n",
    "print(\"Recall is \" + str(recskl*100))\n",
    "print(\"Precision is \" + str(precskl*100))\n",
    "print(\"F1 Score is \" + str(f1skl*100))"
   ]
  },
  {
   "cell_type": "markdown",
   "metadata": {},
   "source": [
    "So we got the results above. What can we tell our investors about our final model? If you're not sure, go back to the lectures on the classification metrics to see what they mean.\n",
    "\n",
    "### Have Some Fun\n",
    "\n",
    "The cell below just combines all of the above: it allows you to set degree and lambda, and then it plots it for you."
   ]
  },
  {
   "cell_type": "code",
   "execution_count": null,
   "metadata": {},
   "outputs": [],
   "source": [
    "degree = 3\n",
    "lambdaf = 5\n",
    "\n",
    "mall = X.shape[0]\n",
    "\n",
    "X_all_poly,polytransformall = getPolyFeatX(X,degree)\n",
    "\n",
    "#The original n was 2, but now it will increase depending on what we set degree to\n",
    "nnewfinal = X_all_poly.shape[1]\n",
    "\n",
    "#Scale X_train_poly\n",
    "X_all_scaled,scalerpt3 = getScaledX(X_all_poly)\n",
    "\n",
    "#Add feature x0 to X_train_scaled\n",
    "X_all_mod = np.hstack([np.ones((mall,1)),X_all_scaled]) #Add a column of 1s to X which will serve as the so-called x_0 feature: store the result in X_mod which we'll be using from now on\n",
    "\n",
    "#First call gradient descent again with desired params\n",
    "initthetas = np.array([0.09 for i in range(nnewfinal+1)]).reshape((nnewfinal+1,1))\n",
    "optthetasfinal, costs = gradientDescentReg(X_all_mod,y,initthetas,2,4000,lambdaf)\n",
    "\n",
    "#Now plot it\n",
    "plotDecisionBoundary(X,y,X1pos,X2pos,X1neg,X2neg,optthetasfinal,polytransformall, scalerpt3)"
   ]
  },
  {
   "cell_type": "code",
   "execution_count": null,
   "metadata": {},
   "outputs": [],
   "source": []
  },
  {
   "cell_type": "code",
   "execution_count": null,
   "metadata": {},
   "outputs": [],
   "source": []
  }
 ],
 "metadata": {
  "kernelspec": {
   "display_name": "Python 3",
   "language": "python",
   "name": "python3"
  },
  "language_info": {
   "codemirror_mode": {
    "name": "ipython",
    "version": 3
   },
   "file_extension": ".py",
   "mimetype": "text/x-python",
   "name": "python",
   "nbconvert_exporter": "python",
   "pygments_lexer": "ipython3",
   "version": "3.8.5"
  }
 },
 "nbformat": 4,
 "nbformat_minor": 2
}
