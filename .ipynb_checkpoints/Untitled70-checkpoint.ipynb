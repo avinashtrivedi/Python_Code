{
 "cells": [
  {
   "cell_type": "code",
   "execution_count": 4,
   "metadata": {},
   "outputs": [
    {
     "name": "stdout",
     "output_type": "stream",
     "text": [
      "*************** Welcome to the Python Matrix Application ***************\n",
      "Do you want to play the Matrix Game?\n",
      "Enter Y for Yes or N for No:Y\n"
     ]
    },
    {
     "ename": "KeyboardInterrupt",
     "evalue": "Interrupted by user",
     "output_type": "error",
     "traceback": [
      "\u001b[1;31m---------------------------------------------------------------------------\u001b[0m",
      "\u001b[1;31mKeyboardInterrupt\u001b[0m                         Traceback (most recent call last)",
      "\u001b[1;32m<ipython-input-4-9c0b9125ca4d>\u001b[0m in \u001b[0;36m<module>\u001b[1;34m\u001b[0m\n\u001b[0;32m      9\u001b[0m     \u001b[1;32mif\u001b[0m \u001b[0mchoice\u001b[0m \u001b[1;33m==\u001b[0m \u001b[1;34m\"Y\"\u001b[0m\u001b[1;33m:\u001b[0m\u001b[1;33m\u001b[0m\u001b[1;33m\u001b[0m\u001b[0m\n\u001b[0;32m     10\u001b[0m         \u001b[1;32mwhile\u001b[0m \u001b[1;32mTrue\u001b[0m\u001b[1;33m:\u001b[0m\u001b[1;33m\u001b[0m\u001b[1;33m\u001b[0m\u001b[0m\n\u001b[1;32m---> 11\u001b[1;33m             \u001b[0mphone_number\u001b[0m \u001b[1;33m=\u001b[0m \u001b[0minput\u001b[0m\u001b[1;33m(\u001b[0m\u001b[1;34m\"Enter your phone number (XXX-XXX-XXXX):\"\u001b[0m\u001b[1;33m)\u001b[0m\u001b[1;33m\u001b[0m\u001b[1;33m\u001b[0m\u001b[0m\n\u001b[0m\u001b[0;32m     12\u001b[0m             \u001b[1;31m# Regular expression for checking the phone number format\u001b[0m\u001b[1;33m\u001b[0m\u001b[1;33m\u001b[0m\u001b[1;33m\u001b[0m\u001b[0m\n\u001b[0;32m     13\u001b[0m             \u001b[1;32mif\u001b[0m \u001b[1;32mnot\u001b[0m \u001b[0mre\u001b[0m\u001b[1;33m.\u001b[0m\u001b[0mmatch\u001b[0m\u001b[1;33m(\u001b[0m\u001b[1;34m\"\\d{3}-\\d{3}-\\d{4}\"\u001b[0m\u001b[1;33m,\u001b[0m \u001b[0mphone_number\u001b[0m\u001b[1;33m)\u001b[0m\u001b[1;33m:\u001b[0m\u001b[1;33m\u001b[0m\u001b[1;33m\u001b[0m\u001b[0m\n",
      "\u001b[1;32m~\\anaconda3\\lib\\site-packages\\ipykernel\\kernelbase.py\u001b[0m in \u001b[0;36mraw_input\u001b[1;34m(self, prompt)\u001b[0m\n\u001b[0;32m    858\u001b[0m                 \u001b[1;34m\"raw_input was called, but this frontend does not support input requests.\"\u001b[0m\u001b[1;33m\u001b[0m\u001b[1;33m\u001b[0m\u001b[0m\n\u001b[0;32m    859\u001b[0m             )\n\u001b[1;32m--> 860\u001b[1;33m         return self._input_request(str(prompt),\n\u001b[0m\u001b[0;32m    861\u001b[0m             \u001b[0mself\u001b[0m\u001b[1;33m.\u001b[0m\u001b[0m_parent_ident\u001b[0m\u001b[1;33m,\u001b[0m\u001b[1;33m\u001b[0m\u001b[1;33m\u001b[0m\u001b[0m\n\u001b[0;32m    862\u001b[0m             \u001b[0mself\u001b[0m\u001b[1;33m.\u001b[0m\u001b[0m_parent_header\u001b[0m\u001b[1;33m,\u001b[0m\u001b[1;33m\u001b[0m\u001b[1;33m\u001b[0m\u001b[0m\n",
      "\u001b[1;32m~\\anaconda3\\lib\\site-packages\\ipykernel\\kernelbase.py\u001b[0m in \u001b[0;36m_input_request\u001b[1;34m(self, prompt, ident, parent, password)\u001b[0m\n\u001b[0;32m    902\u001b[0m             \u001b[1;32mexcept\u001b[0m \u001b[0mKeyboardInterrupt\u001b[0m\u001b[1;33m:\u001b[0m\u001b[1;33m\u001b[0m\u001b[1;33m\u001b[0m\u001b[0m\n\u001b[0;32m    903\u001b[0m                 \u001b[1;31m# re-raise KeyboardInterrupt, to truncate traceback\u001b[0m\u001b[1;33m\u001b[0m\u001b[1;33m\u001b[0m\u001b[1;33m\u001b[0m\u001b[0m\n\u001b[1;32m--> 904\u001b[1;33m                 \u001b[1;32mraise\u001b[0m \u001b[0mKeyboardInterrupt\u001b[0m\u001b[1;33m(\u001b[0m\u001b[1;34m\"Interrupted by user\"\u001b[0m\u001b[1;33m)\u001b[0m \u001b[1;32mfrom\u001b[0m \u001b[1;32mNone\u001b[0m\u001b[1;33m\u001b[0m\u001b[1;33m\u001b[0m\u001b[0m\n\u001b[0m\u001b[0;32m    905\u001b[0m             \u001b[1;32mexcept\u001b[0m \u001b[0mException\u001b[0m \u001b[1;32mas\u001b[0m \u001b[0me\u001b[0m\u001b[1;33m:\u001b[0m\u001b[1;33m\u001b[0m\u001b[1;33m\u001b[0m\u001b[0m\n\u001b[0;32m    906\u001b[0m                 \u001b[0mself\u001b[0m\u001b[1;33m.\u001b[0m\u001b[0mlog\u001b[0m\u001b[1;33m.\u001b[0m\u001b[0mwarning\u001b[0m\u001b[1;33m(\u001b[0m\u001b[1;34m\"Invalid Message:\"\u001b[0m\u001b[1;33m,\u001b[0m \u001b[0mexc_info\u001b[0m\u001b[1;33m=\u001b[0m\u001b[1;32mTrue\u001b[0m\u001b[1;33m)\u001b[0m\u001b[1;33m\u001b[0m\u001b[1;33m\u001b[0m\u001b[0m\n",
      "\u001b[1;31mKeyboardInterrupt\u001b[0m: Interrupted by user"
     ]
    }
   ],
   "source": [
    "import re\n",
    "import numpy as np\n",
    "\n",
    "print(\"*************** Welcome to the Python Matrix Application ***************\")\n",
    "while True:\n",
    "    print(\"Do you want to play the Matrix Game?\")\n",
    "    # Reading the choice\n",
    "    choice = input(\"Enter Y for Yes or N for No:\")\n",
    "    if choice == \"Y\":\n",
    "        while True:\n",
    "            phone_number = input(\"Enter your phone number (XXX-XXX-XXXX):\")\n",
    "            # Regular expression for checking the phone number format\n",
    "            if not re.match(\"\\d{3}-\\d{3}-\\d{4}\", phone_number):\n",
    "                print(\"Your phone number is not in correct format. Please renter:\")\n",
    "            else:\n",
    "                break\n",
    "        while True:\n",
    "            zipcode = input(\"Enter your zip code+4 (XXXXX-XXXX):\")\n",
    "            # Regular expression for checking the zipcode format\n",
    "            if not re.match(\"\\d{5}-\\d{4}\", zipcode):\n",
    "                print(\"Your zip code is not in correct format. Please renter:\")\n",
    "            else:\n",
    "                break\n",
    "        # Reading the first matrix\n",
    "        print(\"Enter your first 3x3 matrix:\")\n",
    "        a = []\n",
    "        for i in range(3):\n",
    "            # Reading row by row\n",
    "            row = input().split()\n",
    "            # Converting each element to integer\n",
    "            row = list(map(int, row))\n",
    "            # Adding row to the matrix\n",
    "            a.append(row)\n",
    "        # Printing first matrix\n",
    "        print(\"Your first 3x3 matrix is:\")\n",
    "        for i in range(3):\n",
    "            for j in range(3):\n",
    "                print(a[i][j], end=\" \")\n",
    "            print()\n",
    "        # Reading second matrix\n",
    "        print(\"Enter your second 3x3 matrix:\")\n",
    "        b = []\n",
    "        for i in range(3):\n",
    "            # Reading row by row\n",
    "            row = input().split()\n",
    "            # Converting each element to integer\n",
    "            row = list(map(int, row))\n",
    "            # Adding row to the matrix\n",
    "            b.append(row)\n",
    "        # Printing second matrix\n",
    "        print(\"Your second 3x3 matrix is:\")\n",
    "        for i in range(3):\n",
    "            for j in range(3):\n",
    "                print(b[i][j], end=\" \")\n",
    "            print()\n",
    "        # Menu for matrix operations\n",
    "        print(\"Select a Matrix Operation from the list below:\")\n",
    "        print(\"a. Addition\")\n",
    "        print(\"b. Subtraction\")\n",
    "        print(\"c. Matrix Multiplication\")\n",
    "        print(\"d. Element by element multiplication\")\n",
    "        Input_User = input()\n",
    "        if Input_User == \"a\":\n",
    "            print(\"You selected Addition. The results are:\")\n",
    "            # converting list to numpy arrays\n",
    "            a = np.array(a)\n",
    "            b = np.array(b)\n",
    "            # addition of matrices\n",
    "            c = a + b\n",
    "            for i in range(3):\n",
    "                for j in range(3):\n",
    "                    print(c[i][j], end=\" \")\n",
    "                print()\n",
    "            print(\"The Transpose is:\")\n",
    "            # function for finding the transpose\n",
    "            t = np.transpose(c)\n",
    "            for i in range(3):\n",
    "                for j in range(3):\n",
    "                    print(t[i][j], end=\" \")\n",
    "                print()\n",
    "            print(\"The row and column mean values of the results are:\")\n",
    "            # Function mean with axis =1 finds row means\n",
    "            print(\"Row:\", np.mean(c, axis=1))\n",
    "            # Function mean with axis =0 finds column means\n",
    "            print(\"Column:\", np.mean(c, axis=0))\n",
    "        if Input_User == \"b\":\n",
    "            print(\"You selected Subtraction. The results are:\")\n",
    "            a = np.array(a)\n",
    "            b = np.array(b)\n",
    "            # subtraction of matrices\n",
    "            c = a - b\n",
    "            for i in range(3):\n",
    "                for j in range(3):\n",
    "                    print(c[i][j], end=\" \")\n",
    "                print()\n",
    "            print(\"The Transpose is:\")\n",
    "            # function for finding the transpose\n",
    "            t = np.transpose(c)\n",
    "            for i in range(3):\n",
    "                for j in range(3):\n",
    "                    print(t[i][j], end=\" \")\n",
    "                print()\n",
    "            print(\"The row and column mean values of the results are:\")\n",
    "            # Function mean with axis =1 finds row means\n",
    "            print(\"Row:\", np.mean(c, axis=1))\n",
    "            # Function mean with axis =0 finds column means\n",
    "            print(\"Column:\", np.mean(c, axis=0))\n",
    "        if Input_User == \"c\":\n",
    "            print(\"You selected Matrix Multiplication. The results are:\")\n",
    "            # For getting matrix multiplication use the function matrix instead of array in numpy\n",
    "            a = np.matrix(a)\n",
    "            b = np.matrix(b)\n",
    "            c = a * b\n",
    "            c = np.array(c)\n",
    "            for i in range(3):\n",
    "                for j in range(3):\n",
    "                    print(c[i][j], end=\" \")\n",
    "                print()\n",
    "            print(\"The Transpose is:\")\n",
    "            # function for finding the transpose\n",
    "            t = np.transpose(c)\n",
    "            for i in range(3):\n",
    "                for j in range(3):\n",
    "                    print(t[i][j], end=\" \")\n",
    "            print()\n",
    "            print(\"The row and column mean values of the results are:\")\n",
    "            # Function mean with axis =1 finds row means\n",
    "            print(\"Row:\", np.mean(c, axis=1))\n",
    "            # Function mean with axis =0 finds column means\n",
    "            print(\"Column:\", np.mean(c, axis=0))\n",
    "        if Input_User == \"d\":\n",
    "            print(\"You selected Element by Element Multiplication. The results are:\")\n",
    "            a = np.array(a)\n",
    "            b = np.array(b)\n",
    "            # Elementary wise multiplication\n",
    "            c = a * b\n",
    "            for i in range(3):\n",
    "                for j in range(3):\n",
    "                    print(c[i][j], end=\" \")\n",
    "                print()\n",
    "            print(\"The Transpose is:\")\n",
    "            # function for finding the transpose\n",
    "            t = np.transpose(c)\n",
    "            for i in range(3):\n",
    "                for j in range(3):\n",
    "                    print(t[i][j], end=\" \")\n",
    "                print()\n",
    "            print(\"The row and column mean values of the results are:\")\n",
    "            # Function mean with axis =1 finds row means\n",
    "            print(\"Row:\", np.mean(c, axis=1))\n",
    "            # Function mean with axis =0 finds column means\n",
    "            print(\"Column:\", np.mean(c, axis=0))\n",
    "    if choice == \"N\":\n",
    "        print(\"**************** Thanks for playing Python Numpy ************************\")\n",
    "    else:\n",
    "        print(\"Oops! Invalid input, try again.\\n\")\n",
    "    break"
   ]
  },
  {
   "cell_type": "code",
   "execution_count": 26,
   "metadata": {},
   "outputs": [],
   "source": [
    "c=np.array([[4,4,5],[11,4,6],[8,10,10]])"
   ]
  },
  {
   "cell_type": "code",
   "execution_count": 27,
   "metadata": {},
   "outputs": [
    {
     "data": {
      "text/plain": [
       "array([[ 4,  4,  5],\n",
       "       [11,  4,  6],\n",
       "       [ 8, 10, 10]])"
      ]
     },
     "execution_count": 27,
     "metadata": {},
     "output_type": "execute_result"
    }
   ],
   "source": [
    "c"
   ]
  },
  {
   "cell_type": "code",
   "execution_count": 28,
   "metadata": {},
   "outputs": [],
   "source": [
    "a = np.round(np.mean(c, axis=1))"
   ]
  },
  {
   "cell_type": "code",
   "execution_count": 23,
   "metadata": {},
   "outputs": [
    {
     "data": {
      "text/plain": [
       "4.33"
      ]
     },
     "execution_count": 23,
     "metadata": {},
     "output_type": "execute_result"
    }
   ],
   "source": [
    "round(np.mean(c, axis=1)[0],2)"
   ]
  },
  {
   "cell_type": "code",
   "execution_count": 29,
   "metadata": {},
   "outputs": [
    {
     "data": {
      "text/plain": [
       "7.0"
      ]
     },
     "execution_count": 29,
     "metadata": {},
     "output_type": "execute_result"
    }
   ],
   "source": [
    "a[1]"
   ]
  },
  {
   "cell_type": "code",
   "execution_count": 30,
   "metadata": {},
   "outputs": [
    {
     "data": {
      "text/plain": [
       "9.0"
      ]
     },
     "execution_count": 30,
     "metadata": {},
     "output_type": "execute_result"
    }
   ],
   "source": [
    "a[2]"
   ]
  },
  {
   "cell_type": "code",
   "execution_count": 31,
   "metadata": {},
   "outputs": [
    {
     "data": {
      "text/plain": [
       "4.0"
      ]
     },
     "execution_count": 31,
     "metadata": {},
     "output_type": "execute_result"
    }
   ],
   "source": [
    "a[0]"
   ]
  },
  {
   "cell_type": "code",
   "execution_count": null,
   "metadata": {},
   "outputs": [],
   "source": []
  }
 ],
 "metadata": {
  "kernelspec": {
   "display_name": "Python 3",
   "language": "python",
   "name": "python3"
  },
  "language_info": {
   "codemirror_mode": {
    "name": "ipython",
    "version": 3
   },
   "file_extension": ".py",
   "mimetype": "text/x-python",
   "name": "python",
   "nbconvert_exporter": "python",
   "pygments_lexer": "ipython3",
   "version": "3.8.5"
  }
 },
 "nbformat": 4,
 "nbformat_minor": 4
}
