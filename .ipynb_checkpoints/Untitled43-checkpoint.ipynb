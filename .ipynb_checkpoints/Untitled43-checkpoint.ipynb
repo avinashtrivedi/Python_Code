{
 "cells": [
  {
   "cell_type": "markdown",
   "metadata": {},
   "source": [
    "# Algorithm\n",
    "- take length and width as input \n",
    "- compute the area using area = length*width\n",
    "- compute fertiliser required using f = area/140\n",
    "- compute fertiliser recommended using r = f*1.01168\n",
    "- print required and Recommended amount of fertiliser"
   ]
  },
  {
   "cell_type": "markdown",
   "metadata": {},
   "source": [
    "# code"
   ]
  },
  {
   "cell_type": "code",
   "execution_count": 14,
   "metadata": {},
   "outputs": [],
   "source": [
    "def place_order(length,width): # length and width in meter\n",
    "    area = length * width # find the area in meter square\n",
    "    \n",
    "    # 1 litre is required for 140 m2 of land,hence total fertiliser needed is\n",
    "    fertiliser_req =  area/140\n",
    "    # amount of fertiliser recommended by supplier \n",
    "    recommended_amount = fertiliser_req * 1.01168\n",
    "    \n",
    "    print('Required amount of fertiliser by farmer:',fertiliser_req,'litre')\n",
    "    print('Recommended amount of fertiliser by supplier:',recommended_amount,'litre')"
   ]
  },
  {
   "cell_type": "code",
   "execution_count": 15,
   "metadata": {},
   "outputs": [
    {
     "name": "stdout",
     "output_type": "stream",
     "text": [
      "Required amount of fertiliser by farmer: 1.0 litre\n",
      "Recommended amount of fertiliser by supplier: 1.01168 litre\n"
     ]
    }
   ],
   "source": [
    "place_order(7,20)"
   ]
  },
  {
   "cell_type": "code",
   "execution_count": 16,
   "metadata": {},
   "outputs": [
    {
     "name": "stdout",
     "output_type": "stream",
     "text": [
      "Required amount of fertiliser by farmer: 1.0 litre\n",
      "Recommended amount of fertiliser by supplier: 1.01168 litre\n"
     ]
    }
   ],
   "source": [
    "place_order(14,10)"
   ]
  },
  {
   "cell_type": "code",
   "execution_count": 17,
   "metadata": {},
   "outputs": [
    {
     "name": "stdout",
     "output_type": "stream",
     "text": [
      "Required amount of fertiliser by farmer: 1.6285714285714286 litre\n",
      "Recommended amount of fertiliser by supplier: 1.6475931428571426 litre\n"
     ]
    }
   ],
   "source": [
    "place_order(12,19)"
   ]
  },
  {
   "cell_type": "code",
   "execution_count": null,
   "metadata": {},
   "outputs": [],
   "source": []
  }
 ],
 "metadata": {
  "kernelspec": {
   "display_name": "Python 3",
   "language": "python",
   "name": "python3"
  },
  "language_info": {
   "codemirror_mode": {
    "name": "ipython",
    "version": 3
   },
   "file_extension": ".py",
   "mimetype": "text/x-python",
   "name": "python",
   "nbconvert_exporter": "python",
   "pygments_lexer": "ipython3",
   "version": "3.8.5"
  }
 },
 "nbformat": 4,
 "nbformat_minor": 4
}
