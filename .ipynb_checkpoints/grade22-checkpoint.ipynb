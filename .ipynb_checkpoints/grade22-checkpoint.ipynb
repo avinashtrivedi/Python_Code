{
 "cells": [
  {
   "cell_type": "code",
   "execution_count": 1,
   "metadata": {},
   "outputs": [
    {
     "name": "stdout",
     "output_type": "stream",
     "text": [
      "What is your grade for Vocareum assignments 1-5? 5\n",
      "What is your grade for Vocareum assignments 1-10? 10\n",
      "What is your grade for Vocareum assignments 1-15? 15\n",
      "What is your grade for Vocareum assignments 1-20? 20\n",
      "What is your grade for Vocareum assignments 1-25? 25\n",
      "What is your grade for Vocareum assignments 1-30? 30\n",
      "What is your grade for Vocareum assignments 1-35? 35\n",
      "What is your grade for Vocareum assignments 1-40? 40\n",
      "What is your grade for Vocareum assignments 1-45? 0\n",
      "What is your grade for Vocareum assignments 1-50? 0\n",
      "What is your grade for quiz 1? 15\n",
      "What is your grade for quiz 2? 15\n",
      "What is your grade for quiz 3? 15\n",
      "What is your grade for quiz 4? 15\n",
      "What is your grade for quiz 5? 15\n",
      "What is your grade for quiz 6? 15\n",
      "What is your grade for quiz 7? 15\n",
      "What is your grade for quiz 8? 15\n",
      "What is your grade for quiz 9? 15\n",
      "What is your grade for quiz 10? 10\n",
      "What is your grade for quiz 1? 10\n",
      "What is your grade for quiz 2? 10\n",
      "What is your grade for quiz 3? 10\n",
      "What is your grade for quiz 4? 10\n",
      "What is your grade for quiz 5? 10\n",
      "What is your grade for quiz 6? 5\n",
      "What is your grade for quiz 7? 10\n",
      "What is your grade for quiz 8? 10\n",
      "What is your grade for quiz 9? 0\n",
      "What is your grade for quiz 10? 0\n",
      "What is your grade for mini-project 1? 10\n",
      "What is your grade for mini-project 2? 20\n",
      "What is your grade for mini-project 3? 20\n",
      "What is your grade for mini-project 4? 20\n",
      "What is your grade for mini-project 5? 20\n",
      "What is your grade for mini-project 6? 20\n",
      "What is your grade for mini-project 7? 20\n",
      "What is your grade for mini-project 8? 20\n",
      "What is your grade for mini-project 9? 0\n",
      "What is your grade for mini-project 10? 0\n",
      "What was your score on the final? 150\n",
      "\n",
      "CALCULATING YOUR SEMESTER GRADE...\n",
      "Assignments:  [5, 10, 15, 20, 25, 30, 35, 40, 0, 0]\n",
      "Quizzes:  [15, 15, 15, 15, 15, 15, 15, 15, 15, 10]\n",
      "Hand Traces:  [10, 10, 10, 10, 10, 5, 10, 10, 0, 0]\n",
      "Mini Projects:  [10, 20, 20, 20, 20, 20, 20, 20, 0, 0]\n",
      "Final:  150\n",
      "\n",
      "Total points earned: 700\n",
      "Total possible points: 975\n",
      "Percent grade: 71.79\n",
      "You earned C\n"
     ]
    }
   ],
   "source": [
    "# list to store Assignment marks\n",
    "Assignments =[]\n",
    "for i in range(1,11):\n",
    "    mygrade = int(input('What is your grade for Vocareum assignments 1-{}? '.format(5*i)))\n",
    "    Assignments.append(mygrade)\n",
    "\n",
    "# list to store Quiz marks\n",
    "Quizzes =[]\n",
    "for i in range(1,11):\n",
    "    mygrade = int(input('What is your grade for quiz {}? '.format(i)))\n",
    "    Quizzes.append(mygrade)\n",
    "\n",
    "# list to store Hand Traces marks\n",
    "HandTraces =[]\n",
    "for i in range(1,11):\n",
    "    mygrade = int(input('What is your grade for quiz {}? '.format(i)))\n",
    "    HandTraces.append(mygrade)\n",
    "    \n",
    "# list to store Mini Projects marks    \n",
    "MiniProjects =[]\n",
    "for i in range(1,11):\n",
    "    mygrade = int(input('What is your grade for mini-project {}? '.format(i)))\n",
    "    MiniProjects.append(mygrade)\n",
    "    \n",
    "Final = int(input('What was your score on the final? '))\n",
    "\n",
    "print('\\nCALCULATING YOUR SEMESTER GRADE...')\n",
    "print('Assignments: ',Assignments)\n",
    "print('Quizzes: ',Quizzes)\n",
    "print('Hand Traces: ',HandTraces)\n",
    "print('Mini Projects: ',MiniProjects)\n",
    "print('Final: ',Final)\n",
    "print()\n",
    "\n",
    "# computing total score\n",
    "total = sum(Assignments) + sum(Quizzes) + sum(HandTraces) + sum(MiniProjects) + Final\n",
    "print('Total points earned:',total)\n",
    "\n",
    "print('Total possible points:',975)\n",
    "\n",
    "# compute the percentage\n",
    "percent = round(total*100/975,2)\n",
    "\n",
    "print('Percent grade:',percent)\n",
    "\n",
    "# condition for grading\n",
    "if percent >= 94: \n",
    "    grade = \"A!\" \n",
    "elif percent >=90: \n",
    "    grade = \"A-!\" \n",
    "elif percent >=88: \n",
    "    grade = \"B+\" \n",
    "elif percent >=84: \n",
    "    grade = \"B\" \n",
    "elif percent >=80: \n",
    "    grade = \"B-\" \n",
    "elif percent >=78: \n",
    "    grade = \"C+\" \n",
    "elif percent >=70: \n",
    "    grade = \"C\" \n",
    "elif percent >=60: \n",
    "    grade = \"D\" \n",
    "else: \n",
    "    grade = \"F\"\n",
    "    \n",
    "print('You earned',grade)"
   ]
  },
  {
   "cell_type": "code",
   "execution_count": 3,
   "metadata": {},
   "outputs": [
    {
     "name": "stdout",
     "output_type": "stream",
     "text": [
      "You earned a(n) C\n"
     ]
    }
   ],
   "source": [
    "print('You earned a(n)',grade)"
   ]
  },
  {
   "cell_type": "code",
   "execution_count": 4,
   "metadata": {},
   "outputs": [
    {
     "name": "stdout",
     "output_type": "stream",
     "text": [
      "Assignments:  [5, 10, 15, 20, 25, 30, 35, 40, 0, 0]\n"
     ]
    }
   ],
   "source": [
    "print('Assignments: ',Assignments)"
   ]
  },
  {
   "cell_type": "code",
   "execution_count": null,
   "metadata": {},
   "outputs": [],
   "source": [
    "for i in Assignments:\n",
    "    "
   ]
  },
  {
   "cell_type": "code",
   "execution_count": 5,
   "metadata": {},
   "outputs": [
    {
     "name": "stdout",
     "output_type": "stream",
     "text": [
      "5 10 15 20 25 30 35 40 0 0\n"
     ]
    }
   ],
   "source": [
    "print(*Assignments)"
   ]
  },
  {
   "cell_type": "code",
   "execution_count": 13,
   "metadata": {},
   "outputs": [
    {
     "name": "stdout",
     "output_type": "stream",
     "text": [
      "15, 15, 15, 15, 15, 15, 15, 15, 15, 10\n"
     ]
    }
   ],
   "source": [
    "print(*Quizzes,sep=', ')"
   ]
  },
  {
   "cell_type": "code",
   "execution_count": 8,
   "metadata": {},
   "outputs": [
    {
     "name": "stdout",
     "output_type": "stream",
     "text": [
      "Assignments:  5 10 15 20 25 30 35 40 0 0\n",
      "Quizzes:  15 15 15 15 15 15 15 15 15 10\n",
      "Hand Traces:  10 10 10 10 10 5 10 10 0 0\n",
      "Mini Projects:  10 20 20 20 20 20 20 20 0 0\n",
      "Final:  150\n"
     ]
    }
   ],
   "source": [
    "print('Assignments: ',*Assignments)\n",
    "print('Quizzes: ',*Quizzes)\n",
    "print('Hand Traces: ',*HandTraces)\n",
    "print('Mini Projects: ',*MiniProjects)\n",
    "print('Final: ',Final)"
   ]
  },
  {
   "cell_type": "code",
   "execution_count": 25,
   "metadata": {},
   "outputs": [],
   "source": [
    "class PhonePlan:\n",
    "    \n",
    "    # constructor for PhonePlan class\n",
    "    # with default value of num_mins and num_messages as 0\n",
    "    \n",
    "    def __init__(self,num_mins=0,num_messages=0):\n",
    "        self.num_mins = num_mins\n",
    "        self.num_messages = num_messages\n",
    "    \n",
    "    def print_plan(self):\n",
    "        print('Mins:',self.num_mins,end=' ')\n",
    "        print('Messages:',self.num_messages)"
   ]
  },
  {
   "cell_type": "code",
   "execution_count": 26,
   "metadata": {},
   "outputs": [
    {
     "name": "stdout",
     "output_type": "stream",
     "text": [
      "200\n",
      "300\n",
      "500\n",
      "My plan... Mins: 200 Messages: 300\n",
      "Dad's plan... Mins: 0 Messages: 0\n",
      "Mom's plan... Mins: 500 Messages: 0\n"
     ]
    }
   ],
   "source": [
    "my_plan = PhonePlan(int(input()),int(input()))\n",
    "dads_plan = PhonePlan()\n",
    "moms_plan = PhonePlan(int(input()))\n",
    "\n",
    "print('My plan...',end=' ')\n",
    "my_plan.print_plan()\n",
    "\n",
    "print('Dad\\'s plan...',end=' ')\n",
    "dads_plan.print_plan()\n",
    "\n",
    "print('Mom\\'s plan...',end=' ')\n",
    "moms_plan.print_plan()"
   ]
  },
  {
   "cell_type": "code",
   "execution_count": null,
   "metadata": {},
   "outputs": [],
   "source": []
  }
 ],
 "metadata": {
  "kernelspec": {
   "display_name": "Python 3",
   "language": "python",
   "name": "python3"
  },
  "language_info": {
   "codemirror_mode": {
    "name": "ipython",
    "version": 3
   },
   "file_extension": ".py",
   "mimetype": "text/x-python",
   "name": "python",
   "nbconvert_exporter": "python",
   "pygments_lexer": "ipython3",
   "version": "3.8.5"
  }
 },
 "nbformat": 4,
 "nbformat_minor": 4
}
