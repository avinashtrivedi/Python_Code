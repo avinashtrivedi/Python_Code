{
 "cells": [
  {
   "cell_type": "markdown",
   "metadata": {},
   "source": [
    "# Python Code"
   ]
  },
  {
   "cell_type": "markdown",
   "metadata": {},
   "source": [
    "<h3 style=\"background-color:yellow;\">Generate 10000 random numbers that are normally distributed with μ=5.0 and σ=2.0. Then, calculate the root mean square (RMS) of these random numbers.\n",
    "\n",
    "Need help with python </h3>"
   ]
  },
  {
   "cell_type": "code",
   "execution_count": 1,
   "metadata": {},
   "outputs": [],
   "source": [
    "#  Normal distribution is also known as the Gaussian distribution\n",
    "#  μ (mu) is the mean, and σ (sigma) is the standard deviation\n",
    "\n",
    "import numpy as np"
   ]
  },
  {
   "cell_type": "code",
   "execution_count": 2,
   "metadata": {},
   "outputs": [],
   "source": [
    "# np.random.normal will return random samples from normal distribution\n",
    "\n",
    "s = np.random.normal(loc=5, scale =2, size=1000) # loc is known as mean and scale is known as Standard deviation"
   ]
  },
  {
   "cell_type": "code",
   "execution_count": 3,
   "metadata": {},
   "outputs": [
    {
     "data": {
      "text/plain": [
       "5.370015985438781"
      ]
     },
     "execution_count": 3,
     "metadata": {},
     "output_type": "execute_result"
    }
   ],
   "source": [
    "# mean(): to find the mean; \n",
    "# square(): to find the square of every element\n",
    "# sqrt() : to find the square root\n",
    "# RMS : work in reverse direction;i.e first find Square then Mean and finally Square Root\n",
    "\n",
    "np.sqrt(np.mean(np.square(s)))"
   ]
  },
  {
   "cell_type": "code",
   "execution_count": 43,
   "metadata": {},
   "outputs": [
    {
     "name": "stdout",
     "output_type": "stream",
     "text": [
      "enter the information20000 .075 60 5\n",
      "-----------------------------------------------------------\n",
      "| Payment |Amount | Interest | Principal |Loan Balance|\n",
      "------------------------------------------------------------\n",
      "|1        |400.76   | 125.0      | 275.76     | 19724.24  |\n",
      "------------------------------------------------------------\n",
      "|2        |400.76   | 123.28     | 277.48     | 19446.76  |\n",
      "------------------------------------------------------------\n",
      "|3        |400.76   | 121.54     | 279.22     | 19167.54  |\n",
      "------------------------------------------------------------\n",
      "|4        |400.76   | 119.8      | 280.96     | 18886.58  |\n",
      "------------------------------------------------------------\n",
      "|5        |400.76   | 118.04     | 282.72     | 18603.86  |\n",
      "------------------------------------------------------------\n"
     ]
    }
   ],
   "source": [
    "def main():\n",
    "        loan_Amnt, interest_Rate, months, lines = input(\"enter the information \").split()  # taking multipl inputs from the user and splitting them\n",
    "        interest_Rate = float(interest_Rate)  # type conversion\n",
    "        loan_Amnt = int(loan_Amnt)\n",
    "        months = int(months)\n",
    "        lines = int(lines)\n",
    "        interest_Rate /= 12  # changing interest_Rate from annual to monthly\n",
    "        amount = loan_Amnt * (interest_Rate * pow(1 + interest_Rate, months)) / (\n",
    "                    pow(1 + interest_Rate, months) - 1)  # calculating amount\n",
    "        dic = {}  # empty dictionary used to print the output in tabular form\n",
    "        index = 1\n",
    "        loan_Balance = loan_Amnt\n",
    "        print(\"-----------------------------------------------------------\")\n",
    "        print(\"| Payment |Amount | Interest | Principal |Loan Balance|\")\n",
    "        print(\"------------------------------------------------------------\")\n",
    "        while lines > 0:  # loop for line times\n",
    "            l = []  # empty list\n",
    "            interest = interest_Rate * loan_Balance  # calualting the interest\n",
    "            principal = amount - interest\n",
    "            loan_Balance = loan_Balance - principal\n",
    "            l.append(round(amount, 2))  # adding the values to list\n",
    "            l.append(round(interest, 2))\n",
    "            l.append(round(principal, 2))\n",
    "            l.append(round(loan_Balance, 2))\n",
    "            dic[index] = l  # adding the list to dictionary\n",
    "            index = index + 1\n",
    "            lines = lines - 1\n",
    "        for k, v in dic.items():  # for every item in dictionary\n",
    "            am, inte, prin, bal = v  # getting the values in list\n",
    "            print(\"|{:<9}|{:<9}| {:<11}| {:<11}| {:<10}|\".format(k, am, inte, prin, bal))  # printing the values\n",
    "            print(\"------------------------------------------------------------\")\n",
    "\n",
    "if __name__ == \"__main__\":\n",
    "    main()"
   ]
  },
  {
   "cell_type": "code",
   "execution_count": 6,
   "metadata": {},
   "outputs": [],
   "source": [
    "p =20000\n",
    "r = .075/12\n",
    "n = 60"
   ]
  },
  {
   "cell_type": "code",
   "execution_count": 18,
   "metadata": {},
   "outputs": [],
   "source": [
    "interest = r*20000"
   ]
  },
  {
   "cell_type": "code",
   "execution_count": 22,
   "metadata": {},
   "outputs": [
    {
     "data": {
      "text/plain": [
       "0.0062499999999999995"
      ]
     },
     "execution_count": 22,
     "metadata": {},
     "output_type": "execute_result"
    }
   ],
   "source": [
    "r"
   ]
  },
  {
   "cell_type": "code",
   "execution_count": 19,
   "metadata": {},
   "outputs": [
    {
     "data": {
      "text/plain": [
       "124.99999999999999"
      ]
     },
     "execution_count": 19,
     "metadata": {},
     "output_type": "execute_result"
    }
   ],
   "source": [
    "interest"
   ]
  },
  {
   "cell_type": "code",
   "execution_count": 11,
   "metadata": {},
   "outputs": [],
   "source": [
    "t=p*r*(1+r)**n/((1+r)**n - 1)"
   ]
  },
  {
   "cell_type": "code",
   "execution_count": 12,
   "metadata": {},
   "outputs": [
    {
     "data": {
      "text/plain": [
       "400.76"
      ]
     },
     "execution_count": 12,
     "metadata": {},
     "output_type": "execute_result"
    }
   ],
   "source": [
    "round(t,2)"
   ]
  },
  {
   "cell_type": "code",
   "execution_count": 16,
   "metadata": {},
   "outputs": [
    {
     "data": {
      "text/plain": [
       "19599.24102808753"
      ]
     },
     "execution_count": 16,
     "metadata": {},
     "output_type": "execute_result"
    }
   ],
   "source": [
    "(20000 - t)"
   ]
  },
  {
   "cell_type": "code",
   "execution_count": 20,
   "metadata": {},
   "outputs": [
    {
     "data": {
      "text/plain": [
       "275.7589719124706"
      ]
     },
     "execution_count": 20,
     "metadata": {},
     "output_type": "execute_result"
    }
   ],
   "source": [
    "t - interest #principle"
   ]
  },
  {
   "cell_type": "code",
   "execution_count": 21,
   "metadata": {},
   "outputs": [
    {
     "data": {
      "text/plain": [
       "19724.24102808753"
      ]
     },
     "execution_count": 21,
     "metadata": {},
     "output_type": "execute_result"
    }
   ],
   "source": [
    "20000- (t - interest) # principle"
   ]
  },
  {
   "cell_type": "code",
   "execution_count": 23,
   "metadata": {},
   "outputs": [
    {
     "data": {
      "text/plain": [
       "123.2765"
      ]
     },
     "execution_count": 23,
     "metadata": {},
     "output_type": "execute_result"
    }
   ],
   "source": [
    "19724.24*r"
   ]
  },
  {
   "cell_type": "code",
   "execution_count": null,
   "metadata": {},
   "outputs": [],
   "source": [
    "def main():\n",
    "        loan_Amnt, interest_Rate, months, lines = input(\n",
    "            \"enter the information\").split()  # taking multipl inputs from the user and splitting them\n",
    "        interest_Rate = float(interest_Rate)  # type conversion\n",
    "        loan_Amnt = int(loan_Amnt)\n",
    "        months = int(months)\n",
    "        lines = int(lines)\n",
    "        interest_Rate /= 12  # changing interest_Rate from annual to monthly\n",
    "        amount = loan_Amnt * (interest_Rate * pow(1 + interest_Rate, months)) / (\n",
    "                    pow(1 + interest_Rate, months) - 1)  # calculating amount\n",
    "        dic = {}  # empty dictionary used to print the output in tabular form\n",
    "        index = 1\n",
    "        loan_Balance = loan_Amnt\n",
    "        print(\"--------------------------------------------------------------\")\n",
    "        print(\"| Payment |Amount | Interest | Principal |Loan Balance\")\n",
    "        print(\"--------------------------------------------------------------\")\n",
    "        while lines > 0:  # loop for line times\n",
    "            l = []  # empty list\n",
    "        interest = interest_Rate * loan_Balance  # calualting the interest\n",
    "        principal = amount - interest\n",
    "        loan_Balance = loan_Balance - principal\n",
    "        l.append(round(amount, 2))  # adding the values to list\n",
    "        l.append(round(interest, 2))\n",
    "        l.append(round(principal, 2))\n",
    "        l.append(round(loan_Balance, 2))\n",
    "        dic[index] = l  # adding the list to dictionary\n",
    "        index = index + 1\n",
    "        lines = lines - 1\n",
    "        for k, v in dic.items():  # for every item in dictionary\n",
    "            am, inte, prin, bal = v  # getting the values in list\n",
    "        print(\"|{:<9}|{:<9}| {:<11}| {:<11}| {:<10}|\".format(k, am, inte, prin, bal))  # printing the values\n",
    "\n",
    "if __name__ == \"__main__\":\n",
    "    main()"
   ]
  },
  {
   "cell_type": "code",
   "execution_count": 41,
   "metadata": {},
   "outputs": [
    {
     "name": "stdout",
     "output_type": "stream",
     "text": [
      "hello:<10 hffello:{10}\n"
     ]
    }
   ],
   "source": [
    "print(f\"{'hello:<10'} {'hffello:{10}'}\")"
   ]
  },
  {
   "cell_type": "code",
   "execution_count": null,
   "metadata": {},
   "outputs": [],
   "source": []
  }
 ],
 "metadata": {
  "kernelspec": {
   "display_name": "Python 3",
   "language": "python",
   "name": "python3"
  },
  "language_info": {
   "codemirror_mode": {
    "name": "ipython",
    "version": 3
   },
   "file_extension": ".py",
   "mimetype": "text/x-python",
   "name": "python",
   "nbconvert_exporter": "python",
   "pygments_lexer": "ipython3",
   "version": "3.8.5"
  }
 },
 "nbformat": 4,
 "nbformat_minor": 4
}
