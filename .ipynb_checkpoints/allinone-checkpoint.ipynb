{
 "cells": [
  {
   "cell_type": "markdown",
   "metadata": {},
   "source": [
    "# Q1"
   ]
  },
  {
   "cell_type": "code",
   "execution_count": 19,
   "metadata": {},
   "outputs": [],
   "source": [
    "# create a menu list\n",
    "# you can modify this list if required.\n",
    "# To create a list,just surround the elements by []\n",
    "menu_list = ['add','sub','mult','div']"
   ]
  },
  {
   "cell_type": "markdown",
   "metadata": {},
   "source": [
    "# Q2"
   ]
  },
  {
   "cell_type": "code",
   "execution_count": 20,
   "metadata": {},
   "outputs": [],
   "source": [
    "def allInOne(n1,n2):\n",
    "    add = n1+n2\n",
    "    sub = n1-n2\n",
    "    mult = n1*n2\n",
    "    div = n1/n2\n",
    "    mydict = {'add':add,\n",
    "              'sub':sub,\n",
    "             'mult':mult,\n",
    "             'div':div}\n",
    "    return mydict"
   ]
  },
  {
   "cell_type": "code",
   "execution_count": 21,
   "metadata": {},
   "outputs": [
    {
     "data": {
      "text/plain": [
       "{'add': 7, 'sub': 3, 'mult': 10, 'div': 2.5}"
      ]
     },
     "execution_count": 21,
     "metadata": {},
     "output_type": "execute_result"
    }
   ],
   "source": [
    "# call allInOne function.\n",
    "res = allInOne(5,2)\n",
    "res"
   ]
  },
  {
   "cell_type": "code",
   "execution_count": 22,
   "metadata": {},
   "outputs": [
    {
     "name": "stdout",
     "output_type": "stream",
     "text": [
      "5+2 = 7\n",
      "5-2 = 3\n",
      "5*2 = 10\n",
      "5/2 = 2.5\n"
     ]
    }
   ],
   "source": [
    "# print the operations with result.\n",
    "for i in menu_list:\n",
    "    if i=='add':\n",
    "        print('5+2 =',res[i])\n",
    "    elif i=='sub':\n",
    "        print('5-2 =',res[i])\n",
    "    elif i=='mult':\n",
    "        print('5*2 =',res[i])\n",
    "    elif i=='div':\n",
    "        print('5/2 =',res[i])"
   ]
  },
  {
   "cell_type": "code",
   "execution_count": null,
   "metadata": {},
   "outputs": [],
   "source": []
  },
  {
   "cell_type": "code",
   "execution_count": null,
   "metadata": {},
   "outputs": [],
   "source": []
  }
 ],
 "metadata": {
  "kernelspec": {
   "display_name": "Python 3",
   "language": "python",
   "name": "python3"
  },
  "language_info": {
   "codemirror_mode": {
    "name": "ipython",
    "version": 3
   },
   "file_extension": ".py",
   "mimetype": "text/x-python",
   "name": "python",
   "nbconvert_exporter": "python",
   "pygments_lexer": "ipython3",
   "version": "3.8.5"
  }
 },
 "nbformat": 4,
 "nbformat_minor": 4
}
