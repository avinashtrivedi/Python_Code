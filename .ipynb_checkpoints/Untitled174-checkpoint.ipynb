{
 "cells": [
  {
   "cell_type": "code",
   "execution_count": 1,
   "metadata": {},
   "outputs": [
    {
     "name": "stdout",
     "output_type": "stream",
     "text": [
      "[['a' 'b' 'c']\n",
      " ['d' 'e' 'e']\n",
      " ['f' 'g' 'h']\n",
      " ['i' 'j' 'k']]\n"
     ]
    }
   ],
   "source": [
    "# import the library to convert list into matrix or ndarray i.e. n-Dimentional array\n",
    "import numpy as np\n",
    "\n",
    "matrix = np.array([['a', 'b', 'c'], ['d', 'e', 'e'], ['f', 'g', 'h'], ['i', 'j', 'k']])\n",
    "print(matrix)"
   ]
  },
  {
   "cell_type": "code",
   "execution_count": 2,
   "metadata": {},
   "outputs": [],
   "source": [
    "# Transpose a matrix using list comprehension.\n",
    "transpose_matrix = [[matrix[j][i] for j in range(len(matrix))] for i in range(len(matrix[0]))]"
   ]
  },
  {
   "cell_type": "code",
   "execution_count": 3,
   "metadata": {},
   "outputs": [
    {
     "name": "stdout",
     "output_type": "stream",
     "text": [
      "[['a', 'd', 'f', 'i'], ['b', 'e', 'g', 'j'], ['c', 'e', 'h', 'k']]\n"
     ]
    }
   ],
   "source": [
    "print(transpose_matrix)"
   ]
  },
  {
   "cell_type": "code",
   "execution_count": 4,
   "metadata": {},
   "outputs": [
    {
     "name": "stdout",
     "output_type": "stream",
     "text": [
      "[['a' 'd' 'f' 'i']\n",
      " ['b' 'e' 'g' 'j']\n",
      " ['c' 'e' 'h' 'k']]\n"
     ]
    }
   ],
   "source": [
    "# display in matrix form\n",
    "print(np.array(transpose_matrix))"
   ]
  },
  {
   "cell_type": "code",
   "execution_count": null,
   "metadata": {},
   "outputs": [],
   "source": []
  }
 ],
 "metadata": {
  "kernelspec": {
   "display_name": "Python 3",
   "language": "python",
   "name": "python3"
  },
  "language_info": {
   "codemirror_mode": {
    "name": "ipython",
    "version": 3
   },
   "file_extension": ".py",
   "mimetype": "text/x-python",
   "name": "python",
   "nbconvert_exporter": "python",
   "pygments_lexer": "ipython3",
   "version": "3.8.5"
  }
 },
 "nbformat": 4,
 "nbformat_minor": 4
}
