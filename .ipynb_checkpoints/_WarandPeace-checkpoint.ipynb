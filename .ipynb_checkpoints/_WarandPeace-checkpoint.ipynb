{
 "cells": [
  {
   "cell_type": "code",
   "execution_count": 1,
   "metadata": {},
   "outputs": [],
   "source": [
    "def vc_counter(fname):\n",
    "    \n",
    "    # read the file\n",
    "    with open(fname,'r',encoding=\"utf8\") as file:\n",
    "        data = file.read().replace('\\n', '')\n",
    "    \n",
    "    # get consonants and vowels\n",
    "    alphabets  = 'ABCDEFGHIJKLMNOPQRSTUVWXYZ'\n",
    "    vowels  = 'AEIOU'\n",
    "    consonants  = set(alphabets) - set(vowels)\n",
    "    \n",
    "    # dictionary initialized with number of vowels and \n",
    "    # consonants as 0\n",
    "    mydict = {'consonants':0,'vowels':0}\n",
    "    \n",
    "    # loop through the data character by character\n",
    "    for char in data:\n",
    "        \n",
    "        # if char is consonant then increase the value of consonants by 1\n",
    "        if char.upper() in consonants:\n",
    "            mydict['consonants'] = mydict['consonants'] + 1\n",
    "            \n",
    "        # if char is vowel then increase the value of vowel by 1 \n",
    "        elif char.upper() in vowels:\n",
    "            mydict['vowels'] = mydict['vowels'] + 1\n",
    "    \n",
    "    # return dictionary\n",
    "    return mydict"
   ]
  },
  {
   "cell_type": "code",
   "execution_count": 2,
   "metadata": {},
   "outputs": [
    {
     "name": "stdout",
     "output_type": "stream",
     "text": [
      "Enter a text file: invalid.txt\n",
      "Wrong file,Please provide a valid file.\n",
      "\n",
      "Enter a text file: invalid.abc\n",
      "Wrong file,Please provide a valid file.\n",
      "\n",
      "Enter a text file: 2600-0.txt\n",
      "Total # of vowels in text file: 1578565\n",
      "Total # of consonants in text file: 943066\n"
     ]
    }
   ],
   "source": [
    "# starter code\n",
    "# download the txt file from https://www.gutenberg.org/files/2600/2600-0.txt\n",
    "# keep it in current working directory.\n",
    "\n",
    "if __name__ == \"__main__\":\n",
    "    while True:\n",
    "        fname = input('Enter a text file: ')\n",
    "        try:\n",
    "            dict_count = vc_counter(fname)\n",
    "            print('Total # of vowels in text file:',dict_count['consonants'])\n",
    "            print('Total # of consonants in text file:',dict_count['vowels'])\n",
    "            break\n",
    "        except:\n",
    "            print('Wrong file,Please provide a valid file.\\n')"
   ]
  },
  {
   "cell_type": "code",
   "execution_count": null,
   "metadata": {},
   "outputs": [],
   "source": []
  }
 ],
 "metadata": {
  "kernelspec": {
   "display_name": "Python 3",
   "language": "python",
   "name": "python3"
  },
  "language_info": {
   "codemirror_mode": {
    "name": "ipython",
    "version": 3
   },
   "file_extension": ".py",
   "mimetype": "text/x-python",
   "name": "python",
   "nbconvert_exporter": "python",
   "pygments_lexer": "ipython3",
   "version": "3.8.5"
  }
 },
 "nbformat": 4,
 "nbformat_minor": 4
}
