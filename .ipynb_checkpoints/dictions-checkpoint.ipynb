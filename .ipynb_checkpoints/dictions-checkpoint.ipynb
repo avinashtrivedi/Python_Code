{
 "cells": [
  {
   "cell_type": "markdown",
   "metadata": {},
   "source": [
    "# Q.1"
   ]
  },
  {
   "cell_type": "code",
   "execution_count": 1,
   "metadata": {},
   "outputs": [
    {
     "data": {
      "text/plain": [
       "{101: [1, 3, '14-03-2020', '25-03-2020', 'Area1', 'Area6', 'Delivered', 198],\n",
       " 102: [4, 1, '18-06-2020', '09-07-2020', 'Area2', 'Area4', 'Delivered', 275],\n",
       " 103: [2, 3, '01-12-2020', 'Null', 'Area5', 'Area1', 'In-Transit', 200],\n",
       " 104: [1, 5, '23-06-2020', '25-06-2020', 'Area1', 'Area4', 'Delivered', 314],\n",
       " 105: [3, 4, '29-08-2020', '10-09-2020', 'Area5', 'Area3', 'Delivered', 375],\n",
       " 106: [5, 2, '28-06-2020', 'Null', 'Area3', 'Area1', 'In-Transit', 270]}"
      ]
     },
     "execution_count": 1,
     "metadata": {},
     "output_type": "execute_result"
    }
   ],
   "source": [
    "# create a dictionary\n",
    "# It is a collection of key and value pairs separated by :\n",
    "# Here key is Shipment id\n",
    "# and value is a list of other shipment details like sender,receiver..etc\n",
    "shipment_dictionary = {101:[1,3,'14-03-2020','25-03-2020','Area1','Area6','Delivered',198],\n",
    "                       102:[4,1,'18-06-2020','09-07-2020','Area2','Area4','Delivered',275],\n",
    "                       103:[2,3,'01-12-2020','Null','Area5','Area1','In-Transit',200],\n",
    "                       104:[1,5,'23-06-2020','25-06-2020','Area1','Area4','Delivered',314],\n",
    "                       105:[3,4,'29-08-2020','10-09-2020','Area5','Area3','Delivered',375],\n",
    "                       106:[5,2,'28-06-2020','Null','Area3','Area1','In-Transit',270]\n",
    "}\n",
    "shipment_dictionary"
   ]
  },
  {
   "cell_type": "markdown",
   "metadata": {},
   "source": [
    "# Q.2"
   ]
  },
  {
   "cell_type": "code",
   "execution_count": 2,
   "metadata": {},
   "outputs": [
    {
     "data": {
      "text/plain": [
       "{1: 'Phillip', 2: 'Omega lll', 3: 'Ramya', 4: 'Romesh', 5: 'John'}"
      ]
     },
     "execution_count": 2,
     "metadata": {},
     "output_type": "execute_result"
    }
   ],
   "source": [
    "# In this dictionary,key is client id and value is client name\n",
    "client_dictionary = {1:'Phillip',\n",
    "                     2:'Omega lll',\n",
    "                     3:'Ramya',\n",
    "                     4:'Romesh',\n",
    "                     5:'John'\n",
    "}\n",
    "client_dictionary"
   ]
  },
  {
   "cell_type": "markdown",
   "metadata": {},
   "source": [
    "# Dictionary Basics\n",
    "Reference: https://github.com/Pierian-Data/Complete-Python-3-Bootcamp/blob/master/00-Python%20Object%20and%20Data%20Structure%20Basics/05-Dictionaries.ipynb"
   ]
  },
  {
   "cell_type": "code",
   "execution_count": 3,
   "metadata": {},
   "outputs": [
    {
     "data": {
      "text/plain": [
       "{1: 'Phillip', 2: 'Omega lll', 3: 'Ramya', 4: 'Romesh', 5: 'John'}"
      ]
     },
     "execution_count": 3,
     "metadata": {},
     "output_type": "execute_result"
    }
   ],
   "source": [
    "client_dictionary # display the whole dictionary"
   ]
  },
  {
   "cell_type": "code",
   "execution_count": 4,
   "metadata": {},
   "outputs": [
    {
     "data": {
      "text/plain": [
       "'Phillip'"
      ]
     },
     "execution_count": 4,
     "metadata": {},
     "output_type": "execute_result"
    }
   ],
   "source": [
    "# you can access element using key\n",
    "client_dictionary[1]"
   ]
  },
  {
   "cell_type": "code",
   "execution_count": 5,
   "metadata": {},
   "outputs": [
    {
     "data": {
      "text/plain": [
       "'Omega lll'"
      ]
     },
     "execution_count": 5,
     "metadata": {},
     "output_type": "execute_result"
    }
   ],
   "source": [
    "client_dictionary[2]"
   ]
  },
  {
   "cell_type": "markdown",
   "metadata": {},
   "source": [
    "- access sender and receiver from shipment_dictionary\n",
    "- suppose Shipment_id=101"
   ]
  },
  {
   "cell_type": "code",
   "execution_count": 6,
   "metadata": {},
   "outputs": [
    {
     "data": {
      "text/plain": [
       "[1, 3, '14-03-2020', '25-03-2020', 'Area1', 'Area6', 'Delivered', 198]"
      ]
     },
     "execution_count": 6,
     "metadata": {},
     "output_type": "execute_result"
    }
   ],
   "source": [
    "shipment_dictionary[101] # display corresponding shipment details i.e dictionary value"
   ]
  },
  {
   "cell_type": "code",
   "execution_count": 7,
   "metadata": {},
   "outputs": [
    {
     "data": {
      "text/plain": [
       "1"
      ]
     },
     "execution_count": 7,
     "metadata": {},
     "output_type": "execute_result"
    }
   ],
   "source": [
    "# As shipment_dictionary[101] is a list, Its element can be accessed by index\n",
    "shipment_dictionary[101][0] # sender "
   ]
  },
  {
   "cell_type": "code",
   "execution_count": 8,
   "metadata": {},
   "outputs": [
    {
     "data": {
      "text/plain": [
       "3"
      ]
     },
     "execution_count": 8,
     "metadata": {},
     "output_type": "execute_result"
    }
   ],
   "source": [
    "shipment_dictionary[101][1] # receiver"
   ]
  },
  {
   "cell_type": "code",
   "execution_count": 9,
   "metadata": {},
   "outputs": [
    {
     "data": {
      "text/plain": [
       "'Delivered'"
      ]
     },
     "execution_count": 9,
     "metadata": {},
     "output_type": "execute_result"
    }
   ],
   "source": [
    "shipment_dictionary[101][-2] # Delivery status, 2nd last element"
   ]
  },
  {
   "cell_type": "code",
   "execution_count": 10,
   "metadata": {},
   "outputs": [
    {
     "name": "stdout",
     "output_type": "stream",
     "text": [
      "101 ---------> [1, 3, '14-03-2020', '25-03-2020', 'Area1', 'Area6', 'Delivered', 198]\n",
      "102 ---------> [4, 1, '18-06-2020', '09-07-2020', 'Area2', 'Area4', 'Delivered', 275]\n",
      "103 ---------> [2, 3, '01-12-2020', 'Null', 'Area5', 'Area1', 'In-Transit', 200]\n",
      "104 ---------> [1, 5, '23-06-2020', '25-06-2020', 'Area1', 'Area4', 'Delivered', 314]\n",
      "105 ---------> [3, 4, '29-08-2020', '10-09-2020', 'Area5', 'Area3', 'Delivered', 375]\n",
      "106 ---------> [5, 2, '28-06-2020', 'Null', 'Area3', 'Area1', 'In-Transit', 270]\n"
     ]
    }
   ],
   "source": [
    "# access key and value in for loop\n",
    "for key,value in shipment_dictionary.items():\n",
    "    print(key,'--------->',value)"
   ]
  },
  {
   "cell_type": "code",
   "execution_count": 11,
   "metadata": {},
   "outputs": [
    {
     "name": "stdout",
     "output_type": "stream",
     "text": [
      "Sender:- Phillip ******* Receiver:-  Ramya\n",
      "Sender:- Romesh ******* Receiver:-  Phillip\n",
      "Sender:- Omega lll ******* Receiver:-  Ramya\n",
      "Sender:- Phillip ******* Receiver:-  John\n",
      "Sender:- Ramya ******* Receiver:-  Romesh\n",
      "Sender:- John ******* Receiver:-  Omega lll\n"
     ]
    }
   ],
   "source": [
    "# this is how you can access the sender and receiver name \n",
    "for key,value in shipment_dictionary.items():\n",
    "    print('Sender:-',client_dictionary[value[0]],'*******','Receiver:- ',client_dictionary[value[1]])"
   ]
  },
  {
   "cell_type": "markdown",
   "metadata": {},
   "source": [
    "# Q.3 "
   ]
  },
  {
   "cell_type": "code",
   "execution_count": 12,
   "metadata": {},
   "outputs": [],
   "source": [
    "# {key:[senderName,receiverName]+[all remaining details]}\n",
    "shipment_dictionary={k:[client_dictionary[v[0]],client_dictionary[v[1]]]+v[2:] for k,v in shipment_dictionary.items()}"
   ]
  },
  {
   "cell_type": "code",
   "execution_count": 13,
   "metadata": {},
   "outputs": [
    {
     "data": {
      "text/plain": [
       "{101: ['Phillip',\n",
       "  'Ramya',\n",
       "  '14-03-2020',\n",
       "  '25-03-2020',\n",
       "  'Area1',\n",
       "  'Area6',\n",
       "  'Delivered',\n",
       "  198],\n",
       " 102: ['Romesh',\n",
       "  'Phillip',\n",
       "  '18-06-2020',\n",
       "  '09-07-2020',\n",
       "  'Area2',\n",
       "  'Area4',\n",
       "  'Delivered',\n",
       "  275],\n",
       " 103: ['Omega lll',\n",
       "  'Ramya',\n",
       "  '01-12-2020',\n",
       "  'Null',\n",
       "  'Area5',\n",
       "  'Area1',\n",
       "  'In-Transit',\n",
       "  200],\n",
       " 104: ['Phillip',\n",
       "  'John',\n",
       "  '23-06-2020',\n",
       "  '25-06-2020',\n",
       "  'Area1',\n",
       "  'Area4',\n",
       "  'Delivered',\n",
       "  314],\n",
       " 105: ['Ramya',\n",
       "  'Romesh',\n",
       "  '29-08-2020',\n",
       "  '10-09-2020',\n",
       "  'Area5',\n",
       "  'Area3',\n",
       "  'Delivered',\n",
       "  375],\n",
       " 106: ['John',\n",
       "  'Omega lll',\n",
       "  '28-06-2020',\n",
       "  'Null',\n",
       "  'Area3',\n",
       "  'Area1',\n",
       "  'In-Transit',\n",
       "  270]}"
      ]
     },
     "execution_count": 13,
     "metadata": {},
     "output_type": "execute_result"
    }
   ],
   "source": [
    "shipment_dictionary"
   ]
  },
  {
   "cell_type": "markdown",
   "metadata": {},
   "source": [
    "# Q.4"
   ]
  },
  {
   "cell_type": "code",
   "execution_count": 14,
   "metadata": {},
   "outputs": [
    {
     "name": "stdout",
     "output_type": "stream",
     "text": [
      "Shipment_id  Sender     Receiver   Start_date   Delivery_date        Sender_Loc   Receiver_Loc Delivery_Status Shipping_cost   \n",
      "****************************************************************************************************************************\n",
      "101          Phillip    Ramya      14-03-2020   25-03-2020           Area1        Area6        Delivered       198             \n",
      "104          Phillip    John       23-06-2020   25-06-2020           Area1        Area4        Delivered       314             \n"
     ]
    }
   ],
   "source": [
    "# print with proper formatting/spacing\n",
    "print(f\"{'Shipment_id' :<{12}} {'Sender' :<{ 10}} {'Receiver':<{10}} {'Start_date' :<{ 12}} {'Delivery_date' :<{ 12}}\\\n",
    "        {'Sender_Loc' :<{ 12}} {'Receiver_Loc' :<{ 12}} {'Delivery_Status' :<{ 15}} {'Shipping_cost' :<{ 15}} \")\n",
    "print(124*'*') # print * 124 times\n",
    "for key,value in shipment_dictionary.items(): \n",
    "    if value[0]=='Phillip': # sender\n",
    "        print(f\"{key :<{12}} {value[0]:<{ 10}} {value[1]:<{10}} {value[2]:<{ 12}} {value[3] :<{ 12}} \\\n",
    "        {value[4] :<{ 12}} {value[5] :<{ 12}} {value[6] :<{ 15}} {value[7] :<{ 15}} \")"
   ]
  },
  {
   "cell_type": "markdown",
   "metadata": {},
   "source": [
    "# Q.5"
   ]
  },
  {
   "cell_type": "code",
   "execution_count": 15,
   "metadata": {},
   "outputs": [
    {
     "name": "stdout",
     "output_type": "stream",
     "text": [
      "Shipment_id  Sender     Receiver   Start_date   Delivery_date        Sender_Loc   Receiver_Loc Delivery_Status Shipping_cost   \n",
      "****************************************************************************************************************************\n",
      "101          Phillip    Ramya      14-03-2020   25-03-2020           Area1        Area6        Delivered       198             \n",
      "103          Omega lll  Ramya      01-12-2020   Null                 Area5        Area1        In-Transit      200             \n"
     ]
    }
   ],
   "source": [
    "print(f\"{'Shipment_id' :<{12}} {'Sender' :<{ 10}} {'Receiver':<{10}} {'Start_date' :<{ 12}} {'Delivery_date' :<{ 12}}\\\n",
    "        {'Sender_Loc' :<{ 12}} {'Receiver_Loc' :<{ 12}} {'Delivery_Status' :<{ 15}} {'Shipping_cost' :<{ 15}} \")\n",
    "print(124*'*')\n",
    "for key,value in shipment_dictionary.items(): \n",
    "    if value[1]=='Ramya': # receiver\n",
    "        print(f\"{key :<{12}} {value[0]:<{ 10}} {value[1]:<{10}} {value[2]:<{ 12}} {value[3] :<{ 12}} \\\n",
    "        {value[4] :<{ 12}} {value[5] :<{ 12}} {value[6] :<{ 15}} {value[7] :<{ 15}} \")"
   ]
  },
  {
   "cell_type": "markdown",
   "metadata": {},
   "source": [
    "# Q.6"
   ]
  },
  {
   "cell_type": "code",
   "execution_count": 16,
   "metadata": {},
   "outputs": [
    {
     "name": "stdout",
     "output_type": "stream",
     "text": [
      "Shipment_id  Sender     Receiver   Start_date   Delivery_date      Sender_Loc   Receiver_Loc Delivery_Status Shipping_cost  \n",
      "****************************************************************************************************************************\n",
      "103          Omega lll  Ramya      01-12-2020   Null                Area5        Area1        In-Transit      200             \n",
      "106          John       Omega lll  28-06-2020   Null                Area3        Area1        In-Transit      270             \n"
     ]
    }
   ],
   "source": [
    "print(f\"{'Shipment_id' :<{12}} {'Sender' :<{ 10}} {'Receiver':<{10}} {'Start_date' :<{ 12}} {'Delivery_date' :<{ 12}}\\\n",
    "      {'Sender_Loc' :<{ 12}} {'Receiver_Loc' :<{ 12}} {'Delivery_Status' :<{ 15}} {'Shipping_cost' :<{ 15}}\")\n",
    "print(124*'*')\n",
    "for key,value in shipment_dictionary.items(): \n",
    "    if value[-2]=='In-Transit': # delivery status\n",
    "        print(f\"{key :<{12}} {value[0]:<{ 10}} {value[1]:<{10}} {value[2]:<{ 12}} {value[3] :<{ 12}}\\\n",
    "        {value[4] :<{ 12}} {value[5] :<{ 12}} {value[6] :<{ 15}} {value[7] :<{ 15}} \")"
   ]
  },
  {
   "cell_type": "markdown",
   "metadata": {},
   "source": [
    "# Q.7"
   ]
  },
  {
   "cell_type": "code",
   "execution_count": 23,
   "metadata": {},
   "outputs": [],
   "source": [
    "a=shipment_dictionary[101][2]"
   ]
  },
  {
   "cell_type": "code",
   "execution_count": 24,
   "metadata": {},
   "outputs": [],
   "source": [
    "b=shipment_dictionary[101][3]"
   ]
  },
  {
   "cell_type": "code",
   "execution_count": 27,
   "metadata": {},
   "outputs": [
    {
     "ename": "ValueError",
     "evalue": "time data '14-03-2020' does not match format '%d %b %Y'",
     "output_type": "error",
     "traceback": [
      "\u001b[1;31m---------------------------------------------------------------------------\u001b[0m",
      "\u001b[1;31mValueError\u001b[0m                                Traceback (most recent call last)",
      "\u001b[1;32m<ipython-input-27-3c813a5ecd7a>\u001b[0m in \u001b[0;36m<module>\u001b[1;34m\u001b[0m\n\u001b[0;32m      1\u001b[0m \u001b[1;32mfrom\u001b[0m \u001b[0mdatetime\u001b[0m \u001b[1;32mimport\u001b[0m \u001b[0mdatetime\u001b[0m \u001b[1;31m# datetime.strptime(d, '%b %d %Y %I:%M%p')\u001b[0m\u001b[1;33m\u001b[0m\u001b[1;33m\u001b[0m\u001b[0m\n\u001b[0;32m      2\u001b[0m \u001b[1;33m\u001b[0m\u001b[0m\n\u001b[1;32m----> 3\u001b[1;33m \u001b[0mdatetime_object\u001b[0m \u001b[1;33m=\u001b[0m \u001b[0mdatetime\u001b[0m\u001b[1;33m.\u001b[0m\u001b[0mstrptime\u001b[0m\u001b[1;33m(\u001b[0m\u001b[0ma\u001b[0m\u001b[1;33m,\u001b[0m\u001b[1;34m'%d %b %Y'\u001b[0m\u001b[1;33m)\u001b[0m\u001b[1;33m\u001b[0m\u001b[1;33m\u001b[0m\u001b[0m\n\u001b[0m",
      "\u001b[1;32m~\\anaconda3\\lib\\_strptime.py\u001b[0m in \u001b[0;36m_strptime_datetime\u001b[1;34m(cls, data_string, format)\u001b[0m\n\u001b[0;32m    566\u001b[0m     \"\"\"Return a class cls instance based on the input string and the\n\u001b[0;32m    567\u001b[0m     format string.\"\"\"\n\u001b[1;32m--> 568\u001b[1;33m     \u001b[0mtt\u001b[0m\u001b[1;33m,\u001b[0m \u001b[0mfraction\u001b[0m\u001b[1;33m,\u001b[0m \u001b[0mgmtoff_fraction\u001b[0m \u001b[1;33m=\u001b[0m \u001b[0m_strptime\u001b[0m\u001b[1;33m(\u001b[0m\u001b[0mdata_string\u001b[0m\u001b[1;33m,\u001b[0m \u001b[0mformat\u001b[0m\u001b[1;33m)\u001b[0m\u001b[1;33m\u001b[0m\u001b[1;33m\u001b[0m\u001b[0m\n\u001b[0m\u001b[0;32m    569\u001b[0m     \u001b[0mtzname\u001b[0m\u001b[1;33m,\u001b[0m \u001b[0mgmtoff\u001b[0m \u001b[1;33m=\u001b[0m \u001b[0mtt\u001b[0m\u001b[1;33m[\u001b[0m\u001b[1;33m-\u001b[0m\u001b[1;36m2\u001b[0m\u001b[1;33m:\u001b[0m\u001b[1;33m]\u001b[0m\u001b[1;33m\u001b[0m\u001b[1;33m\u001b[0m\u001b[0m\n\u001b[0;32m    570\u001b[0m     \u001b[0margs\u001b[0m \u001b[1;33m=\u001b[0m \u001b[0mtt\u001b[0m\u001b[1;33m[\u001b[0m\u001b[1;33m:\u001b[0m\u001b[1;36m6\u001b[0m\u001b[1;33m]\u001b[0m \u001b[1;33m+\u001b[0m \u001b[1;33m(\u001b[0m\u001b[0mfraction\u001b[0m\u001b[1;33m,\u001b[0m\u001b[1;33m)\u001b[0m\u001b[1;33m\u001b[0m\u001b[1;33m\u001b[0m\u001b[0m\n",
      "\u001b[1;32m~\\anaconda3\\lib\\_strptime.py\u001b[0m in \u001b[0;36m_strptime\u001b[1;34m(data_string, format)\u001b[0m\n\u001b[0;32m    347\u001b[0m     \u001b[0mfound\u001b[0m \u001b[1;33m=\u001b[0m \u001b[0mformat_regex\u001b[0m\u001b[1;33m.\u001b[0m\u001b[0mmatch\u001b[0m\u001b[1;33m(\u001b[0m\u001b[0mdata_string\u001b[0m\u001b[1;33m)\u001b[0m\u001b[1;33m\u001b[0m\u001b[1;33m\u001b[0m\u001b[0m\n\u001b[0;32m    348\u001b[0m     \u001b[1;32mif\u001b[0m \u001b[1;32mnot\u001b[0m \u001b[0mfound\u001b[0m\u001b[1;33m:\u001b[0m\u001b[1;33m\u001b[0m\u001b[1;33m\u001b[0m\u001b[0m\n\u001b[1;32m--> 349\u001b[1;33m         raise ValueError(\"time data %r does not match format %r\" %\n\u001b[0m\u001b[0;32m    350\u001b[0m                          (data_string, format))\n\u001b[0;32m    351\u001b[0m     \u001b[1;32mif\u001b[0m \u001b[0mlen\u001b[0m\u001b[1;33m(\u001b[0m\u001b[0mdata_string\u001b[0m\u001b[1;33m)\u001b[0m \u001b[1;33m!=\u001b[0m \u001b[0mfound\u001b[0m\u001b[1;33m.\u001b[0m\u001b[0mend\u001b[0m\u001b[1;33m(\u001b[0m\u001b[1;33m)\u001b[0m\u001b[1;33m:\u001b[0m\u001b[1;33m\u001b[0m\u001b[1;33m\u001b[0m\u001b[0m\n",
      "\u001b[1;31mValueError\u001b[0m: time data '14-03-2020' does not match format '%d %b %Y'"
     ]
    }
   ],
   "source": [
    "from datetime import datetime # datetime.strptime(d, '%b %d %Y %I:%M%p')\n",
    "\n",
    "datetime_object = datetime.strptime(a,'%d %b %Y')"
   ]
  },
  {
   "cell_type": "code",
   "execution_count": null,
   "metadata": {},
   "outputs": [],
   "source": []
  }
 ],
 "metadata": {
  "kernelspec": {
   "display_name": "Python 3",
   "language": "python",
   "name": "python3"
  },
  "language_info": {
   "codemirror_mode": {
    "name": "ipython",
    "version": 3
   },
   "file_extension": ".py",
   "mimetype": "text/x-python",
   "name": "python",
   "nbconvert_exporter": "python",
   "pygments_lexer": "ipython3",
   "version": "3.8.5"
  }
 },
 "nbformat": 4,
 "nbformat_minor": 4
}
