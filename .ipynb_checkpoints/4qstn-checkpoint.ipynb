{
 "cells": [
  {
   "cell_type": "markdown",
   "metadata": {},
   "source": [
    "# Q.1"
   ]
  },
  {
   "cell_type": "code",
   "execution_count": 1,
   "metadata": {},
   "outputs": [
    {
     "name": "stdout",
     "output_type": "stream",
     "text": [
      "['Ada', 'Alice', 'Carol', 'Frank', 'Grace', 'Mike', 'Olivia', 'Peggy', 'Sybbil', 'Bob', 'Chuck', 'Carlos', 'Erin', 'Judy', 'Ted', 'Walter', 'Wendy']\n"
     ]
    }
   ],
   "source": [
    "names = ['GRace', 'ADA', 'ted', 'Peggy', 'walter', 'jUdy', 'bOB', 'carLOs',\n",
    "        'CaRol', 'Alice', 'MIKE', 'FRANK', 'SYBbil', 'cHuck', 'weNDy', 'erin',\n",
    "        'Olivia']\n",
    "\n",
    "# sort the names and convert each name into title form.\n",
    "names = [name.title() for name in sorted(names)]\n",
    "\n",
    "print(names)"
   ]
  },
  {
   "cell_type": "code",
   "execution_count": 2,
   "metadata": {},
   "outputs": [],
   "source": [
    "# check that all names are title case\n",
    "assert len(names) == 17\n",
    "assert 'Ada' in names\n",
    "assert all([n.istitle() for n in names]) # all names are title case?"
   ]
  },
  {
   "cell_type": "code",
   "execution_count": 3,
   "metadata": {},
   "outputs": [],
   "source": [
    "# check that its sorted\n",
    "assert names[-1] == 'Wendy'\n",
    "assert names[0] == 'Ada'\n",
    "# hidden test for whole list"
   ]
  },
  {
   "cell_type": "markdown",
   "metadata": {},
   "source": [
    "# Q.2"
   ]
  },
  {
   "cell_type": "code",
   "execution_count": 4,
   "metadata": {},
   "outputs": [
    {
     "name": "stdout",
     "output_type": "stream",
     "text": [
      "aaaaaaaaaaabbbbbddddeeeeeeeeeeeeeeeeefffffgggghhhhhhhiiiiiiiiklllmmmnnnnnnnnnnnnooooooooooooooooooppqrrrrrrrrrrrssssssssssssstttttttttttttttttttuuuuuuwwy\n"
     ]
    }
   ],
   "source": [
    "sentence = \"To be, or not to be, that is the question: Whether 'tis nobler in, the mind to suffer the slings and arrows of outrageous fortune, or to take, arms against a sea of troubles and by opposing end them.\"\n",
    "\n",
    "# choose only alphabet letter from sentence\n",
    "alphabetical_letters = [i for i in sentence.lower() if i.isalpha()]\n",
    "\n",
    "# join those letters to form a string\n",
    "alphabetical_letters = ''.join(sorted(alphabetical_letters))\n",
    "\n",
    "print(alphabetical_letters)"
   ]
  },
  {
   "cell_type": "code",
   "execution_count": 5,
   "metadata": {},
   "outputs": [],
   "source": [
    "assert len(alphabetical_letters) == 153\n",
    "assert alphabetical_letters[:20] == 'aaaaaaaaaaabbbbbdddd'\n",
    "assert alphabetical_letters[-20:] == 'tttttttttttuuuuuuwwy'"
   ]
  },
  {
   "cell_type": "markdown",
   "metadata": {},
   "source": [
    "# Q.3"
   ]
  },
  {
   "cell_type": "code",
   "execution_count": 6,
   "metadata": {},
   "outputs": [],
   "source": [
    "poem = \"\"\"\n",
    "Everything's wrong,\n",
    "Days are too long,\n",
    "Sunshine's too hot,\n",
    "Wind is too strong.\n",
    "Clouds are too fluffy,\n",
    "Grass is too green,\n",
    "Ground is too dusty,\n",
    "Sheets are too clean.\n",
    "Stars are too twinkly,\n",
    "Moon is too high,\n",
    "Water's too drippy,\n",
    "Sand is too dry.\n",
    "Rocks are too heavy,\n",
    "Feathers too light,\n",
    "Kids are too noisy,\n",
    "Shoes are too tight.\n",
    "Folks are too happy,\n",
    "Singin' their songs.\n",
    "Why can't they see it?\n",
    "Everything's wrong!\n",
    "\"\"\""
   ]
  },
  {
   "cell_type": "code",
   "execution_count": 7,
   "metadata": {},
   "outputs": [
    {
     "name": "stdout",
     "output_type": "stream",
     "text": [
      "Overwriting ./count_letter.py\n"
     ]
    }
   ],
   "source": [
    "%%writefile ./count_letter.py\n",
    "\n",
    "# replce newline with space\n",
    "lst_poem = poem.replace(\"\\n\",' ')\n",
    "\n",
    "# split the poem using space as separator\n",
    "lst_poem = lst_poem.split(' ')\n",
    "total= 0 \n",
    "\n",
    "# count the words starts with a given letter\n",
    "for i in lst_poem:\n",
    "    if i.startswith(letter.lower()) or i.startswith(letter.upper()):\n",
    "        total = total + 1"
   ]
  },
  {
   "cell_type": "code",
   "execution_count": 8,
   "metadata": {},
   "outputs": [],
   "source": [
    "letter = 't'\n",
    "%run -i ./count_letter.py\n",
    "assert total == 20"
   ]
  },
  {
   "cell_type": "code",
   "execution_count": 9,
   "metadata": {},
   "outputs": [],
   "source": [
    "letter = 'a'\n",
    "%run -i ./count_letter.py\n",
    "assert total == 8"
   ]
  },
  {
   "cell_type": "markdown",
   "metadata": {},
   "source": [
    "# Q.4"
   ]
  },
  {
   "cell_type": "code",
   "execution_count": 10,
   "metadata": {},
   "outputs": [],
   "source": [
    "text = \"The greatest glory in living lies not in never falling, but in rising every time we fall.\""
   ]
  },
  {
   "cell_type": "code",
   "execution_count": 11,
   "metadata": {},
   "outputs": [
    {
     "name": "stdout",
     "output_type": "stream",
     "text": [
      "Overwriting ./frequent_char.py\n"
     ]
    }
   ],
   "source": [
    "%%writefile ./frequent_char.py\n",
    "\n",
    "# create a dictionary to store letter and its count.\n",
    "mydict = {}\n",
    "for i in set(text):\n",
    "    if i!=' ':\n",
    "        mydict[i] = text.count(i)\n",
    "\n",
    "# sort the dictionary on the basis of count\n",
    "# and get the most frequent letter\n",
    "most_frequent = sorted(mydict.items(), key=lambda x: x[1],reverse=True)[0][0]\n",
    "print(most_frequent)"
   ]
  },
  {
   "cell_type": "code",
   "execution_count": 12,
   "metadata": {},
   "outputs": [
    {
     "name": "stdout",
     "output_type": "stream",
     "text": [
      "i\n"
     ]
    }
   ],
   "source": [
    "text = \"The greatest glory in living lies not in never falling, but in rising every time we fall.\"\n",
    "%run -i ./frequent_char.py\n",
    "assert most_frequent in 'ie'"
   ]
  },
  {
   "cell_type": "code",
   "execution_count": 13,
   "metadata": {},
   "outputs": [
    {
     "name": "stdout",
     "output_type": "stream",
     "text": [
      "a\n"
     ]
    }
   ],
   "source": [
    "text = \"abracadabra\"\n",
    "%run -i ./frequent_char.py\n",
    "assert most_frequent == 'a'"
   ]
  }
 ],
 "metadata": {
  "kernelspec": {
   "display_name": "Python 3",
   "language": "python",
   "name": "python3"
  },
  "language_info": {
   "codemirror_mode": {
    "name": "ipython",
    "version": 3
   },
   "file_extension": ".py",
   "mimetype": "text/x-python",
   "name": "python",
   "nbconvert_exporter": "python",
   "pygments_lexer": "ipython3",
   "version": "3.8.5"
  }
 },
 "nbformat": 4,
 "nbformat_minor": 4
}
