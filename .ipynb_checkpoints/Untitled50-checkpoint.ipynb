{
 "cells": [
  {
   "cell_type": "markdown",
   "metadata": {},
   "source": [
    "# Given a Phone number in the format +91-0431-2503333 split them and store in a tuple  and identify the country."
   ]
  },
  {
   "cell_type": "code",
   "execution_count": 1,
   "metadata": {},
   "outputs": [],
   "source": [
    "mylist = [(91,'india') , (92,'ABC')  ,(93,'ADC') , (95,'XYZ') ]"
   ]
  },
  {
   "cell_type": "code",
   "execution_count": 11,
   "metadata": {},
   "outputs": [
    {
     "data": {
      "text/plain": [
       "[(91, 'india'), (92, 'ABC'), (93, 'ADC'), (95, 'XYZ')]"
      ]
     },
     "execution_count": 11,
     "metadata": {},
     "output_type": "execute_result"
    }
   ],
   "source": [
    "mylist"
   ]
  },
  {
   "cell_type": "code",
   "execution_count": 27,
   "metadata": {},
   "outputs": [],
   "source": [
    "a = '+91-0431-2503333'"
   ]
  },
  {
   "cell_type": "code",
   "execution_count": 28,
   "metadata": {},
   "outputs": [
    {
     "data": {
      "text/plain": [
       "['+91', '0431', '2503333']"
      ]
     },
     "execution_count": 28,
     "metadata": {},
     "output_type": "execute_result"
    }
   ],
   "source": [
    "b=a.split('-')\n",
    "b"
   ]
  },
  {
   "cell_type": "code",
   "execution_count": 9,
   "metadata": {},
   "outputs": [],
   "source": [
    "c = b[0][1:]"
   ]
  },
  {
   "cell_type": "code",
   "execution_count": 10,
   "metadata": {},
   "outputs": [
    {
     "data": {
      "text/plain": [
       "'91'"
      ]
     },
     "execution_count": 10,
     "metadata": {},
     "output_type": "execute_result"
    }
   ],
   "source": [
    "c"
   ]
  },
  {
   "cell_type": "code",
   "execution_count": 12,
   "metadata": {},
   "outputs": [
    {
     "data": {
      "text/plain": [
       "[(91, 'india'), (92, 'ABC'), (93, 'ADC'), (95, 'XYZ')]"
      ]
     },
     "execution_count": 12,
     "metadata": {},
     "output_type": "execute_result"
    }
   ],
   "source": [
    "mylist"
   ]
  },
  {
   "cell_type": "code",
   "execution_count": 14,
   "metadata": {},
   "outputs": [
    {
     "name": "stdout",
     "output_type": "stream",
     "text": [
      "india\n"
     ]
    }
   ],
   "source": [
    "for i in mylist:\n",
    "    if i[0]== int(c):\n",
    "        print(i[1])"
   ]
  },
  {
   "cell_type": "code",
   "execution_count": 24,
   "metadata": {},
   "outputs": [],
   "source": [
    "n=6"
   ]
  },
  {
   "cell_type": "code",
   "execution_count": 25,
   "metadata": {},
   "outputs": [],
   "source": [
    "s=1\n",
    "for i in range(1,n+1):\n",
    "    s=s*i\n",
    "    "
   ]
  },
  {
   "cell_type": "code",
   "execution_count": 29,
   "metadata": {},
   "outputs": [],
   "source": [
    "def fact(n):\n",
    "    if n==1:\n",
    "        return 1\n",
    "    return n*fact(n-1)"
   ]
  },
  {
   "cell_type": "code",
   "execution_count": 31,
   "metadata": {},
   "outputs": [
    {
     "data": {
      "text/plain": [
       "720"
      ]
     },
     "execution_count": 31,
     "metadata": {},
     "output_type": "execute_result"
    }
   ],
   "source": [
    "fact(6)"
   ]
  },
  {
   "cell_type": "code",
   "execution_count": 26,
   "metadata": {},
   "outputs": [
    {
     "data": {
      "text/plain": [
       "720"
      ]
     },
     "execution_count": 26,
     "metadata": {},
     "output_type": "execute_result"
    }
   ],
   "source": [
    "6*fact(5)"
   ]
  },
  {
   "cell_type": "code",
   "execution_count": null,
   "metadata": {},
   "outputs": [],
   "source": [
    "7*fact(6)\n",
    "8*fact(7)"
   ]
  },
  {
   "cell_type": "code",
   "execution_count": null,
   "metadata": {},
   "outputs": [],
   "source": [
    "[1,2,6,24,120,720,abc]"
   ]
  },
  {
   "cell_type": "code",
   "execution_count": null,
   "metadata": {},
   "outputs": [],
   "source": [
    "import pandas as pd\n"
   ]
  },
  {
   "cell_type": "markdown",
   "metadata": {},
   "source": [
    "# Given a list of list of phone numbers of vaccinated people, identify who has taken the 2 doses of  vaccination."
   ]
  },
  {
   "cell_type": "code",
   "execution_count": 49,
   "metadata": {},
   "outputs": [],
   "source": [
    "mylist = [[1,2,3,4,5] ,[5,6,7,1,2]]"
   ]
  },
  {
   "cell_type": "code",
   "execution_count": 50,
   "metadata": {},
   "outputs": [],
   "source": [
    "a=mylist[0] + mylist[1]"
   ]
  },
  {
   "cell_type": "code",
   "execution_count": 51,
   "metadata": {},
   "outputs": [
    {
     "data": {
      "text/plain": [
       "[1, 2, 3, 4, 5, 5, 6, 7, 1, 2]"
      ]
     },
     "execution_count": 51,
     "metadata": {},
     "output_type": "execute_result"
    }
   ],
   "source": [
    "a"
   ]
  },
  {
   "cell_type": "code",
   "execution_count": 52,
   "metadata": {},
   "outputs": [
    {
     "data": {
      "text/plain": [
       "2"
      ]
     },
     "execution_count": 52,
     "metadata": {},
     "output_type": "execute_result"
    }
   ],
   "source": [
    "a.count(5)"
   ]
  },
  {
   "cell_type": "code",
   "execution_count": 53,
   "metadata": {},
   "outputs": [],
   "source": [
    "b=set()\n",
    "for i in a:\n",
    "    if a.count(i)==2:\n",
    "        b.add(i)"
   ]
  },
  {
   "cell_type": "code",
   "execution_count": 54,
   "metadata": {},
   "outputs": [
    {
     "data": {
      "text/plain": [
       "{1, 2, 5}"
      ]
     },
     "execution_count": 54,
     "metadata": {},
     "output_type": "execute_result"
    }
   ],
   "source": [
    "b"
   ]
  },
  {
   "cell_type": "code",
   "execution_count": 59,
   "metadata": {},
   "outputs": [],
   "source": [
    "i=1\n",
    "j=3"
   ]
  },
  {
   "cell_type": "code",
   "execution_count": 60,
   "metadata": {},
   "outputs": [
    {
     "name": "stdout",
     "output_type": "stream",
     "text": [
      "Enter the question 1 3: 4\n"
     ]
    },
    {
     "data": {
      "text/plain": [
       "'4'"
      ]
     },
     "execution_count": 60,
     "metadata": {},
     "output_type": "execute_result"
    }
   ],
   "source": [
    "input(\"Enter the question {} {}: \".format(i,j) )"
   ]
  },
  {
   "cell_type": "code",
   "execution_count": 61,
   "metadata": {},
   "outputs": [],
   "source": [
    "import pandas as pd"
   ]
  },
  {
   "cell_type": "code",
   "execution_count": 62,
   "metadata": {},
   "outputs": [
    {
     "data": {
      "text/plain": [
       "[                                                 0                        1  \\\n",
       " 0     FRONTISPIECE (Priscilla and the Hopolanthus)        Anna Whelan Betts   \n",
       " 1                    Priscilla and the Hopolanthus            Sidney Marlow   \n",
       " 2   JUNE (Selected from the Vision of Sir Launfal)                   Lowell   \n",
       " 3         WITH WASHINGTON AT VALLEY FORGE (Serial)           W. Bert Foster   \n",
       " 4                      Illustrated by F. A. Carter                      NaN   \n",
       " 5                             A PROVIDENTIAL SPARK   William Murray Graydon   \n",
       " 6                A DAUGHTER OF THE FOREST (Serial)           Evelyn Raymond   \n",
       " 7                       Illustrated by J. H. Betts                      NaN   \n",
       " 8                                   SIX (Selected)          Minot J. Savage   \n",
       " 9                                   WOOD-FOLK TALK        J. Allison Atwood   \n",
       " 10                  LITTLE POLLY PRENTISS (Serial)  Elizabeth Lincoln Gould   \n",
       " 11                        Illustrated by Ida Waugh                      NaN   \n",
       " 12                                    JUNE MEADOWS      Julia McNair Wright   \n",
       " 13                   Illustrated by Nina G. Barlow                      NaN   \n",
       " 14                                 WITH THE EDITOR                      NaN   \n",
       " 15                               EVENT AND COMMENT                      NaN   \n",
       " 16               IN-DOORS (Parlor Magic, Paper IV)            Ellis Stanyon   \n",
       " 17                         THE OLD TRUNK (Puzzles)                      NaN   \n",
       " 18                              WITH THE PUBLISHER                      NaN   \n",
       " \n",
       "        2  \n",
       " 0   PAGE  \n",
       " 1    115  \n",
       " 2    118  \n",
       " 3    119  \n",
       " 4    NaN  \n",
       " 5    128  \n",
       " 6    131  \n",
       " 7    NaN  \n",
       " 8    140  \n",
       " 9    141  \n",
       " 10   143  \n",
       " 11   NaN  \n",
       " 12   150  \n",
       " 13   NaN  \n",
       " 14   152  \n",
       " 15   153  \n",
       " 16   154  \n",
       " 17   155  \n",
       " 18   156  ,\n",
       "      0    1    2  3    4    5    6\n",
       " 0  NaN  NaN  NaN  S  NaN  NaN  NaN\n",
       " 1  NaN  NaN    D  A    M  NaN  NaN\n",
       " 2  NaN    D    A  M    E    S  NaN\n",
       " 3    S    A    M  P    L    E    S\n",
       " 4  NaN    M    E  L    E    E  NaN\n",
       " 5  NaN  NaN    S  E    E  NaN  NaN\n",
       " 6  NaN  NaN  NaN  S  NaN  NaN  NaN,\n",
       "    0  1  2  3  4\n",
       " 0  X  .  .  .  .\n",
       " 1  .  X  .  .  .\n",
       " 2  X  .  .  .  .\n",
       " 3  .  X  .  .  .\n",
       " 4  X  .  .  .  .]"
      ]
     },
     "execution_count": 62,
     "metadata": {},
     "output_type": "execute_result"
    }
   ],
   "source": [
    "pd.read_html('https://www.gutenberg.org/files/65493/65493-h/65493-h.htm')"
   ]
  },
  {
   "cell_type": "code",
   "execution_count": 67,
   "metadata": {},
   "outputs": [
    {
     "name": "stdout",
     "output_type": "stream",
     "text": [
      "hello \n",
      "\n",
      "aa\n"
     ]
    }
   ],
   "source": [
    "print('hello','\\n')\n",
    "print('aa')"
   ]
  },
  {
   "cell_type": "code",
   "execution_count": null,
   "metadata": {},
   "outputs": [],
   "source": []
  }
 ],
 "metadata": {
  "kernelspec": {
   "display_name": "Python 3",
   "language": "python",
   "name": "python3"
  },
  "language_info": {
   "codemirror_mode": {
    "name": "ipython",
    "version": 3
   },
   "file_extension": ".py",
   "mimetype": "text/x-python",
   "name": "python",
   "nbconvert_exporter": "python",
   "pygments_lexer": "ipython3",
   "version": "3.8.5"
  }
 },
 "nbformat": 4,
 "nbformat_minor": 4
}
