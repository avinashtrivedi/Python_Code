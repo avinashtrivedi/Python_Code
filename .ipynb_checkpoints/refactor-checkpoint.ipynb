{
 "cells": [
  {
   "cell_type": "markdown",
   "metadata": {},
   "source": [
    "# Old Code"
   ]
  },
  {
   "cell_type": "markdown",
   "metadata": {},
   "source": [
    "- The code given in question is doing the below steps:\n",
    "1. find the unique value in a given column\n",
    "2. find the count of each unique value in that column\n",
    "3. create a dictionary(key:value pair) called out_count where unique value is key and its total count is value.i.e in the form key:value\n",
    "4. After that using another function called sorted_dict() ,sort the dictionary on the basis of value in reverse order i.e in descending order. Store the return value received from sorted_dict() in sorted_dict\n",
    "5. return the element of sorted_dict at 0th index"
   ]
  },
  {
   "cell_type": "markdown",
   "metadata": {},
   "source": [
    "# Modified code"
   ]
  },
  {
   "cell_type": "markdown",
   "metadata": {},
   "source": [
    "1. It is getting the unique value and its respective count using value_counts() and store it in out_count\n",
    "2. and then apply idxmax() on out_count to get the index of maximum value\n",
    "2. after that apply max() on out_count to get the maximum value\n",
    "4. finally return the value received from above two steps as a tuple."
   ]
  },
  {
   "cell_type": "code",
   "execution_count": 1,
   "metadata": {},
   "outputs": [],
   "source": [
    "import pandas as pd\n",
    "def calculate_common(dataset,column):\n",
    "    out_count = test_df['response'].value_counts() # get the unique value and its count\n",
    "    val = out_count.idxmax() # get the index of maximum value\n",
    "    count = out_count .max() # get the maximum value\n",
    "    return (val,count) # return a tuple of maximum value and its count"
   ]
  },
  {
   "cell_type": "markdown",
   "metadata": {},
   "source": [
    "# Test:1"
   ]
  },
  {
   "cell_type": "code",
   "execution_count": 2,
   "metadata": {},
   "outputs": [
    {
     "name": "stdout",
     "output_type": "stream",
     "text": [
      "Test Passed..\n"
     ]
    }
   ],
   "source": [
    "test_df=pd.DataFrame({'ID':[1, 2, 3],'response':['a','a','b']}) \n",
    "assert(calculate_common(test_df, 'response') == ('a', 2)), 'Error Occur'\n",
    "print('Test Passed..')"
   ]
  },
  {
   "cell_type": "markdown",
   "metadata": {},
   "source": [
    "# Test:2"
   ]
  },
  {
   "cell_type": "code",
   "execution_count": 3,
   "metadata": {},
   "outputs": [
    {
     "name": "stdout",
     "output_type": "stream",
     "text": [
      "Test Passed..\n"
     ]
    }
   ],
   "source": [
    "test_df = pd.DataFrame({'ID' : [1, 2, 3,4,5,6], 'response' : ['a', 'a', 'b','a','c','c']})\n",
    "assert(calculate_common(test_df, 'response') == ('a', 3)), 'Error Occur'\n",
    "print('Test Passed..')"
   ]
  }
 ],
 "metadata": {
  "kernelspec": {
   "display_name": "Python 3",
   "language": "python",
   "name": "python3"
  },
  "language_info": {
   "codemirror_mode": {
    "name": "ipython",
    "version": 3
   },
   "file_extension": ".py",
   "mimetype": "text/x-python",
   "name": "python",
   "nbconvert_exporter": "python",
   "pygments_lexer": "ipython3",
   "version": "3.8.5"
  }
 },
 "nbformat": 4,
 "nbformat_minor": 4
}
