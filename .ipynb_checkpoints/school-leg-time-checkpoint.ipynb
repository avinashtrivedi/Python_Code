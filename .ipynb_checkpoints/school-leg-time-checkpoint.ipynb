{
 "cells": [
  {
   "cell_type": "code",
   "execution_count": 2,
   "metadata": {},
   "outputs": [
    {
     "data": {
      "text/html": [
       "<div>\n",
       "<style scoped>\n",
       "    .dataframe tbody tr th:only-of-type {\n",
       "        vertical-align: middle;\n",
       "    }\n",
       "\n",
       "    .dataframe tbody tr th {\n",
       "        vertical-align: top;\n",
       "    }\n",
       "\n",
       "    .dataframe thead th {\n",
       "        text-align: right;\n",
       "    }\n",
       "</style>\n",
       "<table border=\"1\" class=\"dataframe\">\n",
       "  <thead>\n",
       "    <tr style=\"text-align: right;\">\n",
       "      <th></th>\n",
       "      <th>relay result</th>\n",
       "      <th>Unnamed: 1</th>\n",
       "      <th>Unnamed: 2</th>\n",
       "      <th>Unnamed: 3</th>\n",
       "      <th>Unnamed: 4</th>\n",
       "    </tr>\n",
       "  </thead>\n",
       "  <tbody>\n",
       "    <tr>\n",
       "      <th>0</th>\n",
       "      <td>school</td>\n",
       "      <td>leg1</td>\n",
       "      <td>leg2</td>\n",
       "      <td>leg3</td>\n",
       "      <td>leg4</td>\n",
       "    </tr>\n",
       "    <tr>\n",
       "      <th>1</th>\n",
       "      <td>USC</td>\n",
       "      <td>11.63</td>\n",
       "      <td>5.6</td>\n",
       "      <td>11.63</td>\n",
       "      <td>6.9</td>\n",
       "    </tr>\n",
       "    <tr>\n",
       "      <th>2</th>\n",
       "      <td>LSU</td>\n",
       "      <td>10.8</td>\n",
       "      <td>11.63</td>\n",
       "      <td>5.8</td>\n",
       "      <td>47.5</td>\n",
       "    </tr>\n",
       "    <tr>\n",
       "      <th>3</th>\n",
       "      <td>ABC</td>\n",
       "      <td>11.63</td>\n",
       "      <td>10.8</td>\n",
       "      <td>8.3</td>\n",
       "      <td>9.6</td>\n",
       "    </tr>\n",
       "    <tr>\n",
       "      <th>4</th>\n",
       "      <td>BCA</td>\n",
       "      <td>10.8</td>\n",
       "      <td>8.1</td>\n",
       "      <td>10.7</td>\n",
       "      <td>5.6</td>\n",
       "    </tr>\n",
       "    <tr>\n",
       "      <th>5</th>\n",
       "      <td>XYZ</td>\n",
       "      <td>9.5</td>\n",
       "      <td>11.63</td>\n",
       "      <td>5.1</td>\n",
       "      <td>9.3</td>\n",
       "    </tr>\n",
       "    <tr>\n",
       "      <th>6</th>\n",
       "      <td>ZYX</td>\n",
       "      <td>8.6</td>\n",
       "      <td>6.8</td>\n",
       "      <td>5.8</td>\n",
       "      <td>11.63</td>\n",
       "    </tr>\n",
       "    <tr>\n",
       "      <th>7</th>\n",
       "      <td>PQR</td>\n",
       "      <td>9.2</td>\n",
       "      <td>6.9</td>\n",
       "      <td>5.9</td>\n",
       "      <td>10.8</td>\n",
       "    </tr>\n",
       "  </tbody>\n",
       "</table>\n",
       "</div>"
      ],
      "text/plain": [
       "  relay result Unnamed: 1 Unnamed: 2 Unnamed: 3 Unnamed: 4\n",
       "0       school       leg1       leg2       leg3       leg4\n",
       "1          USC      11.63        5.6      11.63        6.9\n",
       "2          LSU       10.8      11.63        5.8       47.5\n",
       "3          ABC      11.63       10.8        8.3        9.6\n",
       "4          BCA       10.8        8.1       10.7        5.6\n",
       "5          XYZ        9.5      11.63        5.1        9.3\n",
       "6          ZYX        8.6        6.8        5.8      11.63\n",
       "7          PQR        9.2        6.9        5.9       10.8"
      ]
     },
     "execution_count": 2,
     "metadata": {},
     "output_type": "execute_result"
    }
   ],
   "source": [
    "pd.read_csv('relay.csv')"
   ]
  },
  {
   "cell_type": "code",
   "execution_count": 48,
   "metadata": {},
   "outputs": [
    {
     "name": "stdout",
     "output_type": "stream",
     "text": [
      "School               Total      Avg       \n",
      "------               -----      ---       \n",
      "USC                  35.76      8.940     \n",
      "LSU                  75.73      18.933    \n",
      "ABC                  40.33      10.082    \n",
      "BCA                  35.20      8.800     \n",
      "XYZ                  35.53      8.883     \n",
      "ZYX                  32.83      8.207     \n",
      "PQR                  32.80      8.200     \n"
     ]
    }
   ],
   "source": [
    "# read the data file\n",
    "with open('TrackData.csv', 'r') as file:\n",
    "        track_data = file.readlines() \n",
    "\n",
    "# remove first two rows,as it contains column name(Leg1,Leg2..) and Results Women.. title.\n",
    "track_data = track_data[2:] \n",
    "\n",
    "#storing data into list,excluding last character of every rows i.e \\n\n",
    "data_list = [i[:-1].split(',') for i in track_data] \n",
    "\n",
    "# Print Formatting\n",
    "print(f'{\"School\":20} {\"Total\":10} {\"Avg\":10}')\n",
    "print(f'{\"------\":20} {\"-----\":10} {\"---\":10}')\n",
    "\n",
    "# going through every list element and find Total and Average\n",
    "# list element contains data as string.\n",
    "# convert (leg1,leg2,leg3,leg4) it to float before applying mathematical operations.\n",
    "\n",
    "for i in data_list:\n",
    "    temp_int_list = [float(j) for j in i[1:]]\n",
    "    Total = sum(temp_int_list)\n",
    "    Avg = sum(temp_int_list)/4\n",
    "    \n",
    "    # {20},{10},{7} is for print formatting,it represents number of space given to them.\n",
    "    # < : means left align ormat(321,\".2f\"))\n",
    "    # format(22.2, \".2f\") return 22.20, format to 2 decimal places\n",
    "    print(f'{i[0]:<{20}} {format(Total,\".2f\"):<{10}} {format(Avg,\".3f\"):<{10}}')\n"
   ]
  },
  {
   "cell_type": "code",
   "execution_count": null,
   "metadata": {},
   "outputs": [],
   "source": [
    "print(f'{book[0]:{10}} {book[1]:{10}} {book[2]:.>{7}}')"
   ]
  },
  {
   "cell_type": "code",
   "execution_count": 39,
   "metadata": {},
   "outputs": [],
   "source": [
    "with open('relay.csv', 'r') as file:\n",
    "        track_data = file.readlines() "
   ]
  },
  {
   "cell_type": "code",
   "execution_count": 40,
   "metadata": {},
   "outputs": [
    {
     "data": {
      "text/plain": [
       "['relay result,,,,\\n',\n",
       " 'school,leg1,leg2,leg3,leg4\\n',\n",
       " 'USC,11.63,5.6,11.63,6.9\\n',\n",
       " 'LSU,10.8,11.63,5.8,47.5\\n',\n",
       " 'ABC,11.63,10.8,8.3,9.6\\n',\n",
       " 'BCA,10.8,8.1,10.7,5.6\\n',\n",
       " 'XYZ,9.5,11.63,5.1,9.3\\n',\n",
       " 'ZYX,8.6,6.8,5.8,11.63\\n',\n",
       " 'PQR,9.2,6.9,5.9,10.8\\n']"
      ]
     },
     "execution_count": 40,
     "metadata": {},
     "output_type": "execute_result"
    }
   ],
   "source": [
    "track_data"
   ]
  },
  {
   "cell_type": "code",
   "execution_count": null,
   "metadata": {},
   "outputs": [],
   "source": []
  }
 ],
 "metadata": {
  "kernelspec": {
   "display_name": "Python 3",
   "language": "python",
   "name": "python3"
  },
  "language_info": {
   "codemirror_mode": {
    "name": "ipython",
    "version": 3
   },
   "file_extension": ".py",
   "mimetype": "text/x-python",
   "name": "python",
   "nbconvert_exporter": "python",
   "pygments_lexer": "ipython3",
   "version": "3.8.5"
  }
 },
 "nbformat": 4,
 "nbformat_minor": 4
}
