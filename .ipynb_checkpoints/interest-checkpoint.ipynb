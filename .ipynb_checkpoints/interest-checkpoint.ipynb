{
 "cells": [
  {
   "cell_type": "code",
   "execution_count": 1,
   "metadata": {},
   "outputs": [
    {
     "name": "stdout",
     "output_type": "stream",
     "text": [
      "Amount to deposit: 100\n",
      "Interest rate: 12\n",
      "Duration in month: 5\n",
      "\n",
      "Month  Deposit  Total-Deposit  This Month's-interest  Total-interest-Earned  Total-value-To-Date   \n",
      "1      100.0    100.0          1.0                    1.0                    101.0                 \n",
      "2      100.0    200.0          2.01                   3.01                   203.01                \n",
      "3      100.0    300.0          3.03                   6.04                   306.04                \n",
      "4      100.0    400.0          4.06                   10.1                   410.1                 \n",
      "5      100.0    500.0          5.1                    15.2                   515.2                 \n",
      "Do you want to continue y/n: y\n",
      "\n",
      "Please enter the details again.\n",
      "\n",
      "Amount to deposit: 500\n",
      "Interest rate: 10\n",
      "Duration in month: 12\n",
      "\n",
      "Month  Deposit  Total-Deposit  This Month's-interest  Total-interest-Earned  Total-value-To-Date   \n",
      "1      500.0    500.0          4.17                   4.17                   504.17                \n",
      "2      500.0    1000.0         8.37                   12.54                  1012.54               \n",
      "3      500.0    1500.0         12.6                   25.14                  1525.14               \n",
      "4      500.0    2000.0         16.88                  42.02                  2042.02               \n",
      "5      500.0    2500.0         21.18                  63.2                   2563.2                \n",
      "6      500.0    3000.0         25.53                  88.73                  3088.73               \n",
      "7      500.0    3500.0         29.91                  118.64                 3618.64               \n",
      "8      500.0    4000.0         34.32                  152.96                 4152.96               \n",
      "9      500.0    4500.0         38.77                  191.73                 4691.73               \n",
      "10     500.0    5000.0         43.26                  234.99                 5234.99               \n",
      "11     500.0    5500.0         47.79                  282.78                 5782.78               \n",
      "12     500.0    6000.0         52.36                  335.14                 6335.14               \n",
      "Do you want to continue y/n: n\n",
      "\n",
      "Thank You\n"
     ]
    }
   ],
   "source": [
    "while True:\n",
    "    \n",
    "    # receive the inputs\n",
    "    A = float(input('Amount to deposit: '))\n",
    "    W = float(input('Interest rate: '))\n",
    "    N = int(input('Duration in month: '))\n",
    "    print()\n",
    "    \n",
    "    # define the variables\n",
    "    deposit = A\n",
    "    tvd = 0 # total value to date\n",
    "    ti = 0 # total interest\n",
    "\n",
    "    print('{:<6} {:<8} {:<14} {:<22} {:<22} {:<22}'.format('Month','Deposit','Total-Deposit',\"This Month's-interest\",'Total-interest-Earned','Total-value-To-Date'))\n",
    "    \n",
    "    # loop to compute the running total_deposit, interest and all\n",
    "\n",
    "    for j in range(1,N+1):\n",
    "        \n",
    "        # total deposit\n",
    "        total_deposit = j*deposit\n",
    "        \n",
    "        # amount present in the account\n",
    "        total_in_acc = deposit + tvd\n",
    "        \n",
    "        # interest of this month\n",
    "        i = round(total_in_acc*W/1200,2)\n",
    "        \n",
    "        # total interest\n",
    "        ti = round(ti + i,2)\n",
    "        \n",
    "        # total value to date\n",
    "        tvd = total_deposit + ti\n",
    "        print('{:<6} {:<8} {:<14} {:<22} {:<22} {:<22}'.format(j,deposit,total_deposit,i,ti,tvd))\n",
    "    \n",
    "    choice = input('Do you want to continue y/n: ')\n",
    "    if choice=='n':\n",
    "        print('\\nThank You')\n",
    "        break\n",
    "    else:\n",
    "        print('\\nPlease enter the details again.\\n')"
   ]
  }
 ],
 "metadata": {
  "kernelspec": {
   "display_name": "Python 3",
   "language": "python",
   "name": "python3"
  },
  "language_info": {
   "codemirror_mode": {
    "name": "ipython",
    "version": 3
   },
   "file_extension": ".py",
   "mimetype": "text/x-python",
   "name": "python",
   "nbconvert_exporter": "python",
   "pygments_lexer": "ipython3",
   "version": "3.8.5"
  }
 },
 "nbformat": 4,
 "nbformat_minor": 4
}
