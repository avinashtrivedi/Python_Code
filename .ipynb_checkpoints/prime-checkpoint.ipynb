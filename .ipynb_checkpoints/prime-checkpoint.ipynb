{
 "cells": [
  {
   "cell_type": "markdown",
   "metadata": {},
   "source": [
    "# Slow code"
   ]
  },
  {
   "cell_type": "code",
   "execution_count": 1,
   "metadata": {},
   "outputs": [],
   "source": [
    "def is_prime(fname):\n",
    "    try: # try except block to handle exception\n",
    "        fp = open(fname) # open a file\n",
    "        data = fp.readlines() # read lines\n",
    "        data = [int(i.strip()) for i in data] # convert line value into integer\n",
    "        mydict={} # empty dictionary\n",
    "        for i in data: # for each value in text file\n",
    "            count=0\n",
    "            if i==1: # if value is 1 ,it is not prime\n",
    "                mydict[i] = False\n",
    "            else:    # otherwise divide that number from 1 to itself\n",
    "                for j in range(1,i+1):\n",
    "                    if i%j==0: # increase the count if it is completely divisible\n",
    "                        count = count + 1 \n",
    "                # if count==2 then its a prime \n",
    "                if count==2:\n",
    "                    mydict[i] = True\n",
    "                else: # else its not a prime\n",
    "                    mydict[i] = False\n",
    "        return mydict # return dictionary\n",
    "    except: # if wrong file name is given return 'Wrong file name.'\n",
    "        return 'Wrong file name.'"
   ]
  },
  {
   "cell_type": "code",
   "execution_count": 2,
   "metadata": {},
   "outputs": [
    {
     "data": {
      "text/plain": [
       "{1: False,\n",
       " 2: True,\n",
       " 3: True,\n",
       " 4: False,\n",
       " 5: True,\n",
       " 6: False,\n",
       " 7: True,\n",
       " 8: False,\n",
       " 9: False,\n",
       " 10: False,\n",
       " 11: True,\n",
       " 15: False,\n",
       " 99: False,\n",
       " 100001: False,\n",
       " 100019: True,\n",
       " 99999989: True,\n",
       " 99999991: False}"
      ]
     },
     "execution_count": 2,
     "metadata": {},
     "output_type": "execute_result"
    }
   ],
   "source": [
    "is_prime('numbers.txt')"
   ]
  },
  {
   "cell_type": "markdown",
   "metadata": {},
   "source": [
    "# Fast Code: Another Technique"
   ]
  },
  {
   "cell_type": "code",
   "execution_count": 3,
   "metadata": {},
   "outputs": [],
   "source": [
    "def is_prime(fname):\n",
    "    try:\n",
    "        fp = open(fname)\n",
    "        data = fp.readlines()\n",
    "        data = [int(i.strip()) for i in data]\n",
    "        mydict={}\n",
    "        for i in data:\n",
    "            sqrt_x = int(i**.5) # find square root of a given value\n",
    "            if i==1:\n",
    "                mydict[i] = False\n",
    "            else:\n",
    "                # run the loop from 2 till their square root\n",
    "                # e.g. for 9 ,loop will run from 2 to 3 ,as 3 is square root of 9\n",
    "                # and if 9 is divisible by any number between 2 to their square root\n",
    "                # it means ,it is not prime\n",
    "                # else it is prime\n",
    "                for j in range(2,sqrt_x+1): \n",
    "                    if i%j==0:\n",
    "                        mydict[i] = False\n",
    "                        break\n",
    "                else:\n",
    "                     mydict[i] = True\n",
    "        return mydict\n",
    "    except:\n",
    "        return 'Wrong file name.'"
   ]
  },
  {
   "cell_type": "code",
   "execution_count": 4,
   "metadata": {},
   "outputs": [
    {
     "data": {
      "text/plain": [
       "{1: False,\n",
       " 2: True,\n",
       " 3: True,\n",
       " 4: False,\n",
       " 5: True,\n",
       " 6: False,\n",
       " 7: True,\n",
       " 8: False,\n",
       " 9: False,\n",
       " 10: False,\n",
       " 11: True,\n",
       " 15: False,\n",
       " 99: False,\n",
       " 100001: False,\n",
       " 100019: True,\n",
       " 99999989: True,\n",
       " 99999991: False}"
      ]
     },
     "execution_count": 4,
     "metadata": {},
     "output_type": "execute_result"
    }
   ],
   "source": [
    "is_prime('numbers.txt')"
   ]
  },
  {
   "cell_type": "code",
   "execution_count": null,
   "metadata": {},
   "outputs": [],
   "source": []
  }
 ],
 "metadata": {
  "kernelspec": {
   "display_name": "Python 3",
   "language": "python",
   "name": "python3"
  },
  "language_info": {
   "codemirror_mode": {
    "name": "ipython",
    "version": 3
   },
   "file_extension": ".py",
   "mimetype": "text/x-python",
   "name": "python",
   "nbconvert_exporter": "python",
   "pygments_lexer": "ipython3",
   "version": "3.8.5"
  }
 },
 "nbformat": 4,
 "nbformat_minor": 4
}
