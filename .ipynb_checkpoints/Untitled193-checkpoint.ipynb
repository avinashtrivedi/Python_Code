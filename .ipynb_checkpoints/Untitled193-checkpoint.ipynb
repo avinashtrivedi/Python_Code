{
 "cells": [
  {
   "cell_type": "code",
   "execution_count": 13,
   "metadata": {},
   "outputs": [
    {
     "name": "stdout",
     "output_type": "stream",
     "text": [
      "Enter height of tree: 7\n",
      "*\n",
      "**\n",
      "***\n",
      "****\n",
      "*****\n",
      "******\n",
      "*******\n",
      "******\n",
      "*****\n",
      "****\n",
      "***\n",
      "**\n",
      "*\n"
     ]
    }
   ],
   "source": [
    "# Get tree height from user\n",
    "height = int(input('Enter height of tree: '))\n",
    "# Draw one row for every unit of height\n",
    "row = 0\n",
    "while row < height:\n",
    "    # Print leading spaces; as row gets bigger, the number of\n",
    "    # leading spaces gets smaller\n",
    "    \n",
    "#     count = 0\n",
    "#     while count < height - row:\n",
    "#         print(end=' ')\n",
    "#         count += 1\n",
    "\n",
    "    # Print out stars, twice the current row plus one:\n",
    "    # 1. number of stars on left side of tree\n",
    "    # = current row value\n",
    "    # 2. exactly one star in the center of tree\n",
    "    # 3. number of stars on right side of tree\n",
    "    # = current row value\n",
    "    count = 0\n",
    "    while count < row + 1:\n",
    "        print(end='*')\n",
    "        count += 1\n",
    "    # Move cursor down to next line\n",
    "    print()\n",
    "    row += 1 # Consider next row\n",
    "\n",
    "# Extra code added\n",
    "# it will print downward half of a Triangle\n",
    "for i in range(height-1,0,-1):\n",
    "    print(i*'*')"
   ]
  },
  {
   "cell_type": "code",
   "execution_count": null,
   "metadata": {},
   "outputs": [],
   "source": []
  }
 ],
 "metadata": {
  "kernelspec": {
   "display_name": "Python 3",
   "language": "python",
   "name": "python3"
  },
  "language_info": {
   "codemirror_mode": {
    "name": "ipython",
    "version": 3
   },
   "file_extension": ".py",
   "mimetype": "text/x-python",
   "name": "python",
   "nbconvert_exporter": "python",
   "pygments_lexer": "ipython3",
   "version": "3.8.5"
  }
 },
 "nbformat": 4,
 "nbformat_minor": 4
}
