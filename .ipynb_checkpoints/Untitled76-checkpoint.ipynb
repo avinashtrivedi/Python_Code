{
 "cells": [
  {
   "cell_type": "code",
   "execution_count": 1,
   "metadata": {},
   "outputs": [
    {
     "name": "stdout",
     "output_type": "stream",
     "text": [
      "enter x co-ordinate3\n",
      "enter y co-ordinate4\n"
     ]
    }
   ],
   "source": [
    "x = int(input('enter x co-ordinate'))\n",
    "y = int(input('enter y co-ordinate'))"
   ]
  },
  {
   "cell_type": "code",
   "execution_count": null,
   "metadata": {},
   "outputs": [],
   "source": [
    "if x > 0 and y > 0:\n",
    "    print('1st quardant')\n",
    "elif x > 0 and y<0 :\n",
    "    print('4th quadrant')\n",
    "elif ...\n",
    "\n",
    "x=0 and y=0: \n",
    "    print('origin')"
   ]
  },
  {
   "cell_type": "code",
   "execution_count": null,
   "metadata": {},
   "outputs": [],
   "source": [
    "x1 = int(input('enter x co-ordinate'))\n",
    "y1\n",
    "z1\n",
    "\n",
    "x2\n",
    "y2\n",
    "z2\n",
    "\n",
    "dis = ((x1-x2)**2  + (y1-y2)**2 + (z1-z2)**2 ) ** .5\n"
   ]
  },
  {
   "cell_type": "code",
   "execution_count": 2,
   "metadata": {},
   "outputs": [
    {
     "data": {
      "text/plain": [
       "16"
      ]
     },
     "execution_count": 2,
     "metadata": {},
     "output_type": "execute_result"
    }
   ],
   "source": [
    "4**2"
   ]
  },
  {
   "cell_type": "code",
   "execution_count": 3,
   "metadata": {},
   "outputs": [
    {
     "data": {
      "text/plain": [
       "2.0"
      ]
     },
     "execution_count": 3,
     "metadata": {},
     "output_type": "execute_result"
    }
   ],
   "source": [
    "4**.5"
   ]
  },
  {
   "cell_type": "code",
   "execution_count": 6,
   "metadata": {},
   "outputs": [
    {
     "name": "stdout",
     "output_type": "stream",
     "text": [
      "i am odd 1\n",
      "i am even 2\n",
      "i am odd 3\n",
      "i am even 4\n",
      "i am odd 5\n",
      "i am even 6\n",
      "i am odd 7\n",
      "i am even 8\n",
      "i am odd 9\n",
      "i am even 10\n"
     ]
    }
   ],
   "source": []
  },
  {
   "cell_type": "code",
   "execution_count": null,
   "metadata": {},
   "outputs": [],
   "source": []
  }
 ],
 "metadata": {
  "kernelspec": {
   "display_name": "Python 3",
   "language": "python",
   "name": "python3"
  },
  "language_info": {
   "codemirror_mode": {
    "name": "ipython",
    "version": 3
   },
   "file_extension": ".py",
   "mimetype": "text/x-python",
   "name": "python",
   "nbconvert_exporter": "python",
   "pygments_lexer": "ipython3",
   "version": "3.8.5"
  }
 },
 "nbformat": 4,
 "nbformat_minor": 4
}
