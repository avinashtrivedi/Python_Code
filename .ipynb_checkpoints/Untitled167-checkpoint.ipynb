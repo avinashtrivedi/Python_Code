{
 "cells": [
  {
   "cell_type": "code",
   "execution_count": 1,
   "metadata": {},
   "outputs": [
    {
     "name": "stdout",
     "output_type": "stream",
     "text": [
      "********************Section A***********************************\n",
      "Enter the input string: abc\n",
      "The length of the input string is 3\n",
      "********************Section B***********************************\n",
      "The input string with characters converted to upper case is ABC\n",
      "********************Section C***********************************\n",
      "The palindrome is ABCCBA\n",
      "Comparison result is True\n",
      "********************Section D***********************************\n",
      "The variable result2 is True\n"
     ]
    }
   ],
   "source": [
    "# print the star\n",
    "print(20*'*'+'Section A'+35*'*')\n",
    "my_input = input(\"Enter the input string: \")\n",
    "print(\"The length of the input string is\",len(my_input))\n",
    "\n",
    "print(20*'*'+'Section B'+35*'*')\n",
    "output1 = my_input.upper()\n",
    "print(\"The input string with characters converted to upper case is\",output1)\n",
    "\n",
    "print(20*'*'+'Section C'+35*'*')\n",
    "\n",
    "# output1[::-1] will reverse the string\n",
    "palindrome = output1 + output1[::-1]\n",
    "print(\"The palindrome is\",palindrome)\n",
    "check_palindrome = len(palindrome)==2*len(output1)\n",
    "print(\"Comparison result is\",check_palindrome)\n",
    "\n",
    "print(20*'*'+'Section D'+35*'*')\n",
    "output2 = len(palindrome)==2*len(output1)\n",
    "print(\"The variable result2 is\",output2)"
   ]
  },
  {
   "cell_type": "code",
   "execution_count": 3,
   "metadata": {},
   "outputs": [],
   "source": [
    "import requests\n",
    "\n",
    "url=\"https://api.countrylayer.com/v2/currency/{USD}?access_key=3ba3ef51033e96f468390ea8c87b66d5\"\n",
    "# this is a link of rest country API where you will see the bunch of JSON data (copy whole data and paste into this site https://jsoneditoronline.org/ to view it in Graphically).z=requests.get(url)\n",
    "# here i loaded it into json format\n",
    "z=requests.get(url)\n",
    "# I used requests module to fetch data from above link.\n",
    "data=z.json()"
   ]
  },
  {
   "cell_type": "code",
   "execution_count": 4,
   "metadata": {},
   "outputs": [
    {
     "data": {
      "text/plain": [
       "{'error': {'code': 'https_access_restricted',\n",
       "  'message': 'Access Restricted - Your current Subscription Plan does not support HTTPS Encryption.'}}"
      ]
     },
     "execution_count": 4,
     "metadata": {},
     "output_type": "execute_result"
    }
   ],
   "source": [
    "data"
   ]
  },
  {
   "cell_type": "code",
   "execution_count": 5,
   "metadata": {},
   "outputs": [
    {
     "ename": "ModuleNotFoundError",
     "evalue": "No module named 'sumpy'",
     "output_type": "error",
     "traceback": [
      "\u001b[1;31m---------------------------------------------------------------------------\u001b[0m",
      "\u001b[1;31mModuleNotFoundError\u001b[0m                       Traceback (most recent call last)",
      "\u001b[1;32m<ipython-input-5-adfffc018d69>\u001b[0m in \u001b[0;36m<module>\u001b[1;34m\u001b[0m\n\u001b[1;32m----> 1\u001b[1;33m \u001b[1;32mimport\u001b[0m \u001b[0msumpy\u001b[0m\u001b[1;33m\u001b[0m\u001b[1;33m\u001b[0m\u001b[0m\n\u001b[0m",
      "\u001b[1;31mModuleNotFoundError\u001b[0m: No module named 'sumpy'"
     ]
    }
   ],
   "source": [
    "import sumpy"
   ]
  },
  {
   "cell_type": "code",
   "execution_count": 6,
   "metadata": {},
   "outputs": [],
   "source": [
    "from sympy import *"
   ]
  },
  {
   "cell_type": "code",
   "execution_count": 7,
   "metadata": {},
   "outputs": [],
   "source": [
    "x, y, z = symbols('x y z')"
   ]
  },
  {
   "cell_type": "code",
   "execution_count": 8,
   "metadata": {},
   "outputs": [],
   "source": [
    " Phi = Xor(x,y,z)"
   ]
  },
  {
   "cell_type": "code",
   "execution_count": 9,
   "metadata": {},
   "outputs": [
    {
     "data": {
      "text/latex": [
       "$\\displaystyle x \\veebar y \\veebar z$"
      ],
      "text/plain": [
       "x ^ y ^ z"
      ]
     },
     "execution_count": 9,
     "metadata": {},
     "output_type": "execute_result"
    }
   ],
   "source": [
    "Phi"
   ]
  },
  {
   "cell_type": "code",
   "execution_count": null,
   "metadata": {},
   "outputs": [],
   "source": []
  }
 ],
 "metadata": {
  "kernelspec": {
   "display_name": "Python 3",
   "language": "python",
   "name": "python3"
  },
  "language_info": {
   "codemirror_mode": {
    "name": "ipython",
    "version": 3
   },
   "file_extension": ".py",
   "mimetype": "text/x-python",
   "name": "python",
   "nbconvert_exporter": "python",
   "pygments_lexer": "ipython3",
   "version": "3.8.5"
  }
 },
 "nbformat": 4,
 "nbformat_minor": 4
}
