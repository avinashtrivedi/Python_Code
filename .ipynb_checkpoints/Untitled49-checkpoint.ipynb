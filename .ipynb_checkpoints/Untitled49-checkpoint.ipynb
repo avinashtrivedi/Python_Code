{
 "cells": [
  {
   "cell_type": "code",
   "execution_count": 5,
   "metadata": {},
   "outputs": [],
   "source": [
    "rooms = {'Main Hall':{'East':'Lab'},\n",
    "       'Mess Hall':{'East':'Sick Bay'}}"
   ]
  },
  {
   "cell_type": "code",
   "execution_count": 6,
   "metadata": {},
   "outputs": [
    {
     "data": {
      "text/plain": [
       "{'Main Hall': {'East': 'Lab'}, 'Mess Hall': {'East': 'Sick Bay'}}"
      ]
     },
     "execution_count": 6,
     "metadata": {},
     "output_type": "execute_result"
    }
   ],
   "source": [
    "rooms"
   ]
  },
  {
   "cell_type": "code",
   "execution_count": 7,
   "metadata": {},
   "outputs": [],
   "source": [
    "current_room = 'Main Hall'"
   ]
  },
  {
   "cell_type": "code",
   "execution_count": 8,
   "metadata": {},
   "outputs": [],
   "source": [
    "inventory = []"
   ]
  },
  {
   "cell_type": "code",
   "execution_count": null,
   "metadata": {},
   "outputs": [],
   "source": [
    "while True:\n",
    "    if current_room = 'Exit Hanger':\n",
    "        print('You are in',current_room)\n",
    "        print('Inventory',inventory)\n",
    "        if len(inventory)!=6:\n",
    "            print('You have not collected all items.')\n",
    "            print('You lost! :(')\n",
    "            break\n",
    "        else:\n",
    "            print('You have collected all  items to defeat Giant Robot')\n",
    "            print('You won!:)')\n",
    "    else:\n",
    "        print('You are in',current_room)\n",
    "        if 'item' in rooms[current_room]:\n",
    "            print('you see',rooms[current_room]['item'])"
   ]
  },
  {
   "cell_type": "code",
   "execution_count": null,
   "metadata": {},
   "outputs": [],
   "source": []
  },
  {
   "cell_type": "code",
   "execution_count": null,
   "metadata": {},
   "outputs": [],
   "source": [
    "# importing the necessary library\n",
    "\n",
    "import pwd\n",
    "import grp\n",
    "import subprocess\n",
    "import re\n",
    "import socket\n",
    "\n",
    "# create a txt file object with write permission\n",
    "FileObj = open(\"sysinfo.txt\", \"w\")\n",
    "\n",
    "# getting the machine name \n",
    "HostName = socket.gethostname()\n",
    "FileObj.write(f\"Machine Name: {HostName}\\n\")\n",
    "\n",
    "# user and group it is associated with\n",
    "FileObj.write(\"users and their associated group: \\n\")\n",
    "fname.write(\"\\n\") \n",
    "fname.write(60*\"-\")  # write '-' 60 times\n",
    "fname.write(\"\\n\")\n",
    "fname.write(f\"{'User'.ljust(30)} {'Group'.ljust(30)}\\n\")\n",
    "# go through all the users pwd.getpwall() \n",
    "# and write user and the group to the file one by one\n",
    "for p in pwd.getpwall():        \n",
    "    fname.write(f\"{p[0].ljust(30)},{grp.getgrgid(p[3])[0].ljust(30)}\\n\")\n",
    "fname.write(60*\"-\") \n",
    "fname.write(\"\\n\")\n",
    "# processor information\n",
    "# linux command to return processor information\n",
    "command = \"cat /proc/cpuinfo\"      \n",
    "# execute that command using python and store the result\n",
    "processor_info = subprocess.check_output(command, shell=True).strip()\n",
    "processor_info = processor_info.decode('UTF-8')\n",
    "processor_info = processor_info.split(\"\\n\")\n",
    "fname.write(\"\\n\") \n",
    "# write processor information to the file\n",
    "for p in processor_info:\n",
    "    if \"processor\" in p:\n",
    "        fname.write(\"\\n\") \n",
    "        fname.write(f'Processor:{re.sub( \".*processor.*:\", \"\", p,1)}\\n')      # processor\n",
    "    if \"vendor_id\" in p:\n",
    "        fname.write(f'Vendor id:{re.sub( \".*vendor_id.*:\", \"\", p,1)}\\n')      # vendor id\n",
    "    if \"model\" in p:\n",
    "        fname.write(f'Model:{re.sub( \".*model.*:\", \"\", p,1)}\\n')              # model\n",
    "    if \"model name\" in p:\n",
    "        fname.write(f'Model name:{re.sub( \".*model name.*:\", \"\", p,1)}\\n')    # model name\n",
    "    if \"cache size\" in p:\n",
    "        fname.write(f'Model name:{re.sub( \".*model name.*:\", \"\", p,1)}\\n')    # cache\n",
    "    \n",
    "fname.write(60*\"-\") \n",
    "fname.write(\"\\n\")\n",
    "# All services and current status\n",
    "\n",
    "# linux command to list all service and their current status\n",
    "command = \"systemctl list-unit-files\"  \n",
    "\n",
    "# execute that command using python and store the result\n",
    "services_info = subprocess.check_output(command, shell=True).strip()     \n",
    "services_info = services_info.decode('UTF-8')\n",
    "fname.write(\"\\n\")\n",
    "# write all service and current status to the file\n",
    "fname.write(services_info)   \n",
    "# close the file\n",
    "fname.close()                      \n",
    "print(\"File systeminfo.txt has been created in current directory containing all the necessary details\")"
   ]
  }
 ],
 "metadata": {
  "kernelspec": {
   "display_name": "Python 3",
   "language": "python",
   "name": "python3"
  },
  "language_info": {
   "codemirror_mode": {
    "name": "ipython",
    "version": 3
   },
   "file_extension": ".py",
   "mimetype": "text/x-python",
   "name": "python",
   "nbconvert_exporter": "python",
   "pygments_lexer": "ipython3",
   "version": "3.8.5"
  }
 },
 "nbformat": 4,
 "nbformat_minor": 4
}
