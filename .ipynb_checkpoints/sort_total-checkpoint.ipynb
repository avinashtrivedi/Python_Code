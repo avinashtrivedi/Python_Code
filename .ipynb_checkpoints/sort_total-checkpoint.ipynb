{
 "cells": [
  {
   "cell_type": "code",
   "execution_count": 1,
   "metadata": {},
   "outputs": [],
   "source": [
    "def findNumberInSortedList(x, lst):\n",
    "\n",
    "    import math\n",
    "\n",
    "    minIndex = 0\n",
    "    maxIndex = len(lst)-1\n",
    "\n",
    "    # this loop will run as long as minIndex <= maxIndex is satisfied.\n",
    "    while minIndex <= maxIndex:\n",
    "\n",
    "        midIndex = math.floor((minIndex + maxIndex) // 2)\n",
    "\n",
    "        # if element at midIndex is less than x then search in 2nd half of list\n",
    "        if lst[midIndex] < x:\n",
    "\n",
    "            minIndex = midIndex + 1\n",
    "\n",
    "        # if element at midIndex is more than x then search in 1st half of list\n",
    "        elif lst[midIndex] > x:\n",
    "\n",
    "            maxIndex = midIndex - 1\n",
    "\n",
    "        else:\n",
    "            \n",
    "            # return index of x, if x is in the sorted list\n",
    "            return midIndex\n",
    "\n",
    "    return -1 # return -1 if x is not in list"
   ]
  },
  {
   "cell_type": "code",
   "execution_count": 2,
   "metadata": {},
   "outputs": [
    {
     "data": {
      "text/plain": [
       "6"
      ]
     },
     "execution_count": 2,
     "metadata": {},
     "output_type": "execute_result"
    }
   ],
   "source": [
    "lst = [ 4,6,9,11,14,56,89 ]\n",
    "x = 89\n",
    "findNumberInSortedList(x,lst)"
   ]
  },
  {
   "cell_type": "code",
   "execution_count": 3,
   "metadata": {},
   "outputs": [
    {
     "data": {
      "text/plain": [
       "-1"
      ]
     },
     "execution_count": 3,
     "metadata": {},
     "output_type": "execute_result"
    }
   ],
   "source": [
    "lst = [ 4,6,9,11,14,56,89 ]\n",
    "x = 104\n",
    "findNumberInSortedList(x,lst)"
   ]
  },
  {
   "cell_type": "code",
   "execution_count": 4,
   "metadata": {},
   "outputs": [
    {
     "name": "stdout",
     "output_type": "stream",
     "text": [
      "-1\n",
      "-1\n",
      "0\n",
      "-1\n",
      "2\n",
      "-1\n",
      "0\n"
     ]
    }
   ],
   "source": [
    "number_to_search = [2,5,4,8,9,2,4]\n",
    "dict_memoization = {}\n",
    "for num in number_to_search:\n",
    "    if num in dict_memoization:\n",
    "        print(dict_memoization[num])\n",
    "    else:\n",
    "        print(findNumberInSortedList(num,lst))\n",
    "        dict_memoization[num] =  findNumberInSortedList(num,lst)"
   ]
  },
  {
   "cell_type": "code",
   "execution_count": 5,
   "metadata": {},
   "outputs": [],
   "source": [
    "from datascience import *"
   ]
  },
  {
   "cell_type": "code",
   "execution_count": 6,
   "metadata": {},
   "outputs": [
    {
     "data": {
      "text/plain": [
       "datascience.tables.Table"
      ]
     },
     "execution_count": 6,
     "metadata": {},
     "output_type": "execute_result"
    }
   ],
   "source": [
    "Table"
   ]
  },
  {
   "cell_type": "code",
   "execution_count": 7,
   "metadata": {},
   "outputs": [],
   "source": [
    "def sumAll():\n",
    "    while True:\n",
    "        try:\n",
    "            n = int(input('How many numbers you want to add? '))\n",
    "            if 1<=n<=10:\n",
    "                total = 0\n",
    "                for i in range(n):\n",
    "                    total += int(input('Enter number {}: '.format(i+1)))\n",
    "                return total\n",
    "            else:\n",
    "                print('The number has to be between 1 to 10:')\n",
    "        except:\n",
    "            print('Wrong input.')\n",
    "        "
   ]
  },
  {
   "cell_type": "code",
   "execution_count": 8,
   "metadata": {},
   "outputs": [],
   "source": [
    "def main():\n",
    "    print('\\nThe Sum of all the entered number is: ',sumAll())"
   ]
  },
  {
   "cell_type": "code",
   "execution_count": 9,
   "metadata": {},
   "outputs": [
    {
     "name": "stdout",
     "output_type": "stream",
     "text": [
      "How many numbers you want to add? 1\n",
      "Enter number 1: 1\n",
      "\n",
      "The Sum of all the entered number is:  1\n"
     ]
    }
   ],
   "source": [
    "if __name__ == \"__main__\":\n",
    "    main()"
   ]
  },
  {
   "cell_type": "code",
   "execution_count": 10,
   "metadata": {},
   "outputs": [
    {
     "name": "stdout",
     "output_type": "stream",
     "text": [
      "How many numbers you want to add? 1\n",
      "Enter number 1: 1\n",
      "\n",
      "The Sum of all the entered number is:  1\n"
     ]
    }
   ],
   "source": [
    "if __name__ == \"__main__\":\n",
    "    main()"
   ]
  },
  {
   "cell_type": "code",
   "execution_count": 11,
   "metadata": {},
   "outputs": [],
   "source": [
    "def Celsius_to_Fahrenheit(tmp):\n",
    "    \n",
    "    # convert Celsius to Fahrenheit\n",
    "    Temperature_Fahrenheit = (tmp*1.8) + 32\n",
    "    return Temperature_Fahrenheit"
   ]
  },
  {
   "cell_type": "code",
   "execution_count": 12,
   "metadata": {},
   "outputs": [],
   "source": [
    "def Fahrenheit_to_Celsius(tmp):\n",
    "    \n",
    "    # convert Fahrenheit to Celsius\n",
    "    Temperature_Celsius = (tmp- 32) * 5/9\n",
    "    return Temperature_Celsius"
   ]
  },
  {
   "cell_type": "code",
   "execution_count": 13,
   "metadata": {},
   "outputs": [],
   "source": [
    "# global variable\n",
    "GLOBAL_TMP = 0\n",
    "\n",
    "def main():\n",
    "    \n",
    "    # make it global here\n",
    "    global GLOBAL_TMP\n",
    "    \n",
    "    while True:\n",
    "        \n",
    "        # try-except block to handle exception.\n",
    "        try:\n",
    "            print('Choose from the below option.')\n",
    "            print('--------------------------------\\n')\n",
    "            print('Convert Fahrenheit to Celsius: 1')\n",
    "            print('Convert Celsius to Fahrenheit: 2')\n",
    "            print('Exit: x\\n')\n",
    "\n",
    "            choice = input('Enter your selection: ')\n",
    "            if choice.lower() == 'x':\n",
    "                break\n",
    "                \n",
    "            elif choice == '1':\n",
    "                tmp = float(input('Enter Temperature in Fahrenheit: '))\n",
    "                GLOBAL_TMP = Fahrenheit_to_Celsius(tmp)\n",
    "                \n",
    "            elif choice == '2':\n",
    "                tmp = float(input('Enter Temperature in Celsius: '))\n",
    "                GLOBAL_TMP = Celsius_to_Fahrenheit(tmp)\n",
    "            else:\n",
    "                print('Wrong selection,Please try again.')\n",
    "                \n",
    "            if choice == '1':\n",
    "                print('Temperature in Celsius:',round(GLOBAL_TMP,2),'\\n')\n",
    "                \n",
    "            elif choice == '2':\n",
    "                print('Temperature in Fahrenheit:',round(GLOBAL_TMP,2),'\\n')\n",
    "        except:\n",
    "            print('Wrong inputs.')"
   ]
  },
  {
   "cell_type": "code",
   "execution_count": 14,
   "metadata": {},
   "outputs": [
    {
     "name": "stdout",
     "output_type": "stream",
     "text": [
      "Choose from the below option.\n",
      "--------------------------------\n",
      "\n",
      "Convert Fahrenheit to Celsius: 1\n",
      "Convert Celsius to Fahrenheit: 2\n",
      "Exit: x\n",
      "\n",
      "Enter your selection: 1\n",
      "Enter Temperature in Fahrenheit: 45\n",
      "Temperature in Celsius: 7.22 \n",
      "\n",
      "Choose from the below option.\n",
      "--------------------------------\n",
      "\n",
      "Convert Fahrenheit to Celsius: 1\n",
      "Convert Celsius to Fahrenheit: 2\n",
      "Exit: x\n",
      "\n",
      "Enter your selection: 2\n",
      "Enter Temperature in Celsius: 7.22\n",
      "Temperature in Fahrenheit: 45.0 \n",
      "\n",
      "Choose from the below option.\n",
      "--------------------------------\n",
      "\n",
      "Convert Fahrenheit to Celsius: 1\n",
      "Convert Celsius to Fahrenheit: 2\n",
      "Exit: x\n",
      "\n",
      "Enter your selection: 100\n",
      "Wrong selection,Please try again.\n",
      "Choose from the below option.\n",
      "--------------------------------\n",
      "\n",
      "Convert Fahrenheit to Celsius: 1\n",
      "Convert Celsius to Fahrenheit: 2\n",
      "Exit: x\n",
      "\n",
      "Enter your selection: x\n"
     ]
    }
   ],
   "source": [
    "if __name__ == \"__main__\":\n",
    "    main()"
   ]
  },
  {
   "cell_type": "code",
   "execution_count": null,
   "metadata": {},
   "outputs": [],
   "source": []
  }
 ],
 "metadata": {
  "kernelspec": {
   "display_name": "Python 3",
   "language": "python",
   "name": "python3"
  },
  "language_info": {
   "codemirror_mode": {
    "name": "ipython",
    "version": 3
   },
   "file_extension": ".py",
   "mimetype": "text/x-python",
   "name": "python",
   "nbconvert_exporter": "python",
   "pygments_lexer": "ipython3",
   "version": "3.8.5"
  }
 },
 "nbformat": 4,
 "nbformat_minor": 4
}
