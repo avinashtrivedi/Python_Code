{
 "cells": [
  {
   "cell_type": "code",
   "execution_count": 1,
   "metadata": {},
   "outputs": [
    {
     "name": "stdout",
     "output_type": "stream",
     "text": [
      "Enter the number of fire stations you want to build: 3\n",
      "\n",
      "\n",
      "City names for fire stations: 1\n",
      "-------------------------------\n",
      "First City name: city66\n",
      "Second City name: city2\n",
      "Wrong city name, Please try again\n",
      "\n",
      "City names for fire stations: 1\n",
      "-------------------------------\n",
      "First City name: city1\n",
      "Second City name: city2\n",
      "The fire stations you choose reach to city1 and city2\n",
      "Financial cost of building the selected stations: 5000\n",
      "\n",
      "City names for fire stations: 2\n",
      "-------------------------------\n",
      "First City name: city4\n",
      "Second City name: city5\n",
      "The fire stations you choose reach to city4 and city5\n",
      "Financial cost of building the selected stations: 5800\n",
      "\n",
      "City names for fire stations: 3\n",
      "-------------------------------\n",
      "First City name: city5\n",
      "Second City name: city6\n",
      "The fire stations you choose reach to city5 and city6\n",
      "Financial cost of building the selected stations: 6200\n"
     ]
    }
   ],
   "source": [
    "# store the data\n",
    "data = [[0,10,20,30,30,20,5000],\n",
    "       [10,0,25,35,20,10,7000],\n",
    "       [20,25,0,15,30,20,6500],\n",
    "       [30,35,15,0,15,25,5800],\n",
    "       [30,20,30,15,0,14,6200],\n",
    "       [20,10,20,25,14,0,4500]]\n",
    "\n",
    "# take input\n",
    "n = int(input('Enter the number of fire stations you want to build: '))\n",
    "\n",
    "# store city name\n",
    "CITY = {'city1':0,'city2':1,'city3':2,'city4':3,'city5':4,'city6':5}\n",
    "i = 1\n",
    "print()\n",
    "\n",
    "# loop to receive city names and do the needful\n",
    "while i<=n:\n",
    "    print()\n",
    "    print('City names for fire stations:',i)\n",
    "    print('-------------------------------')\n",
    "    a = input('First City name: ')\n",
    "    b = input('Second City name: ')\n",
    "    \n",
    "    # if its valid city name\n",
    "    if a in list(CITY) and b in list(CITY):\n",
    "        i = i + 1\n",
    "        \n",
    "        # if distance is less than 15 min\n",
    "        if data[CITY[a]][CITY[b]]<=15:\n",
    "            print('The fire stations you choose reach to {} and {}'.format(a,b))\n",
    "        \n",
    "        print('Financial cost of building the selected stations:',data[CITY[a]][-1])\n",
    "    else:\n",
    "        print('Wrong city name, Please try again') "
   ]
  },
  {
   "cell_type": "code",
   "execution_count": null,
   "metadata": {},
   "outputs": [],
   "source": []
  }
 ],
 "metadata": {
  "kernelspec": {
   "display_name": "Python 3",
   "language": "python",
   "name": "python3"
  },
  "language_info": {
   "codemirror_mode": {
    "name": "ipython",
    "version": 3
   },
   "file_extension": ".py",
   "mimetype": "text/x-python",
   "name": "python",
   "nbconvert_exporter": "python",
   "pygments_lexer": "ipython3",
   "version": "3.8.5"
  }
 },
 "nbformat": 4,
 "nbformat_minor": 4
}
