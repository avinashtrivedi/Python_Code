{
 "cells": [
  {
   "cell_type": "code",
   "execution_count": 1,
   "metadata": {},
   "outputs": [],
   "source": [
    "def score_match(players):\n",
    "\n",
    "    \"\"\"\n",
    "    >>> score_match({'Sombra': [10,22,24],'Tracer': [13,25,24],'Bastion':[23,38,10],'Widowmaker':[14,39,40]})\n",
    "    {'Sombra': ['Tracer'], 'Tracer': ['Sombra'], 'Bastion': ['Widowmaker'], 'Widowmaker': ['Bastion']}\n",
    "    \n",
    "    >>> score_match({'Sombra': [19,22,22],'Tracer': [20,24,24],'Bastion':[22,23,25]})\n",
    "    {'Sombra': ['Bastion', 'Tracer'], 'Tracer': ['Bastion', 'Sombra'], 'Bastion': ['Sombra', 'Tracer']}\n",
    "\n",
    "    >>> score_match({'Hanzo': [21],'Mei': [20,24,24], 'Bastion':[10]})\n",
    "    {'Hanzo': ['Mei'], 'Mei': ['Hanzo'], 'Bastion': []}\n",
    "    \"\"\"\n",
    "    \n",
    "    # It is a list comprehension inside a dictionary comprehension.\n",
    "    # List comprehension to get the matched player\n",
    "    # and dictionary comprehension to create a corresponding dictionary key:value pairs\n",
    "    \n",
    "    matched_player = {k:sorted([k1 for k1,v1 in players.items() if k!=k1 \n",
    "                                and abs(min(v)-min(v1))<=5 \n",
    "                                and abs(max(v)-max(v1))<=5]) for k,v in players.items()}\n",
    "    return matched_player"
   ]
  },
  {
   "cell_type": "markdown",
   "metadata": {},
   "source": [
    "# Test"
   ]
  },
  {
   "cell_type": "code",
   "execution_count": 2,
   "metadata": {},
   "outputs": [
    {
     "data": {
      "text/plain": [
       "{'Sombra': ['Tracer'],\n",
       " 'Tracer': ['Sombra'],\n",
       " 'Bastion': ['Widowmaker'],\n",
       " 'Widowmaker': ['Bastion']}"
      ]
     },
     "execution_count": 2,
     "metadata": {},
     "output_type": "execute_result"
    }
   ],
   "source": [
    "score_match({'Sombra': [10,22,24],'Tracer': [13,25,24],'Bastion':[23,38,10],'Widowmaker':[14,39,40]})"
   ]
  },
  {
   "cell_type": "code",
   "execution_count": 3,
   "metadata": {},
   "outputs": [
    {
     "data": {
      "text/plain": [
       "{'Sombra': ['Bastion', 'Tracer'],\n",
       " 'Tracer': ['Bastion', 'Sombra'],\n",
       " 'Bastion': ['Sombra', 'Tracer']}"
      ]
     },
     "execution_count": 3,
     "metadata": {},
     "output_type": "execute_result"
    }
   ],
   "source": [
    "score_match({'Sombra': [19,22,22],'Tracer': [20,24,24],'Bastion':[22,23,25]})"
   ]
  },
  {
   "cell_type": "code",
   "execution_count": 4,
   "metadata": {},
   "outputs": [
    {
     "data": {
      "text/plain": [
       "{'Hanzo': ['Mei'], 'Mei': ['Hanzo'], 'Bastion': []}"
      ]
     },
     "execution_count": 4,
     "metadata": {},
     "output_type": "execute_result"
    }
   ],
   "source": [
    "score_match({'Hanzo': [21],'Mei': [20,24,24], 'Bastion':[10]})"
   ]
  },
  {
   "cell_type": "code",
   "execution_count": null,
   "metadata": {},
   "outputs": [],
   "source": []
  },
  {
   "cell_type": "code",
   "execution_count": null,
   "metadata": {},
   "outputs": [],
   "source": []
  }
 ],
 "metadata": {
  "kernelspec": {
   "display_name": "Python 3",
   "language": "python",
   "name": "python3"
  },
  "language_info": {
   "codemirror_mode": {
    "name": "ipython",
    "version": 3
   },
   "file_extension": ".py",
   "mimetype": "text/x-python",
   "name": "python",
   "nbconvert_exporter": "python",
   "pygments_lexer": "ipython3",
   "version": "3.8.5"
  }
 },
 "nbformat": 4,
 "nbformat_minor": 4
}
