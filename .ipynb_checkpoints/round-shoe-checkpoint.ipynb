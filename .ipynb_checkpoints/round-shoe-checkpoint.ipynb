{
 "cells": [
  {
   "cell_type": "markdown",
   "metadata": {},
   "source": [
    "# Algorithm"
   ]
  },
  {
   "cell_type": "markdown",
   "metadata": {},
   "source": [
    "function(list_foot_length)\n",
    "\n",
    "- 1) Create a temporary list to store the rounded values,i.e converted_list\n",
    "- 2) choose 1st element from given list of foot lengths, i.e list_foot_length\n",
    "- 3) round it to nearest 0.5 using round(element*2)/2\n",
    "- 4) store this rounded value to temporary list,i.e converted_list.append(round(element*2)/2)\n",
    "- 5) repeat step 2 and 3 for all the remaining list elements.\n",
    "- 6) finally, return the temporary list,i.e return converted_list"
   ]
  },
  {
   "cell_type": "markdown",
   "metadata": {},
   "source": [
    "# Python code"
   ]
  },
  {
   "cell_type": "code",
   "execution_count": 21,
   "metadata": {},
   "outputs": [],
   "source": [
    "# creating a function to round list of foot lengths\n",
    "# to its nearest 0.5\n",
    "def rounding(list_foot_length):\n",
    "    # creating a temporary list to store the rounded foor lengths.\n",
    "    converted_list=[]\n",
    "    # round each list element to its nearest 0.5\n",
    "    # using round(i*2)/2,as given in question\n",
    "    for i in list_foot_length:\n",
    "        #store each values in temporary list\n",
    "        converted_list.append(round(i*2)/2)\n",
    "    # finally return the list\n",
    "    return converted_list"
   ]
  },
  {
   "cell_type": "code",
   "execution_count": 22,
   "metadata": {},
   "outputs": [
    {
     "data": {
      "text/plain": [
       "[1.0, 2.5, 1.5, 8.0]"
      ]
     },
     "execution_count": 22,
     "metadata": {},
     "output_type": "execute_result"
    }
   ],
   "source": [
    "rounding([1.2,2.4,1.3,8.1]) # call function rounding() with [1.2,2.4,1.3,8.1] as list of foot lengths"
   ]
  },
  {
   "cell_type": "code",
   "execution_count": 23,
   "metadata": {},
   "outputs": [
    {
     "data": {
      "text/plain": [
       "[4.0, 3.5, 1.0, 6.5, 8.5, 8.5]"
      ]
     },
     "execution_count": 23,
     "metadata": {},
     "output_type": "execute_result"
    }
   ],
   "source": [
    "rounding([4.2,3.7,1.1,6.5,8.4,8.6]) # call function rounding() with [4.2,3.7,1.1,6.5,8.4,8.6] as foot lengths"
   ]
  },
  {
   "cell_type": "markdown",
   "metadata": {},
   "source": [
    "# Test Case"
   ]
  },
  {
   "cell_type": "markdown",
   "metadata": {},
   "source": [
    "<table style=\"border: 1px solid black;\">\n",
    "  <tr style=\"border: 1px solid black;\">\n",
    "    <th style=\"border: 1px solid black;\">Input</th>\n",
    "    <th style=\"border: 1px solid black;\">Output</th>\n",
    "    <th style=\"border: 1px solid black;\">Brief explanation </th>\n",
    "  </tr>\n",
    "  <tr style=\"border: 1px solid black;\">\n",
    "    <td style=\"border: 1px solid black;\">[1.2,2.4,1.3,8.1]</td>\n",
    "    <td style=\"border: 1px solid black;\">[1.0, 2.5, 1.5, 8.0]</td>\n",
    "    <td style=\"border: 1px solid black;\">To test foot length,below 0.5 in decimal place,like 1.2 ,Here 0.2 is below 0.5</td>\n",
    "  </tr>\n",
    "  <tr style=\"border: 1px solid black;\">\n",
    "    <td style=\"border: 1px solid black;\">[4.2,3.7,1.1,6.5,8.4,8.6]</td>\n",
    "    <td style=\"border: 1px solid black;\">[4.0, 3.5, 1.0, 6.5, 8.5, 8.5]</td>\n",
    "    <td style=\"border: 1px solid black;\">To test mix foot length,i.e equal to 0.5,above 0.5 and below 0.5 in decimal places</td>\n",
    "  </tr>\n",
    " \n",
    "</table>"
   ]
  },
  {
   "cell_type": "code",
   "execution_count": null,
   "metadata": {},
   "outputs": [],
   "source": []
  }
 ],
 "metadata": {
  "kernelspec": {
   "display_name": "Python 3",
   "language": "python",
   "name": "python3"
  },
  "language_info": {
   "codemirror_mode": {
    "name": "ipython",
    "version": 3
   },
   "file_extension": ".py",
   "mimetype": "text/x-python",
   "name": "python",
   "nbconvert_exporter": "python",
   "pygments_lexer": "ipython3",
   "version": "3.8.5"
  }
 },
 "nbformat": 4,
 "nbformat_minor": 4
}
