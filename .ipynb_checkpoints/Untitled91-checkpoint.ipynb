{
 "cells": [
  {
   "cell_type": "code",
   "execution_count": 1,
   "metadata": {},
   "outputs": [],
   "source": [
    "def get_grade(fname):\n",
    "    \n",
    "    # open a file in read mode\n",
    "    fobj = open(fname,'r')\n",
    "    \n",
    "    # read lines\n",
    "    data = fobj.readlines()\n",
    "    grade=0\n",
    "    \n",
    "    # process the individual rows\n",
    "    for row in data:\n",
    "        row = row.split(',') # split the rows considering comma as separator\n",
    "        \n",
    "        # compute grades\n",
    "        grade = grade + (float(row[2])/ float(row[3]))*float(row[4])\n",
    "    \n",
    "    # return grade\n",
    "    return grade*100"
   ]
  },
  {
   "cell_type": "code",
   "execution_count": 2,
   "metadata": {},
   "outputs": [
    {
     "data": {
      "text/plain": [
       "91.25"
      ]
     },
     "execution_count": 2,
     "metadata": {},
     "output_type": "execute_result"
    }
   ],
   "source": [
    "get_grade('sample.cs1301')"
   ]
  },
  {
   "cell_type": "code",
   "execution_count": null,
   "metadata": {},
   "outputs": [],
   "source": []
  }
 ],
 "metadata": {
  "kernelspec": {
   "display_name": "Python 3",
   "language": "python",
   "name": "python3"
  },
  "language_info": {
   "codemirror_mode": {
    "name": "ipython",
    "version": 3
   },
   "file_extension": ".py",
   "mimetype": "text/x-python",
   "name": "python",
   "nbconvert_exporter": "python",
   "pygments_lexer": "ipython3",
   "version": "3.8.5"
  }
 },
 "nbformat": 4,
 "nbformat_minor": 4
}
