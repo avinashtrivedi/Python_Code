{
 "cells": [
  {
   "cell_type": "code",
   "execution_count": 1,
   "metadata": {},
   "outputs": [],
   "source": [
    "import math\n",
    "N = 3 # number of document"
   ]
  },
  {
   "cell_type": "code",
   "execution_count": 2,
   "metadata": {},
   "outputs": [],
   "source": [
    "DocA = 'Document classification or document categorization is a problem in computer science.'\n",
    "DocB = 'Document classification task is to assign a document to one or more classes or categories.'\n",
    "DocC = 'Documents may be classified according to their subjects or according to other attributes.'"
   ]
  },
  {
   "cell_type": "code",
   "execution_count": 3,
   "metadata": {},
   "outputs": [],
   "source": [
    "# preprocessed text data from question 4\n",
    "\n",
    "DocA = ['document','classify','document','category','problem','computer','science']\n",
    "DocB = ['document','classify','task','assign','document','class','category']\n",
    "DocC = ['document','classify','accord','subject','accord','attribute']"
   ]
  },
  {
   "cell_type": "code",
   "execution_count": 4,
   "metadata": {},
   "outputs": [],
   "source": [
    "# get corpus\n",
    "corpus = []\n",
    "Doc =  DocA + DocB + DocC\n",
    "\n",
    "for word in Doc:\n",
    "    if word not in corpus:\n",
    "        corpus.append(word)"
   ]
  },
  {
   "cell_type": "code",
   "execution_count": 5,
   "metadata": {},
   "outputs": [
    {
     "data": {
      "text/plain": [
       "['document',\n",
       " 'classify',\n",
       " 'category',\n",
       " 'problem',\n",
       " 'computer',\n",
       " 'science',\n",
       " 'task',\n",
       " 'assign',\n",
       " 'class',\n",
       " 'accord',\n",
       " 'subject',\n",
       " 'attribute']"
      ]
     },
     "execution_count": 5,
     "metadata": {},
     "output_type": "execute_result"
    }
   ],
   "source": [
    "corpus"
   ]
  },
  {
   "cell_type": "code",
   "execution_count": 6,
   "metadata": {},
   "outputs": [],
   "source": [
    "# assign id to word\n",
    "word_vocab_dict = {}\n",
    "\n",
    "for i,word in enumerate(corpus):\n",
    "    word_vocab_dict[i] = word"
   ]
  },
  {
   "cell_type": "code",
   "execution_count": 7,
   "metadata": {},
   "outputs": [
    {
     "data": {
      "text/plain": [
       "{0: 'document',\n",
       " 1: 'classify',\n",
       " 2: 'category',\n",
       " 3: 'problem',\n",
       " 4: 'computer',\n",
       " 5: 'science',\n",
       " 6: 'task',\n",
       " 7: 'assign',\n",
       " 8: 'class',\n",
       " 9: 'accord',\n",
       " 10: 'subject',\n",
       " 11: 'attribute'}"
      ]
     },
     "execution_count": 7,
     "metadata": {},
     "output_type": "execute_result"
    }
   ],
   "source": [
    "word_vocab_dict"
   ]
  },
  {
   "cell_type": "code",
   "execution_count": 8,
   "metadata": {},
   "outputs": [],
   "source": [
    "# compute count vector\n",
    "count_vec_docA = []\n",
    "count_vec_docB = []\n",
    "count_vec_docC = []\n",
    "\n",
    "for v in word_vocab_dict.values():\n",
    "    count_vec_docA.append(DocA.count(v))\n",
    "    count_vec_docB.append(DocB.count(v))\n",
    "    count_vec_docC.append(DocC.count(v))"
   ]
  },
  {
   "cell_type": "code",
   "execution_count": 9,
   "metadata": {},
   "outputs": [
    {
     "data": {
      "text/plain": [
       "[2, 1, 1, 1, 1, 1, 0, 0, 0, 0, 0, 0]"
      ]
     },
     "execution_count": 9,
     "metadata": {},
     "output_type": "execute_result"
    }
   ],
   "source": [
    "count_vec_docA"
   ]
  },
  {
   "cell_type": "code",
   "execution_count": 10,
   "metadata": {},
   "outputs": [
    {
     "data": {
      "text/plain": [
       "[2, 1, 1, 0, 0, 0, 1, 1, 1, 0, 0, 0]"
      ]
     },
     "execution_count": 10,
     "metadata": {},
     "output_type": "execute_result"
    }
   ],
   "source": [
    "count_vec_docB"
   ]
  },
  {
   "cell_type": "code",
   "execution_count": 11,
   "metadata": {},
   "outputs": [
    {
     "data": {
      "text/plain": [
       "[1, 1, 0, 0, 0, 0, 0, 0, 0, 2, 1, 1]"
      ]
     },
     "execution_count": 11,
     "metadata": {},
     "output_type": "execute_result"
    }
   ],
   "source": [
    "count_vec_docC"
   ]
  },
  {
   "cell_type": "code",
   "execution_count": 12,
   "metadata": {},
   "outputs": [],
   "source": [
    "# compute tf\n",
    "DocA_tf = [round(count/len(DocA),2) for count in count_vec_docA]\n",
    "\n",
    "DocB_tf = [round(count/len(DocB),2) for count in count_vec_docB]\n",
    "\n",
    "DocC_tf = [round(count/len(DocC),2) for count in count_vec_docC]"
   ]
  },
  {
   "cell_type": "code",
   "execution_count": 13,
   "metadata": {},
   "outputs": [
    {
     "data": {
      "text/plain": [
       "[0.29, 0.14, 0.14, 0.14, 0.14, 0.14, 0.0, 0.0, 0.0, 0.0, 0.0, 0.0]"
      ]
     },
     "execution_count": 13,
     "metadata": {},
     "output_type": "execute_result"
    }
   ],
   "source": [
    "DocA_tf"
   ]
  },
  {
   "cell_type": "code",
   "execution_count": 14,
   "metadata": {},
   "outputs": [
    {
     "data": {
      "text/plain": [
       "[0.29, 0.14, 0.14, 0.0, 0.0, 0.0, 0.14, 0.14, 0.14, 0.0, 0.0, 0.0]"
      ]
     },
     "execution_count": 14,
     "metadata": {},
     "output_type": "execute_result"
    }
   ],
   "source": [
    "DocB_tf"
   ]
  },
  {
   "cell_type": "code",
   "execution_count": 15,
   "metadata": {},
   "outputs": [
    {
     "data": {
      "text/plain": [
       "[0.17, 0.17, 0.0, 0.0, 0.0, 0.0, 0.0, 0.0, 0.0, 0.33, 0.17, 0.17]"
      ]
     },
     "execution_count": 15,
     "metadata": {},
     "output_type": "execute_result"
    }
   ],
   "source": [
    "DocC_tf"
   ]
  },
  {
   "cell_type": "code",
   "execution_count": 16,
   "metadata": {},
   "outputs": [],
   "source": [
    "# compute in how many documents a word exists\n",
    "word_in_how_many_doc = {}\n",
    "\n",
    "for word in corpus:\n",
    "    x = 1 if word in DocA else 0\n",
    "    y = 1 if word in DocB else 0\n",
    "    z = 1 if word in DocC else 0\n",
    "    \n",
    "    word_in_how_many_doc[word] = x+y+z"
   ]
  },
  {
   "cell_type": "code",
   "execution_count": 17,
   "metadata": {},
   "outputs": [
    {
     "data": {
      "text/plain": [
       "{'document': 3,\n",
       " 'classify': 3,\n",
       " 'category': 2,\n",
       " 'problem': 1,\n",
       " 'computer': 1,\n",
       " 'science': 1,\n",
       " 'task': 1,\n",
       " 'assign': 1,\n",
       " 'class': 1,\n",
       " 'accord': 1,\n",
       " 'subject': 1,\n",
       " 'attribute': 1}"
      ]
     },
     "execution_count": 17,
     "metadata": {},
     "output_type": "execute_result"
    }
   ],
   "source": [
    "word_in_how_many_doc"
   ]
  },
  {
   "cell_type": "code",
   "execution_count": 18,
   "metadata": {},
   "outputs": [],
   "source": [
    "# compute idf\n",
    "idf = [round(math.log((N/ word_in_how_many_doc[word]),3),2) for word in corpus]"
   ]
  },
  {
   "cell_type": "code",
   "execution_count": 19,
   "metadata": {},
   "outputs": [
    {
     "data": {
      "text/plain": [
       "[0.0, 0.0, 0.37, 1.0, 1.0, 1.0, 1.0, 1.0, 1.0, 1.0, 1.0, 1.0]"
      ]
     },
     "execution_count": 19,
     "metadata": {},
     "output_type": "execute_result"
    }
   ],
   "source": [
    "idf"
   ]
  },
  {
   "cell_type": "code",
   "execution_count": 20,
   "metadata": {},
   "outputs": [],
   "source": [
    "# compute tfidf\n",
    "DocA_tfidf = [round(a*b,2) for a,b in zip(DocA_tf,idf)]\n",
    "DocB_tfidf = [round(a*b,2) for a,b in zip(DocB_tf,idf)]\n",
    "DocC_tfidf = [round(a*b,2) for a,b in zip(DocC_tf,idf)]"
   ]
  },
  {
   "cell_type": "code",
   "execution_count": 21,
   "metadata": {},
   "outputs": [
    {
     "data": {
      "text/plain": [
       "[0.0, 0.0, 0.05, 0.14, 0.14, 0.14, 0.0, 0.0, 0.0, 0.0, 0.0, 0.0]"
      ]
     },
     "execution_count": 21,
     "metadata": {},
     "output_type": "execute_result"
    }
   ],
   "source": [
    "DocA_tfidf"
   ]
  },
  {
   "cell_type": "code",
   "execution_count": 22,
   "metadata": {},
   "outputs": [
    {
     "data": {
      "text/plain": [
       "[0.0, 0.0, 0.05, 0.0, 0.0, 0.0, 0.14, 0.14, 0.14, 0.0, 0.0, 0.0]"
      ]
     },
     "execution_count": 22,
     "metadata": {},
     "output_type": "execute_result"
    }
   ],
   "source": [
    "DocB_tfidf"
   ]
  },
  {
   "cell_type": "code",
   "execution_count": 23,
   "metadata": {},
   "outputs": [
    {
     "data": {
      "text/plain": [
       "[0.0, 0.0, 0.0, 0.0, 0.0, 0.0, 0.0, 0.0, 0.0, 0.33, 0.17, 0.17]"
      ]
     },
     "execution_count": 23,
     "metadata": {},
     "output_type": "execute_result"
    }
   ],
   "source": [
    "DocC_tfidf"
   ]
  },
  {
   "cell_type": "code",
   "execution_count": null,
   "metadata": {},
   "outputs": [],
   "source": []
  }
 ],
 "metadata": {
  "kernelspec": {
   "display_name": "Python 3",
   "language": "python",
   "name": "python3"
  },
  "language_info": {
   "codemirror_mode": {
    "name": "ipython",
    "version": 3
   },
   "file_extension": ".py",
   "mimetype": "text/x-python",
   "name": "python",
   "nbconvert_exporter": "python",
   "pygments_lexer": "ipython3",
   "version": "3.8.5"
  }
 },
 "nbformat": 4,
 "nbformat_minor": 4
}
