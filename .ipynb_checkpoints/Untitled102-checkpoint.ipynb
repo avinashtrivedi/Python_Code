{
 "cells": [
  {
   "cell_type": "code",
   "execution_count": 1,
   "metadata": {},
   "outputs": [
    {
     "name": "stdout",
     "output_type": "stream",
     "text": [
      "Enter the first submission:\n",
      "COMP101 is an interesting subject and it has been easy\n",
      "Enter the second submission:\n",
      "COMP101 and COMP301 have always been interesting and easy\n",
      "The similarity score between the two is: 38.46%.\n"
     ]
    }
   ],
   "source": [
    "print('Enter the first submission:')\n",
    "x = input()\n",
    "print('Enter the second submission:')\n",
    "y = input()\n",
    "\n",
    "# create dictionary to hold unique words from each submission\n",
    "my_x_dict={}\n",
    "my_y_dict={}\n",
    "\n",
    "# store words in my_x_dict\n",
    "for i in x.split(' '):\n",
    "    if i in my_x_dict:\n",
    "        my_x_dict[i] = my_x_dict[i] + 1\n",
    "    else:\n",
    "        my_x_dict[i] = 1\n",
    "\n",
    "# store words in my_y_dict\n",
    "for i in y.split(' '):\n",
    "    if i in my_y_dict:\n",
    "        my_y_dict[i] = my_y_dict[i] + 1\n",
    "    else:\n",
    "        my_y_dict[i] = 1\n",
    "\n",
    "unique_word = []\n",
    "common_word = []\n",
    "\n",
    "# get word in lower case form from my_x_dict\n",
    "unique_word = [i.lower() for i in my_x_dict.keys()]\n",
    "\n",
    "# check for each word in my_y_dict\n",
    "# and store in unique_word if word does not already exist\n",
    "# else store in common_word\n",
    "\n",
    "for i in my_y_dict.keys():\n",
    "    if i.lower() not in unique_word:\n",
    "        unique_word.append(i.lower())\n",
    "    else:\n",
    "        common_word.append(i.lower())\n",
    "\n",
    "# compute similarity\n",
    "similarity_score = len(common_word)/len(unique_word)\n",
    "print('The similarity score between the two is: {}%.'.format(round(similarity_score*100,2)))"
   ]
  },
  {
   "cell_type": "code",
   "execution_count": null,
   "metadata": {},
   "outputs": [],
   "source": []
  },
  {
   "cell_type": "code",
   "execution_count": null,
   "metadata": {},
   "outputs": [],
   "source": []
  },
  {
   "cell_type": "code",
   "execution_count": 2,
   "metadata": {},
   "outputs": [
    {
     "ename": "SyntaxError",
     "evalue": "invalid syntax (<ipython-input-2-3d54c64a5280>, line 1)",
     "output_type": "error",
     "traceback": [
      "\u001b[1;36m  File \u001b[1;32m\"<ipython-input-2-3d54c64a5280>\"\u001b[1;36m, line \u001b[1;32m1\u001b[0m\n\u001b[1;33m    Enter the first submission:\u001b[0m\n\u001b[1;37m          ^\u001b[0m\n\u001b[1;31mSyntaxError\u001b[0m\u001b[1;31m:\u001b[0m invalid syntax\n"
     ]
    }
   ],
   "source": [
    "Enter the first submission:\n",
    "COMP101 is an interesting subject and it has been easy\n",
    "Enter the second submission:\n",
    "COMP101 and COMP301 have always been interesting and easy\n",
    "The similarity score between the two is: 38.46%."
   ]
  },
  {
   "cell_type": "code",
   "execution_count": null,
   "metadata": {},
   "outputs": [],
   "source": []
  },
  {
   "cell_type": "code",
   "execution_count": 7,
   "metadata": {},
   "outputs": [
    {
     "name": "stdout",
     "output_type": "stream",
     "text": [
      "Enter a value: 7\n",
      "Result: 3.5\n",
      "Actual entered value: 7.0\n"
     ]
    }
   ],
   "source": [
    "x = float(input('Enter a value: '))\n",
    "divide_by2 = x/2\n",
    "print('Result:',divide_by2)\n",
    "print('Actual entered value:',x)"
   ]
  },
  {
   "cell_type": "code",
   "execution_count": null,
   "metadata": {},
   "outputs": [],
   "source": []
  }
 ],
 "metadata": {
  "kernelspec": {
   "display_name": "Python 3",
   "language": "python",
   "name": "python3"
  },
  "language_info": {
   "codemirror_mode": {
    "name": "ipython",
    "version": 3
   },
   "file_extension": ".py",
   "mimetype": "text/x-python",
   "name": "python",
   "nbconvert_exporter": "python",
   "pygments_lexer": "ipython3",
   "version": "3.8.5"
  }
 },
 "nbformat": 4,
 "nbformat_minor": 4
}
