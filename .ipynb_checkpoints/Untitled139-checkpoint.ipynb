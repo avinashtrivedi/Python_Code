{
 "cells": [
  {
   "cell_type": "code",
   "execution_count": 46,
   "metadata": {},
   "outputs": [
    {
     "name": "stdout",
     "output_type": "stream",
     "text": [
      "first entry: ('lt74vw', 7, 0, 'Health Canada approves AstraZeneca COVID-19 vaccine')\n",
      "\n",
      "The average number of comments across all posts:  1.86\n",
      "\n",
      "The average score across all posts: 3.71\n",
      "\n",
      "Highest score is: 1191\n",
      "The title for that post: I would rage if this was handed to me...\n",
      "\n",
      "Lowest  score is: -13\n",
      "The title for that post: Comment\n",
      "\n",
      "Title of most commented post: I would rage if this was handed to me...\n",
      "Number of Most comment: 596\n"
     ]
    }
   ],
   "source": [
    "import csv\n",
    "\n",
    "def analyze(entries):\n",
    "    print(f'first entry: {entries[0]}')\n",
    "    print()\n",
    "    # store all scores and number of comments\n",
    "\n",
    "    all_scores = []\n",
    "    all_comms_numo = []\n",
    "\n",
    "    # loop through the entries and save scores and comms_num in list\n",
    "    for _,score,comms_num,_ in entries:\n",
    "        all_comms_numo.append(comms_num)\n",
    "        all_scores.append(score)\n",
    "\n",
    "    # get average number of comment\n",
    "    avg_no_of_comment = sum(all_comms_numo)/len(entries)\n",
    "\n",
    "    # get average score\n",
    "    avg_score = sum(all_scores)/len(entries)\n",
    "\n",
    "    print('The average number of comments across all posts: ',round(avg_no_of_comment,2))\n",
    "    print()\n",
    "\n",
    "    print('The average score across all posts:',round(avg_score,2))\n",
    "    \n",
    "    # get highest score\n",
    "    highest_score = max(all_scores)\n",
    "\n",
    "    # get index for highest_score \n",
    "    indx = all_scores.index(highest_score)\n",
    "\n",
    "    # get the corresponding title at that index\n",
    "    highest_score_title = entries[indx][3]\n",
    "    print()\n",
    "    print('Highest score is: {}\\nThe title for that post: {}'.format(highest_score,highest_score_title))\n",
    "    print()\n",
    "    # get lowest score\n",
    "    lowest_score = min(all_scores)\n",
    "\n",
    "    # get index for lowest score \n",
    "    indx = all_scores.index(lowest_score)\n",
    "\n",
    "    # get the corresponding title at that index\n",
    "    lowest_score_title = entries[indx][3]\n",
    "    print('Lowest  score is: {}\\nThe title for that post: {}'.format(lowest_score,lowest_score_title))\n",
    "    print()\n",
    "    # get the most comment\n",
    "    most_comment = max(all_comms_numo)\n",
    "\n",
    "    # get the respective index\n",
    "    indx = all_comms_numo.index(most_comment)\n",
    "\n",
    "    # get the corresponding title at that index\n",
    "    most_commented_title = entries[indx][3]\n",
    "\n",
    "    print('Title of most commented post: {}'.format(most_commented_title))\n",
    "    print('Number of Most comment:',most_comment)\n",
    "    \n",
    "with open(\"reddit_vm.csv\", \"r\", encoding='UTF-8', errors=\"ignore\") as input:\n",
    "\n",
    "    entries = [(e['id'], int(e['score']), int(e['comms_num']), e['title']) for e in csv.DictReader(input)]\n",
    "\n",
    "    avgScore = analyze(entries)"
   ]
  },
  {
   "cell_type": "code",
   "execution_count": null,
   "metadata": {},
   "outputs": [],
   "source": []
  }
 ],
 "metadata": {
  "kernelspec": {
   "display_name": "Python 3",
   "language": "python",
   "name": "python3"
  },
  "language_info": {
   "codemirror_mode": {
    "name": "ipython",
    "version": 3
   },
   "file_extension": ".py",
   "mimetype": "text/x-python",
   "name": "python",
   "nbconvert_exporter": "python",
   "pygments_lexer": "ipython3",
   "version": "3.8.5"
  }
 },
 "nbformat": 4,
 "nbformat_minor": 4
}
