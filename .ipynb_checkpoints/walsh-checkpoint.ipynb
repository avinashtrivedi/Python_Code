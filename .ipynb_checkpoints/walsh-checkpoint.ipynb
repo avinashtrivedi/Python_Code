{
 "cells": [
  {
   "cell_type": "code",
   "execution_count": 1,
   "metadata": {},
   "outputs": [],
   "source": [
    "#1\n",
    "lst_of_course = ['abc','xyz','pqr']\n",
    "college_name = 'Walsh'"
   ]
  },
  {
   "cell_type": "code",
   "execution_count": 2,
   "metadata": {},
   "outputs": [
    {
     "name": "stdout",
     "output_type": "stream",
     "text": [
      "I have taken ABC at Walsh College.\n",
      "I have taken PQR at Walsh College.\n",
      "I have taken XYZ at Walsh College.\n"
     ]
    }
   ],
   "source": [
    "#2\n",
    "lst_of_course.sort()\n",
    "for i in lst_of_course:\n",
    "    print(\"I have taken {} at {} College.\".format(i.upper(),college_name))"
   ]
  },
  {
   "cell_type": "code",
   "execution_count": 3,
   "metadata": {},
   "outputs": [
    {
     "name": "stdout",
     "output_type": "stream",
     "text": [
      "This is my course of study with upcoming courses added:\n",
      "I have taken ABC at Walsh College.\n",
      "I have taken NEWCOURSE-1 at Walsh College.\n",
      "I have taken NEWCOURSE-2 at Walsh College.\n",
      "I have taken PQR at Walsh College.\n",
      "I have taken XYZ at Walsh College.\n"
     ]
    }
   ],
   "source": [
    "#3\n",
    "lst_of_course.append('newcourse-1')\n",
    "lst_of_course.append('newcourse-2')\n",
    "lst_of_course.sort()\n",
    "print('This is my course of study with upcoming courses added:')\n",
    "for i in lst_of_course:\n",
    "    print(\"I have taken {} at {} College.\".format(i.upper(),college_name))"
   ]
  },
  {
   "cell_type": "code",
   "execution_count": 4,
   "metadata": {},
   "outputs": [
    {
     "name": "stdout",
     "output_type": "stream",
     "text": [
      "I do not have to take these courses:\n",
      "pqr\n",
      "newcourse-2\n"
     ]
    }
   ],
   "source": [
    "#4\n",
    "already_taken_course=['pqr','newcourse-2']\n",
    "print(\"I do not have to take these courses:\")\n",
    "for i in already_taken_course:\n",
    "    if i in lst_of_course:\n",
    "        lst_of_course.remove(i)\n",
    "        print(i)"
   ]
  },
  {
   "cell_type": "code",
   "execution_count": 5,
   "metadata": {},
   "outputs": [
    {
     "name": "stdout",
     "output_type": "stream",
     "text": [
      "I plan to take the following courses next term\n",
      "abc\n",
      "newcourse-1\n",
      "xyz\n"
     ]
    }
   ],
   "source": [
    "#5\n",
    "print(\"I plan to take the following courses next term\")\n",
    "for i in lst_of_course:\n",
    "    print(i)"
   ]
  },
  {
   "cell_type": "code",
   "execution_count": 6,
   "metadata": {},
   "outputs": [
    {
     "data": {
      "text/plain": [
       "[6,\n",
       " 12,\n",
       " 18,\n",
       " 24,\n",
       " 30,\n",
       " 36,\n",
       " 42,\n",
       " 48,\n",
       " 54,\n",
       " 60,\n",
       " 66,\n",
       " 72,\n",
       " 78,\n",
       " 84,\n",
       " 90,\n",
       " 96,\n",
       " 102,\n",
       " 108,\n",
       " 114,\n",
       " 120,\n",
       " 126,\n",
       " 132,\n",
       " 138,\n",
       " 144,\n",
       " 150,\n",
       " 156,\n",
       " 162,\n",
       " 168,\n",
       " 174,\n",
       " 180,\n",
       " 186,\n",
       " 192,\n",
       " 198,\n",
       " 204,\n",
       " 210,\n",
       " 216,\n",
       " 222,\n",
       " 228,\n",
       " 234,\n",
       " 240,\n",
       " 246,\n",
       " 252,\n",
       " 258,\n",
       " 264,\n",
       " 270,\n",
       " 276,\n",
       " 282,\n",
       " 288,\n",
       " 294,\n",
       " 300,\n",
       " 306,\n",
       " 312,\n",
       " 318,\n",
       " 324,\n",
       " 330,\n",
       " 336,\n",
       " 342,\n",
       " 348,\n",
       " 354,\n",
       " 360,\n",
       " 366,\n",
       " 372,\n",
       " 378,\n",
       " 384,\n",
       " 390,\n",
       " 396,\n",
       " 402,\n",
       " 408,\n",
       " 414,\n",
       " 420,\n",
       " 426,\n",
       " 432,\n",
       " 438,\n",
       " 444,\n",
       " 450,\n",
       " 456,\n",
       " 462,\n",
       " 468,\n",
       " 474,\n",
       " 480,\n",
       " 486,\n",
       " 492,\n",
       " 498,\n",
       " 504,\n",
       " 510,\n",
       " 516,\n",
       " 522,\n",
       " 528,\n",
       " 534,\n",
       " 540,\n",
       " 546,\n",
       " 552,\n",
       " 558,\n",
       " 564,\n",
       " 570,\n",
       " 576,\n",
       " 582,\n",
       " 588,\n",
       " 594,\n",
       " 600,\n",
       " 606,\n",
       " 612,\n",
       " 618,\n",
       " 624,\n",
       " 630,\n",
       " 636,\n",
       " 642,\n",
       " 648,\n",
       " 654,\n",
       " 660,\n",
       " 666,\n",
       " 672,\n",
       " 678,\n",
       " 684,\n",
       " 690,\n",
       " 696,\n",
       " 702,\n",
       " 708,\n",
       " 714,\n",
       " 720,\n",
       " 726,\n",
       " 732,\n",
       " 738,\n",
       " 744,\n",
       " 750,\n",
       " 756,\n",
       " 762,\n",
       " 768,\n",
       " 774,\n",
       " 780,\n",
       " 786,\n",
       " 792,\n",
       " 798,\n",
       " 804,\n",
       " 810,\n",
       " 816,\n",
       " 822,\n",
       " 828,\n",
       " 834,\n",
       " 840,\n",
       " 846,\n",
       " 852,\n",
       " 858,\n",
       " 864,\n",
       " 870,\n",
       " 876,\n",
       " 882,\n",
       " 888,\n",
       " 894,\n",
       " 900,\n",
       " 906,\n",
       " 912,\n",
       " 918,\n",
       " 924,\n",
       " 930,\n",
       " 936,\n",
       " 942,\n",
       " 948,\n",
       " 954,\n",
       " 960,\n",
       " 966,\n",
       " 972,\n",
       " 978,\n",
       " 984,\n",
       " 990,\n",
       " 996]"
      ]
     },
     "execution_count": 6,
     "metadata": {},
     "output_type": "execute_result"
    }
   ],
   "source": [
    "#6 \n",
    "lst_1000 = list(range(0,1001,6))[1:]\n",
    "lst_1000"
   ]
  },
  {
   "cell_type": "code",
   "execution_count": 7,
   "metadata": {},
   "outputs": [
    {
     "name": "stdout",
     "output_type": "stream",
     "text": [
      "Here are twenty numbers divisible by 6.\n",
      "6\n",
      "12\n",
      "18\n",
      "24\n",
      "30\n",
      "36\n",
      "42\n",
      "48\n",
      "54\n",
      "60\n",
      "66\n",
      "72\n",
      "78\n",
      "84\n",
      "90\n",
      "96\n",
      "102\n",
      "108\n",
      "114\n",
      "120\n"
     ]
    }
   ],
   "source": [
    "# 7\n",
    "print(\"Here are twenty numbers divisible by 6.\")\n",
    "for i in lst_1000[:20]:\n",
    "    print(i)"
   ]
  },
  {
   "cell_type": "code",
   "execution_count": 8,
   "metadata": {},
   "outputs": [],
   "source": [
    "# 8\n",
    "max_lst = max(lst_1000)"
   ]
  },
  {
   "cell_type": "code",
   "execution_count": 9,
   "metadata": {},
   "outputs": [
    {
     "name": "stdout",
     "output_type": "stream",
     "text": [
      "The maximum value in the list is: 996\n"
     ]
    }
   ],
   "source": [
    "# 9\n",
    "print(\"The maximum value in the list is: {}\".format(max_lst))"
   ]
  },
  {
   "cell_type": "code",
   "execution_count": 10,
   "metadata": {},
   "outputs": [
    {
     "name": "stdout",
     "output_type": "stream",
     "text": [
      "Here is the sum of several values in the list: 7626\n"
     ]
    }
   ],
   "source": [
    "#10\n",
    "large_sum = sum(lst_1000[10:51])\n",
    "print(\"Here is the sum of several values in the list: {}\".format(large_sum))"
   ]
  },
  {
   "cell_type": "code",
   "execution_count": 11,
   "metadata": {},
   "outputs": [],
   "source": [
    "# 11\n",
    "lst_of_course = lst_1000"
   ]
  },
  {
   "cell_type": "code",
   "execution_count": null,
   "metadata": {},
   "outputs": [],
   "source": []
  }
 ],
 "metadata": {
  "kernelspec": {
   "display_name": "Python 3",
   "language": "python",
   "name": "python3"
  },
  "language_info": {
   "codemirror_mode": {
    "name": "ipython",
    "version": 3
   },
   "file_extension": ".py",
   "mimetype": "text/x-python",
   "name": "python",
   "nbconvert_exporter": "python",
   "pygments_lexer": "ipython3",
   "version": "3.8.5"
  }
 },
 "nbformat": 4,
 "nbformat_minor": 4
}
