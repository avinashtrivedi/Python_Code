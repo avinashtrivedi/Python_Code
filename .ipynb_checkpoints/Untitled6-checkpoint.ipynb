{
 "cells": [
  {
   "cell_type": "code",
   "execution_count": 4,
   "metadata": {},
   "outputs": [
    {
     "data": {
      "text/html": [
       "<div>\n",
       "<style scoped>\n",
       "    .dataframe tbody tr th:only-of-type {\n",
       "        vertical-align: middle;\n",
       "    }\n",
       "\n",
       "    .dataframe tbody tr th {\n",
       "        vertical-align: top;\n",
       "    }\n",
       "\n",
       "    .dataframe thead th {\n",
       "        text-align: right;\n",
       "    }\n",
       "</style>\n",
       "<table border=\"1\" class=\"dataframe\">\n",
       "  <thead>\n",
       "    <tr style=\"text-align: right;\">\n",
       "      <th></th>\n",
       "      <th>MP</th>\n",
       "      <th>WP</th>\n",
       "      <th>CC</th>\n",
       "      <th>Sex</th>\n",
       "      <th>LIP</th>\n",
       "      <th>Unnamed: 5</th>\n",
       "    </tr>\n",
       "  </thead>\n",
       "  <tbody>\n",
       "    <tr>\n",
       "      <th>0</th>\n",
       "      <td>\\nyes</td>\n",
       "      <td>no</td>\n",
       "      <td>no</td>\n",
       "      <td>Male</td>\n",
       "      <td>no</td>\n",
       "      <td>NaN</td>\n",
       "    </tr>\n",
       "    <tr>\n",
       "      <th>1</th>\n",
       "      <td>\\nyes</td>\n",
       "      <td>yes</td>\n",
       "      <td>yes</td>\n",
       "      <td>Female</td>\n",
       "      <td>yes</td>\n",
       "      <td>NaN</td>\n",
       "    </tr>\n",
       "    <tr>\n",
       "      <th>2</th>\n",
       "      <td>\\nno</td>\n",
       "      <td>no</td>\n",
       "      <td>no</td>\n",
       "      <td>Male</td>\n",
       "      <td>no</td>\n",
       "      <td>NaN</td>\n",
       "    </tr>\n",
       "    <tr>\n",
       "      <th>3</th>\n",
       "      <td>\\nyes</td>\n",
       "      <td>yes</td>\n",
       "      <td>yes</td>\n",
       "      <td>Male</td>\n",
       "      <td>yes</td>\n",
       "      <td>NaN</td>\n",
       "    </tr>\n",
       "    <tr>\n",
       "      <th>4</th>\n",
       "      <td>\\nyes</td>\n",
       "      <td>no</td>\n",
       "      <td>no</td>\n",
       "      <td>Female</td>\n",
       "      <td>yes</td>\n",
       "      <td>NaN</td>\n",
       "    </tr>\n",
       "    <tr>\n",
       "      <th>5</th>\n",
       "      <td>\\nno</td>\n",
       "      <td>no</td>\n",
       "      <td>no</td>\n",
       "      <td>Female</td>\n",
       "      <td>no</td>\n",
       "      <td>NaN</td>\n",
       "    </tr>\n",
       "    <tr>\n",
       "      <th>6</th>\n",
       "      <td>\\nyes</td>\n",
       "      <td>yes</td>\n",
       "      <td>yes</td>\n",
       "      <td>Male</td>\n",
       "      <td>yes</td>\n",
       "      <td>NaN</td>\n",
       "    </tr>\n",
       "    <tr>\n",
       "      <th>7</th>\n",
       "      <td>\\nno</td>\n",
       "      <td>no</td>\n",
       "      <td>no</td>\n",
       "      <td>Male</td>\n",
       "      <td>no</td>\n",
       "      <td>NaN</td>\n",
       "    </tr>\n",
       "    <tr>\n",
       "      <th>8</th>\n",
       "      <td>\\nyes</td>\n",
       "      <td>yes</td>\n",
       "      <td>yes</td>\n",
       "      <td>Male</td>\n",
       "      <td>no</td>\n",
       "      <td>NaN</td>\n",
       "    </tr>\n",
       "    <tr>\n",
       "      <th>9</th>\n",
       "      <td>\\nno</td>\n",
       "      <td>yes</td>\n",
       "      <td>no</td>\n",
       "      <td>no</td>\n",
       "      <td>Female</td>\n",
       "      <td>yes</td>\n",
       "    </tr>\n",
       "    <tr>\n",
       "      <th>10</th>\n",
       "      <td>\\n</td>\n",
       "      <td>NaN</td>\n",
       "      <td>NaN</td>\n",
       "      <td>NaN</td>\n",
       "      <td>NaN</td>\n",
       "      <td>NaN</td>\n",
       "    </tr>\n",
       "  </tbody>\n",
       "</table>\n",
       "</div>"
      ],
      "text/plain": [
       "       MP   WP   CC     Sex     LIP Unnamed: 5\n",
       "0   \\nyes   no   no    Male      no        NaN\n",
       "1   \\nyes  yes  yes  Female     yes        NaN\n",
       "2    \\nno   no   no    Male      no        NaN\n",
       "3   \\nyes  yes  yes    Male     yes        NaN\n",
       "4   \\nyes   no   no  Female     yes        NaN\n",
       "5    \\nno   no   no  Female      no        NaN\n",
       "6   \\nyes  yes  yes    Male     yes        NaN\n",
       "7    \\nno   no   no    Male      no        NaN\n",
       "8   \\nyes  yes  yes    Male      no        NaN\n",
       "9    \\nno  yes   no      no  Female        yes\n",
       "10     \\n  NaN  NaN     NaN     NaN        NaN"
      ]
     },
     "execution_count": 4,
     "metadata": {},
     "output_type": "execute_result"
    }
   ],
   "source": [
    "pd.read_csv('aa.txt', sep='\\t', lineterminator='\\r')"
   ]
  },
  {
   "cell_type": "code",
   "execution_count": 52,
   "metadata": {},
   "outputs": [],
   "source": [
    "x = 'Reinvesting'\n",
    "y = 'Regular expression can be denoted by re and we can use this in investing or reinvest somewhere'"
   ]
  },
  {
   "cell_type": "code",
   "execution_count": 53,
   "metadata": {},
   "outputs": [],
   "source": [
    "x_prefix= [x[:i+1].lower() for i in range(len(x)-1)]\n",
    "y = [i.lower() for i in y.split()]"
   ]
  },
  {
   "cell_type": "code",
   "execution_count": 54,
   "metadata": {},
   "outputs": [],
   "source": [
    "myset = set()\n",
    "for i in x_prefix:\n",
    "    if i in y:\n",
    "        myset.add(i)"
   ]
  },
  {
   "cell_type": "code",
   "execution_count": 56,
   "metadata": {},
   "outputs": [
    {
     "data": {
      "text/plain": [
       "['re', 'reinvest']"
      ]
     },
     "execution_count": 56,
     "metadata": {},
     "output_type": "execute_result"
    }
   ],
   "source": [
    "sorted(s)"
   ]
  },
  {
   "cell_type": "code",
   "execution_count": 63,
   "metadata": {},
   "outputs": [],
   "source": [
    "# The given question is valid and practicle under two scenario:\n",
    "# 1) comparing prefix of string X with Prefix of string Y\n",
    "# 2) comparing prefix of string X with every element of string y,provided string y is multiword string.\n",
    "# but in question it is not mentioned\n",
    "# Hence solving as per 2nd scenario,which seems more logical.\n",
    "\n",
    "x = 'Reinvesting'\n",
    "y = 'Regular expression can be denoted by re and we can use this in investing or reinvest somewhere'\n",
    "def prefix_sorted(x,y):\n",
    "    \n",
    "    # slicing the element from beginning so as to store firstone letter,first two letter,first three letter \n",
    "    # and so on as a prefix,Not considering whole string as a prefix of itself.\n",
    "    \n",
    "    x_prefix= [x[:i+1].lower() for i in range(len(x)-1)]  \n",
    "    \n",
    "    # storing each word of a string as a list element\n",
    "    # converting everything to lower case so as to avoid mismatch due to case sensitivity.\n",
    "    \n",
    "    y = [i.lower() for i in y.split()]\n",
    "    \n",
    "    myset = set()  # creating a blank set\n",
    "    for i in x_prefix:\n",
    "        if i in y:\n",
    "            myset.add(i) # adding item in set.\n",
    "    print('Sorted and reversely sorted set')\n",
    "    \n",
    "    # sorted() : sort the set and if reverse=True :it will sort in ascending order\n",
    "    return sorted(myset),sorted(myset,reverse=True)"
   ]
  },
  {
   "cell_type": "code",
   "execution_count": 64,
   "metadata": {},
   "outputs": [
    {
     "name": "stdout",
     "output_type": "stream",
     "text": [
      "Sorted and reversely sorted set\n"
     ]
    },
    {
     "data": {
      "text/plain": [
       "(['re', 'reinvest'], ['reinvest', 're'])"
      ]
     },
     "execution_count": 64,
     "metadata": {},
     "output_type": "execute_result"
    }
   ],
   "source": [
    "prefix_sorted(x,y)"
   ]
  },
  {
   "cell_type": "code",
   "execution_count": null,
   "metadata": {},
   "outputs": [],
   "source": []
  }
 ],
 "metadata": {
  "kernelspec": {
   "display_name": "Python 3",
   "language": "python",
   "name": "python3"
  },
  "language_info": {
   "codemirror_mode": {
    "name": "ipython",
    "version": 3
   },
   "file_extension": ".py",
   "mimetype": "text/x-python",
   "name": "python",
   "nbconvert_exporter": "python",
   "pygments_lexer": "ipython3",
   "version": "3.8.5"
  }
 },
 "nbformat": 4,
 "nbformat_minor": 4
}
