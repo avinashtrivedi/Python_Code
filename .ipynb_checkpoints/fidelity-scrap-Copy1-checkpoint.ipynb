{
 "cells": [
  {
   "cell_type": "code",
   "execution_count": 1,
   "metadata": {},
   "outputs": [],
   "source": [
    "# import the necessary library\n",
    "from bs4 import BeautifulSoup\n",
    "import requests\n",
    "\n",
    "def get_sector_change_and_market_cap(sector_page_link):\n",
    "    \n",
    "    # send the request\n",
    "    response = requests.get(sector_page_link)\n",
    "    \n",
    "    soup = BeautifulSoup(response.text)\n",
    "    PageElements = soup.find_all('td')\n",
    "    \n",
    "    # store sector change,market cap and market weight\n",
    "    data = []\n",
    "    for element in PageElements[:3]:\n",
    "        data.append(element.find_all('span')[0].text)\n",
    "    \n",
    "    # Assign values to sector_change,sector_market_cap and sector_market_weight\n",
    "    sector_change = data[0]\n",
    "    sector_market_cap = data[1]\n",
    "    sector_market_weight = data[2]\n",
    "    \n",
    "    # remove % and + symbol\n",
    "    # convert values to float\n",
    "    sector_change = sector_change.replace('%','')\n",
    "    sector_change = float(sector_change.replace('+',''))\n",
    "    \n",
    "    sector_market_weight = float(sector_market_weight.replace('%',''))\n",
    "    \n",
    "    return sector_change,sector_market_cap,sector_market_weight"
   ]
  },
  {
   "cell_type": "code",
   "execution_count": 2,
   "metadata": {},
   "outputs": [],
   "source": [
    "def get_us_sector_performance():\n",
    "    output_list = list()\n",
    "    url = \"https://eresearch.fidelity.com/eresearch/goto/markets_sectors/landing.jhtml\"\n",
    "\n",
    "    response = requests.get(url)\n",
    "    \n",
    "    # get the parsed html document\n",
    "    soup = BeautifulSoup(response.text)\n",
    "    elements = soup.find_all('a', class_=\"heading1\", href=True) \n",
    "    \n",
    "    # store sector name and link \n",
    "    mylist = []\n",
    "    \n",
    "    # base link\n",
    "    base_link = 'https://eresearch.fidelity.com/'\n",
    "    \n",
    "    for i in elements:\n",
    "        link = i['href']\n",
    "        full_link = base_link + link\n",
    "        mylist.append((i.text,full_link))\n",
    "    \n",
    "    # loop through the mylist\n",
    "    for name,link in mylist:\n",
    "        \n",
    "        # call get_sector_change_and_market_cap() function for every sector link\n",
    "        change,market_cap,market_weight = get_sector_change_and_market_cap(link)\n",
    "        \n",
    "        # store values to output_list\n",
    "        output_list.append((name,change,market_cap,market_weight,link))\n",
    "    \n",
    "    # sort output_list on the basis of  market weight\n",
    "    output_list.sort(key=lambda x: x[3])\n",
    "    \n",
    "    return output_list"
   ]
  },
  {
   "cell_type": "code",
   "execution_count": 3,
   "metadata": {},
   "outputs": [
    {
     "data": {
      "text/plain": [
       "(0.62, '$8.82T', 12.32)"
      ]
     },
     "execution_count": 3,
     "metadata": {},
     "output_type": "execute_result"
    }
   ],
   "source": [
    "#Test get_sector_change_and_market_cap()\n",
    "link = \"https://eresearch.fidelity.com//eresearch/markets_sectors/sectors/sectors_in_market.jhtml?tab=learn&sector=25\"\n",
    "get_sector_change_and_market_cap(link)"
   ]
  },
  {
   "cell_type": "code",
   "execution_count": 4,
   "metadata": {},
   "outputs": [
    {
     "data": {
      "text/plain": [
       "[('Utilities',\n",
       "  -0.04,\n",
       "  '$1.56T',\n",
       "  2.42,\n",
       "  'https://eresearch.fidelity.com//eresearch/markets_sectors/sectors/sectors_in_market.jhtml?tab=learn&sector=55'),\n",
       " ('Materials',\n",
       "  1.6,\n",
       "  '$2.51T',\n",
       "  2.46,\n",
       "  'https://eresearch.fidelity.com//eresearch/markets_sectors/sectors/sectors_in_market.jhtml?tab=learn&sector=15'),\n",
       " ('Real Estate',\n",
       "  1.04,\n",
       "  '$1.67T',\n",
       "  2.58,\n",
       "  'https://eresearch.fidelity.com//eresearch/markets_sectors/sectors/sectors_in_market.jhtml?tab=learn&sector=60'),\n",
       " ('Energy',\n",
       "  3.3,\n",
       "  '$2.83T',\n",
       "  2.6,\n",
       "  'https://eresearch.fidelity.com//eresearch/markets_sectors/sectors/sectors_in_market.jhtml?tab=learn&sector=10'),\n",
       " ('Consumer Staples',\n",
       "  0.26,\n",
       "  '$4.41T',\n",
       "  5.75,\n",
       "  'https://eresearch.fidelity.com//eresearch/markets_sectors/sectors/sectors_in_market.jhtml?tab=learn&sector=30'),\n",
       " ('Industrials',\n",
       "  1.41,\n",
       "  '$5.72T',\n",
       "  8.02,\n",
       "  'https://eresearch.fidelity.com//eresearch/markets_sectors/sectors/sectors_in_market.jhtml?tab=learn&sector=20'),\n",
       " ('Financials',\n",
       "  1.59,\n",
       "  '$8.79T',\n",
       "  11.22,\n",
       "  'https://eresearch.fidelity.com//eresearch/markets_sectors/sectors/sectors_in_market.jhtml?tab=learn&sector=40'),\n",
       " ('Communication Services',\n",
       "  1.78,\n",
       "  '$6.70T',\n",
       "  11.31,\n",
       "  'https://eresearch.fidelity.com//eresearch/markets_sectors/sectors/sectors_in_market.jhtml?tab=learn&sector=50'),\n",
       " ('Consumer Discretionary',\n",
       "  0.62,\n",
       "  '$8.82T',\n",
       "  12.32,\n",
       "  'https://eresearch.fidelity.com//eresearch/markets_sectors/sectors/sectors_in_market.jhtml?tab=learn&sector=25'),\n",
       " ('Health Care',\n",
       "  0.07,\n",
       "  '$8.08T',\n",
       "  13.29,\n",
       "  'https://eresearch.fidelity.com//eresearch/markets_sectors/sectors/sectors_in_market.jhtml?tab=learn&sector=35'),\n",
       " ('Information Technology',\n",
       "  1.44,\n",
       "  '$15.52T',\n",
       "  28.04,\n",
       "  'https://eresearch.fidelity.com//eresearch/markets_sectors/sectors/sectors_in_market.jhtml?tab=learn&sector=45')]"
      ]
     },
     "execution_count": 4,
     "metadata": {},
     "output_type": "execute_result"
    }
   ],
   "source": [
    "#Test get_us_sector_performance()\n",
    "get_us_sector_performance()"
   ]
  },
  {
   "cell_type": "code",
   "execution_count": null,
   "metadata": {},
   "outputs": [],
   "source": []
  }
 ],
 "metadata": {
  "kernelspec": {
   "display_name": "Python 3",
   "language": "python",
   "name": "python3"
  },
  "language_info": {
   "codemirror_mode": {
    "name": "ipython",
    "version": 3
   },
   "file_extension": ".py",
   "mimetype": "text/x-python",
   "name": "python",
   "nbconvert_exporter": "python",
   "pygments_lexer": "ipython3",
   "version": "3.8.5"
  }
 },
 "nbformat": 4,
 "nbformat_minor": 4
}
