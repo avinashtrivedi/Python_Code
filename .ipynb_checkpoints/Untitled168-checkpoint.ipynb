{
 "cells": [
  {
   "cell_type": "code",
   "execution_count": 34,
   "metadata": {},
   "outputs": [],
   "source": [
    "visits = [('Russel', 'Nutrity', 1, 5, 0, 6, 0),\n",
    "           ('Russel', 'Foodigm', 2, 9, 0, 10, 0),\n",
    "           ('Russel', 'Afforage', 2, 10, 0, 11, 30),\n",
    "           ('Russel', 'Nutrity', 2, 11, 45, 12, 0),\n",
    "           ('Russel', 'Liberry', 3, 13, 0, 14, 15),\n",
    "           ('Natalya', 'Nutrity', 1, 5, 30, 6, 45),\n",
    "           ('Natalya', 'Afforage', 2, 8, 15, 10, 0),\n",
    "           ('Natalya', 'Nutrity', 4, 10, 10, 11, 45),\n",
    "           ('Chihiro', 'Foodigm', 2, 9, 15, 9, 30),\n",
    "           ('Chihiro', 'Nutrity', 4, 9, 45, 11, 30),\n",
    "           ('Chihiro', 'Liberry', 3, 12, 15, 13, 25)]\n",
    "\n",
    "# forward_contact_trace(visits, 'Russel', (1, 9, 0))"
   ]
  },
  {
   "cell_type": "code",
   "execution_count": 35,
   "metadata": {},
   "outputs": [],
   "source": [
    "def forward_contact_trace(visits, index,day_time, second_order=False):\n",
    "    data = visits.copy()\n",
    "    day_time = day_time[0]*1000 + day_time[1]*100 + day_time[2]*10\n",
    "    x = []\n",
    "    y = []\n",
    "    for i in visits:\n",
    "        time = i[2]*1000 + i[3]*100 + i[4]*10\n",
    "        if i[0]==index and time>day_time:\n",
    "            x.append(i)\n",
    "        elif i[0]!=index:\n",
    "            y.append(i)\n",
    "\n",
    "    newlst=[]\n",
    "    for i in x:\n",
    "        for j in y:\n",
    "            if j[2]==i[2] and j[1]==i[1] and is_overlapping(i[3],i[4],i[5],i[6],j[3],j[4],j[5],j[6]):\n",
    "                newlst.append((j[0],(j[2],)))\n",
    "    return list(set(newlst))"
   ]
  },
  {
   "cell_type": "code",
   "execution_count": 36,
   "metadata": {},
   "outputs": [
    {
     "data": {
      "text/plain": [
       "['Chihiro']"
      ]
     },
     "execution_count": 36,
     "metadata": {},
     "output_type": "execute_result"
    }
   ],
   "source": [
    "forward_contact_trace(visits, 'Russel', (1, 9, 0))"
   ]
  },
  {
   "cell_type": "code",
   "execution_count": null,
   "metadata": {},
   "outputs": [],
   "source": [
    "def forward_contact_trace(visits, index,day_time, second_order=False):\n",
    "    data = visits.copy()\n",
    "    day_time = day_time[0]*1000 + day_time[1]*100 + day_time[2]*10\n",
    "    x = []\n",
    "    y = []\n",
    "    for i in visits:\n",
    "        time = i[2]*1000 + i[3]*100 + i[4]*10\n",
    "        if i[0]==index and time>day_time:\n",
    "            x.append(i)\n",
    "        elif i[0]!=index:\n",
    "            y.append(i)\n",
    "\n",
    "    newlst=[]\n",
    "    for i in x:\n",
    "        for j in y:\n",
    "            if j[2]==i[2] and j[1]==i[1] and is_overlapping(i[3],i[4],i[5],i[6],j[3],j[4],j[5],j[6]):\n",
    "                newlst.append(j[0])\n",
    "    return list(set(newlst))"
   ]
  },
  {
   "cell_type": "code",
   "execution_count": null,
   "metadata": {},
   "outputs": [],
   "source": [
    "forward_contact_trace(visits, 'Russel', (1, 9, 0))"
   ]
  },
  {
   "cell_type": "code",
   "execution_count": null,
   "metadata": {},
   "outputs": [],
   "source": []
  },
  {
   "cell_type": "code",
   "execution_count": 37,
   "metadata": {},
   "outputs": [],
   "source": [
    "def is_overlapping(x11,x12,x21,x22,y11,y12,y21,y22):\n",
    "    x1 = x11*100 + x12\n",
    "    x2 = x21*100 + x22\n",
    "    \n",
    "    y1 = y11*100 + y12\n",
    "    y2 = y21*100 + y22\n",
    "    \n",
    "    # max(x2,y2)\n",
    "    return max(x1,y1) < min(x2,y2)"
   ]
  },
  {
   "cell_type": "code",
   "execution_count": null,
   "metadata": {},
   "outputs": [],
   "source": []
  }
 ],
 "metadata": {
  "kernelspec": {
   "display_name": "Python 3",
   "language": "python",
   "name": "python3"
  },
  "language_info": {
   "codemirror_mode": {
    "name": "ipython",
    "version": 3
   },
   "file_extension": ".py",
   "mimetype": "text/x-python",
   "name": "python",
   "nbconvert_exporter": "python",
   "pygments_lexer": "ipython3",
   "version": "3.8.5"
  }
 },
 "nbformat": 4,
 "nbformat_minor": 4
}
