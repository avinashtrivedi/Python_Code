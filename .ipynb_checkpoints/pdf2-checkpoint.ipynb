{
 "cells": [
  {
   "cell_type": "code",
   "execution_count": 1,
   "metadata": {},
   "outputs": [],
   "source": [
    "# import library\n",
    "from math import pi\n",
    "from math import exp\n",
    "from scipy import stats\n",
    "\n",
    "# define pdf\n",
    "def normal_pdf(x, mu, sigma):\n",
    "    return 1.0 / (sigma * (2.0 * pi)**(1/2)) * exp(-1.0 * (x - mu)**2 / (2.0 * (sigma**2)))"
   ]
  },
  {
   "cell_type": "code",
   "execution_count": 2,
   "metadata": {},
   "outputs": [],
   "source": [
    "# create dictionary\n",
    "Custom_Dictionary = {}\n",
    "x=-5\n",
    "\n",
    "# store key:value pairs in dictionary\n",
    "while x <=5:\n",
    "    Custom_Dictionary[x] = normal_pdf(x,0,1)\n",
    "    x = round(x + 0.1,1)"
   ]
  },
  {
   "cell_type": "code",
   "execution_count": 3,
   "metadata": {},
   "outputs": [
    {
     "name": "stdout",
     "output_type": "stream",
     "text": [
      "For x = -2 probabilities is: 0.05399096651318806\n",
      "For x = -1.5 probabilities is: 0.12951759566589174\n",
      "For x = -1.0 probabilities is: 0.24197072451914337\n",
      "For x = -0.5 probabilities is: 0.3520653267642995\n",
      "For x = 0.0 probabilities is: 0.3989422804014327\n",
      "For x = 0.5 probabilities is: 0.3520653267642995\n",
      "For x = 1.0 probabilities is: 0.24197072451914337\n",
      "For x = 1.5 probabilities is: 0.12951759566589174\n",
      "For x = 2.0 probabilities is: 0.05399096651318806\n"
     ]
    }
   ],
   "source": [
    "# Print all the probabilities for x between -2 to 2 with a step width of 0.5  \n",
    "x=-2\n",
    "while x <=2:\n",
    "    print('For x = {} probabilities is: {}'.format(x,Custom_Dictionary[x]))\n",
    "    x = round(x + 0.5,1)"
   ]
  },
  {
   "cell_type": "code",
   "execution_count": null,
   "metadata": {},
   "outputs": [],
   "source": []
  }
 ],
 "metadata": {
  "kernelspec": {
   "display_name": "Python 3",
   "language": "python",
   "name": "python3"
  },
  "language_info": {
   "codemirror_mode": {
    "name": "ipython",
    "version": 3
   },
   "file_extension": ".py",
   "mimetype": "text/x-python",
   "name": "python",
   "nbconvert_exporter": "python",
   "pygments_lexer": "ipython3",
   "version": "3.8.5"
  }
 },
 "nbformat": 4,
 "nbformat_minor": 4
}
