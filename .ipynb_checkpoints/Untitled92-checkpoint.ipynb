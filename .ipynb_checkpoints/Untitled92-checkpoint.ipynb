{
 "cells": [
  {
   "cell_type": "code",
   "execution_count": 4,
   "metadata": {},
   "outputs": [
    {
     "name": "stdout",
     "output_type": "stream",
     "text": [
      "Enter filename: att48.tsp\n",
      "Nbr of data points: 48\n",
      "First five data points:\n",
      "[[6734. 1453.]\n",
      " [2233.   10.]\n",
      " [5530. 1424.]\n",
      " [ 401.  841.]\n",
      " [3082. 1644.]]\n"
     ]
    }
   ],
   "source": [
    "import numpy as np\n",
    "def loadFromTSP(filename):\n",
    "\n",
    "    \"\"\" Inputs the TSP file named by filename, and returns a (nbrPoints,2)\n",
    "\n",
    "    numpy array of the data points.\"\"\"\n",
    "\n",
    "    data=open(filename, 'r')\n",
    "\n",
    "    data=data.readlines()[6:-1]\n",
    "\n",
    "    final_data=[]\n",
    "\n",
    "    for line in data:\n",
    "\n",
    "      line=line.replace('\\n','')\n",
    "\n",
    "      line=line.split(\" \")\n",
    "\n",
    "      final_data.append([float(line[1]), float(line[2])])\n",
    "\n",
    "    return np.array(final_data)\n",
    "\n",
    "\n",
    "\n",
    "filename=input(\"Enter filename: \")\n",
    "\n",
    "data=loadFromTSP(filename)\n",
    "\n",
    "print(\"Nbr of data points: {}\".format(len(data)))\n",
    "\n",
    "print(\"First five data points:\\n{}\".format(data[:5]))"
   ]
  },
  {
   "cell_type": "code",
   "execution_count": null,
   "metadata": {},
   "outputs": [],
   "source": []
  }
 ],
 "metadata": {
  "kernelspec": {
   "display_name": "Python 3",
   "language": "python",
   "name": "python3"
  },
  "language_info": {
   "codemirror_mode": {
    "name": "ipython",
    "version": 3
   },
   "file_extension": ".py",
   "mimetype": "text/x-python",
   "name": "python",
   "nbconvert_exporter": "python",
   "pygments_lexer": "ipython3",
   "version": "3.8.5"
  }
 },
 "nbformat": 4,
 "nbformat_minor": 4
}
