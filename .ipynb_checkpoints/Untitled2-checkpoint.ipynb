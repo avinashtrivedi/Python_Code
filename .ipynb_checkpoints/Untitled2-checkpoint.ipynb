{
 "cells": [
  {
   "cell_type": "code",
   "execution_count": 69,
   "metadata": {},
   "outputs": [],
   "source": [
    "# open the letters.txt\n",
    "lettersFile = open('letters.txt')\n",
    "letters=[]\n",
    "for i in lettersFile:\n",
    "    letters.append(i.strip())"
   ]
  },
  {
   "cell_type": "code",
   "execution_count": 70,
   "metadata": {},
   "outputs": [],
   "source": [
    "# Open message.txt\n",
    "messageFile = open('message.txt')\n",
    "Lines = messageFile.readlines()\n",
    "Message = Lines[0][:-1] # Saving the first line i.e encoded message\n",
    "Shift = int(Lines[1]) # value of right shift"
   ]
  },
  {
   "cell_type": "code",
   "execution_count": 71,
   "metadata": {},
   "outputs": [],
   "source": [
    "# creating a dictionary of letters\n",
    "LetterDict={}\n",
    "for i in range(1,27):\n",
    "    LetterDict[letters[i-1]] = i"
   ]
  },
  {
   "cell_type": "code",
   "execution_count": 72,
   "metadata": {},
   "outputs": [],
   "source": [
    "def decipherCaesar(message,shift):\n",
    "    MessageList = list(message)\n",
    "    for i in range(len(MessageList)):\n",
    "        if MessageList[i].lower() in d:\n",
    "            MessageList[i] = letters[d[MessageList[i]]-shift-1] # left shifting of encoded letters\n",
    "    return ''.join(MessageList)"
   ]
  },
  {
   "cell_type": "code",
   "execution_count": 73,
   "metadata": {},
   "outputs": [
    {
     "data": {
      "text/plain": [
       "'the purple moose drinks from the well at midnight'"
      ]
     },
     "execution_count": 73,
     "metadata": {},
     "output_type": "execute_result"
    }
   ],
   "source": [
    "decipherCaesar(Message,Shift)"
   ]
  }
 ],
 "metadata": {
  "kernelspec": {
   "display_name": "Python 3",
   "language": "python",
   "name": "python3"
  },
  "language_info": {
   "codemirror_mode": {
    "name": "ipython",
    "version": 3
   },
   "file_extension": ".py",
   "mimetype": "text/x-python",
   "name": "python",
   "nbconvert_exporter": "python",
   "pygments_lexer": "ipython3",
   "version": "3.8.5"
  }
 },
 "nbformat": 4,
 "nbformat_minor": 4
}
