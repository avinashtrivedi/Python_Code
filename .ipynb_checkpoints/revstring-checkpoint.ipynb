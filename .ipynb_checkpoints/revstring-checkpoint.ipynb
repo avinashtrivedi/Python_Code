{
 "cells": [
  {
   "cell_type": "markdown",
   "metadata": {},
   "source": [
    "# Concept"
   ]
  },
  {
   "cell_type": "code",
   "execution_count": 1,
   "metadata": {},
   "outputs": [],
   "source": [
    "mystring = 'Hello'"
   ]
  },
  {
   "cell_type": "code",
   "execution_count": 2,
   "metadata": {},
   "outputs": [
    {
     "data": {
      "text/plain": [
       "'olleH'"
      ]
     },
     "execution_count": 2,
     "metadata": {},
     "output_type": "execute_result"
    }
   ],
   "source": [
    "# this string slicing technique is used to reverse a string\n",
    "mystring[::-1]"
   ]
  },
  {
   "cell_type": "markdown",
   "metadata": {},
   "source": [
    "# Question"
   ]
  },
  {
   "cell_type": "code",
   "execution_count": 3,
   "metadata": {},
   "outputs": [],
   "source": [
    "def concatenation(string1,string2,string3):\n",
    "    \n",
    "    # reverse the strings\n",
    "    reverse_s1 = string1[::-1]\n",
    "    reverse_s2 = string2[::-1]\n",
    "    reverse_s3 = string3[::-1]\n",
    "    \n",
    "    # concatenate the reversed strings\n",
    "    final_reversed_string = reverse_s3 + reverse_s2 + reverse_s1\n",
    "    \n",
    "    # return the final_reversed_string\n",
    "    return final_reversed_string"
   ]
  },
  {
   "cell_type": "code",
   "execution_count": 4,
   "metadata": {},
   "outputs": [],
   "source": [
    "def main():\n",
    "    \n",
    "    # take user inputs\n",
    "    s1 = input('Enter first String: ')\n",
    "    s2 = input('Enter second String: ')\n",
    "    s3 = input('Enter third string: ')\n",
    "    \n",
    "    # call the concatenation() function\n",
    "    rev_str = concatenation(s1,s2,s3)\n",
    "    \n",
    "    # print the result\n",
    "    print('Concatenation of the string values in reverse order:',rev_str)"
   ]
  },
  {
   "cell_type": "code",
   "execution_count": 5,
   "metadata": {},
   "outputs": [
    {
     "name": "stdout",
     "output_type": "stream",
     "text": [
      "Enter first String: Hello\n",
      "Enter second String: World\n",
      "Enter third string: Car\n",
      "raCdlroWolleH\n"
     ]
    }
   ],
   "source": [
    "if __name__ == \"__main__\":\n",
    "    main()"
   ]
  },
  {
   "cell_type": "code",
   "execution_count": null,
   "metadata": {},
   "outputs": [],
   "source": []
  }
 ],
 "metadata": {
  "kernelspec": {
   "display_name": "Python 3",
   "language": "python",
   "name": "python3"
  },
  "language_info": {
   "codemirror_mode": {
    "name": "ipython",
    "version": 3
   },
   "file_extension": ".py",
   "mimetype": "text/x-python",
   "name": "python",
   "nbconvert_exporter": "python",
   "pygments_lexer": "ipython3",
   "version": "3.8.5"
  }
 },
 "nbformat": 4,
 "nbformat_minor": 4
}
