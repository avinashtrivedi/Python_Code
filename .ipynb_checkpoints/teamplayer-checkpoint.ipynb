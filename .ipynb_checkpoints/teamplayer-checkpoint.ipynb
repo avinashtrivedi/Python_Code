{
 "cells": [
  {
   "cell_type": "markdown",
   "metadata": {},
   "source": [
    "# Concepts-1"
   ]
  },
  {
   "cell_type": "code",
   "execution_count": 1,
   "metadata": {},
   "outputs": [],
   "source": [
    "# define two list\n",
    "a = [1,2,3,4,5]\n",
    "b = ['a','b','c','d','e']"
   ]
  },
  {
   "cell_type": "code",
   "execution_count": 2,
   "metadata": {},
   "outputs": [
    {
     "data": {
      "text/plain": [
       "[(1, 'a'), (2, 'b'), (3, 'c'), (4, 'd'), (5, 'e')]"
      ]
     },
     "execution_count": 2,
     "metadata": {},
     "output_type": "execute_result"
    }
   ],
   "source": [
    "# zip() function will combine both the lists element wise\n",
    "list(zip(a,b))"
   ]
  },
  {
   "cell_type": "markdown",
   "metadata": {},
   "source": [
    "# Concepts-2"
   ]
  },
  {
   "cell_type": "code",
   "execution_count": 3,
   "metadata": {},
   "outputs": [],
   "source": [
    "x = ['Jett', 'Jett', 'Viper', 'Sage']"
   ]
  },
  {
   "cell_type": "code",
   "execution_count": 4,
   "metadata": {},
   "outputs": [
    {
     "data": {
      "text/plain": [
       "['Jett', 'Viper', 'Sage']"
      ]
     },
     "execution_count": 4,
     "metadata": {},
     "output_type": "execute_result"
    }
   ],
   "source": [
    "# using dictionary to filter out duplicate items while preserving order\n",
    "list(dict.fromkeys(x))"
   ]
  },
  {
   "cell_type": "markdown",
   "metadata": {},
   "source": [
    "# Part-1"
   ]
  },
  {
   "cell_type": "code",
   "execution_count": 5,
   "metadata": {},
   "outputs": [],
   "source": [
    "def assign_agents(list1, list2):\n",
    "    \n",
    "    \"\"\"\n",
    "    >>> players = ['Yuri', 'James', 'Huy', 'Siddharth']\n",
    "    >>> agents = ['Jett', 'Sage', 'Reyna', 'Viper']\n",
    "    >>> assign_agents(players, agents)\n",
    "    [['Yuri', 'Jett'], ['James', 'Sage'], ['Huy', 'Reyna'], ['Siddharth', 'Viper']]\n",
    "    >>> players = ['James', 'Yuri', 'Huy']\n",
    "    >>> agents = ['Jett', 'Jett', 'Viper']\n",
    "    >>> assign_agents(players, agents)\n",
    "    [['James', 'Jett'], ['Yuri', 'Viper'], ['Huy', 'SPECTATOR']]\n",
    "    >>> players = ['James', 'Yuri', 'Huy']\n",
    "    >>> agents = ['Jett', 'Jett', 'Viper', 'Sage']\n",
    "    >>> assign_agents(players, agents)\n",
    "    [['James', 'Jett'], ['Yuri', 'Viper'], ['Huy', 'Sage']]\n",
    "    \"\"\"\n",
    "    \n",
    "    # get the unique ordered list\n",
    "    list2 = list(dict.fromkeys(list2))\n",
    "    \n",
    "    # if size of list1 and list2 is same\n",
    "    if len(list1) == len(list2):\n",
    "        \n",
    "        # the list with element wise tuple pair\n",
    "        result = list(zip(list1,list2))\n",
    "    \n",
    "    # otherwise\n",
    "    else:\n",
    "        \n",
    "        # add 'SPECTATOR' for the extra players\n",
    "        list2 = list2 + ['SPECTATOR']* (len(list1)-len(list2))\n",
    "        \n",
    "        # the list with element wise tuple pair\n",
    "        result = list(zip(list1,list2))\n",
    "    \n",
    "    # get list of list\n",
    "    result = [list(i) for i in result]\n",
    "    return result"
   ]
  },
  {
   "cell_type": "markdown",
   "metadata": {},
   "source": [
    "# Concepts-3"
   ]
  },
  {
   "cell_type": "code",
   "execution_count": 6,
   "metadata": {},
   "outputs": [],
   "source": [
    "y = ['A','B','C','D','E']"
   ]
  },
  {
   "cell_type": "code",
   "execution_count": 7,
   "metadata": {},
   "outputs": [
    {
     "data": {
      "text/plain": [
       "'C'"
      ]
     },
     "execution_count": 7,
     "metadata": {},
     "output_type": "execute_result"
    }
   ],
   "source": [
    "# remove and return element at index 2\n",
    "y.pop(2)"
   ]
  },
  {
   "cell_type": "code",
   "execution_count": 8,
   "metadata": {},
   "outputs": [
    {
     "data": {
      "text/plain": [
       "['A', 'B', 'D', 'E']"
      ]
     },
     "execution_count": 8,
     "metadata": {},
     "output_type": "execute_result"
    }
   ],
   "source": [
    "# now the list does not contain the removed element i.e. C\n",
    "y"
   ]
  },
  {
   "cell_type": "markdown",
   "metadata": {},
   "source": [
    "# Part-2"
   ]
  },
  {
   "cell_type": "code",
   "execution_count": 9,
   "metadata": {},
   "outputs": [],
   "source": [
    "def assign_teams(teams, leader_idx):\n",
    "    \"\"\"\n",
    "    >>> list1 = [['Vegetables', 'Potato', 'Carrot'], ['Cars', 'Toyota', 'Volkswagen', 'Mitsubishi']]\n",
    "    >>> assign_teams(list1, 0)\n",
    "    {'Vegetables': ['Potato', 'Carrot'], 'Cars': ['Toyota', 'Volkswagen', 'Mitsubishi']}\n",
    "    >>> list2 = [['Jett', 'Viper', 'Agents'], ['Ascent', 'Haven', 'Maps', 'Bind']]\n",
    "    >>> assign_teams(list2, 2)\n",
    "    {'Agents': ['Jett', 'Viper'], 'Maps': ['Ascent', 'Haven', 'Bind']}\n",
    "    >>> list3 = [[27, 3, 81, 273], [128, 2, 512, 1024, 6834], [77, 11]]\n",
    "    >>> assign_teams(list3, 1)\n",
    "    {3: [27, 81, 273], 2: [128, 512, 1024, 6834], 11: [77]}\n",
    "    \"\"\"\n",
    "    team_dict = {}\n",
    "    \n",
    "    # loop throught the teams \n",
    "    for team in teams:\n",
    "        \n",
    "        # remove the element at index leader_idx from each team \n",
    "        leader = team.pop(leader_idx)\n",
    "        \n",
    "        remaining_player = team\n",
    "        \n",
    "        # add items in dictionary\n",
    "        team_dict[leader] = remaining_player\n",
    "    return team_dict"
   ]
  },
  {
   "cell_type": "code",
   "execution_count": null,
   "metadata": {},
   "outputs": [],
   "source": []
  }
 ],
 "metadata": {
  "kernelspec": {
   "display_name": "Python 3",
   "language": "python",
   "name": "python3"
  },
  "language_info": {
   "codemirror_mode": {
    "name": "ipython",
    "version": 3
   },
   "file_extension": ".py",
   "mimetype": "text/x-python",
   "name": "python",
   "nbconvert_exporter": "python",
   "pygments_lexer": "ipython3",
   "version": "3.8.5"
  }
 },
 "nbformat": 4,
 "nbformat_minor": 4
}
