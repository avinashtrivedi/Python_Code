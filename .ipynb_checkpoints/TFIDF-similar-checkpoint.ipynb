{
 "cells": [
  {
   "cell_type": "code",
   "execution_count": 1,
   "metadata": {},
   "outputs": [],
   "source": [
    "import pandas as pd\n",
    "import numpy as np\n",
    "import math\n",
    "# input query and dataset\n",
    "d0 = InputQuery = 'How do I control my horny emotions?'.split()\n",
    "d1='What can cause stool to come out as little balls?'.split()\n",
    "d2='What can cause stool to come out as little balls?'.split()\n",
    "d3='How can I move to Jamaica'.split()\n",
    "d4='Is there any evidence of alien life  in space'.split()"
   ]
  },
  {
   "cell_type": "code",
   "execution_count": 2,
   "metadata": {},
   "outputs": [],
   "source": [
    "# create a vocabulary set\n",
    "word = set().union(*[d0,d1,d2,d3,d4])"
   ]
  },
  {
   "cell_type": "code",
   "execution_count": 3,
   "metadata": {},
   "outputs": [
    {
     "data": {
      "text/plain": [
       "{'How',\n",
       " 'I',\n",
       " 'Is',\n",
       " 'Jamaica',\n",
       " 'What',\n",
       " 'alien',\n",
       " 'any',\n",
       " 'as',\n",
       " 'balls?',\n",
       " 'can',\n",
       " 'cause',\n",
       " 'come',\n",
       " 'control',\n",
       " 'do',\n",
       " 'emotions?',\n",
       " 'evidence',\n",
       " 'horny',\n",
       " 'in',\n",
       " 'life',\n",
       " 'little',\n",
       " 'move',\n",
       " 'my',\n",
       " 'of',\n",
       " 'out',\n",
       " 'space',\n",
       " 'stool',\n",
       " 'there',\n",
       " 'to'}"
      ]
     },
     "execution_count": 3,
     "metadata": {},
     "output_type": "execute_result"
    }
   ],
   "source": [
    "word"
   ]
  },
  {
   "cell_type": "code",
   "execution_count": 3,
   "metadata": {},
   "outputs": [],
   "source": [
    "# create a dataframe \n",
    "df = pd.DataFrame(word,columns=['Term'])"
   ]
  },
  {
   "cell_type": "code",
   "execution_count": 4,
   "metadata": {},
   "outputs": [],
   "source": [
    "# find term frequency and store in separate columns\n",
    "# term frequency is (number of times a term appeared in document)/(Total number of term in that document)\n",
    "df['TF_d0'] = round(df.Term.map(lambda x: d0.count(x)/len(d0)),2)\n",
    "df['TF_d1'] = round(df.Term.map(lambda x: d1.count(x)/len(d1)),2)\n",
    "df['TF_d2'] = round(df.Term.map(lambda x: d2.count(x)/len(d2)),2)\n",
    "df['TF_d3'] = round(df.Term.map(lambda x: d3.count(x)/len(d3)),2)\n",
    "df['TF_d4'] = round(df.Term.map(lambda x: d4.count(x)/len(d4)),2)\n"
   ]
  },
  {
   "cell_type": "code",
   "execution_count": 5,
   "metadata": {},
   "outputs": [
    {
     "data": {
      "text/html": [
       "<div>\n",
       "<style scoped>\n",
       "    .dataframe tbody tr th:only-of-type {\n",
       "        vertical-align: middle;\n",
       "    }\n",
       "\n",
       "    .dataframe tbody tr th {\n",
       "        vertical-align: top;\n",
       "    }\n",
       "\n",
       "    .dataframe thead th {\n",
       "        text-align: right;\n",
       "    }\n",
       "</style>\n",
       "<table border=\"1\" class=\"dataframe\">\n",
       "  <thead>\n",
       "    <tr style=\"text-align: right;\">\n",
       "      <th></th>\n",
       "      <th>Term</th>\n",
       "      <th>TF_d0</th>\n",
       "      <th>TF_d1</th>\n",
       "      <th>TF_d2</th>\n",
       "      <th>TF_d3</th>\n",
       "      <th>TF_d4</th>\n",
       "    </tr>\n",
       "  </thead>\n",
       "  <tbody>\n",
       "    <tr>\n",
       "      <th>0</th>\n",
       "      <td>do</td>\n",
       "      <td>0.14</td>\n",
       "      <td>0.0</td>\n",
       "      <td>0.0</td>\n",
       "      <td>0.00</td>\n",
       "      <td>0.00</td>\n",
       "    </tr>\n",
       "    <tr>\n",
       "      <th>1</th>\n",
       "      <td>come</td>\n",
       "      <td>0.00</td>\n",
       "      <td>0.1</td>\n",
       "      <td>0.1</td>\n",
       "      <td>0.00</td>\n",
       "      <td>0.00</td>\n",
       "    </tr>\n",
       "    <tr>\n",
       "      <th>2</th>\n",
       "      <td>can</td>\n",
       "      <td>0.00</td>\n",
       "      <td>0.1</td>\n",
       "      <td>0.1</td>\n",
       "      <td>0.17</td>\n",
       "      <td>0.00</td>\n",
       "    </tr>\n",
       "    <tr>\n",
       "      <th>3</th>\n",
       "      <td>in</td>\n",
       "      <td>0.00</td>\n",
       "      <td>0.0</td>\n",
       "      <td>0.0</td>\n",
       "      <td>0.00</td>\n",
       "      <td>0.11</td>\n",
       "    </tr>\n",
       "    <tr>\n",
       "      <th>4</th>\n",
       "      <td>there</td>\n",
       "      <td>0.00</td>\n",
       "      <td>0.0</td>\n",
       "      <td>0.0</td>\n",
       "      <td>0.00</td>\n",
       "      <td>0.11</td>\n",
       "    </tr>\n",
       "  </tbody>\n",
       "</table>\n",
       "</div>"
      ],
      "text/plain": [
       "    Term  TF_d0  TF_d1  TF_d2  TF_d3  TF_d4\n",
       "0     do   0.14    0.0    0.0   0.00   0.00\n",
       "1   come   0.00    0.1    0.1   0.00   0.00\n",
       "2    can   0.00    0.1    0.1   0.17   0.00\n",
       "3     in   0.00    0.0    0.0   0.00   0.11\n",
       "4  there   0.00    0.0    0.0   0.00   0.11"
      ]
     },
     "execution_count": 5,
     "metadata": {},
     "output_type": "execute_result"
    }
   ],
   "source": [
    "df.head(5) # display few rows"
   ]
  },
  {
   "cell_type": "code",
   "execution_count": 6,
   "metadata": {},
   "outputs": [],
   "source": [
    "# find,in how many documents a given term has appeared\n",
    "# and store in dictionary as key value pair\n",
    "doc_list=[d0,d1,d2,d3,d4]\n",
    "dict_term={}\n",
    "for i in word:\n",
    "    dict_term[i]=0\n",
    "    for j in doc_list:\n",
    "        if i in j:\n",
    "            dict_term[i] +=1"
   ]
  },
  {
   "cell_type": "code",
   "execution_count": 7,
   "metadata": {},
   "outputs": [
    {
     "data": {
      "text/plain": [
       "{'do': 1,\n",
       " 'come': 2,\n",
       " 'can': 3,\n",
       " 'in': 1,\n",
       " 'there': 1,\n",
       " 'out': 2,\n",
       " 'little': 2,\n",
       " 'life': 1,\n",
       " 'space': 1,\n",
       " 'as': 2,\n",
       " 'move': 1,\n",
       " 'any': 1,\n",
       " 'Is': 1,\n",
       " 'How': 2,\n",
       " 'stool': 2,\n",
       " 'alien': 1,\n",
       " 'emotions?': 1,\n",
       " 'control': 1,\n",
       " 'balls?': 2,\n",
       " 'I': 2,\n",
       " 'evidence': 1,\n",
       " 'cause': 2,\n",
       " 'Jamaica': 1,\n",
       " 'my': 1,\n",
       " 'horny': 1,\n",
       " 'to': 3,\n",
       " 'of': 1,\n",
       " 'What': 2}"
      ]
     },
     "execution_count": 7,
     "metadata": {},
     "output_type": "execute_result"
    }
   ],
   "source": [
    "# key as term and value as number of document it appeared in \n",
    "dict_term"
   ]
  },
  {
   "cell_type": "code",
   "execution_count": 8,
   "metadata": {},
   "outputs": [],
   "source": [
    "# find idf i.e inverse document frequency\n",
    "# idf = log((Total number of document in dataset)/number of document a term appeared in))\n",
    "# here log base 10 is considered\n",
    "# total number of document : 5\n",
    "# round(x,3) : round x to 3 decimal places\n",
    "df['IDF'] = round(df.Term.map(lambda x: math.log(5/dict_term[x],10)),3)"
   ]
  },
  {
   "cell_type": "code",
   "execution_count": 9,
   "metadata": {},
   "outputs": [],
   "source": [
    "# find tf-idf for each docuemnt\n",
    "# tfidf is product of term frequency and idf\n",
    "df['TD-IDF_D0'] = round(df['TF_d0'] * df['IDF'],3)\n",
    "df['TD-IDF_D1'] = round(df['TF_d1'] * df['IDF'],3)\n",
    "df['TD-IDF_D2'] = round(df['TF_d2'] * df['IDF'],3)\n",
    "df['TD-IDF_D3'] = round(df['TF_d3'] * df['IDF'],3)\n",
    "df['TD-IDF_D4'] = round(df['TF_d4'] * df['IDF'],3)"
   ]
  },
  {
   "cell_type": "code",
   "execution_count": 10,
   "metadata": {},
   "outputs": [
    {
     "data": {
      "text/html": [
       "<div>\n",
       "<style scoped>\n",
       "    .dataframe tbody tr th:only-of-type {\n",
       "        vertical-align: middle;\n",
       "    }\n",
       "\n",
       "    .dataframe tbody tr th {\n",
       "        vertical-align: top;\n",
       "    }\n",
       "\n",
       "    .dataframe thead th {\n",
       "        text-align: right;\n",
       "    }\n",
       "</style>\n",
       "<table border=\"1\" class=\"dataframe\">\n",
       "  <thead>\n",
       "    <tr style=\"text-align: right;\">\n",
       "      <th></th>\n",
       "      <th>Term</th>\n",
       "      <th>TF_d0</th>\n",
       "      <th>TF_d1</th>\n",
       "      <th>TF_d2</th>\n",
       "      <th>TF_d3</th>\n",
       "      <th>TF_d4</th>\n",
       "      <th>IDF</th>\n",
       "      <th>TD-IDF_D0</th>\n",
       "      <th>TD-IDF_D1</th>\n",
       "      <th>TD-IDF_D2</th>\n",
       "      <th>TD-IDF_D3</th>\n",
       "      <th>TD-IDF_D4</th>\n",
       "    </tr>\n",
       "  </thead>\n",
       "  <tbody>\n",
       "    <tr>\n",
       "      <th>0</th>\n",
       "      <td>do</td>\n",
       "      <td>0.14</td>\n",
       "      <td>0.0</td>\n",
       "      <td>0.0</td>\n",
       "      <td>0.00</td>\n",
       "      <td>0.00</td>\n",
       "      <td>0.699</td>\n",
       "      <td>0.098</td>\n",
       "      <td>0.000</td>\n",
       "      <td>0.000</td>\n",
       "      <td>0.000</td>\n",
       "      <td>0.000</td>\n",
       "    </tr>\n",
       "    <tr>\n",
       "      <th>1</th>\n",
       "      <td>come</td>\n",
       "      <td>0.00</td>\n",
       "      <td>0.1</td>\n",
       "      <td>0.1</td>\n",
       "      <td>0.00</td>\n",
       "      <td>0.00</td>\n",
       "      <td>0.398</td>\n",
       "      <td>0.000</td>\n",
       "      <td>0.040</td>\n",
       "      <td>0.040</td>\n",
       "      <td>0.000</td>\n",
       "      <td>0.000</td>\n",
       "    </tr>\n",
       "    <tr>\n",
       "      <th>2</th>\n",
       "      <td>can</td>\n",
       "      <td>0.00</td>\n",
       "      <td>0.1</td>\n",
       "      <td>0.1</td>\n",
       "      <td>0.17</td>\n",
       "      <td>0.00</td>\n",
       "      <td>0.222</td>\n",
       "      <td>0.000</td>\n",
       "      <td>0.022</td>\n",
       "      <td>0.022</td>\n",
       "      <td>0.038</td>\n",
       "      <td>0.000</td>\n",
       "    </tr>\n",
       "    <tr>\n",
       "      <th>3</th>\n",
       "      <td>in</td>\n",
       "      <td>0.00</td>\n",
       "      <td>0.0</td>\n",
       "      <td>0.0</td>\n",
       "      <td>0.00</td>\n",
       "      <td>0.11</td>\n",
       "      <td>0.699</td>\n",
       "      <td>0.000</td>\n",
       "      <td>0.000</td>\n",
       "      <td>0.000</td>\n",
       "      <td>0.000</td>\n",
       "      <td>0.077</td>\n",
       "    </tr>\n",
       "    <tr>\n",
       "      <th>4</th>\n",
       "      <td>there</td>\n",
       "      <td>0.00</td>\n",
       "      <td>0.0</td>\n",
       "      <td>0.0</td>\n",
       "      <td>0.00</td>\n",
       "      <td>0.11</td>\n",
       "      <td>0.699</td>\n",
       "      <td>0.000</td>\n",
       "      <td>0.000</td>\n",
       "      <td>0.000</td>\n",
       "      <td>0.000</td>\n",
       "      <td>0.077</td>\n",
       "    </tr>\n",
       "  </tbody>\n",
       "</table>\n",
       "</div>"
      ],
      "text/plain": [
       "    Term  TF_d0  TF_d1  TF_d2  TF_d3  TF_d4    IDF  TD-IDF_D0  TD-IDF_D1  \\\n",
       "0     do   0.14    0.0    0.0   0.00   0.00  0.699      0.098      0.000   \n",
       "1   come   0.00    0.1    0.1   0.00   0.00  0.398      0.000      0.040   \n",
       "2    can   0.00    0.1    0.1   0.17   0.00  0.222      0.000      0.022   \n",
       "3     in   0.00    0.0    0.0   0.00   0.11  0.699      0.000      0.000   \n",
       "4  there   0.00    0.0    0.0   0.00   0.11  0.699      0.000      0.000   \n",
       "\n",
       "   TD-IDF_D2  TD-IDF_D3  TD-IDF_D4  \n",
       "0      0.000      0.000      0.000  \n",
       "1      0.040      0.000      0.000  \n",
       "2      0.022      0.038      0.000  \n",
       "3      0.000      0.000      0.077  \n",
       "4      0.000      0.000      0.077  "
      ]
     },
     "execution_count": 10,
     "metadata": {},
     "output_type": "execute_result"
    }
   ],
   "source": [
    "df.head(5) # display few rows"
   ]
  },
  {
   "cell_type": "code",
   "execution_count": 11,
   "metadata": {},
   "outputs": [],
   "source": [
    "# store tfidf columan name except for TD-IDF_D0\n",
    "tfidf_vector_column = list(df)[-4:]"
   ]
  },
  {
   "cell_type": "code",
   "execution_count": 12,
   "metadata": {},
   "outputs": [
    {
     "name": "stdout",
     "output_type": "stream",
     "text": [
      "Similar sentence for 'How do I control my horny emotions?' is:-  How can I move to Jamaica\n"
     ]
    }
   ],
   "source": [
    "InputQuery_tfidf_vector = np.array(df['TD-IDF_D0'])\n",
    "# cosine similarity(x,y) = x.dot(y) / (sum(x**2) + sum(y**2))\n",
    "# to find cosine similarity between two vectors\n",
    "cos_similarity=[]\n",
    "for col_name in tfidf_vector_column:\n",
    "    doc_vector = np.array(df[col_name])\n",
    "    cos_similarity.append(\n",
    "        InputQuery_tfidf_vector.dot(doc_vector) / (sum(InputQuery_tfidf_vector**2) + sum(doc_vector**2)))\n",
    "\n",
    "indx = cos_similarity.index(max(cos_similarity)) + 1    \n",
    "# create a document name\n",
    "s='d'+str(indx) # eg. d2,d3 etc\n",
    "print(\"Similar sentence for 'How do I control my horny emotions?' is:- \",' '.join(eval(s)))"
   ]
  },
  {
   "cell_type": "code",
   "execution_count": null,
   "metadata": {},
   "outputs": [],
   "source": []
  }
 ],
 "metadata": {
  "kernelspec": {
   "display_name": "Python 3",
   "language": "python",
   "name": "python3"
  },
  "language_info": {
   "codemirror_mode": {
    "name": "ipython",
    "version": 3
   },
   "file_extension": ".py",
   "mimetype": "text/x-python",
   "name": "python",
   "nbconvert_exporter": "python",
   "pygments_lexer": "ipython3",
   "version": "3.8.5"
  }
 },
 "nbformat": 4,
 "nbformat_minor": 4
}
