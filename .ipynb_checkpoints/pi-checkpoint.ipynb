{
 "cells": [
  {
   "cell_type": "code",
   "execution_count": 1,
   "metadata": {},
   "outputs": [],
   "source": [
    "# define the function\n",
    "def leibniz(n):\n",
    "    term_sum = 0\n",
    "    for i in range(n):\n",
    "        term = (-1) ** i /(2*i+1)\n",
    "        term_sum = term_sum + term\n",
    "    return term_sum * 4"
   ]
  },
  {
   "cell_type": "code",
   "execution_count": 2,
   "metadata": {},
   "outputs": [
    {
     "name": "stdout",
     "output_type": "stream",
     "text": [
      "Estimating pi!\n",
      "\n",
      "Please enter the maximum powers of ten: 7\n",
      "=======================================================\n",
      "10^0          -> 4.0                            0.0                                               \n",
      "10^1          -> 3.0418396189294032             0.0                                               \n",
      "10^2          -> 3.1315929035585537             0.0                                               \n",
      "10^3          -> 3.140592653839794              0.0009970664978027344                             \n",
      "10^4          -> 3.1414926535900345             0.010938644409179688                              \n",
      "10^5          -> 3.1415826535897198             0.03992867469787598                               \n",
      "10^6          -> 3.1415916535897743             0.3450777530670166                                \n",
      "10^7          -> 3.1415925535897915             3.504899263381958                                 \n",
      "pi            -> 3.141592653589793              0.0                                               \n",
      "=======================================================\n",
      "Thank you, Good Bye!\n"
     ]
    }
   ],
   "source": [
    "# import the library\n",
    "import math\n",
    "import time\n",
    "\n",
    "print('Estimating pi!')\n",
    "print()\n",
    "n = int(input('Please enter the maximum powers of ten: '))\n",
    "print(55*\"=\")\n",
    "\n",
    "# iterate through the number of terms\n",
    "for i in range(n+1):\n",
    "    \n",
    "    # get start time\n",
    "    start_time = time.time()\n",
    "    \n",
    "    # call the function.\n",
    "    pi = leibniz(10**i)\n",
    "    \n",
    "    # get end time\n",
    "    end_time = time.time()\n",
    "    \n",
    "    time_taken = end_time - start_time\n",
    "    print('10^{:<10} -> {:<30} {:<50}'.format(i,pi,time_taken))\n",
    "    \n",
    "# get the pi value using math.pi\n",
    "start_time = time.time()\n",
    "pi = math.pi\n",
    "end_time = time.time()\n",
    "time_taken = end_time - start_time\n",
    "\n",
    "print('{:<13} -> {:<30} {:<50}'.format('pi',pi,time_taken))\n",
    "print(55*\"=\")\n",
    "print('Thank you, Good Bye!')"
   ]
  },
  {
   "cell_type": "code",
   "execution_count": null,
   "metadata": {},
   "outputs": [],
   "source": []
  }
 ],
 "metadata": {
  "kernelspec": {
   "display_name": "Python 3",
   "language": "python",
   "name": "python3"
  },
  "language_info": {
   "codemirror_mode": {
    "name": "ipython",
    "version": 3
   },
   "file_extension": ".py",
   "mimetype": "text/x-python",
   "name": "python",
   "nbconvert_exporter": "python",
   "pygments_lexer": "ipython3",
   "version": "3.8.5"
  }
 },
 "nbformat": 4,
 "nbformat_minor": 4
}
