{
 "cells": [
  {
   "cell_type": "markdown",
   "metadata": {},
   "source": [
    "# Code"
   ]
  },
  {
   "cell_type": "code",
   "execution_count": 60,
   "metadata": {},
   "outputs": [],
   "source": [
    "def draw_pattern(a_canvas, colour_dictionary, pattern_list, size, start_x, start_y):   \n",
    "    \n",
    "    \"\"\"\n",
    "    Create a grid of colored rectangle.\n",
    "    \"\"\"\n",
    "    \n",
    "    # loop to gothrough each element of pattern_list. \n",
    "    # for your information: pattern_list is a list of list e.g. [['T','h','e'],['D','o','g']]\n",
    "    for i in range(len(pattern_list)):\n",
    "        # loop to gothrough each individual element of a list i, e.g. each element of ['T','h','e'] \n",
    "        for j in range(len(pattern_list[i])):\n",
    "            \n",
    "            # create a rectangle using start_x , start_y and size\n",
    "            # create_rectangle(x1,y1,x2,y2) : (x1,y1) is coordinates of top left\n",
    "            # and (x2,y2) is the coordinates of bottom right\n",
    "            # keep y coordinate same for each element of pattern_list and keep changing the x coordinate\n",
    "            # fill the color with appropriate color from colour_dictionary\n",
    "            a_canvas.create_rectangle(start_x+size*j, start_y+size*i, \n",
    "                                      start_x+size*(j+1), start_y+size*(i+1), \n",
    "                                      fill=colour_dictionary[pattern_list[i][j]])\n",
    "    a_canvas.pack()   # Pack the grids\n",
    "    mainloop()  # call the mainloop to display the grids\n",
    "    return"
   ]
  },
  {
   "cell_type": "markdown",
   "metadata": {},
   "source": [
    "# Testing"
   ]
  },
  {
   "cell_type": "code",
   "execution_count": 61,
   "metadata": {},
   "outputs": [],
   "source": [
    "from tkinter import *   \n",
    "top_widget = Tk()   # Toplevel widget\n",
    "top_widget.geometry(\"180x180\")  # Setting the geometry  \n",
    "canvas = Canvas(top_widget)  # create a canvas\n",
    "\n",
    "# colored dictionary as per, the given \"last three functions\"\n",
    "colour_dictionary={'T':'red','h':'yellow','e':'blue','D':'green','o':'gold','g':'pink'}\n",
    "\n",
    "# pattern list according to \"last three functions\"\n",
    "pattern_list = [['T','h','e'],['D','o','g']]\n",
    "\n",
    "# call draw_pattern() function to test with proper parameters\n",
    "draw_pattern(canvas, colour_dictionary, pattern_list, 50, 5, 5)"
   ]
  },
  {
   "cell_type": "code",
   "execution_count": 46,
   "metadata": {},
   "outputs": [],
   "source": []
  },
  {
   "cell_type": "code",
   "execution_count": 34,
   "metadata": {},
   "outputs": [],
   "source": []
  },
  {
   "cell_type": "code",
   "execution_count": null,
   "metadata": {},
   "outputs": [],
   "source": []
  }
 ],
 "metadata": {
  "kernelspec": {
   "display_name": "Python 3",
   "language": "python",
   "name": "python3"
  },
  "language_info": {
   "codemirror_mode": {
    "name": "ipython",
    "version": 3
   },
   "file_extension": ".py",
   "mimetype": "text/x-python",
   "name": "python",
   "nbconvert_exporter": "python",
   "pygments_lexer": "ipython3",
   "version": "3.8.5"
  }
 },
 "nbformat": 4,
 "nbformat_minor": 4
}
