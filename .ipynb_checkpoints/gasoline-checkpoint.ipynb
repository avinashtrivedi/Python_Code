{
 "cells": [
  {
   "cell_type": "code",
   "execution_count": 1,
   "metadata": {},
   "outputs": [],
   "source": [
    "def compute_cost(grade,no_gallon,car_wash):\n",
    "    cost_of_visit = 0\n",
    "    \n",
    "    # compute the cost of gasoline\n",
    "    if grade == 1:\n",
    "        cost_of_visit = cost_of_visit + no_gallon*regular_per_gallon_price\n",
    "    elif grade == 2:\n",
    "        cost_of_visit = cost_of_visit + no_gallon*mid_per_gallon_price\n",
    "    elif grade == 3:\n",
    "        cost_of_visit = cost_of_visit + no_gallon*premium_per_gallon_price\n",
    "    \n",
    "    # compute the cost of car wash\n",
    "    wash_price = car_wash_price if car_wash == 'y' else 0\n",
    "    \n",
    "    # total cost of visit\n",
    "    cost_of_visit = cost_of_visit + wash_price\n",
    "    \n",
    "    # return the cost\n",
    "    return cost_of_visit"
   ]
  },
  {
   "cell_type": "code",
   "execution_count": 2,
   "metadata": {},
   "outputs": [
    {
     "name": "stdout",
     "output_type": "stream",
     "text": [
      "Enter the grade of gasoline:\n",
      "regular-1\n",
      "mid-grade-2\n",
      "premium-3\n",
      "\n",
      "Enter your choice of grade (1-3): 2\n",
      "The number of gallons: 10\n",
      "whether a car wash is desired y/n: y\n",
      "\n",
      "Cost of a visit: 33.35$\n"
     ]
    }
   ],
   "source": [
    "# price per gallon of gasoline\n",
    "regular_per_gallon_price = 2.90\n",
    "mid_per_gallon_price = 3.19\n",
    "premium_per_gallon_price = 3.59\n",
    "\n",
    "# car wash price\n",
    "car_wash_price = 1.45\n",
    "\n",
    "print(\"Enter the grade of gasoline:\")\n",
    "print(\"regular-1\", \"mid-grade-2\", 'premium-3', sep=\"\\n\")\n",
    "\n",
    "# try-except block for exception handling.\n",
    "try:  \n",
    "    \n",
    "    # receive different inputs\n",
    "    grade = int(input('\\nEnter your choice of grade (1-3): '))\n",
    "    no_gallon = float(input(\"The number of gallons: \"))\n",
    "    car_wash = input('whether a car wash is desired y/n: ')\n",
    "    \n",
    "    # call the function.\n",
    "    cost = compute_cost(grade,no_gallon,car_wash)\n",
    "\n",
    "    print('\\nCost of a visit: {}$'.format(cost))\n",
    "\n",
    "except:\n",
    "    print('Wrong input. Please try again.')"
   ]
  },
  {
   "cell_type": "code",
   "execution_count": null,
   "metadata": {},
   "outputs": [],
   "source": []
  }
 ],
 "metadata": {
  "kernelspec": {
   "display_name": "Python 3",
   "language": "python",
   "name": "python3"
  },
  "language_info": {
   "codemirror_mode": {
    "name": "ipython",
    "version": 3
   },
   "file_extension": ".py",
   "mimetype": "text/x-python",
   "name": "python",
   "nbconvert_exporter": "python",
   "pygments_lexer": "ipython3",
   "version": "3.8.5"
  }
 },
 "nbformat": 4,
 "nbformat_minor": 4
}
