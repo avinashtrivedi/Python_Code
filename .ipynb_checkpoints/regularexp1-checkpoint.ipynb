{
 "cells": [
  {
   "cell_type": "code",
   "execution_count": 1,
   "metadata": {},
   "outputs": [],
   "source": [
    "# String containing more than 100 words\n",
    "\n",
    "words = \"\"\"PayPal charges fees in the currency of the transactions. (see User Agreement). For the purpose of computation of GST, the\n",
    "taxable value is determined by converting the fees to Indian rupees at the applicable accounting rate on the date of the\n",
    "transaction. This is in accordance with Section 15 of the Central Goods and Service Tax (CSGT) Act 2017, and with Rule 34 of\n",
    "the CGST Rules, as well as conforming with Indian accounting standards. Kindly refer to your activity report for a breakdown of\n",
    "your monthly fees. There may be minor differences in the amounts in this invoice due to rounding.\"\"\""
   ]
  },
  {
   "cell_type": "code",
   "execution_count": 2,
   "metadata": {},
   "outputs": [
    {
     "data": {
      "text/plain": [
       "'PayPal charges fees in the currency of the transactions. (see User Agreement). For the purpose of computation of GST, the\\ntaxable value is determined by converting the fees to Indian rupees at the applicable accounting rate on the date of the\\ntransaction. This is in accordance with Section 15 of the Central Goods and Service Tax (CSGT) Act 2017, and with Rule 34 of\\nthe CGST Rules, as well as conforming with Indian accounting standards. Kindly refer to your activity report for a breakdown of\\nyour monthly fees. There may be minor differences in the amounts in this invoice due to rounding.'"
      ]
     },
     "execution_count": 2,
     "metadata": {},
     "output_type": "execute_result"
    }
   ],
   "source": [
    "words"
   ]
  },
  {
   "cell_type": "code",
   "execution_count": 3,
   "metadata": {},
   "outputs": [],
   "source": [
    "# replace new line character with ' '\n",
    "words = words.replace('\\n',' ')"
   ]
  },
  {
   "cell_type": "code",
   "execution_count": 4,
   "metadata": {},
   "outputs": [
    {
     "data": {
      "text/plain": [
       "'PayPal charges fees in the currency of the transactions. (see User Agreement). For the purpose of computation of GST, the taxable value is determined by converting the fees to Indian rupees at the applicable accounting rate on the date of the transaction. This is in accordance with Section 15 of the Central Goods and Service Tax (CSGT) Act 2017, and with Rule 34 of the CGST Rules, as well as conforming with Indian accounting standards. Kindly refer to your activity report for a breakdown of your monthly fees. There may be minor differences in the amounts in this invoice due to rounding.'"
      ]
     },
     "execution_count": 4,
     "metadata": {},
     "output_type": "execute_result"
    }
   ],
   "source": [
    "words"
   ]
  },
  {
   "cell_type": "code",
   "execution_count": 5,
   "metadata": {},
   "outputs": [],
   "source": [
    "# Create data.dat file\n",
    "with open('data.dat','w') as file:\n",
    "    file.write(words)"
   ]
  },
  {
   "cell_type": "code",
   "execution_count": 6,
   "metadata": {},
   "outputs": [],
   "source": [
    "# read data.dat file\n",
    "with open('data.dat','r') as file:\n",
    "    data=file.readlines()"
   ]
  },
  {
   "cell_type": "code",
   "execution_count": 7,
   "metadata": {},
   "outputs": [
    {
     "data": {
      "text/plain": [
       "['PayPal charges fees in the currency of the transactions. (see User Agreement). For the purpose of computation of GST, the taxable value is determined by converting the fees to Indian rupees at the applicable accounting rate on the date of the transaction. This is in accordance with Section 15 of the Central Goods and Service Tax (CSGT) Act 2017, and with Rule 34 of the CGST Rules, as well as conforming with Indian accounting standards. Kindly refer to your activity report for a breakdown of your monthly fees. There may be minor differences in the amounts in this invoice due to rounding.']"
      ]
     },
     "execution_count": 7,
     "metadata": {},
     "output_type": "execute_result"
    }
   ],
   "source": [
    "data"
   ]
  },
  {
   "cell_type": "code",
   "execution_count": 8,
   "metadata": {},
   "outputs": [
    {
     "data": {
      "text/plain": [
       "'PayPal charges fees in the currency of the transactions. (see User Agreement). For the purpose of computation of GST, the taxable value is determined by converting the fees to Indian rupees at the applicable accounting rate on the date of the transaction. This is in accordance with Section 15 of the Central Goods and Service Tax (CSGT) Act 2017, and with Rule 34 of the CGST Rules, as well as conforming with Indian accounting standards. Kindly refer to your activity report for a breakdown of your monthly fees. There may be minor differences in the amounts in this invoice due to rounding.'"
      ]
     },
     "execution_count": 8,
     "metadata": {},
     "output_type": "execute_result"
    }
   ],
   "source": [
    "mydata = data[0]\n",
    "\n",
    "mydata"
   ]
  },
  {
   "cell_type": "code",
   "execution_count": 9,
   "metadata": {},
   "outputs": [
    {
     "name": "stdout",
     "output_type": "stream",
     "text": [
      "Consonant  Total_count\n",
      "----------------------\n",
      "p          7         \n",
      "j          0         \n",
      "q          0         \n",
      "y          9         \n",
      "l          12        \n",
      "c          22        \n",
      "f          15        \n",
      "w          5         \n",
      "m          8         \n",
      "k          1         \n",
      "s          23        \n",
      "v          5         \n",
      "b          5         \n",
      "g          7         \n",
      "t          42        \n",
      "n          40        \n",
      "h          19        \n",
      "r          30        \n",
      "z          0         \n",
      "x          2         \n",
      "d          16        \n"
     ]
    }
   ],
   "source": [
    "# import library\n",
    "import string \n",
    "import re \n",
    "\n",
    "# get all letters\n",
    "all_letters  = string.ascii_lowercase\n",
    "vowels = \"aeiou\"\n",
    "\n",
    "# set difference to get all consonants\n",
    "consonants  = set(all_letters) - set(vowels)\n",
    "\n",
    "print('{:<10} {:<10}'.format('Consonant','Total_count'))\n",
    "print('----------------------')\n",
    "\n",
    "# count the number of each consonants\n",
    "for cons in consonants: \n",
    "    count = len(re.findall(cons,mydata))\n",
    "    print('{:<10} {:<10}'.format(cons,count))"
   ]
  },
  {
   "cell_type": "code",
   "execution_count": null,
   "metadata": {},
   "outputs": [],
   "source": []
  },
  {
   "cell_type": "code",
   "execution_count": null,
   "metadata": {},
   "outputs": [],
   "source": []
  }
 ],
 "metadata": {
  "kernelspec": {
   "display_name": "Python 3",
   "language": "python",
   "name": "python3"
  },
  "language_info": {
   "codemirror_mode": {
    "name": "ipython",
    "version": 3
   },
   "file_extension": ".py",
   "mimetype": "text/x-python",
   "name": "python",
   "nbconvert_exporter": "python",
   "pygments_lexer": "ipython3",
   "version": "3.8.5"
  }
 },
 "nbformat": 4,
 "nbformat_minor": 4
}
