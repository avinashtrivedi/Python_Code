{
 "cells": [
  {
   "cell_type": "markdown",
   "metadata": {},
   "source": [
    "<h3 style=\"background-color:yellow;\"> Task:-1 Read the faithful.csv file and store it in a variable named geyser. Display the first 5 rows of the dataframe geyser.</h3>"
   ]
  },
  {
   "cell_type": "code",
   "execution_count": 1,
   "metadata": {},
   "outputs": [],
   "source": [
    "import numpy as np\n",
    "import pandas as pd\n",
    "from matplotlib import pyplot as plt\n",
    "from sklearn.linear_model import LinearRegression"
   ]
  },
  {
   "cell_type": "code",
   "execution_count": 2,
   "metadata": {},
   "outputs": [
    {
     "data": {
      "text/html": [
       "<div>\n",
       "<style scoped>\n",
       "    .dataframe tbody tr th:only-of-type {\n",
       "        vertical-align: middle;\n",
       "    }\n",
       "\n",
       "    .dataframe tbody tr th {\n",
       "        vertical-align: top;\n",
       "    }\n",
       "\n",
       "    .dataframe thead th {\n",
       "        text-align: right;\n",
       "    }\n",
       "</style>\n",
       "<table border=\"1\" class=\"dataframe\">\n",
       "  <thead>\n",
       "    <tr style=\"text-align: right;\">\n",
       "      <th></th>\n",
       "      <th>duration</th>\n",
       "      <th>wait</th>\n",
       "    </tr>\n",
       "  </thead>\n",
       "  <tbody>\n",
       "    <tr>\n",
       "      <th>0</th>\n",
       "      <td>3.600</td>\n",
       "      <td>79.0</td>\n",
       "    </tr>\n",
       "    <tr>\n",
       "      <th>1</th>\n",
       "      <td>1.800</td>\n",
       "      <td>54.0</td>\n",
       "    </tr>\n",
       "    <tr>\n",
       "      <th>2</th>\n",
       "      <td>3.333</td>\n",
       "      <td>74.0</td>\n",
       "    </tr>\n",
       "    <tr>\n",
       "      <th>3</th>\n",
       "      <td>2.283</td>\n",
       "      <td>62.0</td>\n",
       "    </tr>\n",
       "    <tr>\n",
       "      <th>4</th>\n",
       "      <td>4.533</td>\n",
       "      <td>85.0</td>\n",
       "    </tr>\n",
       "  </tbody>\n",
       "</table>\n",
       "</div>"
      ],
      "text/plain": [
       "   duration  wait\n",
       "0     3.600  79.0\n",
       "1     1.800  54.0\n",
       "2     3.333  74.0\n",
       "3     2.283  62.0\n",
       "4     4.533  85.0"
      ]
     },
     "execution_count": 2,
     "metadata": {},
     "output_type": "execute_result"
    }
   ],
   "source": [
    "geyser = pd.read_csv(\"faithful.csv\")\n",
    "geyser.head() #head() returns first 5 rows"
   ]
  },
  {
   "cell_type": "markdown",
   "metadata": {},
   "source": [
    "<h3 style=\"background-color:yellow;\">Task-:2 Make a scatter plot of the data that is in original units. It is conventional to put the column we will try to predict on the vertical axis and the other column on the horizontal axis. Also, the plot must display appropriate x-label, y-label, and title.</h3>"
   ]
  },
  {
   "cell_type": "code",
   "execution_count": 3,
   "metadata": {},
   "outputs": [],
   "source": [
    "x = geyser.iloc[:,0].values # Eruptions Duration (x-axis)\n",
    "y = geyser.iloc[:,1].values # Waiting Time (y-axis)"
   ]
  },
  {
   "cell_type": "code",
   "execution_count": 4,
   "metadata": {},
   "outputs": [
    {
     "data": {
      "image/png": "[encoded data removed]",
      "text/plain": [
       "<Figure size 504x360 with 1 Axes>"
      ]
     },
     "metadata": {
      "needs_background": "light"
     },
     "output_type": "display_data"
    }
   ],
   "source": [
    "plt.figure(figsize=(7,5))\n",
    "plt.scatter(x, y,s=50,marker ='*', color = \"green\")\n",
    "plt.xlabel(\"Eruptions Duration (in min)\")\n",
    "plt.ylabel(\"Waiting Time(in min)\")\n",
    "plt.title('Scatter plot')\n",
    "plt.show()"
   ]
  },
  {
   "cell_type": "markdown",
   "metadata": {},
   "source": [
    "<h3 style=\"background-color:yellow;\">Task-3: Compute the mean and standard deviation of the eruption durations and store it in variables named duration_mean and duration_std, respectively. Similarly, compute the mean and standard deviation of the waiting times and store it in variables named wait_mean and wait_std, respectively. Print duration_mean, duration_std, wait_mean, and wait_std to the output.</h3>"
   ]
  },
  {
   "cell_type": "code",
   "execution_count": 5,
   "metadata": {},
   "outputs": [
    {
     "data": {
      "text/html": [
       "<div>\n",
       "<style scoped>\n",
       "    .dataframe tbody tr th:only-of-type {\n",
       "        vertical-align: middle;\n",
       "    }\n",
       "\n",
       "    .dataframe tbody tr th {\n",
       "        vertical-align: top;\n",
       "    }\n",
       "\n",
       "    .dataframe thead th {\n",
       "        text-align: right;\n",
       "    }\n",
       "</style>\n",
       "<table border=\"1\" class=\"dataframe\">\n",
       "  <thead>\n",
       "    <tr style=\"text-align: right;\">\n",
       "      <th></th>\n",
       "      <th>duration</th>\n",
       "      <th>wait</th>\n",
       "    </tr>\n",
       "  </thead>\n",
       "  <tbody>\n",
       "    <tr>\n",
       "      <th>count</th>\n",
       "      <td>272.000000</td>\n",
       "      <td>272.000000</td>\n",
       "    </tr>\n",
       "    <tr>\n",
       "      <th>mean</th>\n",
       "      <td>3.487783</td>\n",
       "      <td>70.897059</td>\n",
       "    </tr>\n",
       "    <tr>\n",
       "      <th>std</th>\n",
       "      <td>1.141371</td>\n",
       "      <td>13.594974</td>\n",
       "    </tr>\n",
       "    <tr>\n",
       "      <th>min</th>\n",
       "      <td>1.600000</td>\n",
       "      <td>43.000000</td>\n",
       "    </tr>\n",
       "    <tr>\n",
       "      <th>25%</th>\n",
       "      <td>2.162750</td>\n",
       "      <td>58.000000</td>\n",
       "    </tr>\n",
       "    <tr>\n",
       "      <th>50%</th>\n",
       "      <td>4.000000</td>\n",
       "      <td>76.000000</td>\n",
       "    </tr>\n",
       "    <tr>\n",
       "      <th>75%</th>\n",
       "      <td>4.454250</td>\n",
       "      <td>82.000000</td>\n",
       "    </tr>\n",
       "    <tr>\n",
       "      <th>max</th>\n",
       "      <td>5.100000</td>\n",
       "      <td>96.000000</td>\n",
       "    </tr>\n",
       "  </tbody>\n",
       "</table>\n",
       "</div>"
      ],
      "text/plain": [
       "         duration        wait\n",
       "count  272.000000  272.000000\n",
       "mean     3.487783   70.897059\n",
       "std      1.141371   13.594974\n",
       "min      1.600000   43.000000\n",
       "25%      2.162750   58.000000\n",
       "50%      4.000000   76.000000\n",
       "75%      4.454250   82.000000\n",
       "max      5.100000   96.000000"
      ]
     },
     "execution_count": 5,
     "metadata": {},
     "output_type": "execute_result"
    }
   ],
   "source": [
    "geyser.describe()"
   ]
  },
  {
   "cell_type": "code",
   "execution_count": 6,
   "metadata": {},
   "outputs": [],
   "source": [
    "duration_mean = x.mean()"
   ]
  },
  {
   "cell_type": "code",
   "execution_count": 7,
   "metadata": {},
   "outputs": [],
   "source": [
    "duration_std = x.std()"
   ]
  },
  {
   "cell_type": "code",
   "execution_count": 8,
   "metadata": {},
   "outputs": [],
   "source": [
    "wait_mean = y.mean()"
   ]
  },
  {
   "cell_type": "code",
   "execution_count": 9,
   "metadata": {},
   "outputs": [],
   "source": [
    "wait_std = y.std()"
   ]
  },
  {
   "cell_type": "code",
   "execution_count": 10,
   "metadata": {},
   "outputs": [
    {
     "data": {
      "text/plain": [
       "3.4877830882352936"
      ]
     },
     "execution_count": 10,
     "metadata": {},
     "output_type": "execute_result"
    }
   ],
   "source": [
    "duration_mean"
   ]
  },
  {
   "cell_type": "code",
   "execution_count": 11,
   "metadata": {},
   "outputs": [
    {
     "data": {
      "text/plain": [
       "1.139271210225768"
      ]
     },
     "execution_count": 11,
     "metadata": {},
     "output_type": "execute_result"
    }
   ],
   "source": [
    "duration_std"
   ]
  },
  {
   "cell_type": "code",
   "execution_count": 12,
   "metadata": {},
   "outputs": [
    {
     "data": {
      "text/plain": [
       "70.8970588235294"
      ]
     },
     "execution_count": 12,
     "metadata": {},
     "output_type": "execute_result"
    }
   ],
   "source": [
    "wait_mean"
   ]
  },
  {
   "cell_type": "code",
   "execution_count": 13,
   "metadata": {},
   "outputs": [
    {
     "data": {
      "text/plain": [
       "13.569960017586371"
      ]
     },
     "execution_count": 13,
     "metadata": {},
     "output_type": "execute_result"
    }
   ],
   "source": [
    "wait_std"
   ]
  },
  {
   "cell_type": "markdown",
   "metadata": {},
   "source": [
    "<h3 style=\"background-color:yellow;\"> Task-4: Compute the eruption duration in standard units and append it as a new column named duration (standard units) to the dataframe geyser. Also, compute the waiting times in standard units and append it as a new column named wait (standard units) to the dataframe geyser. After appending the 2 new columns successfully, print the first 5 rows of the dataframe geyser to the output.</h3>"
   ]
  },
  {
   "cell_type": "code",
   "execution_count": 14,
   "metadata": {},
   "outputs": [
    {
     "data": {
      "text/html": [
       "<div>\n",
       "<style scoped>\n",
       "    .dataframe tbody tr th:only-of-type {\n",
       "        vertical-align: middle;\n",
       "    }\n",
       "\n",
       "    .dataframe tbody tr th {\n",
       "        vertical-align: top;\n",
       "    }\n",
       "\n",
       "    .dataframe thead th {\n",
       "        text-align: right;\n",
       "    }\n",
       "</style>\n",
       "<table border=\"1\" class=\"dataframe\">\n",
       "  <thead>\n",
       "    <tr style=\"text-align: right;\">\n",
       "      <th></th>\n",
       "      <th>duration</th>\n",
       "      <th>wait</th>\n",
       "    </tr>\n",
       "  </thead>\n",
       "  <tbody>\n",
       "    <tr>\n",
       "      <th>0</th>\n",
       "      <td>3.600</td>\n",
       "      <td>79.0</td>\n",
       "    </tr>\n",
       "    <tr>\n",
       "      <th>1</th>\n",
       "      <td>1.800</td>\n",
       "      <td>54.0</td>\n",
       "    </tr>\n",
       "    <tr>\n",
       "      <th>2</th>\n",
       "      <td>3.333</td>\n",
       "      <td>74.0</td>\n",
       "    </tr>\n",
       "    <tr>\n",
       "      <th>3</th>\n",
       "      <td>2.283</td>\n",
       "      <td>62.0</td>\n",
       "    </tr>\n",
       "    <tr>\n",
       "      <th>4</th>\n",
       "      <td>4.533</td>\n",
       "      <td>85.0</td>\n",
       "    </tr>\n",
       "  </tbody>\n",
       "</table>\n",
       "</div>"
      ],
      "text/plain": [
       "   duration  wait\n",
       "0     3.600  79.0\n",
       "1     1.800  54.0\n",
       "2     3.333  74.0\n",
       "3     2.283  62.0\n",
       "4     4.533  85.0"
      ]
     },
     "execution_count": 14,
     "metadata": {},
     "output_type": "execute_result"
    }
   ],
   "source": [
    "geyser.head()"
   ]
  },
  {
   "cell_type": "code",
   "execution_count": 15,
   "metadata": {},
   "outputs": [],
   "source": [
    "geyser['duration (standard units)'] = (geyser['duration'] - duration_mean)/duration_std"
   ]
  },
  {
   "cell_type": "code",
   "execution_count": 16,
   "metadata": {},
   "outputs": [],
   "source": [
    "geyser['wait (standard units)'] = (geyser['wait'] - wait_mean)/wait_std"
   ]
  },
  {
   "cell_type": "code",
   "execution_count": 17,
   "metadata": {},
   "outputs": [
    {
     "data": {
      "text/html": [
       "<div>\n",
       "<style scoped>\n",
       "    .dataframe tbody tr th:only-of-type {\n",
       "        vertical-align: middle;\n",
       "    }\n",
       "\n",
       "    .dataframe tbody tr th {\n",
       "        vertical-align: top;\n",
       "    }\n",
       "\n",
       "    .dataframe thead th {\n",
       "        text-align: right;\n",
       "    }\n",
       "</style>\n",
       "<table border=\"1\" class=\"dataframe\">\n",
       "  <thead>\n",
       "    <tr style=\"text-align: right;\">\n",
       "      <th></th>\n",
       "      <th>duration</th>\n",
       "      <th>wait</th>\n",
       "      <th>duration (standard units)</th>\n",
       "      <th>wait (standard units)</th>\n",
       "    </tr>\n",
       "  </thead>\n",
       "  <tbody>\n",
       "    <tr>\n",
       "      <th>0</th>\n",
       "      <td>3.600</td>\n",
       "      <td>79.0</td>\n",
       "      <td>0.098499</td>\n",
       "      <td>0.597123</td>\n",
       "    </tr>\n",
       "    <tr>\n",
       "      <th>1</th>\n",
       "      <td>1.800</td>\n",
       "      <td>54.0</td>\n",
       "      <td>-1.481459</td>\n",
       "      <td>-1.245181</td>\n",
       "    </tr>\n",
       "    <tr>\n",
       "      <th>2</th>\n",
       "      <td>3.333</td>\n",
       "      <td>74.0</td>\n",
       "      <td>-0.135861</td>\n",
       "      <td>0.228663</td>\n",
       "    </tr>\n",
       "    <tr>\n",
       "      <th>3</th>\n",
       "      <td>2.283</td>\n",
       "      <td>62.0</td>\n",
       "      <td>-1.057503</td>\n",
       "      <td>-0.655644</td>\n",
       "    </tr>\n",
       "    <tr>\n",
       "      <th>4</th>\n",
       "      <td>4.533</td>\n",
       "      <td>85.0</td>\n",
       "      <td>0.917443</td>\n",
       "      <td>1.039277</td>\n",
       "    </tr>\n",
       "  </tbody>\n",
       "</table>\n",
       "</div>"
      ],
      "text/plain": [
       "   duration  wait  duration (standard units)  wait (standard units)\n",
       "0     3.600  79.0                   0.098499               0.597123\n",
       "1     1.800  54.0                  -1.481459              -1.245181\n",
       "2     3.333  74.0                  -0.135861               0.228663\n",
       "3     2.283  62.0                  -1.057503              -0.655644\n",
       "4     4.533  85.0                   0.917443               1.039277"
      ]
     },
     "execution_count": 17,
     "metadata": {},
     "output_type": "execute_result"
    }
   ],
   "source": [
    "geyser.head()"
   ]
  },
  {
   "cell_type": "markdown",
   "metadata": {},
   "source": [
    "<h3 style=\"background-color:yellow;\"> Task-5: Make a scatter plot of the data that is in standard units. It is conventional to put the column we will try to predict on the vertical axis and the other column on the horizontal axis. Also, the plot must display appropriate x-label, y-label, and title. </h3>"
   ]
  },
  {
   "cell_type": "code",
   "execution_count": 18,
   "metadata": {},
   "outputs": [],
   "source": [
    "x_standard = geyser['duration (standard units)']\n",
    "y_standard = geyser['wait (standard units)']"
   ]
  },
  {
   "cell_type": "code",
   "execution_count": 19,
   "metadata": {},
   "outputs": [
    {
     "data": {
      "image/png": "[encoded data removed]",
      "text/plain": [
       "<Figure size 504x360 with 1 Axes>"
      ]
     },
     "metadata": {
      "needs_background": "light"
     },
     "output_type": "display_data"
    }
   ],
   "source": [
    "plt.figure(figsize=(7,5))\n",
    "plt.scatter(x_standard, y_standard,s=50,marker ='*', color = \"green\")\n",
    "plt.xlabel(\"Eruptions Duration (in min)\")\n",
    "plt.ylabel(\"Waiting Time(in min)\")\n",
    "plt.title('Scatter plot')\n",
    "plt.show()"
   ]
  },
  {
   "cell_type": "markdown",
   "metadata": {},
   "source": [
    "<h3 style=\"background-color:yellow;\">\n",
    "Task-6: Compute the correlation coefficient based on the eruption durations and the waiting times that are in standard units and store it in a variable named r. Print r to the output. </h3>"
   ]
  },
  {
   "cell_type": "code",
   "execution_count": 20,
   "metadata": {},
   "outputs": [],
   "source": [
    "r = np.corrcoef(x_standard, y_standard)"
   ]
  },
  {
   "cell_type": "code",
   "execution_count": 21,
   "metadata": {},
   "outputs": [
    {
     "data": {
      "text/plain": [
       "array([[1.        , 0.90081117],\n",
       "       [0.90081117, 1.        ]])"
      ]
     },
     "execution_count": 21,
     "metadata": {},
     "output_type": "execute_result"
    }
   ],
   "source": [
    "r"
   ]
  },
  {
   "cell_type": "code",
   "execution_count": 22,
   "metadata": {},
   "outputs": [
    {
     "data": {
      "text/plain": [
       "0.9008111683218125"
      ]
     },
     "execution_count": 22,
     "metadata": {},
     "output_type": "execute_result"
    }
   ],
   "source": [
    " r[0, 1] # correlation coefficient between x and y"
   ]
  },
  {
   "cell_type": "markdown",
   "metadata": {},
   "source": [
    "<h3 style=\"background-color:yellow;\">Task-7: Recall that the correlation is the slope of the regression line when the data are put in standard units. In this task, repeat task-5 but the plot must also display the regression line which can be computed as:\n",
    "\n",
    "waiting time (standard units)=𝑟×eruption duration (standard units).\n",
    "\n",
    "For the regression line, just take two eruption duration values -2 and 2 and predict the waiting times for each of those two values based on the above equation. In other words, use the two (x,y) points (i.e., (-2, -2r) and (2, 2r)) to plot the regression line. </h3>"
   ]
  },
  {
   "cell_type": "code",
   "execution_count": 23,
   "metadata": {},
   "outputs": [
    {
     "data": {
      "image/png": "[encoded data removed]",
      "text/plain": [
       "<Figure size 504x360 with 1 Axes>"
      ]
     },
     "metadata": {
      "needs_background": "light"
     },
     "output_type": "display_data"
    }
   ],
   "source": [
    "point1 = [-2,-2* r[0, 1]]\n",
    "point2 = [2,2* r[0, 1]]\n",
    "x_val = [point1[0],point2[0]]\n",
    "y_val = [point1[1],point2[1]]\n",
    "plt.figure(figsize=(7,5))\n",
    "plt.scatter(x_standard, y_standard,s=50,marker ='*', color = \"green\")\n",
    "plt.plot(x_val,y_val,color='r')\n",
    "plt.xlabel(\"Eruptions Duration (in min)\")\n",
    "plt.ylabel(\"Waiting Time(in min)\")\n",
    "plt.title('Scatter plot with regression line')\n",
    "plt.show()"
   ]
  },
  {
   "cell_type": "markdown",
   "metadata": {},
   "source": [
    "<h3 style=\"background-color:yellow;\">Task-8: Compute the slope and the intercept of the regression line in original units and store them in variables named slope_originalunits and intercept_originalunits, respectively. Print slope_originalunits and intercept_originalunits to the output.</h3>"
   ]
  },
  {
   "cell_type": "code",
   "execution_count": 24,
   "metadata": {},
   "outputs": [],
   "source": [
    "x = x.reshape(-1, 1)"
   ]
  },
  {
   "cell_type": "code",
   "execution_count": 25,
   "metadata": {},
   "outputs": [],
   "source": [
    "model = LinearRegression()"
   ]
  },
  {
   "cell_type": "code",
   "execution_count": 26,
   "metadata": {},
   "outputs": [
    {
     "data": {
      "text/plain": [
       "LinearRegression()"
      ]
     },
     "execution_count": 26,
     "metadata": {},
     "output_type": "execute_result"
    }
   ],
   "source": [
    "model.fit(x,y) # here x and y is in original units"
   ]
  },
  {
   "cell_type": "code",
   "execution_count": 27,
   "metadata": {},
   "outputs": [
    {
     "name": "stdout",
     "output_type": "stream",
     "text": [
      "33.474397022753365\n"
     ]
    }
   ],
   "source": [
    "intercept_originalunits = model.intercept_\n",
    "print(intercept_originalunits)"
   ]
  },
  {
   "cell_type": "code",
   "execution_count": 28,
   "metadata": {},
   "outputs": [
    {
     "name": "stdout",
     "output_type": "stream",
     "text": [
      "[10.7296414]\n"
     ]
    }
   ],
   "source": [
    "slope_originalunits = model.coef_\n",
    "print(slope_originalunits)"
   ]
  },
  {
   "cell_type": "markdown",
   "metadata": {},
   "source": [
    "<h3 style=\"background-color:yellow;\">Task-9: Write a function named predict_waiting_time that will take duration time as the argument. The function that you write must return the prediction of the waiting time based on the slope, the intercept, and the duration time values. After writing the function, call the function twice and pass the duration times 1 minute and 6 minutes, respectively. Store the returned prediction of the waiting times for duration times of 1 minute and 6 minutes in variables named predicted_wait_time_for1mins and predicted_wait_time_for6mins, repectively and print them to the output. </h3>"
   ]
  },
  {
   "cell_type": "code",
   "execution_count": 29,
   "metadata": {},
   "outputs": [],
   "source": [
    "def predict_waiting_time(time):\n",
    "    return (intercept_originalunits + slope_originalunits*time)[0]"
   ]
  },
  {
   "cell_type": "code",
   "execution_count": 30,
   "metadata": {},
   "outputs": [
    {
     "data": {
      "text/plain": [
       "44.204038417886885"
      ]
     },
     "execution_count": 30,
     "metadata": {},
     "output_type": "execute_result"
    }
   ],
   "source": [
    "predicted_wait_time_for1mins = predict_waiting_time(1)\n",
    "predicted_wait_time_for1mins"
   ]
  },
  {
   "cell_type": "code",
   "execution_count": 31,
   "metadata": {},
   "outputs": [
    {
     "data": {
      "text/plain": [
       "97.8522453935545"
      ]
     },
     "execution_count": 31,
     "metadata": {},
     "output_type": "execute_result"
    }
   ],
   "source": [
    "predicted_wait_time_for6mins = predict_waiting_time(6)\n",
    "predicted_wait_time_for6mins"
   ]
  },
  {
   "cell_type": "markdown",
   "metadata": {},
   "source": [
    "<h3 style=\"background-color:yellow;\">Task-10: Make a scatter plot of the data that is in original units together with the regression line. Also, the plot must display appropriate x-label, y-label, and title.\n",
    "\n",
    "For the regression line, just take two eruption duration values in minutes that you used in previous task 1 minute and 6 minutes and the predicted waiting times in minutes for each of those two values that you obtained in the previous task. In other words, use the two (x,y) points (i.e., (1, predicted_wait_time_for1mins) and (6, predicted_wait_time_for6mins)) to plot the regression line. </h3>"
   ]
  },
  {
   "cell_type": "code",
   "execution_count": 32,
   "metadata": {},
   "outputs": [
    {
     "data": {
      "image/png": "[encoded data removed]",
      "text/plain": [
       "<Figure size 504x360 with 1 Axes>"
      ]
     },
     "metadata": {
      "needs_background": "light"
     },
     "output_type": "display_data"
    }
   ],
   "source": [
    "point1 = [1,predicted_wait_time_for1mins]\n",
    "point2 = [6,predicted_wait_time_for6mins]\n",
    "x_val = [point1[0],point2[0]]\n",
    "y_val = [point1[1],point2[1]]\n",
    "plt.figure(figsize=(7,5))\n",
    "plt.scatter(x, y,s=50,marker ='*', color = \"green\")\n",
    "plt.plot(x_val,y_val,color='r')\n",
    "plt.xlabel(\"Eruptions Duration (in min)\")\n",
    "plt.ylabel(\"Waiting Time(in min)\")\n",
    "plt.title('Scatter plot with regression line')\n",
    "plt.show()"
   ]
  },
  {
   "cell_type": "markdown",
   "metadata": {},
   "source": [
    "<h3 style=\"background-color:yellow;\">Task-11: Predict the waiting times in minutes for all the eruption duration values in the dataframe geyser. Add the predicted waiting times as a new column named predicted wait to the dataframe geyser. Print the first 5 rows of the dataframe geyser to the output. </h3>"
   ]
  },
  {
   "cell_type": "code",
   "execution_count": 33,
   "metadata": {},
   "outputs": [],
   "source": [
    "geyser['predicted wait'] = intercept_originalunits + slope_originalunits*geyser['duration']"
   ]
  },
  {
   "cell_type": "code",
   "execution_count": 34,
   "metadata": {},
   "outputs": [
    {
     "data": {
      "text/html": [
       "<div>\n",
       "<style scoped>\n",
       "    .dataframe tbody tr th:only-of-type {\n",
       "        vertical-align: middle;\n",
       "    }\n",
       "\n",
       "    .dataframe tbody tr th {\n",
       "        vertical-align: top;\n",
       "    }\n",
       "\n",
       "    .dataframe thead th {\n",
       "        text-align: right;\n",
       "    }\n",
       "</style>\n",
       "<table border=\"1\" class=\"dataframe\">\n",
       "  <thead>\n",
       "    <tr style=\"text-align: right;\">\n",
       "      <th></th>\n",
       "      <th>duration</th>\n",
       "      <th>wait</th>\n",
       "      <th>duration (standard units)</th>\n",
       "      <th>wait (standard units)</th>\n",
       "      <th>predicted wait</th>\n",
       "    </tr>\n",
       "  </thead>\n",
       "  <tbody>\n",
       "    <tr>\n",
       "      <th>0</th>\n",
       "      <td>3.600</td>\n",
       "      <td>79.0</td>\n",
       "      <td>0.098499</td>\n",
       "      <td>0.597123</td>\n",
       "      <td>72.101106</td>\n",
       "    </tr>\n",
       "    <tr>\n",
       "      <th>1</th>\n",
       "      <td>1.800</td>\n",
       "      <td>54.0</td>\n",
       "      <td>-1.481459</td>\n",
       "      <td>-1.245181</td>\n",
       "      <td>52.787752</td>\n",
       "    </tr>\n",
       "    <tr>\n",
       "      <th>2</th>\n",
       "      <td>3.333</td>\n",
       "      <td>74.0</td>\n",
       "      <td>-0.135861</td>\n",
       "      <td>0.228663</td>\n",
       "      <td>69.236292</td>\n",
       "    </tr>\n",
       "    <tr>\n",
       "      <th>3</th>\n",
       "      <td>2.283</td>\n",
       "      <td>62.0</td>\n",
       "      <td>-1.057503</td>\n",
       "      <td>-0.655644</td>\n",
       "      <td>57.970168</td>\n",
       "    </tr>\n",
       "    <tr>\n",
       "      <th>4</th>\n",
       "      <td>4.533</td>\n",
       "      <td>85.0</td>\n",
       "      <td>0.917443</td>\n",
       "      <td>1.039277</td>\n",
       "      <td>82.111861</td>\n",
       "    </tr>\n",
       "  </tbody>\n",
       "</table>\n",
       "</div>"
      ],
      "text/plain": [
       "   duration  wait  duration (standard units)  wait (standard units)  \\\n",
       "0     3.600  79.0                   0.098499               0.597123   \n",
       "1     1.800  54.0                  -1.481459              -1.245181   \n",
       "2     3.333  74.0                  -0.135861               0.228663   \n",
       "3     2.283  62.0                  -1.057503              -0.655644   \n",
       "4     4.533  85.0                   0.917443               1.039277   \n",
       "\n",
       "   predicted wait  \n",
       "0       72.101106  \n",
       "1       52.787752  \n",
       "2       69.236292  \n",
       "3       57.970168  \n",
       "4       82.111861  "
      ]
     },
     "execution_count": 34,
     "metadata": {},
     "output_type": "execute_result"
    }
   ],
   "source": [
    "geyser.head()"
   ]
  },
  {
   "cell_type": "markdown",
   "metadata": {},
   "source": [
    "<h3 style=\"background-color:yellow;\"> Task-12: Make a scatter plot of the actual data that is in original units together with the regression line. The regression line can be plotted based on the columns duration and predicted wait. Also, the plot must display appropriate x-label, y-label, and title.\n",
    "\n",
    "Note: The only difference between task-10 and this task is that in task-10, you would have plotted the regression line based on only 2 eruption duration times and the corresponding predicted waiting times whereas in this task, you will plot the regression line using all of the values of the eruption duration times and the corresponding predicted waiting times.</h3>"
   ]
  },
  {
   "cell_type": "code",
   "execution_count": 35,
   "metadata": {},
   "outputs": [
    {
     "data": {
      "image/png": "[encoded data removed]",
      "text/plain": [
       "<Figure size 1080x360 with 1 Axes>"
      ]
     },
     "metadata": {
      "needs_background": "light"
     },
     "output_type": "display_data"
    }
   ],
   "source": [
    "plt.figure(figsize=(15,5))\n",
    "plt.scatter(x, y,s=50,marker ='*', color = \"green\")\n",
    "plt.plot(x,geyser.iloc[:,4].values,color='r')\n",
    "plt.xlabel(\"Eruptions Duration (in min)\")\n",
    "plt.ylabel(\"Waiting Time(in min)\")\n",
    "plt.title('Scatter plot with regression line')\n",
    "plt.show()"
   ]
  },
  {
   "cell_type": "markdown",
   "metadata": {},
   "source": [
    "<h3 style=\"background-color:yellow;\">Task-13: Calculate the error in the predictions by computing the difference between the predicted waiting times and the actual waiting times. Add the error values as a new column named error to the dataframe geyser. Print the first 5 rows of the dataframe geyser to the output. </h3>"
   ]
  },
  {
   "cell_type": "code",
   "execution_count": 36,
   "metadata": {},
   "outputs": [],
   "source": [
    "geyser['error'] = geyser['predicted wait'] - geyser['wait']"
   ]
  },
  {
   "cell_type": "code",
   "execution_count": 37,
   "metadata": {},
   "outputs": [
    {
     "data": {
      "text/html": [
       "<div>\n",
       "<style scoped>\n",
       "    .dataframe tbody tr th:only-of-type {\n",
       "        vertical-align: middle;\n",
       "    }\n",
       "\n",
       "    .dataframe tbody tr th {\n",
       "        vertical-align: top;\n",
       "    }\n",
       "\n",
       "    .dataframe thead th {\n",
       "        text-align: right;\n",
       "    }\n",
       "</style>\n",
       "<table border=\"1\" class=\"dataframe\">\n",
       "  <thead>\n",
       "    <tr style=\"text-align: right;\">\n",
       "      <th></th>\n",
       "      <th>duration</th>\n",
       "      <th>wait</th>\n",
       "      <th>duration (standard units)</th>\n",
       "      <th>wait (standard units)</th>\n",
       "      <th>predicted wait</th>\n",
       "      <th>error</th>\n",
       "    </tr>\n",
       "  </thead>\n",
       "  <tbody>\n",
       "    <tr>\n",
       "      <th>0</th>\n",
       "      <td>3.600</td>\n",
       "      <td>79.0</td>\n",
       "      <td>0.098499</td>\n",
       "      <td>0.597123</td>\n",
       "      <td>72.101106</td>\n",
       "      <td>-6.898894</td>\n",
       "    </tr>\n",
       "    <tr>\n",
       "      <th>1</th>\n",
       "      <td>1.800</td>\n",
       "      <td>54.0</td>\n",
       "      <td>-1.481459</td>\n",
       "      <td>-1.245181</td>\n",
       "      <td>52.787752</td>\n",
       "      <td>-1.212248</td>\n",
       "    </tr>\n",
       "    <tr>\n",
       "      <th>2</th>\n",
       "      <td>3.333</td>\n",
       "      <td>74.0</td>\n",
       "      <td>-0.135861</td>\n",
       "      <td>0.228663</td>\n",
       "      <td>69.236292</td>\n",
       "      <td>-4.763708</td>\n",
       "    </tr>\n",
       "    <tr>\n",
       "      <th>3</th>\n",
       "      <td>2.283</td>\n",
       "      <td>62.0</td>\n",
       "      <td>-1.057503</td>\n",
       "      <td>-0.655644</td>\n",
       "      <td>57.970168</td>\n",
       "      <td>-4.029832</td>\n",
       "    </tr>\n",
       "    <tr>\n",
       "      <th>4</th>\n",
       "      <td>4.533</td>\n",
       "      <td>85.0</td>\n",
       "      <td>0.917443</td>\n",
       "      <td>1.039277</td>\n",
       "      <td>82.111861</td>\n",
       "      <td>-2.888139</td>\n",
       "    </tr>\n",
       "  </tbody>\n",
       "</table>\n",
       "</div>"
      ],
      "text/plain": [
       "   duration  wait  duration (standard units)  wait (standard units)  \\\n",
       "0     3.600  79.0                   0.098499               0.597123   \n",
       "1     1.800  54.0                  -1.481459              -1.245181   \n",
       "2     3.333  74.0                  -0.135861               0.228663   \n",
       "3     2.283  62.0                  -1.057503              -0.655644   \n",
       "4     4.533  85.0                   0.917443               1.039277   \n",
       "\n",
       "   predicted wait     error  \n",
       "0       72.101106 -6.898894  \n",
       "1       52.787752 -1.212248  \n",
       "2       69.236292 -4.763708  \n",
       "3       57.970168 -4.029832  \n",
       "4       82.111861 -2.888139  "
      ]
     },
     "execution_count": 37,
     "metadata": {},
     "output_type": "execute_result"
    }
   ],
   "source": [
    "geyser.head()"
   ]
  },
  {
   "cell_type": "markdown",
   "metadata": {},
   "source": [
    "<h3 style=\"background-color:yellow;\">Task-14: Make a scatter plot of the error values that you computed in the previous task. The x-axis must be the eruption duration values in minutes and the plot shows how much our prediction over- or under-estimated the waiting times for different erpution duration times. Also, the plot must display appropriate x-label, y-label, and title. </h3>"
   ]
  },
  {
   "cell_type": "code",
   "execution_count": 38,
   "metadata": {},
   "outputs": [
    {
     "data": {
      "image/png": "[encoded data removed]",
      "text/plain": [
       "<Figure size 504x360 with 1 Axes>"
      ]
     },
     "metadata": {
      "needs_background": "light"
     },
     "output_type": "display_data"
    }
   ],
   "source": [
    "plt.figure(figsize=(7,5))\n",
    "plt.scatter(x,geyser.iloc[:,5].values ,s=50,marker ='*', color = \"red\")\n",
    "plt.xlabel(\"Eruptions Duration (in min)\")\n",
    "plt.ylabel(\"error (in min)\")\n",
    "plt.title('Scatter plot')\n",
    "plt.show()"
   ]
  },
  {
   "cell_type": "markdown",
   "metadata": {},
   "source": [
    "<h3 style=\"background-color:yellow;\">Task-15: Calculate the mean squared error (MSE) and the root mean squared error (RMSE) in the predicted waiting times, and store them in variables named MSE and RMSE, respectively. Print MSE and RMSE to the output. </h3>"
   ]
  },
  {
   "cell_type": "code",
   "execution_count": 39,
   "metadata": {},
   "outputs": [],
   "source": [
    "from sklearn.metrics import mean_squared_error\n",
    "import math"
   ]
  },
  {
   "cell_type": "code",
   "execution_count": 40,
   "metadata": {},
   "outputs": [],
   "source": [
    "y_pred = geyser.iloc[:,4].values"
   ]
  },
  {
   "cell_type": "code",
   "execution_count": 41,
   "metadata": {},
   "outputs": [
    {
     "name": "stdout",
     "output_type": "stream",
     "text": [
      "34.718334728738185\n"
     ]
    }
   ],
   "source": [
    "MSE = mean_squared_error(y, y_pred)\n",
    "print(MSE)"
   ]
  },
  {
   "cell_type": "code",
   "execution_count": 42,
   "metadata": {},
   "outputs": [
    {
     "name": "stdout",
     "output_type": "stream",
     "text": [
      "5.892226635893954\n"
     ]
    }
   ],
   "source": [
    "RMSE = math.sqrt(MSE)\n",
    "print(RMSE)"
   ]
  },
  {
   "cell_type": "code",
   "execution_count": null,
   "metadata": {},
   "outputs": [],
   "source": []
  }
 ],
 "metadata": {
  "kernelspec": {
   "display_name": "Python 3",
   "language": "python",
   "name": "python3"
  },
  "language_info": {
   "codemirror_mode": {
    "name": "ipython",
    "version": 3
   },
   "file_extension": ".py",
   "mimetype": "text/x-python",
   "name": "python",
   "nbconvert_exporter": "python",
   "pygments_lexer": "ipython3",
   "version": "3.8.5"
  }
 },
 "nbformat": 4,
 "nbformat_minor": 4
}
