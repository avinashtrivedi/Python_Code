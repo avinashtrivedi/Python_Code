{
 "cells": [
  {
   "cell_type": "code",
   "execution_count": null,
   "metadata": {},
   "outputs": [],
   "source": [
    "# import the library\n",
    "import hashlib\n",
    "import sys\n",
    "\n",
    "# try-except block to handle the exception\n",
    "try:\n",
    "    # command line argument\n",
    "    filename = sys.argv[1]\n",
    "except:\n",
    "    print('Please enter proper filename.')\n",
    "    sys.exit()\n",
    "\n",
    "# create md5 hashing object\n",
    "hashobj = hashlib.new(name='md5')\n",
    "\n",
    "# Password Hash Dictionary\n",
    "PasswordHashDictionary = {}\n",
    "\n",
    "try:\n",
    "    \n",
    "    # read the password line by line\n",
    "    with open(filename) as file:\n",
    "\n",
    "        # skip first 11 line ,as it contains comment only.\n",
    "        for _ in range(11):\n",
    "            next(file)\n",
    "\n",
    "        # process the password after line 11\n",
    "        while (passwd := file.readline()):\n",
    "\n",
    "            # remove leading and trailing whitespace\n",
    "            passwd = passwd.strip()\n",
    "\n",
    "            # Encode the string\n",
    "            passwd_encoded = passwd.encode(encoding='utf_16_le')\n",
    "\n",
    "            # Update the hash object's state\n",
    "            hashobj.update(passwd_encoded)\n",
    "\n",
    "            # add password and hash in dictionary\n",
    "            PasswordHashDictionary[hashobj.hexdigest()] = passwd\n",
    "except:\n",
    "    print('file does not exist.')\n",
    "# sort the dictionary on the basis of key i.e. Hash\n",
    "sorted_dict = dict(sorted(PasswordHashDictionary.items(),key=lambda x:x[0]))\n",
    "\n",
    "# print\n",
    "for k,v in sorted_dict.items():\n",
    "    print('[{}]:[{}]'.format(k,v))"
   ]
  }
 ],
 "metadata": {
  "kernelspec": {
   "display_name": "Python 3",
   "language": "python",
   "name": "python3"
  },
  "language_info": {
   "codemirror_mode": {
    "name": "ipython",
    "version": 3
   },
   "file_extension": ".py",
   "mimetype": "text/x-python",
   "name": "python",
   "nbconvert_exporter": "python",
   "pygments_lexer": "ipython3",
   "version": "3.8.5"
  }
 },
 "nbformat": 4,
 "nbformat_minor": 4
}
