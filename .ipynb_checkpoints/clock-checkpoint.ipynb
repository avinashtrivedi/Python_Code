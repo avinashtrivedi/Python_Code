{
 "cells": [
  {
   "cell_type": "code",
   "execution_count": 1,
   "metadata": {},
   "outputs": [],
   "source": [
    "\n",
    "###########################################################################\n",
    "## Class Date\n",
    "###########################################################################\n",
    "\n",
    "class Date( object ):\n",
    "\n",
    "    __name = [ \"Invalid\", \"January\", \"February\", \"March\", \"April\", \n",
    "        \"May\", \"June\", \"July\", \"August\", \"September\", \"October\", \n",
    "        \"November\", \"December\" ]\n",
    "\n",
    "    __days = [ 0, 31, 28, 31, 30, 31, 30, 31, 31, 30, 31, 30, 31 ]\n",
    "    \n",
    "    def __init__( self, month=0, day=0, year=0 ):\n",
    "        \n",
    "        \"\"\" Construct a Date using three integers. \"\"\"\n",
    "            \n",
    "        self.__month = month\n",
    "        self.__day   = day\n",
    "        self.__year  = year\n",
    "        self.__valid = self.__validate()\n",
    "\n",
    "    def __repr__( self ):\n",
    "\n",
    "        \"\"\" Return a string as the formal representation a Date. \"\"\"\n",
    "\n",
    "        out_str = \"Class Date: {:02d}/{:02d}/{:04d}\" \\\n",
    "            .format( self.__month, self.__day, self.__year )\n",
    "\n",
    "        return out_str\n",
    "\n",
    "    def __str__( self ):\n",
    "\n",
    "        \"\"\" Return a string (mm/dd/yyyy) to represent a Date. \"\"\"\n",
    "\n",
    "        out_str = \"{:02d}/{:02d}/{:04d}\" \\\n",
    "            .format( self.__month, self.__day, self.__year )\n",
    "\n",
    "        return out_str\n",
    "\n",
    "    def __validate( self ):\n",
    "\n",
    "        # Check the month, day and year for validity\n",
    "        # (does not account for leap years)\n",
    "\n",
    "        flag = False\n",
    "\n",
    "        if (1 <= self.__month <= 12) and \\\n",
    "           (1 <= self.__day <= Date.__days[self.__month] ) and \\\n",
    "           (0 <= self.__year):\n",
    "            \n",
    "               flag = True\n",
    "            \n",
    "        return flag\n",
    "\n",
    "    def is_valid( self ):\n",
    "\n",
    "        \"\"\" Return Boolean flag (valid date?) \"\"\"\n",
    "\n",
    "        return self.__valid\n",
    "\n",
    "    def from_iso( self, iso_str ):\n",
    "\n",
    "        \"\"\" Convert a string (yyyy-mm-dd) into a Date. \"\"\"\n",
    "\n",
    "        year, month, day = [ int( n ) for n in iso_str.split( '-' )]\n",
    "            \n",
    "        self.__month = month\n",
    "        self.__day   = day\n",
    "        self.__year  = year\n",
    "        self.__valid = self.__validate()\n",
    "\n",
    "\n",
    "    def from_mdy( self, mdy_str ):\n",
    "\n",
    "        \"\"\" Convert a string (Mmmmm dd, yyyy) into a Date. \"\"\"\n",
    "\n",
    "        mdy_list = mdy_str.replace(\",\",\"\").split()\n",
    "                    \n",
    "        self.__month = Date.__name.index( mdy_list[0] )\n",
    "        self.__day   = int( mdy_list[1].strip() )\n",
    "        self.__year  = int( mdy_list[2].strip() )\n",
    "        self.__valid = self.__validate()\n",
    "\n",
    "    def to_iso( self ):\n",
    "\n",
    "        \"\"\" Return a string (yyyy-mm-dd) to represent a Date. \"\"\"\n",
    "\n",
    "        iso_str = \"{:04d}-{:02d}-{:02d}\" \\\n",
    "            .format( self.__year, self.__month, self.__day )\n",
    "\n",
    "        return iso_str\n",
    "\n",
    "    def to_mdy( self ):\n",
    "\n",
    "        \"\"\" Return a string (Mmmmm dd, yyyy) to represent a Date. \"\"\"\n",
    "\n",
    "        mdy_str = \"{:s} {:d}, {:04d}\" \\\n",
    "            .format( Date.__name[self.__month], self.__day, self.__year )\n",
    "\n",
    "        return mdy_str\n"
   ]
  },
  {
   "cell_type": "code",
   "execution_count": 2,
   "metadata": {},
   "outputs": [],
   "source": [
    "import date"
   ]
  },
  {
   "cell_type": "code",
   "execution_count": 3,
   "metadata": {},
   "outputs": [
    {
     "name": "stdout",
     "output_type": "stream",
     "text": [
      "Help on module date:\n",
      "\n",
      "NAME\n",
      "    date\n",
      "\n",
      "DESCRIPTION\n",
      "    ###########################################################################\n",
      "    ## Class Date\n",
      "    ###########################################################################\n",
      "\n",
      "CLASSES\n",
      "    builtins.object\n",
      "        Date\n",
      "    \n",
      "    class Date(builtins.object)\n",
      "     |  Date(month=0, day=0, year=0)\n",
      "     |  \n",
      "     |  Methods defined here:\n",
      "     |  \n",
      "     |  __init__(self, month=0, day=0, year=0)\n",
      "     |      Construct a Date using three integers.\n",
      "     |  \n",
      "     |  __repr__(self)\n",
      "     |      Return a string as the formal representation a Date.\n",
      "     |  \n",
      "     |  __str__(self)\n",
      "     |      Return a string (mm/dd/yyyy) to represent a Date.\n",
      "     |  \n",
      "     |  from_iso(self, iso_str)\n",
      "     |      Convert a string (yyyy-mm-dd) into a Date.\n",
      "     |  \n",
      "     |  from_mdy(self, mdy_str)\n",
      "     |      Convert a string (Mmmmm dd, yyyy) into a Date.\n",
      "     |  \n",
      "     |  is_valid(self)\n",
      "     |      Return Boolean flag (valid date?)\n",
      "     |  \n",
      "     |  to_iso(self)\n",
      "     |      Return a string (yyyy-mm-dd) to represent a Date.\n",
      "     |  \n",
      "     |  to_mdy(self)\n",
      "     |      Return a string (Mmmmm dd, yyyy) to represent a Date.\n",
      "     |  \n",
      "     |  ----------------------------------------------------------------------\n",
      "     |  Data descriptors defined here:\n",
      "     |  \n",
      "     |  __dict__\n",
      "     |      dictionary for instance variables (if defined)\n",
      "     |  \n",
      "     |  __weakref__\n",
      "     |      list of weak references to the object (if defined)\n",
      "\n",
      "FILE\n",
      "    c:\\users\\avitr\\onedrive\\documents\\python scripts\\chegg\\date.py\n",
      "\n",
      "\n"
     ]
    }
   ],
   "source": [
    "help( date )"
   ]
  },
  {
   "cell_type": "code",
   "execution_count": 10,
   "metadata": {},
   "outputs": [
    {
     "name": "stdout",
     "output_type": "stream",
     "text": [
      "Help on class Date in module date:\n",
      "\n",
      "class Date(builtins.object)\n",
      " |  Date(month=0, day=0, year=0)\n",
      " |  \n",
      " |  Methods defined here:\n",
      " |  \n",
      " |  __init__(self, month=0, day=0, year=0)\n",
      " |      Construct a Date using three integers.\n",
      " |  \n",
      " |  __repr__(self)\n",
      " |      Return a string as the formal representation a Date.\n",
      " |  \n",
      " |  __str__(self)\n",
      " |      Return a string (mm/dd/yyyy) to represent a Date.\n",
      " |  \n",
      " |  from_iso(self, iso_str)\n",
      " |      Convert a string (yyyy-mm-dd) into a Date.\n",
      " |  \n",
      " |  from_mdy(self, mdy_str)\n",
      " |      Convert a string (Mmmmm dd, yyyy) into a Date.\n",
      " |  \n",
      " |  is_valid(self)\n",
      " |      Return Boolean flag (valid date?)\n",
      " |  \n",
      " |  to_iso(self)\n",
      " |      Return a string (yyyy-mm-dd) to represent a Date.\n",
      " |  \n",
      " |  to_mdy(self)\n",
      " |      Return a string (Mmmmm dd, yyyy) to represent a Date.\n",
      " |  \n",
      " |  ----------------------------------------------------------------------\n",
      " |  Data descriptors defined here:\n",
      " |  \n",
      " |  __dict__\n",
      " |      dictionary for instance variables (if defined)\n",
      " |  \n",
      " |  __weakref__\n",
      " |      list of weak references to the object (if defined)\n",
      "\n"
     ]
    }
   ],
   "source": [
    "help( date.Date )"
   ]
  },
  {
   "cell_type": "code",
   "execution_count": 12,
   "metadata": {},
   "outputs": [],
   "source": [
    "x = date.Date()"
   ]
  },
  {
   "cell_type": "code",
   "execution_count": 13,
   "metadata": {},
   "outputs": [
    {
     "data": {
      "text/plain": [
       "Class Date: 00/00/0000"
      ]
     },
     "execution_count": 13,
     "metadata": {},
     "output_type": "execute_result"
    }
   ],
   "source": [
    "x"
   ]
  },
  {
   "cell_type": "code",
   "execution_count": 14,
   "metadata": {},
   "outputs": [
    {
     "name": "stdout",
     "output_type": "stream",
     "text": [
      "00/00/0000\n"
     ]
    }
   ],
   "source": [
    "print( x )"
   ]
  },
  {
   "cell_type": "code",
   "execution_count": 15,
   "metadata": {},
   "outputs": [
    {
     "name": "stdout",
     "output_type": "stream",
     "text": [
      "01/01/2014\n",
      "2014-01-01\n",
      "January 1, 2014\n",
      "True\n",
      "\n",
      "12/31/2014\n",
      "2014-12-31\n",
      "December 31, 2014\n",
      "True\n",
      "\n",
      "07/04/2014\n",
      "2014-07-04\n",
      "July 4, 2014\n",
      "True\n",
      "\n",
      "03/15/2015\n",
      "2015-03-15\n",
      "March 15, 2015\n",
      "True\n",
      "\n",
      "00/00/0000\n",
      "0000-00-00\n",
      "Invalid 0, 0000\n",
      "False\n",
      "\n"
     ]
    }
   ],
   "source": [
    "import date\n",
    "\n",
    "A = date.Date( 1, 1, 2014 )\n",
    "\n",
    "print( A )\n",
    "print( A.to_iso() )\n",
    "print( A.to_mdy() )\n",
    "print( A.is_valid() )\n",
    "print()\n",
    "\n",
    "B = date.Date( 12, 31, 2014 )\n",
    "\n",
    "print( B )\n",
    "print( B.to_iso() )\n",
    "print( B.to_mdy() )\n",
    "print( B.is_valid() )\n",
    "print()\n",
    "\n",
    "C = date.Date()\n",
    "\n",
    "C.from_iso( \"2014-07-04\" )\n",
    "\n",
    "print( C )\n",
    "print( C.to_iso() )\n",
    "print( C.to_mdy() )\n",
    "print( C.is_valid() )\n",
    "print()\n",
    "\n",
    "D = date.Date()\n",
    "\n",
    "D.from_mdy( \"March 15, 2015\" )\n",
    "\n",
    "print( D )\n",
    "print( D.to_iso() )\n",
    "print( D.to_mdy() )\n",
    "print( D.is_valid() )\n",
    "print()\n",
    "\n",
    "E = date.Date()\n",
    "\n",
    "print( E )\n",
    "print( E.to_iso() )\n",
    "print( E.to_mdy() )\n",
    "print( E.is_valid() )\n",
    "print()\n"
   ]
  },
  {
   "cell_type": "code",
   "execution_count": 25,
   "metadata": {},
   "outputs": [
    {
     "name": "stdout",
     "output_type": "stream",
     "text": [
      "13/40/2017\n"
     ]
    }
   ],
   "source": [
    "E = date.Date(13,40,2017)\n",
    "print( E )"
   ]
  },
  {
   "cell_type": "code",
   "execution_count": null,
   "metadata": {},
   "outputs": [],
   "source": [
    "print( E.to_iso() )\n",
    "print( E.to_mdy() )\n",
    "print( E.is_valid() )\n",
    "print()"
   ]
  },
  {
   "cell_type": "code",
   "execution_count": 26,
   "metadata": {},
   "outputs": [],
   "source": [
    "E.from_iso(' 2017 - 11 - 25 ')"
   ]
  },
  {
   "cell_type": "code",
   "execution_count": 42,
   "metadata": {},
   "outputs": [
    {
     "ename": "ValueError",
     "evalue": "invalid literal for int() with base 10: ' '",
     "output_type": "error",
     "traceback": [
      "\u001b[1;31m---------------------------------------------------------------------------\u001b[0m",
      "\u001b[1;31mValueError\u001b[0m                                Traceback (most recent call last)",
      "\u001b[1;32m<ipython-input-42-3ca4c5b3d3d5>\u001b[0m in \u001b[0;36m<module>\u001b[1;34m\u001b[0m\n\u001b[1;32m----> 1\u001b[1;33m \u001b[0mE\u001b[0m\u001b[1;33m.\u001b[0m\u001b[0mfrom_iso\u001b[0m\u001b[1;33m(\u001b[0m\u001b[1;34m' '\u001b[0m\u001b[1;33m)\u001b[0m\u001b[1;33m\u001b[0m\u001b[1;33m\u001b[0m\u001b[0m\n\u001b[0m",
      "\u001b[1;32m~\\OneDrive\\Documents\\Python Scripts\\Chegg\\date.py\u001b[0m in \u001b[0;36mfrom_iso\u001b[1;34m(self, iso_str)\u001b[0m\n\u001b[0;32m     64\u001b[0m         \u001b[1;34m\"\"\" Convert a string (yyyy-mm-dd) into a Date. \"\"\"\u001b[0m\u001b[1;33m\u001b[0m\u001b[1;33m\u001b[0m\u001b[0m\n\u001b[0;32m     65\u001b[0m \u001b[1;33m\u001b[0m\u001b[0m\n\u001b[1;32m---> 66\u001b[1;33m         \u001b[0myear\u001b[0m\u001b[1;33m,\u001b[0m \u001b[0mmonth\u001b[0m\u001b[1;33m,\u001b[0m \u001b[0mday\u001b[0m \u001b[1;33m=\u001b[0m \u001b[1;33m[\u001b[0m \u001b[0mint\u001b[0m\u001b[1;33m(\u001b[0m \u001b[0mn\u001b[0m \u001b[1;33m)\u001b[0m \u001b[1;32mfor\u001b[0m \u001b[0mn\u001b[0m \u001b[1;32min\u001b[0m \u001b[0miso_str\u001b[0m\u001b[1;33m.\u001b[0m\u001b[0msplit\u001b[0m\u001b[1;33m(\u001b[0m \u001b[1;34m'-'\u001b[0m \u001b[1;33m)\u001b[0m\u001b[1;33m]\u001b[0m\u001b[1;33m\u001b[0m\u001b[1;33m\u001b[0m\u001b[0m\n\u001b[0m\u001b[0;32m     67\u001b[0m \u001b[1;33m\u001b[0m\u001b[0m\n\u001b[0;32m     68\u001b[0m         \u001b[0mself\u001b[0m\u001b[1;33m.\u001b[0m\u001b[0m__month\u001b[0m \u001b[1;33m=\u001b[0m \u001b[0mmonth\u001b[0m\u001b[1;33m\u001b[0m\u001b[1;33m\u001b[0m\u001b[0m\n",
      "\u001b[1;32m~\\OneDrive\\Documents\\Python Scripts\\Chegg\\date.py\u001b[0m in \u001b[0;36m<listcomp>\u001b[1;34m(.0)\u001b[0m\n\u001b[0;32m     64\u001b[0m         \u001b[1;34m\"\"\" Convert a string (yyyy-mm-dd) into a Date. \"\"\"\u001b[0m\u001b[1;33m\u001b[0m\u001b[1;33m\u001b[0m\u001b[0m\n\u001b[0;32m     65\u001b[0m \u001b[1;33m\u001b[0m\u001b[0m\n\u001b[1;32m---> 66\u001b[1;33m         \u001b[0myear\u001b[0m\u001b[1;33m,\u001b[0m \u001b[0mmonth\u001b[0m\u001b[1;33m,\u001b[0m \u001b[0mday\u001b[0m \u001b[1;33m=\u001b[0m \u001b[1;33m[\u001b[0m \u001b[0mint\u001b[0m\u001b[1;33m(\u001b[0m \u001b[0mn\u001b[0m \u001b[1;33m)\u001b[0m \u001b[1;32mfor\u001b[0m \u001b[0mn\u001b[0m \u001b[1;32min\u001b[0m \u001b[0miso_str\u001b[0m\u001b[1;33m.\u001b[0m\u001b[0msplit\u001b[0m\u001b[1;33m(\u001b[0m \u001b[1;34m'-'\u001b[0m \u001b[1;33m)\u001b[0m\u001b[1;33m]\u001b[0m\u001b[1;33m\u001b[0m\u001b[1;33m\u001b[0m\u001b[0m\n\u001b[0m\u001b[0;32m     67\u001b[0m \u001b[1;33m\u001b[0m\u001b[0m\n\u001b[0;32m     68\u001b[0m         \u001b[0mself\u001b[0m\u001b[1;33m.\u001b[0m\u001b[0m__month\u001b[0m \u001b[1;33m=\u001b[0m \u001b[0mmonth\u001b[0m\u001b[1;33m\u001b[0m\u001b[1;33m\u001b[0m\u001b[0m\n",
      "\u001b[1;31mValueError\u001b[0m: invalid literal for int() with base 10: ' '"
     ]
    }
   ],
   "source": [
    "E.from_iso(' ')"
   ]
  },
  {
   "cell_type": "code",
   "execution_count": 39,
   "metadata": {},
   "outputs": [],
   "source": [
    "E.from_mdy(' March 15, 2015 ')"
   ]
  },
  {
   "cell_type": "code",
   "execution_count": 40,
   "metadata": {},
   "outputs": [
    {
     "name": "stdout",
     "output_type": "stream",
     "text": [
      "03/15/2015\n"
     ]
    }
   ],
   "source": [
    "print(E)"
   ]
  },
  {
   "cell_type": "code",
   "execution_count": 43,
   "metadata": {},
   "outputs": [
    {
     "ename": "IndexError",
     "evalue": "list index out of range",
     "output_type": "error",
     "traceback": [
      "\u001b[1;31m---------------------------------------------------------------------------\u001b[0m",
      "\u001b[1;31mIndexError\u001b[0m                                Traceback (most recent call last)",
      "\u001b[1;32m<ipython-input-43-84031369ed41>\u001b[0m in \u001b[0;36m<module>\u001b[1;34m\u001b[0m\n\u001b[1;32m----> 1\u001b[1;33m \u001b[0mE\u001b[0m\u001b[1;33m.\u001b[0m\u001b[0mfrom_mdy\u001b[0m\u001b[1;33m(\u001b[0m\u001b[1;34m'  '\u001b[0m\u001b[1;33m)\u001b[0m\u001b[1;33m\u001b[0m\u001b[1;33m\u001b[0m\u001b[0m\n\u001b[0m",
      "\u001b[1;32m~\\OneDrive\\Documents\\Python Scripts\\Chegg\\date.py\u001b[0m in \u001b[0;36mfrom_mdy\u001b[1;34m(self, mdy_str)\u001b[0m\n\u001b[0;32m     78\u001b[0m         \u001b[0mmdy_list\u001b[0m \u001b[1;33m=\u001b[0m \u001b[0mmdy_str\u001b[0m\u001b[1;33m.\u001b[0m\u001b[0mreplace\u001b[0m\u001b[1;33m(\u001b[0m\u001b[1;34m\",\"\u001b[0m\u001b[1;33m,\u001b[0m\u001b[1;34m\"\"\u001b[0m\u001b[1;33m)\u001b[0m\u001b[1;33m.\u001b[0m\u001b[0msplit\u001b[0m\u001b[1;33m(\u001b[0m\u001b[1;33m)\u001b[0m\u001b[1;33m\u001b[0m\u001b[1;33m\u001b[0m\u001b[0m\n\u001b[0;32m     79\u001b[0m \u001b[1;33m\u001b[0m\u001b[0m\n\u001b[1;32m---> 80\u001b[1;33m         \u001b[0mself\u001b[0m\u001b[1;33m.\u001b[0m\u001b[0m__month\u001b[0m \u001b[1;33m=\u001b[0m \u001b[0mDate\u001b[0m\u001b[1;33m.\u001b[0m\u001b[0m__name\u001b[0m\u001b[1;33m.\u001b[0m\u001b[0mindex\u001b[0m\u001b[1;33m(\u001b[0m \u001b[0mmdy_list\u001b[0m\u001b[1;33m[\u001b[0m\u001b[1;36m0\u001b[0m\u001b[1;33m]\u001b[0m \u001b[1;33m)\u001b[0m\u001b[1;33m\u001b[0m\u001b[1;33m\u001b[0m\u001b[0m\n\u001b[0m\u001b[0;32m     81\u001b[0m         \u001b[0mself\u001b[0m\u001b[1;33m.\u001b[0m\u001b[0m__day\u001b[0m   \u001b[1;33m=\u001b[0m \u001b[0mint\u001b[0m\u001b[1;33m(\u001b[0m \u001b[0mmdy_list\u001b[0m\u001b[1;33m[\u001b[0m\u001b[1;36m1\u001b[0m\u001b[1;33m]\u001b[0m\u001b[1;33m.\u001b[0m\u001b[0mstrip\u001b[0m\u001b[1;33m(\u001b[0m\u001b[1;33m)\u001b[0m \u001b[1;33m)\u001b[0m\u001b[1;33m\u001b[0m\u001b[1;33m\u001b[0m\u001b[0m\n\u001b[0;32m     82\u001b[0m         \u001b[0mself\u001b[0m\u001b[1;33m.\u001b[0m\u001b[0m__year\u001b[0m  \u001b[1;33m=\u001b[0m \u001b[0mint\u001b[0m\u001b[1;33m(\u001b[0m \u001b[0mmdy_list\u001b[0m\u001b[1;33m[\u001b[0m\u001b[1;36m2\u001b[0m\u001b[1;33m]\u001b[0m\u001b[1;33m.\u001b[0m\u001b[0mstrip\u001b[0m\u001b[1;33m(\u001b[0m\u001b[1;33m)\u001b[0m \u001b[1;33m)\u001b[0m\u001b[1;33m\u001b[0m\u001b[1;33m\u001b[0m\u001b[0m\n",
      "\u001b[1;31mIndexError\u001b[0m: list index out of range"
     ]
    }
   ],
   "source": [
    "E.from_mdy('  ')"
   ]
  },
  {
   "cell_type": "code",
   "execution_count": 44,
   "metadata": {},
   "outputs": [],
   "source": [
    "E.from_iso('2017-17-45')"
   ]
  },
  {
   "cell_type": "code",
   "execution_count": 45,
   "metadata": {},
   "outputs": [
    {
     "name": "stdout",
     "output_type": "stream",
     "text": [
      "17/45/2017\n"
     ]
    }
   ],
   "source": [
    "print(E)"
   ]
  },
  {
   "cell_type": "code",
   "execution_count": 46,
   "metadata": {},
   "outputs": [
    {
     "ename": "ValueError",
     "evalue": "'ABC' is not in list",
     "output_type": "error",
     "traceback": [
      "\u001b[1;31m---------------------------------------------------------------------------\u001b[0m",
      "\u001b[1;31mValueError\u001b[0m                                Traceback (most recent call last)",
      "\u001b[1;32m<ipython-input-46-6148bd89a16c>\u001b[0m in \u001b[0;36m<module>\u001b[1;34m\u001b[0m\n\u001b[1;32m----> 1\u001b[1;33m \u001b[0mE\u001b[0m\u001b[1;33m.\u001b[0m\u001b[0mfrom_mdy\u001b[0m\u001b[1;33m(\u001b[0m\u001b[1;34m'ABC 15, 2015'\u001b[0m\u001b[1;33m)\u001b[0m\u001b[1;33m\u001b[0m\u001b[1;33m\u001b[0m\u001b[0m\n\u001b[0m",
      "\u001b[1;32m~\\OneDrive\\Documents\\Python Scripts\\Chegg\\date.py\u001b[0m in \u001b[0;36mfrom_mdy\u001b[1;34m(self, mdy_str)\u001b[0m\n\u001b[0;32m     78\u001b[0m         \u001b[0mmdy_list\u001b[0m \u001b[1;33m=\u001b[0m \u001b[0mmdy_str\u001b[0m\u001b[1;33m.\u001b[0m\u001b[0mreplace\u001b[0m\u001b[1;33m(\u001b[0m\u001b[1;34m\",\"\u001b[0m\u001b[1;33m,\u001b[0m\u001b[1;34m\"\"\u001b[0m\u001b[1;33m)\u001b[0m\u001b[1;33m.\u001b[0m\u001b[0msplit\u001b[0m\u001b[1;33m(\u001b[0m\u001b[1;33m)\u001b[0m\u001b[1;33m\u001b[0m\u001b[1;33m\u001b[0m\u001b[0m\n\u001b[0;32m     79\u001b[0m \u001b[1;33m\u001b[0m\u001b[0m\n\u001b[1;32m---> 80\u001b[1;33m         \u001b[0mself\u001b[0m\u001b[1;33m.\u001b[0m\u001b[0m__month\u001b[0m \u001b[1;33m=\u001b[0m \u001b[0mDate\u001b[0m\u001b[1;33m.\u001b[0m\u001b[0m__name\u001b[0m\u001b[1;33m.\u001b[0m\u001b[0mindex\u001b[0m\u001b[1;33m(\u001b[0m \u001b[0mmdy_list\u001b[0m\u001b[1;33m[\u001b[0m\u001b[1;36m0\u001b[0m\u001b[1;33m]\u001b[0m \u001b[1;33m)\u001b[0m\u001b[1;33m\u001b[0m\u001b[1;33m\u001b[0m\u001b[0m\n\u001b[0m\u001b[0;32m     81\u001b[0m         \u001b[0mself\u001b[0m\u001b[1;33m.\u001b[0m\u001b[0m__day\u001b[0m   \u001b[1;33m=\u001b[0m \u001b[0mint\u001b[0m\u001b[1;33m(\u001b[0m \u001b[0mmdy_list\u001b[0m\u001b[1;33m[\u001b[0m\u001b[1;36m1\u001b[0m\u001b[1;33m]\u001b[0m\u001b[1;33m.\u001b[0m\u001b[0mstrip\u001b[0m\u001b[1;33m(\u001b[0m\u001b[1;33m)\u001b[0m \u001b[1;33m)\u001b[0m\u001b[1;33m\u001b[0m\u001b[1;33m\u001b[0m\u001b[0m\n\u001b[0;32m     82\u001b[0m         \u001b[0mself\u001b[0m\u001b[1;33m.\u001b[0m\u001b[0m__year\u001b[0m  \u001b[1;33m=\u001b[0m \u001b[0mint\u001b[0m\u001b[1;33m(\u001b[0m \u001b[0mmdy_list\u001b[0m\u001b[1;33m[\u001b[0m\u001b[1;36m2\u001b[0m\u001b[1;33m]\u001b[0m\u001b[1;33m.\u001b[0m\u001b[0mstrip\u001b[0m\u001b[1;33m(\u001b[0m\u001b[1;33m)\u001b[0m \u001b[1;33m)\u001b[0m\u001b[1;33m\u001b[0m\u001b[1;33m\u001b[0m\u001b[0m\n",
      "\u001b[1;31mValueError\u001b[0m: 'ABC' is not in list"
     ]
    }
   ],
   "source": [
    "E.from_mdy('ABC 15, 2015')"
   ]
  },
  {
   "cell_type": "code",
   "execution_count": 49,
   "metadata": {},
   "outputs": [],
   "source": [
    "E.from_mdy('March 45, 2015')"
   ]
  },
  {
   "cell_type": "code",
   "execution_count": 50,
   "metadata": {},
   "outputs": [
    {
     "name": "stdout",
     "output_type": "stream",
     "text": [
      "03/45/2015\n"
     ]
    }
   ],
   "source": [
    "print(E)"
   ]
  },
  {
   "cell_type": "code",
   "execution_count": null,
   "metadata": {},
   "outputs": [],
   "source": [
    "\n",
    "###########################################################################\n",
    "## Class Date\n",
    "###########################################################################\n",
    "\n",
    "class Date( object ):\n",
    "\n",
    "    __name = [ \"Invalid\", \"January\", \"February\", \"March\", \"April\", \n",
    "        \"May\", \"June\", \"July\", \"August\", \"September\", \"October\", \n",
    "        \"November\", \"December\" ]\n",
    "\n",
    "    __days = [ 0, 31, 28, 31, 30, 31, 30, 31, 31, 30, 31, 30, 31 ]\n",
    "    \n",
    "    def __init__( self, month=0, day=0, year=0 ):\n",
    "        \n",
    "        \"\"\" Construct a Date using three integers. \"\"\"\n",
    "            \n",
    "        self.__month = month\n",
    "        self.__day   = day\n",
    "        self.__year  = year\n",
    "        self.__valid = self.__validate()\n",
    "\n",
    "    def __repr__( self ):\n",
    "\n",
    "        \"\"\" Return a string as the formal representation a Date. \"\"\"\n",
    "\n",
    "        out_str = \"Class Date: {:02d}/{:02d}/{:04d}\" \\\n",
    "            .format( self.__month, self.__day, self.__year )\n",
    "\n",
    "        return out_str\n",
    "\n",
    "    def __str__( self ):\n",
    "\n",
    "        \"\"\" Return a string (mm/dd/yyyy) to represent a Date. \"\"\"\n",
    "\n",
    "        out_str = \"{:02d}/{:02d}/{:04d}\" \\\n",
    "            .format( self.__month, self.__day, self.__year )\n",
    "\n",
    "        return out_str\n",
    "\n",
    "    def __validate( self ):\n",
    "\n",
    "        # Check the month, day and year for validity\n",
    "        # (does not account for leap years)\n",
    "\n",
    "        flag = False\n",
    "\n",
    "        if (1 <= self.__month <= 12) and \\\n",
    "           (1 <= self.__day <= Date.__days[self.__month] ) and \\\n",
    "           (0 <= self.__year):\n",
    "            \n",
    "               flag = True\n",
    "            \n",
    "        return flag\n",
    "\n",
    "    def is_valid( self ):\n",
    "\n",
    "        \"\"\" Return Boolean flag (valid date?) \"\"\"\n",
    "\n",
    "        return self.__valid\n",
    "\n",
    "    def from_iso( self, iso_str ):\n",
    "\n",
    "        \"\"\" Convert a string (yyyy-mm-dd) into a Date. \"\"\"\n",
    "\n",
    "        year, month, day = [ int( n ) for n in iso_str.split( '-' )]\n",
    "            \n",
    "        self.__month = month\n",
    "        self.__day   = day\n",
    "        self.__year  = year\n",
    "        self.__valid = self.__validate()\n",
    "\n",
    "\n",
    "    def from_mdy( self, mdy_str ):\n",
    "\n",
    "        \"\"\" Convert a string (Mmmmm dd, yyyy) into a Date. \"\"\"\n",
    "\n",
    "        mdy_list = mdy_str.replace(\",\",\"\").split()\n",
    "                    \n",
    "        self.__month = Date.__name.index( mdy_list[0] )\n",
    "        self.__day   = int( mdy_list[1].strip() )\n",
    "        self.__year  = int( mdy_list[2].strip() )\n",
    "        self.__valid = self.__validate()\n",
    "\n",
    "    def to_iso( self ):\n",
    "\n",
    "        \"\"\" Return a string (yyyy-mm-dd) to represent a Date. \"\"\"\n",
    "\n",
    "        iso_str = \"{:04d}-{:02d}-{:02d}\" \\\n",
    "            .format( self.__year, self.__month, self.__day )\n",
    "\n",
    "        return iso_str\n",
    "\n",
    "    def to_mdy( self ):\n",
    "\n",
    "        \"\"\" Return a string (Mmmmm dd, yyyy) to represent a Date. \"\"\"\n",
    "\n",
    "        mdy_str = \"{:s} {:d}, {:04d}\" \\\n",
    "            .format( Date.__name[self.__month], self.__day, self.__year )\n",
    "\n",
    "        return mdy_str\n"
   ]
  },
  {
   "cell_type": "code",
   "execution_count": 33,
   "metadata": {},
   "outputs": [],
   "source": [
    "class Time (object):\n",
    "    \n",
    "    def __init__( self, hour=0, mins=0, secs=0 ):\n",
    "        \n",
    "        \"\"\" Construct a Time using hour,mins and secs. \"\"\"\n",
    "            \n",
    "        self.__hour = hour\n",
    "        self.__mins   = mins\n",
    "        self.__secs  = secs\n",
    "        \n",
    "    def __repr__( self ):\n",
    "\n",
    "        \"\"\" Return a string as the formal representation of Time in the form Class Time: hh:mm:ss. \"\"\"\n",
    "\n",
    "        out_str = \"Class Time: {:02d}:{:02d}:{:02d}\" \\\n",
    "            .format( self.__hour, self.__mins, self.__secs )\n",
    "\n",
    "        return out_str\n",
    "    \n",
    "    def __str__( self ):\n",
    "\n",
    "        \"\"\" Return a string (hh:mm:ss) to represent a Time. \"\"\"\n",
    "\n",
    "        out_str = \"{:02d}:{:02d}:{:02d}\" \\\n",
    "            .format( self.__hour, self.__mins, self.__secs )\n",
    "\n",
    "        return out_str\n",
    "    def from_str(self,time_str):\n",
    "\n",
    "        \"\"\" \n",
    "        Update a time object by fetching hour ,mins and secs from\n",
    "        \n",
    "        string time_str which contains time in the form hh:mm:ss. \n",
    "        \n",
    "        \"\"\"\n",
    "\n",
    "        hour, mins, secs = [ int( n ) for n in time_str.split( ':' )]\n",
    "        \n",
    "        self.__hour = hour\n",
    "        self.__mins   = mins\n",
    "        self.__secs  = secs"
   ]
  },
  {
   "cell_type": "code",
   "execution_count": 5,
   "metadata": {},
   "outputs": [],
   "source": [
    "import clock"
   ]
  },
  {
   "cell_type": "code",
   "execution_count": 6,
   "metadata": {},
   "outputs": [
    {
     "name": "stdout",
     "output_type": "stream",
     "text": [
      "Help on module clock:\n",
      "\n",
      "NAME\n",
      "    clock\n",
      "\n",
      "CLASSES\n",
      "    builtins.object\n",
      "        Time\n",
      "    \n",
      "    class Time(builtins.object)\n",
      "     |  Time(hour=0, mins=0, secs=0)\n",
      "     |  \n",
      "     |  Methods defined here:\n",
      "     |  \n",
      "     |  __init__(self, hour=0, mins=0, secs=0)\n",
      "     |      Construct a Time using hour,mins and secs.\n",
      "     |  \n",
      "     |  ----------------------------------------------------------------------\n",
      "     |  Data descriptors defined here:\n",
      "     |  \n",
      "     |  __dict__\n",
      "     |      dictionary for instance variables (if defined)\n",
      "     |  \n",
      "     |  __weakref__\n",
      "     |      list of weak references to the object (if defined)\n",
      "\n",
      "FILE\n",
      "    c:\\users\\avitr\\onedrive\\documents\\python scripts\\chegg\\clock.py\n",
      "\n",
      "\n"
     ]
    }
   ],
   "source": [
    "help( clock )"
   ]
  },
  {
   "cell_type": "code",
   "execution_count": 7,
   "metadata": {},
   "outputs": [
    {
     "name": "stdout",
     "output_type": "stream",
     "text": [
      "Help on class Time in module clock:\n",
      "\n",
      "class Time(builtins.object)\n",
      " |  Time(hour=0, mins=0, secs=0)\n",
      " |  \n",
      " |  Methods defined here:\n",
      " |  \n",
      " |  __init__(self, hour=0, mins=0, secs=0)\n",
      " |      Construct a Time using hour,mins and secs.\n",
      " |  \n",
      " |  ----------------------------------------------------------------------\n",
      " |  Data descriptors defined here:\n",
      " |  \n",
      " |  __dict__\n",
      " |      dictionary for instance variables (if defined)\n",
      " |  \n",
      " |  __weakref__\n",
      " |      list of weak references to the object (if defined)\n",
      "\n"
     ]
    }
   ],
   "source": [
    "help( clock.Time )"
   ]
  },
  {
   "cell_type": "code",
   "execution_count": 8,
   "metadata": {},
   "outputs": [],
   "source": [
    "A = clock.Time()"
   ]
  },
  {
   "cell_type": "code",
   "execution_count": 9,
   "metadata": {},
   "outputs": [
    {
     "data": {
      "text/plain": [
       "<clock.Time at 0x1ec36057df0>"
      ]
     },
     "execution_count": 9,
     "metadata": {},
     "output_type": "execute_result"
    }
   ],
   "source": [
    "A"
   ]
  },
  {
   "cell_type": "code",
   "execution_count": 10,
   "metadata": {},
   "outputs": [
    {
     "name": "stdout",
     "output_type": "stream",
     "text": [
      "<clock.Time object at 0x000001EC36057DF0>\n"
     ]
    }
   ],
   "source": [
    "print( A )"
   ]
  },
  {
   "cell_type": "code",
   "execution_count": 30,
   "metadata": {},
   "outputs": [],
   "source": [
    "A = Time(7,12,3)"
   ]
  },
  {
   "cell_type": "code",
   "execution_count": 31,
   "metadata": {},
   "outputs": [
    {
     "data": {
      "text/plain": [
       "Class Time: 07:12:03"
      ]
     },
     "execution_count": 31,
     "metadata": {},
     "output_type": "execute_result"
    }
   ],
   "source": [
    "A"
   ]
  },
  {
   "cell_type": "code",
   "execution_count": 32,
   "metadata": {},
   "outputs": [
    {
     "name": "stdout",
     "output_type": "stream",
     "text": [
      "07:12:03\n"
     ]
    }
   ],
   "source": [
    "print(A)"
   ]
  },
  {
   "cell_type": "code",
   "execution_count": 34,
   "metadata": {},
   "outputs": [],
   "source": [
    "A = Time()"
   ]
  },
  {
   "cell_type": "code",
   "execution_count": 36,
   "metadata": {},
   "outputs": [
    {
     "name": "stdout",
     "output_type": "stream",
     "text": [
      "00:00:00\n"
     ]
    }
   ],
   "source": [
    "print( A )"
   ]
  },
  {
   "cell_type": "code",
   "execution_count": 37,
   "metadata": {},
   "outputs": [],
   "source": [
    "A.from_str('07:12:03')"
   ]
  },
  {
   "cell_type": "code",
   "execution_count": 38,
   "metadata": {},
   "outputs": [
    {
     "name": "stdout",
     "output_type": "stream",
     "text": [
      "07:12:03\n"
     ]
    }
   ],
   "source": [
    "print( A )"
   ]
  },
  {
   "cell_type": "code",
   "execution_count": 39,
   "metadata": {},
   "outputs": [
    {
     "data": {
      "text/plain": [
       "Class Time: 07:12:03"
      ]
     },
     "execution_count": 39,
     "metadata": {},
     "output_type": "execute_result"
    }
   ],
   "source": [
    "A"
   ]
  },
  {
   "cell_type": "code",
   "execution_count": 41,
   "metadata": {},
   "outputs": [],
   "source": [
    "class TTime (object):\n",
    "    \n",
    "    def __init__( self, hour=0, mins=0, secs=0 ):\n",
    "        \n",
    "        \"\"\" Construct a Time using hour,mins and secs. \"\"\"\n",
    "            \n",
    "        self.__hour = hour\n",
    "        self.__mins   = mins\n",
    "        self.__secs  = secs\n",
    "        \n",
    "    def __repr__( self ):\n",
    "\n",
    "        \"\"\" Return a string as the formal representation of Time in the form Class Time: hh:mm:ss. \"\"\"\n",
    "\n",
    "        out_str = \"Class Time: {:02d}:{:02d}:{:02d}\"             .format( self.__hour, self.__mins, self.__secs )\n",
    "\n",
    "        return out_str\n",
    "    \n",
    "    def __str__( self ):\n",
    "\n",
    "        \"\"\" Return a string (hh:mm:ss) to represent a Time. \"\"\"\n",
    "\n",
    "        out_str = \"{:02d}:{:02d}:{:02d}\"             .format( self.__hour, self.__mins, self.__secs )\n",
    "\n",
    "        return out_str\n",
    "    def from_str(self,time_str):\n",
    "\n",
    "        \"\"\" \n",
    "        Update a time object by fetching hour ,mins and secs from\n",
    "        \n",
    "        string time_str which contains time in the form hh:mm:ss. \n",
    "        \n",
    "        \"\"\"\n",
    "\n",
    "        hour, mins, secs = [ int( n ) for n in time_str.split( ':' )]\n",
    "        \n",
    "        self.__hour = hour\n",
    "        self.__mins   = mins\n",
    "        self.__secs  = secs\n",
    "\n"
   ]
  },
  {
   "cell_type": "code",
   "execution_count": 42,
   "metadata": {},
   "outputs": [
    {
     "name": "stdout",
     "output_type": "stream",
     "text": [
      "12:25:30\n",
      "Class Time: 12:25:30\n",
      "12:25:30\n",
      "\n",
      "02:25:03\n",
      "Class Time: 02:25:03\n",
      "02:25:03\n",
      "\n"
     ]
    }
   ],
   "source": [
    "# import clock\n",
    "\n",
    "A =TTime( 12, 25, 30 )\n",
    "\n",
    "print( A )\n",
    "print( repr( A ) )\n",
    "print( str( A ) )\n",
    "print()\n",
    "\n",
    "B = TTime( 2, 25, 3 )\n",
    "\n",
    "print( B )\n",
    "print( repr( B ) )\n",
    "print( str( B ) )\n",
    "print()"
   ]
  },
  {
   "cell_type": "code",
   "execution_count": null,
   "metadata": {},
   "outputs": [],
   "source": []
  }
 ],
 "metadata": {
  "kernelspec": {
   "display_name": "Python 3",
   "language": "python",
   "name": "python3"
  },
  "language_info": {
   "codemirror_mode": {
    "name": "ipython",
    "version": 3
   },
   "file_extension": ".py",
   "mimetype": "text/x-python",
   "name": "python",
   "nbconvert_exporter": "python",
   "pygments_lexer": "ipython3",
   "version": "3.8.5"
  }
 },
 "nbformat": 4,
 "nbformat_minor": 4
}
