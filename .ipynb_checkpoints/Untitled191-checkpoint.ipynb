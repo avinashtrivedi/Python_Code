{
 "cells": [
  {
   "cell_type": "code",
   "execution_count": 69,
   "metadata": {},
   "outputs": [],
   "source": [
    "from listFunctions import *\n",
    "\n",
    "def main():\n",
    "    # test 1\n",
    "    list1 = [1,2,3,4]\n",
    "    print(list1)\n",
    "    swapFirstlast(list1)\n",
    "    print(list1)\n",
    "    \n",
    "    shiftRight(list1)\n",
    "    print(list1)\n",
    "    \n",
    "    zeroEven(list1)\n",
    "    print(list1)\n",
    "    \n",
    "    # test 2\n",
    "    list1 = [-2,20,13,-5]\n",
    "    print(list1)\n",
    "    swapFirstlast(list1)\n",
    "    print(list1)\n",
    "    \n",
    "    shiftRight(list1)\n",
    "    print(list1)\n",
    "    \n",
    "    zeroEven(list1)\n",
    "    print(list1)\n",
    "    \n",
    "# call the main function.\n",
    "main()"
   ]
  },
  {
   "cell_type": "code",
   "execution_count": null,
   "metadata": {},
   "outputs": [],
   "source": []
  }
 ],
 "metadata": {
  "kernelspec": {
   "display_name": "Python 3",
   "language": "python",
   "name": "python3"
  },
  "language_info": {
   "codemirror_mode": {
    "name": "ipython",
    "version": 3
   },
   "file_extension": ".py",
   "mimetype": "text/x-python",
   "name": "python",
   "nbconvert_exporter": "python",
   "pygments_lexer": "ipython3",
   "version": "3.8.5"
  }
 },
 "nbformat": 4,
 "nbformat_minor": 4
}
