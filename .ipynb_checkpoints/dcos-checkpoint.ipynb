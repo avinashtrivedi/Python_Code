{
 "cells": [
  {
   "cell_type": "code",
   "execution_count": 1,
   "metadata": {},
   "outputs": [],
   "source": [
    "# import library\n",
    "import numpy as np\n",
    "from numpy.linalg import norm\n",
    "from numpy.testing import assert_almost_equal\n",
    "\n",
    "# define dcos\n",
    "def dcos(vec1, vec2):\n",
    "    \n",
    "    # compute cosine similarity\n",
    "    cos = np.dot(vec1, vec2)/(norm(vec1)*norm(vec2))\n",
    "    \n",
    "    # compute dcos\n",
    "    d_cos = 1 - cos\n",
    "    \n",
    "    return d_cos"
   ]
  },
  {
   "cell_type": "code",
   "execution_count": 2,
   "metadata": {},
   "outputs": [],
   "source": [
    "assert_almost_equal(dcos(np.array([1,2,3]),np.array([1,2,3])),0.0)"
   ]
  },
  {
   "cell_type": "code",
   "execution_count": 3,
   "metadata": {},
   "outputs": [],
   "source": [
    "assert_almost_equal(dcos(np.array([1,2,3]),np.array([3,2,1])),0.2857142857142857)"
   ]
  },
  {
   "cell_type": "code",
   "execution_count": 4,
   "metadata": {},
   "outputs": [],
   "source": [
    "# https://stackoverflow.com/questions/18424228/cosine-similarity-between-2-number-lists"
   ]
  }
 ],
 "metadata": {
  "kernelspec": {
   "display_name": "Python 3",
   "language": "python",
   "name": "python3"
  },
  "language_info": {
   "codemirror_mode": {
    "name": "ipython",
    "version": 3
   },
   "file_extension": ".py",
   "mimetype": "text/x-python",
   "name": "python",
   "nbconvert_exporter": "python",
   "pygments_lexer": "ipython3",
   "version": "3.8.5"
  }
 },
 "nbformat": 4,
 "nbformat_minor": 4
}
