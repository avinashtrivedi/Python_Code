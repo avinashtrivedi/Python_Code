{
 "cells": [
  {
   "cell_type": "code",
   "execution_count": 1,
   "metadata": {},
   "outputs": [],
   "source": [
    "d={}"
   ]
  },
  {
   "cell_type": "code",
   "execution_count": 2,
   "metadata": {},
   "outputs": [],
   "source": [
    "d['city'] = ['Chattanooga','Augusta','Chattanooga','Chattanooga','Augusta','Augusta','Augusta','Chattanooga','Chattanooga']"
   ]
  },
  {
   "cell_type": "code",
   "execution_count": 3,
   "metadata": {},
   "outputs": [],
   "source": [
    "d['state'] =['TN','GA','TN','TN','GA','GA','GA','TN','TN']"
   ]
  },
  {
   "cell_type": "code",
   "execution_count": 4,
   "metadata": {},
   "outputs": [],
   "source": [
    "d['holc_grade'] =['C','C','B','A','B','D','B','D','C']"
   ]
  },
  {
   "cell_type": "code",
   "execution_count": 9,
   "metadata": {},
   "outputs": [],
   "source": [
    "d['holc_id'] =['C4','C5','B7','A1','B4','D11','B1','D8','C7']"
   ]
  },
  {
   "cell_type": "code",
   "execution_count": 10,
   "metadata": {},
   "outputs": [],
   "source": [
    "d['geometry'] = ['MULTIPOLYGON']*9"
   ]
  },
  {
   "cell_type": "code",
   "execution_count": 149,
   "metadata": {},
   "outputs": [],
   "source": [
    "import pandas as pd"
   ]
  },
  {
   "cell_type": "code",
   "execution_count": 150,
   "metadata": {},
   "outputs": [],
   "source": [
    "# sample dataset\n",
    "df = pd.read_csv('dummy.csv')"
   ]
  },
  {
   "cell_type": "code",
   "execution_count": 151,
   "metadata": {},
   "outputs": [
    {
     "data": {
      "text/html": [
       "<div>\n",
       "<style scoped>\n",
       "    .dataframe tbody tr th:only-of-type {\n",
       "        vertical-align: middle;\n",
       "    }\n",
       "\n",
       "    .dataframe tbody tr th {\n",
       "        vertical-align: top;\n",
       "    }\n",
       "\n",
       "    .dataframe thead th {\n",
       "        text-align: right;\n",
       "    }\n",
       "</style>\n",
       "<table border=\"1\" class=\"dataframe\">\n",
       "  <thead>\n",
       "    <tr style=\"text-align: right;\">\n",
       "      <th></th>\n",
       "      <th>city</th>\n",
       "      <th>state</th>\n",
       "      <th>holc_grade</th>\n",
       "      <th>holc_id</th>\n",
       "      <th>geometry</th>\n",
       "    </tr>\n",
       "  </thead>\n",
       "  <tbody>\n",
       "    <tr>\n",
       "      <th>0</th>\n",
       "      <td>Chattanooga</td>\n",
       "      <td>TN</td>\n",
       "      <td>C</td>\n",
       "      <td>C4</td>\n",
       "      <td>MULTIPOLYGON</td>\n",
       "    </tr>\n",
       "    <tr>\n",
       "      <th>1</th>\n",
       "      <td>Augusta</td>\n",
       "      <td>GA</td>\n",
       "      <td>C</td>\n",
       "      <td>C5</td>\n",
       "      <td>MULTIPOLYGON</td>\n",
       "    </tr>\n",
       "    <tr>\n",
       "      <th>2</th>\n",
       "      <td>Chattanooga</td>\n",
       "      <td>TN</td>\n",
       "      <td>B</td>\n",
       "      <td>B7</td>\n",
       "      <td>MULTIPOLYGON</td>\n",
       "    </tr>\n",
       "    <tr>\n",
       "      <th>3</th>\n",
       "      <td>Chattanooga</td>\n",
       "      <td>TN</td>\n",
       "      <td>A</td>\n",
       "      <td>A1</td>\n",
       "      <td>MULTIPOLYGON</td>\n",
       "    </tr>\n",
       "    <tr>\n",
       "      <th>4</th>\n",
       "      <td>Augusta</td>\n",
       "      <td>GA</td>\n",
       "      <td>B</td>\n",
       "      <td>B4</td>\n",
       "      <td>MULTIPOLYGON</td>\n",
       "    </tr>\n",
       "    <tr>\n",
       "      <th>5</th>\n",
       "      <td>Augusta</td>\n",
       "      <td>GA</td>\n",
       "      <td>D</td>\n",
       "      <td>D11</td>\n",
       "      <td>MULTIPOLYGON</td>\n",
       "    </tr>\n",
       "    <tr>\n",
       "      <th>6</th>\n",
       "      <td>Augusta</td>\n",
       "      <td>GA</td>\n",
       "      <td>B</td>\n",
       "      <td>B1</td>\n",
       "      <td>MULTIPOLYGON</td>\n",
       "    </tr>\n",
       "    <tr>\n",
       "      <th>7</th>\n",
       "      <td>Chattanooga</td>\n",
       "      <td>TN</td>\n",
       "      <td>D</td>\n",
       "      <td>D8</td>\n",
       "      <td>MULTIPOLYGON</td>\n",
       "    </tr>\n",
       "    <tr>\n",
       "      <th>8</th>\n",
       "      <td>Chattanooga</td>\n",
       "      <td>TN</td>\n",
       "      <td>C</td>\n",
       "      <td>C7</td>\n",
       "      <td>MULTIPOLYGON</td>\n",
       "    </tr>\n",
       "  </tbody>\n",
       "</table>\n",
       "</div>"
      ],
      "text/plain": [
       "          city state holc_grade holc_id      geometry\n",
       "0  Chattanooga    TN          C      C4  MULTIPOLYGON\n",
       "1      Augusta    GA          C      C5  MULTIPOLYGON\n",
       "2  Chattanooga    TN          B      B7  MULTIPOLYGON\n",
       "3  Chattanooga    TN          A      A1  MULTIPOLYGON\n",
       "4      Augusta    GA          B      B4  MULTIPOLYGON\n",
       "5      Augusta    GA          D     D11  MULTIPOLYGON\n",
       "6      Augusta    GA          B      B1  MULTIPOLYGON\n",
       "7  Chattanooga    TN          D      D8  MULTIPOLYGON\n",
       "8  Chattanooga    TN          C      C7  MULTIPOLYGON"
      ]
     },
     "execution_count": 151,
     "metadata": {},
     "output_type": "execute_result"
    }
   ],
   "source": [
    "df"
   ]
  },
  {
   "cell_type": "code",
   "execution_count": 152,
   "metadata": {},
   "outputs": [],
   "source": [
    "def filter_ratings(ratings, city_st, targets=None):\n",
    "    \n",
    "    # import library\n",
    "    import pandas as pd\n",
    "    \n",
    "    # split city and state from city_st\n",
    "    city_st = city_st.split(',')\n",
    "    \n",
    "    # remove the extra space in prefix and suffix in city and state\n",
    "    # eg:- ' GA' will become 'GA'\n",
    "    # city_st_list : its first element is city and second element is state\n",
    "    city_st_list = [i.strip() for i in city_st]\n",
    "    \n",
    "    # filter dataframe based on city\n",
    "    ratings = ratings[ratings['city']==city_st_list[0]]\n",
    "    \n",
    "    # filter dataframe based on state\n",
    "    ratings = ratings[ratings['state']==city_st_list[1]]\n",
    "    \n",
    "    # if targets is None return the dataframe that was filtered\n",
    "    # based on city and state\n",
    "    if targets == None:\n",
    "        return ratings\n",
    "    \n",
    "    # if targets is empty set return empty dataframe\n",
    "    # pd.DataFrame() : this will create a empty Dataframe\n",
    "    elif targets == {}:\n",
    "        return pd.DataFrame()   \n",
    "    # if targets contains something then \n",
    "    # create a pattern using their elements,like 'A|B|C'\n",
    "    # it will filter Dataframe based on value A or B or C in holc_grade column\n",
    "    else:\n",
    "        s=''\n",
    "        for i in targets:\n",
    "            s=s+i+'|'\n",
    "        s=s[:-1]\n",
    "        ratings = ratings[ratings['holc_grade'].str.contains(s)]       \n",
    "    # return the filtered ratings dataframe.\n",
    "    return ratings"
   ]
  },
  {
   "cell_type": "code",
   "execution_count": 153,
   "metadata": {},
   "outputs": [],
   "source": [
    "# for testing the program\n",
    "targets= {'C','B'}\n",
    "city_st='Augusta, GA'"
   ]
  },
  {
   "cell_type": "code",
   "execution_count": 154,
   "metadata": {},
   "outputs": [
    {
     "data": {
      "text/html": [
       "<div>\n",
       "<style scoped>\n",
       "    .dataframe tbody tr th:only-of-type {\n",
       "        vertical-align: middle;\n",
       "    }\n",
       "\n",
       "    .dataframe tbody tr th {\n",
       "        vertical-align: top;\n",
       "    }\n",
       "\n",
       "    .dataframe thead th {\n",
       "        text-align: right;\n",
       "    }\n",
       "</style>\n",
       "<table border=\"1\" class=\"dataframe\">\n",
       "  <thead>\n",
       "    <tr style=\"text-align: right;\">\n",
       "      <th></th>\n",
       "      <th>city</th>\n",
       "      <th>state</th>\n",
       "      <th>holc_grade</th>\n",
       "      <th>holc_id</th>\n",
       "      <th>geometry</th>\n",
       "    </tr>\n",
       "  </thead>\n",
       "  <tbody>\n",
       "    <tr>\n",
       "      <th>1</th>\n",
       "      <td>Augusta</td>\n",
       "      <td>GA</td>\n",
       "      <td>C</td>\n",
       "      <td>C5</td>\n",
       "      <td>MULTIPOLYGON</td>\n",
       "    </tr>\n",
       "    <tr>\n",
       "      <th>4</th>\n",
       "      <td>Augusta</td>\n",
       "      <td>GA</td>\n",
       "      <td>B</td>\n",
       "      <td>B4</td>\n",
       "      <td>MULTIPOLYGON</td>\n",
       "    </tr>\n",
       "    <tr>\n",
       "      <th>6</th>\n",
       "      <td>Augusta</td>\n",
       "      <td>GA</td>\n",
       "      <td>B</td>\n",
       "      <td>B1</td>\n",
       "      <td>MULTIPOLYGON</td>\n",
       "    </tr>\n",
       "  </tbody>\n",
       "</table>\n",
       "</div>"
      ],
      "text/plain": [
       "      city state holc_grade holc_id      geometry\n",
       "1  Augusta    GA          C      C5  MULTIPOLYGON\n",
       "4  Augusta    GA          B      B4  MULTIPOLYGON\n",
       "6  Augusta    GA          B      B1  MULTIPOLYGON"
      ]
     },
     "execution_count": 154,
     "metadata": {},
     "output_type": "execute_result"
    }
   ],
   "source": [
    "filter_ratings(df,city_st,targets)"
   ]
  },
  {
   "cell_type": "code",
   "execution_count": null,
   "metadata": {},
   "outputs": [],
   "source": []
  }
 ],
 "metadata": {
  "kernelspec": {
   "display_name": "Python 3",
   "language": "python",
   "name": "python3"
  },
  "language_info": {
   "codemirror_mode": {
    "name": "ipython",
    "version": 3
   },
   "file_extension": ".py",
   "mimetype": "text/x-python",
   "name": "python",
   "nbconvert_exporter": "python",
   "pygments_lexer": "ipython3",
   "version": "3.8.5"
  }
 },
 "nbformat": 4,
 "nbformat_minor": 4
}
