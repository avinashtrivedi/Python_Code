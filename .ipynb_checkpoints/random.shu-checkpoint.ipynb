{
 "cells": [
  {
   "cell_type": "code",
   "execution_count": 1,
   "metadata": {},
   "outputs": [],
   "source": [
    "# import library\n",
    "import numpy as np\n",
    "import random\n",
    "import matplotlib.pyplot as plt"
   ]
  },
  {
   "cell_type": "code",
   "execution_count": 2,
   "metadata": {},
   "outputs": [
    {
     "name": "stdout",
     "output_type": "stream",
     "text": [
      "Object of class DrawData is created\n",
      "enter xmin: 2\n",
      "enter xmax: 7\n"
     ]
    },
    {
     "data": {
      "image/png": "[encoded data removed]",
      "text/plain": [
       "<Figure size 432x288 with 1 Axes>"
      ]
     },
     "metadata": {
      "needs_background": "light"
     },
     "output_type": "display_data"
    }
   ],
   "source": [
    "# define a class\n",
    "class DrawData:\n",
    "    \n",
    "    # class constructor\n",
    "    def __init__(self):\n",
    "        print('Object of class DrawData is created')\n",
    "    \n",
    "    # Define private method to generate random \n",
    "    # values in the given range\n",
    "    def __generate_random(self,xmin=0,xmax=1):\n",
    "        \n",
    "        # generate 50 equally spaced random values\n",
    "        # in range xmin and xmax\n",
    "        data = np.linspace(xmin,xmax,50)\n",
    "        \n",
    "        # shuffle the data\n",
    "        random.shuffle(data)\n",
    "        return data\n",
    "    \n",
    "    def generate_XY(self):\n",
    "        \n",
    "        # try except block for exception handling\n",
    "        try:   \n",
    "            # get xmin and xmax from user\n",
    "            # so as to generate random values in that range\n",
    "            xmin = int(input('enter xmin: '))\n",
    "            xmax = int(input('enter xmax: '))\n",
    "\n",
    "            # get random values\n",
    "            x = self.__generate_random(xmin,xmax)\n",
    "\n",
    "            # compute other values\n",
    "            m = xmax - xmin\n",
    "            c = xmin\n",
    "            y = m*x + c\n",
    "            return x,y\n",
    "        except:\n",
    "            print('Wrong input')\n",
    "    \n",
    "# driver code\n",
    "if __name__=='__main__':\n",
    "    \n",
    "    # create class object\n",
    "    obj = DrawData()\n",
    "    \n",
    "    # generate x and y\n",
    "    x,y = obj.generate_XY()\n",
    "    \n",
    "    # plot the data\n",
    "    plt.scatter(x,y,color='red')\n",
    "    \n",
    "    # set x and y label\n",
    "    plt.xlabel('x')\n",
    "    plt.ylabel('y')\n",
    "    \n",
    "    # set title\n",
    "    plt.title('Scatter plot')\n",
    "    \n",
    "    # show the plot\n",
    "    plt.show()"
   ]
  },
  {
   "cell_type": "code",
   "execution_count": 15,
   "metadata": {},
   "outputs": [
    {
     "name": "stdout",
     "output_type": "stream",
     "text": [
      "Management\n",
      "15\n",
      "Configuring VLAN: 15\n",
      "Connecting to: Switch1\n",
      "Sending Config vlan: 15\n",
      "Sending Config name: Management\n",
      "\n",
      "Configuring VLAN: 15\n",
      "Connecting to: Switch2\n",
      "Sending Config vlan: 15\n",
      "Sending Config name: Management\n",
      "\n",
      "Configuring VLAN: 15\n",
      "Connecting to: Switch3\n",
      "Sending Config vlan: 15\n",
      "Sending Config name: Management\n",
      "\n",
      "Configuring VLAN: 15\n",
      "Connecting to: Switch4\n",
      "Sending Config vlan: 15\n",
      "Sending Config name: Management\n",
      "\n",
      "Configuring VLAN: 15\n",
      "Connecting to: Switch5\n",
      "Sending Config vlan: 15\n",
      "Sending Config name: Management\n",
      "\n"
     ]
    }
   ],
   "source": [
    "# TODO: Import VLANSetup from VLANSetup.py and NetManage from NetManage.py\n",
    "\n",
    "from VLANSetup import VLANSetup\n",
    "\n",
    "from NetManage import NetManage\n",
    "\n",
    "if __name__ == \"__main__\":\n",
    "\n",
    "    deviceList = ['Switch1', 'Switch2', 'Switch3', 'Switch4', 'Switch5']\n",
    "\n",
    "    user_VLAN_name = input()\n",
    "\n",
    "    user_VLAN_number = int(input()) #10 -> 200\n",
    "\n",
    "    for d in deviceList:\n",
    "\n",
    "        user_device = VLANSetup(user_VLAN_name, user_VLAN_number)\n",
    "\n",
    "        new_config = NetManage(d, user_device)\n",
    "\n",
    "        new_config.print_info()"
   ]
  },
  {
   "cell_type": "code",
   "execution_count": 16,
   "metadata": {},
   "outputs": [],
   "source": [
    "from VLANSetup import VLANSetup"
   ]
  },
  {
   "cell_type": "code",
   "execution_count": 17,
   "metadata": {},
   "outputs": [],
   "source": [
    "a = VLANSetup()"
   ]
  },
  {
   "cell_type": "code",
   "execution_count": 18,
   "metadata": {},
   "outputs": [
    {
     "data": {
      "text/plain": [
       "<VLANSetup.VLANSetup at 0x1af50c075e0>"
      ]
     },
     "execution_count": 18,
     "metadata": {},
     "output_type": "execute_result"
    }
   ],
   "source": [
    "a"
   ]
  },
  {
   "cell_type": "code",
   "execution_count": 21,
   "metadata": {},
   "outputs": [
    {
     "data": {
      "text/plain": [
       "True"
      ]
     },
     "execution_count": 21,
     "metadata": {},
     "output_type": "execute_result"
    }
   ],
   "source": [
    "a.name==None"
   ]
  },
  {
   "cell_type": "code",
   "execution_count": 20,
   "metadata": {},
   "outputs": [
    {
     "data": {
      "text/plain": [
       "0"
      ]
     },
     "execution_count": 20,
     "metadata": {},
     "output_type": "execute_result"
    }
   ],
   "source": [
    "a.number"
   ]
  },
  {
   "cell_type": "code",
   "execution_count": null,
   "metadata": {},
   "outputs": [],
   "source": []
  }
 ],
 "metadata": {
  "kernelspec": {
   "display_name": "Python 3",
   "language": "python",
   "name": "python3"
  },
  "language_info": {
   "codemirror_mode": {
    "name": "ipython",
    "version": 3
   },
   "file_extension": ".py",
   "mimetype": "text/x-python",
   "name": "python",
   "nbconvert_exporter": "python",
   "pygments_lexer": "ipython3",
   "version": "3.8.5"
  }
 },
 "nbformat": 4,
 "nbformat_minor": 4
}
