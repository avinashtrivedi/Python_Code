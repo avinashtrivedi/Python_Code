{
 "cells": [
  {
   "cell_type": "code",
   "execution_count": 1,
   "metadata": {},
   "outputs": [],
   "source": [
    "#few basic concepts\n",
    "a = [[2.1,-3.1] , [-0.7,4.1]] # defined a sample matrix"
   ]
  },
  {
   "cell_type": "code",
   "execution_count": 2,
   "metadata": {},
   "outputs": [
    {
     "data": {
      "text/plain": [
       "[([2.1, -3.1],), ([-0.7, 4.1],)]"
      ]
     },
     "execution_count": 2,
     "metadata": {},
     "output_type": "execute_result"
    }
   ],
   "source": [
    "list(zip(a)) #zip return iterator of tuple,i.e items are paired together"
   ]
  },
  {
   "cell_type": "code",
   "execution_count": 3,
   "metadata": {},
   "outputs": [
    {
     "data": {
      "text/plain": [
       "[(2.1, -0.7), (-3.1, 4.1)]"
      ]
     },
     "execution_count": 3,
     "metadata": {},
     "output_type": "execute_result"
    }
   ],
   "source": [
    "list(zip(*a)) # by using * now it is returning a Transpose version"
   ]
  },
  {
   "cell_type": "code",
   "execution_count": 4,
   "metadata": {},
   "outputs": [],
   "source": [
    "def inner_layer(x,w,b):\n",
    "    w=list(zip(*w)) # transpose a matrix w \n",
    "    if len(x)==len(w) and len(w[0])==len(b): # dimension check for matrix multiplication\n",
    "        result = []\n",
    "        for i in range(len(w[0])): #this runs through columns of a matrix\n",
    "            total = 0\n",
    "            for j in range(len(x)): #this runs through vector coordinates & rows of matrix\n",
    "                total += x[j] * w[j][i]\n",
    "            result.append(total) #append each individual entry of wTx\n",
    "        out_list=[]\n",
    "        for i in range(len(result)):\n",
    "            out_list.append(max(result[i]+b[i],0)) # find max of wTx+b and 0 and append in out_list\n",
    "        return out_list\n",
    "    else:\n",
    "        return 'wrong dimention of input'\n"
   ]
  },
  {
   "cell_type": "code",
   "execution_count": 5,
   "metadata": {},
   "outputs": [
    {
     "data": {
      "text/plain": [
       "[1.0, 3.5]"
      ]
     },
     "execution_count": 5,
     "metadata": {},
     "output_type": "execute_result"
    }
   ],
   "source": [
    "inner_layer([1,0],[[2.1,-3.1] , [-0.7,4.1]],[-1.1,4.2])"
   ]
  },
  {
   "cell_type": "code",
   "execution_count": 6,
   "metadata": {},
   "outputs": [
    {
     "data": {
      "text/plain": [
       "[1.0, 0]"
      ]
     },
     "execution_count": 6,
     "metadata": {},
     "output_type": "execute_result"
    }
   ],
   "source": [
    "inner_layer([1,0],[[2.1,-3.1] , [-0.7,4.1]],[-1.1,0])"
   ]
  },
  {
   "cell_type": "code",
   "execution_count": 7,
   "metadata": {},
   "outputs": [
    {
     "data": {
      "text/plain": [
       "'wrong dimention of input'"
      ]
     },
     "execution_count": 7,
     "metadata": {},
     "output_type": "execute_result"
    }
   ],
   "source": [
    "inner_layer([1,0],[[2.1,-3.1,3.2] , [-0.7,4.1]],[-1.1])"
   ]
  }
 ],
 "metadata": {
  "kernelspec": {
   "display_name": "Python 3",
   "language": "python",
   "name": "python3"
  },
  "language_info": {
   "codemirror_mode": {
    "name": "ipython",
    "version": 3
   },
   "file_extension": ".py",
   "mimetype": "text/x-python",
   "name": "python",
   "nbconvert_exporter": "python",
   "pygments_lexer": "ipython3",
   "version": "3.8.5"
  }
 },
 "nbformat": 4,
 "nbformat_minor": 4
}
