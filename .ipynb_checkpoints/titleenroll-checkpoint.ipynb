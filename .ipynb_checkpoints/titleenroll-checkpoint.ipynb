{
 "cells": [
  {
   "cell_type": "code",
   "execution_count": 1,
   "metadata": {},
   "outputs": [
    {
     "name": "stdout",
     "output_type": "stream",
     "text": [
      "CS 152 Introduction to Pyth  21\n",
      "CS 369 Operating Systems Ad   8\n",
      "CS 352 Data Structures       19\n",
      "CS 208 Discrete Mathematics 124\n",
      "CS 319 Computer Architectur  14\n",
      "MA 221 Calculus and Analyti  12\n",
      "MA 311 Linear Algebra         7\n",
      "MA 150 Precalculus Mathemat  27\n",
      "CS 335 Introduction to Cybe  20\n",
      "IS 361 Data Management Syst  22\n",
      "MG 315 Advanced Business St   6\n",
      "WE 587 IT IS A RANDOM TEST  547\n",
      "                     Total: 827\n"
     ]
    }
   ],
   "source": [
    "def main():\n",
    "    \n",
    "    courses = ['CS152Introduction to Python Programming21',\n",
    "               'CS369Operating Systems Administration8',\n",
    "               'CS352Data Structures19',\n",
    "               'CS208Discrete Mathematics124',\n",
    "               'CS319Computer Architecture14',\n",
    "               'MA221Calculus and Analytical Geometry for Majors I12',\n",
    "               'MA311Linear Algebra7',\n",
    "               'MA150Precalculus Mathematics27',\n",
    "               'CS335Introduction to Cybersecurity20',\n",
    "               'IS361Data Management Systems22',\n",
    "               'MG315Advanced Business Statistics6',\n",
    "               'WE587IT IS A RANDOM TEST547                    ']\n",
    "\n",
    "    total = 0\n",
    "    for i in courses:\n",
    "        dept_code = i[:2]\n",
    "        courseNum = i[2:5]\n",
    "\n",
    "        # remaining string as combination of Title and Enrollments\n",
    "        TitleAndEnrollments = i[5:]\n",
    "\n",
    "        # loop through TitleAndEnrollments\n",
    "        for j in range(len(TitleAndEnrollments)):\n",
    "\n",
    "            # if character is digit/integer\n",
    "            if TitleAndEnrollments[j].isdigit():\n",
    "\n",
    "                # get title and enrollment\n",
    "                title = TitleAndEnrollments[:j]\n",
    "                enrollment = int(TitleAndEnrollments[j:])\n",
    "                break\n",
    "        total = total + enrollment\n",
    "\n",
    "        # print the result\n",
    "        print(\"{:<2} {:<3} {:<20} {:>3}\".format(dept_code,courseNum,title[:20],enrollment))\n",
    "    print(\"{:>27} {:>3}\".format('Total:',total))\n",
    "\n",
    "main()"
   ]
  },
  {
   "cell_type": "code",
   "execution_count": null,
   "metadata": {},
   "outputs": [],
   "source": []
  }
 ],
 "metadata": {
  "kernelspec": {
   "display_name": "Python 3",
   "language": "python",
   "name": "python3"
  },
  "language_info": {
   "codemirror_mode": {
    "name": "ipython",
    "version": 3
   },
   "file_extension": ".py",
   "mimetype": "text/x-python",
   "name": "python",
   "nbconvert_exporter": "python",
   "pygments_lexer": "ipython3",
   "version": "3.8.5"
  }
 },
 "nbformat": 4,
 "nbformat_minor": 4
}
