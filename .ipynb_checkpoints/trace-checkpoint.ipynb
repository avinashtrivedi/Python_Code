{
 "cells": [
  {
   "cell_type": "code",
   "execution_count": 1,
   "metadata": {},
   "outputs": [
    {
     "name": "stdout",
     "output_type": "stream",
     "text": [
      "3\n"
     ]
    }
   ],
   "source": [
    "for i in range(10):\n",
    "    if i*i == 9:\n",
    "        print(i)\n",
    "        break"
   ]
  },
  {
   "cell_type": "markdown",
   "metadata": {},
   "source": [
    "# Concept"
   ]
  },
  {
   "cell_type": "code",
   "execution_count": 2,
   "metadata": {},
   "outputs": [
    {
     "name": "stdout",
     "output_type": "stream",
     "text": [
      "0\n",
      "1\n",
      "2\n",
      "3\n",
      "4\n",
      "5\n",
      "6\n",
      "7\n",
      "8\n",
      "9\n"
     ]
    }
   ],
   "source": [
    "# concept 1) The i in for loop will assume values from 0 to 9\n",
    "for i in range(10):\n",
    "    print(i)"
   ]
  },
  {
   "cell_type": "code",
   "execution_count": 3,
   "metadata": {},
   "outputs": [
    {
     "name": "stdout",
     "output_type": "stream",
     "text": [
      "0*0 is not equal to 9\n",
      "1*1 is not equal to 9\n",
      "2*2 is not equal to 9\n",
      "3*3 is equal to 9\n",
      "Now exit/stop The loop\n"
     ]
    }
   ],
   "source": [
    "# Concept 2) The if statement is multiplying i with i , i.e i*i . In simple term it is i^2  (i square)\n",
    "# and checking if i*i is equal to 9\n",
    "# if i*i becomes equal to 9 then it will print at what value of i , i*i == 9.\n",
    "# and then exit the loop using break statement. i.e when i*i becomes equal to 9 then it will print i and exit the loop.\n",
    "# if i*i is not equal to 9 then it will continue to check with next value of i.\n",
    "\n",
    "# Modified code for better understanding.\n",
    "for i in range(10):\n",
    "    if i*i == 9:\n",
    "        print(\"{}*{} is equal to 9\".format(i,i))\n",
    "        print('Now exit/stop The loop')\n",
    "        break\n",
    "    else:\n",
    "        print(\"{}*{} is not equal to 9\".format(i,i))"
   ]
  },
  {
   "cell_type": "markdown",
   "metadata": {},
   "source": [
    "# Actual code"
   ]
  },
  {
   "cell_type": "code",
   "execution_count": 4,
   "metadata": {},
   "outputs": [
    {
     "name": "stdout",
     "output_type": "stream",
     "text": [
      "3\n"
     ]
    }
   ],
   "source": [
    "for i in range(10):\n",
    "    if i*i == 9:\n",
    "        print(i)\n",
    "        break"
   ]
  },
  {
   "cell_type": "markdown",
   "metadata": {},
   "source": [
    "- Based on above explanations,it is easy to trace that it will print 3 and exit the loop"
   ]
  },
  {
   "cell_type": "code",
   "execution_count": null,
   "metadata": {},
   "outputs": [],
   "source": []
  }
 ],
 "metadata": {
  "kernelspec": {
   "display_name": "Python 3",
   "language": "python",
   "name": "python3"
  },
  "language_info": {
   "codemirror_mode": {
    "name": "ipython",
    "version": 3
   },
   "file_extension": ".py",
   "mimetype": "text/x-python",
   "name": "python",
   "nbconvert_exporter": "python",
   "pygments_lexer": "ipython3",
   "version": "3.8.5"
  }
 },
 "nbformat": 4,
 "nbformat_minor": 4
}
