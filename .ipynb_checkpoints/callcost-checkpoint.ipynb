{
 "cells": [
  {
   "cell_type": "code",
   "execution_count": 1,
   "metadata": {},
   "outputs": [
    {
     "name": "stdout",
     "output_type": "stream",
     "text": [
      "Please Choose the Tariff\n",
      "-------------------------\n",
      "Peak tariff: 1 \n",
      "OffPeak tariff: 2\n",
      "\n",
      "Enter your choice: 1\n",
      "-------------------------\n",
      "Enter the call Duration in Minutes and Seconds\n",
      "In Minutes: 2\n",
      "In Seconds: 12\n",
      "-------------------------\n",
      "Total Call Cost: 440 c\n"
     ]
    }
   ],
   "source": [
    "# try except block to handle exception/errors\n",
    "try:\n",
    "    print('Please Choose the Tariff')\n",
    "\n",
    "    # print '-' 25 times for better printing.\n",
    "    print(25*'-')\n",
    "    print('Peak tariff: 1 \\nOffPeak tariff: 2')\n",
    "    tariff = int(input('\\nEnter your choice: '))\n",
    "    print(25*'-')\n",
    "    print('Enter the call Duration in Minutes and Seconds')\n",
    "\n",
    "    # receive duration in Minutes and Seconds\n",
    "    CallInMinutes = int(input('In Minutes: '))\n",
    "    CallInSeconds = int(input('In Seconds: '))\n",
    "\n",
    "    # if CallInSeconds is not zero\n",
    "    if CallInSeconds!=0:\n",
    "        CallDurationIn30SecUnit = CallInMinutes*2 + (1 if CallInSeconds<=30 else 2)\n",
    "\n",
    "    # if CallInSeconds is zero\n",
    "    else:\n",
    "        CallDurationIn30SecUnit = CallInMinutes*2\n",
    "\n",
    "    # compute call charges and connect fee\n",
    "    ConnectFee = 40 if tariff==1 else 20\n",
    "    CallCharge = 80 if tariff==1 else 40\n",
    "    print(25*'-')\n",
    "\n",
    "    # compute total costs.\n",
    "    CallCost = ConnectFee + CallDurationIn30SecUnit*CallCharge\n",
    "    print('Total Call Cost: {} c'.format(CallCost))\n",
    "except:\n",
    "    print('Wrong input. Please try again.')"
   ]
  },
  {
   "cell_type": "code",
   "execution_count": null,
   "metadata": {},
   "outputs": [],
   "source": []
  }
 ],
 "metadata": {
  "kernelspec": {
   "display_name": "Python 3",
   "language": "python",
   "name": "python3"
  },
  "language_info": {
   "codemirror_mode": {
    "name": "ipython",
    "version": 3
   },
   "file_extension": ".py",
   "mimetype": "text/x-python",
   "name": "python",
   "nbconvert_exporter": "python",
   "pygments_lexer": "ipython3",
   "version": "3.8.5"
  }
 },
 "nbformat": 4,
 "nbformat_minor": 4
}
