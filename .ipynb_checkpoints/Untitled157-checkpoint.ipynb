{
 "cells": [
  {
   "cell_type": "code",
   "execution_count": null,
   "metadata": {},
   "outputs": [],
   "source": [
    "from datetime import datetime \n",
    "n = datetime.today().strftime('%A') \n",
    "if n == \"Monday\": \n",
    "    msg = \"Everything comes to him who waits\"\n",
    "elif n == \"Tuesday\":\n",
    "    msg = \"Give credit where credit is due\"\n",
    "elif n == \"Wednesday\": \n",
    "    msg = \"If you pay peanuts, you get monkeyes\"\n",
    "elif n == \"Thursday\": \n",
    "    msg = \"Money makes the world go round\"\n",
    "elif n == \"Friday\": \n",
    "    msg = \"Prevention is better than cure\"\n",
    "elif n == \"Saturday\": \n",
    "    msg = \"Stupid is as stupid does\"\n",
    "elif n == \"Sunday\": \n",
    "    msg = \"The devil looks after his own\"\n",
    "###### Message Box Code ###### \n",
    "from tkinter import * \n",
    "root = Tk() \n",
    "\n",
    "# Set geometry\n",
    "root.geometry(\"300x100\")\n",
    "root.title('Message Box') \n",
    "\n",
    "# Message widget to display multiline text\n",
    "ms = Message( root, text = \"Result:\\nToday is {}.\\n\\n{}.\".format(n,msg))  \n",
    "\n",
    "# Configure the widget.\n",
    "ms.config(width=300,font=('times',14))\n",
    "ms.pack()  \n",
    "\n",
    "root.mainloop()"
   ]
  },
  {
   "cell_type": "code",
   "execution_count": null,
   "metadata": {},
   "outputs": [],
   "source": []
  }
 ],
 "metadata": {
  "kernelspec": {
   "display_name": "Python 3",
   "language": "python",
   "name": "python3"
  },
  "language_info": {
   "codemirror_mode": {
    "name": "ipython",
    "version": 3
   },
   "file_extension": ".py",
   "mimetype": "text/x-python",
   "name": "python",
   "nbconvert_exporter": "python",
   "pygments_lexer": "ipython3",
   "version": "3.8.5"
  }
 },
 "nbformat": 4,
 "nbformat_minor": 4
}
