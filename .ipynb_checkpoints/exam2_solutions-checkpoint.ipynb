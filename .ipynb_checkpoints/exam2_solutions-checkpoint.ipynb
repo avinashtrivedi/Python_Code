{
 "cells": [
  {
   "cell_type": "markdown",
   "id": "cb099a45",
   "metadata": {},
   "source": [
    "# Exam 2 Solutions - Introduction to Data Science - Fall 2021"
   ]
  },
  {
   "cell_type": "markdown",
   "id": "5a896d68",
   "metadata": {},
   "source": [
    "# 1 Bayesian Inference"
   ]
  },
  {
   "cell_type": "code",
   "execution_count": 22,
   "id": "295039da",
   "metadata": {
    "scrolled": false
   },
   "outputs": [],
   "source": [
    "import scipy.stats as stats\n",
    "import numpy as np\n",
    "import matplotlib.pyplot as plt\n",
    "\n",
    "N=10\n",
    "np.random.seed(29)\n",
    "Y = stats.norm.rvs(loc=2*np.random.uniform()-1,scale=1,size=N,random_state=11)\n",
    "\n",
    "support=np.linspace(-2,2,1000)\n",
    "xx = np.linspace(-2,2,1000)\n",
    "\n",
    "def Prior(x):\n",
    "    return stats.triang.pdf(x,loc=-2,scale=4,c=0.5)\n",
    "\n",
    "def Likelihood(x,data):\n",
    "    return np.prod([stats.norm.pdf(x,val) for val in data])\n",
    "\n",
    "def Posterior(x,data,denom):\n",
    "    return Prior(x)*Likelihood(x,data)/denom\n",
    "\n",
    "integrand = np.array([Prior(x) for x in support]) * np.array([Likelihood(x,Y) for x in support])\n",
    "denominator = np.trapz(integrand,support)\n",
    "\n",
    "pri = [Prior(x) for x in xx]\n",
    "post = [Posterior(x,Y,denominator) for x in xx]\n",
    "\n",
    "likelihood = [Likelihood(x,Y) for x in xx]"
   ]
  },
  {
   "cell_type": "markdown",
   "id": "a3ed987b",
   "metadata": {},
   "source": [
    "## 1.1 (5 pts.)"
   ]
  },
  {
   "cell_type": "code",
   "execution_count": 23,
   "id": "fb62ee7d",
   "metadata": {
    "scrolled": false
   },
   "outputs": [
    {
     "name": "stdout",
     "output_type": "stream",
     "text": [
      "MLE for μ is [0.44244244]\n",
      "MAP for μ is [0.37837838]\n"
     ]
    }
   ],
   "source": [
    "ind = np.where(likelihood == np.max(likelihood))\n",
    "MLE = xx[ind]\n",
    "ind = np.where(post == np.max(post))\n",
    "MAP = xx[ind]\n",
    "\n",
    "print('MLE for \\u03BC is ' + str(MLE))\n",
    "print('MAP for \\u03BC is ' + str(MAP))"
   ]
  },
  {
   "cell_type": "markdown",
   "id": "c5e59d4b",
   "metadata": {},
   "source": [
    "## 1.2 (5 pts.)"
   ]
  },
  {
   "cell_type": "code",
   "execution_count": 25,
   "id": "9f49a9f6",
   "metadata": {},
   "outputs": [],
   "source": [
    "import numpy as np\n",
    "\n",
    "def f(x):\n",
    "    if abs(2*x-1) > 1:\n",
    "        return 0\n",
    "    else:\n",
    "        return 3/2*(1-(2*x-1)**2)\n",
    "\n",
    "xx = np.linspace(-1,2,1000)\n",
    "yy = [f(x) for x in xx]"
   ]
  },
  {
   "cell_type": "code",
   "execution_count": 27,
   "id": "93920796",
   "metadata": {
    "scrolled": true
   },
   "outputs": [
    {
     "data": {
      "image/png": "[encoded data removed]",
      "text/plain": [
       "<Figure size 432x288 with 1 Axes>"
      ]
     },
     "metadata": {
      "needs_background": "light"
     },
     "output_type": "display_data"
    }
   ],
   "source": [
    "import scipy.stats as stats\n",
    "import numpy as np\n",
    "\n",
    "theta=[]\n",
    "n = 10000\n",
    "\n",
    "theta_t = 0.5\n",
    "theta_star = 0.5\n",
    "for i in range(n):\n",
    "    theta_star = stats.gamma.rvs(scale=1,a=theta_t)\n",
    "    # Change following line.\n",
    "    ratio = f(theta_star)/f(theta_t)/stats.gamma.pdf(theta_star,theta_t)*stats.gamma.pdf(theta_t,theta_star)   \n",
    "    ratio = np.min([1,ratio])\n",
    "    if (np.random.uniform() < ratio):\n",
    "        theta_t = theta_star\n",
    "        theta.append(theta_t)\n",
    "\n",
    "xx = np.linspace(-2,2,1000) \n",
    "yy = [f(x) for x in xx]\n",
    "plt.hist(theta, density=True, bins = 20)\n",
    "plt.plot(xx, yy)\n",
    "plt.show()"
   ]
  },
  {
   "cell_type": "markdown",
   "id": "4e78d924",
   "metadata": {},
   "source": [
    "# 2 GMM"
   ]
  },
  {
   "cell_type": "code",
   "execution_count": 28,
   "id": "f61bfd34",
   "metadata": {},
   "outputs": [],
   "source": [
    "import pandas as pd\n",
    "import matplotlib.pyplot as plt\n",
    "\n",
    "data_gmm = pd.read_csv('gm_data.csv')"
   ]
  },
  {
   "cell_type": "markdown",
   "id": "4ff2deb4",
   "metadata": {},
   "source": [
    "## 2.1 (5 pts.)"
   ]
  },
  {
   "cell_type": "code",
   "execution_count": 29,
   "id": "02a9c26c",
   "metadata": {},
   "outputs": [
    {
     "data": {
      "image/png": "[encoded data removed]",
      "text/plain": [
       "<Figure size 432x288 with 1 Axes>"
      ]
     },
     "metadata": {
      "needs_background": "light"
     },
     "output_type": "display_data"
    }
   ],
   "source": [
    "import numpy as np\n",
    "from sklearn.mixture import GaussianMixture\n",
    "\n",
    "ks = np.arange(2,9)\n",
    "BICs = []\n",
    "\n",
    "for k in ks:\n",
    "    gmm = GaussianMixture(n_components=k)\n",
    "    gmm.fit(data_gmm)\n",
    "    BICs.append(gmm.bic(data_gmm))\n",
    "\n",
    "plt.plot(ks,BICs, label = 'BIC')\n",
    "plt.xticks(ks)\n",
    "plt.xlabel(\"Number of Clusters\")\n",
    "plt.ylabel(\"BIC\")\n",
    "plt.legend(loc='best')\n",
    "plt.grid()\n",
    "plt.show()"
   ]
  },
  {
   "cell_type": "markdown",
   "id": "bbf8df42",
   "metadata": {},
   "source": [
    "## 2.2 (5 pts.)"
   ]
  },
  {
   "cell_type": "code",
   "execution_count": 30,
   "id": "187bf6a4",
   "metadata": {},
   "outputs": [
    {
     "name": "stdout",
     "output_type": "stream",
     "text": [
      "Means of best model: \n",
      "[[-0.08819134]\n",
      " [10.05494848]\n",
      " [ 4.91701593]]\n",
      "Variances of best model: \n",
      "[[[1.05159237]]\n",
      "\n",
      " [[1.09260298]]\n",
      "\n",
      " [[0.99341372]]]\n"
     ]
    }
   ],
   "source": [
    "import numpy as np\n",
    "from sklearn.mixture import GaussianMixture\n",
    "\n",
    "ind = np.argmin(BICs)\n",
    "gmopt = GaussianMixture(n_components=ks[ind])\n",
    "gmopt.fit(data_gmm)\n",
    "\n",
    "means     = gmopt.means_\n",
    "variances = gmopt.covariances_\n",
    "\n",
    "print('Means of best model: \\n' + str(means))\n",
    "print('Variances of best model: \\n' +str(variances))"
   ]
  },
  {
   "cell_type": "markdown",
   "id": "a855772f",
   "metadata": {},
   "source": [
    "# 3 Trees"
   ]
  },
  {
   "cell_type": "code",
   "execution_count": 31,
   "id": "b4527e65",
   "metadata": {},
   "outputs": [],
   "source": [
    "from sklearn import datasets\n",
    "import numpy as np\n",
    "\n",
    "breast = datasets.load_breast_cancer(as_frame=True)\n",
    "X = breast.data\n",
    "y = breast.target\n",
    "labels = np.array(breast.feature_names)"
   ]
  },
  {
   "cell_type": "markdown",
   "id": "4bc59db6",
   "metadata": {},
   "source": [
    "## 3.1 (6 pts.)"
   ]
  },
  {
   "cell_type": "markdown",
   "id": "c89d2e1a",
   "metadata": {},
   "source": [
    "### Answer:\n",
    "The random forest models pick the best splits from sets of only two features. The decision tree models pick the best splits from all features."
   ]
  },
  {
   "cell_type": "markdown",
   "id": "8f9ff6b9",
   "metadata": {},
   "source": [
    "## 3.2 (4 pts.)"
   ]
  },
  {
   "cell_type": "code",
   "execution_count": 32,
   "id": "814a61cc",
   "metadata": {},
   "outputs": [
    {
     "name": "stdout",
     "output_type": "stream",
     "text": [
      "Criterion for split: worst radius > 16.795000076293945\n"
     ]
    }
   ],
   "source": [
    "from sklearn import tree\n",
    "\n",
    "DecisionTree2 = tree.DecisionTreeClassifier(max_depth=1,random_state=12)\n",
    "DecisionTree2.fit(X,y)\n",
    "\n",
    "featurelabel = labels[DecisionTree2.tree_.feature[0]]\n",
    "threshold = DecisionTree2.tree_.threshold[0]\n",
    "\n",
    "print('Criterion for split: ' + str(featurelabel) + ' > ' + str(threshold))"
   ]
  },
  {
   "cell_type": "markdown",
   "id": "68192380",
   "metadata": {},
   "source": [
    "# 4 Classification"
   ]
  },
  {
   "cell_type": "code",
   "execution_count": 33,
   "id": "b2d2ed88",
   "metadata": {},
   "outputs": [],
   "source": [
    "import pandas as pd\n",
    "\n",
    "phoneme = pd.read_csv('phoneme.csv')"
   ]
  },
  {
   "cell_type": "code",
   "execution_count": 34,
   "id": "3c974b81",
   "metadata": {},
   "outputs": [],
   "source": [
    "import numpy as np\n",
    "from matplotlib import pyplot as plt\n",
    "\n",
    "X = phoneme[['V2', 'V5']]\n",
    "y = phoneme['Class']"
   ]
  },
  {
   "cell_type": "code",
   "execution_count": 35,
   "id": "b9422088",
   "metadata": {},
   "outputs": [],
   "source": [
    "from sklearn.model_selection import train_test_split\n",
    "\n",
    "np.random.seed(553)\n",
    "X_train, X_test, y_train, y_test = train_test_split(X, y, test_size=0.33, random_state=553)"
   ]
  },
  {
   "cell_type": "markdown",
   "id": "4d2b28cd",
   "metadata": {},
   "source": [
    "## 4.1 (4 pts.)"
   ]
  },
  {
   "cell_type": "code",
   "execution_count": 36,
   "id": "0df624fd",
   "metadata": {},
   "outputs": [
    {
     "name": "stdout",
     "output_type": "stream",
     "text": [
      "prediction result for LDA：0.7124439461883408\n",
      "prediction result for QDA：0.7427130044843049\n",
      "prediction result for Logistic Regression：0.7012331838565022\n",
      "prediction result for SVM：0.7561659192825112\n"
     ]
    }
   ],
   "source": [
    "from sklearn.discriminant_analysis import LinearDiscriminantAnalysis, QuadraticDiscriminantAnalysis\n",
    "from sklearn.linear_model import LogisticRegression\n",
    "from sklearn import svm\n",
    "\n",
    "lda = LinearDiscriminantAnalysis()\n",
    "lda.fit(X_train,y_train)\n",
    "qda = QuadraticDiscriminantAnalysis()\n",
    "qda.fit(X_train,y_train)\n",
    "lr = LogisticRegression(C=1.0)\n",
    "lr.fit(X,y)\n",
    "rbf = svm.SVC(kernel='rbf', C = 1)\n",
    "rbf.fit(X_train, y_train)\n",
    "\n",
    "ldascore = lda.score(X_test,y_test)\n",
    "qdascore = qda.score(X_test,y_test)\n",
    "lrscore = lr.score(X_test,y_test)\n",
    "svmscore = rbf.score(X_test,y_test)\n",
    "\n",
    "print(\"prediction result for LDA：{}\".format(ldascore))\n",
    "print(\"prediction result for QDA：{}\".format(qdascore))\n",
    "print(\"prediction result for Logistic Regression：{}\".format(lrscore))\n",
    "print(\"prediction result for SVM：{}\".format(svmscore))"
   ]
  },
  {
   "cell_type": "markdown",
   "id": "58ed987d",
   "metadata": {},
   "source": [
    "## 4.2 (6 pts.)"
   ]
  },
  {
   "cell_type": "markdown",
   "id": "f47012ea",
   "metadata": {},
   "source": [
    "### Answer:\n",
    "The plot shows the optimal decision boundary is nonlinear. LDA and logistic regression result in linear decision boundaries, so these models do not perform as well. QDA results in a quadratic decision boundary, which is nonlinear, so that model performs better. SVM with RBF kernel results in a more flexible nonlinear decision boundary, so that model performs the best."
   ]
  },
  {
   "cell_type": "markdown",
   "id": "ec527569",
   "metadata": {},
   "source": [
    "# 5 Spectral Clustering"
   ]
  },
  {
   "cell_type": "code",
   "execution_count": 37,
   "id": "226f8494",
   "metadata": {},
   "outputs": [],
   "source": [
    "import matplotlib.pyplot as plt\n",
    "from sklearn import datasets\n",
    "\n",
    "noisy_moons = datasets.make_moons(n_samples=1000, noise=0.10, random_state=553)\n",
    "data = noisy_moons[0]\n",
    "labels = noisy_moons[1]"
   ]
  },
  {
   "cell_type": "code",
   "execution_count": 38,
   "id": "a7b663fb",
   "metadata": {},
   "outputs": [],
   "source": [
    "import numpy as np\n",
    "\n",
    "data1 = data[np.newaxis, :, :]\n",
    "data2 = data[:, np.newaxis, :]\n",
    "temp = data1 - data2\n",
    "distances = np.sum(temp*temp, axis=2)"
   ]
  },
  {
   "cell_type": "code",
   "execution_count": 39,
   "id": "bff4e659",
   "metadata": {},
   "outputs": [],
   "source": [
    "W1 = (distances <= .1)\n",
    "W = W1 * (1 - distances/.1)"
   ]
  },
  {
   "cell_type": "markdown",
   "id": "da1b2301",
   "metadata": {},
   "source": [
    "## 5.1 (5 pts.)"
   ]
  },
  {
   "cell_type": "code",
   "execution_count": 40,
   "id": "1ca1a1ec",
   "metadata": {},
   "outputs": [
    {
     "data": {
      "image/png": "[encoded data removed]",
      "text/plain": [
       "<Figure size 432x288 with 1 Axes>"
      ]
     },
     "metadata": {
      "needs_background": "light"
     },
     "output_type": "display_data"
    }
   ],
   "source": [
    "import numpy as np\n",
    "import matplotlib.pyplot as plt\n",
    "\n",
    "d = np.sum(W,0)\n",
    "D = np.diag(d)\n",
    "L = D - W\n",
    "\n",
    "plt.spy(L)\n",
    "plt.show()"
   ]
  },
  {
   "cell_type": "markdown",
   "id": "c2c72dc5",
   "metadata": {},
   "source": [
    "## 5.2 (5 pts.)"
   ]
  },
  {
   "cell_type": "code",
   "execution_count": 41,
   "id": "ae82e17d",
   "metadata": {},
   "outputs": [],
   "source": [
    "S, E = np.linalg.eigh(L)\n",
    "idx = np.argsort(E[:,1])"
   ]
  },
  {
   "cell_type": "code",
   "execution_count": 42,
   "id": "5041766e",
   "metadata": {},
   "outputs": [
    {
     "data": {
      "image/png": "[encoded data removed]",
      "text/plain": [
       "<Figure size 432x288 with 1 Axes>"
      ]
     },
     "metadata": {
      "needs_background": "light"
     },
     "output_type": "display_data"
    }
   ],
   "source": [
    "threshold = 0\n",
    "clusters = (E[:, 1] <= 0)\n",
    "\n",
    "plt.scatter(data[:,0], data[:, 1], c = clusters)\n",
    "plt.show()"
   ]
  }
 ],
 "metadata": {
  "kernelspec": {
   "display_name": "Python 3",
   "language": "python",
   "name": "python3"
  },
  "language_info": {
   "codemirror_mode": {
    "name": "ipython",
    "version": 3
   },
   "file_extension": ".py",
   "mimetype": "text/x-python",
   "name": "python",
   "nbconvert_exporter": "python",
   "pygments_lexer": "ipython3",
   "version": "3.8.8"
  }
 },
 "nbformat": 4,
 "nbformat_minor": 5
}
