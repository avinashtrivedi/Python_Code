{
 "cells": [
  {
   "cell_type": "code",
   "execution_count": 3,
   "metadata": {},
   "outputs": [
    {
     "name": "stdout",
     "output_type": "stream",
     "text": [
      "What is 2**2? 4\n",
      "You are correct!\n",
      "What is 4**0? 1\n",
      "You are correct!\n",
      "What is 1**1? 1\n",
      "You are correct!\n",
      "What is 8**4? 54\n",
      "You are wrong! Correct answer is 4096\n",
      "What is 7**1? 7\n",
      "You are correct!\n",
      "\n",
      "The number of point received are 4 out of 5\n",
      "Total test time in second: 7.356161117553711\n",
      "Do you want to retake the quiz? Type Y/N: Y\n",
      "\n",
      "What is 1**3? 1\n",
      "You are correct!\n",
      "What is 5**7? 57\n",
      "You are wrong! Correct answer is 78125\n",
      "What is 5**5? 25\n",
      "You are wrong! Correct answer is 3125\n",
      "What is 6**5? 65\n",
      "You are wrong! Correct answer is 7776\n",
      "What is 5**1? 5\n",
      "You are correct!\n",
      "\n",
      "The number of point received are 2 out of 5\n",
      "Total test time in second: 9.416414976119995\n",
      "Do you want to retake the quiz? Type Y/N: N\n",
      "\n"
     ]
    }
   ],
   "source": [
    "# import the library\n",
    "import time\n",
    "import random\n",
    "\n",
    "while True:\n",
    "    \n",
    "    # define the variable\n",
    "    correct = 0\n",
    "    count = 0\n",
    "    totalquestions = 5\n",
    "    \n",
    "    # start timer\n",
    "    startTime = time.time()\n",
    "    \n",
    "    # loop to ask question\n",
    "    while totalquestions>0:\n",
    "        \n",
    "        # generate two random numbers\n",
    "        num1 = random.randint(0,9)\n",
    "        num2 = random.randint(0,9)\n",
    "        user_ans = int(input(\"What is {}**{}? \".format(num1,num2)))\n",
    "        correct_ans = num1**num2\n",
    "        \n",
    "        count = count + 1\n",
    "        totalquestions = totalquestions - 1\n",
    "        \n",
    "        if user_ans == correct_ans:\n",
    "            print('You are correct!')\n",
    "            correct = correct + 1\n",
    "        else:\n",
    "            print(\"You are wrong! Correct answer is {}\".format(correct_ans))\n",
    "            \n",
    "    # end time\n",
    "    endTime = time.time()   \n",
    "    \n",
    "    totalTime = endTime - startTime\n",
    "    \n",
    "    print(\"\\nThe number of point received are {} out of {}\".format(correct,count))\n",
    "    print(\"Total test time in second:\",totalTime)\n",
    "    choice = input(\"Do you want to retake the quiz? Type Y/N: \")\n",
    "    print()\n",
    "    if choice in ('N','stop','exit'):\n",
    "        break\n",
    "    elif choice=='Y':\n",
    "        continue"
   ]
  },
  {
   "cell_type": "code",
   "execution_count": null,
   "metadata": {},
   "outputs": [],
   "source": []
  }
 ],
 "metadata": {
  "kernelspec": {
   "display_name": "Python 3",
   "language": "python",
   "name": "python3"
  },
  "language_info": {
   "codemirror_mode": {
    "name": "ipython",
    "version": 3
   },
   "file_extension": ".py",
   "mimetype": "text/x-python",
   "name": "python",
   "nbconvert_exporter": "python",
   "pygments_lexer": "ipython3",
   "version": "3.8.5"
  }
 },
 "nbformat": 4,
 "nbformat_minor": 4
}
