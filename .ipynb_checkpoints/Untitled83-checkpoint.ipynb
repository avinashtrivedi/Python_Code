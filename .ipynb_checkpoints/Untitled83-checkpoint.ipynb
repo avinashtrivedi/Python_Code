{
 "cells": [
  {
   "cell_type": "code",
   "execution_count": 2,
   "metadata": {},
   "outputs": [
    {
     "ename": "IndentationError",
     "evalue": "unindent does not match any outer indentation level (<tokenize>, line 35)",
     "output_type": "error",
     "traceback": [
      "\u001b[1;36m  File \u001b[1;32m\"<tokenize>\"\u001b[1;36m, line \u001b[1;32m35\u001b[0m\n\u001b[1;33m    Y.append(funct(xn[j]))  #Y is runge function\u001b[0m\n\u001b[1;37m    ^\u001b[0m\n\u001b[1;31mIndentationError\u001b[0m\u001b[1;31m:\u001b[0m unindent does not match any outer indentation level\n"
     ]
    }
   ],
   "source": [
    "def Bary_Equid(X, Y, xval):\n",
    "   \t\n",
    "\t#make array of 1's with length of data for all lambda\n",
    "\tnX = np.size(X)\n",
    "\tlam = nX * [1]\n",
    "\tnx = np.size(xval)\n",
    "\t#declare variable for upper and lower part of Barycentric Formula\n",
    "\tNumerator = np.zeros(nx)\n",
    "\tDenominator = np.zeros(nx)\n",
    "\tresult = np.zeros(nx)\n",
    "\t\n",
    "\t#find lambda for each j\n",
    "\tfor j in range(nX):\n",
    "    \tlam[j] = pow(-1,j)  *  math.comb(nX,j)\n",
    "   \t#above is to compute barycentric weights formula for equidistributed nodes\n",
    " \n",
    "    \t# Barycentric Formula\n",
    "    \tNumerator += Y[j] * lam[j] / ((xval - X[j]) )\n",
    "    \tDenominator += lam[j] / ((xval - X[j]) )\n",
    "\tresult = Numerator / Denominator\n",
    "\treturn result\n",
    "def funct(x):\n",
    "\tf = 1 / (1 + pow(x,2))\n",
    "\treturn f\n",
    " \n",
    "xmin, xmax = -5.0, +5.0\n",
    "N = 4# Degree of polynomial\n",
    " \n",
    " \n",
    "xn = []\n",
    "Y = []\n",
    "for j in range(4):\n",
    "\ttemp = -5 + j*(10/ 4)\n",
    "\txn.append(temp)\n",
    "    Y.append(funct(xn[j]))  #Y is runge function\n",
    "X = np.linspace(xmin, xmax, 4)\n",
    "xk = np.linspace(xmin,xmax,5000)\n",
    "funct_int = Bary_Equid(X,Y,xk)   #interpolation function\n",
    "funct_T = funct(xk)           \t#func_T is True Function\n",
    "plt.plot(xk, funct_int, 'r-', alpha = 0.7, label = r'interp, $n = %s$' %len(xn) ) #interp, n = 4,8,12\n",
    "plt.plot(xk, funct_T,'b--', label = r'$f(x)$') #label state runge function\n",
    "plt.plot(X,Y, 'o', ms=7) #each nodes in dot\n",
    "plt.legend(loc='best')\n",
    "\n"
   ]
  },
  {
   "cell_type": "code",
   "execution_count": null,
   "metadata": {},
   "outputs": [],
   "source": []
  }
 ],
 "metadata": {
  "kernelspec": {
   "display_name": "Python 3",
   "language": "python",
   "name": "python3"
  },
  "language_info": {
   "codemirror_mode": {
    "name": "ipython",
    "version": 3
   },
   "file_extension": ".py",
   "mimetype": "text/x-python",
   "name": "python",
   "nbconvert_exporter": "python",
   "pygments_lexer": "ipython3",
   "version": "3.8.5"
  }
 },
 "nbformat": 4,
 "nbformat_minor": 4
}
