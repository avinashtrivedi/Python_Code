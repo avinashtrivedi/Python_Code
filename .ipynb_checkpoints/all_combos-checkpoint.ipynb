{
 "cells": [
  {
   "cell_type": "code",
   "execution_count": 1,
   "metadata": {},
   "outputs": [],
   "source": [
    "import numpy as np\n",
    "from datascience import *"
   ]
  },
  {
   "cell_type": "markdown",
   "metadata": {},
   "source": [
    "# Load the data"
   ]
  },
  {
   "cell_type": "code",
   "execution_count": 2,
   "metadata": {},
   "outputs": [
    {
     "data": {
      "text/html": [
       "<table border=\"1\" class=\"dataframe\">\n",
       "    <thead>\n",
       "        <tr>\n",
       "            <th>Year</th> <th>Major</th>\n",
       "        </tr>\n",
       "    </thead>\n",
       "    <tbody>\n",
       "        <tr>\n",
       "            <td>Second</td> <td>Undeclared</td>\n",
       "        </tr>\n",
       "        <tr>\n",
       "            <td>Second</td> <td>Undeclared</td>\n",
       "        </tr>\n",
       "        <tr>\n",
       "            <td>Second</td> <td>Undeclared</td>\n",
       "        </tr>\n",
       "    </tbody>\n",
       "</table>\n",
       "<p>... (97 rows omitted)</p>"
      ],
      "text/plain": [
       "<IPython.core.display.HTML object>"
      ]
     },
     "metadata": {},
     "output_type": "display_data"
    }
   ],
   "source": [
    "year = np.array(['Second']*60+['Third']*40)\n",
    "major = np.array(['Undeclared']*30 + ['Declared']*30 +['Undeclared']*8 + ['Declared']*32)\n",
    "students = Table().with_columns(\n",
    "'Year',year,\n",
    "'Major',major\n",
    ")\n",
    "students.show(3)"
   ]
  },
  {
   "cell_type": "markdown",
   "metadata": {},
   "source": [
    "# Step by step solution"
   ]
  },
  {
   "cell_type": "code",
   "execution_count": 3,
   "metadata": {},
   "outputs": [
    {
     "data": {
      "text/html": [
       "<table border=\"1\" class=\"dataframe\">\n",
       "    <thead>\n",
       "        <tr>\n",
       "            <th>Year</th> <th>Major</th>\n",
       "        </tr>\n",
       "    </thead>\n",
       "    <tbody>\n",
       "        <tr>\n",
       "            <td>Second</td> <td>Undeclared</td>\n",
       "        </tr>\n",
       "        <tr>\n",
       "            <td>Second</td> <td>Undeclared</td>\n",
       "        </tr>\n",
       "        <tr>\n",
       "            <td>Second</td> <td>Undeclared</td>\n",
       "        </tr>\n",
       "        <tr>\n",
       "            <td>Second</td> <td>Undeclared</td>\n",
       "        </tr>\n",
       "        <tr>\n",
       "            <td>Second</td> <td>Undeclared</td>\n",
       "        </tr>\n",
       "        <tr>\n",
       "            <td>Second</td> <td>Undeclared</td>\n",
       "        </tr>\n",
       "        <tr>\n",
       "            <td>Second</td> <td>Undeclared</td>\n",
       "        </tr>\n",
       "        <tr>\n",
       "            <td>Second</td> <td>Undeclared</td>\n",
       "        </tr>\n",
       "        <tr>\n",
       "            <td>Second</td> <td>Undeclared</td>\n",
       "        </tr>\n",
       "        <tr>\n",
       "            <td>Second</td> <td>Undeclared</td>\n",
       "        </tr>\n",
       "    </tbody>\n",
       "</table>\n",
       "<p>... (50 rows omitted)</p>"
      ],
      "text/plain": [
       "Year   | Major\n",
       "Second | Undeclared\n",
       "Second | Undeclared\n",
       "Second | Undeclared\n",
       "Second | Undeclared\n",
       "Second | Undeclared\n",
       "Second | Undeclared\n",
       "Second | Undeclared\n",
       "Second | Undeclared\n",
       "Second | Undeclared\n",
       "Second | Undeclared\n",
       "... (50 rows omitted)"
      ]
     },
     "execution_count": 3,
     "metadata": {},
     "output_type": "execute_result"
    }
   ],
   "source": [
    "students.where('Year', 'Second') # Table where Year== 'Second'"
   ]
  },
  {
   "cell_type": "code",
   "execution_count": 4,
   "metadata": {},
   "outputs": [
    {
     "data": {
      "text/html": [
       "<table border=\"1\" class=\"dataframe\">\n",
       "    <thead>\n",
       "        <tr>\n",
       "            <th>Year</th> <th>Major</th>\n",
       "        </tr>\n",
       "    </thead>\n",
       "    <tbody>\n",
       "        <tr>\n",
       "            <td>Second</td> <td>Declared</td>\n",
       "        </tr>\n",
       "        <tr>\n",
       "            <td>Second</td> <td>Declared</td>\n",
       "        </tr>\n",
       "        <tr>\n",
       "            <td>Second</td> <td>Declared</td>\n",
       "        </tr>\n",
       "        <tr>\n",
       "            <td>Second</td> <td>Declared</td>\n",
       "        </tr>\n",
       "        <tr>\n",
       "            <td>Second</td> <td>Declared</td>\n",
       "        </tr>\n",
       "        <tr>\n",
       "            <td>Second</td> <td>Declared</td>\n",
       "        </tr>\n",
       "        <tr>\n",
       "            <td>Second</td> <td>Declared</td>\n",
       "        </tr>\n",
       "        <tr>\n",
       "            <td>Second</td> <td>Declared</td>\n",
       "        </tr>\n",
       "        <tr>\n",
       "            <td>Second</td> <td>Declared</td>\n",
       "        </tr>\n",
       "        <tr>\n",
       "            <td>Second</td> <td>Declared</td>\n",
       "        </tr>\n",
       "    </tbody>\n",
       "</table>\n",
       "<p>... (20 rows omitted)</p>"
      ],
      "text/plain": [
       "Year   | Major\n",
       "Second | Declared\n",
       "Second | Declared\n",
       "Second | Declared\n",
       "Second | Declared\n",
       "Second | Declared\n",
       "Second | Declared\n",
       "Second | Declared\n",
       "Second | Declared\n",
       "Second | Declared\n",
       "Second | Declared\n",
       "... (20 rows omitted)"
      ]
     },
     "execution_count": 4,
     "metadata": {},
     "output_type": "execute_result"
    }
   ],
   "source": [
    "students.where('Year', 'Second').where('Major', 'Declared') # Table where Year== 'Second' and Major=='Declared'"
   ]
  },
  {
   "cell_type": "code",
   "execution_count": 5,
   "metadata": {},
   "outputs": [
    {
     "data": {
      "text/plain": [
       "30"
      ]
     },
     "execution_count": 5,
     "metadata": {},
     "output_type": "execute_result"
    }
   ],
   "source": [
    "Second_D = students.where('Year', 'Second').where('Major', 'Declared').num_rows # get the number of rows  \n",
    "Second_D"
   ]
  },
  {
   "cell_type": "code",
   "execution_count": 6,
   "metadata": {},
   "outputs": [
    {
     "data": {
      "text/plain": [
       "30"
      ]
     },
     "execution_count": 6,
     "metadata": {},
     "output_type": "execute_result"
    }
   ],
   "source": [
    "# similarly for Year== 'Second' and Major=='Undeclared'\n",
    "Second_UN = students.where('Year', 'Second').where('Major','Undeclared').num_rows\n",
    "Second_UN"
   ]
  },
  {
   "cell_type": "code",
   "execution_count": 7,
   "metadata": {},
   "outputs": [
    {
     "data": {
      "text/plain": [
       "32"
      ]
     },
     "execution_count": 7,
     "metadata": {},
     "output_type": "execute_result"
    }
   ],
   "source": [
    "# for Year== 'Third' and Major=='Declared'\n",
    "Third_D = students.where('Year', 'Third').where('Major', 'Declared').num_rows  \n",
    "Third_D"
   ]
  },
  {
   "cell_type": "code",
   "execution_count": 8,
   "metadata": {},
   "outputs": [
    {
     "data": {
      "text/plain": [
       "8"
      ]
     },
     "execution_count": 8,
     "metadata": {},
     "output_type": "execute_result"
    }
   ],
   "source": [
    "# Year== 'Third' and Major=='Undeclared'\n",
    "Third_UN = students.where('Year', 'Third').where('Major', 'Undeclared').num_rows  \n",
    "Third_UN"
   ]
  },
  {
   "cell_type": "code",
   "execution_count": 9,
   "metadata": {},
   "outputs": [],
   "source": [
    "# Create an empty table with column labels\n",
    "new_table = Table(make_array('Year', 'Declared', 'Undeclared'))"
   ]
  },
  {
   "cell_type": "code",
   "execution_count": 10,
   "metadata": {},
   "outputs": [
    {
     "data": {
      "text/html": [
       "<table border=\"1\" class=\"dataframe\">\n",
       "    <thead>\n",
       "        <tr>\n",
       "            <th>Year</th> <th>Declared</th> <th>Undeclared</th>\n",
       "        </tr>\n",
       "    </thead>\n",
       "    <tbody>\n",
       "    </tbody>\n",
       "</table>"
      ],
      "text/plain": [
       "Year | Declared | Undeclared"
      ]
     },
     "execution_count": 10,
     "metadata": {},
     "output_type": "execute_result"
    }
   ],
   "source": [
    "new_table"
   ]
  },
  {
   "cell_type": "code",
   "execution_count": 11,
   "metadata": {},
   "outputs": [],
   "source": [
    "# Similarly create a empty table called all_combos\n",
    "all_combos = Table(make_array('Year','Declared', 'Undeclared'))\n",
    "\n",
    "# add rows with respective values\n",
    "all_combos = all_combos.with_rows(make_array(make_array('Second', Second_D, Second_UN),\n",
    "                            make_array('Third', Third_D, Third_UN)))"
   ]
  },
  {
   "cell_type": "code",
   "execution_count": 12,
   "metadata": {},
   "outputs": [
    {
     "data": {
      "text/html": [
       "<table border=\"1\" class=\"dataframe\">\n",
       "    <thead>\n",
       "        <tr>\n",
       "            <th>Year</th> <th>Declared</th> <th>Undeclared</th>\n",
       "        </tr>\n",
       "    </thead>\n",
       "    <tbody>\n",
       "        <tr>\n",
       "            <td>Second</td> <td>30      </td> <td>30        </td>\n",
       "        </tr>\n",
       "        <tr>\n",
       "            <td>Third </td> <td>32      </td> <td>8         </td>\n",
       "        </tr>\n",
       "    </tbody>\n",
       "</table>"
      ],
      "text/plain": [
       "Year   | Declared | Undeclared\n",
       "Second | 30       | 30\n",
       "Third  | 32       | 8"
      ]
     },
     "execution_count": 12,
     "metadata": {},
     "output_type": "execute_result"
    }
   ],
   "source": [
    "all_combos"
   ]
  },
  {
   "cell_type": "code",
   "execution_count": 13,
   "metadata": {},
   "outputs": [],
   "source": [
    "# you can create a similar table without 'Year' column\n",
    "\n",
    "# Similarly create a empty table called all_combos\n",
    "all_combos = Table(make_array('','Declared', 'Undeclared'))\n",
    "\n",
    "# add rows with respective values\n",
    "all_combos = all_combos.with_rows(make_array(make_array('Second', Second_D, Second_UN),\n",
    "                            make_array('Third', Third_D, Third_UN)))"
   ]
  },
  {
   "cell_type": "code",
   "execution_count": 14,
   "metadata": {},
   "outputs": [
    {
     "data": {
      "text/html": [
       "<table border=\"1\" class=\"dataframe\">\n",
       "    <thead>\n",
       "        <tr>\n",
       "            <th></th> <th>Declared</th> <th>Undeclared</th>\n",
       "        </tr>\n",
       "    </thead>\n",
       "    <tbody>\n",
       "        <tr>\n",
       "            <td>Second</td> <td>30      </td> <td>30        </td>\n",
       "        </tr>\n",
       "        <tr>\n",
       "            <td>Third </td> <td>32      </td> <td>8         </td>\n",
       "        </tr>\n",
       "    </tbody>\n",
       "</table>"
      ],
      "text/plain": [
       "       | Declared | Undeclared\n",
       "Second | 30       | 30\n",
       "Third  | 32       | 8"
      ]
     },
     "execution_count": 14,
     "metadata": {},
     "output_type": "execute_result"
    }
   ],
   "source": [
    "all_combos"
   ]
  },
  {
   "cell_type": "code",
   "execution_count": null,
   "metadata": {},
   "outputs": [],
   "source": []
  }
 ],
 "metadata": {
  "kernelspec": {
   "display_name": "Python 3",
   "language": "python",
   "name": "python3"
  },
  "language_info": {
   "codemirror_mode": {
    "name": "ipython",
    "version": 3
   },
   "file_extension": ".py",
   "mimetype": "text/x-python",
   "name": "python",
   "nbconvert_exporter": "python",
   "pygments_lexer": "ipython3",
   "version": "3.8.5"
  }
 },
 "nbformat": 4,
 "nbformat_minor": 4
}
