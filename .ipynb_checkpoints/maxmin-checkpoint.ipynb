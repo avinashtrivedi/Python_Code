{
 "cells": [
  {
   "cell_type": "code",
   "execution_count": 1,
   "metadata": {},
   "outputs": [
    {
     "name": "stdout",
     "output_type": "stream",
     "text": [
      "Enter a number or \"end\": 12\n",
      "Enter a number or \"end\": 32\n",
      "Enter a number or \"end\": 45\n",
      "Enter a number or \"end\": hello\n",
      "Please enter a valid number.\n",
      "Enter a number or \"end\": hi\n",
      "Please enter a valid number.\n",
      "Enter a number or \"end\": \n",
      "Please enter a valid number.\n",
      "Enter a number or \"end\": 45\n",
      "Enter a number or \"end\": 65.56\n",
      "Enter a number or \"end\": 14.24\n",
      "Enter a number or \"end\": end\n",
      "\n",
      "Sum of Numbers: 213.8\n",
      "Number of numbers: 6\n",
      "Average of numbers: 35.63\n"
     ]
    }
   ],
   "source": [
    "# define empty list to store the numbers\n",
    "mylist = []\n",
    "\n",
    "# prompt the user to enter a number or \n",
    "# 'end' to stop receiving the input\n",
    "\n",
    "while True:\n",
    "    \n",
    "    # get the input\n",
    "    num = input('Enter a number or \"end\": ')\n",
    "    \n",
    "    # if it is 'end' then exit from while loop\n",
    "    if num == 'end':\n",
    "        break\n",
    "        \n",
    "    # try-except block to handle the exception.\n",
    "    try:\n",
    "        # convert the num to float\n",
    "        num = float(num)\n",
    "        \n",
    "        # append into mylist\n",
    "        mylist.append(num)\n",
    "        \n",
    "    except:\n",
    "        print('Please enter a valid number.')\n",
    "\n",
    "# print the results\n",
    "print('\\nSum of Numbers:',sum(mylist))\n",
    "print('Number of numbers:',len(mylist))\n",
    "avg = round(sum(mylist)/len(mylist),2)\n",
    "\n",
    "print('Average of numbers:',avg)"
   ]
  },
  {
   "cell_type": "code",
   "execution_count": 2,
   "metadata": {},
   "outputs": [
    {
     "name": "stdout",
     "output_type": "stream",
     "text": [
      "Enter a number or \"end\": 34\n",
      "Enter a number or \"end\": 21\n",
      "Enter a number or \"end\": 35\n",
      "Enter a number or \"end\": 67\n",
      "Enter a number or \"end\": hi\n",
      "Please enter a valid number.\n",
      "Enter a number or \"end\": \n",
      "Please enter a valid number.\n",
      "Enter a number or \"end\": 24.54\n",
      "Enter a number or \"end\": end\n",
      "\n",
      "Max: 67.0\n",
      "Min: 21.0\n"
     ]
    }
   ],
   "source": [
    "# define empty list to store the numbers\n",
    "mylist = []\n",
    "\n",
    "# prompt the user to enter a number or \n",
    "# 'end' to stop receiving the input\n",
    "\n",
    "while True:\n",
    "    \n",
    "    # get the input\n",
    "    num = input('Enter a number or \"end\": ')\n",
    "    \n",
    "    # if it is 'end' then exit from while loop\n",
    "    if num == 'end':\n",
    "        break\n",
    "        \n",
    "    # try-except block to handle the exception.\n",
    "    try:\n",
    "        # convert the num to float\n",
    "        num = float(num)\n",
    "        \n",
    "        # append into mylist\n",
    "        mylist.append(num)\n",
    "        \n",
    "    except:\n",
    "        print('Please enter a valid number.')\n",
    "\n",
    "# print the results\n",
    "print('\\nMax:',max(mylist))\n",
    "print('Min:',min(mylist))"
   ]
  },
  {
   "cell_type": "code",
   "execution_count": null,
   "metadata": {},
   "outputs": [],
   "source": []
  }
 ],
 "metadata": {
  "kernelspec": {
   "display_name": "Python 3",
   "language": "python",
   "name": "python3"
  },
  "language_info": {
   "codemirror_mode": {
    "name": "ipython",
    "version": 3
   },
   "file_extension": ".py",
   "mimetype": "text/x-python",
   "name": "python",
   "nbconvert_exporter": "python",
   "pygments_lexer": "ipython3",
   "version": "3.8.5"
  }
 },
 "nbformat": 4,
 "nbformat_minor": 4
}
