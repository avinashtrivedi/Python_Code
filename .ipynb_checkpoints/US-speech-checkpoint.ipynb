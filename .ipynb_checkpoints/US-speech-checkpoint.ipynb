{
 "cells": [
  {
   "cell_type": "code",
   "execution_count": 1,
   "metadata": {},
   "outputs": [],
   "source": [
    "# import the library\n",
    "import nltk\n",
    "\n",
    "# load the US Presidential inaugural addresses.\n",
    "from nltk.corpus import inaugural"
   ]
  },
  {
   "cell_type": "markdown",
   "metadata": {},
   "source": [
    "# Number of characters"
   ]
  },
  {
   "cell_type": "code",
   "execution_count": 2,
   "metadata": {},
   "outputs": [
    {
     "name": "stdout",
     "output_type": "stream",
     "text": [
      "number of characters in Roosevelt file: 7571\n",
      "number of characters in Kennedy file: 7618\n",
      "number of characters in Nixon file: 9991\n"
     ]
    }
   ],
   "source": [
    "# read the file to get it as single string.\n",
    "Roosevelt = inaugural.raw('1941-Roosevelt.txt')\n",
    "number_of_characters = len(Roosevelt)\n",
    "print('number of characters in Roosevelt file:',number_of_characters)\n",
    "\n",
    "# read the file to get it as single string.\n",
    "Kennedy = inaugural.raw('1961-Kennedy.txt')\n",
    "number_of_characters = len(Kennedy)\n",
    "print('number of characters in Kennedy file:',number_of_characters)\n",
    "\n",
    "# read the file to get it as single string.\n",
    "Nixon = inaugural.raw('1973-Nixon.txt')\n",
    "number_of_characters = len(Nixon)\n",
    "print('number of characters in Nixon file:',number_of_characters)"
   ]
  },
  {
   "cell_type": "markdown",
   "metadata": {},
   "source": [
    "# Number of words"
   ]
  },
  {
   "cell_type": "code",
   "execution_count": 3,
   "metadata": {},
   "outputs": [
    {
     "name": "stdout",
     "output_type": "stream",
     "text": [
      "Number of words in Roosevelt file: 1360\n"
     ]
    }
   ],
   "source": [
    "# read the file to get it as single string.\n",
    "x = inaugural.raw('1941-Roosevelt.txt')\n",
    "# get the list of words\n",
    "word = x.split()\n",
    "print('Number of words in Roosevelt file:',len(word))"
   ]
  },
  {
   "cell_type": "code",
   "execution_count": 4,
   "metadata": {},
   "outputs": [
    {
     "name": "stdout",
     "output_type": "stream",
     "text": [
      "Number of words in Kennedy file: 1390\n"
     ]
    }
   ],
   "source": [
    "x = inaugural.raw('1961-Kennedy.txt')\n",
    "# get the list of words\n",
    "word = x.split()\n",
    "print('Number of words in Kennedy file:',len(word))"
   ]
  },
  {
   "cell_type": "code",
   "execution_count": 5,
   "metadata": {},
   "outputs": [
    {
     "name": "stdout",
     "output_type": "stream",
     "text": [
      "Number of words in Nixon file: 1819\n"
     ]
    }
   ],
   "source": [
    "x = inaugural.raw('1973-Nixon.txt')\n",
    "# get the list of words\n",
    "word = x.split()\n",
    "print('Number of words in Nixon file:',len(word))"
   ]
  },
  {
   "cell_type": "markdown",
   "metadata": {},
   "source": [
    "# <span style=\"background-color:yellow;\">Number of sentences: Wrong Method/Solution</span>\n",
    "<span style=\"background-color:yellow;\">As given in the Question document (MACHINE LEARNING -2.pdf) </span>\n",
    "\n",
    "- It is wrong because it is finding the number of sentences on the basis of number of words in a file ending with dot i.e. '.'\n",
    "\n",
    "- Hence it is considering separate line even for <span style=\"background-color:yellow;\">Mr.</span> for example in <span style=\"background-color:yellow;\">Mr. Vice President , Mr. Speaker , Mr. Chief </span>etc although its a part of single sentences in 1973-Nixon.txt but this code counts it as Three different sentence"
   ]
  },
  {
   "cell_type": "code",
   "execution_count": 6,
   "metadata": {},
   "outputs": [],
   "source": [
    "import pandas as pd"
   ]
  },
  {
   "cell_type": "code",
   "execution_count": 7,
   "metadata": {},
   "outputs": [
    {
     "data": {
      "text/html": [
       "<div>\n",
       "<style scoped>\n",
       "    .dataframe tbody tr th:only-of-type {\n",
       "        vertical-align: middle;\n",
       "    }\n",
       "\n",
       "    .dataframe tbody tr th {\n",
       "        vertical-align: top;\n",
       "    }\n",
       "\n",
       "    .dataframe thead th {\n",
       "        text-align: right;\n",
       "    }\n",
       "</style>\n",
       "<table border=\"1\" class=\"dataframe\">\n",
       "  <thead>\n",
       "    <tr style=\"text-align: right;\">\n",
       "      <th></th>\n",
       "      <th>text</th>\n",
       "      <th>sentences</th>\n",
       "    </tr>\n",
       "  </thead>\n",
       "  <tbody>\n",
       "    <tr>\n",
       "      <th>0</th>\n",
       "      <td>On each national day of inauguration since 178...</td>\n",
       "      <td>67</td>\n",
       "    </tr>\n",
       "  </tbody>\n",
       "</table>\n",
       "</div>"
      ],
      "text/plain": [
       "                                                text  sentences\n",
       "0  On each national day of inauguration since 178...         67"
      ]
     },
     "execution_count": 7,
     "metadata": {},
     "output_type": "execute_result"
    }
   ],
   "source": [
    "y = pd.DataFrame({'text':inaugural.raw('1941-Roosevelt.txt')},index={0})\n",
    "y['sentences'] = y['text'].apply(lambda x: len([x for x in x.split() if x.endswith('.')]))\n",
    "y"
   ]
  },
  {
   "cell_type": "code",
   "execution_count": 8,
   "metadata": {},
   "outputs": [
    {
     "data": {
      "text/html": [
       "<div>\n",
       "<style scoped>\n",
       "    .dataframe tbody tr th:only-of-type {\n",
       "        vertical-align: middle;\n",
       "    }\n",
       "\n",
       "    .dataframe tbody tr th {\n",
       "        vertical-align: top;\n",
       "    }\n",
       "\n",
       "    .dataframe thead th {\n",
       "        text-align: right;\n",
       "    }\n",
       "</style>\n",
       "<table border=\"1\" class=\"dataframe\">\n",
       "  <thead>\n",
       "    <tr style=\"text-align: right;\">\n",
       "      <th></th>\n",
       "      <th>text</th>\n",
       "      <th>sentences</th>\n",
       "    </tr>\n",
       "  </thead>\n",
       "  <tbody>\n",
       "    <tr>\n",
       "      <th>0</th>\n",
       "      <td>Vice President Johnson, Mr. Speaker, Mr. Chief...</td>\n",
       "      <td>52</td>\n",
       "    </tr>\n",
       "  </tbody>\n",
       "</table>\n",
       "</div>"
      ],
      "text/plain": [
       "                                                text  sentences\n",
       "0  Vice President Johnson, Mr. Speaker, Mr. Chief...         52"
      ]
     },
     "execution_count": 8,
     "metadata": {},
     "output_type": "execute_result"
    }
   ],
   "source": [
    "y = pd.DataFrame({'text':inaugural.raw('1961-Kennedy.txt')},index={0})\n",
    "y['sentences'] = y['text'].apply(lambda x: len([x for x in x.split() if x.endswith('.')]))\n",
    "y"
   ]
  },
  {
   "cell_type": "code",
   "execution_count": 9,
   "metadata": {},
   "outputs": [
    {
     "data": {
      "text/html": [
       "<div>\n",
       "<style scoped>\n",
       "    .dataframe tbody tr th:only-of-type {\n",
       "        vertical-align: middle;\n",
       "    }\n",
       "\n",
       "    .dataframe tbody tr th {\n",
       "        vertical-align: top;\n",
       "    }\n",
       "\n",
       "    .dataframe thead th {\n",
       "        text-align: right;\n",
       "    }\n",
       "</style>\n",
       "<table border=\"1\" class=\"dataframe\">\n",
       "  <thead>\n",
       "    <tr style=\"text-align: right;\">\n",
       "      <th></th>\n",
       "      <th>text</th>\n",
       "      <th>sentences</th>\n",
       "    </tr>\n",
       "  </thead>\n",
       "  <tbody>\n",
       "    <tr>\n",
       "      <th>0</th>\n",
       "      <td>Mr. Vice President, Mr. Speaker, Mr. Chief Jus...</td>\n",
       "      <td>68</td>\n",
       "    </tr>\n",
       "  </tbody>\n",
       "</table>\n",
       "</div>"
      ],
      "text/plain": [
       "                                                text  sentences\n",
       "0  Mr. Vice President, Mr. Speaker, Mr. Chief Jus...         68"
      ]
     },
     "execution_count": 9,
     "metadata": {},
     "output_type": "execute_result"
    }
   ],
   "source": [
    "y = pd.DataFrame({'text':inaugural.raw('1973-Nixon.txt')},index={0})\n",
    "y['sentences'] = y['text'].apply(lambda x: len([x for x in x.split() if x.endswith('.')]))\n",
    "y"
   ]
  },
  {
   "cell_type": "markdown",
   "metadata": {},
   "source": [
    "# <span style=\"background-color:yellow;\"> Number of sentences: Correct Method/solution </span>"
   ]
  },
  {
   "cell_type": "code",
   "execution_count": 10,
   "metadata": {},
   "outputs": [
    {
     "name": "stdout",
     "output_type": "stream",
     "text": [
      "Number of sentences in Roosevelt file: 38\n"
     ]
    }
   ],
   "source": [
    "# read the file and return list of lines.\n",
    "Kennedy_all_lines = inaugural.open('1941-Roosevelt.txt').readlines()\n",
    "\n",
    "# ignore the blank/empty lines.\n",
    "sentence = [line for line in Kennedy_all_lines if line!='\\n']\n",
    "\n",
    "print('Number of sentences in Roosevelt file:',len(sentence))"
   ]
  },
  {
   "cell_type": "code",
   "execution_count": 11,
   "metadata": {},
   "outputs": [
    {
     "name": "stdout",
     "output_type": "stream",
     "text": [
      "Number of sentences in Kennedy file: 27\n"
     ]
    }
   ],
   "source": [
    "# read the file and return list of lines.\n",
    "Kennedy_all_lines = inaugural.open('1961-Kennedy.txt').readlines()\n",
    "\n",
    "# ignore the blank/empty lines.\n",
    "sentence = [line for line in Kennedy_all_lines if line!='\\n']\n",
    "print('Number of sentences in Kennedy file:',len(sentence))"
   ]
  },
  {
   "cell_type": "code",
   "execution_count": 12,
   "metadata": {},
   "outputs": [
    {
     "name": "stdout",
     "output_type": "stream",
     "text": [
      "Number of sentences in Nixon file: 51\n"
     ]
    }
   ],
   "source": [
    "# read the file and return list of lines.\n",
    "Kennedy_all_lines = inaugural.open('1973-Nixon.txt').readlines()\n",
    "\n",
    "# ignore the blank/empty lines.\n",
    "sentence = [line for line in Kennedy_all_lines if line!='\\n']\n",
    "print('Number of sentences in Nixon file:',len(sentence))"
   ]
  },
  {
   "cell_type": "code",
   "execution_count": null,
   "metadata": {},
   "outputs": [],
   "source": []
  }
 ],
 "metadata": {
  "kernelspec": {
   "display_name": "Python 3",
   "language": "python",
   "name": "python3"
  },
  "language_info": {
   "codemirror_mode": {
    "name": "ipython",
    "version": 3
   },
   "file_extension": ".py",
   "mimetype": "text/x-python",
   "name": "python",
   "nbconvert_exporter": "python",
   "pygments_lexer": "ipython3",
   "version": "3.8.5"
  }
 },
 "nbformat": 4,
 "nbformat_minor": 4
}
