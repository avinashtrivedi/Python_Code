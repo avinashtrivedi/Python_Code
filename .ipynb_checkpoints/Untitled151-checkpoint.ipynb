{
 "cells": [
  {
   "cell_type": "code",
   "execution_count": 1,
   "metadata": {},
   "outputs": [
    {
     "name": "stdout",
     "output_type": "stream",
     "text": [
      "Enter primary color1: red\n",
      "Enter primary color2: blue\n",
      "When you mix red and blue, you get Purple\n"
     ]
    }
   ],
   "source": [
    "# create a list of primary colors.\n",
    "PrimaryColors = ['red', 'blue', 'yellow']\n",
    "\n",
    "# first primary color as an input\n",
    "PrimaryColor1 = input(\"Enter primary color1: \")\n",
    "\n",
    "# second primary color as an input\n",
    "PrimaryColor2 = input(\"Enter primary color2: \")\n",
    "\n",
    "# check if both the color PrimaryColor1 and PrimaryColor2 is in PrimaryColors\n",
    "# i.e check if input colors is either red or blue or yellow\n",
    "if PrimaryColor1 in PrimaryColors and PrimaryColor2 in PrimaryColors:\n",
    "    \n",
    "    if (PrimaryColor1 == \"blue\" and PrimaryColor2 == \"red\") or (PrimaryColor1 == \"red\" and PrimaryColor2 == \"blue\"):\n",
    "        print(\"When you mix {} and {}, you get {}\".format(PrimaryColor1,PrimaryColor2,'Purple'))\n",
    "    \n",
    "    elif (PrimaryColor1 == \"yellow\" and PrimaryColor2 == \"blue\") or (PrimaryColor1 == \"blue\" and PrimaryColor2 == \"yellow\"):\n",
    "        print(\"When you mix {} and {}, you get {}\".format(PrimaryColor1,PrimaryColor2,'Green'))\n",
    "        \n",
    "    elif (PrimaryColor1 == \"red\" and PrimaryColor2 == \"yellow\") or (PrimaryColor1 == \"yellow\" and PrimaryColor2 == \"red\"):\n",
    "        print(\"When you mix {} and {}, you get {}\".format(PrimaryColor1,PrimaryColor2,'Orange'))\n",
    "\n",
    "        \n",
    "# if input received is not the primary colors\n",
    "else:\n",
    "    print('Invalid Color inputs')"
   ]
  },
  {
   "cell_type": "code",
   "execution_count": null,
   "metadata": {},
   "outputs": [],
   "source": []
  }
 ],
 "metadata": {
  "kernelspec": {
   "display_name": "Python 3",
   "language": "python",
   "name": "python3"
  },
  "language_info": {
   "codemirror_mode": {
    "name": "ipython",
    "version": 3
   },
   "file_extension": ".py",
   "mimetype": "text/x-python",
   "name": "python",
   "nbconvert_exporter": "python",
   "pygments_lexer": "ipython3",
   "version": "3.8.5"
  }
 },
 "nbformat": 4,
 "nbformat_minor": 4
}
