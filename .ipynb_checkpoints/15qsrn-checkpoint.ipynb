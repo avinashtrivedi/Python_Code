{
 "cells": [
  {
   "cell_type": "code",
   "execution_count": 1,
   "metadata": {},
   "outputs": [],
   "source": [
    "# import the library\n",
    "import pandas as pd"
   ]
  },
  {
   "cell_type": "markdown",
   "metadata": {},
   "source": [
    "# Q.1"
   ]
  },
  {
   "cell_type": "code",
   "execution_count": 2,
   "metadata": {},
   "outputs": [
    {
     "data": {
      "text/html": [
       "<div>\n",
       "<style scoped>\n",
       "    .dataframe tbody tr th:only-of-type {\n",
       "        vertical-align: middle;\n",
       "    }\n",
       "\n",
       "    .dataframe tbody tr th {\n",
       "        vertical-align: top;\n",
       "    }\n",
       "\n",
       "    .dataframe thead th {\n",
       "        text-align: right;\n",
       "    }\n",
       "</style>\n",
       "<table border=\"1\" class=\"dataframe\">\n",
       "  <thead>\n",
       "    <tr style=\"text-align: right;\">\n",
       "      <th></th>\n",
       "      <th>placeID</th>\n",
       "      <th>Rpayment</th>\n",
       "    </tr>\n",
       "  </thead>\n",
       "  <tbody>\n",
       "    <tr>\n",
       "      <th>0</th>\n",
       "      <td>135110</td>\n",
       "      <td>cash</td>\n",
       "    </tr>\n",
       "    <tr>\n",
       "      <th>1</th>\n",
       "      <td>135110</td>\n",
       "      <td>VISA</td>\n",
       "    </tr>\n",
       "    <tr>\n",
       "      <th>2</th>\n",
       "      <td>135110</td>\n",
       "      <td>MasterCard-Eurocard</td>\n",
       "    </tr>\n",
       "    <tr>\n",
       "      <th>3</th>\n",
       "      <td>135110</td>\n",
       "      <td>American_Express</td>\n",
       "    </tr>\n",
       "    <tr>\n",
       "      <th>4</th>\n",
       "      <td>135110</td>\n",
       "      <td>bank_debit_cards</td>\n",
       "    </tr>\n",
       "    <tr>\n",
       "      <th>...</th>\n",
       "      <td>...</td>\n",
       "      <td>...</td>\n",
       "    </tr>\n",
       "    <tr>\n",
       "      <th>1309</th>\n",
       "      <td>132012</td>\n",
       "      <td>Diners_Club</td>\n",
       "    </tr>\n",
       "    <tr>\n",
       "      <th>1310</th>\n",
       "      <td>132002</td>\n",
       "      <td>MasterCard-Eurocard</td>\n",
       "    </tr>\n",
       "    <tr>\n",
       "      <th>1311</th>\n",
       "      <td>132002</td>\n",
       "      <td>Visa</td>\n",
       "    </tr>\n",
       "    <tr>\n",
       "      <th>1312</th>\n",
       "      <td>132002</td>\n",
       "      <td>American_Express</td>\n",
       "    </tr>\n",
       "    <tr>\n",
       "      <th>1313</th>\n",
       "      <td>132002</td>\n",
       "      <td>Diners_Club</td>\n",
       "    </tr>\n",
       "  </tbody>\n",
       "</table>\n",
       "<p>1314 rows × 2 columns</p>\n",
       "</div>"
      ],
      "text/plain": [
       "      placeID             Rpayment\n",
       "0      135110                 cash\n",
       "1      135110                 VISA\n",
       "2      135110  MasterCard-Eurocard\n",
       "3      135110     American_Express\n",
       "4      135110     bank_debit_cards\n",
       "...       ...                  ...\n",
       "1309   132012          Diners_Club\n",
       "1310   132002  MasterCard-Eurocard\n",
       "1311   132002                 Visa\n",
       "1312   132002     American_Express\n",
       "1313   132002          Diners_Club\n",
       "\n",
       "[1314 rows x 2 columns]"
      ]
     },
     "execution_count": 2,
     "metadata": {},
     "output_type": "execute_result"
    }
   ],
   "source": [
    "df = pd.read_csv('chefmozaccepts.csv') # read the required dataset\n",
    "df # display the data"
   ]
  },
  {
   "cell_type": "code",
   "execution_count": 3,
   "metadata": {},
   "outputs": [
    {
     "data": {
      "text/plain": [
       "500"
      ]
     },
     "execution_count": 3,
     "metadata": {},
     "output_type": "execute_result"
    }
   ],
   "source": [
    "len(df[df['Rpayment'] == 'cash']) # number of restaurants that allow cash payment."
   ]
  },
  {
   "cell_type": "code",
   "execution_count": 4,
   "metadata": {},
   "outputs": [
    {
     "data": {
      "text/plain": [
       "172"
      ]
     },
     "execution_count": 4,
     "metadata": {},
     "output_type": "execute_result"
    }
   ],
   "source": [
    "len(df[df['Rpayment'] == 'VISA']) # number of restaurants that allow Visa payment"
   ]
  },
  {
   "cell_type": "code",
   "execution_count": 5,
   "metadata": {},
   "outputs": [
    {
     "data": {
      "text/plain": [
       "166"
      ]
     },
     "execution_count": 5,
     "metadata": {},
     "output_type": "execute_result"
    }
   ],
   "source": [
    "# number of restaurants that allow Visa as well as cash payment\n",
    "len(df[(df['Rpayment']=='cash') | (df['Rpayment']=='VISA')].groupby('placeID').filter(lambda x: len(x) > 1)['placeID'].unique())"
   ]
  },
  {
   "cell_type": "markdown",
   "metadata": {},
   "source": [
    "# Q.2"
   ]
  },
  {
   "cell_type": "code",
   "execution_count": 6,
   "metadata": {},
   "outputs": [
    {
     "data": {
      "text/html": [
       "<div>\n",
       "<style scoped>\n",
       "    .dataframe tbody tr th:only-of-type {\n",
       "        vertical-align: middle;\n",
       "    }\n",
       "\n",
       "    .dataframe tbody tr th {\n",
       "        vertical-align: top;\n",
       "    }\n",
       "\n",
       "    .dataframe thead th {\n",
       "        text-align: right;\n",
       "    }\n",
       "</style>\n",
       "<table border=\"1\" class=\"dataframe\">\n",
       "  <thead>\n",
       "    <tr style=\"text-align: right;\">\n",
       "      <th></th>\n",
       "      <th>placeID</th>\n",
       "      <th>Rcuisine</th>\n",
       "    </tr>\n",
       "  </thead>\n",
       "  <tbody>\n",
       "    <tr>\n",
       "      <th>0</th>\n",
       "      <td>135110</td>\n",
       "      <td>Spanish</td>\n",
       "    </tr>\n",
       "    <tr>\n",
       "      <th>1</th>\n",
       "      <td>135109</td>\n",
       "      <td>Italian</td>\n",
       "    </tr>\n",
       "    <tr>\n",
       "      <th>2</th>\n",
       "      <td>135107</td>\n",
       "      <td>Latin_American</td>\n",
       "    </tr>\n",
       "    <tr>\n",
       "      <th>3</th>\n",
       "      <td>135106</td>\n",
       "      <td>Mexican</td>\n",
       "    </tr>\n",
       "    <tr>\n",
       "      <th>4</th>\n",
       "      <td>135105</td>\n",
       "      <td>Fast_Food</td>\n",
       "    </tr>\n",
       "    <tr>\n",
       "      <th>...</th>\n",
       "      <td>...</td>\n",
       "      <td>...</td>\n",
       "    </tr>\n",
       "    <tr>\n",
       "      <th>911</th>\n",
       "      <td>132005</td>\n",
       "      <td>Seafood</td>\n",
       "    </tr>\n",
       "    <tr>\n",
       "      <th>912</th>\n",
       "      <td>132004</td>\n",
       "      <td>Seafood</td>\n",
       "    </tr>\n",
       "    <tr>\n",
       "      <th>913</th>\n",
       "      <td>132003</td>\n",
       "      <td>International</td>\n",
       "    </tr>\n",
       "    <tr>\n",
       "      <th>914</th>\n",
       "      <td>132002</td>\n",
       "      <td>Seafood</td>\n",
       "    </tr>\n",
       "    <tr>\n",
       "      <th>915</th>\n",
       "      <td>132001</td>\n",
       "      <td>Dutch-Belgian</td>\n",
       "    </tr>\n",
       "  </tbody>\n",
       "</table>\n",
       "<p>916 rows × 2 columns</p>\n",
       "</div>"
      ],
      "text/plain": [
       "     placeID        Rcuisine\n",
       "0     135110         Spanish\n",
       "1     135109         Italian\n",
       "2     135107  Latin_American\n",
       "3     135106         Mexican\n",
       "4     135105       Fast_Food\n",
       "..       ...             ...\n",
       "911   132005         Seafood\n",
       "912   132004         Seafood\n",
       "913   132003   International\n",
       "914   132002         Seafood\n",
       "915   132001   Dutch-Belgian\n",
       "\n",
       "[916 rows x 2 columns]"
      ]
     },
     "execution_count": 6,
     "metadata": {},
     "output_type": "execute_result"
    }
   ],
   "source": [
    "df = pd.read_csv('chefmozcuisine.csv')\n",
    "df"
   ]
  },
  {
   "cell_type": "code",
   "execution_count": 7,
   "metadata": {},
   "outputs": [
    {
     "name": "stdout",
     "output_type": "stream",
     "text": [
      "['Spanish' 'Italian' 'Latin_American' 'Mexican' 'Fast_Food' 'Burgers'\n",
      " 'Dessert-Ice_Cream' 'Hot_Dogs' 'Steaks' 'Asian' 'International'\n",
      " 'Mongolian' 'Vegetarian' 'Brazilian' 'Cafe-Coffee_Shop' 'Cafeteria'\n",
      " 'Contemporary' 'Deli-Sandwiches' 'Diner' 'Japanese' 'Sushi' 'Seafood'\n",
      " 'Chinese' 'Bar' 'Bar_Pub_Brewery' 'Pizzeria' 'Mediterranean' 'American'\n",
      " 'Family' 'Caribbean' 'African' 'Breakfast-Brunch' 'Regional' 'Afghan'\n",
      " 'Bakery' 'Game' 'Armenian' 'Vietnamese' 'Korean' 'Thai' 'Barbecue'\n",
      " 'Polish' 'Dutch-Belgian' 'French' 'German' 'Southwestern' 'Persian'\n",
      " 'Ethiopian' 'Juice' 'Soup' 'Continental-European' 'Greek' 'Southern'\n",
      " 'Eastern_European' 'California' 'Bagels' 'Turkish' 'Organic-Healthy'\n",
      " 'Fine_Dining']\n"
     ]
    }
   ],
   "source": [
    "print(df['Rcuisine'].unique()) # unique cuisine types"
   ]
  },
  {
   "cell_type": "markdown",
   "metadata": {},
   "source": [
    "# Q.3"
   ]
  },
  {
   "cell_type": "code",
   "execution_count": 8,
   "metadata": {},
   "outputs": [
    {
     "data": {
      "text/html": [
       "<div>\n",
       "<style scoped>\n",
       "    .dataframe tbody tr th:only-of-type {\n",
       "        vertical-align: middle;\n",
       "    }\n",
       "\n",
       "    .dataframe tbody tr th {\n",
       "        vertical-align: top;\n",
       "    }\n",
       "\n",
       "    .dataframe thead th {\n",
       "        text-align: right;\n",
       "    }\n",
       "</style>\n",
       "<table border=\"1\" class=\"dataframe\">\n",
       "  <thead>\n",
       "    <tr style=\"text-align: right;\">\n",
       "      <th></th>\n",
       "      <th>placeID</th>\n",
       "      <th>Rcuisine</th>\n",
       "    </tr>\n",
       "  </thead>\n",
       "  <tbody>\n",
       "    <tr>\n",
       "      <th>95</th>\n",
       "      <td>135020</td>\n",
       "      <td>Bar</td>\n",
       "    </tr>\n",
       "    <tr>\n",
       "      <th>96</th>\n",
       "      <td>135020</td>\n",
       "      <td>Mexican</td>\n",
       "    </tr>\n",
       "    <tr>\n",
       "      <th>100</th>\n",
       "      <td>135007</td>\n",
       "      <td>Bar</td>\n",
       "    </tr>\n",
       "    <tr>\n",
       "      <th>102</th>\n",
       "      <td>135007</td>\n",
       "      <td>Mexican</td>\n",
       "    </tr>\n",
       "    <tr>\n",
       "      <th>257</th>\n",
       "      <td>132867</td>\n",
       "      <td>Bar</td>\n",
       "    </tr>\n",
       "    <tr>\n",
       "      <th>258</th>\n",
       "      <td>132867</td>\n",
       "      <td>Mexican</td>\n",
       "    </tr>\n",
       "  </tbody>\n",
       "</table>\n",
       "</div>"
      ],
      "text/plain": [
       "     placeID Rcuisine\n",
       "95    135020      Bar\n",
       "96    135020  Mexican\n",
       "100   135007      Bar\n",
       "102   135007  Mexican\n",
       "257   132867      Bar\n",
       "258   132867  Mexican"
      ]
     },
     "execution_count": 8,
     "metadata": {},
     "output_type": "execute_result"
    }
   ],
   "source": [
    "d=df[(df['Rcuisine']=='Mexican') | (df['Rcuisine']=='Bar')]\n",
    "k = d.groupby('placeID').filter(lambda x: len(x) > 1)\n",
    "k"
   ]
  },
  {
   "cell_type": "code",
   "execution_count": 9,
   "metadata": {},
   "outputs": [
    {
     "data": {
      "text/plain": [
       "array([135020, 135007, 132867], dtype=int64)"
      ]
     },
     "execution_count": 9,
     "metadata": {},
     "output_type": "execute_result"
    }
   ],
   "source": [
    "k['placeID'].unique() # restaurants placeID that serve both Mexican and bar cuisines."
   ]
  },
  {
   "cell_type": "markdown",
   "metadata": {},
   "source": [
    "# Q.4"
   ]
  },
  {
   "cell_type": "code",
   "execution_count": 10,
   "metadata": {},
   "outputs": [
    {
     "data": {
      "text/plain": [
       "53"
      ]
     },
     "execution_count": 10,
     "metadata": {},
     "output_type": "execute_result"
    }
   ],
   "source": [
    "df = pd.read_csv('chefmozhours4.csv')\n",
    "\n",
    "# count of restaurants that are open either Saturday or Sunday for 24 hours.\n",
    "len(df[(df['hours']=='00:00-00:00;') & ((df['days']=='Sat;') | (df['days']=='Sun;'))]['placeID'].unique())"
   ]
  },
  {
   "cell_type": "markdown",
   "metadata": {},
   "source": [
    "# Q.5"
   ]
  },
  {
   "cell_type": "code",
   "execution_count": 11,
   "metadata": {},
   "outputs": [
    {
     "data": {
      "text/plain": [
       "348"
      ]
     },
     "execution_count": 11,
     "metadata": {},
     "output_type": "execute_result"
    }
   ],
   "source": [
    "df = pd.read_csv('chefmozparking.csv')\n",
    "# count of restaurants that do not provide parking facilities for their customers\n",
    "len(df[df['parking_lot']=='none'])"
   ]
  },
  {
   "cell_type": "markdown",
   "metadata": {},
   "source": [
    "# Q.6"
   ]
  },
  {
   "cell_type": "code",
   "execution_count": 12,
   "metadata": {},
   "outputs": [
    {
     "data": {
      "text/plain": [
       "'Taqueria EL amigo '"
      ]
     },
     "execution_count": 12,
     "metadata": {},
     "output_type": "execute_result"
    }
   ],
   "source": [
    "df = pd.read_csv('geoplaces2.csv')\n",
    "\n",
    "# restaurants that do not server alcohol, that do not provide smoking areas, and that have a casual dress code\n",
    "list(df[(df['alcohol']=='No_Alcohol_Served') & (df['smoking_area']=='none') & (df['dress_code']=='casual')]['name'])[0]"
   ]
  },
  {
   "cell_type": "markdown",
   "metadata": {},
   "source": [
    "# Q.7"
   ]
  },
  {
   "cell_type": "code",
   "execution_count": 13,
   "metadata": {},
   "outputs": [
    {
     "data": {
      "text/plain": [
       "293"
      ]
     },
     "execution_count": 13,
     "metadata": {},
     "output_type": "execute_result"
    }
   ],
   "source": [
    "df = pd.read_csv('rating_final.csv')\n",
    "\n",
    "# count of the best restaurants based on user ratings (rated 2 in all categories)\n",
    "df = df[(df.rating == 2) & (df.food_rating == 2) & (df.service_rating == 2)]\n",
    "len(df)"
   ]
  },
  {
   "cell_type": "markdown",
   "metadata": {},
   "source": [
    "# Q.8"
   ]
  },
  {
   "cell_type": "code",
   "execution_count": 14,
   "metadata": {},
   "outputs": [
    {
     "data": {
      "text/html": [
       "<div>\n",
       "<style scoped>\n",
       "    .dataframe tbody tr th:only-of-type {\n",
       "        vertical-align: middle;\n",
       "    }\n",
       "\n",
       "    .dataframe tbody tr th {\n",
       "        vertical-align: top;\n",
       "    }\n",
       "\n",
       "    .dataframe thead th {\n",
       "        text-align: right;\n",
       "    }\n",
       "</style>\n",
       "<table border=\"1\" class=\"dataframe\">\n",
       "  <thead>\n",
       "    <tr style=\"text-align: right;\">\n",
       "      <th></th>\n",
       "      <th>userID</th>\n",
       "      <th>placeID</th>\n",
       "    </tr>\n",
       "  </thead>\n",
       "  <tbody>\n",
       "  </tbody>\n",
       "</table>\n",
       "</div>"
      ],
      "text/plain": [
       "Empty DataFrame\n",
       "Columns: [userID, placeID]\n",
       "Index: []"
      ]
     },
     "execution_count": 14,
     "metadata": {},
     "output_type": "execute_result"
    }
   ],
   "source": [
    "df = pd.read_csv('rating_final.csv')\n",
    "df[(df.rating == 0)][['userID','placeID']].groupby(['userID','placeID']).filter(lambda x: len(x) > 1)"
   ]
  },
  {
   "cell_type": "markdown",
   "metadata": {},
   "source": [
    "- There is no such user"
   ]
  },
  {
   "cell_type": "markdown",
   "metadata": {},
   "source": [
    "# Q.9"
   ]
  },
  {
   "cell_type": "code",
   "execution_count": 15,
   "metadata": {},
   "outputs": [],
   "source": [
    "df = pd.read_csv('usercuisine.csv')"
   ]
  },
  {
   "cell_type": "code",
   "execution_count": 16,
   "metadata": {},
   "outputs": [
    {
     "data": {
      "text/plain": [
       "{'U1016': ['Cafe-Coffee_Shop',\n",
       "  'Fusion',\n",
       "  'Indian-Pakistani',\n",
       "  'Moroccan',\n",
       "  'American',\n",
       "  'Portuguese',\n",
       "  'Eastern_European',\n",
       "  'Regional',\n",
       "  'Japanese',\n",
       "  'Contemporary',\n",
       "  'Barbecue',\n",
       "  'Polynesian',\n",
       "  'Lebanese',\n",
       "  'Polish'],\n",
       " 'U1060': ['Juice',\n",
       "  'American',\n",
       "  'Tex-Mex',\n",
       "  'Burgers',\n",
       "  'Mexican',\n",
       "  'Cafeteria',\n",
       "  'Fast_Food',\n",
       "  'Soup',\n",
       "  'Hot_Dogs',\n",
       "  'Pizzeria',\n",
       "  'Cafe-Coffee_Shop',\n",
       "  'Spanish',\n",
       "  'Italian'],\n",
       " 'U1101': ['Hot_Dogs',\n",
       "  'Latin_American',\n",
       "  'Diner',\n",
       "  'Contemporary',\n",
       "  'Doughnuts',\n",
       "  'Family',\n",
       "  'Burgers',\n",
       "  'Bar',\n",
       "  'Mexican',\n",
       "  'Italian',\n",
       "  'Chinese',\n",
       "  'Cafeteria',\n",
       "  'Australian',\n",
       "  'Cafe-Coffee_Shop',\n",
       "  'Afghan'],\n",
       " 'U1108': ['Dessert-Ice_Cream',\n",
       "  'Deli-Sandwiches',\n",
       "  'Sushi',\n",
       "  'Cafe-Coffee_Shop',\n",
       "  'Pizzeria',\n",
       "  'Hot_Dogs',\n",
       "  'Seafood',\n",
       "  'Fast_Food',\n",
       "  'Chinese',\n",
       "  'Cafeteria',\n",
       "  'Mexican',\n",
       "  'Family',\n",
       "  'Burgers',\n",
       "  'Latin_American',\n",
       "  'Japanese',\n",
       "  'American',\n",
       "  'Asian',\n",
       "  'Game'],\n",
       " 'U1135': ['Mediterranean',\n",
       "  'Bar_Pub_Brewery',\n",
       "  'Burgers',\n",
       "  'Doughnuts',\n",
       "  'Australian',\n",
       "  'Russian-Ukrainian',\n",
       "  'Austrian',\n",
       "  'Pacific_Rim',\n",
       "  'Cajun-Creole',\n",
       "  'Chilean',\n",
       "  'Korean',\n",
       "  'Tex-Mex',\n",
       "  'Cuban',\n",
       "  'Steaks',\n",
       "  'Tapas',\n",
       "  'Basque',\n",
       "  'Caribbean',\n",
       "  'Hungarian',\n",
       "  'Scandinavian',\n",
       "  'Seafood',\n",
       "  'Cafeteria',\n",
       "  'Malaysian',\n",
       "  'Filipino',\n",
       "  'Juice',\n",
       "  'Vegetarian',\n",
       "  'Diner',\n",
       "  'Lebanese',\n",
       "  'African',\n",
       "  'Israeli',\n",
       "  'Vietnamese',\n",
       "  'Hot_Dogs',\n",
       "  'Burmese',\n",
       "  'Indigenous',\n",
       "  'Bar',\n",
       "  'Mongolian',\n",
       "  'Kosher',\n",
       "  'Contemporary',\n",
       "  'Latin_American',\n",
       "  'Breakfast-Brunch',\n",
       "  'Fusion',\n",
       "  'Deli-Sandwiches',\n",
       "  'Afghan',\n",
       "  'Persian',\n",
       "  'Fine_Dining',\n",
       "  'Jamaican',\n",
       "  'French',\n",
       "  'Soup',\n",
       "  'Fast_Food',\n",
       "  'Chinese',\n",
       "  'Southwestern',\n",
       "  'Organic-Healthy',\n",
       "  'Romanian',\n",
       "  'Indian-Pakistani',\n",
       "  'Pizzeria',\n",
       "  'Thai',\n",
       "  'Dutch-Belgian',\n",
       "  'Peruvian',\n",
       "  'Hawaiian',\n",
       "  'German',\n",
       "  'British',\n",
       "  'Eclectic',\n",
       "  'Bagels',\n",
       "  'Dim_Sum',\n",
       "  'Cafe-Coffee_Shop',\n",
       "  'Polynesian',\n",
       "  'International',\n",
       "  'Continental-European',\n",
       "  'Tunisian',\n",
       "  'Dessert-Ice_Cream',\n",
       "  'Italian',\n",
       "  'Japanese',\n",
       "  'Regional',\n",
       "  'Pacific_Northwest',\n",
       "  'Swiss',\n",
       "  'American',\n",
       "  'Moroccan',\n",
       "  'Tibetan',\n",
       "  'Ethiopian',\n",
       "  'Mexican',\n",
       "  'Polish',\n",
       "  'Portuguese',\n",
       "  'North_African',\n",
       "  'Middle_Eastern',\n",
       "  'Cambodian',\n",
       "  'Southern',\n",
       "  'Asian',\n",
       "  'Irish',\n",
       "  'California',\n",
       "  'Turkish',\n",
       "  'Indonesian',\n",
       "  'Sushi',\n",
       "  'Greek',\n",
       "  'Canadian',\n",
       "  'Barbecue',\n",
       "  'Bakery',\n",
       "  'Eastern_European',\n",
       "  'Brazilian',\n",
       "  'Family',\n",
       "  'Armenian',\n",
       "  'Tea_House',\n",
       "  'Southeast_Asian',\n",
       "  'Game',\n",
       "  'Spanish']}"
      ]
     },
     "execution_count": 16,
     "metadata": {},
     "output_type": "execute_result"
    }
   ],
   "source": [
    "y=df.groupby('userID').filter(lambda x: len(x) >10)\n",
    "# cuisine names for each customer who preferred more than 10 cuisines.\n",
    "y.groupby('userID')['Rcuisine'].apply(lambda grp: list(grp.value_counts().index)).to_dict()"
   ]
  },
  {
   "cell_type": "markdown",
   "metadata": {},
   "source": [
    "# Q.10"
   ]
  },
  {
   "cell_type": "code",
   "execution_count": 17,
   "metadata": {},
   "outputs": [
    {
     "data": {
      "text/plain": [
       "weight    71.269231\n",
       "height     1.726538\n",
       "dtype: float64"
      ]
     },
     "execution_count": 17,
     "metadata": {},
     "output_type": "execute_result"
    }
   ],
   "source": [
    "df = pd.read_csv('userprofile.csv')\n",
    "df1 = df[['smoker','weight','height']]\n",
    "\n",
    "# average weight and height for smokers\n",
    "df1[df1['smoker']=='true'].mean()"
   ]
  },
  {
   "cell_type": "code",
   "execution_count": 18,
   "metadata": {},
   "outputs": [
    {
     "data": {
      "text/plain": [
       "weight    64.027523\n",
       "height     1.666330\n",
       "dtype: float64"
      ]
     },
     "execution_count": 18,
     "metadata": {},
     "output_type": "execute_result"
    }
   ],
   "source": [
    "# average weight and height for nonsmokers\n",
    "df1[df1['smoker']=='false'].mean()"
   ]
  },
  {
   "cell_type": "markdown",
   "metadata": {},
   "source": [
    "# Q.11"
   ]
  },
  {
   "cell_type": "code",
   "execution_count": 19,
   "metadata": {},
   "outputs": [
    {
     "data": {
      "text/html": [
       "<div>\n",
       "<style scoped>\n",
       "    .dataframe tbody tr th:only-of-type {\n",
       "        vertical-align: middle;\n",
       "    }\n",
       "\n",
       "    .dataframe tbody tr th {\n",
       "        vertical-align: top;\n",
       "    }\n",
       "\n",
       "    .dataframe thead th {\n",
       "        text-align: right;\n",
       "    }\n",
       "</style>\n",
       "<table border=\"1\" class=\"dataframe\">\n",
       "  <thead>\n",
       "    <tr style=\"text-align: right;\">\n",
       "      <th></th>\n",
       "      <th>userID</th>\n",
       "      <th>birth_year</th>\n",
       "    </tr>\n",
       "  </thead>\n",
       "  <tbody>\n",
       "    <tr>\n",
       "      <th>23</th>\n",
       "      <td>U1024</td>\n",
       "      <td>1930</td>\n",
       "    </tr>\n",
       "    <tr>\n",
       "      <th>60</th>\n",
       "      <td>U1061</td>\n",
       "      <td>1990</td>\n",
       "    </tr>\n",
       "    <tr>\n",
       "      <th>105</th>\n",
       "      <td>U1106</td>\n",
       "      <td>1930</td>\n",
       "    </tr>\n",
       "    <tr>\n",
       "      <th>133</th>\n",
       "      <td>U1134</td>\n",
       "      <td>1991</td>\n",
       "    </tr>\n",
       "  </tbody>\n",
       "</table>\n",
       "</div>"
      ],
      "text/plain": [
       "    userID  birth_year\n",
       "23   U1024        1930\n",
       "60   U1061        1990\n",
       "105  U1106        1930\n",
       "133  U1134        1991"
      ]
     },
     "execution_count": 19,
     "metadata": {},
     "output_type": "execute_result"
    }
   ],
   "source": [
    "df2 = pd.read_csv('rating_final.csv')\n",
    "df = pd.read_csv('userprofile.csv')\n",
    "indx = list(df2['userID'].value_counts()[:4].index)\n",
    "\n",
    "# birth years for the customers who visited restaurants the most\n",
    "df.loc[df['userID'].isin(indx)][['userID','birth_year']]"
   ]
  },
  {
   "cell_type": "markdown",
   "metadata": {},
   "source": [
    "# Q.12"
   ]
  },
  {
   "cell_type": "code",
   "execution_count": 20,
   "metadata": {},
   "outputs": [],
   "source": [
    "df2 = pd.read_csv('rating_final.csv')\n",
    "dd=df2[df2.rating==2].groupby('placeID')['userID'].count().reset_index()\n",
    "dd = dd.sort_values('userID', ascending=False).reset_index(drop=True)[:9]\n",
    "dd.columns = ['placeID','No of rating']"
   ]
  },
  {
   "cell_type": "code",
   "execution_count": 21,
   "metadata": {},
   "outputs": [
    {
     "data": {
      "text/html": [
       "<div>\n",
       "<style scoped>\n",
       "    .dataframe tbody tr th:only-of-type {\n",
       "        vertical-align: middle;\n",
       "    }\n",
       "\n",
       "    .dataframe tbody tr th {\n",
       "        vertical-align: top;\n",
       "    }\n",
       "\n",
       "    .dataframe thead th {\n",
       "        text-align: right;\n",
       "    }\n",
       "</style>\n",
       "<table border=\"1\" class=\"dataframe\">\n",
       "  <thead>\n",
       "    <tr style=\"text-align: right;\">\n",
       "      <th></th>\n",
       "      <th>placeID</th>\n",
       "      <th>No of rating</th>\n",
       "    </tr>\n",
       "  </thead>\n",
       "  <tbody>\n",
       "    <tr>\n",
       "      <th>0</th>\n",
       "      <td>135085</td>\n",
       "      <td>18</td>\n",
       "    </tr>\n",
       "    <tr>\n",
       "      <th>1</th>\n",
       "      <td>132825</td>\n",
       "      <td>15</td>\n",
       "    </tr>\n",
       "    <tr>\n",
       "      <th>2</th>\n",
       "      <td>135052</td>\n",
       "      <td>14</td>\n",
       "    </tr>\n",
       "    <tr>\n",
       "      <th>3</th>\n",
       "      <td>135032</td>\n",
       "      <td>12</td>\n",
       "    </tr>\n",
       "    <tr>\n",
       "      <th>4</th>\n",
       "      <td>135025</td>\n",
       "      <td>11</td>\n",
       "    </tr>\n",
       "    <tr>\n",
       "      <th>5</th>\n",
       "      <td>135062</td>\n",
       "      <td>10</td>\n",
       "    </tr>\n",
       "    <tr>\n",
       "      <th>6</th>\n",
       "      <td>135075</td>\n",
       "      <td>10</td>\n",
       "    </tr>\n",
       "    <tr>\n",
       "      <th>7</th>\n",
       "      <td>132862</td>\n",
       "      <td>10</td>\n",
       "    </tr>\n",
       "    <tr>\n",
       "      <th>8</th>\n",
       "      <td>135038</td>\n",
       "      <td>10</td>\n",
       "    </tr>\n",
       "  </tbody>\n",
       "</table>\n",
       "</div>"
      ],
      "text/plain": [
       "   placeID  No of rating\n",
       "0   135085            18\n",
       "1   132825            15\n",
       "2   135052            14\n",
       "3   135032            12\n",
       "4   135025            11\n",
       "5   135062            10\n",
       "6   135075            10\n",
       "7   132862            10\n",
       "8   135038            10"
      ]
     },
     "execution_count": 21,
     "metadata": {},
     "output_type": "execute_result"
    }
   ],
   "source": [
    "dd # top 9 restaurants based on the number of high user ratings"
   ]
  },
  {
   "cell_type": "markdown",
   "metadata": {},
   "source": [
    "# Q.13"
   ]
  },
  {
   "cell_type": "code",
   "execution_count": 22,
   "metadata": {},
   "outputs": [],
   "source": [
    "df = pd.read_csv('geoplaces2.csv')\n",
    "t=df['smoking_area'].value_counts()\n",
    "y = list(t) \n",
    "x = list(t.index)"
   ]
  },
  {
   "cell_type": "code",
   "execution_count": 23,
   "metadata": {},
   "outputs": [
    {
     "data": {
      "text/plain": [
       "['none', 'not permitted', 'section', 'permitted', 'only at bar']"
      ]
     },
     "execution_count": 23,
     "metadata": {},
     "output_type": "execute_result"
    }
   ],
   "source": [
    "x"
   ]
  },
  {
   "cell_type": "code",
   "execution_count": 24,
   "metadata": {},
   "outputs": [
    {
     "data": {
      "text/plain": [
       "[70, 25, 24, 9, 2]"
      ]
     },
     "execution_count": 24,
     "metadata": {},
     "output_type": "execute_result"
    }
   ],
   "source": [
    "y"
   ]
  },
  {
   "cell_type": "code",
   "execution_count": 25,
   "metadata": {},
   "outputs": [
    {
     "data": {
      "image/png": "[encoded data removed]",
      "text/plain": [
       "<Figure size 720x504 with 1 Axes>"
      ]
     },
     "metadata": {
      "needs_background": "light"
     },
     "output_type": "display_data"
    }
   ],
   "source": [
    "import pandas as pd\n",
    "from matplotlib import pyplot as plt\n",
    "\n",
    "fig = plt.figure(figsize =(10, 7))\n",
    "plt.title('Bar plot')\n",
    "# Bar Plot\n",
    "plt.bar(x,y,label='smoking_area')\n",
    "plt.xlabel('smoking area')\n",
    "plt.ylabel('Count')\n",
    "plt.legend()\n",
    "\n",
    "# print count on bar chart\n",
    "for index, data in enumerate(list(t)):\n",
    "    plt.text(x=index , y =data+1 , s=f\"{data}\",fontdict=dict(fontsize=15))\n",
    "# Show Plot\n",
    "plt.show()"
   ]
  },
  {
   "cell_type": "markdown",
   "metadata": {},
   "source": [
    "# Q.14"
   ]
  },
  {
   "cell_type": "code",
   "execution_count": 26,
   "metadata": {},
   "outputs": [],
   "source": [
    "df = pd.read_csv('userprofile.csv')\n",
    "g = df['drink_level'].value_counts()\n",
    "x = list(g.index)\n",
    "y = list(g)"
   ]
  },
  {
   "cell_type": "code",
   "execution_count": 27,
   "metadata": {},
   "outputs": [
    {
     "data": {
      "text/plain": [
       "['abstemious', 'casual drinker', 'social drinker']"
      ]
     },
     "execution_count": 27,
     "metadata": {},
     "output_type": "execute_result"
    }
   ],
   "source": [
    "x"
   ]
  },
  {
   "cell_type": "code",
   "execution_count": 28,
   "metadata": {},
   "outputs": [
    {
     "data": {
      "text/plain": [
       "[51, 47, 40]"
      ]
     },
     "execution_count": 28,
     "metadata": {},
     "output_type": "execute_result"
    }
   ],
   "source": [
    "y"
   ]
  },
  {
   "cell_type": "code",
   "execution_count": 29,
   "metadata": {},
   "outputs": [
    {
     "data": {
      "image/png": "[encoded data removed]",
      "text/plain": [
       "<Figure size 432x288 with 1 Axes>"
      ]
     },
     "metadata": {
      "needs_background": "light"
     },
     "output_type": "display_data"
    }
   ],
   "source": [
    "plt.stackplot(x,y)\n",
    "plt.xlabel('Drinking levels')\n",
    "plt.ylabel('Count')\n",
    "  \n",
    "plt.title('Stackplot')\n",
    "plt.legend(labels='Drinking levels')\n",
    "\n",
    "for index, data in enumerate(y):\n",
    "    plt.text(x=index , y =data+1 , s=f\"{data}\",fontdict=dict(fontsize=10))\n",
    "\n",
    "plt.show()"
   ]
  },
  {
   "cell_type": "markdown",
   "metadata": {},
   "source": [
    "# Q.15"
   ]
  },
  {
   "cell_type": "code",
   "execution_count": 30,
   "metadata": {},
   "outputs": [
    {
     "data": {
      "text/html": [
       "<div>\n",
       "<style scoped>\n",
       "    .dataframe tbody tr th:only-of-type {\n",
       "        vertical-align: middle;\n",
       "    }\n",
       "\n",
       "    .dataframe tbody tr th {\n",
       "        vertical-align: top;\n",
       "    }\n",
       "\n",
       "    .dataframe thead tr th {\n",
       "        text-align: left;\n",
       "    }\n",
       "\n",
       "    .dataframe thead tr:last-of-type th {\n",
       "        text-align: right;\n",
       "    }\n",
       "</style>\n",
       "<table border=\"1\" class=\"dataframe\">\n",
       "  <thead>\n",
       "    <tr>\n",
       "      <th></th>\n",
       "      <th colspan=\"3\" halign=\"left\">rating</th>\n",
       "    </tr>\n",
       "    <tr>\n",
       "      <th></th>\n",
       "      <th>min</th>\n",
       "      <th>max</th>\n",
       "      <th>mean</th>\n",
       "    </tr>\n",
       "    <tr>\n",
       "      <th>color</th>\n",
       "      <th></th>\n",
       "      <th></th>\n",
       "      <th></th>\n",
       "    </tr>\n",
       "  </thead>\n",
       "  <tbody>\n",
       "    <tr>\n",
       "      <th>black</th>\n",
       "      <td>0</td>\n",
       "      <td>2</td>\n",
       "      <td>1.226190</td>\n",
       "    </tr>\n",
       "    <tr>\n",
       "      <th>blue</th>\n",
       "      <td>0</td>\n",
       "      <td>2</td>\n",
       "      <td>1.358586</td>\n",
       "    </tr>\n",
       "    <tr>\n",
       "      <th>green</th>\n",
       "      <td>0</td>\n",
       "      <td>2</td>\n",
       "      <td>1.077922</td>\n",
       "    </tr>\n",
       "    <tr>\n",
       "      <th>orange</th>\n",
       "      <td>0</td>\n",
       "      <td>2</td>\n",
       "      <td>1.222222</td>\n",
       "    </tr>\n",
       "    <tr>\n",
       "      <th>purple</th>\n",
       "      <td>0</td>\n",
       "      <td>2</td>\n",
       "      <td>0.780220</td>\n",
       "    </tr>\n",
       "    <tr>\n",
       "      <th>red</th>\n",
       "      <td>0</td>\n",
       "      <td>2</td>\n",
       "      <td>1.338983</td>\n",
       "    </tr>\n",
       "    <tr>\n",
       "      <th>white</th>\n",
       "      <td>0</td>\n",
       "      <td>2</td>\n",
       "      <td>1.029703</td>\n",
       "    </tr>\n",
       "    <tr>\n",
       "      <th>yellow</th>\n",
       "      <td>0</td>\n",
       "      <td>2</td>\n",
       "      <td>1.103774</td>\n",
       "    </tr>\n",
       "  </tbody>\n",
       "</table>\n",
       "</div>"
      ],
      "text/plain": [
       "       rating              \n",
       "          min max      mean\n",
       "color                      \n",
       "black       0   2  1.226190\n",
       "blue        0   2  1.358586\n",
       "green       0   2  1.077922\n",
       "orange      0   2  1.222222\n",
       "purple      0   2  0.780220\n",
       "red         0   2  1.338983\n",
       "white       0   2  1.029703\n",
       "yellow      0   2  1.103774"
      ]
     },
     "execution_count": 30,
     "metadata": {},
     "output_type": "execute_result"
    }
   ],
   "source": [
    "df = pd.read_csv('userprofile.csv')\n",
    "df1 = df[df.birth_year>1900] # user born after 1900 \n",
    "df2 = pd.read_csv('rating_final.csv')\n",
    "ff=pd.merge(df1,df2, how='inner', on=['userID'])[['userID','rating','color']]\n",
    "data = ff.groupby('color').agg(['min', 'max','mean'])\n",
    "data"
   ]
  },
  {
   "cell_type": "code",
   "execution_count": 31,
   "metadata": {},
   "outputs": [
    {
     "data": {
      "image/png": "[encoded data removed]",
      "text/plain": [
       "<Figure size 432x288 with 1 Axes>"
      ]
     },
     "metadata": {
      "needs_background": "light"
     },
     "output_type": "display_data"
    }
   ],
   "source": [
    "data.plot()\n",
    "plt.show()"
   ]
  },
  {
   "cell_type": "code",
   "execution_count": null,
   "metadata": {},
   "outputs": [],
   "source": []
  }
 ],
 "metadata": {
  "kernelspec": {
   "display_name": "Python 3",
   "language": "python",
   "name": "python3"
  },
  "language_info": {
   "codemirror_mode": {
    "name": "ipython",
    "version": 3
   },
   "file_extension": ".py",
   "mimetype": "text/x-python",
   "name": "python",
   "nbconvert_exporter": "python",
   "pygments_lexer": "ipython3",
   "version": "3.8.5"
  }
 },
 "nbformat": 4,
 "nbformat_minor": 4
}
