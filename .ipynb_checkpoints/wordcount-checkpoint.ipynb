{
 "cells": [
  {
   "cell_type": "code",
   "execution_count": 1,
   "metadata": {},
   "outputs": [
    {
     "name": "stdout",
     "output_type": "stream",
     "text": [
      "Enter a phrase: i am what i am and thats all that i am\n"
     ]
    }
   ],
   "source": [
    "# get the input\n",
    "phrase = input('Enter a phrase: ')\n",
    "\n",
    "# list to hold unique words\n",
    "unique_words = []\n",
    "\n",
    "# list to hold unique words and its count\n",
    "unique_words_and_count = []\n",
    "\n",
    "# split the phrase to get list of words\n",
    "wordlist = phrase.split()\n",
    "\n",
    "# iterate through the wordlist\n",
    "for aword in wordlist:\n",
    "    \n",
    "    # if aword is not in unique_words\n",
    "    # then store it in unique_words\n",
    "    if aword not in unique_words:\n",
    "        unique_words.append(aword)\n",
    "        \n",
    "        # get the count of aword\n",
    "        count = wordlist.count(aword)\n",
    "        \n",
    "        # store word and its count\n",
    "        unique_words_and_count.append((aword,count))"
   ]
  },
  {
   "cell_type": "code",
   "execution_count": 2,
   "metadata": {},
   "outputs": [
    {
     "data": {
      "text/plain": [
       "[('i', 3),\n",
       " ('am', 3),\n",
       " ('what', 1),\n",
       " ('and', 1),\n",
       " ('thats', 1),\n",
       " ('all', 1),\n",
       " ('that', 1)]"
      ]
     },
     "execution_count": 2,
     "metadata": {},
     "output_type": "execute_result"
    }
   ],
   "source": [
    "unique_words_and_count"
   ]
  },
  {
   "cell_type": "code",
   "execution_count": 3,
   "metadata": {},
   "outputs": [
    {
     "name": "stdout",
     "output_type": "stream",
     "text": [
      "i\t3\n",
      "am\t3\n",
      "what\t1\n",
      "and\t1\n",
      "thats\t1\n",
      "all\t1\n",
      "that\t1\n"
     ]
    }
   ],
   "source": [
    "# print the result\n",
    "for aword,count in unique_words_and_count:\n",
    "    print(aword,count,sep='\\t')"
   ]
  },
  {
   "cell_type": "code",
   "execution_count": null,
   "metadata": {},
   "outputs": [],
   "source": []
  }
 ],
 "metadata": {
  "kernelspec": {
   "display_name": "Python 3",
   "language": "python",
   "name": "python3"
  },
  "language_info": {
   "codemirror_mode": {
    "name": "ipython",
    "version": 3
   },
   "file_extension": ".py",
   "mimetype": "text/x-python",
   "name": "python",
   "nbconvert_exporter": "python",
   "pygments_lexer": "ipython3",
   "version": "3.8.5"
  }
 },
 "nbformat": 4,
 "nbformat_minor": 4
}
