{
 "cells": [
  {
   "cell_type": "code",
   "execution_count": 1,
   "metadata": {},
   "outputs": [
    {
     "data": {
      "text/plain": [
       "(('Mominul', 1101),\n",
       " ('Mustafiz', 1202),\n",
       " ('Bell', 2101),\n",
       " ('Cook', 2103),\n",
       " ('Smith', 3101),\n",
       " ('Finch', 3102),\n",
       " ('Starc', 3203),\n",
       " ('Imrul', 1103),\n",
       " ('Taijul', 1204))"
      ]
     },
     "execution_count": 1,
     "metadata": {},
     "output_type": "execute_result"
    }
   ],
   "source": [
    "# define my_tuple\n",
    "my_tuple = ((\"Mominul\", 1101),(\"Mustafiz\", 1202),(\"Bell\", 2101),(\"Cook\", 2103),\n",
    "            (\"Smith\", 3101),(\"Finch\", 3102),(\"Starc\", 3203), (\"Imrul\", 1103),(\"Taijul\", 1204))\n",
    "\n",
    "# display the tuple\n",
    "my_tuple"
   ]
  },
  {
   "cell_type": "code",
   "execution_count": 2,
   "metadata": {},
   "outputs": [
    {
     "data": {
      "text/plain": [
       "{'Bangladesh': {'Batters': ('Mominul', 'Imrul'),\n",
       "  'Bowlers': ('Mustafiz', 'Taijul')},\n",
       " 'England': {'Batters': ('Bell', 'Cook')},\n",
       " 'Australia': {'Batters': ('Smith', 'Finch'), 'Bowlers': 'Starc'}}"
      ]
     },
     "execution_count": 2,
     "metadata": {},
     "output_type": "execute_result"
    }
   ],
   "source": [
    "# dictionary to store all the details\n",
    "my_dict={}\n",
    "\n",
    "# country code and name\n",
    "country = {'1':'Bangladesh','2':'England','3':'Australia'}\n",
    "\n",
    "# player type code representation.\n",
    "player_type = {'1':'Batters', '2' :'Bowlers'}\n",
    "\n",
    "\n",
    "# loop through my_tuple\n",
    "\n",
    "for myname, myid in my_tuple:\n",
    "    \n",
    "    # make the myid, in string form\n",
    "    myid = str(myid)\n",
    "    \n",
    "    # get the country name\n",
    "    p_country = country[myid[0]]\n",
    "    \n",
    "    # get the player type\n",
    "    p_type = player_type[myid[1]]\n",
    "    \n",
    "    # populate the dictionary my_dict with value in list form\n",
    "    if p_country in my_dict:\n",
    "        if p_type in my_dict[p_country]:\n",
    "             my_dict[p_country][p_type].append(myname)\n",
    "        else:\n",
    "            my_dict[p_country][p_type] = [myname]\n",
    "    else:\n",
    "        my_dict[p_country] = {}\n",
    "        my_dict[p_country][p_type] = [myname]\n",
    "        \n",
    "# convert dictionary list value to tuple form.\n",
    "for country_name in my_dict:\n",
    "    for playertype in my_dict[country_name]:\n",
    "        if len(my_dict[country_name][playertype])>1:\n",
    "            my_dict[country_name][playertype] = tuple(my_dict[country_name][playertype])\n",
    "        else:\n",
    "            my_dict[country_name][playertype] = my_dict[country_name][playertype][0]\n",
    "            \n",
    "my_dict"
   ]
  },
  {
   "cell_type": "code",
   "execution_count": 3,
   "metadata": {},
   "outputs": [
    {
     "name": "stdout",
     "output_type": "stream",
     "text": [
      "{'Bangladesh': {'Batters': ('Mominul', 'Imrul'), 'Bowlers': ('Mustafiz', 'Taijul')}, 'England': {'Batters': ('Bell', 'Cook')}, 'Australia': {'Batters': ('Smith', 'Finch'), 'Bowlers': 'Starc'}}\n"
     ]
    }
   ],
   "source": [
    "print(my_dict)"
   ]
  },
  {
   "cell_type": "code",
   "execution_count": null,
   "metadata": {},
   "outputs": [],
   "source": []
  }
 ],
 "metadata": {
  "kernelspec": {
   "display_name": "Python 3",
   "language": "python",
   "name": "python3"
  },
  "language_info": {
   "codemirror_mode": {
    "name": "ipython",
    "version": 3
   },
   "file_extension": ".py",
   "mimetype": "text/x-python",
   "name": "python",
   "nbconvert_exporter": "python",
   "pygments_lexer": "ipython3",
   "version": "3.8.5"
  }
 },
 "nbformat": 4,
 "nbformat_minor": 4
}
