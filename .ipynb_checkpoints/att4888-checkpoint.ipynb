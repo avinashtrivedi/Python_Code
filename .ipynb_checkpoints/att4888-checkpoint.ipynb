{
 "cells": [
  {
   "cell_type": "code",
   "execution_count": 1,
   "metadata": {},
   "outputs": [],
   "source": [
    "import numpy as np\n",
    "from scipy.cluster import vq\n",
    "import matplotlib\n",
    "import matplotlib.pyplot as plt\n",
    "import warnings\n",
    "warnings.filterwarnings('ignore')"
   ]
  },
  {
   "cell_type": "code",
   "execution_count": 2,
   "metadata": {},
   "outputs": [],
   "source": [
    "def loadFromTSP(filename):\n",
    "    \"\"\" Inputs the TSP file named by filename, and returns a (nbrPoints,2)\n",
    "    numpy array of the data points.\"\"\"\n",
    "    data=open(filename, 'r')\n",
    "    data=data.readlines()[6:-1]\n",
    "    final_data=[]\n",
    "    for line in data:\n",
    "        line=line.replace('\\n','')\n",
    "        line=line.split(\" \")\n",
    "        final_data.append([float(line[1]), float(line[2])])\n",
    "    return np.array(final_data)"
   ]
  },
  {
   "cell_type": "code",
   "execution_count": 3,
   "metadata": {},
   "outputs": [],
   "source": [
    "def avgWithinSS(data,centroids,labels):\n",
    "    k = len(centroids)\n",
    "    res = 0.0\n",
    "    for c in range(k):\n",
    "        flags = labels == c\n",
    "        pointsInC = data[flags]\n",
    "        def d2(p):\n",
    "            delta = p - centroids[c]\n",
    "            return sum(delta*delta)\n",
    "        dists = np.apply_along_axis(d2,axis=1,arr=pointsInC)\n",
    "        res += sum(dists)/len(pointsInC)\n",
    "    return res/k"
   ]
  },
  {
   "cell_type": "code",
   "execution_count": 4,
   "metadata": {},
   "outputs": [],
   "source": [
    "data = loadFromTSP('data/att48.tsp')  "
   ]
  },
  {
   "cell_type": "code",
   "execution_count": 5,
   "metadata": {},
   "outputs": [],
   "source": [
    "def plotMultipleRuns(data, k, bins=20, nbrRuns=200, **kwargs):\n",
    "    x=[]\n",
    "    \n",
    "    # Running the kmeans2, nbrRuns number of times.\n",
    "    # call avgWithinSS() with the centroids and labels received from kmeans2\n",
    "    # and store the values in x\n",
    "    for i in range(nbrRuns):\n",
    "        \n",
    "        # try-except block is used here to handle cases of No cluster.\n",
    "        try:  \n",
    "            centroids, labels = vq.kmeans2(data, k, minit='points',missing='warn')\n",
    "            x.append(avgWithinSS(data,centroids,labels))\n",
    "        except:\n",
    "            pass\n",
    "    \n",
    "    # set the figure size.\n",
    "    plt.figure(figsize=(9,7))\n",
    "    \n",
    "    # set the color\n",
    "    if 'facecolor' in kwargs:\n",
    "        hist_color = kwargs['facecolor']\n",
    "    else:\n",
    "        hist_color = None\n",
    "    \n",
    "    # plot histogram \n",
    "    plt.hist(x,bins=bins, histtype='bar', ec='black',color=hist_color)\n",
    "    \n",
    "    # show the graph.\n",
    "    plt.show()"
   ]
  },
  {
   "cell_type": "code",
   "execution_count": 6,
   "metadata": {},
   "outputs": [
    {
     "data": {
      "image/png": "[encoded data removed]",
      "text/plain": [
       "<Figure size 648x504 with 1 Axes>"
      ]
     },
     "metadata": {
      "needs_background": "light"
     },
     "output_type": "display_data"
    }
   ],
   "source": [
    "# Every run of Kmeans choose different centroid, Hence the data\n",
    "# within a cluster will also be different and hence avgWithinSS() will return different set of values\n",
    "# in every run.Therefore histogram will change everytime you run the code.\n",
    "plotMultipleRuns(data, 8, 40, 2000,facecolor='green')"
   ]
  },
  {
   "cell_type": "code",
   "execution_count": null,
   "metadata": {},
   "outputs": [],
   "source": []
  }
 ],
 "metadata": {
  "kernelspec": {
   "display_name": "Python 3",
   "language": "python",
   "name": "python3"
  },
  "language_info": {
   "codemirror_mode": {
    "name": "ipython",
    "version": 3
   },
   "file_extension": ".py",
   "mimetype": "text/x-python",
   "name": "python",
   "nbconvert_exporter": "python",
   "pygments_lexer": "ipython3",
   "version": "3.8.5"
  }
 },
 "nbformat": 4,
 "nbformat_minor": 4
}
