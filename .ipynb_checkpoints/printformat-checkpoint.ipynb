{
 "cells": [
  {
   "cell_type": "code",
   "execution_count": 1,
   "metadata": {},
   "outputs": [
    {
     "name": "stdout",
     "output_type": "stream",
     "text": [
      "Make         Model          Unit_solds   Starting_price\n",
      "--------------------------------------------------------\n",
      "Chevrolet    Silverado         586,675       $28,595.00\n",
      "Chevrolet    Equinox           270,994       $25,000.00\n",
      "Ford         F-Series          787,422       $30,635.00\n",
      "GMC          Sierra            253,016       $29,695.00\n",
      "Honda        CR-V              333,502       $26,525.00\n",
      "Honda        Civic             261,225       $22,000.00\n",
      "Lamborghini  Huracan             1,095      $208,571.00\n",
      "Toyata       RAV4              430,387       $27,325.00\n",
      "Toyata       Camry             294,348       $25,965.00\n"
     ]
    }
   ],
   "source": [
    "# store the data into lists\n",
    "Make = ['Chevrolet','Chevrolet','Ford','GMC','Honda','Honda','Lamborghini','Toyata','Toyata']\n",
    "\n",
    "Model = ['Silverado','Equinox','F-Series','Sierra','CR-V','Civic','Huracan','RAV4','Camry']\n",
    "\n",
    "Unit_solds = [586675,270994,787422,253016,333502,261225,1095,430387,294348]\n",
    "\n",
    "Starting_price = [28595,25000,30635,29695,26525,22000,208571,27325,25965]\n",
    "\n",
    "# print the header\n",
    "print(\"{:<12} {:<12} {:>12} {:>16}\".format('Make','Model','Unit_solds','Starting_price'))\n",
    "\n",
    "# print '-' 56 times for better formatting\n",
    "print('-'*56)\n",
    "\n",
    "# print the data\n",
    "# < represents left align\n",
    "# > represents right align\n",
    "# , is used to put comma at thousand places. \n",
    "# 12 or 16 is the number of spaces allotted to print the particular data\n",
    "\n",
    "for i in range(len(Make)):\n",
    "    print(\"{:<12} {:<12} {:>12,} {:>16}\".format(Make[i],Model[i],Unit_solds[i],\"${:,.2f}\".format(Starting_price[i])))"
   ]
  },
  {
   "cell_type": "markdown",
   "metadata": {},
   "source": [
    "# concept"
   ]
  },
  {
   "cell_type": "code",
   "execution_count": 2,
   "metadata": {},
   "outputs": [
    {
     "data": {
      "text/plain": [
       "'1,241,452'"
      ]
     },
     "execution_count": 2,
     "metadata": {},
     "output_type": "execute_result"
    }
   ],
   "source": [
    "# add comma at thousand position\n",
    "\"{:,}\".format(1241452)"
   ]
  },
  {
   "cell_type": "code",
   "execution_count": 3,
   "metadata": {},
   "outputs": [
    {
     "data": {
      "text/plain": [
       "'1241452.00'"
      ]
     },
     "execution_count": 3,
     "metadata": {},
     "output_type": "execute_result"
    }
   ],
   "source": [
    "# two values after decimal\n",
    "\"{:.2f}\".format(1241452)"
   ]
  },
  {
   "cell_type": "code",
   "execution_count": 4,
   "metadata": {},
   "outputs": [
    {
     "data": {
      "text/plain": [
       "'1,241,452.00'"
      ]
     },
     "execution_count": 4,
     "metadata": {},
     "output_type": "execute_result"
    }
   ],
   "source": [
    "# combine above two concept\n",
    "# get comma and two values after decimal \n",
    "\"{:,.2f}\".format(1241452)"
   ]
  },
  {
   "cell_type": "code",
   "execution_count": 5,
   "metadata": {},
   "outputs": [
    {
     "data": {
      "text/plain": [
       "'$1,241,452.00'"
      ]
     },
     "execution_count": 5,
     "metadata": {},
     "output_type": "execute_result"
    }
   ],
   "source": [
    "# get Dollar,comma and two values after decimal  \n",
    "\"${:,.2f}\".format(1241452)"
   ]
  },
  {
   "cell_type": "code",
   "execution_count": null,
   "metadata": {},
   "outputs": [],
   "source": []
  }
 ],
 "metadata": {
  "kernelspec": {
   "display_name": "Python 3",
   "language": "python",
   "name": "python3"
  },
  "language_info": {
   "codemirror_mode": {
    "name": "ipython",
    "version": 3
   },
   "file_extension": ".py",
   "mimetype": "text/x-python",
   "name": "python",
   "nbconvert_exporter": "python",
   "pygments_lexer": "ipython3",
   "version": "3.8.5"
  }
 },
 "nbformat": 4,
 "nbformat_minor": 4
}
