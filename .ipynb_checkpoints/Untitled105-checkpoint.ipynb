{
 "cells": [
  {
   "cell_type": "code",
   "execution_count": 50,
   "metadata": {},
   "outputs": [
    {
     "name": "stdout",
     "output_type": "stream",
     "text": [
      "Please,input the values in the temp array:\n",
      "33 28 27\n",
      "44 29 23\n",
      "22 15 21\n",
      "\n",
      "Average of row #1 29.33\n",
      "Average of row #2 32.0\n",
      "\n",
      "Sum of column #3: 71\n",
      "\n",
      "Min of the main diagonal: 21\n",
      "\n",
      "Sum of Secondary diagonal: 78\n",
      "Max number of the secondary diagonal: 29\n"
     ]
    }
   ],
   "source": [
    "# import library\n",
    "import numpy as np\n",
    "\n",
    "# create empty list\n",
    "myarr = []\n",
    "print('Please,input the values in the temp array:')\n",
    "\n",
    "# get the inputs from user\n",
    "# and create a temp array/Matrix\n",
    "try: # try except block to handle exceptions.\n",
    "    for i in range(3):\n",
    "        x = input()\n",
    "        x = [int(i) for i in x.split(' ')]\n",
    "        myarr.append(x)\n",
    "    temp = np.array(myarr)\n",
    "except:\n",
    "    print('Wrong input.')\n",
    "\n",
    "# print the desired results.\n",
    "print('\\nAverage of row #1',round(temp[0].mean(),2))\n",
    "print('Average of row #2',round(temp[1].mean(),2))\n",
    "print('\\nSum of column #3:',temp[:,2].sum())\n",
    "print('\\nMin of the main diagonal:',temp.diagonal().min())\n",
    "newarr = temp[::-1] # flipping the array top to bottom\n",
    "print('\\nSum of Secondary diagonal:',newarr.diagonal().sum())\n",
    "print('Max number of the secondary diagonal:',newarr.diagonal().max())"
   ]
  },
  {
   "cell_type": "code",
   "execution_count": 1,
   "metadata": {},
   "outputs": [
    {
     "ename": "ModuleNotFoundError",
     "evalue": "No module named 'pybgpstream'",
     "output_type": "error",
     "traceback": [
      "\u001b[1;31m---------------------------------------------------------------------------\u001b[0m",
      "\u001b[1;31mModuleNotFoundError\u001b[0m                       Traceback (most recent call last)",
      "\u001b[1;32m<ipython-input-1-bf5e89d6610c>\u001b[0m in \u001b[0;36m<module>\u001b[1;34m\u001b[0m\n\u001b[1;32m----> 1\u001b[1;33m \u001b[1;32mimport\u001b[0m \u001b[0mpybgpstream\u001b[0m\u001b[1;33m\u001b[0m\u001b[1;33m\u001b[0m\u001b[0m\n\u001b[0m\u001b[0;32m      2\u001b[0m \u001b[1;33m\u001b[0m\u001b[0m\n\u001b[0;32m      3\u001b[0m \u001b[1;32mfrom\u001b[0m \u001b[0mmatplotlib\u001b[0m \u001b[1;32mimport\u001b[0m \u001b[0mpyplot\u001b[0m \u001b[1;32mas\u001b[0m \u001b[0mplt\u001b[0m\u001b[1;33m\u001b[0m\u001b[1;33m\u001b[0m\u001b[0m\n\u001b[0;32m      4\u001b[0m \u001b[1;33m\u001b[0m\u001b[0m\n\u001b[0;32m      5\u001b[0m \u001b[1;32mimport\u001b[0m \u001b[0mglob\u001b[0m\u001b[1;33m\u001b[0m\u001b[1;33m\u001b[0m\u001b[0m\n",
      "\u001b[1;31mModuleNotFoundError\u001b[0m: No module named 'pybgpstream'"
     ]
    }
   ],
   "source": [
    "import pybgpstream\n",
    "\n",
    "from matplotlib import pyplot as plt\n",
    "\n",
    "import glob\n",
    "\n",
    "\n",
    "\n",
    "glob_list = glob.glob(\"/usr/local/share/jupyter/cache_files/rib_files/*\", recursive=False)\n",
    "\n",
    "unique_prefix_list = []\n",
    "\n",
    "file_time = []\n",
    "\n",
    "for file in glob_list:\n",
    "\n",
    "    prefix_lens = []\n",
    "\n",
    "    stream = pybgpstream.BGPStream(data_interface=\"singlefile\", filter=\"ipversion 4\")\n",
    "\n",
    "    stream.set_data_interface_option(\"singlefile\", \"rib-file\", file)\n",
    "\n",
    "    for rec in stream.records():\n",
    "\n",
    "        prefix_len = []\n",
    "\n",
    "        for elem in rec:\n",
    "\n",
    "            # Get the prefix\n",
    "\n",
    "            prefix_len.append(elem.fields[\"prefix\"])\n",
    "\n",
    "            # Get the time\n",
    "\n",
    "            file_time.append(elem.record.time)\n",
    "\n",
    "            # Get the list of ASes in the AS path\n",
    "\n",
    "            ases = elem.fields[\"as-path\"].split(\" \")\n",
    "\n",
    "        #prefix_count = len(set(prefix_len)) \n",
    "\n",
    "        #prefix_len.append(prefix_count)\n",
    "\n",
    "    unique_prefix_list.append(len(set(prefix_len)))\n",
    "\n",
    "    print(len(set(prefix_len)))\n",
    "\n",
    "print(unique_prefix_list)\n",
    "\n",
    "#fig, ax = plt.subplots()\n",
    "\n",
    "#ax.plot(file_time, unique_prefix_list)\n",
    "\n",
    "#ax.set_xlabel('time') # Add an x-label to the axes.\n",
    "\n",
    "#ax.set_ylabel('unique prefixes') # Add a y-label to the axes.\n",
    "\n",
    "#ax.set_title(\"unique_prefixes\")"
   ]
  },
  {
   "cell_type": "code",
   "execution_count": null,
   "metadata": {},
   "outputs": [],
   "source": []
  }
 ],
 "metadata": {
  "kernelspec": {
   "display_name": "Python 3",
   "language": "python",
   "name": "python3"
  },
  "language_info": {
   "codemirror_mode": {
    "name": "ipython",
    "version": 3
   },
   "file_extension": ".py",
   "mimetype": "text/x-python",
   "name": "python",
   "nbconvert_exporter": "python",
   "pygments_lexer": "ipython3",
   "version": "3.8.5"
  }
 },
 "nbformat": 4,
 "nbformat_minor": 4
}
