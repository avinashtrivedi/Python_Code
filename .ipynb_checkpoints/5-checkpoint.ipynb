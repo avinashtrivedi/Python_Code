{
 "cells": [
  {
   "cell_type": "markdown",
   "metadata": {},
   "source": [
    "# Question 1: Rename the Jupyter notebok file as suggested in the question"
   ]
  },
  {
   "cell_type": "markdown",
   "metadata": {},
   "source": [
    "# Hence starting with Question-2"
   ]
  },
  {
   "cell_type": "markdown",
   "metadata": {},
   "source": [
    "<p style=\"background-color:yellow;\">a) Print the Sum of all even integers from 1 to 200</p>"
   ]
  },
  {
   "cell_type": "code",
   "execution_count": 1,
   "metadata": {},
   "outputs": [],
   "source": [
    "#strategy: 1) find all even number between 1 to 200   2) Add all of those even integers  \n",
    "EvenSum = 0 # total sum will be zero in the beginning,we will keep adding even numbers one by one.\n",
    "for i in range(1,201): # loop will run from 1 to 200\n",
    "    if i%2==0: # check if i is even\n",
    "        EvenSum = EvenSum + i # add even numbers to EvenSum one by one\n",
    "print(EvenSum)"
   ]
  },
  {
   "cell_type": "markdown",
   "metadata": {},
   "source": [
    "<p style=\"background-color:yellow;\">b) Print the Sum of all odd integers from 1 to 200 </p>"
   ]
  },
  {
   "cell_type": "code",
   "execution_count": 2,
   "metadata": {},
   "outputs": [
    {
     "name": "stdout",
     "output_type": "stream",
     "text": [
      "10000\n"
     ]
    }
   ],
   "source": [
    "#strategy: 1) find all odd number between 1 to 200   2) Add all of those odd integers  \n",
    "EvenSum = 0 # total sum will be zero in the beginning,we will keep adding odd numbers one by one.\n",
    "for i in range(1,201): # loop will run from 1 to 200\n",
    "    if i%2==1: # check if i is odd\n",
    "        EvenSum = EvenSum + i # add odd numbers to EvenSum one by one\n",
    "print(EvenSum)"
   ]
  },
  {
   "cell_type": "markdown",
   "metadata": {},
   "source": [
    "<p style=\"background-color:yellow;\">c) Print the Sum of all integers being multiple of 3 from 1 to 200 </p>"
   ]
  },
  {
   "cell_type": "code",
   "execution_count": 3,
   "metadata": {},
   "outputs": [
    {
     "data": {
      "text/plain": [
       "1"
      ]
     },
     "execution_count": 3,
     "metadata": {},
     "output_type": "execute_result"
    }
   ],
   "source": [
    "1%3 # basic concept"
   ]
  },
  {
   "cell_type": "code",
   "execution_count": 4,
   "metadata": {},
   "outputs": [
    {
     "data": {
      "text/plain": [
       "2"
      ]
     },
     "execution_count": 4,
     "metadata": {},
     "output_type": "execute_result"
    }
   ],
   "source": [
    "2%3 # basic concept"
   ]
  },
  {
   "cell_type": "code",
   "execution_count": 5,
   "metadata": {},
   "outputs": [
    {
     "data": {
      "text/plain": [
       "0"
      ]
     },
     "execution_count": 5,
     "metadata": {},
     "output_type": "execute_result"
    }
   ],
   "source": [
    "3%3 # basic concept"
   ]
  },
  {
   "cell_type": "code",
   "execution_count": 6,
   "metadata": {},
   "outputs": [
    {
     "name": "stdout",
     "output_type": "stream",
     "text": [
      "6633\n"
     ]
    }
   ],
   "source": [
    "#strategy: 1) find all numbers multiple of three, between 1 to 200   2) Add all of those numbers  \n",
    "EvenSum = 0 # total sum will be zero in the beginning,we will keep adding numbers one by one.\n",
    "for i in range(1,201): # loop will run from 1 to 200\n",
    "    if i%3==0: # check if i is multiple of 3\n",
    "        EvenSum = EvenSum + i # add numbers to EvenSum one by one\n",
    "print(EvenSum)"
   ]
  },
  {
   "cell_type": "markdown",
   "metadata": {},
   "source": [
    "# Question 3"
   ]
  },
  {
   "cell_type": "markdown",
   "metadata": {},
   "source": [
    "<p style=\"background-color:yellow;\">a) Create a two dimentional 3x4  randomized integer array A ranging from 0-10 and Print A </p>"
   ]
  },
  {
   "cell_type": "code",
   "execution_count": 7,
   "metadata": {},
   "outputs": [],
   "source": [
    "# pip install numpy\n",
    "# this library is used for n-dimentional array (matrix) operation in python\n",
    "import numpy as np "
   ]
  },
  {
   "cell_type": "code",
   "execution_count": 8,
   "metadata": {},
   "outputs": [
    {
     "data": {
      "text/plain": [
       "array([[7.21063714, 5.871901  , 1.95667389, 3.63084221],\n",
       "       [5.87306804, 2.53573953, 9.09867585, 7.20940037],\n",
       "       [4.14574618, 9.19041008, 1.44615432, 6.44218046]])"
      ]
     },
     "execution_count": 8,
     "metadata": {},
     "output_type": "execute_result"
    }
   ],
   "source": [
    "# Method-1\n",
    "np.random.rand(3,4)*10 #creating a random 3x4 matrix with values between 0-10"
   ]
  },
  {
   "cell_type": "code",
   "execution_count": 9,
   "metadata": {},
   "outputs": [],
   "source": [
    "# Method-2\n",
    "A = np.random.randint(0,10,(3,4)) #creating a random 3x4 matrix with values between 0-10"
   ]
  },
  {
   "cell_type": "code",
   "execution_count": 10,
   "metadata": {},
   "outputs": [
    {
     "data": {
      "text/plain": [
       "array([[2, 6, 5, 3],\n",
       "       [9, 5, 2, 8],\n",
       "       [2, 5, 5, 3]])"
      ]
     },
     "execution_count": 10,
     "metadata": {},
     "output_type": "execute_result"
    }
   ],
   "source": [
    "A"
   ]
  },
  {
   "cell_type": "markdown",
   "metadata": {},
   "source": [
    "<p style=\"background-color:yellow;\">b) Print maximum and minimum values from each row of A</p>"
   ]
  },
  {
   "cell_type": "code",
   "execution_count": 11,
   "metadata": {},
   "outputs": [
    {
     "data": {
      "text/plain": [
       "array([6, 9, 5])"
      ]
     },
     "execution_count": 11,
     "metadata": {},
     "output_type": "execute_result"
    }
   ],
   "source": [
    "# Maximum from each row\n",
    "A.max(axis=1) # axis=1 means it will consider rows while finding maximum,axis=0 is for column"
   ]
  },
  {
   "cell_type": "code",
   "execution_count": 12,
   "metadata": {},
   "outputs": [
    {
     "data": {
      "text/plain": [
       "array([2, 2, 2])"
      ]
     },
     "execution_count": 12,
     "metadata": {},
     "output_type": "execute_result"
    }
   ],
   "source": [
    "# Minimum from each row\n",
    "A.min(axis=1)"
   ]
  },
  {
   "cell_type": "markdown",
   "metadata": {},
   "source": [
    "<p style=\"background-color:yellow;\">c) Determine mean of each column of A..........</p>"
   ]
  },
  {
   "cell_type": "code",
   "execution_count": 13,
   "metadata": {},
   "outputs": [
    {
     "data": {
      "text/plain": [
       "array([[2, 6, 5, 3],\n",
       "       [9, 5, 2, 8],\n",
       "       [2, 5, 5, 3]])"
      ]
     },
     "execution_count": 13,
     "metadata": {},
     "output_type": "execute_result"
    }
   ],
   "source": [
    "A"
   ]
  },
  {
   "cell_type": "code",
   "execution_count": 14,
   "metadata": {},
   "outputs": [
    {
     "data": {
      "text/plain": [
       "array([4.33333333, 5.33333333, 4.        , 4.66666667])"
      ]
     },
     "execution_count": 14,
     "metadata": {},
     "output_type": "execute_result"
    }
   ],
   "source": [
    "A.mean(axis=0) # mean of each column of A"
   ]
  },
  {
   "cell_type": "code",
   "execution_count": 15,
   "metadata": {},
   "outputs": [],
   "source": [
    "X = A.mean(axis=0) # Store the values in a new matrix X"
   ]
  },
  {
   "cell_type": "code",
   "execution_count": 16,
   "metadata": {},
   "outputs": [],
   "source": [
    "# Subtract each column of A by their corresponding mean and obtain new matrix B\n",
    "B= A-X"
   ]
  },
  {
   "cell_type": "code",
   "execution_count": 17,
   "metadata": {},
   "outputs": [
    {
     "data": {
      "text/plain": [
       "array([[-2.33333333,  0.66666667,  1.        , -1.66666667],\n",
       "       [ 4.66666667, -0.33333333, -2.        ,  3.33333333],\n",
       "       [-2.33333333, -0.33333333,  1.        , -1.66666667]])"
      ]
     },
     "execution_count": 17,
     "metadata": {},
     "output_type": "execute_result"
    }
   ],
   "source": [
    "B"
   ]
  },
  {
   "cell_type": "code",
   "execution_count": 18,
   "metadata": {},
   "outputs": [
    {
     "data": {
      "text/plain": [
       "array([ 2.96059473e-16,  2.96059473e-16,  0.00000000e+00, -2.96059473e-16])"
      ]
     },
     "execution_count": 18,
     "metadata": {},
     "output_type": "execute_result"
    }
   ],
   "source": [
    "# Print the mean of each column of B\n",
    "B.mean(axis=0)"
   ]
  },
  {
   "cell_type": "markdown",
   "metadata": {},
   "source": [
    "<p style=\"background-color:yellow;\">d) Construct a new array C........</p>"
   ]
  },
  {
   "cell_type": "code",
   "execution_count": 19,
   "metadata": {},
   "outputs": [],
   "source": [
    "C = np.zeros((3,4)) # first creating a blank array"
   ]
  },
  {
   "cell_type": "code",
   "execution_count": 20,
   "metadata": {},
   "outputs": [],
   "source": [
    "for i in range(3):\n",
    "    for j in range(4):\n",
    "        if A[i][j]<5: \n",
    "            C[i][j] =  A[i][j] + 2  #Assigning values in C based on given condition\n",
    "        elif A[i][j]>=5:\n",
    "            C[i][j] =  A[i][j] + 1  #Assigning values in C based on given condition"
   ]
  },
  {
   "cell_type": "code",
   "execution_count": 21,
   "metadata": {},
   "outputs": [
    {
     "data": {
      "text/plain": [
       "array([[ 4.,  7.,  6.,  5.],\n",
       "       [10.,  6.,  4.,  9.],\n",
       "       [ 4.,  6.,  6.,  5.]])"
      ]
     },
     "execution_count": 21,
     "metadata": {},
     "output_type": "execute_result"
    }
   ],
   "source": [
    "C"
   ]
  },
  {
   "cell_type": "code",
   "execution_count": null,
   "metadata": {},
   "outputs": [],
   "source": []
  }
 ],
 "metadata": {
  "kernelspec": {
   "display_name": "Python 3",
   "language": "python",
   "name": "python3"
  },
  "language_info": {
   "codemirror_mode": {
    "name": "ipython",
    "version": 3
   },
   "file_extension": ".py",
   "mimetype": "text/x-python",
   "name": "python",
   "nbconvert_exporter": "python",
   "pygments_lexer": "ipython3",
   "version": "3.8.5"
  }
 },
 "nbformat": 4,
 "nbformat_minor": 4
}
