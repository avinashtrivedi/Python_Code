{
 "cells": [
  {
   "cell_type": "code",
   "execution_count": 29,
   "metadata": {},
   "outputs": [
    {
     "data": {
      "image/png": "[encoded data removed]",
      "text/plain": [
       "<Figure size 432x288 with 1 Axes>"
      ]
     },
     "metadata": {
      "needs_background": "light"
     },
     "output_type": "display_data"
    }
   ],
   "source": [
    "from drawtool import DrawTool\n",
    "dt = DrawTool()\n",
    "dt.set_XY_range(0,100,0,100)\n",
    "dt.set_aspect('equal')\n",
    "dt.set_color('b')\n",
    "m = 0\n",
    "for k in range(0,41,10):\n",
    "    dt.draw_rectangle(k,m,5,5)\n",
    "    m = m + 10\n",
    "    \n",
    "# write the square box\n",
    "m = 40\n",
    "for k in range(50,101,10):\n",
    "    dt.draw_rectangle(k,m,5,5)\n",
    "    m = m - 10\n",
    "    \n",
    "dt.set_color('r')\n",
    "\n",
    "# draw circle\n",
    "dt.draw_circle(47.5,60,5)\n",
    "    \n",
    "dt.display()\n"
   ]
  },
  {
   "cell_type": "code",
   "execution_count": 41,
   "metadata": {},
   "outputs": [],
   "source": [
    "def convert_to_string(theList):\n",
    "    string = \"\"\n",
    "    for i in theList:\n",
    "        string += \" \" + i\n",
    "    \n",
    "    # return string with leading and trailing whitespace removed \n",
    "    return string.strip()"
   ]
  },
  {
   "cell_type": "code",
   "execution_count": 42,
   "metadata": {},
   "outputs": [
    {
     "name": "stdout",
     "output_type": "stream",
     "text": [
      "PASS\n"
     ]
    }
   ],
   "source": [
    "if __name__ == '__main__':\n",
    "    n_err = 0\n",
    "    theList = [\"Hello,\", \"how\", \"are\", \"you?\"]\n",
    "    x = convert_to_string([\"Hello,\", \"how\", \"are\", \"you?\"])\n",
    "    expect = \"Hello, how are you?\"\n",
    "    if x!= expect:\n",
    "        n_err = n_err + 1\n",
    "        print(\"Error: Test 1: conversion not working,expected {} got {}\".format(expect,x))\n",
    "    if n_err==0:\n",
    "        print(\"PASS\")\n",
    "    else:\n",
    "        print(\"FAILED\")"
   ]
  },
  {
   "cell_type": "code",
   "execution_count": 40,
   "metadata": {},
   "outputs": [],
   "source": [
    "a = 'ss'"
   ]
  },
  {
   "cell_type": "code",
   "execution_count": null,
   "metadata": {},
   "outputs": [],
   "source": [
    "a.strip"
   ]
  }
 ],
 "metadata": {
  "kernelspec": {
   "display_name": "Python 3",
   "language": "python",
   "name": "python3"
  },
  "language_info": {
   "codemirror_mode": {
    "name": "ipython",
    "version": 3
   },
   "file_extension": ".py",
   "mimetype": "text/x-python",
   "name": "python",
   "nbconvert_exporter": "python",
   "pygments_lexer": "ipython3",
   "version": "3.8.5"
  }
 },
 "nbformat": 4,
 "nbformat_minor": 4
}
