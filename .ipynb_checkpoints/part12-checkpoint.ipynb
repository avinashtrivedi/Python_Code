{
 "cells": [
  {
   "cell_type": "markdown",
   "metadata": {},
   "source": [
    "# Part I"
   ]
  },
  {
   "cell_type": "code",
   "execution_count": 1,
   "metadata": {},
   "outputs": [],
   "source": [
    "def extract_email_id(email_address):\n",
    "    parts_list = email_address.split(\"@\")\n",
    "    if (len(parts_list) == 2):\n",
    "        return parts_list[0]\n",
    "    else:\n",
    "        return \"\""
   ]
  },
  {
   "cell_type": "code",
   "execution_count": 2,
   "metadata": {},
   "outputs": [
    {
     "name": "stdout",
     "output_type": "stream",
     "text": [
      "jerry.lee\n",
      "\n",
      "\n",
      "alan_wong\n"
     ]
    }
   ],
   "source": [
    "print(extract_email_id(\"jerry.lee@sis.smu.edu.sg\"))\n",
    "\n",
    "print(extract_email_id(\"alan_wong.com\"))\n",
    "\n",
    "print(extract_email_id(\"\"))\n",
    "\n",
    "print(extract_email_id(\"alan_wong@gmail.com\"))"
   ]
  },
  {
   "cell_type": "markdown",
   "metadata": {},
   "source": [
    "# Part 2"
   ]
  },
  {
   "cell_type": "code",
   "execution_count": 3,
   "metadata": {},
   "outputs": [],
   "source": [
    "def extract_multiple_email_ids(email_addresses):\n",
    "    \n",
    "    #new_email = \" \"\n",
    "    \n",
    "    email_addresses_list = email_addresses.split(\";\")\n",
    "    \n",
    "    for email in email_addresses_list:\n",
    "        \n",
    "        #new_email += extract_email_id(email)\n",
    "        \n",
    "        # print the email one by one \n",
    "        print(extract_email_id(email))"
   ]
  },
  {
   "cell_type": "code",
   "execution_count": 4,
   "metadata": {},
   "outputs": [
    {
     "name": "stdout",
     "output_type": "stream",
     "text": [
      "jerry.lee\n",
      "alan_wong\n",
      "george_tan\n"
     ]
    }
   ],
   "source": [
    "extract_multiple_email_ids(\"jerry.lee@sis.smu.edu.sg;alan_wong@gmail.com;george_tan@yahoo.com\")"
   ]
  },
  {
   "cell_type": "code",
   "execution_count": 5,
   "metadata": {},
   "outputs": [
    {
     "name": "stdout",
     "output_type": "stream",
     "text": [
      "\n"
     ]
    }
   ],
   "source": [
    "# it will print empty string\n",
    "extract_multiple_email_ids(\"\")"
   ]
  },
  {
   "cell_type": "code",
   "execution_count": 6,
   "metadata": {},
   "outputs": [
    {
     "name": "stdout",
     "output_type": "stream",
     "text": [
      "jerry.lee\n"
     ]
    }
   ],
   "source": [
    "extract_multiple_email_ids(\"jerry.lee@sis.smu.edu.sg\")"
   ]
  },
  {
   "cell_type": "code",
   "execution_count": null,
   "metadata": {},
   "outputs": [],
   "source": []
  }
 ],
 "metadata": {
  "kernelspec": {
   "display_name": "Python 3",
   "language": "python",
   "name": "python3"
  },
  "language_info": {
   "codemirror_mode": {
    "name": "ipython",
    "version": 3
   },
   "file_extension": ".py",
   "mimetype": "text/x-python",
   "name": "python",
   "nbconvert_exporter": "python",
   "pygments_lexer": "ipython3",
   "version": "3.8.5"
  }
 },
 "nbformat": 4,
 "nbformat_minor": 4
}
