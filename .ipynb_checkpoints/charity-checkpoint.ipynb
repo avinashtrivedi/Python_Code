{
 "cells": [
  {
   "cell_type": "markdown",
   "metadata": {},
   "source": [
    "# Q.a"
   ]
  },
  {
   "cell_type": "code",
   "execution_count": 1,
   "metadata": {},
   "outputs": [
    {
     "name": "stdout",
     "output_type": "stream",
     "text": [
      "Number of adult dinners sold: 58\n",
      "Number of child dinners sold: 50\n",
      "Enter the price of an adult dinner: 29.5\n",
      "Enter the price of a child dinner: 20.5\n",
      "Money collected from adult Dinner: 1711.0\n",
      "Money collected from child Dinner: 1025.0\n",
      "Total Money collected from all Dinner: 2736.0\n"
     ]
    }
   ],
   "source": [
    "# receive the user inputs\n",
    "\n",
    "adultDinnersSold = int(input('Number of adult dinners sold: '))\n",
    "childDinnersSold = int(input('Number of child dinners sold: '))\n",
    "\n",
    "adultDinnerPrice = float(input('Enter the price of an adult dinner: '))\n",
    "childDinnerPrice = float(input('Enter the price of a child dinner: '))\n",
    "\n",
    "# compute the collections\n",
    "\n",
    "adultDinnerCollections  = adultDinnersSold*adultDinnerPrice\n",
    "childDinnerCollections  = childDinnersSold*childDinnerPrice\n",
    "\n",
    "# total collection\n",
    "\n",
    "totalCollections = adultDinnerCollections + childDinnerCollections\n",
    "\n",
    "# print the result.\n",
    "print('Money collected from adult Dinner:',adultDinnerCollections)\n",
    "\n",
    "print('Money collected from child Dinner:',childDinnerCollections)\n",
    "\n",
    "print('Total Money collected from all Dinner:',totalCollections)"
   ]
  },
  {
   "cell_type": "markdown",
   "metadata": {},
   "source": [
    "# Q.b\n",
    "- Modification of Q.a\n",
    "- It is the final deliverable"
   ]
  },
  {
   "cell_type": "code",
   "execution_count": 2,
   "metadata": {},
   "outputs": [
    {
     "name": "stdout",
     "output_type": "stream",
     "text": [
      "Number of adult dinners sold: 58\n",
      "Number of child dinners sold: 50\n",
      "Enter the price of an adult dinner: 29.5\n",
      "Enter the price of a child dinner: 20.5\n",
      "Enter the cost of making an adult dinner: 15.4\n",
      "Enter the cost of making an child dinner: 12.3\n",
      "Amount of money the charity made from selling the dinners 1227.8\n"
     ]
    }
   ],
   "source": [
    "adultDinnersSold = int(input('Number of adult dinners sold: '))\n",
    "childDinnersSold = int(input('Number of child dinners sold: '))\n",
    "\n",
    "adultDinnerPrice = float(input('Enter the price of an adult dinner: '))\n",
    "childDinnerPrice = float(input('Enter the price of a child dinner: '))\n",
    "\n",
    "adultDinnerCost = float(input('Enter the cost of making an adult dinner: '))\n",
    "childDinnerCost = float(input('Enter the cost of making an child dinner: '))\n",
    "\n",
    "# compute the costs\n",
    "adultDinnerTotalCost  = adultDinnerCost*adultDinnersSold\n",
    "childDinnerTotalCost = childDinnerCost*childDinnersSold\n",
    "\n",
    "# total cost\n",
    "totalCosts  = adultDinnerTotalCost + childDinnerTotalCost\n",
    "\n",
    "# collections\n",
    "adultDinnerCollections  = adultDinnersSold*adultDinnerPrice\n",
    "childDinnerCollections  = childDinnersSold*childDinnerPrice\n",
    "\n",
    "# total collections\n",
    "totalCollections = adultDinnerCollections + childDinnerCollections\n",
    "\n",
    "# Money made by charity\n",
    "fundsRaised = totalCollections - totalCosts\n",
    "\n",
    "# print the fundsRaised.\n",
    "print('Amount of money the charity made from selling the dinners',fundsRaised)"
   ]
  },
  {
   "cell_type": "code",
   "execution_count": null,
   "metadata": {},
   "outputs": [],
   "source": []
  }
 ],
 "metadata": {
  "kernelspec": {
   "display_name": "Python 3",
   "language": "python",
   "name": "python3"
  },
  "language_info": {
   "codemirror_mode": {
    "name": "ipython",
    "version": 3
   },
   "file_extension": ".py",
   "mimetype": "text/x-python",
   "name": "python",
   "nbconvert_exporter": "python",
   "pygments_lexer": "ipython3",
   "version": "3.8.5"
  }
 },
 "nbformat": 4,
 "nbformat_minor": 4
}
