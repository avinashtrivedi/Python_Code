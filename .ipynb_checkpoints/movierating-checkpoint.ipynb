{
 "cells": [
  {
   "cell_type": "code",
   "execution_count": 1,
   "metadata": {},
   "outputs": [],
   "source": [
    "# import library\n",
    "import requests\n",
    "import json\n",
    "\n",
    "# define function to get movie data online\n",
    "def getOMDBData(title):\n",
    "    url = 'http://www.omdbapi.com/?apikey=a2914b7a'\n",
    "    title_info = requests.get(url,params={'t':title})\n",
    "    movie_data_str = title_info.text\n",
    "    movie_data = json.loads(movie_data_str)\n",
    "    if movie_data['Response'] == 'False':\n",
    "        return(False)\n",
    "    else:\n",
    "        return(movie_data)"
   ]
  },
  {
   "cell_type": "code",
   "execution_count": 2,
   "metadata": {},
   "outputs": [],
   "source": [
    "# accept list of movies and call the function getOMDBData()\n",
    "# to get data\n",
    "def getMoviesData(titles) :\n",
    "    all_movie_data = []\n",
    "    for title in titles :\n",
    "        title_data = getOMDBData(title)\n",
    "        all_movie_data.append(title_data)\n",
    "    return all_movie_data"
   ]
  },
  {
   "cell_type": "code",
   "execution_count": 3,
   "metadata": {},
   "outputs": [],
   "source": [
    "# return data for only valid movie name\n",
    "\n",
    "def getValidMoviesData(titles):\n",
    "    valid_data = []\n",
    "    for tmp_data in getMoviesData(titles) :\n",
    "        if ( tmp_data ) :\n",
    "            valid_data.append(tmp_data)\n",
    "    return valid_data"
   ]
  },
  {
   "cell_type": "code",
   "execution_count": 4,
   "metadata": {},
   "outputs": [],
   "source": [
    "# sort the movie data based on imdbRating\n",
    "def sortedMoviesData (titles) :\n",
    "    movies_Data = getValidMoviesData(titles)\n",
    "    movies_Data = sorted( movies_Data , key=lambda x: x['imdbRating'] , reverse=True )\n",
    "    return movies_Data"
   ]
  },
  {
   "cell_type": "code",
   "execution_count": 5,
   "metadata": {},
   "outputs": [],
   "source": [
    "# call the function with list of movie titles\n",
    "result = sortedMoviesData([\"Superbabies: Baby Geniuses 2\", \n",
    "         \"The Shawshank Redemption\", \n",
    "         \"Clue\",\n",
    "         \"asdfasdfasdfasdfasdf\" , \n",
    "         \"Source Code\",\n",
    "         \"Black Panther\",\n",
    "         \"Lord of the Rings\"])"
   ]
  },
  {
   "cell_type": "code",
   "execution_count": 6,
   "metadata": {},
   "outputs": [
    {
     "name": "stdout",
     "output_type": "stream",
     "text": [
      "The Shawshank Redemption 1994 9.3\n",
      "The Lord of the Rings: The Fellowship of the Ring 2001 8.8\n",
      "Source Code 2011 7.5\n",
      "Clue 1985 7.3\n",
      "Black Panther 2018 7.3\n",
      "Superbabies: Baby Geniuses 2 2004 1.9\n"
     ]
    }
   ],
   "source": [
    "# print the result\n",
    "for movie in result:\n",
    "    print(movie['Title'],movie['Year'],movie['imdbRating'])"
   ]
  },
  {
   "cell_type": "code",
   "execution_count": null,
   "metadata": {},
   "outputs": [],
   "source": []
  }
 ],
 "metadata": {
  "kernelspec": {
   "display_name": "Python 3",
   "language": "python",
   "name": "python3"
  },
  "language_info": {
   "codemirror_mode": {
    "name": "ipython",
    "version": 3
   },
   "file_extension": ".py",
   "mimetype": "text/x-python",
   "name": "python",
   "nbconvert_exporter": "python",
   "pygments_lexer": "ipython3",
   "version": "3.8.5"
  }
 },
 "nbformat": 4,
 "nbformat_minor": 4
}
