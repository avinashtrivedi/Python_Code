{
 "cells": [
  {
   "cell_type": "code",
   "execution_count": 1,
   "metadata": {},
   "outputs": [],
   "source": [
    "import io\n",
    "\n",
    "def get_occurrence_count(to_search, stream):\n",
    "\n",
    "    \"\"\"\n",
    "    :param to_search: (String) The text to search for\n",
    "\n",
    "    :param stream: (StringIO) An in-memory stream for text I/O\n",
    "\n",
    "    :returns: (int) The number of lines that contain to_search\n",
    "\n",
    "    \"\"\"\n",
    "    \n",
    "    # count the number of lines containing to_search\n",
    "    count=0\n",
    "    \n",
    "    # loop through the lines from stream\n",
    "    for line in stream.readlines():\n",
    "        \n",
    "        # if the line contains to_search, increase the count by 1.\n",
    "        if to_search in line:\n",
    "            count = count + 1  \n",
    "            \n",
    "    # return the count.\n",
    "    return count"
   ]
  },
  {
   "cell_type": "code",
   "execution_count": 2,
   "metadata": {},
   "outputs": [
    {
     "name": "stdout",
     "output_type": "stream",
     "text": [
      "2\n"
     ]
    }
   ],
   "source": [
    "if __name__ == \"__main__\":\n",
    "\n",
    "    stream = io.StringIO(\"Hey! How are you?\\nI am good, how about you?\\nI am good too.\")\n",
    "\n",
    "    print(get_occurrence_count('good', stream))\n",
    "\n",
    "    stream.close()"
   ]
  },
  {
   "cell_type": "code",
   "execution_count": null,
   "metadata": {},
   "outputs": [],
   "source": []
  }
 ],
 "metadata": {
  "kernelspec": {
   "display_name": "Python 3",
   "language": "python",
   "name": "python3"
  },
  "language_info": {
   "codemirror_mode": {
    "name": "ipython",
    "version": 3
   },
   "file_extension": ".py",
   "mimetype": "text/x-python",
   "name": "python",
   "nbconvert_exporter": "python",
   "pygments_lexer": "ipython3",
   "version": "3.8.5"
  }
 },
 "nbformat": 4,
 "nbformat_minor": 4
}
