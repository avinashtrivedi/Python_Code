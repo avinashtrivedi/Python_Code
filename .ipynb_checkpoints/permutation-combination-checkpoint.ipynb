{
 "cells": [
  {
   "cell_type": "code",
   "execution_count": 1,
   "metadata": {},
   "outputs": [],
   "source": [
    "# define a factorial class\n",
    "class factorial:\n",
    "    def __init__(self): # constructor of class\n",
    "        print('factorial Class object is created.')\n",
    "    \n",
    "    # Method to compute factorial\n",
    "    def fact(self,n):\n",
    "        self.val = 1\n",
    "        for i in range(1,n+1):\n",
    "             self.val =  (self.val)*i\n",
    "        return  self.val\n",
    "    \n",
    "    \n",
    "# define a grid class \n",
    "class grid(factorial): # grid class inherited the factorial class\n",
    "    \n",
    "    def __init__(self): # constructor of class\n",
    "        factorial.__init__(self)\n",
    "        print('grid Class object is created.')\n",
    "    \n",
    "    # make a grid and write to file\n",
    "    def makegrid(self):\n",
    "        fname = open('ch15-newfile.csv','w')\n",
    "\n",
    "        # Write nCr,1,2,3,4,5,6,7,8,9,10 to file\n",
    "        for i in range(11):\n",
    "            if i==0:\n",
    "                fname.write(\"{},\".format('nCr'))\n",
    "            else:\n",
    "                fname.write(\"{},\".format(i))\n",
    "\n",
    "        fname.write(\"\\n\") # write a new line\n",
    "\n",
    "        # compute individual Combinations using nCr = fact(n)/(fact(n-r)*fact(r))\n",
    "        # and write to file\n",
    "        for i in range(1,11):\n",
    "            for j in range(0,11): \n",
    "                if j==0:\n",
    "                    fname.write(\"{},\".format(i))\n",
    "                elif j<=i:\n",
    "                    fname.write(\"{},\".format(int(self.fact(i)/(self.fact(i-j)*self.fact(j))))) \n",
    "                else:\n",
    "                    fname.write(\"{},\".format('-'))\n",
    "\n",
    "            fname.write(\"\\n\") \n",
    "        print('Grid is generated and written to file: ch15-newfile.csv')\n",
    "        fname.close() # close file object"
   ]
  },
  {
   "cell_type": "code",
   "execution_count": 2,
   "metadata": {},
   "outputs": [
    {
     "name": "stdout",
     "output_type": "stream",
     "text": [
      "factorial Class object is created.\n",
      "grid Class object is created.\n"
     ]
    }
   ],
   "source": [
    "obj = grid()"
   ]
  },
  {
   "cell_type": "code",
   "execution_count": 3,
   "metadata": {},
   "outputs": [
    {
     "name": "stdout",
     "output_type": "stream",
     "text": [
      "Grid is generated and written to file: ch15-newfile.csv\n"
     ]
    }
   ],
   "source": [
    "obj.makegrid()"
   ]
  },
  {
   "cell_type": "code",
   "execution_count": null,
   "metadata": {},
   "outputs": [],
   "source": []
  },
  {
   "cell_type": "code",
   "execution_count": null,
   "metadata": {},
   "outputs": [],
   "source": []
  },
  {
   "cell_type": "code",
   "execution_count": 4,
   "metadata": {},
   "outputs": [],
   "source": [
    "# # create a file object\n",
    "# obj = factorial()\n",
    "\n",
    "# fname = open('ch15-newfile.csv','w')\n",
    "\n",
    "# # Write nCr,1,2,3,4,5,6,7,8,9,10 to file\n",
    "\n",
    "# for i in range(11):\n",
    "#     if i==0:\n",
    "#         fname.write(\"{},\".format('nCr'))\n",
    "#     else:\n",
    "#         fname.write(\"{},\".format(i))\n",
    "        \n",
    "# fname.write(\"\\n\") # write a new line\n",
    "\n",
    "# # compute individual Combinations using nCr = fact(n)/(fact(n-r)*fact(r))\n",
    "# # and write to file\n",
    "# for i in range(1,11):\n",
    "#     for j in range(0,11): \n",
    "#         if j==0:\n",
    "#             fname.write(\"{},\".format(i))\n",
    "#         elif j<=i:\n",
    "#             fname.write(\"{},\".format(int(obj.fact(i)/(obj.fact(i-j)*obj.fact(j))))) \n",
    "#         else:\n",
    "#             fname.write(\"{},\".format('-'))\n",
    "            \n",
    "#     fname.write(\"\\n\") \n",
    "# fname.close() # close file object"
   ]
  },
  {
   "cell_type": "code",
   "execution_count": null,
   "metadata": {},
   "outputs": [],
   "source": []
  }
 ],
 "metadata": {
  "kernelspec": {
   "display_name": "Python 3",
   "language": "python",
   "name": "python3"
  },
  "language_info": {
   "codemirror_mode": {
    "name": "ipython",
    "version": 3
   },
   "file_extension": ".py",
   "mimetype": "text/x-python",
   "name": "python",
   "nbconvert_exporter": "python",
   "pygments_lexer": "ipython3",
   "version": "3.8.5"
  }
 },
 "nbformat": 4,
 "nbformat_minor": 4
}
