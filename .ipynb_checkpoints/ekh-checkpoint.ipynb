{
 "cells": [
  {
   "cell_type": "code",
   "execution_count": 1,
   "metadata": {},
   "outputs": [],
   "source": [
    "# import library to define sin(x)\n",
    "import numpy as np\n",
    "\n",
    "# define f(x)\n",
    "def f(x):\n",
    "    return np.sin(x)"
   ]
  },
  {
   "cell_type": "code",
   "execution_count": 2,
   "metadata": {},
   "outputs": [],
   "source": [
    "# define E1\n",
    "def E_1(a,h):\n",
    "    return (f(a+h) - f(a))/h"
   ]
  },
  {
   "cell_type": "code",
   "execution_count": 3,
   "metadata": {},
   "outputs": [],
   "source": [
    "# define generic E_j(h)\n",
    "def E(a,k,h):\n",
    "    \n",
    "    # if k==1 then call E_1() \n",
    "    if k==1:\n",
    "        return E_1(a,h)\n",
    "    \n",
    "    # otherwise call this equation\n",
    "    else:\n",
    "        E_j_h = E(a,k-1,h/2) + (E(a,k-1,h/2) - E(a,k-1,h))/(2**(k-1) - 1)\n",
    "        \n",
    "    # return E_j_h\n",
    "    return E_j_h"
   ]
  },
  {
   "cell_type": "code",
   "execution_count": 4,
   "metadata": {},
   "outputs": [],
   "source": [
    "# define richardson function.\n",
    "def richardson(f,a,h,k):\n",
    "    Ekh = E(a,k,h)\n",
    "    return round(Ekh,4)"
   ]
  },
  {
   "cell_type": "code",
   "execution_count": 5,
   "metadata": {},
   "outputs": [
    {
     "data": {
      "text/plain": [
       "0.5403"
      ]
     },
     "execution_count": 5,
     "metadata": {},
     "output_type": "execute_result"
    }
   ],
   "source": [
    "richardson(f,1,1,4)"
   ]
  },
  {
   "cell_type": "code",
   "execution_count": null,
   "metadata": {},
   "outputs": [],
   "source": []
  }
 ],
 "metadata": {
  "kernelspec": {
   "display_name": "Python 3",
   "language": "python",
   "name": "python3"
  },
  "language_info": {
   "codemirror_mode": {
    "name": "ipython",
    "version": 3
   },
   "file_extension": ".py",
   "mimetype": "text/x-python",
   "name": "python",
   "nbconvert_exporter": "python",
   "pygments_lexer": "ipython3",
   "version": "3.8.5"
  }
 },
 "nbformat": 4,
 "nbformat_minor": 4
}
