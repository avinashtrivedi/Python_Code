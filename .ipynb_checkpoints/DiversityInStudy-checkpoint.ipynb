{
 "cells": [
  {
   "cell_type": "markdown",
   "metadata": {
    "collapsed": false
   },
   "source": [
    "<br><h3><b>CITS2402 Lab 1</b></h3><br>\n",
    "\n",
    "# Diversity in Study: What (Else) Are We All Studying?\n",
    "\n",
    "----\n"
   ]
  },
  {
   "cell_type": "markdown",
   "metadata": {
    "collapsed": false
   },
   "source": [
    "## Data Science Across the Disciplines\n",
    "\n",
    "Data Science has application right across the disciplines. In this course we'll see case studies ranging from the Environment to Economics to Health.\n",
    "\n",
    "Before we start this journey, it's interesting to see what diverse areas are studied by data science students. As we said in the Welcome lecture, there are many students in the unit with many different study backgrounds and directions.\n",
    "\n",
    "To get a feel for this, we'll look at the range of enrolment patterns.\n",
    "\n",
    "Note that some randomisation has been applied to the enrolment patterns to ensure privacy and anonymity. However the disciplines are preserved.\n",
    "\n",
    "In this lab we will also:\n",
    "\n",
    "- practise working with text files, strings and lists\n",
    "- practise writing user-defined functions\n",
    "- do our first data cleaning\n",
    "- do some data manipulation to observe features of our data\n",
    "- explain how checked lab questions will be assigned and marked"
   ]
  },
  {
   "cell_type": "markdown",
   "metadata": {
    "collapsed": false
   },
   "source": [
    "#### Reference links\n",
    "\n",
    "We'll be using standard python - no additional modules are required (or should be used). The latest documentation will be useful, and it is suggested you bookmark it for future use.\n",
    "\n",
    "* _The Python Language Reference_, https://docs.python.org/3/reference/\n",
    "* _The Python Standard Library_, https://docs.python.org/3/library/\n",
    "* _The Python Tutorial_, https://docs.python.org/3/tutorial/"
   ]
  },
  {
   "cell_type": "markdown",
   "metadata": {
    "collapsed": false
   },
   "source": [
    "## Data Acquisition\n",
    "\n",
    "In future labs we'll be hunting down data as part of the work. In this case however the data will be provided in a text file.\n",
    "\n",
    "* Open the directory containing this lab sheet from the 'folder' icon. Click on the file `unit-patterns.txt` to inspect the file.\n",
    "\n",
    "The file contains all the different study plans of a cohort of Data Science students with some obfuscation to ensure privacy and anonymity.\n",
    "\n",
    "This is a *tab-separated values (tsv)* file with two *fields*.\n",
    "\n",
    "The first field contains a set of units studied (separated by plus signs), the second (after the tab character) contains a number and a percentage.\n",
    "\n",
    "Note that in this lab we will refer to an instance of a unit name combined with a teaching period (eg a semester) as a 'unit' - so for example, CITS1401-1 and CITS1401-2 would be treated as two distinct units.\n",
    "\n",
    "---\n",
    "\n",
    "Let's start with a *constant* to identify the file. By convention we'll use UPPERCASE for constants.\n",
    "\n",
    "Run the following cell to make the assignment."
   ]
  },
  {
   "cell_type": "code",
   "execution_count": 1,
   "metadata": {
    "collapsed": false
   },
   "outputs": [],
   "source": [
    "DATAFILE = \"unit-patterns.txt\""
   ]
  },
  {
   "cell_type": "markdown",
   "metadata": {
    "collapsed": false
   },
   "source": [
    "As we saw in the 'Getting Started' lab, we can check to see that the assignment was made just by typing the variable name as the last thing in the cell, and then running the cell. (This is because it prints out the results of whatever was the last evaluation.)\n",
    "\n",
    "- Try this now."
   ]
  },
  {
   "cell_type": "code",
   "execution_count": 2,
   "metadata": {
    "collapsed": false
   },
   "outputs": [
    {
     "data": {
      "text/plain": [
       "'unit-patterns.txt'"
      ]
     },
     "execution_count": 2,
     "metadata": {},
     "output_type": "execute_result"
    }
   ],
   "source": [
    "DATAFILE"
   ]
  },
  {
   "cell_type": "markdown",
   "metadata": {
    "collapsed": false
   },
   "source": [
    "#### Reading the file\n",
    "\n",
    "* Use the built-in function `open()` and the text file IO method `readline()` to read in and print out the first 5 lines of the file. \n",
    "\n",
    "Your output should start like this:\n",
    "```\n",
    " CITS2224-1 + CITS2023-2 + CITS3221-2 + CITS3224-1 + CITS3225-1 \t 1 (2.0%) \n",
    "\n",
    " CITS2023-2 + ENSC3221-2 + ENSC3224-1 + ENSC3225-1 + ENSC3227-2 + ENSC3210-1 + ENSC3221-1 + MECH3023-2 \t 1 (2.0%) \n",
    "\n",
    " CITS1021-2 + CITS2021-1 + CITS2023-2 + ENSC2224-1 + ENSC3211-2 + ENSC3213-2 + MATH2221-1 + STAT1524-1 \t 1 (2.0%) \n",
    "...\n",
    "```\n",
    "\n",
    "Tip: If you're a little rusty on reading files, you may find this tutorial useful: [7.2. Reading and Writing Files](https://docs.python.org/3/tutorial/inputoutput.html?highlight=readline#reading-and-writing-files).\n",
    "\n",
    "Also the Case Study \"FakeNews\" provides a couple of examples of working with a `.tsv` file.\n",
    "\n"
   ]
  },
  {
   "cell_type": "code",
   "execution_count": 4,
   "metadata": {
    "collapsed": false,
    "scrolled": true
   },
   "outputs": [
    {
     "name": "stdout",
     "output_type": "stream",
     "text": [
      " CITS2224-1 + CITS2023-2 + CITS3221-2 + CITS3224-1 + CITS3225-1 \t 1 (2.0%) \n",
      "\n",
      " CITS2023-2 + ENSC3221-2 + ENSC3224-1 + ENSC3225-1 + ENSC3227-2 + ENSC3210-1 + ENSC3221-1 + MECH3023-2 \t 1 (2.0%)\n",
      "\n",
      " CITS1021-2 + CITS2021-1 + CITS2023-2 + ENSC2224-1 + ENSC3211-2 + ENSC3213-2 + MATH2221-1 + STAT1524-1 \t 1 (2.0%)\n",
      "\n",
      " CITS2023-2 + CITS3220-2 + CITS3223-2 + CITS3021-1 + CITS3025-1 + MATH3224-1 + MATH3221-1 + STAT3264-1 + STAT3260-2 \t 1 (2.0%)\n",
      "\n",
      " BIOC3221-1 + BIOC3224-1 + BIOC3225-2 + BIOC3225-2 + CITS1023-2 + CITS2021-1 + CITS2023-2 + MATH1211-1 \t 1 (2.0%)\n",
      "\n"
     ]
    }
   ],
   "source": [
    "file = open(DATAFILE)\n",
    "number_of_lines = 5\n",
    "for i in range(number_of_lines):\n",
    "    line = file.readline()\n",
    "    print(line)"
   ]
  },
  {
   "cell_type": "markdown",
   "metadata": {
    "collapsed": false
   },
   "source": [
    "## Marked Questions and Answers\n",
    "\n",
    "Many of the labs this semester will have one or two checked (or 'autograded') answers. These will contribute to the practical mark for the semester.\n",
    "\n",
    "The checked answers will generally have three parts (or three cells):\n",
    "\n",
    "#### 1. A specification (the question)\n",
    "\n",
    "This will ask you to write some code, normally in the form of a function. The question will specify (in the context of what we've done in the build up to that question in the lab sheet) what the function should do, usually including its inputs and outputs.\n",
    "\n",
    "#### 2. An answer cell\n",
    "\n",
    "The first code cell is where you enter your code to be checked. This may contain a \"stub\" - that is, a part of the code to be completed. Often it will be a function header. For example:\n",
    "```\n",
    "def get_patterns(filename):\n",
    "```\n",
    "Your task is to complete the code, according to the specification.\n",
    "\n",
    "\n",
    "#### 3. Test cells\n",
    "\n",
    "The second code cell is where the code to check the answer will go and is not editable. It may be blank, but will usually contain some example tests that you can use as sample tests for your code. There will be additional tests applied that are not included in the sample tests. In some cases manual checks will also be made.\n",
    "\n",
    "You can run the sample tests as many times as you like. It should be noted that passing the sample tests does NOT mean that your code is correct or will pass the additional tests. The goal is to meet the specification, not the sample tests, which are provided to help you get on the right track.\n",
    "\n",
    "You should write your own *unit tests* to test your code extensively, like you would be required to do in a work situation. You should consider, for example, what would happen with a different set of data (of the same format).\n",
    "\n",
    "### Collection and deadlines\n",
    "\n",
    "The notebook will be collected (from the same directory it was distributed to) and marked, by running the tests, after the lab deadline. (As the same notebook will be collected, you may wish to take a backup copy of the notebook before starting work. Alternatively you can use the TimeTravel feature to revert the notebook if you need to start again.)\n",
    "\n",
    "It is intended that the lab is done in the week it is assigned. However, everyone will automatically receive a one week \"extension\" from the week of the lab to finish off the work if necessary and to account for any unforeseen circumstances and special considerations. This is a 'timed assessment' and after the 7 days there are no further extensions. This is needed so that we can discuss any questions arising from the lab.\n",
    "\n",
    "The last deadline for credit will therefore be **11.59pm on the Friday of the week after the lab is released**.\n",
    "\n",
    "---\n",
    "\n",
    "Lets try a practice exmaple.\n",
    "\n"
   ]
  },
  {
   "cell_type": "markdown",
   "metadata": {
    "collapsed": false
   },
   "source": [
    "#### Checked Solution Practice [0 marks] (problem specification)\n",
    "\n",
    "Complete the following stub to create a function `get_count(unitcode, filename)` that:\n",
    "\n",
    "- takes as input a unit code, such as STAT2021, and a filename for a text file in tsv format as above\n",
    "- returns as output the number of students who are enrolled in that unit\n",
    "\n",
    "_Hint: In case you're a bit rusty, we did a very similar example in the Fake News lecture._\n",
    "\n",
    "---\n",
    "\n",
    "#### Answer cell\n",
    "\n",
    "Complete your code here. You should remove the `raise NotImplementedError()` when you put in your own code."
   ]
  },
  {
   "cell_type": "code",
   "execution_count": 62,
   "metadata": {
    "collapsed": false,
    "deletable": false,
    "nbgrader": {
     "checksum": "a84f2a0e8efa2718ed602fe11325c53a",
     "grade": false,
     "grade_id": "0c596f",
     "locked": false,
     "remove": false,
     "schema_version": 3,
     "solution": true,
     "task": false
    }
   },
   "outputs": [],
   "source": [
    "def get_count (unitcode,filename):\n",
    "    with open(filename,\"r\") as file:\n",
    "        count=0\n",
    "        for line in file:\n",
    "            if unitcode in line:\n",
    "                count = count + 1\n",
    "    return count\n",
    "    \n",
    "       \n",
    "    \n",
    "  \n",
    "    \n"
   ]
  },
  {
   "cell_type": "markdown",
   "metadata": {
    "collapsed": false
   },
   "source": [
    "Try out your function. Add some print statements in a new cell and see if you get what you would expect.\n",
    "\n",
    "_Note: You should avoid writing to files or printing within your submitted checked function (if not asked to) as this may cause problems for the autograder. Use a separate cell for your testing._"
   ]
  },
  {
   "cell_type": "code",
   "execution_count": 57,
   "metadata": {
    "collapsed": false
   },
   "outputs": [
    {
     "data": {
      "text/plain": [
       "67"
      ]
     },
     "execution_count": 57,
     "metadata": {},
     "output_type": "execute_result"
    }
   ],
   "source": [
    "get_count(\"STAT2023\",\"unit-patterns.txt\")"
   ]
  },
  {
   "cell_type": "markdown",
   "metadata": {
    "collapsed": false
   },
   "source": [
    "#### Running the tests\n",
    "\n",
    "The test cells will often include some sample tests that you can run to see if your code passes. There will also be some additional tests that are only run once the code is collected after the deadline.\n",
    "\n",
    "If your code runs successfully it will simply finish as usual (without throwing an exception).\n",
    "\n",
    "If your code does not pass the sample tests, you will normally get an error message. This might be something relatively simple (you can ignore the middle bit) like:\n",
    "\n",
    "```\n",
    "---------------------------------------------------------------------------\n",
    "AssertionError                            Traceback (most recent call last)\n",
    "/tmp/ipykernel_26920/1618265836.py in <module>\n",
    "      1 from nose.tools import assert_equal\n",
    "      2 DATA = \"unit-patterns.txt\"\n",
    "----> 3 assert_equal(get_count('STAT2021',DATAFILE), 72)\n",
    "      4 assert_equal(get_count('STAT2023',DATAFILE), 67)\n",
    "      5 print(\"If you didn't get an error, then so far so good - your code passed the sample test.\")\n",
    "/usr/lib/python3.8/unittest/case.py in assertEqual(self, first, second, msg)\n",
    "    910         \"\"\"\n",
    "    911         assertion_func = self._getAssertEqualityFunc(first, second)\n",
    "--> 912         assertion_func(first, second, msg=msg)\n",
    "    913 \n",
    "    914     def assertNotEqual(self, first, second, msg=None):\n",
    "/usr/lib/python3.8/unittest/case.py in _baseAssertEqual(self, first, second, msg)\n",
    "    903             standardMsg = '%s != %s' % _common_shorten_repr(first, second)\n",
    "    904             msg = self._formatMessage(msg, standardMsg)\n",
    "--> 905             raise self.failureException(msg)\n",
    "    906 \n",
    "    907     def assertEqual(self, first, second, msg=None):\n",
    "AssertionError: 65 != 72\n",
    "```\n",
    "\n",
    "This shows which test failed (the first arrow) and, at the bottom, what the incorrect answer was.\n",
    "\n",
    "It might be something more complex looking, but may still give you some clues. For example, the problem here is extra whitespace after the entry 'CITS2224-1':\n",
    "\n",
    "```\n",
    "---------------------------------------------------------------------------\n",
    "AssertionError                            Traceback (most recent call last)\n",
    "<ipython-input-82-f1838aea55b1> in <module>\n",
    "      1 from nose.tools import assert_equal\n",
    "      2 DATA = \"unit-patterns.txt\"\n",
    "----> 3 assert_equal(get_patterns(DATA)[0],['CITS2224-1', 'CITS2023-2', 'CITS3221-2', 'CITS3224-1', 'CITS3225-1'])\n",
    "      4 assert_equal(get_patterns(DATA)[5],['CITS2021-1', 'CITS2023-2', 'GRMN2025-1', 'GRMN2020-2', 'MATH1214-1', 'MATH2521-2', 'PHYS2221-1', 'PHYS2223-2'])\n",
    "...\n",
    "668     def fail(self, msg=None):\n",
    "    669         \"\"\"Fail immediately, with the given message.\"\"\"\n",
    "--> 670         raise self.failureException(msg)\n",
    "    671 \n",
    "    672     def assertFalse(self, expr, msg=None):\n",
    "AssertionError: Lists differ: ['CITS2224-1 ', 'CITS2023-2 ', 'CITS3221-2 ', 'CITS3224-1 ', 'CITS3225-1 '] != ['CITS2224-1', 'CITS2023-2', 'CITS3221-2', 'CITS3224-1', 'CITS3225-1']\n",
    "\n",
    "First differing element 0:\n",
    "'CITS2224-1 '\n",
    "'CITS2224-1'\n",
    "\n",
    "- ['CITS2224-1 ', 'CITS2023-2 ', 'CITS3221-2 ', 'CITS3224-1 ', 'CITS3225-1 ']\n",
    "?             -              -              -              -              -\n",
    "\n",
    "+ ['CITS2224-1', 'CITS2023-2', 'CITS3221-2', 'CITS3224-1', 'CITS3225-1']\n",
    "```\n",
    "\n",
    "The error messages may vary in their usefulness - they are not intended as a sole debugging tool, but often they will give some pointer as to what went wrong. In this case it is fairly clear on closer inspection that there is whitespace that shouldn't be there.\n",
    "\n",
    "You may need to come up with your own unit tests to figure out what is wrong. You can then correct your code and try again.\n",
    "\n",
    "---\n",
    "\n",
    "The following is an example of a Test Cell for the question above, with a couple of sample tests.\n"
   ]
  },
  {
   "cell_type": "markdown",
   "metadata": {
    "collapsed": false
   },
   "source": [
    "#### Test cell\n"
   ]
  },
  {
   "cell_type": "code",
   "execution_count": 63,
   "metadata": {
    "collapsed": false,
    "deletable": false,
    "editable": false,
    "nbgrader": {
     "grade": true,
     "grade_id": "fbcbb5",
     "locked": true,
     "points": 1,
     "remove": false,
     "schema_version": 3,
     "solution": false,
     "task": false
    }
   },
   "outputs": [
    {
     "name": "stdout",
     "output_type": "stream",
     "text": [
      "If you didn't get an error, then so far so good - your code passed the sample test.\n"
     ]
    }
   ],
   "source": [
    "from nose.tools import assert_equal  # ignore this line\n",
    "DATA = \"unit-patterns.txt\"\n",
    "assert_equal(get_count('STAT2021',DATAFILE), 72)\n",
    "assert_equal(get_count('STAT2023',DATAFILE), 67)\n",
    "print(\"If you didn't get an error, then so far so good - your code passed the sample test.\")\n"
   ]
  },
  {
   "cell_type": "markdown",
   "metadata": {
    "collapsed": false
   },
   "source": [
    "If your code passed the above test, try it again with some deliberate errors in your code to see what happens.\n",
    "\n",
    "(You can see why the marked questions will have additional tests. Otherwise the following code would also pass!)\n",
    "\n",
    "```\n",
    "def get_count (unitcode, filename):\n",
    "    if unitcode == 'STAT2021':\n",
    "        return 72\n",
    "    else:\n",
    "        return 67\n",
    "```\n",
    "\n",
    "---\n",
    "\n",
    "Now lets return to our case study..."
   ]
  },
  {
   "cell_type": "markdown",
   "metadata": {
    "collapsed": false
   },
   "source": [
    "#### From files to lists\n",
    "\n",
    "* Write some code to read the data file again, but this time, as you read the lines from the file, store them in a list called `pattern_strings`. If you're a bit rusty on adding things to a list, you might wish to review Chapter 10 of *Think Python 2e*.\n",
    "\n",
    "Printing the first 5 lines of your list should give:\n",
    "```\n",
    "[' CITS2224-1 + CITS2023-2 + CITS3221-2 + CITS3224-1 + CITS3225-1 \\t 1 (2.0%) \\n', ' CITS2023-2 + ENSC3221-2 + ENSC3224-1 + ENSC3225-1 + ENSC3227-2 + ENSC3210-1 + ENSC3221-1 + MECH3023-2 \\t 1 (2.0%) \\n', ' CITS1021-2 + CITS2021-1 + CITS2023-2 + ENSC2224-1 + ENSC3211-2 + ENSC3213-2 + MATH2221-1 + STAT1524-1 \\t 1 (2.0%) \\n', ' CITS2023-2 + CITS3220-2 + CITS3223-2 + CITS3021-1 + CITS3025-1 + MATH3224-1 + MATH3221-1 + STAT3264-1 + STAT3260-2 \\t 1 (2.0%) \\n', ' BIOC3221-1 + BIOC3224-1 + BIOC3225-2 + BIOC3225-2 + CITS1023-2 + CITS2021-1 + CITS2023-2 + MATH1211-1 \\t 1 (2.0%) \\n']\n",
    "```\n",
    "\n",
    "Tip: Rather than using `readline()`, use an *iterator* on the file directly to get each line in turn."
   ]
  },
  {
   "cell_type": "code",
   "execution_count": 86,
   "metadata": {
    "collapsed": false
   },
   "outputs": [
    {
     "name": "stdout",
     "output_type": "stream",
     "text": [
      "[' CITS2224-1 + CITS2023-2 + CITS3221-2 + CITS3224-1 + CITS3225-1 \\t 1 (2.0%) \\n', ' CITS2023-2 + ENSC3221-2 + ENSC3224-1 + ENSC3225-1 + ENSC3227-2 + ENSC3210-1 + ENSC3221-1 + MECH3023-2 \\t 1 (2.0%)\\n', ' CITS1021-2 + CITS2021-1 + CITS2023-2 + ENSC2224-1 + ENSC3211-2 + ENSC3213-2 + MATH2221-1 + STAT1524-1 \\t 1 (2.0%)\\n', ' CITS2023-2 + CITS3220-2 + CITS3223-2 + CITS3021-1 + CITS3025-1 + MATH3224-1 + MATH3221-1 + STAT3264-1 + STAT3260-2 \\t 1 (2.0%)\\n', ' BIOC3221-1 + BIOC3224-1 + BIOC3225-2 + BIOC3225-2 + CITS1023-2 + CITS2021-1 + CITS2023-2 + MATH1211-1 \\t 1 (2.0%)\\n']\n"
     ]
    }
   ],
   "source": [
    "pattern_strings = []\n",
    "\n",
    "f = open(\"unit-patterns.txt\",\"r\")\n",
    "\n",
    "for line in f :\n",
    "    pattern_strings.append(line)\n",
    "\n",
    "#checking answer\n",
    "print(pattern_strings[:5])\n",
    "    \n",
    "\n",
    "    \n",
    "   "
   ]
  },
  {
   "cell_type": "markdown",
   "metadata": {
    "collapsed": false
   },
   "source": [
    "## Data Cleaning"
   ]
  },
  {
   "cell_type": "markdown",
   "metadata": {
    "collapsed": false
   },
   "source": [
    "In this case study we are only interested in the patterns to the left of the tab in the data file. Since the lines contain two data fields separated by a delimiter, the string `partition()` method (or function) is ideal for the job.\n",
    "\n",
    "* Using the string `partition()` method, modify your code so that `pattern_strings` contains only the unit patterns.\n",
    "\n",
    "The documentation for [String Methods](https://docs.python.org/3/library/stdtypes.html#string-methods) may be helpful.\n",
    "\n",
    "Printing the first 5 lines of your list (`print(pattern_strings[:5])`) should now give:\n",
    "```\n",
    "[' CITS2224-1 + CITS2023-2 + CITS3221-2 + CITS3224-1 + CITS3225-1 ', ' CITS2023-2 + ENSC3221-2 + ENSC3224-1 + ENSC3225-1 + ENSC3227-2 + ENSC3210-1 + ENSC3221-1 + MECH3023-2 ', ' CITS1021-2 + CITS2021-1 + CITS2023-2 + ENSC2224-1 + ENSC3211-2 + ENSC3213-2 + MATH2221-1 + STAT1524-1 ', ' CITS2023-2 + CITS3220-2 + CITS3223-2 + CITS3021-1 + CITS3025-1 + MATH3224-1 + MATH3221-1 + STAT3264-1 + STAT3260-2 ', ' BIOC3221-1 + BIOC3224-1 + BIOC3225-2 + BIOC3225-2 + CITS1023-2 + CITS2021-1 + CITS2023-2 + MATH1211-1 ']\n",
    "```\n",
    "\n",
    "* How many students were enrolled at the time the list was taken?"
   ]
  },
  {
   "cell_type": "code",
   "execution_count": 22,
   "metadata": {
    "collapsed": false,
    "scrolled": true
   },
   "outputs": [
    {
     "name": "stdout",
     "output_type": "stream",
     "text": [
      "[(' CITS2224-1 + CITS2023-2 + CITS3221-2 + CITS3224-1 + CITS3225-1 ', '\\t', ' 1 (2.0%) \\n'), (' CITS2023-2 + ENSC3221-2 + ENSC3224-1 + ENSC3225-1 + ENSC3227-2 + ENSC3210-1 + ENSC3221-1 + MECH3023-2 ', '\\t', ' 1 (2.0%)\\n'), (' CITS1021-2 + CITS2021-1 + CITS2023-2 + ENSC2224-1 + ENSC3211-2 + ENSC3213-2 + MATH2221-1 + STAT1524-1 ', '\\t', ' 1 (2.0%)\\n'), (' CITS2023-2 + CITS3220-2 + CITS3223-2 + CITS3021-1 + CITS3025-1 + MATH3224-1 + MATH3221-1 + STAT3264-1 + STAT3260-2 ', '\\t', ' 1 (2.0%)\\n'), (' BIOC3221-1 + BIOC3224-1 + BIOC3225-2 + BIOC3225-2 + CITS1023-2 + CITS2021-1 + CITS2023-2 + MATH1211-1 ', '\\t', ' 1 (2.0%)\\n')]\n"
     ]
    },
    {
     "ename": "ValueError",
     "evalue": "tuple.index(x): x not in tuple",
     "output_type": "error",
     "traceback": [
      "\u001b[0;31m---------------------------------------------------------------------------\u001b[0m",
      "\u001b[0;31mValueError\u001b[0m                                Traceback (most recent call last)",
      "\u001b[0;32m/tmp/ipykernel_579/887258957.py\u001b[0m in \u001b[0;36m<module>\u001b[0;34m\u001b[0m\n\u001b[1;32m      8\u001b[0m \u001b[0;34m\u001b[0m\u001b[0m\n\u001b[1;32m      9\u001b[0m \u001b[0;32mfor\u001b[0m \u001b[0mi\u001b[0m \u001b[0;32min\u001b[0m \u001b[0mpattern_strings\u001b[0m\u001b[0;34m:\u001b[0m\u001b[0;34m\u001b[0m\u001b[0;34m\u001b[0m\u001b[0m\n\u001b[0;32m---> 10\u001b[0;31m     \u001b[0mindex\u001b[0m \u001b[0;34m=\u001b[0m \u001b[0mi\u001b[0m\u001b[0;34m.\u001b[0m\u001b[0mindex\u001b[0m\u001b[0;34m(\u001b[0m\u001b[0;34m'\\t'\u001b[0m\u001b[0;34m)\u001b[0m\u001b[0;34m\u001b[0m\u001b[0;34m\u001b[0m\u001b[0m\n\u001b[0m\u001b[1;32m     11\u001b[0m \u001b[0mprint\u001b[0m\u001b[0;34m(\u001b[0m\u001b[0mindex\u001b[0m\u001b[0;34m)\u001b[0m\u001b[0;34m\u001b[0m\u001b[0;34m\u001b[0m\u001b[0m\n\u001b[1;32m     12\u001b[0m \u001b[0;34m\u001b[0m\u001b[0m\n",
      "\u001b[0;31mValueError\u001b[0m: tuple.index(x): x not in tuple"
     ]
    }
   ],
   "source": [
    "\n",
    "pattern_strings = []\n",
    "\n",
    "f = open(\"unit-patterns.txt\",\"r\")\n",
    "\n",
    "for line in f :\n",
    "    pattern_strings.append(line.partition(\"\\t\"))\n",
    "print(pattern_strings[:5])\n",
    "\n",
    "for i in pattern_strings:\n",
    "    index = i.index('\\t')\n",
    "print(index)\n",
    "    \n",
    "\n",
    "\n",
    "\n",
    "#checking answer\n",
    "\n",
    "\n",
    "#number of students\n",
    "\n"
   ]
  },
  {
   "cell_type": "markdown",
   "metadata": {
    "collapsed": false
   },
   "source": [
    "#### Strings to lists\n",
    "\n",
    "Rather than the units in each line being part of a string, it is more useful to have them in a list. This will enable us to iterate through the list later. Since there are varying numbers of items, the `split()` method makes sense here.\n",
    "\n",
    "* Use the `split` method to split each line into a list of units. Store the result in a variable `pattern_lists`.\n",
    "\n",
    "This should result in a list of lists. Your output should start like this:\n",
    "```\n",
    "[[' CITS2224-1 ', ' CITS2023-2 ', ' CITS3221-2 ', ' CITS3224-1 ', ' CITS3225-1 '], [' CITS2023-2 ', ' ENSC3221-2 ', ' ENSC3224-1 ', ' ENSC3225-1 ', ' ENSC3227-2 ', ' ENSC3210-1 ', ' ENSC3221-1 ', ' MECH3023-2 '], [' CITS1021-2 ', ' CITS2021-1 ', ' CITS2023-2 ', ' ENSC2224-1 ', ' ENSC3211-2 ', ' ENSC3213-2 ', ' MATH2221-1 ', ' STAT1524-1 '], [' CITS2023-2 ', ' CITS3220-2 ', ' CITS3223-2 ', ' CITS3021-1 ', ' CITS3025-1 ', ' MATH3224-1 ', ' MATH3221-1 ', ' STAT3264-1 ', ' STAT3260-2 '], [' BIOC3221-1 ', ' BIOC3224-1 ', ' BIOC3225-2 ', ' BIOC3225-2 ', ' CITS1023-2 ', ' CITS2021-1 ', ' CITS2023-2 ', ' MATH1211-1 ']]\n",
    "```\n",
    "\n"
   ]
  },
  {
   "cell_type": "code",
   "execution_count": 0,
   "metadata": {
    "collapsed": false,
    "scrolled": true
   },
   "outputs": [],
   "source": []
  },
  {
   "cell_type": "markdown",
   "metadata": {
    "collapsed": false
   },
   "source": [
    "#### Stripping whitespace\n",
    "\n",
    "Finally, notice that we've been left with unnecessary whitespace around each unit name.\n",
    "\n",
    "* Find a suitable string method from the documentation, and modify your code to strip off the extra whitespace.\n",
    "\n",
    "Your first 5 patterns should now look like this:\n",
    "    \n",
    "```\n",
    "[['CITS2224-1', 'CITS2023-2', 'CITS3221-2', 'CITS3224-1', 'CITS3225-1'], ['CITS2023-2', 'ENSC3221-2', 'ENSC3224-1', 'ENSC3225-1', 'ENSC3227-2', 'ENSC3210-1', 'ENSC3221-1', 'MECH3023-2'], ['CITS1021-2', 'CITS2021-1', 'CITS2023-2', 'ENSC2224-1', 'ENSC3211-2', 'ENSC3213-2', 'MATH2221-1', 'STAT1524-1'], ['CITS2023-2', 'CITS3220-2', 'CITS3223-2', 'CITS3021-1', 'CITS3025-1', 'MATH3224-1', 'MATH3221-1', 'STAT3264-1', 'STAT3260-2'], ['BIOC3221-1', 'BIOC3224-1', 'BIOC3225-2', 'BIOC3225-2', 'CITS1023-2', 'CITS2021-1', 'CITS2023-2', 'MATH1211-1']]\n",
    "```"
   ]
  },
  {
   "cell_type": "code",
   "execution_count": 0,
   "metadata": {
    "collapsed": false,
    "scrolled": true
   },
   "outputs": [],
   "source": []
  },
  {
   "cell_type": "markdown",
   "metadata": {
    "collapsed": false
   },
   "source": [
    "#### Putting it all together\n",
    "\n",
    "Congratulations, you have now 'wrangled' your data from its 'raw' format in the file, into a very useable form. Lets put it all together in a function. \n",
    "\n",
    "Time for our first marked question."
   ]
  },
  {
   "cell_type": "markdown",
   "metadata": {
    "collapsed": false
   },
   "source": [
    "#### Checked Solution [1 mark]\n",
    "\n",
    "- To consolidate this section, turn your code so far into a function `get_patterns(filename)` that takes a filename (the input), and returns a list of lists containing all the patterns in the file, with whitespace removed (the output).\n",
    "\n",
    "You can assume the file is the same format as the example provided, though it may have different size and different entries.\n",
    "\n",
    "`print(get_patterns(DATAFILE)[:5])` (with DATAFILE as above) should print the same output as above.\n"
   ]
  },
  {
   "cell_type": "code",
   "execution_count": 0,
   "metadata": {
    "collapsed": false,
    "deletable": false,
    "nbgrader": {
     "cell_type": "code",
     "checksum": "2af93f3024f375225511e8e4e5f1e587",
     "grade": false,
     "grade_id": "d2098c",
     "locked": false,
     "schema_version": 3,
     "solution": true,
     "task": false
    }
   },
   "outputs": [],
   "source": [
    "def get_patterns(filename):\n",
    "\n",
    "# YOUR CODE HERE\n",
    "raise NotImplementedError()\n"
   ]
  },
  {
   "cell_type": "markdown",
   "metadata": {
    "collapsed": false
   },
   "source": [
    "Before a final test of your code, it is worth restarting the kernel from the \"Kernel\" drop-down menu, and re-running your code. This will clean up any leftover 'junk' in the memory from running earlier versions of bits of code.\n",
    "\n",
    "You may find, for example, that after you fixed or changed a piece of code, you forgot to change a variable name, but the code still worked because an old value for the variable was still in memory.\n",
    "\n",
    "* Restart the kernel and test your code again to make sure it is doing everything correctly.\n",
    "\n",
    "Then go ahead and try the sample tests.\n"
   ]
  },
  {
   "cell_type": "code",
   "execution_count": 0,
   "metadata": {
    "collapsed": false,
    "deletable": false,
    "editable": false,
    "nbgrader": {
     "grade": true,
     "grade_id": "get_patterns",
     "locked": true,
     "points": 1,
     "schema_version": 3,
     "solution": false,
     "task": false
    }
   },
   "outputs": [],
   "source": [
    "from nose.tools import assert_equal\n",
    "DATA = \"unit-patterns.txt\"\n",
    "assert_equal(get_patterns(DATA)[0],['CITS2224-1', 'CITS2023-2', 'CITS3221-2', 'CITS3224-1', 'CITS3225-1'])\n",
    "assert_equal(get_patterns(DATA)[5],['CITS2021-1', 'CITS2023-2', 'GRMN2025-1', 'GRMN2020-2', 'MATH1214-1', 'MATH2521-2', 'PHYS2221-1', 'PHYS2223-2'])\n",
    "print('So far, so good!')\n"
   ]
  },
  {
   "cell_type": "markdown",
   "metadata": {
    "collapsed": false
   },
   "source": [
    "## Data Inspection and Interpretation\n",
    "\n",
    "Now let's have a closer look at the data. The file contains all the different study plans of enrolled students. Let's start by working out how many *different* or *unique* plans there are.\n",
    "\n",
    "To make it easier to see what is going on, start by defining a better print function.\n",
    "\n",
    "* Write a function `print_patterns (patterns, numlines)` that prints the first `numlines` patterns each on a new line.\n",
    "\n",
    "For example:\n",
    "\n",
    "print_patterns(get_patterns(DATA), 8)\n",
    "\n",
    "```\n",
    "['CITS2224-1', 'CITS2023-2', 'CITS3221-2', 'CITS3224-1', 'CITS3225-1']\n",
    "['CITS2023-2', 'ENSC3221-2', 'ENSC3224-1', 'ENSC3225-1', 'ENSC3227-2', 'ENSC3210-1', 'ENSC3221-1', 'MECH3023-2']\n",
    "['CITS1021-2', 'CITS2021-1', 'CITS2023-2', 'ENSC2224-1', 'ENSC3211-2', 'ENSC3213-2', 'MATH2221-1', 'STAT1524-1']\n",
    "['CITS2023-2', 'CITS3220-2', 'CITS3223-2', 'CITS3021-1', 'CITS3025-1', 'MATH3224-1', 'MATH3221-1', 'STAT3264-1', 'STAT3260-2']\n",
    "['BIOC3221-1', 'BIOC3224-1', 'BIOC3225-2', 'BIOC3225-2', 'CITS1023-2', 'CITS2021-1', 'CITS2023-2', 'MATH1211-1']\n",
    "['CITS2021-1', 'CITS2023-2', 'GRMN2025-1', 'GRMN2020-2', 'MATH1214-1', 'MATH2521-2', 'PHYS2221-1', 'PHYS2223-2']\n",
    "['CITS1221-1', 'CITS1021-1', 'CITS1023-2', 'CITS2023-2', 'MGMT1135-1', 'MGMT1136-2', 'STAT1024-1', 'STAT2023-2']\n",
    "['CITS1221-2', 'CITS2023-2', 'CITS3223-2', 'CITS3021-1', 'CITS3025-1', 'CLAN3224-1', 'STAT2021-1', 'STAT3260-2']\n",
    "```"
   ]
  },
  {
   "cell_type": "code",
   "execution_count": 0,
   "metadata": {
    "collapsed": false
   },
   "outputs": [],
   "source": []
  },
  {
   "cell_type": "markdown",
   "metadata": {
    "collapsed": false
   },
   "source": [
    "### Sorting the patterns\n",
    "\n",
    "* Write a function that takes a pattern list, and returns the list in which:\n",
    "  * the units in each list (pattern) are sorted alpha-numerically\n",
    "  * the lists (patterns) themselves are sorted alpha-numerically\n",
    "    \n",
    "\n",
    "The following test code:\n",
    "```\n",
    "print_patterns(get_patterns(DATA),3)\n",
    "print()\n",
    "print_patterns(sort_patterns(get_patterns(DATA)),3)\n",
    "```\n",
    "\n",
    "should produce the following output:\n",
    "    \n",
    "```\n",
    "['CITS2224-1', 'CITS2023-2', 'CITS3221-2', 'CITS3224-1', 'CITS3225-1']\n",
    "['CITS2023-2', 'ENSC3221-2', 'ENSC3224-1', 'ENSC3225-1', 'ENSC3227-2', 'ENSC3210-1', 'ENSC3221-1', 'MECH3023-2']\n",
    "['CITS1021-2', 'CITS2021-1', 'CITS2023-2', 'ENSC2224-1', 'ENSC3211-2', 'ENSC3213-2', 'MATH2221-1', 'STAT1524-1']\n",
    "\n",
    "['AACE1223-2AA', 'ACCT1121-1', 'CARS1223-2AA', 'CITS1021-1', 'CITS2023-2', 'ECON1121-1', 'FINA1221-2', 'INDG1223-2AA', 'MGMT1135-2', 'MKTG1225-2', 'STAT1524-1']\n",
    "['AACE1223-2AA', 'CARS1223-2AA', 'CITS1021-1', 'CITS1023-2', 'CITS2023-2', 'INDG1223-2AA', 'LAWS1113-2', 'PSYC1121-1', 'PSYC1123-2', 'SCIE1121-1', 'STAT1024-1']\n",
    "['AACE1223-2AA', 'CARS1223-2AA', 'CITS1021-2', 'CITS1023-2', 'COMM1223-2', 'INDG1223-2AA', 'STAT1023-2']```\n",
    "```\n",
    "\n",
    "\n",
    "_Caution: If you are using python's built-in sorting methods, it is recommended that you use `sorted` to return a new sorted list, rather than `sort` to sort the list in-place. Methods that alter a data structure 'in-place' can lead to confusing behaviour when debugging._"
   ]
  },
  {
   "cell_type": "code",
   "execution_count": 0,
   "metadata": {
    "collapsed": false
   },
   "outputs": [],
   "source": []
  },
  {
   "cell_type": "markdown",
   "metadata": {
    "collapsed": false
   },
   "source": [
    "### Removing duplicates\n",
    "\n",
    "* Write a function `remove_duplicates (patterns)` that returns a (sorted) list of patterns with any duplicate patterns removed.\n",
    "\n",
    "How many *unique* study patterns are there in the class?"
   ]
  },
  {
   "cell_type": "code",
   "execution_count": 0,
   "metadata": {
    "collapsed": false
   },
   "outputs": [],
   "source": []
  },
  {
   "cell_type": "markdown",
   "metadata": {
    "collapsed": false
   },
   "source": [
    "- Print the percentage (to one decimal place) of the total number of study plans in the class that are different.\n",
    "\n",
    "You should find that it is indeed a diverse group!"
   ]
  },
  {
   "cell_type": "markdown",
   "metadata": {
    "collapsed": false
   },
   "source": [
    "#### Checked Solution [1 mark]\n",
    "\n",
    "* Write a function `get_unique_patterns (filename)` that takes a filename in the above format, and returns a pair `(unique_patterns, num_patterns)` where:\n",
    "  * `unique_patterns` contains a sorted list of sorted patterns,  with any duplicate patterns removed\n",
    "  * `num_patterns` contains the number of unique patterns\n",
    "\n",
    "Your code may make use of functions you have already implemented."
   ]
  },
  {
   "cell_type": "code",
   "execution_count": 0,
   "metadata": {
    "collapsed": false,
    "deletable": false,
    "nbgrader": {
     "cell_type": "code",
     "checksum": "9e58aa15d41af7989c7d68c61b2ac43f",
     "grade": false,
     "grade_id": "729dcd",
     "locked": false,
     "schema_version": 3,
     "solution": true,
     "task": false
    }
   },
   "outputs": [],
   "source": [
    "def get_unique_patterns (filename):\n",
    "\n",
    "# YOUR CODE HERE\n",
    "raise NotImplementedError()"
   ]
  },
  {
   "cell_type": "code",
   "execution_count": 0,
   "metadata": {
    "collapsed": false,
    "deletable": false,
    "editable": false,
    "nbgrader": {
     "grade": true,
     "grade_id": "get_unique_patterns",
     "locked": true,
     "points": 1,
     "schema_version": 3,
     "solution": false,
     "task": false
    }
   },
   "outputs": [],
   "source": [
    "from nose.tools import assert_equal\n",
    "DATA = \"unit-patterns.txt\"\n",
    "(patterns, num_patterns) = get_unique_patterns(DATA)\n",
    "assert_equal(patterns[0],['AACE1223-2AA', 'ACCT1121-1', 'CARS1223-2AA', 'CITS1021-1', 'CITS2023-2', 'ECON1121-1', 'FINA1221-2', 'INDG1223-2AA', 'MGMT1135-2', 'MKTG1225-2', 'STAT1524-1'])\n",
    "assert_equal(patterns[5][0],'AACE1224-ACE-2')\n",
    "assert_equal(patterns[10][-1],'STAT1523-2')\n",
    "print(\"So far, so good.\")\n"
   ]
  },
  {
   "cell_type": "markdown",
   "metadata": {
    "collapsed": false
   },
   "source": [
    "## Examining the range of disciplines\n",
    "\n",
    "For this part, it is left to you to think about the best way to break the problems down. You won't want to write new code for each different discipline, so think about how you can use structured programming to efficiently answer the questions.\n",
    "\n",
    "* What proportion of study patterns contain: \n",
    "  * a maths unit?\n",
    "  * a stats unit?\n",
    "  * a business unit?\n",
    "  * a medicine unit?\n",
    "  * a law unit?\n",
    "  * a psychology unit?\n",
    "  * a music unit?\n",
    "  * a philosophy unit?\n",
    "  * a service learning unit?\n"
   ]
  },
  {
   "cell_type": "code",
   "execution_count": 0,
   "metadata": {
    "collapsed": false
   },
   "outputs": [],
   "source": []
  },
  {
   "cell_type": "markdown",
   "metadata": {
    "collapsed": false
   },
   "source": [
    "* How many different disciplines are studied altogether (for the purposes of this question assume the first four characters of the unit code represent the discipline.)"
   ]
  },
  {
   "cell_type": "code",
   "execution_count": 0,
   "metadata": {
    "collapsed": false
   },
   "outputs": [],
   "source": []
  },
  {
   "cell_type": "markdown",
   "metadata": {
    "collapsed": false
   },
   "source": [
    "### Challenge\n",
    "\n",
    "* Print a list of each unit that is being studied, and how many students are studying it, in order from the unit with the most students to the unit with the least.\n",
    "\n",
    "Hints: Use a [dictionary](https://docs.python.org/3/library/stdtypes.html#mapping-types-dict), look at the `get` method, and consider the `key` argument of the inbuilt function `sorted`.\n",
    "\n",
    "(My code is 7 lines.)\n",
    "\n",
    "* How many units are being studied altogether?"
   ]
  },
  {
   "cell_type": "code",
   "execution_count": 0,
   "metadata": {
    "collapsed": false
   },
   "outputs": [],
   "source": []
  }
 ],
 "metadata": {
  "kernelspec": {
   "display_name": "Python 3 (system-wide)",
   "language": "python",
   "metadata": {
    "cocalc": {
     "description": "Python 3 programming language",
     "priority": 100,
     "url": "https://www.python.org/"
    }
   },
   "name": "python3",
   "resource_dir": "/ext/jupyter/kernels/python3"
  },
  "language_info": {
   "codemirror_mode": {
    "name": "ipython",
    "version": 3
   },
   "file_extension": ".py",
   "mimetype": "text/x-python",
   "name": "python",
   "nbconvert_exporter": "python",
   "pygments_lexer": "ipython3",
   "version": "3.8.10"
  }
 },
 "nbformat": 4,
 "nbformat_minor": 4
}
