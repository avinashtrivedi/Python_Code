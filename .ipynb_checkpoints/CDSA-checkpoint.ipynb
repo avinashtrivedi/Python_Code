{
 "cells": [
  {
   "cell_type": "markdown",
   "metadata": {},
   "source": [
    "# Q.1"
   ]
  },
  {
   "cell_type": "code",
   "execution_count": 1,
   "metadata": {},
   "outputs": [],
   "source": [
    "# save the data into csv file (in the current working directory)\n",
    "\n",
    "# read the data\n",
    "with open('input.csv','r') as file:\n",
    "    data = file.readlines()"
   ]
  },
  {
   "cell_type": "code",
   "execution_count": 2,
   "metadata": {},
   "outputs": [],
   "source": [
    "# list to store cleaned data\n",
    "cleaned_data = []\n",
    "for row in data:\n",
    "    # remove leading and trailing whitespace\n",
    "    row_data = [val.strip() for val in row.split(',')]\n",
    "    \n",
    "    # if CDSA substance is present \n",
    "    # then store this row into cleaned_data\n",
    "    if row_data[-2] == 'Yes':\n",
    "        cleaned_data.append(row_data)"
   ]
  },
  {
   "cell_type": "code",
   "execution_count": 3,
   "metadata": {},
   "outputs": [
    {
     "data": {
      "text/plain": [
       "[['Oliver Nash', 'DIN-23459818', '2021-09-13', 'Yes', 'Opium'],\n",
       " ['Mary Evans', 'DIN-23454678', '2021-09-09', 'Yes', 'Hydrocone'],\n",
       " ['Nicole Smith', 'DIN-23445678', '2021-09-07', 'Yes', 'Etorphine'],\n",
       " ['Arun Das', 'DIN-23456987', '2021-09-06', 'Yes', 'Metopon'],\n",
       " ['Dmitry Pagalik', 'DIN-23465678', '2021-09-04', 'Yes', 'Morphine'],\n",
       " ['Sarah Mills', 'DIN-23458645', '2021-09-03', 'Yes', 'Ethylmorphine'],\n",
       " ['Kerry Diotte', 'DIN-67548976', '2021-09-11', 'Yes', 'Apomorphine'],\n",
       " ['John Lyons', 'DIN-67465543', '2021-09-03', 'Yes', 'Nicocodine'],\n",
       " ['Steve Ma', 'DIN-89775678', '2021-09-02', 'Yes', 'Oxycodone'],\n",
       " ['Dan Mazier', 'DIN-67542721', '2021-09-10', 'Yes', 'Pethidine'],\n",
       " ['Kelsey Shein', 'DIN-67543321', '2021-09-10', 'Yes', 'Pethidine'],\n",
       " ['Mary Lee', 'DIN-67578876', '2021-09-01', 'Yes', 'Apomorphine'],\n",
       " ['Sabrina Zuniga', 'DIN-67883321', '2021-09-10', 'Yes', 'Pethidine'],\n",
       " ['Nathalie Clermont', 'DIN-67537976', '2021-09-11', 'Yes', 'Apomorphine']]"
      ]
     },
     "execution_count": 3,
     "metadata": {},
     "output_type": "execute_result"
    }
   ],
   "source": [
    "# display \n",
    "cleaned_data"
   ]
  },
  {
   "cell_type": "code",
   "execution_count": 4,
   "metadata": {},
   "outputs": [
    {
     "name": "stdout",
     "output_type": "stream",
     "text": [
      "Patient Name         | Drug ID         | Prescription Date    | Name of CDSA   \n",
      "--------------------------------------------------------------------------------\n",
      "Mary Lee             | DIN-67578876    | 2021-09-01           | Apomorphine    \n",
      "Steve Ma             | DIN-89775678    | 2021-09-02           | Oxycodone      \n",
      "Sarah Mills          | DIN-23458645    | 2021-09-03           | Ethylmorphine  \n",
      "John Lyons           | DIN-67465543    | 2021-09-03           | Nicocodine     \n",
      "Dmitry Pagalik       | DIN-23465678    | 2021-09-04           | Morphine       \n",
      "Arun Das             | DIN-23456987    | 2021-09-06           | Metopon        \n",
      "Nicole Smith         | DIN-23445678    | 2021-09-07           | Etorphine      \n",
      "Mary Evans           | DIN-23454678    | 2021-09-09           | Hydrocone      \n",
      "Dan Mazier           | DIN-67542721    | 2021-09-10           | Pethidine      \n",
      "Kelsey Shein         | DIN-67543321    | 2021-09-10           | Pethidine      \n",
      "Sabrina Zuniga       | DIN-67883321    | 2021-09-10           | Pethidine      \n",
      "Kerry Diotte         | DIN-67548976    | 2021-09-11           | Apomorphine    \n",
      "Nathalie Clermont    | DIN-67537976    | 2021-09-11           | Apomorphine    \n",
      "Oliver Nash          | DIN-23459818    | 2021-09-13           | Opium          \n"
     ]
    }
   ],
   "source": [
    "from datetime import datetime\n",
    "\n",
    "# sort the data on the basis of Prescription date\n",
    "cleaned_data.sort(key = lambda x: datetime.fromisoformat(x[2]))\n",
    "\n",
    "# print the report in proper format\n",
    "print(\"{:<20} | {:<15} | {:<20} | {:<15}\".format('Patient Name' ,'Drug ID' ,'Prescription Date' ,'Name of CDSA'))\n",
    "print(80*'-')\n",
    "for row in cleaned_data:\n",
    "    print(\"{:<20} | {:<15} | {:<20} | {:<15}\".format(row[0],row[1],row[2],row[4]))"
   ]
  },
  {
   "cell_type": "markdown",
   "metadata": {},
   "source": [
    "# Q.2 and Q.3"
   ]
  },
  {
   "cell_type": "code",
   "execution_count": 5,
   "metadata": {},
   "outputs": [
    {
     "name": "stdout",
     "output_type": "stream",
     "text": [
      "Total Prescriptions with CDSA substances: 14\n",
      "\n",
      "substance      : number of prescriptions\n",
      "----------------------------------------\n",
      "Apomorphine    : 3    \n",
      "Ethylmorphine  : 1    \n",
      "Etorphine      : 1    \n",
      "Hydrocone      : 1    \n",
      "Metopon        : 1    \n",
      "Morphine       : 1    \n",
      "Nicocodine     : 1    \n",
      "Opium          : 1    \n",
      "Oxycodone      : 1    \n",
      "Pethidine      : 3    \n"
     ]
    }
   ],
   "source": [
    "total_substance_names = len(cleaned_data)\n",
    "print('Total Prescriptions with CDSA substances:',total_substance_names)\n",
    "print()\n",
    "\n",
    "# get all CDSA substances name\n",
    "substance_names = [row[-1] for row in cleaned_data]\n",
    "\n",
    "# sort the substances name\n",
    "substance_names.sort()\n",
    "\n",
    "# dictionary to hold substances name and its count\n",
    "count_dict = {}\n",
    "\n",
    "for name in substance_names:\n",
    "    count_dict[name] = substance_names.count(name)\n",
    "\n",
    "# print\n",
    "print(\"{:<15}: {:<5}\".format('substance','number of prescriptions'))\n",
    "print(40*'-')\n",
    "for name in count_dict:\n",
    "    print(\"{:<15}: {:<5}\".format(name,count_dict[name]))"
   ]
  },
  {
   "cell_type": "code",
   "execution_count": null,
   "metadata": {},
   "outputs": [],
   "source": []
  }
 ],
 "metadata": {
  "kernelspec": {
   "display_name": "Python 3",
   "language": "python",
   "name": "python3"
  },
  "language_info": {
   "codemirror_mode": {
    "name": "ipython",
    "version": 3
   },
   "file_extension": ".py",
   "mimetype": "text/x-python",
   "name": "python",
   "nbconvert_exporter": "python",
   "pygments_lexer": "ipython3",
   "version": "3.8.5"
  }
 },
 "nbformat": 4,
 "nbformat_minor": 4
}
