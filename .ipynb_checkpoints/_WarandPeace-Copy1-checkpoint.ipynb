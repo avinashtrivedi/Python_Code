{
 "cells": [
  {
   "cell_type": "code",
   "execution_count": 1,
   "metadata": {},
   "outputs": [
    {
     "name": "stdout",
     "output_type": "stream",
     "text": [
      "Enter a text file: 2600-0.txt\n",
      "Total # of vowels in text file: 943066\n",
      "Total # of consonants in text file: 1578565\n"
     ]
    }
   ],
   "source": [
    "# download the txt file from https://www.gutenberg.org/files/2600/2600-0.txt\n",
    "# keep it in current working directory.\n",
    "\n",
    "def vc_counter(fname):\n",
    "    \n",
    "    # read the file\n",
    "    with open(fname,'r',encoding=\"utf8\") as file:\n",
    "        data = file.read().replace('\\n', '')\n",
    "\n",
    "    vowels  = 'AEIOU'\n",
    "    consonants  = 'BCDFGHJKLMNPQRSTVWXYZ'\n",
    "    \n",
    "    mydict = {'consonants':0, 'vowels':0}\n",
    "    \n",
    "    for char in data:\n",
    "        if char.upper() in vowels:  \n",
    "            mydict['vowels'] += 1      \n",
    "        elif char.upper() in consonants:\n",
    "              mydict['consonants'] += 1\n",
    "    return mydict\n",
    "\n",
    "# keep prompting the user to enter a valid filename\n",
    "while True:\n",
    "        fname = input('Enter a text file: ')\n",
    "        \n",
    "        # try-except block to handle cases of invalid filename\n",
    "        try:\n",
    "            count_dict = vc_counter(fname)\n",
    "            print('Total # of vowels in text file:',count_dict['vowels'])\n",
    "            print('Total # of consonants in text file:',count_dict['consonants'])\n",
    "            break\n",
    "        except:\n",
    "            print('Wrong file,Please provide a valid file.\\n')"
   ]
  }
 ],
 "metadata": {
  "kernelspec": {
   "display_name": "Python 3",
   "language": "python",
   "name": "python3"
  },
  "language_info": {
   "codemirror_mode": {
    "name": "ipython",
    "version": 3
   },
   "file_extension": ".py",
   "mimetype": "text/x-python",
   "name": "python",
   "nbconvert_exporter": "python",
   "pygments_lexer": "ipython3",
   "version": "3.8.5"
  }
 },
 "nbformat": 4,
 "nbformat_minor": 4
}
