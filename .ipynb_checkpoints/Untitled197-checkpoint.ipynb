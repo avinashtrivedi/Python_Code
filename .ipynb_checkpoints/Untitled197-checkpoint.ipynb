{
 "cells": [
  {
   "cell_type": "code",
   "execution_count": 2,
   "metadata": {},
   "outputs": [],
   "source": [
    "import json\n",
    "# Open a JSON file\n",
    "file = open('data1.json')\n",
    "# returns object as a dictionary\n",
    "d = json.load(file)"
   ]
  },
  {
   "cell_type": "code",
   "execution_count": 4,
   "metadata": {},
   "outputs": [
    {
     "data": {
      "text/plain": [
       "dict_keys(['asin_details'])"
      ]
     },
     "execution_count": 4,
     "metadata": {},
     "output_type": "execute_result"
    }
   ],
   "source": [
    "d.keys()"
   ]
  },
  {
   "cell_type": "code",
   "execution_count": 7,
   "metadata": {},
   "outputs": [
    {
     "data": {
      "text/plain": [
       "2"
      ]
     },
     "execution_count": 7,
     "metadata": {},
     "output_type": "execute_result"
    }
   ],
   "source": [
    "len(d['asin_details'])"
   ]
  },
  {
   "cell_type": "code",
   "execution_count": 17,
   "metadata": {},
   "outputs": [
    {
     "data": {
      "text/plain": [
       "'{\"asin\": \"B08SWD2SCK\", \"name\": \"Introducing Amazon Fire TV 43\\\\\" 4-Series 4K UHD smart TV\", \"brand\": \"Amazon\", \"price\": \"$269.99\", \"regular_price\": \"$369.99\", \"total_reviews\": \"255\", \"average_rating\": 4.4, \"rating_histogram\": {\"five_star\": \"71%\", \"four_star\": \"14%\", \"three_star\": \"3%\", \"two_star\": \"5%\", \"one_star\": \"7%\"}, \"seller\": \"Amazon.com\", \"seller_url\": null, \"availability_status\": \"In Stock.\", \"availability_quantity\": null, \"shipping_charge\": null, \"is_prime\": true, \"author\": null, \"available_book_formats\": null, \"is_aplus_page\": false, \"small_description\": \"Brilliant 4K entertainment - Bring movies and shows to life with support for vivid 4K Ultra HD, HDR 10, HLG, and Dolby Digital Plus. - Scenes that leap off the screen - 4K Ultra HD, HDR 10, and HLG deliver a clearer and more vibrant picture with brighter colors compared to 1080p Full HD. - Fire TV Alexa Voice Remote - Press and ask to find favorite apps, movies, and shows, plus check the weather, sports scores, and more. - Watch what you want - Stream over 1 million movies and TV episodes. Watch favorites with subscriptions to Netflix, Prime Video, Disney+, and more. - All your entertainment in one place - Watch live and free TV, play video games, and stream music. - Smart and always getting smarter - Fire TV adds new Alexa skills, features, smart home capabilities, and voice functionality all the time. - Connect all your devices - Use the 3 HDMI inputs to connect to cable or satellite and video game consoles. The HDMI eARC lets you add audio equipment for enhanced sound.\", \"full_description\": null, \"images\": [\"https://m.media-amazon.com/images/I/61PrMW29K9L._AC_SL1000_.jpg\", \"https://m.media-amazon.com/images/I/51EPd38RHQL._AC_SL1000_.jpg\", \"https://m.media-amazon.com/images/I/31RX1TSzsUL._AC_SL1000_.jpg\", \"https://m.media-amazon.com/images/I/61P7l5X4WTL._AC_SL1500_.jpg\", \"https://m.media-amazon.com/images/I/51gcMJgxfGL._AC_SL1000_.jpg\", \"https://m.media-amazon.com/images/I/71iPeXyMueL._AC_SL1000_.jpg\", \"https://m.media-amazon.com/images/I/51HZv7iH3-L._AC_SL1000_.jpg\"], \"video_count\": 0, \"productCategory\": null, \"url\": \"https://www.amazon.com/dp/B08SWD2SCK?_encoding=UTF8&th=1&psc=1&pf_rd_i=desktop&ref_=pd_gw_unk\", \"attributes\": \"size: 43-inch, configuration: TV only\", \"size\": \"43-inch\", \"color\": null, \"model\": null, \"product_information\": {}, \"parent_asin\": \"B0971YMVC8\", \"variation_asin\": [{\"size_name\": \"55-inch\", \"configuration\": \"TV only\", \"asin\": \"B08P3QB66R\"}, {\"size_name\": \"43-inch\", \"configuration\": \"TV only\", \"asin\": \"B08SWD2SCK\"}, {\"size_name\": \"50-inch\", \"configuration\": \"TV only\", \"asin\": \"B08SVZ775L\"}], \"product_variations\": {\"size_name\": [\"43-inch\", \"50-inch\", \"55-inch\"], \"configuration\": [\"TV only\"]}, \"product_condition\": \"new\", \"frequently_bought_together\": [], \"product_badges\": []}'"
      ]
     },
     "execution_count": 17,
     "metadata": {},
     "output_type": "execute_result"
    }
   ],
   "source": [
    "d['asin_details'][1]"
   ]
  },
  {
   "cell_type": "code",
   "execution_count": 20,
   "metadata": {},
   "outputs": [
    {
     "data": {
      "text/plain": [
       "{'key1': 'key1value', 'key2': 'key2value'}"
      ]
     },
     "execution_count": 20,
     "metadata": {},
     "output_type": "execute_result"
    }
   ],
   "source": [
    "import ast\n",
    "str_of_dict = \"{'key1': 'key1value', 'key2': 'key2value'}\"\n",
    "ast.literal_eval(str_of_dict)"
   ]
  },
  {
   "cell_type": "code",
   "execution_count": null,
   "metadata": {},
   "outputs": [],
   "source": []
  }
 ],
 "metadata": {
  "kernelspec": {
   "display_name": "Python 3",
   "language": "python",
   "name": "python3"
  },
  "language_info": {
   "codemirror_mode": {
    "name": "ipython",
    "version": 3
   },
   "file_extension": ".py",
   "mimetype": "text/x-python",
   "name": "python",
   "nbconvert_exporter": "python",
   "pygments_lexer": "ipython3",
   "version": "3.8.5"
  }
 },
 "nbformat": 4,
 "nbformat_minor": 4
}
