{
 "cells": [
  {
   "cell_type": "code",
   "execution_count": 1,
   "metadata": {},
   "outputs": [
    {
     "name": "stdout",
     "output_type": "stream",
     "text": [
      "What is the original price of the item:100\n",
      "Are you a member [yes|no]? yes\n",
      "Is the item on sale [yes|no]? yes\n",
      "85.0\n"
     ]
    }
   ],
   "source": [
    "def calculate_price(orig_price, is_member=\"yes\", is_on_sale=\"yes\"):\n",
    "\n",
    "    MEMBER_DISCOUNT = 0.10\n",
    "\n",
    "    SALE_DISCOUNT = 0.05\n",
    "\n",
    "    # price = 0. ## <---- here is the place i define price but return me 0 at the end...\n",
    "\n",
    "\n",
    "    # It will be 'yes' and 'no' inplace of True and False\n",
    "    # because you are providing input as yes/no\n",
    "    \n",
    "    if is_member == 'yes':\n",
    "\n",
    "        if is_on_sale == 'yes':\n",
    "\n",
    "            price = orig_price - (orig_price * (MEMBER_DISCOUNT + SALE_DISCOUNT))\n",
    "        else:\n",
    "\n",
    "            price = orig_price - (orig_price * MEMBER_DISCOUNT)\n",
    "\n",
    "    elif is_member == 'no':\n",
    "\n",
    "        if is_on_sale == 'yes':\n",
    "\n",
    "            price = orig_price - (orig_price * SALE_DISCOUNT)\n",
    "\n",
    "        else:\n",
    "\n",
    "            price = orig_price\n",
    "\n",
    "    return price\n",
    "\n",
    "\n",
    "orig_price = float(input(\"What is the original price of the item:\"))\n",
    "\n",
    "is_member = input(\"Are you a member [yes|no]? \")\n",
    "\n",
    "is_on_sale = input(\"Is the item on sale [yes|no]? \")\n",
    "\n",
    "# call the function calculate_price() with orig_price, is_member and is_on_sale values\n",
    "print(calculate_price(orig_price, is_member, is_on_sale))"
   ]
  },
  {
   "cell_type": "markdown",
   "metadata": {},
   "source": [
    "# Other test case"
   ]
  },
  {
   "cell_type": "code",
   "execution_count": 2,
   "metadata": {},
   "outputs": [
    {
     "name": "stdout",
     "output_type": "stream",
     "text": [
      "90.0\n"
     ]
    }
   ],
   "source": [
    "print(calculate_price(orig_price, is_member=\"yes\", is_on_sale=\"no\"))"
   ]
  },
  {
   "cell_type": "code",
   "execution_count": 3,
   "metadata": {},
   "outputs": [
    {
     "name": "stdout",
     "output_type": "stream",
     "text": [
      "95.0\n"
     ]
    }
   ],
   "source": [
    "print(calculate_price(orig_price, is_member=\"no\", is_on_sale=\"yes\"))"
   ]
  },
  {
   "cell_type": "code",
   "execution_count": 4,
   "metadata": {},
   "outputs": [
    {
     "name": "stdout",
     "output_type": "stream",
     "text": [
      "100.0\n"
     ]
    }
   ],
   "source": [
    "print(calculate_price(orig_price, is_member=\"no\", is_on_sale=\"no\"))"
   ]
  },
  {
   "cell_type": "code",
   "execution_count": null,
   "metadata": {},
   "outputs": [],
   "source": []
  }
 ],
 "metadata": {
  "kernelspec": {
   "display_name": "Python 3",
   "language": "python",
   "name": "python3"
  },
  "language_info": {
   "codemirror_mode": {
    "name": "ipython",
    "version": 3
   },
   "file_extension": ".py",
   "mimetype": "text/x-python",
   "name": "python",
   "nbconvert_exporter": "python",
   "pygments_lexer": "ipython3",
   "version": "3.8.5"
  }
 },
 "nbformat": 4,
 "nbformat_minor": 4
}
