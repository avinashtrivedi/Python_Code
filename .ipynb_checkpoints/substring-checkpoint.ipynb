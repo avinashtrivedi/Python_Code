{
 "cells": [
  {
   "cell_type": "code",
   "execution_count": 1,
   "metadata": {},
   "outputs": [],
   "source": [
    "def find_tags(sentence):\n",
    "    \n",
    "    # get the count of bracket\n",
    "    # since number of '[' and ']' is same as per question\n",
    "    # it means there will be N number of substring enclosed within square brackets \n",
    "    N = sentence.count('[')\n",
    "    substring = ''\n",
    "    \n",
    "    # run the loop N times to get the substring\n",
    "    for i in range(1,N+1):\n",
    "        \n",
    "        # get the index of first '[' bracket\n",
    "        a = sentence.find('[')\n",
    "        \n",
    "        # get the index of first ']' bracket\n",
    "        b = sentence.find(']')\n",
    "        \n",
    "        # get the enclosed substring\n",
    "        sub = sentence[a+1:b]\n",
    "        \n",
    "        # concatenate substring and sub\n",
    "        substring = substring + str(i)+'-'+sub+','\n",
    "        \n",
    "        # slice the sentence i.e. now the sentence will contain\n",
    "        # the characters after index b\n",
    "        sentence = sentence[b+1:]\n",
    "        \n",
    "    # ignore last ',' comma\n",
    "    substring = substring[:-1] \n",
    "    \n",
    "    # return \n",
    "    return substring"
   ]
  },
  {
   "cell_type": "code",
   "execution_count": 2,
   "metadata": {},
   "outputs": [
    {
     "name": "stdout",
     "output_type": "stream",
     "text": [
      "1-Rocks\n"
     ]
    }
   ],
   "source": [
    "print(find_tags('Coding[Rocks]'))"
   ]
  },
  {
   "cell_type": "code",
   "execution_count": 3,
   "metadata": {},
   "outputs": [
    {
     "name": "stdout",
     "output_type": "stream",
     "text": [
      "1-apple,2-orange,3-apple\n"
     ]
    }
   ],
   "source": [
    "print(find_tags('[apple]and[orange]and[apple]again!'))"
   ]
  },
  {
   "cell_type": "code",
   "execution_count": 4,
   "metadata": {},
   "outputs": [
    {
     "name": "stdout",
     "output_type": "stream",
     "text": [
      "1-mrt,2-SMU,3-nel\n"
     ]
    }
   ],
   "source": [
    "print(find_tags('IAmTaking[mrt]To[SMU]ButThe[nel]IsDelayedAgain.'))"
   ]
  },
  {
   "cell_type": "code",
   "execution_count": 5,
   "metadata": {},
   "outputs": [
    {
     "name": "stdout",
     "output_type": "stream",
     "text": [
      "><\n"
     ]
    }
   ],
   "source": [
    "print('>' + find_tags('') + '<')"
   ]
  },
  {
   "cell_type": "code",
   "execution_count": 6,
   "metadata": {},
   "outputs": [
    {
     "name": "stdout",
     "output_type": "stream",
     "text": [
      "><\n"
     ]
    }
   ],
   "source": [
    "print('>' + find_tags('apple') + '<')"
   ]
  },
  {
   "cell_type": "code",
   "execution_count": null,
   "metadata": {},
   "outputs": [],
   "source": []
  }
 ],
 "metadata": {
  "kernelspec": {
   "display_name": "Python 3",
   "language": "python",
   "name": "python3"
  },
  "language_info": {
   "codemirror_mode": {
    "name": "ipython",
    "version": 3
   },
   "file_extension": ".py",
   "mimetype": "text/x-python",
   "name": "python",
   "nbconvert_exporter": "python",
   "pygments_lexer": "ipython3",
   "version": "3.8.5"
  }
 },
 "nbformat": 4,
 "nbformat_minor": 4
}
