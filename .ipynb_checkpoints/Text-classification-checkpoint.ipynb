{
 "cells": [
  {
   "cell_type": "code",
   "execution_count": 1,
   "metadata": {},
   "outputs": [],
   "source": [
    "from sklearn.datasets import fetch_20newsgroups"
   ]
  },
  {
   "cell_type": "code",
   "execution_count": 2,
   "metadata": {},
   "outputs": [],
   "source": [
    "newsgroups_train = fetch_20newsgroups(remove=('headers','footers','quotes'),subset='train')\n",
    "remove_ws = lambda x: \" \".join(x.split())\n",
    "x_train  = list(map(remove_ws,newsgroups_train.data))\n",
    "y_train = newsgroups_train.target"
   ]
  },
  {
   "cell_type": "code",
   "execution_count": 8,
   "metadata": {},
   "outputs": [
    {
     "data": {
      "text/plain": [
       "11314"
      ]
     },
     "execution_count": 8,
     "metadata": {},
     "output_type": "execute_result"
    }
   ],
   "source": [
    "len(y_train)"
   ]
  },
  {
   "cell_type": "code",
   "execution_count": 9,
   "metadata": {},
   "outputs": [
    {
     "data": {
      "text/plain": [
       "11314"
      ]
     },
     "execution_count": 9,
     "metadata": {},
     "output_type": "execute_result"
    }
   ],
   "source": [
    "len(x_train)"
   ]
  },
  {
   "cell_type": "code",
   "execution_count": null,
   "metadata": {},
   "outputs": [],
   "source": [
    "def length(s): \n",
    "   if not s:  # test if there are no more characters in the string\n",
    "      return 0\n",
    "   else:  # maintain a count by adding 1 each time you return\n",
    "          # get all but the first character using a slice\n",
    "      return 1 + length( s[1:] )"
   ]
  },
  {
   "cell_type": "code",
   "execution_count": null,
   "metadata": {},
   "outputs": [],
   "source": []
  },
  {
   "cell_type": "code",
   "execution_count": null,
   "metadata": {},
   "outputs": [],
   "source": [
    "def countSubstrig(str1, str2):\n",
    "     \n",
    "    n1 = len(str1);\n",
    "    n2 = len(str2);\n",
    "     \n",
    "    # Base Case\n",
    "    if (n1 == 0 or n1 < n2):\n",
    "        return 0;\n",
    " \n",
    "    # Recursive Case\n",
    "    # Checking if the first\n",
    "    # substring matches\n",
    "    if (str1[0 : n2] == str2):\n",
    "        return countSubstrig(str1[n2 - 1:],\n",
    "                             str2) + 1;\n",
    " \n",
    "    # Otherwise, return the count\n",
    "    # from the remaining index\n",
    "    return countSubstrig(str1[n2 - 1:],\n",
    "                         str2);"
   ]
  }
 ],
 "metadata": {
  "kernelspec": {
   "display_name": "Python 3",
   "language": "python",
   "name": "python3"
  },
  "language_info": {
   "codemirror_mode": {
    "name": "ipython",
    "version": 3
   },
   "file_extension": ".py",
   "mimetype": "text/x-python",
   "name": "python",
   "nbconvert_exporter": "python",
   "pygments_lexer": "ipython3",
   "version": "3.8.5"
  }
 },
 "nbformat": 4,
 "nbformat_minor": 4
}
