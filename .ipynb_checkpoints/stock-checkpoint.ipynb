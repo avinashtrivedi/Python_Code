{
 "cells": [
  {
   "cell_type": "code",
   "execution_count": 1,
   "metadata": {},
   "outputs": [],
   "source": [
    "# import library\n",
    "import numpy as np\n",
    "import pandas as pd\n",
    "# set the seed  value so as to reproduce the similar result.\n",
    "np.random.seed(100)\n",
    "start_date = np.datetime64('2020-01-01')\n",
    "end_date = np.datetime64('2020-03-31')\n",
    "max_stock_price = 500\n",
    "min_stock_price = 1\n",
    "n=3\n",
    "initial_wealth = 1000"
   ]
  },
  {
   "cell_type": "markdown",
   "metadata": {},
   "source": [
    "# a"
   ]
  },
  {
   "cell_type": "code",
   "execution_count": 2,
   "metadata": {},
   "outputs": [],
   "source": [
    "# generate list of date \n",
    "list_of_date = pd.period_range(start_date,end_date)"
   ]
  },
  {
   "cell_type": "code",
   "execution_count": 3,
   "metadata": {},
   "outputs": [],
   "source": [
    "# generate list of stock prices\n",
    "stock_prices=[]\n",
    "for i in range(len(list_of_date)):\n",
    "    stock_prices.append(np.random.randint(min_stock_price, max_stock_price))"
   ]
  },
  {
   "cell_type": "markdown",
   "metadata": {},
   "source": [
    "# b"
   ]
  },
  {
   "cell_type": "code",
   "execution_count": 4,
   "metadata": {},
   "outputs": [],
   "source": [
    "df = pd.DataFrame(stock_prices,index=list_of_date,columns=['price'])"
   ]
  },
  {
   "cell_type": "code",
   "execution_count": 5,
   "metadata": {},
   "outputs": [],
   "source": [
    "# pct_change: compute a percentage change between the current and a previous price\n",
    "# return is in %\n",
    "df['return'] = df.pct_change()*100\n",
    "df.dropna(inplace=True)"
   ]
  },
  {
   "cell_type": "code",
   "execution_count": 6,
   "metadata": {},
   "outputs": [
    {
     "data": {
      "text/html": [
       "<div>\n",
       "<style scoped>\n",
       "    .dataframe tbody tr th:only-of-type {\n",
       "        vertical-align: middle;\n",
       "    }\n",
       "\n",
       "    .dataframe tbody tr th {\n",
       "        vertical-align: top;\n",
       "    }\n",
       "\n",
       "    .dataframe thead th {\n",
       "        text-align: right;\n",
       "    }\n",
       "</style>\n",
       "<table border=\"1\" class=\"dataframe\">\n",
       "  <thead>\n",
       "    <tr style=\"text-align: right;\">\n",
       "      <th></th>\n",
       "      <th>price</th>\n",
       "      <th>return</th>\n",
       "    </tr>\n",
       "  </thead>\n",
       "  <tbody>\n",
       "    <tr>\n",
       "      <th>2020-01-02</th>\n",
       "      <td>281</td>\n",
       "      <td>3022.222222</td>\n",
       "    </tr>\n",
       "    <tr>\n",
       "      <th>2020-01-03</th>\n",
       "      <td>324</td>\n",
       "      <td>15.302491</td>\n",
       "    </tr>\n",
       "    <tr>\n",
       "      <th>2020-01-04</th>\n",
       "      <td>360</td>\n",
       "      <td>11.111111</td>\n",
       "    </tr>\n",
       "    <tr>\n",
       "      <th>2020-01-05</th>\n",
       "      <td>344</td>\n",
       "      <td>-4.444444</td>\n",
       "    </tr>\n",
       "    <tr>\n",
       "      <th>2020-01-06</th>\n",
       "      <td>80</td>\n",
       "      <td>-76.744186</td>\n",
       "    </tr>\n",
       "    <tr>\n",
       "      <th>...</th>\n",
       "      <td>...</td>\n",
       "      <td>...</td>\n",
       "    </tr>\n",
       "    <tr>\n",
       "      <th>2020-03-27</th>\n",
       "      <td>489</td>\n",
       "      <td>12.413793</td>\n",
       "    </tr>\n",
       "    <tr>\n",
       "      <th>2020-03-28</th>\n",
       "      <td>348</td>\n",
       "      <td>-28.834356</td>\n",
       "    </tr>\n",
       "    <tr>\n",
       "      <th>2020-03-29</th>\n",
       "      <td>476</td>\n",
       "      <td>36.781609</td>\n",
       "    </tr>\n",
       "    <tr>\n",
       "      <th>2020-03-30</th>\n",
       "      <td>468</td>\n",
       "      <td>-1.680672</td>\n",
       "    </tr>\n",
       "    <tr>\n",
       "      <th>2020-03-31</th>\n",
       "      <td>182</td>\n",
       "      <td>-61.111111</td>\n",
       "    </tr>\n",
       "  </tbody>\n",
       "</table>\n",
       "<p>90 rows × 2 columns</p>\n",
       "</div>"
      ],
      "text/plain": [
       "            price       return\n",
       "2020-01-02    281  3022.222222\n",
       "2020-01-03    324    15.302491\n",
       "2020-01-04    360    11.111111\n",
       "2020-01-05    344    -4.444444\n",
       "2020-01-06     80   -76.744186\n",
       "...           ...          ...\n",
       "2020-03-27    489    12.413793\n",
       "2020-03-28    348   -28.834356\n",
       "2020-03-29    476    36.781609\n",
       "2020-03-30    468    -1.680672\n",
       "2020-03-31    182   -61.111111\n",
       "\n",
       "[90 rows x 2 columns]"
      ]
     },
     "execution_count": 6,
     "metadata": {},
     "output_type": "execute_result"
    }
   ],
   "source": [
    "df"
   ]
  },
  {
   "cell_type": "markdown",
   "metadata": {},
   "source": [
    "# c"
   ]
  },
  {
   "cell_type": "code",
   "execution_count": 7,
   "metadata": {},
   "outputs": [],
   "source": [
    "df_temp = df.copy()# make a copy of the dataframe "
   ]
  },
  {
   "cell_type": "code",
   "execution_count": 8,
   "metadata": {},
   "outputs": [],
   "source": [
    "# reset the index so as to make the index like 0,1,2,3.....\n",
    "df_temp.reset_index(inplace=True)"
   ]
  },
  {
   "cell_type": "code",
   "execution_count": 9,
   "metadata": {},
   "outputs": [],
   "source": [
    "indx=[] # store the index where there are 3 consecutive days of price increase\n",
    "for i in range(len(df_temp)-2):\n",
    "    if df_temp.iloc[i,2]>0 and df_temp.iloc[i+1,2]>0 and df_temp.iloc[i+2,2]>0:\n",
    "        indx.append(i)"
   ]
  },
  {
   "cell_type": "code",
   "execution_count": 10,
   "metadata": {},
   "outputs": [
    {
     "data": {
      "text/plain": [
       "[0, 29, 58, 62, 82, 83]"
      ]
     },
     "execution_count": 10,
     "metadata": {},
     "output_type": "execute_result"
    }
   ],
   "source": [
    "indx"
   ]
  },
  {
   "cell_type": "code",
   "execution_count": 11,
   "metadata": {},
   "outputs": [],
   "source": [
    "date_list=[] # store the date where there are 3 consecutive days of price increase\n",
    "for i in indx:\n",
    "    date_list.append(str(df_temp.iloc[i,0]))"
   ]
  },
  {
   "cell_type": "code",
   "execution_count": 12,
   "metadata": {},
   "outputs": [
    {
     "data": {
      "text/plain": [
       "['2020-01-02',\n",
       " '2020-01-31',\n",
       " '2020-02-29',\n",
       " '2020-03-04',\n",
       " '2020-03-24',\n",
       " '2020-03-25']"
      ]
     },
     "execution_count": 12,
     "metadata": {},
     "output_type": "execute_result"
    }
   ],
   "source": [
    "date_list"
   ]
  },
  {
   "cell_type": "markdown",
   "metadata": {},
   "source": [
    "# d"
   ]
  },
  {
   "cell_type": "code",
   "execution_count": 13,
   "metadata": {},
   "outputs": [
    {
     "name": "stdout",
     "output_type": "stream",
     "text": [
      "wealth of the trader on end date: $ 380.26\n"
     ]
    }
   ],
   "source": [
    "# initial_wealth = 1000\n",
    "# consider that trader is buying the stock at closing price of 3rd day \n",
    "# and selling it at closing price 4th day.\n",
    "for i in indx:\n",
    "    if (i+3) < len(df_temp):\n",
    "        initial_wealth = initial_wealth + initial_wealth*df_temp.iloc[i+3,2]/100\n",
    "print('wealth of the trader on end date: $',round(initial_wealth,2))"
   ]
  },
  {
   "cell_type": "code",
   "execution_count": null,
   "metadata": {},
   "outputs": [],
   "source": []
  }
 ],
 "metadata": {
  "kernelspec": {
   "display_name": "Python 3",
   "language": "python",
   "name": "python3"
  },
  "language_info": {
   "codemirror_mode": {
    "name": "ipython",
    "version": 3
   },
   "file_extension": ".py",
   "mimetype": "text/x-python",
   "name": "python",
   "nbconvert_exporter": "python",
   "pygments_lexer": "ipython3",
   "version": "3.8.5"
  }
 },
 "nbformat": 4,
 "nbformat_minor": 4
}
