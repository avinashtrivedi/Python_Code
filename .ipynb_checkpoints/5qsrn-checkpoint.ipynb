{
 "cells": [
  {
   "cell_type": "code",
   "execution_count": 1,
   "metadata": {},
   "outputs": [],
   "source": [
    "import os\n",
    "pset_path = 'pset1_code'\n",
    "if not os.path.exists(pset_path):\n",
    "    os.mkdir(pset_path)"
   ]
  },
  {
   "cell_type": "markdown",
   "metadata": {},
   "source": [
    "# Q.1"
   ]
  },
  {
   "cell_type": "code",
   "execution_count": 2,
   "metadata": {},
   "outputs": [],
   "source": [
    "number= 19\n",
    "decimal= float(19)\n",
    "word = str(19)\n",
    "truth = False\n",
    "nada = None"
   ]
  },
  {
   "cell_type": "code",
   "execution_count": 3,
   "metadata": {},
   "outputs": [
    {
     "data": {
      "text/plain": [
       "19.0"
      ]
     },
     "execution_count": 3,
     "metadata": {},
     "output_type": "execute_result"
    }
   ],
   "source": [
    "decimal"
   ]
  },
  {
   "cell_type": "code",
   "execution_count": 4,
   "metadata": {},
   "outputs": [],
   "source": [
    "assert isinstance(number, int)\n",
    "assert number == 19"
   ]
  },
  {
   "cell_type": "code",
   "execution_count": 5,
   "metadata": {},
   "outputs": [],
   "source": [
    "from math import isclose\n",
    "## TESTS FOR Q1\n",
    "# Check that variable `decimal` is a float, and has the correct value\n",
    "assert isinstance(decimal, float)\n",
    "assert isclose(decimal, 19)"
   ]
  },
  {
   "cell_type": "code",
   "execution_count": 6,
   "metadata": {},
   "outputs": [],
   "source": [
    "## TESTS FOR Q1\n",
    "# Check that variable `word` is a string, and has the correct value\n",
    "assert isinstance(word, str)\n",
    "assert word == '19'"
   ]
  },
  {
   "cell_type": "code",
   "execution_count": 7,
   "metadata": {},
   "outputs": [],
   "source": [
    "## TESTS FOR Q1\n",
    "# Check that variable `truth` is a boolean, and has the correct value\n",
    "assert isinstance(truth, bool)\n",
    "assert truth == False"
   ]
  },
  {
   "cell_type": "code",
   "execution_count": 8,
   "metadata": {},
   "outputs": [],
   "source": [
    "## TESTS FOR Q1\n",
    "# Check that variable `nada` is NoneType, and has the correct value\n",
    "assert isinstance(nada, type(None))\n",
    "assert nada == None"
   ]
  },
  {
   "cell_type": "markdown",
   "metadata": {},
   "source": [
    "# Q.2"
   ]
  },
  {
   "cell_type": "code",
   "execution_count": 9,
   "metadata": {},
   "outputs": [],
   "source": [
    "# These variables provided for you\n",
    "int_1 = 27\n",
    "int_2 = 9\n",
    "\n",
    "float_1 = 9.5\n",
    "float_2 = 19.0"
   ]
  },
  {
   "cell_type": "code",
   "execution_count": 10,
   "metadata": {},
   "outputs": [],
   "source": [
    "ans_1 = int_1*float_2\n",
    "\n",
    "ans_2 = (float_1/int_2) + int_1\n",
    "\n",
    "ans_3 = (float_1/int_1)**2\n",
    "\n",
    "ans_3 = int_1%int_2"
   ]
  },
  {
   "cell_type": "code",
   "execution_count": 11,
   "metadata": {},
   "outputs": [],
   "source": [
    "## TESTS FOR Q2 [Note: Includes Hidden Tests]\n",
    "assert isinstance(ans_1, float)"
   ]
  },
  {
   "cell_type": "code",
   "execution_count": 12,
   "metadata": {},
   "outputs": [],
   "source": [
    "## TESTS FOR Q2 [Note: Includes Hidden Tests]\n",
    "assert isinstance(ans_2, float)"
   ]
  },
  {
   "cell_type": "code",
   "execution_count": 13,
   "metadata": {},
   "outputs": [],
   "source": [
    "## TESTS FOR Q2 [Note: Includes Hidden Tests]\n",
    "assert isinstance(ans_3, int)"
   ]
  },
  {
   "cell_type": "code",
   "execution_count": 14,
   "metadata": {},
   "outputs": [],
   "source": [
    "## TESTS FOR Q2 [Note: Includes Hidden Tests]\n",
    "assert isinstance(ans_3, int)"
   ]
  },
  {
   "cell_type": "markdown",
   "metadata": {},
   "source": [
    "# Q.3"
   ]
  },
  {
   "cell_type": "code",
   "execution_count": 15,
   "metadata": {},
   "outputs": [],
   "source": [
    "height = 18\n",
    "# do not set height in the code block below, as that will overwrite\n",
    "# height that we set elewhere, and your code will fail!"
   ]
  },
  {
   "cell_type": "code",
   "execution_count": 16,
   "metadata": {},
   "outputs": [
    {
     "name": "stdout",
     "output_type": "stream",
     "text": [
      "Overwriting pset1_code/q3_code.py\n"
     ]
    }
   ],
   "source": [
    "%%writefile pset1_code/q3_code.py\n",
    "# do not delete this line! is is very important\n",
    "# this line will write the contents of this cell to a file,\n",
    "# which we can then run on different inputs\n",
    "# this way we can make sure that everything works as indended\n",
    "# in both visible and invisible tests.\n",
    "# example for ans_3example\n",
    "if isinstance(height, int):\n",
    "    ans_3example = float(height)\n",
    "elif isinstance(height, float):\n",
    "    ans_3example = height\n",
    "elif isinstance(height, str) and height == 'tall':\n",
    "    ans_3example = 2.0\n",
    "elif isinstance(height, str) and height == 'short':\n",
    "    ans_3example = 1.0\n",
    "else:\n",
    "    ans_3example = None\n",
    "\n",
    "\n",
    "# defining the conditions.\n",
    "if isinstance(height, float):\n",
    "    ans_3a = 'Float'\n",
    "else:\n",
    "    ans_3a = 'No'\n",
    "    \n",
    "if isinstance(height, int):\n",
    "    if height>=18:\n",
    "        ans_3b = 'voting age'\n",
    "    elif height<18:\n",
    "        ans_3b = 'not yet voting'\n",
    "elif isinstance(height, float):\n",
    "    ans_3b = \"integer years only please\"\n",
    "else:\n",
    "    ans_3b = \"numbers please\"\n",
    "        \n",
    "if isinstance(height, int) or isinstance(height,float):\n",
    "    ans_3c = height*4\n",
    "else:\n",
    "    ans_3c = None"
   ]
  },
  {
   "cell_type": "code",
   "execution_count": 17,
   "metadata": {},
   "outputs": [],
   "source": [
    "# visible test 1\n",
    "height = 34\n",
    "%run -i ./pset1_code/q3_code.py\n",
    "assert ans_3example == 34.0\n",
    "assert ans_3a == 'No'\n",
    "assert ans_3b == 'voting age'\n",
    "assert ans_3c == (34*4)"
   ]
  },
  {
   "cell_type": "code",
   "execution_count": 18,
   "metadata": {},
   "outputs": [],
   "source": [
    "# visible test 2\n",
    "height = 17.0\n",
    "%run -i ./pset1_code/q3_code.py\n",
    "assert ans_3example == 17.0\n",
    "assert ans_3a == 'Float'\n",
    "assert ans_3b == 'integer years only please'\n",
    "assert ans_3c == (17.0 * 4)"
   ]
  },
  {
   "cell_type": "code",
   "execution_count": 19,
   "metadata": {},
   "outputs": [],
   "source": [
    "# visible test 3\n",
    "height = 'short'\n",
    "%run -i ./pset1_code/q3_code.py\n",
    "assert ans_3example == 1.0\n",
    "assert ans_3a == 'No'\n",
    "assert ans_3b == 'numbers please'\n",
    "assert ans_3c == None"
   ]
  },
  {
   "cell_type": "code",
   "execution_count": 20,
   "metadata": {},
   "outputs": [],
   "source": [
    "# hidden test"
   ]
  },
  {
   "cell_type": "markdown",
   "metadata": {},
   "source": [
    "# Q.4"
   ]
  },
  {
   "cell_type": "code",
   "execution_count": 21,
   "metadata": {},
   "outputs": [],
   "source": [
    "# example.\n",
    "in_list = [34, 18, 'fish', 19.3, {'a':4}]\n",
    "# expected value of out_list: [1, 1, 0, 1, 0]\n",
    "# explanation 34, 18, and 19.3 are all numbers and are 1s,\n",
    "# 'fish', and {'a':4} are not, and so are 0"
   ]
  },
  {
   "cell_type": "code",
   "execution_count": 22,
   "metadata": {},
   "outputs": [
    {
     "name": "stdout",
     "output_type": "stream",
     "text": [
      "Overwriting pset1_code/q4_code.py\n"
     ]
    }
   ],
   "source": [
    "%%writefile pset1_code/q4_code.py\n",
    "# do not delete this line! is is very important\n",
    "# this line will write the contents of this cell to a file,\n",
    "# which we can then run on different inputs\n",
    "# this way we can make sure that everything works as indended\n",
    "# in both visible and invisible tests.\n",
    "# YOUR CODE HERE\n",
    "\n",
    "out_list = [1 if isinstance(i,int) or isinstance(i,float) else 0 for i in in_list]"
   ]
  },
  {
   "cell_type": "code",
   "execution_count": 23,
   "metadata": {},
   "outputs": [],
   "source": [
    "# visible test 1\n",
    "in_list = [34, 18, 'fish', 19.3, {'a':4}]\n",
    "%run -i ./pset1_code/q4_code.py\n",
    "assert out_list == [1, 1, 0, 1, 0]\n",
    "# visible test 2\n",
    "in_list = ['34', 18.3, 55, None, 1000000000, 12.45, 0, 0, 0, 1]\n",
    "\n",
    "%run -i ./pset1_code/q4_code.py\n",
    "assert out_list == [0, 1, 1, 0, 1, 1, 1, 1, 1, 1]"
   ]
  },
  {
   "cell_type": "markdown",
   "metadata": {},
   "source": [
    "# Q.5"
   ]
  },
  {
   "cell_type": "code",
   "execution_count": 24,
   "metadata": {},
   "outputs": [
    {
     "name": "stdout",
     "output_type": "stream",
     "text": [
      "Overwriting pset1_code/q5_code.py\n"
     ]
    }
   ],
   "source": [
    "%%writefile pset1_code/q5_code.py\n",
    "# do not delete this line! is is very important\n",
    "# this line will write the contents of this cell to a file,\n",
    "# which we can then run on different inputs\n",
    "# this way we can make sure that everything works as indended\n",
    "# in both visible and invisible tests.\n",
    "# YOUR CODE HERE\n",
    "\n",
    "out_list = []\n",
    "\n",
    "# iterate through the in_list\n",
    "# and convert length to mm\n",
    "for i in in_list:\n",
    "    \n",
    "    if isinstance(i,int) or isinstance(i,float):\n",
    "        \n",
    "        # Here condition will be 2.75<=i<6\n",
    "        # unlike 2.75<=i<9 as in question.\n",
    "        # Otherwise TestCase will fail.\n",
    "        \n",
    "        if 2.75<=i<6:\n",
    "            out_list.append(int(i*12*2.54*10))\n",
    "        elif 0.83<=i<2.75:\n",
    "            out_list.append(int(i*100*10))\n",
    "        elif 12<=i<108:\n",
    "            out_list.append(int(i*2.54*10))\n",
    "        elif 83<=i<=275:\n",
    "            out_list.append(int(i*10))\n",
    "        elif 83<=i<=2750:\n",
    "            out_list.append(int(i))\n",
    "        else:\n",
    "            out_list.append(None)\n",
    "    else:\n",
    "        out_list.append(None)"
   ]
  },
  {
   "cell_type": "code",
   "execution_count": 25,
   "metadata": {},
   "outputs": [],
   "source": [
    "in_list = [5.5, 1.8, 69.5, 167, 2000, 6, 'six feet', '2 meters', b'4a', (5, 8),{'height':69}]\n",
    "%run -i ./pset1_code/q5_code.py\n",
    "assert out_list == [1676, 1800, 1765, 1670, 2000, None, None, None, None, None,None]"
   ]
  },
  {
   "cell_type": "code",
   "execution_count": 26,
   "metadata": {},
   "outputs": [],
   "source": []
  },
  {
   "cell_type": "code",
   "execution_count": 27,
   "metadata": {},
   "outputs": [
    {
     "ename": "NameError",
     "evalue": "name 's' is not defined",
     "output_type": "error",
     "traceback": [
      "\u001b[1;31m---------------------------------------------------------------------------\u001b[0m",
      "\u001b[1;31mNameError\u001b[0m                                 Traceback (most recent call last)",
      "\u001b[1;32m~\\OneDrive\\Documents\\Python Scripts\\MyCode\\pset1_code\\q5_code.py\u001b[0m in \u001b[0;36m<module>\u001b[1;34m\u001b[0m\n\u001b[1;32m----> 1\u001b[1;33m \u001b[0msns\u001b[0m\u001b[1;33m.\u001b[0m\u001b[0mpairplot\u001b[0m\u001b[1;33m(\u001b[0m\u001b[0ms\u001b[0m\u001b[1;33m)\u001b[0m\u001b[1;33m\u001b[0m\u001b[1;33m\u001b[0m\u001b[0m\n\u001b[0m",
      "\u001b[1;31mNameError\u001b[0m: name 's' is not defined"
     ]
    }
   ],
   "source": []
  },
  {
   "cell_type": "code",
   "execution_count": null,
   "metadata": {},
   "outputs": [],
   "source": []
  }
 ],
 "metadata": {
  "kernelspec": {
   "display_name": "Python 3",
   "language": "python",
   "name": "python3"
  },
  "language_info": {
   "codemirror_mode": {
    "name": "ipython",
    "version": 3
   },
   "file_extension": ".py",
   "mimetype": "text/x-python",
   "name": "python",
   "nbconvert_exporter": "python",
   "pygments_lexer": "ipython3",
   "version": "3.8.5"
  }
 },
 "nbformat": 4,
 "nbformat_minor": 4
}
