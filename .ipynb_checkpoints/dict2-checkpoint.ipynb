{
 "cells": [
  {
   "cell_type": "code",
   "execution_count": 1,
   "metadata": {},
   "outputs": [],
   "source": [
    "# define a dictionary to hold name:job pairs.\n",
    "\n",
    "NameJobDict = {\"Sam\": \"Plumber\", \n",
    "               \"George\": \"Physical Trainer\", \n",
    "               \"Nancy\": \"Accountant\",\n",
    "               \"Adam\" : \"Programmer\",\n",
    "               \"Smith\" : \"Software Engg\",\n",
    "               \"Rudy\" : \"Supervisor\",\n",
    "               \"Michael\" : \"Teacher\"\n",
    "              }"
   ]
  },
  {
   "cell_type": "code",
   "execution_count": 2,
   "metadata": {},
   "outputs": [
    {
     "data": {
      "text/plain": [
       "{'Sam': 'Plumber',\n",
       " 'George': 'Physical Trainer',\n",
       " 'Nancy': 'Accountant',\n",
       " 'Adam': 'Programmer',\n",
       " 'Smith': 'Software Engg',\n",
       " 'Rudy': 'Supervisor',\n",
       " 'Michael': 'Teacher'}"
      ]
     },
     "execution_count": 2,
     "metadata": {},
     "output_type": "execute_result"
    }
   ],
   "source": [
    "# display the dictionary\n",
    "NameJobDict"
   ]
  },
  {
   "cell_type": "code",
   "execution_count": 3,
   "metadata": {},
   "outputs": [
    {
     "name": "stdout",
     "output_type": "stream",
     "text": [
      "Name\tJob\n",
      "-------------------------\n",
      "Sam\tPlumber\n",
      "George\tPhysical Trainer\n",
      "Nancy\tAccountant\n",
      "Adam\tProgrammer\n",
      "Smith\tSoftware Engg\n",
      "Rudy\tSupervisor\n",
      "Michael\tTeacher\n"
     ]
    }
   ],
   "source": [
    "# print the header\n",
    "print('Name','Job',sep='\\t')\n",
    "\n",
    "# print '-' 25 times for better print formatting.\n",
    "print(25*\"-\")\n",
    "\n",
    "# print name:job pairs in separate line.\n",
    "for i in NameJobDict:\n",
    "    print(i,NameJobDict[i],sep='\\t')"
   ]
  },
  {
   "cell_type": "code",
   "execution_count": null,
   "metadata": {},
   "outputs": [],
   "source": []
  }
 ],
 "metadata": {
  "kernelspec": {
   "display_name": "Python 3",
   "language": "python",
   "name": "python3"
  },
  "language_info": {
   "codemirror_mode": {
    "name": "ipython",
    "version": 3
   },
   "file_extension": ".py",
   "mimetype": "text/x-python",
   "name": "python",
   "nbconvert_exporter": "python",
   "pygments_lexer": "ipython3",
   "version": "3.8.5"
  }
 },
 "nbformat": 4,
 "nbformat_minor": 4
}
