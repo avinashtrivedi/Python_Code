{
 "cells": [
  {
   "cell_type": "code",
   "execution_count": 1,
   "metadata": {},
   "outputs": [
    {
     "name": "stdout",
     "output_type": "stream",
     "text": [
      "Enter the mean and variance of the distribution.\n",
      "\n",
      "Enter Mean (between minus infinity (-∞) and plus infinity (+∞)): 4\n",
      "Enter Sigma (value larger than 0): 2\n",
      "for x between -5 to 5, pdf is: 0.6914590636008883\n"
     ]
    }
   ],
   "source": [
    "# import library\n",
    "from scipy import integrate\n",
    "import numpy as np\n",
    "from math import pi\n",
    "from math import exp\n",
    "\n",
    "# define pdf\n",
    "def pdf(mu, sigma):\n",
    "    x2 = lambda x: 1.0 / (sigma * (2.0 * pi)**(1/2)) * exp(-1.0 * (x - mu)**2 / (2.0 * (sigma**2)))\n",
    "    \n",
    "    # integrate between -5 to 5\n",
    "    # you can change this value of lower and Upper limit of integration \n",
    "    return integrate.quad(x2, -5, 5)[0]\n",
    "\n",
    "print(\"Enter the mean and variance of the distribution.\\n\")\n",
    "mu = input('Enter Mean (between minus infinity (-∞) and plus infinity (+∞)): ')\n",
    "sigma = input('Enter Sigma (value larger than 0): ')\n",
    "\n",
    "# if no value is provided and Enter is pressed.\n",
    "# then mu=0 and sigma=1\n",
    "\n",
    "# try-except block to handle wrong inputs.\n",
    "try:  \n",
    "    if mu=='':\n",
    "        mu = 0\n",
    "    else:\n",
    "        mu = int(mu)\n",
    "    if sigma=='':\n",
    "        sigma=1\n",
    "    else:\n",
    "        sigma = int(sigma)\n",
    "except:\n",
    "    print('Wrong input.')\n",
    "\n",
    "print('for x between -5 to 5, pdf is:',pdf(mu, sigma))"
   ]
  },
  {
   "cell_type": "code",
   "execution_count": 2,
   "metadata": {},
   "outputs": [],
   "source": [
    "from scipy import integrate\n",
    "import numpy as np\n",
    "from math import pi\n",
    "from math import exp"
   ]
  },
  {
   "cell_type": "code",
   "execution_count": 4,
   "metadata": {},
   "outputs": [],
   "source": [
    "from math import pi\n",
    "from math import exp\n",
    "from scipy import stats\n",
    "\n",
    "\n",
    "def normal_pdf(x, mu, sigma):\n",
    "    return 1.0 / (sigma * (2.0 * pi)**(1/2)) * exp(-1.0 * (x - mu)**2 / (2.0 * (sigma**2)))"
   ]
  },
  {
   "cell_type": "code",
   "execution_count": 16,
   "metadata": {},
   "outputs": [],
   "source": [
    "Custom_Dictionary = {}\n",
    "x=-5\n",
    "while x <=5:\n",
    "    Custom_Dictionary[x] = normal_pdf(x,0,1)\n",
    "    x = round(x + 0.1,1)"
   ]
  },
  {
   "cell_type": "code",
   "execution_count": 19,
   "metadata": {},
   "outputs": [
    {
     "name": "stdout",
     "output_type": "stream",
     "text": [
      "For x = -2 probabilities is: 0.05399096651318806\n",
      "For x = -1.5 probabilities is: 0.12951759566589174\n",
      "For x = -1.0 probabilities is: 0.24197072451914337\n",
      "For x = -0.5 probabilities is: 0.3520653267642995\n",
      "For x = 0.0 probabilities is: 0.3989422804014327\n",
      "For x = 0.5 probabilities is: 0.3520653267642995\n",
      "For x = 1.0 probabilities is: 0.24197072451914337\n",
      "For x = 1.5 probabilities is: 0.12951759566589174\n",
      "For x = 2.0 probabilities is: 0.05399096651318806\n"
     ]
    }
   ],
   "source": [
    "x=-2\n",
    "while x <=2:\n",
    "    print('For x = {} probabilities is: {}'.format(x,Custom_Dictionary[x]))\n",
    "    x = round(x + 0.5,1)"
   ]
  },
  {
   "cell_type": "code",
   "execution_count": null,
   "metadata": {},
   "outputs": [],
   "source": []
  }
 ],
 "metadata": {
  "kernelspec": {
   "display_name": "Python 3",
   "language": "python",
   "name": "python3"
  },
  "language_info": {
   "codemirror_mode": {
    "name": "ipython",
    "version": 3
   },
   "file_extension": ".py",
   "mimetype": "text/x-python",
   "name": "python",
   "nbconvert_exporter": "python",
   "pygments_lexer": "ipython3",
   "version": "3.8.5"
  }
 },
 "nbformat": 4,
 "nbformat_minor": 4
}
