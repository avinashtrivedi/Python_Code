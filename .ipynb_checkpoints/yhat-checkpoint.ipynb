{
 "cells": [
  {
   "cell_type": "code",
   "execution_count": 1,
   "metadata": {},
   "outputs": [],
   "source": [
    "# import the library\n",
    "import numpy as np"
   ]
  },
  {
   "cell_type": "code",
   "execution_count": 2,
   "metadata": {},
   "outputs": [],
   "source": [
    "# define x1,x2 and y\n",
    "\n",
    "x1 = [4,6,8,4,10,1,9,5,2,7,8,2,2,8,7,9,1,4,6,9]\n",
    "x2 = [0.2,0.1,0.3,0.6,0.1,0.4,0.6,0.3,0.5,0.5,0.1,0.9,0.8,1,0.9,0.1,0.2,0.2,0.7,0.7]\n",
    "y = [1.16,0.06,-1.79,1.55,-4.88,1.37,-1.25,-1.1,3.23,-2.71,-0.99,3.23,4.55,2.7,-1.13,-0.88,2.08,1.62,-0.9,0.46]"
   ]
  },
  {
   "cell_type": "code",
   "execution_count": 3,
   "metadata": {},
   "outputs": [],
   "source": [
    "# convert x1,x2,y into numpy array\n",
    "x1 = np.array(x1)\n",
    "x2 = np.array(x2)\n",
    "y = np.array(y)"
   ]
  },
  {
   "cell_type": "code",
   "execution_count": 4,
   "metadata": {},
   "outputs": [
    {
     "data": {
      "text/plain": [
       "array([ 0.5 , -0.75, -1.25,  1.5 , -2.75,  2.5 , -1.  ,  0.25,  2.25,\n",
       "       -0.25, -1.75,  3.25,  3.  ,  0.5 ,  0.75, -2.25,  2.  ,  0.5 ,\n",
       "        0.75, -0.75])"
      ]
     },
     "execution_count": 4,
     "metadata": {},
     "output_type": "execute_result"
    }
   ],
   "source": [
    "# compute y_hat\n",
    "y_hat = 2-0.5*x1 + 2.5*x2\n",
    "y_hat"
   ]
  },
  {
   "cell_type": "code",
   "execution_count": 5,
   "metadata": {},
   "outputs": [
    {
     "name": "stdout",
     "output_type": "stream",
     "text": [
      "[ 0.5  -0.75 -1.25  1.5  -2.75  2.5  -1.    0.25  2.25 -0.25 -1.75  3.25\n",
      "  3.    0.5   0.75 -2.25  2.    0.5   0.75 -0.75]\n"
     ]
    }
   ],
   "source": [
    "print(y_hat) # print y_hat"
   ]
  },
  {
   "cell_type": "code",
   "execution_count": 6,
   "metadata": {},
   "outputs": [
    {
     "data": {
      "text/plain": [
       "array([ 0.66,  0.81, -0.54,  0.05, -2.13, -1.13, -0.25, -1.35,  0.98,\n",
       "       -2.46,  0.76, -0.02,  1.55,  2.2 , -1.88,  1.37,  0.08,  1.12,\n",
       "       -1.65,  1.21])"
      ]
     },
     "execution_count": 6,
     "metadata": {},
     "output_type": "execute_result"
    }
   ],
   "source": [
    "# compute residuals\n",
    "e = y-y_hat\n",
    "e"
   ]
  },
  {
   "cell_type": "code",
   "execution_count": 7,
   "metadata": {},
   "outputs": [
    {
     "name": "stdout",
     "output_type": "stream",
     "text": [
      "[ 0.66  0.81 -0.54  0.05 -2.13 -1.13 -0.25 -1.35  0.98 -2.46  0.76 -0.02\n",
      "  1.55  2.2  -1.88  1.37  0.08  1.12 -1.65  1.21]\n"
     ]
    }
   ],
   "source": [
    "print(e) # print residual"
   ]
  },
  {
   "cell_type": "code",
   "execution_count": null,
   "metadata": {},
   "outputs": [],
   "source": []
  }
 ],
 "metadata": {
  "kernelspec": {
   "display_name": "Python 3",
   "language": "python",
   "name": "python3"
  },
  "language_info": {
   "codemirror_mode": {
    "name": "ipython",
    "version": 3
   },
   "file_extension": ".py",
   "mimetype": "text/x-python",
   "name": "python",
   "nbconvert_exporter": "python",
   "pygments_lexer": "ipython3",
   "version": "3.8.5"
  }
 },
 "nbformat": 4,
 "nbformat_minor": 4
}
