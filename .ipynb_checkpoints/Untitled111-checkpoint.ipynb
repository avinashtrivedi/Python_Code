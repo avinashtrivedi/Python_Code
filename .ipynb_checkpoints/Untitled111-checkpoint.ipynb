{
 "cells": [
  {
   "cell_type": "code",
   "execution_count": null,
   "metadata": {},
   "outputs": [],
   "source": [
    "from bs4 import BeautifulSoup\n",
    "import urllib3\n",
    "import os\n",
    "\n",
    "def page_downloader(year,page_name):\n",
    "    try:\n",
    "        \n",
    "        year = str(year)\n",
    "        newpath = year #  new folder name\n",
    "        if not os.path.exists(newpath):\n",
    "            os.makedirs(newpath) # create new folder\n",
    "        http = urllib3.PoolManager()\n",
    "        s={'Accept': '*/*',\n",
    "                    'Accept-Language': 'en-US,en;q=0.5',\n",
    "                    'Host': 'liiofindia.org',\n",
    "                    'Referer': \"http://www.liiofindia.org/in/cases/cen/INSC/1950/7.html\",\n",
    "                    'User-Agent': 'Mozilla/5.0 (Windows NT 6.1; WOW64; rv:28.0) Gecko/20100101 Firefox/28.0',\n",
    "                    'X-Requested-With': 'XMLHttpRequest'\n",
    "                    }\n",
    "        url = 'http://www.liiofindia.org/in/cases/cen/INSC/' + year + '/' + page_name\n",
    "\n",
    "        response = http.request('GET', url,headers=s)\n",
    "        soup = BeautifulSoup(response.data)\n",
    "        data = str(soup)\n",
    "\n",
    "        page_loc = newpath + '/' + page_name\n",
    "        f = open(page_loc, 'w')\n",
    "        f.write(data)\n",
    "        f.close\n",
    "        print('File {} Downloaded.'.format(page_name))\n",
    "    except:\n",
    "        print('Error Downloading file {}'.format(page_name))"
   ]
  },
  {
   "cell_type": "code",
   "execution_count": null,
   "metadata": {},
   "outputs": [],
   "source": [
    "from bs4 import BeautifulSoup\n",
    "import urllib3\n",
    "\n",
    "def url_generator(year):\n",
    "    year = str(year)\n",
    "    http = urllib3.PoolManager()\n",
    "    s={'Accept': '*/*',\n",
    "                'Accept-Language': 'en-US,en;q=0.5',\n",
    "                'Host': 'liiofindia.org',\n",
    "                'Referer': \"http://www.liiofindia.org/in/cases/cen/INSC/1950/7.html\",\n",
    "                'User-Agent': 'Mozilla/5.0 (Windows NT 6.1; WOW64; rv:28.0) Gecko/20100101 Firefox/28.0',\n",
    "                'X-Requested-With': 'XMLHttpRequest'\n",
    "                }\n",
    "    url = 'http://www.liiofindia.org/in/cases/cen/INSC/' + year\n",
    "    response = http.request('GET', url,headers=s)\n",
    "    soup = BeautifulSoup(response.data)\n",
    "    urls = []\n",
    "    for h in soup.findAll('li'):\n",
    "        a = h.find('a')\n",
    "        if 'href' in a.attrs:\n",
    "            url = a.get('href')\n",
    "            urls.append(url)\n",
    "    \n",
    "    urls = [link.split(year)[1][1:] for link in urls]\n",
    "    return urls"
   ]
  },
  {
   "cell_type": "code",
   "execution_count": null,
   "metadata": {},
   "outputs": [],
   "source": [
    "link_for_year_i = url_generator(year)"
   ]
  },
  {
   "cell_type": "code",
   "execution_count": null,
   "metadata": {},
   "outputs": [],
   "source": [
    "for page_name in link_for_year_i:\n",
    "        page_downloader(2002,page_name)"
   ]
  },
  {
   "cell_type": "code",
   "execution_count": 1,
   "metadata": {},
   "outputs": [],
   "source": [
    "from multiprocessing import Pool"
   ]
  },
  {
   "cell_type": "code",
   "execution_count": null,
   "metadata": {},
   "outputs": [],
   "source": [
    "\n",
    "def print_range(range):\n",
    "\n",
    "# print range\n",
    "    print('From {} to {}:'.format(range[0], range[1]))\n",
    "  \n",
    "  \n",
    "def run_parallel():\n",
    "    \n",
    "    # list of ranges\n",
    "    list_ranges = [[0, 10], [10, 20], [20, 30]]\n",
    "  \n",
    "    # pool object with number of elements in the list\n",
    "    pool = Pool(processes=1)\n",
    "  \n",
    "    # map the function to the list and pass \n",
    "    # function and list_ranges as arguments\n",
    "    pool.map(print_range, list_ranges)\n",
    "\n",
    "# Driver code\n",
    "if __name__ == '__main__':\n",
    "    run_parallel()"
   ]
  },
  {
   "cell_type": "code",
   "execution_count": null,
   "metadata": {},
   "outputs": [],
   "source": [
    "from multiprocessing import Pool\n",
    "link_for_year_i = url_generator(year)\n",
    "with Pool(10) as p:\n",
    "    p.map(page_downloader,link_for_year_i)"
   ]
  },
  {
   "cell_type": "code",
   "execution_count": null,
   "metadata": {},
   "outputs": [],
   "source": []
  },
  {
   "cell_type": "code",
   "execution_count": 5,
   "metadata": {},
   "outputs": [],
   "source": [
    "# import the library\n",
    "import numpy as np\n",
    "import matplotlib.pyplot as plt\n",
    "\n",
    "# generate evenly spaced numbers\n",
    "# and create x and y\n",
    "x = np.linspace(1,10,100)\n",
    "y = 2*x + 3\n",
    "\n",
    "# plot the graph\n",
    "plt.plot(x,y)\n",
    "plt.show()"
   ]
  },
  {
   "cell_type": "code",
   "execution_count": 6,
   "metadata": {},
   "outputs": [],
   "source": [
    "x = np.linspace(1,10,100)\n",
    "y = 2*x + 3\n",
    "\n",
    "plt.plot(x,y)\n",
    "plt.show()"
   ]
  },
  {
   "cell_type": "code",
   "execution_count": 8,
   "metadata": {},
   "outputs": [
    {
     "data": {
      "image/png": "[encoded data removed]",
      "text/plain": [
       "<Figure size 432x288 with 1 Axes>"
      ]
     },
     "metadata": {
      "needs_background": "light"
     },
     "output_type": "display_data"
    }
   ],
   "source": [
    "plt.plot(x,y)\n",
    "plt.show()"
   ]
  },
  {
   "cell_type": "code",
   "execution_count": null,
   "metadata": {},
   "outputs": [],
   "source": []
  }
 ],
 "metadata": {
  "kernelspec": {
   "display_name": "Python 3",
   "language": "python",
   "name": "python3"
  },
  "language_info": {
   "codemirror_mode": {
    "name": "ipython",
    "version": 3
   },
   "file_extension": ".py",
   "mimetype": "text/x-python",
   "name": "python",
   "nbconvert_exporter": "python",
   "pygments_lexer": "ipython3",
   "version": "3.8.5"
  }
 },
 "nbformat": 4,
 "nbformat_minor": 4
}
