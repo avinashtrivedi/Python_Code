{
 "cells": [
  {
   "cell_type": "markdown",
   "metadata": {},
   "source": [
    "# Q.1"
   ]
  },
  {
   "cell_type": "code",
   "execution_count": 149,
   "metadata": {},
   "outputs": [],
   "source": [
    "import numpy as np\n",
    "\n",
    "# creating the desired list of list\n",
    "baseball = [[24,188,73],\n",
    "            [27,180,73],\n",
    "            [24,185,74],\n",
    "            [27,160,74],\n",
    "            [28,180,69],\n",
    "            [35,185,70],\n",
    "            [28,189,73],\n",
    "            [23,185,75],\n",
    "            [23,219,78],\n",
    "            [26,230,79]\n",
    "           ]\n",
    "\n",
    "# converting list of list to numpy array\n",
    "np_baseball = np.array(baseball)\n",
    "\n",
    "# converting datatype from int to float\n",
    "# so that we can apply conversion without losing decimal values.\n",
    "np_baseball = np_baseball.astype(float)\n",
    "\n",
    "np_baseball[:,1] = 0.453592*np_baseball[:,1] #convert Weight from pound to kg\n",
    "np_baseball[:,2] = 0.0254*np_baseball[:,2] #convert Height from inch to meter"
   ]
  },
  {
   "cell_type": "code",
   "execution_count": 150,
   "metadata": {},
   "outputs": [
    {
     "name": "stdout",
     "output_type": "stream",
     "text": [
      "[[ 24.        85.275296   1.8542  ]\n",
      " [ 27.        81.64656    1.8542  ]\n",
      " [ 24.        83.91452    1.8796  ]\n",
      " [ 27.        72.57472    1.8796  ]\n",
      " [ 28.        81.64656    1.7526  ]\n",
      " [ 35.        83.91452    1.778   ]\n",
      " [ 28.        85.728888   1.8542  ]\n",
      " [ 23.        83.91452    1.905   ]\n",
      " [ 23.        99.336648   1.9812  ]\n",
      " [ 26.       104.32616    2.0066  ]]\n"
     ]
    }
   ],
   "source": [
    "print(np_baseball)"
   ]
  },
  {
   "cell_type": "markdown",
   "metadata": {},
   "source": [
    "# Q.2"
   ]
  },
  {
   "cell_type": "code",
   "execution_count": 151,
   "metadata": {},
   "outputs": [
    {
     "name": "stdout",
     "output_type": "stream",
     "text": [
      "The age of the 5th player is  28 .\n"
     ]
    }
   ],
   "source": [
    "# print age of 5th player\n",
    "\n",
    "# 5th player means,4th row,Hence find the intersection of row and column using arrayname[row,column]\n",
    "# Age of 5th player is in 4th row and 0th column\n",
    "age = np_baseball[4,0]\n",
    "print('The age of the 5th player is ',int(age),'.')"
   ]
  },
  {
   "cell_type": "markdown",
   "metadata": {},
   "source": [
    "# Q.3"
   ]
  },
  {
   "cell_type": "code",
   "execution_count": 152,
   "metadata": {},
   "outputs": [
    {
     "name": "stdout",
     "output_type": "stream",
     "text": [
      "Age of player number  1  is 24\n",
      "Age of player number  3  is 24\n",
      "Age of player number  8  is 23\n",
      "Age of player number  9  is 23\n"
     ]
    }
   ],
   "source": [
    "for i in range(len(np_baseball[:,0])):\n",
    "    if int(np_baseball[i,0]) <=25:\n",
    "        print('Age of player number ',i+1,' is',int(np_baseball[i,0]))"
   ]
  },
  {
   "cell_type": "markdown",
   "metadata": {},
   "source": [
    "# Q.4"
   ]
  },
  {
   "cell_type": "code",
   "execution_count": 153,
   "metadata": {},
   "outputs": [],
   "source": [
    "# import library for graph plotting\n",
    "import matplotlib.pyplot as plt\n",
    "\n",
    "# store respective values in to lists\n",
    "emission_singapore = [6.52,6.76,6.68,4.21,7.45,11.3,11,8.74,6.9,10.4,10.3]\n",
    "year_of_emission = [2004, 2005, 2006, 2007, 2008, 2009, 2010, 2011, 2012, 2013, 2014]"
   ]
  },
  {
   "cell_type": "code",
   "execution_count": 154,
   "metadata": {},
   "outputs": [
    {
     "data": {
      "image/png": "[encoded data removed]",
      "text/plain": [
       "<Figure size 1080x216 with 1 Axes>"
      ]
     },
     "metadata": {
      "needs_background": "light"
     },
     "output_type": "display_data"
    }
   ],
   "source": [
    "x = year_of_emission # make year_of_emission as x-axis\n",
    "y = emission_singapore # emission_singapore as y-axis\n",
    "\n",
    "plt.figure(figsize=(15,3)) # setting the figure size\n",
    "plt.plot(x, y, color = \"red\")\n",
    "plt.xlabel(\"Year\") # x label\n",
    "plt.ylabel(\"Emission (in Tons per person)\") # y label\n",
    "plt.title('Yearly Co2 Emission (Singapore)') # setting title\n",
    "plt.show() # show the graph"
   ]
  },
  {
   "cell_type": "markdown",
   "metadata": {},
   "source": [
    "# Q.5"
   ]
  },
  {
   "cell_type": "code",
   "execution_count": 155,
   "metadata": {},
   "outputs": [],
   "source": [
    "# import library for Dataframe (table like structure) and graph plotting\n",
    "import pandas as pd\n",
    "import matplotlib.pyplot as plt\n",
    "\n",
    "# storing data in to lists\n",
    "\n",
    "life_expectancy = [68.207,73.852,81.788,75.49,70.185,74.479]\n",
    "population = [93.2,69.1,50.9,87.8,239.9,48.0]\n",
    "gdp_per_capita = [5614,12822,72056,4486,8498,20398]\n",
    "\n",
    "# store data into dataframe (like table format)\n",
    "df = pd.DataFrame()\n",
    "df['life_expectancy'] = [68.207,73.852,81.788,75.49,70.185,74.479]\n",
    "df['population'] = [93.2,69.1,50.9,87.8,239.9,48.0]\n",
    "df['gdp_per_capita'] = [5614,12822,72056,4486,8498,20398]"
   ]
  },
  {
   "cell_type": "code",
   "execution_count": 156,
   "metadata": {},
   "outputs": [
    {
     "data": {
      "text/html": [
       "<div>\n",
       "<style scoped>\n",
       "    .dataframe tbody tr th:only-of-type {\n",
       "        vertical-align: middle;\n",
       "    }\n",
       "\n",
       "    .dataframe tbody tr th {\n",
       "        vertical-align: top;\n",
       "    }\n",
       "\n",
       "    .dataframe thead th {\n",
       "        text-align: right;\n",
       "    }\n",
       "</style>\n",
       "<table border=\"1\" class=\"dataframe\">\n",
       "  <thead>\n",
       "    <tr style=\"text-align: right;\">\n",
       "      <th></th>\n",
       "      <th>life_expectancy</th>\n",
       "      <th>population</th>\n",
       "      <th>gdp_per_capita</th>\n",
       "    </tr>\n",
       "  </thead>\n",
       "  <tbody>\n",
       "    <tr>\n",
       "      <th>0</th>\n",
       "      <td>68.207</td>\n",
       "      <td>93.2</td>\n",
       "      <td>5614</td>\n",
       "    </tr>\n",
       "    <tr>\n",
       "      <th>1</th>\n",
       "      <td>73.852</td>\n",
       "      <td>69.1</td>\n",
       "      <td>12822</td>\n",
       "    </tr>\n",
       "    <tr>\n",
       "      <th>2</th>\n",
       "      <td>81.788</td>\n",
       "      <td>50.9</td>\n",
       "      <td>72056</td>\n",
       "    </tr>\n",
       "    <tr>\n",
       "      <th>3</th>\n",
       "      <td>75.490</td>\n",
       "      <td>87.8</td>\n",
       "      <td>4486</td>\n",
       "    </tr>\n",
       "    <tr>\n",
       "      <th>4</th>\n",
       "      <td>70.185</td>\n",
       "      <td>239.9</td>\n",
       "      <td>8498</td>\n",
       "    </tr>\n",
       "    <tr>\n",
       "      <th>5</th>\n",
       "      <td>74.479</td>\n",
       "      <td>48.0</td>\n",
       "      <td>20398</td>\n",
       "    </tr>\n",
       "  </tbody>\n",
       "</table>\n",
       "</div>"
      ],
      "text/plain": [
       "   life_expectancy  population  gdp_per_capita\n",
       "0           68.207        93.2            5614\n",
       "1           73.852        69.1           12822\n",
       "2           81.788        50.9           72056\n",
       "3           75.490        87.8            4486\n",
       "4           70.185       239.9            8498\n",
       "5           74.479        48.0           20398"
      ]
     },
     "execution_count": 156,
     "metadata": {},
     "output_type": "execute_result"
    }
   ],
   "source": [
    "df"
   ]
  },
  {
   "cell_type": "code",
   "execution_count": 157,
   "metadata": {},
   "outputs": [],
   "source": [
    "# sort the table based on gdp_per_capitaso as to visualize better while plotting\n",
    "\n",
    "df.sort_values(by='gdp_per_capita',inplace=True)\n",
    "df.reset_index(drop=True,inplace=True) #after sorting reset the index so as to start from 0,1,2..."
   ]
  },
  {
   "cell_type": "code",
   "execution_count": 158,
   "metadata": {},
   "outputs": [
    {
     "data": {
      "text/html": [
       "<div>\n",
       "<style scoped>\n",
       "    .dataframe tbody tr th:only-of-type {\n",
       "        vertical-align: middle;\n",
       "    }\n",
       "\n",
       "    .dataframe tbody tr th {\n",
       "        vertical-align: top;\n",
       "    }\n",
       "\n",
       "    .dataframe thead th {\n",
       "        text-align: right;\n",
       "    }\n",
       "</style>\n",
       "<table border=\"1\" class=\"dataframe\">\n",
       "  <thead>\n",
       "    <tr style=\"text-align: right;\">\n",
       "      <th></th>\n",
       "      <th>life_expectancy</th>\n",
       "      <th>population</th>\n",
       "      <th>gdp_per_capita</th>\n",
       "    </tr>\n",
       "  </thead>\n",
       "  <tbody>\n",
       "    <tr>\n",
       "      <th>0</th>\n",
       "      <td>75.490</td>\n",
       "      <td>87.8</td>\n",
       "      <td>4486</td>\n",
       "    </tr>\n",
       "    <tr>\n",
       "      <th>1</th>\n",
       "      <td>68.207</td>\n",
       "      <td>93.2</td>\n",
       "      <td>5614</td>\n",
       "    </tr>\n",
       "    <tr>\n",
       "      <th>2</th>\n",
       "      <td>70.185</td>\n",
       "      <td>239.9</td>\n",
       "      <td>8498</td>\n",
       "    </tr>\n",
       "    <tr>\n",
       "      <th>3</th>\n",
       "      <td>73.852</td>\n",
       "      <td>69.1</td>\n",
       "      <td>12822</td>\n",
       "    </tr>\n",
       "    <tr>\n",
       "      <th>4</th>\n",
       "      <td>74.479</td>\n",
       "      <td>48.0</td>\n",
       "      <td>20398</td>\n",
       "    </tr>\n",
       "    <tr>\n",
       "      <th>5</th>\n",
       "      <td>81.788</td>\n",
       "      <td>50.9</td>\n",
       "      <td>72056</td>\n",
       "    </tr>\n",
       "  </tbody>\n",
       "</table>\n",
       "</div>"
      ],
      "text/plain": [
       "   life_expectancy  population  gdp_per_capita\n",
       "0           75.490        87.8            4486\n",
       "1           68.207        93.2            5614\n",
       "2           70.185       239.9            8498\n",
       "3           73.852        69.1           12822\n",
       "4           74.479        48.0           20398\n",
       "5           81.788        50.9           72056"
      ]
     },
     "execution_count": 158,
     "metadata": {},
     "output_type": "execute_result"
    }
   ],
   "source": [
    "df"
   ]
  },
  {
   "cell_type": "code",
   "execution_count": 159,
   "metadata": {},
   "outputs": [
    {
     "data": {
      "image/png": "[encoded data removed]",
      "text/plain": [
       "<Figure size 720x216 with 1 Axes>"
      ]
     },
     "metadata": {
      "needs_background": "light"
     },
     "output_type": "display_data"
    }
   ],
   "source": [
    "x = df['gdp_per_capita'] \n",
    "y = df['life_expectancy']\n",
    "y1 = df['population']\n",
    "plt.figure(figsize=(10,3)) # setting the figure size\n",
    "plt.plot(x, y, color = \"green\",label='life_expectancy') # 1st plot against gdp_per_capita vs life_expectancy\n",
    "plt.plot(x,y1,'r',label='Population') # 2nd plot against gdp_per_capita vs population\n",
    "plt.xlabel(\"gdp_per_capita\") # x label\n",
    "plt.ylabel(\"life_expectancy and Population\") # y label\n",
    "plt.title('Life Expectancy') # setting title\n",
    "plt.legend() \n",
    "plt.show() # show the graph"
   ]
  }
 ],
 "metadata": {
  "kernelspec": {
   "display_name": "Python 3",
   "language": "python",
   "name": "python3"
  },
  "language_info": {
   "codemirror_mode": {
    "name": "ipython",
    "version": 3
   },
   "file_extension": ".py",
   "mimetype": "text/x-python",
   "name": "python",
   "nbconvert_exporter": "python",
   "pygments_lexer": "ipython3",
   "version": "3.8.5"
  }
 },
 "nbformat": 4,
 "nbformat_minor": 4
}
