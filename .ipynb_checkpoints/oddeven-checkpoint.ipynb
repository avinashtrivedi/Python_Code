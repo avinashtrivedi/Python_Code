{
 "cells": [
  {
   "cell_type": "code",
   "execution_count": 1,
   "metadata": {},
   "outputs": [],
   "source": [
    "def even(num):\n",
    "    \"\"\"\n",
    "    function to check whether a numner is even or odd\n",
    "    return: True if even else False\n",
    "    \"\"\"\n",
    "    \n",
    "    # check if number of even\n",
    "    if num%2==0:\n",
    "        return True\n",
    "    \n",
    "    # else number will be odd\n",
    "    else:\n",
    "        return False"
   ]
  },
  {
   "cell_type": "code",
   "execution_count": 2,
   "metadata": {},
   "outputs": [
    {
     "name": "stdout",
     "output_type": "stream",
     "text": [
      "Help on function even in module __main__:\n",
      "\n",
      "even(num)\n",
      "    function to check whether a numner is even or odd\n",
      "    return: True if even else False\n",
      "\n",
      "None\n",
      "Is 2 an even number? True\n",
      "Is 1 an even number? False\n"
     ]
    }
   ],
   "source": [
    "print(help(even))\n",
    "\n",
    "number = 2\n",
    "print('Is %d an even number? %s' %(number,even(number)) )\n",
    "\n",
    "number = 1\n",
    "print('Is %d an even number? %s' %(number,even(number)) )"
   ]
  },
  {
   "cell_type": "code",
   "execution_count": null,
   "metadata": {},
   "outputs": [],
   "source": []
  }
 ],
 "metadata": {
  "kernelspec": {
   "display_name": "Python 3",
   "language": "python",
   "name": "python3"
  },
  "language_info": {
   "codemirror_mode": {
    "name": "ipython",
    "version": 3
   },
   "file_extension": ".py",
   "mimetype": "text/x-python",
   "name": "python",
   "nbconvert_exporter": "python",
   "pygments_lexer": "ipython3",
   "version": "3.8.5"
  }
 },
 "nbformat": 4,
 "nbformat_minor": 4
}
