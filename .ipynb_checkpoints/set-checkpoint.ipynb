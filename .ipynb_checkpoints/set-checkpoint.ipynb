{
 "cells": [
  {
   "cell_type": "code",
   "execution_count": 4,
   "metadata": {},
   "outputs": [],
   "source": [
    "# created two sample list to demonstrate the working.\n",
    "CountriesWorkList = ['Algeria','Bolivia','Egypt','Grenada','Guinea','India','Malta',\n",
    "                  'Philippines','Republic of Kosovo','Reunion I.','South Cook Is.','Syria',\n",
    "                  'The Gambia','Trindade & Martim Vaz Is.','Armenia','East Malaysia',\n",
    "                   'Fernando de Noronha','Guadeloupe','Guyana','Johnston I.','Papua New Guinea']\n",
    "\n",
    "CountriesConfirmedList=['Armenia','East Malaysia','Fernando de Noronha','Guadeloupe','Guyana',\n",
    "                   'Johnston I.','Papua New Guinea','Qatar','Republic of the Congo','Rwanda',\n",
    "                    'St. Helena','Tajikistan','Tokelau Is.','India']"
   ]
  },
  {
   "cell_type": "code",
   "execution_count": 6,
   "metadata": {},
   "outputs": [],
   "source": [
    "# set difference ,set(a) - set(b) : display all the elements that are present ia a\n",
    "# but not in b.\n",
    "try:\n",
    "    CountriesNotConfirmed= set(CountriesWorkList)-set(CountriesConfirmedList)\n",
    "except:\n",
    "    "
   ]
  },
  {
   "cell_type": "code",
   "execution_count": 7,
   "metadata": {},
   "outputs": [
    {
     "data": {
      "text/plain": [
       "{'Algeria',\n",
       " 'Bolivia',\n",
       " 'Egypt',\n",
       " 'Grenada',\n",
       " 'Guinea',\n",
       " 'Malta',\n",
       " 'Philippines',\n",
       " 'Republic of Kosovo',\n",
       " 'Reunion I.',\n",
       " 'South Cook Is.',\n",
       " 'Syria',\n",
       " 'The Gambia',\n",
       " 'Trindade & Martim Vaz Is.'}"
      ]
     },
     "execution_count": 7,
     "metadata": {},
     "output_type": "execute_result"
    }
   ],
   "source": [
    "CountriesNotConfirmed"
   ]
  },
  {
   "cell_type": "code",
   "execution_count": 9,
   "metadata": {},
   "outputs": [],
   "source": [
    "# sort in ascending order\n",
    "CountriesNotConfirmedSorted = sorted(CountriesNotConfirmed)"
   ]
  },
  {
   "cell_type": "code",
   "execution_count": 10,
   "metadata": {},
   "outputs": [
    {
     "data": {
      "text/plain": [
       "['Algeria',\n",
       " 'Bolivia',\n",
       " 'Egypt',\n",
       " 'Grenada',\n",
       " 'Guinea',\n",
       " 'Malta',\n",
       " 'Philippines',\n",
       " 'Republic of Kosovo',\n",
       " 'Reunion I.',\n",
       " 'South Cook Is.',\n",
       " 'Syria',\n",
       " 'The Gambia',\n",
       " 'Trindade & Martim Vaz Is.']"
      ]
     },
     "execution_count": 10,
     "metadata": {},
     "output_type": "execute_result"
    }
   ],
   "source": [
    "CountriesNotConfirmedSorted"
   ]
  },
  {
   "cell_type": "code",
   "execution_count": 13,
   "metadata": {},
   "outputs": [
    {
     "name": "stdout",
     "output_type": "stream",
     "text": [
      "Algeria\n",
      "Bolivia\n",
      "Egypt\n",
      "Grenada\n",
      "Guinea\n",
      "Malta\n",
      "Philippines\n",
      "Republic of Kosovo\n",
      "Reunion I.\n",
      "South Cook Is.\n",
      "Syria\n",
      "The Gambia\n",
      "Trindade & Martim Vaz Is.\n"
     ]
    }
   ],
   "source": [
    "# print countries that are not yet confirmed\n",
    "# in ascending order\n",
    "for i in CountriesNotConfirmedSorted:\n",
    "    print(i)"
   ]
  },
  {
   "cell_type": "code",
   "execution_count": null,
   "metadata": {},
   "outputs": [],
   "source": []
  }
 ],
 "metadata": {
  "kernelspec": {
   "display_name": "Python 3",
   "language": "python",
   "name": "python3"
  },
  "language_info": {
   "codemirror_mode": {
    "name": "ipython",
    "version": 3
   },
   "file_extension": ".py",
   "mimetype": "text/x-python",
   "name": "python",
   "nbconvert_exporter": "python",
   "pygments_lexer": "ipython3",
   "version": "3.8.5"
  }
 },
 "nbformat": 4,
 "nbformat_minor": 4
}
