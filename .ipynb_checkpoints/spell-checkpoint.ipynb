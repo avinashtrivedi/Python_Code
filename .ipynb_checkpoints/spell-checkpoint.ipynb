{
 "cells": [
  {
   "cell_type": "code",
   "execution_count": 18,
   "metadata": {},
   "outputs": [],
   "source": [
    "# save this as spell_checker.py\n",
    "from instream import InStream\n",
    "from symboltable import SymbolTable\n",
    "import stdio\n",
    "def main():\n",
    "    instream = InStream('misspellings.txt')\n",
    "    # set lines to the list of lines read from inStream\n",
    "    # hence instead of using readLine(),This is what you are using.which is reading only next line of input string,\n",
    "    # i.e it is reading only one line.\n",
    "    # Use readAllLines() to Read all strings from standard input and return as a list of string.\n",
    "    lines = instream.readAllLines()\n",
    "    \n",
    "    # set misspellings to the new symbol table object\n",
    "    # As SymbolTable is a class,Hence to create object of a class we need to call the class like objectName=ClassName()\n",
    "    # reference: https://introcs.cs.princeton.edu/python/44st/hashst.py.html\n",
    "    # hence writing misspellings = SymbolTable is a mistake,\n",
    "    misspellings = SymbolTable()\n",
    "    \n",
    "    for line in lines:\n",
    "        # https://introcs.cs.princeton.edu/java/44st/misspellings.txt\n",
    "        # As the misspellings.txt contains data in the form:-  misspellings (correction).\n",
    "        # hence split every line using separator as space i.e ' '\n",
    "        tokens = line.split(' ')\n",
    "        # symbol table is a collection of key value pairs\n",
    "        # Hence it acts like a Dictionary,which can be accessed by its key.\n",
    "        # if line is: abondon (abandon) then tokens = ['abondon','(abandon)'] after splitting.\n",
    "        # Hence,to store data in symbol table ,1st element of tokens is treated as key\n",
    "        # and 2nd element as value\n",
    "        key = tokens[0]\n",
    "        val = tokens[1]\n",
    "        # now add element in symbol table object misspellings\n",
    "        misspellings[key] = val \n",
    "    while not stdio.isEmpty():\n",
    "        word = stdio.readString()\n",
    "        # if the input word is available in symbol table\n",
    "        # that is if input word is a key in misspellings\n",
    "        # it means word is misspelled.\n",
    "        # then print the respective value using misspellings[word],\n",
    "        # here word acts as a key\n",
    "        if word in misspellings:\n",
    "            # access element of symbol table object misspellings\n",
    "            # using misspellings[key]\n",
    "            stdio.write(word + '-->' + misspellings[word])\n",
    "if __name__ == '__main__':\n",
    "    main()"
   ]
  },
  {
   "cell_type": "code",
   "execution_count": null,
   "metadata": {},
   "outputs": [],
   "source": []
  }
 ],
 "metadata": {
  "kernelspec": {
   "display_name": "Python 3",
   "language": "python",
   "name": "python3"
  },
  "language_info": {
   "codemirror_mode": {
    "name": "ipython",
    "version": 3
   },
   "file_extension": ".py",
   "mimetype": "text/x-python",
   "name": "python",
   "nbconvert_exporter": "python",
   "pygments_lexer": "ipython3",
   "version": "3.8.5"
  }
 },
 "nbformat": 4,
 "nbformat_minor": 4
}
