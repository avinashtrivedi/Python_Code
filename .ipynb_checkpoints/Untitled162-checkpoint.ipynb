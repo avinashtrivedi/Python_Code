{
 "cells": [
  {
   "cell_type": "code",
   "execution_count": 1,
   "metadata": {},
   "outputs": [
    {
     "name": "stdout",
     "output_type": "stream",
     "text": [
      "Enter bar string: \n",
      "13155371\n",
      "+------------------+\n",
      "|        ####      |\n",
      "|        ######    |\n",
      "|    ########      |\n",
      "|  ########        |\n",
      "+------------------+\n"
     ]
    }
   ],
   "source": [
    "bar_string = input(\"Enter bar string: \\n\")\n",
    "print(\"+\" + \"-\"*18 + \"+\")\n",
    "\n",
    "# index will start from 0 \n",
    "i = 0\n",
    "while i < len(bar_string):\n",
    "    spacing_left = \" \"*(9-int(bar_string[i]))\n",
    "    spacing_right = \" \"*(9-int(bar_string[i+1]))\n",
    "    \n",
    "    left_side_hashtag = \"|\" + spacing_left + \"#\"*int(bar_string[i])\n",
    "    right_side_hashtag = \"#\"*int(bar_string[i+1]) + spacing_right + \"|\"\n",
    "    print(left_side_hashtag+right_side_hashtag)\n",
    "    \n",
    "    # index will increment by 2\n",
    "    i += 2\n",
    "\n",
    "print(\"+\" + \"-\"*18 + \"+\")"
   ]
  },
  {
   "cell_type": "code",
   "execution_count": 2,
   "metadata": {},
   "outputs": [
    {
     "name": "stdout",
     "output_type": "stream",
     "text": [
      "Enter bar string: \n",
      "355399271122\n",
      "+------------------+\n",
      "|      ########    |\n",
      "|    ########      |\n",
      "|##################|\n",
      "|       #########  |\n",
      "|        ##        |\n",
      "|       ####       |\n",
      "+------------------+\n"
     ]
    }
   ],
   "source": [
    "bar_string = input(\"Enter bar string: \\n\")\n",
    "print(\"+\" + \"-\"*18 + \"+\")\n",
    "\n",
    "# index will start from 0 \n",
    "i = 0\n",
    "while i < len(bar_string):\n",
    "    spacing_left = \" \"*(9-int(bar_string[i]))\n",
    "    spacing_right = \" \"*(9-int(bar_string[i+1]))\n",
    "    \n",
    "    left_side_hashtag = \"|\" + spacing_left + \"#\"*int(bar_string[i])\n",
    "    right_side_hashtag = \"#\"*int(bar_string[i+1]) + spacing_right + \"|\"\n",
    "    print(left_side_hashtag+right_side_hashtag)\n",
    "    \n",
    "    # index will increment by 2 355399271122\n",
    "    i += 2\n",
    "\n",
    "print(\"+\" + \"-\"*18 + \"+\")"
   ]
  },
  {
   "cell_type": "code",
   "execution_count": null,
   "metadata": {},
   "outputs": [],
   "source": []
  },
  {
   "cell_type": "code",
   "execution_count": null,
   "metadata": {},
   "outputs": [],
   "source": []
  },
  {
   "cell_type": "code",
   "execution_count": 3,
   "metadata": {},
   "outputs": [],
   "source": [
    "# s = '13155371'\n",
    "\n",
    "# print('+'+18*'-'+'+')\n",
    "# for i in range(0,len(s)-1,2):\n",
    "#     a = int(s[i])\n",
    "#     b = int(s[i+1])\n",
    "#     n = '|'+(9-a)*' ' + a*'#' +  b*'#' + (9-b)*' '+'|'\n",
    "#     print(n)\n",
    "# print('+'+18*'-'+'+')"
   ]
  },
  {
   "cell_type": "code",
   "execution_count": null,
   "metadata": {},
   "outputs": [],
   "source": []
  }
 ],
 "metadata": {
  "kernelspec": {
   "display_name": "Python 3",
   "language": "python",
   "name": "python3"
  },
  "language_info": {
   "codemirror_mode": {
    "name": "ipython",
    "version": 3
   },
   "file_extension": ".py",
   "mimetype": "text/x-python",
   "name": "python",
   "nbconvert_exporter": "python",
   "pygments_lexer": "ipython3",
   "version": "3.8.5"
  }
 },
 "nbformat": 4,
 "nbformat_minor": 4
}
