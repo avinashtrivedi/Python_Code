{
 "cells": [
  {
   "cell_type": "code",
   "execution_count": 1,
   "metadata": {},
   "outputs": [],
   "source": [
    "def mysplit(s):\n",
    "    \n",
    "    # remove leading and trailing whitespace\n",
    "    s = s.strip()\n",
    "    \n",
    "    # define list to store elements\n",
    "    mylist = []\n",
    "    \n",
    "    # loop through the string until it becomes empty\n",
    "    while s!='':\n",
    "        \n",
    "        # get the start and end index of each word\n",
    "        start_indx = 0\n",
    "        end_indx = s.find(' ')\n",
    "        \n",
    "        # if no more whitespace is there in the string\n",
    "        if end_indx == -1:\n",
    "            \n",
    "            # append the last word\n",
    "            mylist.append(s[start_indx:])\n",
    "            \n",
    "            # return the mylist\n",
    "            return mylist\n",
    "        \n",
    "        # else append the word sliced from s[start_indx:end_indx]\n",
    "        else:\n",
    "            mylist.append(s[start_indx:end_indx])\n",
    "        \n",
    "        # slice the string to contain only the remaining parts\n",
    "        s = s[end_indx+1:]\n",
    "    \n",
    "    # if string is a empty string\n",
    "    return []"
   ]
  },
  {
   "cell_type": "code",
   "execution_count": 2,
   "metadata": {},
   "outputs": [
    {
     "name": "stdout",
     "output_type": "stream",
     "text": [
      "['To', 'be', 'or', 'not', 'to', 'be,', 'that', 'is', 'the', 'question']\n",
      "['To', 'be', 'or', 'not', 'to', 'be,that', 'is', 'the', 'question']\n",
      "[]\n",
      "['abc']\n",
      "[]\n"
     ]
    }
   ],
   "source": [
    "#Test cases\n",
    "print(mysplit(\"To be or not to be, that is the question\"))\n",
    "print(mysplit(\"To be or not to be,that is the question\"))\n",
    "print(mysplit(\"   \"))\n",
    "print(mysplit(\" abc \"))\n",
    "print(mysplit(\"\"))"
   ]
  },
  {
   "cell_type": "code",
   "execution_count": null,
   "metadata": {},
   "outputs": [],
   "source": []
  }
 ],
 "metadata": {
  "kernelspec": {
   "display_name": "Python 3",
   "language": "python",
   "name": "python3"
  },
  "language_info": {
   "codemirror_mode": {
    "name": "ipython",
    "version": 3
   },
   "file_extension": ".py",
   "mimetype": "text/x-python",
   "name": "python",
   "nbconvert_exporter": "python",
   "pygments_lexer": "ipython3",
   "version": "3.8.5"
  }
 },
 "nbformat": 4,
 "nbformat_minor": 4
}
