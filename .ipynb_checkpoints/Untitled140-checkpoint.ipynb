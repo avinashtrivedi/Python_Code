{
 "cells": [
  {
   "cell_type": "code",
   "execution_count": 1,
   "metadata": {},
   "outputs": [
    {
     "name": "stdout",
     "output_type": "stream",
     "text": [
      "Count of Question: 4\n",
      "Count of acronym in it: 0\n"
     ]
    }
   ],
   "source": [
    "# try-except block to handle exception\n",
    "try:\n",
    "    # open the file\n",
    "    f = open('file.txt',encoding=\"utf8\")\n",
    "    \n",
    "    # read the lines as list of element\n",
    "    lines = f.readlines()\n",
    "    \n",
    "    question_count = 0\n",
    "    acronym_count = 0\n",
    "\n",
    "    # loop through the lines\n",
    "    for row in lines:\n",
    "        if '?' in row:\n",
    "            # keep track of count of question.\n",
    "            question_count = question_count + 1\n",
    "            \n",
    "            # check for acronym\n",
    "            for word in row.split():\n",
    "                \n",
    "                # acronym i.e. word with all character in UPPER Case\n",
    "                if word.isupper():\n",
    "                    acronym_count = acronym_count + 1\n",
    "                    \n",
    "    print('Count of Question:',question_count)\n",
    "    print('Count of acronym in it:',acronym_count)\n",
    "except:\n",
    "    print('Wrong filename or file path')"
   ]
  },
  {
   "cell_type": "code",
   "execution_count": null,
   "metadata": {},
   "outputs": [],
   "source": []
  }
 ],
 "metadata": {
  "kernelspec": {
   "display_name": "Python 3",
   "language": "python",
   "name": "python3"
  },
  "language_info": {
   "codemirror_mode": {
    "name": "ipython",
    "version": 3
   },
   "file_extension": ".py",
   "mimetype": "text/x-python",
   "name": "python",
   "nbconvert_exporter": "python",
   "pygments_lexer": "ipython3",
   "version": "3.8.5"
  }
 },
 "nbformat": 4,
 "nbformat_minor": 4
}
