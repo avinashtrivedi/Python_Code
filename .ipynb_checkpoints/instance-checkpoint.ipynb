{
 "cells": [
  {
   "cell_type": "code",
   "execution_count": 1,
   "metadata": {},
   "outputs": [],
   "source": [
    "# define dummy class xyz\n",
    "class xyz:\n",
    "    def __init__(self):\n",
    "        print('initialize constructor')\n",
    "    def hello(self):\n",
    "        print(\"calling hello function\")"
   ]
  },
  {
   "cell_type": "code",
   "execution_count": 2,
   "metadata": {},
   "outputs": [
    {
     "name": "stdout",
     "output_type": "stream",
     "text": [
      "initialize constructor\n",
      "initialize constructor\n",
      "initialize constructor\n",
      "initialize constructor\n",
      "initialize constructor\n",
      "initialize constructor\n",
      "initialize constructor\n",
      "initialize constructor\n",
      "initialize constructor\n",
      "initialize constructor\n",
      "initialize constructor\n",
      "initialize constructor\n",
      "initialize constructor\n",
      "initialize constructor\n",
      "initialize constructor\n",
      "initialize constructor\n",
      "initialize constructor\n",
      "initialize constructor\n",
      "initialize constructor\n",
      "initialize constructor\n",
      "initialize constructor\n",
      "initialize constructor\n",
      "initialize constructor\n",
      "initialize constructor\n",
      "initialize constructor\n",
      "initialize constructor\n",
      "initialize constructor\n",
      "initialize constructor\n",
      "initialize constructor\n",
      "initialize constructor\n",
      "initialize constructor\n",
      "initialize constructor\n",
      "initialize constructor\n",
      "initialize constructor\n",
      "initialize constructor\n",
      "initialize constructor\n",
      "initialize constructor\n",
      "initialize constructor\n",
      "initialize constructor\n",
      "initialize constructor\n",
      "initialize constructor\n",
      "initialize constructor\n",
      "initialize constructor\n",
      "initialize constructor\n",
      "initialize constructor\n",
      "initialize constructor\n",
      "initialize constructor\n",
      "initialize constructor\n",
      "initialize constructor\n",
      "initialize constructor\n"
     ]
    }
   ],
   "source": [
    "obj = [] # create an empty list\n",
    "\n",
    "# create 50 xyz instances\n",
    "for i in range(1,51):\n",
    "    obj.append(xyz())"
   ]
  },
  {
   "cell_type": "code",
   "execution_count": 3,
   "metadata": {},
   "outputs": [
    {
     "data": {
      "text/plain": [
       "[<__main__.xyz at 0x2b053a2f190>,\n",
       " <__main__.xyz at 0x2b053a2fd00>,\n",
       " <__main__.xyz at 0x2b053a2fe20>,\n",
       " <__main__.xyz at 0x2b053a2fee0>,\n",
       " <__main__.xyz at 0x2b053a2fbb0>,\n",
       " <__main__.xyz at 0x2b053a640a0>,\n",
       " <__main__.xyz at 0x2b053a64190>,\n",
       " <__main__.xyz at 0x2b053a64280>,\n",
       " <__main__.xyz at 0x2b053a64370>,\n",
       " <__main__.xyz at 0x2b053a64460>,\n",
       " <__main__.xyz at 0x2b053a64550>,\n",
       " <__main__.xyz at 0x2b053a1e7c0>,\n",
       " <__main__.xyz at 0x2b053a646d0>,\n",
       " <__main__.xyz at 0x2b053a647c0>,\n",
       " <__main__.xyz at 0x2b053a1eb20>,\n",
       " <__main__.xyz at 0x2b053a648e0>,\n",
       " <__main__.xyz at 0x2b053a649d0>,\n",
       " <__main__.xyz at 0x2b053a64ac0>,\n",
       " <__main__.xyz at 0x2b053a64bb0>,\n",
       " <__main__.xyz at 0x2b053a64ca0>,\n",
       " <__main__.xyz at 0x2b053a64d90>,\n",
       " <__main__.xyz at 0x2b053a64ee0>,\n",
       " <__main__.xyz at 0x2b053a64fd0>,\n",
       " <__main__.xyz at 0x2b053a66100>,\n",
       " <__main__.xyz at 0x2b053a661f0>,\n",
       " <__main__.xyz at 0x2b053a662e0>,\n",
       " <__main__.xyz at 0x2b053a663d0>,\n",
       " <__main__.xyz at 0x2b053a664c0>,\n",
       " <__main__.xyz at 0x2b053a665b0>,\n",
       " <__main__.xyz at 0x2b053a666a0>,\n",
       " <__main__.xyz at 0x2b053a66790>,\n",
       " <__main__.xyz at 0x2b053a66880>,\n",
       " <__main__.xyz at 0x2b053a66970>,\n",
       " <__main__.xyz at 0x2b053a66a60>,\n",
       " <__main__.xyz at 0x2b053a66b50>,\n",
       " <__main__.xyz at 0x2b053a66c40>,\n",
       " <__main__.xyz at 0x2b053a66d30>,\n",
       " <__main__.xyz at 0x2b053a66e20>,\n",
       " <__main__.xyz at 0x2b053a66f10>,\n",
       " <__main__.xyz at 0x2b053a67040>,\n",
       " <__main__.xyz at 0x2b053a67130>,\n",
       " <__main__.xyz at 0x2b053a67220>,\n",
       " <__main__.xyz at 0x2b053a67310>,\n",
       " <__main__.xyz at 0x2b053a67400>,\n",
       " <__main__.xyz at 0x2b053a674f0>,\n",
       " <__main__.xyz at 0x2b053a675e0>,\n",
       " <__main__.xyz at 0x2b053a676d0>,\n",
       " <__main__.xyz at 0x2b053a677c0>,\n",
       " <__main__.xyz at 0x2b053a678b0>,\n",
       " <__main__.xyz at 0x2b053a679a0>]"
      ]
     },
     "execution_count": 3,
     "metadata": {},
     "output_type": "execute_result"
    }
   ],
   "source": [
    "# display instances\n",
    "obj"
   ]
  },
  {
   "cell_type": "code",
   "execution_count": null,
   "metadata": {},
   "outputs": [],
   "source": []
  }
 ],
 "metadata": {
  "kernelspec": {
   "display_name": "Python 3",
   "language": "python",
   "name": "python3"
  },
  "language_info": {
   "codemirror_mode": {
    "name": "ipython",
    "version": 3
   },
   "file_extension": ".py",
   "mimetype": "text/x-python",
   "name": "python",
   "nbconvert_exporter": "python",
   "pygments_lexer": "ipython3",
   "version": "3.8.5"
  }
 },
 "nbformat": 4,
 "nbformat_minor": 4
}
