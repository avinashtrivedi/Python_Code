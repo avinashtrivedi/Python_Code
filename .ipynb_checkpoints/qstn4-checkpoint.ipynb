{
 "cells": [
  {
   "cell_type": "markdown",
   "metadata": {},
   "source": [
    "# Number #1"
   ]
  },
  {
   "cell_type": "code",
   "execution_count": 1,
   "metadata": {},
   "outputs": [],
   "source": [
    "def chop(A):\n",
    "    \n",
    "    # remove first and last element and assign to A\n",
    "    # using slicing technique\n",
    "    A[:] = A[1:-1]"
   ]
  },
  {
   "cell_type": "code",
   "execution_count": 2,
   "metadata": {},
   "outputs": [
    {
     "name": "stdout",
     "output_type": "stream",
     "text": [
      "Test Case-1 passed\n",
      "Test Case-2 passed\n",
      "Test Case-3 passed\n",
      "Test Case-4 passed\n",
      "Test Case-5 passed\n"
     ]
    }
   ],
   "source": [
    "# Test Case\n",
    "\n",
    "A = [4,9,'a',-15,'b',0,'b']\n",
    "chop(A)\n",
    "assert A == [9, 'a', -15, 'b', 0],'Test Case-1 failed'\n",
    "print('Test Case-1 passed')\n",
    "\n",
    "    \n",
    "A = [3,4,5,6,7,8,9]\n",
    "chop(A)\n",
    "assert A == [4,5,6,7,8],'Test Case-2 failed'\n",
    "print('Test Case-2 passed')\n",
    "\n",
    "A = [1,2]\n",
    "chop(A)\n",
    "assert A == [],'Test Case-3 failed'\n",
    "print('Test Case-3 passed')\n",
    "\n",
    "A = [1,2,3]\n",
    "chop(A)\n",
    "assert A == [2],'Test Case-4 failed'\n",
    "print('Test Case-4 passed')\n",
    "\n",
    "A = [2,3,4,5]\n",
    "chop(A)\n",
    "assert A == [3,4],'Test Case-5 failed'\n",
    "print('Test Case-5 passed')"
   ]
  },
  {
   "cell_type": "markdown",
   "metadata": {},
   "source": [
    "# Number #2"
   ]
  },
  {
   "cell_type": "code",
   "execution_count": 3,
   "metadata": {},
   "outputs": [],
   "source": [
    "def n_gram(word,n):\n",
    "    ngram = []\n",
    "    \n",
    "    # loop through the word character\n",
    "    # and form n-gram\n",
    "    for i in range(len(word)-n+1):\n",
    "        ngram.append(word[i:i+n])\n",
    "    return ngram"
   ]
  },
  {
   "cell_type": "code",
   "execution_count": 4,
   "metadata": {},
   "outputs": [
    {
     "name": "stdout",
     "output_type": "stream",
     "text": [
      "Test Case-1 passed\n",
      "Test Case-2 passed\n",
      "Test Case-3 passed\n",
      "Test Case-4 passed\n",
      "Test Case-5 passed\n"
     ]
    }
   ],
   "source": [
    "# Test Case\n",
    "assert n_gram('hello',2) == ['he', 'el', 'll', 'lo'],'Test Case-1 failed'\n",
    "print('Test Case-1 passed')\n",
    "\n",
    "assert n_gram('science',5) == ['scien', 'cienc', 'ience'],'Test Case-2 failed'\n",
    "print('Test Case-2 passed')\n",
    "\n",
    "assert n_gram('python',4) == ['pyth', 'ytho', 'thon'],'Test Case-3 failed'\n",
    "print('Test Case-3 passed')\n",
    "\n",
    "assert n_gram('python',8) == [],'Test Case-4 failed'\n",
    "print('Test Case-4 passed')\n",
    "\n",
    "assert n_gram('datascience',80) == [],'Test Case-5 failed'\n",
    "print('Test Case-5 passed')"
   ]
  },
  {
   "cell_type": "markdown",
   "metadata": {},
   "source": [
    "# Number #3"
   ]
  },
  {
   "cell_type": "code",
   "execution_count": 5,
   "metadata": {},
   "outputs": [],
   "source": [
    "def is_anagram(word1,word2):\n",
    "    \n",
    "    # sort the words and check if its equal\n",
    "    if sorted(word1.lower()) == sorted(word2.lower()):\n",
    "        return True\n",
    "    else:\n",
    "        return False"
   ]
  },
  {
   "cell_type": "code",
   "execution_count": 6,
   "metadata": {},
   "outputs": [
    {
     "name": "stdout",
     "output_type": "stream",
     "text": [
      "Test Case-1 passed\n",
      "Test Case-2 passed\n",
      "Test Case-3 passed\n",
      "Test Case-4 passed\n",
      "Test Case-5 passed\n"
     ]
    }
   ],
   "source": [
    "# Test Case\n",
    "\n",
    "assert is_anagram('silent','listen')==True,'Test Case-1 failed'\n",
    "print('Test Case-1 passed')\n",
    "\n",
    "assert is_anagram('hello','pizza')==False,'Test Case-2 failed'\n",
    "print('Test Case-2 passed')\n",
    "\n",
    "assert is_anagram('please','elapses')==False,'Test Case-3 failed'\n",
    "print('Test Case-3 passed')\n",
    "\n",
    "assert is_anagram('python','thonyp')==True,'Test Case-4 failed'\n",
    "print('Test Case-4 passed')\n",
    "\n",
    "assert is_anagram('madam','damam')==True,'Test Case-5 failed'\n",
    "print('Test Case-5 passed')"
   ]
  },
  {
   "cell_type": "markdown",
   "metadata": {},
   "source": [
    "# Number #4"
   ]
  },
  {
   "cell_type": "code",
   "execution_count": 7,
   "metadata": {},
   "outputs": [],
   "source": [
    "def is_increasing(number):\n",
    "    \n",
    "    # get the number as a list of integer\n",
    "    x = [int(i) for i in number.split(',')]\n",
    "    \n",
    "    # check if its sorted version is same\n",
    "    return sorted(x) == x"
   ]
  },
  {
   "cell_type": "code",
   "execution_count": 8,
   "metadata": {},
   "outputs": [
    {
     "name": "stdout",
     "output_type": "stream",
     "text": [
      "Test Case-1 passed\n",
      "Test Case-2 passed\n",
      "Test Case-3 passed\n",
      "Test Case-4 passed\n",
      "Test Case-5 passed\n"
     ]
    }
   ],
   "source": [
    "# Test Case\n",
    "\n",
    "assert is_increasing('1,8,27,64,125,216') == True, 'Test Case-1 failed'\n",
    "print('Test Case-1 passed')\n",
    "\n",
    "assert is_increasing('-4,0,17,6,12,82') == False, 'Test Case-2 failed'\n",
    "print('Test Case-2 passed')\n",
    "\n",
    "assert is_increasing('4,3,2,6,7,8') == False, 'Test Case-3 failed'\n",
    "print('Test Case-3 passed')\n",
    "\n",
    "assert is_increasing('4,6,8,9,11') == True, 'Test Case-4 failed'\n",
    "print('Test Case-4 passed')\n",
    "\n",
    "assert is_increasing('-2,-3,-4,0,1,2') == False, 'Test Case-5 failed'\n",
    "print('Test Case-5 passed')"
   ]
  },
  {
   "cell_type": "code",
   "execution_count": null,
   "metadata": {},
   "outputs": [],
   "source": []
  }
 ],
 "metadata": {
  "kernelspec": {
   "display_name": "Python 3",
   "language": "python",
   "name": "python3"
  },
  "language_info": {
   "codemirror_mode": {
    "name": "ipython",
    "version": 3
   },
   "file_extension": ".py",
   "mimetype": "text/x-python",
   "name": "python",
   "nbconvert_exporter": "python",
   "pygments_lexer": "ipython3",
   "version": "3.8.5"
  }
 },
 "nbformat": 4,
 "nbformat_minor": 4
}
