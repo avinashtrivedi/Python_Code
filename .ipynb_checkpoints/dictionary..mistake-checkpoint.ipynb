{
 "cells": [
  {
   "cell_type": "code",
   "execution_count": 51,
   "metadata": {},
   "outputs": [
    {
     "name": "stdout",
     "output_type": "stream",
     "text": [
      "4\n",
      "cAnnot\n",
      "cannOt\n",
      "fOund\n",
      "pAge\n",
      "thE pAge cAnnot be fouNd\n",
      "2\n"
     ]
    }
   ],
   "source": [
    "import string\n",
    "n = int(input()) # receive number of words in dictionary\n",
    "word_dict = {}\n",
    "mistake = 0\n",
    "\n",
    "# store word in dictionary\n",
    "for i in range(n):\n",
    "    word = input()\n",
    "    word_dict[word]=1 # Assume that default value of dictionary key is 1\n",
    "string_text = input() # receive string text\n",
    "string_text = string_text.split(' ') # split into individual word\n",
    "\n",
    "# make the dictionary word in lower case\n",
    "dict_key_lower = [j.lower() for j in list(word_dict)]\n",
    "\n",
    "# check for condition where there is a mistake\n",
    "for i in string_text:\n",
    "    if i not in word_dict:\n",
    "        \n",
    "        if len(set(string.ascii_uppercase).intersection(set(i)))!=1:\n",
    "            mistake = mistake + 1\n",
    "            \n",
    "        elif i.lower() in dict_key_lower:\n",
    "            mistake = mistake + 1\n",
    "print(mistake)"
   ]
  },
  {
   "cell_type": "code",
   "execution_count": null,
   "metadata": {},
   "outputs": [],
   "source": [
    "4\n",
    "cAnnot\n",
    "cannOt\n",
    "fOund\n",
    "pAge\n",
    "thE pAge cAnnot be fouNd"
   ]
  },
  {
   "cell_type": "code",
   "execution_count": 52,
   "metadata": {},
   "outputs": [
    {
     "name": "stdout",
     "output_type": "stream",
     "text": [
      "0\n",
      "Hello World this is another tesT\n",
      "3\n"
     ]
    }
   ],
   "source": [
    "n = int(input())\n",
    "word_dict = {}\n",
    "mistake = 0\n",
    "for i in range(n):\n",
    "    word = input()\n",
    "    word_dict[word]=1\n",
    "string_text = input()\n",
    "string_text = string_text.split(' ')\n",
    "dict_key_lower = [j.lower() for j in list(word_dict)]\n",
    "for i in string_text:\n",
    "    if i not in word_dict:\n",
    "        \n",
    "        if len(set(string.ascii_uppercase).intersection(set(i)))!=1:\n",
    "            mistake = mistake + 1\n",
    "            \n",
    "        elif i.lower() in dict_key_lower:\n",
    "            mistake = mistake + 1\n",
    "print(mistake)"
   ]
  },
  {
   "cell_type": "code",
   "execution_count": 53,
   "metadata": {},
   "outputs": [
    {
     "name": "stdout",
     "output_type": "stream",
     "text": [
      "4\n",
      "cAnnot\n",
      "cannOt\n",
      "fOund\n",
      "pAge\n",
      "The PAGE cannot be found\n",
      "4\n"
     ]
    }
   ],
   "source": [
    "n = int(input())\n",
    "word_dict = {}\n",
    "mistake = 0\n",
    "for i in range(n):\n",
    "    word = input()\n",
    "    word_dict[word]=1\n",
    "string_text = input()\n",
    "string_text = string_text.split(' ')\n",
    "dict_key_lower = [j.lower() for j in list(word_dict)]\n",
    "for i in string_text:\n",
    "    if i not in word_dict:\n",
    "        \n",
    "        if len(set(string.ascii_uppercase).intersection(set(i)))!=1:\n",
    "            mistake = mistake + 1\n",
    "            \n",
    "        elif i.lower() in dict_key_lower:\n",
    "            mistake = mistake + 1\n",
    "print(mistake)"
   ]
  },
  {
   "cell_type": "code",
   "execution_count": 54,
   "metadata": {},
   "outputs": [
    {
     "name": "stdout",
     "output_type": "stream",
     "text": [
      "3\n"
     ]
    }
   ],
   "source": [
    "for i in range(10):\n",
    "    if i*i == 9:\n",
    "        print(i)\n",
    "        break"
   ]
  },
  {
   "cell_type": "code",
   "execution_count": 55,
   "metadata": {},
   "outputs": [
    {
     "name": "stdout",
     "output_type": "stream",
     "text": [
      "0\n",
      "1\n",
      "2\n",
      "3\n",
      "4\n",
      "5\n",
      "6\n",
      "7\n",
      "8\n",
      "9\n"
     ]
    }
   ],
   "source": [
    "# 1) The i in for loop will assume values from 0 to 9\n",
    "for i in range(10):\n",
    "    print(i)"
   ]
  },
  {
   "cell_type": "code",
   "execution_count": 59,
   "metadata": {},
   "outputs": [
    {
     "name": "stdout",
     "output_type": "stream",
     "text": [
      "0*0 is not equal to 9\n",
      "1*1 is not equal to 9\n",
      "2*2 is not equal to 9\n",
      "3*3 is equal to 9\n",
      "Now exit/stop The loop\n"
     ]
    }
   ],
   "source": [
    "# 2) The if statement is multiplying i with i , i.e i*i . In simple term it is i^2  (i square)\n",
    "# and checking if i*i is equal to 9\n",
    "# if i*i becomes equal to 9 then it will print at what value of i , i*i == 9.\n",
    "# and then exit the loop using break statement. i.e when i*i becomes equal to 9 then it will print i and exit the loop.\n",
    "# if i*i is not equal to 9 then it will continue to check with next value of i.\n",
    "\n",
    "for i in range(10):\n",
    "    if i*i == 9:\n",
    "        print(\"{}*{} is equal to 9\".format(i,i))\n",
    "        print('Now exit/stop The loop')\n",
    "        break\n",
    "    else:\n",
    "        print(\"{}*{} is not equal to 9\".format(i,i))"
   ]
  },
  {
   "cell_type": "code",
   "execution_count": null,
   "metadata": {},
   "outputs": [],
   "source": []
  }
 ],
 "metadata": {
  "kernelspec": {
   "display_name": "Python 3",
   "language": "python",
   "name": "python3"
  },
  "language_info": {
   "codemirror_mode": {
    "name": "ipython",
    "version": 3
   },
   "file_extension": ".py",
   "mimetype": "text/x-python",
   "name": "python",
   "nbconvert_exporter": "python",
   "pygments_lexer": "ipython3",
   "version": "3.8.5"
  }
 },
 "nbformat": 4,
 "nbformat_minor": 4
}
