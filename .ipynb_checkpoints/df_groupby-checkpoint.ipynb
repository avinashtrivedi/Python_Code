{
 "cells": [
  {
   "cell_type": "code",
   "execution_count": 1,
   "metadata": {},
   "outputs": [],
   "source": [
    "# import the library\n",
    "import pandas as pd"
   ]
  },
  {
   "cell_type": "code",
   "execution_count": 2,
   "metadata": {},
   "outputs": [],
   "source": [
    "# read the dataset and store into pandas dataframe\n",
    "df = pd.read_csv('dataset.csv')"
   ]
  },
  {
   "cell_type": "code",
   "execution_count": 3,
   "metadata": {},
   "outputs": [
    {
     "data": {
      "text/html": [
       "<div>\n",
       "<style scoped>\n",
       "    .dataframe tbody tr th:only-of-type {\n",
       "        vertical-align: middle;\n",
       "    }\n",
       "\n",
       "    .dataframe tbody tr th {\n",
       "        vertical-align: top;\n",
       "    }\n",
       "\n",
       "    .dataframe thead th {\n",
       "        text-align: right;\n",
       "    }\n",
       "</style>\n",
       "<table border=\"1\" class=\"dataframe\">\n",
       "  <thead>\n",
       "    <tr style=\"text-align: right;\">\n",
       "      <th></th>\n",
       "      <th>ID</th>\n",
       "      <th>First Name</th>\n",
       "      <th>Last Name</th>\n",
       "      <th>Year</th>\n",
       "      <th>Type</th>\n",
       "    </tr>\n",
       "  </thead>\n",
       "  <tbody>\n",
       "    <tr>\n",
       "      <th>0</th>\n",
       "      <td>123</td>\n",
       "      <td>Janye</td>\n",
       "      <td>Smith</td>\n",
       "      <td>2019</td>\n",
       "      <td>Kitchen</td>\n",
       "    </tr>\n",
       "    <tr>\n",
       "      <th>1</th>\n",
       "      <td>123</td>\n",
       "      <td>Janye</td>\n",
       "      <td>Smith</td>\n",
       "      <td>2019</td>\n",
       "      <td>Bathroom</td>\n",
       "    </tr>\n",
       "    <tr>\n",
       "      <th>2</th>\n",
       "      <td>155</td>\n",
       "      <td>Nancy</td>\n",
       "      <td>Smith</td>\n",
       "      <td>2019</td>\n",
       "      <td>Kitchen</td>\n",
       "    </tr>\n",
       "    <tr>\n",
       "      <th>3</th>\n",
       "      <td>144</td>\n",
       "      <td>John</td>\n",
       "      <td>Smith</td>\n",
       "      <td>2019</td>\n",
       "      <td>Kitchen</td>\n",
       "    </tr>\n",
       "    <tr>\n",
       "      <th>4</th>\n",
       "      <td>144</td>\n",
       "      <td>John</td>\n",
       "      <td>Smith</td>\n",
       "      <td>2019</td>\n",
       "      <td>Bathroom</td>\n",
       "    </tr>\n",
       "  </tbody>\n",
       "</table>\n",
       "</div>"
      ],
      "text/plain": [
       "    ID First Name Last Name  Year      Type\n",
       "0  123     Janye      Smith  2019   Kitchen\n",
       "1  123     Janye      Smith  2019  Bathroom\n",
       "2  155      Nancy     Smith  2019   Kitchen\n",
       "3  144       John     Smith  2019   Kitchen\n",
       "4  144       John     Smith  2019  Bathroom"
      ]
     },
     "execution_count": 3,
     "metadata": {},
     "output_type": "execute_result"
    }
   ],
   "source": [
    "df # display the dataframe"
   ]
  },
  {
   "cell_type": "code",
   "execution_count": 4,
   "metadata": {},
   "outputs": [],
   "source": [
    "# groupby ID and return respective column value as a list\n",
    "# Name of the new column is Types.It is a list of all Type (Bathroom,Kitchen..etc)\n",
    "# reset_index is used here to return the result in datframe with proper index starting from 0,1...\n",
    "df1 = df.groupby('ID')['Type'].apply(list).reset_index(name='Types')"
   ]
  },
  {
   "cell_type": "code",
   "execution_count": 5,
   "metadata": {},
   "outputs": [
    {
     "data": {
      "text/html": [
       "<div>\n",
       "<style scoped>\n",
       "    .dataframe tbody tr th:only-of-type {\n",
       "        vertical-align: middle;\n",
       "    }\n",
       "\n",
       "    .dataframe tbody tr th {\n",
       "        vertical-align: top;\n",
       "    }\n",
       "\n",
       "    .dataframe thead th {\n",
       "        text-align: right;\n",
       "    }\n",
       "</style>\n",
       "<table border=\"1\" class=\"dataframe\">\n",
       "  <thead>\n",
       "    <tr style=\"text-align: right;\">\n",
       "      <th></th>\n",
       "      <th>ID</th>\n",
       "      <th>Types</th>\n",
       "    </tr>\n",
       "  </thead>\n",
       "  <tbody>\n",
       "    <tr>\n",
       "      <th>0</th>\n",
       "      <td>123</td>\n",
       "      <td>[Kitchen, Bathroom]</td>\n",
       "    </tr>\n",
       "    <tr>\n",
       "      <th>1</th>\n",
       "      <td>144</td>\n",
       "      <td>[Kitchen, Bathroom]</td>\n",
       "    </tr>\n",
       "    <tr>\n",
       "      <th>2</th>\n",
       "      <td>155</td>\n",
       "      <td>[Kitchen]</td>\n",
       "    </tr>\n",
       "  </tbody>\n",
       "</table>\n",
       "</div>"
      ],
      "text/plain": [
       "    ID                Types\n",
       "0  123  [Kitchen, Bathroom]\n",
       "1  144  [Kitchen, Bathroom]\n",
       "2  155            [Kitchen]"
      ]
     },
     "execution_count": 5,
     "metadata": {},
     "output_type": "execute_result"
    }
   ],
   "source": [
    "df1"
   ]
  },
  {
   "cell_type": "code",
   "execution_count": 6,
   "metadata": {},
   "outputs": [],
   "source": [
    "# Create a new column TypeSet that contains similar data as Types column\n",
    "# But its Object-type is set (Object-type of Types is list)\n",
    "# set is a data structure which contains only unique data.\n",
    "# Doing this so as to take the advantage later.\n",
    "df1['TypeSet'] = df1.apply(lambda x: set(x['Types']),axis=1)"
   ]
  },
  {
   "cell_type": "code",
   "execution_count": 7,
   "metadata": {},
   "outputs": [
    {
     "data": {
      "text/html": [
       "<div>\n",
       "<style scoped>\n",
       "    .dataframe tbody tr th:only-of-type {\n",
       "        vertical-align: middle;\n",
       "    }\n",
       "\n",
       "    .dataframe tbody tr th {\n",
       "        vertical-align: top;\n",
       "    }\n",
       "\n",
       "    .dataframe thead th {\n",
       "        text-align: right;\n",
       "    }\n",
       "</style>\n",
       "<table border=\"1\" class=\"dataframe\">\n",
       "  <thead>\n",
       "    <tr style=\"text-align: right;\">\n",
       "      <th></th>\n",
       "      <th>ID</th>\n",
       "      <th>Types</th>\n",
       "      <th>TypeSet</th>\n",
       "    </tr>\n",
       "  </thead>\n",
       "  <tbody>\n",
       "    <tr>\n",
       "      <th>0</th>\n",
       "      <td>123</td>\n",
       "      <td>[Kitchen, Bathroom]</td>\n",
       "      <td>{Bathroom, Kitchen}</td>\n",
       "    </tr>\n",
       "    <tr>\n",
       "      <th>1</th>\n",
       "      <td>144</td>\n",
       "      <td>[Kitchen, Bathroom]</td>\n",
       "      <td>{Bathroom, Kitchen}</td>\n",
       "    </tr>\n",
       "    <tr>\n",
       "      <th>2</th>\n",
       "      <td>155</td>\n",
       "      <td>[Kitchen]</td>\n",
       "      <td>{Kitchen}</td>\n",
       "    </tr>\n",
       "  </tbody>\n",
       "</table>\n",
       "</div>"
      ],
      "text/plain": [
       "    ID                Types              TypeSet\n",
       "0  123  [Kitchen, Bathroom]  {Bathroom, Kitchen}\n",
       "1  144  [Kitchen, Bathroom]  {Bathroom, Kitchen}\n",
       "2  155            [Kitchen]            {Kitchen}"
      ]
     },
     "execution_count": 7,
     "metadata": {},
     "output_type": "execute_result"
    }
   ],
   "source": [
    "df1"
   ]
  },
  {
   "cell_type": "code",
   "execution_count": 8,
   "metadata": {},
   "outputs": [
    {
     "data": {
      "text/plain": [
       "[{'Bathroom', 'Kitchen'}, {'Bathroom', 'Kitchen'}, {'Kitchen'}]"
      ]
     },
     "execution_count": 8,
     "metadata": {},
     "output_type": "execute_result"
    }
   ],
   "source": [
    "# now get the list of all values in a column TypeSet\n",
    "List_Types=list(df1['TypeSet'])\n",
    "List_Types"
   ]
  },
  {
   "cell_type": "code",
   "execution_count": 9,
   "metadata": {},
   "outputs": [
    {
     "data": {
      "text/plain": [
       "{123: {'Bathroom', 'Kitchen'}, 144: {'Bathroom', 'Kitchen'}, 155: {'Kitchen'}}"
      ]
     },
     "execution_count": 9,
     "metadata": {},
     "output_type": "execute_result"
    }
   ],
   "source": [
    "# create a dictionary from df1 using ID as key and value as TypeSet\n",
    "user_dict = dict(zip(df1.ID, df1.TypeSet))\n",
    "user_dict"
   ]
  },
  {
   "cell_type": "code",
   "execution_count": 10,
   "metadata": {},
   "outputs": [
    {
     "data": {
      "text/plain": [
       "[{'Bathroom', 'Kitchen'}, {'Bathroom', 'Kitchen'}, {'Kitchen'}]"
      ]
     },
     "execution_count": 10,
     "metadata": {},
     "output_type": "execute_result"
    }
   ],
   "source": [
    "# get the unique element from this list\n",
    "List_Types"
   ]
  },
  {
   "cell_type": "code",
   "execution_count": 11,
   "metadata": {},
   "outputs": [],
   "source": [
    "# get the unique element,where each element is a object of SET type\n",
    "unique_data = [set(x) for x in set(tuple(x) for x in List_Types)]"
   ]
  },
  {
   "cell_type": "code",
   "execution_count": 12,
   "metadata": {},
   "outputs": [
    {
     "data": {
      "text/plain": [
       "[{'Kitchen'}, {'Bathroom', 'Kitchen'}]"
      ]
     },
     "execution_count": 12,
     "metadata": {},
     "output_type": "execute_result"
    }
   ],
   "source": [
    "unique_data"
   ]
  },
  {
   "cell_type": "code",
   "execution_count": 13,
   "metadata": {},
   "outputs": [
    {
     "name": "stdout",
     "output_type": "stream",
     "text": [
      "FirstName                                          Types                                              Count\n",
      "************************************************************************************************************************\n",
      "Nancy                                              {'Kitchen'}                                        1    \n",
      "Janye ,John                                        {'Bathroom', 'Kitchen'}                            2    \n"
     ]
    }
   ],
   "source": [
    "# print with proper formatting/spacing\n",
    "print(\"{:<50} {:<50} {:<5}\".format('FirstName','Types','Count'))\n",
    "print(120*\"*\") # print '*' 120 times\n",
    "# for each element (eg. {'Kitchen'}) in unique_data find its number of occurrences in List_Types\n",
    "# i.e [{'Bathroom', 'Kitchen'}, {'Bathroom', 'Kitchen'}, {'Kitchen'}]\n",
    "# and corresponding user first name\n",
    "for i in unique_data:\n",
    "    userid=[] # to store all user ID having same Types (Kitchen,Bathroom ..etc)\n",
    "    # find the count of user having same Types (Kitchen,Bathroom ..etc)\n",
    "    # to compute this,just find number of times,lets say {Kitchen,Bathroom} occur in List_Types\n",
    "    count = List_Types.count(i)\n",
    "    # get the userid for each user having same Types (Kitchen,Bathroom ..etc)\n",
    "    # store it into userid list\n",
    "    for key,val in user_dict.items():\n",
    "        if val==i:\n",
    "            userid.append(key)\n",
    "    \n",
    "    list_Name='' # concatenate all user name having same Types (Kitchen,Bathroom ..etc)\n",
    "    # list(df[df['ID']==uid].head(1)['First Name'])[0] will give the user first name based on ID\n",
    "    # eg. list(df[df['ID']==144].head(1)['First Name'])[0] will return 'john'\n",
    "    for uid in userid:\n",
    "        list_Name = list_Name + ',' + list(df[df['ID']==uid].head(1)['First Name'])[0]\n",
    "    # with the given formatting we cannot direclty print set like {'Kitchen'} hence apply str to make it string\n",
    "    print(\"{:<50} {:<50} {:<5}\".format(list_Name[1:],str(i),count))"
   ]
  },
  {
   "cell_type": "code",
   "execution_count": 14,
   "metadata": {},
   "outputs": [
    {
     "data": {
      "text/plain": [
       "'John'"
      ]
     },
     "execution_count": 14,
     "metadata": {},
     "output_type": "execute_result"
    }
   ],
   "source": [
    "# get user first name based on ID\n",
    "list(df[df['ID']==144].head(1)['First Name'])[0]"
   ]
  },
  {
   "cell_type": "code",
   "execution_count": 15,
   "metadata": {},
   "outputs": [
    {
     "data": {
      "text/plain": [
       "'Nancy'"
      ]
     },
     "execution_count": 15,
     "metadata": {},
     "output_type": "execute_result"
    }
   ],
   "source": [
    "# get user first name based on ID\n",
    "list(df[df['ID']==155].head(1)['First Name'])[0]"
   ]
  },
  {
   "cell_type": "code",
   "execution_count": null,
   "metadata": {},
   "outputs": [],
   "source": []
  }
 ],
 "metadata": {
  "kernelspec": {
   "display_name": "Python 3",
   "language": "python",
   "name": "python3"
  },
  "language_info": {
   "codemirror_mode": {
    "name": "ipython",
    "version": 3
   },
   "file_extension": ".py",
   "mimetype": "text/x-python",
   "name": "python",
   "nbconvert_exporter": "python",
   "pygments_lexer": "ipython3",
   "version": "3.8.5"
  }
 },
 "nbformat": 4,
 "nbformat_minor": 4
}
