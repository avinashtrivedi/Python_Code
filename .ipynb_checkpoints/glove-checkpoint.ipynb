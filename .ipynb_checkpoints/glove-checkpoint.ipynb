{
 "cells": [
  {
   "cell_type": "code",
   "execution_count": 50,
   "metadata": {},
   "outputs": [],
   "source": [
    "embeddings_dict = {}\n",
    "# glove.840B.300d.txt : http://nlp.stanford.edu/data/glove.840B.300d.zip\n",
    "# glove.6B.50d.txt :    http://nlp.stanford.edu/data/glove.6B.zip \n",
    "import numpy as np\n",
    "f = open('glove.840B.300d.txt',encoding=\"utf8\")\n",
    "for line in f:\n",
    "    lst = line.split(' ')\n",
    "    word = lst[0] # key of dictionary\n",
    "    value = np.asarray(values[1:], dtype='float32')\n",
    "    embeddings_dict[word] = value\n",
    "f.close()"
   ]
  },
  {
   "cell_type": "code",
   "execution_count": 51,
   "metadata": {},
   "outputs": [],
   "source": [
    "Input_query='How do I control my horny emotions?'\n",
    "Data = ['What can cause stool to come out as little balls?',\n",
    "        'How do you control your horniness?',                    \n",
    "        'How can I move to Jamaica?',\n",
    "        'Is there any evidence of alien life in space?']\n",
    "#remove ? from the query and data\n",
    "Input_query = Input_query[:-1]\n",
    "Data = [i[:-1] for i in Data]"
   ]
  },
  {
   "cell_type": "code",
   "execution_count": 52,
   "metadata": {},
   "outputs": [],
   "source": [
    "# find the tokens/words\n",
    "Input_query_tkn = Input_query.split()\n",
    "Data_tkn_list =[i.split() for i in Data]"
   ]
  },
  {
   "cell_type": "code",
   "execution_count": 53,
   "metadata": {},
   "outputs": [],
   "source": [
    "# compute sentence embedding of Input Query\n",
    "import numpy as np\n",
    "# create array of zeros with the same shape and type as glove word vector.\n",
    "# here word 'the' has been considered to get the word vector\n",
    "Input_Query_embedding = np.zeros_like(embeddings_index['the'])\n",
    "for i in Input_query_tkn:\n",
    "    Input_Query_embedding = Input_Query_embedding + embeddings_index[i.strip().lower()]\n",
    "Input_Query_embedding = sent_embedding/len(Input_query_tkn)"
   ]
  },
  {
   "cell_type": "code",
   "execution_count": 54,
   "metadata": {},
   "outputs": [],
   "source": [
    "# compute sentence embedding for Data sentences\n",
    "sent_embedding_data ={}\n",
    "sent_embedding_temp=np.zeros_like(embeddings_index['the'])\n",
    "for sentence in Data_tkn_list:\n",
    "    for i in sentence:\n",
    "        sent_embedding_temp = sent_embedding_temp + embeddings_index[i.strip().lower()]\n",
    "    sent_embedding_data[' '.join(sentence)]=(sent_embedding_temp/len(sentence))"
   ]
  },
  {
   "cell_type": "code",
   "execution_count": 55,
   "metadata": {},
   "outputs": [],
   "source": [
    "# define a function to compute cosine similarity between vector u and v\n",
    "def cosine_sim(u,v):\n",
    "    cosine_similarity = np.dot(u,v) / (sum(u**2)**.5) * (sum(v**2)**.5)\n",
    "    return cosine_similarity"
   ]
  },
  {
   "cell_type": "code",
   "execution_count": 56,
   "metadata": {},
   "outputs": [],
   "source": [
    "# find cosine similarity between input query and sentences of Data\n",
    "cosine=[]\n",
    "for sent,embd in sent_embedding_data.items():\n",
    "    cosine.append(cosine_similarity(Input_Query_embedding,embd))"
   ]
  },
  {
   "cell_type": "code",
   "execution_count": 57,
   "metadata": {},
   "outputs": [
    {
     "data": {
      "text/plain": [
       "[0.8228694, 0.88323176, 0.8968807, 0.8807375]"
      ]
     },
     "execution_count": 57,
     "metadata": {},
     "output_type": "execute_result"
    }
   ],
   "source": [
    "cosine"
   ]
  },
  {
   "cell_type": "code",
   "execution_count": 58,
   "metadata": {},
   "outputs": [
    {
     "data": {
      "text/plain": [
       "2"
      ]
     },
     "execution_count": 58,
     "metadata": {},
     "output_type": "execute_result"
    }
   ],
   "source": [
    "cosine.index(max(cosine))"
   ]
  },
  {
   "cell_type": "code",
   "execution_count": 59,
   "metadata": {},
   "outputs": [
    {
     "data": {
      "text/plain": [
       "'How can I move to Jamaica'"
      ]
     },
     "execution_count": 59,
     "metadata": {},
     "output_type": "execute_result"
    }
   ],
   "source": [
    "Data[cosine.index(max(cosine))]"
   ]
  }
 ],
 "metadata": {
  "kernelspec": {
   "display_name": "Python 3",
   "language": "python",
   "name": "python3"
  },
  "language_info": {
   "codemirror_mode": {
    "name": "ipython",
    "version": 3
   },
   "file_extension": ".py",
   "mimetype": "text/x-python",
   "name": "python",
   "nbconvert_exporter": "python",
   "pygments_lexer": "ipython3",
   "version": "3.8.5"
  }
 },
 "nbformat": 4,
 "nbformat_minor": 4
}
