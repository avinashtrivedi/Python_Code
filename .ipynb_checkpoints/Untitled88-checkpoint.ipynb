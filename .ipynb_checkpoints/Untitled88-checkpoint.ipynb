{
 "cells": [
  {
   "cell_type": "code",
   "execution_count": 1,
   "metadata": {},
   "outputs": [],
   "source": [
    "# import the library\n",
    "import pandas as pd"
   ]
  },
  {
   "cell_type": "code",
   "execution_count": 2,
   "metadata": {},
   "outputs": [],
   "source": [
    "# Read the dataset\n",
    "# give name to individual columns\n",
    "df = pd.read_csv('titanic.txt', header=None,names=['class','age','gender','survived','Name1','Name2'])"
   ]
  },
  {
   "cell_type": "code",
   "execution_count": 3,
   "metadata": {},
   "outputs": [
    {
     "data": {
      "text/html": [
       "<div>\n",
       "<style scoped>\n",
       "    .dataframe tbody tr th:only-of-type {\n",
       "        vertical-align: middle;\n",
       "    }\n",
       "\n",
       "    .dataframe tbody tr th {\n",
       "        vertical-align: top;\n",
       "    }\n",
       "\n",
       "    .dataframe thead th {\n",
       "        text-align: right;\n",
       "    }\n",
       "</style>\n",
       "<table border=\"1\" class=\"dataframe\">\n",
       "  <thead>\n",
       "    <tr style=\"text-align: right;\">\n",
       "      <th></th>\n",
       "      <th>class</th>\n",
       "      <th>age</th>\n",
       "      <th>gender</th>\n",
       "      <th>survived</th>\n",
       "      <th>Name1</th>\n",
       "      <th>Name2</th>\n",
       "    </tr>\n",
       "  </thead>\n",
       "  <tbody>\n",
       "    <tr>\n",
       "      <th>0</th>\n",
       "      <td>1</td>\n",
       "      <td>29.00</td>\n",
       "      <td>F</td>\n",
       "      <td>1</td>\n",
       "      <td>Allen</td>\n",
       "      <td>Miss. Elisabeth Walton</td>\n",
       "    </tr>\n",
       "    <tr>\n",
       "      <th>1</th>\n",
       "      <td>1</td>\n",
       "      <td>0.92</td>\n",
       "      <td>M</td>\n",
       "      <td>1</td>\n",
       "      <td>Allison</td>\n",
       "      <td>Master. Hudson Trevor</td>\n",
       "    </tr>\n",
       "    <tr>\n",
       "      <th>2</th>\n",
       "      <td>1</td>\n",
       "      <td>2.00</td>\n",
       "      <td>F</td>\n",
       "      <td>0</td>\n",
       "      <td>Allison</td>\n",
       "      <td>Miss. Helen Loraine</td>\n",
       "    </tr>\n",
       "    <tr>\n",
       "      <th>3</th>\n",
       "      <td>1</td>\n",
       "      <td>30.00</td>\n",
       "      <td>M</td>\n",
       "      <td>0</td>\n",
       "      <td>Allison</td>\n",
       "      <td>Mr. Hudson Joshua Creighton</td>\n",
       "    </tr>\n",
       "    <tr>\n",
       "      <th>4</th>\n",
       "      <td>1</td>\n",
       "      <td>25.00</td>\n",
       "      <td>F</td>\n",
       "      <td>0</td>\n",
       "      <td>Allison</td>\n",
       "      <td>Mrs. Hudson J C (Bessie Waldo Daniels)</td>\n",
       "    </tr>\n",
       "    <tr>\n",
       "      <th>...</th>\n",
       "      <td>...</td>\n",
       "      <td>...</td>\n",
       "      <td>...</td>\n",
       "      <td>...</td>\n",
       "      <td>...</td>\n",
       "      <td>...</td>\n",
       "    </tr>\n",
       "    <tr>\n",
       "      <th>1041</th>\n",
       "      <td>3</td>\n",
       "      <td>45.50</td>\n",
       "      <td>M</td>\n",
       "      <td>0</td>\n",
       "      <td>Youseff</td>\n",
       "      <td>Mr. Gerious</td>\n",
       "    </tr>\n",
       "    <tr>\n",
       "      <th>1042</th>\n",
       "      <td>3</td>\n",
       "      <td>14.50</td>\n",
       "      <td>F</td>\n",
       "      <td>0</td>\n",
       "      <td>Zabour</td>\n",
       "      <td>Miss. Hileni</td>\n",
       "    </tr>\n",
       "    <tr>\n",
       "      <th>1043</th>\n",
       "      <td>3</td>\n",
       "      <td>26.50</td>\n",
       "      <td>M</td>\n",
       "      <td>0</td>\n",
       "      <td>Zakarian</td>\n",
       "      <td>Mr. Mapriededer</td>\n",
       "    </tr>\n",
       "    <tr>\n",
       "      <th>1044</th>\n",
       "      <td>3</td>\n",
       "      <td>27.00</td>\n",
       "      <td>M</td>\n",
       "      <td>0</td>\n",
       "      <td>Zakarian</td>\n",
       "      <td>Mr. Ortin</td>\n",
       "    </tr>\n",
       "    <tr>\n",
       "      <th>1045</th>\n",
       "      <td>3</td>\n",
       "      <td>29.00</td>\n",
       "      <td>M</td>\n",
       "      <td>0</td>\n",
       "      <td>Zimmerman</td>\n",
       "      <td>Mr. Leo</td>\n",
       "    </tr>\n",
       "  </tbody>\n",
       "</table>\n",
       "<p>1046 rows × 6 columns</p>\n",
       "</div>"
      ],
      "text/plain": [
       "      class    age gender  survived      Name1  \\\n",
       "0         1  29.00      F         1      Allen   \n",
       "1         1   0.92      M         1    Allison   \n",
       "2         1   2.00      F         0    Allison   \n",
       "3         1  30.00      M         0    Allison   \n",
       "4         1  25.00      F         0    Allison   \n",
       "...     ...    ...    ...       ...        ...   \n",
       "1041      3  45.50      M         0    Youseff   \n",
       "1042      3  14.50      F         0     Zabour   \n",
       "1043      3  26.50      M         0   Zakarian   \n",
       "1044      3  27.00      M         0   Zakarian   \n",
       "1045      3  29.00      M         0  Zimmerman   \n",
       "\n",
       "                                        Name2  \n",
       "0                      Miss. Elisabeth Walton  \n",
       "1                       Master. Hudson Trevor  \n",
       "2                         Miss. Helen Loraine  \n",
       "3                 Mr. Hudson Joshua Creighton  \n",
       "4      Mrs. Hudson J C (Bessie Waldo Daniels)  \n",
       "...                                       ...  \n",
       "1041                              Mr. Gerious  \n",
       "1042                             Miss. Hileni  \n",
       "1043                          Mr. Mapriededer  \n",
       "1044                                Mr. Ortin  \n",
       "1045                                  Mr. Leo  \n",
       "\n",
       "[1046 rows x 6 columns]"
      ]
     },
     "execution_count": 3,
     "metadata": {},
     "output_type": "execute_result"
    }
   ],
   "source": [
    "df # display few rows"
   ]
  },
  {
   "cell_type": "markdown",
   "metadata": {},
   "source": [
    "# Q.1\n",
    "\n",
    "- Algorithm:\n",
    "- 1. Read the dataset using pandas read_csv() function which returns data as a dataframe \n",
    "- 2. filter the dataframe where class is 3\n",
    "- 3. get the length using len() function"
   ]
  },
  {
   "cell_type": "code",
   "execution_count": 4,
   "metadata": {},
   "outputs": [
    {
     "data": {
      "text/plain": [
       "501"
      ]
     },
     "execution_count": 4,
     "metadata": {},
     "output_type": "execute_result"
    }
   ],
   "source": [
    "len(df[df['class']==3]) # Number of passengers took the 3rd cabin class."
   ]
  },
  {
   "cell_type": "markdown",
   "metadata": {},
   "source": [
    "# Q.2\n",
    "\n",
    "- Algorithm:\n",
    "- 1. Read the dataset using pandas read_csv() function which returns data as a dataframe \n",
    "- 2. filter the dataframe where gender is Male\n",
    "- 3. get the length using len() function"
   ]
  },
  {
   "cell_type": "code",
   "execution_count": 5,
   "metadata": {},
   "outputs": [
    {
     "data": {
      "text/plain": [
       "658"
      ]
     },
     "execution_count": 5,
     "metadata": {},
     "output_type": "execute_result"
    }
   ],
   "source": [
    "len(df[df['gender']=='M']) # Number of Male passengers"
   ]
  },
  {
   "cell_type": "markdown",
   "metadata": {},
   "source": [
    "- Algorithm:\n",
    "- 1. Read the dataset using pandas read_csv() function which returns data as a dataframe\n",
    "- 2. Filter the dataframe where gender is Male and survived = 1\n",
    "- 3. Get the length"
   ]
  },
  {
   "cell_type": "code",
   "execution_count": 6,
   "metadata": {},
   "outputs": [
    {
     "data": {
      "text/plain": [
       "135"
      ]
     },
     "execution_count": 6,
     "metadata": {},
     "output_type": "execute_result"
    }
   ],
   "source": [
    "len(df[(df['gender']=='M') & (df['survived']==1)]) # Number of Male passengers survived"
   ]
  },
  {
   "cell_type": "markdown",
   "metadata": {},
   "source": [
    "# Q.3\n",
    "\n",
    "- Algorithm:\n",
    "- 1. Read the dataset using pandas read_csv() function which returns data as a dataframe\n",
    "- 2. filter the dataframe where gender is Female\n",
    "- 3. get the length using len() function"
   ]
  },
  {
   "cell_type": "code",
   "execution_count": 7,
   "metadata": {},
   "outputs": [
    {
     "data": {
      "text/plain": [
       "388"
      ]
     },
     "execution_count": 7,
     "metadata": {},
     "output_type": "execute_result"
    }
   ],
   "source": [
    "len(df[df['gender']=='F']) #  Number of female passengers"
   ]
  },
  {
   "cell_type": "markdown",
   "metadata": {},
   "source": [
    "- Algorithm:\n",
    "- Read the dataset using pandas read_csv() function which returns data as a dataframe\n",
    "- Filter the dataframe where gender is Female and survived = 1\n",
    "- Get the length"
   ]
  },
  {
   "cell_type": "code",
   "execution_count": 8,
   "metadata": {},
   "outputs": [
    {
     "data": {
      "text/plain": [
       "292"
      ]
     },
     "execution_count": 8,
     "metadata": {},
     "output_type": "execute_result"
    }
   ],
   "source": [
    "len(df[(df['gender']=='F') & (df['survived']==1)]) # Number of female passengers survived"
   ]
  },
  {
   "cell_type": "markdown",
   "metadata": {},
   "source": [
    "- All the above algorithms are universal and will work always"
   ]
  },
  {
   "cell_type": "code",
   "execution_count": 11,
   "metadata": {},
   "outputs": [
    {
     "data": {
      "text/html": [
       "<div>\n",
       "<style scoped>\n",
       "    .dataframe tbody tr th:only-of-type {\n",
       "        vertical-align: middle;\n",
       "    }\n",
       "\n",
       "    .dataframe tbody tr th {\n",
       "        vertical-align: top;\n",
       "    }\n",
       "\n",
       "    .dataframe thead th {\n",
       "        text-align: right;\n",
       "    }\n",
       "</style>\n",
       "<table border=\"1\" class=\"dataframe\">\n",
       "  <thead>\n",
       "    <tr style=\"text-align: right;\">\n",
       "      <th></th>\n",
       "      <th>class</th>\n",
       "      <th>age</th>\n",
       "      <th>gender</th>\n",
       "      <th>survived</th>\n",
       "      <th>Name1</th>\n",
       "      <th>Name2</th>\n",
       "    </tr>\n",
       "  </thead>\n",
       "  <tbody>\n",
       "    <tr>\n",
       "      <th>1</th>\n",
       "      <td>1</td>\n",
       "      <td>0.92</td>\n",
       "      <td>M</td>\n",
       "      <td>1</td>\n",
       "      <td>Allison</td>\n",
       "      <td>Master. Hudson Trevor</td>\n",
       "    </tr>\n",
       "    <tr>\n",
       "      <th>2</th>\n",
       "      <td>1</td>\n",
       "      <td>2.00</td>\n",
       "      <td>F</td>\n",
       "      <td>0</td>\n",
       "      <td>Allison</td>\n",
       "      <td>Miss. Helen Loraine</td>\n",
       "    </tr>\n",
       "    <tr>\n",
       "      <th>3</th>\n",
       "      <td>1</td>\n",
       "      <td>30.00</td>\n",
       "      <td>M</td>\n",
       "      <td>0</td>\n",
       "      <td>Allison</td>\n",
       "      <td>Mr. Hudson Joshua Creighton</td>\n",
       "    </tr>\n",
       "    <tr>\n",
       "      <th>4</th>\n",
       "      <td>1</td>\n",
       "      <td>25.00</td>\n",
       "      <td>F</td>\n",
       "      <td>0</td>\n",
       "      <td>Allison</td>\n",
       "      <td>Mrs. Hudson J C (Bessie Waldo Daniels)</td>\n",
       "    </tr>\n",
       "  </tbody>\n",
       "</table>\n",
       "</div>"
      ],
      "text/plain": [
       "   class    age gender  survived    Name1  \\\n",
       "1      1   0.92      M         1  Allison   \n",
       "2      1   2.00      F         0  Allison   \n",
       "3      1  30.00      M         0  Allison   \n",
       "4      1  25.00      F         0  Allison   \n",
       "\n",
       "                                     Name2  \n",
       "1                    Master. Hudson Trevor  \n",
       "2                      Miss. Helen Loraine  \n",
       "3              Mr. Hudson Joshua Creighton  \n",
       "4   Mrs. Hudson J C (Bessie Waldo Daniels)  "
      ]
     },
     "execution_count": 11,
     "metadata": {},
     "output_type": "execute_result"
    }
   ],
   "source": [
    "df[df.get('Name1')=='Allison']"
   ]
  },
  {
   "cell_type": "code",
   "execution_count": 45,
   "metadata": {},
   "outputs": [],
   "source": [
    "def reformat_name(name2):\n",
    "    return name2 + 'hel'"
   ]
  },
  {
   "cell_type": "code",
   "execution_count": 38,
   "metadata": {},
   "outputs": [
    {
     "data": {
      "text/plain": [
       "27.25"
      ]
     },
     "execution_count": 38,
     "metadata": {},
     "output_type": "execute_result"
    }
   ],
   "source": [
    "df[df.get('Name1')=='Allison'].get('Name2').apply(lambda x:len(x)).mean()"
   ]
  },
  {
   "cell_type": "code",
   "execution_count": 39,
   "metadata": {},
   "outputs": [
    {
     "data": {
      "text/plain": [
       "1                      Master. Hudson Trevorhel\n",
       "2                        Miss. Helen Lorainehel\n",
       "3                Mr. Hudson Joshua Creightonhel\n",
       "4     Mrs. Hudson J C (Bessie Waldo Daniels)hel\n",
       "Name: Name2, dtype: object"
      ]
     },
     "execution_count": 39,
     "metadata": {},
     "output_type": "execute_result"
    }
   ],
   "source": [
    "df[df.get('Name1')=='Allison'].get('Name2').apply(aa)"
   ]
  },
  {
   "cell_type": "code",
   "execution_count": 41,
   "metadata": {},
   "outputs": [
    {
     "data": {
      "text/plain": [
       "30.25"
      ]
     },
     "execution_count": 41,
     "metadata": {},
     "output_type": "execute_result"
    }
   ],
   "source": [
    "df[df.get('Name1')=='Allison'].get('Name2').apply(lambda x:len(aa(x))).mean()"
   ]
  },
  {
   "cell_type": "code",
   "execution_count": 54,
   "metadata": {},
   "outputs": [],
   "source": [
    "def mean_values(country):\n",
    "    return winter[winter.get(\"Country\")==country].get('Athlete').apply(lambda x:len(reformat_name(x))).mean()"
   ]
  },
  {
   "cell_type": "code",
   "execution_count": null,
   "metadata": {},
   "outputs": [],
   "source": []
  },
  {
   "cell_type": "code",
   "execution_count": null,
   "metadata": {},
   "outputs": [],
   "source": []
  },
  {
   "cell_type": "code",
   "execution_count": 46,
   "metadata": {},
   "outputs": [],
   "source": [
    "def mean_values(country):\n",
    "    return df[df.get(\"Name1\")==country].get('Name2').apply(lambda x:len(reformat_name(x))).mean()"
   ]
  },
  {
   "cell_type": "code",
   "execution_count": null,
   "metadata": {},
   "outputs": [],
   "source": [
    "Allison"
   ]
  },
  {
   "cell_type": "code",
   "execution_count": 53,
   "metadata": {},
   "outputs": [
    {
     "data": {
      "text/plain": [
       "30.25"
      ]
     },
     "execution_count": 53,
     "metadata": {},
     "output_type": "execute_result"
    }
   ],
   "source": [
    "mean_values('Allison')"
   ]
  },
  {
   "cell_type": "code",
   "execution_count": 52,
   "metadata": {},
   "outputs": [],
   "source": [
    "def mean_values(country):\n",
    "    return df[df.get(\"Name1\")==country].get('Name2').apply(lambda x:len(reformat_name(x))).mean()"
   ]
  },
  {
   "cell_type": "code",
   "execution_count": null,
   "metadata": {},
   "outputs": [],
   "source": []
  },
  {
   "cell_type": "code",
   "execution_count": null,
   "metadata": {},
   "outputs": [],
   "source": [
    "df[df.get('Name1')=='Allison'].get('Name2').apply(lambda x:len(aa(x))).mean()"
   ]
  }
 ],
 "metadata": {
  "kernelspec": {
   "display_name": "Python 3",
   "language": "python",
   "name": "python3"
  },
  "language_info": {
   "codemirror_mode": {
    "name": "ipython",
    "version": 3
   },
   "file_extension": ".py",
   "mimetype": "text/x-python",
   "name": "python",
   "nbconvert_exporter": "python",
   "pygments_lexer": "ipython3",
   "version": "3.8.5"
  }
 },
 "nbformat": 4,
 "nbformat_minor": 4
}
