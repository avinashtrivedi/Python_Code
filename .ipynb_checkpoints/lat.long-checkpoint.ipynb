{
 "cells": [
  {
   "cell_type": "code",
   "execution_count": 12,
   "metadata": {},
   "outputs": [
    {
     "name": "stdout",
     "output_type": "stream",
     "text": [
      "Result: 502.44722230998315\n",
      "Should be: 278.546 km\n"
     ]
    }
   ],
   "source": [
    "from math import sin, cos, sqrt, atan2, radians,asin\n",
    "import numpy as np\n",
    "# approximate radius of earth in km\n",
    "R = 6371.0\n",
    "\n",
    "lat1 = radians(38.7223)\n",
    "lon1 = radians(-9.1393)\n",
    "lat2 = radians(40.4168)\n",
    "lon2 = radians(-3.7038)\n",
    "\n",
    "dlon = lon2 - lon1\n",
    "dlat = lat2 - lat1\n",
    "\n",
    "a = sin(dlat / 2)**2 + cos(lat1) * cos(lat2) * sin(dlon / 2)**2\n",
    "c = 2*R*np.arcsin(a**.5) \n",
    "#2 * atan2(sqrt(a), sqrt(1 - a))\n",
    "\n",
    "distance = 2 *R* asin(sqrt(a))\n",
    "\n",
    "print(\"Result:\", distance)\n",
    "print(\"Should be:\", 278.546, \"km\")"
   ]
  },
  {
   "cell_type": "code",
   "execution_count": 5,
   "metadata": {},
   "outputs": [],
   "source": [
    "lat1 = radians(38.7223)\n",
    "lon1 = radians(-9.1393)\n",
    "lat2 = radians(40.4168)\n",
    "lon2 = radians(-3.7038)"
   ]
  },
  {
   "cell_type": "code",
   "execution_count": 6,
   "metadata": {},
   "outputs": [
    {
     "data": {
      "text/plain": [
       "0.6758316289450003"
      ]
     },
     "execution_count": 6,
     "metadata": {},
     "output_type": "execute_result"
    }
   ],
   "source": [
    "lat1"
   ]
  },
  {
   "cell_type": "code",
   "execution_count": 7,
   "metadata": {},
   "outputs": [
    {
     "data": {
      "text/plain": [
       "-0.15951087632751776"
      ]
     },
     "execution_count": 7,
     "metadata": {},
     "output_type": "execute_result"
    }
   ],
   "source": [
    "lon1"
   ]
  },
  {
   "cell_type": "code",
   "execution_count": 1,
   "metadata": {},
   "outputs": [],
   "source": [
    "import haversine as hs\n"
   ]
  },
  {
   "cell_type": "code",
   "execution_count": 9,
   "metadata": {},
   "outputs": [
    {
     "data": {
      "text/plain": [
       "5.229712941541709"
      ]
     },
     "execution_count": 9,
     "metadata": {},
     "output_type": "execute_result"
    }
   ],
   "source": [
    "loc1=(28.426846,77.088834)\n",
    "loc2=(28.394231,77.050308)\n",
    "hs.haversine(loc1,loc2)"
   ]
  },
  {
   "cell_type": "code",
   "execution_count": 2,
   "metadata": {},
   "outputs": [
    {
     "data": {
      "text/plain": [
       "2.412391078877098"
      ]
     },
     "execution_count": 2,
     "metadata": {},
     "output_type": "execute_result"
    }
   ],
   "source": [
    "loc1=(42.278866,-83.732666)\n",
    "loc2=(42.293342,-83.710823)\n",
    "hs.haversine(loc1,loc2)"
   ]
  },
  {
   "cell_type": "code",
   "execution_count": null,
   "metadata": {},
   "outputs": [],
   "source": []
  },
  {
   "cell_type": "code",
   "execution_count": null,
   "metadata": {},
   "outputs": [],
   "source": [
    "\"lat\": 42.278866,\n",
    "        \"lng\": -83.732666,"
   ]
  },
  {
   "cell_type": "code",
   "execution_count": null,
   "metadata": {},
   "outputs": [],
   "source": [
    "\"lat\": 42.293342,\n",
    "        \"lng\": -83.710823,"
   ]
  },
  {
   "cell_type": "code",
   "execution_count": 10,
   "metadata": {},
   "outputs": [
    {
     "data": {
      "text/plain": [
       "502.44791631964506"
      ]
     },
     "execution_count": 10,
     "metadata": {},
     "output_type": "execute_result"
    }
   ],
   "source": [
    "loc1=(38.7223,-9.1393)\n",
    "loc2=(40.4168,-3.7038)\n",
    "hs.haversine(loc1,loc2)"
   ]
  },
  {
   "cell_type": "code",
   "execution_count": 15,
   "metadata": {},
   "outputs": [],
   "source": [
    "x = R*cos(38.7223)*cos(-9.1393)\n",
    "y = R*cos(38.7223)*sin(-9.1393)\n",
    "\n",
    "x1 = R*cos(40.4168)*cos(-3.7038)\n",
    "y1 = R*cos(40.4168)*sin(-3.7038)"
   ]
  },
  {
   "cell_type": "code",
   "execution_count": 16,
   "metadata": {},
   "outputs": [
    {
     "data": {
      "text/plain": [
       "8379.607161992932"
      ]
     },
     "execution_count": 16,
     "metadata": {},
     "output_type": "execute_result"
    }
   ],
   "source": [
    "((x-x1)**2 + (y-y1)**2)**.5"
   ]
  },
  {
   "cell_type": "code",
   "execution_count": null,
   "metadata": {},
   "outputs": [],
   "source": []
  }
 ],
 "metadata": {
  "kernelspec": {
   "display_name": "Python 3",
   "language": "python",
   "name": "python3"
  },
  "language_info": {
   "codemirror_mode": {
    "name": "ipython",
    "version": 3
   },
   "file_extension": ".py",
   "mimetype": "text/x-python",
   "name": "python",
   "nbconvert_exporter": "python",
   "pygments_lexer": "ipython3",
   "version": "3.8.5"
  }
 },
 "nbformat": 4,
 "nbformat_minor": 4
}
