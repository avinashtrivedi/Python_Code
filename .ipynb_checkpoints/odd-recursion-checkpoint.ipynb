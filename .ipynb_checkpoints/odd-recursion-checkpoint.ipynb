{
 "cells": [
  {
   "cell_type": "code",
   "execution_count": 51,
   "metadata": {},
   "outputs": [
    {
     "name": "stdout",
     "output_type": "stream",
     "text": [
      "Enter the number: 7\n",
      "Sum of odd numbers upto 21 will be: 121\n"
     ]
    }
   ],
   "source": [
    "# shared variable to multiply n by 3 only once.\n",
    "run_once = True\n",
    "\n",
    "def sumThem(n):\n",
    "    global run_once\n",
    "    \n",
    "    # compute n*3 only once.\n",
    "    if run_once:\n",
    "        n = n*3    \n",
    "        run_once = False\n",
    "        \n",
    "    # if the resulting number is even\n",
    "    if n%2==0: # even\n",
    "        \n",
    "        # terminating condition\n",
    "        if n==0:\n",
    "            return 0\n",
    "        return n + sumThem(n-2)\n",
    "    \n",
    "    # if the resulting number is odd\n",
    "    elif n%2==1: # odd\n",
    "        \n",
    "        # terminating condition\n",
    "        if n==1:\n",
    "            return 1\n",
    "        return n + sumThem(n-2)\n",
    "    \n",
    "n = int(input('Enter the number: '))\n",
    "if (n*3)%2==0: # even\n",
    "    print('Sum of even numbers upto {} will be: {}'.format(n*3,sumThem(n)))\n",
    "else: # odd\n",
    "    print('Sum of odd numbers upto {} will be: {}'.format(n*3,sumThem(n)))"
   ]
  },
  {
   "cell_type": "code",
   "execution_count": null,
   "metadata": {},
   "outputs": [],
   "source": []
  }
 ],
 "metadata": {
  "kernelspec": {
   "display_name": "Python 3",
   "language": "python",
   "name": "python3"
  },
  "language_info": {
   "codemirror_mode": {
    "name": "ipython",
    "version": 3
   },
   "file_extension": ".py",
   "mimetype": "text/x-python",
   "name": "python",
   "nbconvert_exporter": "python",
   "pygments_lexer": "ipython3",
   "version": "3.8.5"
  }
 },
 "nbformat": 4,
 "nbformat_minor": 4
}
