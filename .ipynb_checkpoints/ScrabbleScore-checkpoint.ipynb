{
 "cells": [
  {
   "cell_type": "code",
   "execution_count": 27,
   "metadata": {},
   "outputs": [],
   "source": [
    "SCORES = {\"a\": 1, \"c\": 3, \"b\": 3, \"e\": 1, \"d\": 2, \"g\": 2, \n",
    "          \"f\": 4, \"i\": 1, \"h\": 4, \"k\": 5, \"j\": 8, \"m\": 3, \n",
    "          \"l\": 1, \"o\": 1, \"n\": 1, \"q\": 10, \"p\": 3, \"s\": 1, \n",
    "          \"r\": 1, \"u\": 1, \"t\": 1, \"w\": 4, \"v\": 4, \"y\": 4, \n",
    "          \"x\": 8, \"z\": 10}"
   ]
  },
  {
   "cell_type": "code",
   "execution_count": 34,
   "metadata": {},
   "outputs": [],
   "source": [
    "def computeScrabbleScore(word):\n",
    "    total = 0\n",
    "    for letter in word[0].lower():\n",
    "        total += SCORES[letter]\n",
    "    return total"
   ]
  },
  {
   "cell_type": "code",
   "execution_count": 35,
   "metadata": {},
   "outputs": [],
   "source": [
    "def wordScore(word_list):\n",
    "    Dict = {}\n",
    "    for words in word_list:\n",
    "        keys = words\n",
    "        values = computeScrabbleScore(words.split())\n",
    "        Dict[keys] = values\n",
    "    return Dict"
   ]
  },
  {
   "cell_type": "code",
   "execution_count": 36,
   "metadata": {},
   "outputs": [],
   "source": [
    "def pigLatin(sentence):\n",
    "    word_list = sentence.split(' ')\n",
    "    latin_sentence = ''\n",
    "    for word in word_list:\n",
    "        latin_sentence = latin_sentence + word[1:] + word[0] + 'ay' + ' '\n",
    "    return latin_sentence.strip()"
   ]
  },
  {
   "cell_type": "code",
   "execution_count": 37,
   "metadata": {},
   "outputs": [
    {
     "data": {
      "text/plain": [
       "[('hetay', 11), ('uickqay', 25), ('rownbay', 15), ('oxfay', 18)]"
      ]
     },
     "execution_count": 37,
     "metadata": {},
     "output_type": "execute_result"
    }
   ],
   "source": [
    "a = wordScore(['hetay' ,'uickqay' ,'rownbay' ,'oxfay'])\n"
   ]
  },
  {
   "cell_type": "code",
   "execution_count": 40,
   "metadata": {},
   "outputs": [
    {
     "name": "stdout",
     "output_type": "stream",
     "text": [
      "The quick brown fox jumps over the lazy dog\n",
      "heTay uickqay rownbay oxfay umpsjay veroay hetay azylay ogday\n",
      "[('heTay', 11), ('uickqay', 25), ('rownbay', 15), ('oxfay', 18), ('umpsjay', 21), ('veroay', 12), ('hetay', 11), ('azylay', 21), ('ogday', 10)]\n"
     ]
    }
   ],
   "source": [
    "sentence = 'The quick brown fox jumps over the lazy dog'\n",
    "# write your code below\n",
    "print(sentence)\n",
    "piglain = pigLatin(sentence)\n",
    "print(piglain)\n",
    "Scrabble_score = wordScore(piglain.split(' '))\n",
    "word_score = [(k,v) for k,v in Scrabble_score.items()]\n",
    "print(word_score)"
   ]
  },
  {
   "cell_type": "code",
   "execution_count": null,
   "metadata": {},
   "outputs": [],
   "source": []
  }
 ],
 "metadata": {
  "kernelspec": {
   "display_name": "Python 3",
   "language": "python",
   "name": "python3"
  },
  "language_info": {
   "codemirror_mode": {
    "name": "ipython",
    "version": 3
   },
   "file_extension": ".py",
   "mimetype": "text/x-python",
   "name": "python",
   "nbconvert_exporter": "python",
   "pygments_lexer": "ipython3",
   "version": "3.8.5"
  }
 },
 "nbformat": 4,
 "nbformat_minor": 4
}
