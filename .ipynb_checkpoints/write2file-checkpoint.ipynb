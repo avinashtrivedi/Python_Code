{
 "cells": [
  {
   "cell_type": "code",
   "execution_count": 1,
   "metadata": {},
   "outputs": [],
   "source": [
    "# define the function to return 1st character and length\n",
    "\n",
    "def FirstAndLength(name):\n",
    "    return name[0],len(name)"
   ]
  },
  {
   "cell_type": "code",
   "execution_count": 2,
   "metadata": {},
   "outputs": [
    {
     "name": "stdout",
     "output_type": "stream",
     "text": [
      "Enter last name: Simpson\n",
      "Enter last name: Burns\n",
      "Enter last name: Nahasapeem\n",
      "Enter last name: Flanders\n",
      "Enter last name: Krabappel\n",
      "Enter last name: Szyslak\n",
      "Enter last name: q\n"
     ]
    }
   ],
   "source": [
    "# open a file in write mode.\n",
    "fname = open('lastNames01.txt','w')\n",
    "\n",
    "lastline=''\n",
    "\n",
    "# keep prompting the user for last name\n",
    "while True:\n",
    "    LastName = input('Enter last name: ')\n",
    "    \n",
    "    # if input is 'q' ,then stop taking the input.\n",
    "    if LastName=='q':\n",
    "        break\n",
    "        \n",
    "    # else write details to file\n",
    "    else:\n",
    "        fname.write(lastline)\n",
    "        \n",
    "        # get Starting Letter and Length\n",
    "        StartingLetter,Length = FirstAndLength(LastName)\n",
    "        \n",
    "        # write to file with proper formatting.\n",
    "        fname.write(\"{} {:>12} {:>3}\".format(StartingLetter,LastName,Length))\n",
    "        lastline=\"\\n\"\n",
    "        \n",
    "# close the file.\n",
    "fname.close()"
   ]
  },
  {
   "cell_type": "code",
   "execution_count": null,
   "metadata": {},
   "outputs": [],
   "source": []
  }
 ],
 "metadata": {
  "kernelspec": {
   "display_name": "Python 3",
   "language": "python",
   "name": "python3"
  },
  "language_info": {
   "codemirror_mode": {
    "name": "ipython",
    "version": 3
   },
   "file_extension": ".py",
   "mimetype": "text/x-python",
   "name": "python",
   "nbconvert_exporter": "python",
   "pygments_lexer": "ipython3",
   "version": "3.8.5"
  }
 },
 "nbformat": 4,
 "nbformat_minor": 4
}
