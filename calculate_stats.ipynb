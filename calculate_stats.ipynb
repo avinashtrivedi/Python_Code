{
 "cells": [
  {
   "cell_type": "code",
   "execution_count": 1,
   "metadata": {},
   "outputs": [],
   "source": [
    "def calculate_stats(df, label): \n",
    "    \n",
    "    # filter the df for label\n",
    "    filtered_df = df[df['gender'] == label] \n",
    "    \n",
    "    # get the normalized count of values from 'last_minute' column\n",
    "    value_counts = filtered_df['last_minute'].value_counts(normalize = True) \n",
    "    return value_counts # return normalize count"
   ]
  },
  {
   "cell_type": "code",
   "execution_count": 2,
   "metadata": {},
   "outputs": [],
   "source": [
    "import pandas as pd\n",
    "def read_data(file):\n",
    "    df = pd.read_csv(file) # read a csv file\n",
    "    df.filter(['Gender', '11']) # get a subset of dataframe\n",
    "    df = df.rename(columns={'Gender': 'gender', '11': 'last_minute'}) # rename the column  \n",
    "    result = df.head(10) # get top 10 rows\n",
    "    return result # return the resulting dataframe"
   ]
  },
  {
   "cell_type": "code",
   "execution_count": 3,
   "metadata": {},
   "outputs": [],
   "source": [
    "def test_calculate_stats():\n",
    "    \n",
    "    # read a csv file using read_data() function\n",
    "    # read_data() function takes filename as an argument\n",
    "    # and then read that file and rename 'Gender' and '11' column to 'gender' and 'last_minute'\n",
    "    # and finally return top 10 rows from that file as a dataframe\n",
    "    df = read_data(file='testfile.csv')\n",
    "    \n",
    "    # calculate_stats() : It takes Dataframe df and gender 'M' as argument and \n",
    "    # filter the dataframe so that it contains only gender 'M' (male)\n",
    "    # and finally return normalized count of values from 'last_minute' column\n",
    "    # e.g. Neither 0.6  Agree  0.4\n",
    "    out_M = calculate_stats(df, 'M')  \n",
    "    \n",
    "    # check if out_M is an instance of pd.Series class\n",
    "    # otherwise prompt an Assertion Error\n",
    "    assert isinstance(out_M, pd.Series)\n",
    "    \n",
    "    # check if 'Neither' and 'Agree' are index of out_M\n",
    "    # otherwise prompt an Assertion Error\n",
    "    assert set(list(out_M.index)) == set(['Neither', 'Agree'])\n",
    "    \n",
    "    # check if 0.6 and 0.4 are values of out_M\n",
    "    # otherwise prompt an Assertion Error\n",
    "    assert set(list(out_M.values)) == set([0.6, 0.4])\n",
    "    \n",
    "    # Similarly\n",
    "    # filter the dataframe df for gender 'F' i.e. female\n",
    "    # and get the normalized count of values from 'last_minute' column\n",
    "    out_F = calculate_stats(df, 'F')\n",
    "    \n",
    "    # check if out_F is an instance of pd.Series class\n",
    "    # otherwise prompt an Assertion Error\n",
    "    assert isinstance(out_F, pd.Series)\n",
    "    \n",
    "    # check if 'Disagree', 'Strong Agree' and 'Agree' are index of out_F\n",
    "    # otherwise prompt an Assertion Error\n",
    "    assert set(list(out_F.index)) == set(['Disagree', 'Strong Agree', 'Agree'])\n",
    "    \n",
    "    # check if 0.4, 0.4 and  0.2 are values of out_F\n",
    "    # otherwise prompt an Assertion Error\n",
    "    assert set(list(out_F.values)) == set([0.4, 0.4, 0.2])\n"
   ]
  },
  {
   "cell_type": "code",
   "execution_count": null,
   "metadata": {},
   "outputs": [],
   "source": []
  }
 ],
 "metadata": {
  "kernelspec": {
   "display_name": "Python 3",
   "language": "python",
   "name": "python3"
  },
  "language_info": {
   "codemirror_mode": {
    "name": "ipython",
    "version": 3
   },
   "file_extension": ".py",
   "mimetype": "text/x-python",
   "name": "python",
   "nbconvert_exporter": "python",
   "pygments_lexer": "ipython3",
   "version": "3.8.5"
  }
 },
 "nbformat": 4,
 "nbformat_minor": 4
}
