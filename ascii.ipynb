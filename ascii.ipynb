{
 "cells": [
  {
   "cell_type": "code",
   "execution_count": 1,
   "metadata": {},
   "outputs": [
    {
     "name": "stdout",
     "output_type": "stream",
     "text": [
      "Before Modification alpha list: ['p', 'q', 't', 'h', 'g']\n",
      "Before Modification ASCII list: [112, 113, 116, 104, 103]\n",
      "Maximum ASCII Value: 116\n",
      "Average of ASCII List: 109\n",
      "After Modification ASCII LIst: [112, 113, 109, 104, 103]\n"
     ]
    }
   ],
   "source": [
    "# if you want to take input from user. uncomment the below input() i.e. line-3 and comment line-5.\n",
    "\n",
    "# given_string = input()\n",
    "\n",
    "given_string = \"p,q,t,h,g\"\n",
    "\n",
    "# flag to keep track if given_string contains only alphabets \n",
    "# and comma\n",
    "status = 'passed'\n",
    "\n",
    "# check the given_string\n",
    "for char in given_string:\n",
    "    if char.isalpha() == False and char != ',':\n",
    "        status = 'failed'\n",
    "        print('failed to complete the task')\n",
    "        break\n",
    "        \n",
    "# try-except block to handle exception\n",
    "try:       \n",
    "    \n",
    "    # if given_string is valid \n",
    "    if status == 'passed':\n",
    "        \n",
    "        # split the string using comma as separator \n",
    "        prev = given_string.split(',')\n",
    "        \n",
    "        # get ASCII Values\n",
    "        prev_ascii = [ord(i) for i in prev]\n",
    "        \n",
    "        # get the max ASCII Value\n",
    "        mx = max(prev_ascii)\n",
    "        \n",
    "        # compute the average\n",
    "        avg = int(sum(prev_ascii)/len(prev_ascii))\n",
    "        \n",
    "        # replace the max ASCII value with the average\n",
    "        replaced_ascii = [avg if val==mx else val for val in prev_ascii]\n",
    "\n",
    "        # print the result.\n",
    "        print('Before Modification alpha list:',prev)\n",
    "        print('Before Modification ASCII list:',prev_ascii)\n",
    "        print('Maximum ASCII Value:',mx)\n",
    "        print('Average of ASCII List:',avg)\n",
    "        print('After Modification ASCII LIst:',replaced_ascii)\n",
    "except:\n",
    "    print('failed to complete the task')"
   ]
  },
  {
   "cell_type": "code",
   "execution_count": null,
   "metadata": {},
   "outputs": [],
   "source": []
  }
 ],
 "metadata": {
  "kernelspec": {
   "display_name": "Python 3",
   "language": "python",
   "name": "python3"
  },
  "language_info": {
   "codemirror_mode": {
    "name": "ipython",
    "version": 3
   },
   "file_extension": ".py",
   "mimetype": "text/x-python",
   "name": "python",
   "nbconvert_exporter": "python",
   "pygments_lexer": "ipython3",
   "version": "3.8.5"
  }
 },
 "nbformat": 4,
 "nbformat_minor": 4
}
