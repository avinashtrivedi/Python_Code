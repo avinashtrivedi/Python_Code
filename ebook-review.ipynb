{
 "cells": [
  {
   "cell_type": "code",
   "execution_count": 85,
   "metadata": {},
   "outputs": [
    {
     "data": {
      "text/plain": [
       "[{'asin': 'B00F83SZQ',\n",
       "  'helpful': [0, 0],\n",
       "  'overall': 5.0,\n",
       "  'reviewerID': 'A1F6404F1V',\n",
       "  'reviewText': 'i enjoyed a lot'},\n",
       " {'asin': 'B00FUUSTT',\n",
       "  'helpful': [2, 3],\n",
       "  'overall': 3.0,\n",
       "  'reviewerID': 'A1F6664TTHB',\n",
       "  'reviewText': 'This book is unique'},\n",
       " {'asin': 'B00FUUSTT',\n",
       "  'helpful': [2, 3],\n",
       "  'overall': 3.0,\n",
       "  'reviewerID': 'A1F6664TTHB',\n",
       "  'reviewText': 'This book is unique'}]"
      ]
     },
     "execution_count": 85,
     "metadata": {},
     "output_type": "execute_result"
    }
   ],
   "source": [
    "# dummy list of dictionary to test the working code\n",
    "reviews"
   ]
  },
  {
   "cell_type": "code",
   "execution_count": 86,
   "metadata": {},
   "outputs": [],
   "source": [
    "def reviews_to_df(reviews):\n",
    "    # import library required to create a Dataframe\n",
    "    import pandas as pd\n",
    "    \n",
    "    #extract the required key and value pair to create a dataframe\n",
    "    data = [dict((k, dictionary[k]) for k in ('reviewerID','asin','overall','reviewText','helpful'))  \n",
    "            for dictionary in reviews]\n",
    "    \n",
    "    # create a Dataframe df\n",
    "    df = pd.DataFrame(data)\n",
    "    \n",
    "    # add new column num_helpful and assign first field of helpful value.\n",
    "    df['num_helpful'] = df.helpful.map(lambda x: x[0])\n",
    "    \n",
    "    # add new column num_evals and assign second field of helpful value.\n",
    "    df['num_evals'] = df.helpful.map(lambda x: x[1])\n",
    "    \n",
    "    # delete helpful column as it is not required now.\n",
    "    df.drop(columns=['helpful'],inplace=True)\n",
    "    \n",
    "    # rename the column name so as to meet the expectation of question \n",
    "    df.columns = ['reviewer','ebook','rating','text','num_helpful','num_evals']\n",
    "    \n",
    "    # change datatype of rating to integer\n",
    "    df['rating'] = df['rating'].astype(int)\n",
    "    \n",
    "    # return the dataframe\n",
    "    return df"
   ]
  },
  {
   "cell_type": "code",
   "execution_count": 87,
   "metadata": {},
   "outputs": [
    {
     "data": {
      "text/html": [
       "<div>\n",
       "<style scoped>\n",
       "    .dataframe tbody tr th:only-of-type {\n",
       "        vertical-align: middle;\n",
       "    }\n",
       "\n",
       "    .dataframe tbody tr th {\n",
       "        vertical-align: top;\n",
       "    }\n",
       "\n",
       "    .dataframe thead th {\n",
       "        text-align: right;\n",
       "    }\n",
       "</style>\n",
       "<table border=\"1\" class=\"dataframe\">\n",
       "  <thead>\n",
       "    <tr style=\"text-align: right;\">\n",
       "      <th></th>\n",
       "      <th>reviewer</th>\n",
       "      <th>ebook</th>\n",
       "      <th>rating</th>\n",
       "      <th>text</th>\n",
       "      <th>num_helpful</th>\n",
       "      <th>num_evals</th>\n",
       "    </tr>\n",
       "  </thead>\n",
       "  <tbody>\n",
       "    <tr>\n",
       "      <th>0</th>\n",
       "      <td>A1F6404F1V</td>\n",
       "      <td>B00F83SZQ</td>\n",
       "      <td>5</td>\n",
       "      <td>i enjoyed a lot</td>\n",
       "      <td>0</td>\n",
       "      <td>0</td>\n",
       "    </tr>\n",
       "    <tr>\n",
       "      <th>1</th>\n",
       "      <td>A1F6664TTHB</td>\n",
       "      <td>B00FUUSTT</td>\n",
       "      <td>3</td>\n",
       "      <td>This book is unique</td>\n",
       "      <td>2</td>\n",
       "      <td>3</td>\n",
       "    </tr>\n",
       "    <tr>\n",
       "      <th>2</th>\n",
       "      <td>A1F6664TTHB</td>\n",
       "      <td>B00FUUSTT</td>\n",
       "      <td>3</td>\n",
       "      <td>This book is unique</td>\n",
       "      <td>2</td>\n",
       "      <td>3</td>\n",
       "    </tr>\n",
       "  </tbody>\n",
       "</table>\n",
       "</div>"
      ],
      "text/plain": [
       "      reviewer      ebook  rating                 text  num_helpful  num_evals\n",
       "0   A1F6404F1V  B00F83SZQ       5      i enjoyed a lot            0          0\n",
       "1  A1F6664TTHB  B00FUUSTT       3  This book is unique            2          3\n",
       "2  A1F6664TTHB  B00FUUSTT       3  This book is unique            2          3"
      ]
     },
     "execution_count": 87,
     "metadata": {},
     "output_type": "execute_result"
    }
   ],
   "source": [
    "reviews_to_df(reviews)"
   ]
  },
  {
   "cell_type": "code",
   "execution_count": 88,
   "metadata": {},
   "outputs": [
    {
     "data": {
      "text/plain": [
       "[{'asin': 'B00F83SZQ',\n",
       "  'helpful': [0, 0],\n",
       "  'overall': 5.0,\n",
       "  'reviewerID': 'A1F6404F1V',\n",
       "  'reviewText': 'i enjoyed a lot'},\n",
       " {'asin': 'B00FUUSTT',\n",
       "  'helpful': [2, 3],\n",
       "  'overall': 3.0,\n",
       "  'reviewerID': 'A1F6664TTHB',\n",
       "  'reviewText': 'This book is unique'},\n",
       " {'asin': 'B00FUUSTT',\n",
       "  'helpful': [2, 3],\n",
       "  'overall': 3.0,\n",
       "  'reviewerID': 'A1F6664TTHB',\n",
       "  'reviewText': 'This book is unique'}]"
      ]
     },
     "execution_count": 88,
     "metadata": {},
     "output_type": "execute_result"
    }
   ],
   "source": [
    "reviews"
   ]
  },
  {
   "cell_type": "code",
   "execution_count": 175,
   "metadata": {},
   "outputs": [],
   "source": [
    "reviews1 = [{'asin': 'B00F83SZQ',\n",
    "  'helpful': [0, 0],\n",
    "  'overall': 5.0,\n",
    "  'reviewerID': 'A1F6404F1V',\n",
    "  'reviewText': 'i enjoyed a lot'},\n",
    " {'asin': 'B0TT876T',\n",
    "  'helpful': [2, 3],\n",
    "  'overall': 5.0,\n",
    "  'reviewerID': 'A1F1111TTHH',\n",
    "  'reviewText': 'This book is unique'},\n",
    " {'asin': 'B084152',\n",
    "  'helpful': [2, 3],\n",
    "  'overall': 3.0,\n",
    "  'reviewerID': 'A1F67474BBB',\n",
    "  'reviewText': 'This book is unique'},\n",
    "{'asin': 'B08TGR2',\n",
    "'helpful': [2, 1],\n",
    "'overall': 4.0,\n",
    "'reviewerID': 'A1FTT64TTPPP',\n",
    "'reviewText': 'This book is out of the box'}\n",
    "           ]"
   ]
  },
  {
   "cell_type": "code",
   "execution_count": 167,
   "metadata": {},
   "outputs": [
    {
     "data": {
      "text/plain": [
       "[{'asin': 'B00F83SZQ',\n",
       "  'helpful': [0, 0],\n",
       "  'overall': 5.0,\n",
       "  'reviewerID': 'A1F6404F1V',\n",
       "  'reviewText': 'i enjoyed a lot'},\n",
       " {'asin': 'B0TT876T',\n",
       "  'helpful': [2, 3],\n",
       "  'overall': 3.0,\n",
       "  'reviewerID': 'A1F6664TTHB',\n",
       "  'reviewText': 'This book is unique'},\n",
       " {'asin': 'B084152',\n",
       "  'helpful': [2, 3],\n",
       "  'overall': 3.0,\n",
       "  'reviewerID': 'A1F6664TTHB',\n",
       "  'reviewText': 'This book is unique'},\n",
       " {'asin': 'B08TGR2',\n",
       "  'helpful': [2, 1],\n",
       "  'overall': 5.0,\n",
       "  'reviewerID': 'A1F&&64TTHB',\n",
       "  'reviewText': 'This book is out of the box'}]"
      ]
     },
     "execution_count": 167,
     "metadata": {},
     "output_type": "execute_result"
    }
   ],
   "source": [
    "reviews1"
   ]
  },
  {
   "cell_type": "code",
   "execution_count": 160,
   "metadata": {},
   "outputs": [],
   "source": [
    "reviews2 = [{'asin': 'B00F83SZQ',\n",
    "  'category': ['kindle store', 'kindle ebooks', 'Business & Money']},\n",
    " {'asin': 'B0TT876T',\n",
    "  'category': ['kindle store',\n",
    "   'kindle ebooks',\n",
    "   'engineering & transportation']},\n",
    " {'asin': 'B084152',\n",
    "  'category': ['kindle store', 'kindle ebooks', 'science fiction']},\n",
    " {'asin': 'B08HTGT',\n",
    "  'category': ['kindle store', 'kindle ebooks', 'Business &amp; Money']}]"
   ]
  },
  {
   "cell_type": "code",
   "execution_count": 161,
   "metadata": {},
   "outputs": [],
   "source": [
    "d={}\n",
    "d['asin'] ='B08HTGT'\n",
    "d['category'] = ['kindle store','kindle ebooks','Business &amp; Money']"
   ]
  },
  {
   "cell_type": "code",
   "execution_count": 117,
   "metadata": {},
   "outputs": [],
   "source": [
    "reviews.append(d)"
   ]
  },
  {
   "cell_type": "code",
   "execution_count": 118,
   "metadata": {},
   "outputs": [
    {
     "data": {
      "text/plain": [
       "{'asin': 'B08HTGT',\n",
       " 'category': ['kindle store', 'kindle ebooks', 'Business &amp; Money']}"
      ]
     },
     "execution_count": 118,
     "metadata": {},
     "output_type": "execute_result"
    }
   ],
   "source": [
    "d"
   ]
  },
  {
   "cell_type": "code",
   "execution_count": 142,
   "metadata": {},
   "outputs": [
    {
     "data": {
      "text/plain": [
       "[{'asin': 'B0TTKKKK',\n",
       "  'category': ['kindle store', 'kindle ebooks', 'Business & Money']},\n",
       " {'asin': 'B0TT876T',\n",
       "  'category': ['kindle store',\n",
       "   'kindle ebooks',\n",
       "   'engineering & transportation']},\n",
       " {'asin': 'B084152',\n",
       "  'category': ['kindle store', 'kindle ebooks', 'science fiction']},\n",
       " {'asin': 'B08HTGT',\n",
       "  'category': ['kindle store', 'kindle ebooks', 'Business &amp; Money']}]"
      ]
     },
     "execution_count": 142,
     "metadata": {},
     "output_type": "execute_result"
    }
   ],
   "source": [
    "# dummy metadata to test the code\n",
    "metadata = "
   ]
  },
  {
   "cell_type": "code",
   "execution_count": 144,
   "metadata": {},
   "outputs": [],
   "source": [
    "def metadata_to_df(metadata):\n",
    "    # import library required to create a Dataframe\n",
    "    import pandas as pd\n",
    "    \n",
    "    #extract the required key and value pair to create a dataframe\n",
    "    data = [dict((k, dictionary[k]) for k in ('asin','category'))  \n",
    "            for dictionary in metadata]\n",
    "    \n",
    "    # create a Dataframe df\n",
    "    df = pd.DataFrame(data)\n",
    "    \n",
    "    # add new column genre and assign third field of category value.\n",
    "    df['genre'] = df.category.map(lambda x: x[2])\n",
    "    \n",
    "    # replace '&amp;' with &\n",
    "    df['genre'] = df['genre'].str.replace('&amp;','&')\n",
    "    \n",
    "    # delete category column as it is not required now.\n",
    "    df.drop(columns=['category'],inplace=True)\n",
    "    \n",
    "    # rename the column name so as to meet the expectation of question \n",
    "    df.columns = ['ebook','genre']\n",
    "    \n",
    "    # return the dataframe\n",
    "    return df"
   ]
  },
  {
   "cell_type": "code",
   "execution_count": 145,
   "metadata": {},
   "outputs": [
    {
     "data": {
      "text/html": [
       "<div>\n",
       "<style scoped>\n",
       "    .dataframe tbody tr th:only-of-type {\n",
       "        vertical-align: middle;\n",
       "    }\n",
       "\n",
       "    .dataframe tbody tr th {\n",
       "        vertical-align: top;\n",
       "    }\n",
       "\n",
       "    .dataframe thead th {\n",
       "        text-align: right;\n",
       "    }\n",
       "</style>\n",
       "<table border=\"1\" class=\"dataframe\">\n",
       "  <thead>\n",
       "    <tr style=\"text-align: right;\">\n",
       "      <th></th>\n",
       "      <th>ebook</th>\n",
       "      <th>genre</th>\n",
       "    </tr>\n",
       "  </thead>\n",
       "  <tbody>\n",
       "    <tr>\n",
       "      <th>0</th>\n",
       "      <td>B0TTKKKK</td>\n",
       "      <td>Business &amp; Money</td>\n",
       "    </tr>\n",
       "    <tr>\n",
       "      <th>1</th>\n",
       "      <td>B0TT876T</td>\n",
       "      <td>engineering &amp; transportation</td>\n",
       "    </tr>\n",
       "    <tr>\n",
       "      <th>2</th>\n",
       "      <td>B084152</td>\n",
       "      <td>science fiction</td>\n",
       "    </tr>\n",
       "    <tr>\n",
       "      <th>3</th>\n",
       "      <td>B08HTGT</td>\n",
       "      <td>Business &amp; Money</td>\n",
       "    </tr>\n",
       "  </tbody>\n",
       "</table>\n",
       "</div>"
      ],
      "text/plain": [
       "      ebook                         genre\n",
       "0  B0TTKKKK              Business & Money\n",
       "1  B0TT876T  engineering & transportation\n",
       "2   B084152               science fiction\n",
       "3   B08HTGT              Business & Money"
      ]
     },
     "execution_count": 145,
     "metadata": {},
     "output_type": "execute_result"
    }
   ],
   "source": [
    "metadata_to_df(metadata) # call the function"
   ]
  },
  {
   "cell_type": "code",
   "execution_count": null,
   "metadata": {},
   "outputs": [],
   "source": []
  },
  {
   "cell_type": "code",
   "execution_count": null,
   "metadata": {},
   "outputs": [],
   "source": []
  },
  {
   "cell_type": "code",
   "execution_count": 151,
   "metadata": {},
   "outputs": [
    {
     "data": {
      "text/plain": [
       "[{'asin': 'B0TTKKKK',\n",
       "  'category': ['kindle store', 'kindle ebooks', 'Business & Money']}]"
      ]
     },
     "execution_count": 151,
     "metadata": {},
     "output_type": "execute_result"
    }
   ],
   "source": [
    "metadata"
   ]
  },
  {
   "cell_type": "code",
   "execution_count": 152,
   "metadata": {},
   "outputs": [
    {
     "data": {
      "text/html": [
       "<div>\n",
       "<style scoped>\n",
       "    .dataframe tbody tr th:only-of-type {\n",
       "        vertical-align: middle;\n",
       "    }\n",
       "\n",
       "    .dataframe tbody tr th {\n",
       "        vertical-align: top;\n",
       "    }\n",
       "\n",
       "    .dataframe thead th {\n",
       "        text-align: right;\n",
       "    }\n",
       "</style>\n",
       "<table border=\"1\" class=\"dataframe\">\n",
       "  <thead>\n",
       "    <tr style=\"text-align: right;\">\n",
       "      <th></th>\n",
       "      <th>ebook</th>\n",
       "      <th>genre</th>\n",
       "    </tr>\n",
       "  </thead>\n",
       "  <tbody>\n",
       "    <tr>\n",
       "      <th>0</th>\n",
       "      <td>B0TTKKKK</td>\n",
       "      <td>Business &amp; Money</td>\n",
       "    </tr>\n",
       "  </tbody>\n",
       "</table>\n",
       "</div>"
      ],
      "text/plain": [
       "      ebook             genre\n",
       "0  B0TTKKKK  Business & Money"
      ]
     },
     "execution_count": 152,
     "metadata": {},
     "output_type": "execute_result"
    }
   ],
   "source": [
    "metadata_to_df(metadata)"
   ]
  },
  {
   "cell_type": "code",
   "execution_count": null,
   "metadata": {},
   "outputs": [],
   "source": []
  },
  {
   "cell_type": "code",
   "execution_count": null,
   "metadata": {},
   "outputs": [],
   "source": [
    "import pandas as pd\n",
    "\n",
    "#extract the required key and value pair to create a dataframe\n",
    "data = [dict((k, dictionary[k]) for k in ('asin','category'))  \n",
    "        for dictionary in metadata]\n",
    "\n",
    "# create a Dataframe df\n",
    "df = pd.DataFrame(data)\n",
    "\n",
    "# add new column num_helpful and assign first field of helpful value.\n",
    "df['num_helpful'] = df.helpful.map(lambda x: x[0])\n",
    "\n",
    "# add new column num_evals and assign second field of helpful value.\n",
    "df['num_evals'] = df.helpful.map(lambda x: x[1])\n",
    "\n",
    "# delete helpful column as it is not required now.\n",
    "df.drop(columns=['helpful'],inplace=True)\n",
    "\n",
    "# rename the column name so as to meet the expectation of question \n",
    "df.columns = ['reviewer','ebook','rating','text','num_helpful','num_evals']\n",
    "\n",
    "# change datatype of rating to integer\n",
    "df['rating'] = df['rating'].astype(int)\n"
   ]
  },
  {
   "cell_type": "code",
   "execution_count": 139,
   "metadata": {},
   "outputs": [],
   "source": [
    "df = pd.DataFrame(data)"
   ]
  },
  {
   "cell_type": "code",
   "execution_count": 140,
   "metadata": {},
   "outputs": [],
   "source": [
    "df = pd.DataFrame(data)\n",
    "df['genre'] = df.category.map(lambda x: x[2])\n",
    "df['genre'] = df['genre'].str.replace('&amp;','&')\n",
    "df.drop(columns=['category'],inplace=True)\n",
    "df.columns = ['ebook','genre']"
   ]
  },
  {
   "cell_type": "code",
   "execution_count": 141,
   "metadata": {},
   "outputs": [
    {
     "data": {
      "text/html": [
       "<div>\n",
       "<style scoped>\n",
       "    .dataframe tbody tr th:only-of-type {\n",
       "        vertical-align: middle;\n",
       "    }\n",
       "\n",
       "    .dataframe tbody tr th {\n",
       "        vertical-align: top;\n",
       "    }\n",
       "\n",
       "    .dataframe thead th {\n",
       "        text-align: right;\n",
       "    }\n",
       "</style>\n",
       "<table border=\"1\" class=\"dataframe\">\n",
       "  <thead>\n",
       "    <tr style=\"text-align: right;\">\n",
       "      <th></th>\n",
       "      <th>ebook</th>\n",
       "      <th>genre</th>\n",
       "    </tr>\n",
       "  </thead>\n",
       "  <tbody>\n",
       "    <tr>\n",
       "      <th>0</th>\n",
       "      <td>B0TTKKKK</td>\n",
       "      <td>Business &amp; Money</td>\n",
       "    </tr>\n",
       "    <tr>\n",
       "      <th>1</th>\n",
       "      <td>B0TT876T</td>\n",
       "      <td>engineering &amp; transportation</td>\n",
       "    </tr>\n",
       "    <tr>\n",
       "      <th>2</th>\n",
       "      <td>B084152</td>\n",
       "      <td>science fiction</td>\n",
       "    </tr>\n",
       "    <tr>\n",
       "      <th>3</th>\n",
       "      <td>B08HTGT</td>\n",
       "      <td>Business &amp; Money</td>\n",
       "    </tr>\n",
       "  </tbody>\n",
       "</table>\n",
       "</div>"
      ],
      "text/plain": [
       "      ebook                         genre\n",
       "0  B0TTKKKK              Business & Money\n",
       "1  B0TT876T  engineering & transportation\n",
       "2   B084152               science fiction\n",
       "3   B08HTGT              Business & Money"
      ]
     },
     "execution_count": 141,
     "metadata": {},
     "output_type": "execute_result"
    }
   ],
   "source": [
    "df"
   ]
  },
  {
   "cell_type": "code",
   "execution_count": 133,
   "metadata": {},
   "outputs": [],
   "source": []
  },
  {
   "cell_type": "code",
   "execution_count": 134,
   "metadata": {},
   "outputs": [
    {
     "data": {
      "text/html": [
       "<div>\n",
       "<style scoped>\n",
       "    .dataframe tbody tr th:only-of-type {\n",
       "        vertical-align: middle;\n",
       "    }\n",
       "\n",
       "    .dataframe tbody tr th {\n",
       "        vertical-align: top;\n",
       "    }\n",
       "\n",
       "    .dataframe thead th {\n",
       "        text-align: right;\n",
       "    }\n",
       "</style>\n",
       "<table border=\"1\" class=\"dataframe\">\n",
       "  <thead>\n",
       "    <tr style=\"text-align: right;\">\n",
       "      <th></th>\n",
       "      <th>asin</th>\n",
       "      <th>category</th>\n",
       "      <th>genre</th>\n",
       "    </tr>\n",
       "  </thead>\n",
       "  <tbody>\n",
       "    <tr>\n",
       "      <th>0</th>\n",
       "      <td>B0TTKKKK</td>\n",
       "      <td>NaN</td>\n",
       "      <td>Business &amp; Money</td>\n",
       "    </tr>\n",
       "    <tr>\n",
       "      <th>1</th>\n",
       "      <td>B0TT876T</td>\n",
       "      <td>NaN</td>\n",
       "      <td>engineering &amp; transportation</td>\n",
       "    </tr>\n",
       "    <tr>\n",
       "      <th>2</th>\n",
       "      <td>B084152</td>\n",
       "      <td>NaN</td>\n",
       "      <td>science fiction</td>\n",
       "    </tr>\n",
       "    <tr>\n",
       "      <th>3</th>\n",
       "      <td>B08HTGT</td>\n",
       "      <td>NaN</td>\n",
       "      <td>Business &amp; Money</td>\n",
       "    </tr>\n",
       "  </tbody>\n",
       "</table>\n",
       "</div>"
      ],
      "text/plain": [
       "       asin  category                         genre\n",
       "0  B0TTKKKK       NaN              Business & Money\n",
       "1  B0TT876T       NaN  engineering & transportation\n",
       "2   B084152       NaN               science fiction\n",
       "3   B08HTGT       NaN              Business & Money"
      ]
     },
     "execution_count": 134,
     "metadata": {},
     "output_type": "execute_result"
    }
   ],
   "source": [
    "df"
   ]
  },
  {
   "cell_type": "code",
   "execution_count": 176,
   "metadata": {},
   "outputs": [],
   "source": [
    "reviews_df = reviews_to_df(reviews1)\n",
    "metadata_df = metadata_to_df(reviews2)"
   ]
  },
  {
   "cell_type": "code",
   "execution_count": 185,
   "metadata": {},
   "outputs": [
    {
     "data": {
      "text/html": [
       "<div>\n",
       "<style scoped>\n",
       "    .dataframe tbody tr th:only-of-type {\n",
       "        vertical-align: middle;\n",
       "    }\n",
       "\n",
       "    .dataframe tbody tr th {\n",
       "        vertical-align: top;\n",
       "    }\n",
       "\n",
       "    .dataframe thead th {\n",
       "        text-align: right;\n",
       "    }\n",
       "</style>\n",
       "<table border=\"1\" class=\"dataframe\">\n",
       "  <thead>\n",
       "    <tr style=\"text-align: right;\">\n",
       "      <th></th>\n",
       "      <th>reviewer</th>\n",
       "      <th>ebook</th>\n",
       "      <th>rating</th>\n",
       "      <th>text</th>\n",
       "      <th>num_helpful</th>\n",
       "      <th>num_evals</th>\n",
       "    </tr>\n",
       "  </thead>\n",
       "  <tbody>\n",
       "    <tr>\n",
       "      <th>0</th>\n",
       "      <td>A1F6404F1V</td>\n",
       "      <td>B00F83SZQ</td>\n",
       "      <td>5</td>\n",
       "      <td>i enjoyed a lot</td>\n",
       "      <td>0</td>\n",
       "      <td>0</td>\n",
       "    </tr>\n",
       "    <tr>\n",
       "      <th>1</th>\n",
       "      <td>A1F1111TTHH</td>\n",
       "      <td>B0TT876T</td>\n",
       "      <td>5</td>\n",
       "      <td>This book is unique</td>\n",
       "      <td>2</td>\n",
       "      <td>3</td>\n",
       "    </tr>\n",
       "    <tr>\n",
       "      <th>2</th>\n",
       "      <td>A1F67474BBB</td>\n",
       "      <td>B084152</td>\n",
       "      <td>3</td>\n",
       "      <td>This book is unique</td>\n",
       "      <td>2</td>\n",
       "      <td>3</td>\n",
       "    </tr>\n",
       "    <tr>\n",
       "      <th>3</th>\n",
       "      <td>A1FTT64TTPPP</td>\n",
       "      <td>B08TGR2</td>\n",
       "      <td>4</td>\n",
       "      <td>This book is out of the box</td>\n",
       "      <td>2</td>\n",
       "      <td>1</td>\n",
       "    </tr>\n",
       "  </tbody>\n",
       "</table>\n",
       "</div>"
      ],
      "text/plain": [
       "       reviewer      ebook  rating                         text  num_helpful  \\\n",
       "0    A1F6404F1V  B00F83SZQ       5              i enjoyed a lot            0   \n",
       "1   A1F1111TTHH   B0TT876T       5          This book is unique            2   \n",
       "2   A1F67474BBB    B084152       3          This book is unique            2   \n",
       "3  A1FTT64TTPPP    B08TGR2       4  This book is out of the box            2   \n",
       "\n",
       "   num_evals  \n",
       "0          0  \n",
       "1          3  \n",
       "2          3  \n",
       "3          1  "
      ]
     },
     "execution_count": 185,
     "metadata": {},
     "output_type": "execute_result"
    }
   ],
   "source": [
    "reviews_df"
   ]
  },
  {
   "cell_type": "code",
   "execution_count": 186,
   "metadata": {},
   "outputs": [
    {
     "data": {
      "text/html": [
       "<div>\n",
       "<style scoped>\n",
       "    .dataframe tbody tr th:only-of-type {\n",
       "        vertical-align: middle;\n",
       "    }\n",
       "\n",
       "    .dataframe tbody tr th {\n",
       "        vertical-align: top;\n",
       "    }\n",
       "\n",
       "    .dataframe thead th {\n",
       "        text-align: right;\n",
       "    }\n",
       "</style>\n",
       "<table border=\"1\" class=\"dataframe\">\n",
       "  <thead>\n",
       "    <tr style=\"text-align: right;\">\n",
       "      <th></th>\n",
       "      <th>ebook</th>\n",
       "      <th>genre</th>\n",
       "    </tr>\n",
       "  </thead>\n",
       "  <tbody>\n",
       "    <tr>\n",
       "      <th>0</th>\n",
       "      <td>B00F83SZQ</td>\n",
       "      <td>Business &amp; Money</td>\n",
       "    </tr>\n",
       "    <tr>\n",
       "      <th>1</th>\n",
       "      <td>B0TT876T</td>\n",
       "      <td>engineering &amp; transportation</td>\n",
       "    </tr>\n",
       "    <tr>\n",
       "      <th>2</th>\n",
       "      <td>B084152</td>\n",
       "      <td>science fiction</td>\n",
       "    </tr>\n",
       "    <tr>\n",
       "      <th>3</th>\n",
       "      <td>B08HTGT</td>\n",
       "      <td>Business &amp; Money</td>\n",
       "    </tr>\n",
       "  </tbody>\n",
       "</table>\n",
       "</div>"
      ],
      "text/plain": [
       "       ebook                         genre\n",
       "0  B00F83SZQ              Business & Money\n",
       "1   B0TT876T  engineering & transportation\n",
       "2    B084152               science fiction\n",
       "3    B08HTGT              Business & Money"
      ]
     },
     "execution_count": 186,
     "metadata": {},
     "output_type": "execute_result"
    }
   ],
   "source": [
    "metadata_df"
   ]
  },
  {
   "cell_type": "code",
   "execution_count": 187,
   "metadata": {},
   "outputs": [],
   "source": [
    "def combine_dfs(reviews_df,metadata_df):\n",
    "    # import library\n",
    "    import pandas as pd\n",
    "    \n",
    "    # merge reviews_df and metadata_df dataframe based on ebook column\n",
    "    # it will create a new dataframe containg ebooks available in both\n",
    "    merged_df = pd.merge(reviews_df,metadata_df, how='inner', on=['ebook'])\n",
    "    # return merged dataframe\n",
    "    return merged_df"
   ]
  },
  {
   "cell_type": "code",
   "execution_count": 188,
   "metadata": {},
   "outputs": [
    {
     "data": {
      "text/html": [
       "<div>\n",
       "<style scoped>\n",
       "    .dataframe tbody tr th:only-of-type {\n",
       "        vertical-align: middle;\n",
       "    }\n",
       "\n",
       "    .dataframe tbody tr th {\n",
       "        vertical-align: top;\n",
       "    }\n",
       "\n",
       "    .dataframe thead th {\n",
       "        text-align: right;\n",
       "    }\n",
       "</style>\n",
       "<table border=\"1\" class=\"dataframe\">\n",
       "  <thead>\n",
       "    <tr style=\"text-align: right;\">\n",
       "      <th></th>\n",
       "      <th>reviewer</th>\n",
       "      <th>ebook</th>\n",
       "      <th>rating</th>\n",
       "      <th>text</th>\n",
       "      <th>num_helpful</th>\n",
       "      <th>num_evals</th>\n",
       "      <th>genre</th>\n",
       "    </tr>\n",
       "  </thead>\n",
       "  <tbody>\n",
       "    <tr>\n",
       "      <th>0</th>\n",
       "      <td>A1F6404F1V</td>\n",
       "      <td>B00F83SZQ</td>\n",
       "      <td>5</td>\n",
       "      <td>i enjoyed a lot</td>\n",
       "      <td>0</td>\n",
       "      <td>0</td>\n",
       "      <td>Business &amp; Money</td>\n",
       "    </tr>\n",
       "    <tr>\n",
       "      <th>1</th>\n",
       "      <td>A1F1111TTHH</td>\n",
       "      <td>B0TT876T</td>\n",
       "      <td>5</td>\n",
       "      <td>This book is unique</td>\n",
       "      <td>2</td>\n",
       "      <td>3</td>\n",
       "      <td>engineering &amp; transportation</td>\n",
       "    </tr>\n",
       "    <tr>\n",
       "      <th>2</th>\n",
       "      <td>A1F67474BBB</td>\n",
       "      <td>B084152</td>\n",
       "      <td>3</td>\n",
       "      <td>This book is unique</td>\n",
       "      <td>2</td>\n",
       "      <td>3</td>\n",
       "      <td>science fiction</td>\n",
       "    </tr>\n",
       "  </tbody>\n",
       "</table>\n",
       "</div>"
      ],
      "text/plain": [
       "      reviewer      ebook  rating                 text  num_helpful  \\\n",
       "0   A1F6404F1V  B00F83SZQ       5      i enjoyed a lot            0   \n",
       "1  A1F1111TTHH   B0TT876T       5  This book is unique            2   \n",
       "2  A1F67474BBB    B084152       3  This book is unique            2   \n",
       "\n",
       "   num_evals                         genre  \n",
       "0          0              Business & Money  \n",
       "1          3  engineering & transportation  \n",
       "2          3               science fiction  "
      ]
     },
     "execution_count": 188,
     "metadata": {},
     "output_type": "execute_result"
    }
   ],
   "source": [
    "combine_dfs(reviews_df,metadata_df)"
   ]
  },
  {
   "cell_type": "code",
   "execution_count": null,
   "metadata": {},
   "outputs": [],
   "source": []
  }
 ],
 "metadata": {
  "kernelspec": {
   "display_name": "Python 3",
   "language": "python",
   "name": "python3"
  },
  "language_info": {
   "codemirror_mode": {
    "name": "ipython",
    "version": 3
   },
   "file_extension": ".py",
   "mimetype": "text/x-python",
   "name": "python",
   "nbconvert_exporter": "python",
   "pygments_lexer": "ipython3",
   "version": "3.8.5"
  }
 },
 "nbformat": 4,
 "nbformat_minor": 4
}
