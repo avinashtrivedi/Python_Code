{
 "cells": [
  {
   "cell_type": "code",
   "execution_count": 6,
   "metadata": {},
   "outputs": [
    {
     "ename": "TypeError",
     "evalue": "randint() takes 3 positional arguments but 4 were given",
     "output_type": "error",
     "traceback": [
      "\u001b[1;31m---------------------------------------------------------------------------\u001b[0m",
      "\u001b[1;31mTypeError\u001b[0m                                 Traceback (most recent call last)",
      "\u001b[1;32m<ipython-input-6-68f6be4ad269>\u001b[0m in \u001b[0;36m<module>\u001b[1;34m\u001b[0m\n\u001b[1;32m----> 1\u001b[1;33m \u001b[0mX\u001b[0m \u001b[1;33m=\u001b[0m \u001b[0mnpr\u001b[0m\u001b[1;33m.\u001b[0m\u001b[0mrandint\u001b[0m\u001b[1;33m(\u001b[0m\u001b[1;36m0\u001b[0m\u001b[1;33m,\u001b[0m\u001b[1;36m2\u001b[0m\u001b[1;33m,\u001b[0m\u001b[1;33m[\u001b[0m\u001b[1;36m50\u001b[0m\u001b[1;33m,\u001b[0m\u001b[1;36m60\u001b[0m\u001b[1;33m]\u001b[0m\u001b[1;33m)\u001b[0m\u001b[1;33m\u001b[0m\u001b[1;33m\u001b[0m\u001b[0m\n\u001b[0m\u001b[0;32m      2\u001b[0m \u001b[0mb1\u001b[0m \u001b[1;33m=\u001b[0m \u001b[0mX\u001b[0m \u001b[1;33m@\u001b[0m \u001b[0mnpr\u001b[0m\u001b[1;33m.\u001b[0m\u001b[0mrandint\u001b[0m\u001b[1;33m(\u001b[0m\u001b[1;36m0\u001b[0m\u001b[1;33m,\u001b[0m\u001b[1;36m2\u001b[0m\u001b[1;33m,\u001b[0m\u001b[1;33m[\u001b[0m\u001b[1;36m60\u001b[0m\u001b[1;33m,\u001b[0m\u001b[1;36m1\u001b[0m\u001b[1;33m]\u001b[0m\u001b[1;33m)\u001b[0m\u001b[1;33m\u001b[0m\u001b[1;33m\u001b[0m\u001b[0m\n\u001b[0;32m      3\u001b[0m \u001b[0mb2\u001b[0m \u001b[1;33m=\u001b[0m \u001b[0mnpr\u001b[0m\u001b[1;33m.\u001b[0m\u001b[0mrandint\u001b[0m\u001b[1;33m(\u001b[0m\u001b[1;36m0\u001b[0m\u001b[1;33m,\u001b[0m\u001b[1;36m2\u001b[0m\u001b[1;33m,\u001b[0m\u001b[1;33m[\u001b[0m\u001b[1;36m50\u001b[0m\u001b[1;33m,\u001b[0m\u001b[1;36m1\u001b[0m\u001b[1;33m]\u001b[0m\u001b[1;33m)\u001b[0m\u001b[1;33m\u001b[0m\u001b[1;33m\u001b[0m\u001b[0m\n",
      "\u001b[1;31mTypeError\u001b[0m: randint() takes 3 positional arguments but 4 were given"
     ]
    }
   ],
   "source": [
    "X = npr.randint(0,2,[50,60])\n",
    "b1 = X @ npr.randint(0,2,[60,1])\n",
    "b2 = npr.randint(0,2,[50,1])"
   ]
  },
  {
   "cell_type": "code",
   "execution_count": 8,
   "metadata": {},
   "outputs": [],
   "source": [
    "import numpy as np"
   ]
  },
  {
   "cell_type": "code",
   "execution_count": 7,
   "metadata": {},
   "outputs": [],
   "source": [
    "import random"
   ]
  },
  {
   "cell_type": "code",
   "execution_count": 12,
   "metadata": {},
   "outputs": [
    {
     "data": {
      "text/plain": [
       "1"
      ]
     },
     "execution_count": 12,
     "metadata": {},
     "output_type": "execute_result"
    }
   ],
   "source": [
    "random.randint(0,2)"
   ]
  },
  {
   "cell_type": "code",
   "execution_count": 49,
   "metadata": {},
   "outputs": [],
   "source": [
    "# defining a dictionary with breed name as key and total dog as value \n",
    "\n",
    "dict_breed_total_dog={'Labrador Retrievers':35,\n",
    "                     'Bulldogs':100,\n",
    "                     'Dachshunds':45,\n",
    "                     'Doberman Pinschers':202,\n",
    "                     'Havanese':210,\n",
    "                     'Border Collies':130,\n",
    "                     'Akitas':49,\n",
    "                      'Scottish Terriers':124,\n",
    "                     'Italian Greyhounds':140,\n",
    "                      'Lhasa Apsos':47,\n",
    "                      'Silky Terriers':104,\n",
    "                      'Pointers':116,\n",
    "                      'Bearded Collies':124,\n",
    "                      'Lakeland Terriers':136,\n",
    "                      'Salukis':149,\n",
    "                      'Scottish Deerhounds':166             \n",
    "                     }\n",
    "\n",
    "# defining a dictionary with breed name as key and total spayed/neutered dog as value \n",
    "\n",
    "dict_breed_total_spayed = {'Labrador Retrievers':32,\n",
    "                     'Bulldogs':68,\n",
    "                     'Dachshunds':35,\n",
    "                     'Doberman Pinschers':190,\n",
    "                     'Havanese':180,\n",
    "                     'Border Collies':128,\n",
    "                     'Akitas':40,\n",
    "                      'Scottish Terriers':119,\n",
    "                     'Italian Greyhounds':120,\n",
    "                      'Lhasa Apsos':34,\n",
    "                      'Silky Terriers':87,\n",
    "                      'Pointers':103,\n",
    "                      'Bearded Collies':109,\n",
    "                      'Lakeland Terriers':120,\n",
    "                      'Salukis':126,\n",
    "                      'Scottish Deerhounds':136}\n",
    "\n",
    "def spayedDogs():\n",
    "    list_top_10 = [] # To store top 10 breed with highest Percentage\n",
    "    \n",
    "    #\n",
    "    for i in dict_breed_total_dog:\n",
    "        \n",
    "        # calculate percentage\n",
    "        spayed_percentage = (dict_breed_total_spayed[i]*100)/dict_breed_total_dog[i]\n",
    "        \n",
    "        # store tuple (breed name ,Percentage) in list list_top_10\n",
    "        list_top_10.append((i, spayed_percentage ))\n",
    "        \n",
    "    # Now sort the list list_top_10 on the basis of second item of tuple (breed name ,Percentage) i.e Percentage\n",
    "    # reverse=True will sort in descending order\n",
    "    sorted_by_percent = sorted(list_top_10, key=lambda item: item[1],reverse=True)\n",
    "    \n",
    "    # slicing first 10 element from list sorted_by_percent and store it back to list list_top_10\n",
    "    list_top_10 = sorted_by_percent[:10]\n",
    "    \n",
    "    # Print every element of a list\n",
    "    for i in list_top_10:\n",
    "        print(i[1],i[0])"
   ]
  },
  {
   "cell_type": "code",
   "execution_count": 50,
   "metadata": {},
   "outputs": [
    {
     "name": "stdout",
     "output_type": "stream",
     "text": [
      "98.46153846153847 Border Collies\n",
      "95.96774193548387 Scottish Terriers\n",
      "94.05940594059406 Doberman Pinschers\n",
      "91.42857142857143 Labrador Retrievers\n",
      "88.79310344827586 Pointers\n",
      "88.23529411764706 Lakeland Terriers\n",
      "87.90322580645162 Bearded Collies\n",
      "85.71428571428571 Havanese\n",
      "85.71428571428571 Italian Greyhounds\n",
      "84.56375838926175 Salukis\n"
     ]
    }
   ],
   "source": [
    "spayedDogs() # call the function."
   ]
  },
  {
   "cell_type": "code",
   "execution_count": null,
   "metadata": {},
   "outputs": [],
   "source": []
  }
 ],
 "metadata": {
  "kernelspec": {
   "display_name": "Python 3",
   "language": "python",
   "name": "python3"
  },
  "language_info": {
   "codemirror_mode": {
    "name": "ipython",
    "version": 3
   },
   "file_extension": ".py",
   "mimetype": "text/x-python",
   "name": "python",
   "nbconvert_exporter": "python",
   "pygments_lexer": "ipython3",
   "version": "3.8.5"
  }
 },
 "nbformat": 4,
 "nbformat_minor": 4
}
