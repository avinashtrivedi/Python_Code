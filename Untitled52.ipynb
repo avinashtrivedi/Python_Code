{
 "cells": [
  {
   "cell_type": "code",
   "execution_count": 3,
   "metadata": {},
   "outputs": [
    {
     "name": "stdout",
     "output_type": "stream",
     "text": [
      "1 0\n"
     ]
    }
   ],
   "source": [
    "def myfunc(text,x):  # text='Hello' and x=1\n",
    "    num=1\n",
    "    while num>0:      # As num=1,condition is satisfied\n",
    "        num = num-1   # Now num become 0\n",
    "        print(x,num)  # it will print value of x i.e 1 and num i.e 0\n",
    "        \n",
    "x=100   # This is the start point,here x=100\n",
    "if (x>2):   # This condition is satisfied,hence x = x*1 = 100*1 = 100\n",
    "    x=x*1;  # Latest value of x=100\n",
    "if (x>4):   # again condition is satisfied\n",
    "    x=0;    # and x become 0, x=0\n",
    "    \n",
    "if (x>2):   # condition not satisfied,hence will not execute\n",
    "    x=x*1;\n",
    "if (x>4):   # condition not satisfied,hence will not execute\n",
    "    x=0; \n",
    "if (x>2):   # condition not satisfied,hence will not execute\n",
    "    x=x*1;\n",
    "if (x>4):   # condition not satisfied,hence will not execute\n",
    "    x=10;\n",
    "myfunc('Hello',x+1)  # now myfunc() is called with 'Hello',x+1  i.e. 'Hello',1  (as latest value of x was 0)"
   ]
  },
  {
   "cell_type": "code",
   "execution_count": null,
   "metadata": {},
   "outputs": [],
   "source": []
  }
 ],
 "metadata": {
  "kernelspec": {
   "display_name": "Python 3",
   "language": "python",
   "name": "python3"
  },
  "language_info": {
   "codemirror_mode": {
    "name": "ipython",
    "version": 3
   },
   "file_extension": ".py",
   "mimetype": "text/x-python",
   "name": "python",
   "nbconvert_exporter": "python",
   "pygments_lexer": "ipython3",
   "version": "3.8.5"
  }
 },
 "nbformat": 4,
 "nbformat_minor": 4
}
