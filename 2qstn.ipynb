{
 "cells": [
  {
   "cell_type": "markdown",
   "metadata": {},
   "source": [
    "# Q.1"
   ]
  },
  {
   "cell_type": "code",
   "execution_count": 1,
   "metadata": {},
   "outputs": [
    {
     "name": "stdout",
     "output_type": "stream",
     "text": [
      "total wholesale cost Rs. 9630.0\n"
     ]
    }
   ],
   "source": [
    "# number of copies\n",
    "N = 60\n",
    "\n",
    "# original book price \n",
    "# discount received\n",
    "BookPrice = 200\n",
    "DiscountRate = 25\n",
    "\n",
    "# cost of each book\n",
    "PerBookCost = BookPrice - BookPrice*DiscountRate/100\n",
    "\n",
    "ShippingCostFirstCopy = 40\n",
    "ShippingCostAdditionalCopy = 10\n",
    "\n",
    "# compute the total wholesale cost\n",
    "TotalWholeSaleCost = N*PerBookCost + ShippingCostFirstCopy + (N-1)*ShippingCostAdditionalCopy\n",
    "\n",
    "print('total wholesale cost Rs.',TotalWholeSaleCost)"
   ]
  },
  {
   "cell_type": "markdown",
   "metadata": {},
   "source": [
    "# Q.2"
   ]
  },
  {
   "cell_type": "code",
   "execution_count": 2,
   "metadata": {},
   "outputs": [],
   "source": [
    "import math\n",
    "def XpowY(x,y):\n",
    "    \n",
    "    # try-except block to handle the exception\n",
    "    try:\n",
    "        \n",
    "        # check if x is divisible by y\n",
    "        if x%y==0:\n",
    "            \n",
    "            # check if x/y is power of y\n",
    "            d = x/y\n",
    "            x = math.log(abs(d)) / math.log(abs(y))\n",
    "            \n",
    "            if x==int(x):\n",
    "                return True\n",
    "            else:\n",
    "                return False\n",
    "        else:\n",
    "            return False\n",
    "    except:\n",
    "        return False"
   ]
  },
  {
   "cell_type": "code",
   "execution_count": 3,
   "metadata": {},
   "outputs": [
    {
     "data": {
      "text/plain": [
       "True"
      ]
     },
     "execution_count": 3,
     "metadata": {},
     "output_type": "execute_result"
    }
   ],
   "source": [
    "XpowY(81,3)"
   ]
  },
  {
   "cell_type": "code",
   "execution_count": 4,
   "metadata": {},
   "outputs": [
    {
     "data": {
      "text/plain": [
       "True"
      ]
     },
     "execution_count": 4,
     "metadata": {},
     "output_type": "execute_result"
    }
   ],
   "source": [
    "XpowY(128,2)"
   ]
  },
  {
   "cell_type": "code",
   "execution_count": 5,
   "metadata": {},
   "outputs": [
    {
     "data": {
      "text/plain": [
       "False"
      ]
     },
     "execution_count": 5,
     "metadata": {},
     "output_type": "execute_result"
    }
   ],
   "source": [
    "XpowY(128,4)"
   ]
  },
  {
   "cell_type": "code",
   "execution_count": null,
   "metadata": {},
   "outputs": [],
   "source": []
  }
 ],
 "metadata": {
  "kernelspec": {
   "display_name": "Python 3",
   "language": "python",
   "name": "python3"
  },
  "language_info": {
   "codemirror_mode": {
    "name": "ipython",
    "version": 3
   },
   "file_extension": ".py",
   "mimetype": "text/x-python",
   "name": "python",
   "nbconvert_exporter": "python",
   "pygments_lexer": "ipython3",
   "version": "3.8.5"
  }
 },
 "nbformat": 4,
 "nbformat_minor": 4
}
