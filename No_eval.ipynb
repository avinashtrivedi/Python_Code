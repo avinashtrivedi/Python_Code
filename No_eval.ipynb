{
 "cells": [
  {
   "cell_type": "code",
   "execution_count": 1,
   "metadata": {},
   "outputs": [],
   "source": [
    "def check_math(list_of_equations):\n",
    "    status = []\n",
    "    \n",
    "    # loop through each equation\n",
    "    for eq in list_of_equations:\n",
    "        \n",
    "        # consider equation of the form x+y=z , where \n",
    "        # inplace of + ,it can be -,*,// or %\n",
    "        \n",
    "        # compute z\n",
    "        eq = eq.split('=')\n",
    "        z = eq[1]\n",
    "        \n",
    "        # check presence of operator and get x and y\n",
    "        if '+' in eq[0]:\n",
    "            x,y = eq[0].split('+')\n",
    "            \n",
    "            # store True or False depending upon correctness of equation \n",
    "            status.append(int(x) + int(y) == int(z))\n",
    "            \n",
    "        elif '-' in eq[0]:\n",
    "            x,y = eq[0].split('-')\n",
    "            status.append(int(x) - int(y) == int(z))\n",
    "            \n",
    "        elif '*' in eq[0]:\n",
    "            x,y = eq[0].split('*')\n",
    "            status.append(int(x) * int(y) == int(z))\n",
    "            \n",
    "        elif '//' in eq[0]:\n",
    "            x,y = eq[0].split('//')\n",
    "            status.append(int(x) // int(y) == int(z))\n",
    "            \n",
    "        elif '%' in eq[0]:\n",
    "            x,y = eq[0].split('%')\n",
    "            status.append(int(x) % int(y) == int(z))\n",
    "                       \n",
    "    # finally is False is present in status list\n",
    "    # then return False else True\n",
    "    \n",
    "    if False in status:\n",
    "        return False\n",
    "    else:\n",
    "        return True\n",
    "                               "
   ]
  },
  {
   "cell_type": "code",
   "execution_count": 2,
   "metadata": {},
   "outputs": [
    {
     "data": {
      "text/plain": [
       "False"
      ]
     },
     "execution_count": 2,
     "metadata": {},
     "output_type": "execute_result"
    }
   ],
   "source": [
    "check_math([\" 3 +5 =9\", \"4 * 3 = 12 \"])"
   ]
  },
  {
   "cell_type": "code",
   "execution_count": 3,
   "metadata": {},
   "outputs": [
    {
     "data": {
      "text/plain": [
       "True"
      ]
     },
     "execution_count": 3,
     "metadata": {},
     "output_type": "execute_result"
    }
   ],
   "source": [
    "check_math([\"13 % 5 = 3\", \"4 // 3 = 1\", \"90 - 50 = 40\"])"
   ]
  },
  {
   "cell_type": "code",
   "execution_count": 4,
   "metadata": {},
   "outputs": [
    {
     "data": {
      "text/plain": [
       "True"
      ]
     },
     "execution_count": 4,
     "metadata": {},
     "output_type": "execute_result"
    }
   ],
   "source": [
    "check_math([])"
   ]
  }
 ],
 "metadata": {
  "kernelspec": {
   "display_name": "Python 3",
   "language": "python",
   "name": "python3"
  },
  "language_info": {
   "codemirror_mode": {
    "name": "ipython",
    "version": 3
   },
   "file_extension": ".py",
   "mimetype": "text/x-python",
   "name": "python",
   "nbconvert_exporter": "python",
   "pygments_lexer": "ipython3",
   "version": "3.8.5"
  }
 },
 "nbformat": 4,
 "nbformat_minor": 4
}
