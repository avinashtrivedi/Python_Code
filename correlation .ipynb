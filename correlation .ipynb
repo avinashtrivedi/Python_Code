{
 "cells": [
  {
   "cell_type": "code",
   "execution_count": 1,
   "metadata": {},
   "outputs": [],
   "source": [
    "# import the library\n",
    "import pandas as pd\n",
    "import numpy as np"
   ]
  },
  {
   "cell_type": "code",
   "execution_count": 2,
   "metadata": {},
   "outputs": [],
   "source": [
    "# read the dataset\n",
    "df = pd.read_csv('Covid-19-World-Dataset.csv')"
   ]
  },
  {
   "cell_type": "markdown",
   "metadata": {},
   "source": [
    "# Data Cleaning"
   ]
  },
  {
   "cell_type": "code",
   "execution_count": 3,
   "metadata": {},
   "outputs": [],
   "source": [
    "# get only the required column\n",
    "df = df[['continent', 'location', 'date', 'total_cases', 'new_cases',\n",
    "        'total_deaths', 'new_deaths', 'new_tests', 'total_tests' , 'new_vaccinations',\n",
    "         'total_vaccinations','population','population_density']]"
   ]
  },
  {
   "cell_type": "code",
   "execution_count": 4,
   "metadata": {},
   "outputs": [],
   "source": [
    "# drop rows containing NaN values \n",
    "df.dropna(inplace=True)"
   ]
  },
  {
   "cell_type": "code",
   "execution_count": 5,
   "metadata": {},
   "outputs": [
    {
     "data": {
      "text/html": [
       "<div>\n",
       "<style scoped>\n",
       "    .dataframe tbody tr th:only-of-type {\n",
       "        vertical-align: middle;\n",
       "    }\n",
       "\n",
       "    .dataframe tbody tr th {\n",
       "        vertical-align: top;\n",
       "    }\n",
       "\n",
       "    .dataframe thead th {\n",
       "        text-align: right;\n",
       "    }\n",
       "</style>\n",
       "<table border=\"1\" class=\"dataframe\">\n",
       "  <thead>\n",
       "    <tr style=\"text-align: right;\">\n",
       "      <th></th>\n",
       "      <th>continent</th>\n",
       "      <th>location</th>\n",
       "      <th>date</th>\n",
       "      <th>total_cases</th>\n",
       "      <th>new_cases</th>\n",
       "      <th>total_deaths</th>\n",
       "      <th>new_deaths</th>\n",
       "      <th>new_tests</th>\n",
       "      <th>total_tests</th>\n",
       "      <th>new_vaccinations</th>\n",
       "      <th>total_vaccinations</th>\n",
       "      <th>population</th>\n",
       "      <th>population_density</th>\n",
       "    </tr>\n",
       "  </thead>\n",
       "  <tbody>\n",
       "    <tr>\n",
       "      <th>1318</th>\n",
       "      <td>Europe</td>\n",
       "      <td>Albania</td>\n",
       "      <td>1/13/2021</td>\n",
       "      <td>65334.0</td>\n",
       "      <td>707.0</td>\n",
       "      <td>1256.0</td>\n",
       "      <td>4.0</td>\n",
       "      <td>3307.0</td>\n",
       "      <td>285029.0</td>\n",
       "      <td>60.0</td>\n",
       "      <td>188.0</td>\n",
       "      <td>2877800.0</td>\n",
       "      <td>104.871</td>\n",
       "    </tr>\n",
       "    <tr>\n",
       "      <th>1319</th>\n",
       "      <td>Europe</td>\n",
       "      <td>Albania</td>\n",
       "      <td>1/14/2021</td>\n",
       "      <td>65994.0</td>\n",
       "      <td>660.0</td>\n",
       "      <td>1261.0</td>\n",
       "      <td>5.0</td>\n",
       "      <td>3695.0</td>\n",
       "      <td>288724.0</td>\n",
       "      <td>78.0</td>\n",
       "      <td>266.0</td>\n",
       "      <td>2877800.0</td>\n",
       "      <td>104.871</td>\n",
       "    </tr>\n",
       "    <tr>\n",
       "      <th>1320</th>\n",
       "      <td>Europe</td>\n",
       "      <td>Albania</td>\n",
       "      <td>1/15/2021</td>\n",
       "      <td>66635.0</td>\n",
       "      <td>641.0</td>\n",
       "      <td>1265.0</td>\n",
       "      <td>4.0</td>\n",
       "      <td>3530.0</td>\n",
       "      <td>292254.0</td>\n",
       "      <td>42.0</td>\n",
       "      <td>308.0</td>\n",
       "      <td>2877800.0</td>\n",
       "      <td>104.871</td>\n",
       "    </tr>\n",
       "    <tr>\n",
       "      <th>1321</th>\n",
       "      <td>Europe</td>\n",
       "      <td>Albania</td>\n",
       "      <td>1/16/2021</td>\n",
       "      <td>67216.0</td>\n",
       "      <td>581.0</td>\n",
       "      <td>1270.0</td>\n",
       "      <td>5.0</td>\n",
       "      <td>3029.0</td>\n",
       "      <td>295283.0</td>\n",
       "      <td>61.0</td>\n",
       "      <td>369.0</td>\n",
       "      <td>2877800.0</td>\n",
       "      <td>104.871</td>\n",
       "    </tr>\n",
       "    <tr>\n",
       "      <th>1322</th>\n",
       "      <td>Europe</td>\n",
       "      <td>Albania</td>\n",
       "      <td>1/17/2021</td>\n",
       "      <td>67690.0</td>\n",
       "      <td>474.0</td>\n",
       "      <td>1277.0</td>\n",
       "      <td>7.0</td>\n",
       "      <td>2521.0</td>\n",
       "      <td>297804.0</td>\n",
       "      <td>36.0</td>\n",
       "      <td>405.0</td>\n",
       "      <td>2877800.0</td>\n",
       "      <td>104.871</td>\n",
       "    </tr>\n",
       "    <tr>\n",
       "      <th>...</th>\n",
       "      <td>...</td>\n",
       "      <td>...</td>\n",
       "      <td>...</td>\n",
       "      <td>...</td>\n",
       "      <td>...</td>\n",
       "      <td>...</td>\n",
       "      <td>...</td>\n",
       "      <td>...</td>\n",
       "      <td>...</td>\n",
       "      <td>...</td>\n",
       "      <td>...</td>\n",
       "      <td>...</td>\n",
       "      <td>...</td>\n",
       "    </tr>\n",
       "    <tr>\n",
       "      <th>99134</th>\n",
       "      <td>Africa</td>\n",
       "      <td>Zimbabwe</td>\n",
       "      <td>6/20/2021</td>\n",
       "      <td>41779.0</td>\n",
       "      <td>151.0</td>\n",
       "      <td>1672.0</td>\n",
       "      <td>6.0</td>\n",
       "      <td>1200.0</td>\n",
       "      <td>599049.0</td>\n",
       "      <td>4813.0</td>\n",
       "      <td>1138733.0</td>\n",
       "      <td>14862927.0</td>\n",
       "      <td>42.729</td>\n",
       "    </tr>\n",
       "    <tr>\n",
       "      <th>99135</th>\n",
       "      <td>Africa</td>\n",
       "      <td>Zimbabwe</td>\n",
       "      <td>6/21/2021</td>\n",
       "      <td>42195.0</td>\n",
       "      <td>416.0</td>\n",
       "      <td>1685.0</td>\n",
       "      <td>13.0</td>\n",
       "      <td>3120.0</td>\n",
       "      <td>602169.0</td>\n",
       "      <td>2119.0</td>\n",
       "      <td>1140852.0</td>\n",
       "      <td>14862927.0</td>\n",
       "      <td>42.729</td>\n",
       "    </tr>\n",
       "    <tr>\n",
       "      <th>99136</th>\n",
       "      <td>Africa</td>\n",
       "      <td>Zimbabwe</td>\n",
       "      <td>6/22/2021</td>\n",
       "      <td>42714.0</td>\n",
       "      <td>519.0</td>\n",
       "      <td>1691.0</td>\n",
       "      <td>6.0</td>\n",
       "      <td>6523.0</td>\n",
       "      <td>608692.0</td>\n",
       "      <td>5526.0</td>\n",
       "      <td>1146378.0</td>\n",
       "      <td>14862927.0</td>\n",
       "      <td>42.729</td>\n",
       "    </tr>\n",
       "    <tr>\n",
       "      <th>99137</th>\n",
       "      <td>Africa</td>\n",
       "      <td>Zimbabwe</td>\n",
       "      <td>6/23/2021</td>\n",
       "      <td>43480.0</td>\n",
       "      <td>766.0</td>\n",
       "      <td>1692.0</td>\n",
       "      <td>1.0</td>\n",
       "      <td>5716.0</td>\n",
       "      <td>614408.0</td>\n",
       "      <td>20471.0</td>\n",
       "      <td>1166849.0</td>\n",
       "      <td>14862927.0</td>\n",
       "      <td>42.729</td>\n",
       "    </tr>\n",
       "    <tr>\n",
       "      <th>99138</th>\n",
       "      <td>Africa</td>\n",
       "      <td>Zimbabwe</td>\n",
       "      <td>6/24/2021</td>\n",
       "      <td>44306.0</td>\n",
       "      <td>826.0</td>\n",
       "      <td>1709.0</td>\n",
       "      <td>17.0</td>\n",
       "      <td>4888.0</td>\n",
       "      <td>619296.0</td>\n",
       "      <td>26466.0</td>\n",
       "      <td>1193315.0</td>\n",
       "      <td>14862927.0</td>\n",
       "      <td>42.729</td>\n",
       "    </tr>\n",
       "  </tbody>\n",
       "</table>\n",
       "<p>8657 rows × 13 columns</p>\n",
       "</div>"
      ],
      "text/plain": [
       "      continent  location       date  total_cases  new_cases  total_deaths  \\\n",
       "1318     Europe   Albania  1/13/2021      65334.0      707.0        1256.0   \n",
       "1319     Europe   Albania  1/14/2021      65994.0      660.0        1261.0   \n",
       "1320     Europe   Albania  1/15/2021      66635.0      641.0        1265.0   \n",
       "1321     Europe   Albania  1/16/2021      67216.0      581.0        1270.0   \n",
       "1322     Europe   Albania  1/17/2021      67690.0      474.0        1277.0   \n",
       "...         ...       ...        ...          ...        ...           ...   \n",
       "99134    Africa  Zimbabwe  6/20/2021      41779.0      151.0        1672.0   \n",
       "99135    Africa  Zimbabwe  6/21/2021      42195.0      416.0        1685.0   \n",
       "99136    Africa  Zimbabwe  6/22/2021      42714.0      519.0        1691.0   \n",
       "99137    Africa  Zimbabwe  6/23/2021      43480.0      766.0        1692.0   \n",
       "99138    Africa  Zimbabwe  6/24/2021      44306.0      826.0        1709.0   \n",
       "\n",
       "       new_deaths  new_tests  total_tests  new_vaccinations  \\\n",
       "1318          4.0     3307.0     285029.0              60.0   \n",
       "1319          5.0     3695.0     288724.0              78.0   \n",
       "1320          4.0     3530.0     292254.0              42.0   \n",
       "1321          5.0     3029.0     295283.0              61.0   \n",
       "1322          7.0     2521.0     297804.0              36.0   \n",
       "...           ...        ...          ...               ...   \n",
       "99134         6.0     1200.0     599049.0            4813.0   \n",
       "99135        13.0     3120.0     602169.0            2119.0   \n",
       "99136         6.0     6523.0     608692.0            5526.0   \n",
       "99137         1.0     5716.0     614408.0           20471.0   \n",
       "99138        17.0     4888.0     619296.0           26466.0   \n",
       "\n",
       "       total_vaccinations  population  population_density  \n",
       "1318                188.0   2877800.0             104.871  \n",
       "1319                266.0   2877800.0             104.871  \n",
       "1320                308.0   2877800.0             104.871  \n",
       "1321                369.0   2877800.0             104.871  \n",
       "1322                405.0   2877800.0             104.871  \n",
       "...                   ...         ...                 ...  \n",
       "99134           1138733.0  14862927.0              42.729  \n",
       "99135           1140852.0  14862927.0              42.729  \n",
       "99136           1146378.0  14862927.0              42.729  \n",
       "99137           1166849.0  14862927.0              42.729  \n",
       "99138           1193315.0  14862927.0              42.729  \n",
       "\n",
       "[8657 rows x 13 columns]"
      ]
     },
     "execution_count": 5,
     "metadata": {},
     "output_type": "execute_result"
    }
   ],
   "source": [
    "df # display the dataframe"
   ]
  },
  {
   "cell_type": "markdown",
   "metadata": {},
   "source": [
    "# Correlation between total vaccination and total death"
   ]
  },
  {
   "cell_type": "code",
   "execution_count": 6,
   "metadata": {},
   "outputs": [],
   "source": [
    "# compute the correlation between total vaccination and total death\n",
    "r = np.corrcoef(df['total_vaccinations'] , df['total_deaths'])"
   ]
  },
  {
   "cell_type": "code",
   "execution_count": 7,
   "metadata": {},
   "outputs": [
    {
     "data": {
      "text/plain": [
       "array([[1.        , 0.80568282],\n",
       "       [0.80568282, 1.        ]])"
      ]
     },
     "execution_count": 7,
     "metadata": {},
     "output_type": "execute_result"
    }
   ],
   "source": [
    "r # matrix of Pearson correlation coefficients"
   ]
  },
  {
   "cell_type": "code",
   "execution_count": 8,
   "metadata": {},
   "outputs": [
    {
     "data": {
      "text/plain": [
       "0.805682820903022"
      ]
     },
     "execution_count": 8,
     "metadata": {},
     "output_type": "execute_result"
    }
   ],
   "source": [
    "r[0, 1] # correlation coefficients"
   ]
  },
  {
   "cell_type": "code",
   "execution_count": 9,
   "metadata": {},
   "outputs": [
    {
     "name": "stdout",
     "output_type": "stream",
     "text": [
      "0.806\n"
     ]
    }
   ],
   "source": [
    "print(round(r[0, 1],3)) # print correlation coefficient upto 3 decimal places"
   ]
  },
  {
   "cell_type": "code",
   "execution_count": null,
   "metadata": {},
   "outputs": [],
   "source": []
  }
 ],
 "metadata": {
  "kernelspec": {
   "display_name": "Python 3",
   "language": "python",
   "name": "python3"
  },
  "language_info": {
   "codemirror_mode": {
    "name": "ipython",
    "version": 3
   },
   "file_extension": ".py",
   "mimetype": "text/x-python",
   "name": "python",
   "nbconvert_exporter": "python",
   "pygments_lexer": "ipython3",
   "version": "3.8.5"
  }
 },
 "nbformat": 4,
 "nbformat_minor": 4
}
