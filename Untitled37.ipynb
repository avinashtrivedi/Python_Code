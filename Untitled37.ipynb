{
 "cells": [
  {
   "cell_type": "code",
   "execution_count": 1,
   "metadata": {},
   "outputs": [],
   "source": [
    "def caesar_cipher_encrypt(text, key, a):\n",
    "    text = text.upper()\n",
    "\n",
    "    encrypted_Text = \"\"\n",
    "\n",
    "    for i in text:\n",
    "\n",
    "        if i in a:\n",
    "\n",
    "            index = (a.find(i) + key) % len(a)\n",
    "\n",
    "            encrypted_Text = encrypted_Text + a[index]\n",
    "\n",
    "        else:\n",
    "\n",
    "            encrypted_Text = encrypted_Text + i\n",
    "\n",
    "    return encrypted_Text"
   ]
  },
  {
   "cell_type": "code",
   "execution_count": 2,
   "metadata": {},
   "outputs": [],
   "source": [
    "def caesar_cipher_decrypt(text, key, a):\n",
    "    text = text.upper()\n",
    "    decrypted_Text = \"\"\n",
    "    for i in text:\n",
    "        if i in a: \n",
    "            index = (a.find(i) - key) % len(a)\n",
    "            decrypted_Text = decrypted_Text + a[index]\n",
    "\n",
    "        else:\n",
    "\n",
    "            decrypted_Text = decrypted_Text + i\n",
    "\n",
    "    return decrypted_Text"
   ]
  },
  {
   "cell_type": "code",
   "execution_count": 3,
   "metadata": {},
   "outputs": [],
   "source": [
    "def caesar_hack(text, a, check):\n",
    "\n",
    "    for i in range(26):\n",
    "\n",
    "        decrypted_text = caesar_cipher_decrypt(text, i, a)\n",
    "\n",
    "        if decrypted_text.lower() == check.lower():\n",
    "\n",
    "            return i, decrypted_text"
   ]
  },
  {
   "cell_type": "code",
   "execution_count": 10,
   "metadata": {},
   "outputs": [
    {
     "name": "stdout",
     "output_type": "stream",
     "text": [
      "55\n",
      "Brute Force Hack Attempt: \n",
      "Encrypted Message:  WKLV LV D VHFUHW PHVVDJH\n",
      "Successful Attempt found! Key = 3\n",
      "Secret message: THIS IS A SECRET MESSAGE\n"
     ]
    }
   ],
   "source": [
    "if __name__ == \"__main__\":\n",
    "\n",
    "    alphabet = \"ABCDEFGHIJKLMNOPQRSTUVWXYZ\"\n",
    "\n",
    "    text = \"This is a secret message\"\n",
    "\n",
    "    shift = int(input()) #Number between 1 & 25 \n",
    "\n",
    "    encrypted_data = caesar_cipher_encrypt(text, shift, alphabet)\n",
    "\n",
    "    print('Brute Force Hack Attempt: ')\n",
    "\n",
    "    print ('Encrypted Message: ', encrypted_data)\n",
    "\n",
    "  \n",
    "\n",
    " # TODO: Add a call to caesar_hack (encrypted_data, alphabet, text) return it to two variables k (key) & # h (hacked message)\n",
    "\n",
    "    key, message = caesar_hack(encrypted_data, alphabet, text)\n",
    "\n",
    " #key, message = caesar_hack()\n",
    "\n",
    " # TODO: If k == 99 print the returned message\n",
    "\n",
    "    if (key == 99):\n",
    "\n",
    "        print(message)\n",
    "\n",
    "    else:\n",
    "\n",
    "        print('Successful Attempt found! Key = ' + str(key))\n",
    "\n",
    "        # Add a print 'Secret message:' h variable    \n",
    "\n",
    "        print('Secret message: ' + message.upper())"
   ]
  },
  {
   "cell_type": "code",
   "execution_count": null,
   "metadata": {},
   "outputs": [],
   "source": []
  }
 ],
 "metadata": {
  "kernelspec": {
   "display_name": "Python 3",
   "language": "python",
   "name": "python3"
  },
  "language_info": {
   "codemirror_mode": {
    "name": "ipython",
    "version": 3
   },
   "file_extension": ".py",
   "mimetype": "text/x-python",
   "name": "python",
   "nbconvert_exporter": "python",
   "pygments_lexer": "ipython3",
   "version": "3.8.5"
  }
 },
 "nbformat": 4,
 "nbformat_minor": 4
}
