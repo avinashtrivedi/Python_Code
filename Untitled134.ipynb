{
 "cells": [
  {
   "cell_type": "code",
   "execution_count": 1,
   "metadata": {},
   "outputs": [],
   "source": [
    "import wikipedia"
   ]
  },
  {
   "cell_type": "code",
   "execution_count": 2,
   "metadata": {},
   "outputs": [
    {
     "data": {
      "text/plain": [
       "['Data science',\n",
       " 'Master in Data Science',\n",
       " 'Data analysis',\n",
       " 'Open science data',\n",
       " 'Big data',\n",
       " 'Data type',\n",
       " 'Data',\n",
       " 'Committee on Data for Science and Technology',\n",
       " 'Data structure',\n",
       " 'Computer science']"
      ]
     },
     "execution_count": 2,
     "metadata": {},
     "output_type": "execute_result"
    }
   ],
   "source": [
    "wikipedia.search(\"Data science.\")"
   ]
  },
  {
   "cell_type": "code",
   "execution_count": 9,
   "metadata": {},
   "outputs": [],
   "source": [
    "s = wikipedia.page('Data science')"
   ]
  },
  {
   "cell_type": "code",
   "execution_count": 10,
   "metadata": {},
   "outputs": [
    {
     "data": {
      "text/plain": [
       "'35458904'"
      ]
     },
     "execution_count": 10,
     "metadata": {},
     "output_type": "execute_result"
    }
   ],
   "source": [
    "s.pageid"
   ]
  },
  {
   "cell_type": "code",
   "execution_count": 12,
   "metadata": {},
   "outputs": [],
   "source": [
    "k = wikipedia.page(pageid=35458904)"
   ]
  },
  {
   "cell_type": "code",
   "execution_count": 15,
   "metadata": {},
   "outputs": [
    {
     "data": {
      "text/plain": [
       "'Data science is an interdisciplinary field that uses scientific methods, processes, algorithms and systems to extract knowledge and insights from noisy, structured and unstructured data, and apply knowledge and actionable insights from data across a broad range of application domains. Data science is related to data mining, machine learning and big data.\\nData science is a \"concept to unify statistics, data analysis, informatics, and their related methods\" in order to \"understand and analyze actual phenomena\" with data. It uses techniques and theories drawn from many fields within the context of mathematics, statistics, computer science, information science, and domain knowledge. However, data science is different from computer science and information science. Turing Award winner Jim Gray imagined data science as a \"fourth paradigm\" of science (empirical, theoretical, computational, and now data-driven) and asserted that \"everything about science is changing because of the impact of information technology\" and the data deluge.\\n\\n\\n== Foundations ==\\nData science is an interdisciplinary field focused on extracting knowledge from data sets, which are typically large (see big data), and applying the knowledge and actionable insights from data to solve problems in a wide range of application domains. The field encompasses preparing data for analysis, formulating data science problems, analyzing data, developing data-driven solutions, and presenting findings to inform high-level decisions in a broad range of application domains. As such, it incorporates skills from computer science, statistics, information science, mathematics, information visualization, data integration, graphic design, complex systems, communication and business. Statistician Nathan Yau, drawing on Ben Fry, also links data science to human-computer interaction: users should be able to intuitively control and explore data. In 2015, the American Statistical Association identified database management, statistics and machine learning, and distributed and parallel systems as the three emerging foundational professional communities.\\n\\n\\n=== Relationship to statistics ===\\nMany statisticians, including Nate Silver, have argued that data science is not a new field, but rather another name for statistics. Others argue that data science is distinct from statistics because it focuses on problems and techniques unique to digital data. Vasant Dhar writes that statistics emphasizes quantitative data and description. In contrast, data science deals with quantitative and qualitative data (e.g. images) and emphasizes prediction and action. Andrew Gelman of Columbia University has described statistics as a nonessential part of data science.\\nStanford professor David Donoho writes that data science is not distinguished from statistics by the size of datasets or use of computing, and that many graduate programs misleadingly advertise their analytics and statistics training as the essence of a data science program. He describes data science as an applied field growing out of traditional statistics. \\nIn summary, data science can be therefore described as an applied branch of statistics.\\n\\n\\n== Etymology ==\\n\\n\\n=== Early usage ===\\nIn 1962, John Tukey described a field he called \"data analysis\", which resembles modern data science. In 1985, in a lecture given to the Chinese Academy of Sciences in Beijing, C.F. Jeff Wu used the term Data Science for the first time as an alternative name for statistics. Later, attendees at a 1992 statistics symposium at the University of Montpellier II acknowledged the emergence of a new discipline focused on data of various origins and forms, combining established concepts and principles of statistics and data analysis with computing.The term \"data science\" has been traced back to 1974, when Peter Naur proposed it as an alternative name for computer science. In 1996, the International Federation of Classification Societies became the first conference to specifically feature data science as a topic. However, the definition was still in flux. After the 1985 lecture in the Chinese Academy of Sciences in Beijing, in 1997 C.F. Jeff Wu again suggested that statistics should be renamed data science. He reasoned that a new name would help statistics shed inaccurate stereotypes, such as being synonymous with accounting, or limited to describing data. In 1998, Hayashi Chikio argued for data science as a new, interdisciplinary concept, with three aspects: data design, collection, and analysis.During the 1990s, popular terms for the process of finding patterns in datasets (which were increasingly large) included \"knowledge discovery\" and \"data mining\".\\n\\n\\n=== Modern usage ===\\nThe modern conception of data science as an independent discipline is sometimes attributed to William S. Cleveland. In a 2001 paper, he advocated an expansion of statistics beyond theory into technical areas; because this would significantly change the field, it warranted a new name. \"Data science\" became more widely used in the next few years: in 2002, the Committee on Data for Science and Technology launched Data Science Journal. In 2003, Columbia University launched The Journal of Data Science. In 2014, the American Statistical Association\\'s Section on Statistical Learning and Data Mining changed its name to the Section on Statistical Learning and Data Science, reflecting the ascendant popularity of data science.The professional title of \"data scientist\" has been attributed to DJ Patil and Jeff Hammerbacher in 2008. Though it was used by the National Science Board in their 2005 report, \"Long-Lived Digital Data Collections: Enabling Research and Education in the 21st Century,\" it referred broadly to any key role in managing a digital data collection.There is still no consensus on the definition of data science and it is considered by some to be a buzzword.\\n\\n\\n== Impact ==\\nBig data is very quickly becoming a vital tool for businesses and companies of all sizes. The availability and interpretation of big data has altered the business models of old industries and enabled the creation of new ones. Data-driven businesses are worth $1.2 trillion collectively in 2020, an increase from $333 billion in the year 2015. Data scientists are responsible for breaking down big data into usable information and creating software and algorithms that help companies and organizations determine optimal operations. As big data continues to have a major impact on the world, data science does as well due to the close relationship between the two.\\n\\n\\n== Technologies and techniques ==\\nThere is a variety of different technologies and techniques that are used for data science which depend on the application. More recently, full-featured, end-to-end platforms have been developed and heavily used for data science and machine learning.\\n\\n\\n=== Techniques ===\\n\\nLinear regression\\nLogistic regression\\nDecision trees are used as prediction models for classification and data fitting. The decision tree structure can be used to generate rules able to classify or predict target/class/label variable based on the observation attributes.\\nSupport-vector machine (SVM)\\nCluster analysis is a technique used to group data together.\\nDimensionality reduction is used to reduce the complexity of data computation so that it can be performed more quickly.\\nMachine learning is a technique used to perform tasks by inferencing patterns from data\\nNetwork theory\\nNaive Bayes classifiers are used to classify by applying the Bayes\\' theorem. They are mainly used in datasets with large amounts of data, and can aptly generate accurate results.\\n\\n\\n== See also ==\\nInternational Journal of Population Data Science\\n\\n\\n== References =='"
      ]
     },
     "execution_count": 15,
     "metadata": {},
     "output_type": "execute_result"
    }
   ],
   "source": [
    "k.content"
   ]
  },
  {
   "cell_type": "code",
   "execution_count": 23,
   "metadata": {},
   "outputs": [
    {
     "data": {
      "text/plain": [
       "['American Statistical Association',\n",
       " 'Andrew Gelman',\n",
       " 'Anomaly detection',\n",
       " 'Artificial neural network',\n",
       " 'Association rule learning',\n",
       " 'Astronomical survey',\n",
       " 'Autoencoder',\n",
       " 'Automated machine learning',\n",
       " 'BIRCH',\n",
       " 'Basic research',\n",
       " \"Bayes' theorem\",\n",
       " 'Bayesian network',\n",
       " 'Ben Fry',\n",
       " 'Bias–variance tradeoff',\n",
       " 'Big data',\n",
       " 'Boosting (machine learning)',\n",
       " 'Bootstrap aggregating',\n",
       " 'C.F. Jeff Wu',\n",
       " 'CURE algorithm',\n",
       " 'Canonical correlation',\n",
       " 'Cluster analysis',\n",
       " 'Cognitive computing',\n",
       " 'Columbia University',\n",
       " 'Comet NEOWISE',\n",
       " 'Committee on Data for Science and Technology',\n",
       " 'Communication',\n",
       " 'Complex systems',\n",
       " 'Computational learning theory',\n",
       " 'Computational science',\n",
       " 'Computer science',\n",
       " 'Conditional random field',\n",
       " 'Conference on Neural Information Processing Systems',\n",
       " 'Convolutional neural network',\n",
       " 'DBSCAN',\n",
       " 'DJ Patil',\n",
       " 'Data (computing)',\n",
       " 'Data Cleaning',\n",
       " 'Data analysis',\n",
       " 'Data archaeology',\n",
       " 'Data augmentation',\n",
       " 'Data cleansing',\n",
       " 'Data collection',\n",
       " 'Data compression',\n",
       " 'Data corruption',\n",
       " 'Data curation',\n",
       " 'Data degradation',\n",
       " 'Data editing',\n",
       " 'Data extraction',\n",
       " 'Data farming',\n",
       " 'Data format management',\n",
       " 'Data fusion',\n",
       " 'Data integration',\n",
       " 'Data integrity',\n",
       " 'Data library',\n",
       " 'Data loading',\n",
       " 'Data loss',\n",
       " 'Data management',\n",
       " 'Data migration',\n",
       " 'Data mining',\n",
       " 'Data pre-processing',\n",
       " 'Data preservation',\n",
       " 'Data quality',\n",
       " 'Data recovery',\n",
       " 'Data reduction',\n",
       " 'Data retention',\n",
       " 'Data scraping',\n",
       " 'Data scrubbing',\n",
       " 'Data security',\n",
       " 'Data steward',\n",
       " 'Data storage',\n",
       " 'Data transformation',\n",
       " 'Data validation',\n",
       " 'Data warehouse',\n",
       " 'Data wrangling',\n",
       " 'Database',\n",
       " 'David Donoho',\n",
       " 'Decision tree',\n",
       " 'Decision tree learning',\n",
       " 'DeepDream',\n",
       " 'Deep learning',\n",
       " 'Dimensionality reduction',\n",
       " 'Distributed computing',\n",
       " 'Doi (identifier)',\n",
       " 'Domain knowledge',\n",
       " 'Echo state network',\n",
       " 'Electrochemical RAM',\n",
       " 'Empirical research',\n",
       " 'Empirical risk minimization',\n",
       " 'Ensemble learning',\n",
       " 'Expectation–maximization algorithm',\n",
       " 'Extract, transform, load',\n",
       " 'Factor analysis',\n",
       " 'Feature engineering',\n",
       " 'Feature learning',\n",
       " 'Gated recurrent unit',\n",
       " 'Generative adversarial network',\n",
       " 'Glossary of artificial intelligence',\n",
       " 'Grammar induction',\n",
       " 'Graphical model',\n",
       " 'Hidden Markov model',\n",
       " 'Hierarchical clustering',\n",
       " 'Human–computer interaction',\n",
       " 'ISBN (identifier)',\n",
       " 'ISSN (identifier)',\n",
       " 'Independent component analysis',\n",
       " 'Informatics',\n",
       " 'Information explosion',\n",
       " 'Information privacy',\n",
       " 'Information science',\n",
       " 'Information technology',\n",
       " 'Information visualization',\n",
       " 'Interdisciplinarity',\n",
       " 'International Conference on Machine Learning',\n",
       " 'International Journal of Population Data Science',\n",
       " 'Jeff Hammerbacher',\n",
       " 'Jeffrey T. Leek',\n",
       " 'Jim Gray (computer scientist)',\n",
       " 'John Tukey',\n",
       " 'Journal of Machine Learning Research',\n",
       " 'K-means clustering',\n",
       " 'K-nearest neighbors algorithm',\n",
       " 'K-nearest neighbors classification',\n",
       " 'Knowledge',\n",
       " 'Learning to rank',\n",
       " 'Linear discriminant analysis',\n",
       " 'Linear regression',\n",
       " 'List of datasets for machine-learning research',\n",
       " 'Local outlier factor',\n",
       " 'Logistic regression',\n",
       " 'Long short-term memory',\n",
       " 'Machine Learning (journal)',\n",
       " 'Machine learning',\n",
       " 'Mathematics',\n",
       " 'Mean shift',\n",
       " 'Memtransistor',\n",
       " 'Montpellier 2 University',\n",
       " 'Multilayer perceptron',\n",
       " 'Naive Bayes classifier',\n",
       " 'Nate Silver',\n",
       " 'Nathan Yau',\n",
       " 'National Science Board',\n",
       " 'Network theory',\n",
       " 'Non-negative matrix factorization',\n",
       " 'OCLC (identifier)',\n",
       " 'OPTICS algorithm',\n",
       " 'Occam learning',\n",
       " 'Online machine learning',\n",
       " 'Outline of machine learning',\n",
       " 'PMID (identifier)',\n",
       " 'Perceptron',\n",
       " 'Peter Naur',\n",
       " 'Principal component analysis',\n",
       " 'Probably approximately correct learning',\n",
       " 'Proper generalized decomposition',\n",
       " 'Q-learning',\n",
       " 'Random forest',\n",
       " 'Recurrent neural network',\n",
       " 'Regression analysis',\n",
       " 'Reinforcement learning',\n",
       " 'Relevance vector machine',\n",
       " 'Restricted Boltzmann machine',\n",
       " 'S2CID (identifier)',\n",
       " 'Self-organizing map',\n",
       " 'Semi-supervised learning',\n",
       " 'Space telescope',\n",
       " 'Spiking neural network',\n",
       " 'State–action–reward–state–action',\n",
       " 'Statistical classification',\n",
       " 'Statistical learning theory',\n",
       " 'Statistics',\n",
       " 'Structured prediction',\n",
       " 'Supervised learning',\n",
       " 'Support-vector machine',\n",
       " 'T-distributed stochastic neighbor embedding',\n",
       " 'Temporal difference learning',\n",
       " 'Transformer (machine learning model)',\n",
       " 'Turing Award',\n",
       " 'U-Net',\n",
       " 'Unstructured data',\n",
       " 'Unsupervised learning',\n",
       " 'Vapnik–Chervonenkis theory',\n",
       " 'Vasant Dhar',\n",
       " 'Wide-field Infrared Survey Explorer',\n",
       " 'William S. Cleveland']"
      ]
     },
     "execution_count": 23,
     "metadata": {},
     "output_type": "execute_result"
    }
   ],
   "source": [
    "k.links"
   ]
  },
  {
   "cell_type": "code",
   "execution_count": null,
   "metadata": {},
   "outputs": [],
   "source": []
  }
 ],
 "metadata": {
  "kernelspec": {
   "display_name": "Python 3",
   "language": "python",
   "name": "python3"
  },
  "language_info": {
   "codemirror_mode": {
    "name": "ipython",
    "version": 3
   },
   "file_extension": ".py",
   "mimetype": "text/x-python",
   "name": "python",
   "nbconvert_exporter": "python",
   "pygments_lexer": "ipython3",
   "version": "3.8.5"
  }
 },
 "nbformat": 4,
 "nbformat_minor": 4
}
