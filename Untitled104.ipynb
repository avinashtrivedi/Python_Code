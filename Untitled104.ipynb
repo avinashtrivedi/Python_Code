{
 "cells": [
  {
   "cell_type": "code",
   "execution_count": 1,
   "metadata": {},
   "outputs": [
    {
     "name": "stdout",
     "output_type": "stream",
     "text": [
      "[1.0, 2.5, 1.5, 8.0]\n"
     ]
    }
   ],
   "source": [
    "# initialise the input list with the given values.\n",
    "list_foot_length = [1.2,2.4,1.3,8.1]\n",
    "\n",
    "# initialise output list to the empty list.\n",
    "converted_list=[]\n",
    "\n",
    "for foot_length in list_foot_length:\n",
    "    \n",
    "    # transforming the foot length\n",
    "    transformed_foot_length = round(foot_length*2)/2\n",
    "    \n",
    "    # append transformed foot length in converted_list\n",
    "    converted_list.append(transformed_foot_length)\n",
    "    \n",
    "# print the converted_list\n",
    "print(converted_list)"
   ]
  },
  {
   "cell_type": "code",
   "execution_count": null,
   "metadata": {},
   "outputs": [],
   "source": []
  }
 ],
 "metadata": {
  "kernelspec": {
   "display_name": "Python 3",
   "language": "python",
   "name": "python3"
  },
  "language_info": {
   "codemirror_mode": {
    "name": "ipython",
    "version": 3
   },
   "file_extension": ".py",
   "mimetype": "text/x-python",
   "name": "python",
   "nbconvert_exporter": "python",
   "pygments_lexer": "ipython3",
   "version": "3.8.5"
  }
 },
 "nbformat": 4,
 "nbformat_minor": 4
}
