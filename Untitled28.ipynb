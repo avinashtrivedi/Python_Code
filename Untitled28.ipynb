{
 "cells": [
  {
   "cell_type": "code",
   "execution_count": 1,
   "metadata": {},
   "outputs": [],
   "source": [
    "def mono(image, sepia=False):\n",
    "    height = len(image)\n",
    "    width  = len(image[0])\n",
    "        \n",
    "    for row in range(height):\n",
    "        for col in range(width):\n",
    "            pixel = image[row][col]\n",
    "            # Do the b&w calculation on the red pixel\n",
    "            # Don't convert to int yet so we can use it later\n",
    "            new_value = 0.3 * pixel.red + 0.6 * pixel.green + 0.1 * pixel.blue\n",
    "            pixel.red = int(new_value)\n",
    "            if sepia:\n",
    "                # Do extra calculations on green & blue if sepia\n",
    "                pixel.green = int(new_value * 0.6)\n",
    "                pixel.blue = int(new_value * 0.4)\n",
    "            else:\n",
    "                pixel.green = pixel.red\n",
    "                pixel.blue = pixel.red\n",
    "    return True"
   ]
  },
  {
   "cell_type": "code",
   "execution_count": 12,
   "metadata": {},
   "outputs": [
    {
     "ename": "AttributeError",
     "evalue": "'numpy.int32' object has no attribute 'red'",
     "output_type": "error",
     "traceback": [
      "\u001b[1;31m---------------------------------------------------------------------------\u001b[0m",
      "\u001b[1;31mAttributeError\u001b[0m                            Traceback (most recent call last)",
      "\u001b[1;32m<ipython-input-12-f828039fde09>\u001b[0m in \u001b[0;36m<module>\u001b[1;34m\u001b[0m\n\u001b[1;32m----> 1\u001b[1;33m \u001b[0mmono\u001b[0m\u001b[1;33m(\u001b[0m\u001b[0mimage_array\u001b[0m\u001b[1;33m)\u001b[0m\u001b[1;33m\u001b[0m\u001b[1;33m\u001b[0m\u001b[0m\n\u001b[0m",
      "\u001b[1;32m<ipython-input-1-13018702a392>\u001b[0m in \u001b[0;36mmono\u001b[1;34m(image, sepia)\u001b[0m\n\u001b[0;32m      8\u001b[0m             \u001b[1;31m# Do the b&w calculation on the red pixel\u001b[0m\u001b[1;33m\u001b[0m\u001b[1;33m\u001b[0m\u001b[1;33m\u001b[0m\u001b[0m\n\u001b[0;32m      9\u001b[0m             \u001b[1;31m# Don't convert to int yet so we can use it later\u001b[0m\u001b[1;33m\u001b[0m\u001b[1;33m\u001b[0m\u001b[1;33m\u001b[0m\u001b[0m\n\u001b[1;32m---> 10\u001b[1;33m             \u001b[0mnew_value\u001b[0m \u001b[1;33m=\u001b[0m \u001b[1;36m0.3\u001b[0m \u001b[1;33m*\u001b[0m \u001b[0mpixel\u001b[0m\u001b[1;33m.\u001b[0m\u001b[0mred\u001b[0m \u001b[1;33m+\u001b[0m \u001b[1;36m0.6\u001b[0m \u001b[1;33m*\u001b[0m \u001b[0mpixel\u001b[0m\u001b[1;33m.\u001b[0m\u001b[0mgreen\u001b[0m \u001b[1;33m+\u001b[0m \u001b[1;36m0.1\u001b[0m \u001b[1;33m*\u001b[0m \u001b[0mpixel\u001b[0m\u001b[1;33m.\u001b[0m\u001b[0mblue\u001b[0m\u001b[1;33m\u001b[0m\u001b[1;33m\u001b[0m\u001b[0m\n\u001b[0m\u001b[0;32m     11\u001b[0m             \u001b[0mpixel\u001b[0m\u001b[1;33m.\u001b[0m\u001b[0mred\u001b[0m \u001b[1;33m=\u001b[0m \u001b[0mint\u001b[0m\u001b[1;33m(\u001b[0m\u001b[0mnew_value\u001b[0m\u001b[1;33m)\u001b[0m\u001b[1;33m\u001b[0m\u001b[1;33m\u001b[0m\u001b[0m\n\u001b[0;32m     12\u001b[0m             \u001b[1;32mif\u001b[0m \u001b[0msepia\u001b[0m\u001b[1;33m:\u001b[0m\u001b[1;33m\u001b[0m\u001b[1;33m\u001b[0m\u001b[0m\n",
      "\u001b[1;31mAttributeError\u001b[0m: 'numpy.int32' object has no attribute 'red'"
     ]
    }
   ],
   "source": [
    "mono(image_array)"
   ]
  },
  {
   "cell_type": "code",
   "execution_count": 9,
   "metadata": {},
   "outputs": [],
   "source": [
    "from PIL import Image\n",
    "import numpy as np"
   ]
  },
  {
   "cell_type": "code",
   "execution_count": 10,
   "metadata": {},
   "outputs": [],
   "source": [
    "an_image = Image.open(\"ad1.png\")"
   ]
  },
  {
   "cell_type": "code",
   "execution_count": 11,
   "metadata": {},
   "outputs": [
    {
     "name": "stdout",
     "output_type": "stream",
     "text": [
      "[[247  58  25]\n",
      " [247  58  25]\n",
      " [247  58  25]\n",
      " ...\n",
      " [177  12   6]\n",
      " [177  12   6]\n",
      " [177  12   6]]\n"
     ]
    }
   ],
   "source": [
    "image_sequence = an_image.getdata()\n",
    "image_array = np.array(image_sequence)\n",
    "\n",
    "print(image_array)"
   ]
  },
  {
   "cell_type": "code",
   "execution_count": null,
   "metadata": {},
   "outputs": [],
   "source": [
    "from PIL import Image\n",
    "with Image.open(\"hopper.jpg\") as im:\n",
    "    im.rotate(45).show()"
   ]
  }
 ],
 "metadata": {
  "kernelspec": {
   "display_name": "Python 3",
   "language": "python",
   "name": "python3"
  },
  "language_info": {
   "codemirror_mode": {
    "name": "ipython",
    "version": 3
   },
   "file_extension": ".py",
   "mimetype": "text/x-python",
   "name": "python",
   "nbconvert_exporter": "python",
   "pygments_lexer": "ipython3",
   "version": "3.8.5"
  }
 },
 "nbformat": 4,
 "nbformat_minor": 4
}
