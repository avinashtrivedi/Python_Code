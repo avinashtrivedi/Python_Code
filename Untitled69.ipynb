{
 "cells": [
  {
   "cell_type": "code",
   "execution_count": 31,
   "metadata": {},
   "outputs": [
    {
     "name": "stdout",
     "output_type": "stream",
     "text": [
      "Enter movie file path/name: movies.csv\n",
      "Enter a title for the output file: ddd\n",
      "File has been Successfully created.\n"
     ]
    }
   ],
   "source": [
    "# import necessary library\n",
    "import pandas as pd\n",
    "import datetime\n",
    "try: # to handle exception\n",
    "    ############## Task #1 ################\n",
    "    \n",
    "    # ask the user to enter moview file path\n",
    "    fname = input('Enter movie file path/name: ')\n",
    "    \n",
    "    # read the csv file \n",
    "    df = pd.read_csv(fname)  \n",
    "    \n",
    "    # read top 10 rows\n",
    "    df = df.head(10)\n",
    "    \n",
    "    # extract year from title\n",
    "    year = df['title'].apply(lambda x:int(x.split('(')[1][:-1]))\n",
    "    \n",
    "    # create a new column called 'year' which contains year \n",
    "    df['year'] = year\n",
    "    \n",
    "    # limit the dataframe df to contain only 'movieId','title' and 'year' column\n",
    "    df = df[['movieId','title','year']]\n",
    "    \n",
    "    # create a new csv file\n",
    "    df.to_csv('yoursurname_output.csv',index=False)\n",
    "\n",
    "    ############################ Task #2 #########################\n",
    "    # read csv file from online source\n",
    "    other_df = pd.read_csv('http://pythonscraping.com/files/MontyPythonAlbums.csv')\n",
    "    \n",
    "    # create a dictionary containing movieid from 11 till 25\n",
    "    # 11 can be computed from range(len(df)+1 ,where len(df) is 10 ,because of earlier 10 rows in \n",
    "    # yoursurname_output.csv file\n",
    "    # 25 can be computed from len(df)+len(other_df)+1)\n",
    "    \n",
    "    # title and year from MontyPythonAlbums.csv file\n",
    "    \n",
    "    d={'movieId':list(range(len(df)+1 ,len(df)+len(other_df)+1)),\n",
    "        'title':other_df['Name'],\n",
    "         'year':other_df['Year']}\n",
    "    \n",
    "    # using that dictionary create a dataframe/Table\n",
    "    other_df = pd.DataFrame(d)\n",
    "    \n",
    "    # read the previously created file\n",
    "    df = pd.read_csv('yoursurname_output.csv')\n",
    "    \n",
    "    # append both the table/dataframe\n",
    "    df = pd.concat([df,other_df])\n",
    "    \n",
    "    # create a new big csv file\n",
    "    df.to_csv('yoursurname_output.csv',index=False)\n",
    "    \n",
    "    # Now open this csv file and append date and time of online access of MontyPythonAlbums.csv file\n",
    "    with open('yoursurname_output.csv','a') as fd:\n",
    "        fd.write(\"\\nDate and Time of file access: {}\".format(datetime.datetime.now()))\n",
    "\n",
    "    ################# Task #3 ##########################\n",
    "    \n",
    "    # ask the user the input the title\n",
    "    title = input('Enter a title for the output file: ')\n",
    "    \n",
    "    # open the csv file and read all the line and save in 'lines'\n",
    "    with open(\"yoursurname_output.csv\",'r') as f: \n",
    "        lines = f.readlines() #read \n",
    "    \n",
    "    # add a title and empty line in the beginning\n",
    "    lines[0] = title+\"\\n\\n\" \n",
    "    \n",
    "    # write lines into file\n",
    "    with open(\"yoursurname_output.csv\", \"w\") as f: \n",
    "        f.writelines(lines) #write back \n",
    "    print('File has been Successfully created.')\n",
    "except: \n",
    "    # if someting unwanted happens in code,python just print this message and stop execution.\n",
    "    print('Wrong filename or file does not exists in this path')"
   ]
  },
  {
   "cell_type": "code",
   "execution_count": null,
   "metadata": {},
   "outputs": [],
   "source": []
  },
  {
   "cell_type": "code",
   "execution_count": null,
   "metadata": {},
   "outputs": [],
   "source": []
  }
 ],
 "metadata": {
  "kernelspec": {
   "display_name": "Python 3",
   "language": "python",
   "name": "python3"
  },
  "language_info": {
   "codemirror_mode": {
    "name": "ipython",
    "version": 3
   },
   "file_extension": ".py",
   "mimetype": "text/x-python",
   "name": "python",
   "nbconvert_exporter": "python",
   "pygments_lexer": "ipython3",
   "version": "3.8.5"
  }
 },
 "nbformat": 4,
 "nbformat_minor": 4
}
