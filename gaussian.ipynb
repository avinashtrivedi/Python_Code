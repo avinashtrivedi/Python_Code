{
 "cells": [
  {
   "cell_type": "code",
   "execution_count": 52,
   "metadata": {},
   "outputs": [],
   "source": [
    "# import library\n",
    "import numpy as np\n",
    "import scipy.linalg as la"
   ]
  },
  {
   "cell_type": "code",
   "execution_count": 53,
   "metadata": {},
   "outputs": [],
   "source": [
    "# define function to generate A\n",
    "def A(n):\n",
    "    array = []\n",
    "    for i in range(1,n+1):\n",
    "        row=[]\n",
    "        for j in range(i,n+i):\n",
    "            row.append(1/j) # store row value\n",
    "        array.append(row)\n",
    "    array = np.resize(array,(n,n))\n",
    "    return array"
   ]
  },
  {
   "cell_type": "code",
   "execution_count": 54,
   "metadata": {},
   "outputs": [],
   "source": [
    "# define function to generate b\n",
    "def b(n):\n",
    "    Barray=[]\n",
    "    for i in range(n):\n",
    "        Barray.append((-1)**i) # even position -1,and odd position value will be 1.\n",
    "    return np.array(Barray).T"
   ]
  },
  {
   "cell_type": "code",
   "execution_count": 55,
   "metadata": {},
   "outputs": [
    {
     "data": {
      "text/plain": [
       "array([[1.        , 0.5       , 0.33333333],\n",
       "       [0.5       , 0.33333333, 0.25      ],\n",
       "       [0.33333333, 0.25      , 0.2       ]])"
      ]
     },
     "execution_count": 55,
     "metadata": {},
     "output_type": "execute_result"
    }
   ],
   "source": [
    "A(3) # generate A(3)"
   ]
  },
  {
   "cell_type": "code",
   "execution_count": 56,
   "metadata": {},
   "outputs": [
    {
     "data": {
      "text/plain": [
       "array([ 1, -1,  1])"
      ]
     },
     "execution_count": 56,
     "metadata": {},
     "output_type": "execute_result"
    }
   ],
   "source": [
    "b(3) # generate b(3)"
   ]
  },
  {
   "cell_type": "code",
   "execution_count": 57,
   "metadata": {},
   "outputs": [
    {
     "name": "stdout",
     "output_type": "stream",
     "text": [
      "[ 10. -18.]\n"
     ]
    }
   ],
   "source": [
    "x = la.solve(A(2),b(2)) # solve for n=2\n",
    "print(x)"
   ]
  },
  {
   "cell_type": "code",
   "execution_count": 58,
   "metadata": {},
   "outputs": [
    {
     "name": "stdout",
     "output_type": "stream",
     "text": [
      "[  516. -5700. 13620. -8820.]\n"
     ]
    }
   ],
   "source": [
    "x = la.solve(A(4),b(4))   # solve for n=4\n",
    "print(x)"
   ]
  },
  {
   "cell_type": "code",
   "execution_count": 59,
   "metadata": {},
   "outputs": [
    {
     "name": "stdout",
     "output_type": "stream",
     "text": [
      "[ 8.68359956e+05 -4.63836215e+07  6.04807527e+08 -3.27135713e+09\n",
      "  8.80667121e+09 -1.24630499e+10  8.87175036e+09 -2.50393557e+09]\n"
     ]
    }
   ],
   "source": [
    "x = la.solve(A(8),b(8))  # solve for n=8\n",
    "print(x)"
   ]
  },
  {
   "cell_type": "code",
   "execution_count": 60,
   "metadata": {},
   "outputs": [
    {
     "name": "stdout",
     "output_type": "stream",
     "text": [
      "[-4.35066043e+09  6.88399692e+11 -2.67146622e+13  4.43786597e+14\n",
      " -3.90690883e+15  2.01518306e+16 -6.34080381e+16  1.20411958e+17\n",
      " -1.27184793e+17  6.69570572e+16 -8.58448767e+16  2.96030856e+17\n",
      " -4.94416979e+17  4.24004292e+17 -1.87259615e+17  3.40474645e+16]\n"
     ]
    },
    {
     "name": "stderr",
     "output_type": "stream",
     "text": [
      "<ipython-input-60-048b9a6faf4b>:1: LinAlgWarning: Ill-conditioned matrix (rcond=7.09847e-19): result may not be accurate.\n",
      "  x = la.solve(A(16),b(16))   # solve for n=16\n"
     ]
    }
   ],
   "source": [
    "x = la.solve(A(16),b(16))   # solve for n=16\n",
    "print(x)"
   ]
  },
  {
   "cell_type": "code",
   "execution_count": null,
   "metadata": {},
   "outputs": [],
   "source": []
  },
  {
   "cell_type": "code",
   "execution_count": null,
   "metadata": {},
   "outputs": [],
   "source": []
  },
  {
   "cell_type": "code",
   "execution_count": null,
   "metadata": {},
   "outputs": [],
   "source": []
  }
 ],
 "metadata": {
  "kernelspec": {
   "display_name": "Python 3",
   "language": "python",
   "name": "python3"
  },
  "language_info": {
   "codemirror_mode": {
    "name": "ipython",
    "version": 3
   },
   "file_extension": ".py",
   "mimetype": "text/x-python",
   "name": "python",
   "nbconvert_exporter": "python",
   "pygments_lexer": "ipython3",
   "version": "3.8.5"
  }
 },
 "nbformat": 4,
 "nbformat_minor": 4
}
