{
 "cells": [
  {
   "cell_type": "code",
   "execution_count": 1,
   "metadata": {},
   "outputs": [],
   "source": [
    "import random\n",
    "import datetime"
   ]
  },
  {
   "cell_type": "code",
   "execution_count": 4,
   "metadata": {},
   "outputs": [
    {
     "name": "stdout",
     "output_type": "stream",
     "text": [
      "Digits: 6556\n",
      "Try 1 Sum the digits: 22\n",
      "Digits: 4711\n",
      "Try 2 Sum the digits: \n",
      "Try 2 Sum the digits: 13\n",
      "Digits: 7241\n",
      "Try 3 Sum the digits: \n",
      "Try 3 Sum the digits: 11\n",
      "Summary\n",
      "Try 1: 6556 22 correct 4.5 sec\n",
      "Try 2: 4711 13 correct 4.7 sec\n",
      "Try 3: 7241 11 incorrect --.- sec\n",
      "2/3 correct. Average time is 4.6 secs\n"
     ]
    }
   ],
   "source": [
    "result = []\n",
    "for i in range(3):\n",
    "    number = random.randint(1,9) + 10*random.randint(1,9) + 100*random.randint(1,9) + 1000*random.randint(1,9)\n",
    "    print('Digits:',number)\n",
    "    timeStart = datetime.datetime.now()\n",
    "    while True:\n",
    "        print('Try',i+1,'Sum the digits:',end=' ')\n",
    "        digitsum = input()\n",
    "        timeEnd = datetime.datetime.now()\n",
    "        if digitsum!='':\n",
    "            break\n",
    "    DigitSum = sum([int(i) for i in str(number)])\n",
    "    \n",
    "    if DigitSum == int(digitsum):\n",
    "        status = 'correct'\n",
    "    else:\n",
    "        status = 'incorrect'\n",
    "    \n",
    "    if status == 'correct':\n",
    "        seconds = round((timeEnd - timeStart).total_seconds(),1)\n",
    "    else:\n",
    "        seconds = '--.-'\n",
    "        \n",
    "    result.append((number,int(digitsum),status,seconds)) \n",
    "    \n",
    "print('Summary')\n",
    "no_of_correct = 0\n",
    "time = 0\n",
    "for i in range(3):\n",
    "    \n",
    "    if result[i][2]=='correct':\n",
    "        no_of_correct = no_of_correct + 1\n",
    "        time = time +  result[i][3]\n",
    "    print('Try {}: {} {} {} {} sec'.format(i+1,result[i][0],result[i][1],result[i][2],result[i][3]))\n",
    "agvtime = round(time/no_of_correct,1)\n",
    "print('{}/{} correct. Average time is {} secs'.format(no_of_correct,3,agvtime))\n"
   ]
  },
  {
   "cell_type": "code",
   "execution_count": 5,
   "metadata": {},
   "outputs": [],
   "source": [
    "def compose(f,g):\n",
    "    return lambda x: f(g(x))"
   ]
  },
  {
   "cell_type": "code",
   "execution_count": 6,
   "metadata": {},
   "outputs": [],
   "source": [
    "def sq(x):\n",
    "    return x**2"
   ]
  },
  {
   "cell_type": "code",
   "execution_count": 7,
   "metadata": {},
   "outputs": [],
   "source": [
    "def thrice(f):\n",
    "    return compose(compose(f,f),f)"
   ]
  },
  {
   "cell_type": "code",
   "execution_count": 8,
   "metadata": {},
   "outputs": [
    {
     "data": {
      "text/plain": [
       "6561"
      ]
     },
     "execution_count": 8,
     "metadata": {},
     "output_type": "execute_result"
    }
   ],
   "source": [
    "thrice(sq)(3)"
   ]
  },
  {
   "cell_type": "code",
   "execution_count": 10,
   "metadata": {},
   "outputs": [
    {
     "data": {
      "text/plain": [
       "6561"
      ]
     },
     "execution_count": 10,
     "metadata": {},
     "output_type": "execute_result"
    }
   ],
   "source": [
    "sq(sq(sq(3)))"
   ]
  },
  {
   "cell_type": "code",
   "execution_count": 11,
   "metadata": {},
   "outputs": [],
   "source": [
    "def identity(x):\n",
    "    return x"
   ]
  },
  {
   "cell_type": "code",
   "execution_count": 12,
   "metadata": {},
   "outputs": [],
   "source": [
    "def repeated(f,n):\n",
    "    if n==0:\n",
    "        return identity\n",
    "    else:\n",
    "        return compose(f,repeated(f, n-1))"
   ]
  },
  {
   "cell_type": "code",
   "execution_count": 16,
   "metadata": {},
   "outputs": [],
   "source": [
    "import math\n",
    "def sin(x):\n",
    "    return math.sin(x)"
   ]
  },
  {
   "cell_type": "code",
   "execution_count": 17,
   "metadata": {},
   "outputs": [
    {
     "data": {
      "text/plain": [
       "0.041532801333692235"
      ]
     },
     "execution_count": 17,
     "metadata": {},
     "output_type": "execute_result"
    }
   ],
   "source": [
    "repeated(sin,5)(3.1)"
   ]
  },
  {
   "cell_type": "code",
   "execution_count": 18,
   "metadata": {},
   "outputs": [
    {
     "data": {
      "text/plain": [
       "0.041532801333692235"
      ]
     },
     "execution_count": 18,
     "metadata": {},
     "output_type": "execute_result"
    }
   ],
   "source": [
    "sin(sin(sin(sin(sin(3.1)))))"
   ]
  },
  {
   "cell_type": "code",
   "execution_count": 21,
   "metadata": {},
   "outputs": [
    {
     "data": {
      "text/plain": [
       "0"
      ]
     },
     "execution_count": 21,
     "metadata": {},
     "output_type": "execute_result"
    }
   ],
   "source": [
    "thrice(thrice(sq))(0)"
   ]
  },
  {
   "cell_type": "code",
   "execution_count": 26,
   "metadata": {},
   "outputs": [
    {
     "data": {
      "text/plain": [
       "0"
      ]
     },
     "execution_count": 26,
     "metadata": {},
     "output_type": "execute_result"
    }
   ],
   "source": [
    "repeated(sq,11)(0)"
   ]
  },
  {
   "cell_type": "code",
   "execution_count": null,
   "metadata": {},
   "outputs": [],
   "source": []
  }
 ],
 "metadata": {
  "kernelspec": {
   "display_name": "Python 3",
   "language": "python",
   "name": "python3"
  },
  "language_info": {
   "codemirror_mode": {
    "name": "ipython",
    "version": 3
   },
   "file_extension": ".py",
   "mimetype": "text/x-python",
   "name": "python",
   "nbconvert_exporter": "python",
   "pygments_lexer": "ipython3",
   "version": "3.8.5"
  }
 },
 "nbformat": 4,
 "nbformat_minor": 4
}
