{
 "cells": [
  {
   "cell_type": "markdown",
   "metadata": {},
   "source": [
    "# Question 1"
   ]
  },
  {
   "cell_type": "code",
   "execution_count": 1,
   "metadata": {},
   "outputs": [],
   "source": [
    "def printOddEven(s, n):\n",
    "    \n",
    "    # get lower case string\n",
    "    s = s.lower()\n",
    "    if s=='odd':\n",
    "        \n",
    "        # if odd and n is less than 1\n",
    "        if n<1:\n",
    "            pass # do nothing\n",
    "        \n",
    "        # otherwise print the odd numbers\n",
    "        else:\n",
    "            for i in range(1,n+1,2):\n",
    "                print(i,end=' ')\n",
    "                \n",
    "    elif s=='even':\n",
    "        \n",
    "        # if even and n is less than 2 \n",
    "        if n<2:\n",
    "            pass # do nothing\n",
    "        \n",
    "        # otherwise print the even numbers\n",
    "        else:\n",
    "            for i in range(2,n+1,2):\n",
    "                print(i,end=' ')"
   ]
  },
  {
   "cell_type": "code",
   "execution_count": 2,
   "metadata": {},
   "outputs": [
    {
     "name": "stdout",
     "output_type": "stream",
     "text": [
      "1 3 5 "
     ]
    }
   ],
   "source": [
    "printOddEven('ODD', 5)"
   ]
  },
  {
   "cell_type": "code",
   "execution_count": 3,
   "metadata": {},
   "outputs": [
    {
     "name": "stdout",
     "output_type": "stream",
     "text": [
      "1 3 5 7 9 "
     ]
    }
   ],
   "source": [
    "printOddEven('oDd', 10)"
   ]
  },
  {
   "cell_type": "code",
   "execution_count": 4,
   "metadata": {},
   "outputs": [
    {
     "name": "stdout",
     "output_type": "stream",
     "text": [
      "2 4 6 8 10 "
     ]
    }
   ],
   "source": [
    "printOddEven('eVen', 11)"
   ]
  },
  {
   "cell_type": "code",
   "execution_count": 5,
   "metadata": {},
   "outputs": [
    {
     "name": "stdout",
     "output_type": "stream",
     "text": [
      "2 4 6 8 10 12 "
     ]
    }
   ],
   "source": [
    "printOddEven('evEN', 12)"
   ]
  },
  {
   "cell_type": "code",
   "execution_count": 6,
   "metadata": {},
   "outputs": [],
   "source": [
    "printOddEven('eVen', 0)"
   ]
  },
  {
   "cell_type": "code",
   "execution_count": 7,
   "metadata": {},
   "outputs": [],
   "source": [
    "printOddEven('odd', 0)"
   ]
  },
  {
   "cell_type": "code",
   "execution_count": 8,
   "metadata": {},
   "outputs": [],
   "source": [
    "printOddEven('ode', 5)"
   ]
  },
  {
   "cell_type": "markdown",
   "metadata": {},
   "source": [
    "# Question 2"
   ]
  },
  {
   "cell_type": "code",
   "execution_count": 9,
   "metadata": {},
   "outputs": [],
   "source": [
    "def loveNote(name):\n",
    "    \n",
    "    # check if name is empty\n",
    "    if name=='':\n",
    "        print(\"I'm sorry, but the name must be non-empty.\")\n",
    "        \n",
    "    else:\n",
    "        # get the name in upper case\n",
    "        name = name.upper()\n",
    "        \n",
    "        print(name+',',\"I love you so.\")\n",
    "        \n",
    "        # ' '.join(list(name)) will put one space between every characters in name\n",
    "        print(\"You brighten my day.\\nOh,\",' '.join(list(name)),'!')\n",
    "        \n",
    "        print(\"I wish you could be with me always.\")\n",
    "        print(\"But alas,\",name+',',\"you must stay away.\") "
   ]
  },
  {
   "cell_type": "code",
   "execution_count": 10,
   "metadata": {},
   "outputs": [
    {
     "name": "stdout",
     "output_type": "stream",
     "text": [
      "JOJO, I love you so.\n",
      "You brighten my day.\n",
      "Oh, J O J O !\n",
      "I wish you could be with me always.\n",
      "But alas, JOJO, you must stay away.\n"
     ]
    }
   ],
   "source": [
    "loveNote('joJO')"
   ]
  },
  {
   "cell_type": "code",
   "execution_count": 11,
   "metadata": {},
   "outputs": [
    {
     "name": "stdout",
     "output_type": "stream",
     "text": [
      "ANNIKA, I love you so.\n",
      "You brighten my day.\n",
      "Oh, A N N I K A !\n",
      "I wish you could be with me always.\n",
      "But alas, ANNIKA, you must stay away.\n"
     ]
    }
   ],
   "source": [
    "loveNote('ANNIKA')"
   ]
  },
  {
   "cell_type": "code",
   "execution_count": 12,
   "metadata": {},
   "outputs": [
    {
     "name": "stdout",
     "output_type": "stream",
     "text": [
      "I'm sorry, but the name must be non-empty.\n"
     ]
    }
   ],
   "source": [
    "loveNote('')"
   ]
  },
  {
   "cell_type": "markdown",
   "metadata": {},
   "source": [
    "# Question 3"
   ]
  },
  {
   "cell_type": "code",
   "execution_count": 13,
   "metadata": {},
   "outputs": [],
   "source": [
    "def countChars(s1, s2):\n",
    "    \n",
    "    # check if either s1 or s2 is empty\n",
    "    if s1=='' or s2=='':\n",
    "        print(\"I'm sorry but I cannot count using empty strings.\")\n",
    "        \n",
    "    else:\n",
    "        s1 = s1.lower()\n",
    "        s2 = s2.lower()\n",
    "        \n",
    "        # loop through each character in s1 and count its existance in s2\n",
    "        for char in s1:\n",
    "            print(char,'appears in',repr(s2),s2.count(char),'time(s)')"
   ]
  },
  {
   "cell_type": "code",
   "execution_count": 14,
   "metadata": {},
   "outputs": [
    {
     "name": "stdout",
     "output_type": "stream",
     "text": [
      "a appears in 'this is a test' 1 time(s)\n",
      "e appears in 'this is a test' 1 time(s)\n",
      "i appears in 'this is a test' 2 time(s)\n",
      "o appears in 'this is a test' 0 time(s)\n",
      "u appears in 'this is a test' 0 time(s)\n"
     ]
    }
   ],
   "source": [
    "countChars('aeiou', 'THIS is a TEST')"
   ]
  },
  {
   "cell_type": "code",
   "execution_count": 15,
   "metadata": {},
   "outputs": [
    {
     "name": "stdout",
     "output_type": "stream",
     "text": [
      "t appears in 'this is a test' 3 time(s)\n"
     ]
    }
   ],
   "source": [
    "countChars('t', 'THIS is a TEST')"
   ]
  },
  {
   "cell_type": "code",
   "execution_count": 16,
   "metadata": {},
   "outputs": [
    {
     "name": "stdout",
     "output_type": "stream",
     "text": [
      "# appears in '$@#$^%*()@#@#^$*&(' 3 time(s)\n",
      "$ appears in '$@#$^%*()@#@#^$*&(' 3 time(s)\n",
      "* appears in '$@#$^%*()@#@#^$*&(' 2 time(s)\n",
      "& appears in '$@#$^%*()@#@#^$*&(' 1 time(s)\n",
      "@ appears in '$@#$^%*()@#@#^$*&(' 3 time(s)\n",
      "! appears in '$@#$^%*()@#@#^$*&(' 0 time(s)\n"
     ]
    }
   ],
   "source": [
    "countChars('#$*&@!', '$@#$^%*()@#@#^$*&(')"
   ]
  },
  {
   "cell_type": "code",
   "execution_count": 17,
   "metadata": {},
   "outputs": [
    {
     "name": "stdout",
     "output_type": "stream",
     "text": [
      "y appears in 'amber settle' 0 time(s)\n"
     ]
    }
   ],
   "source": [
    "countChars('y', 'Amber Settle')"
   ]
  },
  {
   "cell_type": "code",
   "execution_count": 18,
   "metadata": {},
   "outputs": [
    {
     "name": "stdout",
     "output_type": "stream",
     "text": [
      "I'm sorry but I cannot count using empty strings.\n"
     ]
    }
   ],
   "source": [
    "countChars('', 'Amber Settle')"
   ]
  },
  {
   "cell_type": "code",
   "execution_count": 19,
   "metadata": {},
   "outputs": [
    {
     "name": "stdout",
     "output_type": "stream",
     "text": [
      "I'm sorry but I cannot count using empty strings.\n"
     ]
    }
   ],
   "source": [
    "countChars('aeiou', '')"
   ]
  },
  {
   "cell_type": "markdown",
   "metadata": {},
   "source": [
    "# Question 4"
   ]
  },
  {
   "cell_type": "code",
   "execution_count": 20,
   "metadata": {},
   "outputs": [],
   "source": [
    "def makeAdverb(adj):\n",
    "    adj = adj.lower()\n",
    "    \n",
    "    # to handle adjective  like happy\n",
    "    if adj[-1]=='y':\n",
    "        adverb = adj[:-1] + 'i' + 'ly'\n",
    "        \n",
    "    # to handle adjective  like ENTHUSIASTIC\n",
    "    elif adj[-2:]=='ic':\n",
    "        adverb = adj + 'ally'\n",
    "        \n",
    "    # for remaining adjective \n",
    "    else:\n",
    "        adverb = adj + 'ly'\n",
    "    print(adverb)"
   ]
  },
  {
   "cell_type": "code",
   "execution_count": 21,
   "metadata": {},
   "outputs": [
    {
     "name": "stdout",
     "output_type": "stream",
     "text": [
      "happily\n"
     ]
    }
   ],
   "source": [
    "makeAdverb('happy')"
   ]
  },
  {
   "cell_type": "code",
   "execution_count": 22,
   "metadata": {},
   "outputs": [
    {
     "name": "stdout",
     "output_type": "stream",
     "text": [
      "enthusiastically\n"
     ]
    }
   ],
   "source": [
    "makeAdverb('ENTHUSIASTIC')"
   ]
  },
  {
   "cell_type": "code",
   "execution_count": 23,
   "metadata": {},
   "outputs": [
    {
     "name": "stdout",
     "output_type": "stream",
     "text": [
      "angrily\n"
     ]
    }
   ],
   "source": [
    "makeAdverb('angry')"
   ]
  },
  {
   "cell_type": "code",
   "execution_count": 24,
   "metadata": {},
   "outputs": [
    {
     "name": "stdout",
     "output_type": "stream",
     "text": [
      "energetically\n"
     ]
    }
   ],
   "source": [
    "makeAdverb('EnERgeTIC')"
   ]
  },
  {
   "cell_type": "code",
   "execution_count": 25,
   "metadata": {},
   "outputs": [
    {
     "name": "stdout",
     "output_type": "stream",
     "text": [
      "dangerously\n"
     ]
    }
   ],
   "source": [
    "makeAdverb('dangerOUS')"
   ]
  },
  {
   "cell_type": "markdown",
   "metadata": {},
   "source": [
    "# Question 5"
   ]
  },
  {
   "cell_type": "code",
   "execution_count": 26,
   "metadata": {},
   "outputs": [],
   "source": [
    "def printElem(lst, n):\n",
    "    \n",
    "    # to handle positive index i.e. n\n",
    "    if n>=0 and n<len(lst):\n",
    "        print(lst[n])\n",
    "        \n",
    "    # to handle negative index\n",
    "    elif n<0 and abs(n)<=len(lst):\n",
    "        print(lst[n])"
   ]
  },
  {
   "cell_type": "code",
   "execution_count": 27,
   "metadata": {},
   "outputs": [
    {
     "name": "stdout",
     "output_type": "stream",
     "text": [
      "Annika\n"
     ]
    }
   ],
   "source": [
    "printElem(['Annika', 'JoJo', 'LaRue'], 0)"
   ]
  },
  {
   "cell_type": "code",
   "execution_count": 28,
   "metadata": {},
   "outputs": [
    {
     "name": "stdout",
     "output_type": "stream",
     "text": [
      "LaRue\n"
     ]
    }
   ],
   "source": [
    "printElem(['Annika', 'JoJo', 'LaRue'], 2)"
   ]
  },
  {
   "cell_type": "code",
   "execution_count": 29,
   "metadata": {},
   "outputs": [],
   "source": [
    "printElem(['Annika', 'JoJo', 'LaRue'], 3)"
   ]
  },
  {
   "cell_type": "code",
   "execution_count": 30,
   "metadata": {},
   "outputs": [
    {
     "name": "stdout",
     "output_type": "stream",
     "text": [
      "one\n"
     ]
    }
   ],
   "source": [
    "printElem(['one', 'two', 'three', 'four', 'five'], -5)"
   ]
  },
  {
   "cell_type": "code",
   "execution_count": 31,
   "metadata": {},
   "outputs": [],
   "source": [
    "printElem(['one', 'two', 'three', 'four', 'five'], -6)"
   ]
  },
  {
   "cell_type": "code",
   "execution_count": 32,
   "metadata": {},
   "outputs": [
    {
     "name": "stdout",
     "output_type": "stream",
     "text": [
      "five\n"
     ]
    }
   ],
   "source": [
    "printElem(['one', 'two', 'three', 'four', 'five'], 4)"
   ]
  },
  {
   "cell_type": "code",
   "execution_count": 33,
   "metadata": {},
   "outputs": [],
   "source": [
    "printElem(['one', 'two', 'three', 'four', 'five'], 5)"
   ]
  },
  {
   "cell_type": "code",
   "execution_count": null,
   "metadata": {},
   "outputs": [],
   "source": []
  }
 ],
 "metadata": {
  "kernelspec": {
   "display_name": "Python 3",
   "language": "python",
   "name": "python3"
  },
  "language_info": {
   "codemirror_mode": {
    "name": "ipython",
    "version": 3
   },
   "file_extension": ".py",
   "mimetype": "text/x-python",
   "name": "python",
   "nbconvert_exporter": "python",
   "pygments_lexer": "ipython3",
   "version": "3.8.5"
  }
 },
 "nbformat": 4,
 "nbformat_minor": 4
}
