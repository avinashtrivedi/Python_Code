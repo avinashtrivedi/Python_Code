{
 "cells": [
  {
   "cell_type": "code",
   "execution_count": 11,
   "metadata": {},
   "outputs": [],
   "source": [
    "def rbitlists(n):\n",
    "    if n>0:\n",
    "        if n==1:\n",
    "            return [[0],[1]]\n",
    "        else:\n",
    "            bitlist = rbitlists(n-1)\n",
    "            n_bitlist=[]\n",
    "            print('When n=',n-1)\n",
    "            print('bitlist: ',bitlist)\n",
    "            for lst in bitlist:\n",
    "                n_bitlist.append([0]+lst)\n",
    "            print('After adding [0]: ',n_bitlist)\n",
    "            for lst in bitlist:\n",
    "                n_bitlist.append([1]+lst)\n",
    "            print('After adding [1]: ',n_bitlist)\n",
    "            print(80*'-') # print '-' 80 times\n",
    "            return n_bitlist"
   ]
  },
  {
   "cell_type": "code",
   "execution_count": 14,
   "metadata": {},
   "outputs": [
    {
     "name": "stdout",
     "output_type": "stream",
     "text": [
      "When n= 1\n",
      "bitlist:  [[0], [1]]\n",
      "After adding [0]:  [[0, 0], [0, 1]]\n",
      "After adding [1]:  [[0, 0], [0, 1], [1, 0], [1, 1]]\n",
      "--------------------------------------------------------------------------------\n",
      "[[0, 0], [0, 1], [1, 0], [1, 1]]\n"
     ]
    }
   ],
   "source": [
    "print(rbitlists(2))"
   ]
  },
  {
   "cell_type": "code",
   "execution_count": 15,
   "metadata": {},
   "outputs": [
    {
     "name": "stdout",
     "output_type": "stream",
     "text": [
      "When n= 1\n",
      "bitlist:  [[0], [1]]\n",
      "After adding [0]:  [[0, 0], [0, 1]]\n",
      "After adding [1]:  [[0, 0], [0, 1], [1, 0], [1, 1]]\n",
      "--------------------------------------------------------------------------------\n",
      "When n= 2\n",
      "bitlist:  [[0, 0], [0, 1], [1, 0], [1, 1]]\n",
      "After adding [0]:  [[0, 0, 0], [0, 0, 1], [0, 1, 0], [0, 1, 1]]\n",
      "After adding [1]:  [[0, 0, 0], [0, 0, 1], [0, 1, 0], [0, 1, 1], [1, 0, 0], [1, 0, 1], [1, 1, 0], [1, 1, 1]]\n",
      "--------------------------------------------------------------------------------\n",
      "[[0, 0, 0], [0, 0, 1], [0, 1, 0], [0, 1, 1], [1, 0, 0], [1, 0, 1], [1, 1, 0], [1, 1, 1]]\n"
     ]
    }
   ],
   "source": [
    "print(rbitlists(3))"
   ]
  },
  {
   "cell_type": "code",
   "execution_count": null,
   "metadata": {},
   "outputs": [],
   "source": []
  }
 ],
 "metadata": {
  "kernelspec": {
   "display_name": "Python 3",
   "language": "python",
   "name": "python3"
  },
  "language_info": {
   "codemirror_mode": {
    "name": "ipython",
    "version": 3
   },
   "file_extension": ".py",
   "mimetype": "text/x-python",
   "name": "python",
   "nbconvert_exporter": "python",
   "pygments_lexer": "ipython3",
   "version": "3.8.5"
  }
 },
 "nbformat": 4,
 "nbformat_minor": 4
}
