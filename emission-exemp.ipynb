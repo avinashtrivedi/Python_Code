{
 "cells": [
  {
   "cell_type": "markdown",
   "metadata": {},
   "source": [
    "# For Better understanding"
   ]
  },
  {
   "cell_type": "code",
   "execution_count": 1,
   "metadata": {},
   "outputs": [],
   "source": [
    "car_value = 10000\n",
    "purchase_year = 2011\n",
    "car_age = 8\n",
    "driver_age = 23\n",
    "electric = True\n",
    "emissions_passed = True"
   ]
  },
  {
   "cell_type": "code",
   "execution_count": 2,
   "metadata": {},
   "outputs": [
    {
     "data": {
      "text/plain": [
       "20"
      ]
     },
     "execution_count": 2,
     "metadata": {},
     "output_type": "execute_result"
    }
   ],
   "source": [
    "Everyone_pays = 20\n",
    "Everyone_pays"
   ]
  },
  {
   "cell_type": "code",
   "execution_count": 3,
   "metadata": {},
   "outputs": [
    {
     "data": {
      "text/plain": [
       "100.0"
      ]
     },
     "execution_count": 3,
     "metadata": {},
     "output_type": "execute_result"
    }
   ],
   "source": [
    "purchased_before_2013_fee = car_value*1/100 if purchase_year <=2012 else 0 \n",
    "purchased_before_2013_fee"
   ]
  },
  {
   "cell_type": "code",
   "execution_count": 4,
   "metadata": {},
   "outputs": [
    {
     "data": {
      "text/plain": [
       "200"
      ]
     },
     "execution_count": 4,
     "metadata": {},
     "output_type": "execute_result"
    }
   ],
   "source": [
    "electric_car_fee = 200 if electric else 0\n",
    "electric_car_fee"
   ]
  },
  {
   "cell_type": "code",
   "execution_count": 5,
   "metadata": {},
   "outputs": [
    {
     "data": {
      "text/plain": [
       "True"
      ]
     },
     "execution_count": 5,
     "metadata": {},
     "output_type": "execute_result"
    }
   ],
   "source": [
    "emissions_exemption = electric or (driver_age>=65 and car_age>=10)\n",
    "emissions_exemption"
   ]
  },
  {
   "cell_type": "code",
   "execution_count": 6,
   "metadata": {},
   "outputs": [],
   "source": [
    "renewal_cost = Everyone_pays + purchased_before_2013_fee + electric_car_fee"
   ]
  },
  {
   "cell_type": "code",
   "execution_count": 7,
   "metadata": {},
   "outputs": [
    {
     "name": "stdout",
     "output_type": "stream",
     "text": [
      "Your renewal fee is $320.\n"
     ]
    }
   ],
   "source": [
    "if emissions_passed==False and emissions_exemption==False:\n",
    "    print(\"You must pass an emissions test first.\")\n",
    "else:\n",
    "    print(\"Your renewal fee is ${}.\".format(round(renewal_cost)))"
   ]
  },
  {
   "cell_type": "markdown",
   "metadata": {},
   "source": [
    "# consolidated code"
   ]
  },
  {
   "cell_type": "code",
   "execution_count": 8,
   "metadata": {},
   "outputs": [
    {
     "name": "stdout",
     "output_type": "stream",
     "text": [
      "Your renewal fee is $320.\n"
     ]
    }
   ],
   "source": [
    "car_value = 10000\n",
    "purchase_year = 2011\n",
    "car_age = 8\n",
    "driver_age = 23\n",
    "electric = True\n",
    "emissions_passed = True\n",
    "\n",
    "Everyone_pays = 20\n",
    "\n",
    "purchased_before_2013_fee = car_value*1/100 if purchase_year <=2012 else 0 \n",
    "\n",
    "electric_car_fee = 200 if electric else 0\n",
    "\n",
    "emissions_exemption = electric or (driver_age>=65 and car_age>=10)\n",
    "\n",
    "renewal_cost = Everyone_pays + purchased_before_2013_fee + electric_car_fee\n",
    "\n",
    "if emissions_passed==False and emissions_exemption==False:\n",
    "    print(\"You must pass an emissions test first.\")\n",
    "else:\n",
    "    print(\"Your renewal fee is ${}.\".format(round(renewal_cost)))"
   ]
  },
  {
   "cell_type": "code",
   "execution_count": null,
   "metadata": {},
   "outputs": [],
   "source": []
  }
 ],
 "metadata": {
  "kernelspec": {
   "display_name": "Python 3",
   "language": "python",
   "name": "python3"
  },
  "language_info": {
   "codemirror_mode": {
    "name": "ipython",
    "version": 3
   },
   "file_extension": ".py",
   "mimetype": "text/x-python",
   "name": "python",
   "nbconvert_exporter": "python",
   "pygments_lexer": "ipython3",
   "version": "3.8.5"
  }
 },
 "nbformat": 4,
 "nbformat_minor": 4
}
