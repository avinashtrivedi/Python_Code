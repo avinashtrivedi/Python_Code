{
 "cells": [
  {
   "cell_type": "code",
   "execution_count": 1,
   "metadata": {},
   "outputs": [],
   "source": [
    "# import library\n",
    "import pandas as pd\n",
    "import statsmodels.api as sm"
   ]
  },
  {
   "cell_type": "code",
   "execution_count": 2,
   "metadata": {},
   "outputs": [],
   "source": [
    "# load the dataset and create dataframe\n",
    "df = pd.read_csv('fastfood.csv')\n",
    "\n",
    "# get the necessary columns for calories prediction.\n",
    "df = df[['Age', 'Duration', 'Credit amount']]"
   ]
  },
  {
   "cell_type": "code",
   "execution_count": 3,
   "metadata": {},
   "outputs": [
    {
     "data": {
      "text/html": [
       "<div>\n",
       "<style scoped>\n",
       "    .dataframe tbody tr th:only-of-type {\n",
       "        vertical-align: middle;\n",
       "    }\n",
       "\n",
       "    .dataframe tbody tr th {\n",
       "        vertical-align: top;\n",
       "    }\n",
       "\n",
       "    .dataframe thead th {\n",
       "        text-align: right;\n",
       "    }\n",
       "</style>\n",
       "<table border=\"1\" class=\"dataframe\">\n",
       "  <thead>\n",
       "    <tr style=\"text-align: right;\">\n",
       "      <th></th>\n",
       "      <th>Age</th>\n",
       "      <th>Duration</th>\n",
       "      <th>Credit amount</th>\n",
       "    </tr>\n",
       "  </thead>\n",
       "  <tbody>\n",
       "    <tr>\n",
       "      <th>0</th>\n",
       "      <td>67</td>\n",
       "      <td>6</td>\n",
       "      <td>1169</td>\n",
       "    </tr>\n",
       "    <tr>\n",
       "      <th>1</th>\n",
       "      <td>22</td>\n",
       "      <td>48</td>\n",
       "      <td>5951</td>\n",
       "    </tr>\n",
       "    <tr>\n",
       "      <th>2</th>\n",
       "      <td>49</td>\n",
       "      <td>12</td>\n",
       "      <td>2096</td>\n",
       "    </tr>\n",
       "    <tr>\n",
       "      <th>3</th>\n",
       "      <td>45</td>\n",
       "      <td>42</td>\n",
       "      <td>7882</td>\n",
       "    </tr>\n",
       "    <tr>\n",
       "      <th>4</th>\n",
       "      <td>53</td>\n",
       "      <td>24</td>\n",
       "      <td>4870</td>\n",
       "    </tr>\n",
       "    <tr>\n",
       "      <th>...</th>\n",
       "      <td>...</td>\n",
       "      <td>...</td>\n",
       "      <td>...</td>\n",
       "    </tr>\n",
       "    <tr>\n",
       "      <th>995</th>\n",
       "      <td>31</td>\n",
       "      <td>12</td>\n",
       "      <td>1736</td>\n",
       "    </tr>\n",
       "    <tr>\n",
       "      <th>996</th>\n",
       "      <td>40</td>\n",
       "      <td>30</td>\n",
       "      <td>3857</td>\n",
       "    </tr>\n",
       "    <tr>\n",
       "      <th>997</th>\n",
       "      <td>38</td>\n",
       "      <td>12</td>\n",
       "      <td>804</td>\n",
       "    </tr>\n",
       "    <tr>\n",
       "      <th>998</th>\n",
       "      <td>23</td>\n",
       "      <td>45</td>\n",
       "      <td>1845</td>\n",
       "    </tr>\n",
       "    <tr>\n",
       "      <th>999</th>\n",
       "      <td>27</td>\n",
       "      <td>45</td>\n",
       "      <td>4576</td>\n",
       "    </tr>\n",
       "  </tbody>\n",
       "</table>\n",
       "<p>1000 rows × 3 columns</p>\n",
       "</div>"
      ],
      "text/plain": [
       "     Age  Duration  Credit amount\n",
       "0     67         6           1169\n",
       "1     22        48           5951\n",
       "2     49        12           2096\n",
       "3     45        42           7882\n",
       "4     53        24           4870\n",
       "..   ...       ...            ...\n",
       "995   31        12           1736\n",
       "996   40        30           3857\n",
       "997   38        12            804\n",
       "998   23        45           1845\n",
       "999   27        45           4576\n",
       "\n",
       "[1000 rows x 3 columns]"
      ]
     },
     "execution_count": 3,
     "metadata": {},
     "output_type": "execute_result"
    }
   ],
   "source": [
    "df # display the data"
   ]
  },
  {
   "cell_type": "code",
   "execution_count": 4,
   "metadata": {},
   "outputs": [],
   "source": [
    "# rename the column 'Credit amount' to 'Credit_amount'\n",
    "df.rename(columns={\"Credit amount\": \"Credit_amount\"},inplace=True)"
   ]
  },
  {
   "cell_type": "code",
   "execution_count": 5,
   "metadata": {},
   "outputs": [],
   "source": [
    "# get X and Y\n",
    "X = df[['Age', 'Duration']].values\n",
    "Y = df[['Credit_amount']].values"
   ]
  },
  {
   "cell_type": "code",
   "execution_count": 6,
   "metadata": {},
   "outputs": [],
   "source": [
    "# add constant\n",
    "X = sm.add_constant(X)\n",
    "\n",
    "# Build and fit Ordinary Least Squares model on X and Y\n",
    "sm_model = sm.OLS(Y,X)\n",
    "model = sm_model.fit()"
   ]
  },
  {
   "cell_type": "code",
   "execution_count": 7,
   "metadata": {},
   "outputs": [
    {
     "name": "stdout",
     "output_type": "stream",
     "text": [
      "[-284.99   13.74  146.77]\n",
      "0.39\n"
     ]
    }
   ],
   "source": [
    "print(model.params.round(2))\n",
    "\n",
    "print(model.rsquared.round(2))"
   ]
  },
  {
   "cell_type": "code",
   "execution_count": null,
   "metadata": {},
   "outputs": [],
   "source": []
  },
  {
   "cell_type": "code",
   "execution_count": null,
   "metadata": {},
   "outputs": [],
   "source": []
  },
  {
   "cell_type": "code",
   "execution_count": 2,
   "metadata": {},
   "outputs": [],
   "source": [
    "# In[1]:\n",
    "\n",
    "# import library\n",
    "import pandas as pd\n",
    "import statsmodels.api as sm\n",
    "\n",
    "# In[2]:\n",
    "\n",
    "# load the dataset and create dataframe\n",
    "df = pd.read_csv('fastfood.csv')\n",
    "\n",
    "# get the necessary columns for calories prediction.\n",
    "df = df[['total_fat', 'sat_fat', 'cholesterol', 'sodium','calories']]\n",
    "\n",
    "# In[3]:\n",
    "\n",
    "df # display the data\n",
    "\n",
    "# In[4]:\n",
    "\n",
    "# get X and Y\n",
    "X = df[['total_fat', 'sat_fat', 'cholesterol', 'sodium']].values\n",
    "Y = df[['calories']].values\n",
    "\n",
    "# In[5]:\n",
    "\n",
    "# add constant\n",
    "X = sm.add_constant(X)\n",
    "\n",
    "# Build and fit Ordinary Least Squares model on X and Y\n",
    "sm_model = sm.OLS(Y,X)\n",
    "model = sm_model.fit()\n",
    "\n",
    "# In[6]:\n",
    "\n"
   ]
  },
  {
   "cell_type": "code",
   "execution_count": 3,
   "metadata": {},
   "outputs": [
    {
     "name": "stdout",
     "output_type": "stream",
     "text": [
      "79770.18\n",
      "0.9\n",
      "[71.73  9.1   0.6   0.21  0.16]\n",
      "[0.   0.   0.64 0.07 0.  ]\n"
     ]
    }
   ],
   "source": [
    "print(model.mse_total.round(2))\n",
    "\n",
    "print(model.rsquared.round(2))\n",
    "\n",
    "print(model.params.round(2))\n",
    "\n",
    "print(model.pvalues.round(2))"
   ]
  },
  {
   "cell_type": "code",
   "execution_count": 4,
   "metadata": {},
   "outputs": [
    {
     "data": {
      "text/plain": [
       "array([71.73,  9.1 ,  0.6 ,  0.21,  0.16])"
      ]
     },
     "execution_count": 4,
     "metadata": {},
     "output_type": "execute_result"
    }
   ],
   "source": [
    "model.params.round(2)"
   ]
  },
  {
   "cell_type": "code",
   "execution_count": null,
   "metadata": {},
   "outputs": [],
   "source": [
    "Expected output Expected output \n",
    "79770.18 \n",
    "0.9 .\n",
    "{0,}71.73 total_fat 9.10 sat_fat 0.60 cholesterol 0.21 sodium 0.16 dtype: float64 .\n",
    "{0,}0.00 total_fat 0.00 sat_fat 0.64 cholesterol 0.07 sodium 0.00 dtype: float64"
   ]
  },
  {
   "cell_type": "code",
   "execution_count": 30,
   "metadata": {},
   "outputs": [
    {
     "name": "stdout",
     "output_type": "stream",
     "text": [
      "Enter the first submission:\n",
      "COMP101 is an interesting subject and it has been easy\n",
      "Enter the second submission:\n",
      "COMP101 and COMP301 have always been interesting and easy\n",
      "The similarity score between the two is: 38.46%\n"
     ]
    }
   ],
   "source": [
    "print('Enter the first submission:')\n",
    "x = input()\n",
    "print('Enter the second submission:')\n",
    "y = input()\n",
    "my_x_dict={}\n",
    "my_y_dict={}\n",
    "for i in x.split(' '):\n",
    "    if i in my_x_dict:\n",
    "        my_x_dict[i] = my_x_dict[i] + 1\n",
    "    else:\n",
    "        my_x_dict[i] = 1\n",
    "    \n",
    "for i in y.split(' '):\n",
    "    if i in my_y_dict:\n",
    "        my_y_dict[i] = my_y_dict[i] + 1\n",
    "    else:\n",
    "        my_y_dict[i] = 1\n",
    "\n",
    "unique_word = []\n",
    "common_word = []\n",
    "\n",
    "unique_word = [i.lower() for i in my_x_dict.keys()]\n",
    "\n",
    "for i in my_y_dict.keys():\n",
    "    if i.lower() not in unique_word:\n",
    "        unique_word.append(i.lower())\n",
    "    else:\n",
    "        common_word.append(i.lower())\n",
    "similarity_score = len(common_word)/len(unique_word)\n",
    "print('The similarity score between the two is: {}%'.format(round(similarity_score*100,2)))"
   ]
  },
  {
   "cell_type": "code",
   "execution_count": null,
   "metadata": {},
   "outputs": [],
   "source": []
  }
 ],
 "metadata": {
  "kernelspec": {
   "display_name": "Python 3",
   "language": "python",
   "name": "python3"
  },
  "language_info": {
   "codemirror_mode": {
    "name": "ipython",
    "version": 3
   },
   "file_extension": ".py",
   "mimetype": "text/x-python",
   "name": "python",
   "nbconvert_exporter": "python",
   "pygments_lexer": "ipython3",
   "version": "3.8.5"
  }
 },
 "nbformat": 4,
 "nbformat_minor": 4
}
