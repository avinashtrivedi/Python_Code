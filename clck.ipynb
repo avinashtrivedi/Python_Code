{
 "cells": [
  {
   "cell_type": "markdown",
   "metadata": {},
   "source": [
    "# Part 1"
   ]
  },
  {
   "cell_type": "markdown",
   "metadata": {},
   "source": [
    "# 1"
   ]
  },
  {
   "cell_type": "code",
   "execution_count": 1,
   "metadata": {},
   "outputs": [],
   "source": [
    "import date"
   ]
  },
  {
   "cell_type": "code",
   "execution_count": 2,
   "metadata": {},
   "outputs": [
    {
     "name": "stdout",
     "output_type": "stream",
     "text": [
      "Help on module date:\n",
      "\n",
      "NAME\n",
      "    date\n",
      "\n",
      "DESCRIPTION\n",
      "    ###########################################################################\n",
      "    ## Class Date\n",
      "    ###########################################################################\n",
      "\n",
      "CLASSES\n",
      "    builtins.object\n",
      "        Date\n",
      "    \n",
      "    class Date(builtins.object)\n",
      "     |  Date(month=0, day=0, year=0)\n",
      "     |  \n",
      "     |  Methods defined here:\n",
      "     |  \n",
      "     |  __init__(self, month=0, day=0, year=0)\n",
      "     |      Construct a Date using three integers.\n",
      "     |  \n",
      "     |  __repr__(self)\n",
      "     |      Return a string as the formal representation a Date.\n",
      "     |  \n",
      "     |  __str__(self)\n",
      "     |      Return a string (mm/dd/yyyy) to represent a Date.\n",
      "     |  \n",
      "     |  from_iso(self, iso_str)\n",
      "     |      Convert a string (yyyy-mm-dd) into a Date.\n",
      "     |  \n",
      "     |  from_mdy(self, mdy_str)\n",
      "     |      Convert a string (Mmmmm dd, yyyy) into a Date.\n",
      "     |  \n",
      "     |  is_valid(self)\n",
      "     |      Return Boolean flag (valid date?)\n",
      "     |  \n",
      "     |  to_iso(self)\n",
      "     |      Return a string (yyyy-mm-dd) to represent a Date.\n",
      "     |  \n",
      "     |  to_mdy(self)\n",
      "     |      Return a string (Mmmmm dd, yyyy) to represent a Date.\n",
      "     |  \n",
      "     |  ----------------------------------------------------------------------\n",
      "     |  Data descriptors defined here:\n",
      "     |  \n",
      "     |  __dict__\n",
      "     |      dictionary for instance variables (if defined)\n",
      "     |  \n",
      "     |  __weakref__\n",
      "     |      list of weak references to the object (if defined)\n",
      "\n",
      "FILE\n",
      "    c:\\users\\avitr\\onedrive\\documents\\python scripts\\chegg\\date.py\n",
      "\n",
      "\n"
     ]
    }
   ],
   "source": [
    "help( date )"
   ]
  },
  {
   "cell_type": "code",
   "execution_count": 3,
   "metadata": {},
   "outputs": [
    {
     "name": "stdout",
     "output_type": "stream",
     "text": [
      "Help on class Date in module date:\n",
      "\n",
      "class Date(builtins.object)\n",
      " |  Date(month=0, day=0, year=0)\n",
      " |  \n",
      " |  Methods defined here:\n",
      " |  \n",
      " |  __init__(self, month=0, day=0, year=0)\n",
      " |      Construct a Date using three integers.\n",
      " |  \n",
      " |  __repr__(self)\n",
      " |      Return a string as the formal representation a Date.\n",
      " |  \n",
      " |  __str__(self)\n",
      " |      Return a string (mm/dd/yyyy) to represent a Date.\n",
      " |  \n",
      " |  from_iso(self, iso_str)\n",
      " |      Convert a string (yyyy-mm-dd) into a Date.\n",
      " |  \n",
      " |  from_mdy(self, mdy_str)\n",
      " |      Convert a string (Mmmmm dd, yyyy) into a Date.\n",
      " |  \n",
      " |  is_valid(self)\n",
      " |      Return Boolean flag (valid date?)\n",
      " |  \n",
      " |  to_iso(self)\n",
      " |      Return a string (yyyy-mm-dd) to represent a Date.\n",
      " |  \n",
      " |  to_mdy(self)\n",
      " |      Return a string (Mmmmm dd, yyyy) to represent a Date.\n",
      " |  \n",
      " |  ----------------------------------------------------------------------\n",
      " |  Data descriptors defined here:\n",
      " |  \n",
      " |  __dict__\n",
      " |      dictionary for instance variables (if defined)\n",
      " |  \n",
      " |  __weakref__\n",
      " |      list of weak references to the object (if defined)\n",
      "\n"
     ]
    }
   ],
   "source": [
    "help( date.Date )"
   ]
  },
  {
   "cell_type": "code",
   "execution_count": 4,
   "metadata": {},
   "outputs": [],
   "source": [
    "x = date.Date()"
   ]
  },
  {
   "cell_type": "code",
   "execution_count": 5,
   "metadata": {},
   "outputs": [
    {
     "data": {
      "text/plain": [
       "Class Date: 00/00/0000"
      ]
     },
     "execution_count": 5,
     "metadata": {},
     "output_type": "execute_result"
    }
   ],
   "source": [
    "x"
   ]
  },
  {
   "cell_type": "code",
   "execution_count": 6,
   "metadata": {},
   "outputs": [
    {
     "name": "stdout",
     "output_type": "stream",
     "text": [
      "00/00/0000\n"
     ]
    }
   ],
   "source": [
    "print( x )"
   ]
  },
  {
   "cell_type": "markdown",
   "metadata": {},
   "source": [
    "# 2"
   ]
  },
  {
   "cell_type": "code",
   "execution_count": 7,
   "metadata": {},
   "outputs": [],
   "source": [
    "import date"
   ]
  },
  {
   "cell_type": "code",
   "execution_count": 8,
   "metadata": {},
   "outputs": [
    {
     "name": "stdout",
     "output_type": "stream",
     "text": [
      "01/01/2014\n",
      "2014-01-01\n",
      "January 1, 2014\n",
      "True\n",
      "\n"
     ]
    }
   ],
   "source": [
    "A = date.Date( 1, 1, 2014 )\n",
    "print( A )\n",
    "print( A.to_iso() )\n",
    "print( A.to_mdy() )\n",
    "print( A.is_valid() )\n",
    "print()"
   ]
  },
  {
   "cell_type": "code",
   "execution_count": 9,
   "metadata": {},
   "outputs": [
    {
     "name": "stdout",
     "output_type": "stream",
     "text": [
      "12/31/2014\n",
      "2014-12-31\n",
      "December 31, 2014\n",
      "True\n",
      "\n"
     ]
    }
   ],
   "source": [
    "B = date.Date( 12, 31, 2014 )\n",
    "print( B )\n",
    "print( B.to_iso() )\n",
    "print( B.to_mdy() )\n",
    "print( B.is_valid() )\n",
    "print()"
   ]
  },
  {
   "cell_type": "code",
   "execution_count": 10,
   "metadata": {},
   "outputs": [
    {
     "name": "stdout",
     "output_type": "stream",
     "text": [
      "07/04/2014\n",
      "2014-07-04\n",
      "July 4, 2014\n",
      "True\n",
      "\n"
     ]
    }
   ],
   "source": [
    "C = date.Date()\n",
    "C.from_iso( \"2014-07-04\" )\n",
    "print( C )\n",
    "print( C.to_iso() )\n",
    "print( C.to_mdy() )\n",
    "print( C.is_valid() )\n",
    "print()"
   ]
  },
  {
   "cell_type": "code",
   "execution_count": 11,
   "metadata": {},
   "outputs": [
    {
     "name": "stdout",
     "output_type": "stream",
     "text": [
      "03/15/2015\n",
      "2015-03-15\n",
      "March 15, 2015\n",
      "True\n",
      "\n"
     ]
    }
   ],
   "source": [
    "D = date.Date()\n",
    "D.from_mdy( \"March 15, 2015\" )\n",
    "print( D )\n",
    "print( D.to_iso() )\n",
    "print( D.to_mdy() )\n",
    "print( D.is_valid() )\n",
    "print()"
   ]
  },
  {
   "cell_type": "code",
   "execution_count": 12,
   "metadata": {},
   "outputs": [
    {
     "name": "stdout",
     "output_type": "stream",
     "text": [
      "00/00/0000\n",
      "0000-00-00\n",
      "Invalid 0, 0000\n",
      "False\n",
      "\n"
     ]
    }
   ],
   "source": [
    "E = date.Date()\n",
    "print( E )\n",
    "print( E.to_iso() )\n",
    "print( E.to_mdy() )\n",
    "print( E.is_valid() )\n",
    "print()"
   ]
  },
  {
   "cell_type": "markdown",
   "metadata": {},
   "source": [
    "# 3"
   ]
  },
  {
   "cell_type": "code",
   "execution_count": 13,
   "metadata": {},
   "outputs": [
    {
     "name": "stdout",
     "output_type": "stream",
     "text": [
      "13/40/2017\n"
     ]
    }
   ],
   "source": [
    "F = date.Date(13,40,2017) # it is not giving error/ warning \n",
    "print( F )"
   ]
  },
  {
   "cell_type": "markdown",
   "metadata": {},
   "source": [
    "# 4"
   ]
  },
  {
   "cell_type": "code",
   "execution_count": 14,
   "metadata": {},
   "outputs": [],
   "source": [
    "G = date.Date(13,40,2017)\n",
    "G.from_iso(' 2017 - 11 - 25 ') # proving extra spaces, giving No error"
   ]
  },
  {
   "cell_type": "code",
   "execution_count": 15,
   "metadata": {},
   "outputs": [
    {
     "ename": "ValueError",
     "evalue": "invalid literal for int() with base 10: ' '",
     "output_type": "error",
     "traceback": [
      "\u001b[1;31m---------------------------------------------------------------------------\u001b[0m",
      "\u001b[1;31mValueError\u001b[0m                                Traceback (most recent call last)",
      "\u001b[1;32m<ipython-input-15-4d42cae92f8d>\u001b[0m in \u001b[0;36m<module>\u001b[1;34m\u001b[0m\n\u001b[0;32m      1\u001b[0m \u001b[1;31m# providing string containing only spaces\u001b[0m\u001b[1;33m\u001b[0m\u001b[1;33m\u001b[0m\u001b[1;33m\u001b[0m\u001b[0m\n\u001b[0;32m      2\u001b[0m \u001b[1;31m# Now it is giving error, because it is trying to convert space into integer\u001b[0m\u001b[1;33m\u001b[0m\u001b[1;33m\u001b[0m\u001b[1;33m\u001b[0m\u001b[0m\n\u001b[1;32m----> 3\u001b[1;33m \u001b[0mG\u001b[0m\u001b[1;33m.\u001b[0m\u001b[0mfrom_iso\u001b[0m\u001b[1;33m(\u001b[0m\u001b[1;34m' '\u001b[0m\u001b[1;33m)\u001b[0m\u001b[1;33m\u001b[0m\u001b[1;33m\u001b[0m\u001b[0m\n\u001b[0m",
      "\u001b[1;32m~\\OneDrive\\Documents\\Python Scripts\\Chegg\\date.py\u001b[0m in \u001b[0;36mfrom_iso\u001b[1;34m(self, iso_str)\u001b[0m\n\u001b[0;32m     64\u001b[0m         \u001b[1;34m\"\"\" Convert a string (yyyy-mm-dd) into a Date. \"\"\"\u001b[0m\u001b[1;33m\u001b[0m\u001b[1;33m\u001b[0m\u001b[0m\n\u001b[0;32m     65\u001b[0m \u001b[1;33m\u001b[0m\u001b[0m\n\u001b[1;32m---> 66\u001b[1;33m         \u001b[0myear\u001b[0m\u001b[1;33m,\u001b[0m \u001b[0mmonth\u001b[0m\u001b[1;33m,\u001b[0m \u001b[0mday\u001b[0m \u001b[1;33m=\u001b[0m \u001b[1;33m[\u001b[0m \u001b[0mint\u001b[0m\u001b[1;33m(\u001b[0m \u001b[0mn\u001b[0m \u001b[1;33m)\u001b[0m \u001b[1;32mfor\u001b[0m \u001b[0mn\u001b[0m \u001b[1;32min\u001b[0m \u001b[0miso_str\u001b[0m\u001b[1;33m.\u001b[0m\u001b[0msplit\u001b[0m\u001b[1;33m(\u001b[0m \u001b[1;34m'-'\u001b[0m \u001b[1;33m)\u001b[0m\u001b[1;33m]\u001b[0m\u001b[1;33m\u001b[0m\u001b[1;33m\u001b[0m\u001b[0m\n\u001b[0m\u001b[0;32m     67\u001b[0m \u001b[1;33m\u001b[0m\u001b[0m\n\u001b[0;32m     68\u001b[0m         \u001b[0mself\u001b[0m\u001b[1;33m.\u001b[0m\u001b[0m__month\u001b[0m \u001b[1;33m=\u001b[0m \u001b[0mmonth\u001b[0m\u001b[1;33m\u001b[0m\u001b[1;33m\u001b[0m\u001b[0m\n",
      "\u001b[1;32m~\\OneDrive\\Documents\\Python Scripts\\Chegg\\date.py\u001b[0m in \u001b[0;36m<listcomp>\u001b[1;34m(.0)\u001b[0m\n\u001b[0;32m     64\u001b[0m         \u001b[1;34m\"\"\" Convert a string (yyyy-mm-dd) into a Date. \"\"\"\u001b[0m\u001b[1;33m\u001b[0m\u001b[1;33m\u001b[0m\u001b[0m\n\u001b[0;32m     65\u001b[0m \u001b[1;33m\u001b[0m\u001b[0m\n\u001b[1;32m---> 66\u001b[1;33m         \u001b[0myear\u001b[0m\u001b[1;33m,\u001b[0m \u001b[0mmonth\u001b[0m\u001b[1;33m,\u001b[0m \u001b[0mday\u001b[0m \u001b[1;33m=\u001b[0m \u001b[1;33m[\u001b[0m \u001b[0mint\u001b[0m\u001b[1;33m(\u001b[0m \u001b[0mn\u001b[0m \u001b[1;33m)\u001b[0m \u001b[1;32mfor\u001b[0m \u001b[0mn\u001b[0m \u001b[1;32min\u001b[0m \u001b[0miso_str\u001b[0m\u001b[1;33m.\u001b[0m\u001b[0msplit\u001b[0m\u001b[1;33m(\u001b[0m \u001b[1;34m'-'\u001b[0m \u001b[1;33m)\u001b[0m\u001b[1;33m]\u001b[0m\u001b[1;33m\u001b[0m\u001b[1;33m\u001b[0m\u001b[0m\n\u001b[0m\u001b[0;32m     67\u001b[0m \u001b[1;33m\u001b[0m\u001b[0m\n\u001b[0;32m     68\u001b[0m         \u001b[0mself\u001b[0m\u001b[1;33m.\u001b[0m\u001b[0m__month\u001b[0m \u001b[1;33m=\u001b[0m \u001b[0mmonth\u001b[0m\u001b[1;33m\u001b[0m\u001b[1;33m\u001b[0m\u001b[0m\n",
      "\u001b[1;31mValueError\u001b[0m: invalid literal for int() with base 10: ' '"
     ]
    }
   ],
   "source": [
    "# providing string containing only spaces\n",
    "# Now it is giving error, because it is trying to convert space into integer\n",
    "G.from_iso(' ') "
   ]
  },
  {
   "cell_type": "code",
   "execution_count": 16,
   "metadata": {},
   "outputs": [],
   "source": [
    "G.from_mdy(' March 15 , 2015 ') # providing extra spaces ,Giving No error"
   ]
  },
  {
   "cell_type": "code",
   "execution_count": 17,
   "metadata": {},
   "outputs": [
    {
     "ename": "IndexError",
     "evalue": "list index out of range",
     "output_type": "error",
     "traceback": [
      "\u001b[1;31m---------------------------------------------------------------------------\u001b[0m",
      "\u001b[1;31mIndexError\u001b[0m                                Traceback (most recent call last)",
      "\u001b[1;32m<ipython-input-17-647412fda70c>\u001b[0m in \u001b[0;36m<module>\u001b[1;34m\u001b[0m\n\u001b[0;32m      1\u001b[0m \u001b[1;31m# string containing only spaces, It will give error,because\u001b[0m\u001b[1;33m\u001b[0m\u001b[1;33m\u001b[0m\u001b[1;33m\u001b[0m\u001b[0m\n\u001b[0;32m      2\u001b[0m \u001b[1;31m# it is trying to access 0th element of a list,although it contains nothing\u001b[0m\u001b[1;33m\u001b[0m\u001b[1;33m\u001b[0m\u001b[1;33m\u001b[0m\u001b[0m\n\u001b[1;32m----> 3\u001b[1;33m \u001b[0mG\u001b[0m\u001b[1;33m.\u001b[0m\u001b[0mfrom_mdy\u001b[0m\u001b[1;33m(\u001b[0m\u001b[1;34m'  '\u001b[0m\u001b[1;33m)\u001b[0m\u001b[1;33m\u001b[0m\u001b[1;33m\u001b[0m\u001b[0m\n\u001b[0m",
      "\u001b[1;32m~\\OneDrive\\Documents\\Python Scripts\\Chegg\\date.py\u001b[0m in \u001b[0;36mfrom_mdy\u001b[1;34m(self, mdy_str)\u001b[0m\n\u001b[0;32m     78\u001b[0m         \u001b[0mmdy_list\u001b[0m \u001b[1;33m=\u001b[0m \u001b[0mmdy_str\u001b[0m\u001b[1;33m.\u001b[0m\u001b[0mreplace\u001b[0m\u001b[1;33m(\u001b[0m\u001b[1;34m\",\"\u001b[0m\u001b[1;33m,\u001b[0m\u001b[1;34m\"\"\u001b[0m\u001b[1;33m)\u001b[0m\u001b[1;33m.\u001b[0m\u001b[0msplit\u001b[0m\u001b[1;33m(\u001b[0m\u001b[1;33m)\u001b[0m\u001b[1;33m\u001b[0m\u001b[1;33m\u001b[0m\u001b[0m\n\u001b[0;32m     79\u001b[0m \u001b[1;33m\u001b[0m\u001b[0m\n\u001b[1;32m---> 80\u001b[1;33m         \u001b[0mself\u001b[0m\u001b[1;33m.\u001b[0m\u001b[0m__month\u001b[0m \u001b[1;33m=\u001b[0m \u001b[0mDate\u001b[0m\u001b[1;33m.\u001b[0m\u001b[0m__name\u001b[0m\u001b[1;33m.\u001b[0m\u001b[0mindex\u001b[0m\u001b[1;33m(\u001b[0m \u001b[0mmdy_list\u001b[0m\u001b[1;33m[\u001b[0m\u001b[1;36m0\u001b[0m\u001b[1;33m]\u001b[0m \u001b[1;33m)\u001b[0m\u001b[1;33m\u001b[0m\u001b[1;33m\u001b[0m\u001b[0m\n\u001b[0m\u001b[0;32m     81\u001b[0m         \u001b[0mself\u001b[0m\u001b[1;33m.\u001b[0m\u001b[0m__day\u001b[0m   \u001b[1;33m=\u001b[0m \u001b[0mint\u001b[0m\u001b[1;33m(\u001b[0m \u001b[0mmdy_list\u001b[0m\u001b[1;33m[\u001b[0m\u001b[1;36m1\u001b[0m\u001b[1;33m]\u001b[0m\u001b[1;33m.\u001b[0m\u001b[0mstrip\u001b[0m\u001b[1;33m(\u001b[0m\u001b[1;33m)\u001b[0m \u001b[1;33m)\u001b[0m\u001b[1;33m\u001b[0m\u001b[1;33m\u001b[0m\u001b[0m\n\u001b[0;32m     82\u001b[0m         \u001b[0mself\u001b[0m\u001b[1;33m.\u001b[0m\u001b[0m__year\u001b[0m  \u001b[1;33m=\u001b[0m \u001b[0mint\u001b[0m\u001b[1;33m(\u001b[0m \u001b[0mmdy_list\u001b[0m\u001b[1;33m[\u001b[0m\u001b[1;36m2\u001b[0m\u001b[1;33m]\u001b[0m\u001b[1;33m.\u001b[0m\u001b[0mstrip\u001b[0m\u001b[1;33m(\u001b[0m\u001b[1;33m)\u001b[0m \u001b[1;33m)\u001b[0m\u001b[1;33m\u001b[0m\u001b[1;33m\u001b[0m\u001b[0m\n",
      "\u001b[1;31mIndexError\u001b[0m: list index out of range"
     ]
    }
   ],
   "source": [
    "# string containing only spaces, It will give error,because \n",
    "# it is trying to access 0th element of a list,although it contains nothing\n",
    "G.from_mdy('  ') "
   ]
  },
  {
   "cell_type": "markdown",
   "metadata": {},
   "source": [
    "# 5"
   ]
  },
  {
   "cell_type": "code",
   "execution_count": 18,
   "metadata": {},
   "outputs": [],
   "source": [
    "G.from_iso('2017-17-45') # giving no error"
   ]
  },
  {
   "cell_type": "code",
   "execution_count": 19,
   "metadata": {},
   "outputs": [
    {
     "name": "stdout",
     "output_type": "stream",
     "text": [
      "17/45/2017\n"
     ]
    }
   ],
   "source": [
    "print(G)"
   ]
  },
  {
   "cell_type": "code",
   "execution_count": 20,
   "metadata": {},
   "outputs": [
    {
     "ename": "ValueError",
     "evalue": "'ABC' is not in list",
     "output_type": "error",
     "traceback": [
      "\u001b[1;31m---------------------------------------------------------------------------\u001b[0m",
      "\u001b[1;31mValueError\u001b[0m                                Traceback (most recent call last)",
      "\u001b[1;32m<ipython-input-20-606db514774f>\u001b[0m in \u001b[0;36m<module>\u001b[1;34m\u001b[0m\n\u001b[1;32m----> 1\u001b[1;33m \u001b[0mG\u001b[0m\u001b[1;33m.\u001b[0m\u001b[0mfrom_mdy\u001b[0m\u001b[1;33m(\u001b[0m\u001b[1;34m'ABC 15, 2015'\u001b[0m\u001b[1;33m)\u001b[0m \u001b[1;31m# error, As there is no month called ABC\u001b[0m\u001b[1;33m\u001b[0m\u001b[1;33m\u001b[0m\u001b[0m\n\u001b[0m",
      "\u001b[1;32m~\\OneDrive\\Documents\\Python Scripts\\Chegg\\date.py\u001b[0m in \u001b[0;36mfrom_mdy\u001b[1;34m(self, mdy_str)\u001b[0m\n\u001b[0;32m     78\u001b[0m         \u001b[0mmdy_list\u001b[0m \u001b[1;33m=\u001b[0m \u001b[0mmdy_str\u001b[0m\u001b[1;33m.\u001b[0m\u001b[0mreplace\u001b[0m\u001b[1;33m(\u001b[0m\u001b[1;34m\",\"\u001b[0m\u001b[1;33m,\u001b[0m\u001b[1;34m\"\"\u001b[0m\u001b[1;33m)\u001b[0m\u001b[1;33m.\u001b[0m\u001b[0msplit\u001b[0m\u001b[1;33m(\u001b[0m\u001b[1;33m)\u001b[0m\u001b[1;33m\u001b[0m\u001b[1;33m\u001b[0m\u001b[0m\n\u001b[0;32m     79\u001b[0m \u001b[1;33m\u001b[0m\u001b[0m\n\u001b[1;32m---> 80\u001b[1;33m         \u001b[0mself\u001b[0m\u001b[1;33m.\u001b[0m\u001b[0m__month\u001b[0m \u001b[1;33m=\u001b[0m \u001b[0mDate\u001b[0m\u001b[1;33m.\u001b[0m\u001b[0m__name\u001b[0m\u001b[1;33m.\u001b[0m\u001b[0mindex\u001b[0m\u001b[1;33m(\u001b[0m \u001b[0mmdy_list\u001b[0m\u001b[1;33m[\u001b[0m\u001b[1;36m0\u001b[0m\u001b[1;33m]\u001b[0m \u001b[1;33m)\u001b[0m\u001b[1;33m\u001b[0m\u001b[1;33m\u001b[0m\u001b[0m\n\u001b[0m\u001b[0;32m     81\u001b[0m         \u001b[0mself\u001b[0m\u001b[1;33m.\u001b[0m\u001b[0m__day\u001b[0m   \u001b[1;33m=\u001b[0m \u001b[0mint\u001b[0m\u001b[1;33m(\u001b[0m \u001b[0mmdy_list\u001b[0m\u001b[1;33m[\u001b[0m\u001b[1;36m1\u001b[0m\u001b[1;33m]\u001b[0m\u001b[1;33m.\u001b[0m\u001b[0mstrip\u001b[0m\u001b[1;33m(\u001b[0m\u001b[1;33m)\u001b[0m \u001b[1;33m)\u001b[0m\u001b[1;33m\u001b[0m\u001b[1;33m\u001b[0m\u001b[0m\n\u001b[0;32m     82\u001b[0m         \u001b[0mself\u001b[0m\u001b[1;33m.\u001b[0m\u001b[0m__year\u001b[0m  \u001b[1;33m=\u001b[0m \u001b[0mint\u001b[0m\u001b[1;33m(\u001b[0m \u001b[0mmdy_list\u001b[0m\u001b[1;33m[\u001b[0m\u001b[1;36m2\u001b[0m\u001b[1;33m]\u001b[0m\u001b[1;33m.\u001b[0m\u001b[0mstrip\u001b[0m\u001b[1;33m(\u001b[0m\u001b[1;33m)\u001b[0m \u001b[1;33m)\u001b[0m\u001b[1;33m\u001b[0m\u001b[1;33m\u001b[0m\u001b[0m\n",
      "\u001b[1;31mValueError\u001b[0m: 'ABC' is not in list"
     ]
    }
   ],
   "source": [
    "G.from_mdy('ABC 15, 2015') # error, As there is no month called ABC"
   ]
  },
  {
   "cell_type": "code",
   "execution_count": 21,
   "metadata": {},
   "outputs": [],
   "source": [
    "G.from_mdy('March 45, 2015') # but for 45 , there is no error"
   ]
  },
  {
   "cell_type": "code",
   "execution_count": 22,
   "metadata": {},
   "outputs": [
    {
     "name": "stdout",
     "output_type": "stream",
     "text": [
      "03/45/2015\n"
     ]
    }
   ],
   "source": [
    "print(G)"
   ]
  },
  {
   "cell_type": "markdown",
   "metadata": {},
   "source": [
    "# Part 2"
   ]
  },
  {
   "cell_type": "markdown",
   "metadata": {},
   "source": [
    "# Save this as clock.py in current working directory"
   ]
  },
  {
   "cell_type": "code",
   "execution_count": 23,
   "metadata": {},
   "outputs": [],
   "source": [
    "class Time (object):\n",
    "    \n",
    "    def __init__( self, hour=0, mins=0, secs=0 ):\n",
    "        \n",
    "        \"\"\" Construct a Time using hour,mins and secs. \"\"\"\n",
    "            \n",
    "        self.__hour = hour\n",
    "        self.__mins   = mins\n",
    "        self.__secs  = secs\n",
    "        \n",
    "    def __repr__( self ):\n",
    "\n",
    "        \"\"\" Return a string as the formal representation of Time in the form Class Time: hh:mm:ss. \"\"\"\n",
    "\n",
    "        out_str = \"Class Time: {:02d}:{:02d}:{:02d}\" \\\n",
    "            .format( self.__hour, self.__mins, self.__secs )\n",
    "\n",
    "        return out_str\n",
    "    \n",
    "    def __str__( self ):\n",
    "\n",
    "        \"\"\" Return a string (hh:mm:ss) to represent a Time. \"\"\"\n",
    "\n",
    "        out_str = \"{:02d}:{:02d}:{:02d}\" \\\n",
    "            .format( self.__hour, self.__mins, self.__secs )\n",
    "\n",
    "        return out_str\n",
    "    def from_str(self,time_str):\n",
    "\n",
    "        \"\"\" \n",
    "        Update a time object by fetching hour ,mins and secs from\n",
    "        \n",
    "        string time_str which contains time in the form hh:mm:ss. \n",
    "        \n",
    "        \"\"\"\n",
    "\n",
    "        hour, mins, secs = [ int( n ) for n in time_str.split( ':' )]\n",
    "        \n",
    "        self.__hour = hour\n",
    "        self.__mins   = mins\n",
    "        self.__secs  = secs"
   ]
  },
  {
   "cell_type": "code",
   "execution_count": 24,
   "metadata": {},
   "outputs": [],
   "source": [
    "import clock"
   ]
  },
  {
   "cell_type": "code",
   "execution_count": 25,
   "metadata": {},
   "outputs": [
    {
     "name": "stdout",
     "output_type": "stream",
     "text": [
      "Help on module clock:\n",
      "\n",
      "NAME\n",
      "    clock\n",
      "\n",
      "CLASSES\n",
      "    builtins.object\n",
      "        Time\n",
      "    \n",
      "    class Time(builtins.object)\n",
      "     |  Time(hour=0, mins=0, secs=0)\n",
      "     |  \n",
      "     |  Methods defined here:\n",
      "     |  \n",
      "     |  __init__(self, hour=0, mins=0, secs=0)\n",
      "     |      Construct a Time using hour,mins and secs.\n",
      "     |  \n",
      "     |  __repr__(self)\n",
      "     |      Return a string as the formal representation of Time in the form Class Time: hh:mm:ss.\n",
      "     |  \n",
      "     |  __str__(self)\n",
      "     |      Return a string (hh:mm:ss) to represent a Time.\n",
      "     |  \n",
      "     |  from_str(self, time_str)\n",
      "     |      Update a time object by fetching hour ,mins and secs from\n",
      "     |      \n",
      "     |      string time_str which contains time in the form hh:mm:ss.\n",
      "     |  \n",
      "     |  ----------------------------------------------------------------------\n",
      "     |  Data descriptors defined here:\n",
      "     |  \n",
      "     |  __dict__\n",
      "     |      dictionary for instance variables (if defined)\n",
      "     |  \n",
      "     |  __weakref__\n",
      "     |      list of weak references to the object (if defined)\n",
      "\n",
      "FILE\n",
      "    c:\\users\\avitr\\onedrive\\documents\\python scripts\\chegg\\clock.py\n",
      "\n",
      "\n"
     ]
    }
   ],
   "source": [
    "help( clock )"
   ]
  },
  {
   "cell_type": "code",
   "execution_count": 26,
   "metadata": {},
   "outputs": [
    {
     "name": "stdout",
     "output_type": "stream",
     "text": [
      "Help on class Time in module clock:\n",
      "\n",
      "class Time(builtins.object)\n",
      " |  Time(hour=0, mins=0, secs=0)\n",
      " |  \n",
      " |  Methods defined here:\n",
      " |  \n",
      " |  __init__(self, hour=0, mins=0, secs=0)\n",
      " |      Construct a Time using hour,mins and secs.\n",
      " |  \n",
      " |  __repr__(self)\n",
      " |      Return a string as the formal representation of Time in the form Class Time: hh:mm:ss.\n",
      " |  \n",
      " |  __str__(self)\n",
      " |      Return a string (hh:mm:ss) to represent a Time.\n",
      " |  \n",
      " |  from_str(self, time_str)\n",
      " |      Update a time object by fetching hour ,mins and secs from\n",
      " |      \n",
      " |      string time_str which contains time in the form hh:mm:ss.\n",
      " |  \n",
      " |  ----------------------------------------------------------------------\n",
      " |  Data descriptors defined here:\n",
      " |  \n",
      " |  __dict__\n",
      " |      dictionary for instance variables (if defined)\n",
      " |  \n",
      " |  __weakref__\n",
      " |      list of weak references to the object (if defined)\n",
      "\n"
     ]
    }
   ],
   "source": [
    "help( clock.Time )"
   ]
  },
  {
   "cell_type": "code",
   "execution_count": 27,
   "metadata": {},
   "outputs": [],
   "source": [
    "A = clock.Time()"
   ]
  },
  {
   "cell_type": "code",
   "execution_count": 28,
   "metadata": {},
   "outputs": [
    {
     "data": {
      "text/plain": [
       "Class Time: 00:00:00"
      ]
     },
     "execution_count": 28,
     "metadata": {},
     "output_type": "execute_result"
    }
   ],
   "source": [
    "A"
   ]
  },
  {
   "cell_type": "code",
   "execution_count": 29,
   "metadata": {},
   "outputs": [
    {
     "name": "stdout",
     "output_type": "stream",
     "text": [
      "00:00:00\n"
     ]
    }
   ],
   "source": [
    "print( A )"
   ]
  },
  {
   "cell_type": "code",
   "execution_count": 30,
   "metadata": {},
   "outputs": [],
   "source": [
    "B = clock.Time(7,12,3)"
   ]
  },
  {
   "cell_type": "code",
   "execution_count": 31,
   "metadata": {},
   "outputs": [
    {
     "data": {
      "text/plain": [
       "Class Time: 07:12:03"
      ]
     },
     "execution_count": 31,
     "metadata": {},
     "output_type": "execute_result"
    }
   ],
   "source": [
    "B"
   ]
  },
  {
   "cell_type": "code",
   "execution_count": 32,
   "metadata": {},
   "outputs": [],
   "source": [
    "B = clock.Time(7,12,3)"
   ]
  },
  {
   "cell_type": "code",
   "execution_count": 33,
   "metadata": {},
   "outputs": [
    {
     "name": "stdout",
     "output_type": "stream",
     "text": [
      "07:12:03\n"
     ]
    }
   ],
   "source": [
    "print( B )"
   ]
  },
  {
   "cell_type": "code",
   "execution_count": 34,
   "metadata": {},
   "outputs": [
    {
     "name": "stdout",
     "output_type": "stream",
     "text": [
      "00:00:00\n"
     ]
    }
   ],
   "source": [
    "import clock\n",
    "A = clock.Time()\n",
    "print( A )"
   ]
  },
  {
   "cell_type": "code",
   "execution_count": 35,
   "metadata": {},
   "outputs": [
    {
     "name": "stdout",
     "output_type": "stream",
     "text": [
      "07:12:03\n"
     ]
    }
   ],
   "source": [
    "A.from_str('07:12:03')\n",
    "print( A )"
   ]
  },
  {
   "cell_type": "code",
   "execution_count": 36,
   "metadata": {},
   "outputs": [
    {
     "data": {
      "text/plain": [
       "Class Time: 07:12:03"
      ]
     },
     "execution_count": 36,
     "metadata": {},
     "output_type": "execute_result"
    }
   ],
   "source": [
    "A"
   ]
  },
  {
   "cell_type": "markdown",
   "metadata": {},
   "source": [
    "# Test using clockDemo.py"
   ]
  },
  {
   "cell_type": "code",
   "execution_count": 37,
   "metadata": {},
   "outputs": [
    {
     "name": "stdout",
     "output_type": "stream",
     "text": [
      "12:25:30\n",
      "Class Time: 12:25:30\n",
      "12:25:30\n",
      "\n",
      "02:25:03\n",
      "Class Time: 02:25:03\n",
      "02:25:03\n",
      "\n",
      "02:25:00\n",
      "Class Time: 02:25:00\n",
      "02:25:00\n",
      "\n",
      "00:00:00\n",
      "Class Time: 00:00:00\n",
      "00:00:00\n",
      "\n",
      "03:09:19\n",
      "Class Time: 03:09:19\n",
      "03:09:19\n"
     ]
    }
   ],
   "source": [
    "import clock\n",
    "\n",
    "A = clock.Time( 12, 25, 30 )\n",
    "\n",
    "print( A )\n",
    "print( repr( A ) )\n",
    "print( str( A ) )\n",
    "print()\n",
    "\n",
    "B = clock.Time( 2, 25, 3 )\n",
    "\n",
    "print( B )\n",
    "print( repr( B ) )\n",
    "print( str( B ) )\n",
    "print()\n",
    "\n",
    "C = clock.Time( 2, 25 )\n",
    "\n",
    "print( C )\n",
    "print( repr( C ) )\n",
    "print( str( C ) )\n",
    "print()\n",
    "\n",
    "D = clock.Time()\n",
    "\n",
    "print( D )\n",
    "print( repr( D ) )\n",
    "print( str( D ) )\n",
    "print()\n",
    "\n",
    "D.from_str( \"03:09:19\" )\n",
    "\n",
    "print( D )\n",
    "print( repr( D ) )\n",
    "print( str( D ) )\n"
   ]
  },
  {
   "cell_type": "markdown",
   "metadata": {},
   "source": [
    "# lab11b.py :  save the below code as lab11b.py"
   ]
  },
  {
   "cell_type": "code",
   "execution_count": 38,
   "metadata": {},
   "outputs": [
    {
     "name": "stdout",
     "output_type": "stream",
     "text": [
      "12:25:30\n",
      "Class Time: 12:25:30\n",
      "12:25:30\n",
      "\n",
      "02:25:03\n",
      "Class Time: 02:25:03\n",
      "02:25:03\n",
      "\n",
      "02:25:00\n",
      "Class Time: 02:25:00\n",
      "02:25:00\n",
      "\n",
      "00:00:00\n",
      "Class Time: 00:00:00\n",
      "00:00:00\n",
      "\n",
      "03:09:19\n",
      "Class Time: 03:09:19\n",
      "03:09:19\n"
     ]
    }
   ],
   "source": [
    "class Time (object):\n",
    "    \n",
    "    def __init__( self, hour=0, mins=0, secs=0 ):\n",
    "        \n",
    "        \"\"\" Construct a Time using hour,mins and secs. \"\"\"\n",
    "            \n",
    "        self.__hour = hour\n",
    "        self.__mins   = mins\n",
    "        self.__secs  = secs\n",
    "        \n",
    "    def __repr__( self ):\n",
    "\n",
    "        \"\"\" Return a string as the formal representation of Time in the form Class Time: hh:mm:ss. \"\"\"\n",
    "\n",
    "        out_str = \"Class Time: {:02d}:{:02d}:{:02d}\" \\\n",
    "            .format( self.__hour, self.__mins, self.__secs )\n",
    "\n",
    "        return out_str\n",
    "    \n",
    "    def __str__( self ):\n",
    "\n",
    "        \"\"\" Return a string (hh:mm:ss) to represent a Time. \"\"\"\n",
    "\n",
    "        out_str = \"{:02d}:{:02d}:{:02d}\" \\\n",
    "            .format( self.__hour, self.__mins, self.__secs )\n",
    "\n",
    "        return out_str\n",
    "    def from_str(self,time_str):\n",
    "\n",
    "        \"\"\" \n",
    "        Update a time object by fetching hour ,mins and secs from\n",
    "        \n",
    "        string time_str which contains time in the form hh:mm:ss. \n",
    "        \n",
    "        \"\"\"\n",
    "\n",
    "        hour, mins, secs = [ int( n ) for n in time_str.split( ':' )]\n",
    "        \n",
    "        self.__hour = hour\n",
    "        self.__mins   = mins\n",
    "        self.__secs  = secs\n",
    "        \n",
    "\n",
    "A = Time( 12, 25, 30 )\n",
    "\n",
    "print( A )\n",
    "print( repr( A ) )\n",
    "print( str( A ) )\n",
    "print()\n",
    "\n",
    "B = Time( 2, 25, 3 )\n",
    "\n",
    "print( B )\n",
    "print( repr( B ) )\n",
    "print( str( B ) )\n",
    "print()\n",
    "\n",
    "C = Time( 2, 25 )\n",
    "\n",
    "print( C )\n",
    "print( repr( C ) )\n",
    "print( str( C ) )\n",
    "print()\n",
    "\n",
    "D = Time()\n",
    "\n",
    "print( D )\n",
    "print( repr( D ) )\n",
    "print( str( D ) )\n",
    "print()\n",
    "\n",
    "D.from_str( \"03:09:19\" )\n",
    "\n",
    "print( D )\n",
    "print( repr( D ) )\n",
    "print( str( D ) )\n"
   ]
  },
  {
   "cell_type": "markdown",
   "metadata": {},
   "source": [
    "# Test lab11b.py"
   ]
  },
  {
   "cell_type": "code",
   "execution_count": 39,
   "metadata": {},
   "outputs": [
    {
     "name": "stdout",
     "output_type": "stream",
     "text": [
      "12:25:30\n",
      "Class Time: 12:25:30\n",
      "12:25:30\n",
      "\n",
      "02:25:03\n",
      "Class Time: 02:25:03\n",
      "02:25:03\n",
      "\n",
      "02:25:00\n",
      "Class Time: 02:25:00\n",
      "02:25:00\n",
      "\n",
      "00:00:00\n",
      "Class Time: 00:00:00\n",
      "00:00:00\n",
      "\n",
      "03:09:19\n",
      "Class Time: 03:09:19\n",
      "03:09:19\n"
     ]
    }
   ],
   "source": [
    "import lab11b"
   ]
  },
  {
   "cell_type": "code",
   "execution_count": null,
   "metadata": {},
   "outputs": [],
   "source": []
  }
 ],
 "metadata": {
  "kernelspec": {
   "display_name": "Python 3",
   "language": "python",
   "name": "python3"
  },
  "language_info": {
   "codemirror_mode": {
    "name": "ipython",
    "version": 3
   },
   "file_extension": ".py",
   "mimetype": "text/x-python",
   "name": "python",
   "nbconvert_exporter": "python",
   "pygments_lexer": "ipython3",
   "version": "3.8.5"
  }
 },
 "nbformat": 4,
 "nbformat_minor": 4
}
