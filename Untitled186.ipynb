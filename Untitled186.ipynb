{
 "cells": [
  {
   "cell_type": "code",
   "execution_count": 1,
   "metadata": {},
   "outputs": [],
   "source": [
    "from bs4 import BeautifulSoup\n",
    "import requests"
   ]
  },
  {
   "cell_type": "code",
   "execution_count": 10,
   "metadata": {},
   "outputs": [],
   "source": [
    "# url = \"https://eresearch.fidelity.com/eresearch/goto/markets_sectors/landing.jhtml\"\n",
    "# url = 'https://www.metacritic.com/browse/movies/score/metascore/year/filtered?year_selected=2020&sort=desc&view=detailed'\n",
    "url = 'https://www.goodreads.com/book/show/52578297-the-midnight-library?from_choice=true'\n",
    "# s={'Accept': '*/*',\n",
    "#     'Accept-Language': 'en-US,en;q=0.5',\n",
    "#     'Host': 'metacritic.com',\n",
    "#     'Referer': \"https://www.metacritic.com/movie/small-axe-lovers-rock\",\n",
    "#     'User-Agent': 'Mozilla/5.0 (Windows NT 6.1; WOW64; rv:28.0) Gecko/20100101 Firefox/28.0',\n",
    "#     'X-Requested-With': 'XMLHttpRequest'\n",
    "#     }\n",
    "response = requests.get(url,s)\n",
    "\n",
    "# get the parsed html document\n",
    "soup = BeautifulSoup(response.text)\n",
    "elements = soup.find_all('td', href=True) \n",
    "\n",
    "# store sector name and link \n",
    "mylist = []"
   ]
  },
  {
   "cell_type": "code",
   "execution_count": 16,
   "metadata": {},
   "outputs": [
    {
     "data": {
      "text/plain": [
       "'\\n<?xml version=\"1.0\" encoding=\"utf-8\"?>\\n<!DOCTYPE html PUBLIC \"-//W3C//DTD XHTML 1.0 Strict//EN\"\\n \"http://www.w3.org/TR/xhtml1/DTD/xhtml1-strict.dtd\">\\n<html>\\n  <head>\\n    <title>403 Forbidden</title>\\n  </head>\\n  <body>\\n    <h1>Error 403 Forbidden</h1>\\n    <p>Forbidden</p>\\n    <h3>Guru Mediation:</h3>\\n    <p>Details: cache-mrs10522-MRS 1633901493 336062448</p>\\n    <hr>\\n    <p>Varnish cache server</p>\\n  </body>\\n</html>\\n'"
      ]
     },
     "execution_count": 16,
     "metadata": {},
     "output_type": "execute_result"
    }
   ],
   "source": [
    "response.text"
   ]
  },
  {
   "cell_type": "code",
   "execution_count": 1,
   "metadata": {},
   "outputs": [],
   "source": [
    "import pandas as pd"
   ]
  },
  {
   "cell_type": "code",
   "execution_count": 7,
   "metadata": {},
   "outputs": [],
   "source": [
    "df=pd.read_csv('HON.csv',delimiter=',',header=None)"
   ]
  },
  {
   "cell_type": "code",
   "execution_count": 9,
   "metadata": {},
   "outputs": [],
   "source": [
    "data = df.values"
   ]
  },
  {
   "cell_type": "code",
   "execution_count": 14,
   "metadata": {},
   "outputs": [
    {
     "name": "stdout",
     "output_type": "stream",
     "text": [
      "object\n"
     ]
    }
   ],
   "source": [
    "print(data[0].dtype)"
   ]
  },
  {
   "cell_type": "code",
   "execution_count": 11,
   "metadata": {},
   "outputs": [
    {
     "data": {
      "text/plain": [
       "numpy.ndarray"
      ]
     },
     "execution_count": 11,
     "metadata": {},
     "output_type": "execute_result"
    }
   ],
   "source": [
    "type(data)"
   ]
  },
  {
   "cell_type": "code",
   "execution_count": null,
   "metadata": {},
   "outputs": [],
   "source": []
  }
 ],
 "metadata": {
  "kernelspec": {
   "display_name": "Python 3",
   "language": "python",
   "name": "python3"
  },
  "language_info": {
   "codemirror_mode": {
    "name": "ipython",
    "version": 3
   },
   "file_extension": ".py",
   "mimetype": "text/x-python",
   "name": "python",
   "nbconvert_exporter": "python",
   "pygments_lexer": "ipython3",
   "version": "3.8.5"
  }
 },
 "nbformat": 4,
 "nbformat_minor": 4
}
