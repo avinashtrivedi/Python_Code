{
 "cells": [
  {
   "cell_type": "code",
   "execution_count": 1,
   "metadata": {},
   "outputs": [],
   "source": [
    "from bs4 import BeautifulSoup\n",
    "import urllib3\n",
    "import os\n",
    "\n",
    "def page_downloader(year,page_name):\n",
    "    try:\n",
    "        \n",
    "        year = str(year)\n",
    "        newpath = year #  new folder name\n",
    "        if not os.path.exists(newpath):\n",
    "            os.makedirs(newpath) # create new folder\n",
    "        http = urllib3.PoolManager()\n",
    "        s={'Accept': '*/*',\n",
    "                    'Accept-Language': 'en-US,en;q=0.5',\n",
    "                    'Host': 'liiofindia.org',\n",
    "                    'Referer': \"http://www.liiofindia.org/in/cases/cen/INSC/1950/7.html\",\n",
    "                    'User-Agent': 'Mozilla/5.0 (Windows NT 6.1; WOW64; rv:28.0) Gecko/20100101 Firefox/28.0',\n",
    "                    'X-Requested-With': 'XMLHttpRequest'\n",
    "                    }\n",
    "        url = 'http://www.liiofindia.org/in/cases/cen/INSC/' + year + '/' + page_name\n",
    "\n",
    "        response = http.request('GET', url,headers=s)\n",
    "        soup = BeautifulSoup(response.data)\n",
    "        data = str(soup)\n",
    "\n",
    "        page_loc = newpath + '/' + page_name\n",
    "        f = open(page_loc, 'w')\n",
    "        f.write(data)\n",
    "        f.close\n",
    "        print('File {} Downloaded.'.format(page_name))\n",
    "    except:\n",
    "        print('Error Downloading file {}'.format(page_name))"
   ]
  },
  {
   "cell_type": "code",
   "execution_count": 2,
   "metadata": {},
   "outputs": [],
   "source": [
    "from bs4 import BeautifulSoup\n",
    "import urllib3\n",
    "\n",
    "def url_generator(year):\n",
    "    year = str(year)\n",
    "    http = urllib3.PoolManager()\n",
    "    s={'Accept': '*/*',\n",
    "                'Accept-Language': 'en-US,en;q=0.5',\n",
    "                'Host': 'liiofindia.org',\n",
    "                'Referer': \"http://www.liiofindia.org/in/cases/cen/INSC/1950/7.html\",\n",
    "                'User-Agent': 'Mozilla/5.0 (Windows NT 6.1; WOW64; rv:28.0) Gecko/20100101 Firefox/28.0',\n",
    "                'X-Requested-With': 'XMLHttpRequest'\n",
    "                }\n",
    "    url = 'http://www.liiofindia.org/in/cases/cen/INSC/' + year\n",
    "    response = http.request('GET', url,headers=s)\n",
    "    soup = BeautifulSoup(response.data)\n",
    "    urls = []\n",
    "    for h in soup.findAll('li'):\n",
    "        a = h.find('a')\n",
    "        if 'href' in a.attrs:\n",
    "            url = a.get('href')\n",
    "            urls.append(url)\n",
    "    \n",
    "    urls = [link.split(year)[1][1:] for link in urls]\n",
    "    return urls"
   ]
  },
  {
   "cell_type": "code",
   "execution_count": 3,
   "metadata": {},
   "outputs": [
    {
     "name": "stdout",
     "output_type": "stream",
     "text": [
      "File 81.html Downloaded.\n"
     ]
    }
   ],
   "source": [
    "page_downloader(1957,'81.html')"
   ]
  },
  {
   "cell_type": "code",
   "execution_count": null,
   "metadata": {},
   "outputs": [],
   "source": []
  }
 ],
 "metadata": {
  "kernelspec": {
   "display_name": "Python 3",
   "language": "python",
   "name": "python3"
  },
  "language_info": {
   "codemirror_mode": {
    "name": "ipython",
    "version": 3
   },
   "file_extension": ".py",
   "mimetype": "text/x-python",
   "name": "python",
   "nbconvert_exporter": "python",
   "pygments_lexer": "ipython3",
   "version": "3.8.5"
  }
 },
 "nbformat": 4,
 "nbformat_minor": 4
}
