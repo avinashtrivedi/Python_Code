{
 "cells": [
  {
   "cell_type": "code",
   "execution_count": 1,
   "metadata": {},
   "outputs": [
    {
     "name": "stdout",
     "output_type": "stream",
     "text": [
      "Please enter the current season: summer\n",
      "summer\n",
      "on a scale of 1 to 10,how much word will you have this month?5\n",
      "5\n",
      "How much money will you able to spend this month? 1500\n",
      "1500\n",
      "Take a vacation in California\n"
     ]
    }
   ],
   "source": [
    "season = input('Please enter the current season: ')\n",
    "print(season)\n",
    "busy = int(input('on a scale of 1 to 10,how much word will you have this month?'))\n",
    "print(busy)\n",
    "money = int(input('How much money will you able to spend this month? '))\n",
    "print(money)\n",
    "\n",
    "if busy>=6:\n",
    "    print('You should focus on work this month!')\n",
    "else:\n",
    "    if money<1200:\n",
    "        print('you should save up more!')\n",
    "    elif money>=1200 and (season.lower()=='winter'):\n",
    "        print('Take a vacation in Hawaii')\n",
    "    elif money>=1200 and (season.lower()=='summer' or season.lower()=='spring'):\n",
    "        print('Take a vacation in California')\n",
    "    elif money>=1200 and (season.lower()=='fail'):\n",
    "        print('Take a vacation in Vermont')"
   ]
  },
  {
   "cell_type": "markdown",
   "metadata": {},
   "source": [
    "# Hand Trace\n",
    "- STEP# 1: Take the first input from user"
   ]
  },
  {
   "cell_type": "code",
   "execution_count": 2,
   "metadata": {},
   "outputs": [
    {
     "name": "stdout",
     "output_type": "stream",
     "text": [
      "Please enter the current season:summer\n",
      "summer\n"
     ]
    }
   ],
   "source": [
    "season = input('Please enter the current season:')\n",
    "\n",
    "# print the season\n",
    "print(season)"
   ]
  },
  {
   "cell_type": "markdown",
   "metadata": {},
   "source": [
    "- STEP# 2 : Take the 2nd input from user"
   ]
  },
  {
   "cell_type": "code",
   "execution_count": 3,
   "metadata": {},
   "outputs": [
    {
     "name": "stdout",
     "output_type": "stream",
     "text": [
      "on a scale of 1 to 10,how much word will you have this month? 5\n",
      "5\n"
     ]
    }
   ],
   "source": [
    "busy = int(input('on a scale of 1 to 10,how much word will you have this month? '))\n",
    "\n",
    "# print the value of busy\n",
    "print(busy)"
   ]
  },
  {
   "cell_type": "markdown",
   "metadata": {},
   "source": [
    "- STEP# 3: Take the 3rd input from user"
   ]
  },
  {
   "cell_type": "code",
   "execution_count": 4,
   "metadata": {},
   "outputs": [
    {
     "name": "stdout",
     "output_type": "stream",
     "text": [
      "How much money will you able to spend this month? 1500\n",
      "1500\n"
     ]
    }
   ],
   "source": [
    "money = int(input('How much money will you able to spend this month? '))\n",
    "\n",
    "# print the value of money\n",
    "print(money)"
   ]
  },
  {
   "cell_type": "markdown",
   "metadata": {},
   "source": [
    "- STEP# 4: Check the conditions."
   ]
  },
  {
   "cell_type": "code",
   "execution_count": 5,
   "metadata": {},
   "outputs": [
    {
     "data": {
      "text/plain": [
       "5"
      ]
     },
     "execution_count": 5,
     "metadata": {},
     "output_type": "execute_result"
    }
   ],
   "source": [
    "busy # value of busy"
   ]
  },
  {
   "cell_type": "code",
   "execution_count": 6,
   "metadata": {},
   "outputs": [
    {
     "data": {
      "text/plain": [
       "1500"
      ]
     },
     "execution_count": 6,
     "metadata": {},
     "output_type": "execute_result"
    }
   ],
   "source": [
    "money # Amount of money"
   ]
  },
  {
   "cell_type": "code",
   "execution_count": 7,
   "metadata": {},
   "outputs": [
    {
     "data": {
      "text/plain": [
       "'summer'"
      ]
     },
     "execution_count": 7,
     "metadata": {},
     "output_type": "execute_result"
    }
   ],
   "source": [
    "season # Name of season"
   ]
  },
  {
   "cell_type": "markdown",
   "metadata": {},
   "source": [
    "# Concept: 1"
   ]
  },
  {
   "cell_type": "code",
   "execution_count": 8,
   "metadata": {},
   "outputs": [
    {
     "name": "stdout",
     "output_type": "stream",
     "text": [
      "Else condition is True\n"
     ]
    }
   ],
   "source": [
    "# this condition is True only when busy is more than equal to 6\n",
    "# but we have the value of busy as 5\n",
    "# Hence this if-statement is false\n",
    "# and by default else will satisfy , because else-statement does not contains any condition.\n",
    "\n",
    "if busy>=6:\n",
    "    print('You should focus on work this month!')\n",
    "else:\n",
    "    print('Else condition is True')"
   ]
  },
  {
   "cell_type": "markdown",
   "metadata": {},
   "source": [
    "# Concept: 2"
   ]
  },
  {
   "cell_type": "code",
   "execution_count": 9,
   "metadata": {},
   "outputs": [
    {
     "name": "stdout",
     "output_type": "stream",
     "text": [
      "I am Here in elif\n"
     ]
    }
   ],
   "source": [
    "# this will not satisfy\n",
    "# program will check next condition\n",
    "if busy>=6:\n",
    "    print('You should focus on work this month!')\n",
    "    \n",
    "# yes, this condition is true\n",
    "# go inside and print.\n",
    "# and ignore all the next remaining conditions.\n",
    "elif busy==5:\n",
    "    print('I am Here in elif')\n",
    "elif busy==4:\n",
    "    print('I am 4')\n",
    "else:\n",
    "    print('Else condition is True')"
   ]
  },
  {
   "cell_type": "markdown",
   "metadata": {},
   "source": [
    "# Actual Code"
   ]
  },
  {
   "cell_type": "code",
   "execution_count": 10,
   "metadata": {},
   "outputs": [
    {
     "name": "stdout",
     "output_type": "stream",
     "text": [
      "Take a vacation in California\n"
     ]
    }
   ],
   "source": [
    "# this condition is True only when busy is more than equal to 6\n",
    "# but we have the value of busy as 5\n",
    "# Hence this if-statement is false\n",
    "# Now program will check else condition.\n",
    "if busy>=6:\n",
    "    print('You should focus on work this month!')\n",
    "    \n",
    "# Program will go inside the else-statement and check all conditions.\n",
    "else:\n",
    "    \n",
    "    # since the Amount of money entered by user is 1500\n",
    "    # hence this condition is not satisfied.\n",
    "    # now program will check elif condition\n",
    "    \n",
    "    if money<1200:\n",
    "        print('you should save up more!')\n",
    "        \n",
    "    # this condition will satisfy only when \n",
    "    # money>=1200 is True and season is winter\n",
    "    \n",
    "    # Here, money>=1200 is True since we have 1500,\n",
    "    # but season is 'summer'\n",
    "    # hence this condition will not satisfy\n",
    "    # now program will check Next elif conditions.\n",
    "    \n",
    "    elif money>=1200 and (season.lower()=='winter'):\n",
    "        print('Take a vacation in Hawaii')\n",
    "        \n",
    "    # this condition is satisfied only when money is more than equal to 1200\n",
    "    # and season is either summer or spring\n",
    "    \n",
    "    # money>=1200 is True as we have 1500.\n",
    "    # (season.lower()=='summer' or season.lower()=='spring') is also True \n",
    "    # as we have season as summer\n",
    "    # hence go inside the elif condition and print output.\n",
    "    \n",
    "    # once any elif condition is satisfiled,program will not check the next elif.\n",
    "    elif money>=1200 and (season.lower()=='summer' or season.lower()=='spring'):\n",
    "        print('Take a vacation in California')\n",
    "        \n",
    "    # it will be ignored here for the given input.\n",
    "    elif money>=1200 and (season.lower()=='fail'):\n",
    "        print('Take a vacation in Vermont')"
   ]
  },
  {
   "cell_type": "code",
   "execution_count": 11,
   "metadata": {},
   "outputs": [],
   "source": [
    "a=['hello','Hello','hghg','fjjf']"
   ]
  },
  {
   "cell_type": "code",
   "execution_count": 12,
   "metadata": {},
   "outputs": [
    {
     "data": {
      "text/plain": [
       "['hello', 'Hello', 'hghg', 'fjjf']"
      ]
     },
     "execution_count": 12,
     "metadata": {},
     "output_type": "execute_result"
    }
   ],
   "source": [
    "a"
   ]
  },
  {
   "cell_type": "code",
   "execution_count": 15,
   "metadata": {},
   "outputs": [
    {
     "data": {
      "text/plain": [
       "1"
      ]
     },
     "execution_count": 15,
     "metadata": {},
     "output_type": "execute_result"
    }
   ],
   "source": [
    "a.count(a[0])"
   ]
  },
  {
   "cell_type": "code",
   "execution_count": 14,
   "metadata": {},
   "outputs": [
    {
     "data": {
      "text/plain": [
       "'hello'"
      ]
     },
     "execution_count": 14,
     "metadata": {},
     "output_type": "execute_result"
    }
   ],
   "source": [
    "a[0]"
   ]
  },
  {
   "cell_type": "code",
   "execution_count": null,
   "metadata": {},
   "outputs": [],
   "source": [
    "a.count('')"
   ]
  }
 ],
 "metadata": {
  "kernelspec": {
   "display_name": "Python 3",
   "language": "python",
   "name": "python3"
  },
  "language_info": {
   "codemirror_mode": {
    "name": "ipython",
    "version": 3
   },
   "file_extension": ".py",
   "mimetype": "text/x-python",
   "name": "python",
   "nbconvert_exporter": "python",
   "pygments_lexer": "ipython3",
   "version": "3.8.5"
  }
 },
 "nbformat": 4,
 "nbformat_minor": 4
}
